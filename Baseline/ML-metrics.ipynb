{
 "cells": [
  {
   "cell_type": "markdown",
   "metadata": {},
   "source": [
    "https://scikit-learn.org/stable/modules/model_evaluation.html"
   ]
  },
  {
   "cell_type": "code",
   "execution_count": 1,
   "metadata": {},
   "outputs": [],
   "source": [
    "import numpy as np\n",
    "import pandas as pd\n",
    "\n",
    "import matplotlib.pyplot as plt\n",
    "import matplotlib.ticker as ticker\n",
    "%matplotlib inline"
   ]
  },
  {
   "cell_type": "markdown",
   "metadata": {},
   "source": [
    "## Classfication(분류)\n",
    "* Accuracy(정확도) \n",
    "* Confusion matrix(혼동 행렬)\n",
    "* Precision(정밀도)\n",
    "* Recall(재현율)"
   ]
  },
  {
   "cell_type": "code",
   "execution_count": null,
   "metadata": {},
   "outputs": [],
   "source": []
  },
  {
   "cell_type": "markdown",
   "metadata": {},
   "source": [
    "### Accuracy(정확도) \n",
    "* <img src=\"https://latex.codecogs.com/gif.latex?%5Cfrac%7B%5Csum%28%5Chat%7By%7D%20%3D%20y%29%7D%7Bn%7D\">"
   ]
  },
  {
   "cell_type": "code",
   "execution_count": 2,
   "metadata": {},
   "outputs": [],
   "source": [
    "y_true = [0,1,2,3,4,5,6,7,0,0]\n",
    "pred  = [0,1,2,3,4,5,6,7,8,9]"
   ]
  },
  {
   "cell_type": "code",
   "execution_count": 3,
   "metadata": {},
   "outputs": [
    {
     "data": {
      "text/plain": [
       "0.8"
      ]
     },
     "execution_count": 3,
     "metadata": {},
     "output_type": "execute_result"
    }
   ],
   "source": [
    "from sklearn.metrics import accuracy_score\n",
    "accuracy_score(y_true, pred)"
   ]
  },
  {
   "cell_type": "markdown",
   "metadata": {},
   "source": [
    "### Confusion matrix(혼동 행렬)\n",
    "* 예측을 수행하면서 얼마나 confused 될 수 있는가  \n",
    "\n",
    "\n",
    "예측 ↓  \n",
    "실제 → \n",
    "\n",
    "|TN|FP|  \n",
    "|FN|TP|\n",
    "\n",
    "* 정확도 = <img src=\"https://latex.codecogs.com/gif.latex?%5Cfrac%7B%28TN&plus;TP%29%7D%7BTN&plus;FP&plus;FN&plus;TP%7D\">  \n",
    "  * 불균형 데이터에서 정확도만으론 모델 신뢰성이 떨어짐  \n",
    "    * Positive 예측 성능에 더 초점 => 정밀도/재현율  "
   ]
  },
  {
   "cell_type": "code",
   "execution_count": 4,
   "metadata": {},
   "outputs": [],
   "source": [
    "y_true = [0,1,2  ,1,2  ,2  ,2,2]\n",
    "pred  = [0,1,2  ,1,2  ,2  ,0,0]"
   ]
  },
  {
   "cell_type": "code",
   "execution_count": 5,
   "metadata": {
    "scrolled": true
   },
   "outputs": [
    {
     "data": {
      "text/plain": [
       "array([[1, 0, 0],\n",
       "       [0, 2, 0],\n",
       "       [2, 0, 3]], dtype=int64)"
      ]
     },
     "execution_count": 5,
     "metadata": {},
     "output_type": "execute_result"
    }
   ],
   "source": [
    "from sklearn.metrics import confusion_matrix\n",
    "confusion_matrix(y_true, pred)"
   ]
  },
  {
   "cell_type": "markdown",
   "metadata": {},
   "source": [
    "| 실제 0 예측 0 | 실제 0 예측 1 | 실제 0 예측 2 |  \n",
    "| 실제 1 예측 0 | 실제 1 예측 1 | 실제 1 예측 2 |  \n",
    "| 실제 2 예측 0 | 실제 2 예측 1 | 실제 2 예측 2 |  "
   ]
  },
  {
   "cell_type": "code",
   "execution_count": 6,
   "metadata": {},
   "outputs": [],
   "source": [
    "# Binary\n",
    "y_true = [0,1,1,1,1,1,1,1]\n",
    "pred  = [0,1,1,1,1,1,0,0]"
   ]
  },
  {
   "cell_type": "markdown",
   "metadata": {},
   "source": [
    "### <span style=\"color:red\">P</span>recision(정밀도)\n",
    "* 예측 Positive 대상 중 예측/실제 Positive = 양성 예측도(Positive 예측 성능 정밀하게 측정)  \n",
    "  * 실제 Negative를 Positive로 판단하면 안 되는 경우(예측을 Positive로 하면 안되는 경우)    \n",
    "    * 업무 메일을 스팸 양성 메일로 판단하면 안됨  \n",
    "* <img src=\"https://latex.codecogs.com/gif.latex?%5Cfrac%7BTP%7D%7B%28FP&plus;TP%29%7D\">  \n",
    "|TN|**F<span style=\"color:red\">P</span>**|  \n",
    "|FN|**T<span style=\"color:red\">P</span>**|"
   ]
  },
  {
   "cell_type": "code",
   "execution_count": 7,
   "metadata": {},
   "outputs": [
    {
     "data": {
      "text/plain": [
       "1.0"
      ]
     },
     "execution_count": 7,
     "metadata": {},
     "output_type": "execute_result"
    }
   ],
   "source": [
    "from sklearn.metrics import precision_score\n",
    "precision_score(y_true, pred)"
   ]
  },
  {
   "cell_type": "markdown",
   "metadata": {},
   "source": [
    "### Recall(재현율)\n",
    "* 실제 Positive 대상 중 예측/실제 Positive = 민감도(Sensitive) = TPR(True Positive Rate)  \n",
    "  * 실제 Positive를 Negative로 판단하면 안 되는 경우  \n",
    "    * 암이 양성인데 음성으로 판단하면 안됨  \n",
    "    * 보험 사기 양성건을 음성으로 판단하면 회사가 손해를 봄  \n",
    "* <img src=\"https://latex.codecogs.com/gif.latex?%5Cfrac%7BTP%7D%7B%28FN&plus;TP%29%7D\">  \n",
    "|TN|FP|  \n",
    "|**FN|TP**|"
   ]
  },
  {
   "cell_type": "code",
   "execution_count": 8,
   "metadata": {},
   "outputs": [
    {
     "data": {
      "text/plain": [
       "0.7142857142857143"
      ]
     },
     "execution_count": 8,
     "metadata": {},
     "output_type": "execute_result"
    }
   ],
   "source": [
    "from sklearn.metrics import recall_score\n",
    "recall_score(y_true, pred)"
   ]
  },
  {
   "cell_type": "markdown",
   "metadata": {},
   "source": [
    "### => 정밀도 재현율 둘 다 높아야 좋은 지표(trade-off 관계: 하나 올리면 하나 떨어짐)  \n",
    "* 결정 임계값(Threshold) 조정  \n",
    "  * predict_proba()\n",
    "```python\n",
    "from sklearn.preprocessing import Binarizer\n",
    "b = Binarizer(threshold=0.5)\n",
    "b.fit_transform(pred_proba)\n",
    "```  \n",
    "\n",
    "* 시각화 precision_recall_curve(y_true, pred_proba)"
   ]
  },
  {
   "cell_type": "markdown",
   "metadata": {},
   "source": [
    "### F1_score = 정밀도 + 재현율  \n",
    "* 정밀도 + 재현율이 어느쪽으로 치우치지 않을때 높아짐  \n",
    "* <img src=\"https://latex.codecogs.com/gif.latex?F1%20%3D%20%5Cfrac%7B2%7D%7B%5Cfrac%7B1%7D%7Brecall%7D&plus;%5Cfrac%7B1%7D%7Bprecision%7D%7D%20%3D%202*%5Cfrac%7Bprecision*recall%7D%7Bprecision&plus;recall%7D\">"
   ]
  },
  {
   "cell_type": "code",
   "execution_count": 9,
   "metadata": {},
   "outputs": [
    {
     "data": {
      "text/plain": [
       "0.8333333333333333"
      ]
     },
     "execution_count": 9,
     "metadata": {},
     "output_type": "execute_result"
    }
   ],
   "source": [
    "from sklearn.metrics import f1_score\n",
    "f1_score(y_true, pred)"
   ]
  },
  {
   "cell_type": "markdown",
   "metadata": {},
   "source": [
    "### Roc_curve, Roc_auc_score\n",
    "* [X]FPR(False Positive Rate)가 변할 때, [Y]TPR(True Positive Rate)가 변하는 곡선  \n",
    "  * FPR: 재현율/민감도\n",
    "  * TPR: 1 - TNR(특이도: True Negative Rate)"
   ]
  },
  {
   "cell_type": "code",
   "execution_count": 10,
   "metadata": {},
   "outputs": [],
   "source": [
    "from sklearn.metrics import roc_curve, roc_auc_score"
   ]
  },
  {
   "cell_type": "code",
   "execution_count": null,
   "metadata": {},
   "outputs": [],
   "source": []
  },
  {
   "cell_type": "markdown",
   "metadata": {},
   "source": [
    "## Regression(회귀)\n",
    "* MAE(Mean Absolute Error)\n",
    "* MSE(Mean Sqared Error)\n",
    "    * MSLE(MS Log Error)\n",
    "* RMSE(Root MSE)\n",
    "    * RMSLE(RMS Log Error) 로그 RMSE\n",
    "* R^2"
   ]
  },
  {
   "cell_type": "markdown",
   "metadata": {},
   "source": [
    "### MAE(Mean Absolute Error): 차이 절댓값 평균"
   ]
  },
  {
   "cell_type": "code",
   "execution_count": 11,
   "metadata": {},
   "outputs": [],
   "source": [
    "from sklearn.metrics import mean_absolute_error"
   ]
  },
  {
   "cell_type": "markdown",
   "metadata": {},
   "source": [
    "### MSE(Mean Sqared Error): 차이 제곱 평균\n",
    "### MSLE(MS Log Error): 로그 MSE"
   ]
  },
  {
   "cell_type": "code",
   "execution_count": 12,
   "metadata": {},
   "outputs": [],
   "source": [
    "from sklearn.metrics import mean_squared_error\n",
    "\n",
    "def mse(y,pred):\n",
    "    return mean_squared_error(y,pred)\n",
    "\n"
   ]
  },
  {
   "cell_type": "markdown",
   "metadata": {},
   "source": [
    "### RMSE(Root MSE): 루트 MSE\n",
    "### RMSLE(RMS Log Error) 로그 RMSE"
   ]
  },
  {
   "cell_type": "code",
   "execution_count": 13,
   "metadata": {},
   "outputs": [],
   "source": [
    "def rmse(y,pred):\n",
    "    return np.sqrt(mean_squared_error(y,pred))\n",
    "\n",
    "def rmsle(y, pred):\n",
    "    log_y = np.log1p(y)\n",
    "    log_pred = np.log1p(pred)\n",
    "    squared_error = (log_y - log_pred) ** 2\n",
    "    rmsle = np.sqrt(np.mean(squared_error))\n",
    "    return rmsle"
   ]
  },
  {
   "cell_type": "markdown",
   "metadata": {},
   "source": [
    "### <img src=\"https://latex.codecogs.com/gif.latex?R%5E2\">\n",
    "* 분산 기반, 실제값고 분산 대비 예측 값의 분산비율, 1에 가까울수록 정확"
   ]
  },
  {
   "cell_type": "code",
   "execution_count": 14,
   "metadata": {},
   "outputs": [],
   "source": [
    "from sklearn.metrics import r2_score"
   ]
  },
  {
   "cell_type": "code",
   "execution_count": null,
   "metadata": {},
   "outputs": [],
   "source": []
  }
 ],
 "metadata": {
  "kernelspec": {
   "display_name": "Python 3",
   "language": "python",
   "name": "python3"
  },
  "language_info": {
   "codemirror_mode": {
    "name": "ipython",
    "version": 3
   },
   "file_extension": ".py",
   "mimetype": "text/x-python",
   "name": "python",
   "nbconvert_exporter": "python",
   "pygments_lexer": "ipython3",
   "version": "3.7.6"
  }
 },
 "nbformat": 4,
 "nbformat_minor": 4
}
