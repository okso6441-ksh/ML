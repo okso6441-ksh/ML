{
 "cells": [
  {
   "cell_type": "code",
   "execution_count": 1,
   "metadata": {},
   "outputs": [],
   "source": [
    "import numpy as np"
   ]
  },
  {
   "cell_type": "code",
   "execution_count": null,
   "metadata": {},
   "outputs": [],
   "source": []
  },
  {
   "cell_type": "code",
   "execution_count": 2,
   "metadata": {},
   "outputs": [],
   "source": [
    "from IPython.core.interactiveshell import InteractiveShell\n",
    "InteractiveShell.ast_node_interactivity = \"all\""
   ]
  },
  {
   "cell_type": "code",
   "execution_count": null,
   "metadata": {},
   "outputs": [],
   "source": []
  },
  {
   "cell_type": "markdown",
   "metadata": {},
   "source": [
    "### type vs dtype\n",
    "* type: ndarray의 타입\n",
    "* dtype: ndarray의 내부 데이터 타입 \n",
    "\n",
    "**변경: ndarray.astype('타입')**"
   ]
  },
  {
   "cell_type": "code",
   "execution_count": 3,
   "metadata": {},
   "outputs": [
    {
     "name": "stdout",
     "output_type": "stream",
     "text": [
      "<class 'numpy.ndarray'>\n",
      "int32\n"
     ]
    }
   ],
   "source": [
    "array1 = np.array([1,2,3])\n",
    "\n",
    "print(type(array1))\n",
    "print(array1.dtype)"
   ]
  },
  {
   "cell_type": "markdown",
   "metadata": {},
   "source": [
    "### arnage vs zeros vs ones\n",
    "* arange: 0~-1까지 ndarray 순차 반환\n",
    "\n",
    "### reshape\n",
    "* -1 인자로 resize ex) (-1. x)"
   ]
  },
  {
   "cell_type": "code",
   "execution_count": 4,
   "metadata": {},
   "outputs": [
    {
     "name": "stdout",
     "output_type": "stream",
     "text": [
      "[0 1 2 3 4 5 6 7 8 9]\n",
      "\n",
      " [[0 0]\n",
      " [0 0]\n",
      " [0 0]]\n",
      "\n",
      " [[1 1]\n",
      " [1 1]\n",
      " [1 1]]\n"
     ]
    }
   ],
   "source": [
    "arange_array = np.arange(10)\n",
    "print(arange_array)\n",
    "\n",
    "zero_array = np.zeros((3,2),dtype='int32') # default: float64\n",
    "print('\\n',zero_array)\n",
    "\n",
    "one_array = np.ones((3,2),dtype='int32') # default: float64\n",
    "print('\\n',one_array)"
   ]
  },
  {
   "cell_type": "markdown",
   "metadata": {},
   "source": [
    "### indexing\n",
    "* 슬라이싱: [:2, 0]\n",
    "* 팬시: 지정 위치 인덱스 해당하는 ndarray 반환 \n",
    "* 불린"
   ]
  },
  {
   "cell_type": "code",
   "execution_count": 5,
   "metadata": {},
   "outputs": [
    {
     "name": "stdout",
     "output_type": "stream",
     "text": [
      "[[1 2 3]\n",
      " [4 5 6]\n",
      " [7 8 9]]\n",
      "\n",
      "슬라이싱\n",
      " [1 4]\n",
      "\n",
      "팬시\n",
      " [7 9]\n",
      "\n",
      "불린 index\n",
      " [[False False False]\n",
      " [False False  True]\n",
      " [ True  True  True]]\n",
      "불린\n",
      " [6 7 8 9]\n"
     ]
    }
   ],
   "source": [
    "array1 = np.arange(start=1, stop=10)\n",
    "array1 = array1.reshape(3,3)\n",
    "print(array1)\n",
    "print('\\n슬라이싱\\n',array1[:2, 0])\n",
    "print('\\n팬시\\n',array1[2, [0,2]])\n",
    "print('\\n불린 index\\n',array1 > 5)\n",
    "print('불린\\n',array1[array1 > 5])"
   ]
  },
  {
   "cell_type": "code",
   "execution_count": null,
   "metadata": {},
   "outputs": [],
   "source": []
  },
  {
   "cell_type": "markdown",
   "metadata": {},
   "source": [
    "### Extended Slices ::\n",
    "* arr[A:B:C] = index A 부터 index B 까지 C의 간격으로 배열\n",
    "* arr[None:None:None] = 처음부터 끝까지 한칸 간격"
   ]
  },
  {
   "cell_type": "code",
   "execution_count": 6,
   "metadata": {},
   "outputs": [
    {
     "name": "stdout",
     "output_type": "stream",
     "text": [
      "arr range(0, 10)\n",
      "arr[::2] range(0, 10, 2)\n",
      "arr[1::2] range(1, 10, 2)\n",
      "arr[::-1]  range(9, -1, -1)\n"
     ]
    }
   ],
   "source": [
    "arr = range(10)\n",
    "print('arr',arr)\n",
    "print('arr[::2]',arr[::2])\n",
    "print('arr[1::2]',arr[1::2])\n",
    "print('arr[::-1] ',arr[::-1])"
   ]
  },
  {
   "cell_type": "code",
   "execution_count": null,
   "metadata": {},
   "outputs": [],
   "source": []
  },
  {
   "cell_type": "markdown",
   "metadata": {},
   "source": [
    "### 정렬 sort() vs argsort()\n",
    "* sort() \n",
    "  넘파이 sort() 호출               - sort(ndarray)  : 원 행렬 유지, return 정렬 행렬\n",
    "  행렬 자체에서 sort 호출하는 방식 - ndarray.sort() : 원 행렬 정렬, return None\n",
    "* argsort() : 인덱스 반환\n",
    "\n",
    "* 내림차순 [::-1]"
   ]
  },
  {
   "cell_type": "code",
   "execution_count": 7,
   "metadata": {},
   "outputs": [
    {
     "name": "stdout",
     "output_type": "stream",
     "text": [
      "np.sort( ) 호출 후 반환된 정렬 행렬: [1 3 5 9]\n",
      "np.sort( ) 호출 후 원본 행렬: [3 1 9 5]\n",
      "\n",
      "org_array.sort( ) 호출 후 반환된 행렬: None\n",
      "org_array.sort( ) 호출 후 원본 행렬: [1 3 5 9]\n"
     ]
    }
   ],
   "source": [
    "org_array = np.array([ 3, 1, 9, 5]) \n",
    "\n",
    "sort_array1 = np.sort(org_array)         \n",
    "print ('np.sort( ) 호출 후 반환된 정렬 행렬:', sort_array1) \n",
    "print('np.sort( ) 호출 후 원본 행렬:', org_array)\n",
    "\n",
    "# ndarray.sort( )로 정렬\n",
    "sort_array2 = org_array.sort()\n",
    "org_array.sort()\n",
    "print('\\norg_array.sort( ) 호출 후 반환된 행렬:', sort_array2)\n",
    "print('org_array.sort( ) 호출 후 원본 행렬:', org_array)"
   ]
  },
  {
   "cell_type": "markdown",
   "metadata": {},
   "source": [
    "### 내적 - np.dot(A, B) @ \n",
    "$ <A, B>  = A \\cdot B = A^TB $\n",
    "### 외적 - np.cross(A, B) - 벡터곱\n",
    "\n",
    "### 전치 - np.transpose(A)"
   ]
  },
  {
   "cell_type": "code",
   "execution_count": 8,
   "metadata": {},
   "outputs": [
    {
     "name": "stdout",
     "output_type": "stream",
     "text": [
      "0 0 [0 0 6]\n"
     ]
    }
   ],
   "source": [
    "v1 = np.array([3,0,0])\n",
    "v2 = np.array([0,2,0])\n",
    "\n",
    "print(np.dot(v1, v2), v1.T @ v2, np.cross(v1, v2))"
   ]
  },
  {
   "cell_type": "markdown",
   "metadata": {},
   "source": [
    "### 직교(orthogonal)\n",
    "$ a \\perp b \\leftrightarrow a^Tb = b^Ta = 0; cos90^\\circ = 0$"
   ]
  },
  {
   "cell_type": "code",
   "execution_count": 9,
   "metadata": {},
   "outputs": [
    {
     "data": {
      "text/plain": [
       "0"
      ]
     },
     "execution_count": 9,
     "metadata": {},
     "output_type": "execute_result"
    }
   ],
   "source": [
    "a = np.array([1, 1])\n",
    "b = np.array([-1,1])\n",
    "a @ b"
   ]
  },
  {
   "cell_type": "markdown",
   "metadata": {},
   "source": [
    "### np.random.randint vs rand/randn\n",
    "* np.random.seed(0): seed를 통한 난수 생성\n",
    "* np.random.randint: 균일 분포의 정수 난수 1개 생성\n",
    "* np.random.rand: 0~1 균일 분포에서 난수 matrix array\n",
    "* np.random.randn: 가우시안 표준 정규 분포에서 난수 matrix array"
   ]
  },
  {
   "cell_type": "code",
   "execution_count": 10,
   "metadata": {},
   "outputs": [
    {
     "name": "stdout",
     "output_type": "stream",
     "text": [
      "seed None\n",
      "randint 6\n",
      "rand\n",
      " [[0.79654299]\n",
      " [0.18343479]]\n",
      "randn [[0.47386083 1.36845012]]\n"
     ]
    }
   ],
   "source": [
    "np.random.seed(121)\n",
    "print('seed',np.random.seed(42))\n",
    "print('randint',np.random.randint(12))\n",
    "print('rand\\n',np.random.rand(2,1))\n",
    "print('randn',np.random.randn(1,2))"
   ]
  },
  {
   "cell_type": "markdown",
   "metadata": {},
   "source": [
    "## 행렬"
   ]
  },
  {
   "cell_type": "markdown",
   "metadata": {},
   "source": [
    "### 대각 diag / 항등 eye  \n",
    "* 대각합 trace: 정방행렬 "
   ]
  },
  {
   "cell_type": "code",
   "execution_count": 11,
   "metadata": {},
   "outputs": [
    {
     "data": {
      "text/plain": [
       "array([[1, 0, 0],\n",
       "       [0, 2, 0],\n",
       "       [0, 0, 3]])"
      ]
     },
     "execution_count": 11,
     "metadata": {},
     "output_type": "execute_result"
    },
    {
     "data": {
      "text/plain": [
       "6"
      ]
     },
     "execution_count": 11,
     "metadata": {},
     "output_type": "execute_result"
    },
    {
     "data": {
      "text/plain": [
       "array([[1., 0., 0.],\n",
       "       [0., 1., 0.],\n",
       "       [0., 0., 1.]])"
      ]
     },
     "execution_count": 11,
     "metadata": {},
     "output_type": "execute_result"
    }
   ],
   "source": [
    "# 대각행렬\n",
    "np.diag([1,2,3]) # 정방 아니여도됨 \n",
    "np.trace(np.diag([1,2,3])) # 대각 합 \n",
    "\n",
    "# 항등행렬\n",
    "np.eye(3) # np.identify(3)\n",
    "\n",
    "# 대칭행렬: 전치행렬 = 원행렬 "
   ]
  },
  {
   "cell_type": "markdown",
   "metadata": {},
   "source": [
    "### 행렬 길이 norm > 0\n",
    "$||A||_p$  \n",
    "일반적 p=2(생략가능), 프로베니우스 놈(Frobenius norm) $||A||_F$"
   ]
  },
  {
   "cell_type": "code",
   "execution_count": 12,
   "metadata": {},
   "outputs": [
    {
     "data": {
      "text/plain": [
       "16.881943016134134"
      ]
     },
     "execution_count": 12,
     "metadata": {},
     "output_type": "execute_result"
    }
   ],
   "source": [
    "np.linalg.norm(array1)"
   ]
  },
  {
   "cell_type": "markdown",
   "metadata": {},
   "source": [
    "### 행렬식 determinant  \n",
    "* det(A), detA, |A|  \n",
    "\n",
    "### 역행렬"
   ]
  },
  {
   "cell_type": "code",
   "execution_count": 13,
   "metadata": {},
   "outputs": [
    {
     "data": {
      "text/plain": [
       "0.04068553885710522"
      ]
     },
     "execution_count": 13,
     "metadata": {},
     "output_type": "execute_result"
    },
    {
     "data": {
      "text/plain": [
       "array([[  54.36918822,  126.58460241,  111.19114437],\n",
       "       [ -12.27582345,  -27.29049355,  -23.35011686],\n",
       "       [-150.92727027, -337.41874419, -299.20097733]])"
      ]
     },
     "execution_count": 13,
     "metadata": {},
     "output_type": "execute_result"
    }
   ],
   "source": [
    "np.linalg.det(np.random.randn(3,3))\n",
    "\n",
    "np.linalg.inv(np.random.randn(3,3))"
   ]
  },
  {
   "cell_type": "markdown",
   "metadata": {},
   "source": [
    "### 최소자승문제(least square problem)\n",
    "* x 답, resid, 잔차제곱합, rank, s 특이값   "
   ]
  },
  {
   "cell_type": "code",
   "execution_count": 14,
   "metadata": {},
   "outputs": [
    {
     "name": "stderr",
     "output_type": "stream",
     "text": [
      "C:\\Users\\okso6\\anaconda3\\lib\\site-packages\\ipykernel_launcher.py:1: FutureWarning: `rcond` parameter will change to the default of machine precision times ``max(M, N)`` where M and N are the input matrix dimensions.\n",
      "To use the future default and silence this warning we advise to pass `rcond=None`, to keep using the old, explicitly pass `rcond=-1`.\n",
      "  \"\"\"Entry point for launching an IPython kernel.\n"
     ]
    },
    {
     "data": {
      "text/plain": [
       "(array([-0.34883395, -6.48341442, -5.4567676 ]),\n",
       " array([], dtype=float64),\n",
       " 3,\n",
       " array([3.14696605, 1.6615599 , 0.12855044]))"
      ]
     },
     "execution_count": 14,
     "metadata": {},
     "output_type": "execute_result"
    }
   ],
   "source": [
    "x, resid, rank, s = np.linalg.lstsq(np.random.randn(3,3), np.random.randn(3))\n",
    "x, resid, rank, s"
   ]
  },
  {
   "cell_type": "markdown",
   "metadata": {},
   "source": [
    "### rank\n",
    "* 행/열 벡터 rank 보다 커질 수 X"
   ]
  },
  {
   "cell_type": "code",
   "execution_count": 15,
   "metadata": {},
   "outputs": [
    {
     "data": {
      "text/plain": [
       "2"
      ]
     },
     "execution_count": 15,
     "metadata": {},
     "output_type": "execute_result"
    },
    {
     "data": {
      "text/plain": [
       "2"
      ]
     },
     "execution_count": 15,
     "metadata": {},
     "output_type": "execute_result"
    }
   ],
   "source": [
    "X1 = np.array([[1,3],[2,4]])\n",
    "np.linalg.matrix_rank(X1)\n",
    "X1 = np.array([[1,3,5],[2,4,6]])\n",
    "np.linalg.matrix_rank(X1)"
   ]
  },
  {
   "cell_type": "markdown",
   "metadata": {},
   "source": [
    "### 고윳값 분해 \n",
    "$ Au = \\lambda v $  \n",
    "$ \\lambda $: eigenvalue 고윳값"
   ]
  },
  {
   "cell_type": "code",
   "execution_count": 16,
   "metadata": {},
   "outputs": [
    {
     "data": {
      "text/plain": [
       "(array([-0.37228132,  5.37228132]),\n",
       " array([[-0.90937671, -0.56576746],\n",
       "        [ 0.41597356, -0.82456484]]))"
      ]
     },
     "execution_count": 16,
     "metadata": {},
     "output_type": "execute_result"
    }
   ],
   "source": [
    "X1 = np.array([[1,3],[2,4]])\n",
    "w1, w2 = np.linalg.eig(X1)\n",
    "w1, w2"
   ]
  },
  {
   "cell_type": "markdown",
   "metadata": {},
   "source": [
    "### SVD(특이값분해)\n",
    "* $M = U \\sum V^*$  \n",
    "  * U: (m x m)  \n",
    "  * $\\sum$: (m x n) 대각행렬\n",
    "  * $V^*$: (n x n)"
   ]
  },
  {
   "cell_type": "code",
   "execution_count": 17,
   "metadata": {},
   "outputs": [
    {
     "name": "stdout",
     "output_type": "stream",
     "text": [
      "(4, 4) (4,) (4, 4)\n",
      "\n",
      "U matrix = 원본행렬 :\n",
      " [[-0.01  -0.541 -0.813  0.212]\n",
      " [-0.245  0.458 -0.485 -0.703]\n",
      " [-0.914 -0.335  0.221 -0.052]\n",
      " [-0.322  0.62  -0.232  0.676]]\n",
      "\n",
      "Sigma Value = Sigma 행렬:\n",
      " [3.343 2.096 1.196 0.352]\n",
      "\n",
      "V transpose matrix = 전치행렬:\n",
      " [[ 0.24  -0.57  -0.309 -0.722]\n",
      " [ 0.541  0.649  0.283 -0.454]\n",
      " [ 0.79  -0.346  0.086  0.499]\n",
      " [ 0.162  0.365 -0.904  0.153]]\n"
     ]
    }
   ],
   "source": [
    "a = np.random.randn(4,4)\n",
    "\n",
    "U, Sigma, Vt = np.linalg.svd(a)\n",
    "print(U.shape, Sigma.shape, Vt.shape)\n",
    "print('\\nU matrix = 원본행렬 :\\n',np.round(U, 3))\n",
    "print('\\nSigma Value = Sigma 행렬:\\n',np.round(Sigma, 3))\n",
    "print('\\nV transpose matrix = 전치행렬:\\n',np.round(Vt, 3))"
   ]
  },
  {
   "cell_type": "markdown",
   "metadata": {},
   "source": [
    "**분해된 행렬들을 이용하여 다시 원행렬로 원복**"
   ]
  },
  {
   "cell_type": "code",
   "execution_count": 18,
   "metadata": {},
   "outputs": [
    {
     "name": "stdout",
     "output_type": "stream",
     "text": [
      "[[-1.378 -0.353 -0.461  0.067]\n",
      " [-0.176  1.201  0.698 -0.172]\n",
      " [-0.907  1.189  0.786  2.656]\n",
      " [ 0.263  1.642  0.461  0.086]]\n"
     ]
    }
   ],
   "source": [
    "# Sima를 다시 0 을 포함한 대칭행렬로 변환\n",
    "Sigma_mat = np.diag(Sigma) \n",
    "a_ = np.dot(np.dot(U, Sigma_mat), Vt)\n",
    "print(np.round(a_, 3))"
   ]
  },
  {
   "cell_type": "markdown",
   "metadata": {},
   "source": [
    "**데이터 의존도가 높은 원본 데이터 행렬 생성**"
   ]
  },
  {
   "cell_type": "code",
   "execution_count": 19,
   "metadata": {},
   "outputs": [
    {
     "name": "stdout",
     "output_type": "stream",
     "text": [
      "[[-1.378 -0.353 -0.461  0.067]\n",
      " [-0.176  1.201  0.698 -0.172]\n",
      " [-1.554  0.848  0.237 -0.105]\n",
      " [-1.378 -0.353 -0.461  0.067]]\n"
     ]
    }
   ],
   "source": [
    "a[2] = a[0] + a[1]\n",
    "a[3] = a[0]\n",
    "print(np.round(a,3))"
   ]
  },
  {
   "cell_type": "code",
   "execution_count": 20,
   "metadata": {},
   "outputs": [
    {
     "name": "stdout",
     "output_type": "stream",
     "text": [
      "(4, 4) (4,) (4, 4)\n",
      "Sigma Value:\n",
      " [2.528 1.811 0.    0.   ]\n"
     ]
    }
   ],
   "source": [
    "# 다시 SVD를 수행하여 Sigma 값 확인 \n",
    "U, Sigma, Vt = np.linalg.svd(a)\n",
    "print(U.shape, Sigma.shape, Vt.shape)\n",
    "print('Sigma Value:\\n',np.round(Sigma,3))"
   ]
  },
  {
   "cell_type": "markdown",
   "metadata": {},
   "source": [
    "Sigma 값을 보면 행렬 rank 2됨. 선형독립인 로두 벡터가 2개."
   ]
  },
  {
   "cell_type": "code",
   "execution_count": 21,
   "metadata": {},
   "outputs": [
    {
     "name": "stdout",
     "output_type": "stream",
     "text": [
      "(4, 2) (2, 2) (2, 4)\n",
      "[[-1.378 -0.353 -0.461  0.067]\n",
      " [-0.176  1.201  0.698 -0.172]\n",
      " [-1.554  0.848  0.237 -0.105]\n",
      " [-1.378 -0.353 -0.461  0.067]]\n"
     ]
    }
   ],
   "source": [
    "# U 행렬의 경우는 Sigma와 내적을 수행하므로 Sigma의 앞 2행에 대응되는 앞 2열만 추출\n",
    "U_ = U[:, :2]\n",
    "Sigma_ = np.diag(Sigma[:2])\n",
    "# V 전치 행렬의 경우는 앞 2행만 추출\n",
    "Vt_ = Vt[:2]\n",
    "print(U_.shape, Sigma_.shape, Vt_.shape)\n",
    "# U, Sigma, Vt의 내적을 수행하며, 다시 원본 행렬 복원\n",
    "a_ = np.dot(np.dot(U_,Sigma_), Vt_)\n",
    "print(np.round(a_, 3))"
   ]
  },
  {
   "cell_type": "markdown",
   "metadata": {},
   "source": [
    "특성되로 복원은 됨 "
   ]
  },
  {
   "cell_type": "code",
   "execution_count": null,
   "metadata": {},
   "outputs": [],
   "source": []
  },
  {
   "cell_type": "markdown",
   "metadata": {},
   "source": [
    "## 배열 붙이기"
   ]
  },
  {
   "cell_type": "code",
   "execution_count": 22,
   "metadata": {},
   "outputs": [],
   "source": [
    "a = np.array([1,2,3])\n",
    "b = np.array([4,5,6])"
   ]
  },
  {
   "cell_type": "markdown",
   "metadata": {},
   "source": [
    "왼쪽에서 오른쪽으로 붙이기"
   ]
  },
  {
   "cell_type": "code",
   "execution_count": 23,
   "metadata": {},
   "outputs": [
    {
     "data": {
      "text/plain": [
       "array([1, 2, 3, 4, 5, 6])"
      ]
     },
     "execution_count": 23,
     "metadata": {},
     "output_type": "execute_result"
    },
    {
     "data": {
      "text/plain": [
       "array([1, 2, 3, 4, 5, 6])"
      ]
     },
     "execution_count": 23,
     "metadata": {},
     "output_type": "execute_result"
    },
    {
     "data": {
      "text/plain": [
       "array([1, 2, 3, 4, 5, 6])"
      ]
     },
     "execution_count": 23,
     "metadata": {},
     "output_type": "execute_result"
    }
   ],
   "source": [
    "np.r_[a,b]\n",
    "np.hstack([a,b])\n",
    "np.concatenate((a,b), axis=0)"
   ]
  },
  {
   "cell_type": "markdown",
   "metadata": {},
   "source": [
    "위에서 아래로 붙이기"
   ]
  },
  {
   "cell_type": "code",
   "execution_count": 24,
   "metadata": {},
   "outputs": [
    {
     "data": {
      "text/plain": [
       "array([[1, 2, 3],\n",
       "       [4, 5, 6]])"
      ]
     },
     "execution_count": 24,
     "metadata": {},
     "output_type": "execute_result"
    },
    {
     "data": {
      "text/plain": [
       "array([[1, 2, 3],\n",
       "       [4, 5, 6]])"
      ]
     },
     "execution_count": 24,
     "metadata": {},
     "output_type": "execute_result"
    }
   ],
   "source": [
    "np.r_[[a], [b]]\n",
    "np.vstack([a,b])"
   ]
  },
  {
   "cell_type": "code",
   "execution_count": 25,
   "metadata": {},
   "outputs": [],
   "source": [
    "c = np.array([[0, 1, 2], [3, 4, 5,]])\n",
    "d = np.array([[6, 7, 8], [9, 10, 11]])"
   ]
  },
  {
   "cell_type": "code",
   "execution_count": 26,
   "metadata": {},
   "outputs": [
    {
     "data": {
      "text/plain": [
       "array([[ 0,  1,  2,  6,  7,  8],\n",
       "       [ 3,  4,  5,  9, 10, 11]])"
      ]
     },
     "execution_count": 26,
     "metadata": {},
     "output_type": "execute_result"
    }
   ],
   "source": [
    "np.concatenate((c,d), axis=1)"
   ]
  },
  {
   "cell_type": "markdown",
   "metadata": {},
   "source": [
    "1차원 배열을 컬럼으로 세로로 붙여서 2차원 배열로 만들기 "
   ]
  },
  {
   "cell_type": "code",
   "execution_count": 27,
   "metadata": {},
   "outputs": [
    {
     "data": {
      "text/plain": [
       "array([[1, 4],\n",
       "       [2, 5],\n",
       "       [3, 6]])"
      ]
     },
     "execution_count": 27,
     "metadata": {},
     "output_type": "execute_result"
    },
    {
     "data": {
      "text/plain": [
       "array([[1, 4],\n",
       "       [2, 5],\n",
       "       [3, 6]])"
      ]
     },
     "execution_count": 27,
     "metadata": {},
     "output_type": "execute_result"
    }
   ],
   "source": [
    "np.c_[a,b]\n",
    "np.column_stack([a,b])"
   ]
  },
  {
   "cell_type": "code",
   "execution_count": 28,
   "metadata": {},
   "outputs": [
    {
     "data": {
      "text/plain": [
       "array([[ 0,  3,  6,  9],\n",
       "       [ 1,  4,  7, 10],\n",
       "       [ 2,  5,  8, 11]])"
      ]
     },
     "execution_count": 28,
     "metadata": {},
     "output_type": "execute_result"
    }
   ],
   "source": [
    "np.concatenate((c.T, d.T), axis=1)"
   ]
  },
  {
   "cell_type": "code",
   "execution_count": null,
   "metadata": {},
   "outputs": [],
   "source": []
  }
 ],
 "metadata": {
  "kernelspec": {
   "display_name": "Python 3",
   "language": "python",
   "name": "python3"
  },
  "language_info": {
   "codemirror_mode": {
    "name": "ipython",
    "version": 3
   },
   "file_extension": ".py",
   "mimetype": "text/x-python",
   "name": "python",
   "nbconvert_exporter": "python",
   "pygments_lexer": "ipython3",
   "version": "3.7.6"
  }
 },
 "nbformat": 4,
 "nbformat_minor": 2
}
