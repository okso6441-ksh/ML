{
 "cells": [
  {
   "cell_type": "code",
   "execution_count": 1,
   "metadata": {},
   "outputs": [],
   "source": [
    "import numpy as np\n",
    "import pandas as pd\n",
    "import matplotlib.pyplot as plt\n",
    "import warnings\n",
    "warnings.filterwarnings('ignore')\n",
    "%matplotlib inline\n",
    "import random\n",
    "import seaborn as sns\n",
    "\n",
    "from pycaret.classification import *\n",
    "from sklearn.metrics import log_loss"
   ]
  },
  {
   "cell_type": "code",
   "execution_count": 2,
   "metadata": {},
   "outputs": [],
   "source": [
    "seed = 42\n",
    "np.random.seed(seed)"
   ]
  },
  {
   "cell_type": "code",
   "execution_count": 3,
   "metadata": {},
   "outputs": [
    {
     "data": {
      "text/plain": [
       "((26457, 19), (10000, 18), (10000, 3))"
      ]
     },
     "execution_count": 3,
     "metadata": {},
     "output_type": "execute_result"
    }
   ],
   "source": [
    "train = pd.read_csv('input/train.csv', index_col=['index'])\n",
    "test = pd.read_csv('input/test.csv', index_col=['index'])\n",
    "submission = pd.read_csv('input/submission.csv', index_col=['index'])\n",
    "\n",
    "train.shape, test.shape, submission.shape"
   ]
  },
  {
   "cell_type": "markdown",
   "metadata": {},
   "source": [
    "## null 처리 "
   ]
  },
  {
   "cell_type": "code",
   "execution_count": null,
   "metadata": {},
   "outputs": [],
   "source": [
    "print(8171/train.shape[0]*100)\n",
    "#display(train.isna().sum())\n",
    "\n",
    "print(3152/test.shape[0]*100)\n",
    "#display(test.isna().sum())"
   ]
  },
  {
   "cell_type": "code",
   "execution_count": 5,
   "metadata": {},
   "outputs": [
    {
     "data": {
      "text/plain": [
       "((26457, 17), (10000, 16))"
      ]
     },
     "execution_count": 5,
     "metadata": {},
     "output_type": "execute_result"
    }
   ],
   "source": [
    "train.drop(['occyp_type'], axis=1, inplace=True)\n",
    "test.drop(['occyp_type'], axis=1, inplace=True)\n",
    "train.shape, test.shape"
   ]
  },
  {
   "cell_type": "code",
   "execution_count": 4,
   "metadata": {},
   "outputs": [
    {
     "data": {
      "text/plain": [
       "((26457, 18), (10000, 17))"
      ]
     },
     "execution_count": 4,
     "metadata": {},
     "output_type": "execute_result"
    }
   ],
   "source": [
    "train.FLAG_MOBIL.value_counts(), test.FLAG_MOBIL.value_counts()\n",
    "\n",
    "train.drop(['FLAG_MOBIL'], axis=1, inplace=True)\n",
    "test.drop(['FLAG_MOBIL'], axis=1, inplace=True)\n",
    "train.shape, test.shape"
   ]
  },
  {
   "cell_type": "code",
   "execution_count": null,
   "metadata": {},
   "outputs": [],
   "source": []
  },
  {
   "cell_type": "code",
   "execution_count": 7,
   "metadata": {},
   "outputs": [],
   "source": [
    "train.loc[train.DAYS_EMPLOYED == 365243, 'DAYS_EMPLOYED'] = 0\n",
    "test.loc[test.DAYS_EMPLOYED == 365243, 'DAYS_EMPLOYED'] = 0"
   ]
  },
  {
   "cell_type": "code",
   "execution_count": 15,
   "metadata": {},
   "outputs": [],
   "source": [
    "train['DAYS_EMPLOYED'] = train.DAYS_EMPLOYED*-1\n",
    "test['DAYS_EMPLOYED'] = test.DAYS_EMPLOYED*-1"
   ]
  },
  {
   "cell_type": "code",
   "execution_count": 20,
   "metadata": {},
   "outputs": [],
   "source": [
    "train['DAYS_EMPLOYED'] = np.log1p(train.DAYS_EMPLOYED)\n",
    "test['DAYS_EMPLOYED'] = np.log1p(test.DAYS_EMPLOYED)"
   ]
  },
  {
   "cell_type": "code",
   "execution_count": null,
   "metadata": {},
   "outputs": [],
   "source": []
  },
  {
   "cell_type": "code",
   "execution_count": 6,
   "metadata": {},
   "outputs": [
    {
     "data": {
      "text/html": [
       "<div>\n",
       "<style scoped>\n",
       "    .dataframe tbody tr th:only-of-type {\n",
       "        vertical-align: middle;\n",
       "    }\n",
       "\n",
       "    .dataframe tbody tr th {\n",
       "        vertical-align: top;\n",
       "    }\n",
       "\n",
       "    .dataframe thead th {\n",
       "        text-align: right;\n",
       "    }\n",
       "</style>\n",
       "<table border=\"1\" class=\"dataframe\">\n",
       "  <thead>\n",
       "    <tr style=\"text-align: right;\">\n",
       "      <th></th>\n",
       "      <th>gender</th>\n",
       "      <th>car</th>\n",
       "      <th>reality</th>\n",
       "      <th>child_num</th>\n",
       "      <th>income_total</th>\n",
       "      <th>income_type</th>\n",
       "      <th>edu_type</th>\n",
       "      <th>family_type</th>\n",
       "      <th>house_type</th>\n",
       "      <th>DAYS_BIRTH</th>\n",
       "      <th>DAYS_EMPLOYED</th>\n",
       "      <th>work_phone</th>\n",
       "      <th>phone</th>\n",
       "      <th>email</th>\n",
       "      <th>family_size</th>\n",
       "      <th>begin_month</th>\n",
       "      <th>credit</th>\n",
       "    </tr>\n",
       "    <tr>\n",
       "      <th>index</th>\n",
       "      <th></th>\n",
       "      <th></th>\n",
       "      <th></th>\n",
       "      <th></th>\n",
       "      <th></th>\n",
       "      <th></th>\n",
       "      <th></th>\n",
       "      <th></th>\n",
       "      <th></th>\n",
       "      <th></th>\n",
       "      <th></th>\n",
       "      <th></th>\n",
       "      <th></th>\n",
       "      <th></th>\n",
       "      <th></th>\n",
       "      <th></th>\n",
       "      <th></th>\n",
       "    </tr>\n",
       "  </thead>\n",
       "  <tbody>\n",
       "    <tr>\n",
       "      <th>0</th>\n",
       "      <td>F</td>\n",
       "      <td>N</td>\n",
       "      <td>N</td>\n",
       "      <td>0</td>\n",
       "      <td>202500.0</td>\n",
       "      <td>Commercial associate</td>\n",
       "      <td>Higher education</td>\n",
       "      <td>Married</td>\n",
       "      <td>Municipal apartment</td>\n",
       "      <td>-13899</td>\n",
       "      <td>-4709</td>\n",
       "      <td>0</td>\n",
       "      <td>0</td>\n",
       "      <td>0</td>\n",
       "      <td>2.0</td>\n",
       "      <td>-6.0</td>\n",
       "      <td>1.0</td>\n",
       "    </tr>\n",
       "    <tr>\n",
       "      <th>1</th>\n",
       "      <td>F</td>\n",
       "      <td>N</td>\n",
       "      <td>Y</td>\n",
       "      <td>1</td>\n",
       "      <td>247500.0</td>\n",
       "      <td>Commercial associate</td>\n",
       "      <td>Secondary / secondary special</td>\n",
       "      <td>Civil marriage</td>\n",
       "      <td>House / apartment</td>\n",
       "      <td>-11380</td>\n",
       "      <td>-1540</td>\n",
       "      <td>0</td>\n",
       "      <td>0</td>\n",
       "      <td>1</td>\n",
       "      <td>3.0</td>\n",
       "      <td>-5.0</td>\n",
       "      <td>1.0</td>\n",
       "    </tr>\n",
       "    <tr>\n",
       "      <th>2</th>\n",
       "      <td>M</td>\n",
       "      <td>Y</td>\n",
       "      <td>Y</td>\n",
       "      <td>0</td>\n",
       "      <td>450000.0</td>\n",
       "      <td>Working</td>\n",
       "      <td>Higher education</td>\n",
       "      <td>Married</td>\n",
       "      <td>House / apartment</td>\n",
       "      <td>-19087</td>\n",
       "      <td>-4434</td>\n",
       "      <td>0</td>\n",
       "      <td>1</td>\n",
       "      <td>0</td>\n",
       "      <td>2.0</td>\n",
       "      <td>-22.0</td>\n",
       "      <td>2.0</td>\n",
       "    </tr>\n",
       "    <tr>\n",
       "      <th>3</th>\n",
       "      <td>F</td>\n",
       "      <td>N</td>\n",
       "      <td>Y</td>\n",
       "      <td>0</td>\n",
       "      <td>202500.0</td>\n",
       "      <td>Commercial associate</td>\n",
       "      <td>Secondary / secondary special</td>\n",
       "      <td>Married</td>\n",
       "      <td>House / apartment</td>\n",
       "      <td>-15088</td>\n",
       "      <td>-2092</td>\n",
       "      <td>0</td>\n",
       "      <td>1</td>\n",
       "      <td>0</td>\n",
       "      <td>2.0</td>\n",
       "      <td>-37.0</td>\n",
       "      <td>0.0</td>\n",
       "    </tr>\n",
       "    <tr>\n",
       "      <th>4</th>\n",
       "      <td>F</td>\n",
       "      <td>Y</td>\n",
       "      <td>Y</td>\n",
       "      <td>0</td>\n",
       "      <td>157500.0</td>\n",
       "      <td>State servant</td>\n",
       "      <td>Higher education</td>\n",
       "      <td>Married</td>\n",
       "      <td>House / apartment</td>\n",
       "      <td>-15037</td>\n",
       "      <td>-2105</td>\n",
       "      <td>0</td>\n",
       "      <td>0</td>\n",
       "      <td>0</td>\n",
       "      <td>2.0</td>\n",
       "      <td>-26.0</td>\n",
       "      <td>2.0</td>\n",
       "    </tr>\n",
       "  </tbody>\n",
       "</table>\n",
       "</div>"
      ],
      "text/plain": [
       "      gender car reality  child_num  income_total           income_type  \\\n",
       "index                                                                     \n",
       "0          F   N       N          0      202500.0  Commercial associate   \n",
       "1          F   N       Y          1      247500.0  Commercial associate   \n",
       "2          M   Y       Y          0      450000.0               Working   \n",
       "3          F   N       Y          0      202500.0  Commercial associate   \n",
       "4          F   Y       Y          0      157500.0         State servant   \n",
       "\n",
       "                            edu_type     family_type           house_type  \\\n",
       "index                                                                       \n",
       "0                   Higher education         Married  Municipal apartment   \n",
       "1      Secondary / secondary special  Civil marriage    House / apartment   \n",
       "2                   Higher education         Married    House / apartment   \n",
       "3      Secondary / secondary special         Married    House / apartment   \n",
       "4                   Higher education         Married    House / apartment   \n",
       "\n",
       "       DAYS_BIRTH  DAYS_EMPLOYED  work_phone  phone  email  family_size  \\\n",
       "index                                                                     \n",
       "0          -13899          -4709           0      0      0          2.0   \n",
       "1          -11380          -1540           0      0      1          3.0   \n",
       "2          -19087          -4434           0      1      0          2.0   \n",
       "3          -15088          -2092           0      1      0          2.0   \n",
       "4          -15037          -2105           0      0      0          2.0   \n",
       "\n",
       "       begin_month  credit  \n",
       "index                       \n",
       "0             -6.0     1.0  \n",
       "1             -5.0     1.0  \n",
       "2            -22.0     2.0  \n",
       "3            -37.0     0.0  \n",
       "4            -26.0     2.0  "
      ]
     },
     "execution_count": 6,
     "metadata": {},
     "output_type": "execute_result"
    }
   ],
   "source": [
    "train.head()"
   ]
  },
  {
   "cell_type": "code",
   "execution_count": null,
   "metadata": {},
   "outputs": [],
   "source": [
    "train['gender'] = train['gender'].replace(['F','M'],[0,1])\n",
    "train['car'] = train['car'].replace(['N','Y'],[0,1])\n",
    "train['reality'] = train['reality'].replace(['N','Y'],[0,1])\n",
    "\n",
    "test['gender'] = test['gender'].replace(['F','M'],[0,1])\n",
    "test['car'] = test['car'].replace(['N','Y'],[0,1])\n",
    "test['reality'] = test['reality'].replace(['N','Y'],[0,1])"
   ]
  },
  {
   "cell_type": "code",
   "execution_count": null,
   "metadata": {},
   "outputs": [],
   "source": []
  },
  {
   "cell_type": "code",
   "execution_count": null,
   "metadata": {},
   "outputs": [],
   "source": [
    "from sklearn import preprocessing\n",
    "label_encoder=preprocessing.LabelEncoder()"
   ]
  },
  {
   "cell_type": "code",
   "execution_count": null,
   "metadata": {},
   "outputs": [],
   "source": [
    "train['income_type']=label_encoder.fit_transform(train['income_type'])\n",
    "train['edu_type']=label_encoder.fit_transform(train['edu_type'])\n",
    "train['family_type']=label_encoder.fit_transform(train['family_type'])\n",
    "train['house_type']=label_encoder.fit_transform(train['house_type'])\n",
    "\n",
    "test['income_type']=label_encoder.fit_transform(test['income_type'])\n",
    "test['edu_type']=label_encoder.fit_transform(test['edu_type'])\n",
    "test['family_type']=label_encoder.fit_transform(test['family_type'])\n",
    "test['house_type']=label_encoder.fit_transform(test['house_type'])"
   ]
  },
  {
   "cell_type": "code",
   "execution_count": null,
   "metadata": {},
   "outputs": [],
   "source": [
    "train.loc[train.child_num > 0, 'child_num'] = 1\n",
    "test.loc[test.child_num > 0, 'child_num'] = 1"
   ]
  },
  {
   "cell_type": "code",
   "execution_count": null,
   "metadata": {},
   "outputs": [],
   "source": [
    "train['DAYS_BIRTH'] = list(map(int, -train.DAYS_BIRTH/365))\n",
    "test['DAYS_BIRTH'] = list(map(int, -test.DAYS_BIRTH/365))"
   ]
  },
  {
   "cell_type": "code",
   "execution_count": null,
   "metadata": {},
   "outputs": [],
   "source": [
    "train['DAYS_EMPLOYED'] = list(map(int, -train.DAYS_EMPLOYED/365))\n",
    "test['DAYS_EMPLOYED'] = list(map(int, -test.DAYS_EMPLOYED/365))"
   ]
  },
  {
   "cell_type": "code",
   "execution_count": null,
   "metadata": {},
   "outputs": [],
   "source": [
    "train['begin_month'] = - train.begin_month/12\n",
    "test['begin_month'] = - train.begin_month/12"
   ]
  },
  {
   "cell_type": "code",
   "execution_count": null,
   "metadata": {},
   "outputs": [],
   "source": [
    "train.head()"
   ]
  },
  {
   "cell_type": "code",
   "execution_count": null,
   "metadata": {},
   "outputs": [],
   "source": [
    "train.corr()"
   ]
  },
  {
   "cell_type": "code",
   "execution_count": null,
   "metadata": {},
   "outputs": [],
   "source": []
  },
  {
   "cell_type": "code",
   "execution_count": null,
   "metadata": {},
   "outputs": [],
   "source": [
    "sns.heatmap(train.corr())"
   ]
  },
  {
   "cell_type": "markdown",
   "metadata": {},
   "source": [
    "## 범주형 자료 "
   ]
  },
  {
   "cell_type": "code",
   "execution_count": 21,
   "metadata": {},
   "outputs": [],
   "source": [
    "col = ['gender','car','reality','phone','email','work_phone'\\\n",
    "      ,'income_type','edu_type','family_type','house_type','begin_month'\\\n",
    "      #,'child_num','EMPLOYED_YN'\n",
    "      ]\n",
    "#train = pd.get_dummies(train, columns=col)\n",
    "#test = pd.get_dummies(test, columns=col)\n",
    "#train.shape, test.shape"
   ]
  },
  {
   "cell_type": "code",
   "execution_count": 22,
   "metadata": {},
   "outputs": [
    {
     "data": {
      "text/plain": [
       "Index(['gender', 'car', 'reality', 'child_num', 'income_total', 'income_type',\n",
       "       'edu_type', 'family_type', 'house_type', 'DAYS_BIRTH', 'DAYS_EMPLOYED',\n",
       "       'work_phone', 'phone', 'email', 'family_size', 'begin_month', 'credit'],\n",
       "      dtype='object')"
      ]
     },
     "execution_count": 22,
     "metadata": {},
     "output_type": "execute_result"
    }
   ],
   "source": [
    "train.columns"
   ]
  },
  {
   "cell_type": "code",
   "execution_count": 23,
   "metadata": {},
   "outputs": [
    {
     "data": {
      "text/html": [
       "<style  type=\"text/css\" >\n",
       "</style><table id=\"T_78a2ed52_96d1_11eb_aaf5_00e0201808a0\" ><thead>    <tr>        <th class=\"blank level0\" ></th>        <th class=\"col_heading level0 col0\" >Description</th>        <th class=\"col_heading level0 col1\" >Value</th>    </tr></thead><tbody>\n",
       "                <tr>\n",
       "                        <th id=\"T_78a2ed52_96d1_11eb_aaf5_00e0201808a0level0_row0\" class=\"row_heading level0 row0\" >0</th>\n",
       "                        <td id=\"T_78a2ed52_96d1_11eb_aaf5_00e0201808a0row0_col0\" class=\"data row0 col0\" >session_id</td>\n",
       "                        <td id=\"T_78a2ed52_96d1_11eb_aaf5_00e0201808a0row0_col1\" class=\"data row0 col1\" >42</td>\n",
       "            </tr>\n",
       "            <tr>\n",
       "                        <th id=\"T_78a2ed52_96d1_11eb_aaf5_00e0201808a0level0_row1\" class=\"row_heading level0 row1\" >1</th>\n",
       "                        <td id=\"T_78a2ed52_96d1_11eb_aaf5_00e0201808a0row1_col0\" class=\"data row1 col0\" >Target</td>\n",
       "                        <td id=\"T_78a2ed52_96d1_11eb_aaf5_00e0201808a0row1_col1\" class=\"data row1 col1\" >credit</td>\n",
       "            </tr>\n",
       "            <tr>\n",
       "                        <th id=\"T_78a2ed52_96d1_11eb_aaf5_00e0201808a0level0_row2\" class=\"row_heading level0 row2\" >2</th>\n",
       "                        <td id=\"T_78a2ed52_96d1_11eb_aaf5_00e0201808a0row2_col0\" class=\"data row2 col0\" >Target Type</td>\n",
       "                        <td id=\"T_78a2ed52_96d1_11eb_aaf5_00e0201808a0row2_col1\" class=\"data row2 col1\" >Multiclass</td>\n",
       "            </tr>\n",
       "            <tr>\n",
       "                        <th id=\"T_78a2ed52_96d1_11eb_aaf5_00e0201808a0level0_row3\" class=\"row_heading level0 row3\" >3</th>\n",
       "                        <td id=\"T_78a2ed52_96d1_11eb_aaf5_00e0201808a0row3_col0\" class=\"data row3 col0\" >Label Encoded</td>\n",
       "                        <td id=\"T_78a2ed52_96d1_11eb_aaf5_00e0201808a0row3_col1\" class=\"data row3 col1\" >None</td>\n",
       "            </tr>\n",
       "            <tr>\n",
       "                        <th id=\"T_78a2ed52_96d1_11eb_aaf5_00e0201808a0level0_row4\" class=\"row_heading level0 row4\" >4</th>\n",
       "                        <td id=\"T_78a2ed52_96d1_11eb_aaf5_00e0201808a0row4_col0\" class=\"data row4 col0\" >Original Data</td>\n",
       "                        <td id=\"T_78a2ed52_96d1_11eb_aaf5_00e0201808a0row4_col1\" class=\"data row4 col1\" >(26457, 17)</td>\n",
       "            </tr>\n",
       "            <tr>\n",
       "                        <th id=\"T_78a2ed52_96d1_11eb_aaf5_00e0201808a0level0_row5\" class=\"row_heading level0 row5\" >5</th>\n",
       "                        <td id=\"T_78a2ed52_96d1_11eb_aaf5_00e0201808a0row5_col0\" class=\"data row5 col0\" >Missing Values</td>\n",
       "                        <td id=\"T_78a2ed52_96d1_11eb_aaf5_00e0201808a0row5_col1\" class=\"data row5 col1\" >False</td>\n",
       "            </tr>\n",
       "            <tr>\n",
       "                        <th id=\"T_78a2ed52_96d1_11eb_aaf5_00e0201808a0level0_row6\" class=\"row_heading level0 row6\" >6</th>\n",
       "                        <td id=\"T_78a2ed52_96d1_11eb_aaf5_00e0201808a0row6_col0\" class=\"data row6 col0\" >Numeric Features</td>\n",
       "                        <td id=\"T_78a2ed52_96d1_11eb_aaf5_00e0201808a0row6_col1\" class=\"data row6 col1\" >5</td>\n",
       "            </tr>\n",
       "            <tr>\n",
       "                        <th id=\"T_78a2ed52_96d1_11eb_aaf5_00e0201808a0level0_row7\" class=\"row_heading level0 row7\" >7</th>\n",
       "                        <td id=\"T_78a2ed52_96d1_11eb_aaf5_00e0201808a0row7_col0\" class=\"data row7 col0\" >Categorical Features</td>\n",
       "                        <td id=\"T_78a2ed52_96d1_11eb_aaf5_00e0201808a0row7_col1\" class=\"data row7 col1\" >11</td>\n",
       "            </tr>\n",
       "            <tr>\n",
       "                        <th id=\"T_78a2ed52_96d1_11eb_aaf5_00e0201808a0level0_row8\" class=\"row_heading level0 row8\" >8</th>\n",
       "                        <td id=\"T_78a2ed52_96d1_11eb_aaf5_00e0201808a0row8_col0\" class=\"data row8 col0\" >Ordinal Features</td>\n",
       "                        <td id=\"T_78a2ed52_96d1_11eb_aaf5_00e0201808a0row8_col1\" class=\"data row8 col1\" >False</td>\n",
       "            </tr>\n",
       "            <tr>\n",
       "                        <th id=\"T_78a2ed52_96d1_11eb_aaf5_00e0201808a0level0_row9\" class=\"row_heading level0 row9\" >9</th>\n",
       "                        <td id=\"T_78a2ed52_96d1_11eb_aaf5_00e0201808a0row9_col0\" class=\"data row9 col0\" >High Cardinality Features</td>\n",
       "                        <td id=\"T_78a2ed52_96d1_11eb_aaf5_00e0201808a0row9_col1\" class=\"data row9 col1\" >False</td>\n",
       "            </tr>\n",
       "            <tr>\n",
       "                        <th id=\"T_78a2ed52_96d1_11eb_aaf5_00e0201808a0level0_row10\" class=\"row_heading level0 row10\" >10</th>\n",
       "                        <td id=\"T_78a2ed52_96d1_11eb_aaf5_00e0201808a0row10_col0\" class=\"data row10 col0\" >High Cardinality Method</td>\n",
       "                        <td id=\"T_78a2ed52_96d1_11eb_aaf5_00e0201808a0row10_col1\" class=\"data row10 col1\" >None</td>\n",
       "            </tr>\n",
       "            <tr>\n",
       "                        <th id=\"T_78a2ed52_96d1_11eb_aaf5_00e0201808a0level0_row11\" class=\"row_heading level0 row11\" >11</th>\n",
       "                        <td id=\"T_78a2ed52_96d1_11eb_aaf5_00e0201808a0row11_col0\" class=\"data row11 col0\" >Transformed Train Set</td>\n",
       "                        <td id=\"T_78a2ed52_96d1_11eb_aaf5_00e0201808a0row11_col1\" class=\"data row11 col1\" >(18519, 93)</td>\n",
       "            </tr>\n",
       "            <tr>\n",
       "                        <th id=\"T_78a2ed52_96d1_11eb_aaf5_00e0201808a0level0_row12\" class=\"row_heading level0 row12\" >12</th>\n",
       "                        <td id=\"T_78a2ed52_96d1_11eb_aaf5_00e0201808a0row12_col0\" class=\"data row12 col0\" >Transformed Test Set</td>\n",
       "                        <td id=\"T_78a2ed52_96d1_11eb_aaf5_00e0201808a0row12_col1\" class=\"data row12 col1\" >(7938, 93)</td>\n",
       "            </tr>\n",
       "            <tr>\n",
       "                        <th id=\"T_78a2ed52_96d1_11eb_aaf5_00e0201808a0level0_row13\" class=\"row_heading level0 row13\" >13</th>\n",
       "                        <td id=\"T_78a2ed52_96d1_11eb_aaf5_00e0201808a0row13_col0\" class=\"data row13 col0\" >Shuffle Train-Test</td>\n",
       "                        <td id=\"T_78a2ed52_96d1_11eb_aaf5_00e0201808a0row13_col1\" class=\"data row13 col1\" >True</td>\n",
       "            </tr>\n",
       "            <tr>\n",
       "                        <th id=\"T_78a2ed52_96d1_11eb_aaf5_00e0201808a0level0_row14\" class=\"row_heading level0 row14\" >14</th>\n",
       "                        <td id=\"T_78a2ed52_96d1_11eb_aaf5_00e0201808a0row14_col0\" class=\"data row14 col0\" >Stratify Train-Test</td>\n",
       "                        <td id=\"T_78a2ed52_96d1_11eb_aaf5_00e0201808a0row14_col1\" class=\"data row14 col1\" >False</td>\n",
       "            </tr>\n",
       "            <tr>\n",
       "                        <th id=\"T_78a2ed52_96d1_11eb_aaf5_00e0201808a0level0_row15\" class=\"row_heading level0 row15\" >15</th>\n",
       "                        <td id=\"T_78a2ed52_96d1_11eb_aaf5_00e0201808a0row15_col0\" class=\"data row15 col0\" >Fold Generator</td>\n",
       "                        <td id=\"T_78a2ed52_96d1_11eb_aaf5_00e0201808a0row15_col1\" class=\"data row15 col1\" >StratifiedKFold</td>\n",
       "            </tr>\n",
       "            <tr>\n",
       "                        <th id=\"T_78a2ed52_96d1_11eb_aaf5_00e0201808a0level0_row16\" class=\"row_heading level0 row16\" >16</th>\n",
       "                        <td id=\"T_78a2ed52_96d1_11eb_aaf5_00e0201808a0row16_col0\" class=\"data row16 col0\" >Fold Number</td>\n",
       "                        <td id=\"T_78a2ed52_96d1_11eb_aaf5_00e0201808a0row16_col1\" class=\"data row16 col1\" >10</td>\n",
       "            </tr>\n",
       "            <tr>\n",
       "                        <th id=\"T_78a2ed52_96d1_11eb_aaf5_00e0201808a0level0_row17\" class=\"row_heading level0 row17\" >17</th>\n",
       "                        <td id=\"T_78a2ed52_96d1_11eb_aaf5_00e0201808a0row17_col0\" class=\"data row17 col0\" >CPU Jobs</td>\n",
       "                        <td id=\"T_78a2ed52_96d1_11eb_aaf5_00e0201808a0row17_col1\" class=\"data row17 col1\" >-1</td>\n",
       "            </tr>\n",
       "            <tr>\n",
       "                        <th id=\"T_78a2ed52_96d1_11eb_aaf5_00e0201808a0level0_row18\" class=\"row_heading level0 row18\" >18</th>\n",
       "                        <td id=\"T_78a2ed52_96d1_11eb_aaf5_00e0201808a0row18_col0\" class=\"data row18 col0\" >Use GPU</td>\n",
       "                        <td id=\"T_78a2ed52_96d1_11eb_aaf5_00e0201808a0row18_col1\" class=\"data row18 col1\" >False</td>\n",
       "            </tr>\n",
       "            <tr>\n",
       "                        <th id=\"T_78a2ed52_96d1_11eb_aaf5_00e0201808a0level0_row19\" class=\"row_heading level0 row19\" >19</th>\n",
       "                        <td id=\"T_78a2ed52_96d1_11eb_aaf5_00e0201808a0row19_col0\" class=\"data row19 col0\" >Log Experiment</td>\n",
       "                        <td id=\"T_78a2ed52_96d1_11eb_aaf5_00e0201808a0row19_col1\" class=\"data row19 col1\" >False</td>\n",
       "            </tr>\n",
       "            <tr>\n",
       "                        <th id=\"T_78a2ed52_96d1_11eb_aaf5_00e0201808a0level0_row20\" class=\"row_heading level0 row20\" >20</th>\n",
       "                        <td id=\"T_78a2ed52_96d1_11eb_aaf5_00e0201808a0row20_col0\" class=\"data row20 col0\" >Experiment Name</td>\n",
       "                        <td id=\"T_78a2ed52_96d1_11eb_aaf5_00e0201808a0row20_col1\" class=\"data row20 col1\" >clf-default-name</td>\n",
       "            </tr>\n",
       "            <tr>\n",
       "                        <th id=\"T_78a2ed52_96d1_11eb_aaf5_00e0201808a0level0_row21\" class=\"row_heading level0 row21\" >21</th>\n",
       "                        <td id=\"T_78a2ed52_96d1_11eb_aaf5_00e0201808a0row21_col0\" class=\"data row21 col0\" >USI</td>\n",
       "                        <td id=\"T_78a2ed52_96d1_11eb_aaf5_00e0201808a0row21_col1\" class=\"data row21 col1\" >3c6d</td>\n",
       "            </tr>\n",
       "            <tr>\n",
       "                        <th id=\"T_78a2ed52_96d1_11eb_aaf5_00e0201808a0level0_row22\" class=\"row_heading level0 row22\" >22</th>\n",
       "                        <td id=\"T_78a2ed52_96d1_11eb_aaf5_00e0201808a0row22_col0\" class=\"data row22 col0\" >Imputation Type</td>\n",
       "                        <td id=\"T_78a2ed52_96d1_11eb_aaf5_00e0201808a0row22_col1\" class=\"data row22 col1\" >simple</td>\n",
       "            </tr>\n",
       "            <tr>\n",
       "                        <th id=\"T_78a2ed52_96d1_11eb_aaf5_00e0201808a0level0_row23\" class=\"row_heading level0 row23\" >23</th>\n",
       "                        <td id=\"T_78a2ed52_96d1_11eb_aaf5_00e0201808a0row23_col0\" class=\"data row23 col0\" >Iterative Imputation Iteration</td>\n",
       "                        <td id=\"T_78a2ed52_96d1_11eb_aaf5_00e0201808a0row23_col1\" class=\"data row23 col1\" >None</td>\n",
       "            </tr>\n",
       "            <tr>\n",
       "                        <th id=\"T_78a2ed52_96d1_11eb_aaf5_00e0201808a0level0_row24\" class=\"row_heading level0 row24\" >24</th>\n",
       "                        <td id=\"T_78a2ed52_96d1_11eb_aaf5_00e0201808a0row24_col0\" class=\"data row24 col0\" >Numeric Imputer</td>\n",
       "                        <td id=\"T_78a2ed52_96d1_11eb_aaf5_00e0201808a0row24_col1\" class=\"data row24 col1\" >mean</td>\n",
       "            </tr>\n",
       "            <tr>\n",
       "                        <th id=\"T_78a2ed52_96d1_11eb_aaf5_00e0201808a0level0_row25\" class=\"row_heading level0 row25\" >25</th>\n",
       "                        <td id=\"T_78a2ed52_96d1_11eb_aaf5_00e0201808a0row25_col0\" class=\"data row25 col0\" >Iterative Imputation Numeric Model</td>\n",
       "                        <td id=\"T_78a2ed52_96d1_11eb_aaf5_00e0201808a0row25_col1\" class=\"data row25 col1\" >None</td>\n",
       "            </tr>\n",
       "            <tr>\n",
       "                        <th id=\"T_78a2ed52_96d1_11eb_aaf5_00e0201808a0level0_row26\" class=\"row_heading level0 row26\" >26</th>\n",
       "                        <td id=\"T_78a2ed52_96d1_11eb_aaf5_00e0201808a0row26_col0\" class=\"data row26 col0\" >Categorical Imputer</td>\n",
       "                        <td id=\"T_78a2ed52_96d1_11eb_aaf5_00e0201808a0row26_col1\" class=\"data row26 col1\" >constant</td>\n",
       "            </tr>\n",
       "            <tr>\n",
       "                        <th id=\"T_78a2ed52_96d1_11eb_aaf5_00e0201808a0level0_row27\" class=\"row_heading level0 row27\" >27</th>\n",
       "                        <td id=\"T_78a2ed52_96d1_11eb_aaf5_00e0201808a0row27_col0\" class=\"data row27 col0\" >Iterative Imputation Categorical Model</td>\n",
       "                        <td id=\"T_78a2ed52_96d1_11eb_aaf5_00e0201808a0row27_col1\" class=\"data row27 col1\" >None</td>\n",
       "            </tr>\n",
       "            <tr>\n",
       "                        <th id=\"T_78a2ed52_96d1_11eb_aaf5_00e0201808a0level0_row28\" class=\"row_heading level0 row28\" >28</th>\n",
       "                        <td id=\"T_78a2ed52_96d1_11eb_aaf5_00e0201808a0row28_col0\" class=\"data row28 col0\" >Unknown Categoricals Handling</td>\n",
       "                        <td id=\"T_78a2ed52_96d1_11eb_aaf5_00e0201808a0row28_col1\" class=\"data row28 col1\" >least_frequent</td>\n",
       "            </tr>\n",
       "            <tr>\n",
       "                        <th id=\"T_78a2ed52_96d1_11eb_aaf5_00e0201808a0level0_row29\" class=\"row_heading level0 row29\" >29</th>\n",
       "                        <td id=\"T_78a2ed52_96d1_11eb_aaf5_00e0201808a0row29_col0\" class=\"data row29 col0\" >Normalize</td>\n",
       "                        <td id=\"T_78a2ed52_96d1_11eb_aaf5_00e0201808a0row29_col1\" class=\"data row29 col1\" >False</td>\n",
       "            </tr>\n",
       "            <tr>\n",
       "                        <th id=\"T_78a2ed52_96d1_11eb_aaf5_00e0201808a0level0_row30\" class=\"row_heading level0 row30\" >30</th>\n",
       "                        <td id=\"T_78a2ed52_96d1_11eb_aaf5_00e0201808a0row30_col0\" class=\"data row30 col0\" >Normalize Method</td>\n",
       "                        <td id=\"T_78a2ed52_96d1_11eb_aaf5_00e0201808a0row30_col1\" class=\"data row30 col1\" >None</td>\n",
       "            </tr>\n",
       "            <tr>\n",
       "                        <th id=\"T_78a2ed52_96d1_11eb_aaf5_00e0201808a0level0_row31\" class=\"row_heading level0 row31\" >31</th>\n",
       "                        <td id=\"T_78a2ed52_96d1_11eb_aaf5_00e0201808a0row31_col0\" class=\"data row31 col0\" >Transformation</td>\n",
       "                        <td id=\"T_78a2ed52_96d1_11eb_aaf5_00e0201808a0row31_col1\" class=\"data row31 col1\" >False</td>\n",
       "            </tr>\n",
       "            <tr>\n",
       "                        <th id=\"T_78a2ed52_96d1_11eb_aaf5_00e0201808a0level0_row32\" class=\"row_heading level0 row32\" >32</th>\n",
       "                        <td id=\"T_78a2ed52_96d1_11eb_aaf5_00e0201808a0row32_col0\" class=\"data row32 col0\" >Transformation Method</td>\n",
       "                        <td id=\"T_78a2ed52_96d1_11eb_aaf5_00e0201808a0row32_col1\" class=\"data row32 col1\" >None</td>\n",
       "            </tr>\n",
       "            <tr>\n",
       "                        <th id=\"T_78a2ed52_96d1_11eb_aaf5_00e0201808a0level0_row33\" class=\"row_heading level0 row33\" >33</th>\n",
       "                        <td id=\"T_78a2ed52_96d1_11eb_aaf5_00e0201808a0row33_col0\" class=\"data row33 col0\" >PCA</td>\n",
       "                        <td id=\"T_78a2ed52_96d1_11eb_aaf5_00e0201808a0row33_col1\" class=\"data row33 col1\" >False</td>\n",
       "            </tr>\n",
       "            <tr>\n",
       "                        <th id=\"T_78a2ed52_96d1_11eb_aaf5_00e0201808a0level0_row34\" class=\"row_heading level0 row34\" >34</th>\n",
       "                        <td id=\"T_78a2ed52_96d1_11eb_aaf5_00e0201808a0row34_col0\" class=\"data row34 col0\" >PCA Method</td>\n",
       "                        <td id=\"T_78a2ed52_96d1_11eb_aaf5_00e0201808a0row34_col1\" class=\"data row34 col1\" >None</td>\n",
       "            </tr>\n",
       "            <tr>\n",
       "                        <th id=\"T_78a2ed52_96d1_11eb_aaf5_00e0201808a0level0_row35\" class=\"row_heading level0 row35\" >35</th>\n",
       "                        <td id=\"T_78a2ed52_96d1_11eb_aaf5_00e0201808a0row35_col0\" class=\"data row35 col0\" >PCA Components</td>\n",
       "                        <td id=\"T_78a2ed52_96d1_11eb_aaf5_00e0201808a0row35_col1\" class=\"data row35 col1\" >None</td>\n",
       "            </tr>\n",
       "            <tr>\n",
       "                        <th id=\"T_78a2ed52_96d1_11eb_aaf5_00e0201808a0level0_row36\" class=\"row_heading level0 row36\" >36</th>\n",
       "                        <td id=\"T_78a2ed52_96d1_11eb_aaf5_00e0201808a0row36_col0\" class=\"data row36 col0\" >Ignore Low Variance</td>\n",
       "                        <td id=\"T_78a2ed52_96d1_11eb_aaf5_00e0201808a0row36_col1\" class=\"data row36 col1\" >False</td>\n",
       "            </tr>\n",
       "            <tr>\n",
       "                        <th id=\"T_78a2ed52_96d1_11eb_aaf5_00e0201808a0level0_row37\" class=\"row_heading level0 row37\" >37</th>\n",
       "                        <td id=\"T_78a2ed52_96d1_11eb_aaf5_00e0201808a0row37_col0\" class=\"data row37 col0\" >Combine Rare Levels</td>\n",
       "                        <td id=\"T_78a2ed52_96d1_11eb_aaf5_00e0201808a0row37_col1\" class=\"data row37 col1\" >False</td>\n",
       "            </tr>\n",
       "            <tr>\n",
       "                        <th id=\"T_78a2ed52_96d1_11eb_aaf5_00e0201808a0level0_row38\" class=\"row_heading level0 row38\" >38</th>\n",
       "                        <td id=\"T_78a2ed52_96d1_11eb_aaf5_00e0201808a0row38_col0\" class=\"data row38 col0\" >Rare Level Threshold</td>\n",
       "                        <td id=\"T_78a2ed52_96d1_11eb_aaf5_00e0201808a0row38_col1\" class=\"data row38 col1\" >None</td>\n",
       "            </tr>\n",
       "            <tr>\n",
       "                        <th id=\"T_78a2ed52_96d1_11eb_aaf5_00e0201808a0level0_row39\" class=\"row_heading level0 row39\" >39</th>\n",
       "                        <td id=\"T_78a2ed52_96d1_11eb_aaf5_00e0201808a0row39_col0\" class=\"data row39 col0\" >Numeric Binning</td>\n",
       "                        <td id=\"T_78a2ed52_96d1_11eb_aaf5_00e0201808a0row39_col1\" class=\"data row39 col1\" >False</td>\n",
       "            </tr>\n",
       "            <tr>\n",
       "                        <th id=\"T_78a2ed52_96d1_11eb_aaf5_00e0201808a0level0_row40\" class=\"row_heading level0 row40\" >40</th>\n",
       "                        <td id=\"T_78a2ed52_96d1_11eb_aaf5_00e0201808a0row40_col0\" class=\"data row40 col0\" >Remove Outliers</td>\n",
       "                        <td id=\"T_78a2ed52_96d1_11eb_aaf5_00e0201808a0row40_col1\" class=\"data row40 col1\" >False</td>\n",
       "            </tr>\n",
       "            <tr>\n",
       "                        <th id=\"T_78a2ed52_96d1_11eb_aaf5_00e0201808a0level0_row41\" class=\"row_heading level0 row41\" >41</th>\n",
       "                        <td id=\"T_78a2ed52_96d1_11eb_aaf5_00e0201808a0row41_col0\" class=\"data row41 col0\" >Outliers Threshold</td>\n",
       "                        <td id=\"T_78a2ed52_96d1_11eb_aaf5_00e0201808a0row41_col1\" class=\"data row41 col1\" >None</td>\n",
       "            </tr>\n",
       "            <tr>\n",
       "                        <th id=\"T_78a2ed52_96d1_11eb_aaf5_00e0201808a0level0_row42\" class=\"row_heading level0 row42\" >42</th>\n",
       "                        <td id=\"T_78a2ed52_96d1_11eb_aaf5_00e0201808a0row42_col0\" class=\"data row42 col0\" >Remove Multicollinearity</td>\n",
       "                        <td id=\"T_78a2ed52_96d1_11eb_aaf5_00e0201808a0row42_col1\" class=\"data row42 col1\" >False</td>\n",
       "            </tr>\n",
       "            <tr>\n",
       "                        <th id=\"T_78a2ed52_96d1_11eb_aaf5_00e0201808a0level0_row43\" class=\"row_heading level0 row43\" >43</th>\n",
       "                        <td id=\"T_78a2ed52_96d1_11eb_aaf5_00e0201808a0row43_col0\" class=\"data row43 col0\" >Multicollinearity Threshold</td>\n",
       "                        <td id=\"T_78a2ed52_96d1_11eb_aaf5_00e0201808a0row43_col1\" class=\"data row43 col1\" >None</td>\n",
       "            </tr>\n",
       "            <tr>\n",
       "                        <th id=\"T_78a2ed52_96d1_11eb_aaf5_00e0201808a0level0_row44\" class=\"row_heading level0 row44\" >44</th>\n",
       "                        <td id=\"T_78a2ed52_96d1_11eb_aaf5_00e0201808a0row44_col0\" class=\"data row44 col0\" >Clustering</td>\n",
       "                        <td id=\"T_78a2ed52_96d1_11eb_aaf5_00e0201808a0row44_col1\" class=\"data row44 col1\" >False</td>\n",
       "            </tr>\n",
       "            <tr>\n",
       "                        <th id=\"T_78a2ed52_96d1_11eb_aaf5_00e0201808a0level0_row45\" class=\"row_heading level0 row45\" >45</th>\n",
       "                        <td id=\"T_78a2ed52_96d1_11eb_aaf5_00e0201808a0row45_col0\" class=\"data row45 col0\" >Clustering Iteration</td>\n",
       "                        <td id=\"T_78a2ed52_96d1_11eb_aaf5_00e0201808a0row45_col1\" class=\"data row45 col1\" >None</td>\n",
       "            </tr>\n",
       "            <tr>\n",
       "                        <th id=\"T_78a2ed52_96d1_11eb_aaf5_00e0201808a0level0_row46\" class=\"row_heading level0 row46\" >46</th>\n",
       "                        <td id=\"T_78a2ed52_96d1_11eb_aaf5_00e0201808a0row46_col0\" class=\"data row46 col0\" >Polynomial Features</td>\n",
       "                        <td id=\"T_78a2ed52_96d1_11eb_aaf5_00e0201808a0row46_col1\" class=\"data row46 col1\" >False</td>\n",
       "            </tr>\n",
       "            <tr>\n",
       "                        <th id=\"T_78a2ed52_96d1_11eb_aaf5_00e0201808a0level0_row47\" class=\"row_heading level0 row47\" >47</th>\n",
       "                        <td id=\"T_78a2ed52_96d1_11eb_aaf5_00e0201808a0row47_col0\" class=\"data row47 col0\" >Polynomial Degree</td>\n",
       "                        <td id=\"T_78a2ed52_96d1_11eb_aaf5_00e0201808a0row47_col1\" class=\"data row47 col1\" >None</td>\n",
       "            </tr>\n",
       "            <tr>\n",
       "                        <th id=\"T_78a2ed52_96d1_11eb_aaf5_00e0201808a0level0_row48\" class=\"row_heading level0 row48\" >48</th>\n",
       "                        <td id=\"T_78a2ed52_96d1_11eb_aaf5_00e0201808a0row48_col0\" class=\"data row48 col0\" >Trignometry Features</td>\n",
       "                        <td id=\"T_78a2ed52_96d1_11eb_aaf5_00e0201808a0row48_col1\" class=\"data row48 col1\" >False</td>\n",
       "            </tr>\n",
       "            <tr>\n",
       "                        <th id=\"T_78a2ed52_96d1_11eb_aaf5_00e0201808a0level0_row49\" class=\"row_heading level0 row49\" >49</th>\n",
       "                        <td id=\"T_78a2ed52_96d1_11eb_aaf5_00e0201808a0row49_col0\" class=\"data row49 col0\" >Polynomial Threshold</td>\n",
       "                        <td id=\"T_78a2ed52_96d1_11eb_aaf5_00e0201808a0row49_col1\" class=\"data row49 col1\" >None</td>\n",
       "            </tr>\n",
       "            <tr>\n",
       "                        <th id=\"T_78a2ed52_96d1_11eb_aaf5_00e0201808a0level0_row50\" class=\"row_heading level0 row50\" >50</th>\n",
       "                        <td id=\"T_78a2ed52_96d1_11eb_aaf5_00e0201808a0row50_col0\" class=\"data row50 col0\" >Group Features</td>\n",
       "                        <td id=\"T_78a2ed52_96d1_11eb_aaf5_00e0201808a0row50_col1\" class=\"data row50 col1\" >False</td>\n",
       "            </tr>\n",
       "            <tr>\n",
       "                        <th id=\"T_78a2ed52_96d1_11eb_aaf5_00e0201808a0level0_row51\" class=\"row_heading level0 row51\" >51</th>\n",
       "                        <td id=\"T_78a2ed52_96d1_11eb_aaf5_00e0201808a0row51_col0\" class=\"data row51 col0\" >Feature Selection</td>\n",
       "                        <td id=\"T_78a2ed52_96d1_11eb_aaf5_00e0201808a0row51_col1\" class=\"data row51 col1\" >False</td>\n",
       "            </tr>\n",
       "            <tr>\n",
       "                        <th id=\"T_78a2ed52_96d1_11eb_aaf5_00e0201808a0level0_row52\" class=\"row_heading level0 row52\" >52</th>\n",
       "                        <td id=\"T_78a2ed52_96d1_11eb_aaf5_00e0201808a0row52_col0\" class=\"data row52 col0\" >Feature Selection Method</td>\n",
       "                        <td id=\"T_78a2ed52_96d1_11eb_aaf5_00e0201808a0row52_col1\" class=\"data row52 col1\" >classic</td>\n",
       "            </tr>\n",
       "            <tr>\n",
       "                        <th id=\"T_78a2ed52_96d1_11eb_aaf5_00e0201808a0level0_row53\" class=\"row_heading level0 row53\" >53</th>\n",
       "                        <td id=\"T_78a2ed52_96d1_11eb_aaf5_00e0201808a0row53_col0\" class=\"data row53 col0\" >Features Selection Threshold</td>\n",
       "                        <td id=\"T_78a2ed52_96d1_11eb_aaf5_00e0201808a0row53_col1\" class=\"data row53 col1\" >None</td>\n",
       "            </tr>\n",
       "            <tr>\n",
       "                        <th id=\"T_78a2ed52_96d1_11eb_aaf5_00e0201808a0level0_row54\" class=\"row_heading level0 row54\" >54</th>\n",
       "                        <td id=\"T_78a2ed52_96d1_11eb_aaf5_00e0201808a0row54_col0\" class=\"data row54 col0\" >Feature Interaction</td>\n",
       "                        <td id=\"T_78a2ed52_96d1_11eb_aaf5_00e0201808a0row54_col1\" class=\"data row54 col1\" >False</td>\n",
       "            </tr>\n",
       "            <tr>\n",
       "                        <th id=\"T_78a2ed52_96d1_11eb_aaf5_00e0201808a0level0_row55\" class=\"row_heading level0 row55\" >55</th>\n",
       "                        <td id=\"T_78a2ed52_96d1_11eb_aaf5_00e0201808a0row55_col0\" class=\"data row55 col0\" >Feature Ratio</td>\n",
       "                        <td id=\"T_78a2ed52_96d1_11eb_aaf5_00e0201808a0row55_col1\" class=\"data row55 col1\" >False</td>\n",
       "            </tr>\n",
       "            <tr>\n",
       "                        <th id=\"T_78a2ed52_96d1_11eb_aaf5_00e0201808a0level0_row56\" class=\"row_heading level0 row56\" >56</th>\n",
       "                        <td id=\"T_78a2ed52_96d1_11eb_aaf5_00e0201808a0row56_col0\" class=\"data row56 col0\" >Interaction Threshold</td>\n",
       "                        <td id=\"T_78a2ed52_96d1_11eb_aaf5_00e0201808a0row56_col1\" class=\"data row56 col1\" >None</td>\n",
       "            </tr>\n",
       "            <tr>\n",
       "                        <th id=\"T_78a2ed52_96d1_11eb_aaf5_00e0201808a0level0_row57\" class=\"row_heading level0 row57\" >57</th>\n",
       "                        <td id=\"T_78a2ed52_96d1_11eb_aaf5_00e0201808a0row57_col0\" class=\"data row57 col0\" >Fix Imbalance</td>\n",
       "                        <td id=\"T_78a2ed52_96d1_11eb_aaf5_00e0201808a0row57_col1\" class=\"data row57 col1\" >False</td>\n",
       "            </tr>\n",
       "            <tr>\n",
       "                        <th id=\"T_78a2ed52_96d1_11eb_aaf5_00e0201808a0level0_row58\" class=\"row_heading level0 row58\" >58</th>\n",
       "                        <td id=\"T_78a2ed52_96d1_11eb_aaf5_00e0201808a0row58_col0\" class=\"data row58 col0\" >Fix Imbalance Method</td>\n",
       "                        <td id=\"T_78a2ed52_96d1_11eb_aaf5_00e0201808a0row58_col1\" class=\"data row58 col1\" >SMOTE</td>\n",
       "            </tr>\n",
       "    </tbody></table>"
      ],
      "text/plain": [
       "<pandas.io.formats.style.Styler at 0x2262bbb7d08>"
      ]
     },
     "metadata": {},
     "output_type": "display_data"
    },
    {
     "name": "stdout",
     "output_type": "stream",
     "text": [
      "Wall time: 3.23 s\n"
     ]
    }
   ],
   "source": [
    "%%time\n",
    "clf = setup(session_id=seed, \n",
    "            data = train, target = 'credit'\n",
    "          , categorical_features=col\n",
    "          , numeric_features = ['child_num','family_size']#,,'tp17','tp4','Q_A15','Q_A3','Q_A15tp17','Q_A3tp4']#['Q_A1','Q_A3','Q_A5','tp17','tp4','Q_A15tp17','Q_A3tp4']\n",
    "          #, ignore_features =[]\n",
    "           )"
   ]
  },
  {
   "cell_type": "code",
   "execution_count": 24,
   "metadata": {},
   "outputs": [
    {
     "data": {
      "text/plain": [
       "Name                                                           LogLoss\n",
       "Display Name                                                   LogLoss\n",
       "Score Function               <function log_loss at 0x0000022624EE50D8>\n",
       "Scorer               make_scorer(log_loss, greater_is_better=False,...\n",
       "Target                                                      pred_proba\n",
       "Args                                                                {}\n",
       "Greater is Better                                                False\n",
       "Multiclass                                                        True\n",
       "Custom                                                            True\n",
       "Name: logloss, dtype: object"
      ]
     },
     "execution_count": 24,
     "metadata": {},
     "output_type": "execute_result"
    }
   ],
   "source": [
    "#logloss 적용 및 predict_proba로 제출하기 위해 metric 추가\n",
    "add_metric('logloss', 'LogLoss', log_loss, greater_is_better=False, target=\"pred_proba\")"
   ]
  },
  {
   "cell_type": "code",
   "execution_count": 25,
   "metadata": {},
   "outputs": [
    {
     "data": {
      "text/html": [
       "<style  type=\"text/css\" >\n",
       "    #T_f6845a66_96d1_11eb_8282_00e0201808a0 th {\n",
       "          text-align: left;\n",
       "    }#T_f6845a66_96d1_11eb_8282_00e0201808a0row0_col0,#T_f6845a66_96d1_11eb_8282_00e0201808a0row0_col1,#T_f6845a66_96d1_11eb_8282_00e0201808a0row0_col2,#T_f6845a66_96d1_11eb_8282_00e0201808a0row0_col3,#T_f6845a66_96d1_11eb_8282_00e0201808a0row0_col4,#T_f6845a66_96d1_11eb_8282_00e0201808a0row0_col5,#T_f6845a66_96d1_11eb_8282_00e0201808a0row0_col6,#T_f6845a66_96d1_11eb_8282_00e0201808a0row0_col7,#T_f6845a66_96d1_11eb_8282_00e0201808a0row1_col0,#T_f6845a66_96d1_11eb_8282_00e0201808a0row1_col1,#T_f6845a66_96d1_11eb_8282_00e0201808a0row1_col2,#T_f6845a66_96d1_11eb_8282_00e0201808a0row1_col3,#T_f6845a66_96d1_11eb_8282_00e0201808a0row1_col5,#T_f6845a66_96d1_11eb_8282_00e0201808a0row1_col6,#T_f6845a66_96d1_11eb_8282_00e0201808a0row1_col7,#T_f6845a66_96d1_11eb_8282_00e0201808a0row1_col8,#T_f6845a66_96d1_11eb_8282_00e0201808a0row2_col0,#T_f6845a66_96d1_11eb_8282_00e0201808a0row2_col1,#T_f6845a66_96d1_11eb_8282_00e0201808a0row2_col2,#T_f6845a66_96d1_11eb_8282_00e0201808a0row2_col3,#T_f6845a66_96d1_11eb_8282_00e0201808a0row2_col4,#T_f6845a66_96d1_11eb_8282_00e0201808a0row2_col5,#T_f6845a66_96d1_11eb_8282_00e0201808a0row2_col6,#T_f6845a66_96d1_11eb_8282_00e0201808a0row2_col7,#T_f6845a66_96d1_11eb_8282_00e0201808a0row2_col8,#T_f6845a66_96d1_11eb_8282_00e0201808a0row3_col0,#T_f6845a66_96d1_11eb_8282_00e0201808a0row3_col4,#T_f6845a66_96d1_11eb_8282_00e0201808a0row3_col8{\n",
       "            text-align:  left;\n",
       "            text-align:  left;\n",
       "        }#T_f6845a66_96d1_11eb_8282_00e0201808a0row0_col8,#T_f6845a66_96d1_11eb_8282_00e0201808a0row1_col4,#T_f6845a66_96d1_11eb_8282_00e0201808a0row3_col1,#T_f6845a66_96d1_11eb_8282_00e0201808a0row3_col2,#T_f6845a66_96d1_11eb_8282_00e0201808a0row3_col3,#T_f6845a66_96d1_11eb_8282_00e0201808a0row3_col5,#T_f6845a66_96d1_11eb_8282_00e0201808a0row3_col6,#T_f6845a66_96d1_11eb_8282_00e0201808a0row3_col7{\n",
       "            text-align:  left;\n",
       "            text-align:  left;\n",
       "            background-color:  yellow;\n",
       "        }#T_f6845a66_96d1_11eb_8282_00e0201808a0row0_col9,#T_f6845a66_96d1_11eb_8282_00e0201808a0row2_col9,#T_f6845a66_96d1_11eb_8282_00e0201808a0row3_col9{\n",
       "            text-align:  left;\n",
       "            text-align:  left;\n",
       "            background-color:  lightgrey;\n",
       "        }#T_f6845a66_96d1_11eb_8282_00e0201808a0row1_col9{\n",
       "            text-align:  left;\n",
       "            text-align:  left;\n",
       "            background-color:  yellow;\n",
       "            background-color:  lightgrey;\n",
       "        }</style><table id=\"T_f6845a66_96d1_11eb_8282_00e0201808a0\" ><thead>    <tr>        <th class=\"blank level0\" ></th>        <th class=\"col_heading level0 col0\" >Model</th>        <th class=\"col_heading level0 col1\" >Accuracy</th>        <th class=\"col_heading level0 col2\" >AUC</th>        <th class=\"col_heading level0 col3\" >Recall</th>        <th class=\"col_heading level0 col4\" >Prec.</th>        <th class=\"col_heading level0 col5\" >F1</th>        <th class=\"col_heading level0 col6\" >Kappa</th>        <th class=\"col_heading level0 col7\" >MCC</th>        <th class=\"col_heading level0 col8\" >LogLoss</th>        <th class=\"col_heading level0 col9\" >TT (Sec)</th>    </tr></thead><tbody>\n",
       "                <tr>\n",
       "                        <th id=\"T_f6845a66_96d1_11eb_8282_00e0201808a0level0_row0\" class=\"row_heading level0 row0\" >catboost</th>\n",
       "                        <td id=\"T_f6845a66_96d1_11eb_8282_00e0201808a0row0_col0\" class=\"data row0 col0\" >CatBoost Classifier</td>\n",
       "                        <td id=\"T_f6845a66_96d1_11eb_8282_00e0201808a0row0_col1\" class=\"data row0 col1\" >0.7025</td>\n",
       "                        <td id=\"T_f6845a66_96d1_11eb_8282_00e0201808a0row0_col2\" class=\"data row0 col2\" >0.6983</td>\n",
       "                        <td id=\"T_f6845a66_96d1_11eb_8282_00e0201808a0row0_col3\" class=\"data row0 col3\" >0.4357</td>\n",
       "                        <td id=\"T_f6845a66_96d1_11eb_8282_00e0201808a0row0_col4\" class=\"data row0 col4\" >0.6936</td>\n",
       "                        <td id=\"T_f6845a66_96d1_11eb_8282_00e0201808a0row0_col5\" class=\"data row0 col5\" >0.6321</td>\n",
       "                        <td id=\"T_f6845a66_96d1_11eb_8282_00e0201808a0row0_col6\" class=\"data row0 col6\" >0.2550</td>\n",
       "                        <td id=\"T_f6845a66_96d1_11eb_8282_00e0201808a0row0_col7\" class=\"data row0 col7\" >0.3287</td>\n",
       "                        <td id=\"T_f6845a66_96d1_11eb_8282_00e0201808a0row0_col8\" class=\"data row0 col8\" >0.7698</td>\n",
       "                        <td id=\"T_f6845a66_96d1_11eb_8282_00e0201808a0row0_col9\" class=\"data row0 col9\" >12.2780</td>\n",
       "            </tr>\n",
       "            <tr>\n",
       "                        <th id=\"T_f6845a66_96d1_11eb_8282_00e0201808a0level0_row1\" class=\"row_heading level0 row1\" >lightgbm</th>\n",
       "                        <td id=\"T_f6845a66_96d1_11eb_8282_00e0201808a0row1_col0\" class=\"data row1 col0\" >Light Gradient Boosting Machine</td>\n",
       "                        <td id=\"T_f6845a66_96d1_11eb_8282_00e0201808a0row1_col1\" class=\"data row1 col1\" >0.6987</td>\n",
       "                        <td id=\"T_f6845a66_96d1_11eb_8282_00e0201808a0row1_col2\" class=\"data row1 col2\" >0.6904</td>\n",
       "                        <td id=\"T_f6845a66_96d1_11eb_8282_00e0201808a0row1_col3\" class=\"data row1 col3\" >0.4190</td>\n",
       "                        <td id=\"T_f6845a66_96d1_11eb_8282_00e0201808a0row1_col4\" class=\"data row1 col4\" >0.7035</td>\n",
       "                        <td id=\"T_f6845a66_96d1_11eb_8282_00e0201808a0row1_col5\" class=\"data row1 col5\" >0.6179</td>\n",
       "                        <td id=\"T_f6845a66_96d1_11eb_8282_00e0201808a0row1_col6\" class=\"data row1 col6\" >0.2283</td>\n",
       "                        <td id=\"T_f6845a66_96d1_11eb_8282_00e0201808a0row1_col7\" class=\"data row1 col7\" >0.3182</td>\n",
       "                        <td id=\"T_f6845a66_96d1_11eb_8282_00e0201808a0row1_col8\" class=\"data row1 col8\" >0.7734</td>\n",
       "                        <td id=\"T_f6845a66_96d1_11eb_8282_00e0201808a0row1_col9\" class=\"data row1 col9\" >0.3780</td>\n",
       "            </tr>\n",
       "            <tr>\n",
       "                        <th id=\"T_f6845a66_96d1_11eb_8282_00e0201808a0level0_row2\" class=\"row_heading level0 row2\" >gbc</th>\n",
       "                        <td id=\"T_f6845a66_96d1_11eb_8282_00e0201808a0row2_col0\" class=\"data row2 col0\" >Gradient Boosting Classifier</td>\n",
       "                        <td id=\"T_f6845a66_96d1_11eb_8282_00e0201808a0row2_col1\" class=\"data row2 col1\" >0.6924</td>\n",
       "                        <td id=\"T_f6845a66_96d1_11eb_8282_00e0201808a0row2_col2\" class=\"data row2 col2\" >0.6449</td>\n",
       "                        <td id=\"T_f6845a66_96d1_11eb_8282_00e0201808a0row2_col3\" class=\"data row2 col3\" >0.4066</td>\n",
       "                        <td id=\"T_f6845a66_96d1_11eb_8282_00e0201808a0row2_col4\" class=\"data row2 col4\" >0.6468</td>\n",
       "                        <td id=\"T_f6845a66_96d1_11eb_8282_00e0201808a0row2_col5\" class=\"data row2 col5\" >0.6054</td>\n",
       "                        <td id=\"T_f6845a66_96d1_11eb_8282_00e0201808a0row2_col6\" class=\"data row2 col6\" >0.2033</td>\n",
       "                        <td id=\"T_f6845a66_96d1_11eb_8282_00e0201808a0row2_col7\" class=\"data row2 col7\" >0.2979</td>\n",
       "                        <td id=\"T_f6845a66_96d1_11eb_8282_00e0201808a0row2_col8\" class=\"data row2 col8\" >0.7998</td>\n",
       "                        <td id=\"T_f6845a66_96d1_11eb_8282_00e0201808a0row2_col9\" class=\"data row2 col9\" >4.1830</td>\n",
       "            </tr>\n",
       "            <tr>\n",
       "                        <th id=\"T_f6845a66_96d1_11eb_8282_00e0201808a0level0_row3\" class=\"row_heading level0 row3\" >rf</th>\n",
       "                        <td id=\"T_f6845a66_96d1_11eb_8282_00e0201808a0row3_col0\" class=\"data row3 col0\" >Random Forest Classifier</td>\n",
       "                        <td id=\"T_f6845a66_96d1_11eb_8282_00e0201808a0row3_col1\" class=\"data row3 col1\" >0.7093</td>\n",
       "                        <td id=\"T_f6845a66_96d1_11eb_8282_00e0201808a0row3_col2\" class=\"data row3 col2\" >0.7375</td>\n",
       "                        <td id=\"T_f6845a66_96d1_11eb_8282_00e0201808a0row3_col3\" class=\"data row3 col3\" >0.4892</td>\n",
       "                        <td id=\"T_f6845a66_96d1_11eb_8282_00e0201808a0row3_col4\" class=\"data row3 col4\" >0.6835</td>\n",
       "                        <td id=\"T_f6845a66_96d1_11eb_8282_00e0201808a0row3_col5\" class=\"data row3 col5\" >0.6682</td>\n",
       "                        <td id=\"T_f6845a66_96d1_11eb_8282_00e0201808a0row3_col6\" class=\"data row3 col6\" >0.3265</td>\n",
       "                        <td id=\"T_f6845a66_96d1_11eb_8282_00e0201808a0row3_col7\" class=\"data row3 col7\" >0.3597</td>\n",
       "                        <td id=\"T_f6845a66_96d1_11eb_8282_00e0201808a0row3_col8\" class=\"data row3 col8\" >0.8069</td>\n",
       "                        <td id=\"T_f6845a66_96d1_11eb_8282_00e0201808a0row3_col9\" class=\"data row3 col9\" >1.2730</td>\n",
       "            </tr>\n",
       "    </tbody></table>"
      ],
      "text/plain": [
       "<pandas.io.formats.style.Styler at 0x22629c45ac8>"
      ]
     },
     "metadata": {},
     "output_type": "display_data"
    }
   ],
   "source": [
    "#best5 = compare_models(fold = 5, sort = 'logloss', n_select = 5, exclude=['svm','ridge'])\n",
    "best_4 = compare_models(sort = 'LogLoss', n_select = 4\n",
    "                       ,exclude=['lr', 'knn', 'nb', 'dt', 'svm', 'rbfsvm', 'ridge','qda'\\\n",
    "                                 ,'et','ada','lda']\n",
    "                       #,exclude=['lr', 'knn', 'nb', 'dt', 'svm', 'rbfsvm', 'gpc', 'mlp', 'ridge', 'rf', 'qda', 'ada', 'xgboost']\n",
    "                       )"
   ]
  },
  {
   "cell_type": "code",
   "execution_count": 26,
   "metadata": {},
   "outputs": [
    {
     "data": {
      "text/html": [
       "<style  type=\"text/css\" >\n",
       "#T_39bcedc2_96d2_11eb_8e7b_00e0201808a0row5_col0,#T_39bcedc2_96d2_11eb_8e7b_00e0201808a0row5_col1,#T_39bcedc2_96d2_11eb_8e7b_00e0201808a0row5_col2,#T_39bcedc2_96d2_11eb_8e7b_00e0201808a0row5_col3,#T_39bcedc2_96d2_11eb_8e7b_00e0201808a0row5_col4,#T_39bcedc2_96d2_11eb_8e7b_00e0201808a0row5_col5,#T_39bcedc2_96d2_11eb_8e7b_00e0201808a0row5_col6,#T_39bcedc2_96d2_11eb_8e7b_00e0201808a0row5_col7{\n",
       "            background:  yellow;\n",
       "        }</style><table id=\"T_39bcedc2_96d2_11eb_8e7b_00e0201808a0\" ><thead>    <tr>        <th class=\"blank level0\" ></th>        <th class=\"col_heading level0 col0\" >Accuracy</th>        <th class=\"col_heading level0 col1\" >AUC</th>        <th class=\"col_heading level0 col2\" >Recall</th>        <th class=\"col_heading level0 col3\" >Prec.</th>        <th class=\"col_heading level0 col4\" >F1</th>        <th class=\"col_heading level0 col5\" >Kappa</th>        <th class=\"col_heading level0 col6\" >MCC</th>        <th class=\"col_heading level0 col7\" >LogLoss</th>    </tr></thead><tbody>\n",
       "                <tr>\n",
       "                        <th id=\"T_39bcedc2_96d2_11eb_8e7b_00e0201808a0level0_row0\" class=\"row_heading level0 row0\" >0</th>\n",
       "                        <td id=\"T_39bcedc2_96d2_11eb_8e7b_00e0201808a0row0_col0\" class=\"data row0 col0\" >0.7028</td>\n",
       "                        <td id=\"T_39bcedc2_96d2_11eb_8e7b_00e0201808a0row0_col1\" class=\"data row0 col1\" >0.7171</td>\n",
       "                        <td id=\"T_39bcedc2_96d2_11eb_8e7b_00e0201808a0row0_col2\" class=\"data row0 col2\" >0.4273</td>\n",
       "                        <td id=\"T_39bcedc2_96d2_11eb_8e7b_00e0201808a0row0_col3\" class=\"data row0 col3\" >0.7065</td>\n",
       "                        <td id=\"T_39bcedc2_96d2_11eb_8e7b_00e0201808a0row0_col4\" class=\"data row0 col4\" >0.6261</td>\n",
       "                        <td id=\"T_39bcedc2_96d2_11eb_8e7b_00e0201808a0row0_col5\" class=\"data row0 col5\" >0.2452</td>\n",
       "                        <td id=\"T_39bcedc2_96d2_11eb_8e7b_00e0201808a0row0_col6\" class=\"data row0 col6\" >0.3304</td>\n",
       "                        <td id=\"T_39bcedc2_96d2_11eb_8e7b_00e0201808a0row0_col7\" class=\"data row0 col7\" >0.7532</td>\n",
       "            </tr>\n",
       "            <tr>\n",
       "                        <th id=\"T_39bcedc2_96d2_11eb_8e7b_00e0201808a0level0_row1\" class=\"row_heading level0 row1\" >1</th>\n",
       "                        <td id=\"T_39bcedc2_96d2_11eb_8e7b_00e0201808a0row1_col0\" class=\"data row1 col0\" >0.6971</td>\n",
       "                        <td id=\"T_39bcedc2_96d2_11eb_8e7b_00e0201808a0row1_col1\" class=\"data row1 col1\" >0.7084</td>\n",
       "                        <td id=\"T_39bcedc2_96d2_11eb_8e7b_00e0201808a0row1_col2\" class=\"data row1 col2\" >0.4206</td>\n",
       "                        <td id=\"T_39bcedc2_96d2_11eb_8e7b_00e0201808a0row1_col3\" class=\"data row1 col3\" >0.6798</td>\n",
       "                        <td id=\"T_39bcedc2_96d2_11eb_8e7b_00e0201808a0row1_col4\" class=\"data row1 col4\" >0.6190</td>\n",
       "                        <td id=\"T_39bcedc2_96d2_11eb_8e7b_00e0201808a0row1_col5\" class=\"data row1 col5\" >0.2289</td>\n",
       "                        <td id=\"T_39bcedc2_96d2_11eb_8e7b_00e0201808a0row1_col6\" class=\"data row1 col6\" >0.3115</td>\n",
       "                        <td id=\"T_39bcedc2_96d2_11eb_8e7b_00e0201808a0row1_col7\" class=\"data row1 col7\" >0.7628</td>\n",
       "            </tr>\n",
       "            <tr>\n",
       "                        <th id=\"T_39bcedc2_96d2_11eb_8e7b_00e0201808a0level0_row2\" class=\"row_heading level0 row2\" >2</th>\n",
       "                        <td id=\"T_39bcedc2_96d2_11eb_8e7b_00e0201808a0row2_col0\" class=\"data row2 col0\" >0.6976</td>\n",
       "                        <td id=\"T_39bcedc2_96d2_11eb_8e7b_00e0201808a0row2_col1\" class=\"data row2 col1\" >0.7321</td>\n",
       "                        <td id=\"T_39bcedc2_96d2_11eb_8e7b_00e0201808a0row2_col2\" class=\"data row2 col2\" >0.4203</td>\n",
       "                        <td id=\"T_39bcedc2_96d2_11eb_8e7b_00e0201808a0row2_col3\" class=\"data row2 col3\" >0.6967</td>\n",
       "                        <td id=\"T_39bcedc2_96d2_11eb_8e7b_00e0201808a0row2_col4\" class=\"data row2 col4\" >0.6183</td>\n",
       "                        <td id=\"T_39bcedc2_96d2_11eb_8e7b_00e0201808a0row2_col5\" class=\"data row2 col5\" >0.2275</td>\n",
       "                        <td id=\"T_39bcedc2_96d2_11eb_8e7b_00e0201808a0row2_col6\" class=\"data row2 col6\" >0.3150</td>\n",
       "                        <td id=\"T_39bcedc2_96d2_11eb_8e7b_00e0201808a0row2_col7\" class=\"data row2 col7\" >0.7523</td>\n",
       "            </tr>\n",
       "            <tr>\n",
       "                        <th id=\"T_39bcedc2_96d2_11eb_8e7b_00e0201808a0level0_row3\" class=\"row_heading level0 row3\" >3</th>\n",
       "                        <td id=\"T_39bcedc2_96d2_11eb_8e7b_00e0201808a0row3_col0\" class=\"data row3 col0\" >0.7011</td>\n",
       "                        <td id=\"T_39bcedc2_96d2_11eb_8e7b_00e0201808a0row3_col1\" class=\"data row3 col1\" >0.7220</td>\n",
       "                        <td id=\"T_39bcedc2_96d2_11eb_8e7b_00e0201808a0row3_col2\" class=\"data row3 col2\" >0.4240</td>\n",
       "                        <td id=\"T_39bcedc2_96d2_11eb_8e7b_00e0201808a0row3_col3\" class=\"data row3 col3\" >0.6903</td>\n",
       "                        <td id=\"T_39bcedc2_96d2_11eb_8e7b_00e0201808a0row3_col4\" class=\"data row3 col4\" >0.6228</td>\n",
       "                        <td id=\"T_39bcedc2_96d2_11eb_8e7b_00e0201808a0row3_col5\" class=\"data row3 col5\" >0.2391</td>\n",
       "                        <td id=\"T_39bcedc2_96d2_11eb_8e7b_00e0201808a0row3_col6\" class=\"data row3 col6\" >0.3268</td>\n",
       "                        <td id=\"T_39bcedc2_96d2_11eb_8e7b_00e0201808a0row3_col7\" class=\"data row3 col7\" >0.7536</td>\n",
       "            </tr>\n",
       "            <tr>\n",
       "                        <th id=\"T_39bcedc2_96d2_11eb_8e7b_00e0201808a0level0_row4\" class=\"row_heading level0 row4\" >4</th>\n",
       "                        <td id=\"T_39bcedc2_96d2_11eb_8e7b_00e0201808a0row4_col0\" class=\"data row4 col0\" >0.7013</td>\n",
       "                        <td id=\"T_39bcedc2_96d2_11eb_8e7b_00e0201808a0row4_col1\" class=\"data row4 col1\" >0.7286</td>\n",
       "                        <td id=\"T_39bcedc2_96d2_11eb_8e7b_00e0201808a0row4_col2\" class=\"data row4 col2\" >0.4221</td>\n",
       "                        <td id=\"T_39bcedc2_96d2_11eb_8e7b_00e0201808a0row4_col3\" class=\"data row4 col3\" >0.7043</td>\n",
       "                        <td id=\"T_39bcedc2_96d2_11eb_8e7b_00e0201808a0row4_col4\" class=\"data row4 col4\" >0.6217</td>\n",
       "                        <td id=\"T_39bcedc2_96d2_11eb_8e7b_00e0201808a0row4_col5\" class=\"data row4 col5\" >0.2371</td>\n",
       "                        <td id=\"T_39bcedc2_96d2_11eb_8e7b_00e0201808a0row4_col6\" class=\"data row4 col6\" >0.3259</td>\n",
       "                        <td id=\"T_39bcedc2_96d2_11eb_8e7b_00e0201808a0row4_col7\" class=\"data row4 col7\" >0.7491</td>\n",
       "            </tr>\n",
       "            <tr>\n",
       "                        <th id=\"T_39bcedc2_96d2_11eb_8e7b_00e0201808a0level0_row5\" class=\"row_heading level0 row5\" >Mean</th>\n",
       "                        <td id=\"T_39bcedc2_96d2_11eb_8e7b_00e0201808a0row5_col0\" class=\"data row5 col0\" >0.7000</td>\n",
       "                        <td id=\"T_39bcedc2_96d2_11eb_8e7b_00e0201808a0row5_col1\" class=\"data row5 col1\" >0.7216</td>\n",
       "                        <td id=\"T_39bcedc2_96d2_11eb_8e7b_00e0201808a0row5_col2\" class=\"data row5 col2\" >0.4229</td>\n",
       "                        <td id=\"T_39bcedc2_96d2_11eb_8e7b_00e0201808a0row5_col3\" class=\"data row5 col3\" >0.6955</td>\n",
       "                        <td id=\"T_39bcedc2_96d2_11eb_8e7b_00e0201808a0row5_col4\" class=\"data row5 col4\" >0.6216</td>\n",
       "                        <td id=\"T_39bcedc2_96d2_11eb_8e7b_00e0201808a0row5_col5\" class=\"data row5 col5\" >0.2356</td>\n",
       "                        <td id=\"T_39bcedc2_96d2_11eb_8e7b_00e0201808a0row5_col6\" class=\"data row5 col6\" >0.3219</td>\n",
       "                        <td id=\"T_39bcedc2_96d2_11eb_8e7b_00e0201808a0row5_col7\" class=\"data row5 col7\" >0.7542</td>\n",
       "            </tr>\n",
       "            <tr>\n",
       "                        <th id=\"T_39bcedc2_96d2_11eb_8e7b_00e0201808a0level0_row6\" class=\"row_heading level0 row6\" >SD</th>\n",
       "                        <td id=\"T_39bcedc2_96d2_11eb_8e7b_00e0201808a0row6_col0\" class=\"data row6 col0\" >0.0022</td>\n",
       "                        <td id=\"T_39bcedc2_96d2_11eb_8e7b_00e0201808a0row6_col1\" class=\"data row6 col1\" >0.0084</td>\n",
       "                        <td id=\"T_39bcedc2_96d2_11eb_8e7b_00e0201808a0row6_col2\" class=\"data row6 col2\" >0.0026</td>\n",
       "                        <td id=\"T_39bcedc2_96d2_11eb_8e7b_00e0201808a0row6_col3\" class=\"data row6 col3\" >0.0097</td>\n",
       "                        <td id=\"T_39bcedc2_96d2_11eb_8e7b_00e0201808a0row6_col4\" class=\"data row6 col4\" >0.0028</td>\n",
       "                        <td id=\"T_39bcedc2_96d2_11eb_8e7b_00e0201808a0row6_col5\" class=\"data row6 col5\" >0.0066</td>\n",
       "                        <td id=\"T_39bcedc2_96d2_11eb_8e7b_00e0201808a0row6_col6\" class=\"data row6 col6\" >0.0073</td>\n",
       "                        <td id=\"T_39bcedc2_96d2_11eb_8e7b_00e0201808a0row6_col7\" class=\"data row6 col7\" >0.0046</td>\n",
       "            </tr>\n",
       "    </tbody></table>"
      ],
      "text/plain": [
       "<pandas.io.formats.style.Styler at 0x2262cc7a548>"
      ]
     },
     "metadata": {},
     "output_type": "display_data"
    },
    {
     "data": {
      "text/html": [
       "<style  type=\"text/css\" >\n",
       "</style><table id=\"T_3a31399c_96d2_11eb_93ae_00e0201808a0\" ><thead>    <tr>        <th class=\"blank level0\" ></th>        <th class=\"col_heading level0 col0\" >Model</th>        <th class=\"col_heading level0 col1\" >Accuracy</th>        <th class=\"col_heading level0 col2\" >AUC</th>        <th class=\"col_heading level0 col3\" >Recall</th>        <th class=\"col_heading level0 col4\" >Prec.</th>        <th class=\"col_heading level0 col5\" >F1</th>        <th class=\"col_heading level0 col6\" >Kappa</th>        <th class=\"col_heading level0 col7\" >MCC</th>        <th class=\"col_heading level0 col8\" >LogLoss</th>    </tr></thead><tbody>\n",
       "                <tr>\n",
       "                        <th id=\"T_3a31399c_96d2_11eb_93ae_00e0201808a0level0_row0\" class=\"row_heading level0 row0\" >0</th>\n",
       "                        <td id=\"T_3a31399c_96d2_11eb_93ae_00e0201808a0row0_col0\" class=\"data row0 col0\" >Voting Classifier</td>\n",
       "                        <td id=\"T_3a31399c_96d2_11eb_93ae_00e0201808a0row0_col1\" class=\"data row0 col1\" >0.6954</td>\n",
       "                        <td id=\"T_3a31399c_96d2_11eb_93ae_00e0201808a0row0_col2\" class=\"data row0 col2\" >0.7339</td>\n",
       "                        <td id=\"T_3a31399c_96d2_11eb_93ae_00e0201808a0row0_col3\" class=\"data row0 col3\" >0.4264</td>\n",
       "                        <td id=\"T_3a31399c_96d2_11eb_93ae_00e0201808a0row0_col4\" class=\"data row0 col4\" >0.6980</td>\n",
       "                        <td id=\"T_3a31399c_96d2_11eb_93ae_00e0201808a0row0_col5\" class=\"data row0 col5\" >0.6170</td>\n",
       "                        <td id=\"T_3a31399c_96d2_11eb_93ae_00e0201808a0row0_col6\" class=\"data row0 col6\" >0.2400</td>\n",
       "                        <td id=\"T_3a31399c_96d2_11eb_93ae_00e0201808a0row0_col7\" class=\"data row0 col7\" >0.3252</td>\n",
       "                        <td id=\"T_3a31399c_96d2_11eb_93ae_00e0201808a0row0_col8\" class=\"data row0 col8\" >0.7545</td>\n",
       "            </tr>\n",
       "    </tbody></table>"
      ],
      "text/plain": [
       "<pandas.io.formats.style.Styler at 0x2262b1d0fc8>"
      ]
     },
     "metadata": {},
     "output_type": "display_data"
    }
   ],
   "source": [
    "blended = blend_models(estimator_list = best_4, fold = 5, optimize = 'logloss')\n",
    "pred_holdout = predict_model(blended)"
   ]
  },
  {
   "cell_type": "code",
   "execution_count": 27,
   "metadata": {},
   "outputs": [],
   "source": [
    "final_model = finalize_model(blended)"
   ]
  },
  {
   "cell_type": "code",
   "execution_count": 28,
   "metadata": {},
   "outputs": [],
   "source": [
    "predictions = predict_model(final_model, data = test)"
   ]
  },
  {
   "cell_type": "code",
   "execution_count": 29,
   "metadata": {},
   "outputs": [
    {
     "data": {
      "text/plain": [
       "array([[0.07050165, 0.15956567, 0.76993267],\n",
       "       [0.16365959, 0.14809718, 0.68824324],\n",
       "       [0.08065095, 0.17186751, 0.74748154],\n",
       "       ...,\n",
       "       [0.040429  , 0.12597437, 0.83359663],\n",
       "       [0.11764448, 0.19276428, 0.68959123],\n",
       "       [0.10452126, 0.24076152, 0.65471722]])"
      ]
     },
     "execution_count": 29,
     "metadata": {},
     "output_type": "execute_result"
    }
   ],
   "source": [
    "prep_pipe = get_config(\"prep_pipe\")\n",
    "prep_pipe.steps.append(['trained_model', final_model])\n",
    "prections = prep_pipe.predict_proba(test)\n",
    "prections"
   ]
  },
  {
   "cell_type": "code",
   "execution_count": 30,
   "metadata": {},
   "outputs": [
    {
     "data": {
      "text/html": [
       "<div>\n",
       "<style scoped>\n",
       "    .dataframe tbody tr th:only-of-type {\n",
       "        vertical-align: middle;\n",
       "    }\n",
       "\n",
       "    .dataframe tbody tr th {\n",
       "        vertical-align: top;\n",
       "    }\n",
       "\n",
       "    .dataframe thead th {\n",
       "        text-align: right;\n",
       "    }\n",
       "</style>\n",
       "<table border=\"1\" class=\"dataframe\">\n",
       "  <thead>\n",
       "    <tr style=\"text-align: right;\">\n",
       "      <th></th>\n",
       "      <th>0</th>\n",
       "      <th>1</th>\n",
       "      <th>2</th>\n",
       "    </tr>\n",
       "    <tr>\n",
       "      <th>index</th>\n",
       "      <th></th>\n",
       "      <th></th>\n",
       "      <th></th>\n",
       "    </tr>\n",
       "  </thead>\n",
       "  <tbody>\n",
       "    <tr>\n",
       "      <th>26457</th>\n",
       "      <td>0.070502</td>\n",
       "      <td>0.159566</td>\n",
       "      <td>0.769933</td>\n",
       "    </tr>\n",
       "    <tr>\n",
       "      <th>26458</th>\n",
       "      <td>0.163660</td>\n",
       "      <td>0.148097</td>\n",
       "      <td>0.688243</td>\n",
       "    </tr>\n",
       "    <tr>\n",
       "      <th>26459</th>\n",
       "      <td>0.080651</td>\n",
       "      <td>0.171868</td>\n",
       "      <td>0.747482</td>\n",
       "    </tr>\n",
       "    <tr>\n",
       "      <th>26460</th>\n",
       "      <td>0.130709</td>\n",
       "      <td>0.132299</td>\n",
       "      <td>0.736992</td>\n",
       "    </tr>\n",
       "    <tr>\n",
       "      <th>26461</th>\n",
       "      <td>0.114025</td>\n",
       "      <td>0.216574</td>\n",
       "      <td>0.669401</td>\n",
       "    </tr>\n",
       "    <tr>\n",
       "      <th>...</th>\n",
       "      <td>...</td>\n",
       "      <td>...</td>\n",
       "      <td>...</td>\n",
       "    </tr>\n",
       "    <tr>\n",
       "      <th>36452</th>\n",
       "      <td>0.160151</td>\n",
       "      <td>0.223049</td>\n",
       "      <td>0.616800</td>\n",
       "    </tr>\n",
       "    <tr>\n",
       "      <th>36453</th>\n",
       "      <td>0.169215</td>\n",
       "      <td>0.248977</td>\n",
       "      <td>0.581808</td>\n",
       "    </tr>\n",
       "    <tr>\n",
       "      <th>36454</th>\n",
       "      <td>0.040429</td>\n",
       "      <td>0.125974</td>\n",
       "      <td>0.833597</td>\n",
       "    </tr>\n",
       "    <tr>\n",
       "      <th>36455</th>\n",
       "      <td>0.117644</td>\n",
       "      <td>0.192764</td>\n",
       "      <td>0.689591</td>\n",
       "    </tr>\n",
       "    <tr>\n",
       "      <th>36456</th>\n",
       "      <td>0.104521</td>\n",
       "      <td>0.240762</td>\n",
       "      <td>0.654717</td>\n",
       "    </tr>\n",
       "  </tbody>\n",
       "</table>\n",
       "<p>10000 rows × 3 columns</p>\n",
       "</div>"
      ],
      "text/plain": [
       "              0         1         2\n",
       "index                              \n",
       "26457  0.070502  0.159566  0.769933\n",
       "26458  0.163660  0.148097  0.688243\n",
       "26459  0.080651  0.171868  0.747482\n",
       "26460  0.130709  0.132299  0.736992\n",
       "26461  0.114025  0.216574  0.669401\n",
       "...         ...       ...       ...\n",
       "36452  0.160151  0.223049  0.616800\n",
       "36453  0.169215  0.248977  0.581808\n",
       "36454  0.040429  0.125974  0.833597\n",
       "36455  0.117644  0.192764  0.689591\n",
       "36456  0.104521  0.240762  0.654717\n",
       "\n",
       "[10000 rows x 3 columns]"
      ]
     },
     "execution_count": 30,
     "metadata": {},
     "output_type": "execute_result"
    }
   ],
   "source": [
    "submission['0'] = prections[:,0]\n",
    "submission['1'] = prections[:,1]\n",
    "submission['2'] = prections[:,2]\n",
    "submission"
   ]
  },
  {
   "cell_type": "code",
   "execution_count": 31,
   "metadata": {},
   "outputs": [],
   "source": [
    "submission.to_csv('output/20210406-3.csv')"
   ]
  },
  {
   "cell_type": "markdown",
   "metadata": {},
   "source": [
    "from gtts import gTTS\n",
    "text =\"Finish Finish Finish Finish Finish Finish Finish Finish\"\n",
    "\n",
    "tts = gTTS(text=text, lang='en')\n",
    "tts.save(\"helloEN.mp3\")"
   ]
  },
  {
   "cell_type": "code",
   "execution_count": 12,
   "metadata": {},
   "outputs": [
    {
     "data": {
      "text/html": [
       "\n",
       "                <audio  controls=\"controls\" autoplay=\"autoplay\">\n",
       "                    <source src=\"data:audio/mpeg;base64,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\" type=\"audio/mpeg\" />\n",
       "                    Your browser does not support the audio element.\n",
       "                </audio>\n",
       "              "
      ],
      "text/plain": [
       "<IPython.lib.display.Audio object>"
      ]
     },
     "execution_count": 12,
     "metadata": {},
     "output_type": "execute_result"
    }
   ],
   "source": [
    "from IPython.display import Audio\n",
    "sound_file = 'helloEN.mp3'\n",
    "\n",
    "Audio(sound_file, autoplay=True)"
   ]
  }
 ],
 "metadata": {
  "kernelspec": {
   "display_name": "Python 3",
   "language": "python",
   "name": "python3"
  },
  "language_info": {
   "codemirror_mode": {
    "name": "ipython",
    "version": 3
   },
   "file_extension": ".py",
   "mimetype": "text/x-python",
   "name": "python",
   "nbconvert_exporter": "python",
   "pygments_lexer": "ipython3",
   "version": "3.7.6"
  }
 },
 "nbformat": 4,
 "nbformat_minor": 4
}
