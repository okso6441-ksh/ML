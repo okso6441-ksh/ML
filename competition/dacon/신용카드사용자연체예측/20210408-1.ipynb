{
 "cells": [
  {
   "cell_type": "code",
   "execution_count": 2,
   "metadata": {},
   "outputs": [],
   "source": [
    "import numpy as np\n",
    "import pandas as pd\n",
    "import matplotlib.pyplot as plt\n",
    "import warnings\n",
    "warnings.filterwarnings('ignore')\n",
    "%matplotlib inline\n",
    "import random\n",
    "import seaborn as sns\n",
    "\n",
    "from pycaret.classification import *\n",
    "from sklearn.metrics import log_loss"
   ]
  },
  {
   "cell_type": "code",
   "execution_count": 3,
   "metadata": {},
   "outputs": [],
   "source": [
    "seed = 42\n",
    "np.random.seed(seed)"
   ]
  },
  {
   "cell_type": "code",
   "execution_count": 4,
   "metadata": {},
   "outputs": [
    {
     "data": {
      "text/plain": [
       "((26457, 19), (10000, 18), (10000, 3))"
      ]
     },
     "execution_count": 4,
     "metadata": {},
     "output_type": "execute_result"
    }
   ],
   "source": [
    "train = pd.read_csv('input/train.csv', index_col=['index'])\n",
    "test = pd.read_csv('input/test.csv', index_col=['index'])\n",
    "submission = pd.read_csv('input/submission.csv', index_col=['index'])\n",
    "\n",
    "train.shape, test.shape, submission.shape"
   ]
  },
  {
   "cell_type": "markdown",
   "metadata": {},
   "source": [
    "## null 처리 "
   ]
  },
  {
   "cell_type": "code",
   "execution_count": 5,
   "metadata": {},
   "outputs": [
    {
     "name": "stdout",
     "output_type": "stream",
     "text": [
      "30.884076047926822\n",
      "31.52\n"
     ]
    }
   ],
   "source": [
    "print(8171/train.shape[0]*100)\n",
    "#display(train.isna().sum())\n",
    "\n",
    "print(3152/test.shape[0]*100)\n",
    "#display(test.isna().sum())"
   ]
  },
  {
   "cell_type": "code",
   "execution_count": 6,
   "metadata": {},
   "outputs": [
    {
     "data": {
      "text/plain": [
       "((26457, 18), (10000, 17))"
      ]
     },
     "execution_count": 6,
     "metadata": {},
     "output_type": "execute_result"
    }
   ],
   "source": [
    "train.drop(['occyp_type'], axis=1, inplace=True)\n",
    "test.drop(['occyp_type'], axis=1, inplace=True)\n",
    "train.shape, test.shape"
   ]
  },
  {
   "cell_type": "code",
   "execution_count": 7,
   "metadata": {},
   "outputs": [
    {
     "data": {
      "text/plain": [
       "((26457, 17), (10000, 16))"
      ]
     },
     "execution_count": 7,
     "metadata": {},
     "output_type": "execute_result"
    }
   ],
   "source": [
    "train.FLAG_MOBIL.value_counts(), test.FLAG_MOBIL.value_counts()\n",
    "\n",
    "train.drop(['FLAG_MOBIL'], axis=1, inplace=True)\n",
    "test.drop(['FLAG_MOBIL'], axis=1, inplace=True)\n",
    "train.shape, test.shape"
   ]
  },
  {
   "cell_type": "code",
   "execution_count": null,
   "metadata": {},
   "outputs": [],
   "source": []
  },
  {
   "cell_type": "code",
   "execution_count": 8,
   "metadata": {},
   "outputs": [],
   "source": [
    "train.loc[train.DAYS_EMPLOYED == 365243, 'DAYS_EMPLOYED'] = 0\n",
    "test.loc[test.DAYS_EMPLOYED == 365243, 'DAYS_EMPLOYED'] = 0\n",
    "\n",
    "train['DAYS_EMPLOYED'] = train.DAYS_EMPLOYED*-1\n",
    "test['DAYS_EMPLOYED'] = test.DAYS_EMPLOYED*-1\n",
    "\n",
    "train['DAYS_EMPLOYED'] = np.log1p(train.DAYS_EMPLOYED)\n",
    "test['DAYS_EMPLOYED'] = np.log1p(test.DAYS_EMPLOYED)"
   ]
  },
  {
   "cell_type": "code",
   "execution_count": null,
   "metadata": {},
   "outputs": [],
   "source": []
  },
  {
   "cell_type": "code",
   "execution_count": 74,
   "metadata": {},
   "outputs": [
    {
     "data": {
      "text/html": [
       "<div>\n",
       "<style scoped>\n",
       "    .dataframe tbody tr th:only-of-type {\n",
       "        vertical-align: middle;\n",
       "    }\n",
       "\n",
       "    .dataframe tbody tr th {\n",
       "        vertical-align: top;\n",
       "    }\n",
       "\n",
       "    .dataframe thead th {\n",
       "        text-align: right;\n",
       "    }\n",
       "</style>\n",
       "<table border=\"1\" class=\"dataframe\">\n",
       "  <thead>\n",
       "    <tr style=\"text-align: right;\">\n",
       "      <th></th>\n",
       "      <th>gender</th>\n",
       "      <th>car</th>\n",
       "      <th>reality</th>\n",
       "      <th>child_num</th>\n",
       "      <th>income_total</th>\n",
       "      <th>income_type</th>\n",
       "      <th>edu_type</th>\n",
       "      <th>family_type</th>\n",
       "      <th>house_type</th>\n",
       "      <th>DAYS_BIRTH</th>\n",
       "      <th>DAYS_EMPLOYED</th>\n",
       "      <th>work_phone</th>\n",
       "      <th>phone</th>\n",
       "      <th>email</th>\n",
       "      <th>family_size</th>\n",
       "      <th>begin_month</th>\n",
       "      <th>credit</th>\n",
       "      <th>cluster</th>\n",
       "    </tr>\n",
       "    <tr>\n",
       "      <th>index</th>\n",
       "      <th></th>\n",
       "      <th></th>\n",
       "      <th></th>\n",
       "      <th></th>\n",
       "      <th></th>\n",
       "      <th></th>\n",
       "      <th></th>\n",
       "      <th></th>\n",
       "      <th></th>\n",
       "      <th></th>\n",
       "      <th></th>\n",
       "      <th></th>\n",
       "      <th></th>\n",
       "      <th></th>\n",
       "      <th></th>\n",
       "      <th></th>\n",
       "      <th></th>\n",
       "      <th></th>\n",
       "    </tr>\n",
       "  </thead>\n",
       "  <tbody>\n",
       "    <tr>\n",
       "      <th>0</th>\n",
       "      <td>0</td>\n",
       "      <td>0</td>\n",
       "      <td>0</td>\n",
       "      <td>0</td>\n",
       "      <td>202500.0</td>\n",
       "      <td>0</td>\n",
       "      <td>1</td>\n",
       "      <td>1</td>\n",
       "      <td>2</td>\n",
       "      <td>-13899</td>\n",
       "      <td>8.457443</td>\n",
       "      <td>0</td>\n",
       "      <td>0</td>\n",
       "      <td>0</td>\n",
       "      <td>2.0</td>\n",
       "      <td>-6.0</td>\n",
       "      <td>1.0</td>\n",
       "      <td>14</td>\n",
       "    </tr>\n",
       "    <tr>\n",
       "      <th>1</th>\n",
       "      <td>0</td>\n",
       "      <td>0</td>\n",
       "      <td>1</td>\n",
       "      <td>1</td>\n",
       "      <td>247500.0</td>\n",
       "      <td>0</td>\n",
       "      <td>4</td>\n",
       "      <td>0</td>\n",
       "      <td>1</td>\n",
       "      <td>-11380</td>\n",
       "      <td>7.340187</td>\n",
       "      <td>0</td>\n",
       "      <td>0</td>\n",
       "      <td>1</td>\n",
       "      <td>3.0</td>\n",
       "      <td>-5.0</td>\n",
       "      <td>1.0</td>\n",
       "      <td>18</td>\n",
       "    </tr>\n",
       "    <tr>\n",
       "      <th>2</th>\n",
       "      <td>1</td>\n",
       "      <td>1</td>\n",
       "      <td>1</td>\n",
       "      <td>0</td>\n",
       "      <td>450000.0</td>\n",
       "      <td>4</td>\n",
       "      <td>1</td>\n",
       "      <td>1</td>\n",
       "      <td>1</td>\n",
       "      <td>-19087</td>\n",
       "      <td>8.397283</td>\n",
       "      <td>0</td>\n",
       "      <td>1</td>\n",
       "      <td>0</td>\n",
       "      <td>2.0</td>\n",
       "      <td>-22.0</td>\n",
       "      <td>2.0</td>\n",
       "      <td>15</td>\n",
       "    </tr>\n",
       "    <tr>\n",
       "      <th>3</th>\n",
       "      <td>0</td>\n",
       "      <td>0</td>\n",
       "      <td>1</td>\n",
       "      <td>0</td>\n",
       "      <td>202500.0</td>\n",
       "      <td>0</td>\n",
       "      <td>4</td>\n",
       "      <td>1</td>\n",
       "      <td>1</td>\n",
       "      <td>-15088</td>\n",
       "      <td>7.646354</td>\n",
       "      <td>0</td>\n",
       "      <td>1</td>\n",
       "      <td>0</td>\n",
       "      <td>2.0</td>\n",
       "      <td>-37.0</td>\n",
       "      <td>0.0</td>\n",
       "      <td>14</td>\n",
       "    </tr>\n",
       "    <tr>\n",
       "      <th>4</th>\n",
       "      <td>0</td>\n",
       "      <td>1</td>\n",
       "      <td>1</td>\n",
       "      <td>0</td>\n",
       "      <td>157500.0</td>\n",
       "      <td>2</td>\n",
       "      <td>1</td>\n",
       "      <td>1</td>\n",
       "      <td>1</td>\n",
       "      <td>-15037</td>\n",
       "      <td>7.652546</td>\n",
       "      <td>0</td>\n",
       "      <td>0</td>\n",
       "      <td>0</td>\n",
       "      <td>2.0</td>\n",
       "      <td>-26.0</td>\n",
       "      <td>2.0</td>\n",
       "      <td>11</td>\n",
       "    </tr>\n",
       "  </tbody>\n",
       "</table>\n",
       "</div>"
      ],
      "text/plain": [
       "       gender  car  reality  child_num  income_total  income_type  edu_type  \\\n",
       "index                                                                         \n",
       "0           0    0        0          0      202500.0            0         1   \n",
       "1           0    0        1          1      247500.0            0         4   \n",
       "2           1    1        1          0      450000.0            4         1   \n",
       "3           0    0        1          0      202500.0            0         4   \n",
       "4           0    1        1          0      157500.0            2         1   \n",
       "\n",
       "       family_type  house_type  DAYS_BIRTH  DAYS_EMPLOYED  work_phone  phone  \\\n",
       "index                                                                          \n",
       "0                1           2      -13899       8.457443           0      0   \n",
       "1                0           1      -11380       7.340187           0      0   \n",
       "2                1           1      -19087       8.397283           0      1   \n",
       "3                1           1      -15088       7.646354           0      1   \n",
       "4                1           1      -15037       7.652546           0      0   \n",
       "\n",
       "       email  family_size  begin_month  credit  cluster  \n",
       "index                                                    \n",
       "0          0          2.0         -6.0     1.0       14  \n",
       "1          1          3.0         -5.0     1.0       18  \n",
       "2          0          2.0        -22.0     2.0       15  \n",
       "3          0          2.0        -37.0     0.0       14  \n",
       "4          0          2.0        -26.0     2.0       11  "
      ]
     },
     "execution_count": 74,
     "metadata": {},
     "output_type": "execute_result"
    }
   ],
   "source": [
    "train.head()"
   ]
  },
  {
   "cell_type": "code",
   "execution_count": null,
   "metadata": {},
   "outputs": [],
   "source": []
  },
  {
   "cell_type": "code",
   "execution_count": 10,
   "metadata": {},
   "outputs": [],
   "source": [
    "from sklearn.cluster import KMeans"
   ]
  },
  {
   "cell_type": "code",
   "execution_count": 72,
   "metadata": {},
   "outputs": [],
   "source": [
    "kmeans = KMeans(n_clusters=21, init='k-means++', max_iter=300,random_state=seed)\n",
    "train['cluster'] = kmeans.fit_predict(train[['gender', 'car', 'reality', 'child_num', 'income_total', 'income_type',\n",
    "       'edu_type', 'family_type', 'house_type', 'DAYS_BIRTH', 'DAYS_EMPLOYED',\n",
    "       'work_phone', 'phone', 'email', 'family_size']])"
   ]
  },
  {
   "cell_type": "code",
   "execution_count": 73,
   "metadata": {},
   "outputs": [],
   "source": [
    "kmeans = KMeans(n_clusters=21, init='k-means++', max_iter=300,random_state=seed)\n",
    "test['cluster'] = kmeans.fit_predict(test[['gender', 'car', 'reality', 'child_num', 'income_total', 'income_type',\n",
    "       'edu_type', 'family_type', 'house_type', 'DAYS_BIRTH', 'DAYS_EMPLOYED',\n",
    "       'work_phone', 'phone', 'email', 'family_size']])"
   ]
  },
  {
   "cell_type": "code",
   "execution_count": 18,
   "metadata": {},
   "outputs": [],
   "source": [
    "from sklearn.metrics import silhouette_samples, silhouette_score"
   ]
  },
  {
   "cell_type": "code",
   "execution_count": 22,
   "metadata": {},
   "outputs": [],
   "source": [
    "### 여러개의 클러스터링 갯수를 List로 입력 받아 각각의 실루엣 계수를 면적으로 시각화한 함수 작성\n",
    "def visualize_silhouette(cluster_lists, X_features): \n",
    "    \n",
    "    from sklearn.datasets import make_blobs\n",
    "    from sklearn.cluster import KMeans\n",
    "    from sklearn.metrics import silhouette_samples, silhouette_score\n",
    "\n",
    "    import matplotlib.pyplot as plt\n",
    "    import matplotlib.cm as cm\n",
    "    import math\n",
    "    \n",
    "    # 입력값으로 클러스터링 갯수들을 리스트로 받아서, 각 갯수별로 클러스터링을 적용하고 실루엣 개수를 구함\n",
    "    n_cols = len(cluster_lists)\n",
    "    \n",
    "    # plt.subplots()으로 리스트에 기재된 클러스터링 수만큼의 sub figures를 가지는 axs 생성 \n",
    "    fig, axs = plt.subplots(figsize=(4*n_cols, 4), nrows=1, ncols=n_cols)\n",
    "    \n",
    "    # 리스트에 기재된 클러스터링 갯수들을 차례로 iteration 수행하면서 실루엣 개수 시각화\n",
    "    for ind, n_cluster in enumerate(cluster_lists):\n",
    "        \n",
    "        # KMeans 클러스터링 수행하고, 실루엣 스코어와 개별 데이터의 실루엣 값 계산. \n",
    "        clusterer = KMeans(n_clusters = n_cluster, max_iter=500, random_state=0)\n",
    "        cluster_labels = clusterer.fit_predict(X_features)\n",
    "        \n",
    "        sil_avg = silhouette_score(X_features, cluster_labels)\n",
    "        sil_values = silhouette_samples(X_features, cluster_labels)\n",
    "        \n",
    "        y_lower = 10\n",
    "        axs[ind].set_title('Number of Cluster : '+ str(n_cluster)+'\\n' \\\n",
    "                          'Silhouette Score :' + str(round(sil_avg,3)) )\n",
    "        axs[ind].set_xlabel(\"The silhouette coefficient values\")\n",
    "        axs[ind].set_ylabel(\"Cluster label\")\n",
    "        axs[ind].set_xlim([-0.1, 1])\n",
    "        axs[ind].set_ylim([0, len(X_features) + (n_cluster + 1) * 10])\n",
    "        axs[ind].set_yticks([])  # Clear the yaxis labels / ticks\n",
    "        axs[ind].set_xticks([0, 0.2, 0.4, 0.6, 0.8, 1])\n",
    "        \n",
    "        # 클러스터링 갯수별로 fill_betweenx( )형태의 막대 그래프 표현. \n",
    "        for i in range(n_cluster):\n",
    "            ith_cluster_sil_values = sil_values[cluster_labels==i]\n",
    "            ith_cluster_sil_values.sort()\n",
    "            \n",
    "            size_cluster_i = ith_cluster_sil_values.shape[0]\n",
    "            y_upper = y_lower + size_cluster_i\n",
    "            \n",
    "            color = cm.nipy_spectral(float(i) / n_cluster)\n",
    "            axs[ind].fill_betweenx(np.arange(y_lower, y_upper), 0, ith_cluster_sil_values, \\\n",
    "                                facecolor=color, edgecolor=color, alpha=0.7)\n",
    "            axs[ind].text(-0.05, y_lower + 0.5 * size_cluster_i, str(i))\n",
    "            y_lower = y_upper + 10\n",
    "            \n",
    "        axs[ind].axvline(x=sil_avg, color=\"red\", linestyle=\"--\")"
   ]
  },
  {
   "cell_type": "code",
   "execution_count": 24,
   "metadata": {},
   "outputs": [],
   "source": [
    "X = train[['gender', 'car', 'reality', 'child_num', 'income_total', 'income_type',\n",
    "       'edu_type', 'family_type', 'house_type', 'DAYS_BIRTH', 'DAYS_EMPLOYED',\n",
    "       'work_phone', 'phone', 'email', 'family_size']]"
   ]
  },
  {
   "cell_type": "code",
   "execution_count": 27,
   "metadata": {},
   "outputs": [
    {
     "data": {
      "image/png": "[encoded data removed]",
      "text/plain": [
       "<Figure size 1440x288 with 5 Axes>"
      ]
     },
     "metadata": {
      "needs_background": "light"
     },
     "output_type": "display_data"
    }
   ],
   "source": [
    "visualize_silhouette([ 2, 3, 4, 5, 6], X)"
   ]
  },
  {
   "cell_type": "code",
   "execution_count": 28,
   "metadata": {},
   "outputs": [
    {
     "name": "stdout",
     "output_type": "stream",
     "text": [
      "For n_clusters = 2 The average silhouette_score is : 0.630943086120641\n",
      "For n_clusters = 3 The average silhouette_score is : 0.5834908143639999\n",
      "For n_clusters = 4 The average silhouette_score is : 0.5597327546080357\n",
      "For n_clusters = 5 The average silhouette_score is : 0.5506258547071466\n",
      "For n_clusters = 6 The average silhouette_score is : 0.541013437339885\n"
     ]
    }
   ],
   "source": [
    "for i in [ 2, 3, 4, 5, 6]:\n",
    "    clusterer = KMeans(n_clusters=i, random_state=42)\n",
    "    cluster_labels = clusterer.fit_predict(X)\n",
    "    silhouette_avg = silhouette_score(X, cluster_labels)\n",
    "    print(\"For n_clusters =\", i, \"The average silhouette_score is :\", silhouette_avg)"
   ]
  },
  {
   "cell_type": "code",
   "execution_count": 29,
   "metadata": {},
   "outputs": [
    {
     "name": "stdout",
     "output_type": "stream",
     "text": [
      "For n_clusters = 6 The average silhouette_score is : 0.541013437339885\n",
      "For n_clusters = 7 The average silhouette_score is : 0.5438279191136765\n",
      "For n_clusters = 8 The average silhouette_score is : 0.5649481352858616\n",
      "For n_clusters = 9 The average silhouette_score is : 0.5652361610567388\n"
     ]
    }
   ],
   "source": [
    "for i in range(6, 10):\n",
    "    clusterer = KMeans(n_clusters=i, random_state=42)\n",
    "    cluster_labels = clusterer.fit_predict(X)\n",
    "    silhouette_avg = silhouette_score(X, cluster_labels)\n",
    "    print(\"For n_clusters =\", i, \"The average silhouette_score is :\", silhouette_avg)"
   ]
  },
  {
   "cell_type": "code",
   "execution_count": 30,
   "metadata": {},
   "outputs": [
    {
     "name": "stdout",
     "output_type": "stream",
     "text": [
      "For n_clusters = 10 The average silhouette_score is : 0.5726074128346559\n",
      "For n_clusters = 11 The average silhouette_score is : 0.5768009441462816\n",
      "For n_clusters = 12 The average silhouette_score is : 0.5620390675931884\n",
      "For n_clusters = 13 The average silhouette_score is : 0.5742050874683619\n",
      "For n_clusters = 14 The average silhouette_score is : 0.5474121929663166\n"
     ]
    }
   ],
   "source": [
    "for i in range(10, 15):\n",
    "    clusterer = KMeans(n_clusters=i, random_state=42)\n",
    "    cluster_labels = clusterer.fit_predict(X)\n",
    "    silhouette_avg = silhouette_score(X, cluster_labels)\n",
    "    print(\"For n_clusters =\", i, \"The average silhouette_score is :\", silhouette_avg)"
   ]
  },
  {
   "cell_type": "code",
   "execution_count": 66,
   "metadata": {},
   "outputs": [
    {
     "name": "stdout",
     "output_type": "stream",
     "text": [
      "For n_clusters = 15 The average silhouette_score is : 0.5870331719427563\n",
      "For n_clusters = 16 The average silhouette_score is : 0.6177362885546384\n",
      "For n_clusters = 17 The average silhouette_score is : 0.6180930108703807\n",
      "For n_clusters = 18 The average silhouette_score is : 0.6299273649921343\n",
      "For n_clusters = 19 The average silhouette_score is : 0.644538414841062\n"
     ]
    }
   ],
   "source": [
    "for i in range(15, 20):\n",
    "    clusterer = KMeans(n_clusters=i, random_state=42)\n",
    "    cluster_labels = clusterer.fit_predict(X)\n",
    "    silhouette_avg = silhouette_score(X, cluster_labels)\n",
    "    print(\"For n_clusters =\", i, \"The average silhouette_score is :\", silhouette_avg)"
   ]
  },
  {
   "cell_type": "code",
   "execution_count": 67,
   "metadata": {},
   "outputs": [
    {
     "name": "stdout",
     "output_type": "stream",
     "text": [
      "For n_clusters = 20 The average silhouette_score is : 0.6531610011942837\n",
      "For n_clusters = 21 The average silhouette_score is : 0.6497909423108081\n",
      "For n_clusters = 22 The average silhouette_score is : 0.6470868306039701\n",
      "For n_clusters = 23 The average silhouette_score is : 0.6471462954752079\n",
      "For n_clusters = 24 The average silhouette_score is : 0.6149211573299234\n"
     ]
    }
   ],
   "source": [
    "for i in range(20, 25):\n",
    "    clusterer = KMeans(n_clusters=i, random_state=42)\n",
    "    cluster_labels = clusterer.fit_predict(X)\n",
    "    silhouette_avg = silhouette_score(X, cluster_labels)\n",
    "    print(\"For n_clusters =\", i, \"The average silhouette_score is :\", silhouette_avg)"
   ]
  },
  {
   "cell_type": "code",
   "execution_count": 69,
   "metadata": {},
   "outputs": [
    {
     "name": "stdout",
     "output_type": "stream",
     "text": [
      "For n_clusters = 25 The average silhouette_score is : 0.6518176691512197\n",
      "For n_clusters = 26 The average silhouette_score is : 0.624127067710416\n",
      "For n_clusters = 27 The average silhouette_score is : 0.6123095872383061\n",
      "For n_clusters = 28 The average silhouette_score is : 0.590742312415478\n",
      "For n_clusters = 29 The average silhouette_score is : 0.5989838126469924\n"
     ]
    }
   ],
   "source": [
    "for i in range(25, 30):\n",
    "    clusterer = KMeans(n_clusters=i, random_state=42)\n",
    "    cluster_labels = clusterer.fit_predict(X)\n",
    "    silhouette_avg = silhouette_score(X, cluster_labels)\n",
    "    print(\"For n_clusters =\", i, \"The average silhouette_score is :\", silhouette_avg)"
   ]
  },
  {
   "cell_type": "code",
   "execution_count": 70,
   "metadata": {},
   "outputs": [
    {
     "name": "stdout",
     "output_type": "stream",
     "text": [
      "For n_clusters = 30 The average silhouette_score is : 0.5910837229541623\n",
      "For n_clusters = 31 The average silhouette_score is : 0.5840996295416984\n",
      "For n_clusters = 32 The average silhouette_score is : 0.5859269449191036\n",
      "For n_clusters = 33 The average silhouette_score is : 0.5640646039503963\n",
      "For n_clusters = 34 The average silhouette_score is : 0.5443209976630698\n"
     ]
    }
   ],
   "source": [
    "for i in range(30, 35):\n",
    "    clusterer = KMeans(n_clusters=i, random_state=42)\n",
    "    cluster_labels = clusterer.fit_predict(X)\n",
    "    silhouette_avg = silhouette_score(X, cluster_labels)\n",
    "    print(\"For n_clusters =\", i, \"The average silhouette_score is :\", silhouette_avg)"
   ]
  },
  {
   "cell_type": "code",
   "execution_count": 86,
   "metadata": {},
   "outputs": [
    {
     "name": "stdout",
     "output_type": "stream",
     "text": [
      "For n_clusters = 1000 The average silhouette_score is : 0.6339760684004222\n"
     ]
    }
   ],
   "source": [
    "for i in range(1000, 1001):\n",
    "    clusterer = KMeans(n_clusters=i, random_state=42)\n",
    "    cluster_labels = clusterer.fit_predict(X)\n",
    "    silhouette_avg = silhouette_score(X, cluster_labels)\n",
    "    print(\"For n_clusters =\", i, \"The average silhouette_score is :\", silhouette_avg)"
   ]
  },
  {
   "cell_type": "code",
   "execution_count": null,
   "metadata": {},
   "outputs": [],
   "source": [
    "np.log1p(train.income_total).hist(bins=100)"
   ]
  },
  {
   "cell_type": "code",
   "execution_count": null,
   "metadata": {},
   "outputs": [],
   "source": []
  },
  {
   "cell_type": "code",
   "execution_count": 16,
   "metadata": {},
   "outputs": [],
   "source": [
    "train['gender'] = train['gender'].replace(['F','M'],[0,1])\n",
    "train['car'] = train['car'].replace(['N','Y'],[0,1])\n",
    "train['reality'] = train['reality'].replace(['N','Y'],[0,1])\n",
    "\n",
    "test['gender'] = test['gender'].replace(['F','M'],[0,1])\n",
    "test['car'] = test['car'].replace(['N','Y'],[0,1])\n",
    "test['reality'] = test['reality'].replace(['N','Y'],[0,1])"
   ]
  },
  {
   "cell_type": "code",
   "execution_count": 12,
   "metadata": {},
   "outputs": [],
   "source": [
    "from sklearn import preprocessing\n",
    "label_encoder=preprocessing.LabelEncoder()"
   ]
  },
  {
   "cell_type": "code",
   "execution_count": 13,
   "metadata": {},
   "outputs": [],
   "source": [
    "train['income_type']=label_encoder.fit_transform(train['income_type'])\n",
    "train['edu_type']=label_encoder.fit_transform(train['edu_type'])\n",
    "train['family_type']=label_encoder.fit_transform(train['family_type'])\n",
    "train['house_type']=label_encoder.fit_transform(train['house_type'])\n",
    "\n",
    "test['income_type']=label_encoder.fit_transform(test['income_type'])\n",
    "test['edu_type']=label_encoder.fit_transform(test['edu_type'])\n",
    "test['family_type']=label_encoder.fit_transform(test['family_type'])\n",
    "test['house_type']=label_encoder.fit_transform(test['house_type'])"
   ]
  },
  {
   "cell_type": "code",
   "execution_count": null,
   "metadata": {},
   "outputs": [],
   "source": [
    "train.head()"
   ]
  },
  {
   "cell_type": "code",
   "execution_count": null,
   "metadata": {},
   "outputs": [],
   "source": [
    "train.corr()"
   ]
  },
  {
   "cell_type": "code",
   "execution_count": null,
   "metadata": {},
   "outputs": [],
   "source": []
  },
  {
   "cell_type": "code",
   "execution_count": null,
   "metadata": {},
   "outputs": [],
   "source": [
    "sns.heatmap(train.corr())"
   ]
  },
  {
   "cell_type": "markdown",
   "metadata": {},
   "source": [
    "## 범주형 자료 "
   ]
  },
  {
   "cell_type": "code",
   "execution_count": 75,
   "metadata": {},
   "outputs": [],
   "source": [
    "col = ['gender','car','reality','phone','email','work_phone'\\\n",
    "      ,'income_type','edu_type','family_type','house_type'\\\n",
    "      #,'child_num','EMPLOYED_YN'\n",
    "      ]\n",
    "#train = pd.get_dummies(train, columns=col)\n",
    "#test = pd.get_dummies(test, columns=col)\n",
    "#train.shape, test.shape"
   ]
  },
  {
   "cell_type": "code",
   "execution_count": 40,
   "metadata": {},
   "outputs": [
    {
     "data": {
      "text/plain": [
       "Index(['gender', 'car', 'reality', 'child_num', 'income_total', 'income_type',\n",
       "       'edu_type', 'family_type', 'house_type', 'DAYS_BIRTH', 'DAYS_EMPLOYED',\n",
       "       'work_phone', 'phone', 'email', 'family_size', 'begin_month', 'credit',\n",
       "       'cluster'],\n",
       "      dtype='object')"
      ]
     },
     "execution_count": 40,
     "metadata": {},
     "output_type": "execute_result"
    }
   ],
   "source": [
    "train.columns"
   ]
  },
  {
   "cell_type": "code",
   "execution_count": 76,
   "metadata": {},
   "outputs": [
    {
     "data": {
      "text/html": [
       "<style  type=\"text/css\" >\n",
       "</style><table id=\"T_05e43b28_983c_11eb_a225_00e0201808a0\" ><thead>    <tr>        <th class=\"blank level0\" ></th>        <th class=\"col_heading level0 col0\" >Description</th>        <th class=\"col_heading level0 col1\" >Value</th>    </tr></thead><tbody>\n",
       "                <tr>\n",
       "                        <th id=\"T_05e43b28_983c_11eb_a225_00e0201808a0level0_row0\" class=\"row_heading level0 row0\" >0</th>\n",
       "                        <td id=\"T_05e43b28_983c_11eb_a225_00e0201808a0row0_col0\" class=\"data row0 col0\" >session_id</td>\n",
       "                        <td id=\"T_05e43b28_983c_11eb_a225_00e0201808a0row0_col1\" class=\"data row0 col1\" >42</td>\n",
       "            </tr>\n",
       "            <tr>\n",
       "                        <th id=\"T_05e43b28_983c_11eb_a225_00e0201808a0level0_row1\" class=\"row_heading level0 row1\" >1</th>\n",
       "                        <td id=\"T_05e43b28_983c_11eb_a225_00e0201808a0row1_col0\" class=\"data row1 col0\" >Target</td>\n",
       "                        <td id=\"T_05e43b28_983c_11eb_a225_00e0201808a0row1_col1\" class=\"data row1 col1\" >credit</td>\n",
       "            </tr>\n",
       "            <tr>\n",
       "                        <th id=\"T_05e43b28_983c_11eb_a225_00e0201808a0level0_row2\" class=\"row_heading level0 row2\" >2</th>\n",
       "                        <td id=\"T_05e43b28_983c_11eb_a225_00e0201808a0row2_col0\" class=\"data row2 col0\" >Target Type</td>\n",
       "                        <td id=\"T_05e43b28_983c_11eb_a225_00e0201808a0row2_col1\" class=\"data row2 col1\" >Multiclass</td>\n",
       "            </tr>\n",
       "            <tr>\n",
       "                        <th id=\"T_05e43b28_983c_11eb_a225_00e0201808a0level0_row3\" class=\"row_heading level0 row3\" >3</th>\n",
       "                        <td id=\"T_05e43b28_983c_11eb_a225_00e0201808a0row3_col0\" class=\"data row3 col0\" >Label Encoded</td>\n",
       "                        <td id=\"T_05e43b28_983c_11eb_a225_00e0201808a0row3_col1\" class=\"data row3 col1\" >None</td>\n",
       "            </tr>\n",
       "            <tr>\n",
       "                        <th id=\"T_05e43b28_983c_11eb_a225_00e0201808a0level0_row4\" class=\"row_heading level0 row4\" >4</th>\n",
       "                        <td id=\"T_05e43b28_983c_11eb_a225_00e0201808a0row4_col0\" class=\"data row4 col0\" >Original Data</td>\n",
       "                        <td id=\"T_05e43b28_983c_11eb_a225_00e0201808a0row4_col1\" class=\"data row4 col1\" >(26457, 18)</td>\n",
       "            </tr>\n",
       "            <tr>\n",
       "                        <th id=\"T_05e43b28_983c_11eb_a225_00e0201808a0level0_row5\" class=\"row_heading level0 row5\" >5</th>\n",
       "                        <td id=\"T_05e43b28_983c_11eb_a225_00e0201808a0row5_col0\" class=\"data row5 col0\" >Missing Values</td>\n",
       "                        <td id=\"T_05e43b28_983c_11eb_a225_00e0201808a0row5_col1\" class=\"data row5 col1\" >False</td>\n",
       "            </tr>\n",
       "            <tr>\n",
       "                        <th id=\"T_05e43b28_983c_11eb_a225_00e0201808a0level0_row6\" class=\"row_heading level0 row6\" >6</th>\n",
       "                        <td id=\"T_05e43b28_983c_11eb_a225_00e0201808a0row6_col0\" class=\"data row6 col0\" >Numeric Features</td>\n",
       "                        <td id=\"T_05e43b28_983c_11eb_a225_00e0201808a0row6_col1\" class=\"data row6 col1\" >7</td>\n",
       "            </tr>\n",
       "            <tr>\n",
       "                        <th id=\"T_05e43b28_983c_11eb_a225_00e0201808a0level0_row7\" class=\"row_heading level0 row7\" >7</th>\n",
       "                        <td id=\"T_05e43b28_983c_11eb_a225_00e0201808a0row7_col0\" class=\"data row7 col0\" >Categorical Features</td>\n",
       "                        <td id=\"T_05e43b28_983c_11eb_a225_00e0201808a0row7_col1\" class=\"data row7 col1\" >10</td>\n",
       "            </tr>\n",
       "            <tr>\n",
       "                        <th id=\"T_05e43b28_983c_11eb_a225_00e0201808a0level0_row8\" class=\"row_heading level0 row8\" >8</th>\n",
       "                        <td id=\"T_05e43b28_983c_11eb_a225_00e0201808a0row8_col0\" class=\"data row8 col0\" >Ordinal Features</td>\n",
       "                        <td id=\"T_05e43b28_983c_11eb_a225_00e0201808a0row8_col1\" class=\"data row8 col1\" >False</td>\n",
       "            </tr>\n",
       "            <tr>\n",
       "                        <th id=\"T_05e43b28_983c_11eb_a225_00e0201808a0level0_row9\" class=\"row_heading level0 row9\" >9</th>\n",
       "                        <td id=\"T_05e43b28_983c_11eb_a225_00e0201808a0row9_col0\" class=\"data row9 col0\" >High Cardinality Features</td>\n",
       "                        <td id=\"T_05e43b28_983c_11eb_a225_00e0201808a0row9_col1\" class=\"data row9 col1\" >False</td>\n",
       "            </tr>\n",
       "            <tr>\n",
       "                        <th id=\"T_05e43b28_983c_11eb_a225_00e0201808a0level0_row10\" class=\"row_heading level0 row10\" >10</th>\n",
       "                        <td id=\"T_05e43b28_983c_11eb_a225_00e0201808a0row10_col0\" class=\"data row10 col0\" >High Cardinality Method</td>\n",
       "                        <td id=\"T_05e43b28_983c_11eb_a225_00e0201808a0row10_col1\" class=\"data row10 col1\" >None</td>\n",
       "            </tr>\n",
       "            <tr>\n",
       "                        <th id=\"T_05e43b28_983c_11eb_a225_00e0201808a0level0_row11\" class=\"row_heading level0 row11\" >11</th>\n",
       "                        <td id=\"T_05e43b28_983c_11eb_a225_00e0201808a0row11_col0\" class=\"data row11 col0\" >Transformed Train Set</td>\n",
       "                        <td id=\"T_05e43b28_983c_11eb_a225_00e0201808a0row11_col1\" class=\"data row11 col1\" >(18519, 34)</td>\n",
       "            </tr>\n",
       "            <tr>\n",
       "                        <th id=\"T_05e43b28_983c_11eb_a225_00e0201808a0level0_row12\" class=\"row_heading level0 row12\" >12</th>\n",
       "                        <td id=\"T_05e43b28_983c_11eb_a225_00e0201808a0row12_col0\" class=\"data row12 col0\" >Transformed Test Set</td>\n",
       "                        <td id=\"T_05e43b28_983c_11eb_a225_00e0201808a0row12_col1\" class=\"data row12 col1\" >(7938, 34)</td>\n",
       "            </tr>\n",
       "            <tr>\n",
       "                        <th id=\"T_05e43b28_983c_11eb_a225_00e0201808a0level0_row13\" class=\"row_heading level0 row13\" >13</th>\n",
       "                        <td id=\"T_05e43b28_983c_11eb_a225_00e0201808a0row13_col0\" class=\"data row13 col0\" >Shuffle Train-Test</td>\n",
       "                        <td id=\"T_05e43b28_983c_11eb_a225_00e0201808a0row13_col1\" class=\"data row13 col1\" >True</td>\n",
       "            </tr>\n",
       "            <tr>\n",
       "                        <th id=\"T_05e43b28_983c_11eb_a225_00e0201808a0level0_row14\" class=\"row_heading level0 row14\" >14</th>\n",
       "                        <td id=\"T_05e43b28_983c_11eb_a225_00e0201808a0row14_col0\" class=\"data row14 col0\" >Stratify Train-Test</td>\n",
       "                        <td id=\"T_05e43b28_983c_11eb_a225_00e0201808a0row14_col1\" class=\"data row14 col1\" >False</td>\n",
       "            </tr>\n",
       "            <tr>\n",
       "                        <th id=\"T_05e43b28_983c_11eb_a225_00e0201808a0level0_row15\" class=\"row_heading level0 row15\" >15</th>\n",
       "                        <td id=\"T_05e43b28_983c_11eb_a225_00e0201808a0row15_col0\" class=\"data row15 col0\" >Fold Generator</td>\n",
       "                        <td id=\"T_05e43b28_983c_11eb_a225_00e0201808a0row15_col1\" class=\"data row15 col1\" >StratifiedKFold</td>\n",
       "            </tr>\n",
       "            <tr>\n",
       "                        <th id=\"T_05e43b28_983c_11eb_a225_00e0201808a0level0_row16\" class=\"row_heading level0 row16\" >16</th>\n",
       "                        <td id=\"T_05e43b28_983c_11eb_a225_00e0201808a0row16_col0\" class=\"data row16 col0\" >Fold Number</td>\n",
       "                        <td id=\"T_05e43b28_983c_11eb_a225_00e0201808a0row16_col1\" class=\"data row16 col1\" >10</td>\n",
       "            </tr>\n",
       "            <tr>\n",
       "                        <th id=\"T_05e43b28_983c_11eb_a225_00e0201808a0level0_row17\" class=\"row_heading level0 row17\" >17</th>\n",
       "                        <td id=\"T_05e43b28_983c_11eb_a225_00e0201808a0row17_col0\" class=\"data row17 col0\" >CPU Jobs</td>\n",
       "                        <td id=\"T_05e43b28_983c_11eb_a225_00e0201808a0row17_col1\" class=\"data row17 col1\" >-1</td>\n",
       "            </tr>\n",
       "            <tr>\n",
       "                        <th id=\"T_05e43b28_983c_11eb_a225_00e0201808a0level0_row18\" class=\"row_heading level0 row18\" >18</th>\n",
       "                        <td id=\"T_05e43b28_983c_11eb_a225_00e0201808a0row18_col0\" class=\"data row18 col0\" >Use GPU</td>\n",
       "                        <td id=\"T_05e43b28_983c_11eb_a225_00e0201808a0row18_col1\" class=\"data row18 col1\" >False</td>\n",
       "            </tr>\n",
       "            <tr>\n",
       "                        <th id=\"T_05e43b28_983c_11eb_a225_00e0201808a0level0_row19\" class=\"row_heading level0 row19\" >19</th>\n",
       "                        <td id=\"T_05e43b28_983c_11eb_a225_00e0201808a0row19_col0\" class=\"data row19 col0\" >Log Experiment</td>\n",
       "                        <td id=\"T_05e43b28_983c_11eb_a225_00e0201808a0row19_col1\" class=\"data row19 col1\" >False</td>\n",
       "            </tr>\n",
       "            <tr>\n",
       "                        <th id=\"T_05e43b28_983c_11eb_a225_00e0201808a0level0_row20\" class=\"row_heading level0 row20\" >20</th>\n",
       "                        <td id=\"T_05e43b28_983c_11eb_a225_00e0201808a0row20_col0\" class=\"data row20 col0\" >Experiment Name</td>\n",
       "                        <td id=\"T_05e43b28_983c_11eb_a225_00e0201808a0row20_col1\" class=\"data row20 col1\" >clf-default-name</td>\n",
       "            </tr>\n",
       "            <tr>\n",
       "                        <th id=\"T_05e43b28_983c_11eb_a225_00e0201808a0level0_row21\" class=\"row_heading level0 row21\" >21</th>\n",
       "                        <td id=\"T_05e43b28_983c_11eb_a225_00e0201808a0row21_col0\" class=\"data row21 col0\" >USI</td>\n",
       "                        <td id=\"T_05e43b28_983c_11eb_a225_00e0201808a0row21_col1\" class=\"data row21 col1\" >1560</td>\n",
       "            </tr>\n",
       "            <tr>\n",
       "                        <th id=\"T_05e43b28_983c_11eb_a225_00e0201808a0level0_row22\" class=\"row_heading level0 row22\" >22</th>\n",
       "                        <td id=\"T_05e43b28_983c_11eb_a225_00e0201808a0row22_col0\" class=\"data row22 col0\" >Imputation Type</td>\n",
       "                        <td id=\"T_05e43b28_983c_11eb_a225_00e0201808a0row22_col1\" class=\"data row22 col1\" >simple</td>\n",
       "            </tr>\n",
       "            <tr>\n",
       "                        <th id=\"T_05e43b28_983c_11eb_a225_00e0201808a0level0_row23\" class=\"row_heading level0 row23\" >23</th>\n",
       "                        <td id=\"T_05e43b28_983c_11eb_a225_00e0201808a0row23_col0\" class=\"data row23 col0\" >Iterative Imputation Iteration</td>\n",
       "                        <td id=\"T_05e43b28_983c_11eb_a225_00e0201808a0row23_col1\" class=\"data row23 col1\" >None</td>\n",
       "            </tr>\n",
       "            <tr>\n",
       "                        <th id=\"T_05e43b28_983c_11eb_a225_00e0201808a0level0_row24\" class=\"row_heading level0 row24\" >24</th>\n",
       "                        <td id=\"T_05e43b28_983c_11eb_a225_00e0201808a0row24_col0\" class=\"data row24 col0\" >Numeric Imputer</td>\n",
       "                        <td id=\"T_05e43b28_983c_11eb_a225_00e0201808a0row24_col1\" class=\"data row24 col1\" >mean</td>\n",
       "            </tr>\n",
       "            <tr>\n",
       "                        <th id=\"T_05e43b28_983c_11eb_a225_00e0201808a0level0_row25\" class=\"row_heading level0 row25\" >25</th>\n",
       "                        <td id=\"T_05e43b28_983c_11eb_a225_00e0201808a0row25_col0\" class=\"data row25 col0\" >Iterative Imputation Numeric Model</td>\n",
       "                        <td id=\"T_05e43b28_983c_11eb_a225_00e0201808a0row25_col1\" class=\"data row25 col1\" >None</td>\n",
       "            </tr>\n",
       "            <tr>\n",
       "                        <th id=\"T_05e43b28_983c_11eb_a225_00e0201808a0level0_row26\" class=\"row_heading level0 row26\" >26</th>\n",
       "                        <td id=\"T_05e43b28_983c_11eb_a225_00e0201808a0row26_col0\" class=\"data row26 col0\" >Categorical Imputer</td>\n",
       "                        <td id=\"T_05e43b28_983c_11eb_a225_00e0201808a0row26_col1\" class=\"data row26 col1\" >constant</td>\n",
       "            </tr>\n",
       "            <tr>\n",
       "                        <th id=\"T_05e43b28_983c_11eb_a225_00e0201808a0level0_row27\" class=\"row_heading level0 row27\" >27</th>\n",
       "                        <td id=\"T_05e43b28_983c_11eb_a225_00e0201808a0row27_col0\" class=\"data row27 col0\" >Iterative Imputation Categorical Model</td>\n",
       "                        <td id=\"T_05e43b28_983c_11eb_a225_00e0201808a0row27_col1\" class=\"data row27 col1\" >None</td>\n",
       "            </tr>\n",
       "            <tr>\n",
       "                        <th id=\"T_05e43b28_983c_11eb_a225_00e0201808a0level0_row28\" class=\"row_heading level0 row28\" >28</th>\n",
       "                        <td id=\"T_05e43b28_983c_11eb_a225_00e0201808a0row28_col0\" class=\"data row28 col0\" >Unknown Categoricals Handling</td>\n",
       "                        <td id=\"T_05e43b28_983c_11eb_a225_00e0201808a0row28_col1\" class=\"data row28 col1\" >least_frequent</td>\n",
       "            </tr>\n",
       "            <tr>\n",
       "                        <th id=\"T_05e43b28_983c_11eb_a225_00e0201808a0level0_row29\" class=\"row_heading level0 row29\" >29</th>\n",
       "                        <td id=\"T_05e43b28_983c_11eb_a225_00e0201808a0row29_col0\" class=\"data row29 col0\" >Normalize</td>\n",
       "                        <td id=\"T_05e43b28_983c_11eb_a225_00e0201808a0row29_col1\" class=\"data row29 col1\" >False</td>\n",
       "            </tr>\n",
       "            <tr>\n",
       "                        <th id=\"T_05e43b28_983c_11eb_a225_00e0201808a0level0_row30\" class=\"row_heading level0 row30\" >30</th>\n",
       "                        <td id=\"T_05e43b28_983c_11eb_a225_00e0201808a0row30_col0\" class=\"data row30 col0\" >Normalize Method</td>\n",
       "                        <td id=\"T_05e43b28_983c_11eb_a225_00e0201808a0row30_col1\" class=\"data row30 col1\" >None</td>\n",
       "            </tr>\n",
       "            <tr>\n",
       "                        <th id=\"T_05e43b28_983c_11eb_a225_00e0201808a0level0_row31\" class=\"row_heading level0 row31\" >31</th>\n",
       "                        <td id=\"T_05e43b28_983c_11eb_a225_00e0201808a0row31_col0\" class=\"data row31 col0\" >Transformation</td>\n",
       "                        <td id=\"T_05e43b28_983c_11eb_a225_00e0201808a0row31_col1\" class=\"data row31 col1\" >False</td>\n",
       "            </tr>\n",
       "            <tr>\n",
       "                        <th id=\"T_05e43b28_983c_11eb_a225_00e0201808a0level0_row32\" class=\"row_heading level0 row32\" >32</th>\n",
       "                        <td id=\"T_05e43b28_983c_11eb_a225_00e0201808a0row32_col0\" class=\"data row32 col0\" >Transformation Method</td>\n",
       "                        <td id=\"T_05e43b28_983c_11eb_a225_00e0201808a0row32_col1\" class=\"data row32 col1\" >None</td>\n",
       "            </tr>\n",
       "            <tr>\n",
       "                        <th id=\"T_05e43b28_983c_11eb_a225_00e0201808a0level0_row33\" class=\"row_heading level0 row33\" >33</th>\n",
       "                        <td id=\"T_05e43b28_983c_11eb_a225_00e0201808a0row33_col0\" class=\"data row33 col0\" >PCA</td>\n",
       "                        <td id=\"T_05e43b28_983c_11eb_a225_00e0201808a0row33_col1\" class=\"data row33 col1\" >False</td>\n",
       "            </tr>\n",
       "            <tr>\n",
       "                        <th id=\"T_05e43b28_983c_11eb_a225_00e0201808a0level0_row34\" class=\"row_heading level0 row34\" >34</th>\n",
       "                        <td id=\"T_05e43b28_983c_11eb_a225_00e0201808a0row34_col0\" class=\"data row34 col0\" >PCA Method</td>\n",
       "                        <td id=\"T_05e43b28_983c_11eb_a225_00e0201808a0row34_col1\" class=\"data row34 col1\" >None</td>\n",
       "            </tr>\n",
       "            <tr>\n",
       "                        <th id=\"T_05e43b28_983c_11eb_a225_00e0201808a0level0_row35\" class=\"row_heading level0 row35\" >35</th>\n",
       "                        <td id=\"T_05e43b28_983c_11eb_a225_00e0201808a0row35_col0\" class=\"data row35 col0\" >PCA Components</td>\n",
       "                        <td id=\"T_05e43b28_983c_11eb_a225_00e0201808a0row35_col1\" class=\"data row35 col1\" >None</td>\n",
       "            </tr>\n",
       "            <tr>\n",
       "                        <th id=\"T_05e43b28_983c_11eb_a225_00e0201808a0level0_row36\" class=\"row_heading level0 row36\" >36</th>\n",
       "                        <td id=\"T_05e43b28_983c_11eb_a225_00e0201808a0row36_col0\" class=\"data row36 col0\" >Ignore Low Variance</td>\n",
       "                        <td id=\"T_05e43b28_983c_11eb_a225_00e0201808a0row36_col1\" class=\"data row36 col1\" >False</td>\n",
       "            </tr>\n",
       "            <tr>\n",
       "                        <th id=\"T_05e43b28_983c_11eb_a225_00e0201808a0level0_row37\" class=\"row_heading level0 row37\" >37</th>\n",
       "                        <td id=\"T_05e43b28_983c_11eb_a225_00e0201808a0row37_col0\" class=\"data row37 col0\" >Combine Rare Levels</td>\n",
       "                        <td id=\"T_05e43b28_983c_11eb_a225_00e0201808a0row37_col1\" class=\"data row37 col1\" >False</td>\n",
       "            </tr>\n",
       "            <tr>\n",
       "                        <th id=\"T_05e43b28_983c_11eb_a225_00e0201808a0level0_row38\" class=\"row_heading level0 row38\" >38</th>\n",
       "                        <td id=\"T_05e43b28_983c_11eb_a225_00e0201808a0row38_col0\" class=\"data row38 col0\" >Rare Level Threshold</td>\n",
       "                        <td id=\"T_05e43b28_983c_11eb_a225_00e0201808a0row38_col1\" class=\"data row38 col1\" >None</td>\n",
       "            </tr>\n",
       "            <tr>\n",
       "                        <th id=\"T_05e43b28_983c_11eb_a225_00e0201808a0level0_row39\" class=\"row_heading level0 row39\" >39</th>\n",
       "                        <td id=\"T_05e43b28_983c_11eb_a225_00e0201808a0row39_col0\" class=\"data row39 col0\" >Numeric Binning</td>\n",
       "                        <td id=\"T_05e43b28_983c_11eb_a225_00e0201808a0row39_col1\" class=\"data row39 col1\" >False</td>\n",
       "            </tr>\n",
       "            <tr>\n",
       "                        <th id=\"T_05e43b28_983c_11eb_a225_00e0201808a0level0_row40\" class=\"row_heading level0 row40\" >40</th>\n",
       "                        <td id=\"T_05e43b28_983c_11eb_a225_00e0201808a0row40_col0\" class=\"data row40 col0\" >Remove Outliers</td>\n",
       "                        <td id=\"T_05e43b28_983c_11eb_a225_00e0201808a0row40_col1\" class=\"data row40 col1\" >False</td>\n",
       "            </tr>\n",
       "            <tr>\n",
       "                        <th id=\"T_05e43b28_983c_11eb_a225_00e0201808a0level0_row41\" class=\"row_heading level0 row41\" >41</th>\n",
       "                        <td id=\"T_05e43b28_983c_11eb_a225_00e0201808a0row41_col0\" class=\"data row41 col0\" >Outliers Threshold</td>\n",
       "                        <td id=\"T_05e43b28_983c_11eb_a225_00e0201808a0row41_col1\" class=\"data row41 col1\" >None</td>\n",
       "            </tr>\n",
       "            <tr>\n",
       "                        <th id=\"T_05e43b28_983c_11eb_a225_00e0201808a0level0_row42\" class=\"row_heading level0 row42\" >42</th>\n",
       "                        <td id=\"T_05e43b28_983c_11eb_a225_00e0201808a0row42_col0\" class=\"data row42 col0\" >Remove Multicollinearity</td>\n",
       "                        <td id=\"T_05e43b28_983c_11eb_a225_00e0201808a0row42_col1\" class=\"data row42 col1\" >False</td>\n",
       "            </tr>\n",
       "            <tr>\n",
       "                        <th id=\"T_05e43b28_983c_11eb_a225_00e0201808a0level0_row43\" class=\"row_heading level0 row43\" >43</th>\n",
       "                        <td id=\"T_05e43b28_983c_11eb_a225_00e0201808a0row43_col0\" class=\"data row43 col0\" >Multicollinearity Threshold</td>\n",
       "                        <td id=\"T_05e43b28_983c_11eb_a225_00e0201808a0row43_col1\" class=\"data row43 col1\" >None</td>\n",
       "            </tr>\n",
       "            <tr>\n",
       "                        <th id=\"T_05e43b28_983c_11eb_a225_00e0201808a0level0_row44\" class=\"row_heading level0 row44\" >44</th>\n",
       "                        <td id=\"T_05e43b28_983c_11eb_a225_00e0201808a0row44_col0\" class=\"data row44 col0\" >Clustering</td>\n",
       "                        <td id=\"T_05e43b28_983c_11eb_a225_00e0201808a0row44_col1\" class=\"data row44 col1\" >False</td>\n",
       "            </tr>\n",
       "            <tr>\n",
       "                        <th id=\"T_05e43b28_983c_11eb_a225_00e0201808a0level0_row45\" class=\"row_heading level0 row45\" >45</th>\n",
       "                        <td id=\"T_05e43b28_983c_11eb_a225_00e0201808a0row45_col0\" class=\"data row45 col0\" >Clustering Iteration</td>\n",
       "                        <td id=\"T_05e43b28_983c_11eb_a225_00e0201808a0row45_col1\" class=\"data row45 col1\" >None</td>\n",
       "            </tr>\n",
       "            <tr>\n",
       "                        <th id=\"T_05e43b28_983c_11eb_a225_00e0201808a0level0_row46\" class=\"row_heading level0 row46\" >46</th>\n",
       "                        <td id=\"T_05e43b28_983c_11eb_a225_00e0201808a0row46_col0\" class=\"data row46 col0\" >Polynomial Features</td>\n",
       "                        <td id=\"T_05e43b28_983c_11eb_a225_00e0201808a0row46_col1\" class=\"data row46 col1\" >False</td>\n",
       "            </tr>\n",
       "            <tr>\n",
       "                        <th id=\"T_05e43b28_983c_11eb_a225_00e0201808a0level0_row47\" class=\"row_heading level0 row47\" >47</th>\n",
       "                        <td id=\"T_05e43b28_983c_11eb_a225_00e0201808a0row47_col0\" class=\"data row47 col0\" >Polynomial Degree</td>\n",
       "                        <td id=\"T_05e43b28_983c_11eb_a225_00e0201808a0row47_col1\" class=\"data row47 col1\" >None</td>\n",
       "            </tr>\n",
       "            <tr>\n",
       "                        <th id=\"T_05e43b28_983c_11eb_a225_00e0201808a0level0_row48\" class=\"row_heading level0 row48\" >48</th>\n",
       "                        <td id=\"T_05e43b28_983c_11eb_a225_00e0201808a0row48_col0\" class=\"data row48 col0\" >Trignometry Features</td>\n",
       "                        <td id=\"T_05e43b28_983c_11eb_a225_00e0201808a0row48_col1\" class=\"data row48 col1\" >False</td>\n",
       "            </tr>\n",
       "            <tr>\n",
       "                        <th id=\"T_05e43b28_983c_11eb_a225_00e0201808a0level0_row49\" class=\"row_heading level0 row49\" >49</th>\n",
       "                        <td id=\"T_05e43b28_983c_11eb_a225_00e0201808a0row49_col0\" class=\"data row49 col0\" >Polynomial Threshold</td>\n",
       "                        <td id=\"T_05e43b28_983c_11eb_a225_00e0201808a0row49_col1\" class=\"data row49 col1\" >None</td>\n",
       "            </tr>\n",
       "            <tr>\n",
       "                        <th id=\"T_05e43b28_983c_11eb_a225_00e0201808a0level0_row50\" class=\"row_heading level0 row50\" >50</th>\n",
       "                        <td id=\"T_05e43b28_983c_11eb_a225_00e0201808a0row50_col0\" class=\"data row50 col0\" >Group Features</td>\n",
       "                        <td id=\"T_05e43b28_983c_11eb_a225_00e0201808a0row50_col1\" class=\"data row50 col1\" >False</td>\n",
       "            </tr>\n",
       "            <tr>\n",
       "                        <th id=\"T_05e43b28_983c_11eb_a225_00e0201808a0level0_row51\" class=\"row_heading level0 row51\" >51</th>\n",
       "                        <td id=\"T_05e43b28_983c_11eb_a225_00e0201808a0row51_col0\" class=\"data row51 col0\" >Feature Selection</td>\n",
       "                        <td id=\"T_05e43b28_983c_11eb_a225_00e0201808a0row51_col1\" class=\"data row51 col1\" >False</td>\n",
       "            </tr>\n",
       "            <tr>\n",
       "                        <th id=\"T_05e43b28_983c_11eb_a225_00e0201808a0level0_row52\" class=\"row_heading level0 row52\" >52</th>\n",
       "                        <td id=\"T_05e43b28_983c_11eb_a225_00e0201808a0row52_col0\" class=\"data row52 col0\" >Feature Selection Method</td>\n",
       "                        <td id=\"T_05e43b28_983c_11eb_a225_00e0201808a0row52_col1\" class=\"data row52 col1\" >classic</td>\n",
       "            </tr>\n",
       "            <tr>\n",
       "                        <th id=\"T_05e43b28_983c_11eb_a225_00e0201808a0level0_row53\" class=\"row_heading level0 row53\" >53</th>\n",
       "                        <td id=\"T_05e43b28_983c_11eb_a225_00e0201808a0row53_col0\" class=\"data row53 col0\" >Features Selection Threshold</td>\n",
       "                        <td id=\"T_05e43b28_983c_11eb_a225_00e0201808a0row53_col1\" class=\"data row53 col1\" >None</td>\n",
       "            </tr>\n",
       "            <tr>\n",
       "                        <th id=\"T_05e43b28_983c_11eb_a225_00e0201808a0level0_row54\" class=\"row_heading level0 row54\" >54</th>\n",
       "                        <td id=\"T_05e43b28_983c_11eb_a225_00e0201808a0row54_col0\" class=\"data row54 col0\" >Feature Interaction</td>\n",
       "                        <td id=\"T_05e43b28_983c_11eb_a225_00e0201808a0row54_col1\" class=\"data row54 col1\" >False</td>\n",
       "            </tr>\n",
       "            <tr>\n",
       "                        <th id=\"T_05e43b28_983c_11eb_a225_00e0201808a0level0_row55\" class=\"row_heading level0 row55\" >55</th>\n",
       "                        <td id=\"T_05e43b28_983c_11eb_a225_00e0201808a0row55_col0\" class=\"data row55 col0\" >Feature Ratio</td>\n",
       "                        <td id=\"T_05e43b28_983c_11eb_a225_00e0201808a0row55_col1\" class=\"data row55 col1\" >False</td>\n",
       "            </tr>\n",
       "            <tr>\n",
       "                        <th id=\"T_05e43b28_983c_11eb_a225_00e0201808a0level0_row56\" class=\"row_heading level0 row56\" >56</th>\n",
       "                        <td id=\"T_05e43b28_983c_11eb_a225_00e0201808a0row56_col0\" class=\"data row56 col0\" >Interaction Threshold</td>\n",
       "                        <td id=\"T_05e43b28_983c_11eb_a225_00e0201808a0row56_col1\" class=\"data row56 col1\" >None</td>\n",
       "            </tr>\n",
       "            <tr>\n",
       "                        <th id=\"T_05e43b28_983c_11eb_a225_00e0201808a0level0_row57\" class=\"row_heading level0 row57\" >57</th>\n",
       "                        <td id=\"T_05e43b28_983c_11eb_a225_00e0201808a0row57_col0\" class=\"data row57 col0\" >Fix Imbalance</td>\n",
       "                        <td id=\"T_05e43b28_983c_11eb_a225_00e0201808a0row57_col1\" class=\"data row57 col1\" >False</td>\n",
       "            </tr>\n",
       "            <tr>\n",
       "                        <th id=\"T_05e43b28_983c_11eb_a225_00e0201808a0level0_row58\" class=\"row_heading level0 row58\" >58</th>\n",
       "                        <td id=\"T_05e43b28_983c_11eb_a225_00e0201808a0row58_col0\" class=\"data row58 col0\" >Fix Imbalance Method</td>\n",
       "                        <td id=\"T_05e43b28_983c_11eb_a225_00e0201808a0row58_col1\" class=\"data row58 col1\" >SMOTE</td>\n",
       "            </tr>\n",
       "    </tbody></table>"
      ],
      "text/plain": [
       "<pandas.io.formats.style.Styler at 0x1a5135e9e08>"
      ]
     },
     "metadata": {},
     "output_type": "display_data"
    },
    {
     "name": "stdout",
     "output_type": "stream",
     "text": [
      "Wall time: 3.65 s\n"
     ]
    }
   ],
   "source": [
    "%%time\n",
    "clf = setup(session_id=seed, \n",
    "            data = train, target = 'credit'\n",
    "          , categorical_features=col\n",
    "          , numeric_features = ['child_num','family_size']#,,'tp17','tp4','Q_A15','Q_A3','Q_A15tp17','Q_A3tp4']#['Q_A1','Q_A3','Q_A5','tp17','tp4','Q_A15tp17','Q_A3tp4']\n",
    "          #, ignore_features =[]\n",
    "           )"
   ]
  },
  {
   "cell_type": "code",
   "execution_count": 77,
   "metadata": {},
   "outputs": [
    {
     "data": {
      "text/plain": [
       "Name                                                           LogLoss\n",
       "Display Name                                                   LogLoss\n",
       "Score Function               <function log_loss at 0x000001A509998798>\n",
       "Scorer               make_scorer(log_loss, greater_is_better=False,...\n",
       "Target                                                      pred_proba\n",
       "Args                                                                {}\n",
       "Greater is Better                                                False\n",
       "Multiclass                                                        True\n",
       "Custom                                                            True\n",
       "Name: logloss, dtype: object"
      ]
     },
     "execution_count": 77,
     "metadata": {},
     "output_type": "execute_result"
    }
   ],
   "source": [
    "#logloss 적용 및 predict_proba로 제출하기 위해 metric 추가\n",
    "add_metric('logloss', 'LogLoss', log_loss, greater_is_better=False, target=\"pred_proba\")"
   ]
  },
  {
   "cell_type": "code",
   "execution_count": 78,
   "metadata": {},
   "outputs": [
    {
     "data": {
      "text/html": [
       "<style  type=\"text/css\" >\n",
       "    #T_8054d280_983c_11eb_962f_00e0201808a0 th {\n",
       "          text-align: left;\n",
       "    }#T_8054d280_983c_11eb_962f_00e0201808a0row0_col0,#T_8054d280_983c_11eb_962f_00e0201808a0row0_col2,#T_8054d280_983c_11eb_962f_00e0201808a0row0_col3,#T_8054d280_983c_11eb_962f_00e0201808a0row0_col4,#T_8054d280_983c_11eb_962f_00e0201808a0row0_col5,#T_8054d280_983c_11eb_962f_00e0201808a0row0_col6,#T_8054d280_983c_11eb_962f_00e0201808a0row0_col7,#T_8054d280_983c_11eb_962f_00e0201808a0row1_col0,#T_8054d280_983c_11eb_962f_00e0201808a0row1_col1,#T_8054d280_983c_11eb_962f_00e0201808a0row1_col2,#T_8054d280_983c_11eb_962f_00e0201808a0row1_col3,#T_8054d280_983c_11eb_962f_00e0201808a0row1_col5,#T_8054d280_983c_11eb_962f_00e0201808a0row1_col6,#T_8054d280_983c_11eb_962f_00e0201808a0row1_col7,#T_8054d280_983c_11eb_962f_00e0201808a0row1_col8,#T_8054d280_983c_11eb_962f_00e0201808a0row2_col0,#T_8054d280_983c_11eb_962f_00e0201808a0row2_col1,#T_8054d280_983c_11eb_962f_00e0201808a0row2_col2,#T_8054d280_983c_11eb_962f_00e0201808a0row2_col3,#T_8054d280_983c_11eb_962f_00e0201808a0row2_col4,#T_8054d280_983c_11eb_962f_00e0201808a0row2_col5,#T_8054d280_983c_11eb_962f_00e0201808a0row2_col6,#T_8054d280_983c_11eb_962f_00e0201808a0row2_col7,#T_8054d280_983c_11eb_962f_00e0201808a0row2_col8,#T_8054d280_983c_11eb_962f_00e0201808a0row3_col0,#T_8054d280_983c_11eb_962f_00e0201808a0row3_col1,#T_8054d280_983c_11eb_962f_00e0201808a0row3_col4,#T_8054d280_983c_11eb_962f_00e0201808a0row3_col8{\n",
       "            text-align:  left;\n",
       "            text-align:  left;\n",
       "        }#T_8054d280_983c_11eb_962f_00e0201808a0row0_col1,#T_8054d280_983c_11eb_962f_00e0201808a0row0_col8,#T_8054d280_983c_11eb_962f_00e0201808a0row1_col4,#T_8054d280_983c_11eb_962f_00e0201808a0row3_col2,#T_8054d280_983c_11eb_962f_00e0201808a0row3_col3,#T_8054d280_983c_11eb_962f_00e0201808a0row3_col5,#T_8054d280_983c_11eb_962f_00e0201808a0row3_col6,#T_8054d280_983c_11eb_962f_00e0201808a0row3_col7{\n",
       "            text-align:  left;\n",
       "            text-align:  left;\n",
       "            background-color:  yellow;\n",
       "        }#T_8054d280_983c_11eb_962f_00e0201808a0row0_col9,#T_8054d280_983c_11eb_962f_00e0201808a0row2_col9,#T_8054d280_983c_11eb_962f_00e0201808a0row3_col9{\n",
       "            text-align:  left;\n",
       "            text-align:  left;\n",
       "            background-color:  lightgrey;\n",
       "        }#T_8054d280_983c_11eb_962f_00e0201808a0row1_col9{\n",
       "            text-align:  left;\n",
       "            text-align:  left;\n",
       "            background-color:  yellow;\n",
       "            background-color:  lightgrey;\n",
       "        }</style><table id=\"T_8054d280_983c_11eb_962f_00e0201808a0\" ><thead>    <tr>        <th class=\"blank level0\" ></th>        <th class=\"col_heading level0 col0\" >Model</th>        <th class=\"col_heading level0 col1\" >Accuracy</th>        <th class=\"col_heading level0 col2\" >AUC</th>        <th class=\"col_heading level0 col3\" >Recall</th>        <th class=\"col_heading level0 col4\" >Prec.</th>        <th class=\"col_heading level0 col5\" >F1</th>        <th class=\"col_heading level0 col6\" >Kappa</th>        <th class=\"col_heading level0 col7\" >MCC</th>        <th class=\"col_heading level0 col8\" >LogLoss</th>        <th class=\"col_heading level0 col9\" >TT (Sec)</th>    </tr></thead><tbody>\n",
       "                <tr>\n",
       "                        <th id=\"T_8054d280_983c_11eb_962f_00e0201808a0level0_row0\" class=\"row_heading level0 row0\" >catboost</th>\n",
       "                        <td id=\"T_8054d280_983c_11eb_962f_00e0201808a0row0_col0\" class=\"data row0 col0\" >CatBoost Classifier</td>\n",
       "                        <td id=\"T_8054d280_983c_11eb_962f_00e0201808a0row0_col1\" class=\"data row0 col1\" >0.7066</td>\n",
       "                        <td id=\"T_8054d280_983c_11eb_962f_00e0201808a0row0_col2\" class=\"data row0 col2\" >0.7111</td>\n",
       "                        <td id=\"T_8054d280_983c_11eb_962f_00e0201808a0row0_col3\" class=\"data row0 col3\" >0.4519</td>\n",
       "                        <td id=\"T_8054d280_983c_11eb_962f_00e0201808a0row0_col4\" class=\"data row0 col4\" >0.6934</td>\n",
       "                        <td id=\"T_8054d280_983c_11eb_962f_00e0201808a0row0_col5\" class=\"data row0 col5\" >0.6449</td>\n",
       "                        <td id=\"T_8054d280_983c_11eb_962f_00e0201808a0row0_col6\" class=\"data row0 col6\" >0.2792</td>\n",
       "                        <td id=\"T_8054d280_983c_11eb_962f_00e0201808a0row0_col7\" class=\"data row0 col7\" >0.3420</td>\n",
       "                        <td id=\"T_8054d280_983c_11eb_962f_00e0201808a0row0_col8\" class=\"data row0 col8\" >0.7603</td>\n",
       "                        <td id=\"T_8054d280_983c_11eb_962f_00e0201808a0row0_col9\" class=\"data row0 col9\" >12.7700</td>\n",
       "            </tr>\n",
       "            <tr>\n",
       "                        <th id=\"T_8054d280_983c_11eb_962f_00e0201808a0level0_row1\" class=\"row_heading level0 row1\" >lightgbm</th>\n",
       "                        <td id=\"T_8054d280_983c_11eb_962f_00e0201808a0row1_col0\" class=\"data row1 col0\" >Light Gradient Boosting Machine</td>\n",
       "                        <td id=\"T_8054d280_983c_11eb_962f_00e0201808a0row1_col1\" class=\"data row1 col1\" >0.6996</td>\n",
       "                        <td id=\"T_8054d280_983c_11eb_962f_00e0201808a0row1_col2\" class=\"data row1 col2\" >0.7021</td>\n",
       "                        <td id=\"T_8054d280_983c_11eb_962f_00e0201808a0row1_col3\" class=\"data row1 col3\" >0.4222</td>\n",
       "                        <td id=\"T_8054d280_983c_11eb_962f_00e0201808a0row1_col4\" class=\"data row1 col4\" >0.7061</td>\n",
       "                        <td id=\"T_8054d280_983c_11eb_962f_00e0201808a0row1_col5\" class=\"data row1 col5\" >0.6206</td>\n",
       "                        <td id=\"T_8054d280_983c_11eb_962f_00e0201808a0row1_col6\" class=\"data row1 col6\" >0.2333</td>\n",
       "                        <td id=\"T_8054d280_983c_11eb_962f_00e0201808a0row1_col7\" class=\"data row1 col7\" >0.3204</td>\n",
       "                        <td id=\"T_8054d280_983c_11eb_962f_00e0201808a0row1_col8\" class=\"data row1 col8\" >0.7683</td>\n",
       "                        <td id=\"T_8054d280_983c_11eb_962f_00e0201808a0row1_col9\" class=\"data row1 col9\" >0.3730</td>\n",
       "            </tr>\n",
       "            <tr>\n",
       "                        <th id=\"T_8054d280_983c_11eb_962f_00e0201808a0level0_row2\" class=\"row_heading level0 row2\" >gbc</th>\n",
       "                        <td id=\"T_8054d280_983c_11eb_962f_00e0201808a0row2_col0\" class=\"data row2 col0\" >Gradient Boosting Classifier</td>\n",
       "                        <td id=\"T_8054d280_983c_11eb_962f_00e0201808a0row2_col1\" class=\"data row2 col1\" >0.6922</td>\n",
       "                        <td id=\"T_8054d280_983c_11eb_962f_00e0201808a0row2_col2\" class=\"data row2 col2\" >0.6578</td>\n",
       "                        <td id=\"T_8054d280_983c_11eb_962f_00e0201808a0row2_col3\" class=\"data row2 col3\" >0.4079</td>\n",
       "                        <td id=\"T_8054d280_983c_11eb_962f_00e0201808a0row2_col4\" class=\"data row2 col4\" >0.6389</td>\n",
       "                        <td id=\"T_8054d280_983c_11eb_962f_00e0201808a0row2_col5\" class=\"data row2 col5\" >0.6067</td>\n",
       "                        <td id=\"T_8054d280_983c_11eb_962f_00e0201808a0row2_col6\" class=\"data row2 col6\" >0.2061</td>\n",
       "                        <td id=\"T_8054d280_983c_11eb_962f_00e0201808a0row2_col7\" class=\"data row2 col7\" >0.2960</td>\n",
       "                        <td id=\"T_8054d280_983c_11eb_962f_00e0201808a0row2_col8\" class=\"data row2 col8\" >0.7933</td>\n",
       "                        <td id=\"T_8054d280_983c_11eb_962f_00e0201808a0row2_col9\" class=\"data row2 col9\" >3.0430</td>\n",
       "            </tr>\n",
       "            <tr>\n",
       "                        <th id=\"T_8054d280_983c_11eb_962f_00e0201808a0level0_row3\" class=\"row_heading level0 row3\" >rf</th>\n",
       "                        <td id=\"T_8054d280_983c_11eb_962f_00e0201808a0row3_col0\" class=\"data row3 col0\" >Random Forest Classifier</td>\n",
       "                        <td id=\"T_8054d280_983c_11eb_962f_00e0201808a0row3_col1\" class=\"data row3 col1\" >0.6990</td>\n",
       "                        <td id=\"T_8054d280_983c_11eb_962f_00e0201808a0row3_col2\" class=\"data row3 col2\" >0.7451</td>\n",
       "                        <td id=\"T_8054d280_983c_11eb_962f_00e0201808a0row3_col3\" class=\"data row3 col3\" >0.5364</td>\n",
       "                        <td id=\"T_8054d280_983c_11eb_962f_00e0201808a0row3_col4\" class=\"data row3 col4\" >0.6772</td>\n",
       "                        <td id=\"T_8054d280_983c_11eb_962f_00e0201808a0row3_col5\" class=\"data row3 col5\" >0.6821</td>\n",
       "                        <td id=\"T_8054d280_983c_11eb_962f_00e0201808a0row3_col6\" class=\"data row3 col6\" >0.3653</td>\n",
       "                        <td id=\"T_8054d280_983c_11eb_962f_00e0201808a0row3_col7\" class=\"data row3 col7\" >0.3719</td>\n",
       "                        <td id=\"T_8054d280_983c_11eb_962f_00e0201808a0row3_col8\" class=\"data row3 col8\" >0.9496</td>\n",
       "                        <td id=\"T_8054d280_983c_11eb_962f_00e0201808a0row3_col9\" class=\"data row3 col9\" >1.7480</td>\n",
       "            </tr>\n",
       "    </tbody></table>"
      ],
      "text/plain": [
       "<pandas.io.formats.style.Styler at 0x1a5135e9e88>"
      ]
     },
     "metadata": {},
     "output_type": "display_data"
    }
   ],
   "source": [
    "#best5 = compare_models(fold = 5, sort = 'logloss', n_select = 5, exclude=['svm','ridge'])\n",
    "best_4 = compare_models(sort = 'LogLoss', n_select = 4\n",
    "                       ,exclude=['lr', 'knn', 'nb', 'dt', 'svm', 'rbfsvm', 'ridge','qda'\\\n",
    "                                 ,'et','ada','lda']\n",
    "                       #,exclude=['lr', 'knn', 'nb', 'dt', 'svm', 'rbfsvm', 'gpc', 'mlp', 'ridge', 'rf', 'qda', 'ada', 'xgboost']\n",
    "                       )"
   ]
  },
  {
   "cell_type": "code",
   "execution_count": 79,
   "metadata": {},
   "outputs": [
    {
     "data": {
      "text/html": [
       "<style  type=\"text/css\" >\n",
       "#T_baf14bca_983c_11eb_8b65_00e0201808a0row5_col0,#T_baf14bca_983c_11eb_8b65_00e0201808a0row5_col1,#T_baf14bca_983c_11eb_8b65_00e0201808a0row5_col2,#T_baf14bca_983c_11eb_8b65_00e0201808a0row5_col3,#T_baf14bca_983c_11eb_8b65_00e0201808a0row5_col4,#T_baf14bca_983c_11eb_8b65_00e0201808a0row5_col5,#T_baf14bca_983c_11eb_8b65_00e0201808a0row5_col6,#T_baf14bca_983c_11eb_8b65_00e0201808a0row5_col7{\n",
       "            background:  yellow;\n",
       "        }</style><table id=\"T_baf14bca_983c_11eb_8b65_00e0201808a0\" ><thead>    <tr>        <th class=\"blank level0\" ></th>        <th class=\"col_heading level0 col0\" >Accuracy</th>        <th class=\"col_heading level0 col1\" >AUC</th>        <th class=\"col_heading level0 col2\" >Recall</th>        <th class=\"col_heading level0 col3\" >Prec.</th>        <th class=\"col_heading level0 col4\" >F1</th>        <th class=\"col_heading level0 col5\" >Kappa</th>        <th class=\"col_heading level0 col6\" >MCC</th>        <th class=\"col_heading level0 col7\" >LogLoss</th>    </tr></thead><tbody>\n",
       "                <tr>\n",
       "                        <th id=\"T_baf14bca_983c_11eb_8b65_00e0201808a0level0_row0\" class=\"row_heading level0 row0\" >0</th>\n",
       "                        <td id=\"T_baf14bca_983c_11eb_8b65_00e0201808a0row0_col0\" class=\"data row0 col0\" >0.7090</td>\n",
       "                        <td id=\"T_baf14bca_983c_11eb_8b65_00e0201808a0row0_col1\" class=\"data row0 col1\" >0.7291</td>\n",
       "                        <td id=\"T_baf14bca_983c_11eb_8b65_00e0201808a0row0_col2\" class=\"data row0 col2\" >0.4468</td>\n",
       "                        <td id=\"T_baf14bca_983c_11eb_8b65_00e0201808a0row0_col3\" class=\"data row0 col3\" >0.7213</td>\n",
       "                        <td id=\"T_baf14bca_983c_11eb_8b65_00e0201808a0row0_col4\" class=\"data row0 col4\" >0.6419</td>\n",
       "                        <td id=\"T_baf14bca_983c_11eb_8b65_00e0201808a0row0_col5\" class=\"data row0 col5\" >0.2728</td>\n",
       "                        <td id=\"T_baf14bca_983c_11eb_8b65_00e0201808a0row0_col6\" class=\"data row0 col6\" >0.3493</td>\n",
       "                        <td id=\"T_baf14bca_983c_11eb_8b65_00e0201808a0row0_col7\" class=\"data row0 col7\" >0.7383</td>\n",
       "            </tr>\n",
       "            <tr>\n",
       "                        <th id=\"T_baf14bca_983c_11eb_8b65_00e0201808a0level0_row1\" class=\"row_heading level0 row1\" >1</th>\n",
       "                        <td id=\"T_baf14bca_983c_11eb_8b65_00e0201808a0row1_col0\" class=\"data row1 col0\" >0.7030</td>\n",
       "                        <td id=\"T_baf14bca_983c_11eb_8b65_00e0201808a0row1_col1\" class=\"data row1 col1\" >0.7247</td>\n",
       "                        <td id=\"T_baf14bca_983c_11eb_8b65_00e0201808a0row1_col2\" class=\"data row1 col2\" >0.4357</td>\n",
       "                        <td id=\"T_baf14bca_983c_11eb_8b65_00e0201808a0row1_col3\" class=\"data row1 col3\" >0.6934</td>\n",
       "                        <td id=\"T_baf14bca_983c_11eb_8b65_00e0201808a0row1_col4\" class=\"data row1 col4\" >0.6326</td>\n",
       "                        <td id=\"T_baf14bca_983c_11eb_8b65_00e0201808a0row1_col5\" class=\"data row1 col5\" >0.2568</td>\n",
       "                        <td id=\"T_baf14bca_983c_11eb_8b65_00e0201808a0row1_col6\" class=\"data row1 col6\" >0.3299</td>\n",
       "                        <td id=\"T_baf14bca_983c_11eb_8b65_00e0201808a0row1_col7\" class=\"data row1 col7\" >0.7469</td>\n",
       "            </tr>\n",
       "            <tr>\n",
       "                        <th id=\"T_baf14bca_983c_11eb_8b65_00e0201808a0level0_row2\" class=\"row_heading level0 row2\" >2</th>\n",
       "                        <td id=\"T_baf14bca_983c_11eb_8b65_00e0201808a0row2_col0\" class=\"data row2 col0\" >0.7057</td>\n",
       "                        <td id=\"T_baf14bca_983c_11eb_8b65_00e0201808a0row2_col1\" class=\"data row2 col1\" >0.7502</td>\n",
       "                        <td id=\"T_baf14bca_983c_11eb_8b65_00e0201808a0row2_col2\" class=\"data row2 col2\" >0.4399</td>\n",
       "                        <td id=\"T_baf14bca_983c_11eb_8b65_00e0201808a0row2_col3\" class=\"data row2 col3\" >0.6990</td>\n",
       "                        <td id=\"T_baf14bca_983c_11eb_8b65_00e0201808a0row2_col4\" class=\"data row2 col4\" >0.6364</td>\n",
       "                        <td id=\"T_baf14bca_983c_11eb_8b65_00e0201808a0row2_col5\" class=\"data row2 col5\" >0.2636</td>\n",
       "                        <td id=\"T_baf14bca_983c_11eb_8b65_00e0201808a0row2_col6\" class=\"data row2 col6\" >0.3398</td>\n",
       "                        <td id=\"T_baf14bca_983c_11eb_8b65_00e0201808a0row2_col7\" class=\"data row2 col7\" >0.7358</td>\n",
       "            </tr>\n",
       "            <tr>\n",
       "                        <th id=\"T_baf14bca_983c_11eb_8b65_00e0201808a0level0_row3\" class=\"row_heading level0 row3\" >3</th>\n",
       "                        <td id=\"T_baf14bca_983c_11eb_8b65_00e0201808a0row3_col0\" class=\"data row3 col0\" >0.7095</td>\n",
       "                        <td id=\"T_baf14bca_983c_11eb_8b65_00e0201808a0row3_col1\" class=\"data row3 col1\" >0.7416</td>\n",
       "                        <td id=\"T_baf14bca_983c_11eb_8b65_00e0201808a0row3_col2\" class=\"data row3 col2\" >0.4456</td>\n",
       "                        <td id=\"T_baf14bca_983c_11eb_8b65_00e0201808a0row3_col3\" class=\"data row3 col3\" >0.7055</td>\n",
       "                        <td id=\"T_baf14bca_983c_11eb_8b65_00e0201808a0row3_col4\" class=\"data row3 col4\" >0.6419</td>\n",
       "                        <td id=\"T_baf14bca_983c_11eb_8b65_00e0201808a0row3_col5\" class=\"data row3 col5\" >0.2748</td>\n",
       "                        <td id=\"T_baf14bca_983c_11eb_8b65_00e0201808a0row3_col6\" class=\"data row3 col6\" >0.3520</td>\n",
       "                        <td id=\"T_baf14bca_983c_11eb_8b65_00e0201808a0row3_col7\" class=\"data row3 col7\" >0.7377</td>\n",
       "            </tr>\n",
       "            <tr>\n",
       "                        <th id=\"T_baf14bca_983c_11eb_8b65_00e0201808a0level0_row4\" class=\"row_heading level0 row4\" >4</th>\n",
       "                        <td id=\"T_baf14bca_983c_11eb_8b65_00e0201808a0row4_col0\" class=\"data row4 col0\" >0.7029</td>\n",
       "                        <td id=\"T_baf14bca_983c_11eb_8b65_00e0201808a0row4_col1\" class=\"data row4 col1\" >0.7379</td>\n",
       "                        <td id=\"T_baf14bca_983c_11eb_8b65_00e0201808a0row4_col2\" class=\"data row4 col2\" >0.4364</td>\n",
       "                        <td id=\"T_baf14bca_983c_11eb_8b65_00e0201808a0row4_col3\" class=\"data row4 col3\" >0.6987</td>\n",
       "                        <td id=\"T_baf14bca_983c_11eb_8b65_00e0201808a0row4_col4\" class=\"data row4 col4\" >0.6330</td>\n",
       "                        <td id=\"T_baf14bca_983c_11eb_8b65_00e0201808a0row4_col5\" class=\"data row4 col5\" >0.2576</td>\n",
       "                        <td id=\"T_baf14bca_983c_11eb_8b65_00e0201808a0row4_col6\" class=\"data row4 col6\" >0.3291</td>\n",
       "                        <td id=\"T_baf14bca_983c_11eb_8b65_00e0201808a0row4_col7\" class=\"data row4 col7\" >0.7353</td>\n",
       "            </tr>\n",
       "            <tr>\n",
       "                        <th id=\"T_baf14bca_983c_11eb_8b65_00e0201808a0level0_row5\" class=\"row_heading level0 row5\" >Mean</th>\n",
       "                        <td id=\"T_baf14bca_983c_11eb_8b65_00e0201808a0row5_col0\" class=\"data row5 col0\" >0.7060</td>\n",
       "                        <td id=\"T_baf14bca_983c_11eb_8b65_00e0201808a0row5_col1\" class=\"data row5 col1\" >0.7367</td>\n",
       "                        <td id=\"T_baf14bca_983c_11eb_8b65_00e0201808a0row5_col2\" class=\"data row5 col2\" >0.4409</td>\n",
       "                        <td id=\"T_baf14bca_983c_11eb_8b65_00e0201808a0row5_col3\" class=\"data row5 col3\" >0.7036</td>\n",
       "                        <td id=\"T_baf14bca_983c_11eb_8b65_00e0201808a0row5_col4\" class=\"data row5 col4\" >0.6372</td>\n",
       "                        <td id=\"T_baf14bca_983c_11eb_8b65_00e0201808a0row5_col5\" class=\"data row5 col5\" >0.2651</td>\n",
       "                        <td id=\"T_baf14bca_983c_11eb_8b65_00e0201808a0row5_col6\" class=\"data row5 col6\" >0.3400</td>\n",
       "                        <td id=\"T_baf14bca_983c_11eb_8b65_00e0201808a0row5_col7\" class=\"data row5 col7\" >0.7388</td>\n",
       "            </tr>\n",
       "            <tr>\n",
       "                        <th id=\"T_baf14bca_983c_11eb_8b65_00e0201808a0level0_row6\" class=\"row_heading level0 row6\" >SD</th>\n",
       "                        <td id=\"T_baf14bca_983c_11eb_8b65_00e0201808a0row6_col0\" class=\"data row6 col0\" >0.0028</td>\n",
       "                        <td id=\"T_baf14bca_983c_11eb_8b65_00e0201808a0row6_col1\" class=\"data row6 col1\" >0.0090</td>\n",
       "                        <td id=\"T_baf14bca_983c_11eb_8b65_00e0201808a0row6_col2\" class=\"data row6 col2\" >0.0046</td>\n",
       "                        <td id=\"T_baf14bca_983c_11eb_8b65_00e0201808a0row6_col3\" class=\"data row6 col3\" >0.0097</td>\n",
       "                        <td id=\"T_baf14bca_983c_11eb_8b65_00e0201808a0row6_col4\" class=\"data row6 col4\" >0.0041</td>\n",
       "                        <td id=\"T_baf14bca_983c_11eb_8b65_00e0201808a0row6_col5\" class=\"data row6 col5\" >0.0075</td>\n",
       "                        <td id=\"T_baf14bca_983c_11eb_8b65_00e0201808a0row6_col6\" class=\"data row6 col6\" >0.0095</td>\n",
       "                        <td id=\"T_baf14bca_983c_11eb_8b65_00e0201808a0row6_col7\" class=\"data row6 col7\" >0.0042</td>\n",
       "            </tr>\n",
       "    </tbody></table>"
      ],
      "text/plain": [
       "<pandas.io.formats.style.Styler at 0x1a50b702b88>"
      ]
     },
     "metadata": {},
     "output_type": "display_data"
    },
    {
     "data": {
      "text/html": [
       "<style  type=\"text/css\" >\n",
       "</style><table id=\"T_bb6c7276_983c_11eb_9524_00e0201808a0\" ><thead>    <tr>        <th class=\"blank level0\" ></th>        <th class=\"col_heading level0 col0\" >Model</th>        <th class=\"col_heading level0 col1\" >Accuracy</th>        <th class=\"col_heading level0 col2\" >AUC</th>        <th class=\"col_heading level0 col3\" >Recall</th>        <th class=\"col_heading level0 col4\" >Prec.</th>        <th class=\"col_heading level0 col5\" >F1</th>        <th class=\"col_heading level0 col6\" >Kappa</th>        <th class=\"col_heading level0 col7\" >MCC</th>        <th class=\"col_heading level0 col8\" >LogLoss</th>    </tr></thead><tbody>\n",
       "                <tr>\n",
       "                        <th id=\"T_bb6c7276_983c_11eb_9524_00e0201808a0level0_row0\" class=\"row_heading level0 row0\" >0</th>\n",
       "                        <td id=\"T_bb6c7276_983c_11eb_9524_00e0201808a0row0_col0\" class=\"data row0 col0\" >Voting Classifier</td>\n",
       "                        <td id=\"T_bb6c7276_983c_11eb_9524_00e0201808a0row0_col1\" class=\"data row0 col1\" >0.7007</td>\n",
       "                        <td id=\"T_bb6c7276_983c_11eb_9524_00e0201808a0row0_col2\" class=\"data row0 col2\" >0.7498</td>\n",
       "                        <td id=\"T_bb6c7276_983c_11eb_9524_00e0201808a0row0_col3\" class=\"data row0 col3\" >0.4411</td>\n",
       "                        <td id=\"T_bb6c7276_983c_11eb_9524_00e0201808a0row0_col4\" class=\"data row0 col4\" >0.6908</td>\n",
       "                        <td id=\"T_bb6c7276_983c_11eb_9524_00e0201808a0row0_col5\" class=\"data row0 col5\" >0.6305</td>\n",
       "                        <td id=\"T_bb6c7276_983c_11eb_9524_00e0201808a0row0_col6\" class=\"data row0 col6\" >0.2654</td>\n",
       "                        <td id=\"T_bb6c7276_983c_11eb_9524_00e0201808a0row0_col7\" class=\"data row0 col7\" >0.3406</td>\n",
       "                        <td id=\"T_bb6c7276_983c_11eb_9524_00e0201808a0row0_col8\" class=\"data row0 col8\" >0.7366</td>\n",
       "            </tr>\n",
       "    </tbody></table>"
      ],
      "text/plain": [
       "<pandas.io.formats.style.Styler at 0x1a50bf5ef48>"
      ]
     },
     "metadata": {},
     "output_type": "display_data"
    }
   ],
   "source": [
    "blended = blend_models(estimator_list = best_4, fold = 5, optimize = 'logloss')\n",
    "pred_holdout = predict_model(blended)"
   ]
  },
  {
   "cell_type": "code",
   "execution_count": 80,
   "metadata": {},
   "outputs": [],
   "source": [
    "final_model = finalize_model(blended)"
   ]
  },
  {
   "cell_type": "code",
   "execution_count": 81,
   "metadata": {},
   "outputs": [],
   "source": [
    "predictions = predict_model(final_model, data = test)"
   ]
  },
  {
   "cell_type": "code",
   "execution_count": 82,
   "metadata": {},
   "outputs": [
    {
     "data": {
      "text/plain": [
       "array([[0.0779163 , 0.14027847, 0.78180523],\n",
       "       [0.23017601, 0.14486798, 0.624956  ],\n",
       "       [0.08696058, 0.10894919, 0.80409023],\n",
       "       ...,\n",
       "       [0.04574368, 0.08647716, 0.86777917],\n",
       "       [0.12292607, 0.18732745, 0.68974648],\n",
       "       [0.08815358, 0.22949836, 0.68234806]])"
      ]
     },
     "execution_count": 82,
     "metadata": {},
     "output_type": "execute_result"
    }
   ],
   "source": [
    "prep_pipe = get_config(\"prep_pipe\")\n",
    "prep_pipe.steps.append(['trained_model', final_model])\n",
    "prections = prep_pipe.predict_proba(test)\n",
    "prections"
   ]
  },
  {
   "cell_type": "code",
   "execution_count": 83,
   "metadata": {},
   "outputs": [
    {
     "data": {
      "text/html": [
       "<div>\n",
       "<style scoped>\n",
       "    .dataframe tbody tr th:only-of-type {\n",
       "        vertical-align: middle;\n",
       "    }\n",
       "\n",
       "    .dataframe tbody tr th {\n",
       "        vertical-align: top;\n",
       "    }\n",
       "\n",
       "    .dataframe thead th {\n",
       "        text-align: right;\n",
       "    }\n",
       "</style>\n",
       "<table border=\"1\" class=\"dataframe\">\n",
       "  <thead>\n",
       "    <tr style=\"text-align: right;\">\n",
       "      <th></th>\n",
       "      <th>0</th>\n",
       "      <th>1</th>\n",
       "      <th>2</th>\n",
       "    </tr>\n",
       "    <tr>\n",
       "      <th>index</th>\n",
       "      <th></th>\n",
       "      <th></th>\n",
       "      <th></th>\n",
       "    </tr>\n",
       "  </thead>\n",
       "  <tbody>\n",
       "    <tr>\n",
       "      <th>26457</th>\n",
       "      <td>0.077916</td>\n",
       "      <td>0.140278</td>\n",
       "      <td>0.781805</td>\n",
       "    </tr>\n",
       "    <tr>\n",
       "      <th>26458</th>\n",
       "      <td>0.230176</td>\n",
       "      <td>0.144868</td>\n",
       "      <td>0.624956</td>\n",
       "    </tr>\n",
       "    <tr>\n",
       "      <th>26459</th>\n",
       "      <td>0.086961</td>\n",
       "      <td>0.108949</td>\n",
       "      <td>0.804090</td>\n",
       "    </tr>\n",
       "    <tr>\n",
       "      <th>26460</th>\n",
       "      <td>0.137532</td>\n",
       "      <td>0.112610</td>\n",
       "      <td>0.749858</td>\n",
       "    </tr>\n",
       "    <tr>\n",
       "      <th>26461</th>\n",
       "      <td>0.112841</td>\n",
       "      <td>0.208258</td>\n",
       "      <td>0.678901</td>\n",
       "    </tr>\n",
       "    <tr>\n",
       "      <th>...</th>\n",
       "      <td>...</td>\n",
       "      <td>...</td>\n",
       "      <td>...</td>\n",
       "    </tr>\n",
       "    <tr>\n",
       "      <th>36452</th>\n",
       "      <td>0.157048</td>\n",
       "      <td>0.216153</td>\n",
       "      <td>0.626799</td>\n",
       "    </tr>\n",
       "    <tr>\n",
       "      <th>36453</th>\n",
       "      <td>0.121662</td>\n",
       "      <td>0.305104</td>\n",
       "      <td>0.573234</td>\n",
       "    </tr>\n",
       "    <tr>\n",
       "      <th>36454</th>\n",
       "      <td>0.045744</td>\n",
       "      <td>0.086477</td>\n",
       "      <td>0.867779</td>\n",
       "    </tr>\n",
       "    <tr>\n",
       "      <th>36455</th>\n",
       "      <td>0.122926</td>\n",
       "      <td>0.187327</td>\n",
       "      <td>0.689746</td>\n",
       "    </tr>\n",
       "    <tr>\n",
       "      <th>36456</th>\n",
       "      <td>0.088154</td>\n",
       "      <td>0.229498</td>\n",
       "      <td>0.682348</td>\n",
       "    </tr>\n",
       "  </tbody>\n",
       "</table>\n",
       "<p>10000 rows × 3 columns</p>\n",
       "</div>"
      ],
      "text/plain": [
       "              0         1         2\n",
       "index                              \n",
       "26457  0.077916  0.140278  0.781805\n",
       "26458  0.230176  0.144868  0.624956\n",
       "26459  0.086961  0.108949  0.804090\n",
       "26460  0.137532  0.112610  0.749858\n",
       "26461  0.112841  0.208258  0.678901\n",
       "...         ...       ...       ...\n",
       "36452  0.157048  0.216153  0.626799\n",
       "36453  0.121662  0.305104  0.573234\n",
       "36454  0.045744  0.086477  0.867779\n",
       "36455  0.122926  0.187327  0.689746\n",
       "36456  0.088154  0.229498  0.682348\n",
       "\n",
       "[10000 rows x 3 columns]"
      ]
     },
     "execution_count": 83,
     "metadata": {},
     "output_type": "execute_result"
    }
   ],
   "source": [
    "submission['0'] = prections[:,0]\n",
    "submission['1'] = prections[:,1]\n",
    "submission['2'] = prections[:,2]\n",
    "submission"
   ]
  },
  {
   "cell_type": "code",
   "execution_count": 85,
   "metadata": {},
   "outputs": [],
   "source": [
    "submission.to_csv('output/20210408-3.csv')"
   ]
  },
  {
   "cell_type": "markdown",
   "metadata": {},
   "source": [
    "from gtts import gTTS\n",
    "text =\"Finish Finish Finish Finish Finish Finish Finish Finish\"\n",
    "\n",
    "tts = gTTS(text=text, lang='en')\n",
    "tts.save(\"helloEN.mp3\")"
   ]
  },
  {
   "cell_type": "code",
   "execution_count": 84,
   "metadata": {},
   "outputs": [
    {
     "data": {
      "text/html": [
       "\n",
       "                <audio  controls=\"controls\" autoplay=\"autoplay\">\n",
       "                    <source src=\"data:audio/mpeg;base64,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\" type=\"audio/mpeg\" />\n",
       "                    Your browser does not support the audio element.\n",
       "                </audio>\n",
       "              "
      ],
      "text/plain": [
       "<IPython.lib.display.Audio object>"
      ]
     },
     "execution_count": 84,
     "metadata": {},
     "output_type": "execute_result"
    }
   ],
   "source": [
    "from IPython.display import Audio\n",
    "sound_file = 'helloEN.mp3'\n",
    "\n",
    "Audio(sound_file, autoplay=True)"
   ]
  },
  {
   "cell_type": "code",
   "execution_count": null,
   "metadata": {},
   "outputs": [],
   "source": []
  }
 ],
 "metadata": {
  "kernelspec": {
   "display_name": "Python 3",
   "language": "python",
   "name": "python3"
  },
  "language_info": {
   "codemirror_mode": {
    "name": "ipython",
    "version": 3
   },
   "file_extension": ".py",
   "mimetype": "text/x-python",
   "name": "python",
   "nbconvert_exporter": "python",
   "pygments_lexer": "ipython3",
   "version": "3.7.6"
  }
 },
 "nbformat": 4,
 "nbformat_minor": 4
}
