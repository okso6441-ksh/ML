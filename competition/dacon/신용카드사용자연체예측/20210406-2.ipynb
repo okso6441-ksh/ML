{
 "cells": [
  {
   "cell_type": "code",
   "execution_count": 1,
   "metadata": {},
   "outputs": [],
   "source": [
    "import numpy as np\n",
    "import pandas as pd\n",
    "import matplotlib.pyplot as plt\n",
    "import warnings\n",
    "warnings.filterwarnings('ignore')\n",
    "%matplotlib inline\n",
    "import random\n",
    "import seaborn as sns\n",
    "\n",
    "from pycaret.classification import *\n",
    "from sklearn.metrics import log_loss"
   ]
  },
  {
   "cell_type": "code",
   "execution_count": 2,
   "metadata": {},
   "outputs": [],
   "source": [
    "seed = 42\n",
    "np.random.seed(seed)"
   ]
  },
  {
   "cell_type": "code",
   "execution_count": 3,
   "metadata": {},
   "outputs": [
    {
     "data": {
      "text/plain": [
       "((26457, 19), (10000, 18), (10000, 3))"
      ]
     },
     "execution_count": 3,
     "metadata": {},
     "output_type": "execute_result"
    }
   ],
   "source": [
    "train = pd.read_csv('input/train.csv', index_col=['index'])\n",
    "test = pd.read_csv('input/test.csv', index_col=['index'])\n",
    "submission = pd.read_csv('input/submission.csv', index_col=['index'])\n",
    "\n",
    "train.shape, test.shape, submission.shape"
   ]
  },
  {
   "cell_type": "markdown",
   "metadata": {},
   "source": [
    "## null 처리 "
   ]
  },
  {
   "cell_type": "code",
   "execution_count": null,
   "metadata": {},
   "outputs": [],
   "source": [
    "print(8171/train.shape[0]*100)\n",
    "#display(train.isna().sum())\n",
    "\n",
    "print(3152/test.shape[0]*100)\n",
    "#display(test.isna().sum())"
   ]
  },
  {
   "cell_type": "code",
   "execution_count": 4,
   "metadata": {},
   "outputs": [
    {
     "data": {
      "text/plain": [
       "((26457, 18), (10000, 17))"
      ]
     },
     "execution_count": 4,
     "metadata": {},
     "output_type": "execute_result"
    }
   ],
   "source": [
    "train.drop(['occyp_type'], axis=1, inplace=True)\n",
    "test.drop(['occyp_type'], axis=1, inplace=True)\n",
    "train.shape, test.shape"
   ]
  },
  {
   "cell_type": "code",
   "execution_count": null,
   "metadata": {},
   "outputs": [],
   "source": [
    "train.FLAG_MOBIL.value_counts(), test.FLAG_MOBIL.value_counts()"
   ]
  },
  {
   "cell_type": "code",
   "execution_count": 5,
   "metadata": {},
   "outputs": [
    {
     "data": {
      "text/plain": [
       "((26457, 17), (10000, 16))"
      ]
     },
     "execution_count": 5,
     "metadata": {},
     "output_type": "execute_result"
    }
   ],
   "source": [
    "train.drop(['FLAG_MOBIL'], axis=1, inplace=True)\n",
    "test.drop(['FLAG_MOBIL'], axis=1, inplace=True)\n",
    "train.shape, test.shape"
   ]
  },
  {
   "cell_type": "code",
   "execution_count": null,
   "metadata": {},
   "outputs": [],
   "source": [
    "train.head()"
   ]
  },
  {
   "cell_type": "code",
   "execution_count": null,
   "metadata": {},
   "outputs": [],
   "source": [
    "train['gender'] = train['gender'].replace(['F','M'],[0,1])\n",
    "train['car'] = train['car'].replace(['N','Y'],[0,1])\n",
    "train['reality'] = train['reality'].replace(['N','Y'],[0,1])\n",
    "\n",
    "test['gender'] = test['gender'].replace(['F','M'],[0,1])\n",
    "test['car'] = test['car'].replace(['N','Y'],[0,1])\n",
    "test['reality'] = test['reality'].replace(['N','Y'],[0,1])"
   ]
  },
  {
   "cell_type": "code",
   "execution_count": null,
   "metadata": {},
   "outputs": [],
   "source": []
  },
  {
   "cell_type": "code",
   "execution_count": null,
   "metadata": {},
   "outputs": [],
   "source": [
    "from sklearn import preprocessing\n",
    "label_encoder=preprocessing.LabelEncoder()"
   ]
  },
  {
   "cell_type": "code",
   "execution_count": null,
   "metadata": {},
   "outputs": [],
   "source": [
    "train['income_type']=label_encoder.fit_transform(train['income_type'])\n",
    "train['edu_type']=label_encoder.fit_transform(train['edu_type'])\n",
    "train['family_type']=label_encoder.fit_transform(train['family_type'])\n",
    "train['house_type']=label_encoder.fit_transform(train['house_type'])\n",
    "\n",
    "test['income_type']=label_encoder.fit_transform(test['income_type'])\n",
    "test['edu_type']=label_encoder.fit_transform(test['edu_type'])\n",
    "test['family_type']=label_encoder.fit_transform(test['family_type'])\n",
    "test['house_type']=label_encoder.fit_transform(test['house_type'])"
   ]
  },
  {
   "cell_type": "code",
   "execution_count": null,
   "metadata": {},
   "outputs": [],
   "source": [
    "train.loc[train.child_num > 0, 'child_num'] = 1\n",
    "test.loc[test.child_num > 0, 'child_num'] = 1"
   ]
  },
  {
   "cell_type": "code",
   "execution_count": null,
   "metadata": {},
   "outputs": [],
   "source": [
    "train['DAYS_BIRTH'] = list(map(int, -train.DAYS_BIRTH/365))\n",
    "test['DAYS_BIRTH'] = list(map(int, -test.DAYS_BIRTH/365))"
   ]
  },
  {
   "cell_type": "code",
   "execution_count": null,
   "metadata": {},
   "outputs": [],
   "source": [
    "train['EMPLOYED_YN'] = '1'\n",
    "test['EMPLOYED_YN'] = '1'\n",
    "train.loc[train.DAYS_EMPLOYED == 365243, 'EMPLOYED_YN'] = 0\n",
    "test.loc[test.DAYS_EMPLOYED == 365243, 'EMPLOYED_YN'] = 0\n",
    "\n",
    "train.loc[train.DAYS_EMPLOYED == 365243, 'DAYS_EMPLOYED'] = 0\n",
    "test.loc[test.DAYS_EMPLOYED == 365243, 'DAYS_EMPLOYED'] = 0"
   ]
  },
  {
   "cell_type": "code",
   "execution_count": null,
   "metadata": {},
   "outputs": [],
   "source": [
    "train['DAYS_EMPLOYED'] = list(map(int, -train.DAYS_EMPLOYED/365))\n",
    "test['DAYS_EMPLOYED'] = list(map(int, -test.DAYS_EMPLOYED/365))"
   ]
  },
  {
   "cell_type": "code",
   "execution_count": null,
   "metadata": {},
   "outputs": [],
   "source": [
    "train['begin_month'] = - train.begin_month/12\n",
    "test['begin_month'] = - train.begin_month/12"
   ]
  },
  {
   "cell_type": "code",
   "execution_count": null,
   "metadata": {},
   "outputs": [],
   "source": [
    "train.head()"
   ]
  },
  {
   "cell_type": "code",
   "execution_count": null,
   "metadata": {},
   "outputs": [],
   "source": [
    "train.corr()"
   ]
  },
  {
   "cell_type": "code",
   "execution_count": null,
   "metadata": {},
   "outputs": [],
   "source": []
  },
  {
   "cell_type": "code",
   "execution_count": null,
   "metadata": {},
   "outputs": [],
   "source": [
    "sns.heatmap(train.corr())"
   ]
  },
  {
   "cell_type": "code",
   "execution_count": null,
   "metadata": {},
   "outputs": [],
   "source": []
  },
  {
   "cell_type": "code",
   "execution_count": 20,
   "metadata": {},
   "outputs": [],
   "source": [
    "from sklearn.decomposition import PCA\n",
    "\n",
    "pca = PCA(n_components=1)\n",
    "\n",
    "train['family'] = pca.fit_transform(train[['child_num','family_size']])\n",
    "test['family'] = pca.fit_transform(test[['child_num','family_size']])"
   ]
  },
  {
   "cell_type": "markdown",
   "metadata": {},
   "source": [
    "## 범주형 자료 "
   ]
  },
  {
   "cell_type": "code",
   "execution_count": 6,
   "metadata": {},
   "outputs": [],
   "source": [
    "col = ['gender','car','reality','phone','email','work_phone'\\\n",
    "      ,'income_type','edu_type','family_type','house_type','begin_month'\\\n",
    "      #,'child_num','EMPLOYED_YN'\n",
    "      ]\n",
    "#train = pd.get_dummies(train, columns=col)\n",
    "#test = pd.get_dummies(test, columns=col)\n",
    "#train.shape, test.shape"
   ]
  },
  {
   "cell_type": "code",
   "execution_count": null,
   "metadata": {},
   "outputs": [],
   "source": [
    "train.columns"
   ]
  },
  {
   "cell_type": "code",
   "execution_count": 25,
   "metadata": {},
   "outputs": [
    {
     "data": {
      "text/html": [
       "<style  type=\"text/css\" >\n",
       "</style><table id=\"T_e331ac1a_96ce_11eb_a801_00e0201808a0\" ><thead>    <tr>        <th class=\"blank level0\" ></th>        <th class=\"col_heading level0 col0\" >Description</th>        <th class=\"col_heading level0 col1\" >Value</th>    </tr></thead><tbody>\n",
       "                <tr>\n",
       "                        <th id=\"T_e331ac1a_96ce_11eb_a801_00e0201808a0level0_row0\" class=\"row_heading level0 row0\" >0</th>\n",
       "                        <td id=\"T_e331ac1a_96ce_11eb_a801_00e0201808a0row0_col0\" class=\"data row0 col0\" >session_id</td>\n",
       "                        <td id=\"T_e331ac1a_96ce_11eb_a801_00e0201808a0row0_col1\" class=\"data row0 col1\" >42</td>\n",
       "            </tr>\n",
       "            <tr>\n",
       "                        <th id=\"T_e331ac1a_96ce_11eb_a801_00e0201808a0level0_row1\" class=\"row_heading level0 row1\" >1</th>\n",
       "                        <td id=\"T_e331ac1a_96ce_11eb_a801_00e0201808a0row1_col0\" class=\"data row1 col0\" >Target</td>\n",
       "                        <td id=\"T_e331ac1a_96ce_11eb_a801_00e0201808a0row1_col1\" class=\"data row1 col1\" >credit</td>\n",
       "            </tr>\n",
       "            <tr>\n",
       "                        <th id=\"T_e331ac1a_96ce_11eb_a801_00e0201808a0level0_row2\" class=\"row_heading level0 row2\" >2</th>\n",
       "                        <td id=\"T_e331ac1a_96ce_11eb_a801_00e0201808a0row2_col0\" class=\"data row2 col0\" >Target Type</td>\n",
       "                        <td id=\"T_e331ac1a_96ce_11eb_a801_00e0201808a0row2_col1\" class=\"data row2 col1\" >Multiclass</td>\n",
       "            </tr>\n",
       "            <tr>\n",
       "                        <th id=\"T_e331ac1a_96ce_11eb_a801_00e0201808a0level0_row3\" class=\"row_heading level0 row3\" >3</th>\n",
       "                        <td id=\"T_e331ac1a_96ce_11eb_a801_00e0201808a0row3_col0\" class=\"data row3 col0\" >Label Encoded</td>\n",
       "                        <td id=\"T_e331ac1a_96ce_11eb_a801_00e0201808a0row3_col1\" class=\"data row3 col1\" >None</td>\n",
       "            </tr>\n",
       "            <tr>\n",
       "                        <th id=\"T_e331ac1a_96ce_11eb_a801_00e0201808a0level0_row4\" class=\"row_heading level0 row4\" >4</th>\n",
       "                        <td id=\"T_e331ac1a_96ce_11eb_a801_00e0201808a0row4_col0\" class=\"data row4 col0\" >Original Data</td>\n",
       "                        <td id=\"T_e331ac1a_96ce_11eb_a801_00e0201808a0row4_col1\" class=\"data row4 col1\" >(26457, 18)</td>\n",
       "            </tr>\n",
       "            <tr>\n",
       "                        <th id=\"T_e331ac1a_96ce_11eb_a801_00e0201808a0level0_row5\" class=\"row_heading level0 row5\" >5</th>\n",
       "                        <td id=\"T_e331ac1a_96ce_11eb_a801_00e0201808a0row5_col0\" class=\"data row5 col0\" >Missing Values</td>\n",
       "                        <td id=\"T_e331ac1a_96ce_11eb_a801_00e0201808a0row5_col1\" class=\"data row5 col1\" >False</td>\n",
       "            </tr>\n",
       "            <tr>\n",
       "                        <th id=\"T_e331ac1a_96ce_11eb_a801_00e0201808a0level0_row6\" class=\"row_heading level0 row6\" >6</th>\n",
       "                        <td id=\"T_e331ac1a_96ce_11eb_a801_00e0201808a0row6_col0\" class=\"data row6 col0\" >Numeric Features</td>\n",
       "                        <td id=\"T_e331ac1a_96ce_11eb_a801_00e0201808a0row6_col1\" class=\"data row6 col1\" >4</td>\n",
       "            </tr>\n",
       "            <tr>\n",
       "                        <th id=\"T_e331ac1a_96ce_11eb_a801_00e0201808a0level0_row7\" class=\"row_heading level0 row7\" >7</th>\n",
       "                        <td id=\"T_e331ac1a_96ce_11eb_a801_00e0201808a0row7_col0\" class=\"data row7 col0\" >Categorical Features</td>\n",
       "                        <td id=\"T_e331ac1a_96ce_11eb_a801_00e0201808a0row7_col1\" class=\"data row7 col1\" >11</td>\n",
       "            </tr>\n",
       "            <tr>\n",
       "                        <th id=\"T_e331ac1a_96ce_11eb_a801_00e0201808a0level0_row8\" class=\"row_heading level0 row8\" >8</th>\n",
       "                        <td id=\"T_e331ac1a_96ce_11eb_a801_00e0201808a0row8_col0\" class=\"data row8 col0\" >Ordinal Features</td>\n",
       "                        <td id=\"T_e331ac1a_96ce_11eb_a801_00e0201808a0row8_col1\" class=\"data row8 col1\" >False</td>\n",
       "            </tr>\n",
       "            <tr>\n",
       "                        <th id=\"T_e331ac1a_96ce_11eb_a801_00e0201808a0level0_row9\" class=\"row_heading level0 row9\" >9</th>\n",
       "                        <td id=\"T_e331ac1a_96ce_11eb_a801_00e0201808a0row9_col0\" class=\"data row9 col0\" >High Cardinality Features</td>\n",
       "                        <td id=\"T_e331ac1a_96ce_11eb_a801_00e0201808a0row9_col1\" class=\"data row9 col1\" >False</td>\n",
       "            </tr>\n",
       "            <tr>\n",
       "                        <th id=\"T_e331ac1a_96ce_11eb_a801_00e0201808a0level0_row10\" class=\"row_heading level0 row10\" >10</th>\n",
       "                        <td id=\"T_e331ac1a_96ce_11eb_a801_00e0201808a0row10_col0\" class=\"data row10 col0\" >High Cardinality Method</td>\n",
       "                        <td id=\"T_e331ac1a_96ce_11eb_a801_00e0201808a0row10_col1\" class=\"data row10 col1\" >None</td>\n",
       "            </tr>\n",
       "            <tr>\n",
       "                        <th id=\"T_e331ac1a_96ce_11eb_a801_00e0201808a0level0_row11\" class=\"row_heading level0 row11\" >11</th>\n",
       "                        <td id=\"T_e331ac1a_96ce_11eb_a801_00e0201808a0row11_col0\" class=\"data row11 col0\" >Transformed Train Set</td>\n",
       "                        <td id=\"T_e331ac1a_96ce_11eb_a801_00e0201808a0row11_col1\" class=\"data row11 col1\" >(18519, 91)</td>\n",
       "            </tr>\n",
       "            <tr>\n",
       "                        <th id=\"T_e331ac1a_96ce_11eb_a801_00e0201808a0level0_row12\" class=\"row_heading level0 row12\" >12</th>\n",
       "                        <td id=\"T_e331ac1a_96ce_11eb_a801_00e0201808a0row12_col0\" class=\"data row12 col0\" >Transformed Test Set</td>\n",
       "                        <td id=\"T_e331ac1a_96ce_11eb_a801_00e0201808a0row12_col1\" class=\"data row12 col1\" >(7938, 91)</td>\n",
       "            </tr>\n",
       "            <tr>\n",
       "                        <th id=\"T_e331ac1a_96ce_11eb_a801_00e0201808a0level0_row13\" class=\"row_heading level0 row13\" >13</th>\n",
       "                        <td id=\"T_e331ac1a_96ce_11eb_a801_00e0201808a0row13_col0\" class=\"data row13 col0\" >Shuffle Train-Test</td>\n",
       "                        <td id=\"T_e331ac1a_96ce_11eb_a801_00e0201808a0row13_col1\" class=\"data row13 col1\" >True</td>\n",
       "            </tr>\n",
       "            <tr>\n",
       "                        <th id=\"T_e331ac1a_96ce_11eb_a801_00e0201808a0level0_row14\" class=\"row_heading level0 row14\" >14</th>\n",
       "                        <td id=\"T_e331ac1a_96ce_11eb_a801_00e0201808a0row14_col0\" class=\"data row14 col0\" >Stratify Train-Test</td>\n",
       "                        <td id=\"T_e331ac1a_96ce_11eb_a801_00e0201808a0row14_col1\" class=\"data row14 col1\" >False</td>\n",
       "            </tr>\n",
       "            <tr>\n",
       "                        <th id=\"T_e331ac1a_96ce_11eb_a801_00e0201808a0level0_row15\" class=\"row_heading level0 row15\" >15</th>\n",
       "                        <td id=\"T_e331ac1a_96ce_11eb_a801_00e0201808a0row15_col0\" class=\"data row15 col0\" >Fold Generator</td>\n",
       "                        <td id=\"T_e331ac1a_96ce_11eb_a801_00e0201808a0row15_col1\" class=\"data row15 col1\" >StratifiedKFold</td>\n",
       "            </tr>\n",
       "            <tr>\n",
       "                        <th id=\"T_e331ac1a_96ce_11eb_a801_00e0201808a0level0_row16\" class=\"row_heading level0 row16\" >16</th>\n",
       "                        <td id=\"T_e331ac1a_96ce_11eb_a801_00e0201808a0row16_col0\" class=\"data row16 col0\" >Fold Number</td>\n",
       "                        <td id=\"T_e331ac1a_96ce_11eb_a801_00e0201808a0row16_col1\" class=\"data row16 col1\" >10</td>\n",
       "            </tr>\n",
       "            <tr>\n",
       "                        <th id=\"T_e331ac1a_96ce_11eb_a801_00e0201808a0level0_row17\" class=\"row_heading level0 row17\" >17</th>\n",
       "                        <td id=\"T_e331ac1a_96ce_11eb_a801_00e0201808a0row17_col0\" class=\"data row17 col0\" >CPU Jobs</td>\n",
       "                        <td id=\"T_e331ac1a_96ce_11eb_a801_00e0201808a0row17_col1\" class=\"data row17 col1\" >-1</td>\n",
       "            </tr>\n",
       "            <tr>\n",
       "                        <th id=\"T_e331ac1a_96ce_11eb_a801_00e0201808a0level0_row18\" class=\"row_heading level0 row18\" >18</th>\n",
       "                        <td id=\"T_e331ac1a_96ce_11eb_a801_00e0201808a0row18_col0\" class=\"data row18 col0\" >Use GPU</td>\n",
       "                        <td id=\"T_e331ac1a_96ce_11eb_a801_00e0201808a0row18_col1\" class=\"data row18 col1\" >False</td>\n",
       "            </tr>\n",
       "            <tr>\n",
       "                        <th id=\"T_e331ac1a_96ce_11eb_a801_00e0201808a0level0_row19\" class=\"row_heading level0 row19\" >19</th>\n",
       "                        <td id=\"T_e331ac1a_96ce_11eb_a801_00e0201808a0row19_col0\" class=\"data row19 col0\" >Log Experiment</td>\n",
       "                        <td id=\"T_e331ac1a_96ce_11eb_a801_00e0201808a0row19_col1\" class=\"data row19 col1\" >False</td>\n",
       "            </tr>\n",
       "            <tr>\n",
       "                        <th id=\"T_e331ac1a_96ce_11eb_a801_00e0201808a0level0_row20\" class=\"row_heading level0 row20\" >20</th>\n",
       "                        <td id=\"T_e331ac1a_96ce_11eb_a801_00e0201808a0row20_col0\" class=\"data row20 col0\" >Experiment Name</td>\n",
       "                        <td id=\"T_e331ac1a_96ce_11eb_a801_00e0201808a0row20_col1\" class=\"data row20 col1\" >clf-default-name</td>\n",
       "            </tr>\n",
       "            <tr>\n",
       "                        <th id=\"T_e331ac1a_96ce_11eb_a801_00e0201808a0level0_row21\" class=\"row_heading level0 row21\" >21</th>\n",
       "                        <td id=\"T_e331ac1a_96ce_11eb_a801_00e0201808a0row21_col0\" class=\"data row21 col0\" >USI</td>\n",
       "                        <td id=\"T_e331ac1a_96ce_11eb_a801_00e0201808a0row21_col1\" class=\"data row21 col1\" >a06b</td>\n",
       "            </tr>\n",
       "            <tr>\n",
       "                        <th id=\"T_e331ac1a_96ce_11eb_a801_00e0201808a0level0_row22\" class=\"row_heading level0 row22\" >22</th>\n",
       "                        <td id=\"T_e331ac1a_96ce_11eb_a801_00e0201808a0row22_col0\" class=\"data row22 col0\" >Imputation Type</td>\n",
       "                        <td id=\"T_e331ac1a_96ce_11eb_a801_00e0201808a0row22_col1\" class=\"data row22 col1\" >simple</td>\n",
       "            </tr>\n",
       "            <tr>\n",
       "                        <th id=\"T_e331ac1a_96ce_11eb_a801_00e0201808a0level0_row23\" class=\"row_heading level0 row23\" >23</th>\n",
       "                        <td id=\"T_e331ac1a_96ce_11eb_a801_00e0201808a0row23_col0\" class=\"data row23 col0\" >Iterative Imputation Iteration</td>\n",
       "                        <td id=\"T_e331ac1a_96ce_11eb_a801_00e0201808a0row23_col1\" class=\"data row23 col1\" >None</td>\n",
       "            </tr>\n",
       "            <tr>\n",
       "                        <th id=\"T_e331ac1a_96ce_11eb_a801_00e0201808a0level0_row24\" class=\"row_heading level0 row24\" >24</th>\n",
       "                        <td id=\"T_e331ac1a_96ce_11eb_a801_00e0201808a0row24_col0\" class=\"data row24 col0\" >Numeric Imputer</td>\n",
       "                        <td id=\"T_e331ac1a_96ce_11eb_a801_00e0201808a0row24_col1\" class=\"data row24 col1\" >mean</td>\n",
       "            </tr>\n",
       "            <tr>\n",
       "                        <th id=\"T_e331ac1a_96ce_11eb_a801_00e0201808a0level0_row25\" class=\"row_heading level0 row25\" >25</th>\n",
       "                        <td id=\"T_e331ac1a_96ce_11eb_a801_00e0201808a0row25_col0\" class=\"data row25 col0\" >Iterative Imputation Numeric Model</td>\n",
       "                        <td id=\"T_e331ac1a_96ce_11eb_a801_00e0201808a0row25_col1\" class=\"data row25 col1\" >None</td>\n",
       "            </tr>\n",
       "            <tr>\n",
       "                        <th id=\"T_e331ac1a_96ce_11eb_a801_00e0201808a0level0_row26\" class=\"row_heading level0 row26\" >26</th>\n",
       "                        <td id=\"T_e331ac1a_96ce_11eb_a801_00e0201808a0row26_col0\" class=\"data row26 col0\" >Categorical Imputer</td>\n",
       "                        <td id=\"T_e331ac1a_96ce_11eb_a801_00e0201808a0row26_col1\" class=\"data row26 col1\" >constant</td>\n",
       "            </tr>\n",
       "            <tr>\n",
       "                        <th id=\"T_e331ac1a_96ce_11eb_a801_00e0201808a0level0_row27\" class=\"row_heading level0 row27\" >27</th>\n",
       "                        <td id=\"T_e331ac1a_96ce_11eb_a801_00e0201808a0row27_col0\" class=\"data row27 col0\" >Iterative Imputation Categorical Model</td>\n",
       "                        <td id=\"T_e331ac1a_96ce_11eb_a801_00e0201808a0row27_col1\" class=\"data row27 col1\" >None</td>\n",
       "            </tr>\n",
       "            <tr>\n",
       "                        <th id=\"T_e331ac1a_96ce_11eb_a801_00e0201808a0level0_row28\" class=\"row_heading level0 row28\" >28</th>\n",
       "                        <td id=\"T_e331ac1a_96ce_11eb_a801_00e0201808a0row28_col0\" class=\"data row28 col0\" >Unknown Categoricals Handling</td>\n",
       "                        <td id=\"T_e331ac1a_96ce_11eb_a801_00e0201808a0row28_col1\" class=\"data row28 col1\" >least_frequent</td>\n",
       "            </tr>\n",
       "            <tr>\n",
       "                        <th id=\"T_e331ac1a_96ce_11eb_a801_00e0201808a0level0_row29\" class=\"row_heading level0 row29\" >29</th>\n",
       "                        <td id=\"T_e331ac1a_96ce_11eb_a801_00e0201808a0row29_col0\" class=\"data row29 col0\" >Normalize</td>\n",
       "                        <td id=\"T_e331ac1a_96ce_11eb_a801_00e0201808a0row29_col1\" class=\"data row29 col1\" >False</td>\n",
       "            </tr>\n",
       "            <tr>\n",
       "                        <th id=\"T_e331ac1a_96ce_11eb_a801_00e0201808a0level0_row30\" class=\"row_heading level0 row30\" >30</th>\n",
       "                        <td id=\"T_e331ac1a_96ce_11eb_a801_00e0201808a0row30_col0\" class=\"data row30 col0\" >Normalize Method</td>\n",
       "                        <td id=\"T_e331ac1a_96ce_11eb_a801_00e0201808a0row30_col1\" class=\"data row30 col1\" >None</td>\n",
       "            </tr>\n",
       "            <tr>\n",
       "                        <th id=\"T_e331ac1a_96ce_11eb_a801_00e0201808a0level0_row31\" class=\"row_heading level0 row31\" >31</th>\n",
       "                        <td id=\"T_e331ac1a_96ce_11eb_a801_00e0201808a0row31_col0\" class=\"data row31 col0\" >Transformation</td>\n",
       "                        <td id=\"T_e331ac1a_96ce_11eb_a801_00e0201808a0row31_col1\" class=\"data row31 col1\" >False</td>\n",
       "            </tr>\n",
       "            <tr>\n",
       "                        <th id=\"T_e331ac1a_96ce_11eb_a801_00e0201808a0level0_row32\" class=\"row_heading level0 row32\" >32</th>\n",
       "                        <td id=\"T_e331ac1a_96ce_11eb_a801_00e0201808a0row32_col0\" class=\"data row32 col0\" >Transformation Method</td>\n",
       "                        <td id=\"T_e331ac1a_96ce_11eb_a801_00e0201808a0row32_col1\" class=\"data row32 col1\" >None</td>\n",
       "            </tr>\n",
       "            <tr>\n",
       "                        <th id=\"T_e331ac1a_96ce_11eb_a801_00e0201808a0level0_row33\" class=\"row_heading level0 row33\" >33</th>\n",
       "                        <td id=\"T_e331ac1a_96ce_11eb_a801_00e0201808a0row33_col0\" class=\"data row33 col0\" >PCA</td>\n",
       "                        <td id=\"T_e331ac1a_96ce_11eb_a801_00e0201808a0row33_col1\" class=\"data row33 col1\" >False</td>\n",
       "            </tr>\n",
       "            <tr>\n",
       "                        <th id=\"T_e331ac1a_96ce_11eb_a801_00e0201808a0level0_row34\" class=\"row_heading level0 row34\" >34</th>\n",
       "                        <td id=\"T_e331ac1a_96ce_11eb_a801_00e0201808a0row34_col0\" class=\"data row34 col0\" >PCA Method</td>\n",
       "                        <td id=\"T_e331ac1a_96ce_11eb_a801_00e0201808a0row34_col1\" class=\"data row34 col1\" >None</td>\n",
       "            </tr>\n",
       "            <tr>\n",
       "                        <th id=\"T_e331ac1a_96ce_11eb_a801_00e0201808a0level0_row35\" class=\"row_heading level0 row35\" >35</th>\n",
       "                        <td id=\"T_e331ac1a_96ce_11eb_a801_00e0201808a0row35_col0\" class=\"data row35 col0\" >PCA Components</td>\n",
       "                        <td id=\"T_e331ac1a_96ce_11eb_a801_00e0201808a0row35_col1\" class=\"data row35 col1\" >None</td>\n",
       "            </tr>\n",
       "            <tr>\n",
       "                        <th id=\"T_e331ac1a_96ce_11eb_a801_00e0201808a0level0_row36\" class=\"row_heading level0 row36\" >36</th>\n",
       "                        <td id=\"T_e331ac1a_96ce_11eb_a801_00e0201808a0row36_col0\" class=\"data row36 col0\" >Ignore Low Variance</td>\n",
       "                        <td id=\"T_e331ac1a_96ce_11eb_a801_00e0201808a0row36_col1\" class=\"data row36 col1\" >False</td>\n",
       "            </tr>\n",
       "            <tr>\n",
       "                        <th id=\"T_e331ac1a_96ce_11eb_a801_00e0201808a0level0_row37\" class=\"row_heading level0 row37\" >37</th>\n",
       "                        <td id=\"T_e331ac1a_96ce_11eb_a801_00e0201808a0row37_col0\" class=\"data row37 col0\" >Combine Rare Levels</td>\n",
       "                        <td id=\"T_e331ac1a_96ce_11eb_a801_00e0201808a0row37_col1\" class=\"data row37 col1\" >False</td>\n",
       "            </tr>\n",
       "            <tr>\n",
       "                        <th id=\"T_e331ac1a_96ce_11eb_a801_00e0201808a0level0_row38\" class=\"row_heading level0 row38\" >38</th>\n",
       "                        <td id=\"T_e331ac1a_96ce_11eb_a801_00e0201808a0row38_col0\" class=\"data row38 col0\" >Rare Level Threshold</td>\n",
       "                        <td id=\"T_e331ac1a_96ce_11eb_a801_00e0201808a0row38_col1\" class=\"data row38 col1\" >None</td>\n",
       "            </tr>\n",
       "            <tr>\n",
       "                        <th id=\"T_e331ac1a_96ce_11eb_a801_00e0201808a0level0_row39\" class=\"row_heading level0 row39\" >39</th>\n",
       "                        <td id=\"T_e331ac1a_96ce_11eb_a801_00e0201808a0row39_col0\" class=\"data row39 col0\" >Numeric Binning</td>\n",
       "                        <td id=\"T_e331ac1a_96ce_11eb_a801_00e0201808a0row39_col1\" class=\"data row39 col1\" >False</td>\n",
       "            </tr>\n",
       "            <tr>\n",
       "                        <th id=\"T_e331ac1a_96ce_11eb_a801_00e0201808a0level0_row40\" class=\"row_heading level0 row40\" >40</th>\n",
       "                        <td id=\"T_e331ac1a_96ce_11eb_a801_00e0201808a0row40_col0\" class=\"data row40 col0\" >Remove Outliers</td>\n",
       "                        <td id=\"T_e331ac1a_96ce_11eb_a801_00e0201808a0row40_col1\" class=\"data row40 col1\" >False</td>\n",
       "            </tr>\n",
       "            <tr>\n",
       "                        <th id=\"T_e331ac1a_96ce_11eb_a801_00e0201808a0level0_row41\" class=\"row_heading level0 row41\" >41</th>\n",
       "                        <td id=\"T_e331ac1a_96ce_11eb_a801_00e0201808a0row41_col0\" class=\"data row41 col0\" >Outliers Threshold</td>\n",
       "                        <td id=\"T_e331ac1a_96ce_11eb_a801_00e0201808a0row41_col1\" class=\"data row41 col1\" >None</td>\n",
       "            </tr>\n",
       "            <tr>\n",
       "                        <th id=\"T_e331ac1a_96ce_11eb_a801_00e0201808a0level0_row42\" class=\"row_heading level0 row42\" >42</th>\n",
       "                        <td id=\"T_e331ac1a_96ce_11eb_a801_00e0201808a0row42_col0\" class=\"data row42 col0\" >Remove Multicollinearity</td>\n",
       "                        <td id=\"T_e331ac1a_96ce_11eb_a801_00e0201808a0row42_col1\" class=\"data row42 col1\" >False</td>\n",
       "            </tr>\n",
       "            <tr>\n",
       "                        <th id=\"T_e331ac1a_96ce_11eb_a801_00e0201808a0level0_row43\" class=\"row_heading level0 row43\" >43</th>\n",
       "                        <td id=\"T_e331ac1a_96ce_11eb_a801_00e0201808a0row43_col0\" class=\"data row43 col0\" >Multicollinearity Threshold</td>\n",
       "                        <td id=\"T_e331ac1a_96ce_11eb_a801_00e0201808a0row43_col1\" class=\"data row43 col1\" >None</td>\n",
       "            </tr>\n",
       "            <tr>\n",
       "                        <th id=\"T_e331ac1a_96ce_11eb_a801_00e0201808a0level0_row44\" class=\"row_heading level0 row44\" >44</th>\n",
       "                        <td id=\"T_e331ac1a_96ce_11eb_a801_00e0201808a0row44_col0\" class=\"data row44 col0\" >Clustering</td>\n",
       "                        <td id=\"T_e331ac1a_96ce_11eb_a801_00e0201808a0row44_col1\" class=\"data row44 col1\" >False</td>\n",
       "            </tr>\n",
       "            <tr>\n",
       "                        <th id=\"T_e331ac1a_96ce_11eb_a801_00e0201808a0level0_row45\" class=\"row_heading level0 row45\" >45</th>\n",
       "                        <td id=\"T_e331ac1a_96ce_11eb_a801_00e0201808a0row45_col0\" class=\"data row45 col0\" >Clustering Iteration</td>\n",
       "                        <td id=\"T_e331ac1a_96ce_11eb_a801_00e0201808a0row45_col1\" class=\"data row45 col1\" >None</td>\n",
       "            </tr>\n",
       "            <tr>\n",
       "                        <th id=\"T_e331ac1a_96ce_11eb_a801_00e0201808a0level0_row46\" class=\"row_heading level0 row46\" >46</th>\n",
       "                        <td id=\"T_e331ac1a_96ce_11eb_a801_00e0201808a0row46_col0\" class=\"data row46 col0\" >Polynomial Features</td>\n",
       "                        <td id=\"T_e331ac1a_96ce_11eb_a801_00e0201808a0row46_col1\" class=\"data row46 col1\" >False</td>\n",
       "            </tr>\n",
       "            <tr>\n",
       "                        <th id=\"T_e331ac1a_96ce_11eb_a801_00e0201808a0level0_row47\" class=\"row_heading level0 row47\" >47</th>\n",
       "                        <td id=\"T_e331ac1a_96ce_11eb_a801_00e0201808a0row47_col0\" class=\"data row47 col0\" >Polynomial Degree</td>\n",
       "                        <td id=\"T_e331ac1a_96ce_11eb_a801_00e0201808a0row47_col1\" class=\"data row47 col1\" >None</td>\n",
       "            </tr>\n",
       "            <tr>\n",
       "                        <th id=\"T_e331ac1a_96ce_11eb_a801_00e0201808a0level0_row48\" class=\"row_heading level0 row48\" >48</th>\n",
       "                        <td id=\"T_e331ac1a_96ce_11eb_a801_00e0201808a0row48_col0\" class=\"data row48 col0\" >Trignometry Features</td>\n",
       "                        <td id=\"T_e331ac1a_96ce_11eb_a801_00e0201808a0row48_col1\" class=\"data row48 col1\" >False</td>\n",
       "            </tr>\n",
       "            <tr>\n",
       "                        <th id=\"T_e331ac1a_96ce_11eb_a801_00e0201808a0level0_row49\" class=\"row_heading level0 row49\" >49</th>\n",
       "                        <td id=\"T_e331ac1a_96ce_11eb_a801_00e0201808a0row49_col0\" class=\"data row49 col0\" >Polynomial Threshold</td>\n",
       "                        <td id=\"T_e331ac1a_96ce_11eb_a801_00e0201808a0row49_col1\" class=\"data row49 col1\" >None</td>\n",
       "            </tr>\n",
       "            <tr>\n",
       "                        <th id=\"T_e331ac1a_96ce_11eb_a801_00e0201808a0level0_row50\" class=\"row_heading level0 row50\" >50</th>\n",
       "                        <td id=\"T_e331ac1a_96ce_11eb_a801_00e0201808a0row50_col0\" class=\"data row50 col0\" >Group Features</td>\n",
       "                        <td id=\"T_e331ac1a_96ce_11eb_a801_00e0201808a0row50_col1\" class=\"data row50 col1\" >False</td>\n",
       "            </tr>\n",
       "            <tr>\n",
       "                        <th id=\"T_e331ac1a_96ce_11eb_a801_00e0201808a0level0_row51\" class=\"row_heading level0 row51\" >51</th>\n",
       "                        <td id=\"T_e331ac1a_96ce_11eb_a801_00e0201808a0row51_col0\" class=\"data row51 col0\" >Feature Selection</td>\n",
       "                        <td id=\"T_e331ac1a_96ce_11eb_a801_00e0201808a0row51_col1\" class=\"data row51 col1\" >False</td>\n",
       "            </tr>\n",
       "            <tr>\n",
       "                        <th id=\"T_e331ac1a_96ce_11eb_a801_00e0201808a0level0_row52\" class=\"row_heading level0 row52\" >52</th>\n",
       "                        <td id=\"T_e331ac1a_96ce_11eb_a801_00e0201808a0row52_col0\" class=\"data row52 col0\" >Feature Selection Method</td>\n",
       "                        <td id=\"T_e331ac1a_96ce_11eb_a801_00e0201808a0row52_col1\" class=\"data row52 col1\" >classic</td>\n",
       "            </tr>\n",
       "            <tr>\n",
       "                        <th id=\"T_e331ac1a_96ce_11eb_a801_00e0201808a0level0_row53\" class=\"row_heading level0 row53\" >53</th>\n",
       "                        <td id=\"T_e331ac1a_96ce_11eb_a801_00e0201808a0row53_col0\" class=\"data row53 col0\" >Features Selection Threshold</td>\n",
       "                        <td id=\"T_e331ac1a_96ce_11eb_a801_00e0201808a0row53_col1\" class=\"data row53 col1\" >None</td>\n",
       "            </tr>\n",
       "            <tr>\n",
       "                        <th id=\"T_e331ac1a_96ce_11eb_a801_00e0201808a0level0_row54\" class=\"row_heading level0 row54\" >54</th>\n",
       "                        <td id=\"T_e331ac1a_96ce_11eb_a801_00e0201808a0row54_col0\" class=\"data row54 col0\" >Feature Interaction</td>\n",
       "                        <td id=\"T_e331ac1a_96ce_11eb_a801_00e0201808a0row54_col1\" class=\"data row54 col1\" >False</td>\n",
       "            </tr>\n",
       "            <tr>\n",
       "                        <th id=\"T_e331ac1a_96ce_11eb_a801_00e0201808a0level0_row55\" class=\"row_heading level0 row55\" >55</th>\n",
       "                        <td id=\"T_e331ac1a_96ce_11eb_a801_00e0201808a0row55_col0\" class=\"data row55 col0\" >Feature Ratio</td>\n",
       "                        <td id=\"T_e331ac1a_96ce_11eb_a801_00e0201808a0row55_col1\" class=\"data row55 col1\" >False</td>\n",
       "            </tr>\n",
       "            <tr>\n",
       "                        <th id=\"T_e331ac1a_96ce_11eb_a801_00e0201808a0level0_row56\" class=\"row_heading level0 row56\" >56</th>\n",
       "                        <td id=\"T_e331ac1a_96ce_11eb_a801_00e0201808a0row56_col0\" class=\"data row56 col0\" >Interaction Threshold</td>\n",
       "                        <td id=\"T_e331ac1a_96ce_11eb_a801_00e0201808a0row56_col1\" class=\"data row56 col1\" >None</td>\n",
       "            </tr>\n",
       "            <tr>\n",
       "                        <th id=\"T_e331ac1a_96ce_11eb_a801_00e0201808a0level0_row57\" class=\"row_heading level0 row57\" >57</th>\n",
       "                        <td id=\"T_e331ac1a_96ce_11eb_a801_00e0201808a0row57_col0\" class=\"data row57 col0\" >Fix Imbalance</td>\n",
       "                        <td id=\"T_e331ac1a_96ce_11eb_a801_00e0201808a0row57_col1\" class=\"data row57 col1\" >False</td>\n",
       "            </tr>\n",
       "            <tr>\n",
       "                        <th id=\"T_e331ac1a_96ce_11eb_a801_00e0201808a0level0_row58\" class=\"row_heading level0 row58\" >58</th>\n",
       "                        <td id=\"T_e331ac1a_96ce_11eb_a801_00e0201808a0row58_col0\" class=\"data row58 col0\" >Fix Imbalance Method</td>\n",
       "                        <td id=\"T_e331ac1a_96ce_11eb_a801_00e0201808a0row58_col1\" class=\"data row58 col1\" >SMOTE</td>\n",
       "            </tr>\n",
       "    </tbody></table>"
      ],
      "text/plain": [
       "<pandas.io.formats.style.Styler at 0x1e019596888>"
      ]
     },
     "metadata": {},
     "output_type": "display_data"
    },
    {
     "name": "stdout",
     "output_type": "stream",
     "text": [
      "Wall time: 5.31 s\n"
     ]
    }
   ],
   "source": [
    "%%time\n",
    "clf = setup(session_id=seed, \n",
    "            data = train, target = 'credit'\n",
    "          , categorical_features=col\n",
    "          , numeric_features = ['family']#,,'tp17','tp4','Q_A15','Q_A3','Q_A15tp17','Q_A3tp4']#['Q_A1','Q_A3','Q_A5','tp17','tp4','Q_A15tp17','Q_A3tp4']\n",
    "          , ignore_features =['child_num','family_size']\n",
    "           )"
   ]
  },
  {
   "cell_type": "code",
   "execution_count": 26,
   "metadata": {},
   "outputs": [
    {
     "data": {
      "text/plain": [
       "Name                                                           LogLoss\n",
       "Display Name                                                   LogLoss\n",
       "Score Function               <function log_loss at 0x000001E0147750D8>\n",
       "Scorer               make_scorer(log_loss, greater_is_better=False,...\n",
       "Target                                                      pred_proba\n",
       "Args                                                                {}\n",
       "Greater is Better                                                False\n",
       "Multiclass                                                        True\n",
       "Custom                                                            True\n",
       "Name: logloss, dtype: object"
      ]
     },
     "execution_count": 26,
     "metadata": {},
     "output_type": "execute_result"
    }
   ],
   "source": [
    "#logloss 적용 및 predict_proba로 제출하기 위해 metric 추가\n",
    "add_metric('logloss', 'LogLoss', log_loss, greater_is_better=False, target=\"pred_proba\")"
   ]
  },
  {
   "cell_type": "code",
   "execution_count": 27,
   "metadata": {},
   "outputs": [
    {
     "data": {
      "text/html": [
       "<style  type=\"text/css\" >\n",
       "    #T_66e62d62_96cf_11eb_ba1a_00e0201808a0 th {\n",
       "          text-align: left;\n",
       "    }#T_66e62d62_96cf_11eb_ba1a_00e0201808a0row0_col0,#T_66e62d62_96cf_11eb_ba1a_00e0201808a0row0_col1,#T_66e62d62_96cf_11eb_ba1a_00e0201808a0row0_col2,#T_66e62d62_96cf_11eb_ba1a_00e0201808a0row0_col3,#T_66e62d62_96cf_11eb_ba1a_00e0201808a0row0_col4,#T_66e62d62_96cf_11eb_ba1a_00e0201808a0row0_col5,#T_66e62d62_96cf_11eb_ba1a_00e0201808a0row0_col6,#T_66e62d62_96cf_11eb_ba1a_00e0201808a0row0_col7,#T_66e62d62_96cf_11eb_ba1a_00e0201808a0row1_col0,#T_66e62d62_96cf_11eb_ba1a_00e0201808a0row1_col1,#T_66e62d62_96cf_11eb_ba1a_00e0201808a0row1_col2,#T_66e62d62_96cf_11eb_ba1a_00e0201808a0row1_col3,#T_66e62d62_96cf_11eb_ba1a_00e0201808a0row1_col5,#T_66e62d62_96cf_11eb_ba1a_00e0201808a0row1_col6,#T_66e62d62_96cf_11eb_ba1a_00e0201808a0row1_col7,#T_66e62d62_96cf_11eb_ba1a_00e0201808a0row1_col8,#T_66e62d62_96cf_11eb_ba1a_00e0201808a0row2_col0,#T_66e62d62_96cf_11eb_ba1a_00e0201808a0row2_col1,#T_66e62d62_96cf_11eb_ba1a_00e0201808a0row2_col2,#T_66e62d62_96cf_11eb_ba1a_00e0201808a0row2_col3,#T_66e62d62_96cf_11eb_ba1a_00e0201808a0row2_col4,#T_66e62d62_96cf_11eb_ba1a_00e0201808a0row2_col5,#T_66e62d62_96cf_11eb_ba1a_00e0201808a0row2_col6,#T_66e62d62_96cf_11eb_ba1a_00e0201808a0row2_col7,#T_66e62d62_96cf_11eb_ba1a_00e0201808a0row2_col8,#T_66e62d62_96cf_11eb_ba1a_00e0201808a0row3_col0,#T_66e62d62_96cf_11eb_ba1a_00e0201808a0row3_col4,#T_66e62d62_96cf_11eb_ba1a_00e0201808a0row3_col8{\n",
       "            text-align:  left;\n",
       "            text-align:  left;\n",
       "        }#T_66e62d62_96cf_11eb_ba1a_00e0201808a0row0_col8,#T_66e62d62_96cf_11eb_ba1a_00e0201808a0row1_col4,#T_66e62d62_96cf_11eb_ba1a_00e0201808a0row3_col1,#T_66e62d62_96cf_11eb_ba1a_00e0201808a0row3_col2,#T_66e62d62_96cf_11eb_ba1a_00e0201808a0row3_col3,#T_66e62d62_96cf_11eb_ba1a_00e0201808a0row3_col5,#T_66e62d62_96cf_11eb_ba1a_00e0201808a0row3_col6,#T_66e62d62_96cf_11eb_ba1a_00e0201808a0row3_col7{\n",
       "            text-align:  left;\n",
       "            text-align:  left;\n",
       "            background-color:  yellow;\n",
       "        }#T_66e62d62_96cf_11eb_ba1a_00e0201808a0row0_col9,#T_66e62d62_96cf_11eb_ba1a_00e0201808a0row2_col9,#T_66e62d62_96cf_11eb_ba1a_00e0201808a0row3_col9{\n",
       "            text-align:  left;\n",
       "            text-align:  left;\n",
       "            background-color:  lightgrey;\n",
       "        }#T_66e62d62_96cf_11eb_ba1a_00e0201808a0row1_col9{\n",
       "            text-align:  left;\n",
       "            text-align:  left;\n",
       "            background-color:  yellow;\n",
       "            background-color:  lightgrey;\n",
       "        }</style><table id=\"T_66e62d62_96cf_11eb_ba1a_00e0201808a0\" ><thead>    <tr>        <th class=\"blank level0\" ></th>        <th class=\"col_heading level0 col0\" >Model</th>        <th class=\"col_heading level0 col1\" >Accuracy</th>        <th class=\"col_heading level0 col2\" >AUC</th>        <th class=\"col_heading level0 col3\" >Recall</th>        <th class=\"col_heading level0 col4\" >Prec.</th>        <th class=\"col_heading level0 col5\" >F1</th>        <th class=\"col_heading level0 col6\" >Kappa</th>        <th class=\"col_heading level0 col7\" >MCC</th>        <th class=\"col_heading level0 col8\" >LogLoss</th>        <th class=\"col_heading level0 col9\" >TT (Sec)</th>    </tr></thead><tbody>\n",
       "                <tr>\n",
       "                        <th id=\"T_66e62d62_96cf_11eb_ba1a_00e0201808a0level0_row0\" class=\"row_heading level0 row0\" >catboost</th>\n",
       "                        <td id=\"T_66e62d62_96cf_11eb_ba1a_00e0201808a0row0_col0\" class=\"data row0 col0\" >CatBoost Classifier</td>\n",
       "                        <td id=\"T_66e62d62_96cf_11eb_ba1a_00e0201808a0row0_col1\" class=\"data row0 col1\" >0.7030</td>\n",
       "                        <td id=\"T_66e62d62_96cf_11eb_ba1a_00e0201808a0row0_col2\" class=\"data row0 col2\" >0.7004</td>\n",
       "                        <td id=\"T_66e62d62_96cf_11eb_ba1a_00e0201808a0row0_col3\" class=\"data row0 col3\" >0.4357</td>\n",
       "                        <td id=\"T_66e62d62_96cf_11eb_ba1a_00e0201808a0row0_col4\" class=\"data row0 col4\" >0.6903</td>\n",
       "                        <td id=\"T_66e62d62_96cf_11eb_ba1a_00e0201808a0row0_col5\" class=\"data row0 col5\" >0.6326</td>\n",
       "                        <td id=\"T_66e62d62_96cf_11eb_ba1a_00e0201808a0row0_col6\" class=\"data row0 col6\" >0.2566</td>\n",
       "                        <td id=\"T_66e62d62_96cf_11eb_ba1a_00e0201808a0row0_col7\" class=\"data row0 col7\" >0.3302</td>\n",
       "                        <td id=\"T_66e62d62_96cf_11eb_ba1a_00e0201808a0row0_col8\" class=\"data row0 col8\" >0.7682</td>\n",
       "                        <td id=\"T_66e62d62_96cf_11eb_ba1a_00e0201808a0row0_col9\" class=\"data row0 col9\" >12.3820</td>\n",
       "            </tr>\n",
       "            <tr>\n",
       "                        <th id=\"T_66e62d62_96cf_11eb_ba1a_00e0201808a0level0_row1\" class=\"row_heading level0 row1\" >lightgbm</th>\n",
       "                        <td id=\"T_66e62d62_96cf_11eb_ba1a_00e0201808a0row1_col0\" class=\"data row1 col0\" >Light Gradient Boosting Machine</td>\n",
       "                        <td id=\"T_66e62d62_96cf_11eb_ba1a_00e0201808a0row1_col1\" class=\"data row1 col1\" >0.6970</td>\n",
       "                        <td id=\"T_66e62d62_96cf_11eb_ba1a_00e0201808a0row1_col2\" class=\"data row1 col2\" >0.6883</td>\n",
       "                        <td id=\"T_66e62d62_96cf_11eb_ba1a_00e0201808a0row1_col3\" class=\"data row1 col3\" >0.4170</td>\n",
       "                        <td id=\"T_66e62d62_96cf_11eb_ba1a_00e0201808a0row1_col4\" class=\"data row1 col4\" >0.6965</td>\n",
       "                        <td id=\"T_66e62d62_96cf_11eb_ba1a_00e0201808a0row1_col5\" class=\"data row1 col5\" >0.6156</td>\n",
       "                        <td id=\"T_66e62d62_96cf_11eb_ba1a_00e0201808a0row1_col6\" class=\"data row1 col6\" >0.2229</td>\n",
       "                        <td id=\"T_66e62d62_96cf_11eb_ba1a_00e0201808a0row1_col7\" class=\"data row1 col7\" >0.3127</td>\n",
       "                        <td id=\"T_66e62d62_96cf_11eb_ba1a_00e0201808a0row1_col8\" class=\"data row1 col8\" >0.7747</td>\n",
       "                        <td id=\"T_66e62d62_96cf_11eb_ba1a_00e0201808a0row1_col9\" class=\"data row1 col9\" >0.3700</td>\n",
       "            </tr>\n",
       "            <tr>\n",
       "                        <th id=\"T_66e62d62_96cf_11eb_ba1a_00e0201808a0level0_row2\" class=\"row_heading level0 row2\" >gbc</th>\n",
       "                        <td id=\"T_66e62d62_96cf_11eb_ba1a_00e0201808a0row2_col0\" class=\"data row2 col0\" >Gradient Boosting Classifier</td>\n",
       "                        <td id=\"T_66e62d62_96cf_11eb_ba1a_00e0201808a0row2_col1\" class=\"data row2 col1\" >0.6923</td>\n",
       "                        <td id=\"T_66e62d62_96cf_11eb_ba1a_00e0201808a0row2_col2\" class=\"data row2 col2\" >0.6446</td>\n",
       "                        <td id=\"T_66e62d62_96cf_11eb_ba1a_00e0201808a0row2_col3\" class=\"data row2 col3\" >0.4063</td>\n",
       "                        <td id=\"T_66e62d62_96cf_11eb_ba1a_00e0201808a0row2_col4\" class=\"data row2 col4\" >0.6443</td>\n",
       "                        <td id=\"T_66e62d62_96cf_11eb_ba1a_00e0201808a0row2_col5\" class=\"data row2 col5\" >0.6052</td>\n",
       "                        <td id=\"T_66e62d62_96cf_11eb_ba1a_00e0201808a0row2_col6\" class=\"data row2 col6\" >0.2030</td>\n",
       "                        <td id=\"T_66e62d62_96cf_11eb_ba1a_00e0201808a0row2_col7\" class=\"data row2 col7\" >0.2975</td>\n",
       "                        <td id=\"T_66e62d62_96cf_11eb_ba1a_00e0201808a0row2_col8\" class=\"data row2 col8\" >0.7998</td>\n",
       "                        <td id=\"T_66e62d62_96cf_11eb_ba1a_00e0201808a0row2_col9\" class=\"data row2 col9\" >4.7680</td>\n",
       "            </tr>\n",
       "            <tr>\n",
       "                        <th id=\"T_66e62d62_96cf_11eb_ba1a_00e0201808a0level0_row3\" class=\"row_heading level0 row3\" >rf</th>\n",
       "                        <td id=\"T_66e62d62_96cf_11eb_ba1a_00e0201808a0row3_col0\" class=\"data row3 col0\" >Random Forest Classifier</td>\n",
       "                        <td id=\"T_66e62d62_96cf_11eb_ba1a_00e0201808a0row3_col1\" class=\"data row3 col1\" >0.7095</td>\n",
       "                        <td id=\"T_66e62d62_96cf_11eb_ba1a_00e0201808a0row3_col2\" class=\"data row3 col2\" >0.7349</td>\n",
       "                        <td id=\"T_66e62d62_96cf_11eb_ba1a_00e0201808a0row3_col3\" class=\"data row3 col3\" >0.4867</td>\n",
       "                        <td id=\"T_66e62d62_96cf_11eb_ba1a_00e0201808a0row3_col4\" class=\"data row3 col4\" >0.6838</td>\n",
       "                        <td id=\"T_66e62d62_96cf_11eb_ba1a_00e0201808a0row3_col5\" class=\"data row3 col5\" >0.6669</td>\n",
       "                        <td id=\"T_66e62d62_96cf_11eb_ba1a_00e0201808a0row3_col6\" class=\"data row3 col6\" >0.3237</td>\n",
       "                        <td id=\"T_66e62d62_96cf_11eb_ba1a_00e0201808a0row3_col7\" class=\"data row3 col7\" >0.3591</td>\n",
       "                        <td id=\"T_66e62d62_96cf_11eb_ba1a_00e0201808a0row3_col8\" class=\"data row3 col8\" >0.8143</td>\n",
       "                        <td id=\"T_66e62d62_96cf_11eb_ba1a_00e0201808a0row3_col9\" class=\"data row3 col9\" >1.5400</td>\n",
       "            </tr>\n",
       "    </tbody></table>"
      ],
      "text/plain": [
       "<pandas.io.formats.style.Styler at 0x1e0193c93c8>"
      ]
     },
     "metadata": {},
     "output_type": "display_data"
    }
   ],
   "source": [
    "#best5 = compare_models(fold = 5, sort = 'logloss', n_select = 5, exclude=['svm','ridge'])\n",
    "best_4 = compare_models(sort = 'LogLoss', n_select = 4\n",
    "                       ,exclude=['lr', 'knn', 'nb', 'dt', 'svm', 'rbfsvm', 'ridge','qda'\\\n",
    "                                 ,'et','ada','lda']\n",
    "                       #,exclude=['lr', 'knn', 'nb', 'dt', 'svm', 'rbfsvm', 'gpc', 'mlp', 'ridge', 'rf', 'qda', 'ada', 'xgboost']\n",
    "                       )"
   ]
  },
  {
   "cell_type": "code",
   "execution_count": 28,
   "metadata": {},
   "outputs": [
    {
     "data": {
      "text/html": [
       "<style  type=\"text/css\" >\n",
       "#T_a84579b6_96cf_11eb_ad8f_00e0201808a0row5_col0,#T_a84579b6_96cf_11eb_ad8f_00e0201808a0row5_col1,#T_a84579b6_96cf_11eb_ad8f_00e0201808a0row5_col2,#T_a84579b6_96cf_11eb_ad8f_00e0201808a0row5_col3,#T_a84579b6_96cf_11eb_ad8f_00e0201808a0row5_col4,#T_a84579b6_96cf_11eb_ad8f_00e0201808a0row5_col5,#T_a84579b6_96cf_11eb_ad8f_00e0201808a0row5_col6,#T_a84579b6_96cf_11eb_ad8f_00e0201808a0row5_col7{\n",
       "            background:  yellow;\n",
       "        }</style><table id=\"T_a84579b6_96cf_11eb_ad8f_00e0201808a0\" ><thead>    <tr>        <th class=\"blank level0\" ></th>        <th class=\"col_heading level0 col0\" >Accuracy</th>        <th class=\"col_heading level0 col1\" >AUC</th>        <th class=\"col_heading level0 col2\" >Recall</th>        <th class=\"col_heading level0 col3\" >Prec.</th>        <th class=\"col_heading level0 col4\" >F1</th>        <th class=\"col_heading level0 col5\" >Kappa</th>        <th class=\"col_heading level0 col6\" >MCC</th>        <th class=\"col_heading level0 col7\" >LogLoss</th>    </tr></thead><tbody>\n",
       "                <tr>\n",
       "                        <th id=\"T_a84579b6_96cf_11eb_ad8f_00e0201808a0level0_row0\" class=\"row_heading level0 row0\" >0</th>\n",
       "                        <td id=\"T_a84579b6_96cf_11eb_ad8f_00e0201808a0row0_col0\" class=\"data row0 col0\" >0.7025</td>\n",
       "                        <td id=\"T_a84579b6_96cf_11eb_ad8f_00e0201808a0row0_col1\" class=\"data row0 col1\" >0.7171</td>\n",
       "                        <td id=\"T_a84579b6_96cf_11eb_ad8f_00e0201808a0row0_col2\" class=\"data row0 col2\" >0.4269</td>\n",
       "                        <td id=\"T_a84579b6_96cf_11eb_ad8f_00e0201808a0row0_col3\" class=\"data row0 col3\" >0.7173</td>\n",
       "                        <td id=\"T_a84579b6_96cf_11eb_ad8f_00e0201808a0row0_col4\" class=\"data row0 col4\" >0.6256</td>\n",
       "                        <td id=\"T_a84579b6_96cf_11eb_ad8f_00e0201808a0row0_col5\" class=\"data row0 col5\" >0.2440</td>\n",
       "                        <td id=\"T_a84579b6_96cf_11eb_ad8f_00e0201808a0row0_col6\" class=\"data row0 col6\" >0.3295</td>\n",
       "                        <td id=\"T_a84579b6_96cf_11eb_ad8f_00e0201808a0row0_col7\" class=\"data row0 col7\" >0.7538</td>\n",
       "            </tr>\n",
       "            <tr>\n",
       "                        <th id=\"T_a84579b6_96cf_11eb_ad8f_00e0201808a0level0_row1\" class=\"row_heading level0 row1\" >1</th>\n",
       "                        <td id=\"T_a84579b6_96cf_11eb_ad8f_00e0201808a0row1_col0\" class=\"data row1 col0\" >0.6987</td>\n",
       "                        <td id=\"T_a84579b6_96cf_11eb_ad8f_00e0201808a0row1_col1\" class=\"data row1 col1\" >0.7086</td>\n",
       "                        <td id=\"T_a84579b6_96cf_11eb_ad8f_00e0201808a0row1_col2\" class=\"data row1 col2\" >0.4223</td>\n",
       "                        <td id=\"T_a84579b6_96cf_11eb_ad8f_00e0201808a0row1_col3\" class=\"data row1 col3\" >0.6838</td>\n",
       "                        <td id=\"T_a84579b6_96cf_11eb_ad8f_00e0201808a0row1_col4\" class=\"data row1 col4\" >0.6209</td>\n",
       "                        <td id=\"T_a84579b6_96cf_11eb_ad8f_00e0201808a0row1_col5\" class=\"data row1 col5\" >0.2325</td>\n",
       "                        <td id=\"T_a84579b6_96cf_11eb_ad8f_00e0201808a0row1_col6\" class=\"data row1 col6\" >0.3174</td>\n",
       "                        <td id=\"T_a84579b6_96cf_11eb_ad8f_00e0201808a0row1_col7\" class=\"data row1 col7\" >0.7613</td>\n",
       "            </tr>\n",
       "            <tr>\n",
       "                        <th id=\"T_a84579b6_96cf_11eb_ad8f_00e0201808a0level0_row2\" class=\"row_heading level0 row2\" >2</th>\n",
       "                        <td id=\"T_a84579b6_96cf_11eb_ad8f_00e0201808a0row2_col0\" class=\"data row2 col0\" >0.6974</td>\n",
       "                        <td id=\"T_a84579b6_96cf_11eb_ad8f_00e0201808a0row2_col1\" class=\"data row2 col1\" >0.7280</td>\n",
       "                        <td id=\"T_a84579b6_96cf_11eb_ad8f_00e0201808a0row2_col2\" class=\"data row2 col2\" >0.4207</td>\n",
       "                        <td id=\"T_a84579b6_96cf_11eb_ad8f_00e0201808a0row2_col3\" class=\"data row2 col3\" >0.7003</td>\n",
       "                        <td id=\"T_a84579b6_96cf_11eb_ad8f_00e0201808a0row2_col4\" class=\"data row2 col4\" >0.6184</td>\n",
       "                        <td id=\"T_a84579b6_96cf_11eb_ad8f_00e0201808a0row2_col5\" class=\"data row2 col5\" >0.2276</td>\n",
       "                        <td id=\"T_a84579b6_96cf_11eb_ad8f_00e0201808a0row2_col6\" class=\"data row2 col6\" >0.3137</td>\n",
       "                        <td id=\"T_a84579b6_96cf_11eb_ad8f_00e0201808a0row2_col7\" class=\"data row2 col7\" >0.7549</td>\n",
       "            </tr>\n",
       "            <tr>\n",
       "                        <th id=\"T_a84579b6_96cf_11eb_ad8f_00e0201808a0level0_row3\" class=\"row_heading level0 row3\" >3</th>\n",
       "                        <td id=\"T_a84579b6_96cf_11eb_ad8f_00e0201808a0row3_col0\" class=\"data row3 col0\" >0.7014</td>\n",
       "                        <td id=\"T_a84579b6_96cf_11eb_ad8f_00e0201808a0row3_col1\" class=\"data row3 col1\" >0.7213</td>\n",
       "                        <td id=\"T_a84579b6_96cf_11eb_ad8f_00e0201808a0row3_col2\" class=\"data row3 col2\" >0.4230</td>\n",
       "                        <td id=\"T_a84579b6_96cf_11eb_ad8f_00e0201808a0row3_col3\" class=\"data row3 col3\" >0.6922</td>\n",
       "                        <td id=\"T_a84579b6_96cf_11eb_ad8f_00e0201808a0row3_col4\" class=\"data row3 col4\" >0.6221</td>\n",
       "                        <td id=\"T_a84579b6_96cf_11eb_ad8f_00e0201808a0row3_col5\" class=\"data row3 col5\" >0.2382</td>\n",
       "                        <td id=\"T_a84579b6_96cf_11eb_ad8f_00e0201808a0row3_col6\" class=\"data row3 col6\" >0.3282</td>\n",
       "                        <td id=\"T_a84579b6_96cf_11eb_ad8f_00e0201808a0row3_col7\" class=\"data row3 col7\" >0.7539</td>\n",
       "            </tr>\n",
       "            <tr>\n",
       "                        <th id=\"T_a84579b6_96cf_11eb_ad8f_00e0201808a0level0_row4\" class=\"row_heading level0 row4\" >4</th>\n",
       "                        <td id=\"T_a84579b6_96cf_11eb_ad8f_00e0201808a0row4_col0\" class=\"data row4 col0\" >0.7011</td>\n",
       "                        <td id=\"T_a84579b6_96cf_11eb_ad8f_00e0201808a0row4_col1\" class=\"data row4 col1\" >0.7241</td>\n",
       "                        <td id=\"T_a84579b6_96cf_11eb_ad8f_00e0201808a0row4_col2\" class=\"data row4 col2\" >0.4222</td>\n",
       "                        <td id=\"T_a84579b6_96cf_11eb_ad8f_00e0201808a0row4_col3\" class=\"data row4 col3\" >0.7038</td>\n",
       "                        <td id=\"T_a84579b6_96cf_11eb_ad8f_00e0201808a0row4_col4\" class=\"data row4 col4\" >0.6217</td>\n",
       "                        <td id=\"T_a84579b6_96cf_11eb_ad8f_00e0201808a0row4_col5\" class=\"data row4 col5\" >0.2368</td>\n",
       "                        <td id=\"T_a84579b6_96cf_11eb_ad8f_00e0201808a0row4_col6\" class=\"data row4 col6\" >0.3248</td>\n",
       "                        <td id=\"T_a84579b6_96cf_11eb_ad8f_00e0201808a0row4_col7\" class=\"data row4 col7\" >0.7521</td>\n",
       "            </tr>\n",
       "            <tr>\n",
       "                        <th id=\"T_a84579b6_96cf_11eb_ad8f_00e0201808a0level0_row5\" class=\"row_heading level0 row5\" >Mean</th>\n",
       "                        <td id=\"T_a84579b6_96cf_11eb_ad8f_00e0201808a0row5_col0\" class=\"data row5 col0\" >0.7002</td>\n",
       "                        <td id=\"T_a84579b6_96cf_11eb_ad8f_00e0201808a0row5_col1\" class=\"data row5 col1\" >0.7198</td>\n",
       "                        <td id=\"T_a84579b6_96cf_11eb_ad8f_00e0201808a0row5_col2\" class=\"data row5 col2\" >0.4230</td>\n",
       "                        <td id=\"T_a84579b6_96cf_11eb_ad8f_00e0201808a0row5_col3\" class=\"data row5 col3\" >0.6995</td>\n",
       "                        <td id=\"T_a84579b6_96cf_11eb_ad8f_00e0201808a0row5_col4\" class=\"data row5 col4\" >0.6218</td>\n",
       "                        <td id=\"T_a84579b6_96cf_11eb_ad8f_00e0201808a0row5_col5\" class=\"data row5 col5\" >0.2358</td>\n",
       "                        <td id=\"T_a84579b6_96cf_11eb_ad8f_00e0201808a0row5_col6\" class=\"data row5 col6\" >0.3227</td>\n",
       "                        <td id=\"T_a84579b6_96cf_11eb_ad8f_00e0201808a0row5_col7\" class=\"data row5 col7\" >0.7552</td>\n",
       "            </tr>\n",
       "            <tr>\n",
       "                        <th id=\"T_a84579b6_96cf_11eb_ad8f_00e0201808a0level0_row6\" class=\"row_heading level0 row6\" >SD</th>\n",
       "                        <td id=\"T_a84579b6_96cf_11eb_ad8f_00e0201808a0row6_col0\" class=\"data row6 col0\" >0.0019</td>\n",
       "                        <td id=\"T_a84579b6_96cf_11eb_ad8f_00e0201808a0row6_col1\" class=\"data row6 col1\" >0.0066</td>\n",
       "                        <td id=\"T_a84579b6_96cf_11eb_ad8f_00e0201808a0row6_col2\" class=\"data row6 col2\" >0.0021</td>\n",
       "                        <td id=\"T_a84579b6_96cf_11eb_ad8f_00e0201808a0row6_col3\" class=\"data row6 col3\" >0.0113</td>\n",
       "                        <td id=\"T_a84579b6_96cf_11eb_ad8f_00e0201808a0row6_col4\" class=\"data row6 col4\" >0.0023</td>\n",
       "                        <td id=\"T_a84579b6_96cf_11eb_ad8f_00e0201808a0row6_col5\" class=\"data row6 col5\" >0.0055</td>\n",
       "                        <td id=\"T_a84579b6_96cf_11eb_ad8f_00e0201808a0row6_col6\" class=\"data row6 col6\" >0.0062</td>\n",
       "                        <td id=\"T_a84579b6_96cf_11eb_ad8f_00e0201808a0row6_col7\" class=\"data row6 col7\" >0.0032</td>\n",
       "            </tr>\n",
       "    </tbody></table>"
      ],
      "text/plain": [
       "<pandas.io.formats.style.Styler at 0x1e01a96f0c8>"
      ]
     },
     "metadata": {},
     "output_type": "display_data"
    },
    {
     "data": {
      "text/html": [
       "<style  type=\"text/css\" >\n",
       "</style><table id=\"T_a8c47b68_96cf_11eb_8cb3_00e0201808a0\" ><thead>    <tr>        <th class=\"blank level0\" ></th>        <th class=\"col_heading level0 col0\" >Model</th>        <th class=\"col_heading level0 col1\" >Accuracy</th>        <th class=\"col_heading level0 col2\" >AUC</th>        <th class=\"col_heading level0 col3\" >Recall</th>        <th class=\"col_heading level0 col4\" >Prec.</th>        <th class=\"col_heading level0 col5\" >F1</th>        <th class=\"col_heading level0 col6\" >Kappa</th>        <th class=\"col_heading level0 col7\" >MCC</th>        <th class=\"col_heading level0 col8\" >LogLoss</th>    </tr></thead><tbody>\n",
       "                <tr>\n",
       "                        <th id=\"T_a8c47b68_96cf_11eb_8cb3_00e0201808a0level0_row0\" class=\"row_heading level0 row0\" >0</th>\n",
       "                        <td id=\"T_a8c47b68_96cf_11eb_8cb3_00e0201808a0row0_col0\" class=\"data row0 col0\" >Voting Classifier</td>\n",
       "                        <td id=\"T_a8c47b68_96cf_11eb_8cb3_00e0201808a0row0_col1\" class=\"data row0 col1\" >0.6946</td>\n",
       "                        <td id=\"T_a8c47b68_96cf_11eb_8cb3_00e0201808a0row0_col2\" class=\"data row0 col2\" >0.7328</td>\n",
       "                        <td id=\"T_a8c47b68_96cf_11eb_8cb3_00e0201808a0row0_col3\" class=\"data row0 col3\" >0.4251</td>\n",
       "                        <td id=\"T_a8c47b68_96cf_11eb_8cb3_00e0201808a0row0_col4\" class=\"data row0 col4\" >0.6896</td>\n",
       "                        <td id=\"T_a8c47b68_96cf_11eb_8cb3_00e0201808a0row0_col5\" class=\"data row0 col5\" >0.6158</td>\n",
       "                        <td id=\"T_a8c47b68_96cf_11eb_8cb3_00e0201808a0row0_col6\" class=\"data row0 col6\" >0.2375</td>\n",
       "                        <td id=\"T_a8c47b68_96cf_11eb_8cb3_00e0201808a0row0_col7\" class=\"data row0 col7\" >0.3230</td>\n",
       "                        <td id=\"T_a8c47b68_96cf_11eb_8cb3_00e0201808a0row0_col8\" class=\"data row0 col8\" >0.7549</td>\n",
       "            </tr>\n",
       "    </tbody></table>"
      ],
      "text/plain": [
       "<pandas.io.formats.style.Styler at 0x1e04dcf9508>"
      ]
     },
     "metadata": {},
     "output_type": "display_data"
    }
   ],
   "source": [
    "blended = blend_models(estimator_list = best_4, fold = 5, optimize = 'logloss')\n",
    "pred_holdout = predict_model(blended)"
   ]
  },
  {
   "cell_type": "code",
   "execution_count": 11,
   "metadata": {},
   "outputs": [],
   "source": [
    "final_model = finalize_model(blended)"
   ]
  },
  {
   "cell_type": "code",
   "execution_count": 12,
   "metadata": {},
   "outputs": [],
   "source": [
    "predictions = predict_model(final_model, data = test)"
   ]
  },
  {
   "cell_type": "code",
   "execution_count": 13,
   "metadata": {},
   "outputs": [
    {
     "data": {
      "text/plain": [
       "array([[0.06957352, 0.15107483, 0.77935165],\n",
       "       [0.1554555 , 0.14799151, 0.69655299],\n",
       "       [0.10375302, 0.17195439, 0.72429259],\n",
       "       ...,\n",
       "       [0.04002814, 0.1048193 , 0.85515256],\n",
       "       [0.10982675, 0.20106746, 0.68910579],\n",
       "       [0.09365319, 0.25267882, 0.65366799]])"
      ]
     },
     "execution_count": 13,
     "metadata": {},
     "output_type": "execute_result"
    }
   ],
   "source": [
    "prep_pipe = get_config(\"prep_pipe\")\n",
    "prep_pipe.steps.append(['trained_model', final_model])\n",
    "prections = prep_pipe.predict_proba(test)\n",
    "prections"
   ]
  },
  {
   "cell_type": "code",
   "execution_count": 14,
   "metadata": {},
   "outputs": [
    {
     "data": {
      "text/html": [
       "<div>\n",
       "<style scoped>\n",
       "    .dataframe tbody tr th:only-of-type {\n",
       "        vertical-align: middle;\n",
       "    }\n",
       "\n",
       "    .dataframe tbody tr th {\n",
       "        vertical-align: top;\n",
       "    }\n",
       "\n",
       "    .dataframe thead th {\n",
       "        text-align: right;\n",
       "    }\n",
       "</style>\n",
       "<table border=\"1\" class=\"dataframe\">\n",
       "  <thead>\n",
       "    <tr style=\"text-align: right;\">\n",
       "      <th></th>\n",
       "      <th>0</th>\n",
       "      <th>1</th>\n",
       "      <th>2</th>\n",
       "    </tr>\n",
       "    <tr>\n",
       "      <th>index</th>\n",
       "      <th></th>\n",
       "      <th></th>\n",
       "      <th></th>\n",
       "    </tr>\n",
       "  </thead>\n",
       "  <tbody>\n",
       "    <tr>\n",
       "      <th>26457</th>\n",
       "      <td>0.069574</td>\n",
       "      <td>0.151075</td>\n",
       "      <td>0.779352</td>\n",
       "    </tr>\n",
       "    <tr>\n",
       "      <th>26458</th>\n",
       "      <td>0.155456</td>\n",
       "      <td>0.147992</td>\n",
       "      <td>0.696553</td>\n",
       "    </tr>\n",
       "    <tr>\n",
       "      <th>26459</th>\n",
       "      <td>0.103753</td>\n",
       "      <td>0.171954</td>\n",
       "      <td>0.724293</td>\n",
       "    </tr>\n",
       "    <tr>\n",
       "      <th>26460</th>\n",
       "      <td>0.136337</td>\n",
       "      <td>0.144247</td>\n",
       "      <td>0.719415</td>\n",
       "    </tr>\n",
       "    <tr>\n",
       "      <th>26461</th>\n",
       "      <td>0.113320</td>\n",
       "      <td>0.229886</td>\n",
       "      <td>0.656794</td>\n",
       "    </tr>\n",
       "    <tr>\n",
       "      <th>...</th>\n",
       "      <td>...</td>\n",
       "      <td>...</td>\n",
       "      <td>...</td>\n",
       "    </tr>\n",
       "    <tr>\n",
       "      <th>36452</th>\n",
       "      <td>0.154237</td>\n",
       "      <td>0.191424</td>\n",
       "      <td>0.654339</td>\n",
       "    </tr>\n",
       "    <tr>\n",
       "      <th>36453</th>\n",
       "      <td>0.148129</td>\n",
       "      <td>0.261754</td>\n",
       "      <td>0.590116</td>\n",
       "    </tr>\n",
       "    <tr>\n",
       "      <th>36454</th>\n",
       "      <td>0.040028</td>\n",
       "      <td>0.104819</td>\n",
       "      <td>0.855153</td>\n",
       "    </tr>\n",
       "    <tr>\n",
       "      <th>36455</th>\n",
       "      <td>0.109827</td>\n",
       "      <td>0.201067</td>\n",
       "      <td>0.689106</td>\n",
       "    </tr>\n",
       "    <tr>\n",
       "      <th>36456</th>\n",
       "      <td>0.093653</td>\n",
       "      <td>0.252679</td>\n",
       "      <td>0.653668</td>\n",
       "    </tr>\n",
       "  </tbody>\n",
       "</table>\n",
       "<p>10000 rows × 3 columns</p>\n",
       "</div>"
      ],
      "text/plain": [
       "              0         1         2\n",
       "index                              \n",
       "26457  0.069574  0.151075  0.779352\n",
       "26458  0.155456  0.147992  0.696553\n",
       "26459  0.103753  0.171954  0.724293\n",
       "26460  0.136337  0.144247  0.719415\n",
       "26461  0.113320  0.229886  0.656794\n",
       "...         ...       ...       ...\n",
       "36452  0.154237  0.191424  0.654339\n",
       "36453  0.148129  0.261754  0.590116\n",
       "36454  0.040028  0.104819  0.855153\n",
       "36455  0.109827  0.201067  0.689106\n",
       "36456  0.093653  0.252679  0.653668\n",
       "\n",
       "[10000 rows x 3 columns]"
      ]
     },
     "execution_count": 14,
     "metadata": {},
     "output_type": "execute_result"
    }
   ],
   "source": [
    "submission['0'] = prections[:,0]\n",
    "submission['1'] = prections[:,1]\n",
    "submission['2'] = prections[:,2]\n",
    "submission"
   ]
  },
  {
   "cell_type": "code",
   "execution_count": 15,
   "metadata": {},
   "outputs": [],
   "source": [
    "submission.to_csv('output/20210406-2-1.csv')"
   ]
  },
  {
   "cell_type": "code",
   "execution_count": null,
   "metadata": {},
   "outputs": [],
   "source": []
  }
 ],
 "metadata": {
  "kernelspec": {
   "display_name": "Python 3",
   "language": "python",
   "name": "python3"
  },
  "language_info": {
   "codemirror_mode": {
    "name": "ipython",
    "version": 3
   },
   "file_extension": ".py",
   "mimetype": "text/x-python",
   "name": "python",
   "nbconvert_exporter": "python",
   "pygments_lexer": "ipython3",
   "version": "3.7.6"
  }
 },
 "nbformat": 4,
 "nbformat_minor": 4
}
