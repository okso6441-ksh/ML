{
 "cells": [
  {
   "cell_type": "code",
   "execution_count": 1,
   "metadata": {
    "id": "F43IerJKCByJ"
   },
   "outputs": [],
   "source": [
    "import pandas as pd\n",
    "import numpy as np\n",
    "import random\n",
    "import os\n",
    "\n",
    "import matplotlib.pyplot as plt\n",
    "import seaborn as sns\n",
    "\n",
    "from tqdm import tqdm\n",
    "from statsmodels.tsa.arima.model import ARIMA\n",
    "\n",
    "from sklearn.ensemble import RandomForestRegressor\n",
    "\n",
    "import warnings\n",
    "warnings.filterwarnings(\"ignore\")"
   ]
  },
  {
   "cell_type": "code",
   "execution_count": 2,
   "metadata": {
    "id": "2K_rh2YZCByK"
   },
   "outputs": [],
   "source": [
    "def seed_everything(seed):\n",
    "    random.seed(seed)\n",
    "    os.environ['PYTHONHASHSEED'] = str(seed)\n",
    "    np.random.seed(seed)\n",
    "\n",
    "seed_everything(42) # Seed 고정\n",
    "\n",
    "# e 표시 안되게 \n",
    "pd.options.display.float_format = '{:.2f}'.format"
   ]
  },
  {
   "cell_type": "code",
   "execution_count": 3,
   "metadata": {},
   "outputs": [],
   "source": [
    "# 한글 폰트 사용을 위해서 세팅\n",
    "from matplotlib import font_manager, rc\n",
    "font_path = \"C:/Windows/Fonts/H2GTRM.TTF\"\n",
    "font = font_manager.FontProperties(fname=font_path).get_name()\n",
    "rc('font', family=font)"
   ]
  },
  {
   "cell_type": "markdown",
   "metadata": {
    "id": "BLFOr7OJCByM"
   },
   "source": [
    "## Data Load"
   ]
  },
  {
   "cell_type": "markdown",
   "metadata": {
    "colab": {
     "base_uri": "https://localhost:8080/"
    },
    "executionInfo": {
     "elapsed": 2504,
     "status": "ok",
     "timestamp": 1689585356452,
     "user": {
      "displayName": "김상화",
      "userId": "01180527613373969793"
     },
     "user_tz": -540
    },
    "id": "pPmX0C54CY3F",
    "outputId": "201a5b71-6c1b-4535-8c4a-e4ba121553cb"
   },
   "source": [
    "from google.colab import drive\n",
    "drive.mount('/content/drive')\n",
    "\n",
    "#### colab\n",
    "train = pd.read_csv('/content/drive/MyDrive/work/input/train.csv')\n",
    "test = pd.read_csv('/content/drive/MyDrive/work/input/test.csv')\n",
    "building_info = pd.read_csv('/content/drive/MyDrive/work/input/building_info.csv')\n",
    "submission = pd.read_csv('/content/drive/MyDrive/work/input/sample_submission.csv')\n",
    "train.shape, test.shape, building_info.shape, submission.shape"
   ]
  },
  {
   "cell_type": "code",
   "execution_count": null,
   "metadata": {},
   "outputs": [],
   "source": []
  },
  {
   "cell_type": "code",
   "execution_count": 4,
   "metadata": {
    "colab": {
     "base_uri": "https://localhost:8080/"
    },
    "executionInfo": {
     "elapsed": 690,
     "status": "ok",
     "timestamp": 1689585357139,
     "user": {
      "displayName": "김상화",
      "userId": "01180527613373969793"
     },
     "user_tz": -540
    },
    "id": "KG-maqEKCqFm",
    "outputId": "63c2e9d2-4af7-4cd8-dc8c-17494d9fd5ff"
   },
   "outputs": [
    {
     "data": {
      "text/plain": [
       "((204000, 10), (16800, 7), (100, 7), (16800, 2))"
      ]
     },
     "execution_count": 4,
     "metadata": {},
     "output_type": "execute_result"
    }
   ],
   "source": [
    "train = pd.read_csv('input/train.csv')\n",
    "test = pd.read_csv('input/test.csv')\n",
    "building_info = pd.read_csv('input/building_info.csv')\n",
    "\n",
    "pred = pd.read_csv('output/20230828-3.csv')\n",
    "\n",
    "train.shape, test.shape, building_info.shape, pred.shape"
   ]
  },
  {
   "cell_type": "code",
   "execution_count": null,
   "metadata": {},
   "outputs": [],
   "source": []
  },
  {
   "cell_type": "code",
   "execution_count": 5,
   "metadata": {},
   "outputs": [],
   "source": [
    "# 예측 연결\n",
    "test = test.merge(pred, on=['num_date_time']).rename(columns={'answer':'전력소비량(kWh)'})"
   ]
  },
  {
   "cell_type": "code",
   "execution_count": null,
   "metadata": {},
   "outputs": [],
   "source": []
  },
  {
   "cell_type": "code",
   "execution_count": 6,
   "metadata": {},
   "outputs": [
    {
     "data": {
      "text/html": [
       "<div>\n",
       "<style scoped>\n",
       "    .dataframe tbody tr th:only-of-type {\n",
       "        vertical-align: middle;\n",
       "    }\n",
       "\n",
       "    .dataframe tbody tr th {\n",
       "        vertical-align: top;\n",
       "    }\n",
       "\n",
       "    .dataframe thead th {\n",
       "        text-align: right;\n",
       "    }\n",
       "</style>\n",
       "<table border=\"1\" class=\"dataframe\">\n",
       "  <thead>\n",
       "    <tr style=\"text-align: right;\">\n",
       "      <th></th>\n",
       "      <th>num_date_time</th>\n",
       "      <th>건물번호</th>\n",
       "      <th>일시</th>\n",
       "      <th>기온(C)</th>\n",
       "      <th>강수량(mm)</th>\n",
       "      <th>풍속(m/s)</th>\n",
       "      <th>습도(%)</th>\n",
       "      <th>일조(hr)</th>\n",
       "      <th>일사(MJ/m2)</th>\n",
       "      <th>전력소비량(kWh)</th>\n",
       "    </tr>\n",
       "  </thead>\n",
       "  <tbody>\n",
       "    <tr>\n",
       "      <th>0</th>\n",
       "      <td>1_20220601 00</td>\n",
       "      <td>1</td>\n",
       "      <td>20220601 00</td>\n",
       "      <td>18.60</td>\n",
       "      <td>NaN</td>\n",
       "      <td>0.90</td>\n",
       "      <td>42.00</td>\n",
       "      <td>NaN</td>\n",
       "      <td>NaN</td>\n",
       "      <td>1085.28</td>\n",
       "    </tr>\n",
       "  </tbody>\n",
       "</table>\n",
       "</div>"
      ],
      "text/plain": [
       "   num_date_time  건물번호           일시  기온(C)  강수량(mm)  풍속(m/s)  습도(%)  일조(hr)  \\\n",
       "0  1_20220601 00     1  20220601 00  18.60      NaN     0.90  42.00     NaN   \n",
       "\n",
       "   일사(MJ/m2)  전력소비량(kWh)  \n",
       "0        NaN     1085.28  "
      ]
     },
     "execution_count": 6,
     "metadata": {},
     "output_type": "execute_result"
    }
   ],
   "source": [
    "train[:1]"
   ]
  },
  {
   "cell_type": "code",
   "execution_count": 7,
   "metadata": {},
   "outputs": [
    {
     "data": {
      "text/html": [
       "<div>\n",
       "<style scoped>\n",
       "    .dataframe tbody tr th:only-of-type {\n",
       "        vertical-align: middle;\n",
       "    }\n",
       "\n",
       "    .dataframe tbody tr th {\n",
       "        vertical-align: top;\n",
       "    }\n",
       "\n",
       "    .dataframe thead th {\n",
       "        text-align: right;\n",
       "    }\n",
       "</style>\n",
       "<table border=\"1\" class=\"dataframe\">\n",
       "  <thead>\n",
       "    <tr style=\"text-align: right;\">\n",
       "      <th></th>\n",
       "      <th>건물번호</th>\n",
       "      <th>건물유형</th>\n",
       "      <th>연면적(m2)</th>\n",
       "      <th>냉방면적(m2)</th>\n",
       "      <th>태양광용량(kW)</th>\n",
       "      <th>ESS저장용량(kWh)</th>\n",
       "      <th>PCS용량(kW)</th>\n",
       "    </tr>\n",
       "  </thead>\n",
       "  <tbody>\n",
       "    <tr>\n",
       "      <th>0</th>\n",
       "      <td>1</td>\n",
       "      <td>건물기타</td>\n",
       "      <td>110634.00</td>\n",
       "      <td>39570.00</td>\n",
       "      <td>-</td>\n",
       "      <td>-</td>\n",
       "      <td>-</td>\n",
       "    </tr>\n",
       "  </tbody>\n",
       "</table>\n",
       "</div>"
      ],
      "text/plain": [
       "   건물번호  건물유형   연면적(m2)  냉방면적(m2) 태양광용량(kW) ESS저장용량(kWh) PCS용량(kW)\n",
       "0     1  건물기타 110634.00  39570.00         -            -         -"
      ]
     },
     "execution_count": 7,
     "metadata": {},
     "output_type": "execute_result"
    }
   ],
   "source": [
    "building_info[:1]"
   ]
  },
  {
   "cell_type": "markdown",
   "metadata": {},
   "source": [
    "## EDA"
   ]
  },
  {
   "cell_type": "code",
   "execution_count": null,
   "metadata": {},
   "outputs": [],
   "source": [
    "# 빌딩 데이터 정리\n",
    "## null 처리\n",
    "building_info['태양광용량(kW)'] = building_info['태양광용량(kW)'].str.replace('-','0').astype(float)\n",
    "building_info['ESS저장용량(kWh)'] = building_info['ESS저장용량(kWh)'].str.replace('-','0').astype(float)\n",
    "building_info['PCS용량(kW)'] = building_info['PCS용량(kW)'].str.replace('-','0').astype(float)"
   ]
  },
  {
   "cell_type": "code",
   "execution_count": null,
   "metadata": {},
   "outputs": [],
   "source": [
    "# 시각화 스케일 조정 * 0.01\n",
    "train['전력소비량(kWh)_plot'] = train['전력소비량(kWh)']*0.01\n",
    "test['전력소비량(kWh)_plot'] = test['전력소비량(kWh)']*0.01"
   ]
  },
  {
   "cell_type": "code",
   "execution_count": null,
   "metadata": {},
   "outputs": [],
   "source": [
    "#시계열 특성을 학습에 반영하기 위해 일시를 월, 일, 시간으로 나눕니다\n",
    "train['month'] = train['일시'].apply(lambda x : int(x[4:6]))\n",
    "train['day'] = train['일시'].apply(lambda x : int(x[6:8]))\n",
    "train['time'] = train['일시'].apply(lambda x : int(x[9:11]))\n",
    "\n",
    "test['month'] = test['일시'].apply(lambda x : int(x[4:6]))\n",
    "test['day'] = test['일시'].apply(lambda x : int(x[6:8]))\n",
    "test['time'] = test['일시'].apply(lambda x : int(x[9:11]))"
   ]
  },
  {
   "cell_type": "code",
   "execution_count": null,
   "metadata": {},
   "outputs": [],
   "source": [
    "# 요일\n",
    "train['weekday'] =  pd.to_datetime(train['일시'].str[:8]).dt.weekday\n",
    "test['weekday'] =  pd.to_datetime(test['일시'].str[:8]).dt.weekday"
   ]
  },
  {
   "cell_type": "code",
   "execution_count": null,
   "metadata": {},
   "outputs": [],
   "source": [
    "train['일시'] = pd.to_datetime(train['일시'])\n",
    "test['일시'] = pd.to_datetime(test['일시'])"
   ]
  },
  {
   "cell_type": "code",
   "execution_count": null,
   "metadata": {},
   "outputs": [],
   "source": [
    "# 정리된 빌딩과 merge\n",
    "train = train.merge(building_info, on='건물번호')\n",
    "test = test.merge(building_info, on='건물번호')"
   ]
  },
  {
   "cell_type": "code",
   "execution_count": null,
   "metadata": {},
   "outputs": [],
   "source": [
    "pd.set_option('max_columns', 100)\n",
    "# train[train['건물번호'] == 58].sort_values('전력소비량(kWh)', ascending=False)[:10]#.num_date_time.values\n",
    "# train[train['건물번호'] == 73].sort_values('전력소비량(kWh)')[:5]"
   ]
  },
  {
   "cell_type": "code",
   "execution_count": null,
   "metadata": {},
   "outputs": [],
   "source": [
    "train['date'] = pd.to_datetime(train['일시']).dt.strftime('%Y%m%d')\n",
    "test['date'] = pd.to_datetime(test['일시']).dt.strftime('%Y%m%d')"
   ]
  },
  {
   "cell_type": "code",
   "execution_count": null,
   "metadata": {},
   "outputs": [],
   "source": []
  },
  {
   "cell_type": "code",
   "execution_count": null,
   "metadata": {
    "scrolled": false
   },
   "outputs": [],
   "source": [
    "for i in range(13,15):\n",
    "    \n",
    "    if i not in [0]: \n",
    "        \n",
    "        temp = train[train['건물번호'] == i][-21*24:-14*24]\n",
    "        temp1 = temp[temp.weekday.isin([0,1,2,3,4])]\n",
    "        temp2 = temp[temp.weekday.isin([5,6])]\n",
    "\n",
    "        plt.figure(figsize=(20, 3))\n",
    "        g = sns.lineplot(x=temp1['time'], y=temp1['전력소비량(kWh)_plot'], hue=temp1['date'])\n",
    "#         sns.boxplot(x=temp[\"전력소비량(kWh)_plot\"], saturation=0.99)\n",
    "        plt.title(str(i)+'_'+temp[:1]['건물유형'].values[0])\n",
    "#         plt.legend([],[], frameon=False)\n",
    "        g.set_xticks(range(0,24))\n",
    "        \n",
    "        plt.figure(figsize=(20, 3))\n",
    "        g = sns.lineplot(x=temp2['time'], y=temp2['전력소비량(kWh)_plot'], hue=temp2['date'])\n",
    "        plt.title(str(i)+'_'+temp2[:1]['건물유형'].values[0]+'_휴일')\n",
    "        g.set_xticks(range(0,24))\n",
    "    \n",
    "        plt.show()"
   ]
  },
  {
   "cell_type": "code",
   "execution_count": null,
   "metadata": {},
   "outputs": [],
   "source": []
  },
  {
   "cell_type": "code",
   "execution_count": null,
   "metadata": {},
   "outputs": [],
   "source": [
    "train['gubun'] = 'train'\n",
    "test['gubun'] = 'test'\n",
    "temp = pd.concat([train, test])"
   ]
  },
  {
   "cell_type": "code",
   "execution_count": null,
   "metadata": {},
   "outputs": [],
   "source": [
    "for i in range(3, 4):\n",
    "    plt.figure(figsize=(20, 3))    \n",
    "    sns.lineplot(temp[temp['건물번호'] == i]['num_date_time'], temp[temp['건물번호'] == i]['전력소비량(kWh)_plot'], hue=temp[temp['건물번호'] == i]['gubun'])\n",
    "    plt.title(i)\n",
    "    plt.xticks(rotation=60)\n",
    "    plt.show()"
   ]
  },
  {
   "cell_type": "code",
   "execution_count": null,
   "metadata": {},
   "outputs": [],
   "source": [
    "for i in range(3, 4):\n",
    "    plt.figure(figsize=(20, 3))  \n",
    "#     temp.drop( temp[(temp['건물번호'].isin([3])) & (temp['month'].isin([6,8])) ].index, inplace=True)\n",
    "    sns.lineplot(temp[temp['건물번호'] == i]['num_date_time'], temp[temp['건물번호'] == i]['전력소비량(kWh)_plot'], hue=temp[temp['건물번호'] == i]['gubun'])\n",
    "    plt.title(i)\n",
    "    plt.xticks(rotation=60)\n",
    "    plt.show()"
   ]
  },
  {
   "cell_type": "code",
   "execution_count": null,
   "metadata": {},
   "outputs": [],
   "source": [
    "plt.figure(figsize=(20, 3))  \n",
    "temp1 = temp[(temp['건물번호'] == 58) & (temp['month'] == 7)][0*24:7*24]\n",
    "temp1.drop( temp1[(train['day'].isin([5]))].index, inplace=True)\n",
    "sns.lineplot(temp1['num_date_time'], temp1['전력소비량(kWh)_plot'], hue=temp1['gubun'])\n",
    "plt.title(i)\n",
    "plt.xticks(rotation=60)\n",
    "plt.show()"
   ]
  },
  {
   "cell_type": "code",
   "execution_count": null,
   "metadata": {},
   "outputs": [],
   "source": []
  },
  {
   "cell_type": "code",
   "execution_count": null,
   "metadata": {
    "scrolled": false
   },
   "outputs": [],
   "source": [
    "for i in range(93,101):\n",
    "    plt.figure(figsize=(20, 3))    \n",
    "    sns.lineplot(temp[temp['건물번호'] == i]['num_date_time'], temp[temp['건물번호'] == i]['전력소비량(kWh)_plot'], hue=temp[temp['건물번호'] == i]['gubun'])\n",
    "    plt.title(i)\n",
    "    plt.show()"
   ]
  },
  {
   "cell_type": "code",
   "execution_count": null,
   "metadata": {},
   "outputs": [],
   "source": []
  },
  {
   "cell_type": "code",
   "execution_count": null,
   "metadata": {},
   "outputs": [],
   "source": []
  },
  {
   "cell_type": "code",
   "execution_count": null,
   "metadata": {},
   "outputs": [],
   "source": [
    "train[train['건물번호'] == 3][['date', 'time', '전력소비량(kWh)_plot']].pivot('date', 'time', '전력소비량(kWh)_plot')[-14:]"
   ]
  },
  {
   "cell_type": "code",
   "execution_count": null,
   "metadata": {},
   "outputs": [],
   "source": [
    "temp = train[train['건물번호'] == 3][-7*24:]"
   ]
  },
  {
   "cell_type": "code",
   "execution_count": null,
   "metadata": {},
   "outputs": [],
   "source": [
    "temp['전력소비량(kWh)'].std()"
   ]
  },
  {
   "cell_type": "code",
   "execution_count": null,
   "metadata": {},
   "outputs": [],
   "source": [
    "train['date'] = pd.to_datetime(train['일시']).dt.strftime('%Y%m%d')\n",
    "\n",
    "std = train.groupby(['건물번호']).agg({'전력소비량(kWh)':['std']}).reset_index()\n",
    "std.columns = ['건물번호', 'std']\n",
    "\n",
    "train_std = train.groupby(['건물번호','date','weekday']).agg({'전력소비량(kWh)':['std']}).reset_index()\n",
    "train_std.columns = ['건물번호','date','weekday', 'date_std']\n",
    "\n",
    "train_std = train_std.merge(std, on=['건물번호'])\n",
    "\n",
    "train_std['std'] = np.where(train_std['date_std'] > train_std['std'], 0, 1)"
   ]
  },
  {
   "cell_type": "code",
   "execution_count": null,
   "metadata": {},
   "outputs": [],
   "source": [
    "train_std[train_std['건물번호'] == 3][-21:-14]"
   ]
  },
  {
   "cell_type": "code",
   "execution_count": null,
   "metadata": {},
   "outputs": [],
   "source": [
    "train_std[train_std['건물번호'] == 3][-14:-7]"
   ]
  },
  {
   "cell_type": "code",
   "execution_count": null,
   "metadata": {},
   "outputs": [],
   "source": [
    "train_std[train_std['건물번호'] == 3][-7:]"
   ]
  },
  {
   "cell_type": "code",
   "execution_count": null,
   "metadata": {},
   "outputs": [],
   "source": [
    "train['date'] = pd.to_datetime(train['일시']).dt.strftime('%Y%m%d')\n",
    "\n",
    "std = train.groupby(['건물번호']).agg({'전력소비량(kWh)':['std']}).reset_index()\n",
    "std.columns = ['건물번호', 'std']\n",
    "\n",
    "train_std = train.groupby(['건물번호','date','weekday']).agg({'전력소비량(kWh)':['std']}).reset_index()\n",
    "train_std.columns = ['건물번호','date','weekday', 'date_std']\n",
    "\n",
    "train_std = train_std.merge(std, on=['건물번호'])\n",
    "\n",
    "train_std['std'] = np.where(train_std['date_std'] > train_std['std'], 0, 1)\n",
    "\n",
    "train_std_onthot = train_std.groupby(['건물번호','weekday']).mean()[['std']].reset_index()\n",
    "train_std_onthot['std1'] = np.where(train_std_onthot['std'] > 0.5, 1, 0)\n",
    "\n",
    "train_std_onthot[train_std_onthot['건물번호'] == 3]\n",
    "train = train.merge(train_std_onthot[['건물번호','weekday', 'std1']], on=['건물번호','weekday'])\n",
    "\n",
    "train.drop('date', axis=1, inplace=True)"
   ]
  },
  {
   "cell_type": "code",
   "execution_count": null,
   "metadata": {},
   "outputs": [],
   "source": [
    "train_std_onthot[train_std_onthot['건물번호'] == 3]"
   ]
  },
  {
   "cell_type": "code",
   "execution_count": null,
   "metadata": {},
   "outputs": [],
   "source": []
  },
  {
   "cell_type": "code",
   "execution_count": null,
   "metadata": {},
   "outputs": [],
   "source": [
    "train_std[train_std['건물번호'] == 3][-7:]"
   ]
  },
  {
   "cell_type": "code",
   "execution_count": null,
   "metadata": {},
   "outputs": [],
   "source": []
  },
  {
   "cell_type": "code",
   "execution_count": null,
   "metadata": {},
   "outputs": [],
   "source": [
    "train"
   ]
  },
  {
   "cell_type": "code",
   "execution_count": null,
   "metadata": {},
   "outputs": [],
   "source": [
    "18 목\n",
    "19 금 -\n",
    "22 월 -\n",
    "23 화\n",
    "24 수"
   ]
  },
  {
   "cell_type": "code",
   "execution_count": null,
   "metadata": {},
   "outputs": [],
   "source": []
  },
  {
   "cell_type": "code",
   "execution_count": null,
   "metadata": {},
   "outputs": [],
   "source": []
  },
  {
   "cell_type": "code",
   "execution_count": null,
   "metadata": {},
   "outputs": [],
   "source": [
    "building_info[92:].get_du"
   ]
  },
  {
   "cell_type": "code",
   "execution_count": null,
   "metadata": {},
   "outputs": [],
   "source": [
    "temp = train.groupby(['건물번호','건물유형', 'month']).agg({'전력소비량(kWh)':'mean'}).reset_index().pivot(['건물번호','건물유형'], 'month', '전력소비량(kWh)')\n",
    "temp[87] = temp[8] - temp[7]\n",
    "temp[86] = temp[8] - temp[6]\n",
    "temp.sort_values(86, ascending=False).to_excel('월제외.xlsx')"
   ]
  },
  {
   "cell_type": "code",
   "execution_count": null,
   "metadata": {},
   "outputs": [],
   "source": []
  },
  {
   "cell_type": "code",
   "execution_count": null,
   "metadata": {},
   "outputs": [],
   "source": [
    "temp = train[train['건물번호'] == 1].groupby(['건물번호','건물유형', 'month']).agg({'기온(C)':'mean'}).reset_index().pivot(['건물번호','건물유형'], 'month', '기온(C)')\n",
    "temp"
   ]
  },
  {
   "cell_type": "code",
   "execution_count": null,
   "metadata": {},
   "outputs": [],
   "source": [
    "train[(train['건물번호'] == 1)][-7*24*2:-7*24]['기온(C)'].mean()"
   ]
  },
  {
   "cell_type": "code",
   "execution_count": null,
   "metadata": {},
   "outputs": [],
   "source": [
    "train[(train['건물번호'] == 1)][-7*24:]['기온(C)'].mean()"
   ]
  },
  {
   "cell_type": "code",
   "execution_count": null,
   "metadata": {},
   "outputs": [],
   "source": [
    "test[test['건물번호'] == 1]['기온(C)'].mean()"
   ]
  },
  {
   "cell_type": "code",
   "execution_count": null,
   "metadata": {},
   "outputs": [],
   "source": []
  },
  {
   "cell_type": "code",
   "execution_count": null,
   "metadata": {},
   "outputs": [],
   "source": [
    "train[['month', ]]"
   ]
  },
  {
   "cell_type": "code",
   "execution_count": null,
   "metadata": {},
   "outputs": [],
   "source": []
  },
  {
   "cell_type": "code",
   "execution_count": null,
   "metadata": {},
   "outputs": [],
   "source": []
  },
  {
   "cell_type": "code",
   "execution_count": null,
   "metadata": {},
   "outputs": [],
   "source": []
  },
  {
   "cell_type": "code",
   "execution_count": null,
   "metadata": {
    "scrolled": true
   },
   "outputs": [],
   "source": [
    "for t in train['건물유형'].unique():\n",
    "    print(t)\n",
    "    temp = train[train['건물유형'] == t][['기온(C)', '강수량(mm)', '풍속(m/s)', '습도(%)','연면적(m2)', '냉방면적(m2)', '태양광용량(kW)',\n",
    "       'ESS저장용량(kWh)', 'PCS용량(kW)','전력소비량(kWh)']]\n",
    "    \n",
    "    plt.figure(figsize=(9, 8))\n",
    "#     sns.heatmap(temp.corr(), cmap='RdBu', annot=True,fmt=\".1f\")\n",
    "    sns.pairplot(temp)\n",
    "    plt.show()\n"
   ]
  },
  {
   "cell_type": "code",
   "execution_count": null,
   "metadata": {},
   "outputs": [],
   "source": [
    "train.columns"
   ]
  },
  {
   "cell_type": "code",
   "execution_count": null,
   "metadata": {},
   "outputs": [],
   "source": []
  },
  {
   "cell_type": "code",
   "execution_count": null,
   "metadata": {},
   "outputs": [],
   "source": []
  },
  {
   "cell_type": "code",
   "execution_count": null,
   "metadata": {},
   "outputs": [],
   "source": []
  },
  {
   "cell_type": "code",
   "execution_count": null,
   "metadata": {},
   "outputs": [],
   "source": [
    "building_no = [1,16,24,32,37,45,53,61,69,77,85,93]"
   ]
  },
  {
   "cell_type": "code",
   "execution_count": null,
   "metadata": {},
   "outputs": [],
   "source": [
    "train.columns"
   ]
  },
  {
   "cell_type": "code",
   "execution_count": null,
   "metadata": {},
   "outputs": [],
   "source": [
    "# 호텔 # 39~100\n",
    "# 95 > 98 유형이 낫다 "
   ]
  },
  {
   "cell_type": "code",
   "execution_count": null,
   "metadata": {},
   "outputs": [],
   "source": [
    "train['습도(%)_plot'] = train['습도(%)'] * 0.2\n",
    "test['습도(%)_plot'] = test['습도(%)'] * 0.2"
   ]
  },
  {
   "cell_type": "code",
   "execution_count": null,
   "metadata": {},
   "outputs": [],
   "source": [
    "train.columns"
   ]
  },
  {
   "cell_type": "code",
   "execution_count": null,
   "metadata": {},
   "outputs": [],
   "source": [
    "train.groupby(['건물유형', '건물번호','연면적(m2)', '냉방면적(m2)', '태양광용량(kW)',\n",
    "       'ESS저장용량(kWh)', 'PCS용량(kW)']).agg({'전력소비량(kWh)_plot':['min','mean','max']}).reset_index().to_excel('건물별.xlsx')"
   ]
  },
  {
   "cell_type": "code",
   "execution_count": null,
   "metadata": {},
   "outputs": [],
   "source": [
    "train[train['건물유형'] == '대학교'].pivot(index=['건물번호','month', 'day', 'weekday'], columns=['time'], values='전력소비량(kWh)_plot').reset_index().to_excel('대학교.xlsx')"
   ]
  },
  {
   "cell_type": "code",
   "execution_count": null,
   "metadata": {},
   "outputs": [],
   "source": [
    "pd.set_option('max_columns', 30)\n",
    "train.sort_values(['전력소비량(kWh)_plot'])[:10]"
   ]
  },
  {
   "cell_type": "code",
   "execution_count": null,
   "metadata": {},
   "outputs": [],
   "source": [
    "train.pivot(index=['건물유형','건물번호','month', 'day', 'weekday'], columns=['time'], values='전력소비량(kWh)_plot')#.reset_index().to_excel('호텔및리조트.xlsx')"
   ]
  },
  {
   "cell_type": "code",
   "execution_count": null,
   "metadata": {},
   "outputs": [],
   "source": [
    "train[train['건물유형'] == '호텔및리조트'].pivot(index=['건물번호','month', 'day', 'weekday'], columns=['time'], values='전력소비량(kWh)_plot').reset_index().to_excel('호텔및리조트.xlsx')"
   ]
  },
  {
   "cell_type": "code",
   "execution_count": null,
   "metadata": {
    "scrolled": false
   },
   "outputs": [],
   "source": [
    "bno = 95\n",
    "for i in range(1, 7):  \n",
    "    plt.figure(figsize=(16,3))\n",
    "    temp = train[(train['건물번호'] == bno) & (train.weekday==0)] [-24*(i+1): -24*i].drop('num_date_time', axis=1) # & (train['month'] == 8)]\n",
    "    display(temp[:1])\n",
    "    plt.plot(temp['일시'], temp['풍속(m/s)'],linestyle='-', marker='o', label=\"풍속\")\n",
    "    plt.plot(temp['일시'], temp['강수량(mm)'],linestyle='-', marker='o', label=\"강수량\")\n",
    "    plt.plot(temp['일시'], temp['습도(%)_plot'],linestyle='-', marker='o', label=\"습도\")\n",
    "    plt.plot(temp['일시'], temp['기온(C)'],linestyle='-', marker='o', label=\"기온\")\n",
    "    \n",
    "    plt.plot(temp['일시'], temp['전력소비량(kWh)_plot'],linestyle='-', label=\"전력소비량\")\n",
    "    \n",
    "    plt.legend()\n",
    "    plt.title(temp.weekday.unique())\n",
    "    plt.show()"
   ]
  },
  {
   "cell_type": "code",
   "execution_count": null,
   "metadata": {
    "scrolled": false
   },
   "outputs": [],
   "source": [
    "bno = 2\n",
    "for i in range(1, 2):  \n",
    "    plt.figure(figsize=(16,4))\n",
    "    temp = train[(train['건물번호'] == bno)] [-24*(i+1): -24*i] # & (train['month'] == 8)]\n",
    "    display(temp[:1])\n",
    "    plt.plot(temp['일시'], temp['풍속(m/s)'],linestyle='-', marker='o', label=\"풍속\")\n",
    "    plt.plot(temp['일시'], temp['강수량(mm)'],linestyle='-', marker='o', label=\"강수량\")\n",
    "    plt.plot(temp['일시'], temp['습도(%)_plot'],linestyle='-', marker='o', label=\"습도\")\n",
    "    plt.plot(temp['일시'], temp['기온(C)'],linestyle='-', marker='o', label=\"기온\")\n",
    "    \n",
    "    plt.plot(temp['일시'], temp['전력소비량(kWh)_plot'],linestyle='-', label=\"전력소비량\")\n",
    "    \n",
    "    plt.legend()\n",
    "    plt.title(temp.weekday.unique())\n",
    "    plt.show()"
   ]
  },
  {
   "cell_type": "code",
   "execution_count": null,
   "metadata": {},
   "outputs": [],
   "source": [
    "temp = train[(train['건물번호'] == bno) &(train['month'] == 7)&(train['day'] == 6)]\n",
    "display(temp['전력소비량(kWh)_plot'].values)\n",
    "plt.figure(figsize=(16,4))\n",
    "# plt.plot(temp['일시'], temp['풍속(m/s)'],linestyle='-', marker='o', label=\"풍속\")\n",
    "# plt.plot(temp['일시'], temp['강수량(mm)'],linestyle='-', marker='o', label=\"강수량\")\n",
    "# plt.plot(temp['일시'], temp['습도(%)_plot'],linestyle='-', marker='o', label=\"습도\")\n",
    "# plt.plot(temp['일시'], temp['기온(C)'],linestyle='-', marker='o', label=\"기온\")\n",
    "\n",
    "plt.plot(temp['일시'], temp['전력소비량(kWh)_plot'],linestyle='-', label=\"전력소비량\")\n",
    "\n",
    "plt.legend()\n",
    "plt.title(temp.weekday.unique())\n",
    "plt.show()"
   ]
  },
  {
   "cell_type": "code",
   "execution_count": null,
   "metadata": {},
   "outputs": [],
   "source": []
  },
  {
   "cell_type": "code",
   "execution_count": null,
   "metadata": {},
   "outputs": [],
   "source": [
    "train['week'] = train['일시'].dt.isocalendar()['week']"
   ]
  },
  {
   "cell_type": "code",
   "execution_count": null,
   "metadata": {},
   "outputs": [],
   "source": [
    "temp = train[(train['건물번호'] == bno)].groupby(['month','day','weekday','week']).agg({'전력소비량(kWh)':['min','max']}).reset_index()\n",
    "\n",
    "\n",
    "\n",
    "temp.columns = ['month','day','weekday','week', 'min','max']\n",
    "temp['compare'] = temp['max'] - temp['min']\n",
    "temp[temp.weekday == 2][-24:]\n",
    "# temp[temp.month == 7][:]\n",
    "temp[-24:]"
   ]
  },
  {
   "cell_type": "code",
   "execution_count": null,
   "metadata": {},
   "outputs": [],
   "source": [
    "temp[temp.month==6]"
   ]
  },
  {
   "cell_type": "code",
   "execution_count": null,
   "metadata": {
    "scrolled": false
   },
   "outputs": [],
   "source": [
    "for i in range(0, 7):  \n",
    "    plt.figure(figsize=(16,4))\n",
    "    temp = test[(test['건물번호'] == bno) & (test['month'] == 8)][24*i: 24*(i+1)]\n",
    "    display(temp[:1])\n",
    "    plt.plot(temp['일시'], temp['풍속(m/s)'],linestyle='-', marker='o', label=\"풍속\")\n",
    "    plt.plot(temp['일시'], temp['강수량(mm)'],linestyle='-', marker='o', label=\"강수량\")\n",
    "    plt.plot(temp['일시'], temp['습도(%)_plot'],linestyle='-', marker='o', label=\"습도\")\n",
    "    plt.plot(temp['일시'], temp['기온(C)'],linestyle='-', marker='o', label=\"기온\")\n",
    "    plt.plot(temp['일시'], temp['전력소비량(kWh)_plot'],linestyle='-', label=\"전력소비량\")\n",
    "    \n",
    "    plt.legend()\n",
    "    plt.title(temp.weekday.unique())\n",
    "    plt.show()"
   ]
  },
  {
   "cell_type": "code",
   "execution_count": null,
   "metadata": {
    "scrolled": true
   },
   "outputs": [],
   "source": [
    "for bno in range(37,44):    \n",
    "\n",
    "    plt.figure(figsize=(16,4))\n",
    "\n",
    "    temp = train[(train['건물번호'] == bno) & (train['month'] == 8)][-24:][['일시', '기온(C)', '강수량(mm)', '풍속(m/s)', '습도(%)', '전력소비량(kWh)_plot','weekday']].fillna(0) # 강수 0\n",
    "    plt.plot(temp['일시'], temp['풍속(m/s)'],linestyle='-', marker='o', label=\"풍속\")\n",
    "    plt.plot(temp['일시'], temp['강수량(mm)'],linestyle='-', marker='o', label=\"강수량\")\n",
    "    plt.plot(temp['일시'], temp['습도(%)'],linestyle='-', marker='o', label=\"습도\")\n",
    "    plt.plot(temp['일시'], temp['전력소비량(kWh)_plot'],linestyle='-', label=\"전력소비량\")\n",
    "    \n",
    "    plt.legend()\n",
    "    title = str(bno) +'_'+ str(temp['weekday'].unique()[0])\n",
    "    plt.title(title)\n",
    "    plt.show()\n",
    "\n",
    "    print()"
   ]
  },
  {
   "cell_type": "code",
   "execution_count": null,
   "metadata": {
    "scrolled": true
   },
   "outputs": [],
   "source": [
    "# for bno in building_no:\n",
    "for bno in range(93,100):    \n",
    "\n",
    "    plt.figure(figsize=(16,4))\n",
    "\n",
    "    temp = train[(train['건물번호'] == bno) & (train['month'] == 8)][-48:][['일시', '기온(C)', '강수량(mm)', '풍속(m/s)', '습도(%)', '전력소비량(kWh)_plot']].fillna(0) # 강수 0\n",
    "    plt.plot(temp['일시'], temp['풍속(m/s)'],linestyle='-', marker='o', label=\"풍속\")\n",
    "    plt.plot(temp['일시'], temp['강수량(mm)'],linestyle='-', marker='o', label=\"강수량\")\n",
    "    plt.plot(temp['일시'], temp['습도(%)'],linestyle='-', marker='o', label=\"습도\")\n",
    "    plt.plot(temp['일시'], temp['전력소비량(kWh)_plot'],linestyle='-', label=\"전력소비량\")\n",
    "    \n",
    "    plt.legend()\n",
    "    plt.title(bno)\n",
    "    plt.show()\n",
    "\n",
    "    temp = train[(train['건물번호'] == bno) & (train['month'] == 8)][-24:][['일시', '기온(C)', '강수량(mm)', '풍속(m/s)', '습도(%)', '전력소비량(kWh)_plot']].fillna(0) # 강수 0\n",
    "    temp_test = test[(test['건물번호'] == bno) & (test['month'] == 8)][:24][['일시', '기온(C)', '강수량(mm)', '풍속(m/s)', '습도(%)', '전력소비량(kWh)_plot']].fillna(0) # 강수 0\n",
    "    plt.figure(figsize=(16,4))\n",
    "\n",
    "    plt.plot(temp['일시'], temp['풍속(m/s)'],linestyle='-', marker='o', label=\"풍속\")\n",
    "    plt.plot(temp['일시'], temp['강수량(mm)'],linestyle='-', marker='o', label=\"강수량\")\n",
    "    plt.plot(temp['일시'], temp['습도(%)'],linestyle='-', marker='o', label=\"습도\")\n",
    "    plt.plot(temp['일시'], temp['전력소비량(kWh)_plot'],linestyle='-', label=\"전력소비량\")\n",
    "\n",
    "    plt.plot(temp_test['일시'], temp_test['풍속(m/s)'],linestyle='-', marker='o', label=\"test\")\n",
    "    plt.plot(temp_test['일시'], temp_test['강수량(mm)'],linestyle='-', marker='o', label=\"test\")\n",
    "    plt.plot(temp_test['일시'], temp_test['습도(%)'],linestyle='-', marker='o', label=\"test\")\n",
    "    plt.plot(temp_test['일시'], temp_test['전력소비량(kWh)_plot'],linestyle='-', label=\"test\")\n",
    "        \n",
    "    plt.legend()\n",
    "    plt.show()\n",
    "    print()\n",
    "    print()"
   ]
  },
  {
   "cell_type": "code",
   "execution_count": null,
   "metadata": {},
   "outputs": [],
   "source": [
    "train.sort_values(['전력소비량(kWh)'])[:2].T"
   ]
  },
  {
   "cell_type": "code",
   "execution_count": null,
   "metadata": {},
   "outputs": [],
   "source": [
    "train[train['전력소비량(kWh)'] == 0]"
   ]
  },
  {
   "cell_type": "code",
   "execution_count": null,
   "metadata": {},
   "outputs": [],
   "source": []
  },
  {
   "cell_type": "code",
   "execution_count": null,
   "metadata": {
    "scrolled": false
   },
   "outputs": [],
   "source": [
    "for i in range(20, 30):\n",
    "    temp = train[(train['건물번호'] == 93) & (train['month'] == 6)][24*i:24*(i+1)][['일시', '기온(C)', '강수량(mm)', '풍속(m/s)', '습도(%)', '전력소비량(kWh)_plot']].fillna(0) # 강수 0\n",
    "    plt.figure(figsize=(16,4))\n",
    "\n",
    "    plt.plot(temp['일시'], temp['강수량(mm)'],linestyle='-', marker='o', label=\"강수량\")\n",
    "    plt.plot(temp['일시'], temp['습도(%)'],linestyle='-', marker='o', label=\"습도\")\n",
    "    plt.plot(temp['일시'], temp['전력소비량(kWh)_plot'],linestyle='-', label=\"전력소비량\")\n",
    "    plt.legend()"
   ]
  },
  {
   "cell_type": "code",
   "execution_count": null,
   "metadata": {
    "scrolled": false
   },
   "outputs": [],
   "source": [
    "for i in building_no:\n",
    "    temp = train[train['건물번호'] == i][:24]\n",
    "        \n",
    "    plt.figure(figsize=(16,4))\n",
    "    plt.subplot(1,2,1)\n",
    "    plt.plot(temp['일시'], temp['전력소비량(kWh)_plot'],linestyle='-', marker='o', label=\"label\")\n",
    "    plt.plot(temp['일시'], temp['기온(C)'],linestyle='-', marker='o', label=\"temp\")\n",
    "    #plt.plot(temp['일시'], temp['기온_shift2'],linestyle='-', marker='o', label=\"shift\")\n",
    "    plt.title(temp[:1]['건물유형'].values[0])\n",
    "    # plt.plot(temp['일시'], temp['습도(%)'],linestyle='-', marker='o', label=\"moi\")\n",
    "    \n",
    "    plt.subplot(1,2,2)\n",
    "    temp = train[train['건물번호'] == i][2016:2040]\n",
    "    plt.plot(temp['일시'], temp['전력소비량(kWh)_plot'],linestyle='-', marker='o', label=\"label\")\n",
    "    plt.plot(temp['일시'], temp['기온(C)'],linestyle='-', marker='o', label=\"temp\")\n",
    "    \n",
    "    plt.legend()\n",
    "    plt.show()"
   ]
  },
  {
   "cell_type": "code",
   "execution_count": null,
   "metadata": {},
   "outputs": [],
   "source": [
    "train.groupby(['건물유형'])['전력소비량(kWh)_plot'].max()"
   ]
  },
  {
   "cell_type": "code",
   "execution_count": null,
   "metadata": {},
   "outputs": [],
   "source": [
    "temp = train[:48]\n",
    "\n",
    "\n",
    "temp['기온_shift2'] = temp['기온(C)'].shift(-2)\n",
    "\n",
    "plt.figure(figsize=(10,4))\n",
    "# plt.plot(temp['일시'], temp['전력소비량(kWh)_plot'],linestyle='-', marker='o', label=\"label\")\n",
    "plt.plot(temp['일시'], temp['기온(C)'],linestyle='-', marker='o', label=\"temp\")\n",
    "plt.plot(temp['일시'], temp['기온_shift2'],linestyle='-', marker='o', label=\"shift\")\n",
    "# plt.plot(temp['일시'], temp['습도(%)'],linestyle='-', marker='o', label=\"moi\")\n",
    "plt.legend()"
   ]
  },
  {
   "cell_type": "code",
   "execution_count": null,
   "metadata": {},
   "outputs": [],
   "source": [
    "temp = train[train['건물번호'] == 1]#[:24]\n",
    "temp['yyyymmdd'] = temp['일시'].dt.strftime('%Y%m%d')\n",
    "rain_day = pd.DataFrame(temp[temp['강수량(mm)'] > 0.1].yyyymmdd.unique(), columns=['yyyymmdd'])\n",
    "rain_day['rain'] = 1\n",
    "\n",
    "train['yyyymmdd'] = train['일시'].dt.strftime('%Y%m%d')\n",
    "train = train.merge(rain_day, on='yyyymmdd', how='left').fillna(0)\n",
    "train.drop('yyyymmdd', axis=1, inplace=True)"
   ]
  },
  {
   "cell_type": "code",
   "execution_count": null,
   "metadata": {},
   "outputs": [],
   "source": [
    "col = '전력소비량(kWh)_plot'\n",
    "temp = train[train['건물번호'] == 1]#[:24]\n",
    "temp['yyyymmdd'] = temp['일시'].dt.strftime('%Y%m%d')\n",
    "temp = temp.groupby('yyyymmdd').agg({col:['min','max']}).reset_index()\n",
    "temp.columns = ['yyyymmdd', 'min', 'max']\n",
    "\n",
    "plt.figure(figsize=(20,4))\n",
    "plt.plot(temp['yyyymmdd'], temp['min'],linestyle='-', marker='o', label=\"min\")\n",
    "plt.plot(temp['yyyymmdd'], temp['max'],linestyle='-', marker='o', label=\"max\")\n",
    "plt.xticks(rotation=60)\n",
    "plt.show()"
   ]
  },
  {
   "cell_type": "code",
   "execution_count": null,
   "metadata": {},
   "outputs": [],
   "source": [
    "# ['20220606', '20220609', '20220610', '20220613', '20220615','20220616', '20220623', '20220624', '20220627', '20220628','20220629'\n",
    "#, '20220630', '20220706', '20220708', '20220711','20220713', '20220714', '20220716', '20220720', '20220721','20220722', '20220723', '20220724', '20220730', '20220731',\n",
    "# '20220801', '20220802', '20220803', '20220806', '20220807','20220808', '20220809', '20220810', '20220811', '20220813',\n",
    "# '20220814', '20220815', '20220819', '20220820', '20220822','20220823']\n",
    "temp[:10*2]"
   ]
  },
  {
   "cell_type": "code",
   "execution_count": null,
   "metadata": {},
   "outputs": [],
   "source": [
    "temp = train[24:24*2]\n",
    "\n",
    "plt.figure(figsize=(10,4))\n",
    "plt.plot(temp['일시'], temp['전력소비량(kWh)_plot'],linestyle='-', marker='o', label=\"label\")\n",
    "plt.plot(temp['일시'], temp['기온(C)'],linestyle='-', marker='o', label=\"temp\")\n",
    "plt.plot(temp['일시'], temp['습도(%)'],linestyle='-', marker='o', label=\"moi\")\n",
    "plt.legend()"
   ]
  },
  {
   "cell_type": "code",
   "execution_count": null,
   "metadata": {},
   "outputs": [],
   "source": [
    "train[train['건물번호'] == 2][:24*2].to_excel('test_2.xlsx')"
   ]
  },
  {
   "cell_type": "code",
   "execution_count": null,
   "metadata": {
    "scrolled": true
   },
   "outputs": [],
   "source": [
    "train['shift24'] = train['전력소비량(kWh)_plot'].shift(24)\n",
    "\n",
    "train['shift24'] = train['전력소비량(kWh)_plot'].shift(24)\n",
    "train[24:24*2]"
   ]
  },
  {
   "cell_type": "code",
   "execution_count": null,
   "metadata": {},
   "outputs": [],
   "source": [
    "i=0\n",
    "train[train['건물번호'] == 2][24*i:24*(i+1)]"
   ]
  },
  {
   "cell_type": "markdown",
   "metadata": {
    "id": "M2267KIZCtEp"
   },
   "source": [
    "## Train Data Pre-Processing"
   ]
  },
  {
   "cell_type": "code",
   "execution_count": null,
   "metadata": {
    "id": "HNlz9wr11flI"
   },
   "outputs": [],
   "source": [
    "# 빌딩 데이터 정리\n",
    "## null 처리\n",
    "building_info['태양광용량(kW)'] = building_info['태양광용량(kW)'].str.replace('-','0').astype(float)\n",
    "building_info['ESS저장용량(kWh)'] = building_info['ESS저장용량(kWh)'].str.replace('-','0').astype(float)\n",
    "building_info['PCS용량(kW)'] = building_info['PCS용량(kW)'].str.replace('-','0').astype(float)"
   ]
  },
  {
   "cell_type": "code",
   "execution_count": null,
   "metadata": {
    "id": "xNVWOCnrIaZN"
   },
   "outputs": [],
   "source": []
  },
  {
   "cell_type": "code",
   "execution_count": null,
   "metadata": {
    "id": "Mw7dQ6i_l4Ql"
   },
   "outputs": [],
   "source": []
  },
  {
   "cell_type": "code",
   "execution_count": null,
   "metadata": {},
   "outputs": [],
   "source": []
  },
  {
   "cell_type": "code",
   "execution_count": null,
   "metadata": {
    "id": "EBcH5AIjCwaY"
   },
   "outputs": [],
   "source": [
    "#시계열 특성을 학습에 반영하기 위해 일시를 월, 일, 시간으로 나눕니다\n",
    "train['month'] = train['일시'].apply(lambda x : int(x[4:6]))\n",
    "train['day'] = train['일시'].apply(lambda x : int(x[6:8]))\n",
    "train['time'] = train['일시'].apply(lambda x : int(x[9:11]))\n",
    "\n",
    "test['month'] = test['일시'].apply(lambda x : int(x[4:6]))\n",
    "test['day'] = test['일시'].apply(lambda x : int(x[6:8]))\n",
    "test['time'] = test['일시'].apply(lambda x : int(x[9:11]))"
   ]
  },
  {
   "cell_type": "code",
   "execution_count": null,
   "metadata": {
    "id": "qKO917WK7rcK"
   },
   "outputs": [],
   "source": []
  },
  {
   "cell_type": "code",
   "execution_count": null,
   "metadata": {},
   "outputs": [],
   "source": []
  },
  {
   "cell_type": "markdown",
   "metadata": {},
   "source": [
    "##### 2023-07-18-1\n",
    "target_encoding = train.groupby(['건물번호','weekday','time']).agg({'전력소비량(kWh)':['min', 'mean','max']})\n",
    "train = train.merge(target_encoding, on=['건물번호','weekday','time'], how='left')\n",
    "test = test.merge(target_encoding, on=['건물번호','weekday','time'], how='left')"
   ]
  },
  {
   "cell_type": "code",
   "execution_count": null,
   "metadata": {},
   "outputs": [],
   "source": []
  },
  {
   "cell_type": "code",
   "execution_count": null,
   "metadata": {
    "id": "QyDDSZuM5Kzh"
   },
   "outputs": [],
   "source": [
    "#결측값을 0으로 채웁니다\n",
    "train = train.fillna(0)\n",
    "test = test.fillna(0)"
   ]
  },
  {
   "cell_type": "code",
   "execution_count": null,
   "metadata": {
    "id": "PAGMNcZvDSGc"
   },
   "outputs": [],
   "source": []
  },
  {
   "cell_type": "code",
   "execution_count": null,
   "metadata": {
    "id": "WyEVzIOBDZ49"
   },
   "outputs": [],
   "source": [
    "# 상관관계\n",
    "#corr = train.corr()\n",
    "#corr.to_excel('corr.xlsx')"
   ]
  },
  {
   "cell_type": "code",
   "execution_count": null,
   "metadata": {
    "id": "GRy9wWCJjf4y"
   },
   "outputs": [],
   "source": [
    "train_x = train.drop(columns=['num_date_time', '일시', '일조(hr)', '일사(MJ/m2)', '전력소비량(kWh)'])\n",
    "train_y = train['전력소비량(kWh)']\n",
    "\n",
    "test_x = test.drop(columns=['num_date_time', '일시'])"
   ]
  },
  {
   "cell_type": "code",
   "execution_count": null,
   "metadata": {},
   "outputs": [],
   "source": []
  },
  {
   "cell_type": "code",
   "execution_count": null,
   "metadata": {},
   "outputs": [],
   "source": [
    "# ont-hot\n",
    "train_x = pd.get_dummies(train_x, columns=['건물유형','weekday'], drop_first=True)\n",
    "test_x = pd.get_dummies(test_x, columns=['건물유형','weekday'], drop_first=True)"
   ]
  },
  {
   "cell_type": "code",
   "execution_count": null,
   "metadata": {
    "colab": {
     "base_uri": "https://localhost:8080/"
    },
    "executionInfo": {
     "elapsed": 399,
     "status": "ok",
     "timestamp": 1689585358308,
     "user": {
      "displayName": "김상화",
      "userId": "01180527613373969793"
     },
     "user_tz": -540
    },
    "id": "1MsnmAAA3VfI",
    "outputId": "f17e1fb6-3ca1-4e45-a0ea-32fa6a97a4e1"
   },
   "outputs": [],
   "source": [
    "from sklearn.model_selection import train_test_split, KFold, cross_val_score\n",
    "X_train, X_test, y_train, y_test = train_test_split(train_x , train_y ,test_size=0.2, shuffle=True, random_state=42)\n",
    "print(X_train.shape, X_test.shape, y_train.shape, y_test.shape)"
   ]
  },
  {
   "cell_type": "markdown",
   "metadata": {
    "id": "S93RH2uojmmh"
   },
   "source": [
    "## Regression Model Fit"
   ]
  },
  {
   "cell_type": "code",
   "execution_count": null,
   "metadata": {
    "colab": {
     "base_uri": "https://localhost:8080/",
     "height": 75
    },
    "executionInfo": {
     "elapsed": 149849,
     "status": "ok",
     "timestamp": 1689585508155,
     "user": {
      "displayName": "김상화",
      "userId": "01180527613373969793"
     },
     "user_tz": -540
    },
    "id": "uNV2nqlKjlUT",
    "outputId": "9a0139a4-206c-464e-8272-e92e17adda39"
   },
   "outputs": [],
   "source": [
    "%%time\n",
    "model = RandomForestRegressor(random_state=42)\n",
    "model.fit(X_train, y_train)"
   ]
  },
  {
   "cell_type": "code",
   "execution_count": null,
   "metadata": {
    "id": "fg8tOIVu4LQY"
   },
   "outputs": [],
   "source": [
    "y_preds = model.predict(X_test)"
   ]
  },
  {
   "cell_type": "code",
   "execution_count": null,
   "metadata": {},
   "outputs": [],
   "source": []
  },
  {
   "cell_type": "code",
   "execution_count": null,
   "metadata": {
    "colab": {
     "base_uri": "https://localhost:8080/"
    },
    "executionInfo": {
     "elapsed": 8,
     "status": "ok",
     "timestamp": 1689585511047,
     "user": {
      "displayName": "김상화",
      "userId": "01180527613373969793"
     },
     "user_tz": -540
    },
    "id": "1QB1s9CA34pu",
    "outputId": "1b4957a6-1d72-47f7-e9e5-0822d9702ded"
   },
   "outputs": [],
   "source": [
    "from sklearn.metrics import mean_absolute_percentage_error\n",
    "mean_absolute_percentage_error(y_test, y_preds)"
   ]
  },
  {
   "cell_type": "code",
   "execution_count": null,
   "metadata": {
    "id": "s_HtWYSX3wXH"
   },
   "outputs": [],
   "source": []
  },
  {
   "cell_type": "markdown",
   "metadata": {
    "id": "X7-NGb-0j4K_"
   },
   "source": [
    "## Inference"
   ]
  },
  {
   "cell_type": "code",
   "execution_count": null,
   "metadata": {
    "colab": {
     "base_uri": "https://localhost:8080/",
     "height": 75
    },
    "executionInfo": {
     "elapsed": 163846,
     "status": "ok",
     "timestamp": 1689585674891,
     "user": {
      "displayName": "김상화",
      "userId": "01180527613373969793"
     },
     "user_tz": -540
    },
    "id": "iMy6j9mZ4PHm",
    "outputId": "6940656d-5385-41b6-a408-66b972e53d79"
   },
   "outputs": [],
   "source": [
    "model = RandomForestRegressor(random_state=42)\n",
    "model.fit(train_x, train_y)"
   ]
  },
  {
   "cell_type": "code",
   "execution_count": null,
   "metadata": {
    "id": "FcERV2T2jk93"
   },
   "outputs": [],
   "source": [
    "preds = model.predict(test_x)"
   ]
  },
  {
   "cell_type": "markdown",
   "metadata": {
    "id": "7FM61Qu0C1_I"
   },
   "source": [
    "## Submit"
   ]
  },
  {
   "cell_type": "code",
   "execution_count": null,
   "metadata": {
    "colab": {
     "base_uri": "https://localhost:8080/",
     "height": 424
    },
    "executionInfo": {
     "elapsed": 10,
     "status": "ok",
     "timestamp": 1689585675461,
     "user": {
      "displayName": "김상화",
      "userId": "01180527613373969793"
     },
     "user_tz": -540
    },
    "id": "DeVYVbN4CzEX",
    "outputId": "b00b3e3a-4a8f-4fac-d912-25c9ff9e6eb7"
   },
   "outputs": [],
   "source": [
    "submission['answer'] = preds\n",
    "submission"
   ]
  },
  {
   "cell_type": "code",
   "execution_count": null,
   "metadata": {
    "id": "1NbwydwIC0nv"
   },
   "outputs": [],
   "source": [
    "submission.to_csv('20230718-1.csv', index=False)"
   ]
  },
  {
   "cell_type": "code",
   "execution_count": null,
   "metadata": {
    "id": "JFEJfT9T5cLh"
   },
   "outputs": [],
   "source": []
  }
 ],
 "metadata": {
  "colab": {
   "provenance": []
  },
  "kernelspec": {
   "display_name": "Python 3",
   "language": "python",
   "name": "python3"
  },
  "language_info": {
   "codemirror_mode": {
    "name": "ipython",
    "version": 3
   },
   "file_extension": ".py",
   "mimetype": "text/x-python",
   "name": "python",
   "nbconvert_exporter": "python",
   "pygments_lexer": "ipython3",
   "version": "3.7.6"
  }
 },
 "nbformat": 4,
 "nbformat_minor": 1
}
