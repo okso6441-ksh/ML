{
 "cells": [
  {
   "cell_type": "code",
   "execution_count": 1,
   "metadata": {},
   "outputs": [],
   "source": [
    "import pandas as pd\n",
    "import numpy as np"
   ]
  },
  {
   "cell_type": "code",
   "execution_count": 2,
   "metadata": {},
   "outputs": [],
   "source": [
    "# test\n",
    "r = '20230827-1_r' # RandomForestRegressor\n",
    "x = '20230827-2_x' # XGBRegressor\n",
    "a = '20230820-1' # XGBRegressor"
   ]
  },
  {
   "cell_type": "code",
   "execution_count": null,
   "metadata": {},
   "outputs": [],
   "source": [
    "r_train = pd.read_excel(f'오차큰것부터_{r}.xlsx')\n",
    "x_train = pd.read_excel(f'오차큰것부터_{x}.xlsx')\n",
    "r_train.shape, x_train.shape"
   ]
  },
  {
   "cell_type": "code",
   "execution_count": null,
   "metadata": {},
   "outputs": [],
   "source": [
    "r_train = r_train[['건물번호', 'score']].rename(columns={'score':'rscore'})\n",
    "x_train = x_train[['건물번호', 'score']].rename(columns={'score':'xscore'})"
   ]
  },
  {
   "cell_type": "code",
   "execution_count": null,
   "metadata": {},
   "outputs": [],
   "source": [
    "train = r_train.merge(x_train, on='건물번호')\n",
    "train.shape"
   ]
  },
  {
   "cell_type": "code",
   "execution_count": null,
   "metadata": {},
   "outputs": [],
   "source": [
    "rlose = train[train.rscore > train.xscore]['건물번호'].values\n",
    "len(rlose) # 오차는 작아야 함 - x로 대체되야 할 r 리스트 "
   ]
  },
  {
   "cell_type": "code",
   "execution_count": null,
   "metadata": {},
   "outputs": [],
   "source": []
  },
  {
   "cell_type": "code",
   "execution_count": 3,
   "metadata": {},
   "outputs": [
    {
     "data": {
      "text/plain": [
       "((16800, 2), (16800, 2), (16800, 2))"
      ]
     },
     "execution_count": 3,
     "metadata": {},
     "output_type": "execute_result"
    }
   ],
   "source": []
  },
  {
   "cell_type": "code",
   "execution_count": 3,
   "metadata": {},
   "outputs": [
    {
     "data": {
      "text/plain": [
       "((16800, 2), (16800, 2), (16800, 2))"
      ]
     },
     "execution_count": 3,
     "metadata": {},
     "output_type": "execute_result"
    }
   ],
   "source": [
    "r_test = pd.read_csv(f'output/{r}.csv')\n",
    "x_test = pd.read_csv(f'output/{x}.csv').rename(columns={'answer':'xanswer'})\n",
    "a_test = pd.read_csv(f'output/{a}.csv').rename(columns={'answer':'aanswer'})\n",
    "r_test.shape, x_test.shape, a_test.shape"
   ]
  },
  {
   "cell_type": "code",
   "execution_count": 32,
   "metadata": {},
   "outputs": [],
   "source": []
  },
  {
   "cell_type": "code",
   "execution_count": 4,
   "metadata": {},
   "outputs": [],
   "source": [
    "test = r_test.copy()\n",
    "test['answer'] = (r_test.answer*0.6 + x_test.xanswer*0.4)# a_test.aanswer*0.1)\n",
    "test.answer = np.round(test.answer,2)\n",
    "test.to_csv('20230828-1.csv', index=False)"
   ]
  },
  {
   "cell_type": "code",
   "execution_count": 6,
   "metadata": {},
   "outputs": [],
   "source": [
    "test = r_test.copy()\n",
    "test['answer'] = (r_test.answer*0.5 + x_test.xanswer*0.4 + a_test.aanswer*0.1)\n",
    "test.answer = np.round(test.answer,2)\n",
    "test.to_csv('20230828-2.csv', index=False)"
   ]
  },
  {
   "cell_type": "code",
   "execution_count": 10,
   "metadata": {},
   "outputs": [],
   "source": [
    "test = r_test.copy()\n",
    "test['answer'] = (r_test.answer*0.45 + x_test.xanswer*0.45 + a_test.aanswer*0.1)\n",
    "test.answer = np.round(test.answer,2)\n",
    "test.to_csv('20230828-3.csv', index=False)"
   ]
  },
  {
   "cell_type": "code",
   "execution_count": 5,
   "metadata": {},
   "outputs": [],
   "source": [
    "test = r_test.copy()\n",
    "test['answer'] = (r_test.answer*0.6 + x_test.xanswer*0.3 + a_test.aanswer*0.1)\n",
    "test.answer = np.round(test.answer,2)\n",
    "test.to_csv('20230827-2.csv', index=False)"
   ]
  },
  {
   "cell_type": "code",
   "execution_count": 7,
   "metadata": {},
   "outputs": [],
   "source": [
    "test = r_test.copy()\n",
    "test['answer'] = (r_test.answer*0.6 + x_test.xanswer*0.3 + a_test.aanswer*0.1)\n",
    "test.answer = np.round(test.answer,2)\n",
    "test.to_csv('20230826-3.csv', index=False)"
   ]
  },
  {
   "cell_type": "code",
   "execution_count": null,
   "metadata": {},
   "outputs": [],
   "source": []
  },
  {
   "cell_type": "code",
   "execution_count": null,
   "metadata": {},
   "outputs": [],
   "source": [
    "test = r_test.copy()\n",
    "test['answer'] = (r_test.answer*0.5 + x_test.xanswer*0.5)\n",
    "test.answer = np.round(test.answer,2)\n",
    "test.to_csv('20230823-3.csv', index=False)"
   ]
  },
  {
   "cell_type": "code",
   "execution_count": null,
   "metadata": {},
   "outputs": [],
   "source": []
  },
  {
   "cell_type": "code",
   "execution_count": null,
   "metadata": {},
   "outputs": [],
   "source": [
    "test = r_test.copy()\n",
    "test['건물번호'] = test.num_date_time.str.split('_').str[0].astype(int)\n",
    "test = test.merge(x_test, on=['num_date_time'])\n",
    "test.shape"
   ]
  },
  {
   "cell_type": "code",
   "execution_count": null,
   "metadata": {},
   "outputs": [],
   "source": [
    "test.loc[test['건물번호'].isin(rlose), 'answer'] = test['xanswer']"
   ]
  },
  {
   "cell_type": "code",
   "execution_count": null,
   "metadata": {},
   "outputs": [],
   "source": [
    "a_train = pd.read_csv(f'output/{a}.csv')"
   ]
  },
  {
   "cell_type": "code",
   "execution_count": null,
   "metadata": {},
   "outputs": [],
   "source": [
    "test['answer'] = (a_train.answer + test.answer) /2"
   ]
  },
  {
   "cell_type": "code",
   "execution_count": null,
   "metadata": {},
   "outputs": [],
   "source": [
    "test[['num_date_time','answer']].to_csv('20230820-3.csv', index=False)"
   ]
  },
  {
   "cell_type": "code",
   "execution_count": null,
   "metadata": {},
   "outputs": [],
   "source": []
  },
  {
   "cell_type": "code",
   "execution_count": null,
   "metadata": {},
   "outputs": [],
   "source": []
  },
  {
   "cell_type": "code",
   "execution_count": null,
   "metadata": {},
   "outputs": [],
   "source": [
    "# https://dacon.io/forum/401657    \n",
    "def smape(true, pred):\n",
    "    v = 2 * abs(pred - true) / (abs(pred) + abs(true))\n",
    "    output = np.mean(v) * 100\n",
    "    return output    "
   ]
  },
  {
   "cell_type": "code",
   "execution_count": null,
   "metadata": {},
   "outputs": [],
   "source": [
    "r = pd.read_excel('test_r.xlsx')\n",
    "x = pd.read_excel('test_x.xlsx')"
   ]
  },
  {
   "cell_type": "code",
   "execution_count": null,
   "metadata": {},
   "outputs": [],
   "source": [
    "r = r.rename(columns={'pred':'r_pred'})\n",
    "x = x.rename(columns={'pred':'x_pred'})"
   ]
  },
  {
   "cell_type": "code",
   "execution_count": null,
   "metadata": {},
   "outputs": [],
   "source": [
    "r = r[['month', 'day', 'time', '건물번호', 'label', '건물유형', 'r_pred']]\n",
    "x = x[['month', 'day', 'time', '건물번호', 'label', '건물유형', 'x_pred']]"
   ]
  },
  {
   "cell_type": "code",
   "execution_count": null,
   "metadata": {},
   "outputs": [],
   "source": [
    "temp = r.merge(x, on=['month', 'day', 'time', '건물번호', '건물유형', 'label'])\n",
    "temp[:1]"
   ]
  },
  {
   "cell_type": "code",
   "execution_count": null,
   "metadata": {},
   "outputs": [],
   "source": [
    "for i in range(1, 10):\n",
    "    temp['pred'] = temp.r_pred*i*0.1 + temp.x_pred*(1-i*0.1)\n",
    "    print(i, smape(temp.label, round(temp.pred,2)))"
   ]
  },
  {
   "cell_type": "code",
   "execution_count": null,
   "metadata": {},
   "outputs": [],
   "source": [
    "7 5.049592108444134\n",
    "7 5.049576855117375\n",
    "7 5.049590118481591"
   ]
  },
  {
   "cell_type": "code",
   "execution_count": null,
   "metadata": {},
   "outputs": [],
   "source": []
  },
  {
   "cell_type": "code",
   "execution_count": null,
   "metadata": {},
   "outputs": [],
   "source": []
  },
  {
   "cell_type": "code",
   "execution_count": null,
   "metadata": {},
   "outputs": [],
   "source": []
  }
 ],
 "metadata": {
  "kernelspec": {
   "display_name": "Python 3",
   "language": "python",
   "name": "python3"
  },
  "language_info": {
   "codemirror_mode": {
    "name": "ipython",
    "version": 3
   },
   "file_extension": ".py",
   "mimetype": "text/x-python",
   "name": "python",
   "nbconvert_exporter": "python",
   "pygments_lexer": "ipython3",
   "version": "3.7.6"
  }
 },
 "nbformat": 4,
 "nbformat_minor": 4
}
