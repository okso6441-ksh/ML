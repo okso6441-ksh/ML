{
 "cells": [
  {
   "cell_type": "code",
   "execution_count": 1,
   "metadata": {
    "executionInfo": {
     "elapsed": 416,
     "status": "ok",
     "timestamp": 1689582023934,
     "user": {
      "displayName": "김상화",
      "userId": "01180527613373969793"
     },
     "user_tz": -540
    },
    "id": "F43IerJKCByJ"
   },
   "outputs": [],
   "source": [
    "import pandas as pd\n",
    "import numpy as np\n",
    "import random\n",
    "import os\n",
    "\n",
    "from tqdm import tqdm\n",
    "import matplotlib.pyplot as plt\n",
    "import seaborn as sns\n",
    "from sklearn.model_selection import train_test_split, KFold, cross_val_score\n",
    "from sklearn.ensemble import RandomForestRegressor\n",
    "from sklearn.metrics import mean_absolute_percentage_error\n",
    "import warnings\n",
    "warnings.filterwarnings(\"ignore\")"
   ]
  },
  {
   "cell_type": "code",
   "execution_count": 2,
   "metadata": {
    "executionInfo": {
     "elapsed": 6,
     "status": "ok",
     "timestamp": 1689582024554,
     "user": {
      "displayName": "김상화",
      "userId": "01180527613373969793"
     },
     "user_tz": -540
    },
    "id": "2K_rh2YZCByK"
   },
   "outputs": [],
   "source": [
    "def seed_everything(seed):\n",
    "    random.seed(seed)\n",
    "    os.environ['PYTHONHASHSEED'] = str(seed)\n",
    "    np.random.seed(seed)\n",
    "\n",
    "seed_everything(42) # Seed 고정\n",
    "\n",
    "# 한글 폰트 사용을 위해서 세팅\n",
    "from matplotlib import font_manager, rc\n",
    "font_path = \"C:/Windows/Fonts/H2GTRM.TTF\"\n",
    "font = font_manager.FontProperties(fname=font_path).get_name()\n",
    "rc('font', family=font)\n",
    "\n",
    "# feature importance \n",
    "def vis_feature_importances_(est, X_train):\n",
    "    ftr_importances_values = est.feature_importances_\n",
    "    ftr_importances = pd.Series(ftr_importances_values,index=X_train.columns  )\n",
    "    ftr_top20 = ftr_importances.sort_values(ascending=False)[:20]\n",
    "    plt.figure(figsize=(10,4))\n",
    "    plt.title('Feature importances Top 20')\n",
    "    sns.barplot(x=ftr_top20 , y = ftr_top20.index)\n",
    "    plt.show()\n",
    "    \n",
    "# https://dacon.io/forum/401657    \n",
    "def smape(true, pred):\n",
    "    v = 2 * abs(pred - true) / (abs(pred) + abs(true))\n",
    "    output = np.mean(v) * 100\n",
    "    return output    "
   ]
  },
  {
   "cell_type": "markdown",
   "metadata": {
    "id": "BLFOr7OJCByM"
   },
   "source": [
    "## Data Load"
   ]
  },
  {
   "cell_type": "code",
   "execution_count": null,
   "metadata": {
    "colab": {
     "base_uri": "https://localhost:8080/"
    },
    "executionInfo": {
     "elapsed": 1988,
     "status": "ok",
     "timestamp": 1689582026537,
     "user": {
      "displayName": "김상화",
      "userId": "01180527613373969793"
     },
     "user_tz": -540
    },
    "id": "pPmX0C54CY3F",
    "outputId": "91166b9f-a330-42d1-ee8c-9caf0e2fd602"
   },
   "outputs": [],
   "source": []
  },
  {
   "cell_type": "code",
   "execution_count": 3,
   "metadata": {
    "colab": {
     "base_uri": "https://localhost:8080/"
    },
    "executionInfo": {
     "elapsed": 433,
     "status": "ok",
     "timestamp": 1689582026968,
     "user": {
      "displayName": "김상화",
      "userId": "01180527613373969793"
     },
     "user_tz": -540
    },
    "id": "KG-maqEKCqFm",
    "outputId": "00c3ccfa-0092-48d2-ecfd-874566e22d0f"
   },
   "outputs": [
    {
     "data": {
      "text/plain": [
       "((204000, 10), (16800, 7), (100, 7), (16800, 2))"
      ]
     },
     "execution_count": 3,
     "metadata": {},
     "output_type": "execute_result"
    }
   ],
   "source": [
    "# from google.colab import drive\n",
    "# drive.mount('/content/drive')\n",
    "\n",
    "# train = pd.read_csv('/content/drive/MyDrive/work/input/train.csv')\n",
    "# test = pd.read_csv('/content/drive/MyDrive/work/input/test.csv')\n",
    "# building_info = pd.read_csv('/content/drive/MyDrive/work/input/building_info.csv')\n",
    "# submission = pd.read_csv('/content/drive/MyDrive/work/input/sample_submission.csv')\n",
    "# train.shape, test.shape, building_info.shape, submission.shape\n",
    "\n",
    "train = pd.read_csv('input/train.csv')\n",
    "test = pd.read_csv('input/test.csv')\n",
    "building_info = pd.read_csv('input/building_info.csv')\n",
    "submission = pd.read_csv('input/sample_submission.csv')\n",
    "train.shape, test.shape, building_info.shape, submission.shape"
   ]
  },
  {
   "cell_type": "markdown",
   "metadata": {
    "id": "M2267KIZCtEp"
   },
   "source": [
    "## Train Data Pre-Processing"
   ]
  },
  {
   "cell_type": "code",
   "execution_count": null,
   "metadata": {},
   "outputs": [],
   "source": []
  },
  {
   "cell_type": "code",
   "execution_count": 4,
   "metadata": {
    "executionInfo": {
     "elapsed": 3,
     "status": "ok",
     "timestamp": 1689582026969,
     "user": {
      "displayName": "김상화",
      "userId": "01180527613373969793"
     },
     "user_tz": -540
    },
    "id": "HNlz9wr11flI"
   },
   "outputs": [],
   "source": [
    "# 빌딩 데이터 정리\n",
    "## null 처리\n",
    "building_info['태양광용량(kW)'] = building_info['태양광용량(kW)'].str.replace('-','0').astype(float)\n",
    "building_info['ESS저장용량(kWh)'] = building_info['ESS저장용량(kWh)'].str.replace('-','0').astype(float)\n",
    "building_info['PCS용량(kW)'] = building_info['PCS용량(kW)'].str.replace('-','0').astype(float)"
   ]
  },
  {
   "cell_type": "code",
   "execution_count": 5,
   "metadata": {
    "executionInfo": {
     "elapsed": 3,
     "status": "ok",
     "timestamp": 1689582026969,
     "user": {
      "displayName": "김상화",
      "userId": "01180527613373969793"
     },
     "user_tz": -540
    },
    "id": "Mw7dQ6i_l4Ql"
   },
   "outputs": [],
   "source": [
    "# 정리된 빌딩과 merge\n",
    "train = train.merge(building_info, on='건물번호')\n",
    "test = test.merge(building_info, on='건물번호')"
   ]
  },
  {
   "cell_type": "code",
   "execution_count": 6,
   "metadata": {
    "executionInfo": {
     "elapsed": 586,
     "status": "ok",
     "timestamp": 1689582027552,
     "user": {
      "displayName": "김상화",
      "userId": "01180527613373969793"
     },
     "user_tz": -540
    },
    "id": "EBcH5AIjCwaY"
   },
   "outputs": [],
   "source": [
    "#시계열 특성을 학습에 반영하기 위해 일시를 월, 일, 시간으로 나눕니다\n",
    "train['month'] = train['일시'].apply(lambda x : int(x[4:6]))\n",
    "train['day'] = train['일시'].apply(lambda x : int(x[6:8]))\n",
    "train['time'] = train['일시'].apply(lambda x : int(x[9:11]))\n",
    "\n",
    "test['month'] = test['일시'].apply(lambda x : int(x[4:6]))\n",
    "test['day'] = test['일시'].apply(lambda x : int(x[6:8]))\n",
    "test['time'] = test['일시'].apply(lambda x : int(x[9:11]))"
   ]
  },
  {
   "cell_type": "code",
   "execution_count": 7,
   "metadata": {
    "executionInfo": {
     "elapsed": 3,
     "status": "ok",
     "timestamp": 1689582027552,
     "user": {
      "displayName": "김상화",
      "userId": "01180527613373969793"
     },
     "user_tz": -540
    },
    "id": "qKO917WK7rcK"
   },
   "outputs": [],
   "source": [
    "# 요일\n",
    "train['weekday'] =  pd.to_datetime(train['일시'].str[:8]).dt.weekday\n",
    "test['weekday'] =  pd.to_datetime(test['일시'].str[:8]).dt.weekday"
   ]
  },
  {
   "cell_type": "code",
   "execution_count": 8,
   "metadata": {},
   "outputs": [],
   "source": [
    "# outlier 제거 \n",
    "train = train[train['전력소비량(kWh)'] > 1]"
   ]
  },
  {
   "cell_type": "code",
   "execution_count": 9,
   "metadata": {},
   "outputs": [],
   "source": [
    "train = train.drop(train[train['num_date_time'].isin(['56_20220608 16'\n",
    "                                                  ,'34_20220808 21'\n",
    "                                                  ,'10_20220607 06','10_20220607 06'\n",
    "                                                  ,'31_20220808 13','31_20220809 13', '31_20220808 14','31_20220808 13'\n",
    "                                                  , '8_20220806 05', '8_20220707 08', '8_20220628 09'\n",
    "                                                  ,'13_20220606 16','13_20220724 06','13_20220606 17','13_20220607 07'\n",
    "                                                  ,'58_20220804 16'\n",
    "                                                  ,'65_20220807 18'\n",
    "                                                  ,'68_20220706 20','68_20220706 19'\n",
    "                                                  ,'71_20220604 10','71_20220810 15','71_20220810 16'\n",
    "                                                  , '73_20220707 12', '73_20220707 14', '73_20220707 11','73_20220707 13', '73_20220707 15', '73_20220808 13','73_20220803 14', '73_20220808 12', '73_20220803 15','73_20220808 11'\n",
    "                                                 ])].index)"
   ]
  },
  {
   "cell_type": "code",
   "execution_count": null,
   "metadata": {},
   "outputs": [],
   "source": []
  },
  {
   "cell_type": "code",
   "execution_count": null,
   "metadata": {},
   "outputs": [],
   "source": []
  },
  {
   "cell_type": "code",
   "execution_count": null,
   "metadata": {},
   "outputs": [],
   "source": []
  },
  {
   "cell_type": "code",
   "execution_count": 10,
   "metadata": {},
   "outputs": [],
   "source": [
    "target_encoding = train.groupby(['건물유형']).agg({'전력소비량(kWh)':['min', 'mean','max']}).reset_index()\n",
    "target_encoding.columns = ['건물유형', 'khw_min', 'khw_mean', 'khw_max']\n",
    "train = train.merge(target_encoding, on=['건물유형'], how='left')\n",
    "test = test.merge(target_encoding, on=['건물유형'], how='left')"
   ]
  },
  {
   "cell_type": "code",
   "execution_count": null,
   "metadata": {},
   "outputs": [],
   "source": []
  },
  {
   "cell_type": "code",
   "execution_count": 11,
   "metadata": {},
   "outputs": [],
   "source": [
    "train.drop( train[(train['건물번호'].isin([1,16])) & (train['month'] == 6)].index, inplace=True)"
   ]
  },
  {
   "cell_type": "code",
   "execution_count": null,
   "metadata": {},
   "outputs": [],
   "source": []
  },
  {
   "cell_type": "code",
   "execution_count": 12,
   "metadata": {},
   "outputs": [],
   "source": [
    "no_work_day = train.groupby(['건물번호', '건물유형','month', 'day']).agg({'전력소비량(kWh)':['mean','max']}).reset_index()\n",
    "no_work_day.columns = ['건물번호', '건물유형','month', 'day', 'khw_mean', 'khw_max']\n",
    "total_mean = no_work_day[no_work_day['건물유형'].isin(['백화점및아울렛','할인마트'])].groupby(['건물번호']).khw_mean.mean().reset_index().rename(columns={'khw_mean':'b_mean'})\n",
    "\n",
    "no_work_day = no_work_day.merge(total_mean, on='건물번호')\n",
    "no_work_day.loc[no_work_day.b_mean > no_work_day.khw_max, '백화점휴무일'] = 1\n",
    "\n",
    "train = train.merge(no_work_day[['건물번호', '건물유형','month', 'day', '백화점휴무일']], on=['건물번호', '건물유형','month', 'day'], how='left')\n",
    "train['백화점휴무일'] = train['백화점휴무일'].fillna(0).astype(int)\n",
    "test['백화점휴무일'] = 0"
   ]
  },
  {
   "cell_type": "code",
   "execution_count": 13,
   "metadata": {},
   "outputs": [],
   "source": [
    "train['냉방비율'] = ((train['냉방면적(m2)'] / train['연면적(m2)'])*100 ).astype(int)\n",
    "test['냉방비율'] = ((test['냉방면적(m2)'] / test['연면적(m2)'])*100 ).astype(int)\n",
    "\n",
    "train = train.drop(columns=['연면적(m2)','냉방면적(m2)'])\n",
    "test = test.drop(columns=['연면적(m2)','냉방면적(m2)'])"
   ]
  },
  {
   "cell_type": "code",
   "execution_count": 14,
   "metadata": {},
   "outputs": [],
   "source": [
    "#결측값을 0으로 채웁니다\n",
    "train = train.fillna(0)\n",
    "test = test.fillna(0)"
   ]
  },
  {
   "cell_type": "code",
   "execution_count": 15,
   "metadata": {},
   "outputs": [
    {
     "name": "stdout",
     "output_type": "stream",
     "text": [
      "(202528, 23)\n"
     ]
    },
    {
     "data": {
      "text/plain": [
       "(202528, 24)"
      ]
     },
     "execution_count": 15,
     "metadata": {},
     "output_type": "execute_result"
    }
   ],
   "source": [
    "# 공휴일 제외 \n",
    "print(train.shape)\n",
    "train['dates'] = train['일시'].apply(lambda x : int(x[:8]))\n",
    "# train = train[~((train['dates'].isin([20220606,20220615])) & (train['건물유형'].isin(['공공','병원'])))]\n",
    "train['holiday'] = 0\n",
    "test['holiday'] = 0\n",
    "train.loc[train['dates'].isin([20220606,20220615,20220815]), 'holiday'] = 1\n",
    "\n",
    "train.drop(['dates'], axis=1, inplace=True)\n",
    "train.shape"
   ]
  },
  {
   "cell_type": "code",
   "execution_count": 16,
   "metadata": {},
   "outputs": [],
   "source": [
    "## https://dacon.io/competitions/official/235736/codeshare/2743?page=1&dtype=recent\n",
    "train['THI'] = 9/5*train['기온(C)'] - 0.55*(1-train['습도(%)']/100)*(9/5*train['습도(%)']-26)+32\n",
    "test['THI'] = 9/5*test['기온(C)'] - 0.55*(1-test['습도(%)']/100)*(9/5*test['습도(%)']-26)+32"
   ]
  },
  {
   "cell_type": "code",
   "execution_count": 17,
   "metadata": {},
   "outputs": [],
   "source": [
    "def CDH(xs):\n",
    "    ys = []\n",
    "    for i in range(len(xs)):\n",
    "        if i < 11:\n",
    "            ys.append(np.sum(xs[:(i+1)]-26))\n",
    "        else:\n",
    "            ys.append(np.sum(xs[(i-11):(i+1)]-26))\n",
    "    return np.array(ys)\n",
    "\n",
    "cdhs = np.array([])\n",
    "\n",
    "for num in train['건물번호'].unique():\n",
    "    temp = train[train['건물번호'] == num]\n",
    "    cdh = CDH(temp['기온(C)'].values)\n",
    "    cdhs = np.concatenate([cdhs, cdh])\n",
    "train['CDH'] = cdhs\n",
    "\n",
    "cdhs = np.array([])\n",
    "for num in test['건물번호'].unique():\n",
    "    temp = test[test['건물번호'] == num]\n",
    "    cdh = CDH(temp['기온(C)'].values)\n",
    "    cdhs = np.concatenate([cdhs, cdh])\n",
    "test['CDH'] = cdhs"
   ]
  },
  {
   "cell_type": "code",
   "execution_count": null,
   "metadata": {},
   "outputs": [],
   "source": []
  },
  {
   "cell_type": "code",
   "execution_count": null,
   "metadata": {},
   "outputs": [],
   "source": []
  },
  {
   "cell_type": "code",
   "execution_count": 18,
   "metadata": {},
   "outputs": [],
   "source": [
    "############## 체감온도, https://www.weather.go.kr/plus/life/li_asset/HELP/basic/help_01_07.jsp\n",
    "train['체감온도'] = 13.12 + 0.6215*train['기온(C)'] - 11.37*(train['풍속(m/s)']*3.6)**0.16 + 0.3965*(train['풍속(m/s)']*3.6)**0.16*train['기온(C)']\n",
    "test['체감온도'] = 13.12 + 0.6215*test['기온(C)'] - 11.37*(test['풍속(m/s)']*3.6)**0.16 + 0.3965*(test['풍속(m/s)']*3.6)**0.16*test['기온(C)']"
   ]
  },
  {
   "cell_type": "code",
   "execution_count": null,
   "metadata": {},
   "outputs": [],
   "source": []
  },
  {
   "cell_type": "code",
   "execution_count": 19,
   "metadata": {},
   "outputs": [],
   "source": [
    "train.drop('풍속(m/s)', axis=1, inplace=True)\n",
    "test.drop('풍속(m/s)', axis=1, inplace=True)"
   ]
  },
  {
   "cell_type": "code",
   "execution_count": 20,
   "metadata": {},
   "outputs": [],
   "source": [
    "# train_x = train.drop(columns=['num_date_time', '일시', '일조(hr)', '일사(MJ/m2)', '전력소비량(kWh)'])\n",
    "# train_y = train['전력소비량(kWh)']\n",
    "\n",
    "# test_x = test.drop(columns=['num_date_time', '일시'])\n",
    "\n",
    "# X_train, X_test, y_train, y_test = train_test_split(train_x , train_y ,test_size=0.2, shuffle=True, random_state=42, stratify=train_x['건물번호'])\n",
    "# print(X_train.shape, X_test.shape, y_train.shape, y_test.shape)"
   ]
  },
  {
   "cell_type": "code",
   "execution_count": 21,
   "metadata": {
    "colab": {
     "base_uri": "https://localhost:8080/"
    },
    "executionInfo": {
     "elapsed": 4,
     "status": "ok",
     "timestamp": 1689582027986,
     "user": {
      "displayName": "김상화",
      "userId": "01180527613373969793"
     },
     "user_tz": -540
    },
    "id": "1MsnmAAA3VfI",
    "outputId": "10e4fae3-5c68-45d5-8d86-4a264a96d42e"
   },
   "outputs": [
    {
     "name": "stdout",
     "output_type": "stream",
     "text": [
      "(185728, 21) (16800, 21) (185728,) (16800,)\n"
     ]
    }
   ],
   "source": [
    "days = [18, 19, 20, 21, 22, 23, 24]\n",
    "\n",
    "X_train = train[~((train['month'] == 8) & (train['day'].isin(days)))].drop(columns=['num_date_time', '일시', '일조(hr)', '일사(MJ/m2)', '전력소비량(kWh)'])\n",
    "y_train = train[~((train['month'] == 8) & (train['day'].isin(days)))]['전력소비량(kWh)']\n",
    "\n",
    "X_test = train[(train['month'] == 8) & (train['day'].isin(days))].drop(columns=['num_date_time', '일시', '일조(hr)', '일사(MJ/m2)', '전력소비량(kWh)'])\n",
    "y_test = train[(train['month'] == 8) & (train['day'].isin(days))]['전력소비량(kWh)']\n",
    "\n",
    "\n",
    "print(X_train.shape, X_test.shape, y_train.shape, y_test.shape)"
   ]
  },
  {
   "cell_type": "code",
   "execution_count": 22,
   "metadata": {},
   "outputs": [],
   "source": [
    "#결측값을 0으로 채웁니다\n",
    "X_train = X_train.fillna(0)\n",
    "X_test = X_test.fillna(0)"
   ]
  },
  {
   "cell_type": "markdown",
   "metadata": {
    "id": "S93RH2uojmmh"
   },
   "source": [
    "## Regression Model Fit"
   ]
  },
  {
   "cell_type": "code",
   "execution_count": 23,
   "metadata": {},
   "outputs": [],
   "source": [
    "#!pip install optuna\n",
    "import optuna"
   ]
  },
  {
   "cell_type": "code",
   "execution_count": 24,
   "metadata": {},
   "outputs": [],
   "source": [
    "def objective(trial):\n",
    "    params = {\n",
    "        \"random_state\": 42,\n",
    "        \"n_estimators\": trial.suggest_int(\"n_estimators\", 70, 120)\n",
    "    }\n",
    "    \n",
    "    model = RandomForestRegressor(**params)\n",
    "    model.fit(temp_X_train, temp_y_train)\n",
    "    y_preds = model.predict(temp_X_test)\n",
    "    return smape(temp_y_test, y_preds)"
   ]
  },
  {
   "cell_type": "code",
   "execution_count": 25,
   "metadata": {
    "scrolled": true
   },
   "outputs": [
    {
     "name": "stderr",
     "output_type": "stream",
     "text": [
      "[I 2023-08-25 21:54:50,419] A new study created in memory with name: no-name-1c64f9cd-4bc3-4d5c-a4a8-7c2758d4f817\n",
      "[I 2023-08-25 21:55:03,432] Trial 0 finished with value: 6.980715928658862 and parameters: {'n_estimators': 95}. Best is trial 0 with value: 6.980715928658862.\n",
      "[I 2023-08-25 21:55:14,815] Trial 1 finished with value: 6.9853562509754275 and parameters: {'n_estimators': 85}. Best is trial 0 with value: 6.980715928658862.\n",
      "[I 2023-08-25 21:55:26,982] Trial 2 finished with value: 6.978666473519943 and parameters: {'n_estimators': 91}. Best is trial 2 with value: 6.978666473519943.\n",
      "[I 2023-08-25 21:55:42,927] Trial 3 finished with value: 6.98452549266497 and parameters: {'n_estimators': 119}. Best is trial 2 with value: 6.978666473519943.\n",
      "[I 2023-08-25 21:55:53,853] Trial 4 finished with value: 6.979698671578824 and parameters: {'n_estimators': 82}. Best is trial 2 with value: 6.978666473519943.\n",
      "[I 2023-08-25 21:56:04,639] Trial 5 finished with value: 6.980746639670161 and parameters: {'n_estimators': 81}. Best is trial 2 with value: 6.978666473519943.\n",
      "[I 2023-08-25 21:56:19,030] Trial 6 finished with value: 6.968193077988335 and parameters: {'n_estimators': 107}. Best is trial 6 with value: 6.968193077988335.\n",
      "[I 2023-08-25 21:56:30,377] Trial 7 finished with value: 6.9853562509754275 and parameters: {'n_estimators': 85}. Best is trial 6 with value: 6.968193077988335.\n",
      "[I 2023-08-25 21:56:43,686] Trial 8 finished with value: 6.981174352852883 and parameters: {'n_estimators': 99}. Best is trial 6 with value: 6.968193077988335.\n",
      "[I 2023-08-25 21:56:59,604] Trial 9 finished with value: 6.979730169691842 and parameters: {'n_estimators': 118}. Best is trial 6 with value: 6.968193077988335.\n"
     ]
    },
    {
     "name": "stdout",
     "output_type": "stream",
     "text": [
      "Wall time: 13min 51s\n"
     ]
    }
   ],
   "source": [
    "%%time \n",
    "metrics_type = pd.DataFrame()\n",
    "for i in train['건물유형'].unique():\n",
    "    temp_X_train = X_train[X_train['건물유형'] == i].drop(['건물유형'], axis=1)\n",
    "    temp_y_train = y_train.loc[temp_X_train.index]\n",
    "    temp_X_test = X_test[X_test['건물유형'] == i].drop(['건물유형'], axis=1)\n",
    "    temp_y_test = y_test.loc[temp_X_test.index]\n",
    "    \n",
    "#     model = RandomForestRegressor(random_state=42)\n",
    "#     model.fit(temp_X_train, temp_y_train)\n",
    "#     y_preds = model.predict(temp_X_test)\n",
    "#     temp = pd.DataFrame([i, smape(temp_y_test, y_preds)]).T\n",
    "#     temp.columns = ['건물유형', '유형별_score']\n",
    "    \n",
    "    study = optuna.create_study()\n",
    "    study.optimize(objective, n_trials=10)\n",
    "    optuna.logging.set_verbosity(optuna.logging.CRITICAL)\n",
    "    temp = pd.DataFrame([i, study.best_value, study.best_trial.params]).T\n",
    "    temp.columns = ['건물유형', '유형별_score', '유형별_param']\n",
    "    \n",
    "    metrics_type = metrics_type.append(temp)\n",
    "#     display(temp)\n",
    "#     vis_feature_importances_(model, temp_X_train)    \n",
    "    "
   ]
  },
  {
   "cell_type": "code",
   "execution_count": 26,
   "metadata": {
    "scrolled": true
   },
   "outputs": [
    {
     "name": "stdout",
     "output_type": "stream",
     "text": [
      "Wall time: 11min 58s\n"
     ]
    }
   ],
   "source": [
    "%%time \n",
    "metrics_bno = pd.DataFrame()\n",
    "for i in train['건물번호'].unique():\n",
    "\n",
    "    temp_X_train = X_train[X_train['건물번호'] == i].drop(['건물번호','건물유형'], axis=1)\n",
    "    temp_y_train = y_train.loc[temp_X_train.index]\n",
    "    temp_X_test = X_test[X_test['건물번호'] == i].drop(['건물번호','건물유형'], axis=1)\n",
    "    temp_y_test = y_test.loc[temp_X_test.index]\n",
    "        \n",
    "#     model = RandomForestRegressor(random_state=42)\n",
    "#     model.fit(temp_X_train, temp_y_train)\n",
    "#     y_preds = model.predict(temp_X_test)\n",
    "#     temp = pd.DataFrame([i, smape(temp_y_test, y_preds)]).T\n",
    "\n",
    "    study = optuna.create_study()\n",
    "    study.optimize(objective, n_trials=10)\n",
    "    optuna.logging.set_verbosity(optuna.logging.CRITICAL)\n",
    "    temp = pd.DataFrame([i, study.best_value, study.best_trial.params]).T\n",
    "    temp.columns = ['건물번호', '건물별_score', '건물별_param']\n",
    "    \n",
    "    metrics_bno = metrics_bno.append(temp)\n",
    "#     display(temp)\n",
    "#     vis_feature_importances_(model, temp_X_train)    \n",
    "#     print()"
   ]
  },
  {
   "cell_type": "code",
   "execution_count": 27,
   "metadata": {},
   "outputs": [
    {
     "data": {
      "text/html": [
       "<div>\n",
       "<style scoped>\n",
       "    .dataframe tbody tr th:only-of-type {\n",
       "        vertical-align: middle;\n",
       "    }\n",
       "\n",
       "    .dataframe tbody tr th {\n",
       "        vertical-align: top;\n",
       "    }\n",
       "\n",
       "    .dataframe thead th {\n",
       "        text-align: right;\n",
       "    }\n",
       "</style>\n",
       "<table border=\"1\" class=\"dataframe\">\n",
       "  <thead>\n",
       "    <tr style=\"text-align: right;\">\n",
       "      <th></th>\n",
       "      <th>건물번호</th>\n",
       "      <th>건물별_score</th>\n",
       "      <th>건물별_param</th>\n",
       "    </tr>\n",
       "  </thead>\n",
       "  <tbody>\n",
       "    <tr>\n",
       "      <th>0</th>\n",
       "      <td>1</td>\n",
       "      <td>6.216219</td>\n",
       "      <td>{'n_estimators': 86}</td>\n",
       "    </tr>\n",
       "    <tr>\n",
       "      <th>0</th>\n",
       "      <td>2</td>\n",
       "      <td>8.057845</td>\n",
       "      <td>{'n_estimators': 79}</td>\n",
       "    </tr>\n",
       "    <tr>\n",
       "      <th>0</th>\n",
       "      <td>3</td>\n",
       "      <td>9.011023</td>\n",
       "      <td>{'n_estimators': 120}</td>\n",
       "    </tr>\n",
       "    <tr>\n",
       "      <th>0</th>\n",
       "      <td>4</td>\n",
       "      <td>4.672384</td>\n",
       "      <td>{'n_estimators': 120}</td>\n",
       "    </tr>\n",
       "    <tr>\n",
       "      <th>0</th>\n",
       "      <td>5</td>\n",
       "      <td>6.015663</td>\n",
       "      <td>{'n_estimators': 107}</td>\n",
       "    </tr>\n",
       "    <tr>\n",
       "      <th>...</th>\n",
       "      <td>...</td>\n",
       "      <td>...</td>\n",
       "      <td>...</td>\n",
       "    </tr>\n",
       "    <tr>\n",
       "      <th>0</th>\n",
       "      <td>96</td>\n",
       "      <td>3.583813</td>\n",
       "      <td>{'n_estimators': 78}</td>\n",
       "    </tr>\n",
       "    <tr>\n",
       "      <th>0</th>\n",
       "      <td>97</td>\n",
       "      <td>6.744337</td>\n",
       "      <td>{'n_estimators': 70}</td>\n",
       "    </tr>\n",
       "    <tr>\n",
       "      <th>0</th>\n",
       "      <td>98</td>\n",
       "      <td>13.410299</td>\n",
       "      <td>{'n_estimators': 95}</td>\n",
       "    </tr>\n",
       "    <tr>\n",
       "      <th>0</th>\n",
       "      <td>99</td>\n",
       "      <td>4.172686</td>\n",
       "      <td>{'n_estimators': 109}</td>\n",
       "    </tr>\n",
       "    <tr>\n",
       "      <th>0</th>\n",
       "      <td>100</td>\n",
       "      <td>5.880753</td>\n",
       "      <td>{'n_estimators': 90}</td>\n",
       "    </tr>\n",
       "  </tbody>\n",
       "</table>\n",
       "<p>100 rows × 3 columns</p>\n",
       "</div>"
      ],
      "text/plain": [
       "   건물번호  건물별_score              건물별_param\n",
       "0     1   6.216219   {'n_estimators': 86}\n",
       "0     2   8.057845   {'n_estimators': 79}\n",
       "0     3   9.011023  {'n_estimators': 120}\n",
       "0     4   4.672384  {'n_estimators': 120}\n",
       "0     5   6.015663  {'n_estimators': 107}\n",
       "..  ...        ...                    ...\n",
       "0    96   3.583813   {'n_estimators': 78}\n",
       "0    97   6.744337   {'n_estimators': 70}\n",
       "0    98  13.410299   {'n_estimators': 95}\n",
       "0    99   4.172686  {'n_estimators': 109}\n",
       "0   100   5.880753   {'n_estimators': 90}\n",
       "\n",
       "[100 rows x 3 columns]"
      ]
     },
     "execution_count": 27,
     "metadata": {},
     "output_type": "execute_result"
    }
   ],
   "source": [
    "metrics_bno"
   ]
  },
  {
   "cell_type": "code",
   "execution_count": 28,
   "metadata": {},
   "outputs": [],
   "source": [
    "metrics_bno['건물번호'] = metrics_bno['건물번호'].astype(int)"
   ]
  },
  {
   "cell_type": "code",
   "execution_count": 29,
   "metadata": {},
   "outputs": [],
   "source": [
    "metrics_bno = metrics_bno.merge(building_info[['건물유형','건물번호']], on=['건물번호'])"
   ]
  },
  {
   "cell_type": "code",
   "execution_count": 61,
   "metadata": {},
   "outputs": [
    {
     "data": {
      "text/html": [
       "<div>\n",
       "<style scoped>\n",
       "    .dataframe tbody tr th:only-of-type {\n",
       "        vertical-align: middle;\n",
       "    }\n",
       "\n",
       "    .dataframe tbody tr th {\n",
       "        vertical-align: top;\n",
       "    }\n",
       "\n",
       "    .dataframe thead th {\n",
       "        text-align: right;\n",
       "    }\n",
       "</style>\n",
       "<table border=\"1\" class=\"dataframe\">\n",
       "  <thead>\n",
       "    <tr style=\"text-align: right;\">\n",
       "      <th></th>\n",
       "      <th>건물유형</th>\n",
       "      <th>유형별_score</th>\n",
       "      <th>유형별_param</th>\n",
       "    </tr>\n",
       "  </thead>\n",
       "  <tbody>\n",
       "    <tr>\n",
       "      <th>0</th>\n",
       "      <td>건물기타</td>\n",
       "      <td>6.967504</td>\n",
       "      <td>{'n_estimators': 106}</td>\n",
       "    </tr>\n",
       "    <tr>\n",
       "      <th>0</th>\n",
       "      <td>공공</td>\n",
       "      <td>5.609114</td>\n",
       "      <td>{'n_estimators': 100}</td>\n",
       "    </tr>\n",
       "    <tr>\n",
       "      <th>0</th>\n",
       "      <td>대학교</td>\n",
       "      <td>4.090848</td>\n",
       "      <td>{'n_estimators': 104}</td>\n",
       "    </tr>\n",
       "    <tr>\n",
       "      <th>0</th>\n",
       "      <td>데이터센터</td>\n",
       "      <td>0.571763</td>\n",
       "      <td>{'n_estimators': 101}</td>\n",
       "    </tr>\n",
       "    <tr>\n",
       "      <th>0</th>\n",
       "      <td>백화점및아울렛</td>\n",
       "      <td>4.823835</td>\n",
       "      <td>{'n_estimators': 113}</td>\n",
       "    </tr>\n",
       "    <tr>\n",
       "      <th>0</th>\n",
       "      <td>병원</td>\n",
       "      <td>3.916235</td>\n",
       "      <td>{'n_estimators': 92}</td>\n",
       "    </tr>\n",
       "    <tr>\n",
       "      <th>0</th>\n",
       "      <td>상용</td>\n",
       "      <td>5.999785</td>\n",
       "      <td>{'n_estimators': 86}</td>\n",
       "    </tr>\n",
       "    <tr>\n",
       "      <th>0</th>\n",
       "      <td>아파트</td>\n",
       "      <td>5.685256</td>\n",
       "      <td>{'n_estimators': 120}</td>\n",
       "    </tr>\n",
       "    <tr>\n",
       "      <th>0</th>\n",
       "      <td>연구소</td>\n",
       "      <td>4.465548</td>\n",
       "      <td>{'n_estimators': 115}</td>\n",
       "    </tr>\n",
       "    <tr>\n",
       "      <th>0</th>\n",
       "      <td>지식산업센터</td>\n",
       "      <td>3.226093</td>\n",
       "      <td>{'n_estimators': 102}</td>\n",
       "    </tr>\n",
       "    <tr>\n",
       "      <th>0</th>\n",
       "      <td>할인마트</td>\n",
       "      <td>5.759373</td>\n",
       "      <td>{'n_estimators': 96}</td>\n",
       "    </tr>\n",
       "    <tr>\n",
       "      <th>0</th>\n",
       "      <td>호텔및리조트</td>\n",
       "      <td>7.668369</td>\n",
       "      <td>{'n_estimators': 93}</td>\n",
       "    </tr>\n",
       "  </tbody>\n",
       "</table>\n",
       "</div>"
      ],
      "text/plain": [
       "      건물유형 유형별_score              유형별_param\n",
       "0     건물기타  6.967504  {'n_estimators': 106}\n",
       "0       공공  5.609114  {'n_estimators': 100}\n",
       "0      대학교  4.090848  {'n_estimators': 104}\n",
       "0    데이터센터  0.571763  {'n_estimators': 101}\n",
       "0  백화점및아울렛  4.823835  {'n_estimators': 113}\n",
       "0       병원  3.916235   {'n_estimators': 92}\n",
       "0       상용  5.999785   {'n_estimators': 86}\n",
       "0      아파트  5.685256  {'n_estimators': 120}\n",
       "0      연구소  4.465548  {'n_estimators': 115}\n",
       "0   지식산업센터  3.226093  {'n_estimators': 102}\n",
       "0     할인마트  5.759373   {'n_estimators': 96}\n",
       "0   호텔및리조트  7.668369   {'n_estimators': 93}"
      ]
     },
     "execution_count": 61,
     "metadata": {},
     "output_type": "execute_result"
    }
   ],
   "source": [
    "metrics_type"
   ]
  },
  {
   "cell_type": "code",
   "execution_count": null,
   "metadata": {},
   "outputs": [],
   "source": []
  },
  {
   "cell_type": "code",
   "execution_count": 30,
   "metadata": {},
   "outputs": [
    {
     "data": {
      "text/html": [
       "<div>\n",
       "<style scoped>\n",
       "    .dataframe tbody tr th:only-of-type {\n",
       "        vertical-align: middle;\n",
       "    }\n",
       "\n",
       "    .dataframe tbody tr th {\n",
       "        vertical-align: top;\n",
       "    }\n",
       "\n",
       "    .dataframe thead th {\n",
       "        text-align: right;\n",
       "    }\n",
       "</style>\n",
       "<table border=\"1\" class=\"dataframe\">\n",
       "  <thead>\n",
       "    <tr style=\"text-align: right;\">\n",
       "      <th></th>\n",
       "      <th>건물번호</th>\n",
       "      <th>건물별_score</th>\n",
       "      <th>건물별_param</th>\n",
       "      <th>건물유형</th>\n",
       "      <th>유형별_score</th>\n",
       "      <th>유형별_param</th>\n",
       "    </tr>\n",
       "  </thead>\n",
       "  <tbody>\n",
       "    <tr>\n",
       "      <th>0</th>\n",
       "      <td>1</td>\n",
       "      <td>6.216219</td>\n",
       "      <td>{'n_estimators': 86}</td>\n",
       "      <td>건물기타</td>\n",
       "      <td>6.968193</td>\n",
       "      <td>{'n_estimators': 107}</td>\n",
       "    </tr>\n",
       "    <tr>\n",
       "      <th>1</th>\n",
       "      <td>2</td>\n",
       "      <td>8.057845</td>\n",
       "      <td>{'n_estimators': 79}</td>\n",
       "      <td>건물기타</td>\n",
       "      <td>6.968193</td>\n",
       "      <td>{'n_estimators': 107}</td>\n",
       "    </tr>\n",
       "  </tbody>\n",
       "</table>\n",
       "</div>"
      ],
      "text/plain": [
       "   건물번호 건물별_score             건물별_param  건물유형 유형별_score              유형별_param\n",
       "0     1  6.216219  {'n_estimators': 86}  건물기타  6.968193  {'n_estimators': 107}\n",
       "1     2  8.057845  {'n_estimators': 79}  건물기타  6.968193  {'n_estimators': 107}"
      ]
     },
     "execution_count": 30,
     "metadata": {},
     "output_type": "execute_result"
    }
   ],
   "source": [
    "metrics = metrics_bno.merge(metrics_type, on=['건물유형'])\n",
    "metrics[:2]"
   ]
  },
  {
   "cell_type": "code",
   "execution_count": 31,
   "metadata": {},
   "outputs": [
    {
     "data": {
      "text/plain": [
       "(60,\n",
       " array([  1,   4,   5,   6,   8,   9,  11,  12,  13,  15,  16,  20,  22,\n",
       "         23,  24,  25,  26,  27,  29,  32,  33,  35,  37,  38,  39,  41,\n",
       "         44,  45,  48,  50,  52,  55,  56,  57,  58,  59,  61,  62,  64,\n",
       "         68,  69,  70,  73,  75,  77,  79,  83,  84,  85,  86,  88,  89,\n",
       "         90,  92,  93,  94,  96,  97,  99, 100]))"
      ]
     },
     "execution_count": 31,
     "metadata": {},
     "output_type": "execute_result"
    }
   ],
   "source": [
    "# 유형보다 건물이 더 좋은 스코어를 가지는 건물번호 list\n",
    "bno = metrics[metrics['건물별_score'] < metrics['유형별_score']]['건물번호'].values\n",
    "len(bno), bno"
   ]
  },
  {
   "cell_type": "code",
   "execution_count": 32,
   "metadata": {},
   "outputs": [
    {
     "data": {
      "text/plain": [
       "(4.899693568826108, 5.200351151803313)"
      ]
     },
     "execution_count": 32,
     "metadata": {},
     "output_type": "execute_result"
    }
   ],
   "source": [
    "metrics_type['유형별_score'].mean(), metrics_bno['건물별_score'].mean()"
   ]
  },
  {
   "cell_type": "code",
   "execution_count": 33,
   "metadata": {},
   "outputs": [
    {
     "data": {
      "text/plain": [
       "5.080088118612431"
      ]
     },
     "execution_count": 33,
     "metadata": {},
     "output_type": "execute_result"
    }
   ],
   "source": [
    "# 가중 평균 \n",
    "metrics_type['유형별_score'].mean() * ((100-len(bno))/100) + metrics_bno['건물별_score'].mean() * (len(bno)/100)"
   ]
  },
  {
   "cell_type": "code",
   "execution_count": 34,
   "metadata": {},
   "outputs": [],
   "source": [
    "# 5.102246917555636"
   ]
  },
  {
   "cell_type": "code",
   "execution_count": 35,
   "metadata": {},
   "outputs": [],
   "source": [
    "metrics['score'] = metrics['유형별_score'] \n",
    "metrics.loc[metrics['건물번호'].isin(bno), 'score'] = metrics['건물별_score']"
   ]
  },
  {
   "cell_type": "code",
   "execution_count": 36,
   "metadata": {},
   "outputs": [],
   "source": [
    "metrics['건물이낫다'] = metrics['건물별_score'] < metrics['유형별_score']"
   ]
  },
  {
   "cell_type": "code",
   "execution_count": 37,
   "metadata": {},
   "outputs": [],
   "source": [
    "# metrics.to_excel('오차큰것부터_20230822-3.xlsx')"
   ]
  },
  {
   "cell_type": "markdown",
   "metadata": {
    "id": "X7-NGb-0j4K_"
   },
   "source": [
    "## Inference & Submit"
   ]
  },
  {
   "cell_type": "code",
   "execution_count": 65,
   "metadata": {},
   "outputs": [
    {
     "data": {
      "text/html": [
       "<div>\n",
       "<style scoped>\n",
       "    .dataframe tbody tr th:only-of-type {\n",
       "        vertical-align: middle;\n",
       "    }\n",
       "\n",
       "    .dataframe tbody tr th {\n",
       "        vertical-align: top;\n",
       "    }\n",
       "\n",
       "    .dataframe thead th {\n",
       "        text-align: right;\n",
       "    }\n",
       "</style>\n",
       "<table border=\"1\" class=\"dataframe\">\n",
       "  <thead>\n",
       "    <tr style=\"text-align: right;\">\n",
       "      <th></th>\n",
       "      <th>건물유형</th>\n",
       "      <th>유형별_score</th>\n",
       "      <th>유형별_param</th>\n",
       "    </tr>\n",
       "  </thead>\n",
       "  <tbody>\n",
       "    <tr>\n",
       "      <th>0</th>\n",
       "      <td>건물기타</td>\n",
       "      <td>6.968193</td>\n",
       "      <td>{'n_estimators': 107}</td>\n",
       "    </tr>\n",
       "    <tr>\n",
       "      <th>0</th>\n",
       "      <td>공공</td>\n",
       "      <td>5.608233</td>\n",
       "      <td>{'n_estimators': 82}</td>\n",
       "    </tr>\n",
       "  </tbody>\n",
       "</table>\n",
       "</div>"
      ],
      "text/plain": [
       "   건물유형 유형별_score              유형별_param\n",
       "0  건물기타  6.968193  {'n_estimators': 107}\n",
       "0    공공  5.608233   {'n_estimators': 82}"
      ]
     },
     "execution_count": 65,
     "metadata": {},
     "output_type": "execute_result"
    }
   ],
   "source": [
    "metrics_type[:2]"
   ]
  },
  {
   "cell_type": "code",
   "execution_count": 109,
   "metadata": {},
   "outputs": [
    {
     "name": "stdout",
     "output_type": "stream",
     "text": [
      "107\n",
      "82\n",
      "103\n",
      "99\n",
      "113\n",
      "79\n",
      "71\n",
      "114\n",
      "116\n",
      "101\n",
      "105\n",
      "104\n",
      "Wall time: 1min 37s\n"
     ]
    },
    {
     "data": {
      "text/plain": [
       "(16800, 26)"
      ]
     },
     "execution_count": 109,
     "metadata": {},
     "output_type": "execute_result"
    }
   ],
   "source": [
    "%%time\n",
    "result_type = pd.DataFrame()\n",
    "for i in train['건물유형'].unique():\n",
    "    \n",
    "    temp_X_train = train[train['건물유형'] == i].drop(['건물유형','num_date_time', '일시', '일조(hr)', '일사(MJ/m2)', '전력소비량(kWh)'], axis=1)\n",
    "    temp_y_train = train.loc[temp_X_train.index][['전력소비량(kWh)']]\n",
    "    \n",
    "    model = RandomForestRegressor(n_estimators=metrics_type[metrics_type['건물유형'] == i]['유형별_param'][0]['n_estimators'], random_state=42)\n",
    "    model.fit(temp_X_train, temp_y_train)\n",
    "                                                 \n",
    "    temp_test = test[test['건물유형'] == i].drop(['건물유형','num_date_time', '일시'], axis=1)\n",
    "    y_preds = model.predict(temp_test)\n",
    "    result_type = result_type.append( pd.concat([test[test['건물유형'] == i].reset_index(), pd.DataFrame(y_preds, columns=['answer_유형별']).reset_index()], axis=1) )\n",
    "    \n",
    "result_type.shape    "
   ]
  },
  {
   "cell_type": "code",
   "execution_count": 96,
   "metadata": {},
   "outputs": [
    {
     "data": {
      "text/html": [
       "<div>\n",
       "<style scoped>\n",
       "    .dataframe tbody tr th:only-of-type {\n",
       "        vertical-align: middle;\n",
       "    }\n",
       "\n",
       "    .dataframe tbody tr th {\n",
       "        vertical-align: top;\n",
       "    }\n",
       "\n",
       "    .dataframe thead th {\n",
       "        text-align: right;\n",
       "    }\n",
       "</style>\n",
       "<table border=\"1\" class=\"dataframe\">\n",
       "  <thead>\n",
       "    <tr style=\"text-align: right;\">\n",
       "      <th></th>\n",
       "      <th>건물번호</th>\n",
       "      <th>건물별_score</th>\n",
       "      <th>건물별_param</th>\n",
       "      <th>건물유형</th>\n",
       "    </tr>\n",
       "  </thead>\n",
       "  <tbody>\n",
       "    <tr>\n",
       "      <th>0</th>\n",
       "      <td>1</td>\n",
       "      <td>6.216219</td>\n",
       "      <td>{'n_estimators': 86}</td>\n",
       "      <td>건물기타</td>\n",
       "    </tr>\n",
       "    <tr>\n",
       "      <th>1</th>\n",
       "      <td>2</td>\n",
       "      <td>8.057845</td>\n",
       "      <td>{'n_estimators': 79}</td>\n",
       "      <td>건물기타</td>\n",
       "    </tr>\n",
       "    <tr>\n",
       "      <th>2</th>\n",
       "      <td>3</td>\n",
       "      <td>9.011023</td>\n",
       "      <td>{'n_estimators': 120}</td>\n",
       "      <td>건물기타</td>\n",
       "    </tr>\n",
       "    <tr>\n",
       "      <th>3</th>\n",
       "      <td>4</td>\n",
       "      <td>4.672384</td>\n",
       "      <td>{'n_estimators': 120}</td>\n",
       "      <td>건물기타</td>\n",
       "    </tr>\n",
       "    <tr>\n",
       "      <th>4</th>\n",
       "      <td>5</td>\n",
       "      <td>6.015663</td>\n",
       "      <td>{'n_estimators': 107}</td>\n",
       "      <td>건물기타</td>\n",
       "    </tr>\n",
       "    <tr>\n",
       "      <th>...</th>\n",
       "      <td>...</td>\n",
       "      <td>...</td>\n",
       "      <td>...</td>\n",
       "      <td>...</td>\n",
       "    </tr>\n",
       "    <tr>\n",
       "      <th>95</th>\n",
       "      <td>96</td>\n",
       "      <td>3.583813</td>\n",
       "      <td>{'n_estimators': 78}</td>\n",
       "      <td>호텔및리조트</td>\n",
       "    </tr>\n",
       "    <tr>\n",
       "      <th>96</th>\n",
       "      <td>97</td>\n",
       "      <td>6.744337</td>\n",
       "      <td>{'n_estimators': 70}</td>\n",
       "      <td>호텔및리조트</td>\n",
       "    </tr>\n",
       "    <tr>\n",
       "      <th>97</th>\n",
       "      <td>98</td>\n",
       "      <td>13.410299</td>\n",
       "      <td>{'n_estimators': 95}</td>\n",
       "      <td>호텔및리조트</td>\n",
       "    </tr>\n",
       "    <tr>\n",
       "      <th>98</th>\n",
       "      <td>99</td>\n",
       "      <td>4.172686</td>\n",
       "      <td>{'n_estimators': 109}</td>\n",
       "      <td>호텔및리조트</td>\n",
       "    </tr>\n",
       "    <tr>\n",
       "      <th>99</th>\n",
       "      <td>100</td>\n",
       "      <td>5.880753</td>\n",
       "      <td>{'n_estimators': 90}</td>\n",
       "      <td>호텔및리조트</td>\n",
       "    </tr>\n",
       "  </tbody>\n",
       "</table>\n",
       "<p>100 rows × 4 columns</p>\n",
       "</div>"
      ],
      "text/plain": [
       "    건물번호  건물별_score              건물별_param    건물유형\n",
       "0      1   6.216219   {'n_estimators': 86}    건물기타\n",
       "1      2   8.057845   {'n_estimators': 79}    건물기타\n",
       "2      3   9.011023  {'n_estimators': 120}    건물기타\n",
       "3      4   4.672384  {'n_estimators': 120}    건물기타\n",
       "4      5   6.015663  {'n_estimators': 107}    건물기타\n",
       "..   ...        ...                    ...     ...\n",
       "95    96   3.583813   {'n_estimators': 78}  호텔및리조트\n",
       "96    97   6.744337   {'n_estimators': 70}  호텔및리조트\n",
       "97    98  13.410299   {'n_estimators': 95}  호텔및리조트\n",
       "98    99   4.172686  {'n_estimators': 109}  호텔및리조트\n",
       "99   100   5.880753   {'n_estimators': 90}  호텔및리조트\n",
       "\n",
       "[100 rows x 4 columns]"
      ]
     },
     "execution_count": 96,
     "metadata": {},
     "output_type": "execute_result"
    }
   ],
   "source": [
    "metrics_bno"
   ]
  },
  {
   "cell_type": "code",
   "execution_count": 108,
   "metadata": {},
   "outputs": [
    {
     "name": "stdout",
     "output_type": "stream",
     "text": [
      "Wall time: 1min 18s\n"
     ]
    },
    {
     "data": {
      "text/plain": [
       "(16800, 26)"
      ]
     },
     "execution_count": 108,
     "metadata": {},
     "output_type": "execute_result"
    }
   ],
   "source": [
    "%%time\n",
    "result_bno = pd.DataFrame()\n",
    "for i in train['건물번호'].unique():\n",
    "    \n",
    "    temp_X_train = train[train['건물번호'] == i].drop(['건물번호','건물유형','num_date_time', '일시', '일조(hr)', '일사(MJ/m2)', '전력소비량(kWh)'], axis=1)\n",
    "    temp_y_train = train.loc[temp_X_train.index][['전력소비량(kWh)']]\n",
    "    \n",
    "    model = RandomForestRegressor(n_estimators=metrics_bno[metrics_bno['건물번호'] == i]['건물별_param'].values[0]['n_estimators'],random_state=42)\n",
    "    model.fit(temp_X_train, temp_y_train)\n",
    "                                                 \n",
    "    temp_test = test[test['건물번호'] == i].drop(['건물번호','건물유형','num_date_time', '일시'], axis=1)\n",
    "    y_preds = model.predict(temp_test)\n",
    "    result_bno = result_bno.append( pd.concat([test[test['건물번호'] == i].reset_index(), pd.DataFrame(y_preds, columns=['answer_건물별']).reset_index()], axis=1) )\n",
    "    \n",
    "result_bno.shape    "
   ]
  },
  {
   "cell_type": "code",
   "execution_count": null,
   "metadata": {},
   "outputs": [],
   "source": []
  },
  {
   "cell_type": "code",
   "execution_count": null,
   "metadata": {},
   "outputs": [],
   "source": []
  },
  {
   "cell_type": "code",
   "execution_count": 110,
   "metadata": {},
   "outputs": [],
   "source": [
    "result = result_type[['num_date_time','건물번호','answer_유형별','weekday', 'time']].merge(result_bno[['num_date_time','건물번호','answer_건물별']], on=['num_date_time','건물번호'])\n",
    "result['answer'] = result['answer_유형별'] \n",
    "result.loc[result['건물번호'].isin(bno), 'answer'] = result['answer_건물별']\n",
    "\n",
    "# 후처리 \n",
    "postprocessing = train.groupby(['건물번호', 'weekday','time'])['전력소비량(kWh)'].min().reset_index()\n",
    "result = result.merge(postprocessing, on=['건물번호', 'weekday','time'])\n",
    "result.loc[result['answer'] < result['전력소비량(kWh)'], 'answer'] = result['전력소비량(kWh)']\n",
    "\n",
    "result[['num_date_time','answer']].to_csv('20230825-3_r.csv', index=False)"
   ]
  },
  {
   "cell_type": "code",
   "execution_count": null,
   "metadata": {},
   "outputs": [],
   "source": []
  }
 ],
 "metadata": {
  "colab": {
   "provenance": []
  },
  "kernelspec": {
   "display_name": "Python 3",
   "language": "python",
   "name": "python3"
  },
  "language_info": {
   "codemirror_mode": {
    "name": "ipython",
    "version": 3
   },
   "file_extension": ".py",
   "mimetype": "text/x-python",
   "name": "python",
   "nbconvert_exporter": "python",
   "pygments_lexer": "ipython3",
   "version": "3.7.6"
  }
 },
 "nbformat": 4,
 "nbformat_minor": 1
}
