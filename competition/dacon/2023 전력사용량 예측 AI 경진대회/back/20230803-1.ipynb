{
 "cells": [
  {
   "cell_type": "code",
   "execution_count": 1,
   "metadata": {
    "executionInfo": {
     "elapsed": 416,
     "status": "ok",
     "timestamp": 1689582023934,
     "user": {
      "displayName": "김상화",
      "userId": "01180527613373969793"
     },
     "user_tz": -540
    },
    "id": "F43IerJKCByJ"
   },
   "outputs": [],
   "source": [
    "import pandas as pd\n",
    "import numpy as np\n",
    "import random\n",
    "import os\n",
    "\n",
    "from tqdm import tqdm\n",
    "import matplotlib.pyplot as plt\n",
    "import seaborn as sns\n",
    "from sklearn.model_selection import train_test_split, KFold, cross_val_score\n",
    "from sklearn.ensemble import RandomForestRegressor\n",
    "# import xgboost as xgb\n",
    "from xgboost import XGBRegressor\n",
    "from sklearn.metrics import mean_absolute_percentage_error\n",
    "import warnings\n",
    "warnings.filterwarnings(\"ignore\")"
   ]
  },
  {
   "cell_type": "code",
   "execution_count": 2,
   "metadata": {
    "executionInfo": {
     "elapsed": 6,
     "status": "ok",
     "timestamp": 1689582024554,
     "user": {
      "displayName": "김상화",
      "userId": "01180527613373969793"
     },
     "user_tz": -540
    },
    "id": "2K_rh2YZCByK"
   },
   "outputs": [],
   "source": [
    "def seed_everything(seed):\n",
    "    random.seed(seed)\n",
    "    os.environ['PYTHONHASHSEED'] = str(seed)\n",
    "    np.random.seed(seed)\n",
    "\n",
    "seed_everything(42) # Seed 고정\n",
    "\n",
    "# 한글 폰트 사용을 위해서 세팅\n",
    "from matplotlib import font_manager, rc\n",
    "font_path = \"C:/Windows/Fonts/H2GTRM.TTF\"\n",
    "font = font_manager.FontProperties(fname=font_path).get_name()\n",
    "rc('font', family=font)\n",
    "\n",
    "# feature importance \n",
    "def vis_feature_importances_(est, X_train):\n",
    "    ftr_importances_values = est.feature_importances_\n",
    "    ftr_importances = pd.Series(ftr_importances_values,index=X_train.columns  )\n",
    "    ftr_top20 = ftr_importances.sort_values(ascending=False)[:20]\n",
    "    plt.figure(figsize=(10,4))\n",
    "    plt.title('Feature importances Top 20')\n",
    "    sns.barplot(x=ftr_top20 , y = ftr_top20.index)\n",
    "    plt.show()\n",
    "    \n",
    "# https://dacon.io/en/competitions/open/235736/codeshare/2877?page=1&dtype=recent\n",
    "def SMAPE(true, pred):\n",
    "    return np.mean((np.abs(true-pred))/(np.abs(true) + np.abs(pred))) * 100    \n",
    "\n",
    "def weighted_mse(alpha = 1):\n",
    "    def weighted_mse_fixed(label, pred):\n",
    "        residual = (label - pred).astype(\"float\")\n",
    "        grad = np.where(residual>0, -2*alpha*residual, -2*residual)\n",
    "        hess = np.where(residual>0, 2*alpha, 2.0)\n",
    "        return grad, hess\n",
    "    return weighted_mse_fixed"
   ]
  },
  {
   "cell_type": "markdown",
   "metadata": {
    "id": "BLFOr7OJCByM"
   },
   "source": [
    "## Data Load"
   ]
  },
  {
   "cell_type": "code",
   "execution_count": null,
   "metadata": {
    "colab": {
     "base_uri": "https://localhost:8080/"
    },
    "executionInfo": {
     "elapsed": 1988,
     "status": "ok",
     "timestamp": 1689582026537,
     "user": {
      "displayName": "김상화",
      "userId": "01180527613373969793"
     },
     "user_tz": -540
    },
    "id": "pPmX0C54CY3F",
    "outputId": "91166b9f-a330-42d1-ee8c-9caf0e2fd602"
   },
   "outputs": [],
   "source": []
  },
  {
   "cell_type": "code",
   "execution_count": 3,
   "metadata": {
    "colab": {
     "base_uri": "https://localhost:8080/"
    },
    "executionInfo": {
     "elapsed": 433,
     "status": "ok",
     "timestamp": 1689582026968,
     "user": {
      "displayName": "김상화",
      "userId": "01180527613373969793"
     },
     "user_tz": -540
    },
    "id": "KG-maqEKCqFm",
    "outputId": "00c3ccfa-0092-48d2-ecfd-874566e22d0f"
   },
   "outputs": [
    {
     "data": {
      "text/plain": [
       "((204000, 10), (16800, 7), (100, 7), (16800, 2))"
      ]
     },
     "execution_count": 3,
     "metadata": {},
     "output_type": "execute_result"
    }
   ],
   "source": [
    "# from google.colab import drive\n",
    "# drive.mount('/content/drive')\n",
    "\n",
    "# train = pd.read_csv('/content/drive/MyDrive/work/input/train.csv')\n",
    "# test = pd.read_csv('/content/drive/MyDrive/work/input/test.csv')\n",
    "# building_info = pd.read_csv('/content/drive/MyDrive/work/input/building_info.csv')\n",
    "# submission = pd.read_csv('/content/drive/MyDrive/work/input/sample_submission.csv')\n",
    "# train.shape, test.shape, building_info.shape, submission.shape\n",
    "\n",
    "train = pd.read_csv('input/train.csv')\n",
    "test = pd.read_csv('input/test.csv')\n",
    "building_info = pd.read_csv('input/building_info.csv')\n",
    "submission = pd.read_csv('input/sample_submission.csv')\n",
    "train.shape, test.shape, building_info.shape, submission.shape"
   ]
  },
  {
   "cell_type": "markdown",
   "metadata": {
    "id": "M2267KIZCtEp"
   },
   "source": [
    "## Train Data Pre-Processing"
   ]
  },
  {
   "cell_type": "code",
   "execution_count": 4,
   "metadata": {
    "executionInfo": {
     "elapsed": 3,
     "status": "ok",
     "timestamp": 1689582026969,
     "user": {
      "displayName": "김상화",
      "userId": "01180527613373969793"
     },
     "user_tz": -540
    },
    "id": "HNlz9wr11flI"
   },
   "outputs": [],
   "source": [
    "# 빌딩 데이터 정리\n",
    "## null 처리\n",
    "building_info['태양광용량(kW)'] = building_info['태양광용량(kW)'].str.replace('-','0').astype(float)\n",
    "building_info['ESS저장용량(kWh)'] = building_info['ESS저장용량(kWh)'].str.replace('-','0').astype(float)\n",
    "building_info['PCS용량(kW)'] = building_info['PCS용량(kW)'].str.replace('-','0').astype(float)"
   ]
  },
  {
   "cell_type": "code",
   "execution_count": 5,
   "metadata": {
    "executionInfo": {
     "elapsed": 3,
     "status": "ok",
     "timestamp": 1689582026969,
     "user": {
      "displayName": "김상화",
      "userId": "01180527613373969793"
     },
     "user_tz": -540
    },
    "id": "Mw7dQ6i_l4Ql"
   },
   "outputs": [],
   "source": [
    "# 정리된 빌딩과 merge\n",
    "train = train.merge(building_info, on='건물번호')\n",
    "test = test.merge(building_info, on='건물번호')"
   ]
  },
  {
   "cell_type": "code",
   "execution_count": 6,
   "metadata": {
    "executionInfo": {
     "elapsed": 586,
     "status": "ok",
     "timestamp": 1689582027552,
     "user": {
      "displayName": "김상화",
      "userId": "01180527613373969793"
     },
     "user_tz": -540
    },
    "id": "EBcH5AIjCwaY"
   },
   "outputs": [],
   "source": [
    "#시계열 특성을 학습에 반영하기 위해 일시를 월, 일, 시간으로 나눕니다\n",
    "train['month'] = train['일시'].apply(lambda x : int(x[4:6]))\n",
    "train['day'] = train['일시'].apply(lambda x : int(x[6:8]))\n",
    "train['time'] = train['일시'].apply(lambda x : int(x[9:11]))\n",
    "\n",
    "test['month'] = test['일시'].apply(lambda x : int(x[4:6]))\n",
    "test['day'] = test['일시'].apply(lambda x : int(x[6:8]))\n",
    "test['time'] = test['일시'].apply(lambda x : int(x[9:11]))"
   ]
  },
  {
   "cell_type": "code",
   "execution_count": 7,
   "metadata": {
    "executionInfo": {
     "elapsed": 3,
     "status": "ok",
     "timestamp": 1689582027552,
     "user": {
      "displayName": "김상화",
      "userId": "01180527613373969793"
     },
     "user_tz": -540
    },
    "id": "qKO917WK7rcK"
   },
   "outputs": [],
   "source": [
    "# 요일\n",
    "train['weekday'] =  pd.to_datetime(train['일시'].str[:8]).dt.weekday\n",
    "test['weekday'] =  pd.to_datetime(test['일시'].str[:8]).dt.weekday"
   ]
  },
  {
   "cell_type": "code",
   "execution_count": 8,
   "metadata": {},
   "outputs": [],
   "source": [
    "# outlier 제거 \n",
    "train = train[train['전력소비량(kWh)'] > 1]"
   ]
  },
  {
   "cell_type": "code",
   "execution_count": null,
   "metadata": {},
   "outputs": [],
   "source": []
  },
  {
   "cell_type": "code",
   "execution_count": 9,
   "metadata": {},
   "outputs": [],
   "source": [
    "target_encoding = train.groupby(['건물유형']).agg({'전력소비량(kWh)':['min', 'mean','max']}).reset_index()\n",
    "target_encoding.columns = ['건물유형', 'khw_min', 'khw_mean', 'khw_max']\n",
    "train = train.merge(target_encoding, on=['건물유형'], how='left')\n",
    "test = test.merge(target_encoding, on=['건물유형'], how='left')"
   ]
  },
  {
   "cell_type": "code",
   "execution_count": null,
   "metadata": {},
   "outputs": [],
   "source": []
  },
  {
   "cell_type": "code",
   "execution_count": 10,
   "metadata": {},
   "outputs": [],
   "source": [
    "train.drop( train[(train['건물번호'].isin([1,16])) & (train['month'] == 6)].index, inplace=True)"
   ]
  },
  {
   "cell_type": "code",
   "execution_count": null,
   "metadata": {},
   "outputs": [],
   "source": []
  },
  {
   "cell_type": "code",
   "execution_count": 11,
   "metadata": {},
   "outputs": [],
   "source": [
    "no_work_day = train.groupby(['건물번호', '건물유형','month', 'day']).agg({'전력소비량(kWh)':['mean','max']}).reset_index()\n",
    "no_work_day.columns = ['건물번호', '건물유형','month', 'day', 'khw_mean', 'khw_max']\n",
    "total_mean = no_work_day[no_work_day['건물유형'].isin(['백화점및아울렛','할인마트'])].groupby(['건물번호']).khw_mean.mean().reset_index().rename(columns={'khw_mean':'b_mean'})\n",
    "\n",
    "no_work_day = no_work_day.merge(total_mean, on='건물번호')\n",
    "no_work_day.loc[no_work_day.b_mean > no_work_day.khw_max, '백화점휴무일'] = 1\n",
    "\n",
    "train = train.merge(no_work_day[['건물번호', '건물유형','month', 'day', '백화점휴무일']], on=['건물번호', '건물유형','month', 'day'], how='left')\n",
    "train['백화점휴무일'] = train['백화점휴무일'].fillna(0).astype(int)\n",
    "test['백화점휴무일'] = 0"
   ]
  },
  {
   "cell_type": "code",
   "execution_count": 12,
   "metadata": {},
   "outputs": [],
   "source": [
    "train['냉방비율'] = ((train['냉방면적(m2)'] / train['연면적(m2)'])*100 ).astype(int)\n",
    "test['냉방비율'] = ((test['냉방면적(m2)'] / test['연면적(m2)'])*100 ).astype(int)\n",
    "\n",
    "train = train.drop(columns=['연면적(m2)','냉방면적(m2)'])\n",
    "test = test.drop(columns=['연면적(m2)','냉방면적(m2)'])"
   ]
  },
  {
   "cell_type": "code",
   "execution_count": 13,
   "metadata": {},
   "outputs": [],
   "source": [
    "#결측값을 0으로 채웁니다\n",
    "train = train.fillna(0)\n",
    "test = test.fillna(0)"
   ]
  },
  {
   "cell_type": "code",
   "execution_count": null,
   "metadata": {},
   "outputs": [],
   "source": []
  },
  {
   "cell_type": "code",
   "execution_count": 14,
   "metadata": {},
   "outputs": [],
   "source": [
    "# train.drop('풍속(m/s)', axis=1, inplace=True)\n",
    "# test.drop('풍속(m/s)', axis=1, inplace=True)"
   ]
  },
  {
   "cell_type": "code",
   "execution_count": null,
   "metadata": {},
   "outputs": [],
   "source": []
  },
  {
   "cell_type": "code",
   "execution_count": 15,
   "metadata": {},
   "outputs": [
    {
     "name": "stdout",
     "output_type": "stream",
     "text": [
      "(202558, 23)\n"
     ]
    },
    {
     "data": {
      "text/plain": [
       "(202558, 24)"
      ]
     },
     "execution_count": 15,
     "metadata": {},
     "output_type": "execute_result"
    }
   ],
   "source": [
    "# 공휴일 제외 \n",
    "print(train.shape)\n",
    "train['dates'] = train['일시'].apply(lambda x : int(x[:8]))\n",
    "# train = train[~((train['dates'].isin([20220606,20220615])) & (train['건물유형'].isin(['공공','병원'])))]\n",
    "train['holiday'] = 0\n",
    "test['holiday'] = 0\n",
    "train.loc[train['dates'].isin([20220606,20220615]), 'holiday'] = 1\n",
    "\n",
    "train.drop(['dates'], axis=1, inplace=True)\n",
    "train.shape"
   ]
  },
  {
   "cell_type": "code",
   "execution_count": null,
   "metadata": {
    "executionInfo": {
     "elapsed": 4,
     "status": "ok",
     "timestamp": 1689582027986,
     "user": {
      "displayName": "김상화",
      "userId": "01180527613373969793"
     },
     "user_tz": -540
    },
    "id": "GRy9wWCJjf4y"
   },
   "outputs": [],
   "source": []
  },
  {
   "cell_type": "code",
   "execution_count": 16,
   "metadata": {},
   "outputs": [],
   "source": [
    "## https://dacon.io/competitions/official/235680/codeshare/2366?page=1&dtype=recent\n",
    "train['sin_time'] = np.sin(2*np.pi*train.time/24)\n",
    "train['cos_time'] = np.cos(2*np.pi*train.time/24)\n",
    "test['sin_time'] = np.sin(2*np.pi*test.time/24)\n",
    "test['cos_time'] = np.cos(2*np.pi*test.time/24)\n",
    "\n",
    "## https://dacon.io/competitions/official/235736/codeshare/2743?page=1&dtype=recent\n",
    "train['THI'] = 9/5*train['기온(C)'] - 0.55*(1-train['습도(%)']/100)*(9/5*train['습도(%)']-26)+32\n",
    "test['THI'] = 9/5*test['기온(C)'] - 0.55*(1-test['습도(%)']/100)*(9/5*test['습도(%)']-26)+32"
   ]
  },
  {
   "cell_type": "code",
   "execution_count": 17,
   "metadata": {},
   "outputs": [],
   "source": [
    "def CDH(xs):\n",
    "    ys = []\n",
    "    for i in range(len(xs)):\n",
    "        if i < 11:\n",
    "            ys.append(np.sum(xs[:(i+1)]-26))\n",
    "        else:\n",
    "            ys.append(np.sum(xs[(i-11):(i+1)]-26))\n",
    "    return np.array(ys)\n",
    "\n",
    "cdhs = np.array([])\n",
    "\n",
    "for num in train['건물번호'].unique():\n",
    "    temp = train[train['건물번호'] == num]\n",
    "    cdh = CDH(temp['기온(C)'].values)\n",
    "    cdhs = np.concatenate([cdhs, cdh])\n",
    "train['CDH'] = cdhs\n",
    "\n",
    "cdhs = np.array([])\n",
    "for num in test['건물번호'].unique():\n",
    "    temp = test[test['건물번호'] == num]\n",
    "    cdh = CDH(temp['기온(C)'].values)\n",
    "    cdhs = np.concatenate([cdhs, cdh])\n",
    "test['CDH'] = cdhs"
   ]
  },
  {
   "cell_type": "code",
   "execution_count": null,
   "metadata": {},
   "outputs": [],
   "source": []
  },
  {
   "cell_type": "code",
   "execution_count": 18,
   "metadata": {},
   "outputs": [],
   "source": [
    "# train_x = train.drop(columns=['num_date_time', '일시', '일조(hr)', '일사(MJ/m2)', '전력소비량(kWh)'])\n",
    "# train_y = train['전력소비량(kWh)']\n",
    "\n",
    "# test_x = test.drop(columns=['num_date_time', '일시'])\n",
    "\n",
    "# X_train, X_test, y_train, y_test = train_test_split(train_x , train_y ,test_size=0.2, shuffle=True, random_state=42, stratify=train_x['건물번호'])\n",
    "# print(X_train.shape, X_test.shape, y_train.shape, y_test.shape)"
   ]
  },
  {
   "cell_type": "code",
   "execution_count": 19,
   "metadata": {
    "colab": {
     "base_uri": "https://localhost:8080/"
    },
    "executionInfo": {
     "elapsed": 4,
     "status": "ok",
     "timestamp": 1689582027986,
     "user": {
      "displayName": "김상화",
      "userId": "01180527613373969793"
     },
     "user_tz": -540
    },
    "id": "1MsnmAAA3VfI",
    "outputId": "10e4fae3-5c68-45d5-8d86-4a264a96d42e"
   },
   "outputs": [
    {
     "name": "stdout",
     "output_type": "stream",
     "text": [
      "(185758, 23) (16800, 23) (185758,) (16800,)\n"
     ]
    }
   ],
   "source": [
    "days = [18, 19, 20, 21, 22, 23, 24]\n",
    "\n",
    "X_train = train[~((train['month'] == 8) & (train['day'].isin(days)))].drop(columns=['num_date_time', '일시', '일조(hr)', '일사(MJ/m2)', '전력소비량(kWh)'])\n",
    "y_train = train[~((train['month'] == 8) & (train['day'].isin(days)))]['전력소비량(kWh)']\n",
    "\n",
    "X_test = train[(train['month'] == 8) & (train['day'].isin(days))].drop(columns=['num_date_time', '일시', '일조(hr)', '일사(MJ/m2)', '전력소비량(kWh)'])\n",
    "y_test = train[(train['month'] == 8) & (train['day'].isin(days))]['전력소비량(kWh)']\n",
    "\n",
    "\n",
    "print(X_train.shape, X_test.shape, y_train.shape, y_test.shape)"
   ]
  },
  {
   "cell_type": "code",
   "execution_count": null,
   "metadata": {},
   "outputs": [],
   "source": [
    "#결측값을 0으로 채웁니다\n",
    "X_train = X_train.fillna(0)\n",
    "X_test = X_test.fillna(0)"
   ]
  },
  {
   "cell_type": "markdown",
   "metadata": {
    "id": "S93RH2uojmmh"
   },
   "source": [
    "## Regression Model Fit"
   ]
  },
  {
   "cell_type": "code",
   "execution_count": null,
   "metadata": {
    "scrolled": true
   },
   "outputs": [],
   "source": [
    "%%time \n",
    "metrics_type = pd.DataFrame()\n",
    "for i in train['건물유형'].unique():\n",
    "    temp_X_train = X_train[X_train['건물유형'] == i].drop(['건물유형'], axis=1)\n",
    "    temp_y_train = y_train.loc[temp_X_train.index]\n",
    "    temp_X_test = X_test[X_test['건물유형'] == i].drop(['건물유형'], axis=1)\n",
    "    temp_y_test = y_test.loc[temp_X_test.index]\n",
    "    \n",
    "    model = XGBRegressor(random_state=42)\n",
    "    model.set_params(**{'objective':weighted_mse(100)})\n",
    "    \n",
    "    model.fit(temp_X_train, temp_y_train)\n",
    "    y_preds = model.predict(temp_X_test)\n",
    "    \n",
    "    temp = pd.DataFrame([i, SMAPE(temp_y_test, y_preds)]).T\n",
    "    temp.columns = ['건물유형', '유형별_score']\n",
    "    metrics_type = metrics_type.append(temp)\n",
    "    display(temp)\n",
    "    vis_feature_importances_(model, temp_X_train)    \n",
    "    "
   ]
  },
  {
   "cell_type": "code",
   "execution_count": null,
   "metadata": {
    "scrolled": true
   },
   "outputs": [],
   "source": [
    "%%time \n",
    "metrics_bno = pd.DataFrame()\n",
    "for i in train['건물번호'].unique():\n",
    "\n",
    "    temp_X_train = X_train[X_train['건물번호'] == i].drop(['건물번호','건물유형'], axis=1)\n",
    "    temp_y_train = y_train.loc[temp_X_train.index]\n",
    "    temp_X_test = X_test[X_test['건물번호'] == i].drop(['건물번호','건물유형'], axis=1)\n",
    "    temp_y_test = y_test.loc[temp_X_test.index]\n",
    "        \n",
    "    model = XGBRegressor(random_state=42)\n",
    "    model.set_params(**{'objective':weighted_mse(100)})\n",
    "    \n",
    "    model.fit(temp_X_train, temp_y_train)\n",
    "    y_preds = model.predict(temp_X_test)\n",
    "    \n",
    "    temp = pd.DataFrame([i, SMAPE(temp_y_test, y_preds)]).T\n",
    "    temp.columns = ['건물번호', '건물별_score']\n",
    "    metrics_bno = metrics_bno.append(temp)\n",
    "    display(temp)\n",
    "    vis_feature_importances_(model, temp_X_train)    \n",
    "    print()"
   ]
  },
  {
   "cell_type": "code",
   "execution_count": null,
   "metadata": {},
   "outputs": [],
   "source": []
  },
  {
   "cell_type": "code",
   "execution_count": null,
   "metadata": {},
   "outputs": [],
   "source": [
    "metrics_bno['건물번호'] = metrics_bno['건물번호'].astype(int)"
   ]
  },
  {
   "cell_type": "code",
   "execution_count": null,
   "metadata": {},
   "outputs": [],
   "source": [
    "metrics_bno = metrics_bno.merge(building_info[['건물유형','건물번호']], on=['건물번호'])"
   ]
  },
  {
   "cell_type": "code",
   "execution_count": null,
   "metadata": {},
   "outputs": [],
   "source": [
    "metrics = metrics_bno.merge(metrics_type, on=['건물유형'])\n",
    "metrics[:2]"
   ]
  },
  {
   "cell_type": "code",
   "execution_count": null,
   "metadata": {},
   "outputs": [],
   "source": [
    "# 유형보다 건물이 더 좋은 스코어를 가지는 건물번호 list\n",
    "bno = metrics[metrics['건물별_score'] < metrics['유형별_score']]['건물번호'].values\n",
    "len(bno), bno"
   ]
  },
  {
   "cell_type": "code",
   "execution_count": null,
   "metadata": {},
   "outputs": [],
   "source": [
    "metrics_type['유형별_score'].mean(), metrics_bno['건물별_score'].mean()"
   ]
  },
  {
   "cell_type": "code",
   "execution_count": null,
   "metadata": {},
   "outputs": [],
   "source": [
    "# 가중 평균 \n",
    "metrics_type['유형별_score'].mean() * ((100-len(bno))/100) + metrics_bno['건물별_score'].mean() * (len(bno)/100)"
   ]
  },
  {
   "cell_type": "code",
   "execution_count": null,
   "metadata": {},
   "outputs": [],
   "source": []
  },
  {
   "cell_type": "code",
   "execution_count": null,
   "metadata": {},
   "outputs": [],
   "source": [
    "metrics['score'] = metrics['유형별_score'] \n",
    "metrics.loc[metrics['건물번호'].isin(bno), 'score'] = metrics['건물별_score']"
   ]
  },
  {
   "cell_type": "code",
   "execution_count": null,
   "metadata": {},
   "outputs": [],
   "source": [
    "metrics['건물이낫다'] = metrics['건물별_score'] < metrics['유형별_score']"
   ]
  },
  {
   "cell_type": "code",
   "execution_count": null,
   "metadata": {},
   "outputs": [],
   "source": [
    "metrics.to_excel('오차큰것부터_20230803-2.xlsx')"
   ]
  },
  {
   "cell_type": "markdown",
   "metadata": {
    "id": "X7-NGb-0j4K_"
   },
   "source": [
    "## Inference & Submit"
   ]
  },
  {
   "cell_type": "code",
   "execution_count": null,
   "metadata": {},
   "outputs": [],
   "source": [
    "# %%time\n",
    "# result_type = pd.DataFrame()\n",
    "# for i in train['건물유형'].unique():\n",
    "    \n",
    "#     temp_X_train = train[train['건물유형'] == i].drop(['건물유형','num_date_time', '일시', '일조(hr)', '일사(MJ/m2)', '전력소비량(kWh)'], axis=1)\n",
    "#     temp_y_train = train.loc[temp_X_train.index][['전력소비량(kWh)']]\n",
    "    \n",
    "#     model = XGBRegressor(random_state=42)\n",
    "#     model.set_params(**{'objective':weighted_mse(100)})\n",
    "    \n",
    "#     model.fit(temp_X_train, temp_y_train)\n",
    "                                                 \n",
    "#     temp_test = test[test['건물유형'] == i].drop(['건물유형','num_date_time', '일시'], axis=1)\n",
    "#     y_preds = model.predict(temp_test)\n",
    "#     result_type = result_type.append( pd.concat([test[test['건물유형'] == i].reset_index(), pd.DataFrame(y_preds, columns=['answer_유형별']).reset_index()], axis=1) )\n",
    "    \n",
    "# result_type.shape    "
   ]
  },
  {
   "cell_type": "code",
   "execution_count": null,
   "metadata": {},
   "outputs": [],
   "source": [
    "# %%time\n",
    "# result_bno = pd.DataFrame()\n",
    "# for i in train['건물번호'].unique():\n",
    "    \n",
    "#     temp_X_train = train[train['건물번호'] == i].drop(['건물번호','건물유형','num_date_time', '일시', '일조(hr)', '일사(MJ/m2)', '전력소비량(kWh)'], axis=1)\n",
    "#     temp_y_train = train.loc[temp_X_train.index][['전력소비량(kWh)']]\n",
    "    \n",
    "#     model = XGBRegressor(random_state=42)\n",
    "#     model.set_params(**{'objective':weighted_mse(100)})\n",
    "    \n",
    "#     model.fit(temp_X_train, temp_y_train)\n",
    "                                                 \n",
    "#     temp_test = test[test['건물번호'] == i].drop(['건물번호','건물유형','num_date_time', '일시'], axis=1)\n",
    "#     y_preds = model.predict(temp_test)\n",
    "#     result_bno = result_bno.append( pd.concat([test[test['건물번호'] == i].reset_index(), pd.DataFrame(y_preds, columns=['answer_건물별']).reset_index()], axis=1) )\n",
    "    \n",
    "# result_bno.shape    "
   ]
  },
  {
   "cell_type": "code",
   "execution_count": null,
   "metadata": {},
   "outputs": [],
   "source": []
  },
  {
   "cell_type": "code",
   "execution_count": null,
   "metadata": {},
   "outputs": [],
   "source": []
  },
  {
   "cell_type": "code",
   "execution_count": null,
   "metadata": {},
   "outputs": [],
   "source": []
  },
  {
   "cell_type": "code",
   "execution_count": null,
   "metadata": {},
   "outputs": [],
   "source": []
  },
  {
   "cell_type": "code",
   "execution_count": null,
   "metadata": {},
   "outputs": [],
   "source": [
    "# result = result_type[['num_date_time','건물번호','answer_유형별']].merge(result_bno[['num_date_time','건물번호','answer_건물별']], on=['num_date_time','건물번호'])\n",
    "# result['answer'] = result['answer_유형별'] \n",
    "# result.loc[result['건물번호'].isin(bno), 'answer'] = result['answer_건물별']\n",
    "# result[['num_date_time','answer']].to_csv('20230803-2.csv', index=False)"
   ]
  },
  {
   "cell_type": "code",
   "execution_count": null,
   "metadata": {
    "executionInfo": {
     "elapsed": 9,
     "status": "ok",
     "timestamp": 1689582337771,
     "user": {
      "displayName": "김상화",
      "userId": "01180527613373969793"
     },
     "user_tz": -540
    },
    "id": "JFEJfT9T5cLh"
   },
   "outputs": [],
   "source": [
    "#### weighted_mse alpha 튜닝 필요 "
   ]
  }
 ],
 "metadata": {
  "colab": {
   "provenance": []
  },
  "kernelspec": {
   "display_name": "Python 3",
   "language": "python",
   "name": "python3"
  },
  "language_info": {
   "codemirror_mode": {
    "name": "ipython",
    "version": 3
   },
   "file_extension": ".py",
   "mimetype": "text/x-python",
   "name": "python",
   "nbconvert_exporter": "python",
   "pygments_lexer": "ipython3",
   "version": "3.7.6"
  }
 },
 "nbformat": 4,
 "nbformat_minor": 1
}
