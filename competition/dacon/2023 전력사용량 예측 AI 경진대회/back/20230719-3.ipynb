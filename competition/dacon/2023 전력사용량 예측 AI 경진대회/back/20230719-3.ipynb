{
 "cells": [
  {
   "cell_type": "code",
   "execution_count": 1,
   "metadata": {
    "executionInfo": {
     "elapsed": 416,
     "status": "ok",
     "timestamp": 1689582023934,
     "user": {
      "displayName": "김상화",
      "userId": "01180527613373969793"
     },
     "user_tz": -540
    },
    "id": "F43IerJKCByJ"
   },
   "outputs": [],
   "source": [
    "import pandas as pd\n",
    "import numpy as np\n",
    "import random\n",
    "import os\n",
    "\n",
    "from tqdm import tqdm\n",
    "\n",
    "from sklearn.ensemble import RandomForestRegressor\n",
    "from sklearn.metrics import mean_absolute_percentage_error\n",
    "\n",
    "import warnings\n",
    "warnings.filterwarnings(\"ignore\")"
   ]
  },
  {
   "cell_type": "code",
   "execution_count": 2,
   "metadata": {
    "executionInfo": {
     "elapsed": 6,
     "status": "ok",
     "timestamp": 1689582024554,
     "user": {
      "displayName": "김상화",
      "userId": "01180527613373969793"
     },
     "user_tz": -540
    },
    "id": "2K_rh2YZCByK"
   },
   "outputs": [],
   "source": [
    "def seed_everything(seed):\n",
    "    random.seed(seed)\n",
    "    os.environ['PYTHONHASHSEED'] = str(seed)\n",
    "    np.random.seed(seed)\n",
    "\n",
    "seed_everything(42) # Seed 고정"
   ]
  },
  {
   "cell_type": "markdown",
   "metadata": {
    "id": "BLFOr7OJCByM"
   },
   "source": [
    "## Data Load"
   ]
  },
  {
   "cell_type": "code",
   "execution_count": null,
   "metadata": {
    "colab": {
     "base_uri": "https://localhost:8080/"
    },
    "executionInfo": {
     "elapsed": 1988,
     "status": "ok",
     "timestamp": 1689582026537,
     "user": {
      "displayName": "김상화",
      "userId": "01180527613373969793"
     },
     "user_tz": -540
    },
    "id": "pPmX0C54CY3F",
    "outputId": "91166b9f-a330-42d1-ee8c-9caf0e2fd602"
   },
   "outputs": [],
   "source": []
  },
  {
   "cell_type": "code",
   "execution_count": 3,
   "metadata": {
    "colab": {
     "base_uri": "https://localhost:8080/"
    },
    "executionInfo": {
     "elapsed": 433,
     "status": "ok",
     "timestamp": 1689582026968,
     "user": {
      "displayName": "김상화",
      "userId": "01180527613373969793"
     },
     "user_tz": -540
    },
    "id": "KG-maqEKCqFm",
    "outputId": "00c3ccfa-0092-48d2-ecfd-874566e22d0f"
   },
   "outputs": [
    {
     "data": {
      "text/plain": [
       "((204000, 10), (16800, 7), (100, 7), (16800, 2))"
      ]
     },
     "execution_count": 3,
     "metadata": {},
     "output_type": "execute_result"
    }
   ],
   "source": [
    "# from google.colab import drive\n",
    "# drive.mount('/content/drive')\n",
    "\n",
    "# train = pd.read_csv('/content/drive/MyDrive/work/input/train.csv')\n",
    "# test = pd.read_csv('/content/drive/MyDrive/work/input/test.csv')\n",
    "# building_info = pd.read_csv('/content/drive/MyDrive/work/input/building_info.csv')\n",
    "# submission = pd.read_csv('/content/drive/MyDrive/work/input/sample_submission.csv')\n",
    "# train.shape, test.shape, building_info.shape, submission.shape\n",
    "\n",
    "train = pd.read_csv('input/train.csv')\n",
    "test = pd.read_csv('input/test.csv')\n",
    "building_info = pd.read_csv('input/building_info.csv')\n",
    "submission = pd.read_csv('input/sample_submission.csv')\n",
    "train.shape, test.shape, building_info.shape, submission.shape"
   ]
  },
  {
   "cell_type": "markdown",
   "metadata": {
    "id": "M2267KIZCtEp"
   },
   "source": [
    "## Train Data Pre-Processing"
   ]
  },
  {
   "cell_type": "code",
   "execution_count": 4,
   "metadata": {
    "executionInfo": {
     "elapsed": 3,
     "status": "ok",
     "timestamp": 1689582026969,
     "user": {
      "displayName": "김상화",
      "userId": "01180527613373969793"
     },
     "user_tz": -540
    },
    "id": "HNlz9wr11flI"
   },
   "outputs": [],
   "source": [
    "# 빌딩 데이터 정리\n",
    "## null 처리\n",
    "building_info['태양광용량(kW)'] = building_info['태양광용량(kW)'].str.replace('-','0').astype(float)\n",
    "building_info['ESS저장용량(kWh)'] = building_info['ESS저장용량(kWh)'].str.replace('-','0').astype(float)\n",
    "building_info['PCS용량(kW)'] = building_info['PCS용량(kW)'].str.replace('-','0').astype(float)"
   ]
  },
  {
   "cell_type": "code",
   "execution_count": 5,
   "metadata": {
    "executionInfo": {
     "elapsed": 3,
     "status": "ok",
     "timestamp": 1689582026969,
     "user": {
      "displayName": "김상화",
      "userId": "01180527613373969793"
     },
     "user_tz": -540
    },
    "id": "Mw7dQ6i_l4Ql"
   },
   "outputs": [],
   "source": [
    "# 정리된 빌딩과 merge\n",
    "train = train.merge(building_info, on='건물번호')\n",
    "test = test.merge(building_info, on='건물번호')"
   ]
  },
  {
   "cell_type": "code",
   "execution_count": 6,
   "metadata": {
    "executionInfo": {
     "elapsed": 586,
     "status": "ok",
     "timestamp": 1689582027552,
     "user": {
      "displayName": "김상화",
      "userId": "01180527613373969793"
     },
     "user_tz": -540
    },
    "id": "EBcH5AIjCwaY"
   },
   "outputs": [],
   "source": [
    "#시계열 특성을 학습에 반영하기 위해 일시를 월, 일, 시간으로 나눕니다\n",
    "train['month'] = train['일시'].apply(lambda x : int(x[4:6]))\n",
    "train['day'] = train['일시'].apply(lambda x : int(x[6:8]))\n",
    "train['time'] = train['일시'].apply(lambda x : int(x[9:11]))\n",
    "\n",
    "test['month'] = test['일시'].apply(lambda x : int(x[4:6]))\n",
    "test['day'] = test['일시'].apply(lambda x : int(x[6:8]))\n",
    "test['time'] = test['일시'].apply(lambda x : int(x[9:11]))"
   ]
  },
  {
   "cell_type": "code",
   "execution_count": 7,
   "metadata": {
    "executionInfo": {
     "elapsed": 3,
     "status": "ok",
     "timestamp": 1689582027552,
     "user": {
      "displayName": "김상화",
      "userId": "01180527613373969793"
     },
     "user_tz": -540
    },
    "id": "qKO917WK7rcK"
   },
   "outputs": [],
   "source": [
    "# 요일\n",
    "train['weekday'] =  pd.to_datetime(train['일시'].str[:8]).dt.weekday\n",
    "test['weekday'] =  pd.to_datetime(test['일시'].str[:8]).dt.weekday"
   ]
  },
  {
   "cell_type": "code",
   "execution_count": 8,
   "metadata": {},
   "outputs": [],
   "source": [
    "# target encoding\n",
    "target_encoding = train.groupby(['건물유형']).agg({'전력소비량(kWh)':['min', 'mean','max']}).reset_index()\n",
    "target_encoding.columns = ['건물유형', 'khw_min', 'khw_mean', 'khw_max']\n",
    "train = train.merge(target_encoding, on=['건물유형'], how='left')\n",
    "test = test.merge(target_encoding, on=['건물유형'], how='left')"
   ]
  },
  {
   "cell_type": "code",
   "execution_count": null,
   "metadata": {},
   "outputs": [],
   "source": []
  },
  {
   "cell_type": "code",
   "execution_count": 9,
   "metadata": {},
   "outputs": [
    {
     "name": "stdout",
     "output_type": "stream",
     "text": [
      "20220601 20220824\n"
     ]
    },
    {
     "data": {
      "text/plain": [
       "0    105600\n",
       "1     98400\n",
       "Name: rain, dtype: int64"
      ]
     },
     "metadata": {},
     "output_type": "display_data"
    }
   ],
   "source": [
    "# temp = train[train['건물번호'] == 1]\n",
    "# temp['yyyymmdd'] = pd.to_datetime(temp['일시']).dt.strftime('%Y%m%d')\n",
    "# rain_day = pd.DataFrame(temp[temp['강수량(mm)'] > 0.1].yyyymmdd.unique(), columns=['yyyymmdd'])\n",
    "# rain_day['rain'] = 1\n",
    "\n",
    "# train['yyyymmdd'] = pd.to_datetime(train['일시']).dt.strftime('%Y%m%d')\n",
    "# train = train.merge(rain_day, on='yyyymmdd', how='left').fillna(0)\n",
    "# train['rain'] = train['rain'].astype(int)\n",
    "# print(train.yyyymmdd.min(), train.yyyymmdd.max())\n",
    "# train.drop(['yyyymmdd','강수량(mm)'], axis=1, inplace=True)\n",
    "# display(train['rain'].value_counts())\n",
    "\n",
    "# temp = test[test['건물번호'] == 1]\n",
    "# temp['yyyymmdd'] = pd.to_datetime(temp['일시']).dt.strftime('%Y%m%d')\n",
    "# rain_day = pd.DataFrame(temp[temp['강수량(mm)'] > 0.1].yyyymmdd.unique(), columns=['yyyymmdd'])\n",
    "# rain_day['rain'] = 1\n",
    "\n",
    "# test['yyyymmdd'] = pd.to_datetime(test['일시']).dt.strftime('%Y%m%d')\n",
    "# test = test.merge(rain_day, on='yyyymmdd', how='left').fillna(0)\n",
    "# test['rain'] = test['rain'].astype(int)\n",
    "# print(test.yyyymmdd.min(), test.yyyymmdd.max())\n",
    "# test.drop(['yyyymmdd','강수량(mm)'], axis=1, inplace=True)\n",
    "# display(test['rain'].value_counts())"
   ]
  },
  {
   "cell_type": "code",
   "execution_count": 10,
   "metadata": {},
   "outputs": [
    {
     "name": "stdout",
     "output_type": "stream",
     "text": [
      "20220825 20220831\n"
     ]
    },
    {
     "data": {
      "text/plain": [
       "1    9600\n",
       "0    7200\n",
       "Name: rain, dtype: int64"
      ]
     },
     "metadata": {},
     "output_type": "display_data"
    }
   ],
   "source": []
  },
  {
   "cell_type": "code",
   "execution_count": null,
   "metadata": {},
   "outputs": [],
   "source": []
  },
  {
   "cell_type": "code",
   "execution_count": null,
   "metadata": {},
   "outputs": [],
   "source": []
  },
  {
   "cell_type": "code",
   "execution_count": 12,
   "metadata": {
    "executionInfo": {
     "elapsed": 4,
     "status": "ok",
     "timestamp": 1689582027986,
     "user": {
      "displayName": "김상화",
      "userId": "01180527613373969793"
     },
     "user_tz": -540
    },
    "id": "GRy9wWCJjf4y"
   },
   "outputs": [],
   "source": [
    "train_x = train.drop(columns=['num_date_time', '일시', '일조(hr)', '일사(MJ/m2)', '전력소비량(kWh)'])\n",
    "train_y = train['전력소비량(kWh)']\n",
    "\n",
    "test_x = test.drop(columns=['num_date_time', '일시'])"
   ]
  },
  {
   "cell_type": "code",
   "execution_count": 13,
   "metadata": {},
   "outputs": [],
   "source": [
    "one_hot_col = ['건물유형']#,'weekday']\n",
    "train_x = pd.get_dummies(train_x, columns=one_hot_col, drop_first=True)\n",
    "test_x = pd.get_dummies(test_x, columns=one_hot_col, drop_first=True)"
   ]
  },
  {
   "cell_type": "code",
   "execution_count": null,
   "metadata": {},
   "outputs": [],
   "source": []
  },
  {
   "cell_type": "code",
   "execution_count": null,
   "metadata": {},
   "outputs": [],
   "source": []
  },
  {
   "cell_type": "code",
   "execution_count": 14,
   "metadata": {},
   "outputs": [],
   "source": [
    "#결측값을 0으로 채웁니다\n",
    "train_x = train_x.fillna(0)\n",
    "train_y = train_y.fillna(0)"
   ]
  },
  {
   "cell_type": "code",
   "execution_count": 15,
   "metadata": {
    "colab": {
     "base_uri": "https://localhost:8080/"
    },
    "executionInfo": {
     "elapsed": 4,
     "status": "ok",
     "timestamp": 1689582027986,
     "user": {
      "displayName": "김상화",
      "userId": "01180527613373969793"
     },
     "user_tz": -540
    },
    "id": "1MsnmAAA3VfI",
    "outputId": "10e4fae3-5c68-45d5-8d86-4a264a96d42e"
   },
   "outputs": [
    {
     "name": "stdout",
     "output_type": "stream",
     "text": [
      "(163200, 28) (40800, 28) (163200,) (40800,)\n"
     ]
    }
   ],
   "source": [
    "from sklearn.model_selection import train_test_split, KFold, cross_val_score\n",
    "X_train, X_test, y_train, y_test = train_test_split(train_x , train_y ,test_size=0.2, shuffle=True, random_state=42)\n",
    "print(X_train.shape, X_test.shape, y_train.shape, y_test.shape)"
   ]
  },
  {
   "cell_type": "markdown",
   "metadata": {
    "id": "S93RH2uojmmh"
   },
   "source": [
    "## Regression Model Fit"
   ]
  },
  {
   "cell_type": "code",
   "execution_count": 16,
   "metadata": {
    "colab": {
     "base_uri": "https://localhost:8080/",
     "height": 75
    },
    "executionInfo": {
     "elapsed": 143821,
     "status": "ok",
     "timestamp": 1689582171804,
     "user": {
      "displayName": "김상화",
      "userId": "01180527613373969793"
     },
     "user_tz": -540
    },
    "id": "uNV2nqlKjlUT",
    "outputId": "af9b3fee-ea5e-454d-80ed-f7e224d9d21c"
   },
   "outputs": [
    {
     "name": "stdout",
     "output_type": "stream",
     "text": [
      "Wall time: 1min 35s\n"
     ]
    },
    {
     "data": {
      "text/plain": [
       "0.04086195531433143"
      ]
     },
     "execution_count": 16,
     "metadata": {},
     "output_type": "execute_result"
    }
   ],
   "source": [
    "%%time\n",
    "model = RandomForestRegressor(random_state=42)\n",
    "model.fit(X_train, y_train)\n",
    "y_preds = model.predict(X_test)\n",
    "mean_absolute_percentage_error(y_test, y_preds)"
   ]
  },
  {
   "cell_type": "markdown",
   "metadata": {
    "id": "X7-NGb-0j4K_"
   },
   "source": [
    "## Inference & Submit"
   ]
  },
  {
   "cell_type": "code",
   "execution_count": 18,
   "metadata": {
    "colab": {
     "base_uri": "https://localhost:8080/",
     "height": 75
    },
    "executionInfo": {
     "elapsed": 162861,
     "status": "ok",
     "timestamp": 1689582337152,
     "user": {
      "displayName": "김상화",
      "userId": "01180527613373969793"
     },
     "user_tz": -540
    },
    "id": "iMy6j9mZ4PHm",
    "outputId": "31849ed2-d815-4c12-d89d-d81caf3920a9"
   },
   "outputs": [
    {
     "name": "stdout",
     "output_type": "stream",
     "text": [
      "Wall time: 1min 49s\n"
     ]
    }
   ],
   "source": [
    "%%time\n",
    "model = RandomForestRegressor(random_state=42)\n",
    "model.fit(train_x, train_y)\n",
    "preds = model.predict(test_x)\n",
    "submission['answer'] = preds\n",
    "submission.to_csv('20230719-3.csv', index=False)"
   ]
  },
  {
   "cell_type": "code",
   "execution_count": null,
   "metadata": {
    "executionInfo": {
     "elapsed": 9,
     "status": "ok",
     "timestamp": 1689582337771,
     "user": {
      "displayName": "김상화",
      "userId": "01180527613373969793"
     },
     "user_tz": -540
    },
    "id": "JFEJfT9T5cLh"
   },
   "outputs": [],
   "source": []
  }
 ],
 "metadata": {
  "colab": {
   "provenance": []
  },
  "kernelspec": {
   "display_name": "Python 3",
   "language": "python",
   "name": "python3"
  },
  "language_info": {
   "codemirror_mode": {
    "name": "ipython",
    "version": 3
   },
   "file_extension": ".py",
   "mimetype": "text/x-python",
   "name": "python",
   "nbconvert_exporter": "python",
   "pygments_lexer": "ipython3",
   "version": "3.7.6"
  }
 },
 "nbformat": 4,
 "nbformat_minor": 1
}
