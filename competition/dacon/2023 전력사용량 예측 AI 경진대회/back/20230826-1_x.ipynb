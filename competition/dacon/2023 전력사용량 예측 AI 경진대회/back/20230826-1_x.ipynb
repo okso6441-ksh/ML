{
 "cells": [
  {
   "cell_type": "code",
   "execution_count": 1,
   "metadata": {
    "executionInfo": {
     "elapsed": 416,
     "status": "ok",
     "timestamp": 1689582023934,
     "user": {
      "displayName": "김상화",
      "userId": "01180527613373969793"
     },
     "user_tz": -540
    },
    "id": "F43IerJKCByJ"
   },
   "outputs": [],
   "source": [
    "import pandas as pd\n",
    "import numpy as np\n",
    "import random\n",
    "import os\n",
    "\n",
    "from tqdm import tqdm\n",
    "import matplotlib.pyplot as plt\n",
    "import seaborn as sns\n",
    "from sklearn.model_selection import train_test_split, KFold, cross_val_score\n",
    "\n",
    "from sklearn.ensemble import RandomForestRegressor\n",
    "from xgboost import XGBRegressor\n",
    "\n",
    "from sklearn.metrics import mean_absolute_percentage_error\n",
    "import warnings\n",
    "warnings.filterwarnings(\"ignore\")"
   ]
  },
  {
   "cell_type": "code",
   "execution_count": 2,
   "metadata": {
    "executionInfo": {
     "elapsed": 6,
     "status": "ok",
     "timestamp": 1689582024554,
     "user": {
      "displayName": "김상화",
      "userId": "01180527613373969793"
     },
     "user_tz": -540
    },
    "id": "2K_rh2YZCByK"
   },
   "outputs": [],
   "source": [
    "def seed_everything(seed):\n",
    "    random.seed(seed)\n",
    "    os.environ['PYTHONHASHSEED'] = str(seed)\n",
    "    np.random.seed(seed)\n",
    "\n",
    "seed_everything(42) # Seed 고정\n",
    "\n",
    "# 한글 폰트 사용을 위해서 세팅\n",
    "from matplotlib import font_manager, rc\n",
    "font_path = \"C:/Windows/Fonts/H2GTRM.TTF\"\n",
    "font = font_manager.FontProperties(fname=font_path).get_name()\n",
    "rc('font', family=font)\n",
    "\n",
    "# feature importance \n",
    "def vis_feature_importances_(est, X_train):\n",
    "    ftr_importances_values = est.feature_importances_\n",
    "    ftr_importances = pd.Series(ftr_importances_values,index=X_train.columns  )\n",
    "    ftr_top20 = ftr_importances.sort_values(ascending=False)[:20]\n",
    "    plt.figure(figsize=(10,4))\n",
    "    plt.title('Feature importances Top 20')\n",
    "    sns.barplot(x=ftr_top20 , y = ftr_top20.index)\n",
    "    plt.show()\n",
    "    \n",
    "# https://dacon.io/forum/401657    \n",
    "def smape(true, pred):\n",
    "    v = 2 * abs(pred - true) / (abs(pred) + abs(true))\n",
    "    output = np.mean(v) * 100\n",
    "    return output    \n",
    "\n",
    "def smape_model():\n",
    "    def smape(true, pred):\n",
    "        v = 2 * abs(pred - true) / (abs(pred) + abs(true))\n",
    "        output = np.mean(v) * 100\n",
    "        return output    "
   ]
  },
  {
   "cell_type": "markdown",
   "metadata": {
    "id": "BLFOr7OJCByM"
   },
   "source": [
    "## Data Load"
   ]
  },
  {
   "cell_type": "code",
   "execution_count": null,
   "metadata": {
    "colab": {
     "base_uri": "https://localhost:8080/"
    },
    "executionInfo": {
     "elapsed": 1988,
     "status": "ok",
     "timestamp": 1689582026537,
     "user": {
      "displayName": "김상화",
      "userId": "01180527613373969793"
     },
     "user_tz": -540
    },
    "id": "pPmX0C54CY3F",
    "outputId": "91166b9f-a330-42d1-ee8c-9caf0e2fd602"
   },
   "outputs": [],
   "source": []
  },
  {
   "cell_type": "code",
   "execution_count": 3,
   "metadata": {
    "colab": {
     "base_uri": "https://localhost:8080/"
    },
    "executionInfo": {
     "elapsed": 433,
     "status": "ok",
     "timestamp": 1689582026968,
     "user": {
      "displayName": "김상화",
      "userId": "01180527613373969793"
     },
     "user_tz": -540
    },
    "id": "KG-maqEKCqFm",
    "outputId": "00c3ccfa-0092-48d2-ecfd-874566e22d0f"
   },
   "outputs": [
    {
     "data": {
      "text/plain": [
       "((204000, 10), (16800, 7), (100, 7), (16800, 2))"
      ]
     },
     "execution_count": 3,
     "metadata": {},
     "output_type": "execute_result"
    }
   ],
   "source": [
    "# from google.colab import drive\n",
    "# drive.mount('/content/drive')\n",
    "\n",
    "# train = pd.read_csv('/content/drive/MyDrive/work/input/train.csv')\n",
    "# test = pd.read_csv('/content/drive/MyDrive/work/input/test.csv')\n",
    "# building_info = pd.read_csv('/content/drive/MyDrive/work/input/building_info.csv')\n",
    "# submission = pd.read_csv('/content/drive/MyDrive/work/input/sample_submission.csv')\n",
    "# train.shape, test.shape, building_info.shape, submission.shape\n",
    "\n",
    "train = pd.read_csv('input/train.csv')\n",
    "test = pd.read_csv('input/test.csv')\n",
    "building_info = pd.read_csv('input/building_info.csv')\n",
    "submission = pd.read_csv('input/sample_submission.csv')\n",
    "train.shape, test.shape, building_info.shape, submission.shape"
   ]
  },
  {
   "cell_type": "markdown",
   "metadata": {
    "id": "M2267KIZCtEp"
   },
   "source": [
    "## Train Data Pre-Processing"
   ]
  },
  {
   "cell_type": "code",
   "execution_count": 4,
   "metadata": {},
   "outputs": [],
   "source": [
    "#시계열 특성을 학습에 반영하기 위해 일시를 월, 일, 시간으로 나눕니다\n",
    "train['month'] = train['일시'].apply(lambda x : int(x[4:6]))\n",
    "train['day'] = train['일시'].apply(lambda x : int(x[6:8]))\n",
    "train['time'] = train['일시'].apply(lambda x : int(x[9:11]))\n",
    "\n",
    "test['month'] = test['일시'].apply(lambda x : int(x[4:6]))\n",
    "test['day'] = test['일시'].apply(lambda x : int(x[6:8]))\n",
    "test['time'] = test['일시'].apply(lambda x : int(x[9:11]))\n",
    "\n",
    "# 요일\n",
    "train['weekday'] =  pd.to_datetime(train['일시'].str[:8]).dt.weekday\n",
    "test['weekday'] =  pd.to_datetime(test['일시'].str[:8]).dt.weekday"
   ]
  },
  {
   "cell_type": "code",
   "execution_count": null,
   "metadata": {},
   "outputs": [],
   "source": []
  },
  {
   "cell_type": "code",
   "execution_count": 5,
   "metadata": {},
   "outputs": [],
   "source": [
    "from sklearn.cluster import KMeans\n",
    "from sklearn.metrics import silhouette_score\n",
    "\n",
    "kmeans = pd.DataFrame()\n",
    "\n",
    "for i in range(1, 101):\n",
    "#     print(i)\n",
    "    temp = train[train['건물번호'] == i]\n",
    "    temp['date'] = pd.to_datetime(temp['일시']).dt.strftime('%Y%m%d')\n",
    "    temp = temp[['date','weekday','time', '전력소비량(kWh)']]\n",
    "    temp['kmeans'] = KMeans(n_clusters=2, random_state=42).fit_predict(temp)\n",
    "    temp['건물번호'] = i\n",
    "    kmeans = pd.concat([kmeans, temp.reset_index()[['건물번호','weekday','time', 'kmeans']]])\n",
    "kmeans = kmeans.groupby(['건물번호','weekday','time'])['kmeans'].mean().reset_index()        \n",
    "\n",
    "kmeans['kmeans_o'] = np.where(kmeans['kmeans'] > 0.6, 1, 0)\n",
    "train = train.merge(kmeans[['건물번호', 'weekday','time','kmeans_o']], on=['건물번호', 'weekday','time'])\n",
    "test = test.merge(kmeans[['건물번호', 'weekday','time','kmeans_o']], on=['건물번호', 'weekday','time'])"
   ]
  },
  {
   "cell_type": "code",
   "execution_count": null,
   "metadata": {},
   "outputs": [],
   "source": []
  },
  {
   "cell_type": "code",
   "execution_count": null,
   "metadata": {},
   "outputs": [],
   "source": []
  },
  {
   "cell_type": "code",
   "execution_count": 6,
   "metadata": {
    "executionInfo": {
     "elapsed": 3,
     "status": "ok",
     "timestamp": 1689582026969,
     "user": {
      "displayName": "김상화",
      "userId": "01180527613373969793"
     },
     "user_tz": -540
    },
    "id": "HNlz9wr11flI"
   },
   "outputs": [],
   "source": [
    "# 빌딩 데이터 정리\n",
    "## null 처리\n",
    "building_info['태양광용량(kW)'] = building_info['태양광용량(kW)'].str.replace('-','0').astype(float)\n",
    "building_info['ESS저장용량(kWh)'] = building_info['ESS저장용량(kWh)'].str.replace('-','0').astype(float)\n",
    "building_info['PCS용량(kW)'] = building_info['PCS용량(kW)'].str.replace('-','0').astype(float)"
   ]
  },
  {
   "cell_type": "code",
   "execution_count": 7,
   "metadata": {
    "executionInfo": {
     "elapsed": 3,
     "status": "ok",
     "timestamp": 1689582026969,
     "user": {
      "displayName": "김상화",
      "userId": "01180527613373969793"
     },
     "user_tz": -540
    },
    "id": "Mw7dQ6i_l4Ql"
   },
   "outputs": [],
   "source": [
    "# 정리된 빌딩과 merge\n",
    "train = train.merge(building_info, on='건물번호')\n",
    "test = test.merge(building_info, on='건물번호')"
   ]
  },
  {
   "cell_type": "code",
   "execution_count": 8,
   "metadata": {},
   "outputs": [],
   "source": [
    "# outlier 제거 \n",
    "train = train.drop(train[train['num_date_time'].isin(['56_20220608 16'\n",
    "                                                  ,'34_20220808 21'\n",
    "                                                  ,'10_20220607 06','10_20220607 06'\n",
    "                                                  ,'31_20220808 13','31_20220809 13', '31_20220808 14','31_20220808 13'\n",
    "                                                  , '8_20220806 05', '8_20220707 08', '8_20220628 09'\n",
    "                                                  ,'13_20220606 16','13_20220724 06','13_20220606 17','13_20220607 07'\n",
    "                                                  ,'58_20220804 16'\n",
    "                                                  ,'65_20220807 18'\n",
    "                                                  ,'68_20220706 20','68_20220706 19'\n",
    "                                                  ,'71_20220604 10','71_20220810 15','71_20220810 16'\n",
    "                                                  , '73_20220707 12', '73_20220707 14', '73_20220707 11','73_20220707 13', '73_20220707 15', '73_20220808 13','73_20220803 14', '73_20220808 12', '73_20220803 15','73_20220808 11'\n",
    "                                                 ])].index)"
   ]
  },
  {
   "cell_type": "code",
   "execution_count": null,
   "metadata": {},
   "outputs": [],
   "source": []
  },
  {
   "cell_type": "code",
   "execution_count": 9,
   "metadata": {},
   "outputs": [],
   "source": [
    "train['강수량(mm)'].fillna(0, inplace=True)\n",
    "train['풍속(m/s)'].fillna(train['풍속(m/s)'].mean(), inplace=True)\n",
    "train['습도(%)'].fillna(train['습도(%)'].mean(), inplace=True)\n",
    "\n",
    "test['강수량(mm)'].fillna(0, inplace=True)\n",
    "test['풍속(m/s)'].fillna(test['풍속(m/s)'].mean(), inplace=True)\n",
    "test['습도(%)'].fillna(test['습도(%)'].mean(), inplace=True)"
   ]
  },
  {
   "cell_type": "code",
   "execution_count": null,
   "metadata": {},
   "outputs": [],
   "source": []
  },
  {
   "cell_type": "code",
   "execution_count": 10,
   "metadata": {},
   "outputs": [],
   "source": [
    "############## 체감온도, https://www.weather.go.kr/plus/life/li_asset/HELP/basic/help_01_07.jsp\n",
    "train['체감온도'] = 13.12 + 0.6215*train['기온(C)'] - 11.37*(train['풍속(m/s)']*3.6)**0.16 + 0.3965*(train['풍속(m/s)']*3.6)**0.16*train['기온(C)']\n",
    "test['체감온도'] = 13.12 + 0.6215*test['기온(C)'] - 11.37*(test['풍속(m/s)']*3.6)**0.16 + 0.3965*(test['풍속(m/s)']*3.6)**0.16*test['기온(C)']"
   ]
  },
  {
   "cell_type": "code",
   "execution_count": null,
   "metadata": {},
   "outputs": [],
   "source": []
  },
  {
   "cell_type": "code",
   "execution_count": 11,
   "metadata": {},
   "outputs": [],
   "source": [
    "no_work_day = train.groupby(['건물번호', '건물유형','month', 'day']).agg({'전력소비량(kWh)':['mean','max']}).reset_index()\n",
    "no_work_day.columns = ['건물번호', '건물유형','month', 'day', 'khw_mean', 'khw_max']\n",
    "total_mean = no_work_day[no_work_day['건물유형'].isin(['백화점및아울렛','할인마트'])].groupby(['건물번호']).khw_mean.mean().reset_index().rename(columns={'khw_mean':'b_mean'})\n",
    "\n",
    "no_work_day = no_work_day.merge(total_mean, on='건물번호')\n",
    "no_work_day.loc[no_work_day.b_mean > no_work_day.khw_max, '백화점휴무일'] = 1\n",
    "\n",
    "train = train.merge(no_work_day[['건물번호', '건물유형','month', 'day', '백화점휴무일']], on=['건물번호', '건물유형','month', 'day'], how='left')\n",
    "train['백화점휴무일'] = train['백화점휴무일'].fillna(0).astype(int)\n",
    "test['백화점휴무일'] = 0"
   ]
  },
  {
   "cell_type": "code",
   "execution_count": null,
   "metadata": {},
   "outputs": [],
   "source": []
  },
  {
   "cell_type": "code",
   "execution_count": 12,
   "metadata": {},
   "outputs": [],
   "source": [
    "train.drop( train[(train['건물번호'].isin([1,16])) & (train['month'] == 6)].index, inplace=True)"
   ]
  },
  {
   "cell_type": "code",
   "execution_count": null,
   "metadata": {},
   "outputs": [],
   "source": []
  },
  {
   "cell_type": "code",
   "execution_count": 13,
   "metadata": {},
   "outputs": [
    {
     "data": {
      "text/plain": [
       "((202530, 27), (16800, 24))"
      ]
     },
     "execution_count": 13,
     "metadata": {},
     "output_type": "execute_result"
    }
   ],
   "source": [
    "from feature_engine.creation import CyclicalFeatures\n",
    "cf = CyclicalFeatures()\n",
    "col = ['time', '기온(C)']\n",
    "train = pd.concat([train, cf.fit_transform(train[col]).drop(col, axis=1)], axis=1)\n",
    "test = pd.concat([test, cf.fit_transform(test[col]).drop(col, axis=1)], axis=1)\n",
    "train.shape, test.shape"
   ]
  },
  {
   "cell_type": "code",
   "execution_count": 14,
   "metadata": {},
   "outputs": [
    {
     "data": {
      "text/plain": [
       "((202530, 35), (16800, 32))"
      ]
     },
     "execution_count": 14,
     "metadata": {},
     "output_type": "execute_result"
    }
   ],
   "source": [
    "from sklearn.preprocessing import SplineTransformer\n",
    "spline = SplineTransformer(degree=2, n_knots=3)\n",
    "col = ['풍속(m/s)','냉방면적(m2)']\n",
    "train = pd.concat([train.reset_index(drop=True), pd.DataFrame(spline.fit_transform(train[col])).reset_index(drop=True)], axis=1)\n",
    "test = pd.concat([test.reset_index(drop=True), pd.DataFrame(spline.fit_transform(test[col])).reset_index(drop=True)], axis=1)\n",
    "\n",
    "train.shape, test.shape"
   ]
  },
  {
   "cell_type": "code",
   "execution_count": null,
   "metadata": {},
   "outputs": [],
   "source": []
  },
  {
   "cell_type": "code",
   "execution_count": null,
   "metadata": {},
   "outputs": [],
   "source": []
  },
  {
   "cell_type": "code",
   "execution_count": 15,
   "metadata": {
    "colab": {
     "base_uri": "https://localhost:8080/"
    },
    "executionInfo": {
     "elapsed": 4,
     "status": "ok",
     "timestamp": 1689582027986,
     "user": {
      "displayName": "김상화",
      "userId": "01180527613373969793"
     },
     "user_tz": -540
    },
    "id": "1MsnmAAA3VfI",
    "outputId": "10e4fae3-5c68-45d5-8d86-4a264a96d42e"
   },
   "outputs": [
    {
     "name": "stdout",
     "output_type": "stream",
     "text": [
      "(185730, 30) (16800, 30) (185730,) (16800,)\n"
     ]
    }
   ],
   "source": [
    "days = [18, 19, 20, 21, 22, 23, 24]\n",
    "\n",
    "X_train = train[~((train['month'] == 8) & (train['day'].isin(days)))].drop(columns=['num_date_time', '일시', '일조(hr)', '일사(MJ/m2)', '전력소비량(kWh)'])\n",
    "y_train = train[~((train['month'] == 8) & (train['day'].isin(days)))]['전력소비량(kWh)']\n",
    "\n",
    "X_test = train[(train['month'] == 8) & (train['day'].isin(days))].drop(columns=['num_date_time', '일시', '일조(hr)', '일사(MJ/m2)', '전력소비량(kWh)'])\n",
    "y_test = train[(train['month'] == 8) & (train['day'].isin(days))]['전력소비량(kWh)']\n",
    "\n",
    "\n",
    "print(X_train.shape, X_test.shape, y_train.shape, y_test.shape)"
   ]
  },
  {
   "cell_type": "code",
   "execution_count": 16,
   "metadata": {},
   "outputs": [],
   "source": [
    "#결측값을 0으로 채웁니다\n",
    "X_train = X_train.fillna(0)\n",
    "X_test = X_test.fillna(0)"
   ]
  },
  {
   "cell_type": "markdown",
   "metadata": {
    "id": "S93RH2uojmmh"
   },
   "source": [
    "## Regression Model Fit"
   ]
  },
  {
   "cell_type": "code",
   "execution_count": 17,
   "metadata": {},
   "outputs": [],
   "source": [
    "#!pip install optuna\n",
    "import optuna"
   ]
  },
  {
   "cell_type": "code",
   "execution_count": 18,
   "metadata": {},
   "outputs": [],
   "source": [
    "def objective(trial):\n",
    "    params = {\n",
    "        \"random_state\": 42,\n",
    "        \"n_estimators\": trial.suggest_int(\"n_estimators\", 70, 120),\n",
    "        \"objective\": \"reg:absoluteerror\"\n",
    "    }\n",
    "    \n",
    "    model = XGBRegressor(**params)\n",
    "    model.set_params(**{'objective':smape_model()})\n",
    "    model.fit(temp_X_train, temp_y_train)\n",
    "    y_preds = model.predict(temp_X_test)\n",
    "    return smape(temp_y_test, y_preds)"
   ]
  },
  {
   "cell_type": "code",
   "execution_count": 19,
   "metadata": {
    "scrolled": true
   },
   "outputs": [
    {
     "name": "stderr",
     "output_type": "stream",
     "text": [
      "[I 2023-08-26 20:31:56,082] A new study created in memory with name: no-name-c48f1e0c-fb6f-4aa9-a41e-1fd9ba9b880c\n",
      "[I 2023-08-26 20:31:59,759] Trial 0 finished with value: 8.525670693166163 and parameters: {'n_estimators': 99}. Best is trial 0 with value: 8.525670693166163.\n",
      "[I 2023-08-26 20:32:03,159] Trial 1 finished with value: 8.44534823328817 and parameters: {'n_estimators': 117}. Best is trial 1 with value: 8.44534823328817.\n",
      "[I 2023-08-26 20:32:05,589] Trial 2 finished with value: 8.538652277580432 and parameters: {'n_estimators': 92}. Best is trial 1 with value: 8.44534823328817.\n",
      "[I 2023-08-26 20:32:08,042] Trial 3 finished with value: 8.564262074447388 and parameters: {'n_estimators': 96}. Best is trial 1 with value: 8.44534823328817.\n",
      "[I 2023-08-26 20:32:10,103] Trial 4 finished with value: 8.516029135257797 and parameters: {'n_estimators': 73}. Best is trial 1 with value: 8.44534823328817.\n",
      "[I 2023-08-26 20:32:12,932] Trial 5 finished with value: 8.503156505930233 and parameters: {'n_estimators': 111}. Best is trial 1 with value: 8.44534823328817.\n",
      "[I 2023-08-26 20:32:16,012] Trial 6 finished with value: 8.506164274556642 and parameters: {'n_estimators': 109}. Best is trial 1 with value: 8.44534823328817.\n",
      "[I 2023-08-26 20:32:17,854] Trial 7 finished with value: 8.51871724938529 and parameters: {'n_estimators': 71}. Best is trial 1 with value: 8.44534823328817.\n",
      "[I 2023-08-26 20:32:20,593] Trial 8 finished with value: 8.531755648785918 and parameters: {'n_estimators': 101}. Best is trial 1 with value: 8.44534823328817.\n",
      "[I 2023-08-26 20:32:22,921] Trial 9 finished with value: 8.564262074447388 and parameters: {'n_estimators': 96}. Best is trial 1 with value: 8.44534823328817.\n"
     ]
    },
    {
     "name": "stdout",
     "output_type": "stream",
     "text": [
      "Wall time: 3min 41s\n"
     ]
    }
   ],
   "source": [
    "%%time \n",
    "metrics_type = pd.DataFrame()\n",
    "for i in train['건물유형'].unique():\n",
    "    temp_X_train = X_train[X_train['건물유형'] == i].drop(['건물유형'], axis=1)\n",
    "    temp_y_train = y_train.loc[temp_X_train.index]\n",
    "    temp_X_test = X_test[X_test['건물유형'] == i].drop(['건물유형'], axis=1)\n",
    "    temp_y_test = y_test.loc[temp_X_test.index]\n",
    "    \n",
    "#     model = XGBRegressor(random_state=42)\n",
    "#     model.set_params(**{'objective':smape_model()})\n",
    "#     model.fit(temp_X_train, temp_y_train)\n",
    "#     y_preds = model.predict(temp_X_test)\n",
    "    study = optuna.create_study()\n",
    "    study.optimize(objective, n_trials=10)\n",
    "    optuna.logging.set_verbosity(optuna.logging.CRITICAL)\n",
    "    temp = pd.DataFrame([i, study.best_value, study.best_trial.params]).T\n",
    "    temp.columns = ['건물유형', '유형별_score', '유형별_param']    \n",
    "#     temp = pd.DataFrame([i, smape(temp_y_test, y_preds)]).T\n",
    "#     temp.columns = ['건물유형', '유형별_score']\n",
    "    metrics_type = metrics_type.append(temp)\n",
    "#     display(temp)\n",
    "#     vis_feature_importances_(model, temp_X_train)    \n",
    "    "
   ]
  },
  {
   "cell_type": "code",
   "execution_count": null,
   "metadata": {},
   "outputs": [],
   "source": []
  },
  {
   "cell_type": "code",
   "execution_count": 20,
   "metadata": {
    "scrolled": true
   },
   "outputs": [
    {
     "name": "stdout",
     "output_type": "stream",
     "text": [
      "Wall time: 8min 33s\n"
     ]
    }
   ],
   "source": [
    "%%time \n",
    "metrics_bno = pd.DataFrame()\n",
    "for i in train['건물번호'].unique():\n",
    "\n",
    "    temp_X_train = X_train[X_train['건물번호'] == i].drop(['건물번호','건물유형'], axis=1)\n",
    "    temp_y_train = y_train.loc[temp_X_train.index]\n",
    "    temp_X_test = X_test[X_test['건물번호'] == i].drop(['건물번호','건물유형'], axis=1)\n",
    "    temp_y_test = y_test.loc[temp_X_test.index]\n",
    "        \n",
    "#     model = XGBRegressor(random_state=42)\n",
    "#     model.set_params(**{'objective':smape_model()})\n",
    "#     model.fit(temp_X_train, temp_y_train)\n",
    "#     y_preds = model.predict(temp_X_test)\n",
    "\n",
    "    study = optuna.create_study()\n",
    "    study.optimize(objective, n_trials=10)\n",
    "    optuna.logging.set_verbosity(optuna.logging.CRITICAL)\n",
    "    temp = pd.DataFrame([i, study.best_value, study.best_trial.params]).T\n",
    "    temp.columns = ['건물번호', '건물별_score', '건물별_param']\n",
    "    \n",
    "    metrics_bno = metrics_bno.append(temp)\n",
    "#     display(temp)\n",
    "#     vis_feature_importances_(model, temp_X_train)    \n",
    "#     print()"
   ]
  },
  {
   "cell_type": "code",
   "execution_count": null,
   "metadata": {},
   "outputs": [],
   "source": []
  },
  {
   "cell_type": "code",
   "execution_count": 21,
   "metadata": {},
   "outputs": [],
   "source": [
    "metrics_bno['건물번호'] = metrics_bno['건물번호'].astype(int)"
   ]
  },
  {
   "cell_type": "code",
   "execution_count": 22,
   "metadata": {},
   "outputs": [],
   "source": [
    "metrics_bno = metrics_bno.merge(building_info[['건물유형','건물번호']], on=['건물번호'])"
   ]
  },
  {
   "cell_type": "code",
   "execution_count": 23,
   "metadata": {},
   "outputs": [
    {
     "data": {
      "text/html": [
       "<div>\n",
       "<style scoped>\n",
       "    .dataframe tbody tr th:only-of-type {\n",
       "        vertical-align: middle;\n",
       "    }\n",
       "\n",
       "    .dataframe tbody tr th {\n",
       "        vertical-align: top;\n",
       "    }\n",
       "\n",
       "    .dataframe thead th {\n",
       "        text-align: right;\n",
       "    }\n",
       "</style>\n",
       "<table border=\"1\" class=\"dataframe\">\n",
       "  <thead>\n",
       "    <tr style=\"text-align: right;\">\n",
       "      <th></th>\n",
       "      <th>건물번호</th>\n",
       "      <th>건물별_score</th>\n",
       "      <th>건물별_param</th>\n",
       "      <th>건물유형</th>\n",
       "      <th>유형별_score</th>\n",
       "      <th>유형별_param</th>\n",
       "    </tr>\n",
       "  </thead>\n",
       "  <tbody>\n",
       "    <tr>\n",
       "      <th>0</th>\n",
       "      <td>1</td>\n",
       "      <td>6.186132</td>\n",
       "      <td>{'n_estimators': 72}</td>\n",
       "      <td>건물기타</td>\n",
       "      <td>8.445348</td>\n",
       "      <td>{'n_estimators': 117}</td>\n",
       "    </tr>\n",
       "    <tr>\n",
       "      <th>1</th>\n",
       "      <td>2</td>\n",
       "      <td>7.440776</td>\n",
       "      <td>{'n_estimators': 98}</td>\n",
       "      <td>건물기타</td>\n",
       "      <td>8.445348</td>\n",
       "      <td>{'n_estimators': 117}</td>\n",
       "    </tr>\n",
       "  </tbody>\n",
       "</table>\n",
       "</div>"
      ],
      "text/plain": [
       "   건물번호 건물별_score             건물별_param  건물유형 유형별_score              유형별_param\n",
       "0     1  6.186132  {'n_estimators': 72}  건물기타  8.445348  {'n_estimators': 117}\n",
       "1     2  7.440776  {'n_estimators': 98}  건물기타  8.445348  {'n_estimators': 117}"
      ]
     },
     "execution_count": 23,
     "metadata": {},
     "output_type": "execute_result"
    }
   ],
   "source": [
    "metrics = metrics_bno.merge(metrics_type, on=['건물유형'])\n",
    "metrics[:2]"
   ]
  },
  {
   "cell_type": "code",
   "execution_count": 24,
   "metadata": {},
   "outputs": [
    {
     "data": {
      "text/plain": [
       "(72,\n",
       " array([  1,   2,   4,   5,   6,   7,   8,   9,  11,  12,  15,  16,  17,\n",
       "         18,  19,  20,  21,  22,  23,  24,  25,  26,  27,  32,  33,  35,\n",
       "         37,  38,  39,  41,  42,  44,  45,  48,  49,  50,  52,  55,  56,\n",
       "         57,  58,  59,  60,  61,  62,  63,  64,  66,  68,  69,  70,  71,\n",
       "         73,  76,  77,  78,  79,  80,  81,  83,  84,  85,  86,  88,  89,\n",
       "         92,  93,  94,  96,  97,  99, 100]))"
      ]
     },
     "execution_count": 24,
     "metadata": {},
     "output_type": "execute_result"
    }
   ],
   "source": [
    "# 유형보다 건물이 더 좋은 스코어를 가지는 건물번호 list\n",
    "bno = metrics[metrics['건물별_score'] < metrics['유형별_score']]['건물번호'].values\n",
    "len(bno), bno"
   ]
  },
  {
   "cell_type": "code",
   "execution_count": 25,
   "metadata": {},
   "outputs": [
    {
     "data": {
      "text/plain": [
       "(6.0415841225848155, 5.599964981989843)"
      ]
     },
     "execution_count": 25,
     "metadata": {},
     "output_type": "execute_result"
    }
   ],
   "source": [
    "metrics_type['유형별_score'].mean(), metrics_bno['건물별_score'].mean()\n",
    "# (7.026821963284757, 6.107093822048833)"
   ]
  },
  {
   "cell_type": "code",
   "execution_count": 26,
   "metadata": {},
   "outputs": [
    {
     "data": {
      "text/plain": [
       "5.723618341356436"
      ]
     },
     "execution_count": 26,
     "metadata": {},
     "output_type": "execute_result"
    }
   ],
   "source": [
    "# 가중 평균 \n",
    "metrics_type['유형별_score'].mean() * ((100-len(bno))/100) + metrics_bno['건물별_score'].mean() * (len(bno)/100)"
   ]
  },
  {
   "cell_type": "code",
   "execution_count": null,
   "metadata": {},
   "outputs": [],
   "source": [
    "# 5.782455883802\n",
    "# 5.77847481671447 0.6"
   ]
  },
  {
   "cell_type": "code",
   "execution_count": null,
   "metadata": {},
   "outputs": [],
   "source": [
    "metrics['score'] = metrics['유형별_score'] \n",
    "metrics.loc[metrics['건물번호'].isin(bno), 'score'] = metrics['건물별_score']"
   ]
  },
  {
   "cell_type": "code",
   "execution_count": null,
   "metadata": {},
   "outputs": [],
   "source": [
    "metrics['건물이낫다'] = metrics['건물별_score'] < metrics['유형별_score']"
   ]
  },
  {
   "cell_type": "code",
   "execution_count": null,
   "metadata": {},
   "outputs": [],
   "source": [
    "# metrics.to_excel('오차큰것부터_20230810-3.xlsx')"
   ]
  },
  {
   "cell_type": "markdown",
   "metadata": {
    "id": "X7-NGb-0j4K_"
   },
   "source": [
    "## Inference & Submit"
   ]
  },
  {
   "cell_type": "code",
   "execution_count": 25,
   "metadata": {},
   "outputs": [
    {
     "name": "stdout",
     "output_type": "stream",
     "text": [
      "Wall time: 11.6 s\n"
     ]
    },
    {
     "data": {
      "text/plain": [
       "(16800, 35)"
      ]
     },
     "execution_count": 25,
     "metadata": {},
     "output_type": "execute_result"
    }
   ],
   "source": [
    "%%time\n",
    "result_type = pd.DataFrame()\n",
    "for i in train['건물유형'].unique():\n",
    "    \n",
    "    temp_X_train = train[train['건물유형'] == i].drop(['건물유형','num_date_time', '일시', '일조(hr)', '일사(MJ/m2)', '전력소비량(kWh)'], axis=1)\n",
    "    temp_y_train = train.loc[temp_X_train.index][['전력소비량(kWh)']]\n",
    "    \n",
    "    model = XGBRegressor(n_estimators=metrics_type[metrics_type['건물유형'] == i]['유형별_param'][0]['n_estimators'],random_state=42)\n",
    "    model.set_params(**{'objective':smape_model()})\n",
    "    \n",
    "    model.fit(temp_X_train, temp_y_train)\n",
    "                                                 \n",
    "    temp_test = test[test['건물유형'] == i].drop(['건물유형','num_date_time', '일시'], axis=1)\n",
    "    y_preds = model.predict(temp_test)\n",
    "    result_type = result_type.append( pd.concat([test[test['건물유형'] == i].reset_index(), pd.DataFrame(y_preds, columns=['answer_유형별']).reset_index()], axis=1) )\n",
    "    \n",
    "result_type.shape    "
   ]
  },
  {
   "cell_type": "code",
   "execution_count": 26,
   "metadata": {},
   "outputs": [
    {
     "name": "stdout",
     "output_type": "stream",
     "text": [
      "Wall time: 23.4 s\n"
     ]
    },
    {
     "data": {
      "text/plain": [
       "(16800, 35)"
      ]
     },
     "execution_count": 26,
     "metadata": {},
     "output_type": "execute_result"
    }
   ],
   "source": [
    "%%time\n",
    "result_bno = pd.DataFrame()\n",
    "for i in train['건물번호'].unique():\n",
    "    \n",
    "    temp_X_train = train[train['건물번호'] == i].drop(['건물번호','건물유형','num_date_time', '일시', '일조(hr)', '일사(MJ/m2)', '전력소비량(kWh)'], axis=1)\n",
    "    temp_y_train = train.loc[temp_X_train.index][['전력소비량(kWh)']]\n",
    "    \n",
    "    model = XGBRegressor(n_estimators=metrics_bno[metrics_bno['건물번호'] == i]['건물별_param'].values[0]['n_estimators'], random_state=42)\n",
    "    model.set_params(**{'objective':smape_model()})\n",
    "    \n",
    "    model.fit(temp_X_train, temp_y_train)\n",
    "                                                 \n",
    "    temp_test = test[test['건물번호'] == i].drop(['건물번호','건물유형','num_date_time', '일시'], axis=1)\n",
    "    y_preds = model.predict(temp_test)\n",
    "    result_bno = result_bno.append( pd.concat([test[test['건물번호'] == i].reset_index(), pd.DataFrame(y_preds, columns=['answer_건물별']).reset_index()], axis=1) )\n",
    "    \n",
    "result_bno.shape    "
   ]
  },
  {
   "cell_type": "code",
   "execution_count": null,
   "metadata": {},
   "outputs": [],
   "source": []
  },
  {
   "cell_type": "code",
   "execution_count": null,
   "metadata": {},
   "outputs": [],
   "source": []
  },
  {
   "cell_type": "code",
   "execution_count": 27,
   "metadata": {},
   "outputs": [],
   "source": [
    "result = result_type[['num_date_time','건물번호','answer_유형별','weekday', 'time']].merge(result_bno[['num_date_time','건물번호','answer_건물별']], on=['num_date_time','건물번호'])\n",
    "result['answer'] = result['answer_유형별'] \n",
    "result.loc[result['건물번호'].isin(bno), 'answer'] = result['answer_건물별']\n",
    "\n",
    "# 후처리 \n",
    "postprocessing = train.groupby(['건물번호', 'weekday','time'])['전력소비량(kWh)'].min().reset_index()\n",
    "result = result.merge(postprocessing, on=['건물번호', 'weekday','time'])\n",
    "result.loc[result['answer'] < result['전력소비량(kWh)'], 'answer'] = result['전력소비량(kWh)']\n",
    "\n",
    "result[['num_date_time','answer']].to_csv('20230826-1_x.csv', index=False)"
   ]
  },
  {
   "cell_type": "code",
   "execution_count": null,
   "metadata": {},
   "outputs": [],
   "source": []
  }
 ],
 "metadata": {
  "colab": {
   "provenance": []
  },
  "kernelspec": {
   "display_name": "Python 3",
   "language": "python",
   "name": "python3"
  },
  "language_info": {
   "codemirror_mode": {
    "name": "ipython",
    "version": 3
   },
   "file_extension": ".py",
   "mimetype": "text/x-python",
   "name": "python",
   "nbconvert_exporter": "python",
   "pygments_lexer": "ipython3",
   "version": "3.7.6"
  }
 },
 "nbformat": 4,
 "nbformat_minor": 1
}
