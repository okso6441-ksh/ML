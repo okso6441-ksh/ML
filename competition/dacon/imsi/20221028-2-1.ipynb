{
 "cells": [
  {
   "cell_type": "code",
   "execution_count": 1,
   "metadata": {},
   "outputs": [],
   "source": [
    "import pandas as pd\n",
    "import numpy as np\n",
    "from sklearn.preprocessing import LabelEncoder\n",
    "from haversine import haversine\n",
    "import re\n",
    "import gc\n",
    "from sklearn.metrics import mean_absolute_error\n",
    "\n",
    "import lightgbm as lgb\n",
    "import xgboost\n",
    "\n",
    "import matplotlib.pyplot as plt\n",
    "import seaborn as sns"
   ]
  },
  {
   "cell_type": "markdown",
   "metadata": {},
   "source": [
    "## data load"
   ]
  },
  {
   "cell_type": "code",
   "execution_count": 2,
   "metadata": {},
   "outputs": [
    {
     "name": "stdout",
     "output_type": "stream",
     "text": [
      "(274695, 23) (291241, 22)\n"
     ]
    }
   ],
   "source": [
    "train = pd.read_parquet('./train07.parquet') # 7월 only \n",
    "test = pd.read_parquet('./test.parquet')\n",
    "print(train.shape, test.shape)"
   ]
  },
  {
   "cell_type": "markdown",
   "metadata": {},
   "source": [
    "## 데이터 전처리"
   ]
  },
  {
   "cell_type": "markdown",
   "metadata": {},
   "source": [
    "### base_date\n",
    "train_base_date_df = train.groupby(['base_date','road_name']).count()[['id']].reset_index()\n",
    "test_base_date_df = test.groupby(['base_date','road_name']).count()[['id']].reset_index()\n",
    "\n",
    "train_base_date_df.columns = ['base_date','road_name','base_date_cnt']\n",
    "test_base_date_df.columns = ['base_date','road_name','base_date_cnt']\n",
    "\n",
    "train = train.merge(train_base_date_df, how='inner', on=['base_date','road_name'])\n",
    "test = test.merge(test_base_date_df, how='inner', on=['base_date','road_name'])"
   ]
  },
  {
   "cell_type": "code",
   "execution_count": 3,
   "metadata": {},
   "outputs": [
    {
     "name": "stdout",
     "output_type": "stream",
     "text": [
      "Wall time: 0 ns\n"
     ]
    }
   ],
   "source": [
    "# 위경도로 거리 도출\n",
    "%time\n",
    "train[\"distance\"] = train[[\"start_latitude\", \"start_longitude\", \"end_latitude\", \"end_longitude\"]].apply(lambda x: haversine((x[0], x[1]), (x[2], x[3])), axis=\"columns\")\n",
    "test[\"distance\"] = test[[\"start_latitude\", \"start_longitude\", \"end_latitude\", \"end_longitude\"]].apply(lambda x: haversine((x[0], x[1]), (x[2], x[3])), axis=\"columns\")"
   ]
  },
  {
   "cell_type": "code",
   "execution_count": 4,
   "metadata": {},
   "outputs": [],
   "source": [
    "import math\n",
    "def truncate(number, digits) -> float:\n",
    "    # Improve accuracy with floating point operations, to avoid truncate(16.4, 2) = 16.39 or truncate(-1.13, 2) = -1.12\n",
    "    nbDecimals = len(str(number).split('.')[1]) \n",
    "    if nbDecimals <= digits:\n",
    "        return number\n",
    "    stepper = 10.0 ** digits\n",
    "    return math.trunc(stepper * number) / stepper"
   ]
  },
  {
   "cell_type": "code",
   "execution_count": 10,
   "metadata": {},
   "outputs": [],
   "source": [
    "num = 1 # num 0~2까지 해봄 \n",
    "cols = ['start_node_name'] # 'start_latitude','start_longitude', 'end_latitude','end_longitude'\n",
    "# 'start_node_name', 'end_node_name', 'road_name'\n",
    "# for c in cols:\n",
    "#     train[c] = list(map(lambda x: truncate(x,num), train[c]))\n",
    "#     test[c] = list(map(lambda x: truncate(x,num), test[c]))\n",
    "    \n",
    "train_dist = train.groupby(['base_date','base_hour'] + cols).agg({'id':'count', 'lane_count':'max'})\n",
    "test_dist = test.groupby(['base_date','base_hour'] + cols).agg({'id':'count', 'lane_count':'max'})    \n",
    "\n",
    "train_dist['dist_cnt'] = list(map(lambda x: truncate(x,num)*-1, train_dist['id'] / train_dist['lane_count']))\n",
    "test_dist['dist_cnt'] = list(map(lambda x: truncate(x,num)*-1, test_dist['id'] / test_dist['lane_count']))\n",
    "\n",
    "train_dist = train_dist.drop(['id', 'lane_count'], axis=1)\n",
    "test_dist = test_dist.drop(['id', 'lane_count'], axis=1)\n",
    "\n",
    "train_dist = train_dist.reset_index()\n",
    "test_dist = test_dist.reset_index()\n",
    "\n",
    "train = train.merge(train_dist, on=['base_date','base_hour']+cols)\n",
    "test = test.merge(test_dist, on=['base_date','base_hour']+cols)"
   ]
  },
  {
   "cell_type": "code",
   "execution_count": 11,
   "metadata": {},
   "outputs": [],
   "source": [
    "# label encoding \n",
    "str_col = ['day_of_week', 'start_turn_restricted','end_turn_restricted'\n",
    "          ]   \n",
    "for i in str_col:\n",
    "    le = LabelEncoder()\n",
    "    le=le.fit(train[i])\n",
    "    train[i]=le.transform(train[i])\n",
    "    \n",
    "    for label in np.unique(test[i]):\n",
    "        if label not in le.classes_: \n",
    "            le.classes_ = np.append(le.classes_, label)\n",
    "    test[i]=le.transform(test[i])"
   ]
  },
  {
   "cell_type": "code",
   "execution_count": null,
   "metadata": {},
   "outputs": [],
   "source": []
  },
  {
   "cell_type": "code",
   "execution_count": null,
   "metadata": {},
   "outputs": [],
   "source": []
  },
  {
   "cell_type": "code",
   "execution_count": 12,
   "metadata": {},
   "outputs": [],
   "source": [
    "# one-hot\n",
    "cols = ['road_type', 'start_turn_restricted', 'end_turn_restricted', 'lane_count', 'road_rating','weight_restricted', 'day_of_week'\n",
    "       ]  \n",
    "\n",
    "train = pd.get_dummies(train, prefix_sep='_', sparse=False, drop_first=True, columns = cols)\n",
    "test = pd.get_dummies(test, prefix_sep='_', sparse=False, drop_first=True, columns = cols)"
   ]
  },
  {
   "cell_type": "code",
   "execution_count": null,
   "metadata": {},
   "outputs": [],
   "source": []
  },
  {
   "cell_type": "code",
   "execution_count": 13,
   "metadata": {},
   "outputs": [],
   "source": [
    "# del \n",
    "del_cols = ['id', 'connect_code','height_restricted','vehicle_restricted'\n",
    "            , 'start_node_name', 'end_node_name', 'road_name'\n",
    "           ]  # , 'start_node_name', \n",
    "train = train.drop(del_cols, axis=1)\n",
    "test = test.drop(del_cols, axis=1)"
   ]
  },
  {
   "cell_type": "code",
   "execution_count": null,
   "metadata": {},
   "outputs": [],
   "source": []
  },
  {
   "cell_type": "markdown",
   "metadata": {},
   "source": [
    "## 모델링"
   ]
  },
  {
   "cell_type": "code",
   "execution_count": 14,
   "metadata": {},
   "outputs": [
    {
     "data": {
      "text/plain": [
       "104"
      ]
     },
     "execution_count": 14,
     "metadata": {},
     "output_type": "execute_result"
    }
   ],
   "source": [
    "gc.collect()"
   ]
  },
  {
   "cell_type": "code",
   "execution_count": 15,
   "metadata": {},
   "outputs": [],
   "source": [
    "from pycaret.regression import *"
   ]
  },
  {
   "cell_type": "code",
   "execution_count": 16,
   "metadata": {},
   "outputs": [
    {
     "data": {
      "text/html": [
       "<style  type=\"text/css\" >\n",
       "</style><table id=\"T_d9fc0ea2_56c1_11ed_92ef_00a20190418d\" ><thead>    <tr>        <th class=\"blank level0\" ></th>        <th class=\"col_heading level0 col0\" >Description</th>        <th class=\"col_heading level0 col1\" >Value</th>    </tr></thead><tbody>\n",
       "                <tr>\n",
       "                        <th id=\"T_d9fc0ea2_56c1_11ed_92ef_00a20190418dlevel0_row0\" class=\"row_heading level0 row0\" >0</th>\n",
       "                        <td id=\"T_d9fc0ea2_56c1_11ed_92ef_00a20190418drow0_col0\" class=\"data row0 col0\" >session_id</td>\n",
       "                        <td id=\"T_d9fc0ea2_56c1_11ed_92ef_00a20190418drow0_col1\" class=\"data row0 col1\" >42</td>\n",
       "            </tr>\n",
       "            <tr>\n",
       "                        <th id=\"T_d9fc0ea2_56c1_11ed_92ef_00a20190418dlevel0_row1\" class=\"row_heading level0 row1\" >1</th>\n",
       "                        <td id=\"T_d9fc0ea2_56c1_11ed_92ef_00a20190418drow1_col0\" class=\"data row1 col0\" >Target</td>\n",
       "                        <td id=\"T_d9fc0ea2_56c1_11ed_92ef_00a20190418drow1_col1\" class=\"data row1 col1\" >target</td>\n",
       "            </tr>\n",
       "            <tr>\n",
       "                        <th id=\"T_d9fc0ea2_56c1_11ed_92ef_00a20190418dlevel0_row2\" class=\"row_heading level0 row2\" >2</th>\n",
       "                        <td id=\"T_d9fc0ea2_56c1_11ed_92ef_00a20190418drow2_col0\" class=\"data row2 col0\" >Original Data</td>\n",
       "                        <td id=\"T_d9fc0ea2_56c1_11ed_92ef_00a20190418drow2_col1\" class=\"data row2 col1\" >(274695, 27)</td>\n",
       "            </tr>\n",
       "            <tr>\n",
       "                        <th id=\"T_d9fc0ea2_56c1_11ed_92ef_00a20190418dlevel0_row3\" class=\"row_heading level0 row3\" >3</th>\n",
       "                        <td id=\"T_d9fc0ea2_56c1_11ed_92ef_00a20190418drow3_col0\" class=\"data row3 col0\" >Missing Values</td>\n",
       "                        <td id=\"T_d9fc0ea2_56c1_11ed_92ef_00a20190418drow3_col1\" class=\"data row3 col1\" >False</td>\n",
       "            </tr>\n",
       "            <tr>\n",
       "                        <th id=\"T_d9fc0ea2_56c1_11ed_92ef_00a20190418dlevel0_row4\" class=\"row_heading level0 row4\" >4</th>\n",
       "                        <td id=\"T_d9fc0ea2_56c1_11ed_92ef_00a20190418drow4_col0\" class=\"data row4 col0\" >Numeric Features</td>\n",
       "                        <td id=\"T_d9fc0ea2_56c1_11ed_92ef_00a20190418drow4_col1\" class=\"data row4 col1\" >25</td>\n",
       "            </tr>\n",
       "            <tr>\n",
       "                        <th id=\"T_d9fc0ea2_56c1_11ed_92ef_00a20190418dlevel0_row5\" class=\"row_heading level0 row5\" >5</th>\n",
       "                        <td id=\"T_d9fc0ea2_56c1_11ed_92ef_00a20190418drow5_col0\" class=\"data row5 col0\" >Categorical Features</td>\n",
       "                        <td id=\"T_d9fc0ea2_56c1_11ed_92ef_00a20190418drow5_col1\" class=\"data row5 col1\" >1</td>\n",
       "            </tr>\n",
       "            <tr>\n",
       "                        <th id=\"T_d9fc0ea2_56c1_11ed_92ef_00a20190418dlevel0_row6\" class=\"row_heading level0 row6\" >6</th>\n",
       "                        <td id=\"T_d9fc0ea2_56c1_11ed_92ef_00a20190418drow6_col0\" class=\"data row6 col0\" >Ordinal Features</td>\n",
       "                        <td id=\"T_d9fc0ea2_56c1_11ed_92ef_00a20190418drow6_col1\" class=\"data row6 col1\" >False</td>\n",
       "            </tr>\n",
       "            <tr>\n",
       "                        <th id=\"T_d9fc0ea2_56c1_11ed_92ef_00a20190418dlevel0_row7\" class=\"row_heading level0 row7\" >7</th>\n",
       "                        <td id=\"T_d9fc0ea2_56c1_11ed_92ef_00a20190418drow7_col0\" class=\"data row7 col0\" >High Cardinality Features</td>\n",
       "                        <td id=\"T_d9fc0ea2_56c1_11ed_92ef_00a20190418drow7_col1\" class=\"data row7 col1\" >False</td>\n",
       "            </tr>\n",
       "            <tr>\n",
       "                        <th id=\"T_d9fc0ea2_56c1_11ed_92ef_00a20190418dlevel0_row8\" class=\"row_heading level0 row8\" >8</th>\n",
       "                        <td id=\"T_d9fc0ea2_56c1_11ed_92ef_00a20190418drow8_col0\" class=\"data row8 col0\" >High Cardinality Method</td>\n",
       "                        <td id=\"T_d9fc0ea2_56c1_11ed_92ef_00a20190418drow8_col1\" class=\"data row8 col1\" >None</td>\n",
       "            </tr>\n",
       "            <tr>\n",
       "                        <th id=\"T_d9fc0ea2_56c1_11ed_92ef_00a20190418dlevel0_row9\" class=\"row_heading level0 row9\" >9</th>\n",
       "                        <td id=\"T_d9fc0ea2_56c1_11ed_92ef_00a20190418drow9_col0\" class=\"data row9 col0\" >Transformed Train Set</td>\n",
       "                        <td id=\"T_d9fc0ea2_56c1_11ed_92ef_00a20190418drow9_col1\" class=\"data row9 col1\" >(192286, 24)</td>\n",
       "            </tr>\n",
       "            <tr>\n",
       "                        <th id=\"T_d9fc0ea2_56c1_11ed_92ef_00a20190418dlevel0_row10\" class=\"row_heading level0 row10\" >10</th>\n",
       "                        <td id=\"T_d9fc0ea2_56c1_11ed_92ef_00a20190418drow10_col0\" class=\"data row10 col0\" >Transformed Test Set</td>\n",
       "                        <td id=\"T_d9fc0ea2_56c1_11ed_92ef_00a20190418drow10_col1\" class=\"data row10 col1\" >(82409, 24)</td>\n",
       "            </tr>\n",
       "            <tr>\n",
       "                        <th id=\"T_d9fc0ea2_56c1_11ed_92ef_00a20190418dlevel0_row11\" class=\"row_heading level0 row11\" >11</th>\n",
       "                        <td id=\"T_d9fc0ea2_56c1_11ed_92ef_00a20190418drow11_col0\" class=\"data row11 col0\" >Shuffle Train-Test</td>\n",
       "                        <td id=\"T_d9fc0ea2_56c1_11ed_92ef_00a20190418drow11_col1\" class=\"data row11 col1\" >True</td>\n",
       "            </tr>\n",
       "            <tr>\n",
       "                        <th id=\"T_d9fc0ea2_56c1_11ed_92ef_00a20190418dlevel0_row12\" class=\"row_heading level0 row12\" >12</th>\n",
       "                        <td id=\"T_d9fc0ea2_56c1_11ed_92ef_00a20190418drow12_col0\" class=\"data row12 col0\" >Stratify Train-Test</td>\n",
       "                        <td id=\"T_d9fc0ea2_56c1_11ed_92ef_00a20190418drow12_col1\" class=\"data row12 col1\" >False</td>\n",
       "            </tr>\n",
       "            <tr>\n",
       "                        <th id=\"T_d9fc0ea2_56c1_11ed_92ef_00a20190418dlevel0_row13\" class=\"row_heading level0 row13\" >13</th>\n",
       "                        <td id=\"T_d9fc0ea2_56c1_11ed_92ef_00a20190418drow13_col0\" class=\"data row13 col0\" >Fold Generator</td>\n",
       "                        <td id=\"T_d9fc0ea2_56c1_11ed_92ef_00a20190418drow13_col1\" class=\"data row13 col1\" >KFold</td>\n",
       "            </tr>\n",
       "            <tr>\n",
       "                        <th id=\"T_d9fc0ea2_56c1_11ed_92ef_00a20190418dlevel0_row14\" class=\"row_heading level0 row14\" >14</th>\n",
       "                        <td id=\"T_d9fc0ea2_56c1_11ed_92ef_00a20190418drow14_col0\" class=\"data row14 col0\" >Fold Number</td>\n",
       "                        <td id=\"T_d9fc0ea2_56c1_11ed_92ef_00a20190418drow14_col1\" class=\"data row14 col1\" >10</td>\n",
       "            </tr>\n",
       "            <tr>\n",
       "                        <th id=\"T_d9fc0ea2_56c1_11ed_92ef_00a20190418dlevel0_row15\" class=\"row_heading level0 row15\" >15</th>\n",
       "                        <td id=\"T_d9fc0ea2_56c1_11ed_92ef_00a20190418drow15_col0\" class=\"data row15 col0\" >CPU Jobs</td>\n",
       "                        <td id=\"T_d9fc0ea2_56c1_11ed_92ef_00a20190418drow15_col1\" class=\"data row15 col1\" >-1</td>\n",
       "            </tr>\n",
       "            <tr>\n",
       "                        <th id=\"T_d9fc0ea2_56c1_11ed_92ef_00a20190418dlevel0_row16\" class=\"row_heading level0 row16\" >16</th>\n",
       "                        <td id=\"T_d9fc0ea2_56c1_11ed_92ef_00a20190418drow16_col0\" class=\"data row16 col0\" >Use GPU</td>\n",
       "                        <td id=\"T_d9fc0ea2_56c1_11ed_92ef_00a20190418drow16_col1\" class=\"data row16 col1\" >False</td>\n",
       "            </tr>\n",
       "            <tr>\n",
       "                        <th id=\"T_d9fc0ea2_56c1_11ed_92ef_00a20190418dlevel0_row17\" class=\"row_heading level0 row17\" >17</th>\n",
       "                        <td id=\"T_d9fc0ea2_56c1_11ed_92ef_00a20190418drow17_col0\" class=\"data row17 col0\" >Log Experiment</td>\n",
       "                        <td id=\"T_d9fc0ea2_56c1_11ed_92ef_00a20190418drow17_col1\" class=\"data row17 col1\" >False</td>\n",
       "            </tr>\n",
       "            <tr>\n",
       "                        <th id=\"T_d9fc0ea2_56c1_11ed_92ef_00a20190418dlevel0_row18\" class=\"row_heading level0 row18\" >18</th>\n",
       "                        <td id=\"T_d9fc0ea2_56c1_11ed_92ef_00a20190418drow18_col0\" class=\"data row18 col0\" >Experiment Name</td>\n",
       "                        <td id=\"T_d9fc0ea2_56c1_11ed_92ef_00a20190418drow18_col1\" class=\"data row18 col1\" >reg-default-name</td>\n",
       "            </tr>\n",
       "            <tr>\n",
       "                        <th id=\"T_d9fc0ea2_56c1_11ed_92ef_00a20190418dlevel0_row19\" class=\"row_heading level0 row19\" >19</th>\n",
       "                        <td id=\"T_d9fc0ea2_56c1_11ed_92ef_00a20190418drow19_col0\" class=\"data row19 col0\" >USI</td>\n",
       "                        <td id=\"T_d9fc0ea2_56c1_11ed_92ef_00a20190418drow19_col1\" class=\"data row19 col1\" >430c</td>\n",
       "            </tr>\n",
       "            <tr>\n",
       "                        <th id=\"T_d9fc0ea2_56c1_11ed_92ef_00a20190418dlevel0_row20\" class=\"row_heading level0 row20\" >20</th>\n",
       "                        <td id=\"T_d9fc0ea2_56c1_11ed_92ef_00a20190418drow20_col0\" class=\"data row20 col0\" >Imputation Type</td>\n",
       "                        <td id=\"T_d9fc0ea2_56c1_11ed_92ef_00a20190418drow20_col1\" class=\"data row20 col1\" >simple</td>\n",
       "            </tr>\n",
       "            <tr>\n",
       "                        <th id=\"T_d9fc0ea2_56c1_11ed_92ef_00a20190418dlevel0_row21\" class=\"row_heading level0 row21\" >21</th>\n",
       "                        <td id=\"T_d9fc0ea2_56c1_11ed_92ef_00a20190418drow21_col0\" class=\"data row21 col0\" >Iterative Imputation Iteration</td>\n",
       "                        <td id=\"T_d9fc0ea2_56c1_11ed_92ef_00a20190418drow21_col1\" class=\"data row21 col1\" >None</td>\n",
       "            </tr>\n",
       "            <tr>\n",
       "                        <th id=\"T_d9fc0ea2_56c1_11ed_92ef_00a20190418dlevel0_row22\" class=\"row_heading level0 row22\" >22</th>\n",
       "                        <td id=\"T_d9fc0ea2_56c1_11ed_92ef_00a20190418drow22_col0\" class=\"data row22 col0\" >Numeric Imputer</td>\n",
       "                        <td id=\"T_d9fc0ea2_56c1_11ed_92ef_00a20190418drow22_col1\" class=\"data row22 col1\" >mean</td>\n",
       "            </tr>\n",
       "            <tr>\n",
       "                        <th id=\"T_d9fc0ea2_56c1_11ed_92ef_00a20190418dlevel0_row23\" class=\"row_heading level0 row23\" >23</th>\n",
       "                        <td id=\"T_d9fc0ea2_56c1_11ed_92ef_00a20190418drow23_col0\" class=\"data row23 col0\" >Iterative Imputation Numeric Model</td>\n",
       "                        <td id=\"T_d9fc0ea2_56c1_11ed_92ef_00a20190418drow23_col1\" class=\"data row23 col1\" >None</td>\n",
       "            </tr>\n",
       "            <tr>\n",
       "                        <th id=\"T_d9fc0ea2_56c1_11ed_92ef_00a20190418dlevel0_row24\" class=\"row_heading level0 row24\" >24</th>\n",
       "                        <td id=\"T_d9fc0ea2_56c1_11ed_92ef_00a20190418drow24_col0\" class=\"data row24 col0\" >Categorical Imputer</td>\n",
       "                        <td id=\"T_d9fc0ea2_56c1_11ed_92ef_00a20190418drow24_col1\" class=\"data row24 col1\" >constant</td>\n",
       "            </tr>\n",
       "            <tr>\n",
       "                        <th id=\"T_d9fc0ea2_56c1_11ed_92ef_00a20190418dlevel0_row25\" class=\"row_heading level0 row25\" >25</th>\n",
       "                        <td id=\"T_d9fc0ea2_56c1_11ed_92ef_00a20190418drow25_col0\" class=\"data row25 col0\" >Iterative Imputation Categorical Model</td>\n",
       "                        <td id=\"T_d9fc0ea2_56c1_11ed_92ef_00a20190418drow25_col1\" class=\"data row25 col1\" >None</td>\n",
       "            </tr>\n",
       "            <tr>\n",
       "                        <th id=\"T_d9fc0ea2_56c1_11ed_92ef_00a20190418dlevel0_row26\" class=\"row_heading level0 row26\" >26</th>\n",
       "                        <td id=\"T_d9fc0ea2_56c1_11ed_92ef_00a20190418drow26_col0\" class=\"data row26 col0\" >Unknown Categoricals Handling</td>\n",
       "                        <td id=\"T_d9fc0ea2_56c1_11ed_92ef_00a20190418drow26_col1\" class=\"data row26 col1\" >least_frequent</td>\n",
       "            </tr>\n",
       "            <tr>\n",
       "                        <th id=\"T_d9fc0ea2_56c1_11ed_92ef_00a20190418dlevel0_row27\" class=\"row_heading level0 row27\" >27</th>\n",
       "                        <td id=\"T_d9fc0ea2_56c1_11ed_92ef_00a20190418drow27_col0\" class=\"data row27 col0\" >Normalize</td>\n",
       "                        <td id=\"T_d9fc0ea2_56c1_11ed_92ef_00a20190418drow27_col1\" class=\"data row27 col1\" >False</td>\n",
       "            </tr>\n",
       "            <tr>\n",
       "                        <th id=\"T_d9fc0ea2_56c1_11ed_92ef_00a20190418dlevel0_row28\" class=\"row_heading level0 row28\" >28</th>\n",
       "                        <td id=\"T_d9fc0ea2_56c1_11ed_92ef_00a20190418drow28_col0\" class=\"data row28 col0\" >Normalize Method</td>\n",
       "                        <td id=\"T_d9fc0ea2_56c1_11ed_92ef_00a20190418drow28_col1\" class=\"data row28 col1\" >None</td>\n",
       "            </tr>\n",
       "            <tr>\n",
       "                        <th id=\"T_d9fc0ea2_56c1_11ed_92ef_00a20190418dlevel0_row29\" class=\"row_heading level0 row29\" >29</th>\n",
       "                        <td id=\"T_d9fc0ea2_56c1_11ed_92ef_00a20190418drow29_col0\" class=\"data row29 col0\" >Transformation</td>\n",
       "                        <td id=\"T_d9fc0ea2_56c1_11ed_92ef_00a20190418drow29_col1\" class=\"data row29 col1\" >False</td>\n",
       "            </tr>\n",
       "            <tr>\n",
       "                        <th id=\"T_d9fc0ea2_56c1_11ed_92ef_00a20190418dlevel0_row30\" class=\"row_heading level0 row30\" >30</th>\n",
       "                        <td id=\"T_d9fc0ea2_56c1_11ed_92ef_00a20190418drow30_col0\" class=\"data row30 col0\" >Transformation Method</td>\n",
       "                        <td id=\"T_d9fc0ea2_56c1_11ed_92ef_00a20190418drow30_col1\" class=\"data row30 col1\" >None</td>\n",
       "            </tr>\n",
       "            <tr>\n",
       "                        <th id=\"T_d9fc0ea2_56c1_11ed_92ef_00a20190418dlevel0_row31\" class=\"row_heading level0 row31\" >31</th>\n",
       "                        <td id=\"T_d9fc0ea2_56c1_11ed_92ef_00a20190418drow31_col0\" class=\"data row31 col0\" >PCA</td>\n",
       "                        <td id=\"T_d9fc0ea2_56c1_11ed_92ef_00a20190418drow31_col1\" class=\"data row31 col1\" >False</td>\n",
       "            </tr>\n",
       "            <tr>\n",
       "                        <th id=\"T_d9fc0ea2_56c1_11ed_92ef_00a20190418dlevel0_row32\" class=\"row_heading level0 row32\" >32</th>\n",
       "                        <td id=\"T_d9fc0ea2_56c1_11ed_92ef_00a20190418drow32_col0\" class=\"data row32 col0\" >PCA Method</td>\n",
       "                        <td id=\"T_d9fc0ea2_56c1_11ed_92ef_00a20190418drow32_col1\" class=\"data row32 col1\" >None</td>\n",
       "            </tr>\n",
       "            <tr>\n",
       "                        <th id=\"T_d9fc0ea2_56c1_11ed_92ef_00a20190418dlevel0_row33\" class=\"row_heading level0 row33\" >33</th>\n",
       "                        <td id=\"T_d9fc0ea2_56c1_11ed_92ef_00a20190418drow33_col0\" class=\"data row33 col0\" >PCA Components</td>\n",
       "                        <td id=\"T_d9fc0ea2_56c1_11ed_92ef_00a20190418drow33_col1\" class=\"data row33 col1\" >None</td>\n",
       "            </tr>\n",
       "            <tr>\n",
       "                        <th id=\"T_d9fc0ea2_56c1_11ed_92ef_00a20190418dlevel0_row34\" class=\"row_heading level0 row34\" >34</th>\n",
       "                        <td id=\"T_d9fc0ea2_56c1_11ed_92ef_00a20190418drow34_col0\" class=\"data row34 col0\" >Ignore Low Variance</td>\n",
       "                        <td id=\"T_d9fc0ea2_56c1_11ed_92ef_00a20190418drow34_col1\" class=\"data row34 col1\" >False</td>\n",
       "            </tr>\n",
       "            <tr>\n",
       "                        <th id=\"T_d9fc0ea2_56c1_11ed_92ef_00a20190418dlevel0_row35\" class=\"row_heading level0 row35\" >35</th>\n",
       "                        <td id=\"T_d9fc0ea2_56c1_11ed_92ef_00a20190418drow35_col0\" class=\"data row35 col0\" >Combine Rare Levels</td>\n",
       "                        <td id=\"T_d9fc0ea2_56c1_11ed_92ef_00a20190418drow35_col1\" class=\"data row35 col1\" >False</td>\n",
       "            </tr>\n",
       "            <tr>\n",
       "                        <th id=\"T_d9fc0ea2_56c1_11ed_92ef_00a20190418dlevel0_row36\" class=\"row_heading level0 row36\" >36</th>\n",
       "                        <td id=\"T_d9fc0ea2_56c1_11ed_92ef_00a20190418drow36_col0\" class=\"data row36 col0\" >Rare Level Threshold</td>\n",
       "                        <td id=\"T_d9fc0ea2_56c1_11ed_92ef_00a20190418drow36_col1\" class=\"data row36 col1\" >None</td>\n",
       "            </tr>\n",
       "            <tr>\n",
       "                        <th id=\"T_d9fc0ea2_56c1_11ed_92ef_00a20190418dlevel0_row37\" class=\"row_heading level0 row37\" >37</th>\n",
       "                        <td id=\"T_d9fc0ea2_56c1_11ed_92ef_00a20190418drow37_col0\" class=\"data row37 col0\" >Numeric Binning</td>\n",
       "                        <td id=\"T_d9fc0ea2_56c1_11ed_92ef_00a20190418drow37_col1\" class=\"data row37 col1\" >False</td>\n",
       "            </tr>\n",
       "            <tr>\n",
       "                        <th id=\"T_d9fc0ea2_56c1_11ed_92ef_00a20190418dlevel0_row38\" class=\"row_heading level0 row38\" >38</th>\n",
       "                        <td id=\"T_d9fc0ea2_56c1_11ed_92ef_00a20190418drow38_col0\" class=\"data row38 col0\" >Remove Outliers</td>\n",
       "                        <td id=\"T_d9fc0ea2_56c1_11ed_92ef_00a20190418drow38_col1\" class=\"data row38 col1\" >False</td>\n",
       "            </tr>\n",
       "            <tr>\n",
       "                        <th id=\"T_d9fc0ea2_56c1_11ed_92ef_00a20190418dlevel0_row39\" class=\"row_heading level0 row39\" >39</th>\n",
       "                        <td id=\"T_d9fc0ea2_56c1_11ed_92ef_00a20190418drow39_col0\" class=\"data row39 col0\" >Outliers Threshold</td>\n",
       "                        <td id=\"T_d9fc0ea2_56c1_11ed_92ef_00a20190418drow39_col1\" class=\"data row39 col1\" >None</td>\n",
       "            </tr>\n",
       "            <tr>\n",
       "                        <th id=\"T_d9fc0ea2_56c1_11ed_92ef_00a20190418dlevel0_row40\" class=\"row_heading level0 row40\" >40</th>\n",
       "                        <td id=\"T_d9fc0ea2_56c1_11ed_92ef_00a20190418drow40_col0\" class=\"data row40 col0\" >Remove Multicollinearity</td>\n",
       "                        <td id=\"T_d9fc0ea2_56c1_11ed_92ef_00a20190418drow40_col1\" class=\"data row40 col1\" >False</td>\n",
       "            </tr>\n",
       "            <tr>\n",
       "                        <th id=\"T_d9fc0ea2_56c1_11ed_92ef_00a20190418dlevel0_row41\" class=\"row_heading level0 row41\" >41</th>\n",
       "                        <td id=\"T_d9fc0ea2_56c1_11ed_92ef_00a20190418drow41_col0\" class=\"data row41 col0\" >Multicollinearity Threshold</td>\n",
       "                        <td id=\"T_d9fc0ea2_56c1_11ed_92ef_00a20190418drow41_col1\" class=\"data row41 col1\" >None</td>\n",
       "            </tr>\n",
       "            <tr>\n",
       "                        <th id=\"T_d9fc0ea2_56c1_11ed_92ef_00a20190418dlevel0_row42\" class=\"row_heading level0 row42\" >42</th>\n",
       "                        <td id=\"T_d9fc0ea2_56c1_11ed_92ef_00a20190418drow42_col0\" class=\"data row42 col0\" >Clustering</td>\n",
       "                        <td id=\"T_d9fc0ea2_56c1_11ed_92ef_00a20190418drow42_col1\" class=\"data row42 col1\" >False</td>\n",
       "            </tr>\n",
       "            <tr>\n",
       "                        <th id=\"T_d9fc0ea2_56c1_11ed_92ef_00a20190418dlevel0_row43\" class=\"row_heading level0 row43\" >43</th>\n",
       "                        <td id=\"T_d9fc0ea2_56c1_11ed_92ef_00a20190418drow43_col0\" class=\"data row43 col0\" >Clustering Iteration</td>\n",
       "                        <td id=\"T_d9fc0ea2_56c1_11ed_92ef_00a20190418drow43_col1\" class=\"data row43 col1\" >None</td>\n",
       "            </tr>\n",
       "            <tr>\n",
       "                        <th id=\"T_d9fc0ea2_56c1_11ed_92ef_00a20190418dlevel0_row44\" class=\"row_heading level0 row44\" >44</th>\n",
       "                        <td id=\"T_d9fc0ea2_56c1_11ed_92ef_00a20190418drow44_col0\" class=\"data row44 col0\" >Polynomial Features</td>\n",
       "                        <td id=\"T_d9fc0ea2_56c1_11ed_92ef_00a20190418drow44_col1\" class=\"data row44 col1\" >False</td>\n",
       "            </tr>\n",
       "            <tr>\n",
       "                        <th id=\"T_d9fc0ea2_56c1_11ed_92ef_00a20190418dlevel0_row45\" class=\"row_heading level0 row45\" >45</th>\n",
       "                        <td id=\"T_d9fc0ea2_56c1_11ed_92ef_00a20190418drow45_col0\" class=\"data row45 col0\" >Polynomial Degree</td>\n",
       "                        <td id=\"T_d9fc0ea2_56c1_11ed_92ef_00a20190418drow45_col1\" class=\"data row45 col1\" >None</td>\n",
       "            </tr>\n",
       "            <tr>\n",
       "                        <th id=\"T_d9fc0ea2_56c1_11ed_92ef_00a20190418dlevel0_row46\" class=\"row_heading level0 row46\" >46</th>\n",
       "                        <td id=\"T_d9fc0ea2_56c1_11ed_92ef_00a20190418drow46_col0\" class=\"data row46 col0\" >Trignometry Features</td>\n",
       "                        <td id=\"T_d9fc0ea2_56c1_11ed_92ef_00a20190418drow46_col1\" class=\"data row46 col1\" >False</td>\n",
       "            </tr>\n",
       "            <tr>\n",
       "                        <th id=\"T_d9fc0ea2_56c1_11ed_92ef_00a20190418dlevel0_row47\" class=\"row_heading level0 row47\" >47</th>\n",
       "                        <td id=\"T_d9fc0ea2_56c1_11ed_92ef_00a20190418drow47_col0\" class=\"data row47 col0\" >Polynomial Threshold</td>\n",
       "                        <td id=\"T_d9fc0ea2_56c1_11ed_92ef_00a20190418drow47_col1\" class=\"data row47 col1\" >None</td>\n",
       "            </tr>\n",
       "            <tr>\n",
       "                        <th id=\"T_d9fc0ea2_56c1_11ed_92ef_00a20190418dlevel0_row48\" class=\"row_heading level0 row48\" >48</th>\n",
       "                        <td id=\"T_d9fc0ea2_56c1_11ed_92ef_00a20190418drow48_col0\" class=\"data row48 col0\" >Group Features</td>\n",
       "                        <td id=\"T_d9fc0ea2_56c1_11ed_92ef_00a20190418drow48_col1\" class=\"data row48 col1\" >False</td>\n",
       "            </tr>\n",
       "            <tr>\n",
       "                        <th id=\"T_d9fc0ea2_56c1_11ed_92ef_00a20190418dlevel0_row49\" class=\"row_heading level0 row49\" >49</th>\n",
       "                        <td id=\"T_d9fc0ea2_56c1_11ed_92ef_00a20190418drow49_col0\" class=\"data row49 col0\" >Feature Selection</td>\n",
       "                        <td id=\"T_d9fc0ea2_56c1_11ed_92ef_00a20190418drow49_col1\" class=\"data row49 col1\" >False</td>\n",
       "            </tr>\n",
       "            <tr>\n",
       "                        <th id=\"T_d9fc0ea2_56c1_11ed_92ef_00a20190418dlevel0_row50\" class=\"row_heading level0 row50\" >50</th>\n",
       "                        <td id=\"T_d9fc0ea2_56c1_11ed_92ef_00a20190418drow50_col0\" class=\"data row50 col0\" >Feature Selection Method</td>\n",
       "                        <td id=\"T_d9fc0ea2_56c1_11ed_92ef_00a20190418drow50_col1\" class=\"data row50 col1\" >classic</td>\n",
       "            </tr>\n",
       "            <tr>\n",
       "                        <th id=\"T_d9fc0ea2_56c1_11ed_92ef_00a20190418dlevel0_row51\" class=\"row_heading level0 row51\" >51</th>\n",
       "                        <td id=\"T_d9fc0ea2_56c1_11ed_92ef_00a20190418drow51_col0\" class=\"data row51 col0\" >Features Selection Threshold</td>\n",
       "                        <td id=\"T_d9fc0ea2_56c1_11ed_92ef_00a20190418drow51_col1\" class=\"data row51 col1\" >None</td>\n",
       "            </tr>\n",
       "            <tr>\n",
       "                        <th id=\"T_d9fc0ea2_56c1_11ed_92ef_00a20190418dlevel0_row52\" class=\"row_heading level0 row52\" >52</th>\n",
       "                        <td id=\"T_d9fc0ea2_56c1_11ed_92ef_00a20190418drow52_col0\" class=\"data row52 col0\" >Feature Interaction</td>\n",
       "                        <td id=\"T_d9fc0ea2_56c1_11ed_92ef_00a20190418drow52_col1\" class=\"data row52 col1\" >False</td>\n",
       "            </tr>\n",
       "            <tr>\n",
       "                        <th id=\"T_d9fc0ea2_56c1_11ed_92ef_00a20190418dlevel0_row53\" class=\"row_heading level0 row53\" >53</th>\n",
       "                        <td id=\"T_d9fc0ea2_56c1_11ed_92ef_00a20190418drow53_col0\" class=\"data row53 col0\" >Feature Ratio</td>\n",
       "                        <td id=\"T_d9fc0ea2_56c1_11ed_92ef_00a20190418drow53_col1\" class=\"data row53 col1\" >False</td>\n",
       "            </tr>\n",
       "            <tr>\n",
       "                        <th id=\"T_d9fc0ea2_56c1_11ed_92ef_00a20190418dlevel0_row54\" class=\"row_heading level0 row54\" >54</th>\n",
       "                        <td id=\"T_d9fc0ea2_56c1_11ed_92ef_00a20190418drow54_col0\" class=\"data row54 col0\" >Interaction Threshold</td>\n",
       "                        <td id=\"T_d9fc0ea2_56c1_11ed_92ef_00a20190418drow54_col1\" class=\"data row54 col1\" >None</td>\n",
       "            </tr>\n",
       "            <tr>\n",
       "                        <th id=\"T_d9fc0ea2_56c1_11ed_92ef_00a20190418dlevel0_row55\" class=\"row_heading level0 row55\" >55</th>\n",
       "                        <td id=\"T_d9fc0ea2_56c1_11ed_92ef_00a20190418drow55_col0\" class=\"data row55 col0\" >Transform Target</td>\n",
       "                        <td id=\"T_d9fc0ea2_56c1_11ed_92ef_00a20190418drow55_col1\" class=\"data row55 col1\" >False</td>\n",
       "            </tr>\n",
       "            <tr>\n",
       "                        <th id=\"T_d9fc0ea2_56c1_11ed_92ef_00a20190418dlevel0_row56\" class=\"row_heading level0 row56\" >56</th>\n",
       "                        <td id=\"T_d9fc0ea2_56c1_11ed_92ef_00a20190418drow56_col0\" class=\"data row56 col0\" >Transform Target Method</td>\n",
       "                        <td id=\"T_d9fc0ea2_56c1_11ed_92ef_00a20190418drow56_col1\" class=\"data row56 col1\" >box-cox</td>\n",
       "            </tr>\n",
       "    </tbody></table>"
      ],
      "text/plain": [
       "<pandas.io.formats.style.Styler at 0x233df54c4c8>"
      ]
     },
     "metadata": {},
     "output_type": "display_data"
    }
   ],
   "source": [
    "sup = setup(train, target = 'target', session_id=42)"
   ]
  },
  {
   "cell_type": "code",
   "execution_count": 17,
   "metadata": {},
   "outputs": [
    {
     "data": {
      "text/html": [
       "<style  type=\"text/css\" >\n",
       "    #T_ea2192c6_56c2_11ed_bfa2_00a20190418d th {\n",
       "          text-align: left;\n",
       "    }#T_ea2192c6_56c2_11ed_bfa2_00a20190418drow0_col0,#T_ea2192c6_56c2_11ed_bfa2_00a20190418drow1_col0,#T_ea2192c6_56c2_11ed_bfa2_00a20190418drow1_col1,#T_ea2192c6_56c2_11ed_bfa2_00a20190418drow1_col2,#T_ea2192c6_56c2_11ed_bfa2_00a20190418drow1_col3,#T_ea2192c6_56c2_11ed_bfa2_00a20190418drow1_col4,#T_ea2192c6_56c2_11ed_bfa2_00a20190418drow1_col5,#T_ea2192c6_56c2_11ed_bfa2_00a20190418drow1_col6,#T_ea2192c6_56c2_11ed_bfa2_00a20190418drow2_col0,#T_ea2192c6_56c2_11ed_bfa2_00a20190418drow2_col1,#T_ea2192c6_56c2_11ed_bfa2_00a20190418drow2_col2,#T_ea2192c6_56c2_11ed_bfa2_00a20190418drow2_col3,#T_ea2192c6_56c2_11ed_bfa2_00a20190418drow2_col4,#T_ea2192c6_56c2_11ed_bfa2_00a20190418drow2_col5,#T_ea2192c6_56c2_11ed_bfa2_00a20190418drow2_col6,#T_ea2192c6_56c2_11ed_bfa2_00a20190418drow3_col0,#T_ea2192c6_56c2_11ed_bfa2_00a20190418drow3_col1,#T_ea2192c6_56c2_11ed_bfa2_00a20190418drow3_col2,#T_ea2192c6_56c2_11ed_bfa2_00a20190418drow3_col3,#T_ea2192c6_56c2_11ed_bfa2_00a20190418drow3_col4,#T_ea2192c6_56c2_11ed_bfa2_00a20190418drow3_col5,#T_ea2192c6_56c2_11ed_bfa2_00a20190418drow3_col6,#T_ea2192c6_56c2_11ed_bfa2_00a20190418drow4_col0,#T_ea2192c6_56c2_11ed_bfa2_00a20190418drow4_col1,#T_ea2192c6_56c2_11ed_bfa2_00a20190418drow4_col2,#T_ea2192c6_56c2_11ed_bfa2_00a20190418drow4_col3,#T_ea2192c6_56c2_11ed_bfa2_00a20190418drow4_col4,#T_ea2192c6_56c2_11ed_bfa2_00a20190418drow4_col5,#T_ea2192c6_56c2_11ed_bfa2_00a20190418drow4_col6{\n",
       "            text-align:  left;\n",
       "            text-align:  left;\n",
       "        }#T_ea2192c6_56c2_11ed_bfa2_00a20190418drow0_col1,#T_ea2192c6_56c2_11ed_bfa2_00a20190418drow0_col2,#T_ea2192c6_56c2_11ed_bfa2_00a20190418drow0_col3,#T_ea2192c6_56c2_11ed_bfa2_00a20190418drow0_col4,#T_ea2192c6_56c2_11ed_bfa2_00a20190418drow0_col5,#T_ea2192c6_56c2_11ed_bfa2_00a20190418drow0_col6{\n",
       "            text-align:  left;\n",
       "            text-align:  left;\n",
       "            background-color:  yellow;\n",
       "        }#T_ea2192c6_56c2_11ed_bfa2_00a20190418drow0_col7,#T_ea2192c6_56c2_11ed_bfa2_00a20190418drow1_col7,#T_ea2192c6_56c2_11ed_bfa2_00a20190418drow2_col7,#T_ea2192c6_56c2_11ed_bfa2_00a20190418drow3_col7{\n",
       "            text-align:  left;\n",
       "            text-align:  left;\n",
       "            background-color:  lightgrey;\n",
       "        }#T_ea2192c6_56c2_11ed_bfa2_00a20190418drow4_col7{\n",
       "            text-align:  left;\n",
       "            text-align:  left;\n",
       "            background-color:  yellow;\n",
       "            background-color:  lightgrey;\n",
       "        }</style><table id=\"T_ea2192c6_56c2_11ed_bfa2_00a20190418d\" ><thead>    <tr>        <th class=\"blank level0\" ></th>        <th class=\"col_heading level0 col0\" >Model</th>        <th class=\"col_heading level0 col1\" >MAE</th>        <th class=\"col_heading level0 col2\" >MSE</th>        <th class=\"col_heading level0 col3\" >RMSE</th>        <th class=\"col_heading level0 col4\" >R2</th>        <th class=\"col_heading level0 col5\" >RMSLE</th>        <th class=\"col_heading level0 col6\" >MAPE</th>        <th class=\"col_heading level0 col7\" >TT (Sec)</th>    </tr></thead><tbody>\n",
       "                <tr>\n",
       "                        <th id=\"T_ea2192c6_56c2_11ed_bfa2_00a20190418dlevel0_row0\" class=\"row_heading level0 row0\" >rf</th>\n",
       "                        <td id=\"T_ea2192c6_56c2_11ed_bfa2_00a20190418drow0_col0\" class=\"data row0 col0\" >Random Forest Regressor</td>\n",
       "                        <td id=\"T_ea2192c6_56c2_11ed_bfa2_00a20190418drow0_col1\" class=\"data row0 col1\" >2.9119</td>\n",
       "                        <td id=\"T_ea2192c6_56c2_11ed_bfa2_00a20190418drow0_col2\" class=\"data row0 col2\" >17.4429</td>\n",
       "                        <td id=\"T_ea2192c6_56c2_11ed_bfa2_00a20190418drow0_col3\" class=\"data row0 col3\" >4.1764</td>\n",
       "                        <td id=\"T_ea2192c6_56c2_11ed_bfa2_00a20190418drow0_col4\" class=\"data row0 col4\" >0.9177</td>\n",
       "                        <td id=\"T_ea2192c6_56c2_11ed_bfa2_00a20190418drow0_col5\" class=\"data row0 col5\" >0.1433</td>\n",
       "                        <td id=\"T_ea2192c6_56c2_11ed_bfa2_00a20190418drow0_col6\" class=\"data row0 col6\" >0.1016</td>\n",
       "                        <td id=\"T_ea2192c6_56c2_11ed_bfa2_00a20190418drow0_col7\" class=\"data row0 col7\" >24.9220</td>\n",
       "            </tr>\n",
       "            <tr>\n",
       "                        <th id=\"T_ea2192c6_56c2_11ed_bfa2_00a20190418dlevel0_row1\" class=\"row_heading level0 row1\" >et</th>\n",
       "                        <td id=\"T_ea2192c6_56c2_11ed_bfa2_00a20190418drow1_col0\" class=\"data row1 col0\" >Extra Trees Regressor</td>\n",
       "                        <td id=\"T_ea2192c6_56c2_11ed_bfa2_00a20190418drow1_col1\" class=\"data row1 col1\" >3.1115</td>\n",
       "                        <td id=\"T_ea2192c6_56c2_11ed_bfa2_00a20190418drow1_col2\" class=\"data row1 col2\" >20.0304</td>\n",
       "                        <td id=\"T_ea2192c6_56c2_11ed_bfa2_00a20190418drow1_col3\" class=\"data row1 col3\" >4.4755</td>\n",
       "                        <td id=\"T_ea2192c6_56c2_11ed_bfa2_00a20190418drow1_col4\" class=\"data row1 col4\" >0.9055</td>\n",
       "                        <td id=\"T_ea2192c6_56c2_11ed_bfa2_00a20190418drow1_col5\" class=\"data row1 col5\" >0.1523</td>\n",
       "                        <td id=\"T_ea2192c6_56c2_11ed_bfa2_00a20190418drow1_col6\" class=\"data row1 col6\" >0.1076</td>\n",
       "                        <td id=\"T_ea2192c6_56c2_11ed_bfa2_00a20190418drow1_col7\" class=\"data row1 col7\" >25.2360</td>\n",
       "            </tr>\n",
       "            <tr>\n",
       "                        <th id=\"T_ea2192c6_56c2_11ed_bfa2_00a20190418dlevel0_row2\" class=\"row_heading level0 row2\" >catboost</th>\n",
       "                        <td id=\"T_ea2192c6_56c2_11ed_bfa2_00a20190418drow2_col0\" class=\"data row2 col0\" >CatBoost Regressor</td>\n",
       "                        <td id=\"T_ea2192c6_56c2_11ed_bfa2_00a20190418drow2_col1\" class=\"data row2 col1\" >3.2549</td>\n",
       "                        <td id=\"T_ea2192c6_56c2_11ed_bfa2_00a20190418drow2_col2\" class=\"data row2 col2\" >20.2332</td>\n",
       "                        <td id=\"T_ea2192c6_56c2_11ed_bfa2_00a20190418drow2_col3\" class=\"data row2 col3\" >4.4981</td>\n",
       "                        <td id=\"T_ea2192c6_56c2_11ed_bfa2_00a20190418drow2_col4\" class=\"data row2 col4\" >0.9045</td>\n",
       "                        <td id=\"T_ea2192c6_56c2_11ed_bfa2_00a20190418drow2_col5\" class=\"data row2 col5\" >0.1572</td>\n",
       "                        <td id=\"T_ea2192c6_56c2_11ed_bfa2_00a20190418drow2_col6\" class=\"data row2 col6\" >0.1166</td>\n",
       "                        <td id=\"T_ea2192c6_56c2_11ed_bfa2_00a20190418drow2_col7\" class=\"data row2 col7\" >21.5420</td>\n",
       "            </tr>\n",
       "            <tr>\n",
       "                        <th id=\"T_ea2192c6_56c2_11ed_bfa2_00a20190418dlevel0_row3\" class=\"row_heading level0 row3\" >dt</th>\n",
       "                        <td id=\"T_ea2192c6_56c2_11ed_bfa2_00a20190418drow3_col0\" class=\"data row3 col0\" >Decision Tree Regressor</td>\n",
       "                        <td id=\"T_ea2192c6_56c2_11ed_bfa2_00a20190418drow3_col1\" class=\"data row3 col1\" >3.6154</td>\n",
       "                        <td id=\"T_ea2192c6_56c2_11ed_bfa2_00a20190418drow3_col2\" class=\"data row3 col2\" >30.0035</td>\n",
       "                        <td id=\"T_ea2192c6_56c2_11ed_bfa2_00a20190418drow3_col3\" class=\"data row3 col3\" >5.4775</td>\n",
       "                        <td id=\"T_ea2192c6_56c2_11ed_bfa2_00a20190418drow3_col4\" class=\"data row3 col4\" >0.8584</td>\n",
       "                        <td id=\"T_ea2192c6_56c2_11ed_bfa2_00a20190418drow3_col5\" class=\"data row3 col5\" >0.1880</td>\n",
       "                        <td id=\"T_ea2192c6_56c2_11ed_bfa2_00a20190418drow3_col6\" class=\"data row3 col6\" >0.1240</td>\n",
       "                        <td id=\"T_ea2192c6_56c2_11ed_bfa2_00a20190418drow3_col7\" class=\"data row3 col7\" >1.2820</td>\n",
       "            </tr>\n",
       "            <tr>\n",
       "                        <th id=\"T_ea2192c6_56c2_11ed_bfa2_00a20190418dlevel0_row4\" class=\"row_heading level0 row4\" >lightgbm</th>\n",
       "                        <td id=\"T_ea2192c6_56c2_11ed_bfa2_00a20190418drow4_col0\" class=\"data row4 col0\" >Light Gradient Boosting Machine</td>\n",
       "                        <td id=\"T_ea2192c6_56c2_11ed_bfa2_00a20190418drow4_col1\" class=\"data row4 col1\" >3.7500</td>\n",
       "                        <td id=\"T_ea2192c6_56c2_11ed_bfa2_00a20190418drow4_col2\" class=\"data row4 col2\" >25.2901</td>\n",
       "                        <td id=\"T_ea2192c6_56c2_11ed_bfa2_00a20190418drow4_col3\" class=\"data row4 col3\" >5.0289</td>\n",
       "                        <td id=\"T_ea2192c6_56c2_11ed_bfa2_00a20190418drow4_col4\" class=\"data row4 col4\" >0.8806</td>\n",
       "                        <td id=\"T_ea2192c6_56c2_11ed_bfa2_00a20190418drow4_col5\" class=\"data row4 col5\" >0.1756</td>\n",
       "                        <td id=\"T_ea2192c6_56c2_11ed_bfa2_00a20190418drow4_col6\" class=\"data row4 col6\" >0.1356</td>\n",
       "                        <td id=\"T_ea2192c6_56c2_11ed_bfa2_00a20190418drow4_col7\" class=\"data row4 col7\" >0.8220</td>\n",
       "            </tr>\n",
       "    </tbody></table>"
      ],
      "text/plain": [
       "<pandas.io.formats.style.Styler at 0x233deb33088>"
      ]
     },
     "metadata": {},
     "output_type": "display_data"
    }
   ],
   "source": [
    "best_3 = compare_models(sort = 'MAE', n_select=3, fold=5, exclude=['gbr','knn','ada','lar','lr','ridge','br','omp','lasso','en','huber','llar','par'])"
   ]
  },
  {
   "cell_type": "code",
   "execution_count": 18,
   "metadata": {},
   "outputs": [
    {
     "data": {
      "text/html": [
       "<style  type=\"text/css\" >\n",
       "#T_20e411d2_56c4_11ed_8869_00a20190418drow5_col0,#T_20e411d2_56c4_11ed_8869_00a20190418drow5_col1,#T_20e411d2_56c4_11ed_8869_00a20190418drow5_col2,#T_20e411d2_56c4_11ed_8869_00a20190418drow5_col3,#T_20e411d2_56c4_11ed_8869_00a20190418drow5_col4,#T_20e411d2_56c4_11ed_8869_00a20190418drow5_col5{\n",
       "            background:  yellow;\n",
       "        }</style><table id=\"T_20e411d2_56c4_11ed_8869_00a20190418d\" ><thead>    <tr>        <th class=\"blank level0\" ></th>        <th class=\"col_heading level0 col0\" >MAE</th>        <th class=\"col_heading level0 col1\" >MSE</th>        <th class=\"col_heading level0 col2\" >RMSE</th>        <th class=\"col_heading level0 col3\" >R2</th>        <th class=\"col_heading level0 col4\" >RMSLE</th>        <th class=\"col_heading level0 col5\" >MAPE</th>    </tr></thead><tbody>\n",
       "                <tr>\n",
       "                        <th id=\"T_20e411d2_56c4_11ed_8869_00a20190418dlevel0_row0\" class=\"row_heading level0 row0\" >0</th>\n",
       "                        <td id=\"T_20e411d2_56c4_11ed_8869_00a20190418drow0_col0\" class=\"data row0 col0\" >2.9130</td>\n",
       "                        <td id=\"T_20e411d2_56c4_11ed_8869_00a20190418drow0_col1\" class=\"data row0 col1\" >16.9627</td>\n",
       "                        <td id=\"T_20e411d2_56c4_11ed_8869_00a20190418drow0_col2\" class=\"data row0 col2\" >4.1186</td>\n",
       "                        <td id=\"T_20e411d2_56c4_11ed_8869_00a20190418drow0_col3\" class=\"data row0 col3\" >0.9198</td>\n",
       "                        <td id=\"T_20e411d2_56c4_11ed_8869_00a20190418drow0_col4\" class=\"data row0 col4\" >0.1434</td>\n",
       "                        <td id=\"T_20e411d2_56c4_11ed_8869_00a20190418drow0_col5\" class=\"data row0 col5\" >0.1030</td>\n",
       "            </tr>\n",
       "            <tr>\n",
       "                        <th id=\"T_20e411d2_56c4_11ed_8869_00a20190418dlevel0_row1\" class=\"row_heading level0 row1\" >1</th>\n",
       "                        <td id=\"T_20e411d2_56c4_11ed_8869_00a20190418drow1_col0\" class=\"data row1 col0\" >2.9102</td>\n",
       "                        <td id=\"T_20e411d2_56c4_11ed_8869_00a20190418drow1_col1\" class=\"data row1 col1\" >16.9943</td>\n",
       "                        <td id=\"T_20e411d2_56c4_11ed_8869_00a20190418drow1_col2\" class=\"data row1 col2\" >4.1224</td>\n",
       "                        <td id=\"T_20e411d2_56c4_11ed_8869_00a20190418drow1_col3\" class=\"data row1 col3\" >0.9204</td>\n",
       "                        <td id=\"T_20e411d2_56c4_11ed_8869_00a20190418drow1_col4\" class=\"data row1 col4\" >0.1425</td>\n",
       "                        <td id=\"T_20e411d2_56c4_11ed_8869_00a20190418drow1_col5\" class=\"data row1 col5\" >0.1025</td>\n",
       "            </tr>\n",
       "            <tr>\n",
       "                        <th id=\"T_20e411d2_56c4_11ed_8869_00a20190418dlevel0_row2\" class=\"row_heading level0 row2\" >2</th>\n",
       "                        <td id=\"T_20e411d2_56c4_11ed_8869_00a20190418drow2_col0\" class=\"data row2 col0\" >2.9147</td>\n",
       "                        <td id=\"T_20e411d2_56c4_11ed_8869_00a20190418drow2_col1\" class=\"data row2 col1\" >17.1049</td>\n",
       "                        <td id=\"T_20e411d2_56c4_11ed_8869_00a20190418drow2_col2\" class=\"data row2 col2\" >4.1358</td>\n",
       "                        <td id=\"T_20e411d2_56c4_11ed_8869_00a20190418drow2_col3\" class=\"data row2 col3\" >0.9183</td>\n",
       "                        <td id=\"T_20e411d2_56c4_11ed_8869_00a20190418drow2_col4\" class=\"data row2 col4\" >0.1438</td>\n",
       "                        <td id=\"T_20e411d2_56c4_11ed_8869_00a20190418drow2_col5\" class=\"data row2 col5\" >0.1033</td>\n",
       "            </tr>\n",
       "            <tr>\n",
       "                        <th id=\"T_20e411d2_56c4_11ed_8869_00a20190418dlevel0_row3\" class=\"row_heading level0 row3\" >3</th>\n",
       "                        <td id=\"T_20e411d2_56c4_11ed_8869_00a20190418drow3_col0\" class=\"data row3 col0\" >2.8962</td>\n",
       "                        <td id=\"T_20e411d2_56c4_11ed_8869_00a20190418drow3_col1\" class=\"data row3 col1\" >16.7284</td>\n",
       "                        <td id=\"T_20e411d2_56c4_11ed_8869_00a20190418drow3_col2\" class=\"data row3 col2\" >4.0900</td>\n",
       "                        <td id=\"T_20e411d2_56c4_11ed_8869_00a20190418drow3_col3\" class=\"data row3 col3\" >0.9212</td>\n",
       "                        <td id=\"T_20e411d2_56c4_11ed_8869_00a20190418drow3_col4\" class=\"data row3 col4\" >0.1405</td>\n",
       "                        <td id=\"T_20e411d2_56c4_11ed_8869_00a20190418drow3_col5\" class=\"data row3 col5\" >0.1015</td>\n",
       "            </tr>\n",
       "            <tr>\n",
       "                        <th id=\"T_20e411d2_56c4_11ed_8869_00a20190418dlevel0_row4\" class=\"row_heading level0 row4\" >4</th>\n",
       "                        <td id=\"T_20e411d2_56c4_11ed_8869_00a20190418drow4_col0\" class=\"data row4 col0\" >2.9148</td>\n",
       "                        <td id=\"T_20e411d2_56c4_11ed_8869_00a20190418drow4_col1\" class=\"data row4 col1\" >17.1432</td>\n",
       "                        <td id=\"T_20e411d2_56c4_11ed_8869_00a20190418drow4_col2\" class=\"data row4 col2\" >4.1404</td>\n",
       "                        <td id=\"T_20e411d2_56c4_11ed_8869_00a20190418drow4_col3\" class=\"data row4 col3\" >0.9196</td>\n",
       "                        <td id=\"T_20e411d2_56c4_11ed_8869_00a20190418drow4_col4\" class=\"data row4 col4\" >0.1434</td>\n",
       "                        <td id=\"T_20e411d2_56c4_11ed_8869_00a20190418drow4_col5\" class=\"data row4 col5\" >0.1028</td>\n",
       "            </tr>\n",
       "            <tr>\n",
       "                        <th id=\"T_20e411d2_56c4_11ed_8869_00a20190418dlevel0_row5\" class=\"row_heading level0 row5\" >Mean</th>\n",
       "                        <td id=\"T_20e411d2_56c4_11ed_8869_00a20190418drow5_col0\" class=\"data row5 col0\" >2.9098</td>\n",
       "                        <td id=\"T_20e411d2_56c4_11ed_8869_00a20190418drow5_col1\" class=\"data row5 col1\" >16.9867</td>\n",
       "                        <td id=\"T_20e411d2_56c4_11ed_8869_00a20190418drow5_col2\" class=\"data row5 col2\" >4.1215</td>\n",
       "                        <td id=\"T_20e411d2_56c4_11ed_8869_00a20190418drow5_col3\" class=\"data row5 col3\" >0.9198</td>\n",
       "                        <td id=\"T_20e411d2_56c4_11ed_8869_00a20190418drow5_col4\" class=\"data row5 col4\" >0.1427</td>\n",
       "                        <td id=\"T_20e411d2_56c4_11ed_8869_00a20190418drow5_col5\" class=\"data row5 col5\" >0.1026</td>\n",
       "            </tr>\n",
       "            <tr>\n",
       "                        <th id=\"T_20e411d2_56c4_11ed_8869_00a20190418dlevel0_row6\" class=\"row_heading level0 row6\" >SD</th>\n",
       "                        <td id=\"T_20e411d2_56c4_11ed_8869_00a20190418drow6_col0\" class=\"data row6 col0\" >0.0070</td>\n",
       "                        <td id=\"T_20e411d2_56c4_11ed_8869_00a20190418drow6_col1\" class=\"data row6 col1\" >0.1455</td>\n",
       "                        <td id=\"T_20e411d2_56c4_11ed_8869_00a20190418drow6_col2\" class=\"data row6 col2\" >0.0177</td>\n",
       "                        <td id=\"T_20e411d2_56c4_11ed_8869_00a20190418drow6_col3\" class=\"data row6 col3\" >0.0010</td>\n",
       "                        <td id=\"T_20e411d2_56c4_11ed_8869_00a20190418drow6_col4\" class=\"data row6 col4\" >0.0012</td>\n",
       "                        <td id=\"T_20e411d2_56c4_11ed_8869_00a20190418drow6_col5\" class=\"data row6 col5\" >0.0006</td>\n",
       "            </tr>\n",
       "    </tbody></table>"
      ],
      "text/plain": [
       "<pandas.io.formats.style.Styler at 0x233de32bf88>"
      ]
     },
     "metadata": {},
     "output_type": "display_data"
    }
   ],
   "source": [
    "blended = blend_models(estimator_list = best_3, fold = 5)"
   ]
  },
  {
   "cell_type": "code",
   "execution_count": 19,
   "metadata": {},
   "outputs": [
    {
     "data": {
      "text/html": [
       "<style  type=\"text/css\" >\n",
       "</style><table id=\"T_261e0fee_56c4_11ed_af75_00a20190418d\" ><thead>    <tr>        <th class=\"blank level0\" ></th>        <th class=\"col_heading level0 col0\" >Model</th>        <th class=\"col_heading level0 col1\" >MAE</th>        <th class=\"col_heading level0 col2\" >MSE</th>        <th class=\"col_heading level0 col3\" >RMSE</th>        <th class=\"col_heading level0 col4\" >R2</th>        <th class=\"col_heading level0 col5\" >RMSLE</th>        <th class=\"col_heading level0 col6\" >MAPE</th>    </tr></thead><tbody>\n",
       "                <tr>\n",
       "                        <th id=\"T_261e0fee_56c4_11ed_af75_00a20190418dlevel0_row0\" class=\"row_heading level0 row0\" >0</th>\n",
       "                        <td id=\"T_261e0fee_56c4_11ed_af75_00a20190418drow0_col0\" class=\"data row0 col0\" >Voting Regressor</td>\n",
       "                        <td id=\"T_261e0fee_56c4_11ed_af75_00a20190418drow0_col1\" class=\"data row0 col1\" >2.8580</td>\n",
       "                        <td id=\"T_261e0fee_56c4_11ed_af75_00a20190418drow0_col2\" class=\"data row0 col2\" >16.5708</td>\n",
       "                        <td id=\"T_261e0fee_56c4_11ed_af75_00a20190418drow0_col3\" class=\"data row0 col3\" >4.0707</td>\n",
       "                        <td id=\"T_261e0fee_56c4_11ed_af75_00a20190418drow0_col4\" class=\"data row0 col4\" >0.9215</td>\n",
       "                        <td id=\"T_261e0fee_56c4_11ed_af75_00a20190418drow0_col5\" class=\"data row0 col5\" >0.1400</td>\n",
       "                        <td id=\"T_261e0fee_56c4_11ed_af75_00a20190418drow0_col6\" class=\"data row0 col6\" >0.1001</td>\n",
       "            </tr>\n",
       "    </tbody></table>"
      ],
      "text/plain": [
       "<pandas.io.formats.style.Styler at 0x233deb392c8>"
      ]
     },
     "metadata": {},
     "output_type": "display_data"
    }
   ],
   "source": [
    "pred_holdout = predict_model(blended)"
   ]
  },
  {
   "cell_type": "code",
   "execution_count": null,
   "metadata": {},
   "outputs": [],
   "source": [
    "2.9545, 2.8580\n",
    "# start 1 - 2.9528 (-2)\n",
    "# end  1 - 2.9827\n",
    "# start + end  - X\n",
    "# start_node_name - 2.8580(-2-1)\n",
    "# end\n",
    "# start + end \n",
    "# road 2 1 "
   ]
  },
  {
   "cell_type": "code",
   "execution_count": 20,
   "metadata": {},
   "outputs": [],
   "source": [
    "final_model = finalize_model(blended)\n",
    "predictions = predict_model(final_model, data = test)\n",
    "sample_submission = pd.read_csv('input/sample_submission.csv')\n",
    "sample_submission['target'] = predictions['Label']"
   ]
  },
  {
   "cell_type": "code",
   "execution_count": null,
   "metadata": {},
   "outputs": [],
   "source": []
  },
  {
   "cell_type": "code",
   "execution_count": null,
   "metadata": {},
   "outputs": [],
   "source": []
  },
  {
   "cell_type": "code",
   "execution_count": 21,
   "metadata": {},
   "outputs": [],
   "source": [
    "sample_submission.to_csv(\"output/20221028-2-1.csv\", index = False)"
   ]
  },
  {
   "cell_type": "code",
   "execution_count": null,
   "metadata": {},
   "outputs": [],
   "source": []
  },
  {
   "cell_type": "code",
   "execution_count": null,
   "metadata": {},
   "outputs": [],
   "source": []
  }
 ],
 "metadata": {
  "kernelspec": {
   "display_name": "Python 3",
   "language": "python",
   "name": "python3"
  },
  "language_info": {
   "codemirror_mode": {
    "name": "ipython",
    "version": 3
   },
   "file_extension": ".py",
   "mimetype": "text/x-python",
   "name": "python",
   "nbconvert_exporter": "python",
   "pygments_lexer": "ipython3",
   "version": "3.7.6"
  }
 },
 "nbformat": 4,
 "nbformat_minor": 4
}
