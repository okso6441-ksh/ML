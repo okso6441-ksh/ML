{
 "cells": [
  {
   "cell_type": "code",
   "execution_count": 1,
   "metadata": {},
   "outputs": [],
   "source": [
    "import pandas as pd\n",
    "import numpy as np\n",
    "from sklearn.preprocessing import LabelEncoder\n",
    "from haversine import haversine\n",
    "import re\n",
    "import gc\n",
    "from sklearn.metrics import mean_absolute_error\n",
    "\n",
    "import lightgbm as lgb\n",
    "import xgboost\n",
    "\n",
    "import matplotlib.pyplot as plt\n",
    "import seaborn as sns"
   ]
  },
  {
   "cell_type": "markdown",
   "metadata": {},
   "source": [
    "## data load"
   ]
  },
  {
   "cell_type": "code",
   "execution_count": 15,
   "metadata": {},
   "outputs": [
    {
     "name": "stdout",
     "output_type": "stream",
     "text": [
      "(274695, 23) (291241, 22)\n"
     ]
    }
   ],
   "source": [
    "train = pd.read_parquet('./train07.parquet') # 7월 only \n",
    "test = pd.read_parquet('./test.parquet')\n",
    "print(train.shape, test.shape)"
   ]
  },
  {
   "cell_type": "markdown",
   "metadata": {},
   "source": [
    "## 데이터 전처리"
   ]
  },
  {
   "cell_type": "markdown",
   "metadata": {},
   "source": [
    "### base_date\n",
    "train_base_date_df = train.groupby(['base_date','road_name']).count()[['id']].reset_index()\n",
    "test_base_date_df = test.groupby(['base_date','road_name']).count()[['id']].reset_index()\n",
    "\n",
    "train_base_date_df.columns = ['base_date','road_name','base_date_cnt']\n",
    "test_base_date_df.columns = ['base_date','road_name','base_date_cnt']\n",
    "\n",
    "train = train.merge(train_base_date_df, how='inner', on=['base_date','road_name'])\n",
    "test = test.merge(test_base_date_df, how='inner', on=['base_date','road_name'])"
   ]
  },
  {
   "cell_type": "code",
   "execution_count": 16,
   "metadata": {},
   "outputs": [
    {
     "name": "stdout",
     "output_type": "stream",
     "text": [
      "Wall time: 0 ns\n"
     ]
    }
   ],
   "source": [
    "# 위경도로 거리 도출\n",
    "%time\n",
    "train[\"distance\"] = train[[\"start_latitude\", \"start_longitude\", \"end_latitude\", \"end_longitude\"]].apply(lambda x: haversine((x[0], x[1]), (x[2], x[3])), axis=\"columns\")\n",
    "test[\"distance\"] = test[[\"start_latitude\", \"start_longitude\", \"end_latitude\", \"end_longitude\"]].apply(lambda x: haversine((x[0], x[1]), (x[2], x[3])), axis=\"columns\")"
   ]
  },
  {
   "cell_type": "code",
   "execution_count": null,
   "metadata": {},
   "outputs": [],
   "source": []
  },
  {
   "cell_type": "code",
   "execution_count": 17,
   "metadata": {},
   "outputs": [],
   "source": [
    "import math\n",
    "def truncate(number, digits) -> float:\n",
    "    # Improve accuracy with floating point operations, to avoid truncate(16.4, 2) = 16.39 or truncate(-1.13, 2) = -1.12\n",
    "    nbDecimals = len(str(number).split('.')[1]) \n",
    "    if nbDecimals <= digits:\n",
    "        return number\n",
    "    stepper = 10.0 ** digits\n",
    "    return math.trunc(stepper * number) / stepper"
   ]
  },
  {
   "cell_type": "code",
   "execution_count": 18,
   "metadata": {},
   "outputs": [],
   "source": [
    "num = 0 # num 0~2까지 해봄 \n",
    "cols = ['start_latitude','start_longitude', 'end_latitude','end_longitude']\n",
    "\n",
    "for c in cols:\n",
    "    train[c] = list(map(lambda x: truncate(x,num), train[c]))\n",
    "    test[c] = list(map(lambda x: truncate(x,num), test[c]))"
   ]
  },
  {
   "cell_type": "code",
   "execution_count": 19,
   "metadata": {},
   "outputs": [],
   "source": [
    "train_dist = train.groupby(['base_date','base_hour'] + cols).agg({'id':'count', 'lane_count':'max'})\n",
    "test_dist = test.groupby(['base_date','base_hour'] + cols).agg({'id':'count', 'lane_count':'max'})"
   ]
  },
  {
   "cell_type": "code",
   "execution_count": 31,
   "metadata": {},
   "outputs": [],
   "source": [
    "train_dist['dist_cnt'] = list(map(lambda x: truncate(x,num)*-1, train_dist['id'] / train_dist['lane_count']))\n",
    "test_dist['dist_cnt'] = list(map(lambda x: truncate(x,num)*-1, test_dist['id'] / test_dist['lane_count']))"
   ]
  },
  {
   "cell_type": "code",
   "execution_count": 33,
   "metadata": {},
   "outputs": [],
   "source": [
    "train_dist = train_dist.drop(['id', 'lane_count'], axis=1)\n",
    "test_dist = test_dist.drop(['id', 'lane_count'], axis=1)"
   ]
  },
  {
   "cell_type": "code",
   "execution_count": 35,
   "metadata": {},
   "outputs": [],
   "source": [
    "train_dist = train_dist.reset_index()\n",
    "test_dist = test_dist.reset_index()"
   ]
  },
  {
   "cell_type": "code",
   "execution_count": 39,
   "metadata": {},
   "outputs": [],
   "source": [
    "train = train.merge(train_dist, on=['base_date','base_hour']+cols)\n",
    "test = test.merge(test_dist, on=['base_date','base_hour']+cols)"
   ]
  },
  {
   "cell_type": "code",
   "execution_count": null,
   "metadata": {},
   "outputs": [],
   "source": []
  },
  {
   "cell_type": "code",
   "execution_count": null,
   "metadata": {},
   "outputs": [],
   "source": []
  },
  {
   "cell_type": "code",
   "execution_count": 40,
   "metadata": {},
   "outputs": [],
   "source": [
    "# label encoding \n",
    "str_col = ['day_of_week', 'start_turn_restricted','end_turn_restricted'\n",
    "          ]   \n",
    "for i in str_col:\n",
    "    le = LabelEncoder()\n",
    "    le=le.fit(train[i])\n",
    "    train[i]=le.transform(train[i])\n",
    "    \n",
    "    for label in np.unique(test[i]):\n",
    "        if label not in le.classes_: \n",
    "            le.classes_ = np.append(le.classes_, label)\n",
    "    test[i]=le.transform(test[i])"
   ]
  },
  {
   "cell_type": "code",
   "execution_count": null,
   "metadata": {},
   "outputs": [],
   "source": []
  },
  {
   "cell_type": "code",
   "execution_count": null,
   "metadata": {},
   "outputs": [],
   "source": []
  },
  {
   "cell_type": "code",
   "execution_count": 41,
   "metadata": {},
   "outputs": [],
   "source": [
    "# one-hot\n",
    "cols = ['road_type', 'start_turn_restricted', 'end_turn_restricted', 'lane_count', 'road_rating','weight_restricted', 'day_of_week'\n",
    "       ]  \n",
    "\n",
    "train = pd.get_dummies(train, prefix_sep='_', sparse=False, drop_first=True, columns = cols)\n",
    "test = pd.get_dummies(test, prefix_sep='_', sparse=False, drop_first=True, columns = cols)"
   ]
  },
  {
   "cell_type": "code",
   "execution_count": null,
   "metadata": {},
   "outputs": [],
   "source": []
  },
  {
   "cell_type": "code",
   "execution_count": 42,
   "metadata": {},
   "outputs": [],
   "source": [
    "# del \n",
    "del_cols = ['id', 'connect_code','height_restricted','vehicle_restricted'\n",
    "            , 'start_node_name', 'end_node_name', 'road_name'\n",
    "           ]  # , 'start_node_name', \n",
    "train = train.drop(del_cols, axis=1)\n",
    "test = test.drop(del_cols, axis=1)"
   ]
  },
  {
   "cell_type": "code",
   "execution_count": null,
   "metadata": {},
   "outputs": [],
   "source": []
  },
  {
   "cell_type": "code",
   "execution_count": 43,
   "metadata": {},
   "outputs": [
    {
     "data": {
      "text/html": [
       "<div>\n",
       "<style scoped>\n",
       "    .dataframe tbody tr th:only-of-type {\n",
       "        vertical-align: middle;\n",
       "    }\n",
       "\n",
       "    .dataframe tbody tr th {\n",
       "        vertical-align: top;\n",
       "    }\n",
       "\n",
       "    .dataframe thead th {\n",
       "        text-align: right;\n",
       "    }\n",
       "</style>\n",
       "<table border=\"1\" class=\"dataframe\">\n",
       "  <thead>\n",
       "    <tr style=\"text-align: right;\">\n",
       "      <th></th>\n",
       "      <th>target</th>\n",
       "    </tr>\n",
       "  </thead>\n",
       "  <tbody>\n",
       "    <tr>\n",
       "      <th>target</th>\n",
       "      <td>1.000000</td>\n",
       "    </tr>\n",
       "    <tr>\n",
       "      <th>road_rating_107</th>\n",
       "      <td>0.388484</td>\n",
       "    </tr>\n",
       "    <tr>\n",
       "      <th>road_rating_106</th>\n",
       "      <td>0.301745</td>\n",
       "    </tr>\n",
       "    <tr>\n",
       "      <th>weight_restricted_43200.0</th>\n",
       "      <td>0.290090</td>\n",
       "    </tr>\n",
       "    <tr>\n",
       "      <th>road_type_3</th>\n",
       "      <td>0.260593</td>\n",
       "    </tr>\n",
       "    <tr>\n",
       "      <th>maximum_speed_limit</th>\n",
       "      <td>0.253601</td>\n",
       "    </tr>\n",
       "    <tr>\n",
       "      <th>base_hour</th>\n",
       "      <td>0.208142</td>\n",
       "    </tr>\n",
       "    <tr>\n",
       "      <th>distance</th>\n",
       "      <td>0.191126</td>\n",
       "    </tr>\n",
       "    <tr>\n",
       "      <th>weight_restricted_32400.0</th>\n",
       "      <td>0.153493</td>\n",
       "    </tr>\n",
       "    <tr>\n",
       "      <th>dist_cnt</th>\n",
       "      <td>0.147450</td>\n",
       "    </tr>\n",
       "    <tr>\n",
       "      <th>end_turn_restricted_1</th>\n",
       "      <td>0.125488</td>\n",
       "    </tr>\n",
       "    <tr>\n",
       "      <th>start_turn_restricted_1</th>\n",
       "      <td>0.107652</td>\n",
       "    </tr>\n",
       "    <tr>\n",
       "      <th>lane_count_3</th>\n",
       "      <td>0.060855</td>\n",
       "    </tr>\n",
       "    <tr>\n",
       "      <th>lane_count_2</th>\n",
       "      <td>0.030773</td>\n",
       "    </tr>\n",
       "    <tr>\n",
       "      <th>day_of_week_4</th>\n",
       "      <td>0.021121</td>\n",
       "    </tr>\n",
       "    <tr>\n",
       "      <th>base_date</th>\n",
       "      <td>0.011907</td>\n",
       "    </tr>\n",
       "    <tr>\n",
       "      <th>day_of_week_5</th>\n",
       "      <td>0.011613</td>\n",
       "    </tr>\n",
       "    <tr>\n",
       "      <th>day_of_week_6</th>\n",
       "      <td>0.009007</td>\n",
       "    </tr>\n",
       "    <tr>\n",
       "      <th>day_of_week_1</th>\n",
       "      <td>0.007276</td>\n",
       "    </tr>\n",
       "    <tr>\n",
       "      <th>day_of_week_3</th>\n",
       "      <td>0.007142</td>\n",
       "    </tr>\n",
       "    <tr>\n",
       "      <th>day_of_week_2</th>\n",
       "      <td>0.006441</td>\n",
       "    </tr>\n",
       "    <tr>\n",
       "      <th>weight_restricted_50000.0</th>\n",
       "      <td>0.002889</td>\n",
       "    </tr>\n",
       "    <tr>\n",
       "      <th>multi_linked</th>\n",
       "      <td>NaN</td>\n",
       "    </tr>\n",
       "    <tr>\n",
       "      <th>start_latitude</th>\n",
       "      <td>NaN</td>\n",
       "    </tr>\n",
       "    <tr>\n",
       "      <th>start_longitude</th>\n",
       "      <td>NaN</td>\n",
       "    </tr>\n",
       "    <tr>\n",
       "      <th>end_latitude</th>\n",
       "      <td>NaN</td>\n",
       "    </tr>\n",
       "    <tr>\n",
       "      <th>end_longitude</th>\n",
       "      <td>NaN</td>\n",
       "    </tr>\n",
       "  </tbody>\n",
       "</table>\n",
       "</div>"
      ],
      "text/plain": [
       "                             target\n",
       "target                     1.000000\n",
       "road_rating_107            0.388484\n",
       "road_rating_106            0.301745\n",
       "weight_restricted_43200.0  0.290090\n",
       "road_type_3                0.260593\n",
       "maximum_speed_limit        0.253601\n",
       "base_hour                  0.208142\n",
       "distance                   0.191126\n",
       "weight_restricted_32400.0  0.153493\n",
       "dist_cnt                   0.147450\n",
       "end_turn_restricted_1      0.125488\n",
       "start_turn_restricted_1    0.107652\n",
       "lane_count_3               0.060855\n",
       "lane_count_2               0.030773\n",
       "day_of_week_4              0.021121\n",
       "base_date                  0.011907\n",
       "day_of_week_5              0.011613\n",
       "day_of_week_6              0.009007\n",
       "day_of_week_1              0.007276\n",
       "day_of_week_3              0.007142\n",
       "day_of_week_2              0.006441\n",
       "weight_restricted_50000.0  0.002889\n",
       "multi_linked                    NaN\n",
       "start_latitude                  NaN\n",
       "start_longitude                 NaN\n",
       "end_latitude                    NaN\n",
       "end_longitude                   NaN"
      ]
     },
     "execution_count": 43,
     "metadata": {},
     "output_type": "execute_result"
    }
   ],
   "source": [
    "train.corr()[['target']].abs().sort_values('target', ascending=False)"
   ]
  },
  {
   "cell_type": "code",
   "execution_count": null,
   "metadata": {},
   "outputs": [],
   "source": [
    "#train[(train['base_date'] == 20220701) & (train['base_hour'] == 0)].sort_values('target').to_excel('temp/20220701_00.xlsx', encoding='utf-8-sig') "
   ]
  },
  {
   "cell_type": "markdown",
   "metadata": {},
   "source": [
    "## 모델링"
   ]
  },
  {
   "cell_type": "code",
   "execution_count": 44,
   "metadata": {},
   "outputs": [
    {
     "data": {
      "text/plain": [
       "306"
      ]
     },
     "execution_count": 44,
     "metadata": {},
     "output_type": "execute_result"
    }
   ],
   "source": [
    "gc.collect()"
   ]
  },
  {
   "cell_type": "code",
   "execution_count": 45,
   "metadata": {},
   "outputs": [
    {
     "name": "stdout",
     "output_type": "stream",
     "text": [
      "Index(['base_date', 'base_hour', 'multi_linked', 'maximum_speed_limit',\n",
      "       'start_latitude', 'start_longitude', 'end_latitude', 'end_longitude',\n",
      "       'target', 'distance', 'dist_cnt', 'road_type_3',\n",
      "       'start_turn_restricted_1', 'end_turn_restricted_1', 'lane_count_2',\n",
      "       'lane_count_3', 'road_rating_106', 'road_rating_107',\n",
      "       'weight_restricted_32400.0', 'weight_restricted_43200.0',\n",
      "       'weight_restricted_50000.0', 'day_of_week_1', 'day_of_week_2',\n",
      "       'day_of_week_3', 'day_of_week_4', 'day_of_week_5', 'day_of_week_6'],\n",
      "      dtype='object')\n",
      "Index(['base_date', 'base_hour', 'multi_linked', 'maximum_speed_limit',\n",
      "       'start_latitude', 'start_longitude', 'end_latitude', 'end_longitude',\n",
      "       'distance', 'dist_cnt', 'road_type_3', 'start_turn_restricted_1',\n",
      "       'end_turn_restricted_1', 'lane_count_2', 'lane_count_3',\n",
      "       'road_rating_106', 'road_rating_107', 'weight_restricted_32400.0',\n",
      "       'weight_restricted_43200.0', 'weight_restricted_50000.0',\n",
      "       'day_of_week_1', 'day_of_week_2', 'day_of_week_3', 'day_of_week_4',\n",
      "       'day_of_week_5', 'day_of_week_6'],\n",
      "      dtype='object')\n"
     ]
    }
   ],
   "source": [
    "print(train.columns)\n",
    "print(test.columns)"
   ]
  },
  {
   "cell_type": "code",
   "execution_count": 46,
   "metadata": {},
   "outputs": [],
   "source": [
    "#train.columns = [\n",
    "#test.columns = ["
   ]
  },
  {
   "cell_type": "code",
   "execution_count": null,
   "metadata": {},
   "outputs": [],
   "source": []
  },
  {
   "cell_type": "code",
   "execution_count": 47,
   "metadata": {},
   "outputs": [
    {
     "data": {
      "text/plain": [
       "((190228, 25), (84467, 25), (190228, 1), (84467, 1))"
      ]
     },
     "execution_count": 47,
     "metadata": {},
     "output_type": "execute_result"
    }
   ],
   "source": [
    "from sklearn.model_selection import train_test_split, KFold, cross_val_score\n",
    "#X_train, X_test, y_train, y_test = train_test_split(train.drop('target', axis=1) , train['target'], test_size=0.3, shuffle=True, random_state=42)\n",
    "X_train = train[train['base_date'] <= 20220720].drop('target', axis=1)\n",
    "X_test = train[train['base_date'] > 20220720].drop('target', axis=1)\n",
    "y_train = train[train['base_date'] <= 20220720][['target']]\n",
    "y_test = train[train['base_date'] > 20220720][['target']]\n",
    "\n",
    "X_train = X_train.drop(['base_date'], axis=1)\n",
    "X_test = X_test.drop(['base_date'], axis=1)\n",
    "\n",
    "X_train.shape, X_test.shape, y_train.shape, y_test.shape"
   ]
  },
  {
   "cell_type": "code",
   "execution_count": 48,
   "metadata": {},
   "outputs": [
    {
     "name": "stdout",
     "output_type": "stream",
     "text": [
      "Wall time: 0 ns\n"
     ]
    }
   ],
   "source": [
    "%%time \n",
    "model = lgb.LGBMRegressor(random_state=42)"
   ]
  },
  {
   "cell_type": "code",
   "execution_count": 49,
   "metadata": {},
   "outputs": [
    {
     "name": "stdout",
     "output_type": "stream",
     "text": [
      "Wall time: 1.03 s\n"
     ]
    },
    {
     "data": {
      "text/plain": [
       "LGBMRegressor(random_state=42)"
      ]
     },
     "execution_count": 49,
     "metadata": {},
     "output_type": "execute_result"
    }
   ],
   "source": [
    "%%time\n",
    "model.fit(X_train, y_train)"
   ]
  },
  {
   "cell_type": "markdown",
   "metadata": {},
   "source": [
    "## 예측"
   ]
  },
  {
   "cell_type": "code",
   "execution_count": 50,
   "metadata": {},
   "outputs": [
    {
     "data": {
      "text/plain": [
       "4.608979991501546"
      ]
     },
     "execution_count": 50,
     "metadata": {},
     "output_type": "execute_result"
    }
   ],
   "source": [
    "mean_absolute_error(y_test, model.predict(X_test))"
   ]
  },
  {
   "cell_type": "code",
   "execution_count": null,
   "metadata": {},
   "outputs": [],
   "source": [
    "3.66"
   ]
  },
  {
   "cell_type": "code",
   "execution_count": null,
   "metadata": {},
   "outputs": [],
   "source": [
    "feature_imp = pd.DataFrame(sorted(zip(model.feature_importances_,X_train.columns)), columns=['Value','Feature'])\n",
    "\n",
    "plt.figure(figsize=(15, 20))\n",
    "sns.barplot(x=\"Value\", y=\"Feature\", data=feature_imp.sort_values(by=\"Value\", ascending=False))\n",
    "plt.title('LightGBM Features (avg over folds)')\n",
    "plt.tight_layout()\n",
    "plt.show()"
   ]
  },
  {
   "cell_type": "code",
   "execution_count": null,
   "metadata": {},
   "outputs": [],
   "source": []
  },
  {
   "cell_type": "markdown",
   "metadata": {},
   "source": [
    "## 제출"
   ]
  },
  {
   "cell_type": "code",
   "execution_count": null,
   "metadata": {},
   "outputs": [],
   "source": [
    "sample_submission = pd.read_csv('input/sample_submission.csv')"
   ]
  },
  {
   "cell_type": "code",
   "execution_count": null,
   "metadata": {},
   "outputs": [],
   "source": [
    "%%time\n",
    "model2 = lgb.LGBMRegressor(random_state=42)\n",
    "\n",
    "model2.fit(train.drop('target', axis=1), train['target'])"
   ]
  },
  {
   "cell_type": "code",
   "execution_count": null,
   "metadata": {},
   "outputs": [],
   "source": [
    "sample_submission['target'] = model2.predict(test)"
   ]
  },
  {
   "cell_type": "code",
   "execution_count": null,
   "metadata": {},
   "outputs": [],
   "source": [
    "#sample_submission.to_csv(\"output/20221025-1.csv\", index = False)"
   ]
  },
  {
   "cell_type": "code",
   "execution_count": null,
   "metadata": {},
   "outputs": [],
   "source": []
  }
 ],
 "metadata": {
  "kernelspec": {
   "display_name": "Python 3",
   "language": "python",
   "name": "python3"
  },
  "language_info": {
   "codemirror_mode": {
    "name": "ipython",
    "version": 3
   },
   "file_extension": ".py",
   "mimetype": "text/x-python",
   "name": "python",
   "nbconvert_exporter": "python",
   "pygments_lexer": "ipython3",
   "version": "3.7.6"
  }
 },
 "nbformat": 4,
 "nbformat_minor": 4
}
