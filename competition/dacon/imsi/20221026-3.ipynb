{
 "cells": [
  {
   "cell_type": "code",
   "execution_count": 1,
   "metadata": {},
   "outputs": [],
   "source": [
    "import pandas as pd\n",
    "import numpy as np\n",
    "from sklearn.preprocessing import LabelEncoder\n",
    "from haversine import haversine\n",
    "import re\n",
    "import gc\n",
    "from sklearn.metrics import mean_absolute_error\n",
    "\n",
    "import lightgbm as lgb\n",
    "import xgboost\n",
    "\n",
    "import matplotlib.pyplot as plt\n",
    "import seaborn as sns"
   ]
  },
  {
   "cell_type": "markdown",
   "metadata": {},
   "source": [
    "## data load"
   ]
  },
  {
   "cell_type": "code",
   "execution_count": 2,
   "metadata": {},
   "outputs": [
    {
     "name": "stdout",
     "output_type": "stream",
     "text": [
      "(274695, 23) (291241, 22)\n"
     ]
    }
   ],
   "source": [
    "train = pd.read_parquet('./train07.parquet') # 7월 only \n",
    "test = pd.read_parquet('./test.parquet')\n",
    "print(train.shape, test.shape)"
   ]
  },
  {
   "cell_type": "markdown",
   "metadata": {},
   "source": [
    "## 데이터 전처리"
   ]
  },
  {
   "cell_type": "code",
   "execution_count": null,
   "metadata": {},
   "outputs": [],
   "source": []
  },
  {
   "cell_type": "code",
   "execution_count": 3,
   "metadata": {},
   "outputs": [
    {
     "data": {
      "text/plain": [
       "(1487, 4)"
      ]
     },
     "execution_count": 3,
     "metadata": {},
     "output_type": "execute_result"
    }
   ],
   "source": [
    "### https://data.kma.go.kr/data/grnd/selectAsosRltmList.do?pgmNo=36\n",
    "weather = pd.read_csv('input/weather.csv', encoding='cp949')\n",
    "weather['base_date'] = weather['일시'].str.slice(0,10).str.replace('-','').astype(int)\n",
    "weather['base_hour'] = weather['일시'].str.slice(11,13).astype(int)\n",
    "wehther = weather.fillna(0)\n",
    "weather = weather.groupby(['base_date','base_hour']).mean()[['강수량(mm)','지면온도(°C)']].reset_index()\n",
    "\n",
    "weather.shape\n",
    "\n",
    "#train = train.merge(weather, left_on=['base_date','base_hour'], right_on=['yyyymmdd','hour'], how='inner')\n",
    "#test = test.merge(weather, left_on=['base_date','base_hour'], right_on=['yyyymmdd','hour'], how='inner')"
   ]
  },
  {
   "cell_type": "code",
   "execution_count": 4,
   "metadata": {},
   "outputs": [],
   "source": [
    "weather = weather.fillna(0)\n",
    "weather.columns = ['base_date','base_hour', 'rain','temp']"
   ]
  },
  {
   "cell_type": "code",
   "execution_count": null,
   "metadata": {},
   "outputs": [],
   "source": []
  },
  {
   "cell_type": "markdown",
   "metadata": {},
   "source": [
    "### base_date\n",
    "train_base_date_df = train.groupby(['base_date','road_name']).count()[['id']].reset_index()\n",
    "test_base_date_df = test.groupby(['base_date','road_name']).count()[['id']].reset_index()\n",
    "\n",
    "train_base_date_df.columns = ['base_date','road_name','base_date_cnt']\n",
    "test_base_date_df.columns = ['base_date','road_name','base_date_cnt']\n",
    "\n",
    "train = train.merge(train_base_date_df, how='inner', on=['base_date','road_name'])\n",
    "test = test.merge(test_base_date_df, how='inner', on=['base_date','road_name'])"
   ]
  },
  {
   "cell_type": "code",
   "execution_count": 5,
   "metadata": {},
   "outputs": [
    {
     "name": "stdout",
     "output_type": "stream",
     "text": [
      "Wall time: 0 ns\n"
     ]
    }
   ],
   "source": [
    "# 위경도로 거리 도출\n",
    "%time\n",
    "train[\"distance\"] = train[[\"start_latitude\", \"start_longitude\", \"end_latitude\", \"end_longitude\"]].apply(lambda x: haversine((x[0], x[1]), (x[2], x[3])), axis=\"columns\")\n",
    "test[\"distance\"] = test[[\"start_latitude\", \"start_longitude\", \"end_latitude\", \"end_longitude\"]].apply(lambda x: haversine((x[0], x[1]), (x[2], x[3])), axis=\"columns\")"
   ]
  },
  {
   "cell_type": "code",
   "execution_count": null,
   "metadata": {},
   "outputs": [],
   "source": []
  },
  {
   "cell_type": "code",
   "execution_count": 6,
   "metadata": {},
   "outputs": [],
   "source": [
    "# label encoding \n",
    "str_col = ['day_of_week', 'start_turn_restricted','end_turn_restricted'\n",
    "          ]   \n",
    "for i in str_col:\n",
    "    le = LabelEncoder()\n",
    "    le=le.fit(train[i])\n",
    "    train[i]=le.transform(train[i])\n",
    "    \n",
    "    for label in np.unique(test[i]):\n",
    "        if label not in le.classes_: \n",
    "            le.classes_ = np.append(le.classes_, label)\n",
    "    test[i]=le.transform(test[i])"
   ]
  },
  {
   "cell_type": "code",
   "execution_count": null,
   "metadata": {},
   "outputs": [],
   "source": []
  },
  {
   "cell_type": "code",
   "execution_count": null,
   "metadata": {},
   "outputs": [],
   "source": []
  },
  {
   "cell_type": "code",
   "execution_count": 7,
   "metadata": {},
   "outputs": [],
   "source": [
    "# one-hot\n",
    "cols = ['road_type', 'start_turn_restricted', 'end_turn_restricted', 'lane_count', 'road_rating','weight_restricted', 'day_of_week'\n",
    "       ]  \n",
    "\n",
    "train = pd.get_dummies(train, prefix_sep='_', sparse=False, drop_first=True, columns = cols)\n",
    "test = pd.get_dummies(test, prefix_sep='_', sparse=False, drop_first=True, columns = cols)"
   ]
  },
  {
   "cell_type": "code",
   "execution_count": 8,
   "metadata": {},
   "outputs": [],
   "source": [
    "train = train.merge(weather, on=['base_date','base_hour'])\n",
    "test = test.merge(weather, on=['base_date','base_hour'])"
   ]
  },
  {
   "cell_type": "code",
   "execution_count": null,
   "metadata": {},
   "outputs": [],
   "source": []
  },
  {
   "cell_type": "code",
   "execution_count": null,
   "metadata": {},
   "outputs": [],
   "source": []
  },
  {
   "cell_type": "code",
   "execution_count": 9,
   "metadata": {},
   "outputs": [],
   "source": [
    "# del \n",
    "del_cols = ['id', 'connect_code','height_restricted','vehicle_restricted'\n",
    "            , 'start_node_name', 'end_node_name', 'road_name'\n",
    "           ]  # , 'start_node_name', , \n",
    "train = train.drop(del_cols, axis=1)\n",
    "test = test.drop(del_cols, axis=1)"
   ]
  },
  {
   "cell_type": "code",
   "execution_count": null,
   "metadata": {},
   "outputs": [],
   "source": []
  },
  {
   "cell_type": "code",
   "execution_count": 10,
   "metadata": {},
   "outputs": [
    {
     "data": {
      "text/html": [
       "<div>\n",
       "<style scoped>\n",
       "    .dataframe tbody tr th:only-of-type {\n",
       "        vertical-align: middle;\n",
       "    }\n",
       "\n",
       "    .dataframe tbody tr th {\n",
       "        vertical-align: top;\n",
       "    }\n",
       "\n",
       "    .dataframe thead th {\n",
       "        text-align: right;\n",
       "    }\n",
       "</style>\n",
       "<table border=\"1\" class=\"dataframe\">\n",
       "  <thead>\n",
       "    <tr style=\"text-align: right;\">\n",
       "      <th></th>\n",
       "      <th>target</th>\n",
       "    </tr>\n",
       "  </thead>\n",
       "  <tbody>\n",
       "    <tr>\n",
       "      <th>target</th>\n",
       "      <td>1.000000</td>\n",
       "    </tr>\n",
       "    <tr>\n",
       "      <th>road_rating_107</th>\n",
       "      <td>0.388426</td>\n",
       "    </tr>\n",
       "    <tr>\n",
       "      <th>road_rating_106</th>\n",
       "      <td>0.302204</td>\n",
       "    </tr>\n",
       "    <tr>\n",
       "      <th>weight_restricted_43200.0</th>\n",
       "      <td>0.290057</td>\n",
       "    </tr>\n",
       "    <tr>\n",
       "      <th>road_type_3</th>\n",
       "      <td>0.261035</td>\n",
       "    </tr>\n",
       "    <tr>\n",
       "      <th>maximum_speed_limit</th>\n",
       "      <td>0.252564</td>\n",
       "    </tr>\n",
       "    <tr>\n",
       "      <th>base_hour</th>\n",
       "      <td>0.205921</td>\n",
       "    </tr>\n",
       "    <tr>\n",
       "      <th>distance</th>\n",
       "      <td>0.190839</td>\n",
       "    </tr>\n",
       "    <tr>\n",
       "      <th>temp</th>\n",
       "      <td>0.188099</td>\n",
       "    </tr>\n",
       "    <tr>\n",
       "      <th>start_longitude</th>\n",
       "      <td>0.168556</td>\n",
       "    </tr>\n",
       "    <tr>\n",
       "      <th>end_longitude</th>\n",
       "      <td>0.165184</td>\n",
       "    </tr>\n",
       "    <tr>\n",
       "      <th>weight_restricted_32400.0</th>\n",
       "      <td>0.153999</td>\n",
       "    </tr>\n",
       "    <tr>\n",
       "      <th>end_turn_restricted_1</th>\n",
       "      <td>0.125233</td>\n",
       "    </tr>\n",
       "    <tr>\n",
       "      <th>start_turn_restricted_1</th>\n",
       "      <td>0.107360</td>\n",
       "    </tr>\n",
       "    <tr>\n",
       "      <th>lane_count_3</th>\n",
       "      <td>0.060114</td>\n",
       "    </tr>\n",
       "    <tr>\n",
       "      <th>end_latitude</th>\n",
       "      <td>0.057304</td>\n",
       "    </tr>\n",
       "    <tr>\n",
       "      <th>start_latitude</th>\n",
       "      <td>0.057172</td>\n",
       "    </tr>\n",
       "    <tr>\n",
       "      <th>lane_count_2</th>\n",
       "      <td>0.031663</td>\n",
       "    </tr>\n",
       "    <tr>\n",
       "      <th>day_of_week_4</th>\n",
       "      <td>0.022092</td>\n",
       "    </tr>\n",
       "    <tr>\n",
       "      <th>rain</th>\n",
       "      <td>0.014303</td>\n",
       "    </tr>\n",
       "    <tr>\n",
       "      <th>day_of_week_5</th>\n",
       "      <td>0.012517</td>\n",
       "    </tr>\n",
       "    <tr>\n",
       "      <th>base_date</th>\n",
       "      <td>0.008502</td>\n",
       "    </tr>\n",
       "    <tr>\n",
       "      <th>day_of_week_6</th>\n",
       "      <td>0.008201</td>\n",
       "    </tr>\n",
       "    <tr>\n",
       "      <th>day_of_week_1</th>\n",
       "      <td>0.006490</td>\n",
       "    </tr>\n",
       "    <tr>\n",
       "      <th>day_of_week_3</th>\n",
       "      <td>0.006326</td>\n",
       "    </tr>\n",
       "    <tr>\n",
       "      <th>day_of_week_2</th>\n",
       "      <td>0.005616</td>\n",
       "    </tr>\n",
       "    <tr>\n",
       "      <th>multi_linked</th>\n",
       "      <td>NaN</td>\n",
       "    </tr>\n",
       "    <tr>\n",
       "      <th>weight_restricted_50000.0</th>\n",
       "      <td>NaN</td>\n",
       "    </tr>\n",
       "  </tbody>\n",
       "</table>\n",
       "</div>"
      ],
      "text/plain": [
       "                             target\n",
       "target                     1.000000\n",
       "road_rating_107            0.388426\n",
       "road_rating_106            0.302204\n",
       "weight_restricted_43200.0  0.290057\n",
       "road_type_3                0.261035\n",
       "maximum_speed_limit        0.252564\n",
       "base_hour                  0.205921\n",
       "distance                   0.190839\n",
       "temp                       0.188099\n",
       "start_longitude            0.168556\n",
       "end_longitude              0.165184\n",
       "weight_restricted_32400.0  0.153999\n",
       "end_turn_restricted_1      0.125233\n",
       "start_turn_restricted_1    0.107360\n",
       "lane_count_3               0.060114\n",
       "end_latitude               0.057304\n",
       "start_latitude             0.057172\n",
       "lane_count_2               0.031663\n",
       "day_of_week_4              0.022092\n",
       "rain                       0.014303\n",
       "day_of_week_5              0.012517\n",
       "base_date                  0.008502\n",
       "day_of_week_6              0.008201\n",
       "day_of_week_1              0.006490\n",
       "day_of_week_3              0.006326\n",
       "day_of_week_2              0.005616\n",
       "multi_linked                    NaN\n",
       "weight_restricted_50000.0       NaN"
      ]
     },
     "execution_count": 10,
     "metadata": {},
     "output_type": "execute_result"
    }
   ],
   "source": [
    "train.corr()[['target']].abs().sort_values('target', ascending=False)"
   ]
  },
  {
   "cell_type": "code",
   "execution_count": 11,
   "metadata": {},
   "outputs": [],
   "source": [
    "#train[(train['base_date'] == 20220701) & (train['base_hour'] == 0)].sort_values('target').to_excel('temp/20220701_00.xlsx', encoding='utf-8-sig') "
   ]
  },
  {
   "cell_type": "markdown",
   "metadata": {},
   "source": [
    "## 모델링"
   ]
  },
  {
   "cell_type": "code",
   "execution_count": 12,
   "metadata": {},
   "outputs": [
    {
     "data": {
      "text/plain": [
       "40"
      ]
     },
     "execution_count": 12,
     "metadata": {},
     "output_type": "execute_result"
    }
   ],
   "source": [
    "gc.collect()"
   ]
  },
  {
   "cell_type": "code",
   "execution_count": 13,
   "metadata": {},
   "outputs": [
    {
     "name": "stdout",
     "output_type": "stream",
     "text": [
      "Index(['base_date', 'base_hour', 'multi_linked', 'maximum_speed_limit',\n",
      "       'start_latitude', 'start_longitude', 'end_latitude', 'end_longitude',\n",
      "       'target', 'distance', 'road_type_3', 'start_turn_restricted_1',\n",
      "       'end_turn_restricted_1', 'lane_count_2', 'lane_count_3',\n",
      "       'road_rating_106', 'road_rating_107', 'weight_restricted_32400.0',\n",
      "       'weight_restricted_43200.0', 'weight_restricted_50000.0',\n",
      "       'day_of_week_1', 'day_of_week_2', 'day_of_week_3', 'day_of_week_4',\n",
      "       'day_of_week_5', 'day_of_week_6', 'rain', 'temp'],\n",
      "      dtype='object')\n",
      "Index(['base_date', 'base_hour', 'multi_linked', 'maximum_speed_limit',\n",
      "       'start_latitude', 'start_longitude', 'end_latitude', 'end_longitude',\n",
      "       'distance', 'road_type_3', 'start_turn_restricted_1',\n",
      "       'end_turn_restricted_1', 'lane_count_2', 'lane_count_3',\n",
      "       'road_rating_106', 'road_rating_107', 'weight_restricted_32400.0',\n",
      "       'weight_restricted_43200.0', 'weight_restricted_50000.0',\n",
      "       'day_of_week_1', 'day_of_week_2', 'day_of_week_3', 'day_of_week_4',\n",
      "       'day_of_week_5', 'day_of_week_6', 'rain', 'temp'],\n",
      "      dtype='object')\n"
     ]
    }
   ],
   "source": [
    "print(train.columns)\n",
    "print(test.columns)"
   ]
  },
  {
   "cell_type": "code",
   "execution_count": 14,
   "metadata": {},
   "outputs": [],
   "source": [
    "#train.columns = [\n",
    "#test.columns = ["
   ]
  },
  {
   "cell_type": "code",
   "execution_count": null,
   "metadata": {},
   "outputs": [],
   "source": []
  },
  {
   "cell_type": "code",
   "execution_count": 15,
   "metadata": {},
   "outputs": [
    {
     "data": {
      "text/plain": [
       "((189464, 26), (84467, 26), (189464, 1), (84467, 1))"
      ]
     },
     "execution_count": 15,
     "metadata": {},
     "output_type": "execute_result"
    }
   ],
   "source": [
    "from sklearn.model_selection import train_test_split, KFold, cross_val_score\n",
    "#X_train, X_test, y_train, y_test = train_test_split(train.drop('target', axis=1) , train['target'], test_size=0.3, shuffle=True, random_state=42)\n",
    "X_train = train[train['base_date'] <= 20220720].drop('target', axis=1)\n",
    "X_test = train[train['base_date'] > 20220720].drop('target', axis=1)\n",
    "y_train = train[train['base_date'] <= 20220720][['target']]\n",
    "y_test = train[train['base_date'] > 20220720][['target']]\n",
    "\n",
    "X_train = X_train.drop(['base_date'], axis=1)\n",
    "X_test = X_test.drop(['base_date'], axis=1)\n",
    "\n",
    "X_train.shape, X_test.shape, y_train.shape, y_test.shape"
   ]
  },
  {
   "cell_type": "code",
   "execution_count": 16,
   "metadata": {},
   "outputs": [
    {
     "name": "stdout",
     "output_type": "stream",
     "text": [
      "Wall time: 0 ns\n"
     ]
    }
   ],
   "source": [
    "%%time \n",
    "model = lgb.LGBMRegressor(random_state=42)"
   ]
  },
  {
   "cell_type": "code",
   "execution_count": 17,
   "metadata": {},
   "outputs": [
    {
     "name": "stdout",
     "output_type": "stream",
     "text": [
      "Wall time: 1.18 s\n"
     ]
    },
    {
     "data": {
      "text/plain": [
       "LGBMRegressor(random_state=42)"
      ]
     },
     "execution_count": 17,
     "metadata": {},
     "output_type": "execute_result"
    }
   ],
   "source": [
    "%%time\n",
    "model.fit(X_train, y_train)"
   ]
  },
  {
   "cell_type": "markdown",
   "metadata": {},
   "source": [
    "## 예측"
   ]
  },
  {
   "cell_type": "code",
   "execution_count": 18,
   "metadata": {},
   "outputs": [
    {
     "data": {
      "text/plain": [
       "3.640608097543141"
      ]
     },
     "execution_count": 18,
     "metadata": {},
     "output_type": "execute_result"
    }
   ],
   "source": [
    "mean_absolute_error(y_test, model.predict(X_test))"
   ]
  },
  {
   "cell_type": "code",
   "execution_count": 19,
   "metadata": {},
   "outputs": [
    {
     "data": {
      "text/plain": [
       "3.66"
      ]
     },
     "execution_count": 19,
     "metadata": {},
     "output_type": "execute_result"
    }
   ],
   "source": [
    "3.66"
   ]
  },
  {
   "cell_type": "code",
   "execution_count": 20,
   "metadata": {},
   "outputs": [
    {
     "data": {
      "image/png": "[encoded data removed]",
      "text/plain": [
       "<Figure size 1080x1440 with 1 Axes>"
      ]
     },
     "metadata": {
      "needs_background": "light"
     },
     "output_type": "display_data"
    }
   ],
   "source": [
    "feature_imp = pd.DataFrame(sorted(zip(model.feature_importances_,X_train.columns)), columns=['Value','Feature'])\n",
    "\n",
    "plt.figure(figsize=(15, 20))\n",
    "sns.barplot(x=\"Value\", y=\"Feature\", data=feature_imp.sort_values(by=\"Value\", ascending=False))\n",
    "plt.title('LightGBM Features (avg over folds)')\n",
    "plt.tight_layout()\n",
    "plt.show()"
   ]
  },
  {
   "cell_type": "code",
   "execution_count": null,
   "metadata": {},
   "outputs": [],
   "source": []
  },
  {
   "cell_type": "markdown",
   "metadata": {},
   "source": [
    "## 제출"
   ]
  },
  {
   "cell_type": "code",
   "execution_count": 21,
   "metadata": {},
   "outputs": [],
   "source": [
    "sample_submission = pd.read_csv('input/sample_submission.csv')"
   ]
  },
  {
   "cell_type": "code",
   "execution_count": 22,
   "metadata": {},
   "outputs": [
    {
     "name": "stdout",
     "output_type": "stream",
     "text": [
      "Wall time: 1.54 s\n"
     ]
    },
    {
     "data": {
      "text/plain": [
       "LGBMRegressor(random_state=42)"
      ]
     },
     "execution_count": 22,
     "metadata": {},
     "output_type": "execute_result"
    }
   ],
   "source": [
    "%%time\n",
    "model2 = lgb.LGBMRegressor(random_state=42)\n",
    "\n",
    "model2.fit(train.drop('target', axis=1), train['target'])"
   ]
  },
  {
   "cell_type": "code",
   "execution_count": 23,
   "metadata": {},
   "outputs": [],
   "source": [
    "sample_submission['target'] = model2.predict(test)"
   ]
  },
  {
   "cell_type": "code",
   "execution_count": 24,
   "metadata": {},
   "outputs": [
    {
     "data": {
      "text/plain": [
       "Index(['base_date', 'base_hour', 'multi_linked', 'maximum_speed_limit',\n",
       "       'start_latitude', 'start_longitude', 'end_latitude', 'end_longitude',\n",
       "       'target', 'distance', 'road_type_3', 'start_turn_restricted_1',\n",
       "       'end_turn_restricted_1', 'lane_count_2', 'lane_count_3',\n",
       "       'road_rating_106', 'road_rating_107', 'weight_restricted_32400.0',\n",
       "       'weight_restricted_43200.0', 'weight_restricted_50000.0',\n",
       "       'day_of_week_1', 'day_of_week_2', 'day_of_week_3', 'day_of_week_4',\n",
       "       'day_of_week_5', 'day_of_week_6', 'rain', 'temp'],\n",
       "      dtype='object')"
      ]
     },
     "execution_count": 24,
     "metadata": {},
     "output_type": "execute_result"
    }
   ],
   "source": [
    "train.columns"
   ]
  },
  {
   "cell_type": "code",
   "execution_count": 25,
   "metadata": {},
   "outputs": [
    {
     "data": {
      "text/plain": [
       "Index(['base_date', 'base_hour', 'multi_linked', 'maximum_speed_limit',\n",
       "       'start_latitude', 'start_longitude', 'end_latitude', 'end_longitude',\n",
       "       'distance', 'road_type_3', 'start_turn_restricted_1',\n",
       "       'end_turn_restricted_1', 'lane_count_2', 'lane_count_3',\n",
       "       'road_rating_106', 'road_rating_107', 'weight_restricted_32400.0',\n",
       "       'weight_restricted_43200.0', 'weight_restricted_50000.0',\n",
       "       'day_of_week_1', 'day_of_week_2', 'day_of_week_3', 'day_of_week_4',\n",
       "       'day_of_week_5', 'day_of_week_6', 'rain', 'temp'],\n",
       "      dtype='object')"
      ]
     },
     "execution_count": 25,
     "metadata": {},
     "output_type": "execute_result"
    }
   ],
   "source": [
    "test.columns"
   ]
  },
  {
   "cell_type": "code",
   "execution_count": 26,
   "metadata": {},
   "outputs": [],
   "source": [
    "sample_submission.to_csv(\"output/20221026-3.csv\", index = False)"
   ]
  },
  {
   "cell_type": "code",
   "execution_count": null,
   "metadata": {},
   "outputs": [],
   "source": []
  }
 ],
 "metadata": {
  "kernelspec": {
   "display_name": "Python 3",
   "language": "python",
   "name": "python3"
  },
  "language_info": {
   "codemirror_mode": {
    "name": "ipython",
    "version": 3
   },
   "file_extension": ".py",
   "mimetype": "text/x-python",
   "name": "python",
   "nbconvert_exporter": "python",
   "pygments_lexer": "ipython3",
   "version": "3.7.6"
  }
 },
 "nbformat": 4,
 "nbformat_minor": 4
}
