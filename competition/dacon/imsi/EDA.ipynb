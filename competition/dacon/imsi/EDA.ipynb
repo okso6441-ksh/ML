{
 "cells": [
  {
   "cell_type": "code",
   "execution_count": 1,
   "metadata": {},
   "outputs": [],
   "source": [
    "import pandas as pd\n",
    "import numpy as np\n",
    "import seaborn as sns\n",
    "from sklearn.preprocessing import LabelEncoder\n",
    "import lightgbm as lgb\n",
    "import gc\n",
    "from haversine import haversine"
   ]
  },
  {
   "cell_type": "code",
   "execution_count": 3,
   "metadata": {},
   "outputs": [
    {
     "name": "stdout",
     "output_type": "stream",
     "text": [
      "train Done.\n",
      "test Done.\n"
     ]
    }
   ],
   "source": [
    "def csv_to_parquet(csv_path, save_name):\n",
    "    df = pd.read_csv(csv_path)\n",
    "    df.to_parquet(f'./{save_name}.parquet')\n",
    "    del df\n",
    "    gc.collect()\n",
    "    print(save_name, 'Done.')\n",
    "    \n",
    "#csv_to_parquet('input/train.csv', 'train')\n",
    "#csv_to_parquet('input/test.csv', 'test')    "
   ]
  },
  {
   "cell_type": "code",
   "execution_count": 17,
   "metadata": {},
   "outputs": [
    {
     "name": "stdout",
     "output_type": "stream",
     "text": [
      "Wall time: 12.6 s\n"
     ]
    }
   ],
   "source": [
    "%%time\n",
    "train = pd.read_csv('input/train.csv')"
   ]
  },
  {
   "cell_type": "code",
   "execution_count": 18,
   "metadata": {},
   "outputs": [
    {
     "data": {
      "text/plain": [
       "(490137, 23)"
      ]
     },
     "execution_count": 18,
     "metadata": {},
     "output_type": "execute_result"
    }
   ],
   "source": [
    "train06 = train[pd.to_datetime(train['base_date'], format='%Y%m%d').dt.strftime('%Y%m') == '202206']\n",
    "train06.shape"
   ]
  },
  {
   "cell_type": "code",
   "execution_count": 19,
   "metadata": {},
   "outputs": [
    {
     "name": "stdout",
     "output_type": "stream",
     "text": [
      "<class 'pandas.core.frame.DataFrame'>\n",
      "Int64Index: 490137 entries, 0 to 4701214\n",
      "Data columns (total 23 columns):\n",
      " #   Column                 Non-Null Count   Dtype  \n",
      "---  ------                 --------------   -----  \n",
      " 0   id                     490137 non-null  object \n",
      " 1   base_date              490137 non-null  int64  \n",
      " 2   day_of_week            490137 non-null  object \n",
      " 3   base_hour              490137 non-null  int64  \n",
      " 4   lane_count             490137 non-null  int64  \n",
      " 5   road_rating            490137 non-null  int64  \n",
      " 6   road_name              490137 non-null  object \n",
      " 7   multi_linked           490137 non-null  int64  \n",
      " 8   connect_code           490137 non-null  int64  \n",
      " 9   maximum_speed_limit    490137 non-null  float64\n",
      " 10  vehicle_restricted     490137 non-null  float64\n",
      " 11  weight_restricted      490137 non-null  float64\n",
      " 12  height_restricted      490137 non-null  float64\n",
      " 13  road_type              490137 non-null  int64  \n",
      " 14  start_node_name        490137 non-null  object \n",
      " 15  start_latitude         490137 non-null  float64\n",
      " 16  start_longitude        490137 non-null  float64\n",
      " 17  start_turn_restricted  490137 non-null  object \n",
      " 18  end_node_name          490137 non-null  object \n",
      " 19  end_latitude           490137 non-null  float64\n",
      " 20  end_longitude          490137 non-null  float64\n",
      " 21  end_turn_restricted    490137 non-null  object \n",
      " 22  target                 490137 non-null  float64\n",
      "dtypes: float64(9), int64(7), object(7)\n",
      "memory usage: 89.7+ MB\n"
     ]
    }
   ],
   "source": [
    "train06.info()"
   ]
  },
  {
   "cell_type": "code",
   "execution_count": 20,
   "metadata": {},
   "outputs": [],
   "source": [
    "train06.to_parquet(f'./train06.parquet')"
   ]
  },
  {
   "cell_type": "code",
   "execution_count": null,
   "metadata": {},
   "outputs": [],
   "source": []
  },
  {
   "cell_type": "markdown",
   "metadata": {},
   "source": [
    "### data info 전환"
   ]
  },
  {
   "cell_type": "code",
   "execution_count": null,
   "metadata": {},
   "outputs": [],
   "source": [
    "#data_info = pd.read_csv('input/data_info.csv')"
   ]
  },
  {
   "cell_type": "code",
   "execution_count": null,
   "metadata": {},
   "outputs": [],
   "source": [
    "#data_info.to_excel('data_info.xlsx', encoding='utf-8-sig')"
   ]
  },
  {
   "cell_type": "code",
   "execution_count": null,
   "metadata": {},
   "outputs": [],
   "source": []
  },
  {
   "cell_type": "markdown",
   "metadata": {},
   "source": [
    "### https://data.kma.go.kr/data/grnd/selectAsosRltmList.do?pgmNo=36\n",
    "weather = pd.read_csv('input/weather.csv', encoding='cp949')\n",
    "weather['yyyymmdd'] = weather['일시'].str.slice(0,10).str.replace('-','').astype(int)\n",
    "weather['hour'] = weather['일시'].str.slice(11,13).astype(int)\n",
    "wehther = weather.fillna(0)\n",
    "weather = weather.groupby(['yyyymmdd','hour']).mean()[['강수량(mm)']].reset_index()\n",
    "weather.shape\n",
    "\n",
    "#train = train.merge(weather, left_on=['base_date','base_hour'], right_on=['yyyymmdd','hour'], how='inner')\n",
    "#test = test.merge(weather, left_on=['base_date','base_hour'], right_on=['yyyymmdd','hour'], how='inner')"
   ]
  },
  {
   "cell_type": "markdown",
   "metadata": {},
   "source": [
    "## data load"
   ]
  },
  {
   "cell_type": "code",
   "execution_count": null,
   "metadata": {},
   "outputs": [],
   "source": [
    "#!pip install pyarrow"
   ]
  },
  {
   "cell_type": "code",
   "execution_count": null,
   "metadata": {},
   "outputs": [],
   "source": []
  },
  {
   "cell_type": "code",
   "execution_count": 2,
   "metadata": {},
   "outputs": [],
   "source": [
    "train = pd.read_parquet('./train07.parquet') # 07\n",
    "test = pd.read_parquet('./test.parquet')"
   ]
  },
  {
   "cell_type": "code",
   "execution_count": 11,
   "metadata": {},
   "outputs": [],
   "source": [
    "import math\n",
    "def truncate(number, digits) -> float:\n",
    "    # Improve accuracy with floating point operations, to avoid truncate(16.4, 2) = 16.39 or truncate(-1.13, 2) = -1.12\n",
    "    nbDecimals = len(str(number).split('.')[1]) \n",
    "    if nbDecimals <= digits:\n",
    "        return number\n",
    "    stepper = 10.0 ** digits\n",
    "    return math.trunc(stepper * number) / stepper"
   ]
  },
  {
   "cell_type": "code",
   "execution_count": 43,
   "metadata": {},
   "outputs": [],
   "source": [
    "num = 1\n",
    "cols = ['start_latitude','start_longitude', 'end_latitude','end_longitude']\n",
    "\n",
    "for c in cols:\n",
    "    train[c] = list(map(lambda x: truncate(x,num), train[c]))"
   ]
  },
  {
   "cell_type": "code",
   "execution_count": null,
   "metadata": {},
   "outputs": [],
   "source": [
    "cols "
   ]
  },
  {
   "cell_type": "code",
   "execution_count": 44,
   "metadata": {},
   "outputs": [],
   "source": [
    "grp = train.groupby(['base_date','base_hour'] + cols).agg({'target':['count','min', 'max', 'mean']})"
   ]
  },
  {
   "cell_type": "code",
   "execution_count": 45,
   "metadata": {},
   "outputs": [],
   "source": [
    "grp.columns = ['t_cnt', 't_min', 't_max', 't_mean']"
   ]
  },
  {
   "cell_type": "code",
   "execution_count": 46,
   "metadata": {
    "scrolled": false
   },
   "outputs": [
    {
     "data": {
      "text/html": [
       "<div>\n",
       "<style scoped>\n",
       "    .dataframe tbody tr th:only-of-type {\n",
       "        vertical-align: middle;\n",
       "    }\n",
       "\n",
       "    .dataframe tbody tr th {\n",
       "        vertical-align: top;\n",
       "    }\n",
       "\n",
       "    .dataframe thead th {\n",
       "        text-align: right;\n",
       "    }\n",
       "</style>\n",
       "<table border=\"1\" class=\"dataframe\">\n",
       "  <thead>\n",
       "    <tr style=\"text-align: right;\">\n",
       "      <th></th>\n",
       "      <th></th>\n",
       "      <th></th>\n",
       "      <th></th>\n",
       "      <th></th>\n",
       "      <th></th>\n",
       "      <th>t_cnt</th>\n",
       "      <th>t_min</th>\n",
       "      <th>t_max</th>\n",
       "      <th>t_mean</th>\n",
       "    </tr>\n",
       "    <tr>\n",
       "      <th>base_date</th>\n",
       "      <th>base_hour</th>\n",
       "      <th>start_latitude</th>\n",
       "      <th>start_longitude</th>\n",
       "      <th>end_latitude</th>\n",
       "      <th>end_longitude</th>\n",
       "      <th></th>\n",
       "      <th></th>\n",
       "      <th></th>\n",
       "      <th></th>\n",
       "    </tr>\n",
       "  </thead>\n",
       "  <tbody>\n",
       "    <tr>\n",
       "      <th>20220701</th>\n",
       "      <th>0</th>\n",
       "      <th>33.2</th>\n",
       "      <th>126.2</th>\n",
       "      <th>33.2</th>\n",
       "      <th>126.2</th>\n",
       "      <td>1</td>\n",
       "      <td>71.0</td>\n",
       "      <td>71.0</td>\n",
       "      <td>71.000000</td>\n",
       "    </tr>\n",
       "    <tr>\n",
       "      <th rowspan=\"3\" valign=\"top\">20220709</th>\n",
       "      <th rowspan=\"3\" valign=\"top\">15</th>\n",
       "      <th rowspan=\"3\" valign=\"top\">33.2</th>\n",
       "      <th rowspan=\"2\" valign=\"top\">126.5</th>\n",
       "      <th>33.3</th>\n",
       "      <th>126.6</th>\n",
       "      <td>1</td>\n",
       "      <td>57.0</td>\n",
       "      <td>57.0</td>\n",
       "      <td>57.000000</td>\n",
       "    </tr>\n",
       "    <tr>\n",
       "      <th>33.2</th>\n",
       "      <th>126.4</th>\n",
       "      <td>1</td>\n",
       "      <td>50.0</td>\n",
       "      <td>50.0</td>\n",
       "      <td>50.000000</td>\n",
       "    </tr>\n",
       "    <tr>\n",
       "      <th>126.4</th>\n",
       "      <th>33.2</th>\n",
       "      <th>126.5</th>\n",
       "      <td>1</td>\n",
       "      <td>53.0</td>\n",
       "      <td>53.0</td>\n",
       "      <td>53.000000</td>\n",
       "    </tr>\n",
       "    <tr>\n",
       "      <th>20220726</th>\n",
       "      <th>3</th>\n",
       "      <th>33.3</th>\n",
       "      <th>126.6</th>\n",
       "      <th>33.2</th>\n",
       "      <th>126.5</th>\n",
       "      <td>1</td>\n",
       "      <td>53.0</td>\n",
       "      <td>53.0</td>\n",
       "      <td>53.000000</td>\n",
       "    </tr>\n",
       "    <tr>\n",
       "      <th>...</th>\n",
       "      <th>...</th>\n",
       "      <th>...</th>\n",
       "      <th>...</th>\n",
       "      <th>...</th>\n",
       "      <th>...</th>\n",
       "      <td>...</td>\n",
       "      <td>...</td>\n",
       "      <td>...</td>\n",
       "      <td>...</td>\n",
       "    </tr>\n",
       "    <tr>\n",
       "      <th>20220703</th>\n",
       "      <th>11</th>\n",
       "      <th>33.2</th>\n",
       "      <th>126.5</th>\n",
       "      <th>33.2</th>\n",
       "      <th>126.5</th>\n",
       "      <td>142</td>\n",
       "      <td>9.0</td>\n",
       "      <td>53.0</td>\n",
       "      <td>30.042254</td>\n",
       "    </tr>\n",
       "    <tr>\n",
       "      <th rowspan=\"2\" valign=\"top\">20220721</th>\n",
       "      <th>10</th>\n",
       "      <th>33.2</th>\n",
       "      <th>126.5</th>\n",
       "      <th>33.2</th>\n",
       "      <th>126.5</th>\n",
       "      <td>142</td>\n",
       "      <td>11.0</td>\n",
       "      <td>55.0</td>\n",
       "      <td>28.464789</td>\n",
       "    </tr>\n",
       "    <tr>\n",
       "      <th>12</th>\n",
       "      <th>33.2</th>\n",
       "      <th>126.5</th>\n",
       "      <th>33.2</th>\n",
       "      <th>126.5</th>\n",
       "      <td>142</td>\n",
       "      <td>13.0</td>\n",
       "      <td>55.0</td>\n",
       "      <td>27.964789</td>\n",
       "    </tr>\n",
       "    <tr>\n",
       "      <th>20220724</th>\n",
       "      <th>20</th>\n",
       "      <th>33.2</th>\n",
       "      <th>126.5</th>\n",
       "      <th>33.2</th>\n",
       "      <th>126.5</th>\n",
       "      <td>142</td>\n",
       "      <td>8.0</td>\n",
       "      <td>54.0</td>\n",
       "      <td>27.647887</td>\n",
       "    </tr>\n",
       "    <tr>\n",
       "      <th>20220701</th>\n",
       "      <th>0</th>\n",
       "      <th>33.2</th>\n",
       "      <th>126.5</th>\n",
       "      <th>33.2</th>\n",
       "      <th>126.5</th>\n",
       "      <td>143</td>\n",
       "      <td>13.0</td>\n",
       "      <td>60.0</td>\n",
       "      <td>36.076923</td>\n",
       "    </tr>\n",
       "  </tbody>\n",
       "</table>\n",
       "<p>12527 rows × 4 columns</p>\n",
       "</div>"
      ],
      "text/plain": [
       "                                                                               t_cnt  \\\n",
       "base_date base_hour start_latitude start_longitude end_latitude end_longitude          \n",
       "20220701  0         33.2           126.2           33.2         126.2              1   \n",
       "20220709  15        33.2           126.5           33.3         126.6              1   \n",
       "                                                   33.2         126.4              1   \n",
       "                                   126.4           33.2         126.5              1   \n",
       "20220726  3         33.3           126.6           33.2         126.5              1   \n",
       "...                                                                              ...   \n",
       "20220703  11        33.2           126.5           33.2         126.5            142   \n",
       "20220721  10        33.2           126.5           33.2         126.5            142   \n",
       "          12        33.2           126.5           33.2         126.5            142   \n",
       "20220724  20        33.2           126.5           33.2         126.5            142   \n",
       "20220701  0         33.2           126.5           33.2         126.5            143   \n",
       "\n",
       "                                                                               t_min  \\\n",
       "base_date base_hour start_latitude start_longitude end_latitude end_longitude          \n",
       "20220701  0         33.2           126.2           33.2         126.2           71.0   \n",
       "20220709  15        33.2           126.5           33.3         126.6           57.0   \n",
       "                                                   33.2         126.4           50.0   \n",
       "                                   126.4           33.2         126.5           53.0   \n",
       "20220726  3         33.3           126.6           33.2         126.5           53.0   \n",
       "...                                                                              ...   \n",
       "20220703  11        33.2           126.5           33.2         126.5            9.0   \n",
       "20220721  10        33.2           126.5           33.2         126.5           11.0   \n",
       "          12        33.2           126.5           33.2         126.5           13.0   \n",
       "20220724  20        33.2           126.5           33.2         126.5            8.0   \n",
       "20220701  0         33.2           126.5           33.2         126.5           13.0   \n",
       "\n",
       "                                                                               t_max  \\\n",
       "base_date base_hour start_latitude start_longitude end_latitude end_longitude          \n",
       "20220701  0         33.2           126.2           33.2         126.2           71.0   \n",
       "20220709  15        33.2           126.5           33.3         126.6           57.0   \n",
       "                                                   33.2         126.4           50.0   \n",
       "                                   126.4           33.2         126.5           53.0   \n",
       "20220726  3         33.3           126.6           33.2         126.5           53.0   \n",
       "...                                                                              ...   \n",
       "20220703  11        33.2           126.5           33.2         126.5           53.0   \n",
       "20220721  10        33.2           126.5           33.2         126.5           55.0   \n",
       "          12        33.2           126.5           33.2         126.5           55.0   \n",
       "20220724  20        33.2           126.5           33.2         126.5           54.0   \n",
       "20220701  0         33.2           126.5           33.2         126.5           60.0   \n",
       "\n",
       "                                                                                  t_mean  \n",
       "base_date base_hour start_latitude start_longitude end_latitude end_longitude             \n",
       "20220701  0         33.2           126.2           33.2         126.2          71.000000  \n",
       "20220709  15        33.2           126.5           33.3         126.6          57.000000  \n",
       "                                                   33.2         126.4          50.000000  \n",
       "                                   126.4           33.2         126.5          53.000000  \n",
       "20220726  3         33.3           126.6           33.2         126.5          53.000000  \n",
       "...                                                                                  ...  \n",
       "20220703  11        33.2           126.5           33.2         126.5          30.042254  \n",
       "20220721  10        33.2           126.5           33.2         126.5          28.464789  \n",
       "          12        33.2           126.5           33.2         126.5          27.964789  \n",
       "20220724  20        33.2           126.5           33.2         126.5          27.647887  \n",
       "20220701  0         33.2           126.5           33.2         126.5          36.076923  \n",
       "\n",
       "[12527 rows x 4 columns]"
      ]
     },
     "execution_count": 46,
     "metadata": {},
     "output_type": "execute_result"
    }
   ],
   "source": [
    "grp.sort_values('t_cnt')"
   ]
  },
  {
   "cell_type": "code",
   "execution_count": null,
   "metadata": {},
   "outputs": [],
   "source": [
    "train[(train['base_date'] == 20220720) & (train['base_hour'] == 21) \\\n",
    "      & (train['start_latitude'] == 33.25) & (train['start_longitude'] == 126.60) \\\n",
    "      & (train['end_latitude'] == 33.29) & (train['end_longitude'] == 126.59)]"
   ]
  },
  {
   "cell_type": "code",
   "execution_count": null,
   "metadata": {},
   "outputs": [],
   "source": []
  },
  {
   "cell_type": "code",
   "execution_count": 5,
   "metadata": {},
   "outputs": [],
   "source": [
    "#train[(train['base_date'] == 20220701) & (train['base_hour'] == 0)].sort_values('target').to_excel('temp/20220701_00.xlsx', encoding='utf-8-sig') "
   ]
  },
  {
   "cell_type": "code",
   "execution_count": 17,
   "metadata": {},
   "outputs": [],
   "source": [
    "train = train.groupby('road_name').agg({'target':['min','max','mean', 'count']}).reset_index()#.sort_values('min')"
   ]
  },
  {
   "cell_type": "code",
   "execution_count": 13,
   "metadata": {},
   "outputs": [
    {
     "data": {
      "text/html": [
       "<div>\n",
       "<style scoped>\n",
       "    .dataframe tbody tr th:only-of-type {\n",
       "        vertical-align: middle;\n",
       "    }\n",
       "\n",
       "    .dataframe tbody tr th {\n",
       "        vertical-align: top;\n",
       "    }\n",
       "\n",
       "    .dataframe thead tr th {\n",
       "        text-align: left;\n",
       "    }\n",
       "</style>\n",
       "<table border=\"1\" class=\"dataframe\">\n",
       "  <thead>\n",
       "    <tr>\n",
       "      <th></th>\n",
       "      <th>road_name</th>\n",
       "      <th colspan=\"4\" halign=\"left\">target</th>\n",
       "    </tr>\n",
       "    <tr>\n",
       "      <th></th>\n",
       "      <th></th>\n",
       "      <th>min</th>\n",
       "      <th>max</th>\n",
       "      <th>mean</th>\n",
       "      <th>count</th>\n",
       "    </tr>\n",
       "  </thead>\n",
       "  <tbody>\n",
       "    <tr>\n",
       "      <th>0</th>\n",
       "      <td>-</td>\n",
       "      <td>16.0</td>\n",
       "      <td>74.0</td>\n",
       "      <td>50.328947</td>\n",
       "      <td>76</td>\n",
       "    </tr>\n",
       "    <tr>\n",
       "      <th>1</th>\n",
       "      <td>경찰로</td>\n",
       "      <td>30.0</td>\n",
       "      <td>33.0</td>\n",
       "      <td>31.785714</td>\n",
       "      <td>14</td>\n",
       "    </tr>\n",
       "  </tbody>\n",
       "</table>\n",
       "</div>"
      ],
      "text/plain": [
       "  road_name target                       \n",
       "               min   max       mean count\n",
       "0         -   16.0  74.0  50.328947    76\n",
       "1       경찰로   30.0  33.0  31.785714    14"
      ]
     },
     "execution_count": 13,
     "metadata": {},
     "output_type": "execute_result"
    }
   ],
   "source": [
    "train0701[:2]"
   ]
  },
  {
   "cell_type": "code",
   "execution_count": 18,
   "metadata": {},
   "outputs": [],
   "source": [
    "train.columns = ['road_name','t_min','t_max','t_mean','t_count']"
   ]
  },
  {
   "cell_type": "code",
   "execution_count": 22,
   "metadata": {},
   "outputs": [],
   "source": [
    "train['sub'] = train['t_max'] - train['t_min']"
   ]
  },
  {
   "cell_type": "code",
   "execution_count": 29,
   "metadata": {},
   "outputs": [
    {
     "data": {
      "text/plain": [
       "array(['동문로', '삼무로', '신광로', '연북로', '일반국도95호선', '일주동로', '임항로', '지방도1112호선',\n",
       "       '지방도1116호선', '지방도1119호선'], dtype=object)"
      ]
     },
     "execution_count": 29,
     "metadata": {},
     "output_type": "execute_result"
    }
   ],
   "source": [
    "train[train['sub'] <= 30.0].road_name.values"
   ]
  },
  {
   "cell_type": "code",
   "execution_count": 4,
   "metadata": {},
   "outputs": [],
   "source": [
    "#train.sort_values('sub')"
   ]
  },
  {
   "cell_type": "code",
   "execution_count": null,
   "metadata": {},
   "outputs": [],
   "source": []
  },
  {
   "cell_type": "code",
   "execution_count": null,
   "metadata": {},
   "outputs": [],
   "source": []
  },
  {
   "cell_type": "markdown",
   "metadata": {},
   "source": [
    "## EDA"
   ]
  },
  {
   "cell_type": "code",
   "execution_count": null,
   "metadata": {},
   "outputs": [],
   "source": [
    "train.shape, test.shape"
   ]
  },
  {
   "cell_type": "code",
   "execution_count": null,
   "metadata": {},
   "outputs": [],
   "source": [
    "train.info()"
   ]
  },
  {
   "cell_type": "code",
   "execution_count": null,
   "metadata": {},
   "outputs": [],
   "source": [
    "train.isna().sum().sum(), test.isna().sum().sum()"
   ]
  },
  {
   "cell_type": "code",
   "execution_count": null,
   "metadata": {},
   "outputs": [],
   "source": [
    "train.describe(include=\"all\").T"
   ]
  },
  {
   "cell_type": "code",
   "execution_count": null,
   "metadata": {},
   "outputs": [],
   "source": [
    "train[:3]"
   ]
  },
  {
   "cell_type": "code",
   "execution_count": null,
   "metadata": {},
   "outputs": [],
   "source": []
  },
  {
   "cell_type": "code",
   "execution_count": null,
   "metadata": {},
   "outputs": [],
   "source": [
    "# datetime\n",
    "train['base_date'] = pd.to_datetime(train['base_date'], format='%Y%m%d')\n",
    "test['base_date'] = pd.to_datetime(test['base_date'], format='%Y%m%d')"
   ]
  },
  {
   "cell_type": "code",
   "execution_count": null,
   "metadata": {},
   "outputs": [],
   "source": [
    "train['base_date'].min(), train['base_date'].max()"
   ]
  },
  {
   "cell_type": "code",
   "execution_count": null,
   "metadata": {},
   "outputs": [],
   "source": [
    "test['base_date'].min(), test['base_date'].max()"
   ]
  },
  {
   "cell_type": "code",
   "execution_count": null,
   "metadata": {},
   "outputs": [],
   "source": []
  },
  {
   "cell_type": "markdown",
   "metadata": {},
   "source": [
    "## 6월로 7월 예측"
   ]
  },
  {
   "cell_type": "code",
   "execution_count": null,
   "metadata": {},
   "outputs": [],
   "source": [
    "train['base_date'] = pd.to_datetime(train['base_date'], format='%Y%m%d')\n",
    "train07 = train[train['base_date'].dt.strftime('%Y%m') == '202207']\n",
    "train07.shape"
   ]
  },
  {
   "cell_type": "code",
   "execution_count": null,
   "metadata": {},
   "outputs": [],
   "source": [
    "test.shape"
   ]
  },
  {
   "cell_type": "code",
   "execution_count": null,
   "metadata": {},
   "outputs": [],
   "source": [
    "train.groupby(['yyyymm']).agg({'target':['min','max','mean', 'count']})"
   ]
  },
  {
   "cell_type": "code",
   "execution_count": null,
   "metadata": {},
   "outputs": [],
   "source": [
    "display(train07['start_latitude'].value_counts().sort_values())\n",
    "display(test['start_latitude'].value_counts().sort_values())"
   ]
  },
  {
   "cell_type": "code",
   "execution_count": null,
   "metadata": {},
   "outputs": [],
   "source": [
    "display(train07['start_latitude'].value_counts().sort_index())\n",
    "display(test['start_latitude'].value_counts().sort_index())"
   ]
  },
  {
   "cell_type": "code",
   "execution_count": null,
   "metadata": {},
   "outputs": [],
   "source": [
    "train07.columns"
   ]
  },
  {
   "cell_type": "code",
   "execution_count": null,
   "metadata": {},
   "outputs": [],
   "source": [
    "# label encoding \n",
    "str_col = ['road_name']\n",
    "for i in str_col:\n",
    "    le = LabelEncoder()\n",
    "    le=le.fit(train07[i])\n",
    "    train07[i]=le.transform(train07[i])\n",
    "    \n",
    "    for label in np.unique(test[i]):\n",
    "        if label not in le.classes_: \n",
    "            le.classes_ = np.append(le.classes_, label)\n",
    "    test[i]=le.transform(test[i])"
   ]
  },
  {
   "cell_type": "code",
   "execution_count": null,
   "metadata": {},
   "outputs": [],
   "source": [
    "train07[['weight_restricted','target']].corr()"
   ]
  },
  {
   "cell_type": "code",
   "execution_count": null,
   "metadata": {},
   "outputs": [],
   "source": [
    "sns.pairplot(train07[['weight_restricted','target']])"
   ]
  },
  {
   "cell_type": "code",
   "execution_count": null,
   "metadata": {},
   "outputs": [],
   "source": []
  },
  {
   "cell_type": "code",
   "execution_count": null,
   "metadata": {},
   "outputs": [],
   "source": []
  },
  {
   "cell_type": "code",
   "execution_count": null,
   "metadata": {},
   "outputs": [],
   "source": []
  },
  {
   "cell_type": "code",
   "execution_count": null,
   "metadata": {},
   "outputs": [],
   "source": [
    "# one-hot\n",
    "cols = ['day_of_week','connect_code','road_type', 'start_turn_restricted', 'end_turn_restricted', 'road_name']\n",
    "train = pd.get_dummies(train, prefix_sep='_', sparse=False, drop_first=True, columns = cols)\n",
    "test = pd.get_dummies(test, prefix_sep='_', sparse=False, drop_first=True, columns = cols)"
   ]
  },
  {
   "cell_type": "code",
   "execution_count": null,
   "metadata": {},
   "outputs": [],
   "source": [
    "# del \n",
    "del_cols = ['height_restricted','vehicle_restricted', 'start_node_name', 'end_node_name']\n",
    "train = train.drop(del_cols, axis=1)\n",
    "test = test.drop(del_cols, axis=1)"
   ]
  },
  {
   "cell_type": "code",
   "execution_count": null,
   "metadata": {},
   "outputs": [],
   "source": [
    "train['road_rating'].value_counts()"
   ]
  },
  {
   "cell_type": "code",
   "execution_count": null,
   "metadata": {},
   "outputs": [],
   "source": [
    "train['multi_linked'].value_counts()"
   ]
  },
  {
   "cell_type": "code",
   "execution_count": null,
   "metadata": {},
   "outputs": [],
   "source": [
    "display(train['connect_code'].value_counts())\n",
    "display(test['connect_code'].value_counts())"
   ]
  },
  {
   "cell_type": "code",
   "execution_count": null,
   "metadata": {},
   "outputs": [],
   "source": [
    "train['maximum_speed_limit'].value_counts()"
   ]
  },
  {
   "cell_type": "code",
   "execution_count": null,
   "metadata": {},
   "outputs": [],
   "source": [
    "display(train['weight_restricted'].value_counts())\n",
    "display(test['weight_restricted'].value_counts())"
   ]
  },
  {
   "cell_type": "code",
   "execution_count": null,
   "metadata": {},
   "outputs": [],
   "source": [
    "train['height_restricted'].value_counts()\n",
    "test['height_restricted'].value_counts()"
   ]
  },
  {
   "cell_type": "code",
   "execution_count": null,
   "metadata": {},
   "outputs": [],
   "source": [
    "train['road_type'].value_counts()"
   ]
  },
  {
   "cell_type": "code",
   "execution_count": null,
   "metadata": {},
   "outputs": [],
   "source": [
    "train['start_turn_restricted'].value_counts()"
   ]
  },
  {
   "cell_type": "code",
   "execution_count": null,
   "metadata": {},
   "outputs": [],
   "source": [
    "# 위경도로 거리 도출\n",
    "train[\"distance\"] = train[[\"start_latitude\", \"start_longitude\", \"end_latitude\", \"end_longitude\"]].apply(lambda x: haversine((x[0], x[1]), (x[2], x[3])), axis=\"columns\")\n",
    "test[\"distance\"] = test[[\"start_latitude\", \"start_longitude\", \"end_latitude\", \"end_longitude\"]].apply(lambda x: haversine((x[0], x[1]), (x[2], x[3])), axis=\"columns\")"
   ]
  },
  {
   "cell_type": "code",
   "execution_count": null,
   "metadata": {},
   "outputs": [],
   "source": [
    "train['road_name'].value_counts()"
   ]
  },
  {
   "cell_type": "code",
   "execution_count": null,
   "metadata": {},
   "outputs": [],
   "source": [
    "train['start_node_name'].value_counts()"
   ]
  },
  {
   "cell_type": "code",
   "execution_count": null,
   "metadata": {},
   "outputs": [],
   "source": [
    "train['vehicle_restricted'].value_counts()"
   ]
  },
  {
   "cell_type": "code",
   "execution_count": null,
   "metadata": {},
   "outputs": [],
   "source": []
  },
  {
   "cell_type": "markdown",
   "metadata": {},
   "source": [
    "## 데이터 전처리"
   ]
  },
  {
   "cell_type": "code",
   "execution_count": null,
   "metadata": {},
   "outputs": [],
   "source": [
    "str_col = ['day_of_week','start_turn_restricted','end_turn_restricted']\n",
    "for i in str_col:\n",
    "    le = LabelEncoder()\n",
    "    le=le.fit(train[i])\n",
    "    train[i]=le.transform(train[i])\n",
    "    \n",
    "    for label in np.unique(test[i]):\n",
    "        if label not in le.classes_: \n",
    "            le.classes_ = np.append(le.classes_, label)\n",
    "    test[i]=le.transform(test[i])"
   ]
  },
  {
   "cell_type": "code",
   "execution_count": null,
   "metadata": {},
   "outputs": [],
   "source": [
    "y_train = train['target'] \n",
    "\n",
    "X_train = train.drop(['id','base_date', 'target','road_name', 'start_node_name', 'end_node_name','vehicle_restricted'], axis=1)\n",
    "\n",
    "test = test.drop(['id','base_date', 'road_name', 'start_node_name', 'end_node_name','vehicle_restricted'], axis=1)\n",
    "\n",
    "print(X_train.shape)\n",
    "print(y_train.shape)\n",
    "print(test.shape)"
   ]
  },
  {
   "cell_type": "markdown",
   "metadata": {},
   "source": [
    "## 모델링"
   ]
  },
  {
   "cell_type": "code",
   "execution_count": null,
   "metadata": {},
   "outputs": [],
   "source": [
    "LR = lgb.LGBMRegressor(random_state=42).fit(X_train, y_train)"
   ]
  },
  {
   "cell_type": "code",
   "execution_count": null,
   "metadata": {},
   "outputs": [],
   "source": []
  },
  {
   "cell_type": "markdown",
   "metadata": {},
   "source": [
    "## 예측"
   ]
  },
  {
   "cell_type": "code",
   "execution_count": null,
   "metadata": {},
   "outputs": [],
   "source": [
    "pred = LR.predict(test)"
   ]
  },
  {
   "cell_type": "code",
   "execution_count": null,
   "metadata": {},
   "outputs": [],
   "source": []
  },
  {
   "cell_type": "markdown",
   "metadata": {},
   "source": [
    "## 제출"
   ]
  },
  {
   "cell_type": "code",
   "execution_count": null,
   "metadata": {},
   "outputs": [],
   "source": [
    "sample_submission = pd.read_csv('input/sample_submission.csv')"
   ]
  },
  {
   "cell_type": "code",
   "execution_count": null,
   "metadata": {},
   "outputs": [],
   "source": [
    "sample_submission['target'] = pred\n",
    "sample_submission.to_csv(\"output/submit.csv\", index = False)"
   ]
  },
  {
   "cell_type": "code",
   "execution_count": null,
   "metadata": {},
   "outputs": [],
   "source": []
  }
 ],
 "metadata": {
  "kernelspec": {
   "display_name": "Python 3",
   "language": "python",
   "name": "python3"
  },
  "language_info": {
   "codemirror_mode": {
    "name": "ipython",
    "version": 3
   },
   "file_extension": ".py",
   "mimetype": "text/x-python",
   "name": "python",
   "nbconvert_exporter": "python",
   "pygments_lexer": "ipython3",
   "version": "3.7.6"
  }
 },
 "nbformat": 4,
 "nbformat_minor": 4
}
