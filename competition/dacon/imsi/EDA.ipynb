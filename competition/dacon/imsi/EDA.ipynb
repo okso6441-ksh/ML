{
 "cells": [
  {
   "cell_type": "code",
   "execution_count": 42,
   "metadata": {},
   "outputs": [],
   "source": [
    "import pandas as pd\n",
    "import numpy as np\n",
    "import seaborn as sns\n",
    "from sklearn.preprocessing import LabelEncoder\n",
    "import lightgbm as lgb\n",
    "import gc\n",
    "from haversine import haversine"
   ]
  },
  {
   "cell_type": "markdown",
   "metadata": {},
   "source": [
    "def csv_to_parquet(csv_path, save_name):\n",
    "    df = pd.read_csv(csv_path)\n",
    "    df.to_parquet(f'./{save_name}.parquet')\n",
    "    del df\n",
    "    gc.collect()\n",
    "    print(save_name, 'Done.')\n",
    "    \n",
    "csv_to_parquet('input/train.csv', 'train')\n",
    "csv_to_parquet('input/test.csv', 'test')    "
   ]
  },
  {
   "cell_type": "code",
   "execution_count": null,
   "metadata": {},
   "outputs": [],
   "source": []
  },
  {
   "cell_type": "markdown",
   "metadata": {},
   "source": [
    "### data info 전환"
   ]
  },
  {
   "cell_type": "code",
   "execution_count": 4,
   "metadata": {},
   "outputs": [],
   "source": [
    "#data_info = pd.read_csv('input/data_info.csv')"
   ]
  },
  {
   "cell_type": "code",
   "execution_count": 6,
   "metadata": {},
   "outputs": [],
   "source": [
    "#data_info.to_excel('data_info.xlsx', encoding='utf-8-sig')"
   ]
  },
  {
   "cell_type": "code",
   "execution_count": null,
   "metadata": {},
   "outputs": [],
   "source": []
  },
  {
   "cell_type": "code",
   "execution_count": 66,
   "metadata": {},
   "outputs": [
    {
     "data": {
      "text/plain": [
       "(5948, 38)"
      ]
     },
     "execution_count": 66,
     "metadata": {},
     "output_type": "execute_result"
    }
   ],
   "source": [
    "# https://data.kma.go.kr/data/grnd/selectAsosRltmList.do?pgmNo=36\n",
    "weather = pd.read_csv('input/weather.csv', encoding='cp949')\n",
    "weather.shape"
   ]
  },
  {
   "cell_type": "code",
   "execution_count": null,
   "metadata": {},
   "outputs": [],
   "source": []
  },
  {
   "cell_type": "code",
   "execution_count": 70,
   "metadata": {},
   "outputs": [
    {
     "data": {
      "text/html": [
       "<div>\n",
       "<style scoped>\n",
       "    .dataframe tbody tr th:only-of-type {\n",
       "        vertical-align: middle;\n",
       "    }\n",
       "\n",
       "    .dataframe tbody tr th {\n",
       "        vertical-align: top;\n",
       "    }\n",
       "\n",
       "    .dataframe thead th {\n",
       "        text-align: right;\n",
       "    }\n",
       "</style>\n",
       "<table border=\"1\" class=\"dataframe\">\n",
       "  <thead>\n",
       "    <tr style=\"text-align: right;\">\n",
       "      <th></th>\n",
       "      <th>지점</th>\n",
       "      <th>지점명</th>\n",
       "      <th>일시</th>\n",
       "      <th>기온(°C)</th>\n",
       "      <th>기온 QC플래그</th>\n",
       "      <th>강수량(mm)</th>\n",
       "      <th>강수량 QC플래그</th>\n",
       "      <th>풍속(m/s)</th>\n",
       "      <th>풍속 QC플래그</th>\n",
       "      <th>풍향(16방위)</th>\n",
       "      <th>...</th>\n",
       "      <th>최저운고(100m )</th>\n",
       "      <th>시정(10m)</th>\n",
       "      <th>지면상태(지면상태코드)</th>\n",
       "      <th>현상번호(국내식)</th>\n",
       "      <th>지면온도(°C)</th>\n",
       "      <th>지면온도 QC플래그</th>\n",
       "      <th>5cm 지중온도(°C)</th>\n",
       "      <th>10cm 지중온도(°C)</th>\n",
       "      <th>20cm 지중온도(°C)</th>\n",
       "      <th>30cm 지중온도(°C)</th>\n",
       "    </tr>\n",
       "  </thead>\n",
       "  <tbody>\n",
       "    <tr>\n",
       "      <th>count</th>\n",
       "      <td>5948.000000</td>\n",
       "      <td>5948</td>\n",
       "      <td>5948</td>\n",
       "      <td>5948.000000</td>\n",
       "      <td>0.0</td>\n",
       "      <td>673.000000</td>\n",
       "      <td>1336.0</td>\n",
       "      <td>5946.000000</td>\n",
       "      <td>2.0</td>\n",
       "      <td>5946.000000</td>\n",
       "      <td>...</td>\n",
       "      <td>4250.000000</td>\n",
       "      <td>5948.000000</td>\n",
       "      <td>0.0</td>\n",
       "      <td>448.000000</td>\n",
       "      <td>5947.000000</td>\n",
       "      <td>1.0</td>\n",
       "      <td>1487.000000</td>\n",
       "      <td>1487.000000</td>\n",
       "      <td>1487.000000</td>\n",
       "      <td>1487.000000</td>\n",
       "    </tr>\n",
       "    <tr>\n",
       "      <th>unique</th>\n",
       "      <td>NaN</td>\n",
       "      <td>4</td>\n",
       "      <td>1487</td>\n",
       "      <td>NaN</td>\n",
       "      <td>NaN</td>\n",
       "      <td>NaN</td>\n",
       "      <td>NaN</td>\n",
       "      <td>NaN</td>\n",
       "      <td>NaN</td>\n",
       "      <td>NaN</td>\n",
       "      <td>...</td>\n",
       "      <td>NaN</td>\n",
       "      <td>NaN</td>\n",
       "      <td>NaN</td>\n",
       "      <td>NaN</td>\n",
       "      <td>NaN</td>\n",
       "      <td>NaN</td>\n",
       "      <td>NaN</td>\n",
       "      <td>NaN</td>\n",
       "      <td>NaN</td>\n",
       "      <td>NaN</td>\n",
       "    </tr>\n",
       "    <tr>\n",
       "      <th>top</th>\n",
       "      <td>NaN</td>\n",
       "      <td>고산</td>\n",
       "      <td>2022-07-26 04:00</td>\n",
       "      <td>NaN</td>\n",
       "      <td>NaN</td>\n",
       "      <td>NaN</td>\n",
       "      <td>NaN</td>\n",
       "      <td>NaN</td>\n",
       "      <td>NaN</td>\n",
       "      <td>NaN</td>\n",
       "      <td>...</td>\n",
       "      <td>NaN</td>\n",
       "      <td>NaN</td>\n",
       "      <td>NaN</td>\n",
       "      <td>NaN</td>\n",
       "      <td>NaN</td>\n",
       "      <td>NaN</td>\n",
       "      <td>NaN</td>\n",
       "      <td>NaN</td>\n",
       "      <td>NaN</td>\n",
       "      <td>NaN</td>\n",
       "    </tr>\n",
       "    <tr>\n",
       "      <th>freq</th>\n",
       "      <td>NaN</td>\n",
       "      <td>1487</td>\n",
       "      <td>4</td>\n",
       "      <td>NaN</td>\n",
       "      <td>NaN</td>\n",
       "      <td>NaN</td>\n",
       "      <td>NaN</td>\n",
       "      <td>NaN</td>\n",
       "      <td>NaN</td>\n",
       "      <td>NaN</td>\n",
       "      <td>...</td>\n",
       "      <td>NaN</td>\n",
       "      <td>NaN</td>\n",
       "      <td>NaN</td>\n",
       "      <td>NaN</td>\n",
       "      <td>NaN</td>\n",
       "      <td>NaN</td>\n",
       "      <td>NaN</td>\n",
       "      <td>NaN</td>\n",
       "      <td>NaN</td>\n",
       "      <td>NaN</td>\n",
       "    </tr>\n",
       "    <tr>\n",
       "      <th>mean</th>\n",
       "      <td>186.500000</td>\n",
       "      <td>NaN</td>\n",
       "      <td>NaN</td>\n",
       "      <td>27.691174</td>\n",
       "      <td>NaN</td>\n",
       "      <td>2.480981</td>\n",
       "      <td>9.0</td>\n",
       "      <td>3.373058</td>\n",
       "      <td>9.0</td>\n",
       "      <td>188.847965</td>\n",
       "      <td>...</td>\n",
       "      <td>12.063294</td>\n",
       "      <td>2264.493107</td>\n",
       "      <td>NaN</td>\n",
       "      <td>1088.437500</td>\n",
       "      <td>31.126400</td>\n",
       "      <td>9.0</td>\n",
       "      <td>30.442098</td>\n",
       "      <td>30.558305</td>\n",
       "      <td>30.656624</td>\n",
       "      <td>30.389038</td>\n",
       "    </tr>\n",
       "    <tr>\n",
       "      <th>std</th>\n",
       "      <td>2.061726</td>\n",
       "      <td>NaN</td>\n",
       "      <td>NaN</td>\n",
       "      <td>2.282626</td>\n",
       "      <td>NaN</td>\n",
       "      <td>6.116128</td>\n",
       "      <td>0.0</td>\n",
       "      <td>2.166737</td>\n",
       "      <td>0.0</td>\n",
       "      <td>96.102875</td>\n",
       "      <td>...</td>\n",
       "      <td>14.999584</td>\n",
       "      <td>1061.302610</td>\n",
       "      <td>NaN</td>\n",
       "      <td>12786.938356</td>\n",
       "      <td>5.891328</td>\n",
       "      <td>NaN</td>\n",
       "      <td>1.726362</td>\n",
       "      <td>1.630628</td>\n",
       "      <td>1.238528</td>\n",
       "      <td>0.901797</td>\n",
       "    </tr>\n",
       "    <tr>\n",
       "      <th>min</th>\n",
       "      <td>184.000000</td>\n",
       "      <td>NaN</td>\n",
       "      <td>NaN</td>\n",
       "      <td>19.500000</td>\n",
       "      <td>NaN</td>\n",
       "      <td>0.000000</td>\n",
       "      <td>9.0</td>\n",
       "      <td>0.000000</td>\n",
       "      <td>9.0</td>\n",
       "      <td>0.000000</td>\n",
       "      <td>...</td>\n",
       "      <td>1.000000</td>\n",
       "      <td>29.000000</td>\n",
       "      <td>NaN</td>\n",
       "      <td>1.000000</td>\n",
       "      <td>18.800000</td>\n",
       "      <td>9.0</td>\n",
       "      <td>26.200000</td>\n",
       "      <td>26.500000</td>\n",
       "      <td>27.600000</td>\n",
       "      <td>28.600000</td>\n",
       "    </tr>\n",
       "    <tr>\n",
       "      <th>25%</th>\n",
       "      <td>184.750000</td>\n",
       "      <td>NaN</td>\n",
       "      <td>NaN</td>\n",
       "      <td>26.300000</td>\n",
       "      <td>NaN</td>\n",
       "      <td>0.000000</td>\n",
       "      <td>9.0</td>\n",
       "      <td>1.700000</td>\n",
       "      <td>9.0</td>\n",
       "      <td>110.000000</td>\n",
       "      <td>...</td>\n",
       "      <td>4.000000</td>\n",
       "      <td>1948.000000</td>\n",
       "      <td>NaN</td>\n",
       "      <td>1.000000</td>\n",
       "      <td>27.100000</td>\n",
       "      <td>9.0</td>\n",
       "      <td>29.200000</td>\n",
       "      <td>29.400000</td>\n",
       "      <td>29.700000</td>\n",
       "      <td>29.700000</td>\n",
       "    </tr>\n",
       "    <tr>\n",
       "      <th>50%</th>\n",
       "      <td>186.500000</td>\n",
       "      <td>NaN</td>\n",
       "      <td>NaN</td>\n",
       "      <td>27.600000</td>\n",
       "      <td>NaN</td>\n",
       "      <td>0.200000</td>\n",
       "      <td>9.0</td>\n",
       "      <td>3.000000</td>\n",
       "      <td>9.0</td>\n",
       "      <td>200.000000</td>\n",
       "      <td>...</td>\n",
       "      <td>7.000000</td>\n",
       "      <td>2000.000000</td>\n",
       "      <td>NaN</td>\n",
       "      <td>1.000000</td>\n",
       "      <td>29.300000</td>\n",
       "      <td>9.0</td>\n",
       "      <td>30.300000</td>\n",
       "      <td>30.400000</td>\n",
       "      <td>30.700000</td>\n",
       "      <td>30.300000</td>\n",
       "    </tr>\n",
       "    <tr>\n",
       "      <th>75%</th>\n",
       "      <td>188.250000</td>\n",
       "      <td>NaN</td>\n",
       "      <td>NaN</td>\n",
       "      <td>28.900000</td>\n",
       "      <td>NaN</td>\n",
       "      <td>2.000000</td>\n",
       "      <td>9.0</td>\n",
       "      <td>4.700000</td>\n",
       "      <td>9.0</td>\n",
       "      <td>250.000000</td>\n",
       "      <td>...</td>\n",
       "      <td>11.000000</td>\n",
       "      <td>2000.000000</td>\n",
       "      <td>NaN</td>\n",
       "      <td>19.000000</td>\n",
       "      <td>33.900000</td>\n",
       "      <td>9.0</td>\n",
       "      <td>31.700000</td>\n",
       "      <td>31.700000</td>\n",
       "      <td>31.600000</td>\n",
       "      <td>31.100000</td>\n",
       "    </tr>\n",
       "    <tr>\n",
       "      <th>max</th>\n",
       "      <td>189.000000</td>\n",
       "      <td>NaN</td>\n",
       "      <td>NaN</td>\n",
       "      <td>36.900000</td>\n",
       "      <td>NaN</td>\n",
       "      <td>53.800000</td>\n",
       "      <td>9.0</td>\n",
       "      <td>16.400000</td>\n",
       "      <td>9.0</td>\n",
       "      <td>360.000000</td>\n",
       "      <td>...</td>\n",
       "      <td>76.000000</td>\n",
       "      <td>5000.000000</td>\n",
       "      <td>NaN</td>\n",
       "      <td>191602.000000</td>\n",
       "      <td>59.000000</td>\n",
       "      <td>9.0</td>\n",
       "      <td>35.100000</td>\n",
       "      <td>35.100000</td>\n",
       "      <td>33.900000</td>\n",
       "      <td>32.300000</td>\n",
       "    </tr>\n",
       "  </tbody>\n",
       "</table>\n",
       "<p>11 rows × 38 columns</p>\n",
       "</div>"
      ],
      "text/plain": [
       "                 지점   지점명                일시       기온(°C)  기온 QC플래그  \\\n",
       "count   5948.000000  5948              5948  5948.000000       0.0   \n",
       "unique          NaN     4              1487          NaN       NaN   \n",
       "top             NaN    고산  2022-07-26 04:00          NaN       NaN   \n",
       "freq            NaN  1487                 4          NaN       NaN   \n",
       "mean     186.500000   NaN               NaN    27.691174       NaN   \n",
       "std        2.061726   NaN               NaN     2.282626       NaN   \n",
       "min      184.000000   NaN               NaN    19.500000       NaN   \n",
       "25%      184.750000   NaN               NaN    26.300000       NaN   \n",
       "50%      186.500000   NaN               NaN    27.600000       NaN   \n",
       "75%      188.250000   NaN               NaN    28.900000       NaN   \n",
       "max      189.000000   NaN               NaN    36.900000       NaN   \n",
       "\n",
       "           강수량(mm)  강수량 QC플래그      풍속(m/s)  풍속 QC플래그     풍향(16방위)  ...  \\\n",
       "count   673.000000     1336.0  5946.000000       2.0  5946.000000  ...   \n",
       "unique         NaN        NaN          NaN       NaN          NaN  ...   \n",
       "top            NaN        NaN          NaN       NaN          NaN  ...   \n",
       "freq           NaN        NaN          NaN       NaN          NaN  ...   \n",
       "mean      2.480981        9.0     3.373058       9.0   188.847965  ...   \n",
       "std       6.116128        0.0     2.166737       0.0    96.102875  ...   \n",
       "min       0.000000        9.0     0.000000       9.0     0.000000  ...   \n",
       "25%       0.000000        9.0     1.700000       9.0   110.000000  ...   \n",
       "50%       0.200000        9.0     3.000000       9.0   200.000000  ...   \n",
       "75%       2.000000        9.0     4.700000       9.0   250.000000  ...   \n",
       "max      53.800000        9.0    16.400000       9.0   360.000000  ...   \n",
       "\n",
       "        최저운고(100m )      시정(10m)  지면상태(지면상태코드)      현상번호(국내식)     지면온도(°C)  \\\n",
       "count   4250.000000  5948.000000           0.0     448.000000  5947.000000   \n",
       "unique          NaN          NaN           NaN            NaN          NaN   \n",
       "top             NaN          NaN           NaN            NaN          NaN   \n",
       "freq            NaN          NaN           NaN            NaN          NaN   \n",
       "mean      12.063294  2264.493107           NaN    1088.437500    31.126400   \n",
       "std       14.999584  1061.302610           NaN   12786.938356     5.891328   \n",
       "min        1.000000    29.000000           NaN       1.000000    18.800000   \n",
       "25%        4.000000  1948.000000           NaN       1.000000    27.100000   \n",
       "50%        7.000000  2000.000000           NaN       1.000000    29.300000   \n",
       "75%       11.000000  2000.000000           NaN      19.000000    33.900000   \n",
       "max       76.000000  5000.000000           NaN  191602.000000    59.000000   \n",
       "\n",
       "        지면온도 QC플래그  5cm 지중온도(°C)  10cm 지중온도(°C)  20cm 지중온도(°C)  30cm 지중온도(°C)  \n",
       "count          1.0   1487.000000    1487.000000    1487.000000    1487.000000  \n",
       "unique         NaN           NaN            NaN            NaN            NaN  \n",
       "top            NaN           NaN            NaN            NaN            NaN  \n",
       "freq           NaN           NaN            NaN            NaN            NaN  \n",
       "mean           9.0     30.442098      30.558305      30.656624      30.389038  \n",
       "std            NaN      1.726362       1.630628       1.238528       0.901797  \n",
       "min            9.0     26.200000      26.500000      27.600000      28.600000  \n",
       "25%            9.0     29.200000      29.400000      29.700000      29.700000  \n",
       "50%            9.0     30.300000      30.400000      30.700000      30.300000  \n",
       "75%            9.0     31.700000      31.700000      31.600000      31.100000  \n",
       "max            9.0     35.100000      35.100000      33.900000      32.300000  \n",
       "\n",
       "[11 rows x 38 columns]"
      ]
     },
     "execution_count": 70,
     "metadata": {},
     "output_type": "execute_result"
    }
   ],
   "source": [
    "weather.describe(include=\"all\")"
   ]
  },
  {
   "cell_type": "code",
   "execution_count": 72,
   "metadata": {},
   "outputs": [
    {
     "data": {
      "text/plain": [
       "Index(['지점', '지점명', '일시', '기온(°C)', '기온 QC플래그', '강수량(mm)', '강수량 QC플래그',\n",
       "       '풍속(m/s)', '풍속 QC플래그', '풍향(16방위)', '풍향 QC플래그', '습도(%)', '습도 QC플래그',\n",
       "       '증기압(hPa)', '이슬점온도(°C)', '현지기압(hPa)', '현지기압 QC플래그', '해면기압(hPa)',\n",
       "       '해면기압 QC플래그', '일조(hr)', '일조 QC플래그', '일사(MJ/m2)', '일사 QC플래그', '적설(cm)',\n",
       "       '3시간신적설(cm)', '전운량(10분위)', '중하층운량(10분위)', '운형(운형약어)', '최저운고(100m )',\n",
       "       '시정(10m)', '지면상태(지면상태코드)', '현상번호(국내식)', '지면온도(°C)', '지면온도 QC플래그',\n",
       "       '5cm 지중온도(°C)', '10cm 지중온도(°C)', '20cm 지중온도(°C)', '30cm 지중온도(°C)'],\n",
       "      dtype='object')"
      ]
     },
     "execution_count": 72,
     "metadata": {},
     "output_type": "execute_result"
    }
   ],
   "source": [
    "weather.columns"
   ]
  },
  {
   "cell_type": "code",
   "execution_count": 71,
   "metadata": {},
   "outputs": [
    {
     "data": {
      "text/plain": [
       "고산     1487\n",
       "서귀포    1487\n",
       "성산     1487\n",
       "제주     1487\n",
       "Name: 지점명, dtype: int64"
      ]
     },
     "execution_count": 71,
     "metadata": {},
     "output_type": "execute_result"
    }
   ],
   "source": [
    "weather['지점명'].value_counts()"
   ]
  },
  {
   "cell_type": "code",
   "execution_count": 73,
   "metadata": {},
   "outputs": [
    {
     "data": {
      "text/plain": [
       "2022-07-26 04:00    4\n",
       "2022-08-01 10:00    4\n",
       "2022-08-31 03:00    4\n",
       "2022-08-20 06:00    4\n",
       "2022-08-01 21:00    4\n",
       "                   ..\n",
       "2022-08-27 03:00    4\n",
       "2022-07-23 22:00    4\n",
       "2022-08-29 21:00    4\n",
       "2022-07-17 03:00    4\n",
       "2022-07-06 07:00    4\n",
       "Name: 일시, Length: 1487, dtype: int64"
      ]
     },
     "execution_count": 73,
     "metadata": {},
     "output_type": "execute_result"
    }
   ],
   "source": [
    "weather['일시'].value_counts().sort_values()"
   ]
  },
  {
   "cell_type": "code",
   "execution_count": 75,
   "metadata": {},
   "outputs": [
    {
     "data": {
      "text/html": [
       "<div>\n",
       "<style scoped>\n",
       "    .dataframe tbody tr th:only-of-type {\n",
       "        vertical-align: middle;\n",
       "    }\n",
       "\n",
       "    .dataframe tbody tr th {\n",
       "        vertical-align: top;\n",
       "    }\n",
       "\n",
       "    .dataframe thead th {\n",
       "        text-align: right;\n",
       "    }\n",
       "</style>\n",
       "<table border=\"1\" class=\"dataframe\">\n",
       "  <thead>\n",
       "    <tr style=\"text-align: right;\">\n",
       "      <th></th>\n",
       "      <th>603</th>\n",
       "      <th>2090</th>\n",
       "      <th>3577</th>\n",
       "      <th>5064</th>\n",
       "    </tr>\n",
       "  </thead>\n",
       "  <tbody>\n",
       "    <tr>\n",
       "      <th>지점</th>\n",
       "      <td>184</td>\n",
       "      <td>185</td>\n",
       "      <td>188</td>\n",
       "      <td>189</td>\n",
       "    </tr>\n",
       "    <tr>\n",
       "      <th>지점명</th>\n",
       "      <td>제주</td>\n",
       "      <td>고산</td>\n",
       "      <td>성산</td>\n",
       "      <td>서귀포</td>\n",
       "    </tr>\n",
       "    <tr>\n",
       "      <th>일시</th>\n",
       "      <td>2022-07-26 04:00</td>\n",
       "      <td>2022-07-26 04:00</td>\n",
       "      <td>2022-07-26 04:00</td>\n",
       "      <td>2022-07-26 04:00</td>\n",
       "    </tr>\n",
       "    <tr>\n",
       "      <th>기온(°C)</th>\n",
       "      <td>23.5</td>\n",
       "      <td>23.9</td>\n",
       "      <td>21.7</td>\n",
       "      <td>23.2</td>\n",
       "    </tr>\n",
       "    <tr>\n",
       "      <th>기온 QC플래그</th>\n",
       "      <td>NaN</td>\n",
       "      <td>NaN</td>\n",
       "      <td>NaN</td>\n",
       "      <td>NaN</td>\n",
       "    </tr>\n",
       "    <tr>\n",
       "      <th>강수량(mm)</th>\n",
       "      <td>NaN</td>\n",
       "      <td>NaN</td>\n",
       "      <td>NaN</td>\n",
       "      <td>NaN</td>\n",
       "    </tr>\n",
       "    <tr>\n",
       "      <th>강수량 QC플래그</th>\n",
       "      <td>NaN</td>\n",
       "      <td>NaN</td>\n",
       "      <td>NaN</td>\n",
       "      <td>NaN</td>\n",
       "    </tr>\n",
       "    <tr>\n",
       "      <th>풍속(m/s)</th>\n",
       "      <td>1.5</td>\n",
       "      <td>2</td>\n",
       "      <td>1.1</td>\n",
       "      <td>1.7</td>\n",
       "    </tr>\n",
       "    <tr>\n",
       "      <th>풍속 QC플래그</th>\n",
       "      <td>NaN</td>\n",
       "      <td>NaN</td>\n",
       "      <td>NaN</td>\n",
       "      <td>NaN</td>\n",
       "    </tr>\n",
       "    <tr>\n",
       "      <th>풍향(16방위)</th>\n",
       "      <td>180</td>\n",
       "      <td>340</td>\n",
       "      <td>20</td>\n",
       "      <td>360</td>\n",
       "    </tr>\n",
       "    <tr>\n",
       "      <th>풍향 QC플래그</th>\n",
       "      <td>NaN</td>\n",
       "      <td>NaN</td>\n",
       "      <td>NaN</td>\n",
       "      <td>NaN</td>\n",
       "    </tr>\n",
       "    <tr>\n",
       "      <th>습도(%)</th>\n",
       "      <td>81</td>\n",
       "      <td>98</td>\n",
       "      <td>91</td>\n",
       "      <td>85</td>\n",
       "    </tr>\n",
       "    <tr>\n",
       "      <th>습도 QC플래그</th>\n",
       "      <td>NaN</td>\n",
       "      <td>NaN</td>\n",
       "      <td>NaN</td>\n",
       "      <td>NaN</td>\n",
       "    </tr>\n",
       "    <tr>\n",
       "      <th>증기압(hPa)</th>\n",
       "      <td>23.4</td>\n",
       "      <td>29.1</td>\n",
       "      <td>23.7</td>\n",
       "      <td>24.1</td>\n",
       "    </tr>\n",
       "    <tr>\n",
       "      <th>이슬점온도(°C)</th>\n",
       "      <td>20</td>\n",
       "      <td>23.6</td>\n",
       "      <td>20.2</td>\n",
       "      <td>20.5</td>\n",
       "    </tr>\n",
       "    <tr>\n",
       "      <th>현지기압(hPa)</th>\n",
       "      <td>1007.6</td>\n",
       "      <td>1001.3</td>\n",
       "      <td>1007.4</td>\n",
       "      <td>1003.7</td>\n",
       "    </tr>\n",
       "    <tr>\n",
       "      <th>현지기압 QC플래그</th>\n",
       "      <td>NaN</td>\n",
       "      <td>NaN</td>\n",
       "      <td>NaN</td>\n",
       "      <td>NaN</td>\n",
       "    </tr>\n",
       "    <tr>\n",
       "      <th>해면기압(hPa)</th>\n",
       "      <td>1010</td>\n",
       "      <td>1009.4</td>\n",
       "      <td>1009.7</td>\n",
       "      <td>1009.6</td>\n",
       "    </tr>\n",
       "    <tr>\n",
       "      <th>해면기압 QC플래그</th>\n",
       "      <td>NaN</td>\n",
       "      <td>NaN</td>\n",
       "      <td>NaN</td>\n",
       "      <td>NaN</td>\n",
       "    </tr>\n",
       "    <tr>\n",
       "      <th>일조(hr)</th>\n",
       "      <td>NaN</td>\n",
       "      <td>NaN</td>\n",
       "      <td>NaN</td>\n",
       "      <td>NaN</td>\n",
       "    </tr>\n",
       "    <tr>\n",
       "      <th>일조 QC플래그</th>\n",
       "      <td>9</td>\n",
       "      <td>9</td>\n",
       "      <td>9</td>\n",
       "      <td>9</td>\n",
       "    </tr>\n",
       "    <tr>\n",
       "      <th>일사(MJ/m2)</th>\n",
       "      <td>NaN</td>\n",
       "      <td>NaN</td>\n",
       "      <td>NaN</td>\n",
       "      <td>NaN</td>\n",
       "    </tr>\n",
       "    <tr>\n",
       "      <th>일사 QC플래그</th>\n",
       "      <td>9</td>\n",
       "      <td>9</td>\n",
       "      <td>9</td>\n",
       "      <td>9</td>\n",
       "    </tr>\n",
       "    <tr>\n",
       "      <th>적설(cm)</th>\n",
       "      <td>NaN</td>\n",
       "      <td>NaN</td>\n",
       "      <td>NaN</td>\n",
       "      <td>NaN</td>\n",
       "    </tr>\n",
       "    <tr>\n",
       "      <th>3시간신적설(cm)</th>\n",
       "      <td>NaN</td>\n",
       "      <td>NaN</td>\n",
       "      <td>NaN</td>\n",
       "      <td>NaN</td>\n",
       "    </tr>\n",
       "    <tr>\n",
       "      <th>전운량(10분위)</th>\n",
       "      <td>8</td>\n",
       "      <td>0</td>\n",
       "      <td>2</td>\n",
       "      <td>0</td>\n",
       "    </tr>\n",
       "    <tr>\n",
       "      <th>중하층운량(10분위)</th>\n",
       "      <td>8</td>\n",
       "      <td>0</td>\n",
       "      <td>0</td>\n",
       "      <td>0</td>\n",
       "    </tr>\n",
       "    <tr>\n",
       "      <th>운형(운형약어)</th>\n",
       "      <td>Sc</td>\n",
       "      <td>NaN</td>\n",
       "      <td>NaN</td>\n",
       "      <td>NaN</td>\n",
       "    </tr>\n",
       "    <tr>\n",
       "      <th>최저운고(100m )</th>\n",
       "      <td>10</td>\n",
       "      <td>NaN</td>\n",
       "      <td>NaN</td>\n",
       "      <td>NaN</td>\n",
       "    </tr>\n",
       "    <tr>\n",
       "      <th>시정(10m)</th>\n",
       "      <td>4640</td>\n",
       "      <td>1850</td>\n",
       "      <td>2000</td>\n",
       "      <td>2000</td>\n",
       "    </tr>\n",
       "    <tr>\n",
       "      <th>지면상태(지면상태코드)</th>\n",
       "      <td>NaN</td>\n",
       "      <td>NaN</td>\n",
       "      <td>NaN</td>\n",
       "      <td>NaN</td>\n",
       "    </tr>\n",
       "    <tr>\n",
       "      <th>현상번호(국내식)</th>\n",
       "      <td>NaN</td>\n",
       "      <td>NaN</td>\n",
       "      <td>NaN</td>\n",
       "      <td>NaN</td>\n",
       "    </tr>\n",
       "    <tr>\n",
       "      <th>지면온도(°C)</th>\n",
       "      <td>25.2</td>\n",
       "      <td>23.7</td>\n",
       "      <td>22.7</td>\n",
       "      <td>25.2</td>\n",
       "    </tr>\n",
       "    <tr>\n",
       "      <th>지면온도 QC플래그</th>\n",
       "      <td>NaN</td>\n",
       "      <td>NaN</td>\n",
       "      <td>NaN</td>\n",
       "      <td>NaN</td>\n",
       "    </tr>\n",
       "    <tr>\n",
       "      <th>5cm 지중온도(°C)</th>\n",
       "      <td>28.4</td>\n",
       "      <td>NaN</td>\n",
       "      <td>NaN</td>\n",
       "      <td>NaN</td>\n",
       "    </tr>\n",
       "    <tr>\n",
       "      <th>10cm 지중온도(°C)</th>\n",
       "      <td>28.7</td>\n",
       "      <td>NaN</td>\n",
       "      <td>NaN</td>\n",
       "      <td>NaN</td>\n",
       "    </tr>\n",
       "    <tr>\n",
       "      <th>20cm 지중온도(°C)</th>\n",
       "      <td>29.9</td>\n",
       "      <td>NaN</td>\n",
       "      <td>NaN</td>\n",
       "      <td>NaN</td>\n",
       "    </tr>\n",
       "    <tr>\n",
       "      <th>30cm 지중온도(°C)</th>\n",
       "      <td>30.1</td>\n",
       "      <td>NaN</td>\n",
       "      <td>NaN</td>\n",
       "      <td>NaN</td>\n",
       "    </tr>\n",
       "  </tbody>\n",
       "</table>\n",
       "</div>"
      ],
      "text/plain": [
       "                           603               2090              3577  \\\n",
       "지점                          184               185               188   \n",
       "지점명                          제주                고산                성산   \n",
       "일시             2022-07-26 04:00  2022-07-26 04:00  2022-07-26 04:00   \n",
       "기온(°C)                     23.5              23.9              21.7   \n",
       "기온 QC플래그                    NaN               NaN               NaN   \n",
       "강수량(mm)                     NaN               NaN               NaN   \n",
       "강수량 QC플래그                   NaN               NaN               NaN   \n",
       "풍속(m/s)                     1.5                 2               1.1   \n",
       "풍속 QC플래그                    NaN               NaN               NaN   \n",
       "풍향(16방위)                    180               340                20   \n",
       "풍향 QC플래그                    NaN               NaN               NaN   \n",
       "습도(%)                        81                98                91   \n",
       "습도 QC플래그                    NaN               NaN               NaN   \n",
       "증기압(hPa)                   23.4              29.1              23.7   \n",
       "이슬점온도(°C)                    20              23.6              20.2   \n",
       "현지기압(hPa)                1007.6            1001.3            1007.4   \n",
       "현지기압 QC플래그                  NaN               NaN               NaN   \n",
       "해면기압(hPa)                  1010            1009.4            1009.7   \n",
       "해면기압 QC플래그                  NaN               NaN               NaN   \n",
       "일조(hr)                      NaN               NaN               NaN   \n",
       "일조 QC플래그                      9                 9                 9   \n",
       "일사(MJ/m2)                   NaN               NaN               NaN   \n",
       "일사 QC플래그                      9                 9                 9   \n",
       "적설(cm)                      NaN               NaN               NaN   \n",
       "3시간신적설(cm)                  NaN               NaN               NaN   \n",
       "전운량(10분위)                     8                 0                 2   \n",
       "중하층운량(10분위)                   8                 0                 0   \n",
       "운형(운형약어)                     Sc               NaN               NaN   \n",
       "최저운고(100m )                  10               NaN               NaN   \n",
       "시정(10m)                    4640              1850              2000   \n",
       "지면상태(지면상태코드)                NaN               NaN               NaN   \n",
       "현상번호(국내식)                   NaN               NaN               NaN   \n",
       "지면온도(°C)                   25.2              23.7              22.7   \n",
       "지면온도 QC플래그                  NaN               NaN               NaN   \n",
       "5cm 지중온도(°C)               28.4               NaN               NaN   \n",
       "10cm 지중온도(°C)              28.7               NaN               NaN   \n",
       "20cm 지중온도(°C)              29.9               NaN               NaN   \n",
       "30cm 지중온도(°C)              30.1               NaN               NaN   \n",
       "\n",
       "                           5064  \n",
       "지점                          189  \n",
       "지점명                         서귀포  \n",
       "일시             2022-07-26 04:00  \n",
       "기온(°C)                     23.2  \n",
       "기온 QC플래그                    NaN  \n",
       "강수량(mm)                     NaN  \n",
       "강수량 QC플래그                   NaN  \n",
       "풍속(m/s)                     1.7  \n",
       "풍속 QC플래그                    NaN  \n",
       "풍향(16방위)                    360  \n",
       "풍향 QC플래그                    NaN  \n",
       "습도(%)                        85  \n",
       "습도 QC플래그                    NaN  \n",
       "증기압(hPa)                   24.1  \n",
       "이슬점온도(°C)                  20.5  \n",
       "현지기압(hPa)                1003.7  \n",
       "현지기압 QC플래그                  NaN  \n",
       "해면기압(hPa)                1009.6  \n",
       "해면기압 QC플래그                  NaN  \n",
       "일조(hr)                      NaN  \n",
       "일조 QC플래그                      9  \n",
       "일사(MJ/m2)                   NaN  \n",
       "일사 QC플래그                      9  \n",
       "적설(cm)                      NaN  \n",
       "3시간신적설(cm)                  NaN  \n",
       "전운량(10분위)                     0  \n",
       "중하층운량(10분위)                   0  \n",
       "운형(운형약어)                    NaN  \n",
       "최저운고(100m )                 NaN  \n",
       "시정(10m)                    2000  \n",
       "지면상태(지면상태코드)                NaN  \n",
       "현상번호(국내식)                   NaN  \n",
       "지면온도(°C)                   25.2  \n",
       "지면온도 QC플래그                  NaN  \n",
       "5cm 지중온도(°C)                NaN  \n",
       "10cm 지중온도(°C)               NaN  \n",
       "20cm 지중온도(°C)               NaN  \n",
       "30cm 지중온도(°C)               NaN  "
      ]
     },
     "execution_count": 75,
     "metadata": {},
     "output_type": "execute_result"
    }
   ],
   "source": [
    "weather[weather['일시'] == '2022-07-26 04:00'].T"
   ]
  },
  {
   "cell_type": "code",
   "execution_count": null,
   "metadata": {},
   "outputs": [],
   "source": [
    "weather.groupby(['일시','지점명']).agg({'기온(°C)':'m'})"
   ]
  },
  {
   "cell_type": "markdown",
   "metadata": {},
   "source": [
    "## data load"
   ]
  },
  {
   "cell_type": "code",
   "execution_count": 8,
   "metadata": {},
   "outputs": [],
   "source": [
    "#!pip install pyarrow"
   ]
  },
  {
   "cell_type": "code",
   "execution_count": 8,
   "metadata": {},
   "outputs": [
    {
     "name": "stdout",
     "output_type": "stream",
     "text": [
      "train Done.\n",
      "test Done.\n"
     ]
    }
   ],
   "source": []
  },
  {
   "cell_type": "code",
   "execution_count": 48,
   "metadata": {},
   "outputs": [],
   "source": [
    "train = pd.read_parquet('./train.parquet')\n",
    "test = pd.read_parquet('./test.parquet')"
   ]
  },
  {
   "cell_type": "code",
   "execution_count": null,
   "metadata": {},
   "outputs": [],
   "source": []
  },
  {
   "cell_type": "markdown",
   "metadata": {},
   "source": [
    "## EDA"
   ]
  },
  {
   "cell_type": "code",
   "execution_count": 10,
   "metadata": {},
   "outputs": [
    {
     "data": {
      "text/plain": [
       "((4701217, 23), (291241, 22))"
      ]
     },
     "execution_count": 10,
     "metadata": {},
     "output_type": "execute_result"
    }
   ],
   "source": [
    "train.shape, test.shape"
   ]
  },
  {
   "cell_type": "code",
   "execution_count": 11,
   "metadata": {},
   "outputs": [
    {
     "name": "stdout",
     "output_type": "stream",
     "text": [
      "<class 'pandas.core.frame.DataFrame'>\n",
      "RangeIndex: 4701217 entries, 0 to 4701216\n",
      "Data columns (total 23 columns):\n",
      " #   Column                 Dtype  \n",
      "---  ------                 -----  \n",
      " 0   id                     object \n",
      " 1   base_date              int64  \n",
      " 2   day_of_week            object \n",
      " 3   base_hour              int64  \n",
      " 4   lane_count             int64  \n",
      " 5   road_rating            int64  \n",
      " 6   road_name              object \n",
      " 7   multi_linked           int64  \n",
      " 8   connect_code           int64  \n",
      " 9   maximum_speed_limit    float64\n",
      " 10  vehicle_restricted     float64\n",
      " 11  weight_restricted      float64\n",
      " 12  height_restricted      float64\n",
      " 13  road_type              int64  \n",
      " 14  start_node_name        object \n",
      " 15  start_latitude         float64\n",
      " 16  start_longitude        float64\n",
      " 17  start_turn_restricted  object \n",
      " 18  end_node_name          object \n",
      " 19  end_latitude           float64\n",
      " 20  end_longitude          float64\n",
      " 21  end_turn_restricted    object \n",
      " 22  target                 float64\n",
      "dtypes: float64(9), int64(7), object(7)\n",
      "memory usage: 825.0+ MB\n"
     ]
    }
   ],
   "source": [
    "train.info()"
   ]
  },
  {
   "cell_type": "code",
   "execution_count": 13,
   "metadata": {},
   "outputs": [
    {
     "data": {
      "text/plain": [
       "(0, 0)"
      ]
     },
     "execution_count": 13,
     "metadata": {},
     "output_type": "execute_result"
    }
   ],
   "source": [
    "train.isna().sum().sum(), test.isna().sum().sum()"
   ]
  },
  {
   "cell_type": "code",
   "execution_count": 16,
   "metadata": {},
   "outputs": [
    {
     "data": {
      "text/html": [
       "<div>\n",
       "<style scoped>\n",
       "    .dataframe tbody tr th:only-of-type {\n",
       "        vertical-align: middle;\n",
       "    }\n",
       "\n",
       "    .dataframe tbody tr th {\n",
       "        vertical-align: top;\n",
       "    }\n",
       "\n",
       "    .dataframe thead th {\n",
       "        text-align: right;\n",
       "    }\n",
       "</style>\n",
       "<table border=\"1\" class=\"dataframe\">\n",
       "  <thead>\n",
       "    <tr style=\"text-align: right;\">\n",
       "      <th></th>\n",
       "      <th>count</th>\n",
       "      <th>unique</th>\n",
       "      <th>top</th>\n",
       "      <th>freq</th>\n",
       "      <th>mean</th>\n",
       "      <th>std</th>\n",
       "      <th>min</th>\n",
       "      <th>25%</th>\n",
       "      <th>50%</th>\n",
       "      <th>75%</th>\n",
       "      <th>max</th>\n",
       "    </tr>\n",
       "  </thead>\n",
       "  <tbody>\n",
       "    <tr>\n",
       "      <th>id</th>\n",
       "      <td>4701217</td>\n",
       "      <td>4701217</td>\n",
       "      <td>TRAIN_0366498</td>\n",
       "      <td>1</td>\n",
       "      <td>NaN</td>\n",
       "      <td>NaN</td>\n",
       "      <td>NaN</td>\n",
       "      <td>NaN</td>\n",
       "      <td>NaN</td>\n",
       "      <td>NaN</td>\n",
       "      <td>NaN</td>\n",
       "    </tr>\n",
       "    <tr>\n",
       "      <th>base_date</th>\n",
       "      <td>4.70122e+06</td>\n",
       "      <td>NaN</td>\n",
       "      <td>NaN</td>\n",
       "      <td>NaN</td>\n",
       "      <td>2.02167e+07</td>\n",
       "      <td>4555.71</td>\n",
       "      <td>2.02109e+07</td>\n",
       "      <td>2.02111e+07</td>\n",
       "      <td>2.02201e+07</td>\n",
       "      <td>2.02205e+07</td>\n",
       "      <td>2.02207e+07</td>\n",
       "    </tr>\n",
       "    <tr>\n",
       "      <th>day_of_week</th>\n",
       "      <td>4701217</td>\n",
       "      <td>7</td>\n",
       "      <td>금</td>\n",
       "      <td>684024</td>\n",
       "      <td>NaN</td>\n",
       "      <td>NaN</td>\n",
       "      <td>NaN</td>\n",
       "      <td>NaN</td>\n",
       "      <td>NaN</td>\n",
       "      <td>NaN</td>\n",
       "      <td>NaN</td>\n",
       "    </tr>\n",
       "    <tr>\n",
       "      <th>base_hour</th>\n",
       "      <td>4.70122e+06</td>\n",
       "      <td>NaN</td>\n",
       "      <td>NaN</td>\n",
       "      <td>NaN</td>\n",
       "      <td>11.9282</td>\n",
       "      <td>6.72209</td>\n",
       "      <td>0</td>\n",
       "      <td>6</td>\n",
       "      <td>12</td>\n",
       "      <td>18</td>\n",
       "      <td>23</td>\n",
       "    </tr>\n",
       "    <tr>\n",
       "      <th>lane_count</th>\n",
       "      <td>4.70122e+06</td>\n",
       "      <td>NaN</td>\n",
       "      <td>NaN</td>\n",
       "      <td>NaN</td>\n",
       "      <td>1.83665</td>\n",
       "      <td>0.687751</td>\n",
       "      <td>1</td>\n",
       "      <td>1</td>\n",
       "      <td>2</td>\n",
       "      <td>2</td>\n",
       "      <td>3</td>\n",
       "    </tr>\n",
       "    <tr>\n",
       "      <th>road_rating</th>\n",
       "      <td>4.70122e+06</td>\n",
       "      <td>NaN</td>\n",
       "      <td>NaN</td>\n",
       "      <td>NaN</td>\n",
       "      <td>104.958</td>\n",
       "      <td>1.84011</td>\n",
       "      <td>103</td>\n",
       "      <td>103</td>\n",
       "      <td>106</td>\n",
       "      <td>107</td>\n",
       "      <td>107</td>\n",
       "    </tr>\n",
       "    <tr>\n",
       "      <th>road_name</th>\n",
       "      <td>4701217</td>\n",
       "      <td>61</td>\n",
       "      <td>일반국도12호선</td>\n",
       "      <td>1046092</td>\n",
       "      <td>NaN</td>\n",
       "      <td>NaN</td>\n",
       "      <td>NaN</td>\n",
       "      <td>NaN</td>\n",
       "      <td>NaN</td>\n",
       "      <td>NaN</td>\n",
       "      <td>NaN</td>\n",
       "    </tr>\n",
       "    <tr>\n",
       "      <th>multi_linked</th>\n",
       "      <td>4.70122e+06</td>\n",
       "      <td>NaN</td>\n",
       "      <td>NaN</td>\n",
       "      <td>NaN</td>\n",
       "      <td>0.00047626</td>\n",
       "      <td>0.0218182</td>\n",
       "      <td>0</td>\n",
       "      <td>0</td>\n",
       "      <td>0</td>\n",
       "      <td>0</td>\n",
       "      <td>1</td>\n",
       "    </tr>\n",
       "    <tr>\n",
       "      <th>connect_code</th>\n",
       "      <td>4.70122e+06</td>\n",
       "      <td>NaN</td>\n",
       "      <td>NaN</td>\n",
       "      <td>NaN</td>\n",
       "      <td>0.266022</td>\n",
       "      <td>5.22776</td>\n",
       "      <td>0</td>\n",
       "      <td>0</td>\n",
       "      <td>0</td>\n",
       "      <td>0</td>\n",
       "      <td>103</td>\n",
       "    </tr>\n",
       "    <tr>\n",
       "      <th>maximum_speed_limit</th>\n",
       "      <td>4.70122e+06</td>\n",
       "      <td>NaN</td>\n",
       "      <td>NaN</td>\n",
       "      <td>NaN</td>\n",
       "      <td>61.2533</td>\n",
       "      <td>12.1335</td>\n",
       "      <td>30</td>\n",
       "      <td>50</td>\n",
       "      <td>60</td>\n",
       "      <td>70</td>\n",
       "      <td>80</td>\n",
       "    </tr>\n",
       "    <tr>\n",
       "      <th>vehicle_restricted</th>\n",
       "      <td>4.70122e+06</td>\n",
       "      <td>NaN</td>\n",
       "      <td>NaN</td>\n",
       "      <td>NaN</td>\n",
       "      <td>0</td>\n",
       "      <td>0</td>\n",
       "      <td>0</td>\n",
       "      <td>0</td>\n",
       "      <td>0</td>\n",
       "      <td>0</td>\n",
       "      <td>0</td>\n",
       "    </tr>\n",
       "    <tr>\n",
       "      <th>weight_restricted</th>\n",
       "      <td>4.70122e+06</td>\n",
       "      <td>NaN</td>\n",
       "      <td>NaN</td>\n",
       "      <td>NaN</td>\n",
       "      <td>5618.74</td>\n",
       "      <td>13953.4</td>\n",
       "      <td>0</td>\n",
       "      <td>0</td>\n",
       "      <td>0</td>\n",
       "      <td>0</td>\n",
       "      <td>50000</td>\n",
       "    </tr>\n",
       "    <tr>\n",
       "      <th>height_restricted</th>\n",
       "      <td>4.70122e+06</td>\n",
       "      <td>NaN</td>\n",
       "      <td>NaN</td>\n",
       "      <td>NaN</td>\n",
       "      <td>0</td>\n",
       "      <td>0</td>\n",
       "      <td>0</td>\n",
       "      <td>0</td>\n",
       "      <td>0</td>\n",
       "      <td>0</td>\n",
       "      <td>0</td>\n",
       "    </tr>\n",
       "    <tr>\n",
       "      <th>road_type</th>\n",
       "      <td>4.70122e+06</td>\n",
       "      <td>NaN</td>\n",
       "      <td>NaN</td>\n",
       "      <td>NaN</td>\n",
       "      <td>0.615224</td>\n",
       "      <td>1.21127</td>\n",
       "      <td>0</td>\n",
       "      <td>0</td>\n",
       "      <td>0</td>\n",
       "      <td>0</td>\n",
       "      <td>3</td>\n",
       "    </tr>\n",
       "    <tr>\n",
       "      <th>start_node_name</th>\n",
       "      <td>4701217</td>\n",
       "      <td>487</td>\n",
       "      <td>고성교차로</td>\n",
       "      <td>42169</td>\n",
       "      <td>NaN</td>\n",
       "      <td>NaN</td>\n",
       "      <td>NaN</td>\n",
       "      <td>NaN</td>\n",
       "      <td>NaN</td>\n",
       "      <td>NaN</td>\n",
       "      <td>NaN</td>\n",
       "    </tr>\n",
       "    <tr>\n",
       "      <th>start_latitude</th>\n",
       "      <td>4.70122e+06</td>\n",
       "      <td>NaN</td>\n",
       "      <td>NaN</td>\n",
       "      <td>NaN</td>\n",
       "      <td>33.3843</td>\n",
       "      <td>0.101201</td>\n",
       "      <td>33.2434</td>\n",
       "      <td>33.2642</td>\n",
       "      <td>33.4126</td>\n",
       "      <td>33.478</td>\n",
       "      <td>33.5561</td>\n",
       "    </tr>\n",
       "    <tr>\n",
       "      <th>start_longitude</th>\n",
       "      <td>4.70122e+06</td>\n",
       "      <td>NaN</td>\n",
       "      <td>NaN</td>\n",
       "      <td>NaN</td>\n",
       "      <td>126.522</td>\n",
       "      <td>0.156366</td>\n",
       "      <td>126.183</td>\n",
       "      <td>126.423</td>\n",
       "      <td>126.511</td>\n",
       "      <td>126.584</td>\n",
       "      <td>126.931</td>\n",
       "    </tr>\n",
       "    <tr>\n",
       "      <th>start_turn_restricted</th>\n",
       "      <td>4701217</td>\n",
       "      <td>2</td>\n",
       "      <td>없음</td>\n",
       "      <td>4239701</td>\n",
       "      <td>NaN</td>\n",
       "      <td>NaN</td>\n",
       "      <td>NaN</td>\n",
       "      <td>NaN</td>\n",
       "      <td>NaN</td>\n",
       "      <td>NaN</td>\n",
       "      <td>NaN</td>\n",
       "    </tr>\n",
       "    <tr>\n",
       "      <th>end_node_name</th>\n",
       "      <td>4701217</td>\n",
       "      <td>487</td>\n",
       "      <td>고성교차로</td>\n",
       "      <td>42265</td>\n",
       "      <td>NaN</td>\n",
       "      <td>NaN</td>\n",
       "      <td>NaN</td>\n",
       "      <td>NaN</td>\n",
       "      <td>NaN</td>\n",
       "      <td>NaN</td>\n",
       "      <td>NaN</td>\n",
       "    </tr>\n",
       "    <tr>\n",
       "      <th>end_latitude</th>\n",
       "      <td>4.70122e+06</td>\n",
       "      <td>NaN</td>\n",
       "      <td>NaN</td>\n",
       "      <td>NaN</td>\n",
       "      <td>33.3843</td>\n",
       "      <td>0.101195</td>\n",
       "      <td>33.2434</td>\n",
       "      <td>33.2642</td>\n",
       "      <td>33.4126</td>\n",
       "      <td>33.478</td>\n",
       "      <td>33.5561</td>\n",
       "    </tr>\n",
       "    <tr>\n",
       "      <th>end_longitude</th>\n",
       "      <td>4.70122e+06</td>\n",
       "      <td>NaN</td>\n",
       "      <td>NaN</td>\n",
       "      <td>NaN</td>\n",
       "      <td>126.522</td>\n",
       "      <td>0.156352</td>\n",
       "      <td>126.183</td>\n",
       "      <td>126.423</td>\n",
       "      <td>126.511</td>\n",
       "      <td>126.584</td>\n",
       "      <td>126.931</td>\n",
       "    </tr>\n",
       "    <tr>\n",
       "      <th>end_turn_restricted</th>\n",
       "      <td>4701217</td>\n",
       "      <td>2</td>\n",
       "      <td>없음</td>\n",
       "      <td>4239599</td>\n",
       "      <td>NaN</td>\n",
       "      <td>NaN</td>\n",
       "      <td>NaN</td>\n",
       "      <td>NaN</td>\n",
       "      <td>NaN</td>\n",
       "      <td>NaN</td>\n",
       "      <td>NaN</td>\n",
       "    </tr>\n",
       "    <tr>\n",
       "      <th>target</th>\n",
       "      <td>4.70122e+06</td>\n",
       "      <td>NaN</td>\n",
       "      <td>NaN</td>\n",
       "      <td>NaN</td>\n",
       "      <td>42.7884</td>\n",
       "      <td>15.9544</td>\n",
       "      <td>1</td>\n",
       "      <td>30</td>\n",
       "      <td>43</td>\n",
       "      <td>54</td>\n",
       "      <td>113</td>\n",
       "    </tr>\n",
       "  </tbody>\n",
       "</table>\n",
       "</div>"
      ],
      "text/plain": [
       "                             count   unique            top     freq  \\\n",
       "id                         4701217  4701217  TRAIN_0366498        1   \n",
       "base_date              4.70122e+06      NaN            NaN      NaN   \n",
       "day_of_week                4701217        7              금   684024   \n",
       "base_hour              4.70122e+06      NaN            NaN      NaN   \n",
       "lane_count             4.70122e+06      NaN            NaN      NaN   \n",
       "road_rating            4.70122e+06      NaN            NaN      NaN   \n",
       "road_name                  4701217       61       일반국도12호선  1046092   \n",
       "multi_linked           4.70122e+06      NaN            NaN      NaN   \n",
       "connect_code           4.70122e+06      NaN            NaN      NaN   \n",
       "maximum_speed_limit    4.70122e+06      NaN            NaN      NaN   \n",
       "vehicle_restricted     4.70122e+06      NaN            NaN      NaN   \n",
       "weight_restricted      4.70122e+06      NaN            NaN      NaN   \n",
       "height_restricted      4.70122e+06      NaN            NaN      NaN   \n",
       "road_type              4.70122e+06      NaN            NaN      NaN   \n",
       "start_node_name            4701217      487          고성교차로    42169   \n",
       "start_latitude         4.70122e+06      NaN            NaN      NaN   \n",
       "start_longitude        4.70122e+06      NaN            NaN      NaN   \n",
       "start_turn_restricted      4701217        2             없음  4239701   \n",
       "end_node_name              4701217      487          고성교차로    42265   \n",
       "end_latitude           4.70122e+06      NaN            NaN      NaN   \n",
       "end_longitude          4.70122e+06      NaN            NaN      NaN   \n",
       "end_turn_restricted        4701217        2             없음  4239599   \n",
       "target                 4.70122e+06      NaN            NaN      NaN   \n",
       "\n",
       "                              mean        std          min          25%  \\\n",
       "id                             NaN        NaN          NaN          NaN   \n",
       "base_date              2.02167e+07    4555.71  2.02109e+07  2.02111e+07   \n",
       "day_of_week                    NaN        NaN          NaN          NaN   \n",
       "base_hour                  11.9282    6.72209            0            6   \n",
       "lane_count                 1.83665   0.687751            1            1   \n",
       "road_rating                104.958    1.84011          103          103   \n",
       "road_name                      NaN        NaN          NaN          NaN   \n",
       "multi_linked            0.00047626  0.0218182            0            0   \n",
       "connect_code              0.266022    5.22776            0            0   \n",
       "maximum_speed_limit        61.2533    12.1335           30           50   \n",
       "vehicle_restricted               0          0            0            0   \n",
       "weight_restricted          5618.74    13953.4            0            0   \n",
       "height_restricted                0          0            0            0   \n",
       "road_type                 0.615224    1.21127            0            0   \n",
       "start_node_name                NaN        NaN          NaN          NaN   \n",
       "start_latitude             33.3843   0.101201      33.2434      33.2642   \n",
       "start_longitude            126.522   0.156366      126.183      126.423   \n",
       "start_turn_restricted          NaN        NaN          NaN          NaN   \n",
       "end_node_name                  NaN        NaN          NaN          NaN   \n",
       "end_latitude               33.3843   0.101195      33.2434      33.2642   \n",
       "end_longitude              126.522   0.156352      126.183      126.423   \n",
       "end_turn_restricted            NaN        NaN          NaN          NaN   \n",
       "target                     42.7884    15.9544            1           30   \n",
       "\n",
       "                               50%          75%          max  \n",
       "id                             NaN          NaN          NaN  \n",
       "base_date              2.02201e+07  2.02205e+07  2.02207e+07  \n",
       "day_of_week                    NaN          NaN          NaN  \n",
       "base_hour                       12           18           23  \n",
       "lane_count                       2            2            3  \n",
       "road_rating                    106          107          107  \n",
       "road_name                      NaN          NaN          NaN  \n",
       "multi_linked                     0            0            1  \n",
       "connect_code                     0            0          103  \n",
       "maximum_speed_limit             60           70           80  \n",
       "vehicle_restricted               0            0            0  \n",
       "weight_restricted                0            0        50000  \n",
       "height_restricted                0            0            0  \n",
       "road_type                        0            0            3  \n",
       "start_node_name                NaN          NaN          NaN  \n",
       "start_latitude             33.4126       33.478      33.5561  \n",
       "start_longitude            126.511      126.584      126.931  \n",
       "start_turn_restricted          NaN          NaN          NaN  \n",
       "end_node_name                  NaN          NaN          NaN  \n",
       "end_latitude               33.4126       33.478      33.5561  \n",
       "end_longitude              126.511      126.584      126.931  \n",
       "end_turn_restricted            NaN          NaN          NaN  \n",
       "target                          43           54          113  "
      ]
     },
     "execution_count": 16,
     "metadata": {},
     "output_type": "execute_result"
    }
   ],
   "source": [
    "train.describe(include=\"all\").T"
   ]
  },
  {
   "cell_type": "code",
   "execution_count": 15,
   "metadata": {},
   "outputs": [
    {
     "data": {
      "text/html": [
       "<div>\n",
       "<style scoped>\n",
       "    .dataframe tbody tr th:only-of-type {\n",
       "        vertical-align: middle;\n",
       "    }\n",
       "\n",
       "    .dataframe tbody tr th {\n",
       "        vertical-align: top;\n",
       "    }\n",
       "\n",
       "    .dataframe thead th {\n",
       "        text-align: right;\n",
       "    }\n",
       "</style>\n",
       "<table border=\"1\" class=\"dataframe\">\n",
       "  <thead>\n",
       "    <tr style=\"text-align: right;\">\n",
       "      <th></th>\n",
       "      <th>id</th>\n",
       "      <th>base_date</th>\n",
       "      <th>day_of_week</th>\n",
       "      <th>base_hour</th>\n",
       "      <th>lane_count</th>\n",
       "      <th>road_rating</th>\n",
       "      <th>road_name</th>\n",
       "      <th>multi_linked</th>\n",
       "      <th>connect_code</th>\n",
       "      <th>maximum_speed_limit</th>\n",
       "      <th>...</th>\n",
       "      <th>road_type</th>\n",
       "      <th>start_node_name</th>\n",
       "      <th>start_latitude</th>\n",
       "      <th>start_longitude</th>\n",
       "      <th>start_turn_restricted</th>\n",
       "      <th>end_node_name</th>\n",
       "      <th>end_latitude</th>\n",
       "      <th>end_longitude</th>\n",
       "      <th>end_turn_restricted</th>\n",
       "      <th>target</th>\n",
       "    </tr>\n",
       "  </thead>\n",
       "  <tbody>\n",
       "    <tr>\n",
       "      <th>0</th>\n",
       "      <td>TRAIN_0000000</td>\n",
       "      <td>20220623</td>\n",
       "      <td>목</td>\n",
       "      <td>17</td>\n",
       "      <td>1</td>\n",
       "      <td>106</td>\n",
       "      <td>지방도1112호선</td>\n",
       "      <td>0</td>\n",
       "      <td>0</td>\n",
       "      <td>60.0</td>\n",
       "      <td>...</td>\n",
       "      <td>3</td>\n",
       "      <td>제3교래교</td>\n",
       "      <td>33.427747</td>\n",
       "      <td>126.662612</td>\n",
       "      <td>없음</td>\n",
       "      <td>제3교래교</td>\n",
       "      <td>33.427749</td>\n",
       "      <td>126.662335</td>\n",
       "      <td>없음</td>\n",
       "      <td>52.0</td>\n",
       "    </tr>\n",
       "    <tr>\n",
       "      <th>1</th>\n",
       "      <td>TRAIN_0000001</td>\n",
       "      <td>20220728</td>\n",
       "      <td>목</td>\n",
       "      <td>21</td>\n",
       "      <td>2</td>\n",
       "      <td>103</td>\n",
       "      <td>일반국도11호선</td>\n",
       "      <td>0</td>\n",
       "      <td>0</td>\n",
       "      <td>60.0</td>\n",
       "      <td>...</td>\n",
       "      <td>0</td>\n",
       "      <td>광양사거리</td>\n",
       "      <td>33.500730</td>\n",
       "      <td>126.529107</td>\n",
       "      <td>있음</td>\n",
       "      <td>KAL사거리</td>\n",
       "      <td>33.504811</td>\n",
       "      <td>126.526240</td>\n",
       "      <td>없음</td>\n",
       "      <td>30.0</td>\n",
       "    </tr>\n",
       "    <tr>\n",
       "      <th>2</th>\n",
       "      <td>TRAIN_0000002</td>\n",
       "      <td>20211010</td>\n",
       "      <td>일</td>\n",
       "      <td>7</td>\n",
       "      <td>2</td>\n",
       "      <td>103</td>\n",
       "      <td>일반국도16호선</td>\n",
       "      <td>0</td>\n",
       "      <td>0</td>\n",
       "      <td>80.0</td>\n",
       "      <td>...</td>\n",
       "      <td>0</td>\n",
       "      <td>창고천교</td>\n",
       "      <td>33.279145</td>\n",
       "      <td>126.368598</td>\n",
       "      <td>없음</td>\n",
       "      <td>상창육교</td>\n",
       "      <td>33.280072</td>\n",
       "      <td>126.362147</td>\n",
       "      <td>없음</td>\n",
       "      <td>61.0</td>\n",
       "    </tr>\n",
       "  </tbody>\n",
       "</table>\n",
       "<p>3 rows × 23 columns</p>\n",
       "</div>"
      ],
      "text/plain": [
       "              id  base_date day_of_week  base_hour  lane_count  road_rating  \\\n",
       "0  TRAIN_0000000   20220623           목         17           1          106   \n",
       "1  TRAIN_0000001   20220728           목         21           2          103   \n",
       "2  TRAIN_0000002   20211010           일          7           2          103   \n",
       "\n",
       "   road_name  multi_linked  connect_code  maximum_speed_limit  ...  road_type  \\\n",
       "0  지방도1112호선             0             0                 60.0  ...          3   \n",
       "1   일반국도11호선             0             0                 60.0  ...          0   \n",
       "2   일반국도16호선             0             0                 80.0  ...          0   \n",
       "\n",
       "   start_node_name  start_latitude  start_longitude start_turn_restricted  \\\n",
       "0            제3교래교       33.427747       126.662612                    없음   \n",
       "1            광양사거리       33.500730       126.529107                    있음   \n",
       "2             창고천교       33.279145       126.368598                    없음   \n",
       "\n",
       "   end_node_name  end_latitude end_longitude end_turn_restricted  target  \n",
       "0          제3교래교     33.427749    126.662335                  없음    52.0  \n",
       "1         KAL사거리     33.504811    126.526240                  없음    30.0  \n",
       "2           상창육교     33.280072    126.362147                  없음    61.0  \n",
       "\n",
       "[3 rows x 23 columns]"
      ]
     },
     "execution_count": 15,
     "metadata": {},
     "output_type": "execute_result"
    }
   ],
   "source": [
    "train[:3]"
   ]
  },
  {
   "cell_type": "code",
   "execution_count": null,
   "metadata": {},
   "outputs": [],
   "source": []
  },
  {
   "cell_type": "code",
   "execution_count": 23,
   "metadata": {},
   "outputs": [],
   "source": [
    "# datetime\n",
    "train['base_date'] = pd.to_datetime(train['base_date'], format='%Y%m%d')\n",
    "test['base_date'] = pd.to_datetime(test['base_date'], format='%Y%m%d')"
   ]
  },
  {
   "cell_type": "code",
   "execution_count": 10,
   "metadata": {},
   "outputs": [
    {
     "data": {
      "text/plain": [
       "(Timestamp('2021-09-01 00:00:00'), Timestamp('2022-07-31 00:00:00'))"
      ]
     },
     "execution_count": 10,
     "metadata": {},
     "output_type": "execute_result"
    }
   ],
   "source": [
    "train['base_date'].min(), train['base_date'].max()"
   ]
  },
  {
   "cell_type": "code",
   "execution_count": 12,
   "metadata": {},
   "outputs": [
    {
     "data": {
      "text/plain": [
       "(Timestamp('2022-08-01 00:00:00'), Timestamp('2022-08-31 00:00:00'))"
      ]
     },
     "execution_count": 12,
     "metadata": {},
     "output_type": "execute_result"
    }
   ],
   "source": [
    "test['base_date'].min(), test['base_date'].max()"
   ]
  },
  {
   "cell_type": "code",
   "execution_count": null,
   "metadata": {},
   "outputs": [],
   "source": []
  },
  {
   "cell_type": "markdown",
   "metadata": {},
   "source": [
    "## 6월로 7월 예측"
   ]
  },
  {
   "cell_type": "code",
   "execution_count": 50,
   "metadata": {},
   "outputs": [
    {
     "data": {
      "text/plain": [
       "(274695, 23)"
      ]
     },
     "execution_count": 50,
     "metadata": {},
     "output_type": "execute_result"
    }
   ],
   "source": [
    "train['base_date'] = pd.to_datetime(train['base_date'], format='%Y%m%d')\n",
    "train07 = train[train['base_date'].dt.strftime('%Y%m') == '202207']\n",
    "train07.shape"
   ]
  },
  {
   "cell_type": "code",
   "execution_count": 31,
   "metadata": {},
   "outputs": [
    {
     "data": {
      "text/plain": [
       "(291241, 22)"
      ]
     },
     "execution_count": 31,
     "metadata": {},
     "output_type": "execute_result"
    }
   ],
   "source": [
    "test.shape"
   ]
  },
  {
   "cell_type": "code",
   "execution_count": 32,
   "metadata": {},
   "outputs": [
    {
     "data": {
      "text/html": [
       "<div>\n",
       "<style scoped>\n",
       "    .dataframe tbody tr th:only-of-type {\n",
       "        vertical-align: middle;\n",
       "    }\n",
       "\n",
       "    .dataframe tbody tr th {\n",
       "        vertical-align: top;\n",
       "    }\n",
       "\n",
       "    .dataframe thead tr th {\n",
       "        text-align: left;\n",
       "    }\n",
       "\n",
       "    .dataframe thead tr:last-of-type th {\n",
       "        text-align: right;\n",
       "    }\n",
       "</style>\n",
       "<table border=\"1\" class=\"dataframe\">\n",
       "  <thead>\n",
       "    <tr>\n",
       "      <th></th>\n",
       "      <th colspan=\"4\" halign=\"left\">target</th>\n",
       "    </tr>\n",
       "    <tr>\n",
       "      <th></th>\n",
       "      <th>min</th>\n",
       "      <th>max</th>\n",
       "      <th>mean</th>\n",
       "      <th>count</th>\n",
       "    </tr>\n",
       "    <tr>\n",
       "      <th>yyyymm</th>\n",
       "      <th></th>\n",
       "      <th></th>\n",
       "      <th></th>\n",
       "      <th></th>\n",
       "    </tr>\n",
       "  </thead>\n",
       "  <tbody>\n",
       "    <tr>\n",
       "      <th>202109</th>\n",
       "      <td>1.0</td>\n",
       "      <td>88.0</td>\n",
       "      <td>43.694340</td>\n",
       "      <td>570909</td>\n",
       "    </tr>\n",
       "    <tr>\n",
       "      <th>202110</th>\n",
       "      <td>1.0</td>\n",
       "      <td>103.0</td>\n",
       "      <td>43.495717</td>\n",
       "      <td>537916</td>\n",
       "    </tr>\n",
       "    <tr>\n",
       "      <th>202111</th>\n",
       "      <td>1.0</td>\n",
       "      <td>88.0</td>\n",
       "      <td>43.728215</td>\n",
       "      <td>120978</td>\n",
       "    </tr>\n",
       "    <tr>\n",
       "      <th>202112</th>\n",
       "      <td>2.0</td>\n",
       "      <td>112.0</td>\n",
       "      <td>43.030021</td>\n",
       "      <td>616511</td>\n",
       "    </tr>\n",
       "    <tr>\n",
       "      <th>202201</th>\n",
       "      <td>1.0</td>\n",
       "      <td>88.0</td>\n",
       "      <td>43.033130</td>\n",
       "      <td>569884</td>\n",
       "    </tr>\n",
       "    <tr>\n",
       "      <th>202202</th>\n",
       "      <td>1.0</td>\n",
       "      <td>93.0</td>\n",
       "      <td>43.256182</td>\n",
       "      <td>550807</td>\n",
       "    </tr>\n",
       "    <tr>\n",
       "      <th>202203</th>\n",
       "      <td>1.0</td>\n",
       "      <td>88.0</td>\n",
       "      <td>43.548673</td>\n",
       "      <td>505671</td>\n",
       "    </tr>\n",
       "    <tr>\n",
       "      <th>202205</th>\n",
       "      <td>1.0</td>\n",
       "      <td>98.0</td>\n",
       "      <td>42.639328</td>\n",
       "      <td>463709</td>\n",
       "    </tr>\n",
       "    <tr>\n",
       "      <th>202206</th>\n",
       "      <td>1.0</td>\n",
       "      <td>88.0</td>\n",
       "      <td>42.614157</td>\n",
       "      <td>490137</td>\n",
       "    </tr>\n",
       "    <tr>\n",
       "      <th>202207</th>\n",
       "      <td>2.0</td>\n",
       "      <td>113.0</td>\n",
       "      <td>36.282302</td>\n",
       "      <td>274695</td>\n",
       "    </tr>\n",
       "  </tbody>\n",
       "</table>\n",
       "</div>"
      ],
      "text/plain": [
       "       target                          \n",
       "          min    max       mean   count\n",
       "yyyymm                                 \n",
       "202109    1.0   88.0  43.694340  570909\n",
       "202110    1.0  103.0  43.495717  537916\n",
       "202111    1.0   88.0  43.728215  120978\n",
       "202112    2.0  112.0  43.030021  616511\n",
       "202201    1.0   88.0  43.033130  569884\n",
       "202202    1.0   93.0  43.256182  550807\n",
       "202203    1.0   88.0  43.548673  505671\n",
       "202205    1.0   98.0  42.639328  463709\n",
       "202206    1.0   88.0  42.614157  490137\n",
       "202207    2.0  113.0  36.282302  274695"
      ]
     },
     "execution_count": 32,
     "metadata": {},
     "output_type": "execute_result"
    }
   ],
   "source": [
    "train.groupby(['yyyymm']).agg({'target':['min','max','mean', 'count']})"
   ]
  },
  {
   "cell_type": "code",
   "execution_count": 59,
   "metadata": {},
   "outputs": [
    {
     "data": {
      "text/plain": [
       "33.348828       1\n",
       "33.375043       1\n",
       "33.476199       1\n",
       "33.345240       1\n",
       "33.350271       1\n",
       "             ... \n",
       "33.504059    2065\n",
       "33.507349    2067\n",
       "33.500330    2068\n",
       "33.465863    2068\n",
       "33.248633    2601\n",
       "Name: start_latitude, Length: 514, dtype: int64"
      ]
     },
     "metadata": {},
     "output_type": "display_data"
    },
    {
     "data": {
      "text/plain": [
       "33.419828       7\n",
       "33.408913       7\n",
       "33.435941       7\n",
       "33.420435       7\n",
       "33.345240       7\n",
       "             ... \n",
       "33.249029    2190\n",
       "33.500330    2210\n",
       "33.507349    2215\n",
       "33.465863    2217\n",
       "33.248633    2747\n",
       "Name: start_latitude, Length: 294, dtype: int64"
      ]
     },
     "metadata": {},
     "output_type": "display_data"
    }
   ],
   "source": [
    "display(train07['start_latitude'].value_counts().sort_values())\n",
    "display(test['start_latitude'].value_counts().sort_values())"
   ]
  },
  {
   "cell_type": "code",
   "execution_count": 57,
   "metadata": {},
   "outputs": [
    {
     "data": {
      "text/plain": [
       "33.243432     677\n",
       "33.244601     687\n",
       "33.244871    1370\n",
       "33.244882    1313\n",
       "33.245150    1370\n",
       "             ... \n",
       "33.550675       1\n",
       "33.551585       1\n",
       "33.553525       1\n",
       "33.554302       2\n",
       "33.555316       1\n",
       "Name: start_latitude, Length: 514, dtype: int64"
      ]
     },
     "metadata": {},
     "output_type": "display_data"
    },
    {
     "data": {
      "text/plain": [
       "33.243432     693\n",
       "33.244601     715\n",
       "33.244871    1419\n",
       "33.244882    1358\n",
       "33.245150    1420\n",
       "             ... \n",
       "33.521098    1457\n",
       "33.521264     726\n",
       "33.521323     733\n",
       "33.521329    1462\n",
       "33.521399    1407\n",
       "Name: start_latitude, Length: 294, dtype: int64"
      ]
     },
     "metadata": {},
     "output_type": "display_data"
    }
   ],
   "source": [
    "display(train07['start_latitude'].value_counts().sort_index())\n",
    "display(test['start_latitude'].value_counts().sort_index())"
   ]
  },
  {
   "cell_type": "code",
   "execution_count": 44,
   "metadata": {},
   "outputs": [
    {
     "data": {
      "text/plain": [
       "Index(['id', 'base_date', 'day_of_week', 'base_hour', 'lane_count',\n",
       "       'road_rating', 'road_name', 'multi_linked', 'connect_code',\n",
       "       'maximum_speed_limit', 'vehicle_restricted', 'weight_restricted',\n",
       "       'height_restricted', 'road_type', 'start_node_name', 'start_latitude',\n",
       "       'start_longitude', 'start_turn_restricted', 'end_node_name',\n",
       "       'end_latitude', 'end_longitude', 'end_turn_restricted', 'target',\n",
       "       'yyyymm'],\n",
       "      dtype='object')"
      ]
     },
     "execution_count": 44,
     "metadata": {},
     "output_type": "execute_result"
    }
   ],
   "source": [
    "train07.columns"
   ]
  },
  {
   "cell_type": "code",
   "execution_count": 51,
   "metadata": {},
   "outputs": [
    {
     "name": "stderr",
     "output_type": "stream",
     "text": [
      "C:\\Users\\okso6\\anaconda3\\lib\\site-packages\\ipykernel_launcher.py:6: SettingWithCopyWarning: \n",
      "A value is trying to be set on a copy of a slice from a DataFrame.\n",
      "Try using .loc[row_indexer,col_indexer] = value instead\n",
      "\n",
      "See the caveats in the documentation: https://pandas.pydata.org/pandas-docs/stable/user_guide/indexing.html#returning-a-view-versus-a-copy\n",
      "  \n"
     ]
    }
   ],
   "source": [
    "# label encoding \n",
    "str_col = ['road_name']\n",
    "for i in str_col:\n",
    "    le = LabelEncoder()\n",
    "    le=le.fit(train07[i])\n",
    "    train07[i]=le.transform(train07[i])\n",
    "    \n",
    "    for label in np.unique(test[i]):\n",
    "        if label not in le.classes_: \n",
    "            le.classes_ = np.append(le.classes_, label)\n",
    "    test[i]=le.transform(test[i])"
   ]
  },
  {
   "cell_type": "code",
   "execution_count": 54,
   "metadata": {},
   "outputs": [
    {
     "data": {
      "text/html": [
       "<div>\n",
       "<style scoped>\n",
       "    .dataframe tbody tr th:only-of-type {\n",
       "        vertical-align: middle;\n",
       "    }\n",
       "\n",
       "    .dataframe tbody tr th {\n",
       "        vertical-align: top;\n",
       "    }\n",
       "\n",
       "    .dataframe thead th {\n",
       "        text-align: right;\n",
       "    }\n",
       "</style>\n",
       "<table border=\"1\" class=\"dataframe\">\n",
       "  <thead>\n",
       "    <tr style=\"text-align: right;\">\n",
       "      <th></th>\n",
       "      <th>weight_restricted</th>\n",
       "      <th>target</th>\n",
       "    </tr>\n",
       "  </thead>\n",
       "  <tbody>\n",
       "    <tr>\n",
       "      <th>weight_restricted</th>\n",
       "      <td>1.000000</td>\n",
       "      <td>0.333178</td>\n",
       "    </tr>\n",
       "    <tr>\n",
       "      <th>target</th>\n",
       "      <td>0.333178</td>\n",
       "      <td>1.000000</td>\n",
       "    </tr>\n",
       "  </tbody>\n",
       "</table>\n",
       "</div>"
      ],
      "text/plain": [
       "                   weight_restricted    target\n",
       "weight_restricted           1.000000  0.333178\n",
       "target                      0.333178  1.000000"
      ]
     },
     "execution_count": 54,
     "metadata": {},
     "output_type": "execute_result"
    }
   ],
   "source": [
    "train07[['weight_restricted','target']].corr()"
   ]
  },
  {
   "cell_type": "code",
   "execution_count": 55,
   "metadata": {},
   "outputs": [
    {
     "data": {
      "text/plain": [
       "<seaborn.axisgrid.PairGrid at 0x201d80d3048>"
      ]
     },
     "execution_count": 55,
     "metadata": {},
     "output_type": "execute_result"
    },
    {
     "data": {
      "image/png": "[encoded data removed]",
      "text/plain": [
       "<Figure size 360x360 with 6 Axes>"
      ]
     },
     "metadata": {
      "needs_background": "light"
     },
     "output_type": "display_data"
    }
   ],
   "source": [
    "sns.pairplot(train07[['weight_restricted','target']])"
   ]
  },
  {
   "cell_type": "code",
   "execution_count": null,
   "metadata": {},
   "outputs": [],
   "source": []
  },
  {
   "cell_type": "code",
   "execution_count": null,
   "metadata": {},
   "outputs": [],
   "source": []
  },
  {
   "cell_type": "code",
   "execution_count": null,
   "metadata": {},
   "outputs": [],
   "source": []
  },
  {
   "cell_type": "code",
   "execution_count": 29,
   "metadata": {},
   "outputs": [],
   "source": [
    "# one-hot\n",
    "cols = ['day_of_week','connect_code','road_type', 'start_turn_restricted', 'end_turn_restricted', 'road_name']\n",
    "train = pd.get_dummies(train, prefix_sep='_', sparse=False, drop_first=True, columns = cols)\n",
    "test = pd.get_dummies(test, prefix_sep='_', sparse=False, drop_first=True, columns = cols)"
   ]
  },
  {
   "cell_type": "code",
   "execution_count": null,
   "metadata": {},
   "outputs": [],
   "source": [
    "# del \n",
    "del_cols = ['height_restricted','vehicle_restricted', 'start_node_name', 'end_node_name']\n",
    "train = train.drop(del_cols, axis=1)\n",
    "test = test.drop(del_cols, axis=1)"
   ]
  },
  {
   "cell_type": "code",
   "execution_count": 5,
   "metadata": {},
   "outputs": [
    {
     "data": {
      "text/plain": [
       "103    2159511\n",
       "107    1582214\n",
       "106     959492\n",
       "Name: road_rating, dtype: int64"
      ]
     },
     "execution_count": 5,
     "metadata": {},
     "output_type": "execute_result"
    }
   ],
   "source": [
    "train['road_rating'].value_counts()"
   ]
  },
  {
   "cell_type": "code",
   "execution_count": 31,
   "metadata": {},
   "outputs": [
    {
     "data": {
      "text/plain": [
       "0    4698978\n",
       "1       2239\n",
       "Name: multi_linked, dtype: int64"
      ]
     },
     "execution_count": 31,
     "metadata": {},
     "output_type": "execute_result"
    }
   ],
   "source": [
    "train['multi_linked'].value_counts()"
   ]
  },
  {
   "cell_type": "code",
   "execution_count": 4,
   "metadata": {},
   "outputs": [
    {
     "data": {
      "text/plain": [
       "0      4689075\n",
       "103      12142\n",
       "Name: connect_code, dtype: int64"
      ]
     },
     "metadata": {},
     "output_type": "display_data"
    },
    {
     "data": {
      "text/plain": [
       "0    291241\n",
       "Name: connect_code, dtype: int64"
      ]
     },
     "metadata": {},
     "output_type": "display_data"
    }
   ],
   "source": [
    "display(train['connect_code'].value_counts())\n",
    "display(test['connect_code'].value_counts())"
   ]
  },
  {
   "cell_type": "code",
   "execution_count": 36,
   "metadata": {},
   "outputs": [
    {
     "data": {
      "text/plain": [
       "60.0    1665573\n",
       "50.0    1103682\n",
       "70.0     995077\n",
       "80.0     700334\n",
       "30.0     229761\n",
       "40.0       6790\n",
       "Name: maximum_speed_limit, dtype: int64"
      ]
     },
     "execution_count": 36,
     "metadata": {},
     "output_type": "execute_result"
    }
   ],
   "source": [
    "train['maximum_speed_limit'].value_counts()"
   ]
  },
  {
   "cell_type": "code",
   "execution_count": 6,
   "metadata": {},
   "outputs": [
    {
     "data": {
      "text/plain": [
       "0.0        4032874\n",
       "43200.0     410361\n",
       "32400.0     239305\n",
       "50000.0      18677\n",
       "Name: weight_restricted, dtype: int64"
      ]
     },
     "metadata": {},
     "output_type": "display_data"
    },
    {
     "data": {
      "text/plain": [
       "0.0        263267\n",
       "43200.0     14527\n",
       "32400.0     13428\n",
       "50000.0        19\n",
       "Name: weight_restricted, dtype: int64"
      ]
     },
     "metadata": {},
     "output_type": "display_data"
    }
   ],
   "source": [
    "display(train['weight_restricted'].value_counts())\n",
    "display(test['weight_restricted'].value_counts())"
   ]
  },
  {
   "cell_type": "code",
   "execution_count": 39,
   "metadata": {},
   "outputs": [
    {
     "data": {
      "text/plain": [
       "0.0    291241\n",
       "Name: height_restricted, dtype: int64"
      ]
     },
     "execution_count": 39,
     "metadata": {},
     "output_type": "execute_result"
    }
   ],
   "source": [
    "train['height_restricted'].value_counts()\n",
    "test['height_restricted'].value_counts()"
   ]
  },
  {
   "cell_type": "code",
   "execution_count": 43,
   "metadata": {},
   "outputs": [
    {
     "data": {
      "text/plain": [
       "0    3737117\n",
       "3     964100\n",
       "Name: road_type, dtype: int64"
      ]
     },
     "execution_count": 43,
     "metadata": {},
     "output_type": "execute_result"
    }
   ],
   "source": [
    "train['road_type'].value_counts()"
   ]
  },
  {
   "cell_type": "code",
   "execution_count": 48,
   "metadata": {},
   "outputs": [
    {
     "data": {
      "text/plain": [
       "없음    4239701\n",
       "있음     461516\n",
       "Name: start_turn_restricted, dtype: int64"
      ]
     },
     "execution_count": 48,
     "metadata": {},
     "output_type": "execute_result"
    }
   ],
   "source": [
    "train['start_turn_restricted'].value_counts()"
   ]
  },
  {
   "cell_type": "code",
   "execution_count": 68,
   "metadata": {},
   "outputs": [],
   "source": [
    "# 위경도로 거리 도출\n",
    "train[\"distance\"] = train[[\"start_latitude\", \"start_longitude\", \"end_latitude\", \"end_longitude\"]].apply(lambda x: haversine((x[0], x[1]), (x[2], x[3])), axis=\"columns\")\n",
    "test[\"distance\"] = test[[\"start_latitude\", \"start_longitude\", \"end_latitude\", \"end_longitude\"]].apply(lambda x: haversine((x[0], x[1]), (x[2], x[3])), axis=\"columns\")"
   ]
  },
  {
   "cell_type": "code",
   "execution_count": 69,
   "metadata": {},
   "outputs": [
    {
     "data": {
      "text/plain": [
       "일반국도12호선    1046092\n",
       "-            569463\n",
       "일반국도16호선     554510\n",
       "일반국도95호선     248181\n",
       "일반국도11호선     215701\n",
       "             ...   \n",
       "애원로            7718\n",
       "아봉로            7342\n",
       "남조로            6813\n",
       "호서중앙로          2819\n",
       "호근로             587\n",
       "Name: road_name, Length: 61, dtype: int64"
      ]
     },
     "execution_count": 69,
     "metadata": {},
     "output_type": "execute_result"
    }
   ],
   "source": [
    "train['road_name'].value_counts()"
   ]
  },
  {
   "cell_type": "code",
   "execution_count": 70,
   "metadata": {},
   "outputs": [
    {
     "data": {
      "text/plain": [
       "고성교차로              42169\n",
       "산신주유소              29386\n",
       "미수2교               26635\n",
       "영주교                24381\n",
       "봉개교 시종점            24290\n",
       "                   ...  \n",
       "외산리사무소               934\n",
       "와산리                  881\n",
       "성미가든                 788\n",
       "서귀포시 호근동 1838-4      744\n",
       "CU서귀호근로점             744\n",
       "Name: start_node_name, Length: 487, dtype: int64"
      ]
     },
     "execution_count": 70,
     "metadata": {},
     "output_type": "execute_result"
    }
   ],
   "source": [
    "train['start_node_name'].value_counts()"
   ]
  },
  {
   "cell_type": "code",
   "execution_count": 72,
   "metadata": {},
   "outputs": [
    {
     "data": {
      "text/plain": [
       "0.0    4701217\n",
       "Name: vehicle_restricted, dtype: int64"
      ]
     },
     "execution_count": 72,
     "metadata": {},
     "output_type": "execute_result"
    }
   ],
   "source": [
    "train['vehicle_restricted'].value_counts()"
   ]
  },
  {
   "cell_type": "code",
   "execution_count": null,
   "metadata": {},
   "outputs": [],
   "source": []
  },
  {
   "cell_type": "markdown",
   "metadata": {},
   "source": [
    "## 데이터 전처리"
   ]
  },
  {
   "cell_type": "code",
   "execution_count": 9,
   "metadata": {},
   "outputs": [],
   "source": [
    "str_col = ['day_of_week','start_turn_restricted','end_turn_restricted']\n",
    "for i in str_col:\n",
    "    le = LabelEncoder()\n",
    "    le=le.fit(train[i])\n",
    "    train[i]=le.transform(train[i])\n",
    "    \n",
    "    for label in np.unique(test[i]):\n",
    "        if label not in le.classes_: \n",
    "            le.classes_ = np.append(le.classes_, label)\n",
    "    test[i]=le.transform(test[i])"
   ]
  },
  {
   "cell_type": "code",
   "execution_count": 10,
   "metadata": {},
   "outputs": [
    {
     "name": "stdout",
     "output_type": "stream",
     "text": [
      "(4701217, 16)\n",
      "(4701217,)\n",
      "(291241, 16)\n"
     ]
    }
   ],
   "source": [
    "y_train = train['target'] \n",
    "\n",
    "X_train = train.drop(['id','base_date', 'target','road_name', 'start_node_name', 'end_node_name','vehicle_restricted'], axis=1)\n",
    "\n",
    "test = test.drop(['id','base_date', 'road_name', 'start_node_name', 'end_node_name','vehicle_restricted'], axis=1)\n",
    "\n",
    "print(X_train.shape)\n",
    "print(y_train.shape)\n",
    "print(test.shape)"
   ]
  },
  {
   "cell_type": "markdown",
   "metadata": {},
   "source": [
    "## 모델링"
   ]
  },
  {
   "cell_type": "code",
   "execution_count": 11,
   "metadata": {},
   "outputs": [],
   "source": [
    "LR = lgb.LGBMRegressor(random_state=42).fit(X_train, y_train)"
   ]
  },
  {
   "cell_type": "code",
   "execution_count": null,
   "metadata": {},
   "outputs": [],
   "source": []
  },
  {
   "cell_type": "markdown",
   "metadata": {},
   "source": [
    "## 예측"
   ]
  },
  {
   "cell_type": "code",
   "execution_count": 12,
   "metadata": {},
   "outputs": [],
   "source": [
    "pred = LR.predict(test)"
   ]
  },
  {
   "cell_type": "code",
   "execution_count": null,
   "metadata": {},
   "outputs": [],
   "source": []
  },
  {
   "cell_type": "markdown",
   "metadata": {},
   "source": [
    "## 제출"
   ]
  },
  {
   "cell_type": "code",
   "execution_count": 14,
   "metadata": {},
   "outputs": [],
   "source": [
    "sample_submission = pd.read_csv('input/sample_submission.csv')"
   ]
  },
  {
   "cell_type": "code",
   "execution_count": 15,
   "metadata": {},
   "outputs": [],
   "source": [
    "sample_submission['target'] = pred\n",
    "sample_submission.to_csv(\"output/submit.csv\", index = False)"
   ]
  },
  {
   "cell_type": "code",
   "execution_count": null,
   "metadata": {},
   "outputs": [],
   "source": []
  }
 ],
 "metadata": {
  "kernelspec": {
   "display_name": "Python 3",
   "language": "python",
   "name": "python3"
  },
  "language_info": {
   "codemirror_mode": {
    "name": "ipython",
    "version": 3
   },
   "file_extension": ".py",
   "mimetype": "text/x-python",
   "name": "python",
   "nbconvert_exporter": "python",
   "pygments_lexer": "ipython3",
   "version": "3.7.6"
  }
 },
 "nbformat": 4,
 "nbformat_minor": 4
}
