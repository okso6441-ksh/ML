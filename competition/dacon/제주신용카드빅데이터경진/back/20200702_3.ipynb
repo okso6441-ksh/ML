{
 "cells": [
  {
   "cell_type": "code",
   "execution_count": 2,
   "metadata": {},
   "outputs": [],
   "source": [
    "import pandas as pd\n",
    "import numpy as np\n",
    "\n",
    "import matplotlib.pyplot as plt\n",
    "import seaborn as sns\n",
    "import warnings\n",
    "%matplotlib inline\n",
    "warnings.filterwarnings('ignore')\n",
    "\n",
    "from IPython.core.interactiveshell import InteractiveShell\n",
    "InteractiveShell.ast_node_interactivity = \"all\"\n",
    "\n",
    "np.random.seed(601)\n",
    "\n",
    "import sklearn\n",
    "from sklearn.ensemble import RandomForestRegressor, ExtraTreesRegressor\n",
    "from sklearn.preprocessing import LabelEncoder"
   ]
  },
  {
   "cell_type": "markdown",
   "metadata": {},
   "source": [
    "# 2. 데이터 전처리\n",
    "## Data Cleansing & Pre-Processing"
   ]
  },
  {
   "cell_type": "code",
   "execution_count": 3,
   "metadata": {},
   "outputs": [],
   "source": [
    "data = pd.read_csv('data/201901-202003.csv')"
   ]
  },
  {
   "cell_type": "code",
   "execution_count": 4,
   "metadata": {},
   "outputs": [
    {
     "data": {
      "text/html": [
       "<div>\n",
       "<style scoped>\n",
       "    .dataframe tbody tr th:only-of-type {\n",
       "        vertical-align: middle;\n",
       "    }\n",
       "\n",
       "    .dataframe tbody tr th {\n",
       "        vertical-align: top;\n",
       "    }\n",
       "\n",
       "    .dataframe thead th {\n",
       "        text-align: right;\n",
       "    }\n",
       "</style>\n",
       "<table border=\"1\" class=\"dataframe\">\n",
       "  <thead>\n",
       "    <tr style=\"text-align: right;\">\n",
       "      <th></th>\n",
       "      <th>REG_YYMM</th>\n",
       "      <th>CARD_SIDO_NM</th>\n",
       "      <th>CARD_CCG_NM</th>\n",
       "      <th>STD_CLSS_NM</th>\n",
       "      <th>HOM_SIDO_NM</th>\n",
       "      <th>HOM_CCG_NM</th>\n",
       "      <th>AGE</th>\n",
       "      <th>SEX_CTGO_CD</th>\n",
       "      <th>FLC</th>\n",
       "      <th>CSTMR_CNT</th>\n",
       "      <th>AMT</th>\n",
       "      <th>CNT</th>\n",
       "    </tr>\n",
       "  </thead>\n",
       "  <tbody>\n",
       "    <tr>\n",
       "      <th>0</th>\n",
       "      <td>201901</td>\n",
       "      <td>강원</td>\n",
       "      <td>강릉시</td>\n",
       "      <td>건강보조식품 소매업</td>\n",
       "      <td>강원</td>\n",
       "      <td>강릉시</td>\n",
       "      <td>20s</td>\n",
       "      <td>1</td>\n",
       "      <td>1</td>\n",
       "      <td>4</td>\n",
       "      <td>311200</td>\n",
       "      <td>4</td>\n",
       "    </tr>\n",
       "    <tr>\n",
       "      <th>1</th>\n",
       "      <td>201901</td>\n",
       "      <td>강원</td>\n",
       "      <td>강릉시</td>\n",
       "      <td>건강보조식품 소매업</td>\n",
       "      <td>강원</td>\n",
       "      <td>강릉시</td>\n",
       "      <td>30s</td>\n",
       "      <td>1</td>\n",
       "      <td>2</td>\n",
       "      <td>7</td>\n",
       "      <td>1374500</td>\n",
       "      <td>8</td>\n",
       "    </tr>\n",
       "    <tr>\n",
       "      <th>2</th>\n",
       "      <td>201901</td>\n",
       "      <td>강원</td>\n",
       "      <td>강릉시</td>\n",
       "      <td>건강보조식품 소매업</td>\n",
       "      <td>강원</td>\n",
       "      <td>강릉시</td>\n",
       "      <td>30s</td>\n",
       "      <td>2</td>\n",
       "      <td>2</td>\n",
       "      <td>6</td>\n",
       "      <td>818700</td>\n",
       "      <td>6</td>\n",
       "    </tr>\n",
       "    <tr>\n",
       "      <th>3</th>\n",
       "      <td>201901</td>\n",
       "      <td>강원</td>\n",
       "      <td>강릉시</td>\n",
       "      <td>건강보조식품 소매업</td>\n",
       "      <td>강원</td>\n",
       "      <td>강릉시</td>\n",
       "      <td>40s</td>\n",
       "      <td>1</td>\n",
       "      <td>3</td>\n",
       "      <td>4</td>\n",
       "      <td>1717000</td>\n",
       "      <td>5</td>\n",
       "    </tr>\n",
       "    <tr>\n",
       "      <th>4</th>\n",
       "      <td>201901</td>\n",
       "      <td>강원</td>\n",
       "      <td>강릉시</td>\n",
       "      <td>건강보조식품 소매업</td>\n",
       "      <td>강원</td>\n",
       "      <td>강릉시</td>\n",
       "      <td>40s</td>\n",
       "      <td>1</td>\n",
       "      <td>4</td>\n",
       "      <td>3</td>\n",
       "      <td>1047300</td>\n",
       "      <td>3</td>\n",
       "    </tr>\n",
       "  </tbody>\n",
       "</table>\n",
       "</div>"
      ],
      "text/plain": [
       "   REG_YYMM CARD_SIDO_NM CARD_CCG_NM STD_CLSS_NM HOM_SIDO_NM HOM_CCG_NM  AGE  \\\n",
       "0    201901           강원         강릉시  건강보조식품 소매업          강원        강릉시  20s   \n",
       "1    201901           강원         강릉시  건강보조식품 소매업          강원        강릉시  30s   \n",
       "2    201901           강원         강릉시  건강보조식품 소매업          강원        강릉시  30s   \n",
       "3    201901           강원         강릉시  건강보조식품 소매업          강원        강릉시  40s   \n",
       "4    201901           강원         강릉시  건강보조식품 소매업          강원        강릉시  40s   \n",
       "\n",
       "   SEX_CTGO_CD  FLC  CSTMR_CNT      AMT  CNT  \n",
       "0            1    1          4   311200    4  \n",
       "1            1    2          7  1374500    8  \n",
       "2            2    2          6   818700    6  \n",
       "3            1    3          4  1717000    5  \n",
       "4            1    4          3  1047300    3  "
      ]
     },
     "execution_count": 4,
     "metadata": {},
     "output_type": "execute_result"
    },
    {
     "data": {
      "text/html": [
       "<div>\n",
       "<style scoped>\n",
       "    .dataframe tbody tr th:only-of-type {\n",
       "        vertical-align: middle;\n",
       "    }\n",
       "\n",
       "    .dataframe tbody tr th {\n",
       "        vertical-align: top;\n",
       "    }\n",
       "\n",
       "    .dataframe thead th {\n",
       "        text-align: right;\n",
       "    }\n",
       "</style>\n",
       "<table border=\"1\" class=\"dataframe\">\n",
       "  <thead>\n",
       "    <tr style=\"text-align: right;\">\n",
       "      <th></th>\n",
       "      <th>REG_YYMM</th>\n",
       "      <th>CARD_SIDO_NM</th>\n",
       "      <th>CARD_CCG_NM</th>\n",
       "      <th>STD_CLSS_NM</th>\n",
       "      <th>HOM_SIDO_NM</th>\n",
       "      <th>HOM_CCG_NM</th>\n",
       "      <th>AGE</th>\n",
       "      <th>SEX_CTGO_CD</th>\n",
       "      <th>FLC</th>\n",
       "      <th>CSTMR_CNT</th>\n",
       "      <th>AMT</th>\n",
       "      <th>CNT</th>\n",
       "    </tr>\n",
       "  </thead>\n",
       "  <tbody>\n",
       "    <tr>\n",
       "      <th>24697787</th>\n",
       "      <td>202003</td>\n",
       "      <td>충북</td>\n",
       "      <td>충주시</td>\n",
       "      <td>휴양콘도 운영업</td>\n",
       "      <td>충북</td>\n",
       "      <td>충주시</td>\n",
       "      <td>30s</td>\n",
       "      <td>1</td>\n",
       "      <td>2</td>\n",
       "      <td>3</td>\n",
       "      <td>43300</td>\n",
       "      <td>4</td>\n",
       "    </tr>\n",
       "    <tr>\n",
       "      <th>24697788</th>\n",
       "      <td>202003</td>\n",
       "      <td>충북</td>\n",
       "      <td>충주시</td>\n",
       "      <td>휴양콘도 운영업</td>\n",
       "      <td>충북</td>\n",
       "      <td>충주시</td>\n",
       "      <td>40s</td>\n",
       "      <td>1</td>\n",
       "      <td>3</td>\n",
       "      <td>3</td>\n",
       "      <td>35000</td>\n",
       "      <td>3</td>\n",
       "    </tr>\n",
       "    <tr>\n",
       "      <th>24697789</th>\n",
       "      <td>202003</td>\n",
       "      <td>충북</td>\n",
       "      <td>충주시</td>\n",
       "      <td>휴양콘도 운영업</td>\n",
       "      <td>충북</td>\n",
       "      <td>충주시</td>\n",
       "      <td>50s</td>\n",
       "      <td>1</td>\n",
       "      <td>4</td>\n",
       "      <td>4</td>\n",
       "      <td>188000</td>\n",
       "      <td>6</td>\n",
       "    </tr>\n",
       "    <tr>\n",
       "      <th>24697790</th>\n",
       "      <td>202003</td>\n",
       "      <td>충북</td>\n",
       "      <td>충주시</td>\n",
       "      <td>휴양콘도 운영업</td>\n",
       "      <td>충북</td>\n",
       "      <td>충주시</td>\n",
       "      <td>50s</td>\n",
       "      <td>2</td>\n",
       "      <td>4</td>\n",
       "      <td>4</td>\n",
       "      <td>99000</td>\n",
       "      <td>6</td>\n",
       "    </tr>\n",
       "    <tr>\n",
       "      <th>24697791</th>\n",
       "      <td>202003</td>\n",
       "      <td>충북</td>\n",
       "      <td>충주시</td>\n",
       "      <td>휴양콘도 운영업</td>\n",
       "      <td>충북</td>\n",
       "      <td>충주시</td>\n",
       "      <td>60s</td>\n",
       "      <td>1</td>\n",
       "      <td>5</td>\n",
       "      <td>3</td>\n",
       "      <td>194000</td>\n",
       "      <td>3</td>\n",
       "    </tr>\n",
       "  </tbody>\n",
       "</table>\n",
       "</div>"
      ],
      "text/plain": [
       "          REG_YYMM CARD_SIDO_NM CARD_CCG_NM STD_CLSS_NM HOM_SIDO_NM  \\\n",
       "24697787    202003           충북         충주시    휴양콘도 운영업          충북   \n",
       "24697788    202003           충북         충주시    휴양콘도 운영업          충북   \n",
       "24697789    202003           충북         충주시    휴양콘도 운영업          충북   \n",
       "24697790    202003           충북         충주시    휴양콘도 운영업          충북   \n",
       "24697791    202003           충북         충주시    휴양콘도 운영업          충북   \n",
       "\n",
       "         HOM_CCG_NM  AGE  SEX_CTGO_CD  FLC  CSTMR_CNT     AMT  CNT  \n",
       "24697787        충주시  30s            1    2          3   43300    4  \n",
       "24697788        충주시  40s            1    3          3   35000    3  \n",
       "24697789        충주시  50s            1    4          4  188000    6  \n",
       "24697790        충주시  50s            2    4          4   99000    6  \n",
       "24697791        충주시  60s            1    5          3  194000    3  "
      ]
     },
     "execution_count": 4,
     "metadata": {},
     "output_type": "execute_result"
    }
   ],
   "source": [
    "data.head()\n",
    "data.tail()"
   ]
  },
  {
   "cell_type": "code",
   "execution_count": null,
   "metadata": {},
   "outputs": [],
   "source": []
  },
  {
   "cell_type": "code",
   "execution_count": 5,
   "metadata": {},
   "outputs": [],
   "source": [
    "data = data.fillna('')"
   ]
  },
  {
   "cell_type": "code",
   "execution_count": 5,
   "metadata": {},
   "outputs": [
    {
     "name": "stdout",
     "output_type": "stream",
     "text": [
      "<class 'pandas.core.frame.DataFrame'>\n",
      "RangeIndex: 24697792 entries, 0 to 24697791\n",
      "Data columns (total 12 columns):\n",
      " #   Column        Dtype \n",
      "---  ------        ----- \n",
      " 0   REG_YYMM      int64 \n",
      " 1   CARD_SIDO_NM  object\n",
      " 2   CARD_CCG_NM   object\n",
      " 3   STD_CLSS_NM   object\n",
      " 4   HOM_SIDO_NM   object\n",
      " 5   HOM_CCG_NM    object\n",
      " 6   AGE           object\n",
      " 7   SEX_CTGO_CD   int64 \n",
      " 8   FLC           int64 \n",
      " 9   CSTMR_CNT     int64 \n",
      " 10  AMT           int64 \n",
      " 11  CNT           int64 \n",
      "dtypes: int64(6), object(6)\n",
      "memory usage: 2.2+ GB\n"
     ]
    }
   ],
   "source": [
    "data.info()"
   ]
  },
  {
   "cell_type": "code",
   "execution_count": 6,
   "metadata": {},
   "outputs": [
    {
     "data": {
      "text/plain": [
       "201908    1880296\n",
       "201905    1772237\n",
       "201910    1751005\n",
       "201909    1734914\n",
       "201907    1721353\n",
       "201906    1712696\n",
       "201912    1674381\n",
       "202001    1672889\n",
       "201903    1668675\n",
       "201904    1655655\n",
       "201911    1652905\n",
       "201901    1607032\n",
       "201902    1594266\n",
       "202002    1338980\n",
       "202003    1260508\n",
       "Name: REG_YYMM, dtype: int64"
      ]
     },
     "execution_count": 6,
     "metadata": {},
     "output_type": "execute_result"
    }
   ],
   "source": [
    "data['REG_YYMM'].value_counts()"
   ]
  },
  {
   "cell_type": "code",
   "execution_count": 6,
   "metadata": {},
   "outputs": [],
   "source": [
    "# 201908 ~ 202002 -> train\n",
    "# 202003          -> test\n",
    "\n",
    "train = data[data['REG_YYMM'] != 202003]\n",
    "test = data[data['REG_YYMM'] == 202003]"
   ]
  },
  {
   "cell_type": "markdown",
   "metadata": {},
   "source": [
    "### 날짜 처리 YYYYMM -> YYYY + MM"
   ]
  },
  {
   "cell_type": "code",
   "execution_count": 7,
   "metadata": {},
   "outputs": [],
   "source": [
    "def grap_year(data):\n",
    "    data = str(data)\n",
    "    return int(data[:4])\n",
    "\n",
    "def grap_month(data):\n",
    "    data = str(data)\n",
    "    return int(data[4:])"
   ]
  },
  {
   "cell_type": "code",
   "execution_count": 8,
   "metadata": {},
   "outputs": [],
   "source": [
    "# all\n",
    "\n",
    "data['year'] = data['REG_YYMM'].apply(lambda x: grap_year(x))\n",
    "data['month'] = data['REG_YYMM'].apply(lambda x: grap_month(x))\n",
    "data = data.drop(['REG_YYMM'], axis=1)"
   ]
  },
  {
   "cell_type": "code",
   "execution_count": 9,
   "metadata": {},
   "outputs": [],
   "source": [
    "# train\n",
    "train['year'] = train['REG_YYMM'].apply(lambda x: grap_year(x))\n",
    "train['month'] = train['REG_YYMM'].apply(lambda x: grap_month(x))\n",
    "train = train.drop(['REG_YYMM'], axis=1)"
   ]
  },
  {
   "cell_type": "code",
   "execution_count": 10,
   "metadata": {},
   "outputs": [],
   "source": [
    "# test\n",
    "test['year'] = test['REG_YYMM'].apply(lambda x: grap_year(x))\n",
    "test['month'] = test['REG_YYMM'].apply(lambda x: grap_month(x))\n",
    "test = test.drop(['REG_YYMM'], axis=1)"
   ]
  },
  {
   "cell_type": "code",
   "execution_count": 11,
   "metadata": {},
   "outputs": [
    {
     "data": {
      "text/html": [
       "<div>\n",
       "<style scoped>\n",
       "    .dataframe tbody tr th:only-of-type {\n",
       "        vertical-align: middle;\n",
       "    }\n",
       "\n",
       "    .dataframe tbody tr th {\n",
       "        vertical-align: top;\n",
       "    }\n",
       "\n",
       "    .dataframe thead th {\n",
       "        text-align: right;\n",
       "    }\n",
       "</style>\n",
       "<table border=\"1\" class=\"dataframe\">\n",
       "  <thead>\n",
       "    <tr style=\"text-align: right;\">\n",
       "      <th></th>\n",
       "      <th>CARD_SIDO_NM</th>\n",
       "      <th>CARD_CCG_NM</th>\n",
       "      <th>STD_CLSS_NM</th>\n",
       "      <th>HOM_SIDO_NM</th>\n",
       "      <th>HOM_CCG_NM</th>\n",
       "      <th>AGE</th>\n",
       "      <th>SEX_CTGO_CD</th>\n",
       "      <th>FLC</th>\n",
       "      <th>CSTMR_CNT</th>\n",
       "      <th>AMT</th>\n",
       "      <th>CNT</th>\n",
       "      <th>year</th>\n",
       "      <th>month</th>\n",
       "    </tr>\n",
       "  </thead>\n",
       "  <tbody>\n",
       "    <tr>\n",
       "      <th>23437279</th>\n",
       "      <td>충북</td>\n",
       "      <td>충주시</td>\n",
       "      <td>휴양콘도 운영업</td>\n",
       "      <td>충북</td>\n",
       "      <td>충주시</td>\n",
       "      <td>40s</td>\n",
       "      <td>1</td>\n",
       "      <td>3</td>\n",
       "      <td>3</td>\n",
       "      <td>62000</td>\n",
       "      <td>3</td>\n",
       "      <td>2020</td>\n",
       "      <td>2</td>\n",
       "    </tr>\n",
       "    <tr>\n",
       "      <th>23437280</th>\n",
       "      <td>충북</td>\n",
       "      <td>충주시</td>\n",
       "      <td>휴양콘도 운영업</td>\n",
       "      <td>충북</td>\n",
       "      <td>충주시</td>\n",
       "      <td>40s</td>\n",
       "      <td>2</td>\n",
       "      <td>3</td>\n",
       "      <td>3</td>\n",
       "      <td>172000</td>\n",
       "      <td>4</td>\n",
       "      <td>2020</td>\n",
       "      <td>2</td>\n",
       "    </tr>\n",
       "    <tr>\n",
       "      <th>23437281</th>\n",
       "      <td>충북</td>\n",
       "      <td>충주시</td>\n",
       "      <td>휴양콘도 운영업</td>\n",
       "      <td>충북</td>\n",
       "      <td>충주시</td>\n",
       "      <td>50s</td>\n",
       "      <td>1</td>\n",
       "      <td>4</td>\n",
       "      <td>12</td>\n",
       "      <td>399000</td>\n",
       "      <td>12</td>\n",
       "      <td>2020</td>\n",
       "      <td>2</td>\n",
       "    </tr>\n",
       "    <tr>\n",
       "      <th>23437282</th>\n",
       "      <td>충북</td>\n",
       "      <td>충주시</td>\n",
       "      <td>휴양콘도 운영업</td>\n",
       "      <td>충북</td>\n",
       "      <td>충주시</td>\n",
       "      <td>50s</td>\n",
       "      <td>2</td>\n",
       "      <td>4</td>\n",
       "      <td>13</td>\n",
       "      <td>504100</td>\n",
       "      <td>16</td>\n",
       "      <td>2020</td>\n",
       "      <td>2</td>\n",
       "    </tr>\n",
       "    <tr>\n",
       "      <th>23437283</th>\n",
       "      <td>충북</td>\n",
       "      <td>충주시</td>\n",
       "      <td>휴양콘도 운영업</td>\n",
       "      <td>충북</td>\n",
       "      <td>충주시</td>\n",
       "      <td>60s</td>\n",
       "      <td>1</td>\n",
       "      <td>5</td>\n",
       "      <td>6</td>\n",
       "      <td>142000</td>\n",
       "      <td>6</td>\n",
       "      <td>2020</td>\n",
       "      <td>2</td>\n",
       "    </tr>\n",
       "  </tbody>\n",
       "</table>\n",
       "</div>"
      ],
      "text/plain": [
       "         CARD_SIDO_NM CARD_CCG_NM STD_CLSS_NM HOM_SIDO_NM HOM_CCG_NM  AGE  \\\n",
       "23437279           충북         충주시    휴양콘도 운영업          충북        충주시  40s   \n",
       "23437280           충북         충주시    휴양콘도 운영업          충북        충주시  40s   \n",
       "23437281           충북         충주시    휴양콘도 운영업          충북        충주시  50s   \n",
       "23437282           충북         충주시    휴양콘도 운영업          충북        충주시  50s   \n",
       "23437283           충북         충주시    휴양콘도 운영업          충북        충주시  60s   \n",
       "\n",
       "          SEX_CTGO_CD  FLC  CSTMR_CNT     AMT  CNT  year  month  \n",
       "23437279            1    3          3   62000    3  2020      2  \n",
       "23437280            2    3          3  172000    4  2020      2  \n",
       "23437281            1    4         12  399000   12  2020      2  \n",
       "23437282            2    4         13  504100   16  2020      2  \n",
       "23437283            1    5          6  142000    6  2020      2  "
      ]
     },
     "execution_count": 11,
     "metadata": {},
     "output_type": "execute_result"
    },
    {
     "data": {
      "text/html": [
       "<div>\n",
       "<style scoped>\n",
       "    .dataframe tbody tr th:only-of-type {\n",
       "        vertical-align: middle;\n",
       "    }\n",
       "\n",
       "    .dataframe tbody tr th {\n",
       "        vertical-align: top;\n",
       "    }\n",
       "\n",
       "    .dataframe thead th {\n",
       "        text-align: right;\n",
       "    }\n",
       "</style>\n",
       "<table border=\"1\" class=\"dataframe\">\n",
       "  <thead>\n",
       "    <tr style=\"text-align: right;\">\n",
       "      <th></th>\n",
       "      <th>CARD_SIDO_NM</th>\n",
       "      <th>CARD_CCG_NM</th>\n",
       "      <th>STD_CLSS_NM</th>\n",
       "      <th>HOM_SIDO_NM</th>\n",
       "      <th>HOM_CCG_NM</th>\n",
       "      <th>AGE</th>\n",
       "      <th>SEX_CTGO_CD</th>\n",
       "      <th>FLC</th>\n",
       "      <th>CSTMR_CNT</th>\n",
       "      <th>AMT</th>\n",
       "      <th>CNT</th>\n",
       "      <th>year</th>\n",
       "      <th>month</th>\n",
       "    </tr>\n",
       "  </thead>\n",
       "  <tbody>\n",
       "    <tr>\n",
       "      <th>24697787</th>\n",
       "      <td>충북</td>\n",
       "      <td>충주시</td>\n",
       "      <td>휴양콘도 운영업</td>\n",
       "      <td>충북</td>\n",
       "      <td>충주시</td>\n",
       "      <td>30s</td>\n",
       "      <td>1</td>\n",
       "      <td>2</td>\n",
       "      <td>3</td>\n",
       "      <td>43300</td>\n",
       "      <td>4</td>\n",
       "      <td>2020</td>\n",
       "      <td>3</td>\n",
       "    </tr>\n",
       "    <tr>\n",
       "      <th>24697788</th>\n",
       "      <td>충북</td>\n",
       "      <td>충주시</td>\n",
       "      <td>휴양콘도 운영업</td>\n",
       "      <td>충북</td>\n",
       "      <td>충주시</td>\n",
       "      <td>40s</td>\n",
       "      <td>1</td>\n",
       "      <td>3</td>\n",
       "      <td>3</td>\n",
       "      <td>35000</td>\n",
       "      <td>3</td>\n",
       "      <td>2020</td>\n",
       "      <td>3</td>\n",
       "    </tr>\n",
       "    <tr>\n",
       "      <th>24697789</th>\n",
       "      <td>충북</td>\n",
       "      <td>충주시</td>\n",
       "      <td>휴양콘도 운영업</td>\n",
       "      <td>충북</td>\n",
       "      <td>충주시</td>\n",
       "      <td>50s</td>\n",
       "      <td>1</td>\n",
       "      <td>4</td>\n",
       "      <td>4</td>\n",
       "      <td>188000</td>\n",
       "      <td>6</td>\n",
       "      <td>2020</td>\n",
       "      <td>3</td>\n",
       "    </tr>\n",
       "    <tr>\n",
       "      <th>24697790</th>\n",
       "      <td>충북</td>\n",
       "      <td>충주시</td>\n",
       "      <td>휴양콘도 운영업</td>\n",
       "      <td>충북</td>\n",
       "      <td>충주시</td>\n",
       "      <td>50s</td>\n",
       "      <td>2</td>\n",
       "      <td>4</td>\n",
       "      <td>4</td>\n",
       "      <td>99000</td>\n",
       "      <td>6</td>\n",
       "      <td>2020</td>\n",
       "      <td>3</td>\n",
       "    </tr>\n",
       "    <tr>\n",
       "      <th>24697791</th>\n",
       "      <td>충북</td>\n",
       "      <td>충주시</td>\n",
       "      <td>휴양콘도 운영업</td>\n",
       "      <td>충북</td>\n",
       "      <td>충주시</td>\n",
       "      <td>60s</td>\n",
       "      <td>1</td>\n",
       "      <td>5</td>\n",
       "      <td>3</td>\n",
       "      <td>194000</td>\n",
       "      <td>3</td>\n",
       "      <td>2020</td>\n",
       "      <td>3</td>\n",
       "    </tr>\n",
       "  </tbody>\n",
       "</table>\n",
       "</div>"
      ],
      "text/plain": [
       "         CARD_SIDO_NM CARD_CCG_NM STD_CLSS_NM HOM_SIDO_NM HOM_CCG_NM  AGE  \\\n",
       "24697787           충북         충주시    휴양콘도 운영업          충북        충주시  30s   \n",
       "24697788           충북         충주시    휴양콘도 운영업          충북        충주시  40s   \n",
       "24697789           충북         충주시    휴양콘도 운영업          충북        충주시  50s   \n",
       "24697790           충북         충주시    휴양콘도 운영업          충북        충주시  50s   \n",
       "24697791           충북         충주시    휴양콘도 운영업          충북        충주시  60s   \n",
       "\n",
       "          SEX_CTGO_CD  FLC  CSTMR_CNT     AMT  CNT  year  month  \n",
       "24697787            1    2          3   43300    4  2020      3  \n",
       "24697788            1    3          3   35000    3  2020      3  \n",
       "24697789            1    4          4  188000    6  2020      3  \n",
       "24697790            2    4          4   99000    6  2020      3  \n",
       "24697791            1    5          3  194000    3  2020      3  "
      ]
     },
     "execution_count": 11,
     "metadata": {},
     "output_type": "execute_result"
    }
   ],
   "source": [
    "train.tail()\n",
    "test.tail()"
   ]
  },
  {
   "cell_type": "code",
   "execution_count": null,
   "metadata": {},
   "outputs": [],
   "source": []
  },
  {
   "cell_type": "markdown",
   "metadata": {},
   "source": [
    "### 데이터 정제"
   ]
  },
  {
   "cell_type": "code",
   "execution_count": 12,
   "metadata": {},
   "outputs": [],
   "source": [
    "# all\n",
    "df = data.copy()\n",
    "df = df.drop(['CARD_CCG_NM', 'HOM_CCG_NM'], axis=1) # 카드이용지역_시군구 (가맹점 주소 기준) # 거주지역_시군구 (고객 집주소 기준)\n",
    "\n",
    "columns = ['CARD_SIDO_NM', 'STD_CLSS_NM', 'HOM_SIDO_NM', 'AGE', 'SEX_CTGO_CD', 'FLC', 'year', 'month']\n",
    "df = df.groupby(columns).sum().reset_index(drop=False)"
   ]
  },
  {
   "cell_type": "code",
   "execution_count": 13,
   "metadata": {},
   "outputs": [],
   "source": [
    "# train\n",
    "df_train = train.copy()\n",
    "df_train = df_train.drop(['CARD_CCG_NM', 'HOM_CCG_NM'], axis=1) # 카드이용지역_시군구 (가맹점 주소 기준) # 거주지역_시군구 (고객 집주소 기준)\n",
    "\n",
    "columns = ['CARD_SIDO_NM', 'STD_CLSS_NM', 'HOM_SIDO_NM', 'AGE', 'SEX_CTGO_CD', 'FLC', 'year', 'month']\n",
    "df_train = df_train.groupby(columns).sum().reset_index(drop=False)"
   ]
  },
  {
   "cell_type": "code",
   "execution_count": 14,
   "metadata": {},
   "outputs": [],
   "source": [
    "# test\n",
    "df_test = test.copy()\n",
    "df_test = df_test.drop(['CARD_CCG_NM', 'HOM_CCG_NM'], axis=1) # 카드이용지역_시군구 (가맹점 주소 기준) # 거주지역_시군구 (고객 집주소 기준)\n",
    "\n",
    "columns = ['CARD_SIDO_NM', 'STD_CLSS_NM', 'HOM_SIDO_NM', 'AGE', 'SEX_CTGO_CD', 'FLC', 'year', 'month']\n",
    "df_test = df_test.groupby(columns).sum().reset_index(drop=False)"
   ]
  },
  {
   "cell_type": "markdown",
   "metadata": {},
   "source": [
    "### 인코딩"
   ]
  },
  {
   "cell_type": "code",
   "execution_count": 15,
   "metadata": {},
   "outputs": [
    {
     "data": {
      "text/plain": [
       "LabelEncoder()"
      ]
     },
     "execution_count": 15,
     "metadata": {},
     "output_type": "execute_result"
    },
    {
     "data": {
      "text/plain": [
       "LabelEncoder()"
      ]
     },
     "execution_count": 15,
     "metadata": {},
     "output_type": "execute_result"
    },
    {
     "data": {
      "text/plain": [
       "LabelEncoder()"
      ]
     },
     "execution_count": 15,
     "metadata": {},
     "output_type": "execute_result"
    },
    {
     "data": {
      "text/plain": [
       "LabelEncoder()"
      ]
     },
     "execution_count": 15,
     "metadata": {},
     "output_type": "execute_result"
    }
   ],
   "source": [
    "# all\n",
    "dtypes = df.dtypes\n",
    "encoders = {}\n",
    "for column in df.columns:\n",
    "    if str(dtypes[column]) == 'object':\n",
    "        encoder = LabelEncoder()\n",
    "        encoder.fit(df[column])\n",
    "        encoders[column] = encoder\n",
    "        \n",
    "df_num = df.copy()        \n",
    "for column in encoders.keys():\n",
    "    encoder = encoders[column]\n",
    "    df_num[column] = encoder.transform(df[column])"
   ]
  },
  {
   "cell_type": "code",
   "execution_count": 16,
   "metadata": {},
   "outputs": [
    {
     "data": {
      "text/plain": [
       "LabelEncoder()"
      ]
     },
     "execution_count": 16,
     "metadata": {},
     "output_type": "execute_result"
    },
    {
     "data": {
      "text/plain": [
       "LabelEncoder()"
      ]
     },
     "execution_count": 16,
     "metadata": {},
     "output_type": "execute_result"
    },
    {
     "data": {
      "text/plain": [
       "LabelEncoder()"
      ]
     },
     "execution_count": 16,
     "metadata": {},
     "output_type": "execute_result"
    },
    {
     "data": {
      "text/plain": [
       "LabelEncoder()"
      ]
     },
     "execution_count": 16,
     "metadata": {},
     "output_type": "execute_result"
    }
   ],
   "source": [
    "# train\n",
    "dtypes = df_train.dtypes\n",
    "encoders = {}\n",
    "for column in df_train.columns:\n",
    "    if str(dtypes[column]) == 'object':\n",
    "        encoder = LabelEncoder()\n",
    "        encoder.fit(df_train[column])\n",
    "        encoders[column] = encoder\n",
    "        \n",
    "df_num_train = df_train.copy()        \n",
    "for column in encoders.keys():\n",
    "    encoder = encoders[column]\n",
    "    df_num_train[column] = encoder.transform(df_train[column])"
   ]
  },
  {
   "cell_type": "code",
   "execution_count": 17,
   "metadata": {},
   "outputs": [
    {
     "data": {
      "text/plain": [
       "LabelEncoder()"
      ]
     },
     "execution_count": 17,
     "metadata": {},
     "output_type": "execute_result"
    },
    {
     "data": {
      "text/plain": [
       "LabelEncoder()"
      ]
     },
     "execution_count": 17,
     "metadata": {},
     "output_type": "execute_result"
    },
    {
     "data": {
      "text/plain": [
       "LabelEncoder()"
      ]
     },
     "execution_count": 17,
     "metadata": {},
     "output_type": "execute_result"
    },
    {
     "data": {
      "text/plain": [
       "LabelEncoder()"
      ]
     },
     "execution_count": 17,
     "metadata": {},
     "output_type": "execute_result"
    }
   ],
   "source": [
    "# test\n",
    "encoders = {}\n",
    "for column in df_test.columns:\n",
    "    if str(dtypes[column]) == 'object':\n",
    "        encoder = LabelEncoder()\n",
    "        encoder.fit(df_test[column])\n",
    "        encoders[column] = encoder\n",
    "        \n",
    "df_num_test = df_test.copy()        \n",
    "for column in encoders.keys():\n",
    "    encoder = encoders[column]\n",
    "    df_num_test[column] = encoder.transform(df_test[column])"
   ]
  },
  {
   "cell_type": "markdown",
   "metadata": {},
   "source": [
    "# 3. 탐색적 자료분석\n",
    "## Exploratory Data Analysis"
   ]
  },
  {
   "cell_type": "code",
   "execution_count": 19,
   "metadata": {},
   "outputs": [],
   "source": [
    "# 입력하세요.\n"
   ]
  },
  {
   "cell_type": "markdown",
   "metadata": {},
   "source": [
    "# 4. 변수 선택 및 모델 구축\n",
    "## Feature Engineering & Initial Modeling"
   ]
  },
  {
   "cell_type": "code",
   "execution_count": 20,
   "metadata": {},
   "outputs": [
    {
     "data": {
      "text/html": [
       "<div>\n",
       "<style scoped>\n",
       "    .dataframe tbody tr th:only-of-type {\n",
       "        vertical-align: middle;\n",
       "    }\n",
       "\n",
       "    .dataframe tbody tr th {\n",
       "        vertical-align: top;\n",
       "    }\n",
       "\n",
       "    .dataframe thead th {\n",
       "        text-align: right;\n",
       "    }\n",
       "</style>\n",
       "<table border=\"1\" class=\"dataframe\">\n",
       "  <thead>\n",
       "    <tr style=\"text-align: right;\">\n",
       "      <th></th>\n",
       "      <th>CARD_SIDO_NM</th>\n",
       "      <th>STD_CLSS_NM</th>\n",
       "      <th>HOM_SIDO_NM</th>\n",
       "      <th>AGE</th>\n",
       "      <th>SEX_CTGO_CD</th>\n",
       "      <th>FLC</th>\n",
       "      <th>year</th>\n",
       "      <th>month</th>\n",
       "      <th>CSTMR_CNT</th>\n",
       "      <th>AMT</th>\n",
       "      <th>CNT</th>\n",
       "    </tr>\n",
       "  </thead>\n",
       "  <tbody>\n",
       "    <tr>\n",
       "      <th>0</th>\n",
       "      <td>0</td>\n",
       "      <td>0</td>\n",
       "      <td>0</td>\n",
       "      <td>1</td>\n",
       "      <td>1</td>\n",
       "      <td>1</td>\n",
       "      <td>2019</td>\n",
       "      <td>1</td>\n",
       "      <td>4</td>\n",
       "      <td>311200</td>\n",
       "      <td>4</td>\n",
       "    </tr>\n",
       "    <tr>\n",
       "      <th>1</th>\n",
       "      <td>0</td>\n",
       "      <td>0</td>\n",
       "      <td>0</td>\n",
       "      <td>1</td>\n",
       "      <td>1</td>\n",
       "      <td>1</td>\n",
       "      <td>2019</td>\n",
       "      <td>2</td>\n",
       "      <td>3</td>\n",
       "      <td>605000</td>\n",
       "      <td>3</td>\n",
       "    </tr>\n",
       "    <tr>\n",
       "      <th>2</th>\n",
       "      <td>0</td>\n",
       "      <td>0</td>\n",
       "      <td>0</td>\n",
       "      <td>1</td>\n",
       "      <td>1</td>\n",
       "      <td>1</td>\n",
       "      <td>2019</td>\n",
       "      <td>6</td>\n",
       "      <td>3</td>\n",
       "      <td>139000</td>\n",
       "      <td>3</td>\n",
       "    </tr>\n",
       "    <tr>\n",
       "      <th>3</th>\n",
       "      <td>0</td>\n",
       "      <td>0</td>\n",
       "      <td>0</td>\n",
       "      <td>1</td>\n",
       "      <td>1</td>\n",
       "      <td>1</td>\n",
       "      <td>2019</td>\n",
       "      <td>8</td>\n",
       "      <td>3</td>\n",
       "      <td>27500</td>\n",
       "      <td>3</td>\n",
       "    </tr>\n",
       "    <tr>\n",
       "      <th>4</th>\n",
       "      <td>0</td>\n",
       "      <td>0</td>\n",
       "      <td>0</td>\n",
       "      <td>1</td>\n",
       "      <td>1</td>\n",
       "      <td>1</td>\n",
       "      <td>2019</td>\n",
       "      <td>9</td>\n",
       "      <td>3</td>\n",
       "      <td>395500</td>\n",
       "      <td>3</td>\n",
       "    </tr>\n",
       "    <tr>\n",
       "      <th>...</th>\n",
       "      <td>...</td>\n",
       "      <td>...</td>\n",
       "      <td>...</td>\n",
       "      <td>...</td>\n",
       "      <td>...</td>\n",
       "      <td>...</td>\n",
       "      <td>...</td>\n",
       "      <td>...</td>\n",
       "      <td>...</td>\n",
       "      <td>...</td>\n",
       "      <td>...</td>\n",
       "    </tr>\n",
       "    <tr>\n",
       "      <th>1002743</th>\n",
       "      <td>16</td>\n",
       "      <td>40</td>\n",
       "      <td>16</td>\n",
       "      <td>6</td>\n",
       "      <td>2</td>\n",
       "      <td>5</td>\n",
       "      <td>2019</td>\n",
       "      <td>3</td>\n",
       "      <td>3</td>\n",
       "      <td>148000</td>\n",
       "      <td>4</td>\n",
       "    </tr>\n",
       "    <tr>\n",
       "      <th>1002744</th>\n",
       "      <td>16</td>\n",
       "      <td>40</td>\n",
       "      <td>16</td>\n",
       "      <td>6</td>\n",
       "      <td>2</td>\n",
       "      <td>5</td>\n",
       "      <td>2019</td>\n",
       "      <td>5</td>\n",
       "      <td>5</td>\n",
       "      <td>329800</td>\n",
       "      <td>7</td>\n",
       "    </tr>\n",
       "    <tr>\n",
       "      <th>1002745</th>\n",
       "      <td>16</td>\n",
       "      <td>40</td>\n",
       "      <td>16</td>\n",
       "      <td>6</td>\n",
       "      <td>2</td>\n",
       "      <td>5</td>\n",
       "      <td>2019</td>\n",
       "      <td>10</td>\n",
       "      <td>7</td>\n",
       "      <td>557800</td>\n",
       "      <td>7</td>\n",
       "    </tr>\n",
       "    <tr>\n",
       "      <th>1002746</th>\n",
       "      <td>16</td>\n",
       "      <td>40</td>\n",
       "      <td>16</td>\n",
       "      <td>6</td>\n",
       "      <td>2</td>\n",
       "      <td>5</td>\n",
       "      <td>2019</td>\n",
       "      <td>12</td>\n",
       "      <td>3</td>\n",
       "      <td>247800</td>\n",
       "      <td>3</td>\n",
       "    </tr>\n",
       "    <tr>\n",
       "      <th>1002747</th>\n",
       "      <td>16</td>\n",
       "      <td>40</td>\n",
       "      <td>16</td>\n",
       "      <td>6</td>\n",
       "      <td>2</td>\n",
       "      <td>5</td>\n",
       "      <td>2020</td>\n",
       "      <td>1</td>\n",
       "      <td>3</td>\n",
       "      <td>230400</td>\n",
       "      <td>3</td>\n",
       "    </tr>\n",
       "  </tbody>\n",
       "</table>\n",
       "<p>1002748 rows × 11 columns</p>\n",
       "</div>"
      ],
      "text/plain": [
       "         CARD_SIDO_NM  STD_CLSS_NM  HOM_SIDO_NM  AGE  SEX_CTGO_CD  FLC  year  \\\n",
       "0                   0            0            0    1            1    1  2019   \n",
       "1                   0            0            0    1            1    1  2019   \n",
       "2                   0            0            0    1            1    1  2019   \n",
       "3                   0            0            0    1            1    1  2019   \n",
       "4                   0            0            0    1            1    1  2019   \n",
       "...               ...          ...          ...  ...          ...  ...   ...   \n",
       "1002743            16           40           16    6            2    5  2019   \n",
       "1002744            16           40           16    6            2    5  2019   \n",
       "1002745            16           40           16    6            2    5  2019   \n",
       "1002746            16           40           16    6            2    5  2019   \n",
       "1002747            16           40           16    6            2    5  2020   \n",
       "\n",
       "         month  CSTMR_CNT     AMT  CNT  \n",
       "0            1          4  311200    4  \n",
       "1            2          3  605000    3  \n",
       "2            6          3  139000    3  \n",
       "3            8          3   27500    3  \n",
       "4            9          3  395500    3  \n",
       "...        ...        ...     ...  ...  \n",
       "1002743      3          3  148000    4  \n",
       "1002744      5          5  329800    7  \n",
       "1002745     10          7  557800    7  \n",
       "1002746     12          3  247800    3  \n",
       "1002747      1          3  230400    3  \n",
       "\n",
       "[1002748 rows x 11 columns]"
      ]
     },
     "execution_count": 20,
     "metadata": {},
     "output_type": "execute_result"
    },
    {
     "data": {
      "text/html": [
       "<div>\n",
       "<style scoped>\n",
       "    .dataframe tbody tr th:only-of-type {\n",
       "        vertical-align: middle;\n",
       "    }\n",
       "\n",
       "    .dataframe tbody tr th {\n",
       "        vertical-align: top;\n",
       "    }\n",
       "\n",
       "    .dataframe thead th {\n",
       "        text-align: right;\n",
       "    }\n",
       "</style>\n",
       "<table border=\"1\" class=\"dataframe\">\n",
       "  <thead>\n",
       "    <tr style=\"text-align: right;\">\n",
       "      <th></th>\n",
       "      <th>CARD_SIDO_NM</th>\n",
       "      <th>STD_CLSS_NM</th>\n",
       "      <th>HOM_SIDO_NM</th>\n",
       "      <th>AGE</th>\n",
       "      <th>SEX_CTGO_CD</th>\n",
       "      <th>FLC</th>\n",
       "      <th>year</th>\n",
       "      <th>month</th>\n",
       "      <th>CSTMR_CNT</th>\n",
       "      <th>AMT</th>\n",
       "      <th>CNT</th>\n",
       "    </tr>\n",
       "  </thead>\n",
       "  <tbody>\n",
       "    <tr>\n",
       "      <th>0</th>\n",
       "      <td>0</td>\n",
       "      <td>0</td>\n",
       "      <td>0</td>\n",
       "      <td>1</td>\n",
       "      <td>1</td>\n",
       "      <td>1</td>\n",
       "      <td>2020</td>\n",
       "      <td>3</td>\n",
       "      <td>3</td>\n",
       "      <td>427510</td>\n",
       "      <td>2</td>\n",
       "    </tr>\n",
       "    <tr>\n",
       "      <th>1</th>\n",
       "      <td>0</td>\n",
       "      <td>0</td>\n",
       "      <td>0</td>\n",
       "      <td>2</td>\n",
       "      <td>1</td>\n",
       "      <td>2</td>\n",
       "      <td>2020</td>\n",
       "      <td>3</td>\n",
       "      <td>38</td>\n",
       "      <td>5622890</td>\n",
       "      <td>37</td>\n",
       "    </tr>\n",
       "    <tr>\n",
       "      <th>2</th>\n",
       "      <td>0</td>\n",
       "      <td>0</td>\n",
       "      <td>0</td>\n",
       "      <td>2</td>\n",
       "      <td>2</td>\n",
       "      <td>2</td>\n",
       "      <td>2020</td>\n",
       "      <td>3</td>\n",
       "      <td>30</td>\n",
       "      <td>2296125</td>\n",
       "      <td>38</td>\n",
       "    </tr>\n",
       "    <tr>\n",
       "      <th>3</th>\n",
       "      <td>0</td>\n",
       "      <td>0</td>\n",
       "      <td>0</td>\n",
       "      <td>3</td>\n",
       "      <td>1</td>\n",
       "      <td>2</td>\n",
       "      <td>2020</td>\n",
       "      <td>3</td>\n",
       "      <td>3</td>\n",
       "      <td>257000</td>\n",
       "      <td>4</td>\n",
       "    </tr>\n",
       "    <tr>\n",
       "      <th>4</th>\n",
       "      <td>0</td>\n",
       "      <td>0</td>\n",
       "      <td>0</td>\n",
       "      <td>3</td>\n",
       "      <td>1</td>\n",
       "      <td>3</td>\n",
       "      <td>2020</td>\n",
       "      <td>3</td>\n",
       "      <td>51</td>\n",
       "      <td>6490800</td>\n",
       "      <td>48</td>\n",
       "    </tr>\n",
       "    <tr>\n",
       "      <th>...</th>\n",
       "      <td>...</td>\n",
       "      <td>...</td>\n",
       "      <td>...</td>\n",
       "      <td>...</td>\n",
       "      <td>...</td>\n",
       "      <td>...</td>\n",
       "      <td>...</td>\n",
       "      <td>...</td>\n",
       "      <td>...</td>\n",
       "      <td>...</td>\n",
       "      <td>...</td>\n",
       "    </tr>\n",
       "    <tr>\n",
       "      <th>54641</th>\n",
       "      <td>16</td>\n",
       "      <td>40</td>\n",
       "      <td>16</td>\n",
       "      <td>3</td>\n",
       "      <td>1</td>\n",
       "      <td>4</td>\n",
       "      <td>2020</td>\n",
       "      <td>3</td>\n",
       "      <td>9</td>\n",
       "      <td>385700</td>\n",
       "      <td>10</td>\n",
       "    </tr>\n",
       "    <tr>\n",
       "      <th>54642</th>\n",
       "      <td>16</td>\n",
       "      <td>40</td>\n",
       "      <td>16</td>\n",
       "      <td>4</td>\n",
       "      <td>1</td>\n",
       "      <td>4</td>\n",
       "      <td>2020</td>\n",
       "      <td>3</td>\n",
       "      <td>10</td>\n",
       "      <td>790350</td>\n",
       "      <td>19</td>\n",
       "    </tr>\n",
       "    <tr>\n",
       "      <th>54643</th>\n",
       "      <td>16</td>\n",
       "      <td>40</td>\n",
       "      <td>16</td>\n",
       "      <td>4</td>\n",
       "      <td>2</td>\n",
       "      <td>4</td>\n",
       "      <td>2020</td>\n",
       "      <td>3</td>\n",
       "      <td>4</td>\n",
       "      <td>99000</td>\n",
       "      <td>6</td>\n",
       "    </tr>\n",
       "    <tr>\n",
       "      <th>54644</th>\n",
       "      <td>16</td>\n",
       "      <td>40</td>\n",
       "      <td>16</td>\n",
       "      <td>5</td>\n",
       "      <td>1</td>\n",
       "      <td>5</td>\n",
       "      <td>2020</td>\n",
       "      <td>3</td>\n",
       "      <td>6</td>\n",
       "      <td>228800</td>\n",
       "      <td>6</td>\n",
       "    </tr>\n",
       "    <tr>\n",
       "      <th>54645</th>\n",
       "      <td>16</td>\n",
       "      <td>40</td>\n",
       "      <td>16</td>\n",
       "      <td>5</td>\n",
       "      <td>2</td>\n",
       "      <td>5</td>\n",
       "      <td>2020</td>\n",
       "      <td>3</td>\n",
       "      <td>3</td>\n",
       "      <td>51500</td>\n",
       "      <td>3</td>\n",
       "    </tr>\n",
       "  </tbody>\n",
       "</table>\n",
       "<p>54646 rows × 11 columns</p>\n",
       "</div>"
      ],
      "text/plain": [
       "       CARD_SIDO_NM  STD_CLSS_NM  HOM_SIDO_NM  AGE  SEX_CTGO_CD  FLC  year  \\\n",
       "0                 0            0            0    1            1    1  2020   \n",
       "1                 0            0            0    2            1    2  2020   \n",
       "2                 0            0            0    2            2    2  2020   \n",
       "3                 0            0            0    3            1    2  2020   \n",
       "4                 0            0            0    3            1    3  2020   \n",
       "...             ...          ...          ...  ...          ...  ...   ...   \n",
       "54641            16           40           16    3            1    4  2020   \n",
       "54642            16           40           16    4            1    4  2020   \n",
       "54643            16           40           16    4            2    4  2020   \n",
       "54644            16           40           16    5            1    5  2020   \n",
       "54645            16           40           16    5            2    5  2020   \n",
       "\n",
       "       month  CSTMR_CNT      AMT  CNT  \n",
       "0          3          3   427510    2  \n",
       "1          3         38  5622890   37  \n",
       "2          3         30  2296125   38  \n",
       "3          3          3   257000    4  \n",
       "4          3         51  6490800   48  \n",
       "...      ...        ...      ...  ...  \n",
       "54641      3          9   385700   10  \n",
       "54642      3         10   790350   19  \n",
       "54643      3          4    99000    6  \n",
       "54644      3          6   228800    6  \n",
       "54645      3          3    51500    3  \n",
       "\n",
       "[54646 rows x 11 columns]"
      ]
     },
     "execution_count": 20,
     "metadata": {},
     "output_type": "execute_result"
    }
   ],
   "source": [
    "df_num_train\n",
    "df_num_test"
   ]
  },
  {
   "cell_type": "markdown",
   "metadata": {},
   "source": [
    "### feature, target 설정"
   ]
  },
  {
   "cell_type": "code",
   "execution_count": 18,
   "metadata": {},
   "outputs": [],
   "source": [
    "# all\n",
    "all_features = df_num.drop(['CSTMR_CNT', 'AMT', 'CNT'], axis=1)\n",
    "all_target = np.log1p(df_num['AMT'])"
   ]
  },
  {
   "cell_type": "code",
   "execution_count": 19,
   "metadata": {},
   "outputs": [],
   "source": [
    "# train\n",
    "train_features = df_num_train.drop(['CSTMR_CNT', 'AMT', 'CNT'], axis=1)\n",
    "train_target = np.log1p(df_num_train['AMT'])"
   ]
  },
  {
   "cell_type": "code",
   "execution_count": 20,
   "metadata": {},
   "outputs": [],
   "source": [
    "# test\n",
    "test_features = df_num_test.drop(['CSTMR_CNT', 'AMT', 'CNT'], axis=1)\n",
    "test_target = np.log1p(df_num_test['AMT'])"
   ]
  },
  {
   "cell_type": "code",
   "execution_count": null,
   "metadata": {},
   "outputs": [],
   "source": []
  },
  {
   "cell_type": "markdown",
   "metadata": {},
   "source": [
    "# 5. 모델 학습 및 검증\n",
    "## Model Tuning & Evaluation"
   ]
  },
  {
   "cell_type": "code",
   "execution_count": 24,
   "metadata": {},
   "outputs": [],
   "source": [
    "# train test "
   ]
  },
  {
   "cell_type": "code",
   "execution_count": 21,
   "metadata": {},
   "outputs": [],
   "source": [
    "# 훈련\n",
    "# model = ExtraTreesRegressor(n_jobs=-1, random_state=0)\n",
    "from lightgbm import LGBMRegressor\n",
    "model = LGBMRegressor()"
   ]
  },
  {
   "cell_type": "code",
   "execution_count": 22,
   "metadata": {},
   "outputs": [
    {
     "data": {
      "text/plain": [
       "LGBMRegressor(boosting_type='gbdt', class_weight=None, colsample_bytree=1.0,\n",
       "              importance_type='split', learning_rate=0.1, max_depth=-1,\n",
       "              min_child_samples=20, min_child_weight=0.001, min_split_gain=0.0,\n",
       "              n_estimators=100, n_jobs=-1, num_leaves=31, objective=None,\n",
       "              random_state=None, reg_alpha=0.0, reg_lambda=0.0, silent=True,\n",
       "              subsample=1.0, subsample_for_bin=200000, subsample_freq=0)"
      ]
     },
     "execution_count": 22,
     "metadata": {},
     "output_type": "execute_result"
    }
   ],
   "source": [
    "model.fit(train_features, train_target)"
   ]
  },
  {
   "cell_type": "code",
   "execution_count": 23,
   "metadata": {},
   "outputs": [],
   "source": [
    "y_pred = model.predict(test_features)"
   ]
  },
  {
   "cell_type": "code",
   "execution_count": 24,
   "metadata": {},
   "outputs": [],
   "source": [
    "def rmsle(y, pred):\n",
    "    log_y = np.log1p(y)\n",
    "    log_pred = np.log1p(pred)\n",
    "    squared_error = (log_y - log_pred) ** 2\n",
    "    rmsle = np.sqrt(np.mean(squared_error))\n",
    "    return rmsle"
   ]
  },
  {
   "cell_type": "code",
   "execution_count": 25,
   "metadata": {},
   "outputs": [
    {
     "data": {
      "text/plain": [
       "0.12373836102812845"
      ]
     },
     "execution_count": 25,
     "metadata": {},
     "output_type": "execute_result"
    }
   ],
   "source": [
    "rmsle(test_target, y_pred)"
   ]
  },
  {
   "cell_type": "code",
   "execution_count": null,
   "metadata": {},
   "outputs": [],
   "source": []
  },
  {
   "cell_type": "code",
   "execution_count": 26,
   "metadata": {},
   "outputs": [
    {
     "data": {
      "text/plain": [
       "LGBMRegressor(boosting_type='gbdt', class_weight=None, colsample_bytree=1.0,\n",
       "              importance_type='split', learning_rate=0.1, max_depth=-1,\n",
       "              min_child_samples=20, min_child_weight=0.001, min_split_gain=0.0,\n",
       "              n_estimators=100, n_jobs=-1, num_leaves=31, objective=None,\n",
       "              random_state=None, reg_alpha=0.0, reg_lambda=0.0, silent=True,\n",
       "              subsample=1.0, subsample_for_bin=200000, subsample_freq=0)"
      ]
     },
     "execution_count": 26,
     "metadata": {},
     "output_type": "execute_result"
    }
   ],
   "source": [
    "# all\n",
    "model = LGBMRegressor()\n",
    "model.fit(all_features, all_target)"
   ]
  },
  {
   "cell_type": "code",
   "execution_count": null,
   "metadata": {},
   "outputs": [],
   "source": []
  },
  {
   "cell_type": "code",
   "execution_count": null,
   "metadata": {},
   "outputs": [],
   "source": []
  },
  {
   "cell_type": "markdown",
   "metadata": {},
   "source": [
    "# 6. 결과 및 결언\n",
    "## Conclusion & Discussion"
   ]
  },
  {
   "cell_type": "code",
   "execution_count": 27,
   "metadata": {},
   "outputs": [],
   "source": [
    "# 예측 템플릿 만들기\n",
    "CARD_SIDO_NMs = df_num['CARD_SIDO_NM'].unique()\n",
    "STD_CLSS_NMs  = df_num['STD_CLSS_NM'].unique()\n",
    "HOM_SIDO_NMs  = df_num['HOM_SIDO_NM'].unique()\n",
    "AGEs          = df_num['AGE'].unique()\n",
    "SEX_CTGO_CDs  = df_num['SEX_CTGO_CD'].unique()\n",
    "FLCs          = df_num['FLC'].unique()\n",
    "years         = [2020]\n",
    "months        = [4, 7]\n",
    "\n",
    "temp = []\n",
    "for CARD_SIDO_NM in CARD_SIDO_NMs:\n",
    "    for STD_CLSS_NM in STD_CLSS_NMs:\n",
    "        for HOM_SIDO_NM in HOM_SIDO_NMs:\n",
    "            for AGE in AGEs:\n",
    "                for SEX_CTGO_CD in SEX_CTGO_CDs:\n",
    "                    for FLC in FLCs:\n",
    "                        for year in years:\n",
    "                            for month in months:\n",
    "                                temp.append([CARD_SIDO_NM, STD_CLSS_NM, HOM_SIDO_NM, AGE, SEX_CTGO_CD, FLC, year, month])\n",
    "temp = np.array(temp)\n",
    "temp = pd.DataFrame(data=temp, columns=all_features.columns)"
   ]
  },
  {
   "cell_type": "code",
   "execution_count": 28,
   "metadata": {},
   "outputs": [],
   "source": [
    "# 예측\n",
    "pred = model.predict(temp)\n",
    "pred = np.expm1(pred)\n",
    "temp['AMT'] = np.round(pred, 0)\n",
    "temp['REG_YYMM'] = temp['year']*100 + temp['month']\n",
    "temp = temp[['REG_YYMM', 'CARD_SIDO_NM', 'STD_CLSS_NM', 'AMT']]\n",
    "temp = temp.groupby(['REG_YYMM', 'CARD_SIDO_NM', 'STD_CLSS_NM']).sum().reset_index(drop=False)"
   ]
  },
  {
   "cell_type": "code",
   "execution_count": 29,
   "metadata": {},
   "outputs": [],
   "source": [
    "# 디코딩 \n",
    "temp['CARD_SIDO_NM'] = encoders['CARD_SIDO_NM'].inverse_transform(temp['CARD_SIDO_NM'])\n",
    "temp['STD_CLSS_NM'] = encoders['STD_CLSS_NM'].inverse_transform(temp['STD_CLSS_NM'])"
   ]
  },
  {
   "cell_type": "code",
   "execution_count": 30,
   "metadata": {},
   "outputs": [
    {
     "data": {
      "text/html": [
       "<div>\n",
       "<style scoped>\n",
       "    .dataframe tbody tr th:only-of-type {\n",
       "        vertical-align: middle;\n",
       "    }\n",
       "\n",
       "    .dataframe tbody tr th {\n",
       "        vertical-align: top;\n",
       "    }\n",
       "\n",
       "    .dataframe thead th {\n",
       "        text-align: right;\n",
       "    }\n",
       "</style>\n",
       "<table border=\"1\" class=\"dataframe\">\n",
       "  <thead>\n",
       "    <tr style=\"text-align: right;\">\n",
       "      <th></th>\n",
       "      <th>REG_YYMM</th>\n",
       "      <th>CARD_SIDO_NM</th>\n",
       "      <th>STD_CLSS_NM</th>\n",
       "      <th>AMT</th>\n",
       "    </tr>\n",
       "    <tr>\n",
       "      <th>id</th>\n",
       "      <th></th>\n",
       "      <th></th>\n",
       "      <th></th>\n",
       "      <th></th>\n",
       "    </tr>\n",
       "  </thead>\n",
       "  <tbody>\n",
       "    <tr>\n",
       "      <th>0</th>\n",
       "      <td>202004</td>\n",
       "      <td>강원</td>\n",
       "      <td>건강보조식품 소매업</td>\n",
       "      <td>5.835650e+08</td>\n",
       "    </tr>\n",
       "    <tr>\n",
       "      <th>1</th>\n",
       "      <td>202004</td>\n",
       "      <td>강원</td>\n",
       "      <td>골프장 운영업</td>\n",
       "      <td>1.188377e+09</td>\n",
       "    </tr>\n",
       "    <tr>\n",
       "      <th>2</th>\n",
       "      <td>202004</td>\n",
       "      <td>강원</td>\n",
       "      <td>과실 및 채소 소매업</td>\n",
       "      <td>5.847608e+08</td>\n",
       "    </tr>\n",
       "    <tr>\n",
       "      <th>3</th>\n",
       "      <td>202004</td>\n",
       "      <td>강원</td>\n",
       "      <td>관광 민예품 및 선물용품 소매업</td>\n",
       "      <td>1.687116e+08</td>\n",
       "    </tr>\n",
       "    <tr>\n",
       "      <th>4</th>\n",
       "      <td>202004</td>\n",
       "      <td>강원</td>\n",
       "      <td>그외 기타 분류안된 오락관련 서비스업</td>\n",
       "      <td>1.404354e+08</td>\n",
       "    </tr>\n",
       "  </tbody>\n",
       "</table>\n",
       "</div>"
      ],
      "text/plain": [
       "    REG_YYMM CARD_SIDO_NM           STD_CLSS_NM           AMT\n",
       "id                                                           \n",
       "0     202004           강원            건강보조식품 소매업  5.835650e+08\n",
       "1     202004           강원               골프장 운영업  1.188377e+09\n",
       "2     202004           강원           과실 및 채소 소매업  5.847608e+08\n",
       "3     202004           강원     관광 민예품 및 선물용품 소매업  1.687116e+08\n",
       "4     202004           강원  그외 기타 분류안된 오락관련 서비스업  1.404354e+08"
      ]
     },
     "execution_count": 30,
     "metadata": {},
     "output_type": "execute_result"
    }
   ],
   "source": [
    "# 제출 파일 만들기\n",
    "submission = pd.read_csv('data/submission.csv', index_col=0)\n",
    "submission = submission.drop(['AMT'], axis=1)\n",
    "submission = submission.merge(temp, left_on=['REG_YYMM', 'CARD_SIDO_NM', 'STD_CLSS_NM'], right_on=['REG_YYMM', 'CARD_SIDO_NM', 'STD_CLSS_NM'], how='left')\n",
    "submission.index.name = 'id'\n",
    "submission.to_csv('20200702_3.csv', encoding='utf-8-sig')\n",
    "submission.head()"
   ]
  },
  {
   "cell_type": "code",
   "execution_count": null,
   "metadata": {},
   "outputs": [],
   "source": []
  },
  {
   "cell_type": "code",
   "execution_count": null,
   "metadata": {},
   "outputs": [],
   "source": []
  },
  {
   "cell_type": "code",
   "execution_count": null,
   "metadata": {},
   "outputs": [],
   "source": []
  },
  {
   "cell_type": "code",
   "execution_count": null,
   "metadata": {},
   "outputs": [],
   "source": []
  }
 ],
 "metadata": {
  "kernelspec": {
   "display_name": "Python 3",
   "language": "python",
   "name": "python3"
  },
  "language_info": {
   "codemirror_mode": {
    "name": "ipython",
    "version": 3
   },
   "file_extension": ".py",
   "mimetype": "text/x-python",
   "name": "python",
   "nbconvert_exporter": "python",
   "pygments_lexer": "ipython3",
   "version": "3.7.6"
  }
 },
 "nbformat": 4,
 "nbformat_minor": 4
}
