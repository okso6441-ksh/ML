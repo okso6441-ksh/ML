{
 "cells": [
  {
   "cell_type": "code",
   "execution_count": 1,
   "metadata": {},
   "outputs": [],
   "source": [
    "import numpy as np\n",
    "import pandas as pd\n",
    "import matplotlib.pyplot as plt\n",
    "import seaborn as sns\n",
    "import warnings\n",
    "warnings.filterwarnings('ignore')\n",
    "%matplotlib inline\n",
    "\n",
    "from IPython.core.interactiveshell import InteractiveShell\n",
    "InteractiveShell.ast_node_interactivity = \"all\"\n",
    "\n",
    "np.random.seed(42)\n",
    "\n",
    "from sklearn.preprocessing import PolynomialFeatures\n",
    "\n",
    "from sklearn.model_selection import train_test_split\n",
    "import lightgbm as lgbm\n",
    "from sklearn.metrics import confusion_matrix, accuracy_score"
   ]
  },
  {
   "cell_type": "markdown",
   "metadata": {},
   "source": [
    "# 1. 데이터 로드"
   ]
  },
  {
   "cell_type": "code",
   "execution_count": 2,
   "metadata": {},
   "outputs": [],
   "source": [
    "train=pd.read_csv('input/train.csv', index_col=0) #인덱스 col=0도 check!\n",
    "test=pd.read_csv('input/test_x.csv', index_col=0)\n",
    "submission=pd.read_csv('input/sample_submission.csv', index_col=0)  "
   ]
  },
  {
   "cell_type": "code",
   "execution_count": null,
   "metadata": {},
   "outputs": [],
   "source": [
    "train.shape, test.shape, submission.shape\n",
    "train.head(3)\n",
    "test.head(3)\n",
    "submission.head(3)"
   ]
  },
  {
   "cell_type": "markdown",
   "metadata": {},
   "source": [
    "# 2. EDA & 전처리"
   ]
  },
  {
   "cell_type": "code",
   "execution_count": null,
   "metadata": {},
   "outputs": [],
   "source": [
    "df = pd.concat([train, test])\n",
    "df.shape"
   ]
  },
  {
   "cell_type": "code",
   "execution_count": null,
   "metadata": {},
   "outputs": [],
   "source": [
    "train.info"
   ]
  },
  {
   "cell_type": "markdown",
   "metadata": {},
   "source": [
    "## Missing Value"
   ]
  },
  {
   "cell_type": "code",
   "execution_count": null,
   "metadata": {},
   "outputs": [],
   "source": [
    "train.isnull().sum().sum()\n",
    "test.isnull().sum().sum()"
   ]
  },
  {
   "cell_type": "code",
   "execution_count": null,
   "metadata": {},
   "outputs": [],
   "source": []
  },
  {
   "cell_type": "markdown",
   "metadata": {},
   "source": [
    "## 컬럼 분류"
   ]
  },
  {
   "cell_type": "code",
   "execution_count": 3,
   "metadata": {},
   "outputs": [
    {
     "data": {
      "text/html": [
       "<div>\n",
       "<style scoped>\n",
       "    .dataframe tbody tr th:only-of-type {\n",
       "        vertical-align: middle;\n",
       "    }\n",
       "\n",
       "    .dataframe tbody tr th {\n",
       "        vertical-align: top;\n",
       "    }\n",
       "\n",
       "    .dataframe thead th {\n",
       "        text-align: right;\n",
       "    }\n",
       "</style>\n",
       "<table border=\"1\" class=\"dataframe\">\n",
       "  <thead>\n",
       "    <tr style=\"text-align: right;\">\n",
       "      <th></th>\n",
       "      <th>gbn</th>\n",
       "      <th>dtl</th>\n",
       "    </tr>\n",
       "    <tr>\n",
       "      <th>col</th>\n",
       "      <th></th>\n",
       "      <th></th>\n",
       "    </tr>\n",
       "  </thead>\n",
       "  <tbody>\n",
       "    <tr>\n",
       "      <th>QaA</th>\n",
       "      <td>Q_A</td>\n",
       "      <td>a</td>\n",
       "    </tr>\n",
       "    <tr>\n",
       "      <th>QaE</th>\n",
       "      <td>Q_E</td>\n",
       "      <td>a</td>\n",
       "    </tr>\n",
       "    <tr>\n",
       "      <th>QbA</th>\n",
       "      <td>Q_A</td>\n",
       "      <td>b</td>\n",
       "    </tr>\n",
       "    <tr>\n",
       "      <th>QbE</th>\n",
       "      <td>Q_E</td>\n",
       "      <td>b</td>\n",
       "    </tr>\n",
       "    <tr>\n",
       "      <th>QcA</th>\n",
       "      <td>Q_A</td>\n",
       "      <td>c</td>\n",
       "    </tr>\n",
       "    <tr>\n",
       "      <th>...</th>\n",
       "      <td>...</td>\n",
       "      <td>...</td>\n",
       "    </tr>\n",
       "    <tr>\n",
       "      <th>wr_09</th>\n",
       "      <td>wr</td>\n",
       "      <td></td>\n",
       "    </tr>\n",
       "    <tr>\n",
       "      <th>wr_10</th>\n",
       "      <td>wr</td>\n",
       "      <td></td>\n",
       "    </tr>\n",
       "    <tr>\n",
       "      <th>wr_11</th>\n",
       "      <td>wr</td>\n",
       "      <td></td>\n",
       "    </tr>\n",
       "    <tr>\n",
       "      <th>wr_12</th>\n",
       "      <td>wr</td>\n",
       "      <td></td>\n",
       "    </tr>\n",
       "    <tr>\n",
       "      <th>wr_13</th>\n",
       "      <td>wr</td>\n",
       "      <td></td>\n",
       "    </tr>\n",
       "  </tbody>\n",
       "</table>\n",
       "<p>77 rows × 2 columns</p>\n",
       "</div>"
      ],
      "text/plain": [
       "       gbn dtl\n",
       "col           \n",
       "QaA    Q_A   a\n",
       "QaE    Q_E   a\n",
       "QbA    Q_A   b\n",
       "QbE    Q_E   b\n",
       "QcA    Q_A   c\n",
       "...    ...  ..\n",
       "wr_09   wr    \n",
       "wr_10   wr    \n",
       "wr_11   wr    \n",
       "wr_12   wr    \n",
       "wr_13   wr    \n",
       "\n",
       "[77 rows x 2 columns]"
      ]
     },
     "execution_count": 3,
     "metadata": {},
     "output_type": "execute_result"
    }
   ],
   "source": [
    "data = []\n",
    "\n",
    "for f in train.columns:\n",
    "    dtl = ''\n",
    "    if f == 'voted':\n",
    "        gubun = 'target'\n",
    "    elif 'Q' in f:\n",
    "        dtl = f[1]\n",
    "        if 'A' in f:\n",
    "            gubun = 'Q_A'\n",
    "        if 'E' in f:\n",
    "            gubun = 'Q_E'\n",
    "    elif 'tp' in f:           \n",
    "        gubun = 'tp'            \n",
    "    elif 'wf' in f:           \n",
    "        gubun = 'wf'\n",
    "    elif 'wr' in f:           \n",
    "        gubun = 'wr'    \n",
    "    else:\n",
    "        gubun = 'cat'\n",
    "        \n",
    "    f_dict = {\n",
    "        'col':f,\n",
    "        'gbn':gubun,\n",
    "        'dtl':dtl\n",
    "    }\n",
    "            \n",
    "    data.append(f_dict)\n",
    "    \n",
    "meta = pd.DataFrame(data, columns =['col', 'gbn', 'dtl'])\n",
    "meta.set_index('col', inplace=True)\n",
    "meta"
   ]
  },
  {
   "cell_type": "markdown",
   "metadata": {},
   "source": [
    "### Q_A"
   ]
  },
  {
   "cell_type": "code",
   "execution_count": 4,
   "metadata": {},
   "outputs": [],
   "source": [
    "Q_A = meta[meta.gbn=='Q_A'].index\n",
    "\n",
    "train[Q_A].describe()\n",
    "train[Q_A].head(3)"
   ]
  },
  {
   "cell_type": "markdown",
   "metadata": {},
   "source": [
    "### Q_A 1/5 count"
   ]
  },
  {
   "cell_type": "code",
   "execution_count": 5,
   "metadata": {},
   "outputs": [],
   "source": [
    "# Q_A: 1~5 1/5 극단값 선택한 count 추출\n",
    "train['Q_A1'] = 0\n",
    "train['Q_A3'] = 0\n",
    "train['Q_A5'] = 0\n",
    "\n",
    "test['Q_A1'] = 0\n",
    "test['Q_A3'] = 0\n",
    "test['Q_A5'] = 0"
   ]
  },
  {
   "cell_type": "code",
   "execution_count": 6,
   "metadata": {},
   "outputs": [
    {
     "name": "stdout",
     "output_type": "stream",
     "text": [
      "Wall time: 2min 34s\n"
     ]
    }
   ],
   "source": [
    "%%time\n",
    "for f in Q_A:\n",
    "    for i, v in enumerate(train[f]):\n",
    "        if v == 1:\n",
    "            train.loc[i, 'Q_A1'] = train.loc[i, 'Q_A1']+1\n",
    "        elif v == 3:\n",
    "            train.loc[i, 'Q_A3'] = train.loc[i, 'Q_A3']+1\n",
    "        elif v == 5:\n",
    "            train.loc[i, 'Q_A5'] = train.loc[i, 'Q_A5']+1            "
   ]
  },
  {
   "cell_type": "code",
   "execution_count": 7,
   "metadata": {},
   "outputs": [
    {
     "name": "stdout",
     "output_type": "stream",
     "text": [
      "Wall time: 35.1 s\n"
     ]
    }
   ],
   "source": [
    "%%time\n",
    "for f in Q_A:\n",
    "    for i, v in enumerate(test[f]):\n",
    "        if v == 1:\n",
    "            test.loc[i, 'Q_A1'] = test.loc[i, 'Q_A1']+1\n",
    "        elif v == 3:\n",
    "            test.loc[i, 'Q_A3'] = test.loc[i, 'Q_A3']+1            \n",
    "        elif v == 5:\n",
    "            test.loc[i, 'Q_A5'] = test.loc[i, 'Q_A5']+1                        "
   ]
  },
  {
   "cell_type": "code",
   "execution_count": null,
   "metadata": {},
   "outputs": [],
   "source": []
  },
  {
   "cell_type": "markdown",
   "metadata": {},
   "source": [
    "### Q_E"
   ]
  },
  {
   "cell_type": "code",
   "execution_count": 8,
   "metadata": {},
   "outputs": [],
   "source": [
    "Q_E = meta[meta.gbn == 'Q_E'].index\n",
    "\n",
    "train[Q_E].describe()\n",
    "train[Q_E].head()"
   ]
  },
  {
   "cell_type": "code",
   "execution_count": null,
   "metadata": {},
   "outputs": [],
   "source": []
  },
  {
   "cell_type": "markdown",
   "metadata": {},
   "source": [
    "#### skew"
   ]
  },
  {
   "cell_type": "code",
   "execution_count": 9,
   "metadata": {},
   "outputs": [],
   "source": [
    "for f in Q_E:\n",
    "    train[f] = np.log1p(train[f])\n",
    "    test[f] = np.log1p(test[f])"
   ]
  },
  {
   "cell_type": "code",
   "execution_count": null,
   "metadata": {},
   "outputs": [],
   "source": []
  },
  {
   "cell_type": "markdown",
   "metadata": {},
   "source": [
    "### tp"
   ]
  },
  {
   "cell_type": "code",
   "execution_count": 10,
   "metadata": {},
   "outputs": [],
   "source": [
    "# 0~7 \n",
    "tp = meta[meta.gbn=='tp'].index\n",
    "\n",
    "train[tp].describe()\n",
    "train[tp].head(3)"
   ]
  },
  {
   "cell_type": "code",
   "execution_count": 11,
   "metadata": {},
   "outputs": [],
   "source": [
    "# tp: 1,7 극단값 선택한 count 추출, 4 중간값 선택 count \n",
    "train['tp17'] = 0\n",
    "train['tp4'] = 0\n",
    "\n",
    "test['tp17'] = 0\n",
    "test['tp4'] = 0"
   ]
  },
  {
   "cell_type": "code",
   "execution_count": 12,
   "metadata": {},
   "outputs": [
    {
     "name": "stdout",
     "output_type": "stream",
     "text": [
      "Wall time: 15.1 s\n"
     ]
    }
   ],
   "source": [
    "%%time\n",
    "for f in tp:\n",
    "    for i, v in enumerate(train[f]):\n",
    "        if (v == 1 | v == 7):\n",
    "            train.loc[i, 'tp17'] = train.loc[i, 'tp17']+1\n",
    "        if v == 4:\n",
    "            train.loc[i, 'tp4'] = train.loc[i, 'tp4']+1            "
   ]
  },
  {
   "cell_type": "code",
   "execution_count": 13,
   "metadata": {},
   "outputs": [
    {
     "name": "stdout",
     "output_type": "stream",
     "text": [
      "Wall time: 3.41 s\n"
     ]
    }
   ],
   "source": [
    "%%time\n",
    "for f in tp:\n",
    "    for i, v in enumerate(test[f]):\n",
    "        if (v == 1 | v == 7):\n",
    "            test.loc[i, 'tp17'] = test.loc[i, 'tp17']+1\n",
    "        if v == 4:\n",
    "            test.loc[i, 'tp4'] = test.loc[i, 'tp4']+1            "
   ]
  },
  {
   "cell_type": "markdown",
   "metadata": {},
   "source": [
    "#### 극단값 중간값"
   ]
  },
  {
   "cell_type": "code",
   "execution_count": 14,
   "metadata": {},
   "outputs": [],
   "source": [
    "train['Q_A15tp17'] = train['Q_A1'] + train['Q_A5'] + train['tp17']\n",
    "train['Q_A3tp4'] = train['Q_A3'] + train['tp4']"
   ]
  },
  {
   "cell_type": "code",
   "execution_count": 15,
   "metadata": {},
   "outputs": [],
   "source": [
    "test['Q_A15tp17'] = test['Q_A1'] + test['Q_A5'] + test['tp17']\n",
    "test['Q_A3tp4'] = test['Q_A3'] + test['tp4']"
   ]
  },
  {
   "cell_type": "markdown",
   "metadata": {},
   "source": [
    "#### ratio"
   ]
  },
  {
   "cell_type": "code",
   "execution_count": 16,
   "metadata": {},
   "outputs": [],
   "source": [
    "train['Q_A1'] = train['Q_A1'] /20\n",
    "train['Q_A3'] = train['Q_A3'] /20\n",
    "train['Q_A5'] = train['Q_A5'] /20\n",
    "\n",
    "train['tp17'] = train['tp17'] /10\n",
    "train['tp4'] = train['tp4'] /10\n",
    "\n",
    "train['Q_A15tp17'] = train['Q_A15tp17'] /30\n",
    "train['Q_A3tp4'] = train['Q_A3tp4'] /30"
   ]
  },
  {
   "cell_type": "code",
   "execution_count": 17,
   "metadata": {},
   "outputs": [],
   "source": [
    "test['Q_A1'] = test['Q_A1'] /20\n",
    "test['Q_A3'] = test['Q_A3'] /20\n",
    "test['Q_A5'] = test['Q_A5'] /20\n",
    "\n",
    "test['tp17'] = test['tp17'] /10\n",
    "test['tp4'] = test['tp4'] /10\n",
    "\n",
    "test['Q_A15tp17'] = test['Q_A15tp17'] /30\n",
    "test['Q_A3tp4'] = test['Q_A3tp4'] /30"
   ]
  },
  {
   "cell_type": "code",
   "execution_count": null,
   "metadata": {},
   "outputs": [],
   "source": []
  },
  {
   "cell_type": "code",
   "execution_count": null,
   "metadata": {},
   "outputs": [],
   "source": [
    "# 0/1\n",
    "wf = meta[meta.gbn=='wf'].index\n",
    "train[wf].describe()\n",
    "train[wf].head(3)"
   ]
  },
  {
   "cell_type": "code",
   "execution_count": null,
   "metadata": {},
   "outputs": [],
   "source": [
    "# 0/1\n",
    "wr = meta[meta.gbn=='wr'].index\n",
    "train[wr].describe()\n",
    "train[wr].head(3)"
   ]
  },
  {
   "cell_type": "code",
   "execution_count": null,
   "metadata": {},
   "outputs": [],
   "source": []
  },
  {
   "cell_type": "markdown",
   "metadata": {},
   "source": [
    "## Target Encoding"
   ]
  },
  {
   "cell_type": "markdown",
   "metadata": {},
   "source": [
    "### age_group"
   ]
  },
  {
   "cell_type": "code",
   "execution_count": 18,
   "metadata": {},
   "outputs": [],
   "source": [
    "train['age_group_int'] = train['age_group'].str.replace('s','').astype('int')\n",
    "test['age_group_int'] = test['age_group'].str.replace('s','').astype('int')"
   ]
  },
  {
   "cell_type": "code",
   "execution_count": 19,
   "metadata": {},
   "outputs": [],
   "source": [
    "train['age_group_n_rows'] = train['age_group_int'].map(train.groupby('age_group_int').size())\n",
    "test['age_group_n_rows'] = test['age_group_int'].map(test.groupby('age_group_int').size())"
   ]
  },
  {
   "cell_type": "code",
   "execution_count": 20,
   "metadata": {},
   "outputs": [],
   "source": [
    "age_group_mean = train.groupby('age_group_int')['voted'].mean()\n",
    "train['age_group_mean'] = train['age_group_int'].map(age_group_mean)\n",
    "test['age_group_mean'] = test['age_group_int'].map(age_group_mean)"
   ]
  },
  {
   "cell_type": "code",
   "execution_count": 21,
   "metadata": {},
   "outputs": [],
   "source": [
    "# train['voted'].mean() = 1.5468242115435298\n",
    "def smoothing(n_rows, target_mean): \n",
    "    return (target_mean*n_rows + 1.5468242115435298*0.8) / (n_rows + 0.8)"
   ]
  },
  {
   "cell_type": "code",
   "execution_count": 22,
   "metadata": {},
   "outputs": [],
   "source": [
    "train['age_group_mean_smoothing'] = train.apply(lambda x:smoothing(x['age_group_n_rows'], x['age_group_mean']), axis=1)\n",
    "test['age_group_mean_smoothing'] = test.apply(lambda x:smoothing(x['age_group_n_rows'], x['age_group_mean']), axis=1)"
   ]
  },
  {
   "cell_type": "code",
   "execution_count": 23,
   "metadata": {},
   "outputs": [],
   "source": [
    "train.drop(['age_group_int','age_group_mean', 'age_group_n_rows'], axis=1, inplace=True)\n",
    "test.drop(['age_group_int','age_group_mean', 'age_group_n_rows'], axis=1, inplace=True)"
   ]
  },
  {
   "cell_type": "code",
   "execution_count": null,
   "metadata": {},
   "outputs": [],
   "source": []
  },
  {
   "cell_type": "markdown",
   "metadata": {},
   "source": [
    "## Outlier"
   ]
  },
  {
   "cell_type": "code",
   "execution_count": 24,
   "metadata": {},
   "outputs": [],
   "source": [
    "train.loc[train[train.familysize > 25].index, 'familysize'] = 2.6"
   ]
  },
  {
   "cell_type": "markdown",
   "metadata": {},
   "source": [
    "## 인코딩"
   ]
  },
  {
   "cell_type": "code",
   "execution_count": null,
   "metadata": {},
   "outputs": [],
   "source": []
  },
  {
   "cell_type": "code",
   "execution_count": 25,
   "metadata": {},
   "outputs": [],
   "source": [
    "#age_group, gender, race, religion\n",
    "#train['age_group'] = train['age_group'].str.replace('s','').astype('int')\n",
    "train['gender']= pd.factorize(train['gender'])[0]\n",
    "train['race']=pd.factorize(train['race'])[0]\n",
    "train['religion']=pd.factorize(train['religion'])[0]\n",
    "\n",
    "#test['age_group'] = test['age_group'].str.replace('s','').astype('int')\n",
    "test['gender']=pd.factorize(test['gender'])[0]\n",
    "test['race']=pd.factorize(test['race'])[0]\n",
    "test['religion']=pd.factorize(test['religion'])[0]"
   ]
  },
  {
   "cell_type": "markdown",
   "metadata": {},
   "source": [
    "### One-hot"
   ]
  },
  {
   "cell_type": "code",
   "execution_count": null,
   "metadata": {
    "scrolled": false
   },
   "outputs": [],
   "source": [
    "train = pd.get_dummies(train, columns=['age_group', 'education', 'engnat', 'gender', 'hand',\n",
    "       'married', 'race', 'religion', 'tp01', 'tp02', 'tp03', 'tp04', 'tp05',\n",
    "       'tp06', 'tp07', 'tp08', 'tp09', 'tp10', 'urban', 'wf_01',\n",
    "       'wf_02', 'wf_03', 'wr_01', 'wr_02', 'wr_03', 'wr_04', 'wr_05', 'wr_06',\n",
    "       'wr_07', 'wr_08', 'wr_09', 'wr_10', 'wr_11', 'wr_12', 'wr_13'])\n",
    "train"
   ]
  },
  {
   "cell_type": "code",
   "execution_count": null,
   "metadata": {},
   "outputs": [],
   "source": [
    "test = pd.get_dummies(test, columns=['age_group', 'education', 'engnat', 'gender', 'hand',\n",
    "       'married', 'race', 'religion', 'tp01', 'tp02', 'tp03', 'tp04', 'tp05',\n",
    "       'tp06', 'tp07', 'tp08', 'tp09', 'tp10', 'urban', 'wf_01',\n",
    "       'wf_02', 'wf_03', 'wr_01', 'wr_02', 'wr_03', 'wr_04', 'wr_05', 'wr_06',\n",
    "       'wr_07', 'wr_08', 'wr_09', 'wr_10', 'wr_11', 'wr_12', 'wr_13'])\n",
    "test"
   ]
  },
  {
   "cell_type": "code",
   "execution_count": 31,
   "metadata": {},
   "outputs": [
    {
     "data": {
      "text/plain": [
       "((45532, 491), (11383, 490))"
      ]
     },
     "execution_count": 31,
     "metadata": {},
     "output_type": "execute_result"
    },
    {
     "data": {
      "text/plain": [
       "array(['QaA', 'QaE', 'QbA', 'QbE', 'QcA', 'QcE', 'QdA', 'QdE', 'QeA',\n",
       "       'QeE', 'QfA', 'QfE', 'QgA', 'QgE', 'QhA', 'QhE', 'QiA', 'QiE',\n",
       "       'QjA', 'QjE', 'QkA', 'QkE', 'QlA', 'QlE', 'QmA', 'QmE', 'QnA',\n",
       "       'QnE', 'QoA', 'QoE', 'QpA', 'QpE', 'QqA', 'QqE', 'QrA', 'QrE',\n",
       "       'QsA', 'QsE', 'QtA', 'QtE', 'age_group', 'education', 'engnat',\n",
       "       'familysize', 'gender', 'hand', 'married', 'race', 'religion',\n",
       "       'tp01', 'tp02', 'tp03', 'tp04', 'tp05', 'tp06', 'tp07', 'tp08',\n",
       "       'tp09', 'tp10', 'urban', 'voted', 'wf_01', 'wf_02', 'wf_03',\n",
       "       'wr_01', 'wr_02', 'wr_03', 'wr_04', 'wr_05', 'wr_06', 'wr_07',\n",
       "       'wr_08', 'wr_09', 'wr_10', 'wr_11', 'wr_12', 'wr_13', 'Q_A1',\n",
       "       'Q_A3', 'Q_A5', 'tp17', 'tp4', 'Q_A15tp17', 'Q_A3tp4',\n",
       "       'age_group_mean_smoothing', 'QaE^2', 'QaE QbE', 'QaE QcE',\n",
       "       'QaE QdE', 'QaE QeE', 'QaE QfE', 'QaE QgE', 'QaE QhE', 'QaE QiE',\n",
       "       'QaE QjE', 'QaE QkE', 'QaE QlE', 'QaE QmE', 'QaE QnE', 'QaE QoE',\n",
       "       'QaE QpE', 'QaE QqE', 'QaE QrE', 'QaE QsE', 'QaE QtE', 'QaE Q_A1',\n",
       "       'QaE Q_A3', 'QaE Q_A5', 'QaE tp17', 'QaE tp4', 'QaE Q_A15tp17',\n",
       "       'QaE Q_A3tp4', 'QaE age_group_mean_smoothing', 'QbE^2', 'QbE QcE',\n",
       "       'QbE QdE', 'QbE QeE', 'QbE QfE', 'QbE QgE', 'QbE QhE', 'QbE QiE',\n",
       "       'QbE QjE', 'QbE QkE', 'QbE QlE', 'QbE QmE', 'QbE QnE', 'QbE QoE',\n",
       "       'QbE QpE', 'QbE QqE', 'QbE QrE', 'QbE QsE', 'QbE QtE', 'QbE Q_A1',\n",
       "       'QbE Q_A3', 'QbE Q_A5', 'QbE tp17', 'QbE tp4', 'QbE Q_A15tp17',\n",
       "       'QbE Q_A3tp4', 'QbE age_group_mean_smoothing', 'QcE^2', 'QcE QdE',\n",
       "       'QcE QeE', 'QcE QfE', 'QcE QgE', 'QcE QhE', 'QcE QiE', 'QcE QjE',\n",
       "       'QcE QkE', 'QcE QlE', 'QcE QmE', 'QcE QnE', 'QcE QoE', 'QcE QpE',\n",
       "       'QcE QqE', 'QcE QrE', 'QcE QsE', 'QcE QtE', 'QcE Q_A1', 'QcE Q_A3',\n",
       "       'QcE Q_A5', 'QcE tp17', 'QcE tp4', 'QcE Q_A15tp17', 'QcE Q_A3tp4',\n",
       "       'QcE age_group_mean_smoothing', 'QdE^2', 'QdE QeE', 'QdE QfE',\n",
       "       'QdE QgE', 'QdE QhE', 'QdE QiE', 'QdE QjE', 'QdE QkE', 'QdE QlE',\n",
       "       'QdE QmE', 'QdE QnE', 'QdE QoE', 'QdE QpE', 'QdE QqE', 'QdE QrE',\n",
       "       'QdE QsE', 'QdE QtE', 'QdE Q_A1', 'QdE Q_A3', 'QdE Q_A5',\n",
       "       'QdE tp17', 'QdE tp4', 'QdE Q_A15tp17', 'QdE Q_A3tp4',\n",
       "       'QdE age_group_mean_smoothing', 'QeE^2', 'QeE QfE', 'QeE QgE',\n",
       "       'QeE QhE', 'QeE QiE', 'QeE QjE', 'QeE QkE', 'QeE QlE', 'QeE QmE',\n",
       "       'QeE QnE', 'QeE QoE', 'QeE QpE', 'QeE QqE', 'QeE QrE', 'QeE QsE',\n",
       "       'QeE QtE', 'QeE Q_A1', 'QeE Q_A3', 'QeE Q_A5', 'QeE tp17',\n",
       "       'QeE tp4', 'QeE Q_A15tp17', 'QeE Q_A3tp4',\n",
       "       'QeE age_group_mean_smoothing', 'QfE^2', 'QfE QgE', 'QfE QhE',\n",
       "       'QfE QiE', 'QfE QjE', 'QfE QkE', 'QfE QlE', 'QfE QmE', 'QfE QnE',\n",
       "       'QfE QoE', 'QfE QpE', 'QfE QqE', 'QfE QrE', 'QfE QsE', 'QfE QtE',\n",
       "       'QfE Q_A1', 'QfE Q_A3', 'QfE Q_A5', 'QfE tp17', 'QfE tp4',\n",
       "       'QfE Q_A15tp17', 'QfE Q_A3tp4', 'QfE age_group_mean_smoothing',\n",
       "       'QgE^2', 'QgE QhE', 'QgE QiE', 'QgE QjE', 'QgE QkE', 'QgE QlE',\n",
       "       'QgE QmE', 'QgE QnE', 'QgE QoE', 'QgE QpE', 'QgE QqE', 'QgE QrE',\n",
       "       'QgE QsE', 'QgE QtE', 'QgE Q_A1', 'QgE Q_A3', 'QgE Q_A5',\n",
       "       'QgE tp17', 'QgE tp4', 'QgE Q_A15tp17', 'QgE Q_A3tp4',\n",
       "       'QgE age_group_mean_smoothing', 'QhE^2', 'QhE QiE', 'QhE QjE',\n",
       "       'QhE QkE', 'QhE QlE', 'QhE QmE', 'QhE QnE', 'QhE QoE', 'QhE QpE',\n",
       "       'QhE QqE', 'QhE QrE', 'QhE QsE', 'QhE QtE', 'QhE Q_A1', 'QhE Q_A3',\n",
       "       'QhE Q_A5', 'QhE tp17', 'QhE tp4', 'QhE Q_A15tp17', 'QhE Q_A3tp4',\n",
       "       'QhE age_group_mean_smoothing', 'QiE^2', 'QiE QjE', 'QiE QkE',\n",
       "       'QiE QlE', 'QiE QmE', 'QiE QnE', 'QiE QoE', 'QiE QpE', 'QiE QqE',\n",
       "       'QiE QrE', 'QiE QsE', 'QiE QtE', 'QiE Q_A1', 'QiE Q_A3',\n",
       "       'QiE Q_A5', 'QiE tp17', 'QiE tp4', 'QiE Q_A15tp17', 'QiE Q_A3tp4',\n",
       "       'QiE age_group_mean_smoothing', 'QjE^2', 'QjE QkE', 'QjE QlE',\n",
       "       'QjE QmE', 'QjE QnE', 'QjE QoE', 'QjE QpE', 'QjE QqE', 'QjE QrE',\n",
       "       'QjE QsE', 'QjE QtE', 'QjE Q_A1', 'QjE Q_A3', 'QjE Q_A5',\n",
       "       'QjE tp17', 'QjE tp4', 'QjE Q_A15tp17', 'QjE Q_A3tp4',\n",
       "       'QjE age_group_mean_smoothing', 'QkE^2', 'QkE QlE', 'QkE QmE',\n",
       "       'QkE QnE', 'QkE QoE', 'QkE QpE', 'QkE QqE', 'QkE QrE', 'QkE QsE',\n",
       "       'QkE QtE', 'QkE Q_A1', 'QkE Q_A3', 'QkE Q_A5', 'QkE tp17',\n",
       "       'QkE tp4', 'QkE Q_A15tp17', 'QkE Q_A3tp4',\n",
       "       'QkE age_group_mean_smoothing', 'QlE^2', 'QlE QmE', 'QlE QnE',\n",
       "       'QlE QoE', 'QlE QpE', 'QlE QqE', 'QlE QrE', 'QlE QsE', 'QlE QtE',\n",
       "       'QlE Q_A1', 'QlE Q_A3', 'QlE Q_A5', 'QlE tp17', 'QlE tp4',\n",
       "       'QlE Q_A15tp17', 'QlE Q_A3tp4', 'QlE age_group_mean_smoothing',\n",
       "       'QmE^2', 'QmE QnE', 'QmE QoE', 'QmE QpE', 'QmE QqE', 'QmE QrE',\n",
       "       'QmE QsE', 'QmE QtE', 'QmE Q_A1', 'QmE Q_A3', 'QmE Q_A5',\n",
       "       'QmE tp17', 'QmE tp4', 'QmE Q_A15tp17', 'QmE Q_A3tp4',\n",
       "       'QmE age_group_mean_smoothing', 'QnE^2', 'QnE QoE', 'QnE QpE',\n",
       "       'QnE QqE', 'QnE QrE', 'QnE QsE', 'QnE QtE', 'QnE Q_A1', 'QnE Q_A3',\n",
       "       'QnE Q_A5', 'QnE tp17', 'QnE tp4', 'QnE Q_A15tp17', 'QnE Q_A3tp4',\n",
       "       'QnE age_group_mean_smoothing', 'QoE^2', 'QoE QpE', 'QoE QqE',\n",
       "       'QoE QrE', 'QoE QsE', 'QoE QtE', 'QoE Q_A1', 'QoE Q_A3',\n",
       "       'QoE Q_A5', 'QoE tp17', 'QoE tp4', 'QoE Q_A15tp17', 'QoE Q_A3tp4',\n",
       "       'QoE age_group_mean_smoothing', 'QpE^2', 'QpE QqE', 'QpE QrE',\n",
       "       'QpE QsE', 'QpE QtE', 'QpE Q_A1', 'QpE Q_A3', 'QpE Q_A5',\n",
       "       'QpE tp17', 'QpE tp4', 'QpE Q_A15tp17', 'QpE Q_A3tp4',\n",
       "       'QpE age_group_mean_smoothing', 'QqE^2', 'QqE QrE', 'QqE QsE',\n",
       "       'QqE QtE', 'QqE Q_A1', 'QqE Q_A3', 'QqE Q_A5', 'QqE tp17',\n",
       "       'QqE tp4', 'QqE Q_A15tp17', 'QqE Q_A3tp4',\n",
       "       'QqE age_group_mean_smoothing', 'QrE^2', 'QrE QsE', 'QrE QtE',\n",
       "       'QrE Q_A1', 'QrE Q_A3', 'QrE Q_A5', 'QrE tp17', 'QrE tp4',\n",
       "       'QrE Q_A15tp17', 'QrE Q_A3tp4', 'QrE age_group_mean_smoothing',\n",
       "       'QsE^2', 'QsE QtE', 'QsE Q_A1', 'QsE Q_A3', 'QsE Q_A5', 'QsE tp17',\n",
       "       'QsE tp4', 'QsE Q_A15tp17', 'QsE Q_A3tp4',\n",
       "       'QsE age_group_mean_smoothing', 'QtE^2', 'QtE Q_A1', 'QtE Q_A3',\n",
       "       'QtE Q_A5', 'QtE tp17', 'QtE tp4', 'QtE Q_A15tp17', 'QtE Q_A3tp4',\n",
       "       'QtE age_group_mean_smoothing', 'Q_A1^2', 'Q_A1 Q_A3', 'Q_A1 Q_A5',\n",
       "       'Q_A1 tp17', 'Q_A1 tp4', 'Q_A1 Q_A15tp17', 'Q_A1 Q_A3tp4',\n",
       "       'Q_A1 age_group_mean_smoothing', 'Q_A3^2', 'Q_A3 Q_A5',\n",
       "       'Q_A3 tp17', 'Q_A3 tp4', 'Q_A3 Q_A15tp17', 'Q_A3 Q_A3tp4',\n",
       "       'Q_A3 age_group_mean_smoothing', 'Q_A5^2', 'Q_A5 tp17', 'Q_A5 tp4',\n",
       "       'Q_A5 Q_A15tp17', 'Q_A5 Q_A3tp4', 'Q_A5 age_group_mean_smoothing',\n",
       "       'tp17^2', 'tp17 tp4', 'tp17 Q_A15tp17', 'tp17 Q_A3tp4',\n",
       "       'tp17 age_group_mean_smoothing', 'tp4^2', 'tp4 Q_A15tp17',\n",
       "       'tp4 Q_A3tp4', 'tp4 age_group_mean_smoothing', 'Q_A15tp17^2',\n",
       "       'Q_A15tp17 Q_A3tp4', 'Q_A15tp17 age_group_mean_smoothing',\n",
       "       'Q_A3tp4^2', 'Q_A3tp4 age_group_mean_smoothing',\n",
       "       'age_group_mean_smoothing^2'], dtype=object)"
      ]
     },
     "execution_count": 31,
     "metadata": {},
     "output_type": "execute_result"
    },
    {
     "data": {
      "text/plain": [
       "array(['QaA', 'QaE', 'QbA', 'QbE', 'QcA', 'QcE', 'QdA', 'QdE', 'QeA',\n",
       "       'QeE', 'QfA', 'QfE', 'QgA', 'QgE', 'QhA', 'QhE', 'QiA', 'QiE',\n",
       "       'QjA', 'QjE', 'QkA', 'QkE', 'QlA', 'QlE', 'QmA', 'QmE', 'QnA',\n",
       "       'QnE', 'QoA', 'QoE', 'QpA', 'QpE', 'QqA', 'QqE', 'QrA', 'QrE',\n",
       "       'QsA', 'QsE', 'QtA', 'QtE', 'age_group', 'education', 'engnat',\n",
       "       'familysize', 'gender', 'hand', 'married', 'race', 'religion',\n",
       "       'tp01', 'tp02', 'tp03', 'tp04', 'tp05', 'tp06', 'tp07', 'tp08',\n",
       "       'tp09', 'tp10', 'urban', 'wf_01', 'wf_02', 'wf_03', 'wr_01',\n",
       "       'wr_02', 'wr_03', 'wr_04', 'wr_05', 'wr_06', 'wr_07', 'wr_08',\n",
       "       'wr_09', 'wr_10', 'wr_11', 'wr_12', 'wr_13', 'Q_A1', 'Q_A3',\n",
       "       'Q_A5', 'tp17', 'tp4', 'Q_A15tp17', 'Q_A3tp4',\n",
       "       'age_group_mean_smoothing', 'QaE^2', 'QaE QbE', 'QaE QcE',\n",
       "       'QaE QdE', 'QaE QeE', 'QaE QfE', 'QaE QgE', 'QaE QhE', 'QaE QiE',\n",
       "       'QaE QjE', 'QaE QkE', 'QaE QlE', 'QaE QmE', 'QaE QnE', 'QaE QoE',\n",
       "       'QaE QpE', 'QaE QqE', 'QaE QrE', 'QaE QsE', 'QaE QtE', 'QaE Q_A1',\n",
       "       'QaE Q_A3', 'QaE Q_A5', 'QaE tp17', 'QaE tp4', 'QaE Q_A15tp17',\n",
       "       'QaE Q_A3tp4', 'QaE age_group_mean_smoothing', 'QbE^2', 'QbE QcE',\n",
       "       'QbE QdE', 'QbE QeE', 'QbE QfE', 'QbE QgE', 'QbE QhE', 'QbE QiE',\n",
       "       'QbE QjE', 'QbE QkE', 'QbE QlE', 'QbE QmE', 'QbE QnE', 'QbE QoE',\n",
       "       'QbE QpE', 'QbE QqE', 'QbE QrE', 'QbE QsE', 'QbE QtE', 'QbE Q_A1',\n",
       "       'QbE Q_A3', 'QbE Q_A5', 'QbE tp17', 'QbE tp4', 'QbE Q_A15tp17',\n",
       "       'QbE Q_A3tp4', 'QbE age_group_mean_smoothing', 'QcE^2', 'QcE QdE',\n",
       "       'QcE QeE', 'QcE QfE', 'QcE QgE', 'QcE QhE', 'QcE QiE', 'QcE QjE',\n",
       "       'QcE QkE', 'QcE QlE', 'QcE QmE', 'QcE QnE', 'QcE QoE', 'QcE QpE',\n",
       "       'QcE QqE', 'QcE QrE', 'QcE QsE', 'QcE QtE', 'QcE Q_A1', 'QcE Q_A3',\n",
       "       'QcE Q_A5', 'QcE tp17', 'QcE tp4', 'QcE Q_A15tp17', 'QcE Q_A3tp4',\n",
       "       'QcE age_group_mean_smoothing', 'QdE^2', 'QdE QeE', 'QdE QfE',\n",
       "       'QdE QgE', 'QdE QhE', 'QdE QiE', 'QdE QjE', 'QdE QkE', 'QdE QlE',\n",
       "       'QdE QmE', 'QdE QnE', 'QdE QoE', 'QdE QpE', 'QdE QqE', 'QdE QrE',\n",
       "       'QdE QsE', 'QdE QtE', 'QdE Q_A1', 'QdE Q_A3', 'QdE Q_A5',\n",
       "       'QdE tp17', 'QdE tp4', 'QdE Q_A15tp17', 'QdE Q_A3tp4',\n",
       "       'QdE age_group_mean_smoothing', 'QeE^2', 'QeE QfE', 'QeE QgE',\n",
       "       'QeE QhE', 'QeE QiE', 'QeE QjE', 'QeE QkE', 'QeE QlE', 'QeE QmE',\n",
       "       'QeE QnE', 'QeE QoE', 'QeE QpE', 'QeE QqE', 'QeE QrE', 'QeE QsE',\n",
       "       'QeE QtE', 'QeE Q_A1', 'QeE Q_A3', 'QeE Q_A5', 'QeE tp17',\n",
       "       'QeE tp4', 'QeE Q_A15tp17', 'QeE Q_A3tp4',\n",
       "       'QeE age_group_mean_smoothing', 'QfE^2', 'QfE QgE', 'QfE QhE',\n",
       "       'QfE QiE', 'QfE QjE', 'QfE QkE', 'QfE QlE', 'QfE QmE', 'QfE QnE',\n",
       "       'QfE QoE', 'QfE QpE', 'QfE QqE', 'QfE QrE', 'QfE QsE', 'QfE QtE',\n",
       "       'QfE Q_A1', 'QfE Q_A3', 'QfE Q_A5', 'QfE tp17', 'QfE tp4',\n",
       "       'QfE Q_A15tp17', 'QfE Q_A3tp4', 'QfE age_group_mean_smoothing',\n",
       "       'QgE^2', 'QgE QhE', 'QgE QiE', 'QgE QjE', 'QgE QkE', 'QgE QlE',\n",
       "       'QgE QmE', 'QgE QnE', 'QgE QoE', 'QgE QpE', 'QgE QqE', 'QgE QrE',\n",
       "       'QgE QsE', 'QgE QtE', 'QgE Q_A1', 'QgE Q_A3', 'QgE Q_A5',\n",
       "       'QgE tp17', 'QgE tp4', 'QgE Q_A15tp17', 'QgE Q_A3tp4',\n",
       "       'QgE age_group_mean_smoothing', 'QhE^2', 'QhE QiE', 'QhE QjE',\n",
       "       'QhE QkE', 'QhE QlE', 'QhE QmE', 'QhE QnE', 'QhE QoE', 'QhE QpE',\n",
       "       'QhE QqE', 'QhE QrE', 'QhE QsE', 'QhE QtE', 'QhE Q_A1', 'QhE Q_A3',\n",
       "       'QhE Q_A5', 'QhE tp17', 'QhE tp4', 'QhE Q_A15tp17', 'QhE Q_A3tp4',\n",
       "       'QhE age_group_mean_smoothing', 'QiE^2', 'QiE QjE', 'QiE QkE',\n",
       "       'QiE QlE', 'QiE QmE', 'QiE QnE', 'QiE QoE', 'QiE QpE', 'QiE QqE',\n",
       "       'QiE QrE', 'QiE QsE', 'QiE QtE', 'QiE Q_A1', 'QiE Q_A3',\n",
       "       'QiE Q_A5', 'QiE tp17', 'QiE tp4', 'QiE Q_A15tp17', 'QiE Q_A3tp4',\n",
       "       'QiE age_group_mean_smoothing', 'QjE^2', 'QjE QkE', 'QjE QlE',\n",
       "       'QjE QmE', 'QjE QnE', 'QjE QoE', 'QjE QpE', 'QjE QqE', 'QjE QrE',\n",
       "       'QjE QsE', 'QjE QtE', 'QjE Q_A1', 'QjE Q_A3', 'QjE Q_A5',\n",
       "       'QjE tp17', 'QjE tp4', 'QjE Q_A15tp17', 'QjE Q_A3tp4',\n",
       "       'QjE age_group_mean_smoothing', 'QkE^2', 'QkE QlE', 'QkE QmE',\n",
       "       'QkE QnE', 'QkE QoE', 'QkE QpE', 'QkE QqE', 'QkE QrE', 'QkE QsE',\n",
       "       'QkE QtE', 'QkE Q_A1', 'QkE Q_A3', 'QkE Q_A5', 'QkE tp17',\n",
       "       'QkE tp4', 'QkE Q_A15tp17', 'QkE Q_A3tp4',\n",
       "       'QkE age_group_mean_smoothing', 'QlE^2', 'QlE QmE', 'QlE QnE',\n",
       "       'QlE QoE', 'QlE QpE', 'QlE QqE', 'QlE QrE', 'QlE QsE', 'QlE QtE',\n",
       "       'QlE Q_A1', 'QlE Q_A3', 'QlE Q_A5', 'QlE tp17', 'QlE tp4',\n",
       "       'QlE Q_A15tp17', 'QlE Q_A3tp4', 'QlE age_group_mean_smoothing',\n",
       "       'QmE^2', 'QmE QnE', 'QmE QoE', 'QmE QpE', 'QmE QqE', 'QmE QrE',\n",
       "       'QmE QsE', 'QmE QtE', 'QmE Q_A1', 'QmE Q_A3', 'QmE Q_A5',\n",
       "       'QmE tp17', 'QmE tp4', 'QmE Q_A15tp17', 'QmE Q_A3tp4',\n",
       "       'QmE age_group_mean_smoothing', 'QnE^2', 'QnE QoE', 'QnE QpE',\n",
       "       'QnE QqE', 'QnE QrE', 'QnE QsE', 'QnE QtE', 'QnE Q_A1', 'QnE Q_A3',\n",
       "       'QnE Q_A5', 'QnE tp17', 'QnE tp4', 'QnE Q_A15tp17', 'QnE Q_A3tp4',\n",
       "       'QnE age_group_mean_smoothing', 'QoE^2', 'QoE QpE', 'QoE QqE',\n",
       "       'QoE QrE', 'QoE QsE', 'QoE QtE', 'QoE Q_A1', 'QoE Q_A3',\n",
       "       'QoE Q_A5', 'QoE tp17', 'QoE tp4', 'QoE Q_A15tp17', 'QoE Q_A3tp4',\n",
       "       'QoE age_group_mean_smoothing', 'QpE^2', 'QpE QqE', 'QpE QrE',\n",
       "       'QpE QsE', 'QpE QtE', 'QpE Q_A1', 'QpE Q_A3', 'QpE Q_A5',\n",
       "       'QpE tp17', 'QpE tp4', 'QpE Q_A15tp17', 'QpE Q_A3tp4',\n",
       "       'QpE age_group_mean_smoothing', 'QqE^2', 'QqE QrE', 'QqE QsE',\n",
       "       'QqE QtE', 'QqE Q_A1', 'QqE Q_A3', 'QqE Q_A5', 'QqE tp17',\n",
       "       'QqE tp4', 'QqE Q_A15tp17', 'QqE Q_A3tp4',\n",
       "       'QqE age_group_mean_smoothing', 'QrE^2', 'QrE QsE', 'QrE QtE',\n",
       "       'QrE Q_A1', 'QrE Q_A3', 'QrE Q_A5', 'QrE tp17', 'QrE tp4',\n",
       "       'QrE Q_A15tp17', 'QrE Q_A3tp4', 'QrE age_group_mean_smoothing',\n",
       "       'QsE^2', 'QsE QtE', 'QsE Q_A1', 'QsE Q_A3', 'QsE Q_A5', 'QsE tp17',\n",
       "       'QsE tp4', 'QsE Q_A15tp17', 'QsE Q_A3tp4',\n",
       "       'QsE age_group_mean_smoothing', 'QtE^2', 'QtE Q_A1', 'QtE Q_A3',\n",
       "       'QtE Q_A5', 'QtE tp17', 'QtE tp4', 'QtE Q_A15tp17', 'QtE Q_A3tp4',\n",
       "       'QtE age_group_mean_smoothing', 'Q_A1^2', 'Q_A1 Q_A3', 'Q_A1 Q_A5',\n",
       "       'Q_A1 tp17', 'Q_A1 tp4', 'Q_A1 Q_A15tp17', 'Q_A1 Q_A3tp4',\n",
       "       'Q_A1 age_group_mean_smoothing', 'Q_A3^2', 'Q_A3 Q_A5',\n",
       "       'Q_A3 tp17', 'Q_A3 tp4', 'Q_A3 Q_A15tp17', 'Q_A3 Q_A3tp4',\n",
       "       'Q_A3 age_group_mean_smoothing', 'Q_A5^2', 'Q_A5 tp17', 'Q_A5 tp4',\n",
       "       'Q_A5 Q_A15tp17', 'Q_A5 Q_A3tp4', 'Q_A5 age_group_mean_smoothing',\n",
       "       'tp17^2', 'tp17 tp4', 'tp17 Q_A15tp17', 'tp17 Q_A3tp4',\n",
       "       'tp17 age_group_mean_smoothing', 'tp4^2', 'tp4 Q_A15tp17',\n",
       "       'tp4 Q_A3tp4', 'tp4 age_group_mean_smoothing', 'Q_A15tp17^2',\n",
       "       'Q_A15tp17 Q_A3tp4', 'Q_A15tp17 age_group_mean_smoothing',\n",
       "       'Q_A3tp4^2', 'Q_A3tp4 age_group_mean_smoothing',\n",
       "       'age_group_mean_smoothing^2'], dtype=object)"
      ]
     },
     "execution_count": 31,
     "metadata": {},
     "output_type": "execute_result"
    }
   ],
   "source": [
    "train.shape, test.shape\n",
    "train.columns.values\n",
    "test.columns.values"
   ]
  },
  {
   "cell_type": "code",
   "execution_count": 28,
   "metadata": {},
   "outputs": [
    {
     "data": {
      "text/plain": [
       "['QaE',\n",
       " 'QbE',\n",
       " 'QcE',\n",
       " 'QdE',\n",
       " 'QeE',\n",
       " 'QfE',\n",
       " 'QgE',\n",
       " 'QhE',\n",
       " 'QiE',\n",
       " 'QjE',\n",
       " 'QkE',\n",
       " 'QlE',\n",
       " 'QmE',\n",
       " 'QnE',\n",
       " 'QoE',\n",
       " 'QpE',\n",
       " 'QqE',\n",
       " 'QrE',\n",
       " 'QsE',\n",
       " 'QtE',\n",
       " 'Q_A1',\n",
       " 'Q_A3',\n",
       " 'Q_A5',\n",
       " 'tp17',\n",
       " 'tp4',\n",
       " 'Q_A15tp17',\n",
       " 'Q_A3tp4',\n",
       " 'age_group_mean_smoothing']"
      ]
     },
     "execution_count": 28,
     "metadata": {},
     "output_type": "execute_result"
    }
   ],
   "source": [
    "v = meta[meta.gbn=='Q_E'].index.values.tolist()\n",
    "v.extend(['Q_A1', 'Q_A3',\n",
    "       'Q_A5', 'tp17', 'tp4', 'Q_A15tp17', 'Q_A3tp4',\n",
    "       'age_group_mean_smoothing'])\n",
    "v"
   ]
  },
  {
   "cell_type": "code",
   "execution_count": 29,
   "metadata": {},
   "outputs": [],
   "source": [
    "poly = PolynomialFeatures(degree=2, interaction_only=False, include_bias=False)\n",
    "interactions = pd.DataFrame(data=poly.fit_transform(train[v]), columns=poly.get_feature_names(v))\n",
    "interactions.drop(v, axis=1, inplace=True) \n",
    "train = pd.concat([train, interactions], axis=1)"
   ]
  },
  {
   "cell_type": "code",
   "execution_count": 30,
   "metadata": {},
   "outputs": [],
   "source": [
    "poly = PolynomialFeatures(degree=2, interaction_only=False, include_bias=False)\n",
    "interactions = pd.DataFrame(data=poly.fit_transform(test[v]), columns=poly.get_feature_names(v))\n",
    "interactions.drop(v, axis=1, inplace=True) \n",
    "test = pd.concat([test, interactions], axis=1)"
   ]
  },
  {
   "cell_type": "code",
   "execution_count": null,
   "metadata": {},
   "outputs": [],
   "source": []
  },
  {
   "cell_type": "code",
   "execution_count": null,
   "metadata": {},
   "outputs": [],
   "source": []
  },
  {
   "cell_type": "markdown",
   "metadata": {},
   "source": [
    "# 3. 모델 학습"
   ]
  },
  {
   "cell_type": "code",
   "execution_count": 32,
   "metadata": {},
   "outputs": [],
   "source": [
    "from pycaret.classification import *"
   ]
  },
  {
   "cell_type": "code",
   "execution_count": 37,
   "metadata": {},
   "outputs": [],
   "source": [
    "set_config('seed', 42)"
   ]
  },
  {
   "cell_type": "code",
   "execution_count": 40,
   "metadata": {},
   "outputs": [
    {
     "data": {
      "text/plain": [
       "196"
      ]
     },
     "execution_count": 40,
     "metadata": {},
     "output_type": "execute_result"
    }
   ],
   "source": [
    "import gc\n",
    "gc.collect()"
   ]
  },
  {
   "cell_type": "code",
   "execution_count": 34,
   "metadata": {},
   "outputs": [
    {
     "data": {
      "text/plain": [
       "['QaA',\n",
       " 'QbA',\n",
       " 'QcA',\n",
       " 'QdA',\n",
       " 'QeA',\n",
       " 'QfA',\n",
       " 'QgA',\n",
       " 'QhA',\n",
       " 'QiA',\n",
       " 'QjA',\n",
       " 'QkA',\n",
       " 'QlA',\n",
       " 'QmA',\n",
       " 'QnA',\n",
       " 'QoA',\n",
       " 'QpA',\n",
       " 'QqA',\n",
       " 'QrA',\n",
       " 'QsA',\n",
       " 'QtA',\n",
       " 'age_group',\n",
       " 'education',\n",
       " 'engnat',\n",
       " 'familysize',\n",
       " 'gender',\n",
       " 'hand',\n",
       " 'married',\n",
       " 'race',\n",
       " 'religion',\n",
       " 'urban']"
      ]
     },
     "execution_count": 34,
     "metadata": {},
     "output_type": "execute_result"
    }
   ],
   "source": [
    "col_cat = meta[(meta.gbn == 'Q_A') | (meta.gbn == 'cat')].index.values.tolist()\n",
    "col_cat"
   ]
  },
  {
   "cell_type": "code",
   "execution_count": 38,
   "metadata": {
    "scrolled": false
   },
   "outputs": [
    {
     "name": "stdout",
     "output_type": "stream",
     "text": [
      "Setup Succesfully Completed!\n"
     ]
    },
    {
     "data": {
      "text/html": [
       "<style  type=\"text/css\" >\n",
       "</style><table id=\"T_abbfbec6_047b_11eb_b9b7_00e0201808a0\" ><thead>    <tr>        <th class=\"blank level0\" ></th>        <th class=\"col_heading level0 col0\" >Description</th>        <th class=\"col_heading level0 col1\" >Value</th>    </tr></thead><tbody>\n",
       "                <tr>\n",
       "                        <th id=\"T_abbfbec6_047b_11eb_b9b7_00e0201808a0level0_row0\" class=\"row_heading level0 row0\" >0</th>\n",
       "                        <td id=\"T_abbfbec6_047b_11eb_b9b7_00e0201808a0row0_col0\" class=\"data row0 col0\" >session_id</td>\n",
       "                        <td id=\"T_abbfbec6_047b_11eb_b9b7_00e0201808a0row0_col1\" class=\"data row0 col1\" >42</td>\n",
       "            </tr>\n",
       "            <tr>\n",
       "                        <th id=\"T_abbfbec6_047b_11eb_b9b7_00e0201808a0level0_row1\" class=\"row_heading level0 row1\" >1</th>\n",
       "                        <td id=\"T_abbfbec6_047b_11eb_b9b7_00e0201808a0row1_col0\" class=\"data row1 col0\" >Target Type</td>\n",
       "                        <td id=\"T_abbfbec6_047b_11eb_b9b7_00e0201808a0row1_col1\" class=\"data row1 col1\" >Binary</td>\n",
       "            </tr>\n",
       "            <tr>\n",
       "                        <th id=\"T_abbfbec6_047b_11eb_b9b7_00e0201808a0level0_row2\" class=\"row_heading level0 row2\" >2</th>\n",
       "                        <td id=\"T_abbfbec6_047b_11eb_b9b7_00e0201808a0row2_col0\" class=\"data row2 col0\" >Label Encoded</td>\n",
       "                        <td id=\"T_abbfbec6_047b_11eb_b9b7_00e0201808a0row2_col1\" class=\"data row2 col1\" >1: 0, 2: 1</td>\n",
       "            </tr>\n",
       "            <tr>\n",
       "                        <th id=\"T_abbfbec6_047b_11eb_b9b7_00e0201808a0level0_row3\" class=\"row_heading level0 row3\" >3</th>\n",
       "                        <td id=\"T_abbfbec6_047b_11eb_b9b7_00e0201808a0row3_col0\" class=\"data row3 col0\" >Original Data</td>\n",
       "                        <td id=\"T_abbfbec6_047b_11eb_b9b7_00e0201808a0row3_col1\" class=\"data row3 col1\" >(45532, 491)</td>\n",
       "            </tr>\n",
       "            <tr>\n",
       "                        <th id=\"T_abbfbec6_047b_11eb_b9b7_00e0201808a0level0_row4\" class=\"row_heading level0 row4\" >4</th>\n",
       "                        <td id=\"T_abbfbec6_047b_11eb_b9b7_00e0201808a0row4_col0\" class=\"data row4 col0\" >Missing Values </td>\n",
       "                        <td id=\"T_abbfbec6_047b_11eb_b9b7_00e0201808a0row4_col1\" class=\"data row4 col1\" >False</td>\n",
       "            </tr>\n",
       "            <tr>\n",
       "                        <th id=\"T_abbfbec6_047b_11eb_b9b7_00e0201808a0level0_row5\" class=\"row_heading level0 row5\" >5</th>\n",
       "                        <td id=\"T_abbfbec6_047b_11eb_b9b7_00e0201808a0row5_col0\" class=\"data row5 col0\" >Numeric Features </td>\n",
       "                        <td id=\"T_abbfbec6_047b_11eb_b9b7_00e0201808a0row5_col1\" class=\"data row5 col1\" >434</td>\n",
       "            </tr>\n",
       "            <tr>\n",
       "                        <th id=\"T_abbfbec6_047b_11eb_b9b7_00e0201808a0level0_row6\" class=\"row_heading level0 row6\" >6</th>\n",
       "                        <td id=\"T_abbfbec6_047b_11eb_b9b7_00e0201808a0row6_col0\" class=\"data row6 col0\" >Categorical Features </td>\n",
       "                        <td id=\"T_abbfbec6_047b_11eb_b9b7_00e0201808a0row6_col1\" class=\"data row6 col1\" >56</td>\n",
       "            </tr>\n",
       "            <tr>\n",
       "                        <th id=\"T_abbfbec6_047b_11eb_b9b7_00e0201808a0level0_row7\" class=\"row_heading level0 row7\" >7</th>\n",
       "                        <td id=\"T_abbfbec6_047b_11eb_b9b7_00e0201808a0row7_col0\" class=\"data row7 col0\" >Ordinal Features </td>\n",
       "                        <td id=\"T_abbfbec6_047b_11eb_b9b7_00e0201808a0row7_col1\" class=\"data row7 col1\" >False</td>\n",
       "            </tr>\n",
       "            <tr>\n",
       "                        <th id=\"T_abbfbec6_047b_11eb_b9b7_00e0201808a0level0_row8\" class=\"row_heading level0 row8\" >8</th>\n",
       "                        <td id=\"T_abbfbec6_047b_11eb_b9b7_00e0201808a0row8_col0\" class=\"data row8 col0\" >High Cardinality Features </td>\n",
       "                        <td id=\"T_abbfbec6_047b_11eb_b9b7_00e0201808a0row8_col1\" class=\"data row8 col1\" >False</td>\n",
       "            </tr>\n",
       "            <tr>\n",
       "                        <th id=\"T_abbfbec6_047b_11eb_b9b7_00e0201808a0level0_row9\" class=\"row_heading level0 row9\" >9</th>\n",
       "                        <td id=\"T_abbfbec6_047b_11eb_b9b7_00e0201808a0row9_col0\" class=\"data row9 col0\" >High Cardinality Method </td>\n",
       "                        <td id=\"T_abbfbec6_047b_11eb_b9b7_00e0201808a0row9_col1\" class=\"data row9 col1\" >None</td>\n",
       "            </tr>\n",
       "            <tr>\n",
       "                        <th id=\"T_abbfbec6_047b_11eb_b9b7_00e0201808a0level0_row10\" class=\"row_heading level0 row10\" >10</th>\n",
       "                        <td id=\"T_abbfbec6_047b_11eb_b9b7_00e0201808a0row10_col0\" class=\"data row10 col0\" >Sampled Data</td>\n",
       "                        <td id=\"T_abbfbec6_047b_11eb_b9b7_00e0201808a0row10_col1\" class=\"data row10 col1\" >(45532, 491)</td>\n",
       "            </tr>\n",
       "            <tr>\n",
       "                        <th id=\"T_abbfbec6_047b_11eb_b9b7_00e0201808a0level0_row11\" class=\"row_heading level0 row11\" >11</th>\n",
       "                        <td id=\"T_abbfbec6_047b_11eb_b9b7_00e0201808a0row11_col0\" class=\"data row11 col0\" >Transformed Train Set</td>\n",
       "                        <td id=\"T_abbfbec6_047b_11eb_b9b7_00e0201808a0row11_col1\" class=\"data row11 col1\" >(31872, 716)</td>\n",
       "            </tr>\n",
       "            <tr>\n",
       "                        <th id=\"T_abbfbec6_047b_11eb_b9b7_00e0201808a0level0_row12\" class=\"row_heading level0 row12\" >12</th>\n",
       "                        <td id=\"T_abbfbec6_047b_11eb_b9b7_00e0201808a0row12_col0\" class=\"data row12 col0\" >Transformed Test Set</td>\n",
       "                        <td id=\"T_abbfbec6_047b_11eb_b9b7_00e0201808a0row12_col1\" class=\"data row12 col1\" >(13660, 716)</td>\n",
       "            </tr>\n",
       "            <tr>\n",
       "                        <th id=\"T_abbfbec6_047b_11eb_b9b7_00e0201808a0level0_row13\" class=\"row_heading level0 row13\" >13</th>\n",
       "                        <td id=\"T_abbfbec6_047b_11eb_b9b7_00e0201808a0row13_col0\" class=\"data row13 col0\" >Numeric Imputer </td>\n",
       "                        <td id=\"T_abbfbec6_047b_11eb_b9b7_00e0201808a0row13_col1\" class=\"data row13 col1\" >mean</td>\n",
       "            </tr>\n",
       "            <tr>\n",
       "                        <th id=\"T_abbfbec6_047b_11eb_b9b7_00e0201808a0level0_row14\" class=\"row_heading level0 row14\" >14</th>\n",
       "                        <td id=\"T_abbfbec6_047b_11eb_b9b7_00e0201808a0row14_col0\" class=\"data row14 col0\" >Categorical Imputer </td>\n",
       "                        <td id=\"T_abbfbec6_047b_11eb_b9b7_00e0201808a0row14_col1\" class=\"data row14 col1\" >constant</td>\n",
       "            </tr>\n",
       "            <tr>\n",
       "                        <th id=\"T_abbfbec6_047b_11eb_b9b7_00e0201808a0level0_row15\" class=\"row_heading level0 row15\" >15</th>\n",
       "                        <td id=\"T_abbfbec6_047b_11eb_b9b7_00e0201808a0row15_col0\" class=\"data row15 col0\" >Normalize </td>\n",
       "                        <td id=\"T_abbfbec6_047b_11eb_b9b7_00e0201808a0row15_col1\" class=\"data row15 col1\" >False</td>\n",
       "            </tr>\n",
       "            <tr>\n",
       "                        <th id=\"T_abbfbec6_047b_11eb_b9b7_00e0201808a0level0_row16\" class=\"row_heading level0 row16\" >16</th>\n",
       "                        <td id=\"T_abbfbec6_047b_11eb_b9b7_00e0201808a0row16_col0\" class=\"data row16 col0\" >Normalize Method </td>\n",
       "                        <td id=\"T_abbfbec6_047b_11eb_b9b7_00e0201808a0row16_col1\" class=\"data row16 col1\" >None</td>\n",
       "            </tr>\n",
       "            <tr>\n",
       "                        <th id=\"T_abbfbec6_047b_11eb_b9b7_00e0201808a0level0_row17\" class=\"row_heading level0 row17\" >17</th>\n",
       "                        <td id=\"T_abbfbec6_047b_11eb_b9b7_00e0201808a0row17_col0\" class=\"data row17 col0\" >Transformation </td>\n",
       "                        <td id=\"T_abbfbec6_047b_11eb_b9b7_00e0201808a0row17_col1\" class=\"data row17 col1\" >False</td>\n",
       "            </tr>\n",
       "            <tr>\n",
       "                        <th id=\"T_abbfbec6_047b_11eb_b9b7_00e0201808a0level0_row18\" class=\"row_heading level0 row18\" >18</th>\n",
       "                        <td id=\"T_abbfbec6_047b_11eb_b9b7_00e0201808a0row18_col0\" class=\"data row18 col0\" >Transformation Method </td>\n",
       "                        <td id=\"T_abbfbec6_047b_11eb_b9b7_00e0201808a0row18_col1\" class=\"data row18 col1\" >None</td>\n",
       "            </tr>\n",
       "            <tr>\n",
       "                        <th id=\"T_abbfbec6_047b_11eb_b9b7_00e0201808a0level0_row19\" class=\"row_heading level0 row19\" >19</th>\n",
       "                        <td id=\"T_abbfbec6_047b_11eb_b9b7_00e0201808a0row19_col0\" class=\"data row19 col0\" >PCA </td>\n",
       "                        <td id=\"T_abbfbec6_047b_11eb_b9b7_00e0201808a0row19_col1\" class=\"data row19 col1\" >False</td>\n",
       "            </tr>\n",
       "            <tr>\n",
       "                        <th id=\"T_abbfbec6_047b_11eb_b9b7_00e0201808a0level0_row20\" class=\"row_heading level0 row20\" >20</th>\n",
       "                        <td id=\"T_abbfbec6_047b_11eb_b9b7_00e0201808a0row20_col0\" class=\"data row20 col0\" >PCA Method </td>\n",
       "                        <td id=\"T_abbfbec6_047b_11eb_b9b7_00e0201808a0row20_col1\" class=\"data row20 col1\" >None</td>\n",
       "            </tr>\n",
       "            <tr>\n",
       "                        <th id=\"T_abbfbec6_047b_11eb_b9b7_00e0201808a0level0_row21\" class=\"row_heading level0 row21\" >21</th>\n",
       "                        <td id=\"T_abbfbec6_047b_11eb_b9b7_00e0201808a0row21_col0\" class=\"data row21 col0\" >PCA Components </td>\n",
       "                        <td id=\"T_abbfbec6_047b_11eb_b9b7_00e0201808a0row21_col1\" class=\"data row21 col1\" >None</td>\n",
       "            </tr>\n",
       "            <tr>\n",
       "                        <th id=\"T_abbfbec6_047b_11eb_b9b7_00e0201808a0level0_row22\" class=\"row_heading level0 row22\" >22</th>\n",
       "                        <td id=\"T_abbfbec6_047b_11eb_b9b7_00e0201808a0row22_col0\" class=\"data row22 col0\" >Ignore Low Variance </td>\n",
       "                        <td id=\"T_abbfbec6_047b_11eb_b9b7_00e0201808a0row22_col1\" class=\"data row22 col1\" >False</td>\n",
       "            </tr>\n",
       "            <tr>\n",
       "                        <th id=\"T_abbfbec6_047b_11eb_b9b7_00e0201808a0level0_row23\" class=\"row_heading level0 row23\" >23</th>\n",
       "                        <td id=\"T_abbfbec6_047b_11eb_b9b7_00e0201808a0row23_col0\" class=\"data row23 col0\" >Combine Rare Levels </td>\n",
       "                        <td id=\"T_abbfbec6_047b_11eb_b9b7_00e0201808a0row23_col1\" class=\"data row23 col1\" >False</td>\n",
       "            </tr>\n",
       "            <tr>\n",
       "                        <th id=\"T_abbfbec6_047b_11eb_b9b7_00e0201808a0level0_row24\" class=\"row_heading level0 row24\" >24</th>\n",
       "                        <td id=\"T_abbfbec6_047b_11eb_b9b7_00e0201808a0row24_col0\" class=\"data row24 col0\" >Rare Level Threshold </td>\n",
       "                        <td id=\"T_abbfbec6_047b_11eb_b9b7_00e0201808a0row24_col1\" class=\"data row24 col1\" >None</td>\n",
       "            </tr>\n",
       "            <tr>\n",
       "                        <th id=\"T_abbfbec6_047b_11eb_b9b7_00e0201808a0level0_row25\" class=\"row_heading level0 row25\" >25</th>\n",
       "                        <td id=\"T_abbfbec6_047b_11eb_b9b7_00e0201808a0row25_col0\" class=\"data row25 col0\" >Numeric Binning </td>\n",
       "                        <td id=\"T_abbfbec6_047b_11eb_b9b7_00e0201808a0row25_col1\" class=\"data row25 col1\" >False</td>\n",
       "            </tr>\n",
       "            <tr>\n",
       "                        <th id=\"T_abbfbec6_047b_11eb_b9b7_00e0201808a0level0_row26\" class=\"row_heading level0 row26\" >26</th>\n",
       "                        <td id=\"T_abbfbec6_047b_11eb_b9b7_00e0201808a0row26_col0\" class=\"data row26 col0\" >Remove Outliers </td>\n",
       "                        <td id=\"T_abbfbec6_047b_11eb_b9b7_00e0201808a0row26_col1\" class=\"data row26 col1\" >False</td>\n",
       "            </tr>\n",
       "            <tr>\n",
       "                        <th id=\"T_abbfbec6_047b_11eb_b9b7_00e0201808a0level0_row27\" class=\"row_heading level0 row27\" >27</th>\n",
       "                        <td id=\"T_abbfbec6_047b_11eb_b9b7_00e0201808a0row27_col0\" class=\"data row27 col0\" >Outliers Threshold </td>\n",
       "                        <td id=\"T_abbfbec6_047b_11eb_b9b7_00e0201808a0row27_col1\" class=\"data row27 col1\" >None</td>\n",
       "            </tr>\n",
       "            <tr>\n",
       "                        <th id=\"T_abbfbec6_047b_11eb_b9b7_00e0201808a0level0_row28\" class=\"row_heading level0 row28\" >28</th>\n",
       "                        <td id=\"T_abbfbec6_047b_11eb_b9b7_00e0201808a0row28_col0\" class=\"data row28 col0\" >Remove Multicollinearity </td>\n",
       "                        <td id=\"T_abbfbec6_047b_11eb_b9b7_00e0201808a0row28_col1\" class=\"data row28 col1\" >False</td>\n",
       "            </tr>\n",
       "            <tr>\n",
       "                        <th id=\"T_abbfbec6_047b_11eb_b9b7_00e0201808a0level0_row29\" class=\"row_heading level0 row29\" >29</th>\n",
       "                        <td id=\"T_abbfbec6_047b_11eb_b9b7_00e0201808a0row29_col0\" class=\"data row29 col0\" >Multicollinearity Threshold </td>\n",
       "                        <td id=\"T_abbfbec6_047b_11eb_b9b7_00e0201808a0row29_col1\" class=\"data row29 col1\" >None</td>\n",
       "            </tr>\n",
       "            <tr>\n",
       "                        <th id=\"T_abbfbec6_047b_11eb_b9b7_00e0201808a0level0_row30\" class=\"row_heading level0 row30\" >30</th>\n",
       "                        <td id=\"T_abbfbec6_047b_11eb_b9b7_00e0201808a0row30_col0\" class=\"data row30 col0\" >Clustering </td>\n",
       "                        <td id=\"T_abbfbec6_047b_11eb_b9b7_00e0201808a0row30_col1\" class=\"data row30 col1\" >False</td>\n",
       "            </tr>\n",
       "            <tr>\n",
       "                        <th id=\"T_abbfbec6_047b_11eb_b9b7_00e0201808a0level0_row31\" class=\"row_heading level0 row31\" >31</th>\n",
       "                        <td id=\"T_abbfbec6_047b_11eb_b9b7_00e0201808a0row31_col0\" class=\"data row31 col0\" >Clustering Iteration </td>\n",
       "                        <td id=\"T_abbfbec6_047b_11eb_b9b7_00e0201808a0row31_col1\" class=\"data row31 col1\" >None</td>\n",
       "            </tr>\n",
       "            <tr>\n",
       "                        <th id=\"T_abbfbec6_047b_11eb_b9b7_00e0201808a0level0_row32\" class=\"row_heading level0 row32\" >32</th>\n",
       "                        <td id=\"T_abbfbec6_047b_11eb_b9b7_00e0201808a0row32_col0\" class=\"data row32 col0\" >Polynomial Features </td>\n",
       "                        <td id=\"T_abbfbec6_047b_11eb_b9b7_00e0201808a0row32_col1\" class=\"data row32 col1\" >False</td>\n",
       "            </tr>\n",
       "            <tr>\n",
       "                        <th id=\"T_abbfbec6_047b_11eb_b9b7_00e0201808a0level0_row33\" class=\"row_heading level0 row33\" >33</th>\n",
       "                        <td id=\"T_abbfbec6_047b_11eb_b9b7_00e0201808a0row33_col0\" class=\"data row33 col0\" >Polynomial Degree </td>\n",
       "                        <td id=\"T_abbfbec6_047b_11eb_b9b7_00e0201808a0row33_col1\" class=\"data row33 col1\" >None</td>\n",
       "            </tr>\n",
       "            <tr>\n",
       "                        <th id=\"T_abbfbec6_047b_11eb_b9b7_00e0201808a0level0_row34\" class=\"row_heading level0 row34\" >34</th>\n",
       "                        <td id=\"T_abbfbec6_047b_11eb_b9b7_00e0201808a0row34_col0\" class=\"data row34 col0\" >Trignometry Features </td>\n",
       "                        <td id=\"T_abbfbec6_047b_11eb_b9b7_00e0201808a0row34_col1\" class=\"data row34 col1\" >False</td>\n",
       "            </tr>\n",
       "            <tr>\n",
       "                        <th id=\"T_abbfbec6_047b_11eb_b9b7_00e0201808a0level0_row35\" class=\"row_heading level0 row35\" >35</th>\n",
       "                        <td id=\"T_abbfbec6_047b_11eb_b9b7_00e0201808a0row35_col0\" class=\"data row35 col0\" >Polynomial Threshold </td>\n",
       "                        <td id=\"T_abbfbec6_047b_11eb_b9b7_00e0201808a0row35_col1\" class=\"data row35 col1\" >None</td>\n",
       "            </tr>\n",
       "            <tr>\n",
       "                        <th id=\"T_abbfbec6_047b_11eb_b9b7_00e0201808a0level0_row36\" class=\"row_heading level0 row36\" >36</th>\n",
       "                        <td id=\"T_abbfbec6_047b_11eb_b9b7_00e0201808a0row36_col0\" class=\"data row36 col0\" >Group Features </td>\n",
       "                        <td id=\"T_abbfbec6_047b_11eb_b9b7_00e0201808a0row36_col1\" class=\"data row36 col1\" >False</td>\n",
       "            </tr>\n",
       "            <tr>\n",
       "                        <th id=\"T_abbfbec6_047b_11eb_b9b7_00e0201808a0level0_row37\" class=\"row_heading level0 row37\" >37</th>\n",
       "                        <td id=\"T_abbfbec6_047b_11eb_b9b7_00e0201808a0row37_col0\" class=\"data row37 col0\" >Feature Selection </td>\n",
       "                        <td id=\"T_abbfbec6_047b_11eb_b9b7_00e0201808a0row37_col1\" class=\"data row37 col1\" >False</td>\n",
       "            </tr>\n",
       "            <tr>\n",
       "                        <th id=\"T_abbfbec6_047b_11eb_b9b7_00e0201808a0level0_row38\" class=\"row_heading level0 row38\" >38</th>\n",
       "                        <td id=\"T_abbfbec6_047b_11eb_b9b7_00e0201808a0row38_col0\" class=\"data row38 col0\" >Features Selection Threshold </td>\n",
       "                        <td id=\"T_abbfbec6_047b_11eb_b9b7_00e0201808a0row38_col1\" class=\"data row38 col1\" >None</td>\n",
       "            </tr>\n",
       "            <tr>\n",
       "                        <th id=\"T_abbfbec6_047b_11eb_b9b7_00e0201808a0level0_row39\" class=\"row_heading level0 row39\" >39</th>\n",
       "                        <td id=\"T_abbfbec6_047b_11eb_b9b7_00e0201808a0row39_col0\" class=\"data row39 col0\" >Feature Interaction </td>\n",
       "                        <td id=\"T_abbfbec6_047b_11eb_b9b7_00e0201808a0row39_col1\" class=\"data row39 col1\" >False</td>\n",
       "            </tr>\n",
       "            <tr>\n",
       "                        <th id=\"T_abbfbec6_047b_11eb_b9b7_00e0201808a0level0_row40\" class=\"row_heading level0 row40\" >40</th>\n",
       "                        <td id=\"T_abbfbec6_047b_11eb_b9b7_00e0201808a0row40_col0\" class=\"data row40 col0\" >Feature Ratio </td>\n",
       "                        <td id=\"T_abbfbec6_047b_11eb_b9b7_00e0201808a0row40_col1\" class=\"data row40 col1\" >False</td>\n",
       "            </tr>\n",
       "            <tr>\n",
       "                        <th id=\"T_abbfbec6_047b_11eb_b9b7_00e0201808a0level0_row41\" class=\"row_heading level0 row41\" >41</th>\n",
       "                        <td id=\"T_abbfbec6_047b_11eb_b9b7_00e0201808a0row41_col0\" class=\"data row41 col0\" >Interaction Threshold </td>\n",
       "                        <td id=\"T_abbfbec6_047b_11eb_b9b7_00e0201808a0row41_col1\" class=\"data row41 col1\" >None</td>\n",
       "            </tr>\n",
       "            <tr>\n",
       "                        <th id=\"T_abbfbec6_047b_11eb_b9b7_00e0201808a0level0_row42\" class=\"row_heading level0 row42\" >42</th>\n",
       "                        <td id=\"T_abbfbec6_047b_11eb_b9b7_00e0201808a0row42_col0\" class=\"data row42 col0\" >Fix Imbalance</td>\n",
       "                        <td id=\"T_abbfbec6_047b_11eb_b9b7_00e0201808a0row42_col1\" class=\"data row42 col1\" >False</td>\n",
       "            </tr>\n",
       "            <tr>\n",
       "                        <th id=\"T_abbfbec6_047b_11eb_b9b7_00e0201808a0level0_row43\" class=\"row_heading level0 row43\" >43</th>\n",
       "                        <td id=\"T_abbfbec6_047b_11eb_b9b7_00e0201808a0row43_col0\" class=\"data row43 col0\" >Fix Imbalance Method</td>\n",
       "                        <td id=\"T_abbfbec6_047b_11eb_b9b7_00e0201808a0row43_col1\" class=\"data row43 col1\" >SMOTE</td>\n",
       "            </tr>\n",
       "    </tbody></table>"
      ],
      "text/plain": [
       "<pandas.io.formats.style.Styler at 0x1ce02646d88>"
      ]
     },
     "metadata": {},
     "output_type": "display_data"
    },
    {
     "name": "stdout",
     "output_type": "stream",
     "text": [
      "Wall time: 55.8 s\n"
     ]
    }
   ],
   "source": [
    "%%time\n",
    "clf = setup(session_id=42, \n",
    "            data = train, target = 'voted'\n",
    "          , categorical_features=col_cat\n",
    "           )"
   ]
  },
  {
   "cell_type": "code",
   "execution_count": 41,
   "metadata": {},
   "outputs": [
    {
     "data": {
      "text/html": [
       "<style  type=\"text/css\" >\n",
       "    #T_1d5c245e_04ad_11eb_87ec_00e0201808a0 th {\n",
       "          text-align: left;\n",
       "    }#T_1d5c245e_04ad_11eb_87ec_00e0201808a0row0_col0,#T_1d5c245e_04ad_11eb_87ec_00e0201808a0row0_col1,#T_1d5c245e_04ad_11eb_87ec_00e0201808a0row0_col3,#T_1d5c245e_04ad_11eb_87ec_00e0201808a0row0_col4,#T_1d5c245e_04ad_11eb_87ec_00e0201808a0row0_col5,#T_1d5c245e_04ad_11eb_87ec_00e0201808a0row1_col0,#T_1d5c245e_04ad_11eb_87ec_00e0201808a0row1_col1,#T_1d5c245e_04ad_11eb_87ec_00e0201808a0row1_col2,#T_1d5c245e_04ad_11eb_87ec_00e0201808a0row1_col3,#T_1d5c245e_04ad_11eb_87ec_00e0201808a0row1_col4,#T_1d5c245e_04ad_11eb_87ec_00e0201808a0row1_col5,#T_1d5c245e_04ad_11eb_87ec_00e0201808a0row1_col6,#T_1d5c245e_04ad_11eb_87ec_00e0201808a0row1_col7,#T_1d5c245e_04ad_11eb_87ec_00e0201808a0row2_col0,#T_1d5c245e_04ad_11eb_87ec_00e0201808a0row2_col2,#T_1d5c245e_04ad_11eb_87ec_00e0201808a0row2_col3,#T_1d5c245e_04ad_11eb_87ec_00e0201808a0row2_col4,#T_1d5c245e_04ad_11eb_87ec_00e0201808a0row2_col5,#T_1d5c245e_04ad_11eb_87ec_00e0201808a0row2_col6,#T_1d5c245e_04ad_11eb_87ec_00e0201808a0row2_col7,#T_1d5c245e_04ad_11eb_87ec_00e0201808a0row3_col0,#T_1d5c245e_04ad_11eb_87ec_00e0201808a0row3_col1,#T_1d5c245e_04ad_11eb_87ec_00e0201808a0row3_col2,#T_1d5c245e_04ad_11eb_87ec_00e0201808a0row3_col3,#T_1d5c245e_04ad_11eb_87ec_00e0201808a0row3_col4,#T_1d5c245e_04ad_11eb_87ec_00e0201808a0row3_col5,#T_1d5c245e_04ad_11eb_87ec_00e0201808a0row3_col6,#T_1d5c245e_04ad_11eb_87ec_00e0201808a0row3_col7,#T_1d5c245e_04ad_11eb_87ec_00e0201808a0row4_col0,#T_1d5c245e_04ad_11eb_87ec_00e0201808a0row4_col1,#T_1d5c245e_04ad_11eb_87ec_00e0201808a0row4_col2,#T_1d5c245e_04ad_11eb_87ec_00e0201808a0row4_col3,#T_1d5c245e_04ad_11eb_87ec_00e0201808a0row4_col4,#T_1d5c245e_04ad_11eb_87ec_00e0201808a0row4_col5,#T_1d5c245e_04ad_11eb_87ec_00e0201808a0row4_col6,#T_1d5c245e_04ad_11eb_87ec_00e0201808a0row4_col7,#T_1d5c245e_04ad_11eb_87ec_00e0201808a0row5_col0,#T_1d5c245e_04ad_11eb_87ec_00e0201808a0row5_col1,#T_1d5c245e_04ad_11eb_87ec_00e0201808a0row5_col2,#T_1d5c245e_04ad_11eb_87ec_00e0201808a0row5_col3,#T_1d5c245e_04ad_11eb_87ec_00e0201808a0row5_col4,#T_1d5c245e_04ad_11eb_87ec_00e0201808a0row5_col5,#T_1d5c245e_04ad_11eb_87ec_00e0201808a0row5_col6,#T_1d5c245e_04ad_11eb_87ec_00e0201808a0row5_col7,#T_1d5c245e_04ad_11eb_87ec_00e0201808a0row6_col0,#T_1d5c245e_04ad_11eb_87ec_00e0201808a0row6_col1,#T_1d5c245e_04ad_11eb_87ec_00e0201808a0row6_col2,#T_1d5c245e_04ad_11eb_87ec_00e0201808a0row6_col3,#T_1d5c245e_04ad_11eb_87ec_00e0201808a0row6_col4,#T_1d5c245e_04ad_11eb_87ec_00e0201808a0row6_col5,#T_1d5c245e_04ad_11eb_87ec_00e0201808a0row6_col6,#T_1d5c245e_04ad_11eb_87ec_00e0201808a0row6_col7,#T_1d5c245e_04ad_11eb_87ec_00e0201808a0row7_col0,#T_1d5c245e_04ad_11eb_87ec_00e0201808a0row7_col1,#T_1d5c245e_04ad_11eb_87ec_00e0201808a0row7_col2,#T_1d5c245e_04ad_11eb_87ec_00e0201808a0row7_col3,#T_1d5c245e_04ad_11eb_87ec_00e0201808a0row7_col4,#T_1d5c245e_04ad_11eb_87ec_00e0201808a0row7_col5,#T_1d5c245e_04ad_11eb_87ec_00e0201808a0row7_col6,#T_1d5c245e_04ad_11eb_87ec_00e0201808a0row7_col7,#T_1d5c245e_04ad_11eb_87ec_00e0201808a0row8_col0,#T_1d5c245e_04ad_11eb_87ec_00e0201808a0row8_col1,#T_1d5c245e_04ad_11eb_87ec_00e0201808a0row8_col2,#T_1d5c245e_04ad_11eb_87ec_00e0201808a0row8_col3,#T_1d5c245e_04ad_11eb_87ec_00e0201808a0row8_col4,#T_1d5c245e_04ad_11eb_87ec_00e0201808a0row8_col5,#T_1d5c245e_04ad_11eb_87ec_00e0201808a0row8_col6,#T_1d5c245e_04ad_11eb_87ec_00e0201808a0row8_col7,#T_1d5c245e_04ad_11eb_87ec_00e0201808a0row9_col0,#T_1d5c245e_04ad_11eb_87ec_00e0201808a0row9_col1,#T_1d5c245e_04ad_11eb_87ec_00e0201808a0row9_col2,#T_1d5c245e_04ad_11eb_87ec_00e0201808a0row9_col3,#T_1d5c245e_04ad_11eb_87ec_00e0201808a0row9_col4,#T_1d5c245e_04ad_11eb_87ec_00e0201808a0row9_col5,#T_1d5c245e_04ad_11eb_87ec_00e0201808a0row9_col6,#T_1d5c245e_04ad_11eb_87ec_00e0201808a0row9_col7,#T_1d5c245e_04ad_11eb_87ec_00e0201808a0row10_col0,#T_1d5c245e_04ad_11eb_87ec_00e0201808a0row10_col1,#T_1d5c245e_04ad_11eb_87ec_00e0201808a0row10_col2,#T_1d5c245e_04ad_11eb_87ec_00e0201808a0row10_col3,#T_1d5c245e_04ad_11eb_87ec_00e0201808a0row10_col4,#T_1d5c245e_04ad_11eb_87ec_00e0201808a0row10_col5,#T_1d5c245e_04ad_11eb_87ec_00e0201808a0row10_col6,#T_1d5c245e_04ad_11eb_87ec_00e0201808a0row10_col7,#T_1d5c245e_04ad_11eb_87ec_00e0201808a0row11_col0,#T_1d5c245e_04ad_11eb_87ec_00e0201808a0row11_col1,#T_1d5c245e_04ad_11eb_87ec_00e0201808a0row11_col2,#T_1d5c245e_04ad_11eb_87ec_00e0201808a0row11_col3,#T_1d5c245e_04ad_11eb_87ec_00e0201808a0row11_col4,#T_1d5c245e_04ad_11eb_87ec_00e0201808a0row11_col5,#T_1d5c245e_04ad_11eb_87ec_00e0201808a0row11_col6,#T_1d5c245e_04ad_11eb_87ec_00e0201808a0row11_col7,#T_1d5c245e_04ad_11eb_87ec_00e0201808a0row12_col0,#T_1d5c245e_04ad_11eb_87ec_00e0201808a0row12_col1,#T_1d5c245e_04ad_11eb_87ec_00e0201808a0row12_col2,#T_1d5c245e_04ad_11eb_87ec_00e0201808a0row12_col3,#T_1d5c245e_04ad_11eb_87ec_00e0201808a0row12_col4,#T_1d5c245e_04ad_11eb_87ec_00e0201808a0row12_col5,#T_1d5c245e_04ad_11eb_87ec_00e0201808a0row12_col6,#T_1d5c245e_04ad_11eb_87ec_00e0201808a0row12_col7,#T_1d5c245e_04ad_11eb_87ec_00e0201808a0row13_col0,#T_1d5c245e_04ad_11eb_87ec_00e0201808a0row13_col1,#T_1d5c245e_04ad_11eb_87ec_00e0201808a0row13_col2,#T_1d5c245e_04ad_11eb_87ec_00e0201808a0row13_col3,#T_1d5c245e_04ad_11eb_87ec_00e0201808a0row13_col5,#T_1d5c245e_04ad_11eb_87ec_00e0201808a0row13_col6,#T_1d5c245e_04ad_11eb_87ec_00e0201808a0row13_col7,#T_1d5c245e_04ad_11eb_87ec_00e0201808a0row14_col0,#T_1d5c245e_04ad_11eb_87ec_00e0201808a0row14_col1,#T_1d5c245e_04ad_11eb_87ec_00e0201808a0row14_col2,#T_1d5c245e_04ad_11eb_87ec_00e0201808a0row14_col4,#T_1d5c245e_04ad_11eb_87ec_00e0201808a0row14_col6,#T_1d5c245e_04ad_11eb_87ec_00e0201808a0row14_col7{\n",
       "            text-align:  left;\n",
       "        }#T_1d5c245e_04ad_11eb_87ec_00e0201808a0row0_col2,#T_1d5c245e_04ad_11eb_87ec_00e0201808a0row0_col6,#T_1d5c245e_04ad_11eb_87ec_00e0201808a0row0_col7,#T_1d5c245e_04ad_11eb_87ec_00e0201808a0row2_col1,#T_1d5c245e_04ad_11eb_87ec_00e0201808a0row13_col4,#T_1d5c245e_04ad_11eb_87ec_00e0201808a0row14_col3,#T_1d5c245e_04ad_11eb_87ec_00e0201808a0row14_col5{\n",
       "            background-color:  yellow;\n",
       "            text-align:  left;\n",
       "        }#T_1d5c245e_04ad_11eb_87ec_00e0201808a0row0_col8,#T_1d5c245e_04ad_11eb_87ec_00e0201808a0row1_col8,#T_1d5c245e_04ad_11eb_87ec_00e0201808a0row2_col8,#T_1d5c245e_04ad_11eb_87ec_00e0201808a0row3_col8,#T_1d5c245e_04ad_11eb_87ec_00e0201808a0row4_col8,#T_1d5c245e_04ad_11eb_87ec_00e0201808a0row5_col8,#T_1d5c245e_04ad_11eb_87ec_00e0201808a0row6_col8,#T_1d5c245e_04ad_11eb_87ec_00e0201808a0row7_col8,#T_1d5c245e_04ad_11eb_87ec_00e0201808a0row8_col8,#T_1d5c245e_04ad_11eb_87ec_00e0201808a0row9_col8,#T_1d5c245e_04ad_11eb_87ec_00e0201808a0row10_col8,#T_1d5c245e_04ad_11eb_87ec_00e0201808a0row11_col8,#T_1d5c245e_04ad_11eb_87ec_00e0201808a0row12_col8,#T_1d5c245e_04ad_11eb_87ec_00e0201808a0row13_col8,#T_1d5c245e_04ad_11eb_87ec_00e0201808a0row14_col8{\n",
       "            background-color:  lightgrey;\n",
       "            text-align:  left;\n",
       "        }</style><table id=\"T_1d5c245e_04ad_11eb_87ec_00e0201808a0\" ><thead>    <tr>        <th class=\"blank level0\" ></th>        <th class=\"col_heading level0 col0\" >Model</th>        <th class=\"col_heading level0 col1\" >Accuracy</th>        <th class=\"col_heading level0 col2\" >AUC</th>        <th class=\"col_heading level0 col3\" >Recall</th>        <th class=\"col_heading level0 col4\" >Prec.</th>        <th class=\"col_heading level0 col5\" >F1</th>        <th class=\"col_heading level0 col6\" >Kappa</th>        <th class=\"col_heading level0 col7\" >MCC</th>        <th class=\"col_heading level0 col8\" >TT (Sec)</th>    </tr></thead><tbody>\n",
       "                <tr>\n",
       "                        <th id=\"T_1d5c245e_04ad_11eb_87ec_00e0201808a0level0_row0\" class=\"row_heading level0 row0\" >0</th>\n",
       "                        <td id=\"T_1d5c245e_04ad_11eb_87ec_00e0201808a0row0_col0\" class=\"data row0 col0\" >Gradient Boosting Classifier</td>\n",
       "                        <td id=\"T_1d5c245e_04ad_11eb_87ec_00e0201808a0row0_col1\" class=\"data row0 col1\" >0.6925</td>\n",
       "                        <td id=\"T_1d5c245e_04ad_11eb_87ec_00e0201808a0row0_col2\" class=\"data row0 col2\" >0.7631</td>\n",
       "                        <td id=\"T_1d5c245e_04ad_11eb_87ec_00e0201808a0row0_col3\" class=\"data row0 col3\" >0.6328</td>\n",
       "                        <td id=\"T_1d5c245e_04ad_11eb_87ec_00e0201808a0row0_col4\" class=\"data row0 col4\" >0.7643</td>\n",
       "                        <td id=\"T_1d5c245e_04ad_11eb_87ec_00e0201808a0row0_col5\" class=\"data row0 col5\" >0.6923</td>\n",
       "                        <td id=\"T_1d5c245e_04ad_11eb_87ec_00e0201808a0row0_col6\" class=\"data row0 col6\" >0.3904</td>\n",
       "                        <td id=\"T_1d5c245e_04ad_11eb_87ec_00e0201808a0row0_col7\" class=\"data row0 col7\" >0.3975</td>\n",
       "                        <td id=\"T_1d5c245e_04ad_11eb_87ec_00e0201808a0row0_col8\" class=\"data row0 col8\" >304.8568</td>\n",
       "            </tr>\n",
       "            <tr>\n",
       "                        <th id=\"T_1d5c245e_04ad_11eb_87ec_00e0201808a0level0_row1\" class=\"row_heading level0 row1\" >1</th>\n",
       "                        <td id=\"T_1d5c245e_04ad_11eb_87ec_00e0201808a0row1_col0\" class=\"data row1 col0\" >CatBoost Classifier</td>\n",
       "                        <td id=\"T_1d5c245e_04ad_11eb_87ec_00e0201808a0row1_col1\" class=\"data row1 col1\" >0.6904</td>\n",
       "                        <td id=\"T_1d5c245e_04ad_11eb_87ec_00e0201808a0row1_col2\" class=\"data row1 col2\" >0.7613</td>\n",
       "                        <td id=\"T_1d5c245e_04ad_11eb_87ec_00e0201808a0row1_col3\" class=\"data row1 col3\" >0.6497</td>\n",
       "                        <td id=\"T_1d5c245e_04ad_11eb_87ec_00e0201808a0row1_col4\" class=\"data row1 col4\" >0.7505</td>\n",
       "                        <td id=\"T_1d5c245e_04ad_11eb_87ec_00e0201808a0row1_col5\" class=\"data row1 col5\" >0.6964</td>\n",
       "                        <td id=\"T_1d5c245e_04ad_11eb_87ec_00e0201808a0row1_col6\" class=\"data row1 col6\" >0.3838</td>\n",
       "                        <td id=\"T_1d5c245e_04ad_11eb_87ec_00e0201808a0row1_col7\" class=\"data row1 col7\" >0.3880</td>\n",
       "                        <td id=\"T_1d5c245e_04ad_11eb_87ec_00e0201808a0row1_col8\" class=\"data row1 col8\" >85.4254</td>\n",
       "            </tr>\n",
       "            <tr>\n",
       "                        <th id=\"T_1d5c245e_04ad_11eb_87ec_00e0201808a0level0_row2\" class=\"row_heading level0 row2\" >2</th>\n",
       "                        <td id=\"T_1d5c245e_04ad_11eb_87ec_00e0201808a0row2_col0\" class=\"data row2 col0\" >Light Gradient Boosting Machine</td>\n",
       "                        <td id=\"T_1d5c245e_04ad_11eb_87ec_00e0201808a0row2_col1\" class=\"data row2 col1\" >0.6929</td>\n",
       "                        <td id=\"T_1d5c245e_04ad_11eb_87ec_00e0201808a0row2_col2\" class=\"data row2 col2\" >0.7612</td>\n",
       "                        <td id=\"T_1d5c245e_04ad_11eb_87ec_00e0201808a0row2_col3\" class=\"data row2 col3\" >0.6425</td>\n",
       "                        <td id=\"T_1d5c245e_04ad_11eb_87ec_00e0201808a0row2_col4\" class=\"data row2 col4\" >0.7589</td>\n",
       "                        <td id=\"T_1d5c245e_04ad_11eb_87ec_00e0201808a0row2_col5\" class=\"data row2 col5\" >0.6958</td>\n",
       "                        <td id=\"T_1d5c245e_04ad_11eb_87ec_00e0201808a0row2_col6\" class=\"data row2 col6\" >0.3901</td>\n",
       "                        <td id=\"T_1d5c245e_04ad_11eb_87ec_00e0201808a0row2_col7\" class=\"data row2 col7\" >0.3957</td>\n",
       "                        <td id=\"T_1d5c245e_04ad_11eb_87ec_00e0201808a0row2_col8\" class=\"data row2 col8\" >10.6799</td>\n",
       "            </tr>\n",
       "            <tr>\n",
       "                        <th id=\"T_1d5c245e_04ad_11eb_87ec_00e0201808a0level0_row3\" class=\"row_heading level0 row3\" >3</th>\n",
       "                        <td id=\"T_1d5c245e_04ad_11eb_87ec_00e0201808a0row3_col0\" class=\"data row3 col0\" >Linear Discriminant Analysis</td>\n",
       "                        <td id=\"T_1d5c245e_04ad_11eb_87ec_00e0201808a0row3_col1\" class=\"data row3 col1\" >0.6880</td>\n",
       "                        <td id=\"T_1d5c245e_04ad_11eb_87ec_00e0201808a0row3_col2\" class=\"data row3 col2\" >0.7570</td>\n",
       "                        <td id=\"T_1d5c245e_04ad_11eb_87ec_00e0201808a0row3_col3\" class=\"data row3 col3\" >0.6650</td>\n",
       "                        <td id=\"T_1d5c245e_04ad_11eb_87ec_00e0201808a0row3_col4\" class=\"data row3 col4\" >0.7384</td>\n",
       "                        <td id=\"T_1d5c245e_04ad_11eb_87ec_00e0201808a0row3_col5\" class=\"data row3 col5\" >0.6997</td>\n",
       "                        <td id=\"T_1d5c245e_04ad_11eb_87ec_00e0201808a0row3_col6\" class=\"data row3 col6\" >0.3768</td>\n",
       "                        <td id=\"T_1d5c245e_04ad_11eb_87ec_00e0201808a0row3_col7\" class=\"data row3 col7\" >0.3791</td>\n",
       "                        <td id=\"T_1d5c245e_04ad_11eb_87ec_00e0201808a0row3_col8\" class=\"data row3 col8\" >4.4843</td>\n",
       "            </tr>\n",
       "            <tr>\n",
       "                        <th id=\"T_1d5c245e_04ad_11eb_87ec_00e0201808a0level0_row4\" class=\"row_heading level0 row4\" >4</th>\n",
       "                        <td id=\"T_1d5c245e_04ad_11eb_87ec_00e0201808a0row4_col0\" class=\"data row4 col0\" >Ada Boost Classifier</td>\n",
       "                        <td id=\"T_1d5c245e_04ad_11eb_87ec_00e0201808a0row4_col1\" class=\"data row4 col1\" >0.6895</td>\n",
       "                        <td id=\"T_1d5c245e_04ad_11eb_87ec_00e0201808a0row4_col2\" class=\"data row4 col2\" >0.7540</td>\n",
       "                        <td id=\"T_1d5c245e_04ad_11eb_87ec_00e0201808a0row4_col3\" class=\"data row4 col3\" >0.6511</td>\n",
       "                        <td id=\"T_1d5c245e_04ad_11eb_87ec_00e0201808a0row4_col4\" class=\"data row4 col4\" >0.7484</td>\n",
       "                        <td id=\"T_1d5c245e_04ad_11eb_87ec_00e0201808a0row4_col5\" class=\"data row4 col5\" >0.6963</td>\n",
       "                        <td id=\"T_1d5c245e_04ad_11eb_87ec_00e0201808a0row4_col6\" class=\"data row4 col6\" >0.3818</td>\n",
       "                        <td id=\"T_1d5c245e_04ad_11eb_87ec_00e0201808a0row4_col7\" class=\"data row4 col7\" >0.3857</td>\n",
       "                        <td id=\"T_1d5c245e_04ad_11eb_87ec_00e0201808a0row4_col8\" class=\"data row4 col8\" >61.7180</td>\n",
       "            </tr>\n",
       "            <tr>\n",
       "                        <th id=\"T_1d5c245e_04ad_11eb_87ec_00e0201808a0level0_row5\" class=\"row_heading level0 row5\" >5</th>\n",
       "                        <td id=\"T_1d5c245e_04ad_11eb_87ec_00e0201808a0row5_col0\" class=\"data row5 col0\" >Extra Trees Classifier</td>\n",
       "                        <td id=\"T_1d5c245e_04ad_11eb_87ec_00e0201808a0row5_col1\" class=\"data row5 col1\" >0.6814</td>\n",
       "                        <td id=\"T_1d5c245e_04ad_11eb_87ec_00e0201808a0row5_col2\" class=\"data row5 col2\" >0.7480</td>\n",
       "                        <td id=\"T_1d5c245e_04ad_11eb_87ec_00e0201808a0row5_col3\" class=\"data row5 col3\" >0.6156</td>\n",
       "                        <td id=\"T_1d5c245e_04ad_11eb_87ec_00e0201808a0row5_col4\" class=\"data row5 col4\" >0.7565</td>\n",
       "                        <td id=\"T_1d5c245e_04ad_11eb_87ec_00e0201808a0row5_col5\" class=\"data row5 col5\" >0.6787</td>\n",
       "                        <td id=\"T_1d5c245e_04ad_11eb_87ec_00e0201808a0row5_col6\" class=\"data row5 col6\" >0.3693</td>\n",
       "                        <td id=\"T_1d5c245e_04ad_11eb_87ec_00e0201808a0row5_col7\" class=\"data row5 col7\" >0.3771</td>\n",
       "                        <td id=\"T_1d5c245e_04ad_11eb_87ec_00e0201808a0row5_col8\" class=\"data row5 col8\" >7.9966</td>\n",
       "            </tr>\n",
       "            <tr>\n",
       "                        <th id=\"T_1d5c245e_04ad_11eb_87ec_00e0201808a0level0_row6\" class=\"row_heading level0 row6\" >6</th>\n",
       "                        <td id=\"T_1d5c245e_04ad_11eb_87ec_00e0201808a0row6_col0\" class=\"data row6 col0\" >Extreme Gradient Boosting</td>\n",
       "                        <td id=\"T_1d5c245e_04ad_11eb_87ec_00e0201808a0row6_col1\" class=\"data row6 col1\" >0.6705</td>\n",
       "                        <td id=\"T_1d5c245e_04ad_11eb_87ec_00e0201808a0row6_col2\" class=\"data row6 col2\" >0.7372</td>\n",
       "                        <td id=\"T_1d5c245e_04ad_11eb_87ec_00e0201808a0row6_col3\" class=\"data row6 col3\" >0.6622</td>\n",
       "                        <td id=\"T_1d5c245e_04ad_11eb_87ec_00e0201808a0row6_col4\" class=\"data row6 col4\" >0.7144</td>\n",
       "                        <td id=\"T_1d5c245e_04ad_11eb_87ec_00e0201808a0row6_col5\" class=\"data row6 col5\" >0.6872</td>\n",
       "                        <td id=\"T_1d5c245e_04ad_11eb_87ec_00e0201808a0row6_col6\" class=\"data row6 col6\" >0.3401</td>\n",
       "                        <td id=\"T_1d5c245e_04ad_11eb_87ec_00e0201808a0row6_col7\" class=\"data row6 col7\" >0.3412</td>\n",
       "                        <td id=\"T_1d5c245e_04ad_11eb_87ec_00e0201808a0row6_col8\" class=\"data row6 col8\" >76.6419</td>\n",
       "            </tr>\n",
       "            <tr>\n",
       "                        <th id=\"T_1d5c245e_04ad_11eb_87ec_00e0201808a0level0_row7\" class=\"row_heading level0 row7\" >7</th>\n",
       "                        <td id=\"T_1d5c245e_04ad_11eb_87ec_00e0201808a0row7_col0\" class=\"data row7 col0\" >Logistic Regression</td>\n",
       "                        <td id=\"T_1d5c245e_04ad_11eb_87ec_00e0201808a0row7_col1\" class=\"data row7 col1\" >0.6768</td>\n",
       "                        <td id=\"T_1d5c245e_04ad_11eb_87ec_00e0201808a0row7_col2\" class=\"data row7 col2\" >0.7364</td>\n",
       "                        <td id=\"T_1d5c245e_04ad_11eb_87ec_00e0201808a0row7_col3\" class=\"data row7 col3\" >0.6101</td>\n",
       "                        <td id=\"T_1d5c245e_04ad_11eb_87ec_00e0201808a0row7_col4\" class=\"data row7 col4\" >0.7521</td>\n",
       "                        <td id=\"T_1d5c245e_04ad_11eb_87ec_00e0201808a0row7_col5\" class=\"data row7 col5\" >0.6736</td>\n",
       "                        <td id=\"T_1d5c245e_04ad_11eb_87ec_00e0201808a0row7_col6\" class=\"data row7 col6\" >0.3603</td>\n",
       "                        <td id=\"T_1d5c245e_04ad_11eb_87ec_00e0201808a0row7_col7\" class=\"data row7 col7\" >0.3682</td>\n",
       "                        <td id=\"T_1d5c245e_04ad_11eb_87ec_00e0201808a0row7_col8\" class=\"data row7 col8\" >3.1946</td>\n",
       "            </tr>\n",
       "            <tr>\n",
       "                        <th id=\"T_1d5c245e_04ad_11eb_87ec_00e0201808a0level0_row8\" class=\"row_heading level0 row8\" >8</th>\n",
       "                        <td id=\"T_1d5c245e_04ad_11eb_87ec_00e0201808a0row8_col0\" class=\"data row8 col0\" >Naive Bayes</td>\n",
       "                        <td id=\"T_1d5c245e_04ad_11eb_87ec_00e0201808a0row8_col1\" class=\"data row8 col1\" >0.6667</td>\n",
       "                        <td id=\"T_1d5c245e_04ad_11eb_87ec_00e0201808a0row8_col2\" class=\"data row8 col2\" >0.7162</td>\n",
       "                        <td id=\"T_1d5c245e_04ad_11eb_87ec_00e0201808a0row8_col3\" class=\"data row8 col3\" >0.6315</td>\n",
       "                        <td id=\"T_1d5c245e_04ad_11eb_87ec_00e0201808a0row8_col4\" class=\"data row8 col4\" >0.7236</td>\n",
       "                        <td id=\"T_1d5c245e_04ad_11eb_87ec_00e0201808a0row8_col5\" class=\"data row8 col5\" >0.6743</td>\n",
       "                        <td id=\"T_1d5c245e_04ad_11eb_87ec_00e0201808a0row8_col6\" class=\"data row8 col6\" >0.3362</td>\n",
       "                        <td id=\"T_1d5c245e_04ad_11eb_87ec_00e0201808a0row8_col7\" class=\"data row8 col7\" >0.3396</td>\n",
       "                        <td id=\"T_1d5c245e_04ad_11eb_87ec_00e0201808a0row8_col8\" class=\"data row8 col8\" >0.4514</td>\n",
       "            </tr>\n",
       "            <tr>\n",
       "                        <th id=\"T_1d5c245e_04ad_11eb_87ec_00e0201808a0level0_row9\" class=\"row_heading level0 row9\" >9</th>\n",
       "                        <td id=\"T_1d5c245e_04ad_11eb_87ec_00e0201808a0row9_col0\" class=\"data row9 col0\" >Random Forest Classifier</td>\n",
       "                        <td id=\"T_1d5c245e_04ad_11eb_87ec_00e0201808a0row9_col1\" class=\"data row9 col1\" >0.6489</td>\n",
       "                        <td id=\"T_1d5c245e_04ad_11eb_87ec_00e0201808a0row9_col2\" class=\"data row9 col2\" >0.6999</td>\n",
       "                        <td id=\"T_1d5c245e_04ad_11eb_87ec_00e0201808a0row9_col3\" class=\"data row9 col3\" >0.5942</td>\n",
       "                        <td id=\"T_1d5c245e_04ad_11eb_87ec_00e0201808a0row9_col4\" class=\"data row9 col4\" >0.7155</td>\n",
       "                        <td id=\"T_1d5c245e_04ad_11eb_87ec_00e0201808a0row9_col5\" class=\"data row9 col5\" >0.6491</td>\n",
       "                        <td id=\"T_1d5c245e_04ad_11eb_87ec_00e0201808a0row9_col6\" class=\"data row9 col6\" >0.3038</td>\n",
       "                        <td id=\"T_1d5c245e_04ad_11eb_87ec_00e0201808a0row9_col7\" class=\"data row9 col7\" >0.3091</td>\n",
       "                        <td id=\"T_1d5c245e_04ad_11eb_87ec_00e0201808a0row9_col8\" class=\"data row9 col8\" >1.6337</td>\n",
       "            </tr>\n",
       "            <tr>\n",
       "                        <th id=\"T_1d5c245e_04ad_11eb_87ec_00e0201808a0level0_row10\" class=\"row_heading level0 row10\" >10</th>\n",
       "                        <td id=\"T_1d5c245e_04ad_11eb_87ec_00e0201808a0row10_col0\" class=\"data row10 col0\" >Quadratic Discriminant Analysis</td>\n",
       "                        <td id=\"T_1d5c245e_04ad_11eb_87ec_00e0201808a0row10_col1\" class=\"data row10 col1\" >0.6198</td>\n",
       "                        <td id=\"T_1d5c245e_04ad_11eb_87ec_00e0201808a0row10_col2\" class=\"data row10 col2\" >0.6561</td>\n",
       "                        <td id=\"T_1d5c245e_04ad_11eb_87ec_00e0201808a0row10_col3\" class=\"data row10 col3\" >0.5949</td>\n",
       "                        <td id=\"T_1d5c245e_04ad_11eb_87ec_00e0201808a0row10_col4\" class=\"data row10 col4\" >0.6936</td>\n",
       "                        <td id=\"T_1d5c245e_04ad_11eb_87ec_00e0201808a0row10_col5\" class=\"data row10 col5\" >0.6084</td>\n",
       "                        <td id=\"T_1d5c245e_04ad_11eb_87ec_00e0201808a0row10_col6\" class=\"data row10 col6\" >0.2423</td>\n",
       "                        <td id=\"T_1d5c245e_04ad_11eb_87ec_00e0201808a0row10_col7\" class=\"data row10 col7\" >0.2614</td>\n",
       "                        <td id=\"T_1d5c245e_04ad_11eb_87ec_00e0201808a0row10_col8\" class=\"data row10 col8\" >2.7064</td>\n",
       "            </tr>\n",
       "            <tr>\n",
       "                        <th id=\"T_1d5c245e_04ad_11eb_87ec_00e0201808a0level0_row11\" class=\"row_heading level0 row11\" >11</th>\n",
       "                        <td id=\"T_1d5c245e_04ad_11eb_87ec_00e0201808a0row11_col0\" class=\"data row11 col0\" >Decision Tree Classifier</td>\n",
       "                        <td id=\"T_1d5c245e_04ad_11eb_87ec_00e0201808a0row11_col1\" class=\"data row11 col1\" >0.6084</td>\n",
       "                        <td id=\"T_1d5c245e_04ad_11eb_87ec_00e0201808a0row11_col2\" class=\"data row11 col2\" >0.6051</td>\n",
       "                        <td id=\"T_1d5c245e_04ad_11eb_87ec_00e0201808a0row11_col3\" class=\"data row11 col3\" >0.6399</td>\n",
       "                        <td id=\"T_1d5c245e_04ad_11eb_87ec_00e0201808a0row11_col4\" class=\"data row11 col4\" >0.6425</td>\n",
       "                        <td id=\"T_1d5c245e_04ad_11eb_87ec_00e0201808a0row11_col5\" class=\"data row11 col5\" >0.6412</td>\n",
       "                        <td id=\"T_1d5c245e_04ad_11eb_87ec_00e0201808a0row11_col6\" class=\"data row11 col6\" >0.2102</td>\n",
       "                        <td id=\"T_1d5c245e_04ad_11eb_87ec_00e0201808a0row11_col7\" class=\"data row11 col7\" >0.2103</td>\n",
       "                        <td id=\"T_1d5c245e_04ad_11eb_87ec_00e0201808a0row11_col8\" class=\"data row11 col8\" >20.1568</td>\n",
       "            </tr>\n",
       "            <tr>\n",
       "                        <th id=\"T_1d5c245e_04ad_11eb_87ec_00e0201808a0level0_row12\" class=\"row_heading level0 row12\" >12</th>\n",
       "                        <td id=\"T_1d5c245e_04ad_11eb_87ec_00e0201808a0row12_col0\" class=\"data row12 col0\" >K Neighbors Classifier</td>\n",
       "                        <td id=\"T_1d5c245e_04ad_11eb_87ec_00e0201808a0row12_col1\" class=\"data row12 col1\" >0.5461</td>\n",
       "                        <td id=\"T_1d5c245e_04ad_11eb_87ec_00e0201808a0row12_col2\" class=\"data row12 col2\" >0.5580</td>\n",
       "                        <td id=\"T_1d5c245e_04ad_11eb_87ec_00e0201808a0row12_col3\" class=\"data row12 col3\" >0.5507</td>\n",
       "                        <td id=\"T_1d5c245e_04ad_11eb_87ec_00e0201808a0row12_col4\" class=\"data row12 col4\" >0.5912</td>\n",
       "                        <td id=\"T_1d5c245e_04ad_11eb_87ec_00e0201808a0row12_col5\" class=\"data row12 col5\" >0.5702</td>\n",
       "                        <td id=\"T_1d5c245e_04ad_11eb_87ec_00e0201808a0row12_col6\" class=\"data row12 col6\" >0.0906</td>\n",
       "                        <td id=\"T_1d5c245e_04ad_11eb_87ec_00e0201808a0row12_col7\" class=\"data row12 col7\" >0.0909</td>\n",
       "                        <td id=\"T_1d5c245e_04ad_11eb_87ec_00e0201808a0row12_col8\" class=\"data row12 col8\" >6.6660</td>\n",
       "            </tr>\n",
       "            <tr>\n",
       "                        <th id=\"T_1d5c245e_04ad_11eb_87ec_00e0201808a0level0_row13\" class=\"row_heading level0 row13\" >13</th>\n",
       "                        <td id=\"T_1d5c245e_04ad_11eb_87ec_00e0201808a0row13_col0\" class=\"data row13 col0\" >SVM - Linear Kernel</td>\n",
       "                        <td id=\"T_1d5c245e_04ad_11eb_87ec_00e0201808a0row13_col1\" class=\"data row13 col1\" >0.6139</td>\n",
       "                        <td id=\"T_1d5c245e_04ad_11eb_87ec_00e0201808a0row13_col2\" class=\"data row13 col2\" >0.0000</td>\n",
       "                        <td id=\"T_1d5c245e_04ad_11eb_87ec_00e0201808a0row13_col3\" class=\"data row13 col3\" >0.5573</td>\n",
       "                        <td id=\"T_1d5c245e_04ad_11eb_87ec_00e0201808a0row13_col4\" class=\"data row13 col4\" >0.7705</td>\n",
       "                        <td id=\"T_1d5c245e_04ad_11eb_87ec_00e0201808a0row13_col5\" class=\"data row13 col5\" >0.5594</td>\n",
       "                        <td id=\"T_1d5c245e_04ad_11eb_87ec_00e0201808a0row13_col6\" class=\"data row13 col6\" >0.2336</td>\n",
       "                        <td id=\"T_1d5c245e_04ad_11eb_87ec_00e0201808a0row13_col7\" class=\"data row13 col7\" >0.2787</td>\n",
       "                        <td id=\"T_1d5c245e_04ad_11eb_87ec_00e0201808a0row13_col8\" class=\"data row13 col8\" >11.7219</td>\n",
       "            </tr>\n",
       "            <tr>\n",
       "                        <th id=\"T_1d5c245e_04ad_11eb_87ec_00e0201808a0level0_row14\" class=\"row_heading level0 row14\" >14</th>\n",
       "                        <td id=\"T_1d5c245e_04ad_11eb_87ec_00e0201808a0row14_col0\" class=\"data row14 col0\" >Ridge Classifier</td>\n",
       "                        <td id=\"T_1d5c245e_04ad_11eb_87ec_00e0201808a0row14_col1\" class=\"data row14 col1\" >0.6880</td>\n",
       "                        <td id=\"T_1d5c245e_04ad_11eb_87ec_00e0201808a0row14_col2\" class=\"data row14 col2\" >0.0000</td>\n",
       "                        <td id=\"T_1d5c245e_04ad_11eb_87ec_00e0201808a0row14_col3\" class=\"data row14 col3\" >0.6653</td>\n",
       "                        <td id=\"T_1d5c245e_04ad_11eb_87ec_00e0201808a0row14_col4\" class=\"data row14 col4\" >0.7383</td>\n",
       "                        <td id=\"T_1d5c245e_04ad_11eb_87ec_00e0201808a0row14_col5\" class=\"data row14 col5\" >0.6998</td>\n",
       "                        <td id=\"T_1d5c245e_04ad_11eb_87ec_00e0201808a0row14_col6\" class=\"data row14 col6\" >0.3768</td>\n",
       "                        <td id=\"T_1d5c245e_04ad_11eb_87ec_00e0201808a0row14_col7\" class=\"data row14 col7\" >0.3791</td>\n",
       "                        <td id=\"T_1d5c245e_04ad_11eb_87ec_00e0201808a0row14_col8\" class=\"data row14 col8\" >0.6328</td>\n",
       "            </tr>\n",
       "    </tbody></table>"
      ],
      "text/plain": [
       "<pandas.io.formats.style.Styler at 0x1ce32d2a1c8>"
      ]
     },
     "metadata": {},
     "output_type": "display_data"
    }
   ],
   "source": [
    "best_5 = compare_models(sort = 'AUC', n_select = 5)"
   ]
  },
  {
   "cell_type": "code",
   "execution_count": null,
   "metadata": {},
   "outputs": [],
   "source": []
  },
  {
   "cell_type": "code",
   "execution_count": 42,
   "metadata": {},
   "outputs": [
    {
     "data": {
      "text/html": [
       "<style  type=\"text/css\" >\n",
       "#T_6fd59f22_04b3_11eb_8396_00e0201808a0row5_col0,#T_6fd59f22_04b3_11eb_8396_00e0201808a0row5_col1,#T_6fd59f22_04b3_11eb_8396_00e0201808a0row5_col2,#T_6fd59f22_04b3_11eb_8396_00e0201808a0row5_col3,#T_6fd59f22_04b3_11eb_8396_00e0201808a0row5_col4,#T_6fd59f22_04b3_11eb_8396_00e0201808a0row5_col5,#T_6fd59f22_04b3_11eb_8396_00e0201808a0row5_col6{\n",
       "            background:  yellow;\n",
       "        }</style><table id=\"T_6fd59f22_04b3_11eb_8396_00e0201808a0\" ><thead>    <tr>        <th class=\"blank level0\" ></th>        <th class=\"col_heading level0 col0\" >Accuracy</th>        <th class=\"col_heading level0 col1\" >AUC</th>        <th class=\"col_heading level0 col2\" >Recall</th>        <th class=\"col_heading level0 col3\" >Prec.</th>        <th class=\"col_heading level0 col4\" >F1</th>        <th class=\"col_heading level0 col5\" >Kappa</th>        <th class=\"col_heading level0 col6\" >MCC</th>    </tr></thead><tbody>\n",
       "                <tr>\n",
       "                        <th id=\"T_6fd59f22_04b3_11eb_8396_00e0201808a0level0_row0\" class=\"row_heading level0 row0\" >0</th>\n",
       "                        <td id=\"T_6fd59f22_04b3_11eb_8396_00e0201808a0row0_col0\" class=\"data row0 col0\" >0.6943</td>\n",
       "                        <td id=\"T_6fd59f22_04b3_11eb_8396_00e0201808a0row0_col1\" class=\"data row0 col1\" >0.7706</td>\n",
       "                        <td id=\"T_6fd59f22_04b3_11eb_8396_00e0201808a0row0_col2\" class=\"data row0 col2\" >0.6489</td>\n",
       "                        <td id=\"T_6fd59f22_04b3_11eb_8396_00e0201808a0row0_col3\" class=\"data row0 col3\" >0.7573</td>\n",
       "                        <td id=\"T_6fd59f22_04b3_11eb_8396_00e0201808a0row0_col4\" class=\"data row0 col4\" >0.6989</td>\n",
       "                        <td id=\"T_6fd59f22_04b3_11eb_8396_00e0201808a0row0_col5\" class=\"data row0 col5\" >0.3921</td>\n",
       "                        <td id=\"T_6fd59f22_04b3_11eb_8396_00e0201808a0row0_col6\" class=\"data row0 col6\" >0.3970</td>\n",
       "            </tr>\n",
       "            <tr>\n",
       "                        <th id=\"T_6fd59f22_04b3_11eb_8396_00e0201808a0level0_row1\" class=\"row_heading level0 row1\" >1</th>\n",
       "                        <td id=\"T_6fd59f22_04b3_11eb_8396_00e0201808a0row1_col0\" class=\"data row1 col0\" >0.6855</td>\n",
       "                        <td id=\"T_6fd59f22_04b3_11eb_8396_00e0201808a0row1_col1\" class=\"data row1 col1\" >0.7542</td>\n",
       "                        <td id=\"T_6fd59f22_04b3_11eb_8396_00e0201808a0row1_col2\" class=\"data row1 col2\" >0.6268</td>\n",
       "                        <td id=\"T_6fd59f22_04b3_11eb_8396_00e0201808a0row1_col3\" class=\"data row1 col3\" >0.7563</td>\n",
       "                        <td id=\"T_6fd59f22_04b3_11eb_8396_00e0201808a0row1_col4\" class=\"data row1 col4\" >0.6855</td>\n",
       "                        <td id=\"T_6fd59f22_04b3_11eb_8396_00e0201808a0row1_col5\" class=\"data row1 col5\" >0.3764</td>\n",
       "                        <td id=\"T_6fd59f22_04b3_11eb_8396_00e0201808a0row1_col6\" class=\"data row1 col6\" >0.3831</td>\n",
       "            </tr>\n",
       "            <tr>\n",
       "                        <th id=\"T_6fd59f22_04b3_11eb_8396_00e0201808a0level0_row2\" class=\"row_heading level0 row2\" >2</th>\n",
       "                        <td id=\"T_6fd59f22_04b3_11eb_8396_00e0201808a0row2_col0\" class=\"data row2 col0\" >0.7016</td>\n",
       "                        <td id=\"T_6fd59f22_04b3_11eb_8396_00e0201808a0row2_col1\" class=\"data row2 col1\" >0.7673</td>\n",
       "                        <td id=\"T_6fd59f22_04b3_11eb_8396_00e0201808a0row2_col2\" class=\"data row2 col2\" >0.6601</td>\n",
       "                        <td id=\"T_6fd59f22_04b3_11eb_8396_00e0201808a0row2_col3\" class=\"data row2 col3\" >0.7624</td>\n",
       "                        <td id=\"T_6fd59f22_04b3_11eb_8396_00e0201808a0row2_col4\" class=\"data row2 col4\" >0.7076</td>\n",
       "                        <td id=\"T_6fd59f22_04b3_11eb_8396_00e0201808a0row2_col5\" class=\"data row2 col5\" >0.4062</td>\n",
       "                        <td id=\"T_6fd59f22_04b3_11eb_8396_00e0201808a0row2_col6\" class=\"data row2 col6\" >0.4106</td>\n",
       "            </tr>\n",
       "            <tr>\n",
       "                        <th id=\"T_6fd59f22_04b3_11eb_8396_00e0201808a0level0_row3\" class=\"row_heading level0 row3\" >3</th>\n",
       "                        <td id=\"T_6fd59f22_04b3_11eb_8396_00e0201808a0row3_col0\" class=\"data row3 col0\" >0.6941</td>\n",
       "                        <td id=\"T_6fd59f22_04b3_11eb_8396_00e0201808a0row3_col1\" class=\"data row3 col1\" >0.7606</td>\n",
       "                        <td id=\"T_6fd59f22_04b3_11eb_8396_00e0201808a0row3_col2\" class=\"data row3 col2\" >0.6433</td>\n",
       "                        <td id=\"T_6fd59f22_04b3_11eb_8396_00e0201808a0row3_col3\" class=\"data row3 col3\" >0.7603</td>\n",
       "                        <td id=\"T_6fd59f22_04b3_11eb_8396_00e0201808a0row3_col4\" class=\"data row3 col4\" >0.6969</td>\n",
       "                        <td id=\"T_6fd59f22_04b3_11eb_8396_00e0201808a0row3_col5\" class=\"data row3 col5\" >0.3924</td>\n",
       "                        <td id=\"T_6fd59f22_04b3_11eb_8396_00e0201808a0row3_col6\" class=\"data row3 col6\" >0.3980</td>\n",
       "            </tr>\n",
       "            <tr>\n",
       "                        <th id=\"T_6fd59f22_04b3_11eb_8396_00e0201808a0level0_row4\" class=\"row_heading level0 row4\" >4</th>\n",
       "                        <td id=\"T_6fd59f22_04b3_11eb_8396_00e0201808a0row4_col0\" class=\"data row4 col0\" >0.6945</td>\n",
       "                        <td id=\"T_6fd59f22_04b3_11eb_8396_00e0201808a0row4_col1\" class=\"data row4 col1\" >0.7709</td>\n",
       "                        <td id=\"T_6fd59f22_04b3_11eb_8396_00e0201808a0row4_col2\" class=\"data row4 col2\" >0.6551</td>\n",
       "                        <td id=\"T_6fd59f22_04b3_11eb_8396_00e0201808a0row4_col3\" class=\"data row4 col3\" >0.7540</td>\n",
       "                        <td id=\"T_6fd59f22_04b3_11eb_8396_00e0201808a0row4_col4\" class=\"data row4 col4\" >0.7011</td>\n",
       "                        <td id=\"T_6fd59f22_04b3_11eb_8396_00e0201808a0row4_col5\" class=\"data row4 col5\" >0.3919</td>\n",
       "                        <td id=\"T_6fd59f22_04b3_11eb_8396_00e0201808a0row4_col6\" class=\"data row4 col6\" >0.3960</td>\n",
       "            </tr>\n",
       "            <tr>\n",
       "                        <th id=\"T_6fd59f22_04b3_11eb_8396_00e0201808a0level0_row5\" class=\"row_heading level0 row5\" >Mean</th>\n",
       "                        <td id=\"T_6fd59f22_04b3_11eb_8396_00e0201808a0row5_col0\" class=\"data row5 col0\" >0.6940</td>\n",
       "                        <td id=\"T_6fd59f22_04b3_11eb_8396_00e0201808a0row5_col1\" class=\"data row5 col1\" >0.7647</td>\n",
       "                        <td id=\"T_6fd59f22_04b3_11eb_8396_00e0201808a0row5_col2\" class=\"data row5 col2\" >0.6468</td>\n",
       "                        <td id=\"T_6fd59f22_04b3_11eb_8396_00e0201808a0row5_col3\" class=\"data row5 col3\" >0.7580</td>\n",
       "                        <td id=\"T_6fd59f22_04b3_11eb_8396_00e0201808a0row5_col4\" class=\"data row5 col4\" >0.6980</td>\n",
       "                        <td id=\"T_6fd59f22_04b3_11eb_8396_00e0201808a0row5_col5\" class=\"data row5 col5\" >0.3918</td>\n",
       "                        <td id=\"T_6fd59f22_04b3_11eb_8396_00e0201808a0row5_col6\" class=\"data row5 col6\" >0.3969</td>\n",
       "            </tr>\n",
       "            <tr>\n",
       "                        <th id=\"T_6fd59f22_04b3_11eb_8396_00e0201808a0level0_row6\" class=\"row_heading level0 row6\" >SD</th>\n",
       "                        <td id=\"T_6fd59f22_04b3_11eb_8396_00e0201808a0row6_col0\" class=\"data row6 col0\" >0.0051</td>\n",
       "                        <td id=\"T_6fd59f22_04b3_11eb_8396_00e0201808a0row6_col1\" class=\"data row6 col1\" >0.0064</td>\n",
       "                        <td id=\"T_6fd59f22_04b3_11eb_8396_00e0201808a0row6_col2\" class=\"data row6 col2\" >0.0115</td>\n",
       "                        <td id=\"T_6fd59f22_04b3_11eb_8396_00e0201808a0row6_col3\" class=\"data row6 col3\" >0.0030</td>\n",
       "                        <td id=\"T_6fd59f22_04b3_11eb_8396_00e0201808a0row6_col4\" class=\"data row6 col4\" >0.0072</td>\n",
       "                        <td id=\"T_6fd59f22_04b3_11eb_8396_00e0201808a0row6_col5\" class=\"data row6 col5\" >0.0094</td>\n",
       "                        <td id=\"T_6fd59f22_04b3_11eb_8396_00e0201808a0row6_col6\" class=\"data row6 col6\" >0.0087</td>\n",
       "            </tr>\n",
       "    </tbody></table>"
      ],
      "text/plain": [
       "<pandas.io.formats.style.Styler at 0x1ce01714e08>"
      ]
     },
     "metadata": {},
     "output_type": "display_data"
    }
   ],
   "source": [
    "blended = blend_models(estimator_list = best_5, fold = 5, method = 'soft')"
   ]
  },
  {
   "cell_type": "code",
   "execution_count": 43,
   "metadata": {},
   "outputs": [
    {
     "data": {
      "text/html": [
       "<div>\n",
       "<style scoped>\n",
       "    .dataframe tbody tr th:only-of-type {\n",
       "        vertical-align: middle;\n",
       "    }\n",
       "\n",
       "    .dataframe tbody tr th {\n",
       "        vertical-align: top;\n",
       "    }\n",
       "\n",
       "    .dataframe thead th {\n",
       "        text-align: right;\n",
       "    }\n",
       "</style>\n",
       "<table border=\"1\" class=\"dataframe\">\n",
       "  <thead>\n",
       "    <tr style=\"text-align: right;\">\n",
       "      <th></th>\n",
       "      <th>Model</th>\n",
       "      <th>Accuracy</th>\n",
       "      <th>AUC</th>\n",
       "      <th>Recall</th>\n",
       "      <th>Prec.</th>\n",
       "      <th>F1</th>\n",
       "      <th>Kappa</th>\n",
       "      <th>MCC</th>\n",
       "    </tr>\n",
       "  </thead>\n",
       "  <tbody>\n",
       "    <tr>\n",
       "      <th>0</th>\n",
       "      <td>Voting Classifier</td>\n",
       "      <td>0.6955</td>\n",
       "      <td>0.768</td>\n",
       "      <td>0.66</td>\n",
       "      <td>0.7527</td>\n",
       "      <td>0.7033</td>\n",
       "      <td>0.3933</td>\n",
       "      <td>0.3968</td>\n",
       "    </tr>\n",
       "  </tbody>\n",
       "</table>\n",
       "</div>"
      ],
      "text/plain": [
       "               Model  Accuracy    AUC  Recall   Prec.      F1   Kappa     MCC\n",
       "0  Voting Classifier    0.6955  0.768    0.66  0.7527  0.7033  0.3933  0.3968"
      ]
     },
     "metadata": {},
     "output_type": "display_data"
    }
   ],
   "source": [
    "pred_holdout = predict_model(blended)"
   ]
  },
  {
   "cell_type": "code",
   "execution_count": 44,
   "metadata": {},
   "outputs": [],
   "source": [
    "final_model = finalize_model(blended)"
   ]
  },
  {
   "cell_type": "code",
   "execution_count": 45,
   "metadata": {},
   "outputs": [],
   "source": [
    "predictions = predict_model(final_model, data = test)"
   ]
  },
  {
   "cell_type": "markdown",
   "metadata": {},
   "source": [
    "# 4. 예측"
   ]
  },
  {
   "cell_type": "code",
   "execution_count": 46,
   "metadata": {},
   "outputs": [],
   "source": [
    "submission['voted'] = predictions['Score']"
   ]
  },
  {
   "cell_type": "markdown",
   "metadata": {},
   "source": [
    "# 5. 제출"
   ]
  },
  {
   "cell_type": "code",
   "execution_count": 47,
   "metadata": {},
   "outputs": [],
   "source": [
    "submission.to_csv('output/20201002-1-all.csv')"
   ]
  },
  {
   "cell_type": "code",
   "execution_count": null,
   "metadata": {},
   "outputs": [],
   "source": []
  }
 ],
 "metadata": {
  "kernelspec": {
   "display_name": "Python 3",
   "language": "python",
   "name": "python3"
  },
  "language_info": {
   "codemirror_mode": {
    "name": "ipython",
    "version": 3
   },
   "file_extension": ".py",
   "mimetype": "text/x-python",
   "name": "python",
   "nbconvert_exporter": "python",
   "pygments_lexer": "ipython3",
   "version": "3.7.6"
  }
 },
 "nbformat": 4,
 "nbformat_minor": 4
}
