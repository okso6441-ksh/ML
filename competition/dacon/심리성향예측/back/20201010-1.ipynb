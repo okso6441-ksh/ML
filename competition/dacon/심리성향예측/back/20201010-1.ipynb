{
 "cells": [
  {
   "cell_type": "code",
   "execution_count": 1,
   "metadata": {},
   "outputs": [],
   "source": [
    "import numpy as np\n",
    "import pandas as pd\n",
    "import matplotlib.pyplot as plt\n",
    "import seaborn as sns\n",
    "import warnings\n",
    "warnings.filterwarnings('ignore')\n",
    "%matplotlib inline\n",
    "\n",
    "from IPython.core.interactiveshell import InteractiveShell\n",
    "InteractiveShell.ast_node_interactivity = \"all\"\n",
    "\n",
    "from sklearn.preprocessing import PolynomialFeatures\n",
    "\n",
    "from sklearn.model_selection import train_test_split\n",
    "import lightgbm as lgbm\n",
    "from sklearn.metrics import confusion_matrix, accuracy_score\n",
    "from pycaret.classification import *"
   ]
  },
  {
   "cell_type": "code",
   "execution_count": 2,
   "metadata": {},
   "outputs": [],
   "source": [
    "seed = 42\n",
    "np.random.seed(seed)\n",
    "set_config('seed', seed)"
   ]
  },
  {
   "cell_type": "code",
   "execution_count": null,
   "metadata": {},
   "outputs": [],
   "source": []
  },
  {
   "cell_type": "markdown",
   "metadata": {},
   "source": [
    "# 1. 데이터 로드"
   ]
  },
  {
   "cell_type": "code",
   "execution_count": 3,
   "metadata": {},
   "outputs": [],
   "source": [
    "train=pd.read_csv('input/train.csv', index_col=0) #인덱스 col=0도 check!\n",
    "test=pd.read_csv('input/test_x.csv', index_col=0)\n",
    "submission=pd.read_csv('input/sample_submission.csv', index_col=0)  "
   ]
  },
  {
   "cell_type": "code",
   "execution_count": null,
   "metadata": {},
   "outputs": [],
   "source": [
    "train.shape, test.shape, submission.shape"
   ]
  },
  {
   "cell_type": "code",
   "execution_count": null,
   "metadata": {},
   "outputs": [],
   "source": []
  },
  {
   "cell_type": "markdown",
   "metadata": {},
   "source": [
    "# 2. EDA & 전처리"
   ]
  },
  {
   "cell_type": "code",
   "execution_count": null,
   "metadata": {},
   "outputs": [],
   "source": [
    "df = pd.concat([train, test])\n",
    "df.shape"
   ]
  },
  {
   "cell_type": "code",
   "execution_count": null,
   "metadata": {},
   "outputs": [],
   "source": [
    "train.info"
   ]
  },
  {
   "cell_type": "markdown",
   "metadata": {},
   "source": [
    "## Missing Value"
   ]
  },
  {
   "cell_type": "code",
   "execution_count": null,
   "metadata": {},
   "outputs": [],
   "source": [
    "train.isnull().sum().sum()\n",
    "test.isnull().sum().sum()"
   ]
  },
  {
   "cell_type": "code",
   "execution_count": null,
   "metadata": {},
   "outputs": [],
   "source": []
  },
  {
   "cell_type": "markdown",
   "metadata": {},
   "source": [
    "## 컬럼 분류"
   ]
  },
  {
   "cell_type": "code",
   "execution_count": null,
   "metadata": {},
   "outputs": [],
   "source": [
    "data = []\n",
    "\n",
    "for f in train.columns:\n",
    "    dtl = ''\n",
    "    if f == 'voted':\n",
    "        gubun = 'target'\n",
    "    elif 'Q' in f:\n",
    "        dtl = f[1]\n",
    "        if 'A' in f:\n",
    "            gubun = 'Q_A'\n",
    "        if 'E' in f:\n",
    "            gubun = 'Q_E'\n",
    "    elif 'tp' in f:           \n",
    "        gubun = 'tp'            \n",
    "    elif 'wf' in f:           \n",
    "        gubun = 'wf'\n",
    "    elif 'wr' in f:           \n",
    "        gubun = 'wr'    \n",
    "    else:\n",
    "        gubun = 'cat'\n",
    "        \n",
    "    f_dict = {\n",
    "        'col':f,\n",
    "        'gbn':gubun,\n",
    "        'dtl':dtl\n",
    "    }\n",
    "            \n",
    "    data.append(f_dict)\n",
    "    \n",
    "meta = pd.DataFrame(data, columns =['col', 'gbn', 'dtl'])\n",
    "meta.set_index('col', inplace=True)\n",
    "meta"
   ]
  },
  {
   "cell_type": "markdown",
   "metadata": {},
   "source": [
    "## CovariateShift"
   ]
  },
  {
   "cell_type": "code",
   "execution_count": 4,
   "metadata": {},
   "outputs": [],
   "source": [
    "train['race']=pd.factorize(train['race'])[0]\n",
    "test['race']=pd.factorize(test['race'])[0]\n",
    "\n",
    "train = pd.get_dummies(train, columns=['race'])\n",
    "test = pd.get_dummies(test, columns=['race'])\n",
    "\n",
    "train.drop(['race_1', 'race_2', 'race_3','race_4', 'race_5', 'race_6'], axis=1, inplace=True)\n",
    "test.drop(['race_1', 'race_2', 'race_3','race_4', 'race_5', 'race_6'], axis=1, inplace=True)\n",
    "\n",
    "\n",
    "train.drop('religion', axis=1, inplace=True)\n",
    "test.drop('religion', axis=1, inplace=True)"
   ]
  },
  {
   "cell_type": "code",
   "execution_count": null,
   "metadata": {},
   "outputs": [],
   "source": []
  },
  {
   "cell_type": "code",
   "execution_count": null,
   "metadata": {},
   "outputs": [],
   "source": []
  },
  {
   "cell_type": "markdown",
   "metadata": {},
   "source": [
    "### Q_A"
   ]
  },
  {
   "cell_type": "code",
   "execution_count": null,
   "metadata": {},
   "outputs": [],
   "source": [
    "Q_A = meta[meta.gbn=='Q_A'].index\n",
    "\n",
    "train[Q_A].describe()\n",
    "train[Q_A].head(3)"
   ]
  },
  {
   "cell_type": "markdown",
   "metadata": {},
   "source": [
    "### Q_A 1/5 count"
   ]
  },
  {
   "cell_type": "code",
   "execution_count": null,
   "metadata": {},
   "outputs": [],
   "source": [
    "# Q_A: 1~5 1/5 극단값 선택한 count 추출\n",
    "train['Q_A15'] = 0\n",
    "train['Q_A3'] = 0\n",
    "\n",
    "test['Q_A15'] = 0\n",
    "test['Q_A3'] = 0"
   ]
  },
  {
   "cell_type": "code",
   "execution_count": null,
   "metadata": {},
   "outputs": [],
   "source": [
    "%%time\n",
    "for f in Q_A:\n",
    "    for i, v in enumerate(train[f]):\n",
    "        if v == 1:\n",
    "            train.loc[i, 'Q_A15'] = train.loc[i, 'Q_A15']+1\n",
    "        elif v == 3:\n",
    "            train.loc[i, 'Q_A3'] = train.loc[i, 'Q_A3']+1\n",
    "        elif v == 5:\n",
    "            train.loc[i, 'Q_A15'] = train.loc[i, 'Q_A15']+1            "
   ]
  },
  {
   "cell_type": "code",
   "execution_count": null,
   "metadata": {},
   "outputs": [],
   "source": [
    "%%time\n",
    "for f in Q_A:\n",
    "    for i, v in enumerate(test[f]):\n",
    "        if v == 1:\n",
    "            test.loc[i, 'Q_A15'] = test.loc[i, 'Q_A15']+1\n",
    "        elif v == 3:\n",
    "            test.loc[i, 'Q_A3'] = test.loc[i, 'Q_A3']+1            \n",
    "        elif v == 5:\n",
    "            test.loc[i, 'Q_A15'] = test.loc[i, 'Q_A15']+1                        "
   ]
  },
  {
   "cell_type": "code",
   "execution_count": null,
   "metadata": {},
   "outputs": [],
   "source": []
  },
  {
   "cell_type": "markdown",
   "metadata": {},
   "source": [
    "### Q_E"
   ]
  },
  {
   "cell_type": "code",
   "execution_count": null,
   "metadata": {},
   "outputs": [],
   "source": [
    "Q_E = meta[meta.gbn == 'Q_E'].index\n",
    "\n",
    "train[Q_E].describe()\n",
    "train[Q_E].head()"
   ]
  },
  {
   "cell_type": "code",
   "execution_count": null,
   "metadata": {},
   "outputs": [],
   "source": []
  },
  {
   "cell_type": "code",
   "execution_count": null,
   "metadata": {},
   "outputs": [],
   "source": []
  },
  {
   "cell_type": "markdown",
   "metadata": {},
   "source": [
    "### tp"
   ]
  },
  {
   "cell_type": "code",
   "execution_count": null,
   "metadata": {},
   "outputs": [],
   "source": [
    "# 0~7 \n",
    "tp = meta[meta.gbn=='tp'].index\n",
    "\n",
    "train[tp].describe()\n",
    "train[tp].head(3)"
   ]
  },
  {
   "cell_type": "code",
   "execution_count": null,
   "metadata": {},
   "outputs": [],
   "source": [
    "# tp: 1,7 극단값 선택한 count 추출, 4 중간값 선택 count \n",
    "train['tp17'] = 0\n",
    "train['tp4'] = 0\n",
    "\n",
    "test['tp17'] = 0\n",
    "test['tp4'] = 0"
   ]
  },
  {
   "cell_type": "code",
   "execution_count": null,
   "metadata": {},
   "outputs": [],
   "source": [
    "%%time\n",
    "for f in tp:\n",
    "    for i, v in enumerate(train[f]):\n",
    "        if v == 1:\n",
    "            train.loc[i, 'tp17'] = train.loc[i, 'tp17']+1\n",
    "        elif v == 7:\n",
    "            train.loc[i, 'tp17'] = train.loc[i, 'tp17']+1\n",
    "        elif v == 4:\n",
    "            train.loc[i, 'tp4'] = train.loc[i, 'tp4']+1            "
   ]
  },
  {
   "cell_type": "code",
   "execution_count": null,
   "metadata": {},
   "outputs": [],
   "source": [
    "%%time\n",
    "for f in tp:\n",
    "    for i, v in enumerate(test[f]):\n",
    "        if v == 1:\n",
    "            test.loc[i, 'tp17'] = test.loc[i, 'tp17']+1\n",
    "        elif v == 7:\n",
    "            test.loc[i, 'tp17'] = test.loc[i, 'tp17']+1\n",
    "        elif v == 4:\n",
    "            test.loc[i, 'tp4'] = test.loc[i, 'tp4']+1            "
   ]
  },
  {
   "cell_type": "markdown",
   "metadata": {},
   "source": [
    "#### 극단값 중간값"
   ]
  },
  {
   "cell_type": "code",
   "execution_count": null,
   "metadata": {},
   "outputs": [],
   "source": [
    "train['Q_A15tp17'] = train['Q_A15'] + train['tp17']\n",
    "train['Q_A3tp4'] = train['Q_A3'] + train['tp4']"
   ]
  },
  {
   "cell_type": "code",
   "execution_count": null,
   "metadata": {},
   "outputs": [],
   "source": [
    "test['Q_A15tp17'] = test['Q_A15'] + test['tp17']\n",
    "test['Q_A3tp4'] = test['Q_A3'] + test['tp4']"
   ]
  },
  {
   "cell_type": "code",
   "execution_count": null,
   "metadata": {},
   "outputs": [],
   "source": [
    "# 0/1\n",
    "wf = meta[meta.gbn=='wf'].index\n",
    "train[wf].describe()\n",
    "train[wf].head(3)"
   ]
  },
  {
   "cell_type": "code",
   "execution_count": null,
   "metadata": {},
   "outputs": [],
   "source": [
    "# 0/1\n",
    "wr = meta[meta.gbn=='wr'].index\n",
    "train[wr].describe()\n",
    "train[wr].head(3)"
   ]
  },
  {
   "cell_type": "code",
   "execution_count": null,
   "metadata": {},
   "outputs": [],
   "source": []
  },
  {
   "cell_type": "markdown",
   "metadata": {},
   "source": [
    "## Target Encoding"
   ]
  },
  {
   "cell_type": "markdown",
   "metadata": {},
   "source": [
    "### age_group"
   ]
  },
  {
   "cell_type": "code",
   "execution_count": 5,
   "metadata": {},
   "outputs": [],
   "source": [
    "train['age_group_int'] = train['age_group'].str.replace('s','').astype('int')\n",
    "test['age_group_int'] = test['age_group'].str.replace('s','').astype('int')"
   ]
  },
  {
   "cell_type": "code",
   "execution_count": 6,
   "metadata": {},
   "outputs": [],
   "source": [
    "train['age_group_n_rows'] = train['age_group_int'].map(train.groupby('age_group_int').size())\n",
    "test['age_group_n_rows'] = test['age_group_int'].map(test.groupby('age_group_int').size())"
   ]
  },
  {
   "cell_type": "code",
   "execution_count": 7,
   "metadata": {},
   "outputs": [],
   "source": [
    "age_group_mean = train.groupby('age_group_int')['voted'].mean()\n",
    "train['age_group_mean'] = train['age_group_int'].map(age_group_mean)\n",
    "test['age_group_mean'] = test['age_group_int'].map(age_group_mean)"
   ]
  },
  {
   "cell_type": "code",
   "execution_count": 8,
   "metadata": {},
   "outputs": [],
   "source": [
    "# train['voted'].mean() = 1.5468242115435298\n",
    "def smoothing(n_rows, target_mean): \n",
    "    return (target_mean*n_rows + 1.5468242115435298*0.8) / (n_rows + 0.8)"
   ]
  },
  {
   "cell_type": "code",
   "execution_count": 9,
   "metadata": {},
   "outputs": [],
   "source": [
    "train['age_group_mean_smoothing'] = train.apply(lambda x:smoothing(x['age_group_n_rows'], x['age_group_mean']), axis=1)\n",
    "test['age_group_mean_smoothing'] = test.apply(lambda x:smoothing(x['age_group_n_rows'], x['age_group_mean']), axis=1)"
   ]
  },
  {
   "cell_type": "code",
   "execution_count": 10,
   "metadata": {},
   "outputs": [],
   "source": [
    "train.drop(['age_group_int','age_group_mean', 'age_group_n_rows'], axis=1, inplace=True)\n",
    "test.drop(['age_group_int','age_group_mean', 'age_group_n_rows'], axis=1, inplace=True)"
   ]
  },
  {
   "cell_type": "code",
   "execution_count": null,
   "metadata": {},
   "outputs": [],
   "source": []
  },
  {
   "cell_type": "markdown",
   "metadata": {},
   "source": [
    "### outlier"
   ]
  },
  {
   "cell_type": "code",
   "execution_count": 11,
   "metadata": {},
   "outputs": [],
   "source": [
    "train = train[train.familysize < 25]"
   ]
  },
  {
   "cell_type": "code",
   "execution_count": null,
   "metadata": {},
   "outputs": [],
   "source": []
  },
  {
   "cell_type": "code",
   "execution_count": 12,
   "metadata": {},
   "outputs": [],
   "source": [
    "# age edu merried\n",
    "train['Priority'] = 0\n",
    "test['Priority'] = 0\n",
    "train.loc[(train.age_group.isin(['+70s','60s'])), 'Priority'] = 7\n",
    "train.loc[(train.age_group.isin(['50s','40s']) & (train.education==4) & (train.married==2)), 'Priority'] = 6\n",
    "train.loc[(train.age_group.isin(['30s','20s']) & (train.education==3) & (train.married==3)), 'Priority'] = 5\n",
    "train.loc[((train.education==0)), 'Priority'] = 4\n",
    "train.loc[((train.education==2) & (train.married.isin([1,0]))), 'Priority'] = 3\n",
    "train.loc[(train.age_group.isin(['10s']) & (train.education==1)), 'Priority'] = 1"
   ]
  },
  {
   "cell_type": "code",
   "execution_count": null,
   "metadata": {},
   "outputs": [],
   "source": []
  },
  {
   "cell_type": "code",
   "execution_count": null,
   "metadata": {},
   "outputs": [],
   "source": [
    "train.shape, train.columns"
   ]
  },
  {
   "cell_type": "code",
   "execution_count": null,
   "metadata": {},
   "outputs": [],
   "source": [
    "test.shape, test.columns"
   ]
  },
  {
   "cell_type": "markdown",
   "metadata": {},
   "source": [
    "# 3. 모델 학습"
   ]
  },
  {
   "cell_type": "code",
   "execution_count": null,
   "metadata": {},
   "outputs": [],
   "source": [
    "import gc\n",
    "gc.collect()"
   ]
  },
  {
   "cell_type": "code",
   "execution_count": null,
   "metadata": {},
   "outputs": [],
   "source": [
    "train.columns"
   ]
  },
  {
   "cell_type": "code",
   "execution_count": 13,
   "metadata": {},
   "outputs": [],
   "source": [
    "#col_cat = meta[(meta.gbn == 'Q_A') | (meta.gbn == 'cat')].index.values.tolist()\n",
    "col_cat = ['QaA',\n",
    " 'QbA',\n",
    " 'QcA',\n",
    " 'QdA',\n",
    " 'QeA',\n",
    " 'QfA',\n",
    " 'QgA',\n",
    " 'QhA',\n",
    " 'QiA',\n",
    " 'QjA',\n",
    " 'QkA',\n",
    " 'QlA',\n",
    " 'QmA',\n",
    " 'QnA',\n",
    " 'QoA',\n",
    " 'QpA',\n",
    " 'QqA',\n",
    " 'QrA',\n",
    " 'QsA',\n",
    " 'QtA',\n",
    " 'age_group',\n",
    " 'education',\n",
    " 'engnat',\n",
    " 'familysize',\n",
    " 'gender',\n",
    " 'hand',\n",
    " 'married',\n",
    "# 'race_0',\n",
    " #'religion',\n",
    " 'urban'\n",
    ",'Priority'\n",
    "          ]"
   ]
  },
  {
   "cell_type": "code",
   "execution_count": 14,
   "metadata": {
    "scrolled": false
   },
   "outputs": [
    {
     "name": "stdout",
     "output_type": "stream",
     "text": [
      "Setup Succesfully Completed!\n"
     ]
    },
    {
     "data": {
      "text/html": [
       "<style  type=\"text/css\" >\n",
       "</style><table id=\"T_0de6d334_09cd_11eb_a5e3_00e0201808a0\" ><thead>    <tr>        <th class=\"blank level0\" ></th>        <th class=\"col_heading level0 col0\" >Description</th>        <th class=\"col_heading level0 col1\" >Value</th>    </tr></thead><tbody>\n",
       "                <tr>\n",
       "                        <th id=\"T_0de6d334_09cd_11eb_a5e3_00e0201808a0level0_row0\" class=\"row_heading level0 row0\" >0</th>\n",
       "                        <td id=\"T_0de6d334_09cd_11eb_a5e3_00e0201808a0row0_col0\" class=\"data row0 col0\" >session_id</td>\n",
       "                        <td id=\"T_0de6d334_09cd_11eb_a5e3_00e0201808a0row0_col1\" class=\"data row0 col1\" >42</td>\n",
       "            </tr>\n",
       "            <tr>\n",
       "                        <th id=\"T_0de6d334_09cd_11eb_a5e3_00e0201808a0level0_row1\" class=\"row_heading level0 row1\" >1</th>\n",
       "                        <td id=\"T_0de6d334_09cd_11eb_a5e3_00e0201808a0row1_col0\" class=\"data row1 col0\" >Target Type</td>\n",
       "                        <td id=\"T_0de6d334_09cd_11eb_a5e3_00e0201808a0row1_col1\" class=\"data row1 col1\" >Binary</td>\n",
       "            </tr>\n",
       "            <tr>\n",
       "                        <th id=\"T_0de6d334_09cd_11eb_a5e3_00e0201808a0level0_row2\" class=\"row_heading level0 row2\" >2</th>\n",
       "                        <td id=\"T_0de6d334_09cd_11eb_a5e3_00e0201808a0row2_col0\" class=\"data row2 col0\" >Label Encoded</td>\n",
       "                        <td id=\"T_0de6d334_09cd_11eb_a5e3_00e0201808a0row2_col1\" class=\"data row2 col1\" >1: 0, 2: 1</td>\n",
       "            </tr>\n",
       "            <tr>\n",
       "                        <th id=\"T_0de6d334_09cd_11eb_a5e3_00e0201808a0level0_row3\" class=\"row_heading level0 row3\" >3</th>\n",
       "                        <td id=\"T_0de6d334_09cd_11eb_a5e3_00e0201808a0row3_col0\" class=\"data row3 col0\" >Original Data</td>\n",
       "                        <td id=\"T_0de6d334_09cd_11eb_a5e3_00e0201808a0row3_col1\" class=\"data row3 col1\" >(45524, 78)</td>\n",
       "            </tr>\n",
       "            <tr>\n",
       "                        <th id=\"T_0de6d334_09cd_11eb_a5e3_00e0201808a0level0_row4\" class=\"row_heading level0 row4\" >4</th>\n",
       "                        <td id=\"T_0de6d334_09cd_11eb_a5e3_00e0201808a0row4_col0\" class=\"data row4 col0\" >Missing Values </td>\n",
       "                        <td id=\"T_0de6d334_09cd_11eb_a5e3_00e0201808a0row4_col1\" class=\"data row4 col1\" >False</td>\n",
       "            </tr>\n",
       "            <tr>\n",
       "                        <th id=\"T_0de6d334_09cd_11eb_a5e3_00e0201808a0level0_row5\" class=\"row_heading level0 row5\" >5</th>\n",
       "                        <td id=\"T_0de6d334_09cd_11eb_a5e3_00e0201808a0row5_col0\" class=\"data row5 col0\" >Numeric Features </td>\n",
       "                        <td id=\"T_0de6d334_09cd_11eb_a5e3_00e0201808a0row5_col1\" class=\"data row5 col1\" >22</td>\n",
       "            </tr>\n",
       "            <tr>\n",
       "                        <th id=\"T_0de6d334_09cd_11eb_a5e3_00e0201808a0level0_row6\" class=\"row_heading level0 row6\" >6</th>\n",
       "                        <td id=\"T_0de6d334_09cd_11eb_a5e3_00e0201808a0row6_col0\" class=\"data row6 col0\" >Categorical Features </td>\n",
       "                        <td id=\"T_0de6d334_09cd_11eb_a5e3_00e0201808a0row6_col1\" class=\"data row6 col1\" >55</td>\n",
       "            </tr>\n",
       "            <tr>\n",
       "                        <th id=\"T_0de6d334_09cd_11eb_a5e3_00e0201808a0level0_row7\" class=\"row_heading level0 row7\" >7</th>\n",
       "                        <td id=\"T_0de6d334_09cd_11eb_a5e3_00e0201808a0row7_col0\" class=\"data row7 col0\" >Ordinal Features </td>\n",
       "                        <td id=\"T_0de6d334_09cd_11eb_a5e3_00e0201808a0row7_col1\" class=\"data row7 col1\" >False</td>\n",
       "            </tr>\n",
       "            <tr>\n",
       "                        <th id=\"T_0de6d334_09cd_11eb_a5e3_00e0201808a0level0_row8\" class=\"row_heading level0 row8\" >8</th>\n",
       "                        <td id=\"T_0de6d334_09cd_11eb_a5e3_00e0201808a0row8_col0\" class=\"data row8 col0\" >High Cardinality Features </td>\n",
       "                        <td id=\"T_0de6d334_09cd_11eb_a5e3_00e0201808a0row8_col1\" class=\"data row8 col1\" >False</td>\n",
       "            </tr>\n",
       "            <tr>\n",
       "                        <th id=\"T_0de6d334_09cd_11eb_a5e3_00e0201808a0level0_row9\" class=\"row_heading level0 row9\" >9</th>\n",
       "                        <td id=\"T_0de6d334_09cd_11eb_a5e3_00e0201808a0row9_col0\" class=\"data row9 col0\" >High Cardinality Method </td>\n",
       "                        <td id=\"T_0de6d334_09cd_11eb_a5e3_00e0201808a0row9_col1\" class=\"data row9 col1\" >None</td>\n",
       "            </tr>\n",
       "            <tr>\n",
       "                        <th id=\"T_0de6d334_09cd_11eb_a5e3_00e0201808a0level0_row10\" class=\"row_heading level0 row10\" >10</th>\n",
       "                        <td id=\"T_0de6d334_09cd_11eb_a5e3_00e0201808a0row10_col0\" class=\"data row10 col0\" >Sampled Data</td>\n",
       "                        <td id=\"T_0de6d334_09cd_11eb_a5e3_00e0201808a0row10_col1\" class=\"data row10 col1\" >(31866, 78)</td>\n",
       "            </tr>\n",
       "            <tr>\n",
       "                        <th id=\"T_0de6d334_09cd_11eb_a5e3_00e0201808a0level0_row11\" class=\"row_heading level0 row11\" >11</th>\n",
       "                        <td id=\"T_0de6d334_09cd_11eb_a5e3_00e0201808a0row11_col0\" class=\"data row11 col0\" >Transformed Train Set</td>\n",
       "                        <td id=\"T_0de6d334_09cd_11eb_a5e3_00e0201808a0row11_col1\" class=\"data row11 col1\" >(22306, 291)</td>\n",
       "            </tr>\n",
       "            <tr>\n",
       "                        <th id=\"T_0de6d334_09cd_11eb_a5e3_00e0201808a0level0_row12\" class=\"row_heading level0 row12\" >12</th>\n",
       "                        <td id=\"T_0de6d334_09cd_11eb_a5e3_00e0201808a0row12_col0\" class=\"data row12 col0\" >Transformed Test Set</td>\n",
       "                        <td id=\"T_0de6d334_09cd_11eb_a5e3_00e0201808a0row12_col1\" class=\"data row12 col1\" >(9560, 291)</td>\n",
       "            </tr>\n",
       "            <tr>\n",
       "                        <th id=\"T_0de6d334_09cd_11eb_a5e3_00e0201808a0level0_row13\" class=\"row_heading level0 row13\" >13</th>\n",
       "                        <td id=\"T_0de6d334_09cd_11eb_a5e3_00e0201808a0row13_col0\" class=\"data row13 col0\" >Numeric Imputer </td>\n",
       "                        <td id=\"T_0de6d334_09cd_11eb_a5e3_00e0201808a0row13_col1\" class=\"data row13 col1\" >mean</td>\n",
       "            </tr>\n",
       "            <tr>\n",
       "                        <th id=\"T_0de6d334_09cd_11eb_a5e3_00e0201808a0level0_row14\" class=\"row_heading level0 row14\" >14</th>\n",
       "                        <td id=\"T_0de6d334_09cd_11eb_a5e3_00e0201808a0row14_col0\" class=\"data row14 col0\" >Categorical Imputer </td>\n",
       "                        <td id=\"T_0de6d334_09cd_11eb_a5e3_00e0201808a0row14_col1\" class=\"data row14 col1\" >constant</td>\n",
       "            </tr>\n",
       "            <tr>\n",
       "                        <th id=\"T_0de6d334_09cd_11eb_a5e3_00e0201808a0level0_row15\" class=\"row_heading level0 row15\" >15</th>\n",
       "                        <td id=\"T_0de6d334_09cd_11eb_a5e3_00e0201808a0row15_col0\" class=\"data row15 col0\" >Normalize </td>\n",
       "                        <td id=\"T_0de6d334_09cd_11eb_a5e3_00e0201808a0row15_col1\" class=\"data row15 col1\" >False</td>\n",
       "            </tr>\n",
       "            <tr>\n",
       "                        <th id=\"T_0de6d334_09cd_11eb_a5e3_00e0201808a0level0_row16\" class=\"row_heading level0 row16\" >16</th>\n",
       "                        <td id=\"T_0de6d334_09cd_11eb_a5e3_00e0201808a0row16_col0\" class=\"data row16 col0\" >Normalize Method </td>\n",
       "                        <td id=\"T_0de6d334_09cd_11eb_a5e3_00e0201808a0row16_col1\" class=\"data row16 col1\" >None</td>\n",
       "            </tr>\n",
       "            <tr>\n",
       "                        <th id=\"T_0de6d334_09cd_11eb_a5e3_00e0201808a0level0_row17\" class=\"row_heading level0 row17\" >17</th>\n",
       "                        <td id=\"T_0de6d334_09cd_11eb_a5e3_00e0201808a0row17_col0\" class=\"data row17 col0\" >Transformation </td>\n",
       "                        <td id=\"T_0de6d334_09cd_11eb_a5e3_00e0201808a0row17_col1\" class=\"data row17 col1\" >False</td>\n",
       "            </tr>\n",
       "            <tr>\n",
       "                        <th id=\"T_0de6d334_09cd_11eb_a5e3_00e0201808a0level0_row18\" class=\"row_heading level0 row18\" >18</th>\n",
       "                        <td id=\"T_0de6d334_09cd_11eb_a5e3_00e0201808a0row18_col0\" class=\"data row18 col0\" >Transformation Method </td>\n",
       "                        <td id=\"T_0de6d334_09cd_11eb_a5e3_00e0201808a0row18_col1\" class=\"data row18 col1\" >None</td>\n",
       "            </tr>\n",
       "            <tr>\n",
       "                        <th id=\"T_0de6d334_09cd_11eb_a5e3_00e0201808a0level0_row19\" class=\"row_heading level0 row19\" >19</th>\n",
       "                        <td id=\"T_0de6d334_09cd_11eb_a5e3_00e0201808a0row19_col0\" class=\"data row19 col0\" >PCA </td>\n",
       "                        <td id=\"T_0de6d334_09cd_11eb_a5e3_00e0201808a0row19_col1\" class=\"data row19 col1\" >False</td>\n",
       "            </tr>\n",
       "            <tr>\n",
       "                        <th id=\"T_0de6d334_09cd_11eb_a5e3_00e0201808a0level0_row20\" class=\"row_heading level0 row20\" >20</th>\n",
       "                        <td id=\"T_0de6d334_09cd_11eb_a5e3_00e0201808a0row20_col0\" class=\"data row20 col0\" >PCA Method </td>\n",
       "                        <td id=\"T_0de6d334_09cd_11eb_a5e3_00e0201808a0row20_col1\" class=\"data row20 col1\" >None</td>\n",
       "            </tr>\n",
       "            <tr>\n",
       "                        <th id=\"T_0de6d334_09cd_11eb_a5e3_00e0201808a0level0_row21\" class=\"row_heading level0 row21\" >21</th>\n",
       "                        <td id=\"T_0de6d334_09cd_11eb_a5e3_00e0201808a0row21_col0\" class=\"data row21 col0\" >PCA Components </td>\n",
       "                        <td id=\"T_0de6d334_09cd_11eb_a5e3_00e0201808a0row21_col1\" class=\"data row21 col1\" >None</td>\n",
       "            </tr>\n",
       "            <tr>\n",
       "                        <th id=\"T_0de6d334_09cd_11eb_a5e3_00e0201808a0level0_row22\" class=\"row_heading level0 row22\" >22</th>\n",
       "                        <td id=\"T_0de6d334_09cd_11eb_a5e3_00e0201808a0row22_col0\" class=\"data row22 col0\" >Ignore Low Variance </td>\n",
       "                        <td id=\"T_0de6d334_09cd_11eb_a5e3_00e0201808a0row22_col1\" class=\"data row22 col1\" >False</td>\n",
       "            </tr>\n",
       "            <tr>\n",
       "                        <th id=\"T_0de6d334_09cd_11eb_a5e3_00e0201808a0level0_row23\" class=\"row_heading level0 row23\" >23</th>\n",
       "                        <td id=\"T_0de6d334_09cd_11eb_a5e3_00e0201808a0row23_col0\" class=\"data row23 col0\" >Combine Rare Levels </td>\n",
       "                        <td id=\"T_0de6d334_09cd_11eb_a5e3_00e0201808a0row23_col1\" class=\"data row23 col1\" >False</td>\n",
       "            </tr>\n",
       "            <tr>\n",
       "                        <th id=\"T_0de6d334_09cd_11eb_a5e3_00e0201808a0level0_row24\" class=\"row_heading level0 row24\" >24</th>\n",
       "                        <td id=\"T_0de6d334_09cd_11eb_a5e3_00e0201808a0row24_col0\" class=\"data row24 col0\" >Rare Level Threshold </td>\n",
       "                        <td id=\"T_0de6d334_09cd_11eb_a5e3_00e0201808a0row24_col1\" class=\"data row24 col1\" >None</td>\n",
       "            </tr>\n",
       "            <tr>\n",
       "                        <th id=\"T_0de6d334_09cd_11eb_a5e3_00e0201808a0level0_row25\" class=\"row_heading level0 row25\" >25</th>\n",
       "                        <td id=\"T_0de6d334_09cd_11eb_a5e3_00e0201808a0row25_col0\" class=\"data row25 col0\" >Numeric Binning </td>\n",
       "                        <td id=\"T_0de6d334_09cd_11eb_a5e3_00e0201808a0row25_col1\" class=\"data row25 col1\" >False</td>\n",
       "            </tr>\n",
       "            <tr>\n",
       "                        <th id=\"T_0de6d334_09cd_11eb_a5e3_00e0201808a0level0_row26\" class=\"row_heading level0 row26\" >26</th>\n",
       "                        <td id=\"T_0de6d334_09cd_11eb_a5e3_00e0201808a0row26_col0\" class=\"data row26 col0\" >Remove Outliers </td>\n",
       "                        <td id=\"T_0de6d334_09cd_11eb_a5e3_00e0201808a0row26_col1\" class=\"data row26 col1\" >False</td>\n",
       "            </tr>\n",
       "            <tr>\n",
       "                        <th id=\"T_0de6d334_09cd_11eb_a5e3_00e0201808a0level0_row27\" class=\"row_heading level0 row27\" >27</th>\n",
       "                        <td id=\"T_0de6d334_09cd_11eb_a5e3_00e0201808a0row27_col0\" class=\"data row27 col0\" >Outliers Threshold </td>\n",
       "                        <td id=\"T_0de6d334_09cd_11eb_a5e3_00e0201808a0row27_col1\" class=\"data row27 col1\" >None</td>\n",
       "            </tr>\n",
       "            <tr>\n",
       "                        <th id=\"T_0de6d334_09cd_11eb_a5e3_00e0201808a0level0_row28\" class=\"row_heading level0 row28\" >28</th>\n",
       "                        <td id=\"T_0de6d334_09cd_11eb_a5e3_00e0201808a0row28_col0\" class=\"data row28 col0\" >Remove Multicollinearity </td>\n",
       "                        <td id=\"T_0de6d334_09cd_11eb_a5e3_00e0201808a0row28_col1\" class=\"data row28 col1\" >False</td>\n",
       "            </tr>\n",
       "            <tr>\n",
       "                        <th id=\"T_0de6d334_09cd_11eb_a5e3_00e0201808a0level0_row29\" class=\"row_heading level0 row29\" >29</th>\n",
       "                        <td id=\"T_0de6d334_09cd_11eb_a5e3_00e0201808a0row29_col0\" class=\"data row29 col0\" >Multicollinearity Threshold </td>\n",
       "                        <td id=\"T_0de6d334_09cd_11eb_a5e3_00e0201808a0row29_col1\" class=\"data row29 col1\" >None</td>\n",
       "            </tr>\n",
       "            <tr>\n",
       "                        <th id=\"T_0de6d334_09cd_11eb_a5e3_00e0201808a0level0_row30\" class=\"row_heading level0 row30\" >30</th>\n",
       "                        <td id=\"T_0de6d334_09cd_11eb_a5e3_00e0201808a0row30_col0\" class=\"data row30 col0\" >Clustering </td>\n",
       "                        <td id=\"T_0de6d334_09cd_11eb_a5e3_00e0201808a0row30_col1\" class=\"data row30 col1\" >False</td>\n",
       "            </tr>\n",
       "            <tr>\n",
       "                        <th id=\"T_0de6d334_09cd_11eb_a5e3_00e0201808a0level0_row31\" class=\"row_heading level0 row31\" >31</th>\n",
       "                        <td id=\"T_0de6d334_09cd_11eb_a5e3_00e0201808a0row31_col0\" class=\"data row31 col0\" >Clustering Iteration </td>\n",
       "                        <td id=\"T_0de6d334_09cd_11eb_a5e3_00e0201808a0row31_col1\" class=\"data row31 col1\" >None</td>\n",
       "            </tr>\n",
       "            <tr>\n",
       "                        <th id=\"T_0de6d334_09cd_11eb_a5e3_00e0201808a0level0_row32\" class=\"row_heading level0 row32\" >32</th>\n",
       "                        <td id=\"T_0de6d334_09cd_11eb_a5e3_00e0201808a0row32_col0\" class=\"data row32 col0\" >Polynomial Features </td>\n",
       "                        <td id=\"T_0de6d334_09cd_11eb_a5e3_00e0201808a0row32_col1\" class=\"data row32 col1\" >False</td>\n",
       "            </tr>\n",
       "            <tr>\n",
       "                        <th id=\"T_0de6d334_09cd_11eb_a5e3_00e0201808a0level0_row33\" class=\"row_heading level0 row33\" >33</th>\n",
       "                        <td id=\"T_0de6d334_09cd_11eb_a5e3_00e0201808a0row33_col0\" class=\"data row33 col0\" >Polynomial Degree </td>\n",
       "                        <td id=\"T_0de6d334_09cd_11eb_a5e3_00e0201808a0row33_col1\" class=\"data row33 col1\" >None</td>\n",
       "            </tr>\n",
       "            <tr>\n",
       "                        <th id=\"T_0de6d334_09cd_11eb_a5e3_00e0201808a0level0_row34\" class=\"row_heading level0 row34\" >34</th>\n",
       "                        <td id=\"T_0de6d334_09cd_11eb_a5e3_00e0201808a0row34_col0\" class=\"data row34 col0\" >Trignometry Features </td>\n",
       "                        <td id=\"T_0de6d334_09cd_11eb_a5e3_00e0201808a0row34_col1\" class=\"data row34 col1\" >False</td>\n",
       "            </tr>\n",
       "            <tr>\n",
       "                        <th id=\"T_0de6d334_09cd_11eb_a5e3_00e0201808a0level0_row35\" class=\"row_heading level0 row35\" >35</th>\n",
       "                        <td id=\"T_0de6d334_09cd_11eb_a5e3_00e0201808a0row35_col0\" class=\"data row35 col0\" >Polynomial Threshold </td>\n",
       "                        <td id=\"T_0de6d334_09cd_11eb_a5e3_00e0201808a0row35_col1\" class=\"data row35 col1\" >None</td>\n",
       "            </tr>\n",
       "            <tr>\n",
       "                        <th id=\"T_0de6d334_09cd_11eb_a5e3_00e0201808a0level0_row36\" class=\"row_heading level0 row36\" >36</th>\n",
       "                        <td id=\"T_0de6d334_09cd_11eb_a5e3_00e0201808a0row36_col0\" class=\"data row36 col0\" >Group Features </td>\n",
       "                        <td id=\"T_0de6d334_09cd_11eb_a5e3_00e0201808a0row36_col1\" class=\"data row36 col1\" >False</td>\n",
       "            </tr>\n",
       "            <tr>\n",
       "                        <th id=\"T_0de6d334_09cd_11eb_a5e3_00e0201808a0level0_row37\" class=\"row_heading level0 row37\" >37</th>\n",
       "                        <td id=\"T_0de6d334_09cd_11eb_a5e3_00e0201808a0row37_col0\" class=\"data row37 col0\" >Feature Selection </td>\n",
       "                        <td id=\"T_0de6d334_09cd_11eb_a5e3_00e0201808a0row37_col1\" class=\"data row37 col1\" >False</td>\n",
       "            </tr>\n",
       "            <tr>\n",
       "                        <th id=\"T_0de6d334_09cd_11eb_a5e3_00e0201808a0level0_row38\" class=\"row_heading level0 row38\" >38</th>\n",
       "                        <td id=\"T_0de6d334_09cd_11eb_a5e3_00e0201808a0row38_col0\" class=\"data row38 col0\" >Features Selection Threshold </td>\n",
       "                        <td id=\"T_0de6d334_09cd_11eb_a5e3_00e0201808a0row38_col1\" class=\"data row38 col1\" >None</td>\n",
       "            </tr>\n",
       "            <tr>\n",
       "                        <th id=\"T_0de6d334_09cd_11eb_a5e3_00e0201808a0level0_row39\" class=\"row_heading level0 row39\" >39</th>\n",
       "                        <td id=\"T_0de6d334_09cd_11eb_a5e3_00e0201808a0row39_col0\" class=\"data row39 col0\" >Feature Interaction </td>\n",
       "                        <td id=\"T_0de6d334_09cd_11eb_a5e3_00e0201808a0row39_col1\" class=\"data row39 col1\" >False</td>\n",
       "            </tr>\n",
       "            <tr>\n",
       "                        <th id=\"T_0de6d334_09cd_11eb_a5e3_00e0201808a0level0_row40\" class=\"row_heading level0 row40\" >40</th>\n",
       "                        <td id=\"T_0de6d334_09cd_11eb_a5e3_00e0201808a0row40_col0\" class=\"data row40 col0\" >Feature Ratio </td>\n",
       "                        <td id=\"T_0de6d334_09cd_11eb_a5e3_00e0201808a0row40_col1\" class=\"data row40 col1\" >False</td>\n",
       "            </tr>\n",
       "            <tr>\n",
       "                        <th id=\"T_0de6d334_09cd_11eb_a5e3_00e0201808a0level0_row41\" class=\"row_heading level0 row41\" >41</th>\n",
       "                        <td id=\"T_0de6d334_09cd_11eb_a5e3_00e0201808a0row41_col0\" class=\"data row41 col0\" >Interaction Threshold </td>\n",
       "                        <td id=\"T_0de6d334_09cd_11eb_a5e3_00e0201808a0row41_col1\" class=\"data row41 col1\" >None</td>\n",
       "            </tr>\n",
       "            <tr>\n",
       "                        <th id=\"T_0de6d334_09cd_11eb_a5e3_00e0201808a0level0_row42\" class=\"row_heading level0 row42\" >42</th>\n",
       "                        <td id=\"T_0de6d334_09cd_11eb_a5e3_00e0201808a0row42_col0\" class=\"data row42 col0\" >Fix Imbalance</td>\n",
       "                        <td id=\"T_0de6d334_09cd_11eb_a5e3_00e0201808a0row42_col1\" class=\"data row42 col1\" >False</td>\n",
       "            </tr>\n",
       "            <tr>\n",
       "                        <th id=\"T_0de6d334_09cd_11eb_a5e3_00e0201808a0level0_row43\" class=\"row_heading level0 row43\" >43</th>\n",
       "                        <td id=\"T_0de6d334_09cd_11eb_a5e3_00e0201808a0row43_col0\" class=\"data row43 col0\" >Fix Imbalance Method</td>\n",
       "                        <td id=\"T_0de6d334_09cd_11eb_a5e3_00e0201808a0row43_col1\" class=\"data row43 col1\" >SMOTE</td>\n",
       "            </tr>\n",
       "    </tbody></table>"
      ],
      "text/plain": [
       "<pandas.io.formats.style.Styler at 0x24b192061c8>"
      ]
     },
     "metadata": {},
     "output_type": "display_data"
    },
    {
     "name": "stdout",
     "output_type": "stream",
     "text": [
      "Wall time: 30.6 s\n"
     ]
    }
   ],
   "source": [
    "%%time\n",
    "clf = setup(session_id=seed, \n",
    "            data = train, target = 'voted'\n",
    "          , categorical_features=col_cat\n",
    "          , numeric_features = ['race_0']#,'tp17','tp4','Q_A15','Q_A3','Q_A15tp17','Q_A3tp4']#['Q_A1','Q_A3','Q_A5','tp17','tp4','Q_A15tp17','Q_A3tp4']\n",
    "          #, ignore_features =['Priority']#'religion', 'race_1', 'race_2', 'race_3','race_4', 'race_5', 'race_6']\n",
    "           )"
   ]
  },
  {
   "cell_type": "code",
   "execution_count": 15,
   "metadata": {},
   "outputs": [
    {
     "data": {
      "text/html": [
       "<style  type=\"text/css\" >\n",
       "    #T_9d15359c_09cf_11eb_ab64_00e0201808a0 th {\n",
       "          text-align: left;\n",
       "    }#T_9d15359c_09cf_11eb_ab64_00e0201808a0row0_col0,#T_9d15359c_09cf_11eb_ab64_00e0201808a0row0_col3,#T_9d15359c_09cf_11eb_ab64_00e0201808a0row0_col4,#T_9d15359c_09cf_11eb_ab64_00e0201808a0row1_col0,#T_9d15359c_09cf_11eb_ab64_00e0201808a0row1_col1,#T_9d15359c_09cf_11eb_ab64_00e0201808a0row1_col2,#T_9d15359c_09cf_11eb_ab64_00e0201808a0row1_col3,#T_9d15359c_09cf_11eb_ab64_00e0201808a0row1_col4,#T_9d15359c_09cf_11eb_ab64_00e0201808a0row1_col5,#T_9d15359c_09cf_11eb_ab64_00e0201808a0row1_col6,#T_9d15359c_09cf_11eb_ab64_00e0201808a0row1_col7,#T_9d15359c_09cf_11eb_ab64_00e0201808a0row2_col0,#T_9d15359c_09cf_11eb_ab64_00e0201808a0row2_col1,#T_9d15359c_09cf_11eb_ab64_00e0201808a0row2_col2,#T_9d15359c_09cf_11eb_ab64_00e0201808a0row2_col3,#T_9d15359c_09cf_11eb_ab64_00e0201808a0row2_col4,#T_9d15359c_09cf_11eb_ab64_00e0201808a0row2_col5,#T_9d15359c_09cf_11eb_ab64_00e0201808a0row2_col6,#T_9d15359c_09cf_11eb_ab64_00e0201808a0row2_col7,#T_9d15359c_09cf_11eb_ab64_00e0201808a0row3_col0,#T_9d15359c_09cf_11eb_ab64_00e0201808a0row3_col1,#T_9d15359c_09cf_11eb_ab64_00e0201808a0row3_col2,#T_9d15359c_09cf_11eb_ab64_00e0201808a0row3_col3,#T_9d15359c_09cf_11eb_ab64_00e0201808a0row3_col4,#T_9d15359c_09cf_11eb_ab64_00e0201808a0row3_col5,#T_9d15359c_09cf_11eb_ab64_00e0201808a0row3_col6,#T_9d15359c_09cf_11eb_ab64_00e0201808a0row3_col7,#T_9d15359c_09cf_11eb_ab64_00e0201808a0row4_col0,#T_9d15359c_09cf_11eb_ab64_00e0201808a0row4_col1,#T_9d15359c_09cf_11eb_ab64_00e0201808a0row4_col2,#T_9d15359c_09cf_11eb_ab64_00e0201808a0row4_col3,#T_9d15359c_09cf_11eb_ab64_00e0201808a0row4_col5,#T_9d15359c_09cf_11eb_ab64_00e0201808a0row4_col6,#T_9d15359c_09cf_11eb_ab64_00e0201808a0row4_col7,#T_9d15359c_09cf_11eb_ab64_00e0201808a0row5_col0,#T_9d15359c_09cf_11eb_ab64_00e0201808a0row5_col1,#T_9d15359c_09cf_11eb_ab64_00e0201808a0row5_col2,#T_9d15359c_09cf_11eb_ab64_00e0201808a0row5_col3,#T_9d15359c_09cf_11eb_ab64_00e0201808a0row5_col4,#T_9d15359c_09cf_11eb_ab64_00e0201808a0row5_col5,#T_9d15359c_09cf_11eb_ab64_00e0201808a0row5_col6,#T_9d15359c_09cf_11eb_ab64_00e0201808a0row5_col7,#T_9d15359c_09cf_11eb_ab64_00e0201808a0row6_col0,#T_9d15359c_09cf_11eb_ab64_00e0201808a0row6_col1,#T_9d15359c_09cf_11eb_ab64_00e0201808a0row6_col2,#T_9d15359c_09cf_11eb_ab64_00e0201808a0row6_col4,#T_9d15359c_09cf_11eb_ab64_00e0201808a0row6_col5,#T_9d15359c_09cf_11eb_ab64_00e0201808a0row6_col6,#T_9d15359c_09cf_11eb_ab64_00e0201808a0row6_col7,#T_9d15359c_09cf_11eb_ab64_00e0201808a0row7_col0,#T_9d15359c_09cf_11eb_ab64_00e0201808a0row7_col1,#T_9d15359c_09cf_11eb_ab64_00e0201808a0row7_col2,#T_9d15359c_09cf_11eb_ab64_00e0201808a0row7_col3,#T_9d15359c_09cf_11eb_ab64_00e0201808a0row7_col4,#T_9d15359c_09cf_11eb_ab64_00e0201808a0row7_col5,#T_9d15359c_09cf_11eb_ab64_00e0201808a0row7_col6,#T_9d15359c_09cf_11eb_ab64_00e0201808a0row7_col7{\n",
       "            text-align:  left;\n",
       "        }#T_9d15359c_09cf_11eb_ab64_00e0201808a0row0_col1,#T_9d15359c_09cf_11eb_ab64_00e0201808a0row0_col2,#T_9d15359c_09cf_11eb_ab64_00e0201808a0row0_col5,#T_9d15359c_09cf_11eb_ab64_00e0201808a0row0_col6,#T_9d15359c_09cf_11eb_ab64_00e0201808a0row0_col7,#T_9d15359c_09cf_11eb_ab64_00e0201808a0row4_col4,#T_9d15359c_09cf_11eb_ab64_00e0201808a0row6_col3{\n",
       "            background-color:  yellow;\n",
       "            text-align:  left;\n",
       "        }#T_9d15359c_09cf_11eb_ab64_00e0201808a0row0_col8,#T_9d15359c_09cf_11eb_ab64_00e0201808a0row1_col8,#T_9d15359c_09cf_11eb_ab64_00e0201808a0row2_col8,#T_9d15359c_09cf_11eb_ab64_00e0201808a0row3_col8,#T_9d15359c_09cf_11eb_ab64_00e0201808a0row4_col8,#T_9d15359c_09cf_11eb_ab64_00e0201808a0row5_col8,#T_9d15359c_09cf_11eb_ab64_00e0201808a0row6_col8,#T_9d15359c_09cf_11eb_ab64_00e0201808a0row7_col8{\n",
       "            background-color:  lightgrey;\n",
       "            text-align:  left;\n",
       "        }</style><table id=\"T_9d15359c_09cf_11eb_ab64_00e0201808a0\" ><thead>    <tr>        <th class=\"blank level0\" ></th>        <th class=\"col_heading level0 col0\" >Model</th>        <th class=\"col_heading level0 col1\" >Accuracy</th>        <th class=\"col_heading level0 col2\" >AUC</th>        <th class=\"col_heading level0 col3\" >Recall</th>        <th class=\"col_heading level0 col4\" >Prec.</th>        <th class=\"col_heading level0 col5\" >F1</th>        <th class=\"col_heading level0 col6\" >Kappa</th>        <th class=\"col_heading level0 col7\" >MCC</th>        <th class=\"col_heading level0 col8\" >TT (Sec)</th>    </tr></thead><tbody>\n",
       "                <tr>\n",
       "                        <th id=\"T_9d15359c_09cf_11eb_ab64_00e0201808a0level0_row0\" class=\"row_heading level0 row0\" >0</th>\n",
       "                        <td id=\"T_9d15359c_09cf_11eb_ab64_00e0201808a0row0_col0\" class=\"data row0 col0\" >Gradient Boosting Classifier</td>\n",
       "                        <td id=\"T_9d15359c_09cf_11eb_ab64_00e0201808a0row0_col1\" class=\"data row0 col1\" >0.6938</td>\n",
       "                        <td id=\"T_9d15359c_09cf_11eb_ab64_00e0201808a0row0_col2\" class=\"data row0 col2\" >0.7641</td>\n",
       "                        <td id=\"T_9d15359c_09cf_11eb_ab64_00e0201808a0row0_col3\" class=\"data row0 col3\" >0.6491</td>\n",
       "                        <td id=\"T_9d15359c_09cf_11eb_ab64_00e0201808a0row0_col4\" class=\"data row0 col4\" >0.7565</td>\n",
       "                        <td id=\"T_9d15359c_09cf_11eb_ab64_00e0201808a0row0_col5\" class=\"data row0 col5\" >0.6987</td>\n",
       "                        <td id=\"T_9d15359c_09cf_11eb_ab64_00e0201808a0row0_col6\" class=\"data row0 col6\" >0.3911</td>\n",
       "                        <td id=\"T_9d15359c_09cf_11eb_ab64_00e0201808a0row0_col7\" class=\"data row0 col7\" >0.3959</td>\n",
       "                        <td id=\"T_9d15359c_09cf_11eb_ab64_00e0201808a0row0_col8\" class=\"data row0 col8\" >19.9843</td>\n",
       "            </tr>\n",
       "            <tr>\n",
       "                        <th id=\"T_9d15359c_09cf_11eb_ab64_00e0201808a0level0_row1\" class=\"row_heading level0 row1\" >1</th>\n",
       "                        <td id=\"T_9d15359c_09cf_11eb_ab64_00e0201808a0row1_col0\" class=\"data row1 col0\" >CatBoost Classifier</td>\n",
       "                        <td id=\"T_9d15359c_09cf_11eb_ab64_00e0201808a0row1_col1\" class=\"data row1 col1\" >0.6905</td>\n",
       "                        <td id=\"T_9d15359c_09cf_11eb_ab64_00e0201808a0row1_col2\" class=\"data row1 col2\" >0.7621</td>\n",
       "                        <td id=\"T_9d15359c_09cf_11eb_ab64_00e0201808a0row1_col3\" class=\"data row1 col3\" >0.6536</td>\n",
       "                        <td id=\"T_9d15359c_09cf_11eb_ab64_00e0201808a0row1_col4\" class=\"data row1 col4\" >0.7485</td>\n",
       "                        <td id=\"T_9d15359c_09cf_11eb_ab64_00e0201808a0row1_col5\" class=\"data row1 col5\" >0.6978</td>\n",
       "                        <td id=\"T_9d15359c_09cf_11eb_ab64_00e0201808a0row1_col6\" class=\"data row1 col6\" >0.3836</td>\n",
       "                        <td id=\"T_9d15359c_09cf_11eb_ab64_00e0201808a0row1_col7\" class=\"data row1 col7\" >0.3873</td>\n",
       "                        <td id=\"T_9d15359c_09cf_11eb_ab64_00e0201808a0row1_col8\" class=\"data row1 col8\" >18.2545</td>\n",
       "            </tr>\n",
       "            <tr>\n",
       "                        <th id=\"T_9d15359c_09cf_11eb_ab64_00e0201808a0level0_row2\" class=\"row_heading level0 row2\" >2</th>\n",
       "                        <td id=\"T_9d15359c_09cf_11eb_ab64_00e0201808a0row2_col0\" class=\"data row2 col0\" >Light Gradient Boosting Machine</td>\n",
       "                        <td id=\"T_9d15359c_09cf_11eb_ab64_00e0201808a0row2_col1\" class=\"data row2 col1\" >0.6903</td>\n",
       "                        <td id=\"T_9d15359c_09cf_11eb_ab64_00e0201808a0row2_col2\" class=\"data row2 col2\" >0.7609</td>\n",
       "                        <td id=\"T_9d15359c_09cf_11eb_ab64_00e0201808a0row2_col3\" class=\"data row2 col3\" >0.6486</td>\n",
       "                        <td id=\"T_9d15359c_09cf_11eb_ab64_00e0201808a0row2_col4\" class=\"data row2 col4\" >0.7510</td>\n",
       "                        <td id=\"T_9d15359c_09cf_11eb_ab64_00e0201808a0row2_col5\" class=\"data row2 col5\" >0.6961</td>\n",
       "                        <td id=\"T_9d15359c_09cf_11eb_ab64_00e0201808a0row2_col6\" class=\"data row2 col6\" >0.3837</td>\n",
       "                        <td id=\"T_9d15359c_09cf_11eb_ab64_00e0201808a0row2_col7\" class=\"data row2 col7\" >0.3880</td>\n",
       "                        <td id=\"T_9d15359c_09cf_11eb_ab64_00e0201808a0row2_col8\" class=\"data row2 col8\" >1.0167</td>\n",
       "            </tr>\n",
       "            <tr>\n",
       "                        <th id=\"T_9d15359c_09cf_11eb_ab64_00e0201808a0level0_row3\" class=\"row_heading level0 row3\" >3</th>\n",
       "                        <td id=\"T_9d15359c_09cf_11eb_ab64_00e0201808a0row3_col0\" class=\"data row3 col0\" >Linear Discriminant Analysis</td>\n",
       "                        <td id=\"T_9d15359c_09cf_11eb_ab64_00e0201808a0row3_col1\" class=\"data row3 col1\" >0.6866</td>\n",
       "                        <td id=\"T_9d15359c_09cf_11eb_ab64_00e0201808a0row3_col2\" class=\"data row3 col2\" >0.7581</td>\n",
       "                        <td id=\"T_9d15359c_09cf_11eb_ab64_00e0201808a0row3_col3\" class=\"data row3 col3\" >0.6553</td>\n",
       "                        <td id=\"T_9d15359c_09cf_11eb_ab64_00e0201808a0row3_col4\" class=\"data row3 col4\" >0.7416</td>\n",
       "                        <td id=\"T_9d15359c_09cf_11eb_ab64_00e0201808a0row3_col5\" class=\"data row3 col5\" >0.6957</td>\n",
       "                        <td id=\"T_9d15359c_09cf_11eb_ab64_00e0201808a0row3_col6\" class=\"data row3 col6\" >0.3752</td>\n",
       "                        <td id=\"T_9d15359c_09cf_11eb_ab64_00e0201808a0row3_col7\" class=\"data row3 col7\" >0.3783</td>\n",
       "                        <td id=\"T_9d15359c_09cf_11eb_ab64_00e0201808a0row3_col8\" class=\"data row3 col8\" >1.0363</td>\n",
       "            </tr>\n",
       "            <tr>\n",
       "                        <th id=\"T_9d15359c_09cf_11eb_ab64_00e0201808a0level0_row4\" class=\"row_heading level0 row4\" >4</th>\n",
       "                        <td id=\"T_9d15359c_09cf_11eb_ab64_00e0201808a0row4_col0\" class=\"data row4 col0\" >Extra Trees Classifier</td>\n",
       "                        <td id=\"T_9d15359c_09cf_11eb_ab64_00e0201808a0row4_col1\" class=\"data row4 col1\" >0.6884</td>\n",
       "                        <td id=\"T_9d15359c_09cf_11eb_ab64_00e0201808a0row4_col2\" class=\"data row4 col2\" >0.7579</td>\n",
       "                        <td id=\"T_9d15359c_09cf_11eb_ab64_00e0201808a0row4_col3\" class=\"data row4 col3\" >0.6311</td>\n",
       "                        <td id=\"T_9d15359c_09cf_11eb_ab64_00e0201808a0row4_col4\" class=\"data row4 col4\" >0.7585</td>\n",
       "                        <td id=\"T_9d15359c_09cf_11eb_ab64_00e0201808a0row4_col5\" class=\"data row4 col5\" >0.6889</td>\n",
       "                        <td id=\"T_9d15359c_09cf_11eb_ab64_00e0201808a0row4_col6\" class=\"data row4 col6\" >0.3820</td>\n",
       "                        <td id=\"T_9d15359c_09cf_11eb_ab64_00e0201808a0row4_col7\" class=\"data row4 col7\" >0.3885</td>\n",
       "                        <td id=\"T_9d15359c_09cf_11eb_ab64_00e0201808a0row4_col8\" class=\"data row4 col8\" >2.7545</td>\n",
       "            </tr>\n",
       "            <tr>\n",
       "                        <th id=\"T_9d15359c_09cf_11eb_ab64_00e0201808a0level0_row5\" class=\"row_heading level0 row5\" >5</th>\n",
       "                        <td id=\"T_9d15359c_09cf_11eb_ab64_00e0201808a0row5_col0\" class=\"data row5 col0\" >Ada Boost Classifier</td>\n",
       "                        <td id=\"T_9d15359c_09cf_11eb_ab64_00e0201808a0row5_col1\" class=\"data row5 col1\" >0.6840</td>\n",
       "                        <td id=\"T_9d15359c_09cf_11eb_ab64_00e0201808a0row5_col2\" class=\"data row5 col2\" >0.7538</td>\n",
       "                        <td id=\"T_9d15359c_09cf_11eb_ab64_00e0201808a0row5_col3\" class=\"data row5 col3\" >0.6547</td>\n",
       "                        <td id=\"T_9d15359c_09cf_11eb_ab64_00e0201808a0row5_col4\" class=\"data row5 col4\" >0.7380</td>\n",
       "                        <td id=\"T_9d15359c_09cf_11eb_ab64_00e0201808a0row5_col5\" class=\"data row5 col5\" >0.6938</td>\n",
       "                        <td id=\"T_9d15359c_09cf_11eb_ab64_00e0201808a0row5_col6\" class=\"data row5 col6\" >0.3698</td>\n",
       "                        <td id=\"T_9d15359c_09cf_11eb_ab64_00e0201808a0row5_col7\" class=\"data row5 col7\" >0.3727</td>\n",
       "                        <td id=\"T_9d15359c_09cf_11eb_ab64_00e0201808a0row5_col8\" class=\"data row5 col8\" >4.9195</td>\n",
       "            </tr>\n",
       "            <tr>\n",
       "                        <th id=\"T_9d15359c_09cf_11eb_ab64_00e0201808a0level0_row6\" class=\"row_heading level0 row6\" >6</th>\n",
       "                        <td id=\"T_9d15359c_09cf_11eb_ab64_00e0201808a0row6_col0\" class=\"data row6 col0\" >Extreme Gradient Boosting</td>\n",
       "                        <td id=\"T_9d15359c_09cf_11eb_ab64_00e0201808a0row6_col1\" class=\"data row6 col1\" >0.6691</td>\n",
       "                        <td id=\"T_9d15359c_09cf_11eb_ab64_00e0201808a0row6_col2\" class=\"data row6 col2\" >0.7394</td>\n",
       "                        <td id=\"T_9d15359c_09cf_11eb_ab64_00e0201808a0row6_col3\" class=\"data row6 col3\" >0.6661</td>\n",
       "                        <td id=\"T_9d15359c_09cf_11eb_ab64_00e0201808a0row6_col4\" class=\"data row6 col4\" >0.7107</td>\n",
       "                        <td id=\"T_9d15359c_09cf_11eb_ab64_00e0201808a0row6_col5\" class=\"data row6 col5\" >0.6876</td>\n",
       "                        <td id=\"T_9d15359c_09cf_11eb_ab64_00e0201808a0row6_col6\" class=\"data row6 col6\" >0.3368</td>\n",
       "                        <td id=\"T_9d15359c_09cf_11eb_ab64_00e0201808a0row6_col7\" class=\"data row6 col7\" >0.3376</td>\n",
       "                        <td id=\"T_9d15359c_09cf_11eb_ab64_00e0201808a0row6_col8\" class=\"data row6 col8\" >11.2904</td>\n",
       "            </tr>\n",
       "            <tr>\n",
       "                        <th id=\"T_9d15359c_09cf_11eb_ab64_00e0201808a0level0_row7\" class=\"row_heading level0 row7\" >7</th>\n",
       "                        <td id=\"T_9d15359c_09cf_11eb_ab64_00e0201808a0row7_col0\" class=\"data row7 col0\" >Random Forest Classifier</td>\n",
       "                        <td id=\"T_9d15359c_09cf_11eb_ab64_00e0201808a0row7_col1\" class=\"data row7 col1\" >0.6548</td>\n",
       "                        <td id=\"T_9d15359c_09cf_11eb_ab64_00e0201808a0row7_col2\" class=\"data row7 col2\" >0.7123</td>\n",
       "                        <td id=\"T_9d15359c_09cf_11eb_ab64_00e0201808a0row7_col3\" class=\"data row7 col3\" >0.5939</td>\n",
       "                        <td id=\"T_9d15359c_09cf_11eb_ab64_00e0201808a0row7_col4\" class=\"data row7 col4\" >0.7252</td>\n",
       "                        <td id=\"T_9d15359c_09cf_11eb_ab64_00e0201808a0row7_col5\" class=\"data row7 col5\" >0.6529</td>\n",
       "                        <td id=\"T_9d15359c_09cf_11eb_ab64_00e0201808a0row7_col6\" class=\"data row7 col6\" >0.3164</td>\n",
       "                        <td id=\"T_9d15359c_09cf_11eb_ab64_00e0201808a0row7_col7\" class=\"data row7 col7\" >0.3227</td>\n",
       "                        <td id=\"T_9d15359c_09cf_11eb_ab64_00e0201808a0row7_col8\" class=\"data row7 col8\" >0.3322</td>\n",
       "            </tr>\n",
       "    </tbody></table>"
      ],
      "text/plain": [
       "<pandas.io.formats.style.Styler at 0x24b201d7108>"
      ]
     },
     "metadata": {},
     "output_type": "display_data"
    }
   ],
   "source": [
    "best_5 = compare_models(sort = 'AUC', n_select = 5\n",
    "                       ,exclude=['lr', 'knn', 'nb', 'dt', 'svm', 'rbfsvm', 'ridge','qda']\n",
    "                       #,exclude=['lr', 'knn', 'nb', 'dt', 'svm', 'rbfsvm', 'gpc', 'mlp', 'ridge', 'rf', 'qda', 'ada', 'xgboost']\n",
    "                       )"
   ]
  },
  {
   "cell_type": "code",
   "execution_count": 16,
   "metadata": {},
   "outputs": [
    {
     "data": {
      "text/html": [
       "<style  type=\"text/css\" >\n",
       "#T_3f3ed4e8_09d0_11eb_9db3_00e0201808a0row5_col0,#T_3f3ed4e8_09d0_11eb_9db3_00e0201808a0row5_col1,#T_3f3ed4e8_09d0_11eb_9db3_00e0201808a0row5_col2,#T_3f3ed4e8_09d0_11eb_9db3_00e0201808a0row5_col3,#T_3f3ed4e8_09d0_11eb_9db3_00e0201808a0row5_col4,#T_3f3ed4e8_09d0_11eb_9db3_00e0201808a0row5_col5,#T_3f3ed4e8_09d0_11eb_9db3_00e0201808a0row5_col6{\n",
       "            background:  yellow;\n",
       "        }</style><table id=\"T_3f3ed4e8_09d0_11eb_9db3_00e0201808a0\" ><thead>    <tr>        <th class=\"blank level0\" ></th>        <th class=\"col_heading level0 col0\" >Accuracy</th>        <th class=\"col_heading level0 col1\" >AUC</th>        <th class=\"col_heading level0 col2\" >Recall</th>        <th class=\"col_heading level0 col3\" >Prec.</th>        <th class=\"col_heading level0 col4\" >F1</th>        <th class=\"col_heading level0 col5\" >Kappa</th>        <th class=\"col_heading level0 col6\" >MCC</th>    </tr></thead><tbody>\n",
       "                <tr>\n",
       "                        <th id=\"T_3f3ed4e8_09d0_11eb_9db3_00e0201808a0level0_row0\" class=\"row_heading level0 row0\" >0</th>\n",
       "                        <td id=\"T_3f3ed4e8_09d0_11eb_9db3_00e0201808a0row0_col0\" class=\"data row0 col0\" >0.6930</td>\n",
       "                        <td id=\"T_3f3ed4e8_09d0_11eb_9db3_00e0201808a0row0_col1\" class=\"data row0 col1\" >0.7647</td>\n",
       "                        <td id=\"T_3f3ed4e8_09d0_11eb_9db3_00e0201808a0row0_col2\" class=\"data row0 col2\" >0.6545</td>\n",
       "                        <td id=\"T_3f3ed4e8_09d0_11eb_9db3_00e0201808a0row0_col3\" class=\"data row0 col3\" >0.7519</td>\n",
       "                        <td id=\"T_3f3ed4e8_09d0_11eb_9db3_00e0201808a0row0_col4\" class=\"data row0 col4\" >0.6998</td>\n",
       "                        <td id=\"T_3f3ed4e8_09d0_11eb_9db3_00e0201808a0row0_col5\" class=\"data row0 col5\" >0.3887</td>\n",
       "                        <td id=\"T_3f3ed4e8_09d0_11eb_9db3_00e0201808a0row0_col6\" class=\"data row0 col6\" >0.3926</td>\n",
       "            </tr>\n",
       "            <tr>\n",
       "                        <th id=\"T_3f3ed4e8_09d0_11eb_9db3_00e0201808a0level0_row1\" class=\"row_heading level0 row1\" >1</th>\n",
       "                        <td id=\"T_3f3ed4e8_09d0_11eb_9db3_00e0201808a0row1_col0\" class=\"data row1 col0\" >0.7021</td>\n",
       "                        <td id=\"T_3f3ed4e8_09d0_11eb_9db3_00e0201808a0row1_col1\" class=\"data row1 col1\" >0.7698</td>\n",
       "                        <td id=\"T_3f3ed4e8_09d0_11eb_9db3_00e0201808a0row1_col2\" class=\"data row1 col2\" >0.6643</td>\n",
       "                        <td id=\"T_3f3ed4e8_09d0_11eb_9db3_00e0201808a0row1_col3\" class=\"data row1 col3\" >0.7607</td>\n",
       "                        <td id=\"T_3f3ed4e8_09d0_11eb_9db3_00e0201808a0row1_col4\" class=\"data row1 col4\" >0.7093</td>\n",
       "                        <td id=\"T_3f3ed4e8_09d0_11eb_9db3_00e0201808a0row1_col5\" class=\"data row1 col5\" >0.4067</td>\n",
       "                        <td id=\"T_3f3ed4e8_09d0_11eb_9db3_00e0201808a0row1_col6\" class=\"data row1 col6\" >0.4106</td>\n",
       "            </tr>\n",
       "            <tr>\n",
       "                        <th id=\"T_3f3ed4e8_09d0_11eb_9db3_00e0201808a0level0_row2\" class=\"row_heading level0 row2\" >2</th>\n",
       "                        <td id=\"T_3f3ed4e8_09d0_11eb_9db3_00e0201808a0row2_col0\" class=\"data row2 col0\" >0.6945</td>\n",
       "                        <td id=\"T_3f3ed4e8_09d0_11eb_9db3_00e0201808a0row2_col1\" class=\"data row2 col1\" >0.7679</td>\n",
       "                        <td id=\"T_3f3ed4e8_09d0_11eb_9db3_00e0201808a0row2_col2\" class=\"data row2 col2\" >0.6437</td>\n",
       "                        <td id=\"T_3f3ed4e8_09d0_11eb_9db3_00e0201808a0row2_col3\" class=\"data row2 col3\" >0.7607</td>\n",
       "                        <td id=\"T_3f3ed4e8_09d0_11eb_9db3_00e0201808a0row2_col4\" class=\"data row2 col4\" >0.6973</td>\n",
       "                        <td id=\"T_3f3ed4e8_09d0_11eb_9db3_00e0201808a0row2_col5\" class=\"data row2 col5\" >0.3932</td>\n",
       "                        <td id=\"T_3f3ed4e8_09d0_11eb_9db3_00e0201808a0row2_col6\" class=\"data row2 col6\" >0.3988</td>\n",
       "            </tr>\n",
       "            <tr>\n",
       "                        <th id=\"T_3f3ed4e8_09d0_11eb_9db3_00e0201808a0level0_row3\" class=\"row_heading level0 row3\" >3</th>\n",
       "                        <td id=\"T_3f3ed4e8_09d0_11eb_9db3_00e0201808a0row3_col0\" class=\"data row3 col0\" >0.6904</td>\n",
       "                        <td id=\"T_3f3ed4e8_09d0_11eb_9db3_00e0201808a0row3_col1\" class=\"data row3 col1\" >0.7631</td>\n",
       "                        <td id=\"T_3f3ed4e8_09d0_11eb_9db3_00e0201808a0row3_col2\" class=\"data row3 col2\" >0.6511</td>\n",
       "                        <td id=\"T_3f3ed4e8_09d0_11eb_9db3_00e0201808a0row3_col3\" class=\"data row3 col3\" >0.7498</td>\n",
       "                        <td id=\"T_3f3ed4e8_09d0_11eb_9db3_00e0201808a0row3_col4\" class=\"data row3 col4\" >0.6969</td>\n",
       "                        <td id=\"T_3f3ed4e8_09d0_11eb_9db3_00e0201808a0row3_col5\" class=\"data row3 col5\" >0.3838</td>\n",
       "                        <td id=\"T_3f3ed4e8_09d0_11eb_9db3_00e0201808a0row3_col6\" class=\"data row3 col6\" >0.3878</td>\n",
       "            </tr>\n",
       "            <tr>\n",
       "                        <th id=\"T_3f3ed4e8_09d0_11eb_9db3_00e0201808a0level0_row4\" class=\"row_heading level0 row4\" >4</th>\n",
       "                        <td id=\"T_3f3ed4e8_09d0_11eb_9db3_00e0201808a0row4_col0\" class=\"data row4 col0\" >0.6933</td>\n",
       "                        <td id=\"T_3f3ed4e8_09d0_11eb_9db3_00e0201808a0row4_col1\" class=\"data row4 col1\" >0.7690</td>\n",
       "                        <td id=\"T_3f3ed4e8_09d0_11eb_9db3_00e0201808a0row4_col2\" class=\"data row4 col2\" >0.6449</td>\n",
       "                        <td id=\"T_3f3ed4e8_09d0_11eb_9db3_00e0201808a0row4_col3\" class=\"data row4 col3\" >0.7581</td>\n",
       "                        <td id=\"T_3f3ed4e8_09d0_11eb_9db3_00e0201808a0row4_col4\" class=\"data row4 col4\" >0.6969</td>\n",
       "                        <td id=\"T_3f3ed4e8_09d0_11eb_9db3_00e0201808a0row4_col5\" class=\"data row4 col5\" >0.3907</td>\n",
       "                        <td id=\"T_3f3ed4e8_09d0_11eb_9db3_00e0201808a0row4_col6\" class=\"data row4 col6\" >0.3959</td>\n",
       "            </tr>\n",
       "            <tr>\n",
       "                        <th id=\"T_3f3ed4e8_09d0_11eb_9db3_00e0201808a0level0_row5\" class=\"row_heading level0 row5\" >Mean</th>\n",
       "                        <td id=\"T_3f3ed4e8_09d0_11eb_9db3_00e0201808a0row5_col0\" class=\"data row5 col0\" >0.6947</td>\n",
       "                        <td id=\"T_3f3ed4e8_09d0_11eb_9db3_00e0201808a0row5_col1\" class=\"data row5 col1\" >0.7669</td>\n",
       "                        <td id=\"T_3f3ed4e8_09d0_11eb_9db3_00e0201808a0row5_col2\" class=\"data row5 col2\" >0.6517</td>\n",
       "                        <td id=\"T_3f3ed4e8_09d0_11eb_9db3_00e0201808a0row5_col3\" class=\"data row5 col3\" >0.7562</td>\n",
       "                        <td id=\"T_3f3ed4e8_09d0_11eb_9db3_00e0201808a0row5_col4\" class=\"data row5 col4\" >0.7001</td>\n",
       "                        <td id=\"T_3f3ed4e8_09d0_11eb_9db3_00e0201808a0row5_col5\" class=\"data row5 col5\" >0.3926</td>\n",
       "                        <td id=\"T_3f3ed4e8_09d0_11eb_9db3_00e0201808a0row5_col6\" class=\"data row5 col6\" >0.3971</td>\n",
       "            </tr>\n",
       "            <tr>\n",
       "                        <th id=\"T_3f3ed4e8_09d0_11eb_9db3_00e0201808a0level0_row6\" class=\"row_heading level0 row6\" >SD</th>\n",
       "                        <td id=\"T_3f3ed4e8_09d0_11eb_9db3_00e0201808a0row6_col0\" class=\"data row6 col0\" >0.0039</td>\n",
       "                        <td id=\"T_3f3ed4e8_09d0_11eb_9db3_00e0201808a0row6_col1\" class=\"data row6 col1\" >0.0025</td>\n",
       "                        <td id=\"T_3f3ed4e8_09d0_11eb_9db3_00e0201808a0row6_col2\" class=\"data row6 col2\" >0.0075</td>\n",
       "                        <td id=\"T_3f3ed4e8_09d0_11eb_9db3_00e0201808a0row6_col3\" class=\"data row6 col3\" >0.0045</td>\n",
       "                        <td id=\"T_3f3ed4e8_09d0_11eb_9db3_00e0201808a0row6_col4\" class=\"data row6 col4\" >0.0047</td>\n",
       "                        <td id=\"T_3f3ed4e8_09d0_11eb_9db3_00e0201808a0row6_col5\" class=\"data row6 col5\" >0.0077</td>\n",
       "                        <td id=\"T_3f3ed4e8_09d0_11eb_9db3_00e0201808a0row6_col6\" class=\"data row6 col6\" >0.0077</td>\n",
       "            </tr>\n",
       "    </tbody></table>"
      ],
      "text/plain": [
       "<pandas.io.formats.style.Styler at 0x24b1fc01cc8>"
      ]
     },
     "metadata": {},
     "output_type": "display_data"
    }
   ],
   "source": [
    "blended = blend_models(estimator_list = best_5, fold = 5, method = 'soft')"
   ]
  },
  {
   "cell_type": "code",
   "execution_count": 17,
   "metadata": {},
   "outputs": [
    {
     "data": {
      "text/html": [
       "<div>\n",
       "<style scoped>\n",
       "    .dataframe tbody tr th:only-of-type {\n",
       "        vertical-align: middle;\n",
       "    }\n",
       "\n",
       "    .dataframe tbody tr th {\n",
       "        vertical-align: top;\n",
       "    }\n",
       "\n",
       "    .dataframe thead th {\n",
       "        text-align: right;\n",
       "    }\n",
       "</style>\n",
       "<table border=\"1\" class=\"dataframe\">\n",
       "  <thead>\n",
       "    <tr style=\"text-align: right;\">\n",
       "      <th></th>\n",
       "      <th>Model</th>\n",
       "      <th>Accuracy</th>\n",
       "      <th>AUC</th>\n",
       "      <th>Recall</th>\n",
       "      <th>Prec.</th>\n",
       "      <th>F1</th>\n",
       "      <th>Kappa</th>\n",
       "      <th>MCC</th>\n",
       "    </tr>\n",
       "  </thead>\n",
       "  <tbody>\n",
       "    <tr>\n",
       "      <th>0</th>\n",
       "      <td>Voting Classifier</td>\n",
       "      <td>0.6944</td>\n",
       "      <td>0.764</td>\n",
       "      <td>0.6524</td>\n",
       "      <td>0.7553</td>\n",
       "      <td>0.7001</td>\n",
       "      <td>0.3919</td>\n",
       "      <td>0.3962</td>\n",
       "    </tr>\n",
       "  </tbody>\n",
       "</table>\n",
       "</div>"
      ],
      "text/plain": [
       "               Model  Accuracy    AUC  Recall   Prec.      F1   Kappa     MCC\n",
       "0  Voting Classifier    0.6944  0.764  0.6524  0.7553  0.7001  0.3919  0.3962"
      ]
     },
     "metadata": {},
     "output_type": "display_data"
    }
   ],
   "source": [
    "pred_holdout = predict_model(blended)"
   ]
  },
  {
   "cell_type": "code",
   "execution_count": 18,
   "metadata": {},
   "outputs": [
    {
     "name": "stdout",
     "output_type": "stream",
     "text": [
      "Wall time: 9min 10s\n"
     ]
    }
   ],
   "source": [
    "%%time\n",
    "final_model = finalize_model(blended)"
   ]
  },
  {
   "cell_type": "code",
   "execution_count": 19,
   "metadata": {},
   "outputs": [],
   "source": [
    "predictions = predict_model(final_model, data = test)"
   ]
  },
  {
   "cell_type": "markdown",
   "metadata": {},
   "source": [
    "# 4. 예측"
   ]
  },
  {
   "cell_type": "code",
   "execution_count": 20,
   "metadata": {},
   "outputs": [],
   "source": [
    "submission['voted'] = predictions['Score']"
   ]
  },
  {
   "cell_type": "markdown",
   "metadata": {},
   "source": [
    "# 5. 제출"
   ]
  },
  {
   "cell_type": "code",
   "execution_count": 21,
   "metadata": {},
   "outputs": [],
   "source": [
    "submission.to_csv('output/20201010-1.csv')"
   ]
  },
  {
   "cell_type": "code",
   "execution_count": null,
   "metadata": {},
   "outputs": [],
   "source": []
  },
  {
   "cell_type": "code",
   "execution_count": 22,
   "metadata": {
    "scrolled": true
   },
   "outputs": [
    {
     "data": {
      "text/html": [
       "<style  type=\"text/css\" >\n",
       "#T_269671ee_09d2_11eb_b6e2_00e0201808a0row10_col0,#T_269671ee_09d2_11eb_b6e2_00e0201808a0row10_col1,#T_269671ee_09d2_11eb_b6e2_00e0201808a0row10_col2,#T_269671ee_09d2_11eb_b6e2_00e0201808a0row10_col3,#T_269671ee_09d2_11eb_b6e2_00e0201808a0row10_col4,#T_269671ee_09d2_11eb_b6e2_00e0201808a0row10_col5,#T_269671ee_09d2_11eb_b6e2_00e0201808a0row10_col6{\n",
       "            background:  yellow;\n",
       "        }</style><table id=\"T_269671ee_09d2_11eb_b6e2_00e0201808a0\" ><thead>    <tr>        <th class=\"blank level0\" ></th>        <th class=\"col_heading level0 col0\" >Accuracy</th>        <th class=\"col_heading level0 col1\" >AUC</th>        <th class=\"col_heading level0 col2\" >Recall</th>        <th class=\"col_heading level0 col3\" >Prec.</th>        <th class=\"col_heading level0 col4\" >F1</th>        <th class=\"col_heading level0 col5\" >Kappa</th>        <th class=\"col_heading level0 col6\" >MCC</th>    </tr></thead><tbody>\n",
       "                <tr>\n",
       "                        <th id=\"T_269671ee_09d2_11eb_b6e2_00e0201808a0level0_row0\" class=\"row_heading level0 row0\" >0</th>\n",
       "                        <td id=\"T_269671ee_09d2_11eb_b6e2_00e0201808a0row0_col0\" class=\"data row0 col0\" >0.7064</td>\n",
       "                        <td id=\"T_269671ee_09d2_11eb_b6e2_00e0201808a0row0_col1\" class=\"data row0 col1\" >0.7724</td>\n",
       "                        <td id=\"T_269671ee_09d2_11eb_b6e2_00e0201808a0row0_col2\" class=\"data row0 col2\" >0.6590</td>\n",
       "                        <td id=\"T_269671ee_09d2_11eb_b6e2_00e0201808a0row0_col3\" class=\"data row0 col3\" >0.7709</td>\n",
       "                        <td id=\"T_269671ee_09d2_11eb_b6e2_00e0201808a0row0_col4\" class=\"data row0 col4\" >0.7106</td>\n",
       "                        <td id=\"T_269671ee_09d2_11eb_b6e2_00e0201808a0row0_col5\" class=\"data row0 col5\" >0.4164</td>\n",
       "                        <td id=\"T_269671ee_09d2_11eb_b6e2_00e0201808a0row0_col6\" class=\"data row0 col6\" >0.4216</td>\n",
       "            </tr>\n",
       "            <tr>\n",
       "                        <th id=\"T_269671ee_09d2_11eb_b6e2_00e0201808a0level0_row1\" class=\"row_heading level0 row1\" >1</th>\n",
       "                        <td id=\"T_269671ee_09d2_11eb_b6e2_00e0201808a0row1_col0\" class=\"data row1 col0\" >0.6844</td>\n",
       "                        <td id=\"T_269671ee_09d2_11eb_b6e2_00e0201808a0row1_col1\" class=\"data row1 col1\" >0.7484</td>\n",
       "                        <td id=\"T_269671ee_09d2_11eb_b6e2_00e0201808a0row1_col2\" class=\"data row1 col2\" >0.6492</td>\n",
       "                        <td id=\"T_269671ee_09d2_11eb_b6e2_00e0201808a0row1_col3\" class=\"data row1 col3\" >0.7416</td>\n",
       "                        <td id=\"T_269671ee_09d2_11eb_b6e2_00e0201808a0row1_col4\" class=\"data row1 col4\" >0.6923</td>\n",
       "                        <td id=\"T_269671ee_09d2_11eb_b6e2_00e0201808a0row1_col5\" class=\"data row1 col5\" >0.3714</td>\n",
       "                        <td id=\"T_269671ee_09d2_11eb_b6e2_00e0201808a0row1_col6\" class=\"data row1 col6\" >0.3749</td>\n",
       "            </tr>\n",
       "            <tr>\n",
       "                        <th id=\"T_269671ee_09d2_11eb_b6e2_00e0201808a0level0_row2\" class=\"row_heading level0 row2\" >2</th>\n",
       "                        <td id=\"T_269671ee_09d2_11eb_b6e2_00e0201808a0row2_col0\" class=\"data row2 col0\" >0.6876</td>\n",
       "                        <td id=\"T_269671ee_09d2_11eb_b6e2_00e0201808a0row2_col1\" class=\"data row2 col1\" >0.7628</td>\n",
       "                        <td id=\"T_269671ee_09d2_11eb_b6e2_00e0201808a0row2_col2\" class=\"data row2 col2\" >0.6492</td>\n",
       "                        <td id=\"T_269671ee_09d2_11eb_b6e2_00e0201808a0row2_col3\" class=\"data row2 col3\" >0.7465</td>\n",
       "                        <td id=\"T_269671ee_09d2_11eb_b6e2_00e0201808a0row2_col4\" class=\"data row2 col4\" >0.6944</td>\n",
       "                        <td id=\"T_269671ee_09d2_11eb_b6e2_00e0201808a0row2_col5\" class=\"data row2 col5\" >0.3780</td>\n",
       "                        <td id=\"T_269671ee_09d2_11eb_b6e2_00e0201808a0row2_col6\" class=\"data row2 col6\" >0.3819</td>\n",
       "            </tr>\n",
       "            <tr>\n",
       "                        <th id=\"T_269671ee_09d2_11eb_b6e2_00e0201808a0level0_row3\" class=\"row_heading level0 row3\" >3</th>\n",
       "                        <td id=\"T_269671ee_09d2_11eb_b6e2_00e0201808a0row3_col0\" class=\"data row3 col0\" >0.7073</td>\n",
       "                        <td id=\"T_269671ee_09d2_11eb_b6e2_00e0201808a0row3_col1\" class=\"data row3 col1\" >0.7739</td>\n",
       "                        <td id=\"T_269671ee_09d2_11eb_b6e2_00e0201808a0row3_col2\" class=\"data row3 col2\" >0.6590</td>\n",
       "                        <td id=\"T_269671ee_09d2_11eb_b6e2_00e0201808a0row3_col3\" class=\"data row3 col3\" >0.7723</td>\n",
       "                        <td id=\"T_269671ee_09d2_11eb_b6e2_00e0201808a0row3_col4\" class=\"data row3 col4\" >0.7112</td>\n",
       "                        <td id=\"T_269671ee_09d2_11eb_b6e2_00e0201808a0row3_col5\" class=\"data row3 col5\" >0.4183</td>\n",
       "                        <td id=\"T_269671ee_09d2_11eb_b6e2_00e0201808a0row3_col6\" class=\"data row3 col6\" >0.4237</td>\n",
       "            </tr>\n",
       "            <tr>\n",
       "                        <th id=\"T_269671ee_09d2_11eb_b6e2_00e0201808a0level0_row4\" class=\"row_heading level0 row4\" >4</th>\n",
       "                        <td id=\"T_269671ee_09d2_11eb_b6e2_00e0201808a0row4_col0\" class=\"data row4 col0\" >0.7001</td>\n",
       "                        <td id=\"T_269671ee_09d2_11eb_b6e2_00e0201808a0row4_col1\" class=\"data row4 col1\" >0.7736</td>\n",
       "                        <td id=\"T_269671ee_09d2_11eb_b6e2_00e0201808a0row4_col2\" class=\"data row4 col2\" >0.6574</td>\n",
       "                        <td id=\"T_269671ee_09d2_11eb_b6e2_00e0201808a0row4_col3\" class=\"data row4 col3\" >0.7616</td>\n",
       "                        <td id=\"T_269671ee_09d2_11eb_b6e2_00e0201808a0row4_col4\" class=\"data row4 col4\" >0.7057</td>\n",
       "                        <td id=\"T_269671ee_09d2_11eb_b6e2_00e0201808a0row4_col5\" class=\"data row4 col5\" >0.4034</td>\n",
       "                        <td id=\"T_269671ee_09d2_11eb_b6e2_00e0201808a0row4_col6\" class=\"data row4 col6\" >0.4079</td>\n",
       "            </tr>\n",
       "            <tr>\n",
       "                        <th id=\"T_269671ee_09d2_11eb_b6e2_00e0201808a0level0_row5\" class=\"row_heading level0 row5\" >5</th>\n",
       "                        <td id=\"T_269671ee_09d2_11eb_b6e2_00e0201808a0row5_col0\" class=\"data row5 col0\" >0.6835</td>\n",
       "                        <td id=\"T_269671ee_09d2_11eb_b6e2_00e0201808a0row5_col1\" class=\"data row5 col1\" >0.7600</td>\n",
       "                        <td id=\"T_269671ee_09d2_11eb_b6e2_00e0201808a0row5_col2\" class=\"data row5 col2\" >0.6377</td>\n",
       "                        <td id=\"T_269671ee_09d2_11eb_b6e2_00e0201808a0row5_col3\" class=\"data row5 col3\" >0.7466</td>\n",
       "                        <td id=\"T_269671ee_09d2_11eb_b6e2_00e0201808a0row5_col4\" class=\"data row5 col4\" >0.6879</td>\n",
       "                        <td id=\"T_269671ee_09d2_11eb_b6e2_00e0201808a0row5_col5\" class=\"data row5 col5\" >0.3710</td>\n",
       "                        <td id=\"T_269671ee_09d2_11eb_b6e2_00e0201808a0row5_col6\" class=\"data row5 col6\" >0.3757</td>\n",
       "            </tr>\n",
       "            <tr>\n",
       "                        <th id=\"T_269671ee_09d2_11eb_b6e2_00e0201808a0level0_row6\" class=\"row_heading level0 row6\" >6</th>\n",
       "                        <td id=\"T_269671ee_09d2_11eb_b6e2_00e0201808a0row6_col0\" class=\"data row6 col0\" >0.6928</td>\n",
       "                        <td id=\"T_269671ee_09d2_11eb_b6e2_00e0201808a0row6_col1\" class=\"data row6 col1\" >0.7660</td>\n",
       "                        <td id=\"T_269671ee_09d2_11eb_b6e2_00e0201808a0row6_col2\" class=\"data row6 col2\" >0.6426</td>\n",
       "                        <td id=\"T_269671ee_09d2_11eb_b6e2_00e0201808a0row6_col3\" class=\"data row6 col3\" >0.7590</td>\n",
       "                        <td id=\"T_269671ee_09d2_11eb_b6e2_00e0201808a0row6_col4\" class=\"data row6 col4\" >0.6960</td>\n",
       "                        <td id=\"T_269671ee_09d2_11eb_b6e2_00e0201808a0row6_col5\" class=\"data row6 col5\" >0.3899</td>\n",
       "                        <td id=\"T_269671ee_09d2_11eb_b6e2_00e0201808a0row6_col6\" class=\"data row6 col6\" >0.3954</td>\n",
       "            </tr>\n",
       "            <tr>\n",
       "                        <th id=\"T_269671ee_09d2_11eb_b6e2_00e0201808a0level0_row7\" class=\"row_heading level0 row7\" >7</th>\n",
       "                        <td id=\"T_269671ee_09d2_11eb_b6e2_00e0201808a0row7_col0\" class=\"data row7 col0\" >0.6870</td>\n",
       "                        <td id=\"T_269671ee_09d2_11eb_b6e2_00e0201808a0row7_col1\" class=\"data row7 col1\" >0.7566</td>\n",
       "                        <td id=\"T_269671ee_09d2_11eb_b6e2_00e0201808a0row7_col2\" class=\"data row7 col2\" >0.6497</td>\n",
       "                        <td id=\"T_269671ee_09d2_11eb_b6e2_00e0201808a0row7_col3\" class=\"data row7 col3\" >0.7451</td>\n",
       "                        <td id=\"T_269671ee_09d2_11eb_b6e2_00e0201808a0row7_col4\" class=\"data row7 col4\" >0.6941</td>\n",
       "                        <td id=\"T_269671ee_09d2_11eb_b6e2_00e0201808a0row7_col5\" class=\"data row7 col5\" >0.3767</td>\n",
       "                        <td id=\"T_269671ee_09d2_11eb_b6e2_00e0201808a0row7_col6\" class=\"data row7 col6\" >0.3804</td>\n",
       "            </tr>\n",
       "            <tr>\n",
       "                        <th id=\"T_269671ee_09d2_11eb_b6e2_00e0201808a0level0_row8\" class=\"row_heading level0 row8\" >8</th>\n",
       "                        <td id=\"T_269671ee_09d2_11eb_b6e2_00e0201808a0row8_col0\" class=\"data row8 col0\" >0.7018</td>\n",
       "                        <td id=\"T_269671ee_09d2_11eb_b6e2_00e0201808a0row8_col1\" class=\"data row8 col1\" >0.7740</td>\n",
       "                        <td id=\"T_269671ee_09d2_11eb_b6e2_00e0201808a0row8_col2\" class=\"data row8 col2\" >0.6497</td>\n",
       "                        <td id=\"T_269671ee_09d2_11eb_b6e2_00e0201808a0row8_col3\" class=\"data row8 col3\" >0.7689</td>\n",
       "                        <td id=\"T_269671ee_09d2_11eb_b6e2_00e0201808a0row8_col4\" class=\"data row8 col4\" >0.7043</td>\n",
       "                        <td id=\"T_269671ee_09d2_11eb_b6e2_00e0201808a0row8_col5\" class=\"data row8 col5\" >0.4078</td>\n",
       "                        <td id=\"T_269671ee_09d2_11eb_b6e2_00e0201808a0row8_col6\" class=\"data row8 col6\" >0.4137</td>\n",
       "            </tr>\n",
       "            <tr>\n",
       "                        <th id=\"T_269671ee_09d2_11eb_b6e2_00e0201808a0level0_row9\" class=\"row_heading level0 row9\" >9</th>\n",
       "                        <td id=\"T_269671ee_09d2_11eb_b6e2_00e0201808a0row9_col0\" class=\"data row9 col0\" >0.6870</td>\n",
       "                        <td id=\"T_269671ee_09d2_11eb_b6e2_00e0201808a0row9_col1\" class=\"data row9 col1\" >0.7539</td>\n",
       "                        <td id=\"T_269671ee_09d2_11eb_b6e2_00e0201808a0row9_col2\" class=\"data row9 col2\" >0.6374</td>\n",
       "                        <td id=\"T_269671ee_09d2_11eb_b6e2_00e0201808a0row9_col3\" class=\"data row9 col3\" >0.7522</td>\n",
       "                        <td id=\"T_269671ee_09d2_11eb_b6e2_00e0201808a0row9_col4\" class=\"data row9 col4\" >0.6901</td>\n",
       "                        <td id=\"T_269671ee_09d2_11eb_b6e2_00e0201808a0row9_col5\" class=\"data row9 col5\" >0.3783</td>\n",
       "                        <td id=\"T_269671ee_09d2_11eb_b6e2_00e0201808a0row9_col6\" class=\"data row9 col6\" >0.3836</td>\n",
       "            </tr>\n",
       "            <tr>\n",
       "                        <th id=\"T_269671ee_09d2_11eb_b6e2_00e0201808a0level0_row10\" class=\"row_heading level0 row10\" >Mean</th>\n",
       "                        <td id=\"T_269671ee_09d2_11eb_b6e2_00e0201808a0row10_col0\" class=\"data row10 col0\" >0.6938</td>\n",
       "                        <td id=\"T_269671ee_09d2_11eb_b6e2_00e0201808a0row10_col1\" class=\"data row10 col1\" >0.7641</td>\n",
       "                        <td id=\"T_269671ee_09d2_11eb_b6e2_00e0201808a0row10_col2\" class=\"data row10 col2\" >0.6491</td>\n",
       "                        <td id=\"T_269671ee_09d2_11eb_b6e2_00e0201808a0row10_col3\" class=\"data row10 col3\" >0.7565</td>\n",
       "                        <td id=\"T_269671ee_09d2_11eb_b6e2_00e0201808a0row10_col4\" class=\"data row10 col4\" >0.6987</td>\n",
       "                        <td id=\"T_269671ee_09d2_11eb_b6e2_00e0201808a0row10_col5\" class=\"data row10 col5\" >0.3911</td>\n",
       "                        <td id=\"T_269671ee_09d2_11eb_b6e2_00e0201808a0row10_col6\" class=\"data row10 col6\" >0.3959</td>\n",
       "            </tr>\n",
       "            <tr>\n",
       "                        <th id=\"T_269671ee_09d2_11eb_b6e2_00e0201808a0level0_row11\" class=\"row_heading level0 row11\" >SD</th>\n",
       "                        <td id=\"T_269671ee_09d2_11eb_b6e2_00e0201808a0row11_col0\" class=\"data row11 col0\" >0.0088</td>\n",
       "                        <td id=\"T_269671ee_09d2_11eb_b6e2_00e0201808a0row11_col1\" class=\"data row11 col1\" >0.0088</td>\n",
       "                        <td id=\"T_269671ee_09d2_11eb_b6e2_00e0201808a0row11_col2\" class=\"data row11 col2\" >0.0076</td>\n",
       "                        <td id=\"T_269671ee_09d2_11eb_b6e2_00e0201808a0row11_col3\" class=\"data row11 col3\" >0.0110</td>\n",
       "                        <td id=\"T_269671ee_09d2_11eb_b6e2_00e0201808a0row11_col4\" class=\"data row11 col4\" >0.0081</td>\n",
       "                        <td id=\"T_269671ee_09d2_11eb_b6e2_00e0201808a0row11_col5\" class=\"data row11 col5\" >0.0177</td>\n",
       "                        <td id=\"T_269671ee_09d2_11eb_b6e2_00e0201808a0row11_col6\" class=\"data row11 col6\" >0.0183</td>\n",
       "            </tr>\n",
       "    </tbody></table>"
      ],
      "text/plain": [
       "<pandas.io.formats.style.Styler at 0x24b18b5f748>"
      ]
     },
     "metadata": {},
     "output_type": "display_data"
    }
   ],
   "source": [
    "gbc = create_model('gbc')"
   ]
  },
  {
   "cell_type": "code",
   "execution_count": 23,
   "metadata": {},
   "outputs": [
    {
     "data": {
      "image/png": "[encoded data removed]",
      "text/plain": [
       "<Figure size 800x500 with 1 Axes>"
      ]
     },
     "metadata": {
      "needs_background": "light"
     },
     "output_type": "display_data"
    }
   ],
   "source": [
    "plot_model(estimator = gbc, plot = 'feature')"
   ]
  },
  {
   "cell_type": "code",
   "execution_count": 24,
   "metadata": {},
   "outputs": [
    {
     "data": {
      "image/png": "[encoded data removed]",
      "text/plain": [
       "<Figure size 576x396 with 1 Axes>"
      ]
     },
     "metadata": {},
     "output_type": "display_data"
    }
   ],
   "source": [
    "plot_model(estimator = gbc, plot = 'auc')"
   ]
  },
  {
   "cell_type": "code",
   "execution_count": null,
   "metadata": {},
   "outputs": [],
   "source": []
  },
  {
   "cell_type": "code",
   "execution_count": 25,
   "metadata": {
    "scrolled": true
   },
   "outputs": [
    {
     "data": {
      "text/html": [
       "<style  type=\"text/css\" >\n",
       "#T_2f25c428_09d2_11eb_925d_00e0201808a0row10_col0,#T_2f25c428_09d2_11eb_925d_00e0201808a0row10_col1,#T_2f25c428_09d2_11eb_925d_00e0201808a0row10_col2,#T_2f25c428_09d2_11eb_925d_00e0201808a0row10_col3,#T_2f25c428_09d2_11eb_925d_00e0201808a0row10_col4,#T_2f25c428_09d2_11eb_925d_00e0201808a0row10_col5,#T_2f25c428_09d2_11eb_925d_00e0201808a0row10_col6{\n",
       "            background:  yellow;\n",
       "        }</style><table id=\"T_2f25c428_09d2_11eb_925d_00e0201808a0\" ><thead>    <tr>        <th class=\"blank level0\" ></th>        <th class=\"col_heading level0 col0\" >Accuracy</th>        <th class=\"col_heading level0 col1\" >AUC</th>        <th class=\"col_heading level0 col2\" >Recall</th>        <th class=\"col_heading level0 col3\" >Prec.</th>        <th class=\"col_heading level0 col4\" >F1</th>        <th class=\"col_heading level0 col5\" >Kappa</th>        <th class=\"col_heading level0 col6\" >MCC</th>    </tr></thead><tbody>\n",
       "                <tr>\n",
       "                        <th id=\"T_2f25c428_09d2_11eb_925d_00e0201808a0level0_row0\" class=\"row_heading level0 row0\" >0</th>\n",
       "                        <td id=\"T_2f25c428_09d2_11eb_925d_00e0201808a0row0_col0\" class=\"data row0 col0\" >0.6961</td>\n",
       "                        <td id=\"T_2f25c428_09d2_11eb_925d_00e0201808a0row0_col1\" class=\"data row0 col1\" >0.7664</td>\n",
       "                        <td id=\"T_2f25c428_09d2_11eb_925d_00e0201808a0row0_col2\" class=\"data row0 col2\" >0.6557</td>\n",
       "                        <td id=\"T_2f25c428_09d2_11eb_925d_00e0201808a0row0_col3\" class=\"data row0 col3\" >0.7561</td>\n",
       "                        <td id=\"T_2f25c428_09d2_11eb_925d_00e0201808a0row0_col4\" class=\"data row0 col4\" >0.7024</td>\n",
       "                        <td id=\"T_2f25c428_09d2_11eb_925d_00e0201808a0row0_col5\" class=\"data row0 col5\" >0.3951</td>\n",
       "                        <td id=\"T_2f25c428_09d2_11eb_925d_00e0201808a0row0_col6\" class=\"data row0 col6\" >0.3993</td>\n",
       "            </tr>\n",
       "            <tr>\n",
       "                        <th id=\"T_2f25c428_09d2_11eb_925d_00e0201808a0level0_row1\" class=\"row_heading level0 row1\" >1</th>\n",
       "                        <td id=\"T_2f25c428_09d2_11eb_925d_00e0201808a0row1_col0\" class=\"data row1 col0\" >0.6876</td>\n",
       "                        <td id=\"T_2f25c428_09d2_11eb_925d_00e0201808a0row1_col1\" class=\"data row1 col1\" >0.7541</td>\n",
       "                        <td id=\"T_2f25c428_09d2_11eb_925d_00e0201808a0row1_col2\" class=\"data row1 col2\" >0.6492</td>\n",
       "                        <td id=\"T_2f25c428_09d2_11eb_925d_00e0201808a0row1_col3\" class=\"data row1 col3\" >0.7465</td>\n",
       "                        <td id=\"T_2f25c428_09d2_11eb_925d_00e0201808a0row1_col4\" class=\"data row1 col4\" >0.6944</td>\n",
       "                        <td id=\"T_2f25c428_09d2_11eb_925d_00e0201808a0row1_col5\" class=\"data row1 col5\" >0.3780</td>\n",
       "                        <td id=\"T_2f25c428_09d2_11eb_925d_00e0201808a0row1_col6\" class=\"data row1 col6\" >0.3819</td>\n",
       "            </tr>\n",
       "            <tr>\n",
       "                        <th id=\"T_2f25c428_09d2_11eb_925d_00e0201808a0level0_row2\" class=\"row_heading level0 row2\" >2</th>\n",
       "                        <td id=\"T_2f25c428_09d2_11eb_925d_00e0201808a0row2_col0\" class=\"data row2 col0\" >0.6827</td>\n",
       "                        <td id=\"T_2f25c428_09d2_11eb_925d_00e0201808a0row2_col1\" class=\"data row2 col1\" >0.7595</td>\n",
       "                        <td id=\"T_2f25c428_09d2_11eb_925d_00e0201808a0row2_col2\" class=\"data row2 col2\" >0.6443</td>\n",
       "                        <td id=\"T_2f25c428_09d2_11eb_925d_00e0201808a0row2_col3\" class=\"data row2 col3\" >0.7415</td>\n",
       "                        <td id=\"T_2f25c428_09d2_11eb_925d_00e0201808a0row2_col4\" class=\"data row2 col4\" >0.6895</td>\n",
       "                        <td id=\"T_2f25c428_09d2_11eb_925d_00e0201808a0row2_col5\" class=\"data row2 col5\" >0.3683</td>\n",
       "                        <td id=\"T_2f25c428_09d2_11eb_925d_00e0201808a0row2_col6\" class=\"data row2 col6\" >0.3721</td>\n",
       "            </tr>\n",
       "            <tr>\n",
       "                        <th id=\"T_2f25c428_09d2_11eb_925d_00e0201808a0level0_row3\" class=\"row_heading level0 row3\" >3</th>\n",
       "                        <td id=\"T_2f25c428_09d2_11eb_925d_00e0201808a0row3_col0\" class=\"data row3 col0\" >0.7019</td>\n",
       "                        <td id=\"T_2f25c428_09d2_11eb_925d_00e0201808a0row3_col1\" class=\"data row3 col1\" >0.7671</td>\n",
       "                        <td id=\"T_2f25c428_09d2_11eb_925d_00e0201808a0row3_col2\" class=\"data row3 col2\" >0.6598</td>\n",
       "                        <td id=\"T_2f25c428_09d2_11eb_925d_00e0201808a0row3_col3\" class=\"data row3 col3\" >0.7630</td>\n",
       "                        <td id=\"T_2f25c428_09d2_11eb_925d_00e0201808a0row3_col4\" class=\"data row3 col4\" >0.7077</td>\n",
       "                        <td id=\"T_2f25c428_09d2_11eb_925d_00e0201808a0row3_col5\" class=\"data row3 col5\" >0.4069</td>\n",
       "                        <td id=\"T_2f25c428_09d2_11eb_925d_00e0201808a0row3_col6\" class=\"data row3 col6\" >0.4113</td>\n",
       "            </tr>\n",
       "            <tr>\n",
       "                        <th id=\"T_2f25c428_09d2_11eb_925d_00e0201808a0level0_row4\" class=\"row_heading level0 row4\" >4</th>\n",
       "                        <td id=\"T_2f25c428_09d2_11eb_925d_00e0201808a0row4_col0\" class=\"data row4 col0\" >0.6934</td>\n",
       "                        <td id=\"T_2f25c428_09d2_11eb_925d_00e0201808a0row4_col1\" class=\"data row4 col1\" >0.7700</td>\n",
       "                        <td id=\"T_2f25c428_09d2_11eb_925d_00e0201808a0row4_col2\" class=\"data row4 col2\" >0.6492</td>\n",
       "                        <td id=\"T_2f25c428_09d2_11eb_925d_00e0201808a0row4_col3\" class=\"data row4 col3\" >0.7557</td>\n",
       "                        <td id=\"T_2f25c428_09d2_11eb_925d_00e0201808a0row4_col4\" class=\"data row4 col4\" >0.6984</td>\n",
       "                        <td id=\"T_2f25c428_09d2_11eb_925d_00e0201808a0row4_col5\" class=\"data row4 col5\" >0.3903</td>\n",
       "                        <td id=\"T_2f25c428_09d2_11eb_925d_00e0201808a0row4_col6\" class=\"data row4 col6\" >0.3949</td>\n",
       "            </tr>\n",
       "            <tr>\n",
       "                        <th id=\"T_2f25c428_09d2_11eb_925d_00e0201808a0level0_row5\" class=\"row_heading level0 row5\" >5</th>\n",
       "                        <td id=\"T_2f25c428_09d2_11eb_925d_00e0201808a0row5_col0\" class=\"data row5 col0\" >0.6898</td>\n",
       "                        <td id=\"T_2f25c428_09d2_11eb_925d_00e0201808a0row5_col1\" class=\"data row5 col1\" >0.7578</td>\n",
       "                        <td id=\"T_2f25c428_09d2_11eb_925d_00e0201808a0row5_col2\" class=\"data row5 col2\" >0.6467</td>\n",
       "                        <td id=\"T_2f25c428_09d2_11eb_925d_00e0201808a0row5_col3\" class=\"data row5 col3\" >0.7514</td>\n",
       "                        <td id=\"T_2f25c428_09d2_11eb_925d_00e0201808a0row5_col4\" class=\"data row5 col4\" >0.6952</td>\n",
       "                        <td id=\"T_2f25c428_09d2_11eb_925d_00e0201808a0row5_col5\" class=\"data row5 col5\" >0.3830</td>\n",
       "                        <td id=\"T_2f25c428_09d2_11eb_925d_00e0201808a0row5_col6\" class=\"data row5 col6\" >0.3875</td>\n",
       "            </tr>\n",
       "            <tr>\n",
       "                        <th id=\"T_2f25c428_09d2_11eb_925d_00e0201808a0level0_row6\" class=\"row_heading level0 row6\" >6</th>\n",
       "                        <td id=\"T_2f25c428_09d2_11eb_925d_00e0201808a0row6_col0\" class=\"data row6 col0\" >0.6879</td>\n",
       "                        <td id=\"T_2f25c428_09d2_11eb_925d_00e0201808a0row6_col1\" class=\"data row6 col1\" >0.7572</td>\n",
       "                        <td id=\"T_2f25c428_09d2_11eb_925d_00e0201808a0row6_col2\" class=\"data row6 col2\" >0.6377</td>\n",
       "                        <td id=\"T_2f25c428_09d2_11eb_925d_00e0201808a0row6_col3\" class=\"data row6 col3\" >0.7539</td>\n",
       "                        <td id=\"T_2f25c428_09d2_11eb_925d_00e0201808a0row6_col4\" class=\"data row6 col4\" >0.6909</td>\n",
       "                        <td id=\"T_2f25c428_09d2_11eb_925d_00e0201808a0row6_col5\" class=\"data row6 col5\" >0.3801</td>\n",
       "                        <td id=\"T_2f25c428_09d2_11eb_925d_00e0201808a0row6_col6\" class=\"data row6 col6\" >0.3856</td>\n",
       "            </tr>\n",
       "            <tr>\n",
       "                        <th id=\"T_2f25c428_09d2_11eb_925d_00e0201808a0level0_row7\" class=\"row_heading level0 row7\" >7</th>\n",
       "                        <td id=\"T_2f25c428_09d2_11eb_925d_00e0201808a0row7_col0\" class=\"data row7 col0\" >0.6812</td>\n",
       "                        <td id=\"T_2f25c428_09d2_11eb_925d_00e0201808a0row7_col1\" class=\"data row7 col1\" >0.7479</td>\n",
       "                        <td id=\"T_2f25c428_09d2_11eb_925d_00e0201808a0row7_col2\" class=\"data row7 col2\" >0.6481</td>\n",
       "                        <td id=\"T_2f25c428_09d2_11eb_925d_00e0201808a0row7_col3\" class=\"data row7 col3\" >0.7369</td>\n",
       "                        <td id=\"T_2f25c428_09d2_11eb_925d_00e0201808a0row7_col4\" class=\"data row7 col4\" >0.6897</td>\n",
       "                        <td id=\"T_2f25c428_09d2_11eb_925d_00e0201808a0row7_col5\" class=\"data row7 col5\" >0.3646</td>\n",
       "                        <td id=\"T_2f25c428_09d2_11eb_925d_00e0201808a0row7_col6\" class=\"data row7 col6\" >0.3678</td>\n",
       "            </tr>\n",
       "            <tr>\n",
       "                        <th id=\"T_2f25c428_09d2_11eb_925d_00e0201808a0level0_row8\" class=\"row_heading level0 row8\" >8</th>\n",
       "                        <td id=\"T_2f25c428_09d2_11eb_925d_00e0201808a0row8_col0\" class=\"data row8 col0\" >0.6919</td>\n",
       "                        <td id=\"T_2f25c428_09d2_11eb_925d_00e0201808a0row8_col1\" class=\"data row8 col1\" >0.7718</td>\n",
       "                        <td id=\"T_2f25c428_09d2_11eb_925d_00e0201808a0row8_col2\" class=\"data row8 col2\" >0.6473</td>\n",
       "                        <td id=\"T_2f25c428_09d2_11eb_925d_00e0201808a0row8_col3\" class=\"data row8 col3\" >0.7543</td>\n",
       "                        <td id=\"T_2f25c428_09d2_11eb_925d_00e0201808a0row8_col4\" class=\"data row8 col4\" >0.6967</td>\n",
       "                        <td id=\"T_2f25c428_09d2_11eb_925d_00e0201808a0row8_col5\" class=\"data row8 col5\" >0.3874</td>\n",
       "                        <td id=\"T_2f25c428_09d2_11eb_925d_00e0201808a0row8_col6\" class=\"data row8 col6\" >0.3921</td>\n",
       "            </tr>\n",
       "            <tr>\n",
       "                        <th id=\"T_2f25c428_09d2_11eb_925d_00e0201808a0level0_row9\" class=\"row_heading level0 row9\" >9</th>\n",
       "                        <td id=\"T_2f25c428_09d2_11eb_925d_00e0201808a0row9_col0\" class=\"data row9 col0\" >0.6901</td>\n",
       "                        <td id=\"T_2f25c428_09d2_11eb_925d_00e0201808a0row9_col1\" class=\"data row9 col1\" >0.7570</td>\n",
       "                        <td id=\"T_2f25c428_09d2_11eb_925d_00e0201808a0row9_col2\" class=\"data row9 col2\" >0.6481</td>\n",
       "                        <td id=\"T_2f25c428_09d2_11eb_925d_00e0201808a0row9_col3\" class=\"data row9 col3\" >0.7510</td>\n",
       "                        <td id=\"T_2f25c428_09d2_11eb_925d_00e0201808a0row9_col4\" class=\"data row9 col4\" >0.6957</td>\n",
       "                        <td id=\"T_2f25c428_09d2_11eb_925d_00e0201808a0row9_col5\" class=\"data row9 col5\" >0.3835</td>\n",
       "                        <td id=\"T_2f25c428_09d2_11eb_925d_00e0201808a0row9_col6\" class=\"data row9 col6\" >0.3878</td>\n",
       "            </tr>\n",
       "            <tr>\n",
       "                        <th id=\"T_2f25c428_09d2_11eb_925d_00e0201808a0level0_row10\" class=\"row_heading level0 row10\" >Mean</th>\n",
       "                        <td id=\"T_2f25c428_09d2_11eb_925d_00e0201808a0row10_col0\" class=\"data row10 col0\" >0.6903</td>\n",
       "                        <td id=\"T_2f25c428_09d2_11eb_925d_00e0201808a0row10_col1\" class=\"data row10 col1\" >0.7609</td>\n",
       "                        <td id=\"T_2f25c428_09d2_11eb_925d_00e0201808a0row10_col2\" class=\"data row10 col2\" >0.6486</td>\n",
       "                        <td id=\"T_2f25c428_09d2_11eb_925d_00e0201808a0row10_col3\" class=\"data row10 col3\" >0.7510</td>\n",
       "                        <td id=\"T_2f25c428_09d2_11eb_925d_00e0201808a0row10_col4\" class=\"data row10 col4\" >0.6961</td>\n",
       "                        <td id=\"T_2f25c428_09d2_11eb_925d_00e0201808a0row10_col5\" class=\"data row10 col5\" >0.3837</td>\n",
       "                        <td id=\"T_2f25c428_09d2_11eb_925d_00e0201808a0row10_col6\" class=\"data row10 col6\" >0.3880</td>\n",
       "            </tr>\n",
       "            <tr>\n",
       "                        <th id=\"T_2f25c428_09d2_11eb_925d_00e0201808a0level0_row11\" class=\"row_heading level0 row11\" >SD</th>\n",
       "                        <td id=\"T_2f25c428_09d2_11eb_925d_00e0201808a0row11_col0\" class=\"data row11 col0\" >0.0058</td>\n",
       "                        <td id=\"T_2f25c428_09d2_11eb_925d_00e0201808a0row11_col1\" class=\"data row11 col1\" >0.0072</td>\n",
       "                        <td id=\"T_2f25c428_09d2_11eb_925d_00e0201808a0row11_col2\" class=\"data row11 col2\" >0.0057</td>\n",
       "                        <td id=\"T_2f25c428_09d2_11eb_925d_00e0201808a0row11_col3\" class=\"data row11 col3\" >0.0072</td>\n",
       "                        <td id=\"T_2f25c428_09d2_11eb_925d_00e0201808a0row11_col4\" class=\"data row11 col4\" >0.0054</td>\n",
       "                        <td id=\"T_2f25c428_09d2_11eb_925d_00e0201808a0row11_col5\" class=\"data row11 col5\" >0.0117</td>\n",
       "                        <td id=\"T_2f25c428_09d2_11eb_925d_00e0201808a0row11_col6\" class=\"data row11 col6\" >0.0120</td>\n",
       "            </tr>\n",
       "    </tbody></table>"
      ],
      "text/plain": [
       "<pandas.io.formats.style.Styler at 0x24b15e641c8>"
      ]
     },
     "metadata": {},
     "output_type": "display_data"
    }
   ],
   "source": [
    "lightgbm = create_model('lightgbm')"
   ]
  },
  {
   "cell_type": "code",
   "execution_count": 26,
   "metadata": {},
   "outputs": [
    {
     "data": {
      "image/png": "[encoded data removed]",
      "text/plain": [
       "<Figure size 800x500 with 1 Axes>"
      ]
     },
     "metadata": {},
     "output_type": "display_data"
    }
   ],
   "source": [
    "plot_model(estimator = lightgbm, plot = 'feature')"
   ]
  },
  {
   "cell_type": "code",
   "execution_count": null,
   "metadata": {},
   "outputs": [],
   "source": []
  }
 ],
 "metadata": {
  "kernelspec": {
   "display_name": "Python 3",
   "language": "python",
   "name": "python3"
  },
  "language_info": {
   "codemirror_mode": {
    "name": "ipython",
    "version": 3
   },
   "file_extension": ".py",
   "mimetype": "text/x-python",
   "name": "python",
   "nbconvert_exporter": "python",
   "pygments_lexer": "ipython3",
   "version": "3.7.6"
  }
 },
 "nbformat": 4,
 "nbformat_minor": 4
}
