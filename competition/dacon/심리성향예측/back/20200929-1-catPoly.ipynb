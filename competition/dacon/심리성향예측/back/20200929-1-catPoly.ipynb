{
 "cells": [
  {
   "cell_type": "code",
   "execution_count": 1,
   "metadata": {},
   "outputs": [],
   "source": [
    "import numpy as np\n",
    "import pandas as pd\n",
    "import matplotlib.pyplot as plt\n",
    "import seaborn as sns\n",
    "import warnings\n",
    "warnings.filterwarnings('ignore')\n",
    "%matplotlib inline\n",
    "\n",
    "from IPython.core.interactiveshell import InteractiveShell\n",
    "InteractiveShell.ast_node_interactivity = \"all\"\n",
    "\n",
    "np.random.seed(42)\n",
    "\n",
    "from sklearn.model_selection import train_test_split\n",
    "import lightgbm as lgbm\n",
    "from sklearn.metrics import confusion_matrix, accuracy_score"
   ]
  },
  {
   "cell_type": "markdown",
   "metadata": {},
   "source": [
    "# 1. 데이터 로드"
   ]
  },
  {
   "cell_type": "code",
   "execution_count": 2,
   "metadata": {},
   "outputs": [],
   "source": [
    "train=pd.read_csv('input/train.csv', index_col=0) #인덱스 col=0도 check!\n",
    "test=pd.read_csv('input/test_x.csv', index_col=0)\n",
    "submission=pd.read_csv('input/sample_submission.csv', index_col=0)  "
   ]
  },
  {
   "cell_type": "code",
   "execution_count": null,
   "metadata": {},
   "outputs": [],
   "source": [
    "train.shape, test.shape, submission.shape"
   ]
  },
  {
   "cell_type": "code",
   "execution_count": null,
   "metadata": {},
   "outputs": [],
   "source": [
    "train.head(3)\n",
    "test.head(3)\n",
    "submission.head(3)"
   ]
  },
  {
   "cell_type": "code",
   "execution_count": null,
   "metadata": {},
   "outputs": [],
   "source": []
  },
  {
   "cell_type": "markdown",
   "metadata": {},
   "source": [
    "# 2. EDA & 전처리"
   ]
  },
  {
   "cell_type": "code",
   "execution_count": null,
   "metadata": {},
   "outputs": [],
   "source": [
    "df = pd.concat([train, test])\n",
    "df.shape"
   ]
  },
  {
   "cell_type": "code",
   "execution_count": null,
   "metadata": {},
   "outputs": [],
   "source": [
    "train.info"
   ]
  },
  {
   "cell_type": "markdown",
   "metadata": {},
   "source": [
    "## Missing Value"
   ]
  },
  {
   "cell_type": "code",
   "execution_count": null,
   "metadata": {},
   "outputs": [],
   "source": [
    "train.isnull().sum().sum()\n",
    "test.isnull().sum().sum()"
   ]
  },
  {
   "cell_type": "code",
   "execution_count": null,
   "metadata": {},
   "outputs": [],
   "source": []
  },
  {
   "cell_type": "markdown",
   "metadata": {},
   "source": [
    "## Target 분포"
   ]
  },
  {
   "cell_type": "code",
   "execution_count": null,
   "metadata": {},
   "outputs": [],
   "source": [
    "f, ax = plt.subplots(1, 2, figsize=(10, 4))\n",
    "\n",
    "train['voted'].value_counts().plot.pie(autopct='%1.1f%%', ax=ax[0], shadow=True)\n",
    "sns.countplot('voted', data=train, ax=ax[1])\n",
    "\n",
    "plt.show()\n",
    "\n",
    "# 균일"
   ]
  },
  {
   "cell_type": "code",
   "execution_count": null,
   "metadata": {},
   "outputs": [],
   "source": []
  },
  {
   "cell_type": "markdown",
   "metadata": {},
   "source": [
    "## Outlier"
   ]
  },
  {
   "cell_type": "code",
   "execution_count": null,
   "metadata": {},
   "outputs": [],
   "source": [
    "test.familysize.max(), test.familysize.mean(), train[train.familysize < 30]['familysize'].mean()"
   ]
  },
  {
   "cell_type": "code",
   "execution_count": 3,
   "metadata": {},
   "outputs": [
    {
     "data": {
      "text/plain": [
       "44            3\n",
       "21            2\n",
       "34            1\n",
       "100           1\n",
       "999           1\n",
       "30            1\n",
       "2147483647    1\n",
       "Name: familysize, dtype: int64"
      ]
     },
     "execution_count": 3,
     "metadata": {},
     "output_type": "execute_result"
    }
   ],
   "source": [
    "train[train.familysize > 20]['familysize'].value_counts().sort_values(ascending=False)"
   ]
  },
  {
   "cell_type": "code",
   "execution_count": null,
   "metadata": {},
   "outputs": [],
   "source": [
    "train.loc[train[train.familysize > 25].index, 'familysize'] = 2.6"
   ]
  },
  {
   "cell_type": "code",
   "execution_count": null,
   "metadata": {},
   "outputs": [],
   "source": [
    "train['familysize'].value_counts()"
   ]
  },
  {
   "cell_type": "markdown",
   "metadata": {},
   "source": [
    "## 인코딩"
   ]
  },
  {
   "cell_type": "code",
   "execution_count": null,
   "metadata": {},
   "outputs": [],
   "source": [
    "#age_group, gender, race, religion\n",
    "train['age_group'] = train['age_group'].str.replace('s','').astype('int')\n",
    "train['gender']= pd.factorize(train['gender'])[0]\n",
    "train['race']=pd.factorize(train['race'])[0]\n",
    "train['religion']=pd.factorize(train['religion'])[0]\n",
    "\n",
    "test['age_group'] = test['age_group'].str.replace('s','').astype('int')\n",
    "test['gender']=pd.factorize(test['gender'])[0]\n",
    "test['race']=pd.factorize(test['race'])[0]\n",
    "test['religion']=pd.factorize(test['religion'])[0]"
   ]
  },
  {
   "cell_type": "markdown",
   "metadata": {},
   "source": [
    "### One-hot"
   ]
  },
  {
   "cell_type": "code",
   "execution_count": null,
   "metadata": {
    "scrolled": false
   },
   "outputs": [],
   "source": [
    "train = pd.get_dummies(train, columns=['age_group', 'education', 'engnat', 'gender', 'hand',\n",
    "       'married', 'race', 'religion', 'tp01', 'tp02', 'tp03', 'tp04', 'tp05',\n",
    "       'tp06', 'tp07', 'tp08', 'tp09', 'tp10', 'urban', 'wf_01',\n",
    "       'wf_02', 'wf_03', 'wr_01', 'wr_02', 'wr_03', 'wr_04', 'wr_05', 'wr_06',\n",
    "       'wr_07', 'wr_08', 'wr_09', 'wr_10', 'wr_11', 'wr_12', 'wr_13'])\n",
    "train"
   ]
  },
  {
   "cell_type": "code",
   "execution_count": null,
   "metadata": {},
   "outputs": [],
   "source": [
    "test = pd.get_dummies(test, columns=['age_group', 'education', 'engnat', 'gender', 'hand',\n",
    "       'married', 'race', 'religion', 'tp01', 'tp02', 'tp03', 'tp04', 'tp05',\n",
    "       'tp06', 'tp07', 'tp08', 'tp09', 'tp10', 'urban', 'wf_01',\n",
    "       'wf_02', 'wf_03', 'wr_01', 'wr_02', 'wr_03', 'wr_04', 'wr_05', 'wr_06',\n",
    "       'wr_07', 'wr_08', 'wr_09', 'wr_10', 'wr_11', 'wr_12', 'wr_13'])\n",
    "test"
   ]
  },
  {
   "cell_type": "code",
   "execution_count": null,
   "metadata": {},
   "outputs": [],
   "source": [
    "train.shape, test.shape\n",
    "train.columns.values\n",
    "test.columns.values"
   ]
  },
  {
   "cell_type": "code",
   "execution_count": null,
   "metadata": {},
   "outputs": [],
   "source": []
  },
  {
   "cell_type": "markdown",
   "metadata": {},
   "source": [
    "# 3. 모델 학습"
   ]
  },
  {
   "cell_type": "code",
   "execution_count": 4,
   "metadata": {},
   "outputs": [],
   "source": [
    "from pycaret.classification import *"
   ]
  },
  {
   "cell_type": "code",
   "execution_count": 5,
   "metadata": {},
   "outputs": [
    {
     "data": {
      "text/plain": [
       "4"
      ]
     },
     "execution_count": 5,
     "metadata": {},
     "output_type": "execute_result"
    }
   ],
   "source": [
    "import gc\n",
    "gc.collect()"
   ]
  },
  {
   "cell_type": "code",
   "execution_count": 6,
   "metadata": {
    "scrolled": false
   },
   "outputs": [
    {
     "name": "stdout",
     "output_type": "stream",
     "text": [
      "Setup Succesfully Completed!\n"
     ]
    },
    {
     "data": {
      "text/html": [
       "<style  type=\"text/css\" >\n",
       "#T_a3e1d862_01ef_11eb_a7d5_00e0201808a0row32_col1{\n",
       "            background-color:  lightgreen;\n",
       "        }</style><table id=\"T_a3e1d862_01ef_11eb_a7d5_00e0201808a0\" ><thead>    <tr>        <th class=\"blank level0\" ></th>        <th class=\"col_heading level0 col0\" >Description</th>        <th class=\"col_heading level0 col1\" >Value</th>    </tr></thead><tbody>\n",
       "                <tr>\n",
       "                        <th id=\"T_a3e1d862_01ef_11eb_a7d5_00e0201808a0level0_row0\" class=\"row_heading level0 row0\" >0</th>\n",
       "                        <td id=\"T_a3e1d862_01ef_11eb_a7d5_00e0201808a0row0_col0\" class=\"data row0 col0\" >session_id</td>\n",
       "                        <td id=\"T_a3e1d862_01ef_11eb_a7d5_00e0201808a0row0_col1\" class=\"data row0 col1\" >2920</td>\n",
       "            </tr>\n",
       "            <tr>\n",
       "                        <th id=\"T_a3e1d862_01ef_11eb_a7d5_00e0201808a0level0_row1\" class=\"row_heading level0 row1\" >1</th>\n",
       "                        <td id=\"T_a3e1d862_01ef_11eb_a7d5_00e0201808a0row1_col0\" class=\"data row1 col0\" >Target Type</td>\n",
       "                        <td id=\"T_a3e1d862_01ef_11eb_a7d5_00e0201808a0row1_col1\" class=\"data row1 col1\" >Binary</td>\n",
       "            </tr>\n",
       "            <tr>\n",
       "                        <th id=\"T_a3e1d862_01ef_11eb_a7d5_00e0201808a0level0_row2\" class=\"row_heading level0 row2\" >2</th>\n",
       "                        <td id=\"T_a3e1d862_01ef_11eb_a7d5_00e0201808a0row2_col0\" class=\"data row2 col0\" >Label Encoded</td>\n",
       "                        <td id=\"T_a3e1d862_01ef_11eb_a7d5_00e0201808a0row2_col1\" class=\"data row2 col1\" >1: 0, 2: 1</td>\n",
       "            </tr>\n",
       "            <tr>\n",
       "                        <th id=\"T_a3e1d862_01ef_11eb_a7d5_00e0201808a0level0_row3\" class=\"row_heading level0 row3\" >3</th>\n",
       "                        <td id=\"T_a3e1d862_01ef_11eb_a7d5_00e0201808a0row3_col0\" class=\"data row3 col0\" >Original Data</td>\n",
       "                        <td id=\"T_a3e1d862_01ef_11eb_a7d5_00e0201808a0row3_col1\" class=\"data row3 col1\" >(45532, 77)</td>\n",
       "            </tr>\n",
       "            <tr>\n",
       "                        <th id=\"T_a3e1d862_01ef_11eb_a7d5_00e0201808a0level0_row4\" class=\"row_heading level0 row4\" >4</th>\n",
       "                        <td id=\"T_a3e1d862_01ef_11eb_a7d5_00e0201808a0row4_col0\" class=\"data row4 col0\" >Missing Values </td>\n",
       "                        <td id=\"T_a3e1d862_01ef_11eb_a7d5_00e0201808a0row4_col1\" class=\"data row4 col1\" >False</td>\n",
       "            </tr>\n",
       "            <tr>\n",
       "                        <th id=\"T_a3e1d862_01ef_11eb_a7d5_00e0201808a0level0_row5\" class=\"row_heading level0 row5\" >5</th>\n",
       "                        <td id=\"T_a3e1d862_01ef_11eb_a7d5_00e0201808a0row5_col0\" class=\"data row5 col0\" >Numeric Features </td>\n",
       "                        <td id=\"T_a3e1d862_01ef_11eb_a7d5_00e0201808a0row5_col1\" class=\"data row5 col1\" >41</td>\n",
       "            </tr>\n",
       "            <tr>\n",
       "                        <th id=\"T_a3e1d862_01ef_11eb_a7d5_00e0201808a0level0_row6\" class=\"row_heading level0 row6\" >6</th>\n",
       "                        <td id=\"T_a3e1d862_01ef_11eb_a7d5_00e0201808a0row6_col0\" class=\"data row6 col0\" >Categorical Features </td>\n",
       "                        <td id=\"T_a3e1d862_01ef_11eb_a7d5_00e0201808a0row6_col1\" class=\"data row6 col1\" >35</td>\n",
       "            </tr>\n",
       "            <tr>\n",
       "                        <th id=\"T_a3e1d862_01ef_11eb_a7d5_00e0201808a0level0_row7\" class=\"row_heading level0 row7\" >7</th>\n",
       "                        <td id=\"T_a3e1d862_01ef_11eb_a7d5_00e0201808a0row7_col0\" class=\"data row7 col0\" >Ordinal Features </td>\n",
       "                        <td id=\"T_a3e1d862_01ef_11eb_a7d5_00e0201808a0row7_col1\" class=\"data row7 col1\" >False</td>\n",
       "            </tr>\n",
       "            <tr>\n",
       "                        <th id=\"T_a3e1d862_01ef_11eb_a7d5_00e0201808a0level0_row8\" class=\"row_heading level0 row8\" >8</th>\n",
       "                        <td id=\"T_a3e1d862_01ef_11eb_a7d5_00e0201808a0row8_col0\" class=\"data row8 col0\" >High Cardinality Features </td>\n",
       "                        <td id=\"T_a3e1d862_01ef_11eb_a7d5_00e0201808a0row8_col1\" class=\"data row8 col1\" >False</td>\n",
       "            </tr>\n",
       "            <tr>\n",
       "                        <th id=\"T_a3e1d862_01ef_11eb_a7d5_00e0201808a0level0_row9\" class=\"row_heading level0 row9\" >9</th>\n",
       "                        <td id=\"T_a3e1d862_01ef_11eb_a7d5_00e0201808a0row9_col0\" class=\"data row9 col0\" >High Cardinality Method </td>\n",
       "                        <td id=\"T_a3e1d862_01ef_11eb_a7d5_00e0201808a0row9_col1\" class=\"data row9 col1\" >None</td>\n",
       "            </tr>\n",
       "            <tr>\n",
       "                        <th id=\"T_a3e1d862_01ef_11eb_a7d5_00e0201808a0level0_row10\" class=\"row_heading level0 row10\" >10</th>\n",
       "                        <td id=\"T_a3e1d862_01ef_11eb_a7d5_00e0201808a0row10_col0\" class=\"data row10 col0\" >Sampled Data</td>\n",
       "                        <td id=\"T_a3e1d862_01ef_11eb_a7d5_00e0201808a0row10_col1\" class=\"data row10 col1\" >(45532, 77)</td>\n",
       "            </tr>\n",
       "            <tr>\n",
       "                        <th id=\"T_a3e1d862_01ef_11eb_a7d5_00e0201808a0level0_row11\" class=\"row_heading level0 row11\" >11</th>\n",
       "                        <td id=\"T_a3e1d862_01ef_11eb_a7d5_00e0201808a0row11_col0\" class=\"data row11 col0\" >Transformed Train Set</td>\n",
       "                        <td id=\"T_a3e1d862_01ef_11eb_a7d5_00e0201808a0row11_col1\" class=\"data row11 col1\" >(31872, 215)</td>\n",
       "            </tr>\n",
       "            <tr>\n",
       "                        <th id=\"T_a3e1d862_01ef_11eb_a7d5_00e0201808a0level0_row12\" class=\"row_heading level0 row12\" >12</th>\n",
       "                        <td id=\"T_a3e1d862_01ef_11eb_a7d5_00e0201808a0row12_col0\" class=\"data row12 col0\" >Transformed Test Set</td>\n",
       "                        <td id=\"T_a3e1d862_01ef_11eb_a7d5_00e0201808a0row12_col1\" class=\"data row12 col1\" >(13660, 215)</td>\n",
       "            </tr>\n",
       "            <tr>\n",
       "                        <th id=\"T_a3e1d862_01ef_11eb_a7d5_00e0201808a0level0_row13\" class=\"row_heading level0 row13\" >13</th>\n",
       "                        <td id=\"T_a3e1d862_01ef_11eb_a7d5_00e0201808a0row13_col0\" class=\"data row13 col0\" >Numeric Imputer </td>\n",
       "                        <td id=\"T_a3e1d862_01ef_11eb_a7d5_00e0201808a0row13_col1\" class=\"data row13 col1\" >mean</td>\n",
       "            </tr>\n",
       "            <tr>\n",
       "                        <th id=\"T_a3e1d862_01ef_11eb_a7d5_00e0201808a0level0_row14\" class=\"row_heading level0 row14\" >14</th>\n",
       "                        <td id=\"T_a3e1d862_01ef_11eb_a7d5_00e0201808a0row14_col0\" class=\"data row14 col0\" >Categorical Imputer </td>\n",
       "                        <td id=\"T_a3e1d862_01ef_11eb_a7d5_00e0201808a0row14_col1\" class=\"data row14 col1\" >constant</td>\n",
       "            </tr>\n",
       "            <tr>\n",
       "                        <th id=\"T_a3e1d862_01ef_11eb_a7d5_00e0201808a0level0_row15\" class=\"row_heading level0 row15\" >15</th>\n",
       "                        <td id=\"T_a3e1d862_01ef_11eb_a7d5_00e0201808a0row15_col0\" class=\"data row15 col0\" >Normalize </td>\n",
       "                        <td id=\"T_a3e1d862_01ef_11eb_a7d5_00e0201808a0row15_col1\" class=\"data row15 col1\" >False</td>\n",
       "            </tr>\n",
       "            <tr>\n",
       "                        <th id=\"T_a3e1d862_01ef_11eb_a7d5_00e0201808a0level0_row16\" class=\"row_heading level0 row16\" >16</th>\n",
       "                        <td id=\"T_a3e1d862_01ef_11eb_a7d5_00e0201808a0row16_col0\" class=\"data row16 col0\" >Normalize Method </td>\n",
       "                        <td id=\"T_a3e1d862_01ef_11eb_a7d5_00e0201808a0row16_col1\" class=\"data row16 col1\" >None</td>\n",
       "            </tr>\n",
       "            <tr>\n",
       "                        <th id=\"T_a3e1d862_01ef_11eb_a7d5_00e0201808a0level0_row17\" class=\"row_heading level0 row17\" >17</th>\n",
       "                        <td id=\"T_a3e1d862_01ef_11eb_a7d5_00e0201808a0row17_col0\" class=\"data row17 col0\" >Transformation </td>\n",
       "                        <td id=\"T_a3e1d862_01ef_11eb_a7d5_00e0201808a0row17_col1\" class=\"data row17 col1\" >False</td>\n",
       "            </tr>\n",
       "            <tr>\n",
       "                        <th id=\"T_a3e1d862_01ef_11eb_a7d5_00e0201808a0level0_row18\" class=\"row_heading level0 row18\" >18</th>\n",
       "                        <td id=\"T_a3e1d862_01ef_11eb_a7d5_00e0201808a0row18_col0\" class=\"data row18 col0\" >Transformation Method </td>\n",
       "                        <td id=\"T_a3e1d862_01ef_11eb_a7d5_00e0201808a0row18_col1\" class=\"data row18 col1\" >None</td>\n",
       "            </tr>\n",
       "            <tr>\n",
       "                        <th id=\"T_a3e1d862_01ef_11eb_a7d5_00e0201808a0level0_row19\" class=\"row_heading level0 row19\" >19</th>\n",
       "                        <td id=\"T_a3e1d862_01ef_11eb_a7d5_00e0201808a0row19_col0\" class=\"data row19 col0\" >PCA </td>\n",
       "                        <td id=\"T_a3e1d862_01ef_11eb_a7d5_00e0201808a0row19_col1\" class=\"data row19 col1\" >False</td>\n",
       "            </tr>\n",
       "            <tr>\n",
       "                        <th id=\"T_a3e1d862_01ef_11eb_a7d5_00e0201808a0level0_row20\" class=\"row_heading level0 row20\" >20</th>\n",
       "                        <td id=\"T_a3e1d862_01ef_11eb_a7d5_00e0201808a0row20_col0\" class=\"data row20 col0\" >PCA Method </td>\n",
       "                        <td id=\"T_a3e1d862_01ef_11eb_a7d5_00e0201808a0row20_col1\" class=\"data row20 col1\" >None</td>\n",
       "            </tr>\n",
       "            <tr>\n",
       "                        <th id=\"T_a3e1d862_01ef_11eb_a7d5_00e0201808a0level0_row21\" class=\"row_heading level0 row21\" >21</th>\n",
       "                        <td id=\"T_a3e1d862_01ef_11eb_a7d5_00e0201808a0row21_col0\" class=\"data row21 col0\" >PCA Components </td>\n",
       "                        <td id=\"T_a3e1d862_01ef_11eb_a7d5_00e0201808a0row21_col1\" class=\"data row21 col1\" >None</td>\n",
       "            </tr>\n",
       "            <tr>\n",
       "                        <th id=\"T_a3e1d862_01ef_11eb_a7d5_00e0201808a0level0_row22\" class=\"row_heading level0 row22\" >22</th>\n",
       "                        <td id=\"T_a3e1d862_01ef_11eb_a7d5_00e0201808a0row22_col0\" class=\"data row22 col0\" >Ignore Low Variance </td>\n",
       "                        <td id=\"T_a3e1d862_01ef_11eb_a7d5_00e0201808a0row22_col1\" class=\"data row22 col1\" >False</td>\n",
       "            </tr>\n",
       "            <tr>\n",
       "                        <th id=\"T_a3e1d862_01ef_11eb_a7d5_00e0201808a0level0_row23\" class=\"row_heading level0 row23\" >23</th>\n",
       "                        <td id=\"T_a3e1d862_01ef_11eb_a7d5_00e0201808a0row23_col0\" class=\"data row23 col0\" >Combine Rare Levels </td>\n",
       "                        <td id=\"T_a3e1d862_01ef_11eb_a7d5_00e0201808a0row23_col1\" class=\"data row23 col1\" >False</td>\n",
       "            </tr>\n",
       "            <tr>\n",
       "                        <th id=\"T_a3e1d862_01ef_11eb_a7d5_00e0201808a0level0_row24\" class=\"row_heading level0 row24\" >24</th>\n",
       "                        <td id=\"T_a3e1d862_01ef_11eb_a7d5_00e0201808a0row24_col0\" class=\"data row24 col0\" >Rare Level Threshold </td>\n",
       "                        <td id=\"T_a3e1d862_01ef_11eb_a7d5_00e0201808a0row24_col1\" class=\"data row24 col1\" >None</td>\n",
       "            </tr>\n",
       "            <tr>\n",
       "                        <th id=\"T_a3e1d862_01ef_11eb_a7d5_00e0201808a0level0_row25\" class=\"row_heading level0 row25\" >25</th>\n",
       "                        <td id=\"T_a3e1d862_01ef_11eb_a7d5_00e0201808a0row25_col0\" class=\"data row25 col0\" >Numeric Binning </td>\n",
       "                        <td id=\"T_a3e1d862_01ef_11eb_a7d5_00e0201808a0row25_col1\" class=\"data row25 col1\" >False</td>\n",
       "            </tr>\n",
       "            <tr>\n",
       "                        <th id=\"T_a3e1d862_01ef_11eb_a7d5_00e0201808a0level0_row26\" class=\"row_heading level0 row26\" >26</th>\n",
       "                        <td id=\"T_a3e1d862_01ef_11eb_a7d5_00e0201808a0row26_col0\" class=\"data row26 col0\" >Remove Outliers </td>\n",
       "                        <td id=\"T_a3e1d862_01ef_11eb_a7d5_00e0201808a0row26_col1\" class=\"data row26 col1\" >False</td>\n",
       "            </tr>\n",
       "            <tr>\n",
       "                        <th id=\"T_a3e1d862_01ef_11eb_a7d5_00e0201808a0level0_row27\" class=\"row_heading level0 row27\" >27</th>\n",
       "                        <td id=\"T_a3e1d862_01ef_11eb_a7d5_00e0201808a0row27_col0\" class=\"data row27 col0\" >Outliers Threshold </td>\n",
       "                        <td id=\"T_a3e1d862_01ef_11eb_a7d5_00e0201808a0row27_col1\" class=\"data row27 col1\" >None</td>\n",
       "            </tr>\n",
       "            <tr>\n",
       "                        <th id=\"T_a3e1d862_01ef_11eb_a7d5_00e0201808a0level0_row28\" class=\"row_heading level0 row28\" >28</th>\n",
       "                        <td id=\"T_a3e1d862_01ef_11eb_a7d5_00e0201808a0row28_col0\" class=\"data row28 col0\" >Remove Multicollinearity </td>\n",
       "                        <td id=\"T_a3e1d862_01ef_11eb_a7d5_00e0201808a0row28_col1\" class=\"data row28 col1\" >False</td>\n",
       "            </tr>\n",
       "            <tr>\n",
       "                        <th id=\"T_a3e1d862_01ef_11eb_a7d5_00e0201808a0level0_row29\" class=\"row_heading level0 row29\" >29</th>\n",
       "                        <td id=\"T_a3e1d862_01ef_11eb_a7d5_00e0201808a0row29_col0\" class=\"data row29 col0\" >Multicollinearity Threshold </td>\n",
       "                        <td id=\"T_a3e1d862_01ef_11eb_a7d5_00e0201808a0row29_col1\" class=\"data row29 col1\" >None</td>\n",
       "            </tr>\n",
       "            <tr>\n",
       "                        <th id=\"T_a3e1d862_01ef_11eb_a7d5_00e0201808a0level0_row30\" class=\"row_heading level0 row30\" >30</th>\n",
       "                        <td id=\"T_a3e1d862_01ef_11eb_a7d5_00e0201808a0row30_col0\" class=\"data row30 col0\" >Clustering </td>\n",
       "                        <td id=\"T_a3e1d862_01ef_11eb_a7d5_00e0201808a0row30_col1\" class=\"data row30 col1\" >False</td>\n",
       "            </tr>\n",
       "            <tr>\n",
       "                        <th id=\"T_a3e1d862_01ef_11eb_a7d5_00e0201808a0level0_row31\" class=\"row_heading level0 row31\" >31</th>\n",
       "                        <td id=\"T_a3e1d862_01ef_11eb_a7d5_00e0201808a0row31_col0\" class=\"data row31 col0\" >Clustering Iteration </td>\n",
       "                        <td id=\"T_a3e1d862_01ef_11eb_a7d5_00e0201808a0row31_col1\" class=\"data row31 col1\" >None</td>\n",
       "            </tr>\n",
       "            <tr>\n",
       "                        <th id=\"T_a3e1d862_01ef_11eb_a7d5_00e0201808a0level0_row32\" class=\"row_heading level0 row32\" >32</th>\n",
       "                        <td id=\"T_a3e1d862_01ef_11eb_a7d5_00e0201808a0row32_col0\" class=\"data row32 col0\" >Polynomial Features </td>\n",
       "                        <td id=\"T_a3e1d862_01ef_11eb_a7d5_00e0201808a0row32_col1\" class=\"data row32 col1\" >True</td>\n",
       "            </tr>\n",
       "            <tr>\n",
       "                        <th id=\"T_a3e1d862_01ef_11eb_a7d5_00e0201808a0level0_row33\" class=\"row_heading level0 row33\" >33</th>\n",
       "                        <td id=\"T_a3e1d862_01ef_11eb_a7d5_00e0201808a0row33_col0\" class=\"data row33 col0\" >Polynomial Degree </td>\n",
       "                        <td id=\"T_a3e1d862_01ef_11eb_a7d5_00e0201808a0row33_col1\" class=\"data row33 col1\" >2</td>\n",
       "            </tr>\n",
       "            <tr>\n",
       "                        <th id=\"T_a3e1d862_01ef_11eb_a7d5_00e0201808a0level0_row34\" class=\"row_heading level0 row34\" >34</th>\n",
       "                        <td id=\"T_a3e1d862_01ef_11eb_a7d5_00e0201808a0row34_col0\" class=\"data row34 col0\" >Trignometry Features </td>\n",
       "                        <td id=\"T_a3e1d862_01ef_11eb_a7d5_00e0201808a0row34_col1\" class=\"data row34 col1\" >False</td>\n",
       "            </tr>\n",
       "            <tr>\n",
       "                        <th id=\"T_a3e1d862_01ef_11eb_a7d5_00e0201808a0level0_row35\" class=\"row_heading level0 row35\" >35</th>\n",
       "                        <td id=\"T_a3e1d862_01ef_11eb_a7d5_00e0201808a0row35_col0\" class=\"data row35 col0\" >Polynomial Threshold </td>\n",
       "                        <td id=\"T_a3e1d862_01ef_11eb_a7d5_00e0201808a0row35_col1\" class=\"data row35 col1\" >0.100000</td>\n",
       "            </tr>\n",
       "            <tr>\n",
       "                        <th id=\"T_a3e1d862_01ef_11eb_a7d5_00e0201808a0level0_row36\" class=\"row_heading level0 row36\" >36</th>\n",
       "                        <td id=\"T_a3e1d862_01ef_11eb_a7d5_00e0201808a0row36_col0\" class=\"data row36 col0\" >Group Features </td>\n",
       "                        <td id=\"T_a3e1d862_01ef_11eb_a7d5_00e0201808a0row36_col1\" class=\"data row36 col1\" >False</td>\n",
       "            </tr>\n",
       "            <tr>\n",
       "                        <th id=\"T_a3e1d862_01ef_11eb_a7d5_00e0201808a0level0_row37\" class=\"row_heading level0 row37\" >37</th>\n",
       "                        <td id=\"T_a3e1d862_01ef_11eb_a7d5_00e0201808a0row37_col0\" class=\"data row37 col0\" >Feature Selection </td>\n",
       "                        <td id=\"T_a3e1d862_01ef_11eb_a7d5_00e0201808a0row37_col1\" class=\"data row37 col1\" >False</td>\n",
       "            </tr>\n",
       "            <tr>\n",
       "                        <th id=\"T_a3e1d862_01ef_11eb_a7d5_00e0201808a0level0_row38\" class=\"row_heading level0 row38\" >38</th>\n",
       "                        <td id=\"T_a3e1d862_01ef_11eb_a7d5_00e0201808a0row38_col0\" class=\"data row38 col0\" >Features Selection Threshold </td>\n",
       "                        <td id=\"T_a3e1d862_01ef_11eb_a7d5_00e0201808a0row38_col1\" class=\"data row38 col1\" >None</td>\n",
       "            </tr>\n",
       "            <tr>\n",
       "                        <th id=\"T_a3e1d862_01ef_11eb_a7d5_00e0201808a0level0_row39\" class=\"row_heading level0 row39\" >39</th>\n",
       "                        <td id=\"T_a3e1d862_01ef_11eb_a7d5_00e0201808a0row39_col0\" class=\"data row39 col0\" >Feature Interaction </td>\n",
       "                        <td id=\"T_a3e1d862_01ef_11eb_a7d5_00e0201808a0row39_col1\" class=\"data row39 col1\" >False</td>\n",
       "            </tr>\n",
       "            <tr>\n",
       "                        <th id=\"T_a3e1d862_01ef_11eb_a7d5_00e0201808a0level0_row40\" class=\"row_heading level0 row40\" >40</th>\n",
       "                        <td id=\"T_a3e1d862_01ef_11eb_a7d5_00e0201808a0row40_col0\" class=\"data row40 col0\" >Feature Ratio </td>\n",
       "                        <td id=\"T_a3e1d862_01ef_11eb_a7d5_00e0201808a0row40_col1\" class=\"data row40 col1\" >False</td>\n",
       "            </tr>\n",
       "            <tr>\n",
       "                        <th id=\"T_a3e1d862_01ef_11eb_a7d5_00e0201808a0level0_row41\" class=\"row_heading level0 row41\" >41</th>\n",
       "                        <td id=\"T_a3e1d862_01ef_11eb_a7d5_00e0201808a0row41_col0\" class=\"data row41 col0\" >Interaction Threshold </td>\n",
       "                        <td id=\"T_a3e1d862_01ef_11eb_a7d5_00e0201808a0row41_col1\" class=\"data row41 col1\" >None</td>\n",
       "            </tr>\n",
       "            <tr>\n",
       "                        <th id=\"T_a3e1d862_01ef_11eb_a7d5_00e0201808a0level0_row42\" class=\"row_heading level0 row42\" >42</th>\n",
       "                        <td id=\"T_a3e1d862_01ef_11eb_a7d5_00e0201808a0row42_col0\" class=\"data row42 col0\" >Fix Imbalance</td>\n",
       "                        <td id=\"T_a3e1d862_01ef_11eb_a7d5_00e0201808a0row42_col1\" class=\"data row42 col1\" >False</td>\n",
       "            </tr>\n",
       "            <tr>\n",
       "                        <th id=\"T_a3e1d862_01ef_11eb_a7d5_00e0201808a0level0_row43\" class=\"row_heading level0 row43\" >43</th>\n",
       "                        <td id=\"T_a3e1d862_01ef_11eb_a7d5_00e0201808a0row43_col0\" class=\"data row43 col0\" >Fix Imbalance Method</td>\n",
       "                        <td id=\"T_a3e1d862_01ef_11eb_a7d5_00e0201808a0row43_col1\" class=\"data row43 col1\" >SMOTE</td>\n",
       "            </tr>\n",
       "    </tbody></table>"
      ],
      "text/plain": [
       "<pandas.io.formats.style.Styler at 0x26a21ac20c8>"
      ]
     },
     "metadata": {},
     "output_type": "display_data"
    },
    {
     "name": "stdout",
     "output_type": "stream",
     "text": [
      "Wall time: 18.1 s\n"
     ]
    }
   ],
   "source": [
    "%%time\n",
    "clf = setup(data = train, target = 'voted', polynomial_features=True\n",
    "           , categorical_features=['age_group','gender','race','religion'])"
   ]
  },
  {
   "cell_type": "code",
   "execution_count": 7,
   "metadata": {},
   "outputs": [
    {
     "data": {
      "text/html": [
       "<style  type=\"text/css\" >\n",
       "    #T_47ddc08c_01f3_11eb_b392_00e0201808a0 th {\n",
       "          text-align: left;\n",
       "    }#T_47ddc08c_01f3_11eb_b392_00e0201808a0row0_col0,#T_47ddc08c_01f3_11eb_b392_00e0201808a0row0_col1,#T_47ddc08c_01f3_11eb_b392_00e0201808a0row0_col3,#T_47ddc08c_01f3_11eb_b392_00e0201808a0row0_col4,#T_47ddc08c_01f3_11eb_b392_00e0201808a0row0_col5,#T_47ddc08c_01f3_11eb_b392_00e0201808a0row0_col6,#T_47ddc08c_01f3_11eb_b392_00e0201808a0row0_col7,#T_47ddc08c_01f3_11eb_b392_00e0201808a0row1_col0,#T_47ddc08c_01f3_11eb_b392_00e0201808a0row1_col2,#T_47ddc08c_01f3_11eb_b392_00e0201808a0row1_col3,#T_47ddc08c_01f3_11eb_b392_00e0201808a0row1_col5,#T_47ddc08c_01f3_11eb_b392_00e0201808a0row2_col0,#T_47ddc08c_01f3_11eb_b392_00e0201808a0row2_col1,#T_47ddc08c_01f3_11eb_b392_00e0201808a0row2_col2,#T_47ddc08c_01f3_11eb_b392_00e0201808a0row2_col3,#T_47ddc08c_01f3_11eb_b392_00e0201808a0row2_col4,#T_47ddc08c_01f3_11eb_b392_00e0201808a0row2_col5,#T_47ddc08c_01f3_11eb_b392_00e0201808a0row2_col6,#T_47ddc08c_01f3_11eb_b392_00e0201808a0row2_col7,#T_47ddc08c_01f3_11eb_b392_00e0201808a0row3_col0,#T_47ddc08c_01f3_11eb_b392_00e0201808a0row3_col1,#T_47ddc08c_01f3_11eb_b392_00e0201808a0row3_col2,#T_47ddc08c_01f3_11eb_b392_00e0201808a0row3_col3,#T_47ddc08c_01f3_11eb_b392_00e0201808a0row3_col4,#T_47ddc08c_01f3_11eb_b392_00e0201808a0row3_col5,#T_47ddc08c_01f3_11eb_b392_00e0201808a0row3_col6,#T_47ddc08c_01f3_11eb_b392_00e0201808a0row3_col7,#T_47ddc08c_01f3_11eb_b392_00e0201808a0row4_col0,#T_47ddc08c_01f3_11eb_b392_00e0201808a0row4_col1,#T_47ddc08c_01f3_11eb_b392_00e0201808a0row4_col2,#T_47ddc08c_01f3_11eb_b392_00e0201808a0row4_col3,#T_47ddc08c_01f3_11eb_b392_00e0201808a0row4_col4,#T_47ddc08c_01f3_11eb_b392_00e0201808a0row4_col6,#T_47ddc08c_01f3_11eb_b392_00e0201808a0row4_col7,#T_47ddc08c_01f3_11eb_b392_00e0201808a0row5_col0,#T_47ddc08c_01f3_11eb_b392_00e0201808a0row5_col1,#T_47ddc08c_01f3_11eb_b392_00e0201808a0row5_col2,#T_47ddc08c_01f3_11eb_b392_00e0201808a0row5_col3,#T_47ddc08c_01f3_11eb_b392_00e0201808a0row5_col4,#T_47ddc08c_01f3_11eb_b392_00e0201808a0row5_col5,#T_47ddc08c_01f3_11eb_b392_00e0201808a0row5_col6,#T_47ddc08c_01f3_11eb_b392_00e0201808a0row5_col7,#T_47ddc08c_01f3_11eb_b392_00e0201808a0row6_col0,#T_47ddc08c_01f3_11eb_b392_00e0201808a0row6_col1,#T_47ddc08c_01f3_11eb_b392_00e0201808a0row6_col2,#T_47ddc08c_01f3_11eb_b392_00e0201808a0row6_col3,#T_47ddc08c_01f3_11eb_b392_00e0201808a0row6_col4,#T_47ddc08c_01f3_11eb_b392_00e0201808a0row6_col5,#T_47ddc08c_01f3_11eb_b392_00e0201808a0row6_col6,#T_47ddc08c_01f3_11eb_b392_00e0201808a0row6_col7,#T_47ddc08c_01f3_11eb_b392_00e0201808a0row7_col0,#T_47ddc08c_01f3_11eb_b392_00e0201808a0row7_col1,#T_47ddc08c_01f3_11eb_b392_00e0201808a0row7_col2,#T_47ddc08c_01f3_11eb_b392_00e0201808a0row7_col3,#T_47ddc08c_01f3_11eb_b392_00e0201808a0row7_col4,#T_47ddc08c_01f3_11eb_b392_00e0201808a0row7_col5,#T_47ddc08c_01f3_11eb_b392_00e0201808a0row7_col6,#T_47ddc08c_01f3_11eb_b392_00e0201808a0row7_col7,#T_47ddc08c_01f3_11eb_b392_00e0201808a0row8_col0,#T_47ddc08c_01f3_11eb_b392_00e0201808a0row8_col1,#T_47ddc08c_01f3_11eb_b392_00e0201808a0row8_col2,#T_47ddc08c_01f3_11eb_b392_00e0201808a0row8_col3,#T_47ddc08c_01f3_11eb_b392_00e0201808a0row8_col4,#T_47ddc08c_01f3_11eb_b392_00e0201808a0row8_col5,#T_47ddc08c_01f3_11eb_b392_00e0201808a0row8_col6,#T_47ddc08c_01f3_11eb_b392_00e0201808a0row8_col7,#T_47ddc08c_01f3_11eb_b392_00e0201808a0row9_col0,#T_47ddc08c_01f3_11eb_b392_00e0201808a0row9_col1,#T_47ddc08c_01f3_11eb_b392_00e0201808a0row9_col2,#T_47ddc08c_01f3_11eb_b392_00e0201808a0row9_col3,#T_47ddc08c_01f3_11eb_b392_00e0201808a0row9_col4,#T_47ddc08c_01f3_11eb_b392_00e0201808a0row9_col5,#T_47ddc08c_01f3_11eb_b392_00e0201808a0row9_col6,#T_47ddc08c_01f3_11eb_b392_00e0201808a0row9_col7,#T_47ddc08c_01f3_11eb_b392_00e0201808a0row10_col0,#T_47ddc08c_01f3_11eb_b392_00e0201808a0row10_col1,#T_47ddc08c_01f3_11eb_b392_00e0201808a0row10_col2,#T_47ddc08c_01f3_11eb_b392_00e0201808a0row10_col3,#T_47ddc08c_01f3_11eb_b392_00e0201808a0row10_col4,#T_47ddc08c_01f3_11eb_b392_00e0201808a0row10_col5,#T_47ddc08c_01f3_11eb_b392_00e0201808a0row10_col6,#T_47ddc08c_01f3_11eb_b392_00e0201808a0row10_col7,#T_47ddc08c_01f3_11eb_b392_00e0201808a0row11_col0,#T_47ddc08c_01f3_11eb_b392_00e0201808a0row11_col1,#T_47ddc08c_01f3_11eb_b392_00e0201808a0row11_col2,#T_47ddc08c_01f3_11eb_b392_00e0201808a0row11_col4,#T_47ddc08c_01f3_11eb_b392_00e0201808a0row11_col5,#T_47ddc08c_01f3_11eb_b392_00e0201808a0row11_col6,#T_47ddc08c_01f3_11eb_b392_00e0201808a0row11_col7,#T_47ddc08c_01f3_11eb_b392_00e0201808a0row12_col0,#T_47ddc08c_01f3_11eb_b392_00e0201808a0row12_col1,#T_47ddc08c_01f3_11eb_b392_00e0201808a0row12_col2,#T_47ddc08c_01f3_11eb_b392_00e0201808a0row12_col3,#T_47ddc08c_01f3_11eb_b392_00e0201808a0row12_col4,#T_47ddc08c_01f3_11eb_b392_00e0201808a0row12_col5,#T_47ddc08c_01f3_11eb_b392_00e0201808a0row12_col6,#T_47ddc08c_01f3_11eb_b392_00e0201808a0row12_col7,#T_47ddc08c_01f3_11eb_b392_00e0201808a0row13_col0,#T_47ddc08c_01f3_11eb_b392_00e0201808a0row13_col1,#T_47ddc08c_01f3_11eb_b392_00e0201808a0row13_col2,#T_47ddc08c_01f3_11eb_b392_00e0201808a0row13_col3,#T_47ddc08c_01f3_11eb_b392_00e0201808a0row13_col4,#T_47ddc08c_01f3_11eb_b392_00e0201808a0row13_col5,#T_47ddc08c_01f3_11eb_b392_00e0201808a0row13_col6,#T_47ddc08c_01f3_11eb_b392_00e0201808a0row13_col7,#T_47ddc08c_01f3_11eb_b392_00e0201808a0row14_col0,#T_47ddc08c_01f3_11eb_b392_00e0201808a0row14_col1,#T_47ddc08c_01f3_11eb_b392_00e0201808a0row14_col2,#T_47ddc08c_01f3_11eb_b392_00e0201808a0row14_col3,#T_47ddc08c_01f3_11eb_b392_00e0201808a0row14_col4,#T_47ddc08c_01f3_11eb_b392_00e0201808a0row14_col6,#T_47ddc08c_01f3_11eb_b392_00e0201808a0row14_col7{\n",
       "            text-align:  left;\n",
       "        }#T_47ddc08c_01f3_11eb_b392_00e0201808a0row0_col2,#T_47ddc08c_01f3_11eb_b392_00e0201808a0row1_col1,#T_47ddc08c_01f3_11eb_b392_00e0201808a0row1_col4,#T_47ddc08c_01f3_11eb_b392_00e0201808a0row1_col6,#T_47ddc08c_01f3_11eb_b392_00e0201808a0row1_col7,#T_47ddc08c_01f3_11eb_b392_00e0201808a0row4_col5,#T_47ddc08c_01f3_11eb_b392_00e0201808a0row11_col3,#T_47ddc08c_01f3_11eb_b392_00e0201808a0row14_col5{\n",
       "            background-color:  yellow;\n",
       "            text-align:  left;\n",
       "        }#T_47ddc08c_01f3_11eb_b392_00e0201808a0row0_col8,#T_47ddc08c_01f3_11eb_b392_00e0201808a0row1_col8,#T_47ddc08c_01f3_11eb_b392_00e0201808a0row2_col8,#T_47ddc08c_01f3_11eb_b392_00e0201808a0row3_col8,#T_47ddc08c_01f3_11eb_b392_00e0201808a0row4_col8,#T_47ddc08c_01f3_11eb_b392_00e0201808a0row5_col8,#T_47ddc08c_01f3_11eb_b392_00e0201808a0row6_col8,#T_47ddc08c_01f3_11eb_b392_00e0201808a0row7_col8,#T_47ddc08c_01f3_11eb_b392_00e0201808a0row8_col8,#T_47ddc08c_01f3_11eb_b392_00e0201808a0row9_col8,#T_47ddc08c_01f3_11eb_b392_00e0201808a0row10_col8,#T_47ddc08c_01f3_11eb_b392_00e0201808a0row11_col8,#T_47ddc08c_01f3_11eb_b392_00e0201808a0row12_col8,#T_47ddc08c_01f3_11eb_b392_00e0201808a0row13_col8,#T_47ddc08c_01f3_11eb_b392_00e0201808a0row14_col8{\n",
       "            background-color:  lightgrey;\n",
       "            text-align:  left;\n",
       "        }</style><table id=\"T_47ddc08c_01f3_11eb_b392_00e0201808a0\" ><thead>    <tr>        <th class=\"blank level0\" ></th>        <th class=\"col_heading level0 col0\" >Model</th>        <th class=\"col_heading level0 col1\" >Accuracy</th>        <th class=\"col_heading level0 col2\" >AUC</th>        <th class=\"col_heading level0 col3\" >Recall</th>        <th class=\"col_heading level0 col4\" >Prec.</th>        <th class=\"col_heading level0 col5\" >F1</th>        <th class=\"col_heading level0 col6\" >Kappa</th>        <th class=\"col_heading level0 col7\" >MCC</th>        <th class=\"col_heading level0 col8\" >TT (Sec)</th>    </tr></thead><tbody>\n",
       "                <tr>\n",
       "                        <th id=\"T_47ddc08c_01f3_11eb_b392_00e0201808a0level0_row0\" class=\"row_heading level0 row0\" >0</th>\n",
       "                        <td id=\"T_47ddc08c_01f3_11eb_b392_00e0201808a0row0_col0\" class=\"data row0 col0\" >CatBoost Classifier</td>\n",
       "                        <td id=\"T_47ddc08c_01f3_11eb_b392_00e0201808a0row0_col1\" class=\"data row0 col1\" >0.6933</td>\n",
       "                        <td id=\"T_47ddc08c_01f3_11eb_b392_00e0201808a0row0_col2\" class=\"data row0 col2\" >0.7653</td>\n",
       "                        <td id=\"T_47ddc08c_01f3_11eb_b392_00e0201808a0row0_col3\" class=\"data row0 col3\" >0.6568</td>\n",
       "                        <td id=\"T_47ddc08c_01f3_11eb_b392_00e0201808a0row0_col4\" class=\"data row0 col4\" >0.7511</td>\n",
       "                        <td id=\"T_47ddc08c_01f3_11eb_b392_00e0201808a0row0_col5\" class=\"data row0 col5\" >0.7008</td>\n",
       "                        <td id=\"T_47ddc08c_01f3_11eb_b392_00e0201808a0row0_col6\" class=\"data row0 col6\" >0.3892</td>\n",
       "                        <td id=\"T_47ddc08c_01f3_11eb_b392_00e0201808a0row0_col7\" class=\"data row0 col7\" >0.3929</td>\n",
       "                        <td id=\"T_47ddc08c_01f3_11eb_b392_00e0201808a0row0_col8\" class=\"data row0 col8\" >23.7287</td>\n",
       "            </tr>\n",
       "            <tr>\n",
       "                        <th id=\"T_47ddc08c_01f3_11eb_b392_00e0201808a0level0_row1\" class=\"row_heading level0 row1\" >1</th>\n",
       "                        <td id=\"T_47ddc08c_01f3_11eb_b392_00e0201808a0row1_col0\" class=\"data row1 col0\" >Gradient Boosting Classifier</td>\n",
       "                        <td id=\"T_47ddc08c_01f3_11eb_b392_00e0201808a0row1_col1\" class=\"data row1 col1\" >0.6958</td>\n",
       "                        <td id=\"T_47ddc08c_01f3_11eb_b392_00e0201808a0row1_col2\" class=\"data row1 col2\" >0.7650</td>\n",
       "                        <td id=\"T_47ddc08c_01f3_11eb_b392_00e0201808a0row1_col3\" class=\"data row1 col3\" >0.6393</td>\n",
       "                        <td id=\"T_47ddc08c_01f3_11eb_b392_00e0201808a0row1_col4\" class=\"data row1 col4\" >0.7658</td>\n",
       "                        <td id=\"T_47ddc08c_01f3_11eb_b392_00e0201808a0row1_col5\" class=\"data row1 col5\" >0.6968</td>\n",
       "                        <td id=\"T_47ddc08c_01f3_11eb_b392_00e0201808a0row1_col6\" class=\"data row1 col6\" >0.3966</td>\n",
       "                        <td id=\"T_47ddc08c_01f3_11eb_b392_00e0201808a0row1_col7\" class=\"data row1 col7\" >0.4031</td>\n",
       "                        <td id=\"T_47ddc08c_01f3_11eb_b392_00e0201808a0row1_col8\" class=\"data row1 col8\" >33.1965</td>\n",
       "            </tr>\n",
       "            <tr>\n",
       "                        <th id=\"T_47ddc08c_01f3_11eb_b392_00e0201808a0level0_row2\" class=\"row_heading level0 row2\" >2</th>\n",
       "                        <td id=\"T_47ddc08c_01f3_11eb_b392_00e0201808a0row2_col0\" class=\"data row2 col0\" >Light Gradient Boosting Machine</td>\n",
       "                        <td id=\"T_47ddc08c_01f3_11eb_b392_00e0201808a0row2_col1\" class=\"data row2 col1\" >0.6953</td>\n",
       "                        <td id=\"T_47ddc08c_01f3_11eb_b392_00e0201808a0row2_col2\" class=\"data row2 col2\" >0.7647</td>\n",
       "                        <td id=\"T_47ddc08c_01f3_11eb_b392_00e0201808a0row2_col3\" class=\"data row2 col3\" >0.6472</td>\n",
       "                        <td id=\"T_47ddc08c_01f3_11eb_b392_00e0201808a0row2_col4\" class=\"data row2 col4\" >0.7600</td>\n",
       "                        <td id=\"T_47ddc08c_01f3_11eb_b392_00e0201808a0row2_col5\" class=\"data row2 col5\" >0.6990</td>\n",
       "                        <td id=\"T_47ddc08c_01f3_11eb_b392_00e0201808a0row2_col6\" class=\"data row2 col6\" >0.3945</td>\n",
       "                        <td id=\"T_47ddc08c_01f3_11eb_b392_00e0201808a0row2_col7\" class=\"data row2 col7\" >0.3997</td>\n",
       "                        <td id=\"T_47ddc08c_01f3_11eb_b392_00e0201808a0row2_col8\" class=\"data row2 col8\" >1.3759</td>\n",
       "            </tr>\n",
       "            <tr>\n",
       "                        <th id=\"T_47ddc08c_01f3_11eb_b392_00e0201808a0level0_row3\" class=\"row_heading level0 row3\" >3</th>\n",
       "                        <td id=\"T_47ddc08c_01f3_11eb_b392_00e0201808a0row3_col0\" class=\"data row3 col0\" >Extra Trees Classifier</td>\n",
       "                        <td id=\"T_47ddc08c_01f3_11eb_b392_00e0201808a0row3_col1\" class=\"data row3 col1\" >0.6948</td>\n",
       "                        <td id=\"T_47ddc08c_01f3_11eb_b392_00e0201808a0row3_col2\" class=\"data row3 col2\" >0.7621</td>\n",
       "                        <td id=\"T_47ddc08c_01f3_11eb_b392_00e0201808a0row3_col3\" class=\"data row3 col3\" >0.6530</td>\n",
       "                        <td id=\"T_47ddc08c_01f3_11eb_b392_00e0201808a0row3_col4\" class=\"data row3 col4\" >0.7558</td>\n",
       "                        <td id=\"T_47ddc08c_01f3_11eb_b392_00e0201808a0row3_col5\" class=\"data row3 col5\" >0.7006</td>\n",
       "                        <td id=\"T_47ddc08c_01f3_11eb_b392_00e0201808a0row3_col6\" class=\"data row3 col6\" >0.3928</td>\n",
       "                        <td id=\"T_47ddc08c_01f3_11eb_b392_00e0201808a0row3_col7\" class=\"data row3 col7\" >0.3972</td>\n",
       "                        <td id=\"T_47ddc08c_01f3_11eb_b392_00e0201808a0row3_col8\" class=\"data row3 col8\" >4.3592</td>\n",
       "            </tr>\n",
       "            <tr>\n",
       "                        <th id=\"T_47ddc08c_01f3_11eb_b392_00e0201808a0level0_row4\" class=\"row_heading level0 row4\" >4</th>\n",
       "                        <td id=\"T_47ddc08c_01f3_11eb_b392_00e0201808a0row4_col0\" class=\"data row4 col0\" >Linear Discriminant Analysis</td>\n",
       "                        <td id=\"T_47ddc08c_01f3_11eb_b392_00e0201808a0row4_col1\" class=\"data row4 col1\" >0.6923</td>\n",
       "                        <td id=\"T_47ddc08c_01f3_11eb_b392_00e0201808a0row4_col2\" class=\"data row4 col2\" >0.7611</td>\n",
       "                        <td id=\"T_47ddc08c_01f3_11eb_b392_00e0201808a0row4_col3\" class=\"data row4 col3\" >0.6593</td>\n",
       "                        <td id=\"T_47ddc08c_01f3_11eb_b392_00e0201808a0row4_col4\" class=\"data row4 col4\" >0.7481</td>\n",
       "                        <td id=\"T_47ddc08c_01f3_11eb_b392_00e0201808a0row4_col5\" class=\"data row4 col5\" >0.7009</td>\n",
       "                        <td id=\"T_47ddc08c_01f3_11eb_b392_00e0201808a0row4_col6\" class=\"data row4 col6\" >0.3867</td>\n",
       "                        <td id=\"T_47ddc08c_01f3_11eb_b392_00e0201808a0row4_col7\" class=\"data row4 col7\" >0.3900</td>\n",
       "                        <td id=\"T_47ddc08c_01f3_11eb_b392_00e0201808a0row4_col8\" class=\"data row4 col8\" >0.9835</td>\n",
       "            </tr>\n",
       "            <tr>\n",
       "                        <th id=\"T_47ddc08c_01f3_11eb_b392_00e0201808a0level0_row5\" class=\"row_heading level0 row5\" >5</th>\n",
       "                        <td id=\"T_47ddc08c_01f3_11eb_b392_00e0201808a0row5_col0\" class=\"data row5 col0\" >Ada Boost Classifier</td>\n",
       "                        <td id=\"T_47ddc08c_01f3_11eb_b392_00e0201808a0row5_col1\" class=\"data row5 col1\" >0.6914</td>\n",
       "                        <td id=\"T_47ddc08c_01f3_11eb_b392_00e0201808a0row5_col2\" class=\"data row5 col2\" >0.7578</td>\n",
       "                        <td id=\"T_47ddc08c_01f3_11eb_b392_00e0201808a0row5_col3\" class=\"data row5 col3\" >0.6487</td>\n",
       "                        <td id=\"T_47ddc08c_01f3_11eb_b392_00e0201808a0row5_col4\" class=\"data row5 col4\" >0.7526</td>\n",
       "                        <td id=\"T_47ddc08c_01f3_11eb_b392_00e0201808a0row5_col5\" class=\"data row5 col5\" >0.6968</td>\n",
       "                        <td id=\"T_47ddc08c_01f3_11eb_b392_00e0201808a0row5_col6\" class=\"data row5 col6\" >0.3860</td>\n",
       "                        <td id=\"T_47ddc08c_01f3_11eb_b392_00e0201808a0row5_col7\" class=\"data row5 col7\" >0.3905</td>\n",
       "                        <td id=\"T_47ddc08c_01f3_11eb_b392_00e0201808a0row5_col8\" class=\"data row5 col8\" >6.9019</td>\n",
       "            </tr>\n",
       "            <tr>\n",
       "                        <th id=\"T_47ddc08c_01f3_11eb_b392_00e0201808a0level0_row6\" class=\"row_heading level0 row6\" >6</th>\n",
       "                        <td id=\"T_47ddc08c_01f3_11eb_b392_00e0201808a0row6_col0\" class=\"data row6 col0\" >Extreme Gradient Boosting</td>\n",
       "                        <td id=\"T_47ddc08c_01f3_11eb_b392_00e0201808a0row6_col1\" class=\"data row6 col1\" >0.6785</td>\n",
       "                        <td id=\"T_47ddc08c_01f3_11eb_b392_00e0201808a0row6_col2\" class=\"data row6 col2\" >0.7479</td>\n",
       "                        <td id=\"T_47ddc08c_01f3_11eb_b392_00e0201808a0row6_col3\" class=\"data row6 col3\" >0.6675</td>\n",
       "                        <td id=\"T_47ddc08c_01f3_11eb_b392_00e0201808a0row6_col4\" class=\"data row6 col4\" >0.7233</td>\n",
       "                        <td id=\"T_47ddc08c_01f3_11eb_b392_00e0201808a0row6_col5\" class=\"data row6 col5\" >0.6943</td>\n",
       "                        <td id=\"T_47ddc08c_01f3_11eb_b392_00e0201808a0row6_col6\" class=\"data row6 col6\" >0.3565</td>\n",
       "                        <td id=\"T_47ddc08c_01f3_11eb_b392_00e0201808a0row6_col7\" class=\"data row6 col7\" >0.3578</td>\n",
       "                        <td id=\"T_47ddc08c_01f3_11eb_b392_00e0201808a0row6_col8\" class=\"data row6 col8\" >13.1975</td>\n",
       "            </tr>\n",
       "            <tr>\n",
       "                        <th id=\"T_47ddc08c_01f3_11eb_b392_00e0201808a0level0_row7\" class=\"row_heading level0 row7\" >7</th>\n",
       "                        <td id=\"T_47ddc08c_01f3_11eb_b392_00e0201808a0row7_col0\" class=\"data row7 col0\" >Random Forest Classifier</td>\n",
       "                        <td id=\"T_47ddc08c_01f3_11eb_b392_00e0201808a0row7_col1\" class=\"data row7 col1\" >0.6528</td>\n",
       "                        <td id=\"T_47ddc08c_01f3_11eb_b392_00e0201808a0row7_col2\" class=\"data row7 col2\" >0.7094</td>\n",
       "                        <td id=\"T_47ddc08c_01f3_11eb_b392_00e0201808a0row7_col3\" class=\"data row7 col3\" >0.6027</td>\n",
       "                        <td id=\"T_47ddc08c_01f3_11eb_b392_00e0201808a0row7_col4\" class=\"data row7 col4\" >0.7173</td>\n",
       "                        <td id=\"T_47ddc08c_01f3_11eb_b392_00e0201808a0row7_col5\" class=\"data row7 col5\" >0.6550</td>\n",
       "                        <td id=\"T_47ddc08c_01f3_11eb_b392_00e0201808a0row7_col6\" class=\"data row7 col6\" >0.3109</td>\n",
       "                        <td id=\"T_47ddc08c_01f3_11eb_b392_00e0201808a0row7_col7\" class=\"data row7 col7\" >0.3157</td>\n",
       "                        <td id=\"T_47ddc08c_01f3_11eb_b392_00e0201808a0row7_col8\" class=\"data row7 col8\" >0.4909</td>\n",
       "            </tr>\n",
       "            <tr>\n",
       "                        <th id=\"T_47ddc08c_01f3_11eb_b392_00e0201808a0level0_row8\" class=\"row_heading level0 row8\" >8</th>\n",
       "                        <td id=\"T_47ddc08c_01f3_11eb_b392_00e0201808a0row8_col0\" class=\"data row8 col0\" >Decision Tree Classifier</td>\n",
       "                        <td id=\"T_47ddc08c_01f3_11eb_b392_00e0201808a0row8_col1\" class=\"data row8 col1\" >0.6057</td>\n",
       "                        <td id=\"T_47ddc08c_01f3_11eb_b392_00e0201808a0row8_col2\" class=\"data row8 col2\" >0.6025</td>\n",
       "                        <td id=\"T_47ddc08c_01f3_11eb_b392_00e0201808a0row8_col3\" class=\"data row8 col3\" >0.6374</td>\n",
       "                        <td id=\"T_47ddc08c_01f3_11eb_b392_00e0201808a0row8_col4\" class=\"data row8 col4\" >0.6401</td>\n",
       "                        <td id=\"T_47ddc08c_01f3_11eb_b392_00e0201808a0row8_col5\" class=\"data row8 col5\" >0.6387</td>\n",
       "                        <td id=\"T_47ddc08c_01f3_11eb_b392_00e0201808a0row8_col6\" class=\"data row8 col6\" >0.2048</td>\n",
       "                        <td id=\"T_47ddc08c_01f3_11eb_b392_00e0201808a0row8_col7\" class=\"data row8 col7\" >0.2049</td>\n",
       "                        <td id=\"T_47ddc08c_01f3_11eb_b392_00e0201808a0row8_col8\" class=\"data row8 col8\" >2.2528</td>\n",
       "            </tr>\n",
       "            <tr>\n",
       "                        <th id=\"T_47ddc08c_01f3_11eb_b392_00e0201808a0level0_row9\" class=\"row_heading level0 row9\" >9</th>\n",
       "                        <td id=\"T_47ddc08c_01f3_11eb_b392_00e0201808a0row9_col0\" class=\"data row9 col0\" >Quadratic Discriminant Analysis</td>\n",
       "                        <td id=\"T_47ddc08c_01f3_11eb_b392_00e0201808a0row9_col1\" class=\"data row9 col1\" >0.5173</td>\n",
       "                        <td id=\"T_47ddc08c_01f3_11eb_b392_00e0201808a0row9_col2\" class=\"data row9 col2\" >0.5232</td>\n",
       "                        <td id=\"T_47ddc08c_01f3_11eb_b392_00e0201808a0row9_col3\" class=\"data row9 col3\" >0.6274</td>\n",
       "                        <td id=\"T_47ddc08c_01f3_11eb_b392_00e0201808a0row9_col4\" class=\"data row9 col4\" >0.5754</td>\n",
       "                        <td id=\"T_47ddc08c_01f3_11eb_b392_00e0201808a0row9_col5\" class=\"data row9 col5\" >0.4835</td>\n",
       "                        <td id=\"T_47ddc08c_01f3_11eb_b392_00e0201808a0row9_col6\" class=\"data row9 col6\" >0.0111</td>\n",
       "                        <td id=\"T_47ddc08c_01f3_11eb_b392_00e0201808a0row9_col7\" class=\"data row9 col7\" >0.0267</td>\n",
       "                        <td id=\"T_47ddc08c_01f3_11eb_b392_00e0201808a0row9_col8\" class=\"data row9 col8\" >0.3958</td>\n",
       "            </tr>\n",
       "            <tr>\n",
       "                        <th id=\"T_47ddc08c_01f3_11eb_b392_00e0201808a0level0_row10\" class=\"row_heading level0 row10\" >10</th>\n",
       "                        <td id=\"T_47ddc08c_01f3_11eb_b392_00e0201808a0row10_col0\" class=\"data row10 col0\" >K Neighbors Classifier</td>\n",
       "                        <td id=\"T_47ddc08c_01f3_11eb_b392_00e0201808a0row10_col1\" class=\"data row10 col1\" >0.5179</td>\n",
       "                        <td id=\"T_47ddc08c_01f3_11eb_b392_00e0201808a0row10_col2\" class=\"data row10 col2\" >0.5131</td>\n",
       "                        <td id=\"T_47ddc08c_01f3_11eb_b392_00e0201808a0row10_col3\" class=\"data row10 col3\" >0.5872</td>\n",
       "                        <td id=\"T_47ddc08c_01f3_11eb_b392_00e0201808a0row10_col4\" class=\"data row10 col4\" >0.5560</td>\n",
       "                        <td id=\"T_47ddc08c_01f3_11eb_b392_00e0201808a0row10_col5\" class=\"data row10 col5\" >0.5712</td>\n",
       "                        <td id=\"T_47ddc08c_01f3_11eb_b392_00e0201808a0row10_col6\" class=\"data row10 col6\" >0.0215</td>\n",
       "                        <td id=\"T_47ddc08c_01f3_11eb_b392_00e0201808a0row10_col7\" class=\"data row10 col7\" >0.0215</td>\n",
       "                        <td id=\"T_47ddc08c_01f3_11eb_b392_00e0201808a0row10_col8\" class=\"data row10 col8\" >2.0066</td>\n",
       "            </tr>\n",
       "            <tr>\n",
       "                        <th id=\"T_47ddc08c_01f3_11eb_b392_00e0201808a0level0_row11\" class=\"row_heading level0 row11\" >11</th>\n",
       "                        <td id=\"T_47ddc08c_01f3_11eb_b392_00e0201808a0row11_col0\" class=\"data row11 col0\" >Naive Bayes</td>\n",
       "                        <td id=\"T_47ddc08c_01f3_11eb_b392_00e0201808a0row11_col1\" class=\"data row11 col1\" >0.5375</td>\n",
       "                        <td id=\"T_47ddc08c_01f3_11eb_b392_00e0201808a0row11_col2\" class=\"data row11 col2\" >0.5076</td>\n",
       "                        <td id=\"T_47ddc08c_01f3_11eb_b392_00e0201808a0row11_col3\" class=\"data row11 col3\" >0.8993</td>\n",
       "                        <td id=\"T_47ddc08c_01f3_11eb_b392_00e0201808a0row11_col4\" class=\"data row11 col4\" >0.5636</td>\n",
       "                        <td id=\"T_47ddc08c_01f3_11eb_b392_00e0201808a0row11_col5\" class=\"data row11 col5\" >0.6367</td>\n",
       "                        <td id=\"T_47ddc08c_01f3_11eb_b392_00e0201808a0row11_col6\" class=\"data row11 col6\" >0.0003</td>\n",
       "                        <td id=\"T_47ddc08c_01f3_11eb_b392_00e0201808a0row11_col7\" class=\"data row11 col7\" >0.0023</td>\n",
       "                        <td id=\"T_47ddc08c_01f3_11eb_b392_00e0201808a0row11_col8\" class=\"data row11 col8\" >0.1326</td>\n",
       "            </tr>\n",
       "            <tr>\n",
       "                        <th id=\"T_47ddc08c_01f3_11eb_b392_00e0201808a0level0_row12\" class=\"row_heading level0 row12\" >12</th>\n",
       "                        <td id=\"T_47ddc08c_01f3_11eb_b392_00e0201808a0row12_col0\" class=\"data row12 col0\" >Logistic Regression</td>\n",
       "                        <td id=\"T_47ddc08c_01f3_11eb_b392_00e0201808a0row12_col1\" class=\"data row12 col1\" >0.4614</td>\n",
       "                        <td id=\"T_47ddc08c_01f3_11eb_b392_00e0201808a0row12_col2\" class=\"data row12 col2\" >0.4992</td>\n",
       "                        <td id=\"T_47ddc08c_01f3_11eb_b392_00e0201808a0row12_col3\" class=\"data row12 col3\" >0.0893</td>\n",
       "                        <td id=\"T_47ddc08c_01f3_11eb_b392_00e0201808a0row12_col4\" class=\"data row12 col4\" >0.0546</td>\n",
       "                        <td id=\"T_47ddc08c_01f3_11eb_b392_00e0201808a0row12_col5\" class=\"data row12 col5\" >0.0677</td>\n",
       "                        <td id=\"T_47ddc08c_01f3_11eb_b392_00e0201808a0row12_col6\" class=\"data row12 col6\" >-0.0004</td>\n",
       "                        <td id=\"T_47ddc08c_01f3_11eb_b392_00e0201808a0row12_col7\" class=\"data row12 col7\" >-0.0006</td>\n",
       "                        <td id=\"T_47ddc08c_01f3_11eb_b392_00e0201808a0row12_col8\" class=\"data row12 col8\" >0.3076</td>\n",
       "            </tr>\n",
       "            <tr>\n",
       "                        <th id=\"T_47ddc08c_01f3_11eb_b392_00e0201808a0level0_row13\" class=\"row_heading level0 row13\" >13</th>\n",
       "                        <td id=\"T_47ddc08c_01f3_11eb_b392_00e0201808a0row13_col0\" class=\"data row13 col0\" >SVM - Linear Kernel</td>\n",
       "                        <td id=\"T_47ddc08c_01f3_11eb_b392_00e0201808a0row13_col1\" class=\"data row13 col1\" >0.4638</td>\n",
       "                        <td id=\"T_47ddc08c_01f3_11eb_b392_00e0201808a0row13_col2\" class=\"data row13 col2\" >0.0000</td>\n",
       "                        <td id=\"T_47ddc08c_01f3_11eb_b392_00e0201808a0row13_col3\" class=\"data row13 col3\" >0.1113</td>\n",
       "                        <td id=\"T_47ddc08c_01f3_11eb_b392_00e0201808a0row13_col4\" class=\"data row13 col4\" >0.5774</td>\n",
       "                        <td id=\"T_47ddc08c_01f3_11eb_b392_00e0201808a0row13_col5\" class=\"data row13 col5\" >0.0939</td>\n",
       "                        <td id=\"T_47ddc08c_01f3_11eb_b392_00e0201808a0row13_col6\" class=\"data row13 col6\" >0.0004</td>\n",
       "                        <td id=\"T_47ddc08c_01f3_11eb_b392_00e0201808a0row13_col7\" class=\"data row13 col7\" >0.0028</td>\n",
       "                        <td id=\"T_47ddc08c_01f3_11eb_b392_00e0201808a0row13_col8\" class=\"data row13 col8\" >0.4919</td>\n",
       "            </tr>\n",
       "            <tr>\n",
       "                        <th id=\"T_47ddc08c_01f3_11eb_b392_00e0201808a0level0_row14\" class=\"row_heading level0 row14\" >14</th>\n",
       "                        <td id=\"T_47ddc08c_01f3_11eb_b392_00e0201808a0row14_col0\" class=\"data row14 col0\" >Ridge Classifier</td>\n",
       "                        <td id=\"T_47ddc08c_01f3_11eb_b392_00e0201808a0row14_col1\" class=\"data row14 col1\" >0.6923</td>\n",
       "                        <td id=\"T_47ddc08c_01f3_11eb_b392_00e0201808a0row14_col2\" class=\"data row14 col2\" >0.0000</td>\n",
       "                        <td id=\"T_47ddc08c_01f3_11eb_b392_00e0201808a0row14_col3\" class=\"data row14 col3\" >0.6594</td>\n",
       "                        <td id=\"T_47ddc08c_01f3_11eb_b392_00e0201808a0row14_col4\" class=\"data row14 col4\" >0.7480</td>\n",
       "                        <td id=\"T_47ddc08c_01f3_11eb_b392_00e0201808a0row14_col5\" class=\"data row14 col5\" >0.7009</td>\n",
       "                        <td id=\"T_47ddc08c_01f3_11eb_b392_00e0201808a0row14_col6\" class=\"data row14 col6\" >0.3867</td>\n",
       "                        <td id=\"T_47ddc08c_01f3_11eb_b392_00e0201808a0row14_col7\" class=\"data row14 col7\" >0.3900</td>\n",
       "                        <td id=\"T_47ddc08c_01f3_11eb_b392_00e0201808a0row14_col8\" class=\"data row14 col8\" >0.1755</td>\n",
       "            </tr>\n",
       "    </tbody></table>"
      ],
      "text/plain": [
       "<pandas.io.formats.style.Styler at 0x26a208e7e08>"
      ]
     },
     "metadata": {},
     "output_type": "display_data"
    },
    {
     "name": "stdout",
     "output_type": "stream",
     "text": [
      "Wall time: 26min 3s\n"
     ]
    }
   ],
   "source": [
    "%%time\n",
    "best_3 = compare_models(sort = 'AUC', n_select = 3)"
   ]
  },
  {
   "cell_type": "code",
   "execution_count": 8,
   "metadata": {},
   "outputs": [
    {
     "data": {
      "text/html": [
       "<style  type=\"text/css\" >\n",
       "#T_14cffa7a_01f4_11eb_b588_00e0201808a0row5_col0,#T_14cffa7a_01f4_11eb_b588_00e0201808a0row5_col1,#T_14cffa7a_01f4_11eb_b588_00e0201808a0row5_col2,#T_14cffa7a_01f4_11eb_b588_00e0201808a0row5_col3,#T_14cffa7a_01f4_11eb_b588_00e0201808a0row5_col4,#T_14cffa7a_01f4_11eb_b588_00e0201808a0row5_col5,#T_14cffa7a_01f4_11eb_b588_00e0201808a0row5_col6{\n",
       "            background:  yellow;\n",
       "        }</style><table id=\"T_14cffa7a_01f4_11eb_b588_00e0201808a0\" ><thead>    <tr>        <th class=\"blank level0\" ></th>        <th class=\"col_heading level0 col0\" >Accuracy</th>        <th class=\"col_heading level0 col1\" >AUC</th>        <th class=\"col_heading level0 col2\" >Recall</th>        <th class=\"col_heading level0 col3\" >Prec.</th>        <th class=\"col_heading level0 col4\" >F1</th>        <th class=\"col_heading level0 col5\" >Kappa</th>        <th class=\"col_heading level0 col6\" >MCC</th>    </tr></thead><tbody>\n",
       "                <tr>\n",
       "                        <th id=\"T_14cffa7a_01f4_11eb_b588_00e0201808a0level0_row0\" class=\"row_heading level0 row0\" >0</th>\n",
       "                        <td id=\"T_14cffa7a_01f4_11eb_b588_00e0201808a0row0_col0\" class=\"data row0 col0\" >0.6935</td>\n",
       "                        <td id=\"T_14cffa7a_01f4_11eb_b588_00e0201808a0row0_col1\" class=\"data row0 col1\" >0.7636</td>\n",
       "                        <td id=\"T_14cffa7a_01f4_11eb_b588_00e0201808a0row0_col2\" class=\"data row0 col2\" >0.6486</td>\n",
       "                        <td id=\"T_14cffa7a_01f4_11eb_b588_00e0201808a0row0_col3\" class=\"data row0 col3\" >0.7562</td>\n",
       "                        <td id=\"T_14cffa7a_01f4_11eb_b588_00e0201808a0row0_col4\" class=\"data row0 col4\" >0.6983</td>\n",
       "                        <td id=\"T_14cffa7a_01f4_11eb_b588_00e0201808a0row0_col5\" class=\"data row0 col5\" >0.3905</td>\n",
       "                        <td id=\"T_14cffa7a_01f4_11eb_b588_00e0201808a0row0_col6\" class=\"data row0 col6\" >0.3953</td>\n",
       "            </tr>\n",
       "            <tr>\n",
       "                        <th id=\"T_14cffa7a_01f4_11eb_b588_00e0201808a0level0_row1\" class=\"row_heading level0 row1\" >1</th>\n",
       "                        <td id=\"T_14cffa7a_01f4_11eb_b588_00e0201808a0row1_col0\" class=\"data row1 col0\" >0.6955</td>\n",
       "                        <td id=\"T_14cffa7a_01f4_11eb_b588_00e0201808a0row1_col1\" class=\"data row1 col1\" >0.7664</td>\n",
       "                        <td id=\"T_14cffa7a_01f4_11eb_b588_00e0201808a0row1_col2\" class=\"data row1 col2\" >0.6411</td>\n",
       "                        <td id=\"T_14cffa7a_01f4_11eb_b588_00e0201808a0row1_col3\" class=\"data row1 col3\" >0.7641</td>\n",
       "                        <td id=\"T_14cffa7a_01f4_11eb_b588_00e0201808a0row1_col4\" class=\"data row1 col4\" >0.6972</td>\n",
       "                        <td id=\"T_14cffa7a_01f4_11eb_b588_00e0201808a0row1_col5\" class=\"data row1 col5\" >0.3957</td>\n",
       "                        <td id=\"T_14cffa7a_01f4_11eb_b588_00e0201808a0row1_col6\" class=\"data row1 col6\" >0.4019</td>\n",
       "            </tr>\n",
       "            <tr>\n",
       "                        <th id=\"T_14cffa7a_01f4_11eb_b588_00e0201808a0level0_row2\" class=\"row_heading level0 row2\" >2</th>\n",
       "                        <td id=\"T_14cffa7a_01f4_11eb_b588_00e0201808a0row2_col0\" class=\"data row2 col0\" >0.6916</td>\n",
       "                        <td id=\"T_14cffa7a_01f4_11eb_b588_00e0201808a0row2_col1\" class=\"data row2 col1\" >0.7639</td>\n",
       "                        <td id=\"T_14cffa7a_01f4_11eb_b588_00e0201808a0row2_col2\" class=\"data row2 col2\" >0.6380</td>\n",
       "                        <td id=\"T_14cffa7a_01f4_11eb_b588_00e0201808a0row2_col3\" class=\"data row2 col3\" >0.7596</td>\n",
       "                        <td id=\"T_14cffa7a_01f4_11eb_b588_00e0201808a0row2_col4\" class=\"data row2 col4\" >0.6935</td>\n",
       "                        <td id=\"T_14cffa7a_01f4_11eb_b588_00e0201808a0row2_col5\" class=\"data row2 col5\" >0.3878</td>\n",
       "                        <td id=\"T_14cffa7a_01f4_11eb_b588_00e0201808a0row2_col6\" class=\"data row2 col6\" >0.3938</td>\n",
       "            </tr>\n",
       "            <tr>\n",
       "                        <th id=\"T_14cffa7a_01f4_11eb_b588_00e0201808a0level0_row3\" class=\"row_heading level0 row3\" >3</th>\n",
       "                        <td id=\"T_14cffa7a_01f4_11eb_b588_00e0201808a0row3_col0\" class=\"data row3 col0\" >0.6974</td>\n",
       "                        <td id=\"T_14cffa7a_01f4_11eb_b588_00e0201808a0row3_col1\" class=\"data row3 col1\" >0.7694</td>\n",
       "                        <td id=\"T_14cffa7a_01f4_11eb_b588_00e0201808a0row3_col2\" class=\"data row3 col2\" >0.6422</td>\n",
       "                        <td id=\"T_14cffa7a_01f4_11eb_b588_00e0201808a0row3_col3\" class=\"data row3 col3\" >0.7664</td>\n",
       "                        <td id=\"T_14cffa7a_01f4_11eb_b588_00e0201808a0row3_col4\" class=\"data row3 col4\" >0.6988</td>\n",
       "                        <td id=\"T_14cffa7a_01f4_11eb_b588_00e0201808a0row3_col5\" class=\"data row3 col5\" >0.3994</td>\n",
       "                        <td id=\"T_14cffa7a_01f4_11eb_b588_00e0201808a0row3_col6\" class=\"data row3 col6\" >0.4058</td>\n",
       "            </tr>\n",
       "            <tr>\n",
       "                        <th id=\"T_14cffa7a_01f4_11eb_b588_00e0201808a0level0_row4\" class=\"row_heading level0 row4\" >4</th>\n",
       "                        <td id=\"T_14cffa7a_01f4_11eb_b588_00e0201808a0row4_col0\" class=\"data row4 col0\" >0.7071</td>\n",
       "                        <td id=\"T_14cffa7a_01f4_11eb_b588_00e0201808a0row4_col1\" class=\"data row4 col1\" >0.7775</td>\n",
       "                        <td id=\"T_14cffa7a_01f4_11eb_b588_00e0201808a0row4_col2\" class=\"data row4 col2\" >0.6623</td>\n",
       "                        <td id=\"T_14cffa7a_01f4_11eb_b588_00e0201808a0row4_col3\" class=\"data row4 col3\" >0.7698</td>\n",
       "                        <td id=\"T_14cffa7a_01f4_11eb_b588_00e0201808a0row4_col4\" class=\"data row4 col4\" >0.7120</td>\n",
       "                        <td id=\"T_14cffa7a_01f4_11eb_b588_00e0201808a0row4_col5\" class=\"data row4 col5\" >0.4174</td>\n",
       "                        <td id=\"T_14cffa7a_01f4_11eb_b588_00e0201808a0row4_col6\" class=\"data row4 col6\" >0.4223</td>\n",
       "            </tr>\n",
       "            <tr>\n",
       "                        <th id=\"T_14cffa7a_01f4_11eb_b588_00e0201808a0level0_row5\" class=\"row_heading level0 row5\" >Mean</th>\n",
       "                        <td id=\"T_14cffa7a_01f4_11eb_b588_00e0201808a0row5_col0\" class=\"data row5 col0\" >0.6970</td>\n",
       "                        <td id=\"T_14cffa7a_01f4_11eb_b588_00e0201808a0row5_col1\" class=\"data row5 col1\" >0.7682</td>\n",
       "                        <td id=\"T_14cffa7a_01f4_11eb_b588_00e0201808a0row5_col2\" class=\"data row5 col2\" >0.6464</td>\n",
       "                        <td id=\"T_14cffa7a_01f4_11eb_b588_00e0201808a0row5_col3\" class=\"data row5 col3\" >0.7632</td>\n",
       "                        <td id=\"T_14cffa7a_01f4_11eb_b588_00e0201808a0row5_col4\" class=\"data row5 col4\" >0.7000</td>\n",
       "                        <td id=\"T_14cffa7a_01f4_11eb_b588_00e0201808a0row5_col5\" class=\"data row5 col5\" >0.3982</td>\n",
       "                        <td id=\"T_14cffa7a_01f4_11eb_b588_00e0201808a0row5_col6\" class=\"data row5 col6\" >0.4038</td>\n",
       "            </tr>\n",
       "            <tr>\n",
       "                        <th id=\"T_14cffa7a_01f4_11eb_b588_00e0201808a0level0_row6\" class=\"row_heading level0 row6\" >SD</th>\n",
       "                        <td id=\"T_14cffa7a_01f4_11eb_b588_00e0201808a0row6_col0\" class=\"data row6 col0\" >0.0054</td>\n",
       "                        <td id=\"T_14cffa7a_01f4_11eb_b588_00e0201808a0row6_col1\" class=\"data row6 col1\" >0.0051</td>\n",
       "                        <td id=\"T_14cffa7a_01f4_11eb_b588_00e0201808a0row6_col2\" class=\"data row6 col2\" >0.0086</td>\n",
       "                        <td id=\"T_14cffa7a_01f4_11eb_b588_00e0201808a0row6_col3\" class=\"data row6 col3\" >0.0049</td>\n",
       "                        <td id=\"T_14cffa7a_01f4_11eb_b588_00e0201808a0row6_col4\" class=\"data row6 col4\" >0.0063</td>\n",
       "                        <td id=\"T_14cffa7a_01f4_11eb_b588_00e0201808a0row6_col5\" class=\"data row6 col5\" >0.0104</td>\n",
       "                        <td id=\"T_14cffa7a_01f4_11eb_b588_00e0201808a0row6_col6\" class=\"data row6 col6\" >0.0102</td>\n",
       "            </tr>\n",
       "    </tbody></table>"
      ],
      "text/plain": [
       "<pandas.io.formats.style.Styler at 0x26a245d5c88>"
      ]
     },
     "metadata": {},
     "output_type": "display_data"
    }
   ],
   "source": [
    "blended = blend_models(estimator_list = best_3, fold = 5, method = 'soft')"
   ]
  },
  {
   "cell_type": "code",
   "execution_count": 9,
   "metadata": {},
   "outputs": [
    {
     "data": {
      "text/html": [
       "<div>\n",
       "<style scoped>\n",
       "    .dataframe tbody tr th:only-of-type {\n",
       "        vertical-align: middle;\n",
       "    }\n",
       "\n",
       "    .dataframe tbody tr th {\n",
       "        vertical-align: top;\n",
       "    }\n",
       "\n",
       "    .dataframe thead th {\n",
       "        text-align: right;\n",
       "    }\n",
       "</style>\n",
       "<table border=\"1\" class=\"dataframe\">\n",
       "  <thead>\n",
       "    <tr style=\"text-align: right;\">\n",
       "      <th></th>\n",
       "      <th>Model</th>\n",
       "      <th>Accuracy</th>\n",
       "      <th>AUC</th>\n",
       "      <th>Recall</th>\n",
       "      <th>Prec.</th>\n",
       "      <th>F1</th>\n",
       "      <th>Kappa</th>\n",
       "      <th>MCC</th>\n",
       "    </tr>\n",
       "  </thead>\n",
       "  <tbody>\n",
       "    <tr>\n",
       "      <th>0</th>\n",
       "      <td>Voting Classifier</td>\n",
       "      <td>0.6908</td>\n",
       "      <td>0.7671</td>\n",
       "      <td>0.645</td>\n",
       "      <td>0.754</td>\n",
       "      <td>0.6952</td>\n",
       "      <td>0.3853</td>\n",
       "      <td>0.3901</td>\n",
       "    </tr>\n",
       "  </tbody>\n",
       "</table>\n",
       "</div>"
      ],
      "text/plain": [
       "               Model  Accuracy     AUC  Recall  Prec.      F1   Kappa     MCC\n",
       "0  Voting Classifier    0.6908  0.7671   0.645  0.754  0.6952  0.3853  0.3901"
      ]
     },
     "metadata": {},
     "output_type": "display_data"
    }
   ],
   "source": [
    "pred_holdout = predict_model(blended)"
   ]
  },
  {
   "cell_type": "code",
   "execution_count": 10,
   "metadata": {},
   "outputs": [],
   "source": [
    "final_model = finalize_model(blended)"
   ]
  },
  {
   "cell_type": "code",
   "execution_count": null,
   "metadata": {},
   "outputs": [],
   "source": [
    "final_model"
   ]
  },
  {
   "cell_type": "code",
   "execution_count": 11,
   "metadata": {},
   "outputs": [],
   "source": [
    "predictions = predict_model(final_model, data = test)"
   ]
  },
  {
   "cell_type": "code",
   "execution_count": 12,
   "metadata": {},
   "outputs": [],
   "source": [
    "submission['voted'] = predictions['Score']"
   ]
  },
  {
   "cell_type": "code",
   "execution_count": 13,
   "metadata": {},
   "outputs": [],
   "source": [
    "submission.to_csv('output/20200929-1.csv')"
   ]
  },
  {
   "cell_type": "markdown",
   "metadata": {},
   "source": [
    "## train, valid 데이터"
   ]
  },
  {
   "cell_type": "code",
   "execution_count": null,
   "metadata": {},
   "outputs": [],
   "source": [
    "X_train, X_test, y_train, y_test = train_test_split(train.drop('voted', axis = 1), train['voted'], test_size=0.3, random_state=42)\n",
    "X_train.shape, X_test.shape, y_train.shape, y_test.shape"
   ]
  },
  {
   "cell_type": "markdown",
   "metadata": {},
   "source": [
    "## 하이퍼파라미터 튜닝"
   ]
  },
  {
   "cell_type": "code",
   "execution_count": null,
   "metadata": {},
   "outputs": [],
   "source": [
    "from bayes_opt import BayesianOptimization\n",
    "from sklearn.metrics import roc_auc_score\n",
    "from lightgbm import LGBMClassifier, plot_importance"
   ]
  },
  {
   "cell_type": "markdown",
   "metadata": {},
   "source": [
    "colsample_bytree': 0.9606396547156734\n",
    ", 'max_bin': 164.7465545875555\n",
    ", 'max_depth': 11.107229265820779\n",
    ", 'min_child_samples': 198.98606348612637\n",
    ", 'min_child_weight': 41.32364031573033\n",
    ", 'num_leaves': 49.45519154750152\n",
    ", 'reg_alpha': 0.8758415725587487\n",
    ", 'reg_lambda': 8.299355787002883\n",
    ", 'subsample': 0.6598579157665245}}"
   ]
  },
  {
   "cell_type": "code",
   "execution_count": null,
   "metadata": {},
   "outputs": [],
   "source": [
    "# parameter 별로 search할 범위를 설정. \n",
    "bayesian_params = {\n",
    "    'max_depth': (6, 16), \n",
    "    'num_leaves': (10, 100), \n",
    "    'min_child_samples': (10, 500), \n",
    "    'min_child_weight':(1, 100),\n",
    "    'subsample':(0.1, 1.0),\n",
    "    'colsample_bytree': (0.1, 1.0),\n",
    "    'max_bin':(10, 1000),\n",
    "    'reg_lambda':(0.001, 10),\n",
    "    'reg_alpha': (0.01, 50) \n",
    "}"
   ]
  },
  {
   "cell_type": "code",
   "execution_count": null,
   "metadata": {},
   "outputs": [],
   "source": [
    "def lgb_roc_eval(max_depth, num_leaves, min_child_samples, min_child_weight, subsample, \n",
    "                colsample_bytree,max_bin, reg_lambda, reg_alpha):\n",
    "    params = {\n",
    "        #\"n_estimators\":500, \"learning_rate\":0.02,\n",
    "        \"n_estimators\":1000, \"learning_rate\":0.001,\n",
    "        'max_depth': int(round(max_depth)), #  호출 시 실수형 값이 들어오므로 정수형 하이퍼 파라미터는 정수형으로 변경 \n",
    "        'num_leaves': int(round(num_leaves)), \n",
    "        'min_child_samples': int(round(min_child_samples)),\n",
    "        'min_child_weight': int(round(min_child_weight)),\n",
    "        'subsample': max(min(subsample, 1), 0), \n",
    "        'colsample_bytree': max(min(colsample_bytree, 1), 0),\n",
    "        'max_bin':  max(int(round(max_bin)),10),\n",
    "        'reg_lambda': max(reg_lambda,0),\n",
    "        'reg_alpha': max(reg_alpha, 0)\n",
    "    }\n",
    "    lgb_model = LGBMClassifier(**params)\n",
    "    lgb_model.fit(X_train, y_train, eval_set=[(X_train, y_train), (X_test, y_test)], eval_metric= 'auc', verbose= 100, \n",
    "                early_stopping_rounds= 100)\n",
    "    valid_proba = lgb_model.predict_proba(X_test)[:, 1]\n",
    "    roc_auc = roc_auc_score(y_test, valid_proba)\n",
    "    \n",
    "    return roc_auc   "
   ]
  },
  {
   "cell_type": "code",
   "execution_count": null,
   "metadata": {},
   "outputs": [],
   "source": [
    "import gc\n",
    "gc.collect()"
   ]
  },
  {
   "cell_type": "code",
   "execution_count": null,
   "metadata": {
    "scrolled": true
   },
   "outputs": [],
   "source": [
    "%%time\n",
    "# BayesianOptimization객체를 수행할 함수와 search할 parameter 범위를 설정하여 생성. \n",
    "lgbBO = BayesianOptimization(lgb_roc_eval,bayesian_params , random_state=42)\n",
    "# 함수 반환값이 최대가 되는 입력값 유추를 위한 iteration 수행. \n",
    "lgbBO.maximize(init_points=10, n_iter=50)"
   ]
  },
  {
   "cell_type": "code",
   "execution_count": null,
   "metadata": {},
   "outputs": [],
   "source": [
    "target_list = []\n",
    "for result in lgbBO.res:\n",
    "    target = result['target']\n",
    "    target_list.append(target)\n",
    "print(target_list)\n",
    "# 가장 큰 target 값을 가지는 순번(index)를 추출\n",
    "print('maximum target index:', np.argmax(np.array(target_list)))\n",
    "\n",
    "# 가장 큰 target값을 가지는 index값을 기준으로 res에서 해당 parameter 추출. \n",
    "max_dict = lgbBO.res[np.argmax(np.array(target_list))]\n",
    "print(max_dict)"
   ]
  },
  {
   "cell_type": "markdown",
   "metadata": {},
   "source": [
    "* test_size=0.3\n",
    "{'target': 0.7655615473679408, 'params': {'colsample_bytree': 0.737265320016441, 'max_bin': 30.378649352844423, 'max_depth': 15.699098521619943, 'min_child_samples': 417.8968939922066, 'min_child_weight': 22.02157195714934, 'num_leaves': 26.364247048639054, 'reg_alpha': 9.178391447573157, 'reg_lambda': 3.043118187352418, 'subsample': 0.5722807884690141}}\n",
    "\n",
    "- outlier 삭제 \n",
    "{'target': 0.7652209584768751, 'params': {'colsample_bytree': 0.5703824815639528, 'max_bin': 15.404309116854074, 'max_depth': 13.17919661428763, 'min_child_samples': 24.998278489695448, 'min_child_weight': 97.74061068693372, 'num_leaves': 99.35614131954165, 'reg_alpha': 1.2926370490809749, 'reg_lambda': 1.1059679925299122, 'subsample': 0.4274854420066033}}\n",
    "\n",
    "- outlier 2.6 \n",
    "{'target': 0.7655617202045278, 'params': {'colsample_bytree': 0.737265320016441, 'max_bin': 30.378649352844423, 'max_depth': 15.699098521619943, 'min_child_samples': 417.8968939922066, 'min_child_weight': 22.02157195714934, 'num_leaves': 26.364247048639054, 'reg_alpha': 9.178391447573157, 'reg_lambda': 3.043118187352418, 'subsample': 0.5722807884690141}}"
   ]
  },
  {
   "cell_type": "code",
   "execution_count": null,
   "metadata": {},
   "outputs": [],
   "source": []
  },
  {
   "cell_type": "code",
   "execution_count": null,
   "metadata": {},
   "outputs": [],
   "source": [
    "clf = LGBMClassifier(\n",
    "        n_jobs=-1\n",
    "        ,nthread=4\n",
    "        ,n_estimators=1000\n",
    "        ,learning_rate=0.02\n",
    "        ,max_depth = 16\n",
    "        ,num_leaves=47\n",
    "        ,colsample_bytree=0.56\n",
    "        ,subsample=0.55\n",
    "        ,max_bin=30\n",
    "        ,reg_alpha=0.23\n",
    "        ,reg_lambda=0.03\n",
    "        ,min_child_weight=70\n",
    "        ,min_child_samples=169\n",
    "        ,silent=-1\n",
    "        ,verbose=-1\n",
    "        ,random_state=42\n",
    "        )\n",
    "\n",
    "clf.fit(X_train, y_train, eval_set=[(X_train, y_train), (X_test, y_test)], \n",
    "eval_metric= 'auc', verbose= 100, early_stopping_rounds= 50)"
   ]
  },
  {
   "cell_type": "code",
   "execution_count": null,
   "metadata": {},
   "outputs": [],
   "source": [
    "plot_importance(clf, figsize=(16, 32))"
   ]
  },
  {
   "cell_type": "code",
   "execution_count": null,
   "metadata": {},
   "outputs": [],
   "source": []
  },
  {
   "cell_type": "code",
   "execution_count": null,
   "metadata": {},
   "outputs": [],
   "source": []
  },
  {
   "cell_type": "code",
   "execution_count": null,
   "metadata": {},
   "outputs": [],
   "source": []
  },
  {
   "cell_type": "markdown",
   "metadata": {},
   "source": [
    "# 4. 예측"
   ]
  },
  {
   "cell_type": "code",
   "execution_count": null,
   "metadata": {},
   "outputs": [],
   "source": [
    "pred_y  = clf.predict(test)"
   ]
  },
  {
   "cell_type": "code",
   "execution_count": null,
   "metadata": {},
   "outputs": [],
   "source": [
    "submission['voted'] = pred_y "
   ]
  },
  {
   "cell_type": "code",
   "execution_count": null,
   "metadata": {},
   "outputs": [],
   "source": [
    "submission"
   ]
  },
  {
   "cell_type": "markdown",
   "metadata": {},
   "source": [
    "# 5. 제출"
   ]
  },
  {
   "cell_type": "code",
   "execution_count": null,
   "metadata": {},
   "outputs": [],
   "source": [
    "submission.to_csv('output/20200928-1.csv')"
   ]
  },
  {
   "cell_type": "code",
   "execution_count": null,
   "metadata": {},
   "outputs": [],
   "source": []
  }
 ],
 "metadata": {
  "kernelspec": {
   "display_name": "Python 3",
   "language": "python",
   "name": "python3"
  },
  "language_info": {
   "codemirror_mode": {
    "name": "ipython",
    "version": 3
   },
   "file_extension": ".py",
   "mimetype": "text/x-python",
   "name": "python",
   "nbconvert_exporter": "python",
   "pygments_lexer": "ipython3",
   "version": "3.7.6"
  }
 },
 "nbformat": 4,
 "nbformat_minor": 4
}
