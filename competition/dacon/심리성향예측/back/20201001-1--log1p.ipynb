{
 "cells": [
  {
   "cell_type": "code",
   "execution_count": 1,
   "metadata": {},
   "outputs": [],
   "source": [
    "import numpy as np\n",
    "import pandas as pd\n",
    "import matplotlib.pyplot as plt\n",
    "import seaborn as sns\n",
    "import warnings\n",
    "warnings.filterwarnings('ignore')\n",
    "%matplotlib inline\n",
    "\n",
    "from IPython.core.interactiveshell import InteractiveShell\n",
    "InteractiveShell.ast_node_interactivity = \"all\"\n",
    "\n",
    "np.random.seed(42)\n",
    "\n",
    "from sklearn.model_selection import train_test_split\n",
    "import lightgbm as lgbm\n",
    "from sklearn.metrics import confusion_matrix, accuracy_score"
   ]
  },
  {
   "cell_type": "markdown",
   "metadata": {},
   "source": [
    "# 1. 데이터 로드"
   ]
  },
  {
   "cell_type": "code",
   "execution_count": 2,
   "metadata": {},
   "outputs": [],
   "source": [
    "train=pd.read_csv('input/train.csv', index_col=0) #인덱스 col=0도 check!\n",
    "test=pd.read_csv('input/test_x.csv', index_col=0)\n",
    "submission=pd.read_csv('input/sample_submission.csv', index_col=0)  "
   ]
  },
  {
   "cell_type": "code",
   "execution_count": null,
   "metadata": {},
   "outputs": [],
   "source": [
    "train.shape, test.shape, submission.shape\n",
    "train.head(3)\n",
    "test.head(3)\n",
    "submission.head(3)"
   ]
  },
  {
   "cell_type": "markdown",
   "metadata": {},
   "source": [
    "# 2. EDA & 전처리"
   ]
  },
  {
   "cell_type": "code",
   "execution_count": null,
   "metadata": {},
   "outputs": [],
   "source": [
    "df = pd.concat([train, test])\n",
    "df.shape"
   ]
  },
  {
   "cell_type": "code",
   "execution_count": null,
   "metadata": {},
   "outputs": [],
   "source": [
    "train.info"
   ]
  },
  {
   "cell_type": "markdown",
   "metadata": {},
   "source": [
    "## Missing Value"
   ]
  },
  {
   "cell_type": "code",
   "execution_count": null,
   "metadata": {},
   "outputs": [],
   "source": [
    "train.isnull().sum().sum()\n",
    "test.isnull().sum().sum()"
   ]
  },
  {
   "cell_type": "code",
   "execution_count": null,
   "metadata": {},
   "outputs": [],
   "source": []
  },
  {
   "cell_type": "markdown",
   "metadata": {},
   "source": [
    "## Target 분포"
   ]
  },
  {
   "cell_type": "code",
   "execution_count": null,
   "metadata": {},
   "outputs": [],
   "source": [
    "f, ax = plt.subplots(1, 2, figsize=(10, 4))\n",
    "\n",
    "train['voted'].value_counts().plot.pie(autopct='%1.1f%%', ax=ax[0], shadow=True)\n",
    "sns.countplot('voted', data=train, ax=ax[1])\n",
    "\n",
    "plt.show()\n",
    "\n",
    "# 균일"
   ]
  },
  {
   "cell_type": "code",
   "execution_count": null,
   "metadata": {},
   "outputs": [],
   "source": []
  },
  {
   "cell_type": "markdown",
   "metadata": {},
   "source": [
    "## 컬럼 분류"
   ]
  },
  {
   "cell_type": "code",
   "execution_count": 3,
   "metadata": {},
   "outputs": [
    {
     "data": {
      "text/html": [
       "<div>\n",
       "<style scoped>\n",
       "    .dataframe tbody tr th:only-of-type {\n",
       "        vertical-align: middle;\n",
       "    }\n",
       "\n",
       "    .dataframe tbody tr th {\n",
       "        vertical-align: top;\n",
       "    }\n",
       "\n",
       "    .dataframe thead th {\n",
       "        text-align: right;\n",
       "    }\n",
       "</style>\n",
       "<table border=\"1\" class=\"dataframe\">\n",
       "  <thead>\n",
       "    <tr style=\"text-align: right;\">\n",
       "      <th></th>\n",
       "      <th>gbn</th>\n",
       "      <th>dtl</th>\n",
       "    </tr>\n",
       "    <tr>\n",
       "      <th>col</th>\n",
       "      <th></th>\n",
       "      <th></th>\n",
       "    </tr>\n",
       "  </thead>\n",
       "  <tbody>\n",
       "    <tr>\n",
       "      <th>QaA</th>\n",
       "      <td>Q_A</td>\n",
       "      <td>a</td>\n",
       "    </tr>\n",
       "    <tr>\n",
       "      <th>QaE</th>\n",
       "      <td>Q_E</td>\n",
       "      <td>a</td>\n",
       "    </tr>\n",
       "    <tr>\n",
       "      <th>QbA</th>\n",
       "      <td>Q_A</td>\n",
       "      <td>b</td>\n",
       "    </tr>\n",
       "    <tr>\n",
       "      <th>QbE</th>\n",
       "      <td>Q_E</td>\n",
       "      <td>b</td>\n",
       "    </tr>\n",
       "    <tr>\n",
       "      <th>QcA</th>\n",
       "      <td>Q_A</td>\n",
       "      <td>c</td>\n",
       "    </tr>\n",
       "    <tr>\n",
       "      <th>...</th>\n",
       "      <td>...</td>\n",
       "      <td>...</td>\n",
       "    </tr>\n",
       "    <tr>\n",
       "      <th>wr_09</th>\n",
       "      <td>wr</td>\n",
       "      <td></td>\n",
       "    </tr>\n",
       "    <tr>\n",
       "      <th>wr_10</th>\n",
       "      <td>wr</td>\n",
       "      <td></td>\n",
       "    </tr>\n",
       "    <tr>\n",
       "      <th>wr_11</th>\n",
       "      <td>wr</td>\n",
       "      <td></td>\n",
       "    </tr>\n",
       "    <tr>\n",
       "      <th>wr_12</th>\n",
       "      <td>wr</td>\n",
       "      <td></td>\n",
       "    </tr>\n",
       "    <tr>\n",
       "      <th>wr_13</th>\n",
       "      <td>wr</td>\n",
       "      <td></td>\n",
       "    </tr>\n",
       "  </tbody>\n",
       "</table>\n",
       "<p>77 rows × 2 columns</p>\n",
       "</div>"
      ],
      "text/plain": [
       "       gbn dtl\n",
       "col           \n",
       "QaA    Q_A   a\n",
       "QaE    Q_E   a\n",
       "QbA    Q_A   b\n",
       "QbE    Q_E   b\n",
       "QcA    Q_A   c\n",
       "...    ...  ..\n",
       "wr_09   wr    \n",
       "wr_10   wr    \n",
       "wr_11   wr    \n",
       "wr_12   wr    \n",
       "wr_13   wr    \n",
       "\n",
       "[77 rows x 2 columns]"
      ]
     },
     "execution_count": 3,
     "metadata": {},
     "output_type": "execute_result"
    }
   ],
   "source": [
    "data = []\n",
    "\n",
    "for f in train.columns:\n",
    "    dtl = ''\n",
    "    if f == 'voted':\n",
    "        gubun = 'target'\n",
    "    elif 'Q' in f:\n",
    "        dtl = f[1]\n",
    "        if 'A' in f:\n",
    "            gubun = 'Q_A'\n",
    "        if 'E' in f:\n",
    "            gubun = 'Q_E'\n",
    "    elif 'tp' in f:           \n",
    "        gubun = 'tp'            \n",
    "    elif 'wf' in f:           \n",
    "        gubun = 'wf'\n",
    "    elif 'wr' in f:           \n",
    "        gubun = 'wr'    \n",
    "    else:\n",
    "        gubun = 'cat'\n",
    "        \n",
    "    f_dict = {\n",
    "        'col':f,\n",
    "        'gbn':gubun,\n",
    "        'dtl':dtl\n",
    "    }\n",
    "            \n",
    "    data.append(f_dict)\n",
    "    \n",
    "meta = pd.DataFrame(data, columns =['col', 'gbn', 'dtl'])\n",
    "meta.set_index('col', inplace=True)\n",
    "meta"
   ]
  },
  {
   "cell_type": "markdown",
   "metadata": {},
   "source": [
    "### Q_A"
   ]
  },
  {
   "cell_type": "code",
   "execution_count": 4,
   "metadata": {},
   "outputs": [
    {
     "data": {
      "text/html": [
       "<div>\n",
       "<style scoped>\n",
       "    .dataframe tbody tr th:only-of-type {\n",
       "        vertical-align: middle;\n",
       "    }\n",
       "\n",
       "    .dataframe tbody tr th {\n",
       "        vertical-align: top;\n",
       "    }\n",
       "\n",
       "    .dataframe thead th {\n",
       "        text-align: right;\n",
       "    }\n",
       "</style>\n",
       "<table border=\"1\" class=\"dataframe\">\n",
       "  <thead>\n",
       "    <tr style=\"text-align: right;\">\n",
       "      <th></th>\n",
       "      <th>QaA</th>\n",
       "      <th>QbA</th>\n",
       "      <th>QcA</th>\n",
       "      <th>QdA</th>\n",
       "      <th>QeA</th>\n",
       "      <th>QfA</th>\n",
       "      <th>QgA</th>\n",
       "      <th>QhA</th>\n",
       "      <th>QiA</th>\n",
       "      <th>QjA</th>\n",
       "      <th>QkA</th>\n",
       "      <th>QlA</th>\n",
       "      <th>QmA</th>\n",
       "      <th>QnA</th>\n",
       "      <th>QoA</th>\n",
       "      <th>QpA</th>\n",
       "      <th>QqA</th>\n",
       "      <th>QrA</th>\n",
       "      <th>QsA</th>\n",
       "      <th>QtA</th>\n",
       "    </tr>\n",
       "  </thead>\n",
       "  <tbody>\n",
       "    <tr>\n",
       "      <th>count</th>\n",
       "      <td>45532.000000</td>\n",
       "      <td>45532.000000</td>\n",
       "      <td>45532.000000</td>\n",
       "      <td>45532.000000</td>\n",
       "      <td>45532.000000</td>\n",
       "      <td>45532.000000</td>\n",
       "      <td>45532.000000</td>\n",
       "      <td>45532.000000</td>\n",
       "      <td>45532.000000</td>\n",
       "      <td>45532.000000</td>\n",
       "      <td>45532.000000</td>\n",
       "      <td>45532.000000</td>\n",
       "      <td>45532.000000</td>\n",
       "      <td>45532.000000</td>\n",
       "      <td>45532.000000</td>\n",
       "      <td>45532.000000</td>\n",
       "      <td>45532.000000</td>\n",
       "      <td>45532.000000</td>\n",
       "      <td>45532.000000</td>\n",
       "      <td>45532.000000</td>\n",
       "    </tr>\n",
       "    <tr>\n",
       "      <th>mean</th>\n",
       "      <td>2.129535</td>\n",
       "      <td>2.904463</td>\n",
       "      <td>3.662347</td>\n",
       "      <td>1.749078</td>\n",
       "      <td>2.317952</td>\n",
       "      <td>2.168145</td>\n",
       "      <td>2.560595</td>\n",
       "      <td>2.317952</td>\n",
       "      <td>3.157691</td>\n",
       "      <td>3.575529</td>\n",
       "      <td>3.813933</td>\n",
       "      <td>4.325727</td>\n",
       "      <td>3.509620</td>\n",
       "      <td>2.632896</td>\n",
       "      <td>3.217232</td>\n",
       "      <td>3.071752</td>\n",
       "      <td>2.840464</td>\n",
       "      <td>2.823487</td>\n",
       "      <td>3.432948</td>\n",
       "      <td>3.225687</td>\n",
       "    </tr>\n",
       "    <tr>\n",
       "      <th>std</th>\n",
       "      <td>1.196952</td>\n",
       "      <td>1.566142</td>\n",
       "      <td>1.431494</td>\n",
       "      <td>1.043625</td>\n",
       "      <td>1.369205</td>\n",
       "      <td>1.348653</td>\n",
       "      <td>1.510600</td>\n",
       "      <td>1.460813</td>\n",
       "      <td>1.481740</td>\n",
       "      <td>1.361220</td>\n",
       "      <td>1.372551</td>\n",
       "      <td>1.146992</td>\n",
       "      <td>1.375134</td>\n",
       "      <td>1.473022</td>\n",
       "      <td>1.476414</td>\n",
       "      <td>1.489744</td>\n",
       "      <td>1.404342</td>\n",
       "      <td>1.424383</td>\n",
       "      <td>1.374938</td>\n",
       "      <td>1.521603</td>\n",
       "    </tr>\n",
       "    <tr>\n",
       "      <th>min</th>\n",
       "      <td>1.000000</td>\n",
       "      <td>1.000000</td>\n",
       "      <td>1.000000</td>\n",
       "      <td>1.000000</td>\n",
       "      <td>1.000000</td>\n",
       "      <td>1.000000</td>\n",
       "      <td>1.000000</td>\n",
       "      <td>1.000000</td>\n",
       "      <td>1.000000</td>\n",
       "      <td>1.000000</td>\n",
       "      <td>1.000000</td>\n",
       "      <td>1.000000</td>\n",
       "      <td>1.000000</td>\n",
       "      <td>1.000000</td>\n",
       "      <td>1.000000</td>\n",
       "      <td>1.000000</td>\n",
       "      <td>1.000000</td>\n",
       "      <td>1.000000</td>\n",
       "      <td>1.000000</td>\n",
       "      <td>1.000000</td>\n",
       "    </tr>\n",
       "    <tr>\n",
       "      <th>25%</th>\n",
       "      <td>1.000000</td>\n",
       "      <td>1.000000</td>\n",
       "      <td>2.000000</td>\n",
       "      <td>1.000000</td>\n",
       "      <td>1.000000</td>\n",
       "      <td>1.000000</td>\n",
       "      <td>1.000000</td>\n",
       "      <td>1.000000</td>\n",
       "      <td>2.000000</td>\n",
       "      <td>2.000000</td>\n",
       "      <td>3.000000</td>\n",
       "      <td>4.000000</td>\n",
       "      <td>2.000000</td>\n",
       "      <td>1.000000</td>\n",
       "      <td>2.000000</td>\n",
       "      <td>2.000000</td>\n",
       "      <td>2.000000</td>\n",
       "      <td>2.000000</td>\n",
       "      <td>2.000000</td>\n",
       "      <td>2.000000</td>\n",
       "    </tr>\n",
       "    <tr>\n",
       "      <th>50%</th>\n",
       "      <td>2.000000</td>\n",
       "      <td>3.000000</td>\n",
       "      <td>4.000000</td>\n",
       "      <td>1.000000</td>\n",
       "      <td>2.000000</td>\n",
       "      <td>2.000000</td>\n",
       "      <td>2.000000</td>\n",
       "      <td>2.000000</td>\n",
       "      <td>3.000000</td>\n",
       "      <td>4.000000</td>\n",
       "      <td>4.000000</td>\n",
       "      <td>5.000000</td>\n",
       "      <td>4.000000</td>\n",
       "      <td>2.000000</td>\n",
       "      <td>4.000000</td>\n",
       "      <td>3.000000</td>\n",
       "      <td>3.000000</td>\n",
       "      <td>3.000000</td>\n",
       "      <td>4.000000</td>\n",
       "      <td>4.000000</td>\n",
       "    </tr>\n",
       "    <tr>\n",
       "      <th>75%</th>\n",
       "      <td>3.000000</td>\n",
       "      <td>4.000000</td>\n",
       "      <td>5.000000</td>\n",
       "      <td>2.000000</td>\n",
       "      <td>3.000000</td>\n",
       "      <td>3.000000</td>\n",
       "      <td>4.000000</td>\n",
       "      <td>4.000000</td>\n",
       "      <td>5.000000</td>\n",
       "      <td>5.000000</td>\n",
       "      <td>5.000000</td>\n",
       "      <td>5.000000</td>\n",
       "      <td>5.000000</td>\n",
       "      <td>4.000000</td>\n",
       "      <td>5.000000</td>\n",
       "      <td>4.000000</td>\n",
       "      <td>4.000000</td>\n",
       "      <td>4.000000</td>\n",
       "      <td>5.000000</td>\n",
       "      <td>5.000000</td>\n",
       "    </tr>\n",
       "    <tr>\n",
       "      <th>max</th>\n",
       "      <td>5.000000</td>\n",
       "      <td>5.000000</td>\n",
       "      <td>5.000000</td>\n",
       "      <td>5.000000</td>\n",
       "      <td>5.000000</td>\n",
       "      <td>5.000000</td>\n",
       "      <td>5.000000</td>\n",
       "      <td>5.000000</td>\n",
       "      <td>5.000000</td>\n",
       "      <td>5.000000</td>\n",
       "      <td>5.000000</td>\n",
       "      <td>5.000000</td>\n",
       "      <td>5.000000</td>\n",
       "      <td>5.000000</td>\n",
       "      <td>5.000000</td>\n",
       "      <td>5.000000</td>\n",
       "      <td>5.000000</td>\n",
       "      <td>5.000000</td>\n",
       "      <td>5.000000</td>\n",
       "      <td>5.000000</td>\n",
       "    </tr>\n",
       "  </tbody>\n",
       "</table>\n",
       "</div>"
      ],
      "text/plain": [
       "                QaA           QbA           QcA           QdA           QeA  \\\n",
       "count  45532.000000  45532.000000  45532.000000  45532.000000  45532.000000   \n",
       "mean       2.129535      2.904463      3.662347      1.749078      2.317952   \n",
       "std        1.196952      1.566142      1.431494      1.043625      1.369205   \n",
       "min        1.000000      1.000000      1.000000      1.000000      1.000000   \n",
       "25%        1.000000      1.000000      2.000000      1.000000      1.000000   \n",
       "50%        2.000000      3.000000      4.000000      1.000000      2.000000   \n",
       "75%        3.000000      4.000000      5.000000      2.000000      3.000000   \n",
       "max        5.000000      5.000000      5.000000      5.000000      5.000000   \n",
       "\n",
       "                QfA           QgA           QhA           QiA           QjA  \\\n",
       "count  45532.000000  45532.000000  45532.000000  45532.000000  45532.000000   \n",
       "mean       2.168145      2.560595      2.317952      3.157691      3.575529   \n",
       "std        1.348653      1.510600      1.460813      1.481740      1.361220   \n",
       "min        1.000000      1.000000      1.000000      1.000000      1.000000   \n",
       "25%        1.000000      1.000000      1.000000      2.000000      2.000000   \n",
       "50%        2.000000      2.000000      2.000000      3.000000      4.000000   \n",
       "75%        3.000000      4.000000      4.000000      5.000000      5.000000   \n",
       "max        5.000000      5.000000      5.000000      5.000000      5.000000   \n",
       "\n",
       "                QkA           QlA           QmA           QnA           QoA  \\\n",
       "count  45532.000000  45532.000000  45532.000000  45532.000000  45532.000000   \n",
       "mean       3.813933      4.325727      3.509620      2.632896      3.217232   \n",
       "std        1.372551      1.146992      1.375134      1.473022      1.476414   \n",
       "min        1.000000      1.000000      1.000000      1.000000      1.000000   \n",
       "25%        3.000000      4.000000      2.000000      1.000000      2.000000   \n",
       "50%        4.000000      5.000000      4.000000      2.000000      4.000000   \n",
       "75%        5.000000      5.000000      5.000000      4.000000      5.000000   \n",
       "max        5.000000      5.000000      5.000000      5.000000      5.000000   \n",
       "\n",
       "                QpA           QqA           QrA           QsA           QtA  \n",
       "count  45532.000000  45532.000000  45532.000000  45532.000000  45532.000000  \n",
       "mean       3.071752      2.840464      2.823487      3.432948      3.225687  \n",
       "std        1.489744      1.404342      1.424383      1.374938      1.521603  \n",
       "min        1.000000      1.000000      1.000000      1.000000      1.000000  \n",
       "25%        2.000000      2.000000      2.000000      2.000000      2.000000  \n",
       "50%        3.000000      3.000000      3.000000      4.000000      4.000000  \n",
       "75%        4.000000      4.000000      4.000000      5.000000      5.000000  \n",
       "max        5.000000      5.000000      5.000000      5.000000      5.000000  "
      ]
     },
     "execution_count": 4,
     "metadata": {},
     "output_type": "execute_result"
    },
    {
     "data": {
      "text/html": [
       "<div>\n",
       "<style scoped>\n",
       "    .dataframe tbody tr th:only-of-type {\n",
       "        vertical-align: middle;\n",
       "    }\n",
       "\n",
       "    .dataframe tbody tr th {\n",
       "        vertical-align: top;\n",
       "    }\n",
       "\n",
       "    .dataframe thead th {\n",
       "        text-align: right;\n",
       "    }\n",
       "</style>\n",
       "<table border=\"1\" class=\"dataframe\">\n",
       "  <thead>\n",
       "    <tr style=\"text-align: right;\">\n",
       "      <th></th>\n",
       "      <th>QaA</th>\n",
       "      <th>QbA</th>\n",
       "      <th>QcA</th>\n",
       "      <th>QdA</th>\n",
       "      <th>QeA</th>\n",
       "      <th>QfA</th>\n",
       "      <th>QgA</th>\n",
       "      <th>QhA</th>\n",
       "      <th>QiA</th>\n",
       "      <th>QjA</th>\n",
       "      <th>QkA</th>\n",
       "      <th>QlA</th>\n",
       "      <th>QmA</th>\n",
       "      <th>QnA</th>\n",
       "      <th>QoA</th>\n",
       "      <th>QpA</th>\n",
       "      <th>QqA</th>\n",
       "      <th>QrA</th>\n",
       "      <th>QsA</th>\n",
       "      <th>QtA</th>\n",
       "    </tr>\n",
       "    <tr>\n",
       "      <th>index</th>\n",
       "      <th></th>\n",
       "      <th></th>\n",
       "      <th></th>\n",
       "      <th></th>\n",
       "      <th></th>\n",
       "      <th></th>\n",
       "      <th></th>\n",
       "      <th></th>\n",
       "      <th></th>\n",
       "      <th></th>\n",
       "      <th></th>\n",
       "      <th></th>\n",
       "      <th></th>\n",
       "      <th></th>\n",
       "      <th></th>\n",
       "      <th></th>\n",
       "      <th></th>\n",
       "      <th></th>\n",
       "      <th></th>\n",
       "      <th></th>\n",
       "    </tr>\n",
       "  </thead>\n",
       "  <tbody>\n",
       "    <tr>\n",
       "      <th>0</th>\n",
       "      <td>3.0</td>\n",
       "      <td>4.0</td>\n",
       "      <td>5.0</td>\n",
       "      <td>1.0</td>\n",
       "      <td>2.0</td>\n",
       "      <td>5.0</td>\n",
       "      <td>2.0</td>\n",
       "      <td>4.0</td>\n",
       "      <td>5.0</td>\n",
       "      <td>4.0</td>\n",
       "      <td>4.0</td>\n",
       "      <td>4.0</td>\n",
       "      <td>2.0</td>\n",
       "      <td>5.0</td>\n",
       "      <td>2.0</td>\n",
       "      <td>2.0</td>\n",
       "      <td>2.0</td>\n",
       "      <td>2.0</td>\n",
       "      <td>2.0</td>\n",
       "      <td>1.0</td>\n",
       "    </tr>\n",
       "    <tr>\n",
       "      <th>1</th>\n",
       "      <td>5.0</td>\n",
       "      <td>5.0</td>\n",
       "      <td>3.0</td>\n",
       "      <td>5.0</td>\n",
       "      <td>1.0</td>\n",
       "      <td>3.0</td>\n",
       "      <td>1.0</td>\n",
       "      <td>1.0</td>\n",
       "      <td>5.0</td>\n",
       "      <td>3.0</td>\n",
       "      <td>5.0</td>\n",
       "      <td>4.0</td>\n",
       "      <td>1.0</td>\n",
       "      <td>5.0</td>\n",
       "      <td>1.0</td>\n",
       "      <td>5.0</td>\n",
       "      <td>5.0</td>\n",
       "      <td>1.0</td>\n",
       "      <td>4.0</td>\n",
       "      <td>1.0</td>\n",
       "    </tr>\n",
       "    <tr>\n",
       "      <th>2</th>\n",
       "      <td>4.0</td>\n",
       "      <td>1.0</td>\n",
       "      <td>1.0</td>\n",
       "      <td>4.0</td>\n",
       "      <td>5.0</td>\n",
       "      <td>1.0</td>\n",
       "      <td>4.0</td>\n",
       "      <td>1.0</td>\n",
       "      <td>3.0</td>\n",
       "      <td>2.0</td>\n",
       "      <td>5.0</td>\n",
       "      <td>5.0</td>\n",
       "      <td>2.0</td>\n",
       "      <td>4.0</td>\n",
       "      <td>2.0</td>\n",
       "      <td>1.0</td>\n",
       "      <td>5.0</td>\n",
       "      <td>4.0</td>\n",
       "      <td>1.0</td>\n",
       "      <td>1.0</td>\n",
       "    </tr>\n",
       "  </tbody>\n",
       "</table>\n",
       "</div>"
      ],
      "text/plain": [
       "       QaA  QbA  QcA  QdA  QeA  QfA  QgA  QhA  QiA  QjA  QkA  QlA  QmA  QnA  \\\n",
       "index                                                                         \n",
       "0      3.0  4.0  5.0  1.0  2.0  5.0  2.0  4.0  5.0  4.0  4.0  4.0  2.0  5.0   \n",
       "1      5.0  5.0  3.0  5.0  1.0  3.0  1.0  1.0  5.0  3.0  5.0  4.0  1.0  5.0   \n",
       "2      4.0  1.0  1.0  4.0  5.0  1.0  4.0  1.0  3.0  2.0  5.0  5.0  2.0  4.0   \n",
       "\n",
       "       QoA  QpA  QqA  QrA  QsA  QtA  \n",
       "index                                \n",
       "0      2.0  2.0  2.0  2.0  2.0  1.0  \n",
       "1      1.0  5.0  5.0  1.0  4.0  1.0  \n",
       "2      2.0  1.0  5.0  4.0  1.0  1.0  "
      ]
     },
     "execution_count": 4,
     "metadata": {},
     "output_type": "execute_result"
    }
   ],
   "source": [
    "Q_A = meta[meta.gbn=='Q_A'].index\n",
    "train[Q_A].describe()\n",
    "train[Q_A].head(3)"
   ]
  },
  {
   "cell_type": "code",
   "execution_count": null,
   "metadata": {},
   "outputs": [],
   "source": []
  },
  {
   "cell_type": "markdown",
   "metadata": {},
   "source": [
    "### Q_A 1/5 count"
   ]
  },
  {
   "cell_type": "code",
   "execution_count": 5,
   "metadata": {},
   "outputs": [],
   "source": [
    "# Q_A: 1~5 1/5 극단값 선택한 count 추출\n",
    "train['Q1'] = 0\n",
    "train['Q3'] = 0\n",
    "train['Q5'] = 0\n",
    "\n",
    "test['Q1'] = 0\n",
    "test['Q3'] = 0\n",
    "test['Q5'] = 0"
   ]
  },
  {
   "cell_type": "code",
   "execution_count": 6,
   "metadata": {},
   "outputs": [
    {
     "name": "stdout",
     "output_type": "stream",
     "text": [
      "Wall time: 2min 37s\n"
     ]
    }
   ],
   "source": [
    "%%time\n",
    "for f in Q_A:\n",
    "    for i, v in enumerate(train[f]):\n",
    "        if v == 1:\n",
    "            train.loc[i, 'Q1'] = train.loc[i, 'Q1']+1\n",
    "        elif v == 3:\n",
    "            train.loc[i, 'Q3'] = train.loc[i, 'Q3']+1\n",
    "        elif v == 5:\n",
    "            train.loc[i, 'Q5'] = train.loc[i, 'Q5']+1            "
   ]
  },
  {
   "cell_type": "code",
   "execution_count": 7,
   "metadata": {},
   "outputs": [
    {
     "name": "stdout",
     "output_type": "stream",
     "text": [
      "Wall time: 34.3 s\n"
     ]
    }
   ],
   "source": [
    "%%time\n",
    "for f in Q_A:\n",
    "    for i, v in enumerate(test[f]):\n",
    "        if v == 1:\n",
    "            test.loc[i, 'Q1'] = test.loc[i, 'Q1']+1\n",
    "        elif v == 3:\n",
    "            test.loc[i, 'Q3'] = test.loc[i, 'Q3']+1            \n",
    "        elif v == 5:\n",
    "            test.loc[i, 'Q5'] = test.loc[i, 'Q5']+1                        "
   ]
  },
  {
   "cell_type": "code",
   "execution_count": null,
   "metadata": {},
   "outputs": [],
   "source": []
  },
  {
   "cell_type": "code",
   "execution_count": null,
   "metadata": {},
   "outputs": [],
   "source": [
    "colQ_As = Q_A.tolist()\n",
    "colQ_As.extend(['Q1','Q3','Q5', 'voted'])\n",
    "\n",
    "corr_Q_A = train[colQ_As].corr()\n",
    "\n",
    "mask = np.zeros_like(corr_Q_A, dtype=np.bool)\n",
    "mask[np.triu_indices_from(mask)] = True\n",
    "plt.figure(figsize=(18, 12))\n",
    "plt.title('colQ_As', fontsize=18)\n",
    "\n",
    "sns.heatmap(corr_Q_A, mask=mask, annot=True,cmap='RdYlGn', linewidths=0.2, annot_kws={'size':10})\n",
    "plt.show()"
   ]
  },
  {
   "cell_type": "code",
   "execution_count": null,
   "metadata": {},
   "outputs": [],
   "source": [
    "corr_Q_A['voted'].abs().sort_values(ascending=False)"
   ]
  },
  {
   "cell_type": "code",
   "execution_count": null,
   "metadata": {},
   "outputs": [],
   "source": []
  },
  {
   "cell_type": "markdown",
   "metadata": {},
   "source": [
    "### Q_E"
   ]
  },
  {
   "cell_type": "code",
   "execution_count": 8,
   "metadata": {},
   "outputs": [
    {
     "data": {
      "text/html": [
       "<div>\n",
       "<style scoped>\n",
       "    .dataframe tbody tr th:only-of-type {\n",
       "        vertical-align: middle;\n",
       "    }\n",
       "\n",
       "    .dataframe tbody tr th {\n",
       "        vertical-align: top;\n",
       "    }\n",
       "\n",
       "    .dataframe thead th {\n",
       "        text-align: right;\n",
       "    }\n",
       "</style>\n",
       "<table border=\"1\" class=\"dataframe\">\n",
       "  <thead>\n",
       "    <tr style=\"text-align: right;\">\n",
       "      <th></th>\n",
       "      <th>QaE</th>\n",
       "      <th>QbE</th>\n",
       "      <th>QcE</th>\n",
       "      <th>QdE</th>\n",
       "      <th>QeE</th>\n",
       "      <th>QfE</th>\n",
       "      <th>QgE</th>\n",
       "      <th>QhE</th>\n",
       "      <th>QiE</th>\n",
       "      <th>QjE</th>\n",
       "      <th>QkE</th>\n",
       "      <th>QlE</th>\n",
       "      <th>QmE</th>\n",
       "      <th>QnE</th>\n",
       "      <th>QoE</th>\n",
       "      <th>QpE</th>\n",
       "      <th>QqE</th>\n",
       "      <th>QrE</th>\n",
       "      <th>QsE</th>\n",
       "      <th>QtE</th>\n",
       "    </tr>\n",
       "  </thead>\n",
       "  <tbody>\n",
       "    <tr>\n",
       "      <th>count</th>\n",
       "      <td>4.553200e+04</td>\n",
       "      <td>4.553200e+04</td>\n",
       "      <td>45532.000000</td>\n",
       "      <td>4.553200e+04</td>\n",
       "      <td>4.553200e+04</td>\n",
       "      <td>4.553200e+04</td>\n",
       "      <td>4.553200e+04</td>\n",
       "      <td>4.553200e+04</td>\n",
       "      <td>4.553200e+04</td>\n",
       "      <td>4.553200e+04</td>\n",
       "      <td>4.553200e+04</td>\n",
       "      <td>4.553200e+04</td>\n",
       "      <td>4.553200e+04</td>\n",
       "      <td>45532.000000</td>\n",
       "      <td>4.553200e+04</td>\n",
       "      <td>4.553200e+04</td>\n",
       "      <td>4.553200e+04</td>\n",
       "      <td>4.553200e+04</td>\n",
       "      <td>4.553200e+04</td>\n",
       "      <td>4.553200e+04</td>\n",
       "    </tr>\n",
       "    <tr>\n",
       "      <th>mean</th>\n",
       "      <td>9.453570e+02</td>\n",
       "      <td>2.189589e+03</td>\n",
       "      <td>1484.294518</td>\n",
       "      <td>1.490672e+03</td>\n",
       "      <td>1.899292e+03</td>\n",
       "      <td>1.850650e+03</td>\n",
       "      <td>1.284608e+03</td>\n",
       "      <td>4.584272e+03</td>\n",
       "      <td>4.068434e+03</td>\n",
       "      <td>2.576363e+03</td>\n",
       "      <td>2.038986e+03</td>\n",
       "      <td>3.741018e+03</td>\n",
       "      <td>2.050287e+03</td>\n",
       "      <td>959.880502</td>\n",
       "      <td>1.435762e+03</td>\n",
       "      <td>1.633479e+03</td>\n",
       "      <td>1.154352e+03</td>\n",
       "      <td>2.470808e+03</td>\n",
       "      <td>1.164117e+03</td>\n",
       "      <td>2.240057e+03</td>\n",
       "    </tr>\n",
       "    <tr>\n",
       "      <th>std</th>\n",
       "      <td>1.307565e+04</td>\n",
       "      <td>3.351027e+04</td>\n",
       "      <td>8977.664318</td>\n",
       "      <td>1.092260e+04</td>\n",
       "      <td>1.670765e+04</td>\n",
       "      <td>7.608236e+04</td>\n",
       "      <td>9.756584e+03</td>\n",
       "      <td>5.020265e+05</td>\n",
       "      <td>1.141738e+05</td>\n",
       "      <td>5.411432e+04</td>\n",
       "      <td>3.069164e+04</td>\n",
       "      <td>3.663672e+05</td>\n",
       "      <td>7.530787e+04</td>\n",
       "      <td>5869.964127</td>\n",
       "      <td>1.084997e+04</td>\n",
       "      <td>2.600221e+04</td>\n",
       "      <td>2.250689e+04</td>\n",
       "      <td>1.482890e+05</td>\n",
       "      <td>7.433515e+03</td>\n",
       "      <td>6.730924e+04</td>\n",
       "    </tr>\n",
       "    <tr>\n",
       "      <th>min</th>\n",
       "      <td>2.500000e+01</td>\n",
       "      <td>2.500000e+01</td>\n",
       "      <td>25.000000</td>\n",
       "      <td>2.600000e+01</td>\n",
       "      <td>2.500000e+01</td>\n",
       "      <td>2.500000e+01</td>\n",
       "      <td>2.500000e+01</td>\n",
       "      <td>0.000000e+00</td>\n",
       "      <td>0.000000e+00</td>\n",
       "      <td>0.000000e+00</td>\n",
       "      <td>0.000000e+00</td>\n",
       "      <td>2.500000e+01</td>\n",
       "      <td>2.500000e+01</td>\n",
       "      <td>25.000000</td>\n",
       "      <td>0.000000e+00</td>\n",
       "      <td>0.000000e+00</td>\n",
       "      <td>0.000000e+00</td>\n",
       "      <td>2.500000e+01</td>\n",
       "      <td>2.500000e+01</td>\n",
       "      <td>2.500000e+01</td>\n",
       "    </tr>\n",
       "    <tr>\n",
       "      <th>25%</th>\n",
       "      <td>4.040000e+02</td>\n",
       "      <td>8.750000e+02</td>\n",
       "      <td>651.000000</td>\n",
       "      <td>6.790000e+02</td>\n",
       "      <td>8.340000e+02</td>\n",
       "      <td>5.040000e+02</td>\n",
       "      <td>5.490000e+02</td>\n",
       "      <td>1.077000e+03</td>\n",
       "      <td>1.259000e+03</td>\n",
       "      <td>9.020000e+02</td>\n",
       "      <td>8.590000e+02</td>\n",
       "      <td>8.060000e+02</td>\n",
       "      <td>6.500000e+02</td>\n",
       "      <td>428.000000</td>\n",
       "      <td>6.380000e+02</td>\n",
       "      <td>7.060000e+02</td>\n",
       "      <td>4.610000e+02</td>\n",
       "      <td>7.940000e+02</td>\n",
       "      <td>5.270000e+02</td>\n",
       "      <td>7.330000e+02</td>\n",
       "    </tr>\n",
       "    <tr>\n",
       "      <th>50%</th>\n",
       "      <td>5.570000e+02</td>\n",
       "      <td>1.218000e+03</td>\n",
       "      <td>899.000000</td>\n",
       "      <td>9.310000e+02</td>\n",
       "      <td>1.154000e+03</td>\n",
       "      <td>7.120000e+02</td>\n",
       "      <td>7.720000e+02</td>\n",
       "      <td>1.464000e+03</td>\n",
       "      <td>1.800000e+03</td>\n",
       "      <td>1.260000e+03</td>\n",
       "      <td>1.178000e+03</td>\n",
       "      <td>1.125000e+03</td>\n",
       "      <td>9.060000e+02</td>\n",
       "      <td>596.000000</td>\n",
       "      <td>8.830000e+02</td>\n",
       "      <td>9.700000e+02</td>\n",
       "      <td>6.520000e+02</td>\n",
       "      <td>1.117000e+03</td>\n",
       "      <td>7.470000e+02</td>\n",
       "      <td>1.020000e+03</td>\n",
       "    </tr>\n",
       "    <tr>\n",
       "      <th>75%</th>\n",
       "      <td>8.270000e+02</td>\n",
       "      <td>1.838000e+03</td>\n",
       "      <td>1335.000000</td>\n",
       "      <td>1.355000e+03</td>\n",
       "      <td>1.656000e+03</td>\n",
       "      <td>1.078000e+03</td>\n",
       "      <td>1.150000e+03</td>\n",
       "      <td>2.090000e+03</td>\n",
       "      <td>2.761000e+03</td>\n",
       "      <td>1.899000e+03</td>\n",
       "      <td>1.721000e+03</td>\n",
       "      <td>1.649000e+03</td>\n",
       "      <td>1.342000e+03</td>\n",
       "      <td>891.000000</td>\n",
       "      <td>1.300000e+03</td>\n",
       "      <td>1.409000e+03</td>\n",
       "      <td>9.820000e+02</td>\n",
       "      <td>1.664000e+03</td>\n",
       "      <td>1.124000e+03</td>\n",
       "      <td>1.526000e+03</td>\n",
       "    </tr>\n",
       "    <tr>\n",
       "      <th>max</th>\n",
       "      <td>2.413960e+06</td>\n",
       "      <td>5.580395e+06</td>\n",
       "      <td>871557.000000</td>\n",
       "      <td>1.552821e+06</td>\n",
       "      <td>1.919926e+06</td>\n",
       "      <td>1.176370e+07</td>\n",
       "      <td>1.068252e+06</td>\n",
       "      <td>1.070860e+08</td>\n",
       "      <td>1.703586e+07</td>\n",
       "      <td>9.910006e+06</td>\n",
       "      <td>4.824953e+06</td>\n",
       "      <td>7.754351e+07</td>\n",
       "      <td>1.410832e+07</td>\n",
       "      <td>606694.000000</td>\n",
       "      <td>1.309739e+06</td>\n",
       "      <td>4.650742e+06</td>\n",
       "      <td>4.277510e+06</td>\n",
       "      <td>3.159328e+07</td>\n",
       "      <td>1.286581e+06</td>\n",
       "      <td>1.155650e+07</td>\n",
       "    </tr>\n",
       "  </tbody>\n",
       "</table>\n",
       "</div>"
      ],
      "text/plain": [
       "                QaE           QbE            QcE           QdE           QeE  \\\n",
       "count  4.553200e+04  4.553200e+04   45532.000000  4.553200e+04  4.553200e+04   \n",
       "mean   9.453570e+02  2.189589e+03    1484.294518  1.490672e+03  1.899292e+03   \n",
       "std    1.307565e+04  3.351027e+04    8977.664318  1.092260e+04  1.670765e+04   \n",
       "min    2.500000e+01  2.500000e+01      25.000000  2.600000e+01  2.500000e+01   \n",
       "25%    4.040000e+02  8.750000e+02     651.000000  6.790000e+02  8.340000e+02   \n",
       "50%    5.570000e+02  1.218000e+03     899.000000  9.310000e+02  1.154000e+03   \n",
       "75%    8.270000e+02  1.838000e+03    1335.000000  1.355000e+03  1.656000e+03   \n",
       "max    2.413960e+06  5.580395e+06  871557.000000  1.552821e+06  1.919926e+06   \n",
       "\n",
       "                QfE           QgE           QhE           QiE           QjE  \\\n",
       "count  4.553200e+04  4.553200e+04  4.553200e+04  4.553200e+04  4.553200e+04   \n",
       "mean   1.850650e+03  1.284608e+03  4.584272e+03  4.068434e+03  2.576363e+03   \n",
       "std    7.608236e+04  9.756584e+03  5.020265e+05  1.141738e+05  5.411432e+04   \n",
       "min    2.500000e+01  2.500000e+01  0.000000e+00  0.000000e+00  0.000000e+00   \n",
       "25%    5.040000e+02  5.490000e+02  1.077000e+03  1.259000e+03  9.020000e+02   \n",
       "50%    7.120000e+02  7.720000e+02  1.464000e+03  1.800000e+03  1.260000e+03   \n",
       "75%    1.078000e+03  1.150000e+03  2.090000e+03  2.761000e+03  1.899000e+03   \n",
       "max    1.176370e+07  1.068252e+06  1.070860e+08  1.703586e+07  9.910006e+06   \n",
       "\n",
       "                QkE           QlE           QmE            QnE           QoE  \\\n",
       "count  4.553200e+04  4.553200e+04  4.553200e+04   45532.000000  4.553200e+04   \n",
       "mean   2.038986e+03  3.741018e+03  2.050287e+03     959.880502  1.435762e+03   \n",
       "std    3.069164e+04  3.663672e+05  7.530787e+04    5869.964127  1.084997e+04   \n",
       "min    0.000000e+00  2.500000e+01  2.500000e+01      25.000000  0.000000e+00   \n",
       "25%    8.590000e+02  8.060000e+02  6.500000e+02     428.000000  6.380000e+02   \n",
       "50%    1.178000e+03  1.125000e+03  9.060000e+02     596.000000  8.830000e+02   \n",
       "75%    1.721000e+03  1.649000e+03  1.342000e+03     891.000000  1.300000e+03   \n",
       "max    4.824953e+06  7.754351e+07  1.410832e+07  606694.000000  1.309739e+06   \n",
       "\n",
       "                QpE           QqE           QrE           QsE           QtE  \n",
       "count  4.553200e+04  4.553200e+04  4.553200e+04  4.553200e+04  4.553200e+04  \n",
       "mean   1.633479e+03  1.154352e+03  2.470808e+03  1.164117e+03  2.240057e+03  \n",
       "std    2.600221e+04  2.250689e+04  1.482890e+05  7.433515e+03  6.730924e+04  \n",
       "min    0.000000e+00  0.000000e+00  2.500000e+01  2.500000e+01  2.500000e+01  \n",
       "25%    7.060000e+02  4.610000e+02  7.940000e+02  5.270000e+02  7.330000e+02  \n",
       "50%    9.700000e+02  6.520000e+02  1.117000e+03  7.470000e+02  1.020000e+03  \n",
       "75%    1.409000e+03  9.820000e+02  1.664000e+03  1.124000e+03  1.526000e+03  \n",
       "max    4.650742e+06  4.277510e+06  3.159328e+07  1.286581e+06  1.155650e+07  "
      ]
     },
     "execution_count": 8,
     "metadata": {},
     "output_type": "execute_result"
    },
    {
     "data": {
      "text/html": [
       "<div>\n",
       "<style scoped>\n",
       "    .dataframe tbody tr th:only-of-type {\n",
       "        vertical-align: middle;\n",
       "    }\n",
       "\n",
       "    .dataframe tbody tr th {\n",
       "        vertical-align: top;\n",
       "    }\n",
       "\n",
       "    .dataframe thead th {\n",
       "        text-align: right;\n",
       "    }\n",
       "</style>\n",
       "<table border=\"1\" class=\"dataframe\">\n",
       "  <thead>\n",
       "    <tr style=\"text-align: right;\">\n",
       "      <th></th>\n",
       "      <th>QaE</th>\n",
       "      <th>QbE</th>\n",
       "      <th>QcE</th>\n",
       "      <th>QdE</th>\n",
       "      <th>QeE</th>\n",
       "      <th>QfE</th>\n",
       "      <th>QgE</th>\n",
       "      <th>QhE</th>\n",
       "      <th>QiE</th>\n",
       "      <th>QjE</th>\n",
       "      <th>QkE</th>\n",
       "      <th>QlE</th>\n",
       "      <th>QmE</th>\n",
       "      <th>QnE</th>\n",
       "      <th>QoE</th>\n",
       "      <th>QpE</th>\n",
       "      <th>QqE</th>\n",
       "      <th>QrE</th>\n",
       "      <th>QsE</th>\n",
       "      <th>QtE</th>\n",
       "    </tr>\n",
       "    <tr>\n",
       "      <th>index</th>\n",
       "      <th></th>\n",
       "      <th></th>\n",
       "      <th></th>\n",
       "      <th></th>\n",
       "      <th></th>\n",
       "      <th></th>\n",
       "      <th></th>\n",
       "      <th></th>\n",
       "      <th></th>\n",
       "      <th></th>\n",
       "      <th></th>\n",
       "      <th></th>\n",
       "      <th></th>\n",
       "      <th></th>\n",
       "      <th></th>\n",
       "      <th></th>\n",
       "      <th></th>\n",
       "      <th></th>\n",
       "      <th></th>\n",
       "      <th></th>\n",
       "    </tr>\n",
       "  </thead>\n",
       "  <tbody>\n",
       "    <tr>\n",
       "      <th>0</th>\n",
       "      <td>363</td>\n",
       "      <td>1370</td>\n",
       "      <td>997</td>\n",
       "      <td>1024</td>\n",
       "      <td>1577</td>\n",
       "      <td>539</td>\n",
       "      <td>586</td>\n",
       "      <td>1095</td>\n",
       "      <td>1142</td>\n",
       "      <td>1287</td>\n",
       "      <td>883</td>\n",
       "      <td>851</td>\n",
       "      <td>851</td>\n",
       "      <td>816</td>\n",
       "      <td>579</td>\n",
       "      <td>924</td>\n",
       "      <td>366</td>\n",
       "      <td>876</td>\n",
       "      <td>633</td>\n",
       "      <td>1115</td>\n",
       "    </tr>\n",
       "    <tr>\n",
       "      <th>1</th>\n",
       "      <td>647</td>\n",
       "      <td>1313</td>\n",
       "      <td>3387</td>\n",
       "      <td>2969</td>\n",
       "      <td>4320</td>\n",
       "      <td>2190</td>\n",
       "      <td>826</td>\n",
       "      <td>4082</td>\n",
       "      <td>1867</td>\n",
       "      <td>1264</td>\n",
       "      <td>2943</td>\n",
       "      <td>3927</td>\n",
       "      <td>4329</td>\n",
       "      <td>1828</td>\n",
       "      <td>1214</td>\n",
       "      <td>2414</td>\n",
       "      <td>1356</td>\n",
       "      <td>3039</td>\n",
       "      <td>4304</td>\n",
       "      <td>1346</td>\n",
       "    </tr>\n",
       "    <tr>\n",
       "      <th>2</th>\n",
       "      <td>1623</td>\n",
       "      <td>1480</td>\n",
       "      <td>1021</td>\n",
       "      <td>3374</td>\n",
       "      <td>1333</td>\n",
       "      <td>531</td>\n",
       "      <td>1167</td>\n",
       "      <td>1016</td>\n",
       "      <td>2653</td>\n",
       "      <td>1569</td>\n",
       "      <td>998</td>\n",
       "      <td>2547</td>\n",
       "      <td>918</td>\n",
       "      <td>2153</td>\n",
       "      <td>1304</td>\n",
       "      <td>1131</td>\n",
       "      <td>937</td>\n",
       "      <td>1327</td>\n",
       "      <td>1170</td>\n",
       "      <td>1409</td>\n",
       "    </tr>\n",
       "    <tr>\n",
       "      <th>3</th>\n",
       "      <td>504</td>\n",
       "      <td>2311</td>\n",
       "      <td>992</td>\n",
       "      <td>3245</td>\n",
       "      <td>357</td>\n",
       "      <td>1519</td>\n",
       "      <td>159</td>\n",
       "      <td>2275</td>\n",
       "      <td>2809</td>\n",
       "      <td>5614</td>\n",
       "      <td>3219</td>\n",
       "      <td>1296</td>\n",
       "      <td>9046</td>\n",
       "      <td>1216</td>\n",
       "      <td>1169</td>\n",
       "      <td>23868</td>\n",
       "      <td>581</td>\n",
       "      <td>8830</td>\n",
       "      <td>2392</td>\n",
       "      <td>1312</td>\n",
       "    </tr>\n",
       "    <tr>\n",
       "      <th>4</th>\n",
       "      <td>927</td>\n",
       "      <td>707</td>\n",
       "      <td>556</td>\n",
       "      <td>1062</td>\n",
       "      <td>1014</td>\n",
       "      <td>628</td>\n",
       "      <td>991</td>\n",
       "      <td>1259</td>\n",
       "      <td>1153</td>\n",
       "      <td>1388</td>\n",
       "      <td>740</td>\n",
       "      <td>1181</td>\n",
       "      <td>547</td>\n",
       "      <td>575</td>\n",
       "      <td>754</td>\n",
       "      <td>1140</td>\n",
       "      <td>323</td>\n",
       "      <td>1070</td>\n",
       "      <td>583</td>\n",
       "      <td>1889</td>\n",
       "    </tr>\n",
       "  </tbody>\n",
       "</table>\n",
       "</div>"
      ],
      "text/plain": [
       "        QaE   QbE   QcE   QdE   QeE   QfE   QgE   QhE   QiE   QjE   QkE   QlE  \\\n",
       "index                                                                           \n",
       "0       363  1370   997  1024  1577   539   586  1095  1142  1287   883   851   \n",
       "1       647  1313  3387  2969  4320  2190   826  4082  1867  1264  2943  3927   \n",
       "2      1623  1480  1021  3374  1333   531  1167  1016  2653  1569   998  2547   \n",
       "3       504  2311   992  3245   357  1519   159  2275  2809  5614  3219  1296   \n",
       "4       927   707   556  1062  1014   628   991  1259  1153  1388   740  1181   \n",
       "\n",
       "        QmE   QnE   QoE    QpE   QqE   QrE   QsE   QtE  \n",
       "index                                                   \n",
       "0       851   816   579    924   366   876   633  1115  \n",
       "1      4329  1828  1214   2414  1356  3039  4304  1346  \n",
       "2       918  2153  1304   1131   937  1327  1170  1409  \n",
       "3      9046  1216  1169  23868   581  8830  2392  1312  \n",
       "4       547   575   754   1140   323  1070   583  1889  "
      ]
     },
     "execution_count": 8,
     "metadata": {},
     "output_type": "execute_result"
    }
   ],
   "source": [
    "Q_E = meta[meta.gbn == 'Q_E'].index\n",
    "train[Q_E].describe()\n",
    "train[Q_E].head()"
   ]
  },
  {
   "cell_type": "code",
   "execution_count": null,
   "metadata": {},
   "outputs": [],
   "source": [
    "for f in Q_E:\n",
    "    g = sns.FacetGrid(train, col='voted').map(sns.distplot, f)"
   ]
  },
  {
   "cell_type": "code",
   "execution_count": null,
   "metadata": {},
   "outputs": [],
   "source": [
    "for f in Q_E:\n",
    "    print(f, train[f].min(), train[f].max())"
   ]
  },
  {
   "cell_type": "code",
   "execution_count": null,
   "metadata": {},
   "outputs": [],
   "source": []
  },
  {
   "cell_type": "code",
   "execution_count": null,
   "metadata": {},
   "outputs": [],
   "source": [
    "colQ_Es = Q_E.tolist()\n",
    "colQ_Es.extend(['voted'])\n",
    "\n",
    "corr_Q_E = train[colQ_Es].corr()\n",
    "\n",
    "mask = np.zeros_like(corr_Q_E, dtype=np.bool)\n",
    "mask[np.triu_indices_from(mask)] = True\n",
    "plt.figure(figsize=(18, 12))\n",
    "plt.title('colQ_ES', fontsize=18)\n",
    "\n",
    "sns.heatmap(corr_Q_E, mask=mask, annot=True,cmap='RdYlGn', linewidths=0.2, annot_kws={'size':10})\n",
    "plt.show()"
   ]
  },
  {
   "cell_type": "code",
   "execution_count": null,
   "metadata": {},
   "outputs": [],
   "source": []
  },
  {
   "cell_type": "markdown",
   "metadata": {},
   "source": [
    "#### skew"
   ]
  },
  {
   "cell_type": "code",
   "execution_count": null,
   "metadata": {},
   "outputs": [],
   "source": [
    "for f in Q_E:\n",
    "    train[f] = np.log1p(train[f])\n",
    "    test[f] = np.log1p(test[f])"
   ]
  },
  {
   "cell_type": "code",
   "execution_count": null,
   "metadata": {},
   "outputs": [],
   "source": []
  },
  {
   "cell_type": "markdown",
   "metadata": {},
   "source": [
    "### tp"
   ]
  },
  {
   "cell_type": "code",
   "execution_count": 9,
   "metadata": {},
   "outputs": [
    {
     "data": {
      "text/html": [
       "<div>\n",
       "<style scoped>\n",
       "    .dataframe tbody tr th:only-of-type {\n",
       "        vertical-align: middle;\n",
       "    }\n",
       "\n",
       "    .dataframe tbody tr th {\n",
       "        vertical-align: top;\n",
       "    }\n",
       "\n",
       "    .dataframe thead th {\n",
       "        text-align: right;\n",
       "    }\n",
       "</style>\n",
       "<table border=\"1\" class=\"dataframe\">\n",
       "  <thead>\n",
       "    <tr style=\"text-align: right;\">\n",
       "      <th></th>\n",
       "      <th>tp01</th>\n",
       "      <th>tp02</th>\n",
       "      <th>tp03</th>\n",
       "      <th>tp04</th>\n",
       "      <th>tp05</th>\n",
       "      <th>tp06</th>\n",
       "      <th>tp07</th>\n",
       "      <th>tp08</th>\n",
       "      <th>tp09</th>\n",
       "      <th>tp10</th>\n",
       "    </tr>\n",
       "  </thead>\n",
       "  <tbody>\n",
       "    <tr>\n",
       "      <th>count</th>\n",
       "      <td>45532.000000</td>\n",
       "      <td>45532.000000</td>\n",
       "      <td>45532.000000</td>\n",
       "      <td>45532.000000</td>\n",
       "      <td>45532.000000</td>\n",
       "      <td>45532.000000</td>\n",
       "      <td>45532.000000</td>\n",
       "      <td>45532.000000</td>\n",
       "      <td>45532.000000</td>\n",
       "      <td>45532.000000</td>\n",
       "    </tr>\n",
       "    <tr>\n",
       "      <th>mean</th>\n",
       "      <td>3.017241</td>\n",
       "      <td>2.621189</td>\n",
       "      <td>1.768712</td>\n",
       "      <td>3.041246</td>\n",
       "      <td>1.335918</td>\n",
       "      <td>2.472217</td>\n",
       "      <td>2.031099</td>\n",
       "      <td>3.507226</td>\n",
       "      <td>2.277497</td>\n",
       "      <td>4.317996</td>\n",
       "    </tr>\n",
       "    <tr>\n",
       "      <th>std</th>\n",
       "      <td>2.007713</td>\n",
       "      <td>1.897081</td>\n",
       "      <td>1.685069</td>\n",
       "      <td>2.037278</td>\n",
       "      <td>1.452544</td>\n",
       "      <td>2.000658</td>\n",
       "      <td>1.785824</td>\n",
       "      <td>1.971456</td>\n",
       "      <td>1.848783</td>\n",
       "      <td>1.722793</td>\n",
       "    </tr>\n",
       "    <tr>\n",
       "      <th>min</th>\n",
       "      <td>0.000000</td>\n",
       "      <td>0.000000</td>\n",
       "      <td>0.000000</td>\n",
       "      <td>0.000000</td>\n",
       "      <td>0.000000</td>\n",
       "      <td>0.000000</td>\n",
       "      <td>0.000000</td>\n",
       "      <td>0.000000</td>\n",
       "      <td>0.000000</td>\n",
       "      <td>0.000000</td>\n",
       "    </tr>\n",
       "    <tr>\n",
       "      <th>25%</th>\n",
       "      <td>1.000000</td>\n",
       "      <td>1.000000</td>\n",
       "      <td>0.000000</td>\n",
       "      <td>1.000000</td>\n",
       "      <td>0.000000</td>\n",
       "      <td>1.000000</td>\n",
       "      <td>1.000000</td>\n",
       "      <td>2.000000</td>\n",
       "      <td>1.000000</td>\n",
       "      <td>3.000000</td>\n",
       "    </tr>\n",
       "    <tr>\n",
       "      <th>50%</th>\n",
       "      <td>3.000000</td>\n",
       "      <td>2.000000</td>\n",
       "      <td>1.000000</td>\n",
       "      <td>3.000000</td>\n",
       "      <td>1.000000</td>\n",
       "      <td>2.000000</td>\n",
       "      <td>2.000000</td>\n",
       "      <td>4.000000</td>\n",
       "      <td>2.000000</td>\n",
       "      <td>5.000000</td>\n",
       "    </tr>\n",
       "    <tr>\n",
       "      <th>75%</th>\n",
       "      <td>5.000000</td>\n",
       "      <td>4.000000</td>\n",
       "      <td>3.000000</td>\n",
       "      <td>5.000000</td>\n",
       "      <td>2.000000</td>\n",
       "      <td>4.000000</td>\n",
       "      <td>3.000000</td>\n",
       "      <td>5.000000</td>\n",
       "      <td>4.000000</td>\n",
       "      <td>6.000000</td>\n",
       "    </tr>\n",
       "    <tr>\n",
       "      <th>max</th>\n",
       "      <td>7.000000</td>\n",
       "      <td>7.000000</td>\n",
       "      <td>7.000000</td>\n",
       "      <td>7.000000</td>\n",
       "      <td>7.000000</td>\n",
       "      <td>7.000000</td>\n",
       "      <td>7.000000</td>\n",
       "      <td>7.000000</td>\n",
       "      <td>7.000000</td>\n",
       "      <td>7.000000</td>\n",
       "    </tr>\n",
       "  </tbody>\n",
       "</table>\n",
       "</div>"
      ],
      "text/plain": [
       "               tp01          tp02          tp03          tp04          tp05  \\\n",
       "count  45532.000000  45532.000000  45532.000000  45532.000000  45532.000000   \n",
       "mean       3.017241      2.621189      1.768712      3.041246      1.335918   \n",
       "std        2.007713      1.897081      1.685069      2.037278      1.452544   \n",
       "min        0.000000      0.000000      0.000000      0.000000      0.000000   \n",
       "25%        1.000000      1.000000      0.000000      1.000000      0.000000   \n",
       "50%        3.000000      2.000000      1.000000      3.000000      1.000000   \n",
       "75%        5.000000      4.000000      3.000000      5.000000      2.000000   \n",
       "max        7.000000      7.000000      7.000000      7.000000      7.000000   \n",
       "\n",
       "               tp06          tp07          tp08          tp09          tp10  \n",
       "count  45532.000000  45532.000000  45532.000000  45532.000000  45532.000000  \n",
       "mean       2.472217      2.031099      3.507226      2.277497      4.317996  \n",
       "std        2.000658      1.785824      1.971456      1.848783      1.722793  \n",
       "min        0.000000      0.000000      0.000000      0.000000      0.000000  \n",
       "25%        1.000000      1.000000      2.000000      1.000000      3.000000  \n",
       "50%        2.000000      2.000000      4.000000      2.000000      5.000000  \n",
       "75%        4.000000      3.000000      5.000000      4.000000      6.000000  \n",
       "max        7.000000      7.000000      7.000000      7.000000      7.000000  "
      ]
     },
     "execution_count": 9,
     "metadata": {},
     "output_type": "execute_result"
    },
    {
     "data": {
      "text/html": [
       "<div>\n",
       "<style scoped>\n",
       "    .dataframe tbody tr th:only-of-type {\n",
       "        vertical-align: middle;\n",
       "    }\n",
       "\n",
       "    .dataframe tbody tr th {\n",
       "        vertical-align: top;\n",
       "    }\n",
       "\n",
       "    .dataframe thead th {\n",
       "        text-align: right;\n",
       "    }\n",
       "</style>\n",
       "<table border=\"1\" class=\"dataframe\">\n",
       "  <thead>\n",
       "    <tr style=\"text-align: right;\">\n",
       "      <th></th>\n",
       "      <th>tp01</th>\n",
       "      <th>tp02</th>\n",
       "      <th>tp03</th>\n",
       "      <th>tp04</th>\n",
       "      <th>tp05</th>\n",
       "      <th>tp06</th>\n",
       "      <th>tp07</th>\n",
       "      <th>tp08</th>\n",
       "      <th>tp09</th>\n",
       "      <th>tp10</th>\n",
       "    </tr>\n",
       "    <tr>\n",
       "      <th>index</th>\n",
       "      <th></th>\n",
       "      <th></th>\n",
       "      <th></th>\n",
       "      <th></th>\n",
       "      <th></th>\n",
       "      <th></th>\n",
       "      <th></th>\n",
       "      <th></th>\n",
       "      <th></th>\n",
       "      <th></th>\n",
       "    </tr>\n",
       "  </thead>\n",
       "  <tbody>\n",
       "    <tr>\n",
       "      <th>0</th>\n",
       "      <td>2</td>\n",
       "      <td>2</td>\n",
       "      <td>2</td>\n",
       "      <td>1</td>\n",
       "      <td>2</td>\n",
       "      <td>1</td>\n",
       "      <td>7</td>\n",
       "      <td>4</td>\n",
       "      <td>4</td>\n",
       "      <td>3</td>\n",
       "    </tr>\n",
       "    <tr>\n",
       "      <th>1</th>\n",
       "      <td>1</td>\n",
       "      <td>1</td>\n",
       "      <td>0</td>\n",
       "      <td>0</td>\n",
       "      <td>1</td>\n",
       "      <td>2</td>\n",
       "      <td>3</td>\n",
       "      <td>4</td>\n",
       "      <td>0</td>\n",
       "      <td>4</td>\n",
       "    </tr>\n",
       "    <tr>\n",
       "      <th>2</th>\n",
       "      <td>2</td>\n",
       "      <td>3</td>\n",
       "      <td>1</td>\n",
       "      <td>5</td>\n",
       "      <td>3</td>\n",
       "      <td>4</td>\n",
       "      <td>2</td>\n",
       "      <td>6</td>\n",
       "      <td>1</td>\n",
       "      <td>3</td>\n",
       "    </tr>\n",
       "  </tbody>\n",
       "</table>\n",
       "</div>"
      ],
      "text/plain": [
       "       tp01  tp02  tp03  tp04  tp05  tp06  tp07  tp08  tp09  tp10\n",
       "index                                                            \n",
       "0         2     2     2     1     2     1     7     4     4     3\n",
       "1         1     1     0     0     1     2     3     4     0     4\n",
       "2         2     3     1     5     3     4     2     6     1     3"
      ]
     },
     "execution_count": 9,
     "metadata": {},
     "output_type": "execute_result"
    }
   ],
   "source": [
    "# 0~7 \n",
    "tp = meta[meta.gbn=='tp'].index\n",
    "train[tp].describe()\n",
    "train[tp].head(3)"
   ]
  },
  {
   "cell_type": "code",
   "execution_count": 10,
   "metadata": {},
   "outputs": [
    {
     "data": {
      "image/png": "[encoded data removed]",
      "text/plain": [
       "<Figure size 432x216 with 2 Axes>"
      ]
     },
     "metadata": {
      "needs_background": "light"
     },
     "output_type": "display_data"
    },
    {
     "data": {
      "image/png": "[encoded data removed]",
      "text/plain": [
       "<Figure size 432x216 with 2 Axes>"
      ]
     },
     "metadata": {
      "needs_background": "light"
     },
     "output_type": "display_data"
    },
    {
     "data": {
      "image/png": "[encoded data removed]",
      "text/plain": [
       "<Figure size 432x216 with 2 Axes>"
      ]
     },
     "metadata": {
      "needs_background": "light"
     },
     "output_type": "display_data"
    },
    {
     "data": {
      "image/png": "[encoded data removed]",
      "text/plain": [
       "<Figure size 432x216 with 2 Axes>"
      ]
     },
     "metadata": {
      "needs_background": "light"
     },
     "output_type": "display_data"
    },
    {
     "data": {
      "image/png": "[encoded data removed]",
      "text/plain": [
       "<Figure size 432x216 with 2 Axes>"
      ]
     },
     "metadata": {
      "needs_background": "light"
     },
     "output_type": "display_data"
    },
    {
     "data": {
      "image/png": "[encoded data removed]",
      "text/plain": [
       "<Figure size 432x216 with 2 Axes>"
      ]
     },
     "metadata": {
      "needs_background": "light"
     },
     "output_type": "display_data"
    },
    {
     "data": {
      "image/png": "[encoded data removed]",
      "text/plain": [
       "<Figure size 432x216 with 2 Axes>"
      ]
     },
     "metadata": {
      "needs_background": "light"
     },
     "output_type": "display_data"
    },
    {
     "data": {
      "image/png": "[encoded data removed]",
      "text/plain": [
       "<Figure size 432x216 with 2 Axes>"
      ]
     },
     "metadata": {
      "needs_background": "light"
     },
     "output_type": "display_data"
    },
    {
     "data": {
      "image/png": "[encoded data removed]",
      "text/plain": [
       "<Figure size 432x216 with 2 Axes>"
      ]
     },
     "metadata": {
      "needs_background": "light"
     },
     "output_type": "display_data"
    },
    {
     "data": {
      "image/png": "[encoded data removed]",
      "text/plain": [
       "<Figure size 432x216 with 2 Axes>"
      ]
     },
     "metadata": {
      "needs_background": "light"
     },
     "output_type": "display_data"
    }
   ],
   "source": [
    "for f in tp:\n",
    "    g = sns.FacetGrid(train, col='voted').map(sns.distplot, f)"
   ]
  },
  {
   "cell_type": "code",
   "execution_count": 11,
   "metadata": {},
   "outputs": [
    {
     "data": {
      "text/plain": [
       "<Figure size 1296x864 with 0 Axes>"
      ]
     },
     "execution_count": 11,
     "metadata": {},
     "output_type": "execute_result"
    },
    {
     "data": {
      "text/plain": [
       "Text(0.5, 1.0, 'col_tpS')"
      ]
     },
     "execution_count": 11,
     "metadata": {},
     "output_type": "execute_result"
    },
    {
     "data": {
      "text/plain": [
       "<AxesSubplot:title={'center':'col_tpS'}>"
      ]
     },
     "execution_count": 11,
     "metadata": {},
     "output_type": "execute_result"
    },
    {
     "data": {
      "image/png": "[encoded data removed]",
      "text/plain": [
       "<Figure size 1296x864 with 2 Axes>"
      ]
     },
     "metadata": {
      "needs_background": "light"
     },
     "output_type": "display_data"
    }
   ],
   "source": [
    "col_tps = tp.tolist()\n",
    "col_tps.extend(['voted'])\n",
    "\n",
    "corr_tp = train[col_tps].corr()\n",
    "\n",
    "mask = np.zeros_like(corr_tp, dtype=np.bool)\n",
    "mask[np.triu_indices_from(mask)] = True\n",
    "plt.figure(figsize=(18, 12))\n",
    "plt.title('col_tpS', fontsize=18)\n",
    "\n",
    "sns.heatmap(corr_tp, mask=mask, annot=True,cmap='RdYlGn', linewidths=0.2, annot_kws={'size':10})\n",
    "plt.show()"
   ]
  },
  {
   "cell_type": "code",
   "execution_count": null,
   "metadata": {},
   "outputs": [],
   "source": []
  },
  {
   "cell_type": "code",
   "execution_count": 10,
   "metadata": {},
   "outputs": [],
   "source": [
    "# tp: 1,7 극단값 선택한 count 추출, 4 중간값 선택 count \n",
    "train['tp17'] = 0\n",
    "train['tp4'] = 0\n",
    "\n",
    "test['tp17'] = 0\n",
    "test['tp4'] = 0"
   ]
  },
  {
   "cell_type": "code",
   "execution_count": 11,
   "metadata": {},
   "outputs": [
    {
     "name": "stdout",
     "output_type": "stream",
     "text": [
      "Wall time: 16.1 s\n"
     ]
    }
   ],
   "source": [
    "%%time\n",
    "for f in tp:\n",
    "    for i, v in enumerate(train[f]):\n",
    "        if (v == 1 | v == 7):\n",
    "            train.loc[i, 'tp17'] = train.loc[i, 'tp17']+1\n",
    "        if v == 4:\n",
    "            train.loc[i, 'tp4'] = train.loc[i, 'tp4']+1            "
   ]
  },
  {
   "cell_type": "code",
   "execution_count": 12,
   "metadata": {},
   "outputs": [
    {
     "name": "stdout",
     "output_type": "stream",
     "text": [
      "Wall time: 3.55 s\n"
     ]
    }
   ],
   "source": [
    "%%time\n",
    "for f in tp:\n",
    "    for i, v in enumerate(test[f]):\n",
    "        if (v == 1 | v == 7):\n",
    "            test.loc[i, 'tp17'] = test.loc[i, 'tp17']+1\n",
    "        if v == 4:\n",
    "            test.loc[i, 'tp4'] = test.loc[i, 'tp4']+1            "
   ]
  },
  {
   "cell_type": "code",
   "execution_count": null,
   "metadata": {},
   "outputs": [],
   "source": []
  },
  {
   "cell_type": "markdown",
   "metadata": {},
   "source": [
    "#### 극단값 중간값"
   ]
  },
  {
   "cell_type": "code",
   "execution_count": null,
   "metadata": {},
   "outputs": [],
   "source": [
    "train.columns.values"
   ]
  },
  {
   "cell_type": "code",
   "execution_count": 13,
   "metadata": {},
   "outputs": [],
   "source": [
    "train['QA15tp17'] = train['Q1'] + train['Q5'] + train['tp17']\n",
    "train['QA3tp4'] = train['Q3'] + train['tp4']"
   ]
  },
  {
   "cell_type": "code",
   "execution_count": 14,
   "metadata": {},
   "outputs": [],
   "source": [
    "test['QA15tp17'] = test['Q1'] + test['Q5'] + test['tp17']\n",
    "test['QA3tp4'] = test['Q3'] + test['tp4']"
   ]
  },
  {
   "cell_type": "code",
   "execution_count": null,
   "metadata": {},
   "outputs": [],
   "source": []
  },
  {
   "cell_type": "markdown",
   "metadata": {},
   "source": [
    "#### ratio"
   ]
  },
  {
   "cell_type": "code",
   "execution_count": null,
   "metadata": {},
   "outputs": [],
   "source": [
    "pd.options.display.max_columns = 100\n",
    "train"
   ]
  },
  {
   "cell_type": "code",
   "execution_count": 15,
   "metadata": {},
   "outputs": [],
   "source": [
    "train['Q1'] = train['Q1'] /20\n",
    "train['Q3'] = train['Q3'] /20\n",
    "train['Q5'] = train['Q5'] /20\n",
    "\n",
    "train['tp17'] = train['tp17'] /10\n",
    "train['tp4'] = train['tp4'] /10\n",
    "\n",
    "train['QA15tp17'] = train['QA15tp17'] /30\n",
    "train['QA3tp4'] = train['QA3tp4'] /30"
   ]
  },
  {
   "cell_type": "code",
   "execution_count": 16,
   "metadata": {},
   "outputs": [],
   "source": [
    "test['Q1'] = test['Q1'] /20\n",
    "test['Q3'] = test['Q3'] /20\n",
    "test['Q5'] = test['Q5'] /20\n",
    "\n",
    "test['tp17'] = test['tp17'] /10\n",
    "test['tp4'] = test['tp4'] /10\n",
    "\n",
    "test['QA15tp17'] = test['QA15tp17'] /30\n",
    "test['QA3tp4'] = test['QA3tp4'] /30"
   ]
  },
  {
   "cell_type": "code",
   "execution_count": null,
   "metadata": {},
   "outputs": [],
   "source": []
  },
  {
   "cell_type": "code",
   "execution_count": null,
   "metadata": {},
   "outputs": [],
   "source": []
  },
  {
   "cell_type": "code",
   "execution_count": null,
   "metadata": {},
   "outputs": [],
   "source": []
  },
  {
   "cell_type": "code",
   "execution_count": null,
   "metadata": {},
   "outputs": [],
   "source": [
    "meta.gbn.unique()"
   ]
  },
  {
   "cell_type": "code",
   "execution_count": null,
   "metadata": {},
   "outputs": [],
   "source": [
    "# 0/1\n",
    "wf = meta[meta.gbn=='wf'].index\n",
    "train[wf].describe()\n",
    "train[wf].head(3)"
   ]
  },
  {
   "cell_type": "code",
   "execution_count": null,
   "metadata": {},
   "outputs": [],
   "source": [
    "# 0/1\n",
    "wr = meta[meta.gbn=='wr'].index\n",
    "train[wr].describe()\n",
    "train[wr].head(3)"
   ]
  },
  {
   "cell_type": "code",
   "execution_count": null,
   "metadata": {},
   "outputs": [],
   "source": []
  },
  {
   "cell_type": "code",
   "execution_count": null,
   "metadata": {},
   "outputs": [],
   "source": [
    "corr = train.corr()\n",
    "corr['voted'].abs().sort_values(ascending=False)[:20]\n",
    "corr['voted'].abs().sort_values(ascending=False)[60:]"
   ]
  },
  {
   "cell_type": "code",
   "execution_count": null,
   "metadata": {},
   "outputs": [],
   "source": []
  },
  {
   "cell_type": "markdown",
   "metadata": {},
   "source": [
    "### CAT EDA"
   ]
  },
  {
   "cell_type": "code",
   "execution_count": null,
   "metadata": {},
   "outputs": [],
   "source": [
    "meta[meta.gbn == 'cat']"
   ]
  },
  {
   "cell_type": "code",
   "execution_count": null,
   "metadata": {},
   "outputs": [],
   "source": [
    "train['voted0'] = train['voted']\n",
    "train.loc[train.voted0 == 2, 'voted0'] = 0\n",
    "train.voted0.value_counts()"
   ]
  },
  {
   "cell_type": "markdown",
   "metadata": {},
   "source": [
    "#### age_group"
   ]
  },
  {
   "cell_type": "code",
   "execution_count": 17,
   "metadata": {},
   "outputs": [],
   "source": [
    "def cat_summary(col):\n",
    "    print('colname: ', col)\n",
    "    print(train[col].value_counts())\n",
    "    return pd.crosstab(train[col], train['voted0'], margins=True).style.background_gradient(cmap='summer_r')"
   ]
  },
  {
   "cell_type": "code",
   "execution_count": 18,
   "metadata": {},
   "outputs": [],
   "source": [
    "def cat_plot(col):\n",
    "    print('colname: ', col)\n",
    "    return train[[col, 'voted0']].groupby([col], as_index=True).mean().sort_values(by='voted0', ascending=False).plot.bar()"
   ]
  },
  {
   "cell_type": "code",
   "execution_count": null,
   "metadata": {
    "scrolled": false
   },
   "outputs": [],
   "source": [
    "for f in meta[meta.gbn == 'cat'].index:\n",
    "    cat_summary(f)"
   ]
  },
  {
   "cell_type": "code",
   "execution_count": null,
   "metadata": {},
   "outputs": [],
   "source": [
    "for f in meta[meta.gbn == 'cat'].index:\n",
    "    cat_plot(f)"
   ]
  },
  {
   "cell_type": "code",
   "execution_count": null,
   "metadata": {},
   "outputs": [],
   "source": []
  },
  {
   "cell_type": "markdown",
   "metadata": {},
   "source": [
    "## Target Encoding"
   ]
  },
  {
   "cell_type": "markdown",
   "metadata": {},
   "source": [
    "### age_group"
   ]
  },
  {
   "cell_type": "code",
   "execution_count": 20,
   "metadata": {},
   "outputs": [],
   "source": [
    "train['age_group_int'] = train['age_group'].str.replace('s','').astype('int')\n",
    "test['age_group_int'] = test['age_group'].str.replace('s','').astype('int')"
   ]
  },
  {
   "cell_type": "code",
   "execution_count": 21,
   "metadata": {},
   "outputs": [],
   "source": [
    "train['age_group_n_rows'] = train['age_group_int'].map(train.groupby('age_group_int').size())\n",
    "test['age_group_n_rows'] = test['age_group_int'].map(test.groupby('age_group_int').size())"
   ]
  },
  {
   "cell_type": "code",
   "execution_count": 22,
   "metadata": {},
   "outputs": [],
   "source": [
    "age_group_mean = train.groupby('age_group_int')['voted'].mean()\n",
    "train['age_group_mean'] = train['age_group_int'].map(age_group_mean)\n",
    "test['age_group_mean'] = test['age_group_int'].map(age_group_mean)"
   ]
  },
  {
   "cell_type": "code",
   "execution_count": 23,
   "metadata": {},
   "outputs": [],
   "source": [
    "# train['voted'].mean() = 1.5468242115435298\n",
    "def smoothing(n_rows, target_mean): \n",
    "    return (target_mean*n_rows + 1.5468242115435298*0.8) / (n_rows + 0.8)"
   ]
  },
  {
   "cell_type": "code",
   "execution_count": 24,
   "metadata": {},
   "outputs": [],
   "source": [
    "train['age_group_mean_smoothing'] = train.apply(lambda x:smoothing(x['age_group_n_rows'], x['age_group_mean']), axis=1)\n",
    "test['age_group_mean_smoothing'] = test.apply(lambda x:smoothing(x['age_group_n_rows'], x['age_group_mean']), axis=1)"
   ]
  },
  {
   "cell_type": "code",
   "execution_count": 25,
   "metadata": {},
   "outputs": [],
   "source": [
    "train.drop(['age_group_int','age_group_mean', 'age_group_n_rows'], axis=1, inplace=True)\n",
    "test.drop(['age_group_int','age_group_mean', 'age_group_n_rows'], axis=1, inplace=True)"
   ]
  },
  {
   "cell_type": "code",
   "execution_count": null,
   "metadata": {},
   "outputs": [],
   "source": []
  },
  {
   "cell_type": "markdown",
   "metadata": {},
   "source": [
    "## Outlier"
   ]
  },
  {
   "cell_type": "code",
   "execution_count": null,
   "metadata": {},
   "outputs": [],
   "source": [
    "test.familysize.max(), test.familysize.mean(), train[train.familysize < 30]['familysize'].mean()"
   ]
  },
  {
   "cell_type": "code",
   "execution_count": null,
   "metadata": {},
   "outputs": [],
   "source": [
    "train[train.familysize > 20][['voted', 'familysize']]"
   ]
  },
  {
   "cell_type": "code",
   "execution_count": 26,
   "metadata": {},
   "outputs": [],
   "source": [
    "train.loc[train[train.familysize > 25].index, 'familysize'] = 2.6"
   ]
  },
  {
   "cell_type": "code",
   "execution_count": null,
   "metadata": {},
   "outputs": [],
   "source": [
    "train['familysize'].value_counts()"
   ]
  },
  {
   "cell_type": "markdown",
   "metadata": {},
   "source": [
    "## 인코딩"
   ]
  },
  {
   "cell_type": "code",
   "execution_count": null,
   "metadata": {},
   "outputs": [],
   "source": []
  },
  {
   "cell_type": "code",
   "execution_count": null,
   "metadata": {},
   "outputs": [],
   "source": [
    "#age_group, gender, race, religion\n",
    "#train['age_group'] = train['age_group'].str.replace('s','').astype('int')\n",
    "train['gender']= pd.factorize(train['gender'])[0]\n",
    "train['race']=pd.factorize(train['race'])[0]\n",
    "train['religion']=pd.factorize(train['religion'])[0]\n",
    "\n",
    "#test['age_group'] = test['age_group'].str.replace('s','').astype('int')\n",
    "test['gender']=pd.factorize(test['gender'])[0]\n",
    "test['race']=pd.factorize(test['race'])[0]\n",
    "test['religion']=pd.factorize(test['religion'])[0]"
   ]
  },
  {
   "cell_type": "markdown",
   "metadata": {},
   "source": [
    "### One-hot"
   ]
  },
  {
   "cell_type": "code",
   "execution_count": null,
   "metadata": {
    "scrolled": false
   },
   "outputs": [],
   "source": [
    "train = pd.get_dummies(train, columns=['age_group', 'education', 'engnat', 'gender', 'hand',\n",
    "       'married', 'race', 'religion', 'tp01', 'tp02', 'tp03', 'tp04', 'tp05',\n",
    "       'tp06', 'tp07', 'tp08', 'tp09', 'tp10', 'urban', 'wf_01',\n",
    "       'wf_02', 'wf_03', 'wr_01', 'wr_02', 'wr_03', 'wr_04', 'wr_05', 'wr_06',\n",
    "       'wr_07', 'wr_08', 'wr_09', 'wr_10', 'wr_11', 'wr_12', 'wr_13'])\n",
    "train"
   ]
  },
  {
   "cell_type": "code",
   "execution_count": null,
   "metadata": {},
   "outputs": [],
   "source": [
    "test = pd.get_dummies(test, columns=['age_group', 'education', 'engnat', 'gender', 'hand',\n",
    "       'married', 'race', 'religion', 'tp01', 'tp02', 'tp03', 'tp04', 'tp05',\n",
    "       'tp06', 'tp07', 'tp08', 'tp09', 'tp10', 'urban', 'wf_01',\n",
    "       'wf_02', 'wf_03', 'wr_01', 'wr_02', 'wr_03', 'wr_04', 'wr_05', 'wr_06',\n",
    "       'wr_07', 'wr_08', 'wr_09', 'wr_10', 'wr_11', 'wr_12', 'wr_13'])\n",
    "test"
   ]
  },
  {
   "cell_type": "code",
   "execution_count": null,
   "metadata": {},
   "outputs": [],
   "source": [
    "train.shape, test.shape\n",
    "train.columns.values\n",
    "test.columns.values"
   ]
  },
  {
   "cell_type": "code",
   "execution_count": null,
   "metadata": {},
   "outputs": [],
   "source": []
  },
  {
   "cell_type": "markdown",
   "metadata": {},
   "source": [
    "# 3. 모델 학습"
   ]
  },
  {
   "cell_type": "code",
   "execution_count": 27,
   "metadata": {},
   "outputs": [],
   "source": [
    "from pycaret.classification import *"
   ]
  },
  {
   "cell_type": "code",
   "execution_count": 28,
   "metadata": {},
   "outputs": [
    {
     "data": {
      "text/plain": [
       "32"
      ]
     },
     "execution_count": 28,
     "metadata": {},
     "output_type": "execute_result"
    }
   ],
   "source": [
    "import gc\n",
    "gc.collect()"
   ]
  },
  {
   "cell_type": "code",
   "execution_count": 29,
   "metadata": {},
   "outputs": [
    {
     "data": {
      "text/plain": [
       "['QaA',\n",
       " 'QbA',\n",
       " 'QcA',\n",
       " 'QdA',\n",
       " 'QeA',\n",
       " 'QfA',\n",
       " 'QgA',\n",
       " 'QhA',\n",
       " 'QiA',\n",
       " 'QjA',\n",
       " 'QkA',\n",
       " 'QlA',\n",
       " 'QmA',\n",
       " 'QnA',\n",
       " 'QoA',\n",
       " 'QpA',\n",
       " 'QqA',\n",
       " 'QrA',\n",
       " 'QsA',\n",
       " 'QtA',\n",
       " 'age_group',\n",
       " 'education',\n",
       " 'engnat',\n",
       " 'familysize',\n",
       " 'gender',\n",
       " 'hand',\n",
       " 'married',\n",
       " 'race',\n",
       " 'religion',\n",
       " 'urban']"
      ]
     },
     "execution_count": 29,
     "metadata": {},
     "output_type": "execute_result"
    }
   ],
   "source": [
    "col_cat = meta[(meta.gbn == 'Q_A') | (meta.gbn == 'cat')].index.values.tolist()\n",
    "col_cat"
   ]
  },
  {
   "cell_type": "code",
   "execution_count": null,
   "metadata": {},
   "outputs": [],
   "source": []
  },
  {
   "cell_type": "code",
   "execution_count": null,
   "metadata": {},
   "outputs": [],
   "source": []
  },
  {
   "cell_type": "code",
   "execution_count": 30,
   "metadata": {},
   "outputs": [
    {
     "data": {
      "text/plain": [
       "['Q1', 'Q3', 'Q5', 'tp17', 'tp4', 'QA15tp17', 'QA3tp4']"
      ]
     },
     "execution_count": 30,
     "metadata": {},
     "output_type": "execute_result"
    }
   ],
   "source": [
    "col_numeric = ['Q1','Q3','Q5', 'tp17','tp4', 'QA15tp17', 'QA3tp4']\n",
    "col_numeric"
   ]
  },
  {
   "cell_type": "code",
   "execution_count": null,
   "metadata": {},
   "outputs": [],
   "source": [
    "#col_ignore = meta[(meta.gbn == 'wf') | (meta.gbn == 'wr')].index.values.tolist()\n",
    "#col_ignore = meta[(meta.gbn == 'Q_E')].index.values.tolist()\n",
    "col_ignore = []"
   ]
  },
  {
   "cell_type": "code",
   "execution_count": 32,
   "metadata": {
    "scrolled": false
   },
   "outputs": [
    {
     "name": "stdout",
     "output_type": "stream",
     "text": [
      "Setup Succesfully Completed!\n"
     ]
    },
    {
     "data": {
      "text/html": [
       "<style  type=\"text/css\" >\n",
       "#T_03f590f4_0392_11eb_8bd8_00e0201808a0row32_col1,#T_03f590f4_0392_11eb_8bd8_00e0201808a0row37_col1{\n",
       "            background-color:  lightgreen;\n",
       "        }</style><table id=\"T_03f590f4_0392_11eb_8bd8_00e0201808a0\" ><thead>    <tr>        <th class=\"blank level0\" ></th>        <th class=\"col_heading level0 col0\" >Description</th>        <th class=\"col_heading level0 col1\" >Value</th>    </tr></thead><tbody>\n",
       "                <tr>\n",
       "                        <th id=\"T_03f590f4_0392_11eb_8bd8_00e0201808a0level0_row0\" class=\"row_heading level0 row0\" >0</th>\n",
       "                        <td id=\"T_03f590f4_0392_11eb_8bd8_00e0201808a0row0_col0\" class=\"data row0 col0\" >session_id</td>\n",
       "                        <td id=\"T_03f590f4_0392_11eb_8bd8_00e0201808a0row0_col1\" class=\"data row0 col1\" >42</td>\n",
       "            </tr>\n",
       "            <tr>\n",
       "                        <th id=\"T_03f590f4_0392_11eb_8bd8_00e0201808a0level0_row1\" class=\"row_heading level0 row1\" >1</th>\n",
       "                        <td id=\"T_03f590f4_0392_11eb_8bd8_00e0201808a0row1_col0\" class=\"data row1 col0\" >Target Type</td>\n",
       "                        <td id=\"T_03f590f4_0392_11eb_8bd8_00e0201808a0row1_col1\" class=\"data row1 col1\" >Binary</td>\n",
       "            </tr>\n",
       "            <tr>\n",
       "                        <th id=\"T_03f590f4_0392_11eb_8bd8_00e0201808a0level0_row2\" class=\"row_heading level0 row2\" >2</th>\n",
       "                        <td id=\"T_03f590f4_0392_11eb_8bd8_00e0201808a0row2_col0\" class=\"data row2 col0\" >Label Encoded</td>\n",
       "                        <td id=\"T_03f590f4_0392_11eb_8bd8_00e0201808a0row2_col1\" class=\"data row2 col1\" >1: 0, 2: 1</td>\n",
       "            </tr>\n",
       "            <tr>\n",
       "                        <th id=\"T_03f590f4_0392_11eb_8bd8_00e0201808a0level0_row3\" class=\"row_heading level0 row3\" >3</th>\n",
       "                        <td id=\"T_03f590f4_0392_11eb_8bd8_00e0201808a0row3_col0\" class=\"data row3 col0\" >Original Data</td>\n",
       "                        <td id=\"T_03f590f4_0392_11eb_8bd8_00e0201808a0row3_col1\" class=\"data row3 col1\" >(45532, 85)</td>\n",
       "            </tr>\n",
       "            <tr>\n",
       "                        <th id=\"T_03f590f4_0392_11eb_8bd8_00e0201808a0level0_row4\" class=\"row_heading level0 row4\" >4</th>\n",
       "                        <td id=\"T_03f590f4_0392_11eb_8bd8_00e0201808a0row4_col0\" class=\"data row4 col0\" >Missing Values </td>\n",
       "                        <td id=\"T_03f590f4_0392_11eb_8bd8_00e0201808a0row4_col1\" class=\"data row4 col1\" >False</td>\n",
       "            </tr>\n",
       "            <tr>\n",
       "                        <th id=\"T_03f590f4_0392_11eb_8bd8_00e0201808a0level0_row5\" class=\"row_heading level0 row5\" >5</th>\n",
       "                        <td id=\"T_03f590f4_0392_11eb_8bd8_00e0201808a0row5_col0\" class=\"data row5 col0\" >Numeric Features </td>\n",
       "                        <td id=\"T_03f590f4_0392_11eb_8bd8_00e0201808a0row5_col1\" class=\"data row5 col1\" >28</td>\n",
       "            </tr>\n",
       "            <tr>\n",
       "                        <th id=\"T_03f590f4_0392_11eb_8bd8_00e0201808a0level0_row6\" class=\"row_heading level0 row6\" >6</th>\n",
       "                        <td id=\"T_03f590f4_0392_11eb_8bd8_00e0201808a0row6_col0\" class=\"data row6 col0\" >Categorical Features </td>\n",
       "                        <td id=\"T_03f590f4_0392_11eb_8bd8_00e0201808a0row6_col1\" class=\"data row6 col1\" >56</td>\n",
       "            </tr>\n",
       "            <tr>\n",
       "                        <th id=\"T_03f590f4_0392_11eb_8bd8_00e0201808a0level0_row7\" class=\"row_heading level0 row7\" >7</th>\n",
       "                        <td id=\"T_03f590f4_0392_11eb_8bd8_00e0201808a0row7_col0\" class=\"data row7 col0\" >Ordinal Features </td>\n",
       "                        <td id=\"T_03f590f4_0392_11eb_8bd8_00e0201808a0row7_col1\" class=\"data row7 col1\" >False</td>\n",
       "            </tr>\n",
       "            <tr>\n",
       "                        <th id=\"T_03f590f4_0392_11eb_8bd8_00e0201808a0level0_row8\" class=\"row_heading level0 row8\" >8</th>\n",
       "                        <td id=\"T_03f590f4_0392_11eb_8bd8_00e0201808a0row8_col0\" class=\"data row8 col0\" >High Cardinality Features </td>\n",
       "                        <td id=\"T_03f590f4_0392_11eb_8bd8_00e0201808a0row8_col1\" class=\"data row8 col1\" >False</td>\n",
       "            </tr>\n",
       "            <tr>\n",
       "                        <th id=\"T_03f590f4_0392_11eb_8bd8_00e0201808a0level0_row9\" class=\"row_heading level0 row9\" >9</th>\n",
       "                        <td id=\"T_03f590f4_0392_11eb_8bd8_00e0201808a0row9_col0\" class=\"data row9 col0\" >High Cardinality Method </td>\n",
       "                        <td id=\"T_03f590f4_0392_11eb_8bd8_00e0201808a0row9_col1\" class=\"data row9 col1\" >None</td>\n",
       "            </tr>\n",
       "            <tr>\n",
       "                        <th id=\"T_03f590f4_0392_11eb_8bd8_00e0201808a0level0_row10\" class=\"row_heading level0 row10\" >10</th>\n",
       "                        <td id=\"T_03f590f4_0392_11eb_8bd8_00e0201808a0row10_col0\" class=\"data row10 col0\" >Sampled Data</td>\n",
       "                        <td id=\"T_03f590f4_0392_11eb_8bd8_00e0201808a0row10_col1\" class=\"data row10 col1\" >(36425, 85)</td>\n",
       "            </tr>\n",
       "            <tr>\n",
       "                        <th id=\"T_03f590f4_0392_11eb_8bd8_00e0201808a0level0_row11\" class=\"row_heading level0 row11\" >11</th>\n",
       "                        <td id=\"T_03f590f4_0392_11eb_8bd8_00e0201808a0row11_col0\" class=\"data row11 col0\" >Transformed Train Set</td>\n",
       "                        <td id=\"T_03f590f4_0392_11eb_8bd8_00e0201808a0row11_col1\" class=\"data row11 col1\" >(25497, 317)</td>\n",
       "            </tr>\n",
       "            <tr>\n",
       "                        <th id=\"T_03f590f4_0392_11eb_8bd8_00e0201808a0level0_row12\" class=\"row_heading level0 row12\" >12</th>\n",
       "                        <td id=\"T_03f590f4_0392_11eb_8bd8_00e0201808a0row12_col0\" class=\"data row12 col0\" >Transformed Test Set</td>\n",
       "                        <td id=\"T_03f590f4_0392_11eb_8bd8_00e0201808a0row12_col1\" class=\"data row12 col1\" >(10928, 317)</td>\n",
       "            </tr>\n",
       "            <tr>\n",
       "                        <th id=\"T_03f590f4_0392_11eb_8bd8_00e0201808a0level0_row13\" class=\"row_heading level0 row13\" >13</th>\n",
       "                        <td id=\"T_03f590f4_0392_11eb_8bd8_00e0201808a0row13_col0\" class=\"data row13 col0\" >Numeric Imputer </td>\n",
       "                        <td id=\"T_03f590f4_0392_11eb_8bd8_00e0201808a0row13_col1\" class=\"data row13 col1\" >mean</td>\n",
       "            </tr>\n",
       "            <tr>\n",
       "                        <th id=\"T_03f590f4_0392_11eb_8bd8_00e0201808a0level0_row14\" class=\"row_heading level0 row14\" >14</th>\n",
       "                        <td id=\"T_03f590f4_0392_11eb_8bd8_00e0201808a0row14_col0\" class=\"data row14 col0\" >Categorical Imputer </td>\n",
       "                        <td id=\"T_03f590f4_0392_11eb_8bd8_00e0201808a0row14_col1\" class=\"data row14 col1\" >constant</td>\n",
       "            </tr>\n",
       "            <tr>\n",
       "                        <th id=\"T_03f590f4_0392_11eb_8bd8_00e0201808a0level0_row15\" class=\"row_heading level0 row15\" >15</th>\n",
       "                        <td id=\"T_03f590f4_0392_11eb_8bd8_00e0201808a0row15_col0\" class=\"data row15 col0\" >Normalize </td>\n",
       "                        <td id=\"T_03f590f4_0392_11eb_8bd8_00e0201808a0row15_col1\" class=\"data row15 col1\" >False</td>\n",
       "            </tr>\n",
       "            <tr>\n",
       "                        <th id=\"T_03f590f4_0392_11eb_8bd8_00e0201808a0level0_row16\" class=\"row_heading level0 row16\" >16</th>\n",
       "                        <td id=\"T_03f590f4_0392_11eb_8bd8_00e0201808a0row16_col0\" class=\"data row16 col0\" >Normalize Method </td>\n",
       "                        <td id=\"T_03f590f4_0392_11eb_8bd8_00e0201808a0row16_col1\" class=\"data row16 col1\" >None</td>\n",
       "            </tr>\n",
       "            <tr>\n",
       "                        <th id=\"T_03f590f4_0392_11eb_8bd8_00e0201808a0level0_row17\" class=\"row_heading level0 row17\" >17</th>\n",
       "                        <td id=\"T_03f590f4_0392_11eb_8bd8_00e0201808a0row17_col0\" class=\"data row17 col0\" >Transformation </td>\n",
       "                        <td id=\"T_03f590f4_0392_11eb_8bd8_00e0201808a0row17_col1\" class=\"data row17 col1\" >False</td>\n",
       "            </tr>\n",
       "            <tr>\n",
       "                        <th id=\"T_03f590f4_0392_11eb_8bd8_00e0201808a0level0_row18\" class=\"row_heading level0 row18\" >18</th>\n",
       "                        <td id=\"T_03f590f4_0392_11eb_8bd8_00e0201808a0row18_col0\" class=\"data row18 col0\" >Transformation Method </td>\n",
       "                        <td id=\"T_03f590f4_0392_11eb_8bd8_00e0201808a0row18_col1\" class=\"data row18 col1\" >None</td>\n",
       "            </tr>\n",
       "            <tr>\n",
       "                        <th id=\"T_03f590f4_0392_11eb_8bd8_00e0201808a0level0_row19\" class=\"row_heading level0 row19\" >19</th>\n",
       "                        <td id=\"T_03f590f4_0392_11eb_8bd8_00e0201808a0row19_col0\" class=\"data row19 col0\" >PCA </td>\n",
       "                        <td id=\"T_03f590f4_0392_11eb_8bd8_00e0201808a0row19_col1\" class=\"data row19 col1\" >False</td>\n",
       "            </tr>\n",
       "            <tr>\n",
       "                        <th id=\"T_03f590f4_0392_11eb_8bd8_00e0201808a0level0_row20\" class=\"row_heading level0 row20\" >20</th>\n",
       "                        <td id=\"T_03f590f4_0392_11eb_8bd8_00e0201808a0row20_col0\" class=\"data row20 col0\" >PCA Method </td>\n",
       "                        <td id=\"T_03f590f4_0392_11eb_8bd8_00e0201808a0row20_col1\" class=\"data row20 col1\" >None</td>\n",
       "            </tr>\n",
       "            <tr>\n",
       "                        <th id=\"T_03f590f4_0392_11eb_8bd8_00e0201808a0level0_row21\" class=\"row_heading level0 row21\" >21</th>\n",
       "                        <td id=\"T_03f590f4_0392_11eb_8bd8_00e0201808a0row21_col0\" class=\"data row21 col0\" >PCA Components </td>\n",
       "                        <td id=\"T_03f590f4_0392_11eb_8bd8_00e0201808a0row21_col1\" class=\"data row21 col1\" >None</td>\n",
       "            </tr>\n",
       "            <tr>\n",
       "                        <th id=\"T_03f590f4_0392_11eb_8bd8_00e0201808a0level0_row22\" class=\"row_heading level0 row22\" >22</th>\n",
       "                        <td id=\"T_03f590f4_0392_11eb_8bd8_00e0201808a0row22_col0\" class=\"data row22 col0\" >Ignore Low Variance </td>\n",
       "                        <td id=\"T_03f590f4_0392_11eb_8bd8_00e0201808a0row22_col1\" class=\"data row22 col1\" >False</td>\n",
       "            </tr>\n",
       "            <tr>\n",
       "                        <th id=\"T_03f590f4_0392_11eb_8bd8_00e0201808a0level0_row23\" class=\"row_heading level0 row23\" >23</th>\n",
       "                        <td id=\"T_03f590f4_0392_11eb_8bd8_00e0201808a0row23_col0\" class=\"data row23 col0\" >Combine Rare Levels </td>\n",
       "                        <td id=\"T_03f590f4_0392_11eb_8bd8_00e0201808a0row23_col1\" class=\"data row23 col1\" >False</td>\n",
       "            </tr>\n",
       "            <tr>\n",
       "                        <th id=\"T_03f590f4_0392_11eb_8bd8_00e0201808a0level0_row24\" class=\"row_heading level0 row24\" >24</th>\n",
       "                        <td id=\"T_03f590f4_0392_11eb_8bd8_00e0201808a0row24_col0\" class=\"data row24 col0\" >Rare Level Threshold </td>\n",
       "                        <td id=\"T_03f590f4_0392_11eb_8bd8_00e0201808a0row24_col1\" class=\"data row24 col1\" >None</td>\n",
       "            </tr>\n",
       "            <tr>\n",
       "                        <th id=\"T_03f590f4_0392_11eb_8bd8_00e0201808a0level0_row25\" class=\"row_heading level0 row25\" >25</th>\n",
       "                        <td id=\"T_03f590f4_0392_11eb_8bd8_00e0201808a0row25_col0\" class=\"data row25 col0\" >Numeric Binning </td>\n",
       "                        <td id=\"T_03f590f4_0392_11eb_8bd8_00e0201808a0row25_col1\" class=\"data row25 col1\" >False</td>\n",
       "            </tr>\n",
       "            <tr>\n",
       "                        <th id=\"T_03f590f4_0392_11eb_8bd8_00e0201808a0level0_row26\" class=\"row_heading level0 row26\" >26</th>\n",
       "                        <td id=\"T_03f590f4_0392_11eb_8bd8_00e0201808a0row26_col0\" class=\"data row26 col0\" >Remove Outliers </td>\n",
       "                        <td id=\"T_03f590f4_0392_11eb_8bd8_00e0201808a0row26_col1\" class=\"data row26 col1\" >False</td>\n",
       "            </tr>\n",
       "            <tr>\n",
       "                        <th id=\"T_03f590f4_0392_11eb_8bd8_00e0201808a0level0_row27\" class=\"row_heading level0 row27\" >27</th>\n",
       "                        <td id=\"T_03f590f4_0392_11eb_8bd8_00e0201808a0row27_col0\" class=\"data row27 col0\" >Outliers Threshold </td>\n",
       "                        <td id=\"T_03f590f4_0392_11eb_8bd8_00e0201808a0row27_col1\" class=\"data row27 col1\" >None</td>\n",
       "            </tr>\n",
       "            <tr>\n",
       "                        <th id=\"T_03f590f4_0392_11eb_8bd8_00e0201808a0level0_row28\" class=\"row_heading level0 row28\" >28</th>\n",
       "                        <td id=\"T_03f590f4_0392_11eb_8bd8_00e0201808a0row28_col0\" class=\"data row28 col0\" >Remove Multicollinearity </td>\n",
       "                        <td id=\"T_03f590f4_0392_11eb_8bd8_00e0201808a0row28_col1\" class=\"data row28 col1\" >False</td>\n",
       "            </tr>\n",
       "            <tr>\n",
       "                        <th id=\"T_03f590f4_0392_11eb_8bd8_00e0201808a0level0_row29\" class=\"row_heading level0 row29\" >29</th>\n",
       "                        <td id=\"T_03f590f4_0392_11eb_8bd8_00e0201808a0row29_col0\" class=\"data row29 col0\" >Multicollinearity Threshold </td>\n",
       "                        <td id=\"T_03f590f4_0392_11eb_8bd8_00e0201808a0row29_col1\" class=\"data row29 col1\" >None</td>\n",
       "            </tr>\n",
       "            <tr>\n",
       "                        <th id=\"T_03f590f4_0392_11eb_8bd8_00e0201808a0level0_row30\" class=\"row_heading level0 row30\" >30</th>\n",
       "                        <td id=\"T_03f590f4_0392_11eb_8bd8_00e0201808a0row30_col0\" class=\"data row30 col0\" >Clustering </td>\n",
       "                        <td id=\"T_03f590f4_0392_11eb_8bd8_00e0201808a0row30_col1\" class=\"data row30 col1\" >False</td>\n",
       "            </tr>\n",
       "            <tr>\n",
       "                        <th id=\"T_03f590f4_0392_11eb_8bd8_00e0201808a0level0_row31\" class=\"row_heading level0 row31\" >31</th>\n",
       "                        <td id=\"T_03f590f4_0392_11eb_8bd8_00e0201808a0row31_col0\" class=\"data row31 col0\" >Clustering Iteration </td>\n",
       "                        <td id=\"T_03f590f4_0392_11eb_8bd8_00e0201808a0row31_col1\" class=\"data row31 col1\" >None</td>\n",
       "            </tr>\n",
       "            <tr>\n",
       "                        <th id=\"T_03f590f4_0392_11eb_8bd8_00e0201808a0level0_row32\" class=\"row_heading level0 row32\" >32</th>\n",
       "                        <td id=\"T_03f590f4_0392_11eb_8bd8_00e0201808a0row32_col0\" class=\"data row32 col0\" >Polynomial Features </td>\n",
       "                        <td id=\"T_03f590f4_0392_11eb_8bd8_00e0201808a0row32_col1\" class=\"data row32 col1\" >True</td>\n",
       "            </tr>\n",
       "            <tr>\n",
       "                        <th id=\"T_03f590f4_0392_11eb_8bd8_00e0201808a0level0_row33\" class=\"row_heading level0 row33\" >33</th>\n",
       "                        <td id=\"T_03f590f4_0392_11eb_8bd8_00e0201808a0row33_col0\" class=\"data row33 col0\" >Polynomial Degree </td>\n",
       "                        <td id=\"T_03f590f4_0392_11eb_8bd8_00e0201808a0row33_col1\" class=\"data row33 col1\" >2</td>\n",
       "            </tr>\n",
       "            <tr>\n",
       "                        <th id=\"T_03f590f4_0392_11eb_8bd8_00e0201808a0level0_row34\" class=\"row_heading level0 row34\" >34</th>\n",
       "                        <td id=\"T_03f590f4_0392_11eb_8bd8_00e0201808a0row34_col0\" class=\"data row34 col0\" >Trignometry Features </td>\n",
       "                        <td id=\"T_03f590f4_0392_11eb_8bd8_00e0201808a0row34_col1\" class=\"data row34 col1\" >False</td>\n",
       "            </tr>\n",
       "            <tr>\n",
       "                        <th id=\"T_03f590f4_0392_11eb_8bd8_00e0201808a0level0_row35\" class=\"row_heading level0 row35\" >35</th>\n",
       "                        <td id=\"T_03f590f4_0392_11eb_8bd8_00e0201808a0row35_col0\" class=\"data row35 col0\" >Polynomial Threshold </td>\n",
       "                        <td id=\"T_03f590f4_0392_11eb_8bd8_00e0201808a0row35_col1\" class=\"data row35 col1\" >0.100000</td>\n",
       "            </tr>\n",
       "            <tr>\n",
       "                        <th id=\"T_03f590f4_0392_11eb_8bd8_00e0201808a0level0_row36\" class=\"row_heading level0 row36\" >36</th>\n",
       "                        <td id=\"T_03f590f4_0392_11eb_8bd8_00e0201808a0row36_col0\" class=\"data row36 col0\" >Group Features </td>\n",
       "                        <td id=\"T_03f590f4_0392_11eb_8bd8_00e0201808a0row36_col1\" class=\"data row36 col1\" >False</td>\n",
       "            </tr>\n",
       "            <tr>\n",
       "                        <th id=\"T_03f590f4_0392_11eb_8bd8_00e0201808a0level0_row37\" class=\"row_heading level0 row37\" >37</th>\n",
       "                        <td id=\"T_03f590f4_0392_11eb_8bd8_00e0201808a0row37_col0\" class=\"data row37 col0\" >Feature Selection </td>\n",
       "                        <td id=\"T_03f590f4_0392_11eb_8bd8_00e0201808a0row37_col1\" class=\"data row37 col1\" >True</td>\n",
       "            </tr>\n",
       "            <tr>\n",
       "                        <th id=\"T_03f590f4_0392_11eb_8bd8_00e0201808a0level0_row38\" class=\"row_heading level0 row38\" >38</th>\n",
       "                        <td id=\"T_03f590f4_0392_11eb_8bd8_00e0201808a0row38_col0\" class=\"data row38 col0\" >Features Selection Threshold </td>\n",
       "                        <td id=\"T_03f590f4_0392_11eb_8bd8_00e0201808a0row38_col1\" class=\"data row38 col1\" >0.800000</td>\n",
       "            </tr>\n",
       "            <tr>\n",
       "                        <th id=\"T_03f590f4_0392_11eb_8bd8_00e0201808a0level0_row39\" class=\"row_heading level0 row39\" >39</th>\n",
       "                        <td id=\"T_03f590f4_0392_11eb_8bd8_00e0201808a0row39_col0\" class=\"data row39 col0\" >Feature Interaction </td>\n",
       "                        <td id=\"T_03f590f4_0392_11eb_8bd8_00e0201808a0row39_col1\" class=\"data row39 col1\" >False</td>\n",
       "            </tr>\n",
       "            <tr>\n",
       "                        <th id=\"T_03f590f4_0392_11eb_8bd8_00e0201808a0level0_row40\" class=\"row_heading level0 row40\" >40</th>\n",
       "                        <td id=\"T_03f590f4_0392_11eb_8bd8_00e0201808a0row40_col0\" class=\"data row40 col0\" >Feature Ratio </td>\n",
       "                        <td id=\"T_03f590f4_0392_11eb_8bd8_00e0201808a0row40_col1\" class=\"data row40 col1\" >False</td>\n",
       "            </tr>\n",
       "            <tr>\n",
       "                        <th id=\"T_03f590f4_0392_11eb_8bd8_00e0201808a0level0_row41\" class=\"row_heading level0 row41\" >41</th>\n",
       "                        <td id=\"T_03f590f4_0392_11eb_8bd8_00e0201808a0row41_col0\" class=\"data row41 col0\" >Interaction Threshold </td>\n",
       "                        <td id=\"T_03f590f4_0392_11eb_8bd8_00e0201808a0row41_col1\" class=\"data row41 col1\" >None</td>\n",
       "            </tr>\n",
       "            <tr>\n",
       "                        <th id=\"T_03f590f4_0392_11eb_8bd8_00e0201808a0level0_row42\" class=\"row_heading level0 row42\" >42</th>\n",
       "                        <td id=\"T_03f590f4_0392_11eb_8bd8_00e0201808a0row42_col0\" class=\"data row42 col0\" >Fix Imbalance</td>\n",
       "                        <td id=\"T_03f590f4_0392_11eb_8bd8_00e0201808a0row42_col1\" class=\"data row42 col1\" >False</td>\n",
       "            </tr>\n",
       "            <tr>\n",
       "                        <th id=\"T_03f590f4_0392_11eb_8bd8_00e0201808a0level0_row43\" class=\"row_heading level0 row43\" >43</th>\n",
       "                        <td id=\"T_03f590f4_0392_11eb_8bd8_00e0201808a0row43_col0\" class=\"data row43 col0\" >Fix Imbalance Method</td>\n",
       "                        <td id=\"T_03f590f4_0392_11eb_8bd8_00e0201808a0row43_col1\" class=\"data row43 col1\" >SMOTE</td>\n",
       "            </tr>\n",
       "    </tbody></table>"
      ],
      "text/plain": [
       "<pandas.io.formats.style.Styler at 0x1f76eb09d08>"
      ]
     },
     "metadata": {},
     "output_type": "display_data"
    },
    {
     "name": "stdout",
     "output_type": "stream",
     "text": [
      "Wall time: 47.9 s\n"
     ]
    }
   ],
   "source": [
    "%%time\n",
    "clf = setup(session_id=42, \n",
    "            data = train, target = 'voted', polynomial_features=True\n",
    "          , categorical_features=col_cat\n",
    "            ,numeric_features=col_numeric\n",
    "            #,ignore_features =['voted0']\n",
    "            ,feature_selection=True\n",
    "            ,use_gpu=True\n",
    "           )"
   ]
  },
  {
   "cell_type": "code",
   "execution_count": 33,
   "metadata": {},
   "outputs": [
    {
     "data": {
      "text/html": [
       "<style  type=\"text/css\" >\n",
       "    #T_863bc52e_0395_11eb_8923_00e0201808a0 th {\n",
       "          text-align: left;\n",
       "    }#T_863bc52e_0395_11eb_8923_00e0201808a0row0_col0,#T_863bc52e_0395_11eb_8923_00e0201808a0row0_col3,#T_863bc52e_0395_11eb_8923_00e0201808a0row0_col5,#T_863bc52e_0395_11eb_8923_00e0201808a0row1_col0,#T_863bc52e_0395_11eb_8923_00e0201808a0row1_col1,#T_863bc52e_0395_11eb_8923_00e0201808a0row1_col3,#T_863bc52e_0395_11eb_8923_00e0201808a0row1_col4,#T_863bc52e_0395_11eb_8923_00e0201808a0row1_col6,#T_863bc52e_0395_11eb_8923_00e0201808a0row1_col7,#T_863bc52e_0395_11eb_8923_00e0201808a0row2_col0,#T_863bc52e_0395_11eb_8923_00e0201808a0row2_col1,#T_863bc52e_0395_11eb_8923_00e0201808a0row2_col2,#T_863bc52e_0395_11eb_8923_00e0201808a0row2_col3,#T_863bc52e_0395_11eb_8923_00e0201808a0row2_col4,#T_863bc52e_0395_11eb_8923_00e0201808a0row2_col5,#T_863bc52e_0395_11eb_8923_00e0201808a0row2_col6,#T_863bc52e_0395_11eb_8923_00e0201808a0row2_col7,#T_863bc52e_0395_11eb_8923_00e0201808a0row3_col0,#T_863bc52e_0395_11eb_8923_00e0201808a0row3_col1,#T_863bc52e_0395_11eb_8923_00e0201808a0row3_col2,#T_863bc52e_0395_11eb_8923_00e0201808a0row3_col3,#T_863bc52e_0395_11eb_8923_00e0201808a0row3_col4,#T_863bc52e_0395_11eb_8923_00e0201808a0row3_col5,#T_863bc52e_0395_11eb_8923_00e0201808a0row3_col6,#T_863bc52e_0395_11eb_8923_00e0201808a0row3_col7,#T_863bc52e_0395_11eb_8923_00e0201808a0row4_col0,#T_863bc52e_0395_11eb_8923_00e0201808a0row4_col1,#T_863bc52e_0395_11eb_8923_00e0201808a0row4_col2,#T_863bc52e_0395_11eb_8923_00e0201808a0row4_col3,#T_863bc52e_0395_11eb_8923_00e0201808a0row4_col4,#T_863bc52e_0395_11eb_8923_00e0201808a0row4_col5,#T_863bc52e_0395_11eb_8923_00e0201808a0row4_col6,#T_863bc52e_0395_11eb_8923_00e0201808a0row4_col7,#T_863bc52e_0395_11eb_8923_00e0201808a0row5_col0,#T_863bc52e_0395_11eb_8923_00e0201808a0row5_col1,#T_863bc52e_0395_11eb_8923_00e0201808a0row5_col2,#T_863bc52e_0395_11eb_8923_00e0201808a0row5_col3,#T_863bc52e_0395_11eb_8923_00e0201808a0row5_col4,#T_863bc52e_0395_11eb_8923_00e0201808a0row5_col5,#T_863bc52e_0395_11eb_8923_00e0201808a0row5_col6,#T_863bc52e_0395_11eb_8923_00e0201808a0row5_col7,#T_863bc52e_0395_11eb_8923_00e0201808a0row6_col0,#T_863bc52e_0395_11eb_8923_00e0201808a0row6_col1,#T_863bc52e_0395_11eb_8923_00e0201808a0row6_col2,#T_863bc52e_0395_11eb_8923_00e0201808a0row6_col3,#T_863bc52e_0395_11eb_8923_00e0201808a0row6_col4,#T_863bc52e_0395_11eb_8923_00e0201808a0row6_col5,#T_863bc52e_0395_11eb_8923_00e0201808a0row6_col6,#T_863bc52e_0395_11eb_8923_00e0201808a0row6_col7,#T_863bc52e_0395_11eb_8923_00e0201808a0row7_col0,#T_863bc52e_0395_11eb_8923_00e0201808a0row7_col1,#T_863bc52e_0395_11eb_8923_00e0201808a0row7_col2,#T_863bc52e_0395_11eb_8923_00e0201808a0row7_col3,#T_863bc52e_0395_11eb_8923_00e0201808a0row7_col4,#T_863bc52e_0395_11eb_8923_00e0201808a0row7_col5,#T_863bc52e_0395_11eb_8923_00e0201808a0row7_col6,#T_863bc52e_0395_11eb_8923_00e0201808a0row7_col7,#T_863bc52e_0395_11eb_8923_00e0201808a0row8_col0,#T_863bc52e_0395_11eb_8923_00e0201808a0row8_col1,#T_863bc52e_0395_11eb_8923_00e0201808a0row8_col2,#T_863bc52e_0395_11eb_8923_00e0201808a0row8_col3,#T_863bc52e_0395_11eb_8923_00e0201808a0row8_col4,#T_863bc52e_0395_11eb_8923_00e0201808a0row8_col5,#T_863bc52e_0395_11eb_8923_00e0201808a0row8_col6,#T_863bc52e_0395_11eb_8923_00e0201808a0row8_col7,#T_863bc52e_0395_11eb_8923_00e0201808a0row9_col0,#T_863bc52e_0395_11eb_8923_00e0201808a0row9_col1,#T_863bc52e_0395_11eb_8923_00e0201808a0row9_col2,#T_863bc52e_0395_11eb_8923_00e0201808a0row9_col4,#T_863bc52e_0395_11eb_8923_00e0201808a0row9_col5,#T_863bc52e_0395_11eb_8923_00e0201808a0row9_col6,#T_863bc52e_0395_11eb_8923_00e0201808a0row9_col7,#T_863bc52e_0395_11eb_8923_00e0201808a0row10_col0,#T_863bc52e_0395_11eb_8923_00e0201808a0row10_col1,#T_863bc52e_0395_11eb_8923_00e0201808a0row10_col2,#T_863bc52e_0395_11eb_8923_00e0201808a0row10_col3,#T_863bc52e_0395_11eb_8923_00e0201808a0row10_col4,#T_863bc52e_0395_11eb_8923_00e0201808a0row10_col5,#T_863bc52e_0395_11eb_8923_00e0201808a0row10_col6,#T_863bc52e_0395_11eb_8923_00e0201808a0row10_col7,#T_863bc52e_0395_11eb_8923_00e0201808a0row11_col0,#T_863bc52e_0395_11eb_8923_00e0201808a0row11_col1,#T_863bc52e_0395_11eb_8923_00e0201808a0row11_col2,#T_863bc52e_0395_11eb_8923_00e0201808a0row11_col3,#T_863bc52e_0395_11eb_8923_00e0201808a0row11_col4,#T_863bc52e_0395_11eb_8923_00e0201808a0row11_col5,#T_863bc52e_0395_11eb_8923_00e0201808a0row11_col6,#T_863bc52e_0395_11eb_8923_00e0201808a0row11_col7,#T_863bc52e_0395_11eb_8923_00e0201808a0row12_col0,#T_863bc52e_0395_11eb_8923_00e0201808a0row12_col1,#T_863bc52e_0395_11eb_8923_00e0201808a0row12_col2,#T_863bc52e_0395_11eb_8923_00e0201808a0row12_col3,#T_863bc52e_0395_11eb_8923_00e0201808a0row12_col4,#T_863bc52e_0395_11eb_8923_00e0201808a0row12_col5,#T_863bc52e_0395_11eb_8923_00e0201808a0row12_col6,#T_863bc52e_0395_11eb_8923_00e0201808a0row12_col7,#T_863bc52e_0395_11eb_8923_00e0201808a0row13_col0,#T_863bc52e_0395_11eb_8923_00e0201808a0row13_col1,#T_863bc52e_0395_11eb_8923_00e0201808a0row13_col2,#T_863bc52e_0395_11eb_8923_00e0201808a0row13_col3,#T_863bc52e_0395_11eb_8923_00e0201808a0row13_col4,#T_863bc52e_0395_11eb_8923_00e0201808a0row13_col5,#T_863bc52e_0395_11eb_8923_00e0201808a0row13_col6,#T_863bc52e_0395_11eb_8923_00e0201808a0row13_col7,#T_863bc52e_0395_11eb_8923_00e0201808a0row14_col0,#T_863bc52e_0395_11eb_8923_00e0201808a0row14_col1,#T_863bc52e_0395_11eb_8923_00e0201808a0row14_col2,#T_863bc52e_0395_11eb_8923_00e0201808a0row14_col3,#T_863bc52e_0395_11eb_8923_00e0201808a0row14_col4,#T_863bc52e_0395_11eb_8923_00e0201808a0row14_col5,#T_863bc52e_0395_11eb_8923_00e0201808a0row14_col6,#T_863bc52e_0395_11eb_8923_00e0201808a0row14_col7{\n",
       "            text-align:  left;\n",
       "        }#T_863bc52e_0395_11eb_8923_00e0201808a0row0_col1,#T_863bc52e_0395_11eb_8923_00e0201808a0row0_col2,#T_863bc52e_0395_11eb_8923_00e0201808a0row0_col4,#T_863bc52e_0395_11eb_8923_00e0201808a0row0_col6,#T_863bc52e_0395_11eb_8923_00e0201808a0row0_col7,#T_863bc52e_0395_11eb_8923_00e0201808a0row1_col2,#T_863bc52e_0395_11eb_8923_00e0201808a0row1_col5,#T_863bc52e_0395_11eb_8923_00e0201808a0row9_col3{\n",
       "            background-color:  yellow;\n",
       "            text-align:  left;\n",
       "        }#T_863bc52e_0395_11eb_8923_00e0201808a0row0_col8,#T_863bc52e_0395_11eb_8923_00e0201808a0row1_col8,#T_863bc52e_0395_11eb_8923_00e0201808a0row2_col8,#T_863bc52e_0395_11eb_8923_00e0201808a0row3_col8,#T_863bc52e_0395_11eb_8923_00e0201808a0row4_col8,#T_863bc52e_0395_11eb_8923_00e0201808a0row5_col8,#T_863bc52e_0395_11eb_8923_00e0201808a0row6_col8,#T_863bc52e_0395_11eb_8923_00e0201808a0row7_col8,#T_863bc52e_0395_11eb_8923_00e0201808a0row8_col8,#T_863bc52e_0395_11eb_8923_00e0201808a0row9_col8,#T_863bc52e_0395_11eb_8923_00e0201808a0row10_col8,#T_863bc52e_0395_11eb_8923_00e0201808a0row11_col8,#T_863bc52e_0395_11eb_8923_00e0201808a0row12_col8,#T_863bc52e_0395_11eb_8923_00e0201808a0row13_col8,#T_863bc52e_0395_11eb_8923_00e0201808a0row14_col8{\n",
       "            background-color:  lightgrey;\n",
       "            text-align:  left;\n",
       "        }</style><table id=\"T_863bc52e_0395_11eb_8923_00e0201808a0\" ><thead>    <tr>        <th class=\"blank level0\" ></th>        <th class=\"col_heading level0 col0\" >Model</th>        <th class=\"col_heading level0 col1\" >Accuracy</th>        <th class=\"col_heading level0 col2\" >AUC</th>        <th class=\"col_heading level0 col3\" >Recall</th>        <th class=\"col_heading level0 col4\" >Prec.</th>        <th class=\"col_heading level0 col5\" >F1</th>        <th class=\"col_heading level0 col6\" >Kappa</th>        <th class=\"col_heading level0 col7\" >MCC</th>        <th class=\"col_heading level0 col8\" >TT (Sec)</th>    </tr></thead><tbody>\n",
       "                <tr>\n",
       "                        <th id=\"T_863bc52e_0395_11eb_8923_00e0201808a0level0_row0\" class=\"row_heading level0 row0\" >0</th>\n",
       "                        <td id=\"T_863bc52e_0395_11eb_8923_00e0201808a0row0_col0\" class=\"data row0 col0\" >Gradient Boosting Classifier</td>\n",
       "                        <td id=\"T_863bc52e_0395_11eb_8923_00e0201808a0row0_col1\" class=\"data row0 col1\" >0.6932</td>\n",
       "                        <td id=\"T_863bc52e_0395_11eb_8923_00e0201808a0row0_col2\" class=\"data row0 col2\" >0.7620</td>\n",
       "                        <td id=\"T_863bc52e_0395_11eb_8923_00e0201808a0row0_col3\" class=\"data row0 col3\" >0.6412</td>\n",
       "                        <td id=\"T_863bc52e_0395_11eb_8923_00e0201808a0row0_col4\" class=\"data row0 col4\" >0.7602</td>\n",
       "                        <td id=\"T_863bc52e_0395_11eb_8923_00e0201808a0row0_col5\" class=\"data row0 col5\" >0.6956</td>\n",
       "                        <td id=\"T_863bc52e_0395_11eb_8923_00e0201808a0row0_col6\" class=\"data row0 col6\" >0.3908</td>\n",
       "                        <td id=\"T_863bc52e_0395_11eb_8923_00e0201808a0row0_col7\" class=\"data row0 col7\" >0.3966</td>\n",
       "                        <td id=\"T_863bc52e_0395_11eb_8923_00e0201808a0row0_col8\" class=\"data row0 col8\" >26.8274</td>\n",
       "            </tr>\n",
       "            <tr>\n",
       "                        <th id=\"T_863bc52e_0395_11eb_8923_00e0201808a0level0_row1\" class=\"row_heading level0 row1\" >1</th>\n",
       "                        <td id=\"T_863bc52e_0395_11eb_8923_00e0201808a0row1_col0\" class=\"data row1 col0\" >CatBoost Classifier</td>\n",
       "                        <td id=\"T_863bc52e_0395_11eb_8923_00e0201808a0row1_col1\" class=\"data row1 col1\" >0.6929</td>\n",
       "                        <td id=\"T_863bc52e_0395_11eb_8923_00e0201808a0row1_col2\" class=\"data row1 col2\" >0.7620</td>\n",
       "                        <td id=\"T_863bc52e_0395_11eb_8923_00e0201808a0row1_col3\" class=\"data row1 col3\" >0.6585</td>\n",
       "                        <td id=\"T_863bc52e_0395_11eb_8923_00e0201808a0row1_col4\" class=\"data row1 col4\" >0.7495</td>\n",
       "                        <td id=\"T_863bc52e_0395_11eb_8923_00e0201808a0row1_col5\" class=\"data row1 col5\" >0.7010</td>\n",
       "                        <td id=\"T_863bc52e_0395_11eb_8923_00e0201808a0row1_col6\" class=\"data row1 col6\" >0.3881</td>\n",
       "                        <td id=\"T_863bc52e_0395_11eb_8923_00e0201808a0row1_col7\" class=\"data row1 col7\" >0.3916</td>\n",
       "                        <td id=\"T_863bc52e_0395_11eb_8923_00e0201808a0row1_col8\" class=\"data row1 col8\" >20.4391</td>\n",
       "            </tr>\n",
       "            <tr>\n",
       "                        <th id=\"T_863bc52e_0395_11eb_8923_00e0201808a0level0_row2\" class=\"row_heading level0 row2\" >2</th>\n",
       "                        <td id=\"T_863bc52e_0395_11eb_8923_00e0201808a0row2_col0\" class=\"data row2 col0\" >Light Gradient Boosting Machine</td>\n",
       "                        <td id=\"T_863bc52e_0395_11eb_8923_00e0201808a0row2_col1\" class=\"data row2 col1\" >0.6897</td>\n",
       "                        <td id=\"T_863bc52e_0395_11eb_8923_00e0201808a0row2_col2\" class=\"data row2 col2\" >0.7590</td>\n",
       "                        <td id=\"T_863bc52e_0395_11eb_8923_00e0201808a0row2_col3\" class=\"data row2 col3\" >0.6456</td>\n",
       "                        <td id=\"T_863bc52e_0395_11eb_8923_00e0201808a0row2_col4\" class=\"data row2 col4\" >0.7518</td>\n",
       "                        <td id=\"T_863bc52e_0395_11eb_8923_00e0201808a0row2_col5\" class=\"data row2 col5\" >0.6946</td>\n",
       "                        <td id=\"T_863bc52e_0395_11eb_8923_00e0201808a0row2_col6\" class=\"data row2 col6\" >0.3828</td>\n",
       "                        <td id=\"T_863bc52e_0395_11eb_8923_00e0201808a0row2_col7\" class=\"data row2 col7\" >0.3875</td>\n",
       "                        <td id=\"T_863bc52e_0395_11eb_8923_00e0201808a0row2_col8\" class=\"data row2 col8\" >1.4174</td>\n",
       "            </tr>\n",
       "            <tr>\n",
       "                        <th id=\"T_863bc52e_0395_11eb_8923_00e0201808a0level0_row3\" class=\"row_heading level0 row3\" >3</th>\n",
       "                        <td id=\"T_863bc52e_0395_11eb_8923_00e0201808a0row3_col0\" class=\"data row3 col0\" >Linear Discriminant Analysis</td>\n",
       "                        <td id=\"T_863bc52e_0395_11eb_8923_00e0201808a0row3_col1\" class=\"data row3 col1\" >0.6877</td>\n",
       "                        <td id=\"T_863bc52e_0395_11eb_8923_00e0201808a0row3_col2\" class=\"data row3 col2\" >0.7589</td>\n",
       "                        <td id=\"T_863bc52e_0395_11eb_8923_00e0201808a0row3_col3\" class=\"data row3 col3\" >0.6602</td>\n",
       "                        <td id=\"T_863bc52e_0395_11eb_8923_00e0201808a0row3_col4\" class=\"data row3 col4\" >0.7405</td>\n",
       "                        <td id=\"T_863bc52e_0395_11eb_8923_00e0201808a0row3_col5\" class=\"data row3 col5\" >0.6980</td>\n",
       "                        <td id=\"T_863bc52e_0395_11eb_8923_00e0201808a0row3_col6\" class=\"data row3 col6\" >0.3768</td>\n",
       "                        <td id=\"T_863bc52e_0395_11eb_8923_00e0201808a0row3_col7\" class=\"data row3 col7\" >0.3796</td>\n",
       "                        <td id=\"T_863bc52e_0395_11eb_8923_00e0201808a0row3_col8\" class=\"data row3 col8\" >1.2204</td>\n",
       "            </tr>\n",
       "            <tr>\n",
       "                        <th id=\"T_863bc52e_0395_11eb_8923_00e0201808a0level0_row4\" class=\"row_heading level0 row4\" >4</th>\n",
       "                        <td id=\"T_863bc52e_0395_11eb_8923_00e0201808a0row4_col0\" class=\"data row4 col0\" >Ada Boost Classifier</td>\n",
       "                        <td id=\"T_863bc52e_0395_11eb_8923_00e0201808a0row4_col1\" class=\"data row4 col1\" >0.6891</td>\n",
       "                        <td id=\"T_863bc52e_0395_11eb_8923_00e0201808a0row4_col2\" class=\"data row4 col2\" >0.7556</td>\n",
       "                        <td id=\"T_863bc52e_0395_11eb_8923_00e0201808a0row4_col3\" class=\"data row4 col3\" >0.6547</td>\n",
       "                        <td id=\"T_863bc52e_0395_11eb_8923_00e0201808a0row4_col4\" class=\"data row4 col4\" >0.7458</td>\n",
       "                        <td id=\"T_863bc52e_0395_11eb_8923_00e0201808a0row4_col5\" class=\"data row4 col5\" >0.6972</td>\n",
       "                        <td id=\"T_863bc52e_0395_11eb_8923_00e0201808a0row4_col6\" class=\"data row4 col6\" >0.3806</td>\n",
       "                        <td id=\"T_863bc52e_0395_11eb_8923_00e0201808a0row4_col7\" class=\"data row4 col7\" >0.3841</td>\n",
       "                        <td id=\"T_863bc52e_0395_11eb_8923_00e0201808a0row4_col8\" class=\"data row4 col8\" >6.6486</td>\n",
       "            </tr>\n",
       "            <tr>\n",
       "                        <th id=\"T_863bc52e_0395_11eb_8923_00e0201808a0level0_row5\" class=\"row_heading level0 row5\" >5</th>\n",
       "                        <td id=\"T_863bc52e_0395_11eb_8923_00e0201808a0row5_col0\" class=\"data row5 col0\" >Extra Trees Classifier</td>\n",
       "                        <td id=\"T_863bc52e_0395_11eb_8923_00e0201808a0row5_col1\" class=\"data row5 col1\" >0.6875</td>\n",
       "                        <td id=\"T_863bc52e_0395_11eb_8923_00e0201808a0row5_col2\" class=\"data row5 col2\" >0.7540</td>\n",
       "                        <td id=\"T_863bc52e_0395_11eb_8923_00e0201808a0row5_col3\" class=\"data row5 col3\" >0.6335</td>\n",
       "                        <td id=\"T_863bc52e_0395_11eb_8923_00e0201808a0row5_col4\" class=\"data row5 col4\" >0.7556</td>\n",
       "                        <td id=\"T_863bc52e_0395_11eb_8923_00e0201808a0row5_col5\" class=\"data row5 col5\" >0.6891</td>\n",
       "                        <td id=\"T_863bc52e_0395_11eb_8923_00e0201808a0row5_col6\" class=\"data row5 col6\" >0.3799</td>\n",
       "                        <td id=\"T_863bc52e_0395_11eb_8923_00e0201808a0row5_col7\" class=\"data row5 col7\" >0.3860</td>\n",
       "                        <td id=\"T_863bc52e_0395_11eb_8923_00e0201808a0row5_col8\" class=\"data row5 col8\" >3.3702</td>\n",
       "            </tr>\n",
       "            <tr>\n",
       "                        <th id=\"T_863bc52e_0395_11eb_8923_00e0201808a0level0_row6\" class=\"row_heading level0 row6\" >6</th>\n",
       "                        <td id=\"T_863bc52e_0395_11eb_8923_00e0201808a0row6_col0\" class=\"data row6 col0\" >Extreme Gradient Boosting</td>\n",
       "                        <td id=\"T_863bc52e_0395_11eb_8923_00e0201808a0row6_col1\" class=\"data row6 col1\" >0.6710</td>\n",
       "                        <td id=\"T_863bc52e_0395_11eb_8923_00e0201808a0row6_col2\" class=\"data row6 col2\" >0.7389</td>\n",
       "                        <td id=\"T_863bc52e_0395_11eb_8923_00e0201808a0row6_col3\" class=\"data row6 col3\" >0.6642</td>\n",
       "                        <td id=\"T_863bc52e_0395_11eb_8923_00e0201808a0row6_col4\" class=\"data row6 col4\" >0.7142</td>\n",
       "                        <td id=\"T_863bc52e_0395_11eb_8923_00e0201808a0row6_col5\" class=\"data row6 col5\" >0.6882</td>\n",
       "                        <td id=\"T_863bc52e_0395_11eb_8923_00e0201808a0row6_col6\" class=\"data row6 col6\" >0.3410</td>\n",
       "                        <td id=\"T_863bc52e_0395_11eb_8923_00e0201808a0row6_col7\" class=\"data row6 col7\" >0.3421</td>\n",
       "                        <td id=\"T_863bc52e_0395_11eb_8923_00e0201808a0row6_col8\" class=\"data row6 col8\" >14.1790</td>\n",
       "            </tr>\n",
       "            <tr>\n",
       "                        <th id=\"T_863bc52e_0395_11eb_8923_00e0201808a0level0_row7\" class=\"row_heading level0 row7\" >7</th>\n",
       "                        <td id=\"T_863bc52e_0395_11eb_8923_00e0201808a0row7_col0\" class=\"data row7 col0\" >Random Forest Classifier</td>\n",
       "                        <td id=\"T_863bc52e_0395_11eb_8923_00e0201808a0row7_col1\" class=\"data row7 col1\" >0.6567</td>\n",
       "                        <td id=\"T_863bc52e_0395_11eb_8923_00e0201808a0row7_col2\" class=\"data row7 col2\" >0.7144</td>\n",
       "                        <td id=\"T_863bc52e_0395_11eb_8923_00e0201808a0row7_col3\" class=\"data row7 col3\" >0.6051</td>\n",
       "                        <td id=\"T_863bc52e_0395_11eb_8923_00e0201808a0row7_col4\" class=\"data row7 col4\" >0.7222</td>\n",
       "                        <td id=\"T_863bc52e_0395_11eb_8923_00e0201808a0row7_col5\" class=\"data row7 col5\" >0.6584</td>\n",
       "                        <td id=\"T_863bc52e_0395_11eb_8923_00e0201808a0row7_col6\" class=\"data row7 col6\" >0.3188</td>\n",
       "                        <td id=\"T_863bc52e_0395_11eb_8923_00e0201808a0row7_col7\" class=\"data row7 col7\" >0.3239</td>\n",
       "                        <td id=\"T_863bc52e_0395_11eb_8923_00e0201808a0row7_col8\" class=\"data row7 col8\" >0.4029</td>\n",
       "            </tr>\n",
       "            <tr>\n",
       "                        <th id=\"T_863bc52e_0395_11eb_8923_00e0201808a0level0_row8\" class=\"row_heading level0 row8\" >8</th>\n",
       "                        <td id=\"T_863bc52e_0395_11eb_8923_00e0201808a0row8_col0\" class=\"data row8 col0\" >Decision Tree Classifier</td>\n",
       "                        <td id=\"T_863bc52e_0395_11eb_8923_00e0201808a0row8_col1\" class=\"data row8 col1\" >0.6069</td>\n",
       "                        <td id=\"T_863bc52e_0395_11eb_8923_00e0201808a0row8_col2\" class=\"data row8 col2\" >0.6035</td>\n",
       "                        <td id=\"T_863bc52e_0395_11eb_8923_00e0201808a0row8_col3\" class=\"data row8 col3\" >0.6402</td>\n",
       "                        <td id=\"T_863bc52e_0395_11eb_8923_00e0201808a0row8_col4\" class=\"data row8 col4\" >0.6407</td>\n",
       "                        <td id=\"T_863bc52e_0395_11eb_8923_00e0201808a0row8_col5\" class=\"data row8 col5\" >0.6404</td>\n",
       "                        <td id=\"T_863bc52e_0395_11eb_8923_00e0201808a0row8_col6\" class=\"data row8 col6\" >0.2070</td>\n",
       "                        <td id=\"T_863bc52e_0395_11eb_8923_00e0201808a0row8_col7\" class=\"data row8 col7\" >0.2070</td>\n",
       "                        <td id=\"T_863bc52e_0395_11eb_8923_00e0201808a0row8_col8\" class=\"data row8 col8\" >2.0816</td>\n",
       "            </tr>\n",
       "            <tr>\n",
       "                        <th id=\"T_863bc52e_0395_11eb_8923_00e0201808a0level0_row9\" class=\"row_heading level0 row9\" >9</th>\n",
       "                        <td id=\"T_863bc52e_0395_11eb_8923_00e0201808a0row9_col0\" class=\"data row9 col0\" >Naive Bayes</td>\n",
       "                        <td id=\"T_863bc52e_0395_11eb_8923_00e0201808a0row9_col1\" class=\"data row9 col1\" >0.5372</td>\n",
       "                        <td id=\"T_863bc52e_0395_11eb_8923_00e0201808a0row9_col2\" class=\"data row9 col2\" >0.5277</td>\n",
       "                        <td id=\"T_863bc52e_0395_11eb_8923_00e0201808a0row9_col3\" class=\"data row9 col3\" >0.8999</td>\n",
       "                        <td id=\"T_863bc52e_0395_11eb_8923_00e0201808a0row9_col4\" class=\"data row9 col4\" >0.5121</td>\n",
       "                        <td id=\"T_863bc52e_0395_11eb_8923_00e0201808a0row9_col5\" class=\"data row9 col5\" >0.6364</td>\n",
       "                        <td id=\"T_863bc52e_0395_11eb_8923_00e0201808a0row9_col6\" class=\"data row9 col6\" >-0.0004</td>\n",
       "                        <td id=\"T_863bc52e_0395_11eb_8923_00e0201808a0row9_col7\" class=\"data row9 col7\" >-0.0053</td>\n",
       "                        <td id=\"T_863bc52e_0395_11eb_8923_00e0201808a0row9_col8\" class=\"data row9 col8\" >0.1694</td>\n",
       "            </tr>\n",
       "            <tr>\n",
       "                        <th id=\"T_863bc52e_0395_11eb_8923_00e0201808a0level0_row10\" class=\"row_heading level0 row10\" >10</th>\n",
       "                        <td id=\"T_863bc52e_0395_11eb_8923_00e0201808a0row10_col0\" class=\"data row10 col0\" >Quadratic Discriminant Analysis</td>\n",
       "                        <td id=\"T_863bc52e_0395_11eb_8923_00e0201808a0row10_col1\" class=\"data row10 col1\" >0.5379</td>\n",
       "                        <td id=\"T_863bc52e_0395_11eb_8923_00e0201808a0row10_col2\" class=\"data row10 col2\" >0.5063</td>\n",
       "                        <td id=\"T_863bc52e_0395_11eb_8923_00e0201808a0row10_col3\" class=\"data row10 col3\" >0.8436</td>\n",
       "                        <td id=\"T_863bc52e_0395_11eb_8923_00e0201808a0row10_col4\" class=\"data row10 col4\" >0.5540</td>\n",
       "                        <td id=\"T_863bc52e_0395_11eb_8923_00e0201808a0row10_col5\" class=\"data row10 col5\" >0.6400</td>\n",
       "                        <td id=\"T_863bc52e_0395_11eb_8923_00e0201808a0row10_col6\" class=\"data row10 col6\" >0.0127</td>\n",
       "                        <td id=\"T_863bc52e_0395_11eb_8923_00e0201808a0row10_col7\" class=\"data row10 col7\" >0.0265</td>\n",
       "                        <td id=\"T_863bc52e_0395_11eb_8923_00e0201808a0row10_col8\" class=\"data row10 col8\" >0.6017</td>\n",
       "            </tr>\n",
       "            <tr>\n",
       "                        <th id=\"T_863bc52e_0395_11eb_8923_00e0201808a0level0_row11\" class=\"row_heading level0 row11\" >11</th>\n",
       "                        <td id=\"T_863bc52e_0395_11eb_8923_00e0201808a0row11_col0\" class=\"data row11 col0\" >K Neighbors Classifier</td>\n",
       "                        <td id=\"T_863bc52e_0395_11eb_8923_00e0201808a0row11_col1\" class=\"data row11 col1\" >0.5116</td>\n",
       "                        <td id=\"T_863bc52e_0395_11eb_8923_00e0201808a0row11_col2\" class=\"data row11 col2\" >0.5044</td>\n",
       "                        <td id=\"T_863bc52e_0395_11eb_8923_00e0201808a0row11_col3\" class=\"data row11 col3\" >0.5933</td>\n",
       "                        <td id=\"T_863bc52e_0395_11eb_8923_00e0201808a0row11_col4\" class=\"data row11 col4\" >0.5495</td>\n",
       "                        <td id=\"T_863bc52e_0395_11eb_8923_00e0201808a0row11_col5\" class=\"data row11 col5\" >0.5705</td>\n",
       "                        <td id=\"T_863bc52e_0395_11eb_8923_00e0201808a0row11_col6\" class=\"data row11 col6\" >0.0063</td>\n",
       "                        <td id=\"T_863bc52e_0395_11eb_8923_00e0201808a0row11_col7\" class=\"data row11 col7\" >0.0064</td>\n",
       "                        <td id=\"T_863bc52e_0395_11eb_8923_00e0201808a0row11_col8\" class=\"data row11 col8\" >2.3484</td>\n",
       "            </tr>\n",
       "            <tr>\n",
       "                        <th id=\"T_863bc52e_0395_11eb_8923_00e0201808a0level0_row12\" class=\"row_heading level0 row12\" >12</th>\n",
       "                        <td id=\"T_863bc52e_0395_11eb_8923_00e0201808a0row12_col0\" class=\"data row12 col0\" >Logistic Regression</td>\n",
       "                        <td id=\"T_863bc52e_0395_11eb_8923_00e0201808a0row12_col1\" class=\"data row12 col1\" >0.4532</td>\n",
       "                        <td id=\"T_863bc52e_0395_11eb_8923_00e0201808a0row12_col2\" class=\"data row12 col2\" >0.5000</td>\n",
       "                        <td id=\"T_863bc52e_0395_11eb_8923_00e0201808a0row12_col3\" class=\"data row12 col3\" >0.0000</td>\n",
       "                        <td id=\"T_863bc52e_0395_11eb_8923_00e0201808a0row12_col4\" class=\"data row12 col4\" >0.0000</td>\n",
       "                        <td id=\"T_863bc52e_0395_11eb_8923_00e0201808a0row12_col5\" class=\"data row12 col5\" >0.0000</td>\n",
       "                        <td id=\"T_863bc52e_0395_11eb_8923_00e0201808a0row12_col6\" class=\"data row12 col6\" >0.0000</td>\n",
       "                        <td id=\"T_863bc52e_0395_11eb_8923_00e0201808a0row12_col7\" class=\"data row12 col7\" >0.0000</td>\n",
       "                        <td id=\"T_863bc52e_0395_11eb_8923_00e0201808a0row12_col8\" class=\"data row12 col8\" >0.2939</td>\n",
       "            </tr>\n",
       "            <tr>\n",
       "                        <th id=\"T_863bc52e_0395_11eb_8923_00e0201808a0level0_row13\" class=\"row_heading level0 row13\" >13</th>\n",
       "                        <td id=\"T_863bc52e_0395_11eb_8923_00e0201808a0row13_col0\" class=\"data row13 col0\" >SVM - Linear Kernel</td>\n",
       "                        <td id=\"T_863bc52e_0395_11eb_8923_00e0201808a0row13_col1\" class=\"data row13 col1\" >0.4627</td>\n",
       "                        <td id=\"T_863bc52e_0395_11eb_8923_00e0201808a0row13_col2\" class=\"data row13 col2\" >0.0000</td>\n",
       "                        <td id=\"T_863bc52e_0395_11eb_8923_00e0201808a0row13_col3\" class=\"data row13 col3\" >0.1009</td>\n",
       "                        <td id=\"T_863bc52e_0395_11eb_8923_00e0201808a0row13_col4\" class=\"data row13 col4\" >0.5798</td>\n",
       "                        <td id=\"T_863bc52e_0395_11eb_8923_00e0201808a0row13_col5\" class=\"data row13 col5\" >0.0737</td>\n",
       "                        <td id=\"T_863bc52e_0395_11eb_8923_00e0201808a0row13_col6\" class=\"data row13 col6\" >0.0002</td>\n",
       "                        <td id=\"T_863bc52e_0395_11eb_8923_00e0201808a0row13_col7\" class=\"data row13 col7\" >0.0038</td>\n",
       "                        <td id=\"T_863bc52e_0395_11eb_8923_00e0201808a0row13_col8\" class=\"data row13 col8\" >4.1853</td>\n",
       "            </tr>\n",
       "            <tr>\n",
       "                        <th id=\"T_863bc52e_0395_11eb_8923_00e0201808a0level0_row14\" class=\"row_heading level0 row14\" >14</th>\n",
       "                        <td id=\"T_863bc52e_0395_11eb_8923_00e0201808a0row14_col0\" class=\"data row14 col0\" >Ridge Classifier</td>\n",
       "                        <td id=\"T_863bc52e_0395_11eb_8923_00e0201808a0row14_col1\" class=\"data row14 col1\" >0.6878</td>\n",
       "                        <td id=\"T_863bc52e_0395_11eb_8923_00e0201808a0row14_col2\" class=\"data row14 col2\" >0.0000</td>\n",
       "                        <td id=\"T_863bc52e_0395_11eb_8923_00e0201808a0row14_col3\" class=\"data row14 col3\" >0.6605</td>\n",
       "                        <td id=\"T_863bc52e_0395_11eb_8923_00e0201808a0row14_col4\" class=\"data row14 col4\" >0.7405</td>\n",
       "                        <td id=\"T_863bc52e_0395_11eb_8923_00e0201808a0row14_col5\" class=\"data row14 col5\" >0.6981</td>\n",
       "                        <td id=\"T_863bc52e_0395_11eb_8923_00e0201808a0row14_col6\" class=\"data row14 col6\" >0.3770</td>\n",
       "                        <td id=\"T_863bc52e_0395_11eb_8923_00e0201808a0row14_col7\" class=\"data row14 col7\" >0.3797</td>\n",
       "                        <td id=\"T_863bc52e_0395_11eb_8923_00e0201808a0row14_col8\" class=\"data row14 col8\" >0.2255</td>\n",
       "            </tr>\n",
       "    </tbody></table>"
      ],
      "text/plain": [
       "<pandas.io.formats.style.Styler at 0x1f7776eab88>"
      ]
     },
     "metadata": {},
     "output_type": "display_data"
    }
   ],
   "source": [
    "#best_3 = compare_models(sort = 'AUC', n_select = 3)\n",
    "best_5 = compare_models(sort = 'AUC', n_select = 5)"
   ]
  },
  {
   "cell_type": "code",
   "execution_count": null,
   "metadata": {},
   "outputs": [],
   "source": []
  },
  {
   "cell_type": "code",
   "execution_count": 34,
   "metadata": {},
   "outputs": [
    {
     "data": {
      "text/html": [
       "<style  type=\"text/css\" >\n",
       "#T_f4adf3fa_0396_11eb_971c_00e0201808a0row10_col0,#T_f4adf3fa_0396_11eb_971c_00e0201808a0row10_col1,#T_f4adf3fa_0396_11eb_971c_00e0201808a0row10_col2,#T_f4adf3fa_0396_11eb_971c_00e0201808a0row10_col3,#T_f4adf3fa_0396_11eb_971c_00e0201808a0row10_col4,#T_f4adf3fa_0396_11eb_971c_00e0201808a0row10_col5,#T_f4adf3fa_0396_11eb_971c_00e0201808a0row10_col6{\n",
       "            background:  yellow;\n",
       "        }</style><table id=\"T_f4adf3fa_0396_11eb_971c_00e0201808a0\" ><thead>    <tr>        <th class=\"blank level0\" ></th>        <th class=\"col_heading level0 col0\" >Accuracy</th>        <th class=\"col_heading level0 col1\" >AUC</th>        <th class=\"col_heading level0 col2\" >Recall</th>        <th class=\"col_heading level0 col3\" >Prec.</th>        <th class=\"col_heading level0 col4\" >F1</th>        <th class=\"col_heading level0 col5\" >Kappa</th>        <th class=\"col_heading level0 col6\" >MCC</th>    </tr></thead><tbody>\n",
       "                <tr>\n",
       "                        <th id=\"T_f4adf3fa_0396_11eb_971c_00e0201808a0level0_row0\" class=\"row_heading level0 row0\" >0</th>\n",
       "                        <td id=\"T_f4adf3fa_0396_11eb_971c_00e0201808a0row0_col0\" class=\"data row0 col0\" >0.6906</td>\n",
       "                        <td id=\"T_f4adf3fa_0396_11eb_971c_00e0201808a0row0_col1\" class=\"data row0 col1\" >0.7636</td>\n",
       "                        <td id=\"T_f4adf3fa_0396_11eb_971c_00e0201808a0row0_col2\" class=\"data row0 col2\" >0.6351</td>\n",
       "                        <td id=\"T_f4adf3fa_0396_11eb_971c_00e0201808a0row0_col3\" class=\"data row0 col3\" >0.7599</td>\n",
       "                        <td id=\"T_f4adf3fa_0396_11eb_971c_00e0201808a0row0_col4\" class=\"data row0 col4\" >0.6919</td>\n",
       "                        <td id=\"T_f4adf3fa_0396_11eb_971c_00e0201808a0row0_col5\" class=\"data row0 col5\" >0.3861</td>\n",
       "                        <td id=\"T_f4adf3fa_0396_11eb_971c_00e0201808a0row0_col6\" class=\"data row0 col6\" >0.3924</td>\n",
       "            </tr>\n",
       "            <tr>\n",
       "                        <th id=\"T_f4adf3fa_0396_11eb_971c_00e0201808a0level0_row1\" class=\"row_heading level0 row1\" >1</th>\n",
       "                        <td id=\"T_f4adf3fa_0396_11eb_971c_00e0201808a0row1_col0\" class=\"data row1 col0\" >0.7000</td>\n",
       "                        <td id=\"T_f4adf3fa_0396_11eb_971c_00e0201808a0row1_col1\" class=\"data row1 col1\" >0.7775</td>\n",
       "                        <td id=\"T_f4adf3fa_0396_11eb_971c_00e0201808a0row1_col2\" class=\"data row1 col2\" >0.6710</td>\n",
       "                        <td id=\"T_f4adf3fa_0396_11eb_971c_00e0201808a0row1_col3\" class=\"data row1 col3\" >0.7536</td>\n",
       "                        <td id=\"T_f4adf3fa_0396_11eb_971c_00e0201808a0row1_col4\" class=\"data row1 col4\" >0.7099</td>\n",
       "                        <td id=\"T_f4adf3fa_0396_11eb_971c_00e0201808a0row1_col5\" class=\"data row1 col5\" >0.4015</td>\n",
       "                        <td id=\"T_f4adf3fa_0396_11eb_971c_00e0201808a0row1_col6\" class=\"data row1 col6\" >0.4044</td>\n",
       "            </tr>\n",
       "            <tr>\n",
       "                        <th id=\"T_f4adf3fa_0396_11eb_971c_00e0201808a0level0_row2\" class=\"row_heading level0 row2\" >2</th>\n",
       "                        <td id=\"T_f4adf3fa_0396_11eb_971c_00e0201808a0row2_col0\" class=\"data row2 col0\" >0.6773</td>\n",
       "                        <td id=\"T_f4adf3fa_0396_11eb_971c_00e0201808a0row2_col1\" class=\"data row2 col1\" >0.7502</td>\n",
       "                        <td id=\"T_f4adf3fa_0396_11eb_971c_00e0201808a0row2_col2\" class=\"data row2 col2\" >0.6385</td>\n",
       "                        <td id=\"T_f4adf3fa_0396_11eb_971c_00e0201808a0row2_col3\" class=\"data row2 col3\" >0.7361</td>\n",
       "                        <td id=\"T_f4adf3fa_0396_11eb_971c_00e0201808a0row2_col4\" class=\"data row2 col4\" >0.6838</td>\n",
       "                        <td id=\"T_f4adf3fa_0396_11eb_971c_00e0201808a0row2_col5\" class=\"data row2 col5\" >0.3576</td>\n",
       "                        <td id=\"T_f4adf3fa_0396_11eb_971c_00e0201808a0row2_col6\" class=\"data row2 col6\" >0.3614</td>\n",
       "            </tr>\n",
       "            <tr>\n",
       "                        <th id=\"T_f4adf3fa_0396_11eb_971c_00e0201808a0level0_row3\" class=\"row_heading level0 row3\" >3</th>\n",
       "                        <td id=\"T_f4adf3fa_0396_11eb_971c_00e0201808a0row3_col0\" class=\"data row3 col0\" >0.6945</td>\n",
       "                        <td id=\"T_f4adf3fa_0396_11eb_971c_00e0201808a0row3_col1\" class=\"data row3 col1\" >0.7603</td>\n",
       "                        <td id=\"T_f4adf3fa_0396_11eb_971c_00e0201808a0row3_col2\" class=\"data row3 col2\" >0.6392</td>\n",
       "                        <td id=\"T_f4adf3fa_0396_11eb_971c_00e0201808a0row3_col3\" class=\"data row3 col3\" >0.7635</td>\n",
       "                        <td id=\"T_f4adf3fa_0396_11eb_971c_00e0201808a0row3_col4\" class=\"data row3 col4\" >0.6958</td>\n",
       "                        <td id=\"T_f4adf3fa_0396_11eb_971c_00e0201808a0row3_col5\" class=\"data row3 col5\" >0.3938</td>\n",
       "                        <td id=\"T_f4adf3fa_0396_11eb_971c_00e0201808a0row3_col6\" class=\"data row3 col6\" >0.4001</td>\n",
       "            </tr>\n",
       "            <tr>\n",
       "                        <th id=\"T_f4adf3fa_0396_11eb_971c_00e0201808a0level0_row4\" class=\"row_heading level0 row4\" >4</th>\n",
       "                        <td id=\"T_f4adf3fa_0396_11eb_971c_00e0201808a0row4_col0\" class=\"data row4 col0\" >0.6859</td>\n",
       "                        <td id=\"T_f4adf3fa_0396_11eb_971c_00e0201808a0row4_col1\" class=\"data row4 col1\" >0.7570</td>\n",
       "                        <td id=\"T_f4adf3fa_0396_11eb_971c_00e0201808a0row4_col2\" class=\"data row4 col2\" >0.6449</td>\n",
       "                        <td id=\"T_f4adf3fa_0396_11eb_971c_00e0201808a0row4_col3\" class=\"data row4 col3\" >0.7461</td>\n",
       "                        <td id=\"T_f4adf3fa_0396_11eb_971c_00e0201808a0row4_col4\" class=\"data row4 col4\" >0.6918</td>\n",
       "                        <td id=\"T_f4adf3fa_0396_11eb_971c_00e0201808a0row4_col5\" class=\"data row4 col5\" >0.3750</td>\n",
       "                        <td id=\"T_f4adf3fa_0396_11eb_971c_00e0201808a0row4_col6\" class=\"data row4 col6\" >0.3791</td>\n",
       "            </tr>\n",
       "            <tr>\n",
       "                        <th id=\"T_f4adf3fa_0396_11eb_971c_00e0201808a0level0_row5\" class=\"row_heading level0 row5\" >5</th>\n",
       "                        <td id=\"T_f4adf3fa_0396_11eb_971c_00e0201808a0row5_col0\" class=\"data row5 col0\" >0.6894</td>\n",
       "                        <td id=\"T_f4adf3fa_0396_11eb_971c_00e0201808a0row5_col1\" class=\"data row5 col1\" >0.7570</td>\n",
       "                        <td id=\"T_f4adf3fa_0396_11eb_971c_00e0201808a0row5_col2\" class=\"data row5 col2\" >0.6456</td>\n",
       "                        <td id=\"T_f4adf3fa_0396_11eb_971c_00e0201808a0row5_col3\" class=\"data row5 col3\" >0.7513</td>\n",
       "                        <td id=\"T_f4adf3fa_0396_11eb_971c_00e0201808a0row5_col4\" class=\"data row5 col4\" >0.6944</td>\n",
       "                        <td id=\"T_f4adf3fa_0396_11eb_971c_00e0201808a0row5_col5\" class=\"data row5 col5\" >0.3823</td>\n",
       "                        <td id=\"T_f4adf3fa_0396_11eb_971c_00e0201808a0row5_col6\" class=\"data row5 col6\" >0.3869</td>\n",
       "            </tr>\n",
       "            <tr>\n",
       "                        <th id=\"T_f4adf3fa_0396_11eb_971c_00e0201808a0level0_row6\" class=\"row_heading level0 row6\" >6</th>\n",
       "                        <td id=\"T_f4adf3fa_0396_11eb_971c_00e0201808a0row6_col0\" class=\"data row6 col0\" >0.6961</td>\n",
       "                        <td id=\"T_f4adf3fa_0396_11eb_971c_00e0201808a0row6_col1\" class=\"data row6 col1\" >0.7690</td>\n",
       "                        <td id=\"T_f4adf3fa_0396_11eb_971c_00e0201808a0row6_col2\" class=\"data row6 col2\" >0.6485</td>\n",
       "                        <td id=\"T_f4adf3fa_0396_11eb_971c_00e0201808a0row6_col3\" class=\"data row6 col3\" >0.7603</td>\n",
       "                        <td id=\"T_f4adf3fa_0396_11eb_971c_00e0201808a0row6_col4\" class=\"data row6 col4\" >0.7000</td>\n",
       "                        <td id=\"T_f4adf3fa_0396_11eb_971c_00e0201808a0row6_col5\" class=\"data row6 col5\" >0.3960</td>\n",
       "                        <td id=\"T_f4adf3fa_0396_11eb_971c_00e0201808a0row6_col6\" class=\"data row6 col6\" >0.4011</td>\n",
       "            </tr>\n",
       "            <tr>\n",
       "                        <th id=\"T_f4adf3fa_0396_11eb_971c_00e0201808a0level0_row7\" class=\"row_heading level0 row7\" >7</th>\n",
       "                        <td id=\"T_f4adf3fa_0396_11eb_971c_00e0201808a0row7_col0\" class=\"data row7 col0\" >0.7144</td>\n",
       "                        <td id=\"T_f4adf3fa_0396_11eb_971c_00e0201808a0row7_col1\" class=\"data row7 col1\" >0.7806</td>\n",
       "                        <td id=\"T_f4adf3fa_0396_11eb_971c_00e0201808a0row7_col2\" class=\"data row7 col2\" >0.6851</td>\n",
       "                        <td id=\"T_f4adf3fa_0396_11eb_971c_00e0201808a0row7_col3\" class=\"data row7 col3\" >0.7677</td>\n",
       "                        <td id=\"T_f4adf3fa_0396_11eb_971c_00e0201808a0row7_col4\" class=\"data row7 col4\" >0.7240</td>\n",
       "                        <td id=\"T_f4adf3fa_0396_11eb_971c_00e0201808a0row7_col5\" class=\"data row7 col5\" >0.4301</td>\n",
       "                        <td id=\"T_f4adf3fa_0396_11eb_971c_00e0201808a0row7_col6\" class=\"data row7 col6\" >0.4331</td>\n",
       "            </tr>\n",
       "            <tr>\n",
       "                        <th id=\"T_f4adf3fa_0396_11eb_971c_00e0201808a0level0_row8\" class=\"row_heading level0 row8\" >8</th>\n",
       "                        <td id=\"T_f4adf3fa_0396_11eb_971c_00e0201808a0row8_col0\" class=\"data row8 col0\" >0.7038</td>\n",
       "                        <td id=\"T_f4adf3fa_0396_11eb_971c_00e0201808a0row8_col1\" class=\"data row8 col1\" >0.7690</td>\n",
       "                        <td id=\"T_f4adf3fa_0396_11eb_971c_00e0201808a0row8_col2\" class=\"data row8 col2\" >0.6693</td>\n",
       "                        <td id=\"T_f4adf3fa_0396_11eb_971c_00e0201808a0row8_col3\" class=\"data row8 col3\" >0.7604</td>\n",
       "                        <td id=\"T_f4adf3fa_0396_11eb_971c_00e0201808a0row8_col4\" class=\"data row8 col4\" >0.7119</td>\n",
       "                        <td id=\"T_f4adf3fa_0396_11eb_971c_00e0201808a0row8_col5\" class=\"data row8 col5\" >0.4097</td>\n",
       "                        <td id=\"T_f4adf3fa_0396_11eb_971c_00e0201808a0row8_col6\" class=\"data row8 col6\" >0.4132</td>\n",
       "            </tr>\n",
       "            <tr>\n",
       "                        <th id=\"T_f4adf3fa_0396_11eb_971c_00e0201808a0level0_row9\" class=\"row_heading level0 row9\" >9</th>\n",
       "                        <td id=\"T_f4adf3fa_0396_11eb_971c_00e0201808a0row9_col0\" class=\"data row9 col0\" >0.6905</td>\n",
       "                        <td id=\"T_f4adf3fa_0396_11eb_971c_00e0201808a0row9_col1\" class=\"data row9 col1\" >0.7635</td>\n",
       "                        <td id=\"T_f4adf3fa_0396_11eb_971c_00e0201808a0row9_col2\" class=\"data row9 col2\" >0.6585</td>\n",
       "                        <td id=\"T_f4adf3fa_0396_11eb_971c_00e0201808a0row9_col3\" class=\"data row9 col3\" >0.7457</td>\n",
       "                        <td id=\"T_f4adf3fa_0396_11eb_971c_00e0201808a0row9_col4\" class=\"data row9 col4\" >0.6994</td>\n",
       "                        <td id=\"T_f4adf3fa_0396_11eb_971c_00e0201808a0row9_col5\" class=\"data row9 col5\" >0.3829</td>\n",
       "                        <td id=\"T_f4adf3fa_0396_11eb_971c_00e0201808a0row9_col6\" class=\"data row9 col6\" >0.3861</td>\n",
       "            </tr>\n",
       "            <tr>\n",
       "                        <th id=\"T_f4adf3fa_0396_11eb_971c_00e0201808a0level0_row10\" class=\"row_heading level0 row10\" >Mean</th>\n",
       "                        <td id=\"T_f4adf3fa_0396_11eb_971c_00e0201808a0row10_col0\" class=\"data row10 col0\" >0.6942</td>\n",
       "                        <td id=\"T_f4adf3fa_0396_11eb_971c_00e0201808a0row10_col1\" class=\"data row10 col1\" >0.7648</td>\n",
       "                        <td id=\"T_f4adf3fa_0396_11eb_971c_00e0201808a0row10_col2\" class=\"data row10 col2\" >0.6536</td>\n",
       "                        <td id=\"T_f4adf3fa_0396_11eb_971c_00e0201808a0row10_col3\" class=\"data row10 col3\" >0.7545</td>\n",
       "                        <td id=\"T_f4adf3fa_0396_11eb_971c_00e0201808a0row10_col4\" class=\"data row10 col4\" >0.7003</td>\n",
       "                        <td id=\"T_f4adf3fa_0396_11eb_971c_00e0201808a0row10_col5\" class=\"data row10 col5\" >0.3915</td>\n",
       "                        <td id=\"T_f4adf3fa_0396_11eb_971c_00e0201808a0row10_col6\" class=\"data row10 col6\" >0.3958</td>\n",
       "            </tr>\n",
       "            <tr>\n",
       "                        <th id=\"T_f4adf3fa_0396_11eb_971c_00e0201808a0level0_row11\" class=\"row_heading level0 row11\" >SD</th>\n",
       "                        <td id=\"T_f4adf3fa_0396_11eb_971c_00e0201808a0row11_col0\" class=\"data row11 col0\" >0.0097</td>\n",
       "                        <td id=\"T_f4adf3fa_0396_11eb_971c_00e0201808a0row11_col1\" class=\"data row11 col1\" >0.0090</td>\n",
       "                        <td id=\"T_f4adf3fa_0396_11eb_971c_00e0201808a0row11_col2\" class=\"data row11 col2\" >0.0158</td>\n",
       "                        <td id=\"T_f4adf3fa_0396_11eb_971c_00e0201808a0row11_col3\" class=\"data row11 col3\" >0.0092</td>\n",
       "                        <td id=\"T_f4adf3fa_0396_11eb_971c_00e0201808a0row11_col4\" class=\"data row11 col4\" >0.0112</td>\n",
       "                        <td id=\"T_f4adf3fa_0396_11eb_971c_00e0201808a0row11_col5\" class=\"data row11 col5\" >0.0188</td>\n",
       "                        <td id=\"T_f4adf3fa_0396_11eb_971c_00e0201808a0row11_col6\" class=\"data row11 col6\" >0.0186</td>\n",
       "            </tr>\n",
       "    </tbody></table>"
      ],
      "text/plain": [
       "<pandas.io.formats.style.Styler at 0x1f76f6a3b08>"
      ]
     },
     "metadata": {},
     "output_type": "display_data"
    }
   ],
   "source": [
    "blended = blend_models(estimator_list = best_5, fold = 10, method = 'soft', optimize='AUC')"
   ]
  },
  {
   "cell_type": "code",
   "execution_count": 35,
   "metadata": {},
   "outputs": [
    {
     "data": {
      "text/html": [
       "<div>\n",
       "<style scoped>\n",
       "    .dataframe tbody tr th:only-of-type {\n",
       "        vertical-align: middle;\n",
       "    }\n",
       "\n",
       "    .dataframe tbody tr th {\n",
       "        vertical-align: top;\n",
       "    }\n",
       "\n",
       "    .dataframe thead th {\n",
       "        text-align: right;\n",
       "    }\n",
       "</style>\n",
       "<table border=\"1\" class=\"dataframe\">\n",
       "  <thead>\n",
       "    <tr style=\"text-align: right;\">\n",
       "      <th></th>\n",
       "      <th>Model</th>\n",
       "      <th>Accuracy</th>\n",
       "      <th>AUC</th>\n",
       "      <th>Recall</th>\n",
       "      <th>Prec.</th>\n",
       "      <th>F1</th>\n",
       "      <th>Kappa</th>\n",
       "      <th>MCC</th>\n",
       "    </tr>\n",
       "  </thead>\n",
       "  <tbody>\n",
       "    <tr>\n",
       "      <th>0</th>\n",
       "      <td>Voting Classifier</td>\n",
       "      <td>0.6953</td>\n",
       "      <td>0.7652</td>\n",
       "      <td>0.6546</td>\n",
       "      <td>0.7555</td>\n",
       "      <td>0.7015</td>\n",
       "      <td>0.3935</td>\n",
       "      <td>0.3978</td>\n",
       "    </tr>\n",
       "  </tbody>\n",
       "</table>\n",
       "</div>"
      ],
      "text/plain": [
       "               Model  Accuracy     AUC  Recall   Prec.      F1   Kappa     MCC\n",
       "0  Voting Classifier    0.6953  0.7652  0.6546  0.7555  0.7015  0.3935  0.3978"
      ]
     },
     "metadata": {},
     "output_type": "display_data"
    }
   ],
   "source": [
    "pred_holdout = predict_model(blended)"
   ]
  },
  {
   "cell_type": "code",
   "execution_count": 36,
   "metadata": {},
   "outputs": [],
   "source": [
    "final_model = finalize_model(blended)"
   ]
  },
  {
   "cell_type": "code",
   "execution_count": 37,
   "metadata": {},
   "outputs": [],
   "source": [
    "predictions = predict_model(final_model, data = test)"
   ]
  },
  {
   "cell_type": "markdown",
   "metadata": {},
   "source": [
    "# 4. 예측"
   ]
  },
  {
   "cell_type": "code",
   "execution_count": 38,
   "metadata": {},
   "outputs": [],
   "source": [
    "submission['voted'] = predictions['Score']"
   ]
  },
  {
   "cell_type": "markdown",
   "metadata": {},
   "source": [
    "# 5. 제출"
   ]
  },
  {
   "cell_type": "code",
   "execution_count": 39,
   "metadata": {},
   "outputs": [],
   "source": [
    "submission.to_csv('output/20201001-1-O_-log1p+dynamic.csv')"
   ]
  },
  {
   "cell_type": "code",
   "execution_count": null,
   "metadata": {},
   "outputs": [],
   "source": []
  }
 ],
 "metadata": {
  "kernelspec": {
   "display_name": "Python 3",
   "language": "python",
   "name": "python3"
  },
  "language_info": {
   "codemirror_mode": {
    "name": "ipython",
    "version": 3
   },
   "file_extension": ".py",
   "mimetype": "text/x-python",
   "name": "python",
   "nbconvert_exporter": "python",
   "pygments_lexer": "ipython3",
   "version": "3.7.6"
  }
 },
 "nbformat": 4,
 "nbformat_minor": 4
}
