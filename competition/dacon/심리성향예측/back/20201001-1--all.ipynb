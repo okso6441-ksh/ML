{
 "cells": [
  {
   "cell_type": "code",
   "execution_count": 1,
   "metadata": {},
   "outputs": [],
   "source": [
    "import numpy as np\n",
    "import pandas as pd\n",
    "import matplotlib.pyplot as plt\n",
    "import seaborn as sns\n",
    "import warnings\n",
    "warnings.filterwarnings('ignore')\n",
    "%matplotlib inline\n",
    "\n",
    "from IPython.core.interactiveshell import InteractiveShell\n",
    "InteractiveShell.ast_node_interactivity = \"all\"\n",
    "\n",
    "np.random.seed(42)\n",
    "\n",
    "from sklearn.model_selection import train_test_split\n",
    "import lightgbm as lgbm\n",
    "from sklearn.metrics import confusion_matrix, accuracy_score"
   ]
  },
  {
   "cell_type": "markdown",
   "metadata": {},
   "source": [
    "# 1. 데이터 로드"
   ]
  },
  {
   "cell_type": "code",
   "execution_count": 2,
   "metadata": {},
   "outputs": [],
   "source": [
    "train=pd.read_csv('input/train.csv', index_col=0) #인덱스 col=0도 check!\n",
    "test=pd.read_csv('input/test_x.csv', index_col=0)\n",
    "submission=pd.read_csv('input/sample_submission.csv', index_col=0)  "
   ]
  },
  {
   "cell_type": "code",
   "execution_count": null,
   "metadata": {},
   "outputs": [],
   "source": [
    "train.shape, test.shape, submission.shape\n",
    "train.head(3)\n",
    "test.head(3)\n",
    "submission.head(3)"
   ]
  },
  {
   "cell_type": "markdown",
   "metadata": {},
   "source": [
    "# 2. EDA & 전처리"
   ]
  },
  {
   "cell_type": "code",
   "execution_count": null,
   "metadata": {},
   "outputs": [],
   "source": [
    "df = pd.concat([train, test])\n",
    "df.shape"
   ]
  },
  {
   "cell_type": "code",
   "execution_count": null,
   "metadata": {},
   "outputs": [],
   "source": [
    "train.info"
   ]
  },
  {
   "cell_type": "markdown",
   "metadata": {},
   "source": [
    "## Missing Value"
   ]
  },
  {
   "cell_type": "code",
   "execution_count": null,
   "metadata": {},
   "outputs": [],
   "source": [
    "train.isnull().sum().sum()\n",
    "test.isnull().sum().sum()"
   ]
  },
  {
   "cell_type": "code",
   "execution_count": null,
   "metadata": {},
   "outputs": [],
   "source": []
  },
  {
   "cell_type": "markdown",
   "metadata": {},
   "source": [
    "## Target 분포"
   ]
  },
  {
   "cell_type": "code",
   "execution_count": null,
   "metadata": {},
   "outputs": [],
   "source": [
    "f, ax = plt.subplots(1, 2, figsize=(10, 4))\n",
    "\n",
    "train['voted'].value_counts().plot.pie(autopct='%1.1f%%', ax=ax[0], shadow=True)\n",
    "sns.countplot('voted', data=train, ax=ax[1])\n",
    "\n",
    "plt.show()\n",
    "\n",
    "# 균일"
   ]
  },
  {
   "cell_type": "code",
   "execution_count": null,
   "metadata": {},
   "outputs": [],
   "source": []
  },
  {
   "cell_type": "markdown",
   "metadata": {},
   "source": [
    "## 컬럼 분류"
   ]
  },
  {
   "cell_type": "code",
   "execution_count": 3,
   "metadata": {},
   "outputs": [
    {
     "data": {
      "text/html": [
       "<div>\n",
       "<style scoped>\n",
       "    .dataframe tbody tr th:only-of-type {\n",
       "        vertical-align: middle;\n",
       "    }\n",
       "\n",
       "    .dataframe tbody tr th {\n",
       "        vertical-align: top;\n",
       "    }\n",
       "\n",
       "    .dataframe thead th {\n",
       "        text-align: right;\n",
       "    }\n",
       "</style>\n",
       "<table border=\"1\" class=\"dataframe\">\n",
       "  <thead>\n",
       "    <tr style=\"text-align: right;\">\n",
       "      <th></th>\n",
       "      <th>gbn</th>\n",
       "      <th>dtl</th>\n",
       "    </tr>\n",
       "    <tr>\n",
       "      <th>col</th>\n",
       "      <th></th>\n",
       "      <th></th>\n",
       "    </tr>\n",
       "  </thead>\n",
       "  <tbody>\n",
       "    <tr>\n",
       "      <th>QaA</th>\n",
       "      <td>Q_A</td>\n",
       "      <td>a</td>\n",
       "    </tr>\n",
       "    <tr>\n",
       "      <th>QaE</th>\n",
       "      <td>Q_E</td>\n",
       "      <td>a</td>\n",
       "    </tr>\n",
       "    <tr>\n",
       "      <th>QbA</th>\n",
       "      <td>Q_A</td>\n",
       "      <td>b</td>\n",
       "    </tr>\n",
       "    <tr>\n",
       "      <th>QbE</th>\n",
       "      <td>Q_E</td>\n",
       "      <td>b</td>\n",
       "    </tr>\n",
       "    <tr>\n",
       "      <th>QcA</th>\n",
       "      <td>Q_A</td>\n",
       "      <td>c</td>\n",
       "    </tr>\n",
       "    <tr>\n",
       "      <th>...</th>\n",
       "      <td>...</td>\n",
       "      <td>...</td>\n",
       "    </tr>\n",
       "    <tr>\n",
       "      <th>wr_09</th>\n",
       "      <td>wr</td>\n",
       "      <td></td>\n",
       "    </tr>\n",
       "    <tr>\n",
       "      <th>wr_10</th>\n",
       "      <td>wr</td>\n",
       "      <td></td>\n",
       "    </tr>\n",
       "    <tr>\n",
       "      <th>wr_11</th>\n",
       "      <td>wr</td>\n",
       "      <td></td>\n",
       "    </tr>\n",
       "    <tr>\n",
       "      <th>wr_12</th>\n",
       "      <td>wr</td>\n",
       "      <td></td>\n",
       "    </tr>\n",
       "    <tr>\n",
       "      <th>wr_13</th>\n",
       "      <td>wr</td>\n",
       "      <td></td>\n",
       "    </tr>\n",
       "  </tbody>\n",
       "</table>\n",
       "<p>77 rows × 2 columns</p>\n",
       "</div>"
      ],
      "text/plain": [
       "       gbn dtl\n",
       "col           \n",
       "QaA    Q_A   a\n",
       "QaE    Q_E   a\n",
       "QbA    Q_A   b\n",
       "QbE    Q_E   b\n",
       "QcA    Q_A   c\n",
       "...    ...  ..\n",
       "wr_09   wr    \n",
       "wr_10   wr    \n",
       "wr_11   wr    \n",
       "wr_12   wr    \n",
       "wr_13   wr    \n",
       "\n",
       "[77 rows x 2 columns]"
      ]
     },
     "execution_count": 3,
     "metadata": {},
     "output_type": "execute_result"
    }
   ],
   "source": [
    "data = []\n",
    "\n",
    "for f in train.columns:\n",
    "    dtl = ''\n",
    "    if f == 'voted':\n",
    "        gubun = 'target'\n",
    "    elif 'Q' in f:\n",
    "        dtl = f[1]\n",
    "        if 'A' in f:\n",
    "            gubun = 'Q_A'\n",
    "        if 'E' in f:\n",
    "            gubun = 'Q_E'\n",
    "    elif 'tp' in f:           \n",
    "        gubun = 'tp'            \n",
    "    elif 'wf' in f:           \n",
    "        gubun = 'wf'\n",
    "    elif 'wr' in f:           \n",
    "        gubun = 'wr'    \n",
    "    else:\n",
    "        gubun = 'cat'\n",
    "        \n",
    "    f_dict = {\n",
    "        'col':f,\n",
    "        'gbn':gubun,\n",
    "        'dtl':dtl\n",
    "    }\n",
    "            \n",
    "    data.append(f_dict)\n",
    "    \n",
    "meta = pd.DataFrame(data, columns =['col', 'gbn', 'dtl'])\n",
    "meta.set_index('col', inplace=True)\n",
    "meta"
   ]
  },
  {
   "cell_type": "markdown",
   "metadata": {},
   "source": [
    "### Q_A"
   ]
  },
  {
   "cell_type": "code",
   "execution_count": null,
   "metadata": {},
   "outputs": [],
   "source": [
    "Q_A = meta[meta.gbn=='Q_A'].index\n",
    "train[Q_A].describe()\n",
    "train[Q_A].head(3)"
   ]
  },
  {
   "cell_type": "code",
   "execution_count": null,
   "metadata": {},
   "outputs": [],
   "source": []
  },
  {
   "cell_type": "markdown",
   "metadata": {},
   "source": [
    "### Q_A 1/5 count"
   ]
  },
  {
   "cell_type": "code",
   "execution_count": null,
   "metadata": {},
   "outputs": [],
   "source": [
    "# Q_A: 1~5 1/5 극단값 선택한 count 추출\n",
    "train['Q1'] = 0\n",
    "train['Q3'] = 0\n",
    "train['Q5'] = 0\n",
    "\n",
    "test['Q1'] = 0\n",
    "test['Q3'] = 0\n",
    "test['Q5'] = 0"
   ]
  },
  {
   "cell_type": "code",
   "execution_count": null,
   "metadata": {},
   "outputs": [],
   "source": [
    "%%time\n",
    "for f in Q_A:\n",
    "    for i, v in enumerate(train[f]):\n",
    "        if v == 1:\n",
    "            train.loc[i, 'Q1'] = train.loc[i, 'Q1']+1\n",
    "        elif v == 3:\n",
    "            train.loc[i, 'Q3'] = train.loc[i, 'Q3']+1\n",
    "        elif v == 5:\n",
    "            train.loc[i, 'Q5'] = train.loc[i, 'Q5']+1            "
   ]
  },
  {
   "cell_type": "code",
   "execution_count": null,
   "metadata": {},
   "outputs": [],
   "source": [
    "%%time\n",
    "for f in Q_A:\n",
    "    for i, v in enumerate(test[f]):\n",
    "        if v == 1:\n",
    "            test.loc[i, 'Q1'] = test.loc[i, 'Q1']+1\n",
    "        elif v == 3:\n",
    "            test.loc[i, 'Q3'] = test.loc[i, 'Q3']+1            \n",
    "        elif v == 5:\n",
    "            test.loc[i, 'Q5'] = test.loc[i, 'Q5']+1                        "
   ]
  },
  {
   "cell_type": "code",
   "execution_count": null,
   "metadata": {},
   "outputs": [],
   "source": []
  },
  {
   "cell_type": "code",
   "execution_count": null,
   "metadata": {},
   "outputs": [],
   "source": [
    "colQ_As = Q_A.tolist()\n",
    "colQ_As.extend(['Q1','Q3','Q5', 'voted'])\n",
    "\n",
    "corr_Q_A = train[colQ_As].corr()\n",
    "\n",
    "mask = np.zeros_like(corr_Q_A, dtype=np.bool)\n",
    "mask[np.triu_indices_from(mask)] = True\n",
    "plt.figure(figsize=(18, 12))\n",
    "plt.title('colQ_As', fontsize=18)\n",
    "\n",
    "sns.heatmap(corr_Q_A, mask=mask, annot=True,cmap='RdYlGn', linewidths=0.2, annot_kws={'size':10})\n",
    "plt.show()"
   ]
  },
  {
   "cell_type": "code",
   "execution_count": null,
   "metadata": {},
   "outputs": [],
   "source": [
    "corr_Q_A['voted'].abs().sort_values(ascending=False)"
   ]
  },
  {
   "cell_type": "code",
   "execution_count": null,
   "metadata": {},
   "outputs": [],
   "source": []
  },
  {
   "cell_type": "markdown",
   "metadata": {},
   "source": [
    "### Q_E"
   ]
  },
  {
   "cell_type": "code",
   "execution_count": null,
   "metadata": {},
   "outputs": [],
   "source": [
    "Q_E = meta[meta.gbn == 'Q_E'].index\n",
    "train[Q_E].describe()\n",
    "train[Q_E].head()"
   ]
  },
  {
   "cell_type": "code",
   "execution_count": null,
   "metadata": {},
   "outputs": [],
   "source": [
    "for f in Q_E:\n",
    "    g = sns.FacetGrid(train, col='voted').map(sns.distplot, f)"
   ]
  },
  {
   "cell_type": "code",
   "execution_count": null,
   "metadata": {},
   "outputs": [],
   "source": [
    "for f in Q_E:\n",
    "    print(f, train[f].min(), train[f].max())"
   ]
  },
  {
   "cell_type": "code",
   "execution_count": null,
   "metadata": {},
   "outputs": [],
   "source": []
  },
  {
   "cell_type": "code",
   "execution_count": null,
   "metadata": {},
   "outputs": [],
   "source": [
    "colQ_Es = Q_E.tolist()\n",
    "colQ_Es.extend(['voted'])\n",
    "\n",
    "corr_Q_E = train[colQ_Es].corr()\n",
    "\n",
    "mask = np.zeros_like(corr_Q_E, dtype=np.bool)\n",
    "mask[np.triu_indices_from(mask)] = True\n",
    "plt.figure(figsize=(18, 12))\n",
    "plt.title('colQ_ES', fontsize=18)\n",
    "\n",
    "sns.heatmap(corr_Q_E, mask=mask, annot=True,cmap='RdYlGn', linewidths=0.2, annot_kws={'size':10})\n",
    "plt.show()"
   ]
  },
  {
   "cell_type": "code",
   "execution_count": null,
   "metadata": {},
   "outputs": [],
   "source": []
  },
  {
   "cell_type": "markdown",
   "metadata": {},
   "source": [
    "#### skew"
   ]
  },
  {
   "cell_type": "code",
   "execution_count": null,
   "metadata": {},
   "outputs": [],
   "source": [
    "for f in Q_E:\n",
    "    train[f] = np.log1p(train[f])\n",
    "    test[f] = np.log1p(test[f])"
   ]
  },
  {
   "cell_type": "code",
   "execution_count": null,
   "metadata": {},
   "outputs": [],
   "source": []
  },
  {
   "cell_type": "markdown",
   "metadata": {},
   "source": [
    "### tp"
   ]
  },
  {
   "cell_type": "code",
   "execution_count": null,
   "metadata": {},
   "outputs": [],
   "source": [
    "# 0~7 \n",
    "tp = meta[meta.gbn=='tp'].index\n",
    "train[tp].describe()\n",
    "train[tp].head(3)"
   ]
  },
  {
   "cell_type": "code",
   "execution_count": null,
   "metadata": {},
   "outputs": [],
   "source": [
    "for f in tp:\n",
    "    g = sns.FacetGrid(train, col='voted').map(sns.distplot, f)"
   ]
  },
  {
   "cell_type": "code",
   "execution_count": null,
   "metadata": {},
   "outputs": [],
   "source": [
    "col_tps = tp.tolist()\n",
    "col_tps.extend(['voted'])\n",
    "\n",
    "corr_tp = train[col_tps].corr()\n",
    "\n",
    "mask = np.zeros_like(corr_tp, dtype=np.bool)\n",
    "mask[np.triu_indices_from(mask)] = True\n",
    "plt.figure(figsize=(18, 12))\n",
    "plt.title('col_tpS', fontsize=18)\n",
    "\n",
    "sns.heatmap(corr_tp, mask=mask, annot=True,cmap='RdYlGn', linewidths=0.2, annot_kws={'size':10})\n",
    "plt.show()"
   ]
  },
  {
   "cell_type": "code",
   "execution_count": null,
   "metadata": {},
   "outputs": [],
   "source": []
  },
  {
   "cell_type": "code",
   "execution_count": null,
   "metadata": {},
   "outputs": [],
   "source": [
    "# tp: 1,7 극단값 선택한 count 추출, 4 중간값 선택 count \n",
    "train['tp17'] = 0\n",
    "train['tp4'] = 0\n",
    "\n",
    "test['tp17'] = 0\n",
    "test['tp4'] = 0"
   ]
  },
  {
   "cell_type": "code",
   "execution_count": null,
   "metadata": {},
   "outputs": [],
   "source": [
    "%%time\n",
    "for f in tp:\n",
    "    for i, v in enumerate(train[f]):\n",
    "        if (v == 1 | v == 7):\n",
    "            train.loc[i, 'tp17'] = train.loc[i, 'tp17']+1\n",
    "        if v == 4:\n",
    "            train.loc[i, 'tp4'] = train.loc[i, 'tp4']+1            "
   ]
  },
  {
   "cell_type": "code",
   "execution_count": null,
   "metadata": {},
   "outputs": [],
   "source": [
    "%%time\n",
    "for f in tp:\n",
    "    for i, v in enumerate(test[f]):\n",
    "        if (v == 1 | v == 7):\n",
    "            test.loc[i, 'tp17'] = test.loc[i, 'tp17']+1\n",
    "        if v == 4:\n",
    "            test.loc[i, 'tp4'] = test.loc[i, 'tp4']+1            "
   ]
  },
  {
   "cell_type": "code",
   "execution_count": null,
   "metadata": {},
   "outputs": [],
   "source": []
  },
  {
   "cell_type": "markdown",
   "metadata": {},
   "source": [
    "#### 극단값 중간값"
   ]
  },
  {
   "cell_type": "code",
   "execution_count": null,
   "metadata": {},
   "outputs": [],
   "source": [
    "train.columns.values"
   ]
  },
  {
   "cell_type": "code",
   "execution_count": null,
   "metadata": {},
   "outputs": [],
   "source": [
    "train['QA15tp17'] = train['Q1'] + train['Q5'] + train['tp17']\n",
    "train['QA3tp4'] = train['Q3'] + train['tp4']"
   ]
  },
  {
   "cell_type": "code",
   "execution_count": null,
   "metadata": {},
   "outputs": [],
   "source": [
    "test['QA15tp17'] = test['Q1'] + test['Q5'] + test['tp17']\n",
    "test['QA3tp4'] = test['Q3'] + test['tp4']"
   ]
  },
  {
   "cell_type": "code",
   "execution_count": null,
   "metadata": {},
   "outputs": [],
   "source": []
  },
  {
   "cell_type": "markdown",
   "metadata": {},
   "source": [
    "#### ratio"
   ]
  },
  {
   "cell_type": "code",
   "execution_count": null,
   "metadata": {},
   "outputs": [],
   "source": [
    "pd.options.display.max_columns = 100\n",
    "train"
   ]
  },
  {
   "cell_type": "code",
   "execution_count": null,
   "metadata": {},
   "outputs": [],
   "source": [
    "train['Q1'] = train['Q1'] /20\n",
    "train['Q3'] = train['Q3'] /20\n",
    "train['Q5'] = train['Q5'] /20\n",
    "\n",
    "train['tp17'] = train['tp17'] /10\n",
    "train['tp4'] = train['tp4'] /10\n",
    "\n",
    "train['QA15tp17'] = train['QA15tp17'] /30\n",
    "train['QA3tp4'] = train['QA3tp4'] /30"
   ]
  },
  {
   "cell_type": "code",
   "execution_count": null,
   "metadata": {},
   "outputs": [],
   "source": [
    "test['Q1'] = test['Q1'] /20\n",
    "test['Q3'] = test['Q3'] /20\n",
    "test['Q5'] = test['Q5'] /20\n",
    "\n",
    "test['tp17'] = test['tp17'] /10\n",
    "test['tp4'] = test['tp4'] /10\n",
    "\n",
    "test['QA15tp17'] = test['QA15tp17'] /30\n",
    "test['QA3tp4'] = test['QA3tp4'] /30"
   ]
  },
  {
   "cell_type": "code",
   "execution_count": null,
   "metadata": {},
   "outputs": [],
   "source": []
  },
  {
   "cell_type": "code",
   "execution_count": null,
   "metadata": {},
   "outputs": [],
   "source": []
  },
  {
   "cell_type": "code",
   "execution_count": null,
   "metadata": {},
   "outputs": [],
   "source": []
  },
  {
   "cell_type": "code",
   "execution_count": null,
   "metadata": {},
   "outputs": [],
   "source": [
    "meta.gbn.unique()"
   ]
  },
  {
   "cell_type": "code",
   "execution_count": null,
   "metadata": {},
   "outputs": [],
   "source": [
    "# 0/1\n",
    "wf = meta[meta.gbn=='wf'].index\n",
    "train[wf].describe()\n",
    "train[wf].head(3)"
   ]
  },
  {
   "cell_type": "code",
   "execution_count": null,
   "metadata": {},
   "outputs": [],
   "source": [
    "# 0/1\n",
    "wr = meta[meta.gbn=='wr'].index\n",
    "train[wr].describe()\n",
    "train[wr].head(3)"
   ]
  },
  {
   "cell_type": "code",
   "execution_count": null,
   "metadata": {},
   "outputs": [],
   "source": []
  },
  {
   "cell_type": "code",
   "execution_count": null,
   "metadata": {},
   "outputs": [],
   "source": [
    "corr = train.corr()\n",
    "corr['voted'].abs().sort_values(ascending=False)[:20]\n",
    "corr['voted'].abs().sort_values(ascending=False)[60:]"
   ]
  },
  {
   "cell_type": "code",
   "execution_count": null,
   "metadata": {},
   "outputs": [],
   "source": []
  },
  {
   "cell_type": "markdown",
   "metadata": {},
   "source": [
    "### CAT EDA"
   ]
  },
  {
   "cell_type": "code",
   "execution_count": null,
   "metadata": {},
   "outputs": [],
   "source": [
    "meta[meta.gbn == 'cat']"
   ]
  },
  {
   "cell_type": "code",
   "execution_count": null,
   "metadata": {},
   "outputs": [],
   "source": [
    "train['voted0'] = train['voted']\n",
    "train.loc[train.voted0 == 2, 'voted0'] = 0\n",
    "train.voted0.value_counts()"
   ]
  },
  {
   "cell_type": "markdown",
   "metadata": {},
   "source": [
    "#### age_group"
   ]
  },
  {
   "cell_type": "code",
   "execution_count": null,
   "metadata": {},
   "outputs": [],
   "source": [
    "def cat_summary(col):\n",
    "    print('colname: ', col)\n",
    "    print(train[col].value_counts())\n",
    "    return pd.crosstab(train[col], train['voted0'], margins=True).style.background_gradient(cmap='summer_r')"
   ]
  },
  {
   "cell_type": "code",
   "execution_count": null,
   "metadata": {},
   "outputs": [],
   "source": [
    "def cat_plot(col):\n",
    "    print('colname: ', col)\n",
    "    return train[[col, 'voted0']].groupby([col], as_index=True).mean().sort_values(by='voted0', ascending=False).plot.bar()"
   ]
  },
  {
   "cell_type": "code",
   "execution_count": null,
   "metadata": {
    "scrolled": false
   },
   "outputs": [],
   "source": [
    "for f in meta[meta.gbn == 'cat'].index:\n",
    "    cat_summary(f)"
   ]
  },
  {
   "cell_type": "code",
   "execution_count": null,
   "metadata": {},
   "outputs": [],
   "source": [
    "for f in meta[meta.gbn == 'cat'].index:\n",
    "    cat_plot(f)"
   ]
  },
  {
   "cell_type": "code",
   "execution_count": null,
   "metadata": {},
   "outputs": [],
   "source": []
  },
  {
   "cell_type": "markdown",
   "metadata": {},
   "source": [
    "## Target Encoding"
   ]
  },
  {
   "cell_type": "markdown",
   "metadata": {},
   "source": [
    "### age_group"
   ]
  },
  {
   "cell_type": "code",
   "execution_count": 4,
   "metadata": {},
   "outputs": [],
   "source": [
    "train['age_group_int'] = train['age_group'].str.replace('s','').astype('int')\n",
    "test['age_group_int'] = test['age_group'].str.replace('s','').astype('int')"
   ]
  },
  {
   "cell_type": "code",
   "execution_count": 5,
   "metadata": {},
   "outputs": [],
   "source": [
    "train['age_group_n_rows'] = train['age_group_int'].map(train.groupby('age_group_int').size())\n",
    "test['age_group_n_rows'] = test['age_group_int'].map(test.groupby('age_group_int').size())"
   ]
  },
  {
   "cell_type": "code",
   "execution_count": 6,
   "metadata": {},
   "outputs": [],
   "source": [
    "age_group_mean = train.groupby('age_group_int')['voted'].mean()\n",
    "train['age_group_mean'] = train['age_group_int'].map(age_group_mean)\n",
    "test['age_group_mean'] = test['age_group_int'].map(age_group_mean)"
   ]
  },
  {
   "cell_type": "code",
   "execution_count": 7,
   "metadata": {},
   "outputs": [],
   "source": [
    "# train['voted'].mean() = 1.5468242115435298\n",
    "def smoothing(n_rows, target_mean): \n",
    "    return (target_mean*n_rows + 1.5468242115435298*0.8) / (n_rows + 0.8)"
   ]
  },
  {
   "cell_type": "code",
   "execution_count": 8,
   "metadata": {},
   "outputs": [],
   "source": [
    "train['age_group_mean_smoothing'] = train.apply(lambda x:smoothing(x['age_group_n_rows'], x['age_group_mean']), axis=1)\n",
    "test['age_group_mean_smoothing'] = test.apply(lambda x:smoothing(x['age_group_n_rows'], x['age_group_mean']), axis=1)"
   ]
  },
  {
   "cell_type": "code",
   "execution_count": 9,
   "metadata": {},
   "outputs": [],
   "source": [
    "train.drop(['age_group_int','age_group_mean', 'age_group_n_rows'], axis=1, inplace=True)\n",
    "test.drop(['age_group_int','age_group_mean', 'age_group_n_rows'], axis=1, inplace=True)"
   ]
  },
  {
   "cell_type": "code",
   "execution_count": null,
   "metadata": {},
   "outputs": [],
   "source": []
  },
  {
   "cell_type": "markdown",
   "metadata": {},
   "source": [
    "## Outlier"
   ]
  },
  {
   "cell_type": "code",
   "execution_count": null,
   "metadata": {},
   "outputs": [],
   "source": [
    "test.familysize.max(), test.familysize.mean(), train[train.familysize < 30]['familysize'].mean()"
   ]
  },
  {
   "cell_type": "code",
   "execution_count": null,
   "metadata": {},
   "outputs": [],
   "source": [
    "train[train.familysize > 20][['voted', 'familysize']]"
   ]
  },
  {
   "cell_type": "code",
   "execution_count": 10,
   "metadata": {},
   "outputs": [],
   "source": [
    "train.loc[train[train.familysize > 25].index, 'familysize'] = 2.6"
   ]
  },
  {
   "cell_type": "code",
   "execution_count": null,
   "metadata": {},
   "outputs": [],
   "source": [
    "train['familysize'].value_counts()"
   ]
  },
  {
   "cell_type": "markdown",
   "metadata": {},
   "source": [
    "## 인코딩"
   ]
  },
  {
   "cell_type": "code",
   "execution_count": null,
   "metadata": {},
   "outputs": [],
   "source": []
  },
  {
   "cell_type": "code",
   "execution_count": null,
   "metadata": {},
   "outputs": [],
   "source": [
    "#age_group, gender, race, religion\n",
    "#train['age_group'] = train['age_group'].str.replace('s','').astype('int')\n",
    "train['gender']= pd.factorize(train['gender'])[0]\n",
    "train['race']=pd.factorize(train['race'])[0]\n",
    "train['religion']=pd.factorize(train['religion'])[0]\n",
    "\n",
    "#test['age_group'] = test['age_group'].str.replace('s','').astype('int')\n",
    "test['gender']=pd.factorize(test['gender'])[0]\n",
    "test['race']=pd.factorize(test['race'])[0]\n",
    "test['religion']=pd.factorize(test['religion'])[0]"
   ]
  },
  {
   "cell_type": "markdown",
   "metadata": {},
   "source": [
    "### One-hot"
   ]
  },
  {
   "cell_type": "code",
   "execution_count": null,
   "metadata": {
    "scrolled": false
   },
   "outputs": [],
   "source": [
    "train = pd.get_dummies(train, columns=['age_group', 'education', 'engnat', 'gender', 'hand',\n",
    "       'married', 'race', 'religion', 'tp01', 'tp02', 'tp03', 'tp04', 'tp05',\n",
    "       'tp06', 'tp07', 'tp08', 'tp09', 'tp10', 'urban', 'wf_01',\n",
    "       'wf_02', 'wf_03', 'wr_01', 'wr_02', 'wr_03', 'wr_04', 'wr_05', 'wr_06',\n",
    "       'wr_07', 'wr_08', 'wr_09', 'wr_10', 'wr_11', 'wr_12', 'wr_13'])\n",
    "train"
   ]
  },
  {
   "cell_type": "code",
   "execution_count": null,
   "metadata": {},
   "outputs": [],
   "source": [
    "test = pd.get_dummies(test, columns=['age_group', 'education', 'engnat', 'gender', 'hand',\n",
    "       'married', 'race', 'religion', 'tp01', 'tp02', 'tp03', 'tp04', 'tp05',\n",
    "       'tp06', 'tp07', 'tp08', 'tp09', 'tp10', 'urban', 'wf_01',\n",
    "       'wf_02', 'wf_03', 'wr_01', 'wr_02', 'wr_03', 'wr_04', 'wr_05', 'wr_06',\n",
    "       'wr_07', 'wr_08', 'wr_09', 'wr_10', 'wr_11', 'wr_12', 'wr_13'])\n",
    "test"
   ]
  },
  {
   "cell_type": "code",
   "execution_count": null,
   "metadata": {},
   "outputs": [],
   "source": [
    "train.shape, test.shape\n",
    "train.columns.values\n",
    "test.columns.values"
   ]
  },
  {
   "cell_type": "code",
   "execution_count": null,
   "metadata": {},
   "outputs": [],
   "source": []
  },
  {
   "cell_type": "markdown",
   "metadata": {},
   "source": [
    "# 3. 모델 학습"
   ]
  },
  {
   "cell_type": "code",
   "execution_count": 11,
   "metadata": {},
   "outputs": [],
   "source": [
    "from pycaret.classification import *"
   ]
  },
  {
   "cell_type": "code",
   "execution_count": 12,
   "metadata": {},
   "outputs": [
    {
     "data": {
      "text/plain": [
       "32"
      ]
     },
     "execution_count": 12,
     "metadata": {},
     "output_type": "execute_result"
    }
   ],
   "source": [
    "import gc\n",
    "gc.collect()"
   ]
  },
  {
   "cell_type": "code",
   "execution_count": 13,
   "metadata": {},
   "outputs": [
    {
     "data": {
      "text/plain": [
       "['QaA',\n",
       " 'QbA',\n",
       " 'QcA',\n",
       " 'QdA',\n",
       " 'QeA',\n",
       " 'QfA',\n",
       " 'QgA',\n",
       " 'QhA',\n",
       " 'QiA',\n",
       " 'QjA',\n",
       " 'QkA',\n",
       " 'QlA',\n",
       " 'QmA',\n",
       " 'QnA',\n",
       " 'QoA',\n",
       " 'QpA',\n",
       " 'QqA',\n",
       " 'QrA',\n",
       " 'QsA',\n",
       " 'QtA',\n",
       " 'age_group',\n",
       " 'education',\n",
       " 'engnat',\n",
       " 'familysize',\n",
       " 'gender',\n",
       " 'hand',\n",
       " 'married',\n",
       " 'race',\n",
       " 'religion',\n",
       " 'urban']"
      ]
     },
     "execution_count": 13,
     "metadata": {},
     "output_type": "execute_result"
    }
   ],
   "source": [
    "col_cat = meta[(meta.gbn == 'Q_A') | (meta.gbn == 'cat')].index.values.tolist()\n",
    "col_cat"
   ]
  },
  {
   "cell_type": "code",
   "execution_count": null,
   "metadata": {},
   "outputs": [],
   "source": []
  },
  {
   "cell_type": "code",
   "execution_count": null,
   "metadata": {},
   "outputs": [],
   "source": []
  },
  {
   "cell_type": "code",
   "execution_count": null,
   "metadata": {},
   "outputs": [],
   "source": [
    "col_numeric = ['Q1','Q3','Q5', 'tp17','tp4', 'QA15tp17', 'QA3tp4']\n",
    "col_numeric"
   ]
  },
  {
   "cell_type": "code",
   "execution_count": null,
   "metadata": {},
   "outputs": [],
   "source": [
    "#col_ignore = meta[(meta.gbn == 'wf') | (meta.gbn == 'wr')].index.values.tolist()\n",
    "#col_ignore = meta[(meta.gbn == 'Q_E')].index.values.tolist()\n",
    "col_ignore = []"
   ]
  },
  {
   "cell_type": "code",
   "execution_count": 14,
   "metadata": {
    "scrolled": false
   },
   "outputs": [
    {
     "name": "stdout",
     "output_type": "stream",
     "text": [
      "Setup Succesfully Completed!\n"
     ]
    },
    {
     "data": {
      "text/html": [
       "<style  type=\"text/css\" >\n",
       "#T_e2bedf6e_03cd_11eb_bd21_00e0201808a0row32_col1,#T_e2bedf6e_03cd_11eb_bd21_00e0201808a0row37_col1{\n",
       "            background-color:  lightgreen;\n",
       "        }</style><table id=\"T_e2bedf6e_03cd_11eb_bd21_00e0201808a0\" ><thead>    <tr>        <th class=\"blank level0\" ></th>        <th class=\"col_heading level0 col0\" >Description</th>        <th class=\"col_heading level0 col1\" >Value</th>    </tr></thead><tbody>\n",
       "                <tr>\n",
       "                        <th id=\"T_e2bedf6e_03cd_11eb_bd21_00e0201808a0level0_row0\" class=\"row_heading level0 row0\" >0</th>\n",
       "                        <td id=\"T_e2bedf6e_03cd_11eb_bd21_00e0201808a0row0_col0\" class=\"data row0 col0\" >session_id</td>\n",
       "                        <td id=\"T_e2bedf6e_03cd_11eb_bd21_00e0201808a0row0_col1\" class=\"data row0 col1\" >42</td>\n",
       "            </tr>\n",
       "            <tr>\n",
       "                        <th id=\"T_e2bedf6e_03cd_11eb_bd21_00e0201808a0level0_row1\" class=\"row_heading level0 row1\" >1</th>\n",
       "                        <td id=\"T_e2bedf6e_03cd_11eb_bd21_00e0201808a0row1_col0\" class=\"data row1 col0\" >Target Type</td>\n",
       "                        <td id=\"T_e2bedf6e_03cd_11eb_bd21_00e0201808a0row1_col1\" class=\"data row1 col1\" >Binary</td>\n",
       "            </tr>\n",
       "            <tr>\n",
       "                        <th id=\"T_e2bedf6e_03cd_11eb_bd21_00e0201808a0level0_row2\" class=\"row_heading level0 row2\" >2</th>\n",
       "                        <td id=\"T_e2bedf6e_03cd_11eb_bd21_00e0201808a0row2_col0\" class=\"data row2 col0\" >Label Encoded</td>\n",
       "                        <td id=\"T_e2bedf6e_03cd_11eb_bd21_00e0201808a0row2_col1\" class=\"data row2 col1\" >1: 0, 2: 1</td>\n",
       "            </tr>\n",
       "            <tr>\n",
       "                        <th id=\"T_e2bedf6e_03cd_11eb_bd21_00e0201808a0level0_row3\" class=\"row_heading level0 row3\" >3</th>\n",
       "                        <td id=\"T_e2bedf6e_03cd_11eb_bd21_00e0201808a0row3_col0\" class=\"data row3 col0\" >Original Data</td>\n",
       "                        <td id=\"T_e2bedf6e_03cd_11eb_bd21_00e0201808a0row3_col1\" class=\"data row3 col1\" >(45532, 78)</td>\n",
       "            </tr>\n",
       "            <tr>\n",
       "                        <th id=\"T_e2bedf6e_03cd_11eb_bd21_00e0201808a0level0_row4\" class=\"row_heading level0 row4\" >4</th>\n",
       "                        <td id=\"T_e2bedf6e_03cd_11eb_bd21_00e0201808a0row4_col0\" class=\"data row4 col0\" >Missing Values </td>\n",
       "                        <td id=\"T_e2bedf6e_03cd_11eb_bd21_00e0201808a0row4_col1\" class=\"data row4 col1\" >False</td>\n",
       "            </tr>\n",
       "            <tr>\n",
       "                        <th id=\"T_e2bedf6e_03cd_11eb_bd21_00e0201808a0level0_row5\" class=\"row_heading level0 row5\" >5</th>\n",
       "                        <td id=\"T_e2bedf6e_03cd_11eb_bd21_00e0201808a0row5_col0\" class=\"data row5 col0\" >Numeric Features </td>\n",
       "                        <td id=\"T_e2bedf6e_03cd_11eb_bd21_00e0201808a0row5_col1\" class=\"data row5 col1\" >21</td>\n",
       "            </tr>\n",
       "            <tr>\n",
       "                        <th id=\"T_e2bedf6e_03cd_11eb_bd21_00e0201808a0level0_row6\" class=\"row_heading level0 row6\" >6</th>\n",
       "                        <td id=\"T_e2bedf6e_03cd_11eb_bd21_00e0201808a0row6_col0\" class=\"data row6 col0\" >Categorical Features </td>\n",
       "                        <td id=\"T_e2bedf6e_03cd_11eb_bd21_00e0201808a0row6_col1\" class=\"data row6 col1\" >56</td>\n",
       "            </tr>\n",
       "            <tr>\n",
       "                        <th id=\"T_e2bedf6e_03cd_11eb_bd21_00e0201808a0level0_row7\" class=\"row_heading level0 row7\" >7</th>\n",
       "                        <td id=\"T_e2bedf6e_03cd_11eb_bd21_00e0201808a0row7_col0\" class=\"data row7 col0\" >Ordinal Features </td>\n",
       "                        <td id=\"T_e2bedf6e_03cd_11eb_bd21_00e0201808a0row7_col1\" class=\"data row7 col1\" >False</td>\n",
       "            </tr>\n",
       "            <tr>\n",
       "                        <th id=\"T_e2bedf6e_03cd_11eb_bd21_00e0201808a0level0_row8\" class=\"row_heading level0 row8\" >8</th>\n",
       "                        <td id=\"T_e2bedf6e_03cd_11eb_bd21_00e0201808a0row8_col0\" class=\"data row8 col0\" >High Cardinality Features </td>\n",
       "                        <td id=\"T_e2bedf6e_03cd_11eb_bd21_00e0201808a0row8_col1\" class=\"data row8 col1\" >False</td>\n",
       "            </tr>\n",
       "            <tr>\n",
       "                        <th id=\"T_e2bedf6e_03cd_11eb_bd21_00e0201808a0level0_row9\" class=\"row_heading level0 row9\" >9</th>\n",
       "                        <td id=\"T_e2bedf6e_03cd_11eb_bd21_00e0201808a0row9_col0\" class=\"data row9 col0\" >High Cardinality Method </td>\n",
       "                        <td id=\"T_e2bedf6e_03cd_11eb_bd21_00e0201808a0row9_col1\" class=\"data row9 col1\" >None</td>\n",
       "            </tr>\n",
       "            <tr>\n",
       "                        <th id=\"T_e2bedf6e_03cd_11eb_bd21_00e0201808a0level0_row10\" class=\"row_heading level0 row10\" >10</th>\n",
       "                        <td id=\"T_e2bedf6e_03cd_11eb_bd21_00e0201808a0row10_col0\" class=\"data row10 col0\" >Sampled Data</td>\n",
       "                        <td id=\"T_e2bedf6e_03cd_11eb_bd21_00e0201808a0row10_col1\" class=\"data row10 col1\" >(36425, 78)</td>\n",
       "            </tr>\n",
       "            <tr>\n",
       "                        <th id=\"T_e2bedf6e_03cd_11eb_bd21_00e0201808a0level0_row11\" class=\"row_heading level0 row11\" >11</th>\n",
       "                        <td id=\"T_e2bedf6e_03cd_11eb_bd21_00e0201808a0row11_col0\" class=\"data row11 col0\" >Transformed Train Set</td>\n",
       "                        <td id=\"T_e2bedf6e_03cd_11eb_bd21_00e0201808a0row11_col1\" class=\"data row11 col1\" >(25497, 310)</td>\n",
       "            </tr>\n",
       "            <tr>\n",
       "                        <th id=\"T_e2bedf6e_03cd_11eb_bd21_00e0201808a0level0_row12\" class=\"row_heading level0 row12\" >12</th>\n",
       "                        <td id=\"T_e2bedf6e_03cd_11eb_bd21_00e0201808a0row12_col0\" class=\"data row12 col0\" >Transformed Test Set</td>\n",
       "                        <td id=\"T_e2bedf6e_03cd_11eb_bd21_00e0201808a0row12_col1\" class=\"data row12 col1\" >(10928, 310)</td>\n",
       "            </tr>\n",
       "            <tr>\n",
       "                        <th id=\"T_e2bedf6e_03cd_11eb_bd21_00e0201808a0level0_row13\" class=\"row_heading level0 row13\" >13</th>\n",
       "                        <td id=\"T_e2bedf6e_03cd_11eb_bd21_00e0201808a0row13_col0\" class=\"data row13 col0\" >Numeric Imputer </td>\n",
       "                        <td id=\"T_e2bedf6e_03cd_11eb_bd21_00e0201808a0row13_col1\" class=\"data row13 col1\" >mean</td>\n",
       "            </tr>\n",
       "            <tr>\n",
       "                        <th id=\"T_e2bedf6e_03cd_11eb_bd21_00e0201808a0level0_row14\" class=\"row_heading level0 row14\" >14</th>\n",
       "                        <td id=\"T_e2bedf6e_03cd_11eb_bd21_00e0201808a0row14_col0\" class=\"data row14 col0\" >Categorical Imputer </td>\n",
       "                        <td id=\"T_e2bedf6e_03cd_11eb_bd21_00e0201808a0row14_col1\" class=\"data row14 col1\" >constant</td>\n",
       "            </tr>\n",
       "            <tr>\n",
       "                        <th id=\"T_e2bedf6e_03cd_11eb_bd21_00e0201808a0level0_row15\" class=\"row_heading level0 row15\" >15</th>\n",
       "                        <td id=\"T_e2bedf6e_03cd_11eb_bd21_00e0201808a0row15_col0\" class=\"data row15 col0\" >Normalize </td>\n",
       "                        <td id=\"T_e2bedf6e_03cd_11eb_bd21_00e0201808a0row15_col1\" class=\"data row15 col1\" >False</td>\n",
       "            </tr>\n",
       "            <tr>\n",
       "                        <th id=\"T_e2bedf6e_03cd_11eb_bd21_00e0201808a0level0_row16\" class=\"row_heading level0 row16\" >16</th>\n",
       "                        <td id=\"T_e2bedf6e_03cd_11eb_bd21_00e0201808a0row16_col0\" class=\"data row16 col0\" >Normalize Method </td>\n",
       "                        <td id=\"T_e2bedf6e_03cd_11eb_bd21_00e0201808a0row16_col1\" class=\"data row16 col1\" >None</td>\n",
       "            </tr>\n",
       "            <tr>\n",
       "                        <th id=\"T_e2bedf6e_03cd_11eb_bd21_00e0201808a0level0_row17\" class=\"row_heading level0 row17\" >17</th>\n",
       "                        <td id=\"T_e2bedf6e_03cd_11eb_bd21_00e0201808a0row17_col0\" class=\"data row17 col0\" >Transformation </td>\n",
       "                        <td id=\"T_e2bedf6e_03cd_11eb_bd21_00e0201808a0row17_col1\" class=\"data row17 col1\" >False</td>\n",
       "            </tr>\n",
       "            <tr>\n",
       "                        <th id=\"T_e2bedf6e_03cd_11eb_bd21_00e0201808a0level0_row18\" class=\"row_heading level0 row18\" >18</th>\n",
       "                        <td id=\"T_e2bedf6e_03cd_11eb_bd21_00e0201808a0row18_col0\" class=\"data row18 col0\" >Transformation Method </td>\n",
       "                        <td id=\"T_e2bedf6e_03cd_11eb_bd21_00e0201808a0row18_col1\" class=\"data row18 col1\" >None</td>\n",
       "            </tr>\n",
       "            <tr>\n",
       "                        <th id=\"T_e2bedf6e_03cd_11eb_bd21_00e0201808a0level0_row19\" class=\"row_heading level0 row19\" >19</th>\n",
       "                        <td id=\"T_e2bedf6e_03cd_11eb_bd21_00e0201808a0row19_col0\" class=\"data row19 col0\" >PCA </td>\n",
       "                        <td id=\"T_e2bedf6e_03cd_11eb_bd21_00e0201808a0row19_col1\" class=\"data row19 col1\" >False</td>\n",
       "            </tr>\n",
       "            <tr>\n",
       "                        <th id=\"T_e2bedf6e_03cd_11eb_bd21_00e0201808a0level0_row20\" class=\"row_heading level0 row20\" >20</th>\n",
       "                        <td id=\"T_e2bedf6e_03cd_11eb_bd21_00e0201808a0row20_col0\" class=\"data row20 col0\" >PCA Method </td>\n",
       "                        <td id=\"T_e2bedf6e_03cd_11eb_bd21_00e0201808a0row20_col1\" class=\"data row20 col1\" >None</td>\n",
       "            </tr>\n",
       "            <tr>\n",
       "                        <th id=\"T_e2bedf6e_03cd_11eb_bd21_00e0201808a0level0_row21\" class=\"row_heading level0 row21\" >21</th>\n",
       "                        <td id=\"T_e2bedf6e_03cd_11eb_bd21_00e0201808a0row21_col0\" class=\"data row21 col0\" >PCA Components </td>\n",
       "                        <td id=\"T_e2bedf6e_03cd_11eb_bd21_00e0201808a0row21_col1\" class=\"data row21 col1\" >None</td>\n",
       "            </tr>\n",
       "            <tr>\n",
       "                        <th id=\"T_e2bedf6e_03cd_11eb_bd21_00e0201808a0level0_row22\" class=\"row_heading level0 row22\" >22</th>\n",
       "                        <td id=\"T_e2bedf6e_03cd_11eb_bd21_00e0201808a0row22_col0\" class=\"data row22 col0\" >Ignore Low Variance </td>\n",
       "                        <td id=\"T_e2bedf6e_03cd_11eb_bd21_00e0201808a0row22_col1\" class=\"data row22 col1\" >False</td>\n",
       "            </tr>\n",
       "            <tr>\n",
       "                        <th id=\"T_e2bedf6e_03cd_11eb_bd21_00e0201808a0level0_row23\" class=\"row_heading level0 row23\" >23</th>\n",
       "                        <td id=\"T_e2bedf6e_03cd_11eb_bd21_00e0201808a0row23_col0\" class=\"data row23 col0\" >Combine Rare Levels </td>\n",
       "                        <td id=\"T_e2bedf6e_03cd_11eb_bd21_00e0201808a0row23_col1\" class=\"data row23 col1\" >False</td>\n",
       "            </tr>\n",
       "            <tr>\n",
       "                        <th id=\"T_e2bedf6e_03cd_11eb_bd21_00e0201808a0level0_row24\" class=\"row_heading level0 row24\" >24</th>\n",
       "                        <td id=\"T_e2bedf6e_03cd_11eb_bd21_00e0201808a0row24_col0\" class=\"data row24 col0\" >Rare Level Threshold </td>\n",
       "                        <td id=\"T_e2bedf6e_03cd_11eb_bd21_00e0201808a0row24_col1\" class=\"data row24 col1\" >None</td>\n",
       "            </tr>\n",
       "            <tr>\n",
       "                        <th id=\"T_e2bedf6e_03cd_11eb_bd21_00e0201808a0level0_row25\" class=\"row_heading level0 row25\" >25</th>\n",
       "                        <td id=\"T_e2bedf6e_03cd_11eb_bd21_00e0201808a0row25_col0\" class=\"data row25 col0\" >Numeric Binning </td>\n",
       "                        <td id=\"T_e2bedf6e_03cd_11eb_bd21_00e0201808a0row25_col1\" class=\"data row25 col1\" >False</td>\n",
       "            </tr>\n",
       "            <tr>\n",
       "                        <th id=\"T_e2bedf6e_03cd_11eb_bd21_00e0201808a0level0_row26\" class=\"row_heading level0 row26\" >26</th>\n",
       "                        <td id=\"T_e2bedf6e_03cd_11eb_bd21_00e0201808a0row26_col0\" class=\"data row26 col0\" >Remove Outliers </td>\n",
       "                        <td id=\"T_e2bedf6e_03cd_11eb_bd21_00e0201808a0row26_col1\" class=\"data row26 col1\" >False</td>\n",
       "            </tr>\n",
       "            <tr>\n",
       "                        <th id=\"T_e2bedf6e_03cd_11eb_bd21_00e0201808a0level0_row27\" class=\"row_heading level0 row27\" >27</th>\n",
       "                        <td id=\"T_e2bedf6e_03cd_11eb_bd21_00e0201808a0row27_col0\" class=\"data row27 col0\" >Outliers Threshold </td>\n",
       "                        <td id=\"T_e2bedf6e_03cd_11eb_bd21_00e0201808a0row27_col1\" class=\"data row27 col1\" >None</td>\n",
       "            </tr>\n",
       "            <tr>\n",
       "                        <th id=\"T_e2bedf6e_03cd_11eb_bd21_00e0201808a0level0_row28\" class=\"row_heading level0 row28\" >28</th>\n",
       "                        <td id=\"T_e2bedf6e_03cd_11eb_bd21_00e0201808a0row28_col0\" class=\"data row28 col0\" >Remove Multicollinearity </td>\n",
       "                        <td id=\"T_e2bedf6e_03cd_11eb_bd21_00e0201808a0row28_col1\" class=\"data row28 col1\" >False</td>\n",
       "            </tr>\n",
       "            <tr>\n",
       "                        <th id=\"T_e2bedf6e_03cd_11eb_bd21_00e0201808a0level0_row29\" class=\"row_heading level0 row29\" >29</th>\n",
       "                        <td id=\"T_e2bedf6e_03cd_11eb_bd21_00e0201808a0row29_col0\" class=\"data row29 col0\" >Multicollinearity Threshold </td>\n",
       "                        <td id=\"T_e2bedf6e_03cd_11eb_bd21_00e0201808a0row29_col1\" class=\"data row29 col1\" >None</td>\n",
       "            </tr>\n",
       "            <tr>\n",
       "                        <th id=\"T_e2bedf6e_03cd_11eb_bd21_00e0201808a0level0_row30\" class=\"row_heading level0 row30\" >30</th>\n",
       "                        <td id=\"T_e2bedf6e_03cd_11eb_bd21_00e0201808a0row30_col0\" class=\"data row30 col0\" >Clustering </td>\n",
       "                        <td id=\"T_e2bedf6e_03cd_11eb_bd21_00e0201808a0row30_col1\" class=\"data row30 col1\" >False</td>\n",
       "            </tr>\n",
       "            <tr>\n",
       "                        <th id=\"T_e2bedf6e_03cd_11eb_bd21_00e0201808a0level0_row31\" class=\"row_heading level0 row31\" >31</th>\n",
       "                        <td id=\"T_e2bedf6e_03cd_11eb_bd21_00e0201808a0row31_col0\" class=\"data row31 col0\" >Clustering Iteration </td>\n",
       "                        <td id=\"T_e2bedf6e_03cd_11eb_bd21_00e0201808a0row31_col1\" class=\"data row31 col1\" >None</td>\n",
       "            </tr>\n",
       "            <tr>\n",
       "                        <th id=\"T_e2bedf6e_03cd_11eb_bd21_00e0201808a0level0_row32\" class=\"row_heading level0 row32\" >32</th>\n",
       "                        <td id=\"T_e2bedf6e_03cd_11eb_bd21_00e0201808a0row32_col0\" class=\"data row32 col0\" >Polynomial Features </td>\n",
       "                        <td id=\"T_e2bedf6e_03cd_11eb_bd21_00e0201808a0row32_col1\" class=\"data row32 col1\" >True</td>\n",
       "            </tr>\n",
       "            <tr>\n",
       "                        <th id=\"T_e2bedf6e_03cd_11eb_bd21_00e0201808a0level0_row33\" class=\"row_heading level0 row33\" >33</th>\n",
       "                        <td id=\"T_e2bedf6e_03cd_11eb_bd21_00e0201808a0row33_col0\" class=\"data row33 col0\" >Polynomial Degree </td>\n",
       "                        <td id=\"T_e2bedf6e_03cd_11eb_bd21_00e0201808a0row33_col1\" class=\"data row33 col1\" >2</td>\n",
       "            </tr>\n",
       "            <tr>\n",
       "                        <th id=\"T_e2bedf6e_03cd_11eb_bd21_00e0201808a0level0_row34\" class=\"row_heading level0 row34\" >34</th>\n",
       "                        <td id=\"T_e2bedf6e_03cd_11eb_bd21_00e0201808a0row34_col0\" class=\"data row34 col0\" >Trignometry Features </td>\n",
       "                        <td id=\"T_e2bedf6e_03cd_11eb_bd21_00e0201808a0row34_col1\" class=\"data row34 col1\" >False</td>\n",
       "            </tr>\n",
       "            <tr>\n",
       "                        <th id=\"T_e2bedf6e_03cd_11eb_bd21_00e0201808a0level0_row35\" class=\"row_heading level0 row35\" >35</th>\n",
       "                        <td id=\"T_e2bedf6e_03cd_11eb_bd21_00e0201808a0row35_col0\" class=\"data row35 col0\" >Polynomial Threshold </td>\n",
       "                        <td id=\"T_e2bedf6e_03cd_11eb_bd21_00e0201808a0row35_col1\" class=\"data row35 col1\" >0.100000</td>\n",
       "            </tr>\n",
       "            <tr>\n",
       "                        <th id=\"T_e2bedf6e_03cd_11eb_bd21_00e0201808a0level0_row36\" class=\"row_heading level0 row36\" >36</th>\n",
       "                        <td id=\"T_e2bedf6e_03cd_11eb_bd21_00e0201808a0row36_col0\" class=\"data row36 col0\" >Group Features </td>\n",
       "                        <td id=\"T_e2bedf6e_03cd_11eb_bd21_00e0201808a0row36_col1\" class=\"data row36 col1\" >False</td>\n",
       "            </tr>\n",
       "            <tr>\n",
       "                        <th id=\"T_e2bedf6e_03cd_11eb_bd21_00e0201808a0level0_row37\" class=\"row_heading level0 row37\" >37</th>\n",
       "                        <td id=\"T_e2bedf6e_03cd_11eb_bd21_00e0201808a0row37_col0\" class=\"data row37 col0\" >Feature Selection </td>\n",
       "                        <td id=\"T_e2bedf6e_03cd_11eb_bd21_00e0201808a0row37_col1\" class=\"data row37 col1\" >True</td>\n",
       "            </tr>\n",
       "            <tr>\n",
       "                        <th id=\"T_e2bedf6e_03cd_11eb_bd21_00e0201808a0level0_row38\" class=\"row_heading level0 row38\" >38</th>\n",
       "                        <td id=\"T_e2bedf6e_03cd_11eb_bd21_00e0201808a0row38_col0\" class=\"data row38 col0\" >Features Selection Threshold </td>\n",
       "                        <td id=\"T_e2bedf6e_03cd_11eb_bd21_00e0201808a0row38_col1\" class=\"data row38 col1\" >0.800000</td>\n",
       "            </tr>\n",
       "            <tr>\n",
       "                        <th id=\"T_e2bedf6e_03cd_11eb_bd21_00e0201808a0level0_row39\" class=\"row_heading level0 row39\" >39</th>\n",
       "                        <td id=\"T_e2bedf6e_03cd_11eb_bd21_00e0201808a0row39_col0\" class=\"data row39 col0\" >Feature Interaction </td>\n",
       "                        <td id=\"T_e2bedf6e_03cd_11eb_bd21_00e0201808a0row39_col1\" class=\"data row39 col1\" >False</td>\n",
       "            </tr>\n",
       "            <tr>\n",
       "                        <th id=\"T_e2bedf6e_03cd_11eb_bd21_00e0201808a0level0_row40\" class=\"row_heading level0 row40\" >40</th>\n",
       "                        <td id=\"T_e2bedf6e_03cd_11eb_bd21_00e0201808a0row40_col0\" class=\"data row40 col0\" >Feature Ratio </td>\n",
       "                        <td id=\"T_e2bedf6e_03cd_11eb_bd21_00e0201808a0row40_col1\" class=\"data row40 col1\" >False</td>\n",
       "            </tr>\n",
       "            <tr>\n",
       "                        <th id=\"T_e2bedf6e_03cd_11eb_bd21_00e0201808a0level0_row41\" class=\"row_heading level0 row41\" >41</th>\n",
       "                        <td id=\"T_e2bedf6e_03cd_11eb_bd21_00e0201808a0row41_col0\" class=\"data row41 col0\" >Interaction Threshold </td>\n",
       "                        <td id=\"T_e2bedf6e_03cd_11eb_bd21_00e0201808a0row41_col1\" class=\"data row41 col1\" >None</td>\n",
       "            </tr>\n",
       "            <tr>\n",
       "                        <th id=\"T_e2bedf6e_03cd_11eb_bd21_00e0201808a0level0_row42\" class=\"row_heading level0 row42\" >42</th>\n",
       "                        <td id=\"T_e2bedf6e_03cd_11eb_bd21_00e0201808a0row42_col0\" class=\"data row42 col0\" >Fix Imbalance</td>\n",
       "                        <td id=\"T_e2bedf6e_03cd_11eb_bd21_00e0201808a0row42_col1\" class=\"data row42 col1\" >False</td>\n",
       "            </tr>\n",
       "            <tr>\n",
       "                        <th id=\"T_e2bedf6e_03cd_11eb_bd21_00e0201808a0level0_row43\" class=\"row_heading level0 row43\" >43</th>\n",
       "                        <td id=\"T_e2bedf6e_03cd_11eb_bd21_00e0201808a0row43_col0\" class=\"data row43 col0\" >Fix Imbalance Method</td>\n",
       "                        <td id=\"T_e2bedf6e_03cd_11eb_bd21_00e0201808a0row43_col1\" class=\"data row43 col1\" >SMOTE</td>\n",
       "            </tr>\n",
       "    </tbody></table>"
      ],
      "text/plain": [
       "<pandas.io.formats.style.Styler at 0x21029899908>"
      ]
     },
     "metadata": {},
     "output_type": "display_data"
    },
    {
     "name": "stdout",
     "output_type": "stream",
     "text": [
      "Wall time: 1min 16s\n"
     ]
    }
   ],
   "source": [
    "%%time\n",
    "clf = setup(session_id=42, \n",
    "            data = train, target = 'voted', polynomial_features=True\n",
    "          , categorical_features=col_cat\n",
    "            #,numeric_features=col_numeric\n",
    "            #,ignore_features =['voted0']\n",
    "            ,feature_selection=True\n",
    "            ,use_gpu=True\n",
    "           )"
   ]
  },
  {
   "cell_type": "code",
   "execution_count": 15,
   "metadata": {},
   "outputs": [
    {
     "data": {
      "text/html": [
       "<style  type=\"text/css\" >\n",
       "    #T_44923874_03d1_11eb_a163_00e0201808a0 th {\n",
       "          text-align: left;\n",
       "    }#T_44923874_03d1_11eb_a163_00e0201808a0row0_col0,#T_44923874_03d1_11eb_a163_00e0201808a0row0_col3,#T_44923874_03d1_11eb_a163_00e0201808a0row0_col4,#T_44923874_03d1_11eb_a163_00e0201808a0row0_col6,#T_44923874_03d1_11eb_a163_00e0201808a0row0_col7,#T_44923874_03d1_11eb_a163_00e0201808a0row1_col0,#T_44923874_03d1_11eb_a163_00e0201808a0row1_col1,#T_44923874_03d1_11eb_a163_00e0201808a0row1_col2,#T_44923874_03d1_11eb_a163_00e0201808a0row1_col3,#T_44923874_03d1_11eb_a163_00e0201808a0row1_col5,#T_44923874_03d1_11eb_a163_00e0201808a0row2_col0,#T_44923874_03d1_11eb_a163_00e0201808a0row2_col1,#T_44923874_03d1_11eb_a163_00e0201808a0row2_col2,#T_44923874_03d1_11eb_a163_00e0201808a0row2_col3,#T_44923874_03d1_11eb_a163_00e0201808a0row2_col4,#T_44923874_03d1_11eb_a163_00e0201808a0row2_col5,#T_44923874_03d1_11eb_a163_00e0201808a0row2_col7,#T_44923874_03d1_11eb_a163_00e0201808a0row3_col0,#T_44923874_03d1_11eb_a163_00e0201808a0row3_col1,#T_44923874_03d1_11eb_a163_00e0201808a0row3_col2,#T_44923874_03d1_11eb_a163_00e0201808a0row3_col3,#T_44923874_03d1_11eb_a163_00e0201808a0row3_col4,#T_44923874_03d1_11eb_a163_00e0201808a0row3_col5,#T_44923874_03d1_11eb_a163_00e0201808a0row3_col6,#T_44923874_03d1_11eb_a163_00e0201808a0row3_col7,#T_44923874_03d1_11eb_a163_00e0201808a0row4_col0,#T_44923874_03d1_11eb_a163_00e0201808a0row4_col1,#T_44923874_03d1_11eb_a163_00e0201808a0row4_col2,#T_44923874_03d1_11eb_a163_00e0201808a0row4_col3,#T_44923874_03d1_11eb_a163_00e0201808a0row4_col4,#T_44923874_03d1_11eb_a163_00e0201808a0row4_col5,#T_44923874_03d1_11eb_a163_00e0201808a0row4_col6,#T_44923874_03d1_11eb_a163_00e0201808a0row4_col7,#T_44923874_03d1_11eb_a163_00e0201808a0row5_col0,#T_44923874_03d1_11eb_a163_00e0201808a0row5_col1,#T_44923874_03d1_11eb_a163_00e0201808a0row5_col2,#T_44923874_03d1_11eb_a163_00e0201808a0row5_col3,#T_44923874_03d1_11eb_a163_00e0201808a0row5_col4,#T_44923874_03d1_11eb_a163_00e0201808a0row5_col5,#T_44923874_03d1_11eb_a163_00e0201808a0row5_col6,#T_44923874_03d1_11eb_a163_00e0201808a0row5_col7,#T_44923874_03d1_11eb_a163_00e0201808a0row6_col0,#T_44923874_03d1_11eb_a163_00e0201808a0row6_col1,#T_44923874_03d1_11eb_a163_00e0201808a0row6_col2,#T_44923874_03d1_11eb_a163_00e0201808a0row6_col3,#T_44923874_03d1_11eb_a163_00e0201808a0row6_col4,#T_44923874_03d1_11eb_a163_00e0201808a0row6_col5,#T_44923874_03d1_11eb_a163_00e0201808a0row6_col6,#T_44923874_03d1_11eb_a163_00e0201808a0row6_col7,#T_44923874_03d1_11eb_a163_00e0201808a0row7_col0,#T_44923874_03d1_11eb_a163_00e0201808a0row7_col1,#T_44923874_03d1_11eb_a163_00e0201808a0row7_col2,#T_44923874_03d1_11eb_a163_00e0201808a0row7_col3,#T_44923874_03d1_11eb_a163_00e0201808a0row7_col4,#T_44923874_03d1_11eb_a163_00e0201808a0row7_col5,#T_44923874_03d1_11eb_a163_00e0201808a0row7_col6,#T_44923874_03d1_11eb_a163_00e0201808a0row7_col7,#T_44923874_03d1_11eb_a163_00e0201808a0row8_col0,#T_44923874_03d1_11eb_a163_00e0201808a0row8_col1,#T_44923874_03d1_11eb_a163_00e0201808a0row8_col2,#T_44923874_03d1_11eb_a163_00e0201808a0row8_col3,#T_44923874_03d1_11eb_a163_00e0201808a0row8_col4,#T_44923874_03d1_11eb_a163_00e0201808a0row8_col5,#T_44923874_03d1_11eb_a163_00e0201808a0row8_col6,#T_44923874_03d1_11eb_a163_00e0201808a0row8_col7,#T_44923874_03d1_11eb_a163_00e0201808a0row9_col0,#T_44923874_03d1_11eb_a163_00e0201808a0row9_col1,#T_44923874_03d1_11eb_a163_00e0201808a0row9_col2,#T_44923874_03d1_11eb_a163_00e0201808a0row9_col3,#T_44923874_03d1_11eb_a163_00e0201808a0row9_col4,#T_44923874_03d1_11eb_a163_00e0201808a0row9_col5,#T_44923874_03d1_11eb_a163_00e0201808a0row9_col6,#T_44923874_03d1_11eb_a163_00e0201808a0row9_col7,#T_44923874_03d1_11eb_a163_00e0201808a0row10_col0,#T_44923874_03d1_11eb_a163_00e0201808a0row10_col1,#T_44923874_03d1_11eb_a163_00e0201808a0row10_col2,#T_44923874_03d1_11eb_a163_00e0201808a0row10_col3,#T_44923874_03d1_11eb_a163_00e0201808a0row10_col4,#T_44923874_03d1_11eb_a163_00e0201808a0row10_col5,#T_44923874_03d1_11eb_a163_00e0201808a0row10_col6,#T_44923874_03d1_11eb_a163_00e0201808a0row10_col7,#T_44923874_03d1_11eb_a163_00e0201808a0row11_col0,#T_44923874_03d1_11eb_a163_00e0201808a0row11_col1,#T_44923874_03d1_11eb_a163_00e0201808a0row11_col2,#T_44923874_03d1_11eb_a163_00e0201808a0row11_col3,#T_44923874_03d1_11eb_a163_00e0201808a0row11_col4,#T_44923874_03d1_11eb_a163_00e0201808a0row11_col5,#T_44923874_03d1_11eb_a163_00e0201808a0row11_col6,#T_44923874_03d1_11eb_a163_00e0201808a0row11_col7,#T_44923874_03d1_11eb_a163_00e0201808a0row12_col0,#T_44923874_03d1_11eb_a163_00e0201808a0row12_col1,#T_44923874_03d1_11eb_a163_00e0201808a0row12_col2,#T_44923874_03d1_11eb_a163_00e0201808a0row12_col3,#T_44923874_03d1_11eb_a163_00e0201808a0row12_col4,#T_44923874_03d1_11eb_a163_00e0201808a0row12_col5,#T_44923874_03d1_11eb_a163_00e0201808a0row12_col6,#T_44923874_03d1_11eb_a163_00e0201808a0row12_col7,#T_44923874_03d1_11eb_a163_00e0201808a0row13_col0,#T_44923874_03d1_11eb_a163_00e0201808a0row13_col1,#T_44923874_03d1_11eb_a163_00e0201808a0row13_col2,#T_44923874_03d1_11eb_a163_00e0201808a0row13_col4,#T_44923874_03d1_11eb_a163_00e0201808a0row13_col5,#T_44923874_03d1_11eb_a163_00e0201808a0row13_col6,#T_44923874_03d1_11eb_a163_00e0201808a0row13_col7,#T_44923874_03d1_11eb_a163_00e0201808a0row14_col0,#T_44923874_03d1_11eb_a163_00e0201808a0row14_col1,#T_44923874_03d1_11eb_a163_00e0201808a0row14_col2,#T_44923874_03d1_11eb_a163_00e0201808a0row14_col3,#T_44923874_03d1_11eb_a163_00e0201808a0row14_col4,#T_44923874_03d1_11eb_a163_00e0201808a0row14_col5,#T_44923874_03d1_11eb_a163_00e0201808a0row14_col6,#T_44923874_03d1_11eb_a163_00e0201808a0row14_col7{\n",
       "            text-align:  left;\n",
       "        }#T_44923874_03d1_11eb_a163_00e0201808a0row0_col1,#T_44923874_03d1_11eb_a163_00e0201808a0row0_col2,#T_44923874_03d1_11eb_a163_00e0201808a0row0_col5,#T_44923874_03d1_11eb_a163_00e0201808a0row1_col4,#T_44923874_03d1_11eb_a163_00e0201808a0row1_col6,#T_44923874_03d1_11eb_a163_00e0201808a0row1_col7,#T_44923874_03d1_11eb_a163_00e0201808a0row2_col6,#T_44923874_03d1_11eb_a163_00e0201808a0row13_col3{\n",
       "            background-color:  yellow;\n",
       "            text-align:  left;\n",
       "        }#T_44923874_03d1_11eb_a163_00e0201808a0row0_col8,#T_44923874_03d1_11eb_a163_00e0201808a0row1_col8,#T_44923874_03d1_11eb_a163_00e0201808a0row2_col8,#T_44923874_03d1_11eb_a163_00e0201808a0row3_col8,#T_44923874_03d1_11eb_a163_00e0201808a0row4_col8,#T_44923874_03d1_11eb_a163_00e0201808a0row5_col8,#T_44923874_03d1_11eb_a163_00e0201808a0row6_col8,#T_44923874_03d1_11eb_a163_00e0201808a0row7_col8,#T_44923874_03d1_11eb_a163_00e0201808a0row8_col8,#T_44923874_03d1_11eb_a163_00e0201808a0row9_col8,#T_44923874_03d1_11eb_a163_00e0201808a0row10_col8,#T_44923874_03d1_11eb_a163_00e0201808a0row11_col8,#T_44923874_03d1_11eb_a163_00e0201808a0row12_col8,#T_44923874_03d1_11eb_a163_00e0201808a0row13_col8,#T_44923874_03d1_11eb_a163_00e0201808a0row14_col8{\n",
       "            background-color:  lightgrey;\n",
       "            text-align:  left;\n",
       "        }</style><table id=\"T_44923874_03d1_11eb_a163_00e0201808a0\" ><thead>    <tr>        <th class=\"blank level0\" ></th>        <th class=\"col_heading level0 col0\" >Model</th>        <th class=\"col_heading level0 col1\" >Accuracy</th>        <th class=\"col_heading level0 col2\" >AUC</th>        <th class=\"col_heading level0 col3\" >Recall</th>        <th class=\"col_heading level0 col4\" >Prec.</th>        <th class=\"col_heading level0 col5\" >F1</th>        <th class=\"col_heading level0 col6\" >Kappa</th>        <th class=\"col_heading level0 col7\" >MCC</th>        <th class=\"col_heading level0 col8\" >TT (Sec)</th>    </tr></thead><tbody>\n",
       "                <tr>\n",
       "                        <th id=\"T_44923874_03d1_11eb_a163_00e0201808a0level0_row0\" class=\"row_heading level0 row0\" >0</th>\n",
       "                        <td id=\"T_44923874_03d1_11eb_a163_00e0201808a0row0_col0\" class=\"data row0 col0\" >CatBoost Classifier</td>\n",
       "                        <td id=\"T_44923874_03d1_11eb_a163_00e0201808a0row0_col1\" class=\"data row0 col1\" >0.6926</td>\n",
       "                        <td id=\"T_44923874_03d1_11eb_a163_00e0201808a0row0_col2\" class=\"data row0 col2\" >0.7634</td>\n",
       "                        <td id=\"T_44923874_03d1_11eb_a163_00e0201808a0row0_col3\" class=\"data row0 col3\" >0.6567</td>\n",
       "                        <td id=\"T_44923874_03d1_11eb_a163_00e0201808a0row0_col4\" class=\"data row0 col4\" >0.7499</td>\n",
       "                        <td id=\"T_44923874_03d1_11eb_a163_00e0201808a0row0_col5\" class=\"data row0 col5\" >0.7002</td>\n",
       "                        <td id=\"T_44923874_03d1_11eb_a163_00e0201808a0row0_col6\" class=\"data row0 col6\" >0.3875</td>\n",
       "                        <td id=\"T_44923874_03d1_11eb_a163_00e0201808a0row0_col7\" class=\"data row0 col7\" >0.3912</td>\n",
       "                        <td id=\"T_44923874_03d1_11eb_a163_00e0201808a0row0_col8\" class=\"data row0 col8\" >19.9118</td>\n",
       "            </tr>\n",
       "            <tr>\n",
       "                        <th id=\"T_44923874_03d1_11eb_a163_00e0201808a0level0_row1\" class=\"row_heading level0 row1\" >1</th>\n",
       "                        <td id=\"T_44923874_03d1_11eb_a163_00e0201808a0row1_col0\" class=\"data row1 col0\" >Gradient Boosting Classifier</td>\n",
       "                        <td id=\"T_44923874_03d1_11eb_a163_00e0201808a0row1_col1\" class=\"data row1 col1\" >0.6917</td>\n",
       "                        <td id=\"T_44923874_03d1_11eb_a163_00e0201808a0row1_col2\" class=\"data row1 col2\" >0.7622</td>\n",
       "                        <td id=\"T_44923874_03d1_11eb_a163_00e0201808a0row1_col3\" class=\"data row1 col3\" >0.6394</td>\n",
       "                        <td id=\"T_44923874_03d1_11eb_a163_00e0201808a0row1_col4\" class=\"data row1 col4\" >0.7589</td>\n",
       "                        <td id=\"T_44923874_03d1_11eb_a163_00e0201808a0row1_col5\" class=\"data row1 col5\" >0.6939</td>\n",
       "                        <td id=\"T_44923874_03d1_11eb_a163_00e0201808a0row1_col6\" class=\"data row1 col6\" >0.3878</td>\n",
       "                        <td id=\"T_44923874_03d1_11eb_a163_00e0201808a0row1_col7\" class=\"data row1 col7\" >0.3937</td>\n",
       "                        <td id=\"T_44923874_03d1_11eb_a163_00e0201808a0row1_col8\" class=\"data row1 col8\" >26.2112</td>\n",
       "            </tr>\n",
       "            <tr>\n",
       "                        <th id=\"T_44923874_03d1_11eb_a163_00e0201808a0level0_row2\" class=\"row_heading level0 row2\" >2</th>\n",
       "                        <td id=\"T_44923874_03d1_11eb_a163_00e0201808a0row2_col0\" class=\"data row2 col0\" >Light Gradient Boosting Machine</td>\n",
       "                        <td id=\"T_44923874_03d1_11eb_a163_00e0201808a0row2_col1\" class=\"data row2 col1\" >0.6922</td>\n",
       "                        <td id=\"T_44923874_03d1_11eb_a163_00e0201808a0row2_col2\" class=\"data row2 col2\" >0.7591</td>\n",
       "                        <td id=\"T_44923874_03d1_11eb_a163_00e0201808a0row2_col3\" class=\"data row2 col3\" >0.6483</td>\n",
       "                        <td id=\"T_44923874_03d1_11eb_a163_00e0201808a0row2_col4\" class=\"data row2 col4\" >0.7543</td>\n",
       "                        <td id=\"T_44923874_03d1_11eb_a163_00e0201808a0row2_col5\" class=\"data row2 col5\" >0.6973</td>\n",
       "                        <td id=\"T_44923874_03d1_11eb_a163_00e0201808a0row2_col6\" class=\"data row2 col6\" >0.3878</td>\n",
       "                        <td id=\"T_44923874_03d1_11eb_a163_00e0201808a0row2_col7\" class=\"data row2 col7\" >0.3925</td>\n",
       "                        <td id=\"T_44923874_03d1_11eb_a163_00e0201808a0row2_col8\" class=\"data row2 col8\" >1.2476</td>\n",
       "            </tr>\n",
       "            <tr>\n",
       "                        <th id=\"T_44923874_03d1_11eb_a163_00e0201808a0level0_row3\" class=\"row_heading level0 row3\" >3</th>\n",
       "                        <td id=\"T_44923874_03d1_11eb_a163_00e0201808a0row3_col0\" class=\"data row3 col0\" >Linear Discriminant Analysis</td>\n",
       "                        <td id=\"T_44923874_03d1_11eb_a163_00e0201808a0row3_col1\" class=\"data row3 col1\" >0.6869</td>\n",
       "                        <td id=\"T_44923874_03d1_11eb_a163_00e0201808a0row3_col2\" class=\"data row3 col2\" >0.7586</td>\n",
       "                        <td id=\"T_44923874_03d1_11eb_a163_00e0201808a0row3_col3\" class=\"data row3 col3\" >0.6594</td>\n",
       "                        <td id=\"T_44923874_03d1_11eb_a163_00e0201808a0row3_col4\" class=\"data row3 col4\" >0.7399</td>\n",
       "                        <td id=\"T_44923874_03d1_11eb_a163_00e0201808a0row3_col5\" class=\"data row3 col5\" >0.6972</td>\n",
       "                        <td id=\"T_44923874_03d1_11eb_a163_00e0201808a0row3_col6\" class=\"data row3 col6\" >0.3754</td>\n",
       "                        <td id=\"T_44923874_03d1_11eb_a163_00e0201808a0row3_col7\" class=\"data row3 col7\" >0.3781</td>\n",
       "                        <td id=\"T_44923874_03d1_11eb_a163_00e0201808a0row3_col8\" class=\"data row3 col8\" >1.2126</td>\n",
       "            </tr>\n",
       "            <tr>\n",
       "                        <th id=\"T_44923874_03d1_11eb_a163_00e0201808a0level0_row4\" class=\"row_heading level0 row4\" >4</th>\n",
       "                        <td id=\"T_44923874_03d1_11eb_a163_00e0201808a0row4_col0\" class=\"data row4 col0\" >Ada Boost Classifier</td>\n",
       "                        <td id=\"T_44923874_03d1_11eb_a163_00e0201808a0row4_col1\" class=\"data row4 col1\" >0.6890</td>\n",
       "                        <td id=\"T_44923874_03d1_11eb_a163_00e0201808a0row4_col2\" class=\"data row4 col2\" >0.7541</td>\n",
       "                        <td id=\"T_44923874_03d1_11eb_a163_00e0201808a0row4_col3\" class=\"data row4 col3\" >0.6532</td>\n",
       "                        <td id=\"T_44923874_03d1_11eb_a163_00e0201808a0row4_col4\" class=\"data row4 col4\" >0.7464</td>\n",
       "                        <td id=\"T_44923874_03d1_11eb_a163_00e0201808a0row4_col5\" class=\"data row4 col5\" >0.6966</td>\n",
       "                        <td id=\"T_44923874_03d1_11eb_a163_00e0201808a0row4_col6\" class=\"data row4 col6\" >0.3805</td>\n",
       "                        <td id=\"T_44923874_03d1_11eb_a163_00e0201808a0row4_col7\" class=\"data row4 col7\" >0.3841</td>\n",
       "                        <td id=\"T_44923874_03d1_11eb_a163_00e0201808a0row4_col8\" class=\"data row4 col8\" >6.5495</td>\n",
       "            </tr>\n",
       "            <tr>\n",
       "                        <th id=\"T_44923874_03d1_11eb_a163_00e0201808a0level0_row5\" class=\"row_heading level0 row5\" >5</th>\n",
       "                        <td id=\"T_44923874_03d1_11eb_a163_00e0201808a0row5_col0\" class=\"data row5 col0\" >Extra Trees Classifier</td>\n",
       "                        <td id=\"T_44923874_03d1_11eb_a163_00e0201808a0row5_col1\" class=\"data row5 col1\" >0.6873</td>\n",
       "                        <td id=\"T_44923874_03d1_11eb_a163_00e0201808a0row5_col2\" class=\"data row5 col2\" >0.7539</td>\n",
       "                        <td id=\"T_44923874_03d1_11eb_a163_00e0201808a0row5_col3\" class=\"data row5 col3\" >0.6304</td>\n",
       "                        <td id=\"T_44923874_03d1_11eb_a163_00e0201808a0row5_col4\" class=\"data row5 col4\" >0.7571</td>\n",
       "                        <td id=\"T_44923874_03d1_11eb_a163_00e0201808a0row5_col5\" class=\"data row5 col5\" >0.6879</td>\n",
       "                        <td id=\"T_44923874_03d1_11eb_a163_00e0201808a0row5_col6\" class=\"data row5 col6\" >0.3798</td>\n",
       "                        <td id=\"T_44923874_03d1_11eb_a163_00e0201808a0row5_col7\" class=\"data row5 col7\" >0.3863</td>\n",
       "                        <td id=\"T_44923874_03d1_11eb_a163_00e0201808a0row5_col8\" class=\"data row5 col8\" >3.4057</td>\n",
       "            </tr>\n",
       "            <tr>\n",
       "                        <th id=\"T_44923874_03d1_11eb_a163_00e0201808a0level0_row6\" class=\"row_heading level0 row6\" >6</th>\n",
       "                        <td id=\"T_44923874_03d1_11eb_a163_00e0201808a0row6_col0\" class=\"data row6 col0\" >Extreme Gradient Boosting</td>\n",
       "                        <td id=\"T_44923874_03d1_11eb_a163_00e0201808a0row6_col1\" class=\"data row6 col1\" >0.6714</td>\n",
       "                        <td id=\"T_44923874_03d1_11eb_a163_00e0201808a0row6_col2\" class=\"data row6 col2\" >0.7389</td>\n",
       "                        <td id=\"T_44923874_03d1_11eb_a163_00e0201808a0row6_col3\" class=\"data row6 col3\" >0.6636</td>\n",
       "                        <td id=\"T_44923874_03d1_11eb_a163_00e0201808a0row6_col4\" class=\"data row6 col4\" >0.7150</td>\n",
       "                        <td id=\"T_44923874_03d1_11eb_a163_00e0201808a0row6_col5\" class=\"data row6 col5\" >0.6883</td>\n",
       "                        <td id=\"T_44923874_03d1_11eb_a163_00e0201808a0row6_col6\" class=\"data row6 col6\" >0.3419</td>\n",
       "                        <td id=\"T_44923874_03d1_11eb_a163_00e0201808a0row6_col7\" class=\"data row6 col7\" >0.3430</td>\n",
       "                        <td id=\"T_44923874_03d1_11eb_a163_00e0201808a0row6_col8\" class=\"data row6 col8\" >13.7655</td>\n",
       "            </tr>\n",
       "            <tr>\n",
       "                        <th id=\"T_44923874_03d1_11eb_a163_00e0201808a0level0_row7\" class=\"row_heading level0 row7\" >7</th>\n",
       "                        <td id=\"T_44923874_03d1_11eb_a163_00e0201808a0row7_col0\" class=\"data row7 col0\" >Random Forest Classifier</td>\n",
       "                        <td id=\"T_44923874_03d1_11eb_a163_00e0201808a0row7_col1\" class=\"data row7 col1\" >0.6553</td>\n",
       "                        <td id=\"T_44923874_03d1_11eb_a163_00e0201808a0row7_col2\" class=\"data row7 col2\" >0.7108</td>\n",
       "                        <td id=\"T_44923874_03d1_11eb_a163_00e0201808a0row7_col3\" class=\"data row7 col3\" >0.5993</td>\n",
       "                        <td id=\"T_44923874_03d1_11eb_a163_00e0201808a0row7_col4\" class=\"data row7 col4\" >0.7230</td>\n",
       "                        <td id=\"T_44923874_03d1_11eb_a163_00e0201808a0row7_col5\" class=\"data row7 col5\" >0.6553</td>\n",
       "                        <td id=\"T_44923874_03d1_11eb_a163_00e0201808a0row7_col6\" class=\"data row7 col6\" >0.3166</td>\n",
       "                        <td id=\"T_44923874_03d1_11eb_a163_00e0201808a0row7_col7\" class=\"data row7 col7\" >0.3222</td>\n",
       "                        <td id=\"T_44923874_03d1_11eb_a163_00e0201808a0row7_col8\" class=\"data row7 col8\" >0.3766</td>\n",
       "            </tr>\n",
       "            <tr>\n",
       "                        <th id=\"T_44923874_03d1_11eb_a163_00e0201808a0level0_row8\" class=\"row_heading level0 row8\" >8</th>\n",
       "                        <td id=\"T_44923874_03d1_11eb_a163_00e0201808a0row8_col0\" class=\"data row8 col0\" >Decision Tree Classifier</td>\n",
       "                        <td id=\"T_44923874_03d1_11eb_a163_00e0201808a0row8_col1\" class=\"data row8 col1\" >0.6045</td>\n",
       "                        <td id=\"T_44923874_03d1_11eb_a163_00e0201808a0row8_col2\" class=\"data row8 col2\" >0.6004</td>\n",
       "                        <td id=\"T_44923874_03d1_11eb_a163_00e0201808a0row8_col3\" class=\"data row8 col3\" >0.6436</td>\n",
       "                        <td id=\"T_44923874_03d1_11eb_a163_00e0201808a0row8_col4\" class=\"data row8 col4\" >0.6369</td>\n",
       "                        <td id=\"T_44923874_03d1_11eb_a163_00e0201808a0row8_col5\" class=\"data row8 col5\" >0.6402</td>\n",
       "                        <td id=\"T_44923874_03d1_11eb_a163_00e0201808a0row8_col6\" class=\"data row8 col6\" >0.2011</td>\n",
       "                        <td id=\"T_44923874_03d1_11eb_a163_00e0201808a0row8_col7\" class=\"data row8 col7\" >0.2011</td>\n",
       "                        <td id=\"T_44923874_03d1_11eb_a163_00e0201808a0row8_col8\" class=\"data row8 col8\" >1.9989</td>\n",
       "            </tr>\n",
       "            <tr>\n",
       "                        <th id=\"T_44923874_03d1_11eb_a163_00e0201808a0level0_row9\" class=\"row_heading level0 row9\" >9</th>\n",
       "                        <td id=\"T_44923874_03d1_11eb_a163_00e0201808a0row9_col0\" class=\"data row9 col0\" >K Neighbors Classifier</td>\n",
       "                        <td id=\"T_44923874_03d1_11eb_a163_00e0201808a0row9_col1\" class=\"data row9 col1\" >0.5128</td>\n",
       "                        <td id=\"T_44923874_03d1_11eb_a163_00e0201808a0row9_col2\" class=\"data row9 col2\" >0.5078</td>\n",
       "                        <td id=\"T_44923874_03d1_11eb_a163_00e0201808a0row9_col3\" class=\"data row9 col3\" >0.5835</td>\n",
       "                        <td id=\"T_44923874_03d1_11eb_a163_00e0201808a0row9_col4\" class=\"data row9 col4\" >0.5515</td>\n",
       "                        <td id=\"T_44923874_03d1_11eb_a163_00e0201808a0row9_col5\" class=\"data row9 col5\" >0.5670</td>\n",
       "                        <td id=\"T_44923874_03d1_11eb_a163_00e0201808a0row9_col6\" class=\"data row9 col6\" >0.0110</td>\n",
       "                        <td id=\"T_44923874_03d1_11eb_a163_00e0201808a0row9_col7\" class=\"data row9 col7\" >0.0110</td>\n",
       "                        <td id=\"T_44923874_03d1_11eb_a163_00e0201808a0row9_col8\" class=\"data row9 col8\" >2.3693</td>\n",
       "            </tr>\n",
       "            <tr>\n",
       "                        <th id=\"T_44923874_03d1_11eb_a163_00e0201808a0level0_row10\" class=\"row_heading level0 row10\" >10</th>\n",
       "                        <td id=\"T_44923874_03d1_11eb_a163_00e0201808a0row10_col0\" class=\"data row10 col0\" >Quadratic Discriminant Analysis</td>\n",
       "                        <td id=\"T_44923874_03d1_11eb_a163_00e0201808a0row10_col1\" class=\"data row10 col1\" >0.4862</td>\n",
       "                        <td id=\"T_44923874_03d1_11eb_a163_00e0201808a0row10_col2\" class=\"data row10 col2\" >0.5067</td>\n",
       "                        <td id=\"T_44923874_03d1_11eb_a163_00e0201808a0row10_col3\" class=\"data row10 col3\" >0.2880</td>\n",
       "                        <td id=\"T_44923874_03d1_11eb_a163_00e0201808a0row10_col4\" class=\"data row10 col4\" >0.6189</td>\n",
       "                        <td id=\"T_44923874_03d1_11eb_a163_00e0201808a0row10_col5\" class=\"data row10 col5\" >0.2667</td>\n",
       "                        <td id=\"T_44923874_03d1_11eb_a163_00e0201808a0row10_col6\" class=\"data row10 col6\" >0.0132</td>\n",
       "                        <td id=\"T_44923874_03d1_11eb_a163_00e0201808a0row10_col7\" class=\"data row10 col7\" >0.0226</td>\n",
       "                        <td id=\"T_44923874_03d1_11eb_a163_00e0201808a0row10_col8\" class=\"data row10 col8\" >0.5495</td>\n",
       "            </tr>\n",
       "            <tr>\n",
       "                        <th id=\"T_44923874_03d1_11eb_a163_00e0201808a0level0_row11\" class=\"row_heading level0 row11\" >11</th>\n",
       "                        <td id=\"T_44923874_03d1_11eb_a163_00e0201808a0row11_col0\" class=\"data row11 col0\" >Logistic Regression</td>\n",
       "                        <td id=\"T_44923874_03d1_11eb_a163_00e0201808a0row11_col1\" class=\"data row11 col1\" >0.4613</td>\n",
       "                        <td id=\"T_44923874_03d1_11eb_a163_00e0201808a0row11_col2\" class=\"data row11 col2\" >0.4967</td>\n",
       "                        <td id=\"T_44923874_03d1_11eb_a163_00e0201808a0row11_col3\" class=\"data row11 col3\" >0.0923</td>\n",
       "                        <td id=\"T_44923874_03d1_11eb_a163_00e0201808a0row11_col4\" class=\"data row11 col4\" >0.0544</td>\n",
       "                        <td id=\"T_44923874_03d1_11eb_a163_00e0201808a0row11_col5\" class=\"data row11 col5\" >0.0684</td>\n",
       "                        <td id=\"T_44923874_03d1_11eb_a163_00e0201808a0row11_col6\" class=\"data row11 col6\" >-0.0012</td>\n",
       "                        <td id=\"T_44923874_03d1_11eb_a163_00e0201808a0row11_col7\" class=\"data row11 col7\" >-0.0021</td>\n",
       "                        <td id=\"T_44923874_03d1_11eb_a163_00e0201808a0row11_col8\" class=\"data row11 col8\" >0.3171</td>\n",
       "            </tr>\n",
       "            <tr>\n",
       "                        <th id=\"T_44923874_03d1_11eb_a163_00e0201808a0level0_row12\" class=\"row_heading level0 row12\" >12</th>\n",
       "                        <td id=\"T_44923874_03d1_11eb_a163_00e0201808a0row12_col0\" class=\"data row12 col0\" >Naive Bayes</td>\n",
       "                        <td id=\"T_44923874_03d1_11eb_a163_00e0201808a0row12_col1\" class=\"data row12 col1\" >0.4627</td>\n",
       "                        <td id=\"T_44923874_03d1_11eb_a163_00e0201808a0row12_col2\" class=\"data row12 col2\" >0.4871</td>\n",
       "                        <td id=\"T_44923874_03d1_11eb_a163_00e0201808a0row12_col3\" class=\"data row12 col3\" >0.1014</td>\n",
       "                        <td id=\"T_44923874_03d1_11eb_a163_00e0201808a0row12_col4\" class=\"data row12 col4\" >0.5655</td>\n",
       "                        <td id=\"T_44923874_03d1_11eb_a163_00e0201808a0row12_col5\" class=\"data row12 col5\" >0.0743</td>\n",
       "                        <td id=\"T_44923874_03d1_11eb_a163_00e0201808a0row12_col6\" class=\"data row12 col6\" >0.0001</td>\n",
       "                        <td id=\"T_44923874_03d1_11eb_a163_00e0201808a0row12_col7\" class=\"data row12 col7\" >0.0009</td>\n",
       "                        <td id=\"T_44923874_03d1_11eb_a163_00e0201808a0row12_col8\" class=\"data row12 col8\" >0.1681</td>\n",
       "            </tr>\n",
       "            <tr>\n",
       "                        <th id=\"T_44923874_03d1_11eb_a163_00e0201808a0level0_row13\" class=\"row_heading level0 row13\" >13</th>\n",
       "                        <td id=\"T_44923874_03d1_11eb_a163_00e0201808a0row13_col0\" class=\"data row13 col0\" >SVM - Linear Kernel</td>\n",
       "                        <td id=\"T_44923874_03d1_11eb_a163_00e0201808a0row13_col1\" class=\"data row13 col1\" >0.5351</td>\n",
       "                        <td id=\"T_44923874_03d1_11eb_a163_00e0201808a0row13_col2\" class=\"data row13 col2\" >0.0000</td>\n",
       "                        <td id=\"T_44923874_03d1_11eb_a163_00e0201808a0row13_col3\" class=\"data row13 col3\" >0.8779</td>\n",
       "                        <td id=\"T_44923874_03d1_11eb_a163_00e0201808a0row13_col4\" class=\"data row13 col4\" >0.5448</td>\n",
       "                        <td id=\"T_44923874_03d1_11eb_a163_00e0201808a0row13_col5\" class=\"data row13 col5\" >0.6338</td>\n",
       "                        <td id=\"T_44923874_03d1_11eb_a163_00e0201808a0row13_col6\" class=\"data row13 col6\" >-0.0006</td>\n",
       "                        <td id=\"T_44923874_03d1_11eb_a163_00e0201808a0row13_col7\" class=\"data row13 col7\" >0.0045</td>\n",
       "                        <td id=\"T_44923874_03d1_11eb_a163_00e0201808a0row13_col8\" class=\"data row13 col8\" >0.8205</td>\n",
       "            </tr>\n",
       "            <tr>\n",
       "                        <th id=\"T_44923874_03d1_11eb_a163_00e0201808a0level0_row14\" class=\"row_heading level0 row14\" >14</th>\n",
       "                        <td id=\"T_44923874_03d1_11eb_a163_00e0201808a0row14_col0\" class=\"data row14 col0\" >Ridge Classifier</td>\n",
       "                        <td id=\"T_44923874_03d1_11eb_a163_00e0201808a0row14_col1\" class=\"data row14 col1\" >0.6871</td>\n",
       "                        <td id=\"T_44923874_03d1_11eb_a163_00e0201808a0row14_col2\" class=\"data row14 col2\" >0.0000</td>\n",
       "                        <td id=\"T_44923874_03d1_11eb_a163_00e0201808a0row14_col3\" class=\"data row14 col3\" >0.6598</td>\n",
       "                        <td id=\"T_44923874_03d1_11eb_a163_00e0201808a0row14_col4\" class=\"data row14 col4\" >0.7399</td>\n",
       "                        <td id=\"T_44923874_03d1_11eb_a163_00e0201808a0row14_col5\" class=\"data row14 col5\" >0.6975</td>\n",
       "                        <td id=\"T_44923874_03d1_11eb_a163_00e0201808a0row14_col6\" class=\"data row14 col6\" >0.3757</td>\n",
       "                        <td id=\"T_44923874_03d1_11eb_a163_00e0201808a0row14_col7\" class=\"data row14 col7\" >0.3785</td>\n",
       "                        <td id=\"T_44923874_03d1_11eb_a163_00e0201808a0row14_col8\" class=\"data row14 col8\" >0.2325</td>\n",
       "            </tr>\n",
       "    </tbody></table>"
      ],
      "text/plain": [
       "<pandas.io.formats.style.Styler at 0x2101310f708>"
      ]
     },
     "metadata": {},
     "output_type": "display_data"
    }
   ],
   "source": [
    "#best_3 = compare_models(sort = 'AUC', n_select = 3)\n",
    "best_5 = compare_models(sort = 'AUC', n_select = 5)"
   ]
  },
  {
   "cell_type": "code",
   "execution_count": null,
   "metadata": {},
   "outputs": [],
   "source": []
  },
  {
   "cell_type": "code",
   "execution_count": 16,
   "metadata": {},
   "outputs": [
    {
     "data": {
      "text/html": [
       "<style  type=\"text/css\" >\n",
       "#T_acc683b0_03d2_11eb_be3c_00e0201808a0row10_col0,#T_acc683b0_03d2_11eb_be3c_00e0201808a0row10_col1,#T_acc683b0_03d2_11eb_be3c_00e0201808a0row10_col2,#T_acc683b0_03d2_11eb_be3c_00e0201808a0row10_col3,#T_acc683b0_03d2_11eb_be3c_00e0201808a0row10_col4,#T_acc683b0_03d2_11eb_be3c_00e0201808a0row10_col5,#T_acc683b0_03d2_11eb_be3c_00e0201808a0row10_col6{\n",
       "            background:  yellow;\n",
       "        }</style><table id=\"T_acc683b0_03d2_11eb_be3c_00e0201808a0\" ><thead>    <tr>        <th class=\"blank level0\" ></th>        <th class=\"col_heading level0 col0\" >Accuracy</th>        <th class=\"col_heading level0 col1\" >AUC</th>        <th class=\"col_heading level0 col2\" >Recall</th>        <th class=\"col_heading level0 col3\" >Prec.</th>        <th class=\"col_heading level0 col4\" >F1</th>        <th class=\"col_heading level0 col5\" >Kappa</th>        <th class=\"col_heading level0 col6\" >MCC</th>    </tr></thead><tbody>\n",
       "                <tr>\n",
       "                        <th id=\"T_acc683b0_03d2_11eb_be3c_00e0201808a0level0_row0\" class=\"row_heading level0 row0\" >0</th>\n",
       "                        <td id=\"T_acc683b0_03d2_11eb_be3c_00e0201808a0row0_col0\" class=\"data row0 col0\" >0.6918</td>\n",
       "                        <td id=\"T_acc683b0_03d2_11eb_be3c_00e0201808a0row0_col1\" class=\"data row0 col1\" >0.7642</td>\n",
       "                        <td id=\"T_acc683b0_03d2_11eb_be3c_00e0201808a0row0_col2\" class=\"data row0 col2\" >0.6387</td>\n",
       "                        <td id=\"T_acc683b0_03d2_11eb_be3c_00e0201808a0row0_col3\" class=\"data row0 col3\" >0.7596</td>\n",
       "                        <td id=\"T_acc683b0_03d2_11eb_be3c_00e0201808a0row0_col4\" class=\"data row0 col4\" >0.6939</td>\n",
       "                        <td id=\"T_acc683b0_03d2_11eb_be3c_00e0201808a0row0_col5\" class=\"data row0 col5\" >0.3881</td>\n",
       "                        <td id=\"T_acc683b0_03d2_11eb_be3c_00e0201808a0row0_col6\" class=\"data row0 col6\" >0.3941</td>\n",
       "            </tr>\n",
       "            <tr>\n",
       "                        <th id=\"T_acc683b0_03d2_11eb_be3c_00e0201808a0level0_row1\" class=\"row_heading level0 row1\" >1</th>\n",
       "                        <td id=\"T_acc683b0_03d2_11eb_be3c_00e0201808a0row1_col0\" class=\"data row1 col0\" >0.6976</td>\n",
       "                        <td id=\"T_acc683b0_03d2_11eb_be3c_00e0201808a0row1_col1\" class=\"data row1 col1\" >0.7766</td>\n",
       "                        <td id=\"T_acc683b0_03d2_11eb_be3c_00e0201808a0row1_col2\" class=\"data row1 col2\" >0.6659</td>\n",
       "                        <td id=\"T_acc683b0_03d2_11eb_be3c_00e0201808a0row1_col3\" class=\"data row1 col3\" >0.7528</td>\n",
       "                        <td id=\"T_acc683b0_03d2_11eb_be3c_00e0201808a0row1_col4\" class=\"data row1 col4\" >0.7067</td>\n",
       "                        <td id=\"T_acc683b0_03d2_11eb_be3c_00e0201808a0row1_col5\" class=\"data row1 col5\" >0.3971</td>\n",
       "                        <td id=\"T_acc683b0_03d2_11eb_be3c_00e0201808a0row1_col6\" class=\"data row1 col6\" >0.4003</td>\n",
       "            </tr>\n",
       "            <tr>\n",
       "                        <th id=\"T_acc683b0_03d2_11eb_be3c_00e0201808a0level0_row2\" class=\"row_heading level0 row2\" >2</th>\n",
       "                        <td id=\"T_acc683b0_03d2_11eb_be3c_00e0201808a0row2_col0\" class=\"data row2 col0\" >0.6792</td>\n",
       "                        <td id=\"T_acc683b0_03d2_11eb_be3c_00e0201808a0row2_col1\" class=\"data row2 col1\" >0.7507</td>\n",
       "                        <td id=\"T_acc683b0_03d2_11eb_be3c_00e0201808a0row2_col2\" class=\"data row2 col2\" >0.6385</td>\n",
       "                        <td id=\"T_acc683b0_03d2_11eb_be3c_00e0201808a0row2_col3\" class=\"data row2 col3\" >0.7392</td>\n",
       "                        <td id=\"T_acc683b0_03d2_11eb_be3c_00e0201808a0row2_col4\" class=\"data row2 col4\" >0.6851</td>\n",
       "                        <td id=\"T_acc683b0_03d2_11eb_be3c_00e0201808a0row2_col5\" class=\"data row2 col5\" >0.3617</td>\n",
       "                        <td id=\"T_acc683b0_03d2_11eb_be3c_00e0201808a0row2_col6\" class=\"data row2 col6\" >0.3658</td>\n",
       "            </tr>\n",
       "            <tr>\n",
       "                        <th id=\"T_acc683b0_03d2_11eb_be3c_00e0201808a0level0_row3\" class=\"row_heading level0 row3\" >3</th>\n",
       "                        <td id=\"T_acc683b0_03d2_11eb_be3c_00e0201808a0row3_col0\" class=\"data row3 col0\" >0.6973</td>\n",
       "                        <td id=\"T_acc683b0_03d2_11eb_be3c_00e0201808a0row3_col1\" class=\"data row3 col1\" >0.7608</td>\n",
       "                        <td id=\"T_acc683b0_03d2_11eb_be3c_00e0201808a0row3_col2\" class=\"data row3 col2\" >0.6406</td>\n",
       "                        <td id=\"T_acc683b0_03d2_11eb_be3c_00e0201808a0row3_col3\" class=\"data row3 col3\" >0.7672</td>\n",
       "                        <td id=\"T_acc683b0_03d2_11eb_be3c_00e0201808a0row3_col4\" class=\"data row3 col4\" >0.6982</td>\n",
       "                        <td id=\"T_acc683b0_03d2_11eb_be3c_00e0201808a0row3_col5\" class=\"data row3 col5\" >0.3994</td>\n",
       "                        <td id=\"T_acc683b0_03d2_11eb_be3c_00e0201808a0row3_col6\" class=\"data row3 col6\" >0.4059</td>\n",
       "            </tr>\n",
       "            <tr>\n",
       "                        <th id=\"T_acc683b0_03d2_11eb_be3c_00e0201808a0level0_row4\" class=\"row_heading level0 row4\" >4</th>\n",
       "                        <td id=\"T_acc683b0_03d2_11eb_be3c_00e0201808a0row4_col0\" class=\"data row4 col0\" >0.6890</td>\n",
       "                        <td id=\"T_acc683b0_03d2_11eb_be3c_00e0201808a0row4_col1\" class=\"data row4 col1\" >0.7582</td>\n",
       "                        <td id=\"T_acc683b0_03d2_11eb_be3c_00e0201808a0row4_col2\" class=\"data row4 col2\" >0.6485</td>\n",
       "                        <td id=\"T_acc683b0_03d2_11eb_be3c_00e0201808a0row4_col3\" class=\"data row4 col3\" >0.7490</td>\n",
       "                        <td id=\"T_acc683b0_03d2_11eb_be3c_00e0201808a0row4_col4\" class=\"data row4 col4\" >0.6951</td>\n",
       "                        <td id=\"T_acc683b0_03d2_11eb_be3c_00e0201808a0row4_col5\" class=\"data row4 col5\" >0.3811</td>\n",
       "                        <td id=\"T_acc683b0_03d2_11eb_be3c_00e0201808a0row4_col6\" class=\"data row4 col6\" >0.3852</td>\n",
       "            </tr>\n",
       "            <tr>\n",
       "                        <th id=\"T_acc683b0_03d2_11eb_be3c_00e0201808a0level0_row5\" class=\"row_heading level0 row5\" >5</th>\n",
       "                        <td id=\"T_acc683b0_03d2_11eb_be3c_00e0201808a0row5_col0\" class=\"data row5 col0\" >0.6886</td>\n",
       "                        <td id=\"T_acc683b0_03d2_11eb_be3c_00e0201808a0row5_col1\" class=\"data row5 col1\" >0.7595</td>\n",
       "                        <td id=\"T_acc683b0_03d2_11eb_be3c_00e0201808a0row5_col2\" class=\"data row5 col2\" >0.6449</td>\n",
       "                        <td id=\"T_acc683b0_03d2_11eb_be3c_00e0201808a0row5_col3\" class=\"data row5 col3\" >0.7504</td>\n",
       "                        <td id=\"T_acc683b0_03d2_11eb_be3c_00e0201808a0row5_col4\" class=\"data row5 col4\" >0.6937</td>\n",
       "                        <td id=\"T_acc683b0_03d2_11eb_be3c_00e0201808a0row5_col5\" class=\"data row5 col5\" >0.3807</td>\n",
       "                        <td id=\"T_acc683b0_03d2_11eb_be3c_00e0201808a0row5_col6\" class=\"data row5 col6\" >0.3853</td>\n",
       "            </tr>\n",
       "            <tr>\n",
       "                        <th id=\"T_acc683b0_03d2_11eb_be3c_00e0201808a0level0_row6\" class=\"row_heading level0 row6\" >6</th>\n",
       "                        <td id=\"T_acc683b0_03d2_11eb_be3c_00e0201808a0row6_col0\" class=\"data row6 col0\" >0.6910</td>\n",
       "                        <td id=\"T_acc683b0_03d2_11eb_be3c_00e0201808a0row6_col1\" class=\"data row6 col1\" >0.7685</td>\n",
       "                        <td id=\"T_acc683b0_03d2_11eb_be3c_00e0201808a0row6_col2\" class=\"data row6 col2\" >0.6463</td>\n",
       "                        <td id=\"T_acc683b0_03d2_11eb_be3c_00e0201808a0row6_col3\" class=\"data row6 col3\" >0.7533</td>\n",
       "                        <td id=\"T_acc683b0_03d2_11eb_be3c_00e0201808a0row6_col4\" class=\"data row6 col4\" >0.6958</td>\n",
       "                        <td id=\"T_acc683b0_03d2_11eb_be3c_00e0201808a0row6_col5\" class=\"data row6 col5\" >0.3855</td>\n",
       "                        <td id=\"T_acc683b0_03d2_11eb_be3c_00e0201808a0row6_col6\" class=\"data row6 col6\" >0.3902</td>\n",
       "            </tr>\n",
       "            <tr>\n",
       "                        <th id=\"T_acc683b0_03d2_11eb_be3c_00e0201808a0level0_row7\" class=\"row_heading level0 row7\" >7</th>\n",
       "                        <td id=\"T_acc683b0_03d2_11eb_be3c_00e0201808a0row7_col0\" class=\"data row7 col0\" >0.7120</td>\n",
       "                        <td id=\"T_acc683b0_03d2_11eb_be3c_00e0201808a0row7_col1\" class=\"data row7 col1\" >0.7801</td>\n",
       "                        <td id=\"T_acc683b0_03d2_11eb_be3c_00e0201808a0row7_col2\" class=\"data row7 col2\" >0.6822</td>\n",
       "                        <td id=\"T_acc683b0_03d2_11eb_be3c_00e0201808a0row7_col3\" class=\"data row7 col3\" >0.7657</td>\n",
       "                        <td id=\"T_acc683b0_03d2_11eb_be3c_00e0201808a0row7_col4\" class=\"data row7 col4\" >0.7215</td>\n",
       "                        <td id=\"T_acc683b0_03d2_11eb_be3c_00e0201808a0row7_col5\" class=\"data row7 col5\" >0.4255</td>\n",
       "                        <td id=\"T_acc683b0_03d2_11eb_be3c_00e0201808a0row7_col6\" class=\"data row7 col6\" >0.4285</td>\n",
       "            </tr>\n",
       "            <tr>\n",
       "                        <th id=\"T_acc683b0_03d2_11eb_be3c_00e0201808a0level0_row8\" class=\"row_heading level0 row8\" >8</th>\n",
       "                        <td id=\"T_acc683b0_03d2_11eb_be3c_00e0201808a0row8_col0\" class=\"data row8 col0\" >0.7015</td>\n",
       "                        <td id=\"T_acc683b0_03d2_11eb_be3c_00e0201808a0row8_col1\" class=\"data row8 col1\" >0.7662</td>\n",
       "                        <td id=\"T_acc683b0_03d2_11eb_be3c_00e0201808a0row8_col2\" class=\"data row8 col2\" >0.6643</td>\n",
       "                        <td id=\"T_acc683b0_03d2_11eb_be3c_00e0201808a0row8_col3\" class=\"data row8 col3\" >0.7596</td>\n",
       "                        <td id=\"T_acc683b0_03d2_11eb_be3c_00e0201808a0row8_col4\" class=\"data row8 col4\" >0.7088</td>\n",
       "                        <td id=\"T_acc683b0_03d2_11eb_be3c_00e0201808a0row8_col5\" class=\"data row8 col5\" >0.4053</td>\n",
       "                        <td id=\"T_acc683b0_03d2_11eb_be3c_00e0201808a0row8_col6\" class=\"data row8 col6\" >0.4092</td>\n",
       "            </tr>\n",
       "            <tr>\n",
       "                        <th id=\"T_acc683b0_03d2_11eb_be3c_00e0201808a0level0_row9\" class=\"row_heading level0 row9\" >9</th>\n",
       "                        <td id=\"T_acc683b0_03d2_11eb_be3c_00e0201808a0row9_col0\" class=\"data row9 col0\" >0.6944</td>\n",
       "                        <td id=\"T_acc683b0_03d2_11eb_be3c_00e0201808a0row9_col1\" class=\"data row9 col1\" >0.7653</td>\n",
       "                        <td id=\"T_acc683b0_03d2_11eb_be3c_00e0201808a0row9_col2\" class=\"data row9 col2\" >0.6593</td>\n",
       "                        <td id=\"T_acc683b0_03d2_11eb_be3c_00e0201808a0row9_col3\" class=\"data row9 col3\" >0.7514</td>\n",
       "                        <td id=\"T_acc683b0_03d2_11eb_be3c_00e0201808a0row9_col4\" class=\"data row9 col4\" >0.7023</td>\n",
       "                        <td id=\"T_acc683b0_03d2_11eb_be3c_00e0201808a0row9_col5\" class=\"data row9 col5\" >0.3911</td>\n",
       "                        <td id=\"T_acc683b0_03d2_11eb_be3c_00e0201808a0row9_col6\" class=\"data row9 col6\" >0.3946</td>\n",
       "            </tr>\n",
       "            <tr>\n",
       "                        <th id=\"T_acc683b0_03d2_11eb_be3c_00e0201808a0level0_row10\" class=\"row_heading level0 row10\" >Mean</th>\n",
       "                        <td id=\"T_acc683b0_03d2_11eb_be3c_00e0201808a0row10_col0\" class=\"data row10 col0\" >0.6942</td>\n",
       "                        <td id=\"T_acc683b0_03d2_11eb_be3c_00e0201808a0row10_col1\" class=\"data row10 col1\" >0.7650</td>\n",
       "                        <td id=\"T_acc683b0_03d2_11eb_be3c_00e0201808a0row10_col2\" class=\"data row10 col2\" >0.6529</td>\n",
       "                        <td id=\"T_acc683b0_03d2_11eb_be3c_00e0201808a0row10_col3\" class=\"data row10 col3\" >0.7548</td>\n",
       "                        <td id=\"T_acc683b0_03d2_11eb_be3c_00e0201808a0row10_col4\" class=\"data row10 col4\" >0.7001</td>\n",
       "                        <td id=\"T_acc683b0_03d2_11eb_be3c_00e0201808a0row10_col5\" class=\"data row10 col5\" >0.3916</td>\n",
       "                        <td id=\"T_acc683b0_03d2_11eb_be3c_00e0201808a0row10_col6\" class=\"data row10 col6\" >0.3959</td>\n",
       "            </tr>\n",
       "            <tr>\n",
       "                        <th id=\"T_acc683b0_03d2_11eb_be3c_00e0201808a0level0_row11\" class=\"row_heading level0 row11\" >SD</th>\n",
       "                        <td id=\"T_acc683b0_03d2_11eb_be3c_00e0201808a0row11_col0\" class=\"data row11 col0\" >0.0083</td>\n",
       "                        <td id=\"T_acc683b0_03d2_11eb_be3c_00e0201808a0row11_col1\" class=\"data row11 col1\" >0.0082</td>\n",
       "                        <td id=\"T_acc683b0_03d2_11eb_be3c_00e0201808a0row11_col2\" class=\"data row11 col2\" >0.0137</td>\n",
       "                        <td id=\"T_acc683b0_03d2_11eb_be3c_00e0201808a0row11_col3\" class=\"data row11 col3\" >0.0080</td>\n",
       "                        <td id=\"T_acc683b0_03d2_11eb_be3c_00e0201808a0row11_col4\" class=\"data row11 col4\" >0.0097</td>\n",
       "                        <td id=\"T_acc683b0_03d2_11eb_be3c_00e0201808a0row11_col5\" class=\"data row11 col5\" >0.0161</td>\n",
       "                        <td id=\"T_acc683b0_03d2_11eb_be3c_00e0201808a0row11_col6\" class=\"data row11 col6\" >0.0159</td>\n",
       "            </tr>\n",
       "    </tbody></table>"
      ],
      "text/plain": [
       "<pandas.io.formats.style.Styler at 0x2101cb24808>"
      ]
     },
     "metadata": {},
     "output_type": "display_data"
    }
   ],
   "source": [
    "blended = blend_models(estimator_list = best_5, fold = 10, method = 'soft', optimize='AUC')"
   ]
  },
  {
   "cell_type": "code",
   "execution_count": 17,
   "metadata": {},
   "outputs": [
    {
     "data": {
      "text/html": [
       "<div>\n",
       "<style scoped>\n",
       "    .dataframe tbody tr th:only-of-type {\n",
       "        vertical-align: middle;\n",
       "    }\n",
       "\n",
       "    .dataframe tbody tr th {\n",
       "        vertical-align: top;\n",
       "    }\n",
       "\n",
       "    .dataframe thead th {\n",
       "        text-align: right;\n",
       "    }\n",
       "</style>\n",
       "<table border=\"1\" class=\"dataframe\">\n",
       "  <thead>\n",
       "    <tr style=\"text-align: right;\">\n",
       "      <th></th>\n",
       "      <th>Model</th>\n",
       "      <th>Accuracy</th>\n",
       "      <th>AUC</th>\n",
       "      <th>Recall</th>\n",
       "      <th>Prec.</th>\n",
       "      <th>F1</th>\n",
       "      <th>Kappa</th>\n",
       "      <th>MCC</th>\n",
       "    </tr>\n",
       "  </thead>\n",
       "  <tbody>\n",
       "    <tr>\n",
       "      <th>0</th>\n",
       "      <td>Voting Classifier</td>\n",
       "      <td>0.695</td>\n",
       "      <td>0.7656</td>\n",
       "      <td>0.6529</td>\n",
       "      <td>0.7561</td>\n",
       "      <td>0.7007</td>\n",
       "      <td>0.3932</td>\n",
       "      <td>0.3976</td>\n",
       "    </tr>\n",
       "  </tbody>\n",
       "</table>\n",
       "</div>"
      ],
      "text/plain": [
       "               Model  Accuracy     AUC  Recall   Prec.      F1   Kappa     MCC\n",
       "0  Voting Classifier     0.695  0.7656  0.6529  0.7561  0.7007  0.3932  0.3976"
      ]
     },
     "metadata": {},
     "output_type": "display_data"
    }
   ],
   "source": [
    "pred_holdout = predict_model(blended)"
   ]
  },
  {
   "cell_type": "code",
   "execution_count": 18,
   "metadata": {},
   "outputs": [],
   "source": [
    "final_model = finalize_model(blended)"
   ]
  },
  {
   "cell_type": "code",
   "execution_count": 19,
   "metadata": {},
   "outputs": [],
   "source": [
    "predictions = predict_model(final_model, data = test)"
   ]
  },
  {
   "cell_type": "markdown",
   "metadata": {},
   "source": [
    "# 4. 예측"
   ]
  },
  {
   "cell_type": "code",
   "execution_count": 20,
   "metadata": {},
   "outputs": [],
   "source": [
    "submission['voted'] = predictions['Score']"
   ]
  },
  {
   "cell_type": "markdown",
   "metadata": {},
   "source": [
    "# 5. 제출"
   ]
  },
  {
   "cell_type": "code",
   "execution_count": 21,
   "metadata": {},
   "outputs": [],
   "source": [
    "submission.to_csv('output/20201001-1-O-all.csv')"
   ]
  },
  {
   "cell_type": "code",
   "execution_count": null,
   "metadata": {},
   "outputs": [],
   "source": []
  }
 ],
 "metadata": {
  "kernelspec": {
   "display_name": "Python 3",
   "language": "python",
   "name": "python3"
  },
  "language_info": {
   "codemirror_mode": {
    "name": "ipython",
    "version": 3
   },
   "file_extension": ".py",
   "mimetype": "text/x-python",
   "name": "python",
   "nbconvert_exporter": "python",
   "pygments_lexer": "ipython3",
   "version": "3.7.6"
  }
 },
 "nbformat": 4,
 "nbformat_minor": 4
}
