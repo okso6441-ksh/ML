{
 "cells": [
  {
   "cell_type": "code",
   "execution_count": 1,
   "metadata": {},
   "outputs": [],
   "source": [
    "import pandas as pd\n",
    "import numpy as np\n",
    "import datetime as dt\n",
    "import matplotlib.pyplot as plt\n",
    "from tqdm import tqdm\n",
    "import gc\n",
    "import random\n",
    "import warnings\n",
    "warnings.filterwarnings(action='ignore')"
   ]
  },
  {
   "cell_type": "code",
   "execution_count": 2,
   "metadata": {},
   "outputs": [],
   "source": [
    "PATH = './data/'\n",
    "\n",
    "train_err  = pd.read_csv(PATH+'train_err_data.csv')\n",
    "train_qua = pd.read_csv(PATH+'train_quality_data.csv')\n",
    "train_prob = pd.read_csv(PATH+'train_problem_data.csv')\n",
    "\n",
    "test_err  = pd.read_csv(PATH+'test_err_data.csv')\n",
    "test_qua  = pd.read_csv(PATH+'test_quality_data.csv')\n",
    "\n",
    "sample_submssion = pd.read_csv(PATH+'sample_submission.csv')"
   ]
  },
  {
   "cell_type": "code",
   "execution_count": null,
   "metadata": {},
   "outputs": [],
   "source": []
  },
  {
   "cell_type": "code",
   "execution_count": 3,
   "metadata": {},
   "outputs": [
    {
     "name": "stderr",
     "output_type": "stream",
     "text": [
      "100%|██████████████████████████████████████████████████████████████████| 16554663/16554663 [00:49<00:00, 332356.20it/s]\n"
     ]
    },
    {
     "data": {
      "text/plain": [
       "(15000, 42)"
      ]
     },
     "execution_count": 3,
     "metadata": {},
     "output_type": "execute_result"
    }
   ],
   "source": [
    "id_error = train_err[['user_id','errtype']].values\n",
    "\n",
    "train_user_id_max = 24999\n",
    "train_user_id_min = 10000\n",
    "train_user_number = 15000\n",
    "\n",
    "error = np.zeros((train_user_number,42))\n",
    "\n",
    "for person_idx, err in tqdm(id_error):\n",
    "    error[person_idx - train_user_id_min,err - 1] += 1\n",
    "error.shape"
   ]
  },
  {
   "cell_type": "code",
   "execution_count": 4,
   "metadata": {},
   "outputs": [
    {
     "data": {
      "text/plain": [
       "(15000,)"
      ]
     },
     "execution_count": 4,
     "metadata": {},
     "output_type": "execute_result"
    }
   ],
   "source": [
    "problem = np.zeros(15000)\n",
    "\n",
    "problem[train_prob.user_id.unique()-10000] = 1 \n",
    "problem.shape"
   ]
  },
  {
   "cell_type": "code",
   "execution_count": null,
   "metadata": {},
   "outputs": [],
   "source": []
  },
  {
   "cell_type": "code",
   "execution_count": 5,
   "metadata": {},
   "outputs": [
    {
     "name": "stderr",
     "output_type": "stream",
     "text": [
      "100%|██████████████████████████████████████████████████████████████████| 16532648/16532648 [00:51<00:00, 322286.68it/s]"
     ]
    },
    {
     "name": "stdout",
     "output_type": "stream",
     "text": [
      "(14999, 42)\n"
     ]
    },
    {
     "name": "stderr",
     "output_type": "stream",
     "text": [
      "\n"
     ]
    }
   ],
   "source": [
    "test_user_id_max = 44998\n",
    "test_user_id_min = 30000\n",
    "test_user_number = 14999\n",
    "\n",
    "id_error = test_err[['user_id','errtype']].values\n",
    "test_error = np.zeros((test_user_number,42))\n",
    "for person_idx, err in tqdm(id_error):\n",
    "    test_error[person_idx - test_user_id_min,err - 1] += 1\n",
    "test_error = test_error.reshape(test_error.shape[0],-1)\n",
    "print(test_error.shape)"
   ]
  },
  {
   "cell_type": "code",
   "execution_count": null,
   "metadata": {},
   "outputs": [],
   "source": []
  },
  {
   "cell_type": "code",
   "execution_count": null,
   "metadata": {},
   "outputs": [],
   "source": []
  },
  {
   "cell_type": "code",
   "execution_count": 29,
   "metadata": {},
   "outputs": [],
   "source": [
    "import tensorflow as tf\n",
    "from tensorflow.keras import datasets\n",
    "from tensorflow.keras import layers\n",
    "from sklearn.metrics import *\n",
    "\n",
    "tf.random.set_seed(42)"
   ]
  },
  {
   "cell_type": "code",
   "execution_count": 7,
   "metadata": {},
   "outputs": [
    {
     "data": {
      "text/plain": [
       "((11250, 42), (3750, 42), (11250,), (3750,))"
      ]
     },
     "execution_count": 7,
     "metadata": {},
     "output_type": "execute_result"
    }
   ],
   "source": [
    "from sklearn.model_selection import train_test_split\n",
    "\n",
    "train_X, test_X, train_y, test_y = train_test_split(error, problem, test_size=0.25, random_state=42)\n",
    "\n",
    "train_X.shape, test_X.shape, train_y.shape, test_y.shape"
   ]
  },
  {
   "cell_type": "code",
   "execution_count": 39,
   "metadata": {},
   "outputs": [],
   "source": [
    "model = tf.keras.Sequential([\n",
    "    layers.Dense(64, activation='relu', input_shape=(error.shape)),\n",
    "    layers.Dense(64, activation='relu'),\n",
    "    layers.Dense(32, activation='relu'),\n",
    "    layers.Dense(32, activation='relu'),\n",
    "    layers.Dense(1, activation='sigmoid')\n",
    "])"
   ]
  },
  {
   "cell_type": "code",
   "execution_count": 40,
   "metadata": {},
   "outputs": [
    {
     "name": "stdout",
     "output_type": "stream",
     "text": [
      "Epoch 1/50\n",
      "WARNING:tensorflow:Model was constructed with shape (None, 15000, 42) for input KerasTensor(type_spec=TensorSpec(shape=(None, 15000, 42), dtype=tf.float32, name='dense_36_input'), name='dense_36_input', description=\"created by layer 'dense_36_input'\"), but it was called on an input with incompatible shape (None, 42).\n",
      "WARNING:tensorflow:Model was constructed with shape (None, 15000, 42) for input KerasTensor(type_spec=TensorSpec(shape=(None, 15000, 42), dtype=tf.float32, name='dense_36_input'), name='dense_36_input', description=\"created by layer 'dense_36_input'\"), but it was called on an input with incompatible shape (None, 42).\n",
      "161/176 [==========================>...] - ETA: 0s - loss: 2.5890 WARNING:tensorflow:Model was constructed with shape (None, 15000, 42) for input KerasTensor(type_spec=TensorSpec(shape=(None, 15000, 42), dtype=tf.float32, name='dense_36_input'), name='dense_36_input', description=\"created by layer 'dense_36_input'\"), but it was called on an input with incompatible shape (None, 42).\n",
      "176/176 [==============================] - 1s 2ms/step - loss: 2.5035 - val_loss: 4.1567\n",
      "Epoch 2/50\n",
      "176/176 [==============================] - 0s 2ms/step - loss: 0.9660 - val_loss: 3.4181\n",
      "Epoch 3/50\n",
      "176/176 [==============================] - 0s 1ms/step - loss: 0.6777 - val_loss: 3.3163\n",
      "Epoch 4/50\n",
      "176/176 [==============================] - 0s 2ms/step - loss: 0.4932 - val_loss: 2.7786\n",
      "Epoch 5/50\n",
      "176/176 [==============================] - 0s 1ms/step - loss: 0.5277 - val_loss: 3.3747\n",
      "Epoch 6/50\n",
      "176/176 [==============================] - 0s 2ms/step - loss: 0.6198 - val_loss: 2.7252\n",
      "Epoch 7/50\n",
      "176/176 [==============================] - 0s 2ms/step - loss: 0.4341 - val_loss: 3.0540\n",
      "Epoch 8/50\n",
      "176/176 [==============================] - 0s 1ms/step - loss: 0.4105 - val_loss: 4.5914\n",
      "Epoch 9/50\n",
      "176/176 [==============================] - 0s 2ms/step - loss: 0.3660 - val_loss: 3.2080\n",
      "Epoch 10/50\n",
      "176/176 [==============================] - 0s 2ms/step - loss: 0.4851 - val_loss: 5.7644\n",
      "Epoch 11/50\n",
      "176/176 [==============================] - 0s 2ms/step - loss: 0.4894 - val_loss: 5.7918\n",
      "Epoch 12/50\n",
      "176/176 [==============================] - 0s 2ms/step - loss: 0.3726 - val_loss: 5.9125\n",
      "Epoch 13/50\n",
      "176/176 [==============================] - 0s 2ms/step - loss: 0.3661 - val_loss: 7.6733\n",
      "Epoch 14/50\n",
      "176/176 [==============================] - 0s 2ms/step - loss: 0.3879 - val_loss: 7.5740\n",
      "Epoch 15/50\n",
      "176/176 [==============================] - 0s 1ms/step - loss: 0.3865 - val_loss: 6.8079\n",
      "Epoch 16/50\n",
      "176/176 [==============================] - 0s 2ms/step - loss: 0.3865 - val_loss: 8.0906\n",
      "Epoch 17/50\n",
      "176/176 [==============================] - 0s 1ms/step - loss: 0.4103 - val_loss: 6.6792\n",
      "Epoch 18/50\n",
      "176/176 [==============================] - 0s 1ms/step - loss: 0.3335 - val_loss: 9.1947\n",
      "Epoch 19/50\n",
      "176/176 [==============================] - 0s 2ms/step - loss: 0.3607 - val_loss: 9.9478\n",
      "Epoch 20/50\n",
      "176/176 [==============================] - 0s 1ms/step - loss: 0.3316 - val_loss: 14.5045\n",
      "Epoch 21/50\n",
      "176/176 [==============================] - 0s 2ms/step - loss: 0.3558 - val_loss: 9.4734\n",
      "Epoch 22/50\n",
      "176/176 [==============================] - 0s 1ms/step - loss: 0.3353 - val_loss: 8.5381\n",
      "Epoch 23/50\n",
      "176/176 [==============================] - 0s 2ms/step - loss: 0.3259 - val_loss: 10.7306\n",
      "Epoch 24/50\n",
      "176/176 [==============================] - 0s 2ms/step - loss: 0.3281 - val_loss: 12.9459\n",
      "Epoch 25/50\n",
      "176/176 [==============================] - 0s 2ms/step - loss: 0.3806 - val_loss: 9.3992\n",
      "Epoch 26/50\n",
      "176/176 [==============================] - 0s 1ms/step - loss: 0.3662 - val_loss: 10.5318\n",
      "Epoch 27/50\n",
      "176/176 [==============================] - 0s 2ms/step - loss: 0.3799 - val_loss: 9.1113\n",
      "Epoch 28/50\n",
      "176/176 [==============================] - 0s 2ms/step - loss: 0.3352 - val_loss: 9.8556\n",
      "Epoch 29/50\n",
      "176/176 [==============================] - 0s 2ms/step - loss: 0.3109 - val_loss: 9.7599\n",
      "Epoch 30/50\n",
      "176/176 [==============================] - 0s 2ms/step - loss: 0.3406 - val_loss: 11.4664\n",
      "Epoch 31/50\n",
      "176/176 [==============================] - 0s 2ms/step - loss: 0.3551 - val_loss: 12.2598\n",
      "Epoch 32/50\n",
      "176/176 [==============================] - 0s 2ms/step - loss: 0.3565 - val_loss: 11.5673\n",
      "Epoch 33/50\n",
      "176/176 [==============================] - 0s 2ms/step - loss: 0.3190 - val_loss: 13.7783\n",
      "Epoch 34/50\n",
      "176/176 [==============================] - 0s 2ms/step - loss: 0.2887 - val_loss: 11.7231\n",
      "Epoch 35/50\n",
      "176/176 [==============================] - 0s 2ms/step - loss: 0.2900 - val_loss: 11.7066\n",
      "Epoch 36/50\n",
      "176/176 [==============================] - 0s 2ms/step - loss: 0.3343 - val_loss: 13.9784\n",
      "Epoch 37/50\n",
      "176/176 [==============================] - 0s 2ms/step - loss: 0.3041 - val_loss: 16.2082\n",
      "Epoch 38/50\n",
      "176/176 [==============================] - 0s 2ms/step - loss: 0.2999 - val_loss: 12.9149\n",
      "Epoch 39/50\n",
      "176/176 [==============================] - 0s 2ms/step - loss: 0.8256 - val_loss: 16.4221\n",
      "Epoch 40/50\n",
      "176/176 [==============================] - 0s 2ms/step - loss: 0.2990 - val_loss: 15.8614\n",
      "Epoch 41/50\n",
      "176/176 [==============================] - 0s 2ms/step - loss: 0.3333 - val_loss: 18.3602\n",
      "Epoch 42/50\n",
      "176/176 [==============================] - 0s 2ms/step - loss: 0.3154 - val_loss: 13.1175\n",
      "Epoch 43/50\n",
      "176/176 [==============================] - 0s 2ms/step - loss: 0.3039 - val_loss: 10.6712\n",
      "Epoch 44/50\n",
      "176/176 [==============================] - 0s 2ms/step - loss: 0.2998 - val_loss: 8.6921\n",
      "Epoch 45/50\n",
      "176/176 [==============================] - 0s 2ms/step - loss: 0.2845 - val_loss: 15.9963\n",
      "Epoch 46/50\n",
      "176/176 [==============================] - 0s 2ms/step - loss: 0.2895 - val_loss: 14.1682\n",
      "Epoch 47/50\n",
      "176/176 [==============================] - 0s 2ms/step - loss: 0.3201 - val_loss: 21.5605\n",
      "Epoch 48/50\n",
      "176/176 [==============================] - 0s 2ms/step - loss: 0.2830 - val_loss: 19.2979\n",
      "Epoch 49/50\n",
      "176/176 [==============================] - 0s 2ms/step - loss: 0.2935 - val_loss: 16.2627\n",
      "Epoch 50/50\n",
      "176/176 [==============================] - 0s 2ms/step - loss: 0.3006 - val_loss: 10.2315\n",
      "118/118 [==============================] - 0s 964us/step - loss: 1.4428\n"
     ]
    },
    {
     "data": {
      "text/plain": [
       "1.4428296089172363"
      ]
     },
     "execution_count": 40,
     "metadata": {},
     "output_type": "execute_result"
    }
   ],
   "source": [
    "model.compile(loss='binary_crossentropy', optimizer='rmsprop')\n",
    "model.fit(train_X, train_y, epochs=50, batch_size=48, validation_split=0.25)\n",
    "model.evaluate(test_X, test_y)"
   ]
  },
  {
   "cell_type": "code",
   "execution_count": 41,
   "metadata": {},
   "outputs": [
    {
     "name": "stdout",
     "output_type": "stream",
     "text": [
      "WARNING:tensorflow:Model was constructed with shape (None, 15000, 42) for input KerasTensor(type_spec=TensorSpec(shape=(None, 15000, 42), dtype=tf.float32, name='dense_36_input'), name='dense_36_input', description=\"created by layer 'dense_36_input'\"), but it was called on an input with incompatible shape (None, 42).\n",
      "0.7242500914522619\n"
     ]
    }
   ],
   "source": [
    "pred = model.predict_proba(test_X)\n",
    "pred\n",
    "print(roc_auc_score(test_y, pred))"
   ]
  },
  {
   "cell_type": "code",
   "execution_count": null,
   "metadata": {},
   "outputs": [],
   "source": []
  },
  {
   "cell_type": "code",
   "execution_count": null,
   "metadata": {},
   "outputs": [],
   "source": []
  },
  {
   "cell_type": "code",
   "execution_count": 44,
   "metadata": {},
   "outputs": [
    {
     "name": "stdout",
     "output_type": "stream",
     "text": [
      "Epoch 1/50\n",
      "WARNING:tensorflow:Model was constructed with shape (None, 15000, 42) for input KerasTensor(type_spec=TensorSpec(shape=(None, 15000, 42), dtype=tf.float32, name='dense_36_input'), name='dense_36_input', description=\"created by layer 'dense_36_input'\"), but it was called on an input with incompatible shape (None, 42).\n",
      "WARNING:tensorflow:Model was constructed with shape (None, 15000, 42) for input KerasTensor(type_spec=TensorSpec(shape=(None, 15000, 42), dtype=tf.float32, name='dense_36_input'), name='dense_36_input', description=\"created by layer 'dense_36_input'\"), but it was called on an input with incompatible shape (None, 42).\n",
      "205/235 [=========================>....] - ETA: 0s - loss: 1.3370WARNING:tensorflow:Model was constructed with shape (None, 15000, 42) for input KerasTensor(type_spec=TensorSpec(shape=(None, 15000, 42), dtype=tf.float32, name='dense_36_input'), name='dense_36_input', description=\"created by layer 'dense_36_input'\"), but it was called on an input with incompatible shape (None, 42).\n",
      "235/235 [==============================] - 1s 2ms/step - loss: 1.2812 - val_loss: 0.6244\n",
      "Epoch 2/50\n",
      "235/235 [==============================] - 0s 1ms/step - loss: 0.4947 - val_loss: 0.5824\n",
      "Epoch 3/50\n",
      "235/235 [==============================] - 0s 1ms/step - loss: 0.4950 - val_loss: 0.6174\n",
      "Epoch 4/50\n",
      "235/235 [==============================] - 0s 1ms/step - loss: 0.6155 - val_loss: 0.5844\n",
      "Epoch 5/50\n",
      "235/235 [==============================] - 0s 1ms/step - loss: 0.5065 - val_loss: 0.5824\n",
      "Epoch 6/50\n",
      "235/235 [==============================] - 0s 1ms/step - loss: 0.5464 - val_loss: 0.5660\n",
      "Epoch 7/50\n",
      "235/235 [==============================] - 0s 1ms/step - loss: 0.5565 - val_loss: 0.5592\n",
      "Epoch 8/50\n",
      "235/235 [==============================] - 0s 1ms/step - loss: 0.7026 - val_loss: 0.5456\n",
      "Epoch 9/50\n",
      "235/235 [==============================] - 0s 2ms/step - loss: 0.4923 - val_loss: 0.5404\n",
      "Epoch 10/50\n",
      "235/235 [==============================] - 0s 1ms/step - loss: 0.5071 - val_loss: 0.5912\n",
      "Epoch 11/50\n",
      "235/235 [==============================] - 0s 1ms/step - loss: 0.4934 - val_loss: 0.5540\n",
      "Epoch 12/50\n",
      "235/235 [==============================] - 0s 2ms/step - loss: 0.8665 - val_loss: 0.5777\n",
      "Epoch 13/50\n",
      "235/235 [==============================] - 0s 2ms/step - loss: 0.5107 - val_loss: 0.6284\n",
      "Epoch 14/50\n",
      "235/235 [==============================] - 0s 1ms/step - loss: 0.5222 - val_loss: 0.6348\n",
      "Epoch 15/50\n",
      "235/235 [==============================] - 0s 1ms/step - loss: 0.6508 - val_loss: 0.6506\n",
      "Epoch 16/50\n",
      "235/235 [==============================] - 0s 1ms/step - loss: 0.4946 - val_loss: 0.6128\n",
      "Epoch 17/50\n",
      "235/235 [==============================] - 0s 1ms/step - loss: 0.5321 - val_loss: 0.7010\n",
      "Epoch 18/50\n",
      "235/235 [==============================] - 0s 1ms/step - loss: 0.6030 - val_loss: 0.6366\n",
      "Epoch 19/50\n",
      "235/235 [==============================] - 0s 1ms/step - loss: 0.5028 - val_loss: 0.7489\n",
      "Epoch 20/50\n",
      "235/235 [==============================] - 0s 1ms/step - loss: 0.6173 - val_loss: 0.7217\n",
      "Epoch 21/50\n",
      "235/235 [==============================] - 0s 2ms/step - loss: 0.5245 - val_loss: 0.6976\n",
      "Epoch 22/50\n",
      "235/235 [==============================] - 0s 1ms/step - loss: 0.4801 - val_loss: 0.8029\n",
      "Epoch 23/50\n",
      "235/235 [==============================] - 0s 1ms/step - loss: 0.5067 - val_loss: 0.7004\n",
      "Epoch 24/50\n",
      "235/235 [==============================] - 0s 1ms/step - loss: 1.1123 - val_loss: 0.6000\n",
      "Epoch 25/50\n",
      "235/235 [==============================] - 0s 1ms/step - loss: 0.5780 - val_loss: 0.7310\n",
      "Epoch 26/50\n",
      "235/235 [==============================] - 0s 1ms/step - loss: 0.4807 - val_loss: 0.6551\n",
      "Epoch 27/50\n",
      "235/235 [==============================] - 0s 1ms/step - loss: 0.4938 - val_loss: 0.7386\n",
      "Epoch 28/50\n",
      "235/235 [==============================] - 0s 1ms/step - loss: 0.4915 - val_loss: 0.6060\n",
      "Epoch 29/50\n",
      "235/235 [==============================] - 0s 1ms/step - loss: 1.1000 - val_loss: 0.7264\n",
      "Epoch 30/50\n",
      "235/235 [==============================] - 0s 1ms/step - loss: 0.5598 - val_loss: 0.7389\n",
      "Epoch 31/50\n",
      "235/235 [==============================] - 0s 1ms/step - loss: 0.4824 - val_loss: 0.8585\n",
      "Epoch 32/50\n",
      "235/235 [==============================] - 0s 1ms/step - loss: 0.6213 - val_loss: 0.7289\n",
      "Epoch 33/50\n",
      "235/235 [==============================] - 0s 1ms/step - loss: 0.4975 - val_loss: 0.6860\n",
      "Epoch 34/50\n",
      "235/235 [==============================] - 0s 1ms/step - loss: 0.5100 - val_loss: 0.7282\n",
      "Epoch 35/50\n",
      "235/235 [==============================] - 0s 1ms/step - loss: 0.5005 - val_loss: 0.9501\n",
      "Epoch 36/50\n",
      "235/235 [==============================] - 0s 1ms/step - loss: 0.4895 - val_loss: 0.9440\n",
      "Epoch 37/50\n",
      "235/235 [==============================] - 0s 1ms/step - loss: 0.5060 - val_loss: 0.7994\n",
      "Epoch 38/50\n",
      "235/235 [==============================] - 0s 1ms/step - loss: 0.4772 - val_loss: 0.8647\n",
      "Epoch 39/50\n",
      "235/235 [==============================] - 0s 1ms/step - loss: 0.5953 - val_loss: 0.6412\n",
      "Epoch 40/50\n",
      "235/235 [==============================] - 0s 1ms/step - loss: 0.5667 - val_loss: 0.9059\n",
      "Epoch 41/50\n",
      "235/235 [==============================] - 0s 1ms/step - loss: 0.4832 - val_loss: 0.6619\n",
      "Epoch 42/50\n",
      "235/235 [==============================] - 0s 1ms/step - loss: 0.4981 - val_loss: 0.5684\n",
      "Epoch 43/50\n",
      "235/235 [==============================] - 0s 1ms/step - loss: 0.4789 - val_loss: 0.5634\n",
      "Epoch 44/50\n",
      "235/235 [==============================] - 0s 1ms/step - loss: 0.5080 - val_loss: 0.8404\n",
      "Epoch 45/50\n",
      "235/235 [==============================] - 0s 1ms/step - loss: 0.5845 - val_loss: 0.7314\n",
      "Epoch 46/50\n",
      "235/235 [==============================] - 0s 2ms/step - loss: 0.4829 - val_loss: 0.8559\n",
      "Epoch 47/50\n",
      "235/235 [==============================] - 0s 1ms/step - loss: 0.5280 - val_loss: 0.7683\n",
      "Epoch 48/50\n",
      "235/235 [==============================] - 0s 1ms/step - loss: 0.4863 - val_loss: 0.5640\n",
      "Epoch 49/50\n",
      "235/235 [==============================] - 0s 1ms/step - loss: 0.6030 - val_loss: 0.8054\n",
      "Epoch 50/50\n",
      "235/235 [==============================] - 0s 1ms/step - loss: 0.4878 - val_loss: 0.7087\n",
      "WARNING:tensorflow:Model was constructed with shape (None, 15000, 42) for input KerasTensor(type_spec=TensorSpec(shape=(None, 15000, 42), dtype=tf.float32, name='dense_36_input'), name='dense_36_input', description=\"created by layer 'dense_36_input'\"), but it was called on an input with incompatible shape (None, 42).\n"
     ]
    }
   ],
   "source": [
    "model.compile(loss='binary_crossentropy', optimizer='rmsprop')\n",
    "model.fit(error, problem, epochs=50, batch_size=48, validation_split=0.25)\n",
    "sample_submssion['problem'] = model.predict_proba(test_error)"
   ]
  },
  {
   "cell_type": "code",
   "execution_count": 45,
   "metadata": {},
   "outputs": [
    {
     "data": {
      "text/html": [
       "<div>\n",
       "<style scoped>\n",
       "    .dataframe tbody tr th:only-of-type {\n",
       "        vertical-align: middle;\n",
       "    }\n",
       "\n",
       "    .dataframe tbody tr th {\n",
       "        vertical-align: top;\n",
       "    }\n",
       "\n",
       "    .dataframe thead th {\n",
       "        text-align: right;\n",
       "    }\n",
       "</style>\n",
       "<table border=\"1\" class=\"dataframe\">\n",
       "  <thead>\n",
       "    <tr style=\"text-align: right;\">\n",
       "      <th></th>\n",
       "      <th>user_id</th>\n",
       "      <th>problem</th>\n",
       "    </tr>\n",
       "  </thead>\n",
       "  <tbody>\n",
       "    <tr>\n",
       "      <th>0</th>\n",
       "      <td>30000</td>\n",
       "      <td>0.996796</td>\n",
       "    </tr>\n",
       "    <tr>\n",
       "      <th>1</th>\n",
       "      <td>30001</td>\n",
       "      <td>0.198434</td>\n",
       "    </tr>\n",
       "    <tr>\n",
       "      <th>2</th>\n",
       "      <td>30002</td>\n",
       "      <td>0.244801</td>\n",
       "    </tr>\n",
       "    <tr>\n",
       "      <th>3</th>\n",
       "      <td>30003</td>\n",
       "      <td>0.402899</td>\n",
       "    </tr>\n",
       "    <tr>\n",
       "      <th>4</th>\n",
       "      <td>30004</td>\n",
       "      <td>0.991724</td>\n",
       "    </tr>\n",
       "    <tr>\n",
       "      <th>...</th>\n",
       "      <td>...</td>\n",
       "      <td>...</td>\n",
       "    </tr>\n",
       "    <tr>\n",
       "      <th>14994</th>\n",
       "      <td>44994</td>\n",
       "      <td>0.247038</td>\n",
       "    </tr>\n",
       "    <tr>\n",
       "      <th>14995</th>\n",
       "      <td>44995</td>\n",
       "      <td>0.214953</td>\n",
       "    </tr>\n",
       "    <tr>\n",
       "      <th>14996</th>\n",
       "      <td>44996</td>\n",
       "      <td>1.000000</td>\n",
       "    </tr>\n",
       "    <tr>\n",
       "      <th>14997</th>\n",
       "      <td>44997</td>\n",
       "      <td>0.155185</td>\n",
       "    </tr>\n",
       "    <tr>\n",
       "      <th>14998</th>\n",
       "      <td>44998</td>\n",
       "      <td>0.537252</td>\n",
       "    </tr>\n",
       "  </tbody>\n",
       "</table>\n",
       "<p>14999 rows × 2 columns</p>\n",
       "</div>"
      ],
      "text/plain": [
       "       user_id   problem\n",
       "0        30000  0.996796\n",
       "1        30001  0.198434\n",
       "2        30002  0.244801\n",
       "3        30003  0.402899\n",
       "4        30004  0.991724\n",
       "...        ...       ...\n",
       "14994    44994  0.247038\n",
       "14995    44995  0.214953\n",
       "14996    44996  1.000000\n",
       "14997    44997  0.155185\n",
       "14998    44998  0.537252\n",
       "\n",
       "[14999 rows x 2 columns]"
      ]
     },
     "execution_count": 45,
     "metadata": {},
     "output_type": "execute_result"
    }
   ],
   "source": [
    "sample_submssion.to_csv(\"./submission/submission_20210114-2.csv\", index = False)\n",
    "sample_submssion"
   ]
  },
  {
   "cell_type": "code",
   "execution_count": null,
   "metadata": {},
   "outputs": [],
   "source": []
  }
 ],
 "metadata": {
  "kernelspec": {
   "display_name": "Python 3",
   "language": "python",
   "name": "python3"
  },
  "language_info": {
   "codemirror_mode": {
    "name": "ipython",
    "version": 3
   },
   "file_extension": ".py",
   "mimetype": "text/x-python",
   "name": "python",
   "nbconvert_exporter": "python",
   "pygments_lexer": "ipython3",
   "version": "3.7.6"
  }
 },
 "nbformat": 4,
 "nbformat_minor": 4
}
