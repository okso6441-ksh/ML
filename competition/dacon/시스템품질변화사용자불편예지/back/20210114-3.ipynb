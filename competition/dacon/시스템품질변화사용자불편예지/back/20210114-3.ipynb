{
 "cells": [
  {
   "cell_type": "code",
   "execution_count": 1,
   "metadata": {},
   "outputs": [],
   "source": [
    "import pandas as pd\n",
    "import numpy as np\n",
    "import datetime as dt\n",
    "import matplotlib.pyplot as plt\n",
    "from tqdm import tqdm\n",
    "import gc\n",
    "import random\n",
    "import warnings\n",
    "warnings.filterwarnings(action='ignore')\n",
    "\n",
    "import random as python_random\n",
    "np.random.seed(42)\n",
    "python_random.seed(42)"
   ]
  },
  {
   "cell_type": "code",
   "execution_count": 2,
   "metadata": {},
   "outputs": [],
   "source": [
    "PATH = './data/'\n",
    "\n",
    "train_err  = pd.read_csv(PATH+'train_err_data.csv')\n",
    "train_qua = pd.read_csv(PATH+'train_quality_data.csv')\n",
    "train_prob = pd.read_csv(PATH+'train_problem_data.csv')\n",
    "\n",
    "test_err  = pd.read_csv(PATH+'test_err_data.csv')\n",
    "test_qua  = pd.read_csv(PATH+'test_quality_data.csv')\n",
    "\n",
    "sample_submssion = pd.read_csv(PATH+'sample_submission.csv')"
   ]
  },
  {
   "cell_type": "code",
   "execution_count": null,
   "metadata": {},
   "outputs": [],
   "source": []
  },
  {
   "cell_type": "code",
   "execution_count": 3,
   "metadata": {},
   "outputs": [
    {
     "name": "stderr",
     "output_type": "stream",
     "text": [
      "100%|██████████████████████████████████████████████████████████████████| 16554663/16554663 [00:46<00:00, 353115.60it/s]\n"
     ]
    },
    {
     "data": {
      "text/plain": [
       "(15000, 42)"
      ]
     },
     "execution_count": 3,
     "metadata": {},
     "output_type": "execute_result"
    }
   ],
   "source": [
    "id_error = train_err[['user_id','errtype']].values\n",
    "\n",
    "train_user_id_max = 24999\n",
    "train_user_id_min = 10000\n",
    "train_user_number = 15000\n",
    "\n",
    "error = np.zeros((train_user_number,42))\n",
    "\n",
    "for person_idx, err in tqdm(id_error):\n",
    "    error[person_idx - train_user_id_min,err - 1] += 1\n",
    "error.shape"
   ]
  },
  {
   "cell_type": "code",
   "execution_count": 4,
   "metadata": {},
   "outputs": [
    {
     "data": {
      "text/plain": [
       "(15000,)"
      ]
     },
     "execution_count": 4,
     "metadata": {},
     "output_type": "execute_result"
    }
   ],
   "source": [
    "problem = np.zeros(15000)\n",
    "\n",
    "problem[train_prob.user_id.unique()-10000] = 1 \n",
    "problem.shape"
   ]
  },
  {
   "cell_type": "code",
   "execution_count": null,
   "metadata": {},
   "outputs": [],
   "source": []
  },
  {
   "cell_type": "code",
   "execution_count": 5,
   "metadata": {
    "scrolled": true
   },
   "outputs": [
    {
     "name": "stderr",
     "output_type": "stream",
     "text": [
      "100%|██████████████████████████████████████████████████████████████████| 16532648/16532648 [00:47<00:00, 346501.26it/s]"
     ]
    },
    {
     "name": "stdout",
     "output_type": "stream",
     "text": [
      "(14999, 42)\n"
     ]
    },
    {
     "name": "stderr",
     "output_type": "stream",
     "text": [
      "\n"
     ]
    }
   ],
   "source": [
    "test_user_id_max = 44998\n",
    "test_user_id_min = 30000\n",
    "test_user_number = 14999\n",
    "\n",
    "id_error = test_err[['user_id','errtype']].values\n",
    "test_error = np.zeros((test_user_number,42))\n",
    "for person_idx, err in tqdm(id_error):\n",
    "    test_error[person_idx - test_user_id_min,err - 1] += 1\n",
    "test_error = test_error.reshape(test_error.shape[0],-1)\n",
    "print(test_error.shape)"
   ]
  },
  {
   "cell_type": "code",
   "execution_count": null,
   "metadata": {},
   "outputs": [],
   "source": []
  },
  {
   "cell_type": "code",
   "execution_count": null,
   "metadata": {},
   "outputs": [],
   "source": []
  },
  {
   "cell_type": "code",
   "execution_count": 15,
   "metadata": {},
   "outputs": [],
   "source": [
    "import tensorflow as tf\n",
    "from tensorflow.keras import datasets\n",
    "from tensorflow.keras import layers\n",
    "from sklearn.metrics import *\n",
    "\n",
    "tf.random.set_seed(42)\n",
    "\n",
    "intra_op_parallelism_threads = 1\n",
    "inter_op_parallelism_threads = 1"
   ]
  },
  {
   "cell_type": "code",
   "execution_count": 7,
   "metadata": {},
   "outputs": [
    {
     "data": {
      "text/plain": [
       "((11250, 42), (3750, 42), (11250,), (3750,))"
      ]
     },
     "execution_count": 7,
     "metadata": {},
     "output_type": "execute_result"
    }
   ],
   "source": [
    "from sklearn.model_selection import train_test_split\n",
    "\n",
    "train_X, test_X, train_y, test_y = train_test_split(error, problem, test_size=0.25, random_state=42)\n",
    "\n",
    "train_X.shape, test_X.shape, train_y.shape, test_y.shape"
   ]
  },
  {
   "cell_type": "code",
   "execution_count": 19,
   "metadata": {},
   "outputs": [],
   "source": [
    "model = tf.keras.Sequential([\n",
    "    layers.Dense(256, activation='relu', input_shape=(error.shape)),\n",
    "    layers.Dense(128, activation='relu'),\n",
    "    layers.Dense(64, activation='relu'),\n",
    "    layers.Dense(32, activation='relu'),\n",
    "    layers.Dense(1, activation='sigmoid')\n",
    "])"
   ]
  },
  {
   "cell_type": "code",
   "execution_count": 20,
   "metadata": {},
   "outputs": [
    {
     "name": "stdout",
     "output_type": "stream",
     "text": [
      "Epoch 1/50\n",
      "WARNING:tensorflow:Model was constructed with shape (None, 15000, 42) for input KerasTensor(type_spec=TensorSpec(shape=(None, 15000, 42), dtype=tf.float32, name='dense_15_input'), name='dense_15_input', description=\"created by layer 'dense_15_input'\"), but it was called on an input with incompatible shape (None, 42).\n",
      "WARNING:tensorflow:Model was constructed with shape (None, 15000, 42) for input KerasTensor(type_spec=TensorSpec(shape=(None, 15000, 42), dtype=tf.float32, name='dense_15_input'), name='dense_15_input', description=\"created by layer 'dense_15_input'\"), but it was called on an input with incompatible shape (None, 42).\n",
      "153/176 [=========================>....] - ETA: 0s - loss: 2.1088WARNING:tensorflow:Model was constructed with shape (None, 15000, 42) for input KerasTensor(type_spec=TensorSpec(shape=(None, 15000, 42), dtype=tf.float32, name='dense_15_input'), name='dense_15_input', description=\"created by layer 'dense_15_input'\"), but it was called on an input with incompatible shape (None, 42).\n",
      "176/176 [==============================] - 1s 2ms/step - loss: 2.0403 - val_loss: 4.0416\n",
      "Epoch 2/50\n",
      "176/176 [==============================] - 0s 2ms/step - loss: 0.9821 - val_loss: 3.6092\n",
      "Epoch 3/50\n",
      "176/176 [==============================] - 0s 2ms/step - loss: 0.7178 - val_loss: 4.6013\n",
      "Epoch 4/50\n",
      "176/176 [==============================] - 0s 2ms/step - loss: 0.4792 - val_loss: 3.5582\n",
      "Epoch 5/50\n",
      "176/176 [==============================] - 0s 2ms/step - loss: 0.6428 - val_loss: 6.1073\n",
      "Epoch 6/50\n",
      "176/176 [==============================] - 1s 3ms/step - loss: 0.4664 - val_loss: 8.5160\n",
      "Epoch 7/50\n",
      "176/176 [==============================] - 0s 3ms/step - loss: 0.4452 - val_loss: 10.8756\n",
      "Epoch 8/50\n",
      "176/176 [==============================] - 0s 2ms/step - loss: 0.5224 - val_loss: 14.2828\n",
      "Epoch 9/50\n",
      "176/176 [==============================] - 0s 3ms/step - loss: 0.3830 - val_loss: 15.7730\n",
      "Epoch 10/50\n",
      "176/176 [==============================] - 0s 3ms/step - loss: 0.5886 - val_loss: 18.9183\n",
      "Epoch 11/50\n",
      "176/176 [==============================] - 0s 2ms/step - loss: 0.5862 - val_loss: 27.8125\n",
      "Epoch 12/50\n",
      "176/176 [==============================] - 0s 2ms/step - loss: 0.4560 - val_loss: 19.7694\n",
      "Epoch 13/50\n",
      "176/176 [==============================] - 0s 2ms/step - loss: 0.5289 - val_loss: 38.1277\n",
      "Epoch 14/50\n",
      "176/176 [==============================] - 0s 2ms/step - loss: 0.4210 - val_loss: 36.2938\n",
      "Epoch 15/50\n",
      "176/176 [==============================] - 0s 2ms/step - loss: 0.9471 - val_loss: 32.2172\n",
      "Epoch 16/50\n",
      "176/176 [==============================] - 0s 2ms/step - loss: 0.4074 - val_loss: 44.8176\n",
      "Epoch 17/50\n",
      "176/176 [==============================] - 0s 2ms/step - loss: 0.4225 - val_loss: 50.9941\n",
      "Epoch 18/50\n",
      "176/176 [==============================] - 0s 2ms/step - loss: 0.3820 - val_loss: 60.2467\n",
      "Epoch 19/50\n",
      "176/176 [==============================] - 0s 2ms/step - loss: 0.3619 - val_loss: 66.3145\n",
      "Epoch 20/50\n",
      "176/176 [==============================] - 0s 2ms/step - loss: 0.4126 - val_loss: 73.5016\n",
      "Epoch 21/50\n",
      "176/176 [==============================] - 0s 2ms/step - loss: 0.3836 - val_loss: 61.3261\n",
      "Epoch 22/50\n",
      "176/176 [==============================] - 0s 2ms/step - loss: 0.3686 - val_loss: 63.4787\n",
      "Epoch 23/50\n",
      "176/176 [==============================] - 0s 2ms/step - loss: 0.3399 - val_loss: 64.0136\n",
      "Epoch 24/50\n",
      "176/176 [==============================] - 0s 2ms/step - loss: 0.3795 - val_loss: 62.4630\n",
      "Epoch 25/50\n",
      "176/176 [==============================] - 0s 2ms/step - loss: 0.4039 - val_loss: 68.4292\n",
      "Epoch 26/50\n",
      "176/176 [==============================] - 0s 2ms/step - loss: 0.4118 - val_loss: 57.0249\n",
      "Epoch 27/50\n",
      "176/176 [==============================] - 0s 2ms/step - loss: 0.3643 - val_loss: 49.5463\n",
      "Epoch 28/50\n",
      "176/176 [==============================] - 0s 2ms/step - loss: 0.5274 - val_loss: 61.2260\n",
      "Epoch 29/50\n",
      "176/176 [==============================] - 0s 2ms/step - loss: 0.3446 - val_loss: 86.4073\n",
      "Epoch 30/50\n",
      "176/176 [==============================] - 0s 2ms/step - loss: 0.3844 - val_loss: 75.4536\n",
      "Epoch 31/50\n",
      "176/176 [==============================] - 0s 2ms/step - loss: 0.3231 - val_loss: 60.7786\n",
      "Epoch 32/50\n",
      "176/176 [==============================] - 0s 2ms/step - loss: 0.4882 - val_loss: 81.8879\n",
      "Epoch 33/50\n",
      "176/176 [==============================] - 0s 2ms/step - loss: 0.4147 - val_loss: 125.3612\n",
      "Epoch 34/50\n",
      "176/176 [==============================] - 0s 2ms/step - loss: 0.3145 - val_loss: 94.7490\n",
      "Epoch 35/50\n",
      "176/176 [==============================] - 0s 2ms/step - loss: 0.3985 - val_loss: 102.5197\n",
      "Epoch 36/50\n",
      "176/176 [==============================] - 0s 2ms/step - loss: 0.3340 - val_loss: 96.8982\n",
      "Epoch 37/50\n",
      "176/176 [==============================] - 0s 2ms/step - loss: 0.3243 - val_loss: 166.2532\n",
      "Epoch 38/50\n",
      "176/176 [==============================] - 0s 2ms/step - loss: 0.3371 - val_loss: 78.2209\n",
      "Epoch 39/50\n",
      "176/176 [==============================] - 0s 2ms/step - loss: 0.3267 - val_loss: 97.9925\n",
      "Epoch 40/50\n",
      "176/176 [==============================] - 0s 2ms/step - loss: 0.3426 - val_loss: 50.9774\n",
      "Epoch 41/50\n",
      "176/176 [==============================] - 0s 2ms/step - loss: 0.5086 - val_loss: 48.5026\n",
      "Epoch 42/50\n",
      "176/176 [==============================] - 0s 2ms/step - loss: 0.3524 - val_loss: 111.1848\n",
      "Epoch 43/50\n",
      "176/176 [==============================] - 0s 2ms/step - loss: 0.3282 - val_loss: 85.2631\n",
      "Epoch 44/50\n",
      "176/176 [==============================] - 0s 2ms/step - loss: 0.3129 - val_loss: 74.0897\n",
      "Epoch 45/50\n",
      "176/176 [==============================] - 0s 2ms/step - loss: 0.4167 - val_loss: 136.6549\n",
      "Epoch 46/50\n",
      "176/176 [==============================] - 0s 2ms/step - loss: 0.2958 - val_loss: 113.2966\n",
      "Epoch 47/50\n",
      "176/176 [==============================] - 0s 2ms/step - loss: 0.3057 - val_loss: 128.9210\n",
      "Epoch 48/50\n",
      "176/176 [==============================] - 0s 2ms/step - loss: 0.3049 - val_loss: 85.3451\n",
      "Epoch 49/50\n",
      "176/176 [==============================] - 0s 2ms/step - loss: 0.3431 - val_loss: 120.0740\n",
      "Epoch 50/50\n",
      "176/176 [==============================] - 0s 2ms/step - loss: 0.3155 - val_loss: 88.6875\n",
      "118/118 [==============================] - 0s 775us/step - loss: 7.2873\n"
     ]
    },
    {
     "data": {
      "text/plain": [
       "7.28730583190918"
      ]
     },
     "execution_count": 20,
     "metadata": {},
     "output_type": "execute_result"
    }
   ],
   "source": [
    "model.compile(loss='binary_crossentropy', optimizer='rmsprop')\n",
    "model.fit(train_X, train_y, epochs=50, batch_size=48, validation_split=0.25)\n",
    "model.evaluate(test_X, test_y)"
   ]
  },
  {
   "cell_type": "code",
   "execution_count": 21,
   "metadata": {},
   "outputs": [
    {
     "name": "stdout",
     "output_type": "stream",
     "text": [
      "WARNING:tensorflow:Model was constructed with shape (None, 15000, 42) for input KerasTensor(type_spec=TensorSpec(shape=(None, 15000, 42), dtype=tf.float32, name='dense_15_input'), name='dense_15_input', description=\"created by layer 'dense_15_input'\"), but it was called on an input with incompatible shape (None, 42).\n",
      "0.7292756980855993\n"
     ]
    }
   ],
   "source": [
    "pred = model.predict_proba(test_X)\n",
    "pred\n",
    "print(roc_auc_score(test_y, pred))"
   ]
  },
  {
   "cell_type": "code",
   "execution_count": null,
   "metadata": {},
   "outputs": [],
   "source": []
  },
  {
   "cell_type": "code",
   "execution_count": 22,
   "metadata": {},
   "outputs": [
    {
     "name": "stdout",
     "output_type": "stream",
     "text": [
      "Epoch 1/50\n",
      "WARNING:tensorflow:Model was constructed with shape (None, 15000, 42) for input KerasTensor(type_spec=TensorSpec(shape=(None, 15000, 42), dtype=tf.float32, name='dense_15_input'), name='dense_15_input', description=\"created by layer 'dense_15_input'\"), but it was called on an input with incompatible shape (None, 42).\n",
      "WARNING:tensorflow:Model was constructed with shape (None, 15000, 42) for input KerasTensor(type_spec=TensorSpec(shape=(None, 15000, 42), dtype=tf.float32, name='dense_15_input'), name='dense_15_input', description=\"created by layer 'dense_15_input'\"), but it was called on an input with incompatible shape (None, 42).\n",
      "228/235 [============================>.] - ETA: 0s - loss: 25.4498WARNING:tensorflow:Model was constructed with shape (None, 15000, 42) for input KerasTensor(type_spec=TensorSpec(shape=(None, 15000, 42), dtype=tf.float32, name='dense_15_input'), name='dense_15_input', description=\"created by layer 'dense_15_input'\"), but it was called on an input with incompatible shape (None, 42).\n",
      "235/235 [==============================] - 1s 2ms/step - loss: 24.8742 - val_loss: 0.5879\n",
      "Epoch 2/50\n",
      "235/235 [==============================] - 0s 2ms/step - loss: 0.7758 - val_loss: 0.5864\n",
      "Epoch 3/50\n",
      "235/235 [==============================] - 0s 2ms/step - loss: 4.0151 - val_loss: 0.6909\n",
      "Epoch 4/50\n",
      "235/235 [==============================] - 0s 2ms/step - loss: 1.2925 - val_loss: 0.5420\n",
      "Epoch 5/50\n",
      "235/235 [==============================] - 0s 2ms/step - loss: 1.6173 - val_loss: 0.5236\n",
      "Epoch 6/50\n",
      "235/235 [==============================] - 0s 2ms/step - loss: 0.7691 - val_loss: 0.5199\n",
      "Epoch 7/50\n",
      "235/235 [==============================] - 0s 2ms/step - loss: 0.6963 - val_loss: 0.5543\n",
      "Epoch 8/50\n",
      "235/235 [==============================] - 0s 2ms/step - loss: 0.5626 - val_loss: 0.5624\n",
      "Epoch 9/50\n",
      "235/235 [==============================] - 0s 2ms/step - loss: 0.8025 - val_loss: 0.5191\n",
      "Epoch 10/50\n",
      "235/235 [==============================] - 0s 2ms/step - loss: 0.5362 - val_loss: 0.5234\n",
      "Epoch 11/50\n",
      "235/235 [==============================] - 0s 2ms/step - loss: 0.5265 - val_loss: 0.5245\n",
      "Epoch 12/50\n",
      "235/235 [==============================] - 0s 2ms/step - loss: 0.7297 - val_loss: 0.5012\n",
      "Epoch 13/50\n",
      "235/235 [==============================] - 0s 2ms/step - loss: 0.5304 - val_loss: 0.5090\n",
      "Epoch 14/50\n",
      "235/235 [==============================] - 0s 2ms/step - loss: 0.5590 - val_loss: 0.5165\n",
      "Epoch 15/50\n",
      "235/235 [==============================] - 0s 2ms/step - loss: 0.6165 - val_loss: 0.5128\n",
      "Epoch 16/50\n",
      "235/235 [==============================] - 0s 2ms/step - loss: 0.5985 - val_loss: 0.5173\n",
      "Epoch 17/50\n",
      "235/235 [==============================] - 0s 2ms/step - loss: 1.0080 - val_loss: 0.5189\n",
      "Epoch 18/50\n",
      "235/235 [==============================] - 0s 2ms/step - loss: 0.5172 - val_loss: 0.7430\n",
      "Epoch 19/50\n",
      "235/235 [==============================] - 0s 2ms/step - loss: 0.9536 - val_loss: 0.5193\n",
      "Epoch 20/50\n",
      "235/235 [==============================] - 0s 2ms/step - loss: 0.6244 - val_loss: 0.5215\n",
      "Epoch 21/50\n",
      "235/235 [==============================] - 0s 2ms/step - loss: 0.5502 - val_loss: 0.5480\n",
      "Epoch 22/50\n",
      "235/235 [==============================] - 0s 2ms/step - loss: 0.7994 - val_loss: 0.6121\n",
      "Epoch 23/50\n",
      "235/235 [==============================] - 0s 2ms/step - loss: 0.5187 - val_loss: 0.5138\n",
      "Epoch 24/50\n",
      "235/235 [==============================] - 0s 2ms/step - loss: 0.5009 - val_loss: 0.5667\n",
      "Epoch 25/50\n",
      "235/235 [==============================] - 0s 2ms/step - loss: 0.4940 - val_loss: 0.5235\n",
      "Epoch 26/50\n",
      "235/235 [==============================] - 0s 2ms/step - loss: 0.5143 - val_loss: 0.5164\n",
      "Epoch 27/50\n",
      "235/235 [==============================] - 0s 2ms/step - loss: 0.5242 - val_loss: 0.5229\n",
      "Epoch 28/50\n",
      "235/235 [==============================] - 0s 2ms/step - loss: 0.5041 - val_loss: 0.5527\n",
      "Epoch 29/50\n",
      "235/235 [==============================] - 0s 2ms/step - loss: 0.5105 - val_loss: 0.5456\n",
      "Epoch 30/50\n",
      "235/235 [==============================] - 0s 2ms/step - loss: 0.5394 - val_loss: 0.5608\n",
      "Epoch 31/50\n",
      "235/235 [==============================] - 0s 2ms/step - loss: 0.4976 - val_loss: 0.8334\n",
      "Epoch 32/50\n",
      "235/235 [==============================] - 0s 2ms/step - loss: 0.5274 - val_loss: 0.6669\n",
      "Epoch 33/50\n",
      "235/235 [==============================] - 0s 2ms/step - loss: 0.7457 - val_loss: 0.5051\n",
      "Epoch 34/50\n",
      "235/235 [==============================] - 0s 2ms/step - loss: 0.5091 - val_loss: 0.6486\n",
      "Epoch 35/50\n",
      "235/235 [==============================] - 0s 2ms/step - loss: 0.5204 - val_loss: 0.5356\n",
      "Epoch 36/50\n",
      "235/235 [==============================] - 0s 2ms/step - loss: 0.5559 - val_loss: 0.8797\n",
      "Epoch 37/50\n",
      "235/235 [==============================] - 0s 2ms/step - loss: 0.5718 - val_loss: 0.7323\n",
      "Epoch 38/50\n",
      "235/235 [==============================] - 0s 2ms/step - loss: 0.6811 - val_loss: 0.5447\n",
      "Epoch 39/50\n",
      "235/235 [==============================] - 0s 2ms/step - loss: 0.5114 - val_loss: 0.6916\n",
      "Epoch 40/50\n",
      "235/235 [==============================] - 0s 2ms/step - loss: 0.8484 - val_loss: 0.5141\n",
      "Epoch 41/50\n",
      "235/235 [==============================] - 0s 2ms/step - loss: 0.5227 - val_loss: 0.5096\n",
      "Epoch 42/50\n",
      "235/235 [==============================] - 0s 2ms/step - loss: 0.5406 - val_loss: 0.5469\n",
      "Epoch 43/50\n",
      "235/235 [==============================] - 1s 3ms/step - loss: 0.5699 - val_loss: 0.5321\n",
      "Epoch 44/50\n",
      "235/235 [==============================] - 1s 2ms/step - loss: 0.5168 - val_loss: 0.7302\n",
      "Epoch 45/50\n",
      "235/235 [==============================] - 1s 2ms/step - loss: 0.4903 - val_loss: 0.5328\n",
      "Epoch 46/50\n",
      "235/235 [==============================] - 1s 2ms/step - loss: 0.5122 - val_loss: 0.7375\n",
      "Epoch 47/50\n",
      "235/235 [==============================] - 1s 2ms/step - loss: 0.4966 - val_loss: 0.5806\n",
      "Epoch 48/50\n",
      "235/235 [==============================] - 1s 3ms/step - loss: 0.5357 - val_loss: 0.7546\n",
      "Epoch 49/50\n",
      "235/235 [==============================] - 1s 3ms/step - loss: 0.6541 - val_loss: 0.5275\n",
      "Epoch 50/50\n",
      "235/235 [==============================] - 1s 3ms/step - loss: 0.5118 - val_loss: 0.7482\n",
      "WARNING:tensorflow:Model was constructed with shape (None, 15000, 42) for input KerasTensor(type_spec=TensorSpec(shape=(None, 15000, 42), dtype=tf.float32, name='dense_15_input'), name='dense_15_input', description=\"created by layer 'dense_15_input'\"), but it was called on an input with incompatible shape (None, 42).\n"
     ]
    }
   ],
   "source": [
    "model.compile(loss='binary_crossentropy', optimizer='rmsprop')\n",
    "model.fit(error, problem, epochs=50, batch_size=48, validation_split=0.25)\n",
    "sample_submssion['problem'] = model.predict_proba(test_error)"
   ]
  },
  {
   "cell_type": "code",
   "execution_count": 23,
   "metadata": {},
   "outputs": [
    {
     "data": {
      "text/html": [
       "<div>\n",
       "<style scoped>\n",
       "    .dataframe tbody tr th:only-of-type {\n",
       "        vertical-align: middle;\n",
       "    }\n",
       "\n",
       "    .dataframe tbody tr th {\n",
       "        vertical-align: top;\n",
       "    }\n",
       "\n",
       "    .dataframe thead th {\n",
       "        text-align: right;\n",
       "    }\n",
       "</style>\n",
       "<table border=\"1\" class=\"dataframe\">\n",
       "  <thead>\n",
       "    <tr style=\"text-align: right;\">\n",
       "      <th></th>\n",
       "      <th>user_id</th>\n",
       "      <th>problem</th>\n",
       "    </tr>\n",
       "  </thead>\n",
       "  <tbody>\n",
       "    <tr>\n",
       "      <th>0</th>\n",
       "      <td>30000</td>\n",
       "      <td>0.998689</td>\n",
       "    </tr>\n",
       "    <tr>\n",
       "      <th>1</th>\n",
       "      <td>30001</td>\n",
       "      <td>0.287556</td>\n",
       "    </tr>\n",
       "    <tr>\n",
       "      <th>2</th>\n",
       "      <td>30002</td>\n",
       "      <td>0.401343</td>\n",
       "    </tr>\n",
       "    <tr>\n",
       "      <th>3</th>\n",
       "      <td>30003</td>\n",
       "      <td>0.557216</td>\n",
       "    </tr>\n",
       "    <tr>\n",
       "      <th>4</th>\n",
       "      <td>30004</td>\n",
       "      <td>0.336178</td>\n",
       "    </tr>\n",
       "    <tr>\n",
       "      <th>...</th>\n",
       "      <td>...</td>\n",
       "      <td>...</td>\n",
       "    </tr>\n",
       "    <tr>\n",
       "      <th>14994</th>\n",
       "      <td>44994</td>\n",
       "      <td>0.315735</td>\n",
       "    </tr>\n",
       "    <tr>\n",
       "      <th>14995</th>\n",
       "      <td>44995</td>\n",
       "      <td>0.237339</td>\n",
       "    </tr>\n",
       "    <tr>\n",
       "      <th>14996</th>\n",
       "      <td>44996</td>\n",
       "      <td>0.925208</td>\n",
       "    </tr>\n",
       "    <tr>\n",
       "      <th>14997</th>\n",
       "      <td>44997</td>\n",
       "      <td>0.161285</td>\n",
       "    </tr>\n",
       "    <tr>\n",
       "      <th>14998</th>\n",
       "      <td>44998</td>\n",
       "      <td>0.437302</td>\n",
       "    </tr>\n",
       "  </tbody>\n",
       "</table>\n",
       "<p>14999 rows × 2 columns</p>\n",
       "</div>"
      ],
      "text/plain": [
       "       user_id   problem\n",
       "0        30000  0.998689\n",
       "1        30001  0.287556\n",
       "2        30002  0.401343\n",
       "3        30003  0.557216\n",
       "4        30004  0.336178\n",
       "...        ...       ...\n",
       "14994    44994  0.315735\n",
       "14995    44995  0.237339\n",
       "14996    44996  0.925208\n",
       "14997    44997  0.161285\n",
       "14998    44998  0.437302\n",
       "\n",
       "[14999 rows x 2 columns]"
      ]
     },
     "execution_count": 23,
     "metadata": {},
     "output_type": "execute_result"
    }
   ],
   "source": [
    "sample_submssion.to_csv(\"./submission/submission_20210114-3.csv\", index = False)\n",
    "sample_submssion"
   ]
  },
  {
   "cell_type": "code",
   "execution_count": null,
   "metadata": {},
   "outputs": [],
   "source": []
  }
 ],
 "metadata": {
  "kernelspec": {
   "display_name": "Python 3",
   "language": "python",
   "name": "python3"
  },
  "language_info": {
   "codemirror_mode": {
    "name": "ipython",
    "version": 3
   },
   "file_extension": ".py",
   "mimetype": "text/x-python",
   "name": "python",
   "nbconvert_exporter": "python",
   "pygments_lexer": "ipython3",
   "version": "3.7.6"
  }
 },
 "nbformat": 4,
 "nbformat_minor": 4
}
