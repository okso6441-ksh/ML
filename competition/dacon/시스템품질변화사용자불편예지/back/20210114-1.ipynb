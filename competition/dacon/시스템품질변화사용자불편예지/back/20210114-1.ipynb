{
 "cells": [
  {
   "cell_type": "code",
   "execution_count": 1,
   "metadata": {},
   "outputs": [],
   "source": [
    "import pandas as pd\n",
    "import numpy as np\n",
    "import datetime as dt\n",
    "import matplotlib.pyplot as plt\n",
    "from tqdm import tqdm\n",
    "import gc\n",
    "import random\n",
    "import warnings\n",
    "warnings.filterwarnings(action='ignore')"
   ]
  },
  {
   "cell_type": "code",
   "execution_count": 3,
   "metadata": {},
   "outputs": [],
   "source": [
    "PATH = './data/'\n",
    "\n",
    "train_err  = pd.read_csv(PATH+'train_err_data.csv')\n",
    "train_qua = pd.read_csv(PATH+'train_quality_data.csv')\n",
    "train_prob = pd.read_csv(PATH+'train_problem_data.csv')\n",
    "\n",
    "test_err  = pd.read_csv(PATH+'test_err_data.csv')\n",
    "test_qua  = pd.read_csv(PATH+'test_quality_data.csv')\n",
    "\n",
    "sample_submssion = pd.read_csv(PATH+'sample_submission.csv')"
   ]
  },
  {
   "cell_type": "code",
   "execution_count": null,
   "metadata": {},
   "outputs": [],
   "source": []
  },
  {
   "cell_type": "code",
   "execution_count": 8,
   "metadata": {},
   "outputs": [
    {
     "name": "stderr",
     "output_type": "stream",
     "text": [
      "100%|██████████████████████████████████████████████████████████████████| 16554663/16554663 [00:45<00:00, 363439.56it/s]\n"
     ]
    },
    {
     "data": {
      "text/plain": [
       "(15000, 42)"
      ]
     },
     "execution_count": 8,
     "metadata": {},
     "output_type": "execute_result"
    }
   ],
   "source": [
    "id_error = train_err[['user_id','errtype']].values\n",
    "\n",
    "train_user_id_max = 24999\n",
    "train_user_id_min = 10000\n",
    "train_user_number = 15000\n",
    "\n",
    "error = np.zeros((train_user_number,42))\n",
    "\n",
    "for person_idx, err in tqdm(id_error):\n",
    "    error[person_idx - train_user_id_min,err - 1] += 1\n",
    "error.shape"
   ]
  },
  {
   "cell_type": "code",
   "execution_count": 13,
   "metadata": {},
   "outputs": [
    {
     "data": {
      "text/plain": [
       "(15000,)"
      ]
     },
     "execution_count": 13,
     "metadata": {},
     "output_type": "execute_result"
    }
   ],
   "source": [
    "problem = np.zeros(15000)\n",
    "\n",
    "problem[train_prob.user_id.unique()-10000] = 1 \n",
    "problem.shape"
   ]
  },
  {
   "cell_type": "code",
   "execution_count": null,
   "metadata": {},
   "outputs": [],
   "source": []
  },
  {
   "cell_type": "code",
   "execution_count": 88,
   "metadata": {},
   "outputs": [
    {
     "name": "stderr",
     "output_type": "stream",
     "text": [
      "100%|██████████████████████████████████████████████████████████████████| 16532648/16532648 [00:48<00:00, 342276.69it/s]"
     ]
    },
    {
     "name": "stdout",
     "output_type": "stream",
     "text": [
      "(14999, 42)\n"
     ]
    },
    {
     "name": "stderr",
     "output_type": "stream",
     "text": [
      "\n"
     ]
    }
   ],
   "source": [
    "test_user_id_max = 44998\n",
    "test_user_id_min = 30000\n",
    "test_user_number = 14999\n",
    "\n",
    "id_error = test_err[['user_id','errtype']].values\n",
    "test_error = np.zeros((test_user_number,42))\n",
    "for person_idx, err in tqdm(id_error):\n",
    "    # person_idx - test_user_id_min 위치에 person_idx, errtype에 해당하는 error값을 +1\n",
    "    test_error[person_idx - test_user_id_min,err - 1] += 1\n",
    "test_error = test_error.reshape(test_error.shape[0],-1)\n",
    "print(test_error.shape)"
   ]
  },
  {
   "cell_type": "code",
   "execution_count": null,
   "metadata": {},
   "outputs": [],
   "source": []
  },
  {
   "cell_type": "code",
   "execution_count": null,
   "metadata": {},
   "outputs": [],
   "source": []
  },
  {
   "cell_type": "code",
   "execution_count": 63,
   "metadata": {},
   "outputs": [],
   "source": [
    "import tensorflow as tf\n",
    "from tensorflow.keras import datasets\n",
    "from tensorflow.keras import layers\n",
    "from tensorflow.keras.backend import mean, maximum\n",
    "from sklearn.metrics import *"
   ]
  },
  {
   "cell_type": "code",
   "execution_count": 94,
   "metadata": {},
   "outputs": [
    {
     "data": {
      "text/plain": [
       "((11250, 42), (3750, 42), (11250,), (3750,))"
      ]
     },
     "execution_count": 94,
     "metadata": {},
     "output_type": "execute_result"
    }
   ],
   "source": [
    "from sklearn.model_selection import train_test_split\n",
    "\n",
    "train_X, test_X, train_y, test_y = train_test_split(error, problem, test_size=0.25, random_state=42)\n",
    "\n",
    "train_X.shape, test_X.shape, train_y.shape, test_y.shape"
   ]
  },
  {
   "cell_type": "code",
   "execution_count": 140,
   "metadata": {},
   "outputs": [],
   "source": [
    "model = tf.keras.Sequential([\n",
    "    layers.Dense(64, activation='relu', input_shape=(error.shape)),\n",
    "    layers.Dense(64, activation='relu'),\n",
    "    layers.Dense(32, activation='relu'),\n",
    "    layers.Dense(32, activation='relu'),\n",
    "    layers.Dense(1, activation='sigmoid')\n",
    "])"
   ]
  },
  {
   "cell_type": "code",
   "execution_count": 137,
   "metadata": {},
   "outputs": [
    {
     "name": "stdout",
     "output_type": "stream",
     "text": [
      "Epoch 1/25\n",
      "WARNING:tensorflow:Model was constructed with shape (None, 15000, 42) for input KerasTensor(type_spec=TensorSpec(shape=(None, 15000, 42), dtype=tf.float32, name='dense_38_input'), name='dense_38_input', description=\"created by layer 'dense_38_input'\"), but it was called on an input with incompatible shape (None, 42).\n",
      "WARNING:tensorflow:Model was constructed with shape (None, 15000, 42) for input KerasTensor(type_spec=TensorSpec(shape=(None, 15000, 42), dtype=tf.float32, name='dense_38_input'), name='dense_38_input', description=\"created by layer 'dense_38_input'\"), but it was called on an input with incompatible shape (None, 42).\n",
      "149/176 [========================>.....] - ETA: 0s - loss: 3.9770WARNING:tensorflow:Model was constructed with shape (None, 15000, 42) for input KerasTensor(type_spec=TensorSpec(shape=(None, 15000, 42), dtype=tf.float32, name='dense_38_input'), name='dense_38_input', description=\"created by layer 'dense_38_input'\"), but it was called on an input with incompatible shape (None, 42).\n",
      "176/176 [==============================] - 1s 2ms/step - loss: 3.6804 - val_loss: 3.9845\n",
      "Epoch 2/25\n",
      "176/176 [==============================] - 0s 2ms/step - loss: 0.9592 - val_loss: 3.4319\n",
      "Epoch 3/25\n",
      "176/176 [==============================] - 0s 2ms/step - loss: 0.4364 - val_loss: 2.2191\n",
      "Epoch 4/25\n",
      "176/176 [==============================] - 0s 1ms/step - loss: 0.3916 - val_loss: 3.2189\n",
      "Epoch 5/25\n",
      "176/176 [==============================] - 0s 2ms/step - loss: 0.5486 - val_loss: 2.7052\n",
      "Epoch 6/25\n",
      "176/176 [==============================] - 0s 1ms/step - loss: 0.6470 - val_loss: 2.5783\n",
      "Epoch 7/25\n",
      "176/176 [==============================] - 0s 1ms/step - loss: 0.3404 - val_loss: 2.5174\n",
      "Epoch 8/25\n",
      "176/176 [==============================] - 0s 1ms/step - loss: 0.3468 - val_loss: 2.0123\n",
      "Epoch 9/25\n",
      "176/176 [==============================] - 0s 2ms/step - loss: 0.3241 - val_loss: 2.2221\n",
      "Epoch 10/25\n",
      "176/176 [==============================] - 0s 1ms/step - loss: 0.3709 - val_loss: 2.9646\n",
      "Epoch 11/25\n",
      "176/176 [==============================] - 0s 2ms/step - loss: 0.4523 - val_loss: 2.2688\n",
      "Epoch 12/25\n",
      "176/176 [==============================] - 0s 1ms/step - loss: 0.3822 - val_loss: 2.1879\n",
      "Epoch 13/25\n",
      "176/176 [==============================] - 0s 2ms/step - loss: 0.8666 - val_loss: 2.5923\n",
      "Epoch 14/25\n",
      "176/176 [==============================] - 0s 1ms/step - loss: 0.8101 - val_loss: 3.0420\n",
      "Epoch 15/25\n",
      "176/176 [==============================] - 0s 1ms/step - loss: 0.3654 - val_loss: 2.3999\n",
      "Epoch 16/25\n",
      "176/176 [==============================] - 0s 2ms/step - loss: 0.4332 - val_loss: 2.5039\n",
      "Epoch 17/25\n",
      "176/176 [==============================] - 0s 2ms/step - loss: 0.3726 - val_loss: 2.0178\n",
      "Epoch 18/25\n",
      "176/176 [==============================] - 0s 1ms/step - loss: 0.4217 - val_loss: 2.1169\n",
      "Epoch 19/25\n",
      "176/176 [==============================] - 0s 1ms/step - loss: 0.3408 - val_loss: 2.3257\n",
      "Epoch 20/25\n",
      "176/176 [==============================] - 0s 1ms/step - loss: 0.4342 - val_loss: 2.5705\n",
      "Epoch 21/25\n",
      "176/176 [==============================] - 0s 1ms/step - loss: 0.3328 - val_loss: 2.1749\n",
      "Epoch 22/25\n",
      "176/176 [==============================] - 0s 1ms/step - loss: 0.3551 - val_loss: 2.1257\n",
      "Epoch 23/25\n",
      "176/176 [==============================] - 0s 2ms/step - loss: 0.3221 - val_loss: 2.1949\n",
      "Epoch 24/25\n",
      "176/176 [==============================] - 0s 2ms/step - loss: 0.3275 - val_loss: 2.1961\n",
      "Epoch 25/25\n",
      "176/176 [==============================] - 0s 1ms/step - loss: 0.3433 - val_loss: 1.8782\n",
      "118/118 [==============================] - 0s 631us/step - loss: 0.8100\n"
     ]
    },
    {
     "data": {
      "text/plain": [
       "0.8099860548973083"
      ]
     },
     "execution_count": 137,
     "metadata": {},
     "output_type": "execute_result"
    }
   ],
   "source": [
    "model.compile(loss='binary_crossentropy', optimizer='rmsprop')\n",
    "model.fit(train_X, train_y, epochs=25, batch_size=48, validation_split=0.25)\n",
    "model.evaluate(test_X, test_y)"
   ]
  },
  {
   "cell_type": "code",
   "execution_count": 138,
   "metadata": {},
   "outputs": [
    {
     "name": "stdout",
     "output_type": "stream",
     "text": [
      "WARNING:tensorflow:Model was constructed with shape (None, 15000, 42) for input KerasTensor(type_spec=TensorSpec(shape=(None, 15000, 42), dtype=tf.float32, name='dense_38_input'), name='dense_38_input', description=\"created by layer 'dense_38_input'\"), but it was called on an input with incompatible shape (None, 42).\n"
     ]
    },
    {
     "data": {
      "text/plain": [
       "array([[0.36628854],\n",
       "       [0.06314939],\n",
       "       [0.36023322],\n",
       "       ...,\n",
       "       [0.13164744],\n",
       "       [0.19668049],\n",
       "       [0.13164744]], dtype=float32)"
      ]
     },
     "execution_count": 138,
     "metadata": {},
     "output_type": "execute_result"
    }
   ],
   "source": [
    "pred = model.predict_proba(test_X)\n",
    "pred"
   ]
  },
  {
   "cell_type": "code",
   "execution_count": 139,
   "metadata": {},
   "outputs": [
    {
     "data": {
      "text/plain": [
       "0.6542510059748811"
      ]
     },
     "execution_count": 139,
     "metadata": {},
     "output_type": "execute_result"
    }
   ],
   "source": [
    "roc_auc_score(test_y, pred)"
   ]
  },
  {
   "cell_type": "code",
   "execution_count": 77,
   "metadata": {},
   "outputs": [
    {
     "name": "stdout",
     "output_type": "stream",
     "text": [
      "WARNING:tensorflow:Network returning invalid probability values. The last layer might not normalize predictions into probabilities (like softmax or sigmoid would).\n"
     ]
    },
    {
     "data": {
      "text/plain": [
       "array([[-133.15392],\n",
       "       [ -67.74911],\n",
       "       [ -88.40822],\n",
       "       ...,\n",
       "       [ -44.98244],\n",
       "       [-113.41911],\n",
       "       [-318.56403]], dtype=float32)"
      ]
     },
     "execution_count": 77,
     "metadata": {},
     "output_type": "execute_result"
    }
   ],
   "source": [
    "pred = model.predict_proba(test_X)\n",
    "pred"
   ]
  },
  {
   "cell_type": "code",
   "execution_count": null,
   "metadata": {},
   "outputs": [],
   "source": []
  },
  {
   "cell_type": "code",
   "execution_count": 141,
   "metadata": {},
   "outputs": [
    {
     "name": "stdout",
     "output_type": "stream",
     "text": [
      "Epoch 1/25\n",
      "WARNING:tensorflow:Model was constructed with shape (None, 15000, 42) for input KerasTensor(type_spec=TensorSpec(shape=(None, 15000, 42), dtype=tf.float32, name='dense_43_input'), name='dense_43_input', description=\"created by layer 'dense_43_input'\"), but it was called on an input with incompatible shape (None, 42).\n",
      "WARNING:tensorflow:Model was constructed with shape (None, 15000, 42) for input KerasTensor(type_spec=TensorSpec(shape=(None, 15000, 42), dtype=tf.float32, name='dense_43_input'), name='dense_43_input', description=\"created by layer 'dense_43_input'\"), but it was called on an input with incompatible shape (None, 42).\n",
      "219/235 [==========================>...] - ETA: 0s - loss: 2.6710WARNING:tensorflow:Model was constructed with shape (None, 15000, 42) for input KerasTensor(type_spec=TensorSpec(shape=(None, 15000, 42), dtype=tf.float32, name='dense_43_input'), name='dense_43_input', description=\"created by layer 'dense_43_input'\"), but it was called on an input with incompatible shape (None, 42).\n",
      "235/235 [==============================] - 1s 2ms/step - loss: 2.6227 - val_loss: 1.4913\n",
      "Epoch 2/25\n",
      "235/235 [==============================] - 0s 1ms/step - loss: 1.1201 - val_loss: 0.8920\n",
      "Epoch 3/25\n",
      "235/235 [==============================] - 0s 1ms/step - loss: 0.8159 - val_loss: 0.7599\n",
      "Epoch 4/25\n",
      "235/235 [==============================] - 0s 1ms/step - loss: 0.7600 - val_loss: 0.7112\n",
      "Epoch 5/25\n",
      "235/235 [==============================] - 0s 1ms/step - loss: 0.6958 - val_loss: 0.6760\n",
      "Epoch 6/25\n",
      "235/235 [==============================] - 0s 1ms/step - loss: 0.6844 - val_loss: 0.6541\n",
      "Epoch 7/25\n",
      "235/235 [==============================] - 0s 1ms/step - loss: 0.6452 - val_loss: 0.6585\n",
      "Epoch 8/25\n",
      "235/235 [==============================] - 0s 1ms/step - loss: 0.5833 - val_loss: 0.6554\n",
      "Epoch 9/25\n",
      "235/235 [==============================] - 0s 2ms/step - loss: 0.5925 - val_loss: 0.6463\n",
      "Epoch 10/25\n",
      "235/235 [==============================] - 0s 1ms/step - loss: 0.5814 - val_loss: 0.6021\n",
      "Epoch 11/25\n",
      "235/235 [==============================] - 0s 1ms/step - loss: 0.5779 - val_loss: 0.6651\n",
      "Epoch 12/25\n",
      "235/235 [==============================] - 0s 1ms/step - loss: 0.6876 - val_loss: 0.6072\n",
      "Epoch 13/25\n",
      "235/235 [==============================] - 0s 1ms/step - loss: 0.6545 - val_loss: 0.7022\n",
      "Epoch 14/25\n",
      "235/235 [==============================] - 0s 1ms/step - loss: 0.6965 - val_loss: 0.6550\n",
      "Epoch 15/25\n",
      "235/235 [==============================] - 0s 2ms/step - loss: 0.5494 - val_loss: 0.8684\n",
      "Epoch 16/25\n",
      "235/235 [==============================] - 0s 1ms/step - loss: 0.7984 - val_loss: 0.6121\n",
      "Epoch 17/25\n",
      "235/235 [==============================] - 0s 1ms/step - loss: 0.5609 - val_loss: 0.6001\n",
      "Epoch 18/25\n",
      "235/235 [==============================] - 0s 1ms/step - loss: 0.5614 - val_loss: 0.6041\n",
      "Epoch 19/25\n",
      "235/235 [==============================] - 0s 1ms/step - loss: 0.5704 - val_loss: 0.6093\n",
      "Epoch 20/25\n",
      "235/235 [==============================] - 0s 1ms/step - loss: 0.5892 - val_loss: 0.6241\n",
      "Epoch 21/25\n",
      "235/235 [==============================] - 0s 1ms/step - loss: 0.5469 - val_loss: 0.5842\n",
      "Epoch 22/25\n",
      "235/235 [==============================] - 0s 1ms/step - loss: 0.5577 - val_loss: 0.5753\n",
      "Epoch 23/25\n",
      "235/235 [==============================] - 0s 1ms/step - loss: 0.5324 - val_loss: 0.5879\n",
      "Epoch 24/25\n",
      "235/235 [==============================] - 0s 1ms/step - loss: 0.5367 - val_loss: 0.6130\n",
      "Epoch 25/25\n",
      "235/235 [==============================] - 0s 1ms/step - loss: 0.5439 - val_loss: 0.5764\n"
     ]
    },
    {
     "data": {
      "text/plain": [
       "<tensorflow.python.keras.callbacks.History at 0x17fa1d8ff48>"
      ]
     },
     "execution_count": 141,
     "metadata": {},
     "output_type": "execute_result"
    }
   ],
   "source": [
    "model.compile(loss='binary_crossentropy', optimizer='rmsprop')\n",
    "model.fit(error, problem, epochs=25, batch_size=48, validation_split=0.25)"
   ]
  },
  {
   "cell_type": "code",
   "execution_count": null,
   "metadata": {},
   "outputs": [],
   "source": []
  },
  {
   "cell_type": "code",
   "execution_count": 142,
   "metadata": {},
   "outputs": [
    {
     "name": "stdout",
     "output_type": "stream",
     "text": [
      "WARNING:tensorflow:Model was constructed with shape (None, 15000, 42) for input KerasTensor(type_spec=TensorSpec(shape=(None, 15000, 42), dtype=tf.float32, name='dense_43_input'), name='dense_43_input', description=\"created by layer 'dense_43_input'\"), but it was called on an input with incompatible shape (None, 42).\n"
     ]
    },
    {
     "data": {
      "text/plain": [
       "array([[0.48644623],\n",
       "       [0.22517031],\n",
       "       [0.2537135 ],\n",
       "       ...,\n",
       "       [0.53534484],\n",
       "       [0.7960218 ],\n",
       "       [0.26886296]], dtype=float32)"
      ]
     },
     "execution_count": 142,
     "metadata": {},
     "output_type": "execute_result"
    }
   ],
   "source": [
    "pred = model.predict_proba(test_x)\n",
    "pred"
   ]
  },
  {
   "cell_type": "code",
   "execution_count": 143,
   "metadata": {},
   "outputs": [],
   "source": [
    "sample_submssion['problem'] = pred"
   ]
  },
  {
   "cell_type": "code",
   "execution_count": 144,
   "metadata": {},
   "outputs": [
    {
     "data": {
      "text/html": [
       "<div>\n",
       "<style scoped>\n",
       "    .dataframe tbody tr th:only-of-type {\n",
       "        vertical-align: middle;\n",
       "    }\n",
       "\n",
       "    .dataframe tbody tr th {\n",
       "        vertical-align: top;\n",
       "    }\n",
       "\n",
       "    .dataframe thead th {\n",
       "        text-align: right;\n",
       "    }\n",
       "</style>\n",
       "<table border=\"1\" class=\"dataframe\">\n",
       "  <thead>\n",
       "    <tr style=\"text-align: right;\">\n",
       "      <th></th>\n",
       "      <th>user_id</th>\n",
       "      <th>problem</th>\n",
       "    </tr>\n",
       "  </thead>\n",
       "  <tbody>\n",
       "    <tr>\n",
       "      <th>0</th>\n",
       "      <td>30000</td>\n",
       "      <td>0.486446</td>\n",
       "    </tr>\n",
       "    <tr>\n",
       "      <th>1</th>\n",
       "      <td>30001</td>\n",
       "      <td>0.225170</td>\n",
       "    </tr>\n",
       "    <tr>\n",
       "      <th>2</th>\n",
       "      <td>30002</td>\n",
       "      <td>0.253713</td>\n",
       "    </tr>\n",
       "    <tr>\n",
       "      <th>3</th>\n",
       "      <td>30003</td>\n",
       "      <td>0.618141</td>\n",
       "    </tr>\n",
       "    <tr>\n",
       "      <th>4</th>\n",
       "      <td>30004</td>\n",
       "      <td>0.287691</td>\n",
       "    </tr>\n",
       "    <tr>\n",
       "      <th>...</th>\n",
       "      <td>...</td>\n",
       "      <td>...</td>\n",
       "    </tr>\n",
       "    <tr>\n",
       "      <th>14994</th>\n",
       "      <td>44994</td>\n",
       "      <td>0.313673</td>\n",
       "    </tr>\n",
       "    <tr>\n",
       "      <th>14995</th>\n",
       "      <td>44995</td>\n",
       "      <td>0.272139</td>\n",
       "    </tr>\n",
       "    <tr>\n",
       "      <th>14996</th>\n",
       "      <td>44996</td>\n",
       "      <td>0.535345</td>\n",
       "    </tr>\n",
       "    <tr>\n",
       "      <th>14997</th>\n",
       "      <td>44997</td>\n",
       "      <td>0.796022</td>\n",
       "    </tr>\n",
       "    <tr>\n",
       "      <th>14998</th>\n",
       "      <td>44998</td>\n",
       "      <td>0.268863</td>\n",
       "    </tr>\n",
       "  </tbody>\n",
       "</table>\n",
       "<p>14999 rows × 2 columns</p>\n",
       "</div>"
      ],
      "text/plain": [
       "       user_id   problem\n",
       "0        30000  0.486446\n",
       "1        30001  0.225170\n",
       "2        30002  0.253713\n",
       "3        30003  0.618141\n",
       "4        30004  0.287691\n",
       "...        ...       ...\n",
       "14994    44994  0.313673\n",
       "14995    44995  0.272139\n",
       "14996    44996  0.535345\n",
       "14997    44997  0.796022\n",
       "14998    44998  0.268863\n",
       "\n",
       "[14999 rows x 2 columns]"
      ]
     },
     "execution_count": 144,
     "metadata": {},
     "output_type": "execute_result"
    }
   ],
   "source": [
    "sample_submssion"
   ]
  },
  {
   "cell_type": "code",
   "execution_count": 145,
   "metadata": {},
   "outputs": [
    {
     "data": {
      "text/html": [
       "<div>\n",
       "<style scoped>\n",
       "    .dataframe tbody tr th:only-of-type {\n",
       "        vertical-align: middle;\n",
       "    }\n",
       "\n",
       "    .dataframe tbody tr th {\n",
       "        vertical-align: top;\n",
       "    }\n",
       "\n",
       "    .dataframe thead th {\n",
       "        text-align: right;\n",
       "    }\n",
       "</style>\n",
       "<table border=\"1\" class=\"dataframe\">\n",
       "  <thead>\n",
       "    <tr style=\"text-align: right;\">\n",
       "      <th></th>\n",
       "      <th>user_id</th>\n",
       "      <th>problem</th>\n",
       "    </tr>\n",
       "  </thead>\n",
       "  <tbody>\n",
       "    <tr>\n",
       "      <th>0</th>\n",
       "      <td>30000</td>\n",
       "      <td>0.486446</td>\n",
       "    </tr>\n",
       "    <tr>\n",
       "      <th>1</th>\n",
       "      <td>30001</td>\n",
       "      <td>0.225170</td>\n",
       "    </tr>\n",
       "    <tr>\n",
       "      <th>2</th>\n",
       "      <td>30002</td>\n",
       "      <td>0.253713</td>\n",
       "    </tr>\n",
       "    <tr>\n",
       "      <th>3</th>\n",
       "      <td>30003</td>\n",
       "      <td>0.618141</td>\n",
       "    </tr>\n",
       "    <tr>\n",
       "      <th>4</th>\n",
       "      <td>30004</td>\n",
       "      <td>0.287691</td>\n",
       "    </tr>\n",
       "    <tr>\n",
       "      <th>...</th>\n",
       "      <td>...</td>\n",
       "      <td>...</td>\n",
       "    </tr>\n",
       "    <tr>\n",
       "      <th>14994</th>\n",
       "      <td>44994</td>\n",
       "      <td>0.313673</td>\n",
       "    </tr>\n",
       "    <tr>\n",
       "      <th>14995</th>\n",
       "      <td>44995</td>\n",
       "      <td>0.272139</td>\n",
       "    </tr>\n",
       "    <tr>\n",
       "      <th>14996</th>\n",
       "      <td>44996</td>\n",
       "      <td>0.535345</td>\n",
       "    </tr>\n",
       "    <tr>\n",
       "      <th>14997</th>\n",
       "      <td>44997</td>\n",
       "      <td>0.796022</td>\n",
       "    </tr>\n",
       "    <tr>\n",
       "      <th>14998</th>\n",
       "      <td>44998</td>\n",
       "      <td>0.268863</td>\n",
       "    </tr>\n",
       "  </tbody>\n",
       "</table>\n",
       "<p>14999 rows × 2 columns</p>\n",
       "</div>"
      ],
      "text/plain": [
       "       user_id   problem\n",
       "0        30000  0.486446\n",
       "1        30001  0.225170\n",
       "2        30002  0.253713\n",
       "3        30003  0.618141\n",
       "4        30004  0.287691\n",
       "...        ...       ...\n",
       "14994    44994  0.313673\n",
       "14995    44995  0.272139\n",
       "14996    44996  0.535345\n",
       "14997    44997  0.796022\n",
       "14998    44998  0.268863\n",
       "\n",
       "[14999 rows x 2 columns]"
      ]
     },
     "execution_count": 145,
     "metadata": {},
     "output_type": "execute_result"
    }
   ],
   "source": [
    "sample_submssion.to_csv(\"./submission/submission_20210114-1.csv\", index = False)\n",
    "sample_submssion"
   ]
  }
 ],
 "metadata": {
  "kernelspec": {
   "display_name": "Python 3",
   "language": "python",
   "name": "python3"
  },
  "language_info": {
   "codemirror_mode": {
    "name": "ipython",
    "version": 3
   },
   "file_extension": ".py",
   "mimetype": "text/x-python",
   "name": "python",
   "nbconvert_exporter": "python",
   "pygments_lexer": "ipython3",
   "version": "3.7.6"
  }
 },
 "nbformat": 4,
 "nbformat_minor": 4
}
