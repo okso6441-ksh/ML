{
 "cells": [
  {
   "cell_type": "code",
   "execution_count": null,
   "metadata": {},
   "outputs": [],
   "source": [
    "import pandas as pd\n",
    "import numpy as np\n",
    "import datetime as dt\n",
    "import matplotlib.pyplot as plt\n",
    "%matplotlib inline\n",
    "import seaborn as sns\n",
    "from tqdm import tqdm\n",
    "import gc\n",
    "import random\n",
    "\n",
    "import lightgbm as lgb\n",
    "import re\n",
    "from sklearn.metrics import *\n",
    "from sklearn.model_selection import KFold\n",
    "\n",
    "import warnings\n",
    "warnings.filterwarnings(action='ignore')\n",
    "\n",
    "from pycaret.classification import *\n",
    "\n",
    "import random as python_random\n",
    "seed = 42\n",
    "np.random.seed(seed)\n",
    "python_random.seed(seed)\n",
    "set_config('seed', seed)"
   ]
  },
  {
   "cell_type": "code",
   "execution_count": null,
   "metadata": {},
   "outputs": [],
   "source": [
    "PATH = './data/'\n",
    "\n",
    "train_err  = pd.read_csv(PATH+'train_err_data.csv')\n",
    "train_qua = pd.read_csv(PATH+'train_quality_data.csv')\n",
    "train_prob = pd.read_csv(PATH+'train_problem_data.csv')\n",
    "\n",
    "test_err  = pd.read_csv(PATH+'test_err_data.csv')\n",
    "test_qua  = pd.read_csv(PATH+'test_quality_data.csv')\n",
    "\n",
    "sample_submssion = pd.read_csv(PATH+'sample_submission.csv')"
   ]
  },
  {
   "cell_type": "code",
   "execution_count": null,
   "metadata": {},
   "outputs": [],
   "source": [
    "def chg_qua(x):\n",
    "    if x == 0:\n",
    "        return 0\n",
    "    else:\n",
    "        return 1"
   ]
  },
  {
   "cell_type": "code",
   "execution_count": null,
   "metadata": {},
   "outputs": [],
   "source": []
  },
  {
   "cell_type": "code",
   "execution_count": null,
   "metadata": {},
   "outputs": [],
   "source": [
    "train_err['date'] = train_err['time'].astype(str).str.slice(0,8)\n",
    "train_err['model_fwver'] = train_err.model_nm + train_err.fwver\n",
    "train_err['errtype_code'] = train_err.errtype.astype(str) + train_err.errcode\n",
    "\n",
    "train_err_0 = train_err[['user_id','date','model_fwver','errtype_code']].drop_duplicates()\n",
    "display(train_err_0.head())\n",
    "\n",
    "test_err['date'] = test_err['time'].astype(str).str.slice(0,8)\n",
    "test_err['model_fwver'] = test_err.model_nm + test_err.fwver\n",
    "test_err['errtype_code'] = test_err.errtype.astype(str) + test_err.errcode\n",
    "\n",
    "test_err_0 = test_err[['user_id','date','model_fwver','errtype_code']].drop_duplicates()\n",
    "display(test_err_0.head())"
   ]
  },
  {
   "cell_type": "code",
   "execution_count": null,
   "metadata": {},
   "outputs": [],
   "source": [
    "train_err_1 = train_err.groupby(['user_id','date']).count().reset_index()[['user_id','date','time']]\n",
    "train_err_1.columns = ['user_id','date','date_cnt']\n",
    "train_err_1 = train_err_1.groupby('user_id').agg({'date':'count','date_cnt': 'sum'}).reset_index()\n",
    "train_err_1.columns = ['user_id','date_cnt', 'date_sum']\n",
    "display(train_err_1.head())\n",
    "\n",
    "test_err_1 = test_err.groupby(['user_id','date']).count().reset_index()[['user_id','date','time']]\n",
    "test_err_1.columns = ['user_id','date','date_cnt']\n",
    "test_err_1 = test_err_1.groupby('user_id').agg({'date':'count','date_cnt': 'sum'}).reset_index()\n",
    "test_err_1.columns = ['user_id','date_cnt', 'date_sum']\n",
    "display(test_err_1.head())\n",
    "\n",
    "train_err_1.shape"
   ]
  },
  {
   "cell_type": "code",
   "execution_count": null,
   "metadata": {},
   "outputs": [],
   "source": [
    "train = train_err_1.copy()\n",
    "test = test_err_1.copy()"
   ]
  },
  {
   "cell_type": "code",
   "execution_count": null,
   "metadata": {},
   "outputs": [],
   "source": [
    "train_model = set(train_err.model_fwver.unique())\n",
    "test_model = set(test_err.model_fwver.unique())\n",
    "models = train_model & test_model\n",
    "models = list(models)\n",
    "\n",
    "for model in models:\n",
    "    train[model] = 0\n",
    "    test[model] = 0\n",
    "    \n",
    "train.shape, test.shape    "
   ]
  },
  {
   "cell_type": "code",
   "execution_count": null,
   "metadata": {},
   "outputs": [],
   "source": []
  },
  {
   "cell_type": "code",
   "execution_count": null,
   "metadata": {},
   "outputs": [],
   "source": [
    "train_err_2 = train_err.groupby(['user_id','model_fwver']).count().reset_index()[['user_id','model_fwver','time']]\n",
    "train_err_2.columns = ['user_id','model_fwver','model_fwver_cnt']\n",
    "display(train_err_2.head())\n",
    "\n",
    "test_err_2 = test_err.groupby(['user_id','model_fwver']).count().reset_index()[['user_id','model_fwver','time']]\n",
    "test_err_2.columns = ['user_id','model_fwver','model_fwver_cnt']\n",
    "display(test_err_2.head())"
   ]
  },
  {
   "cell_type": "code",
   "execution_count": null,
   "metadata": {},
   "outputs": [],
   "source": [
    "for idx, col in tqdm(enumerate(train_err_2.values)):\n",
    "    i = train[train.user_id == train_err_2.loc[idx].user_id].index\n",
    "    c = train.columns[train.columns == train_err_2.loc[idx].model_fwver]\n",
    "    \n",
    "    train.loc[i, c] += train_err_2.loc[idx].model_fwver_cnt    \n",
    "\n",
    "for idx, col in tqdm(enumerate(test_err_2.values)):\n",
    "    i = test[test.user_id == test_err_2.loc[idx].user_id].index\n",
    "    c = test.columns[test.columns == test_err_2.loc[idx].model_fwver]\n",
    "    \n",
    "    test.loc[i, c] += test_err_2.loc[idx].model_fwver_cnt    "
   ]
  },
  {
   "cell_type": "code",
   "execution_count": null,
   "metadata": {},
   "outputs": [],
   "source": [
    "train_error = set(train_err.errtype.unique())\n",
    "test_error = set(test_err.errtype.unique())\n",
    "errors = train_error & test_error\n",
    "errors = list(errors)\n",
    "\n",
    "for error in errors:\n",
    "    train['E'+str(error)] = 0\n",
    "    test['E'+str(error)] = 0\n",
    "    \n",
    "train.shape, test.shape    "
   ]
  },
  {
   "cell_type": "code",
   "execution_count": null,
   "metadata": {},
   "outputs": [],
   "source": [
    "train_err_3 = train_err.groupby(['user_id','errtype']).count().reset_index()[['user_id','errtype','time']]\n",
    "train_err_3.columns = ['user_id','errtype','errtype_cnt']\n",
    "display(train_err_3.head())\n",
    "\n",
    "test_err_3 = test_err.groupby(['user_id','errtype']).count().reset_index()[['user_id','errtype','time']]\n",
    "test_err_3.columns = ['user_id','errtype','errtype_cnt']\n",
    "display(test_err_3.head())"
   ]
  },
  {
   "cell_type": "code",
   "execution_count": null,
   "metadata": {},
   "outputs": [],
   "source": [
    "for idx, col in tqdm(enumerate(train_err_3.values)):\n",
    "    i = train[train.user_id == train_err_3.loc[idx].user_id].index\n",
    "    c = train.columns[train.columns == 'E'+str(train_err_3.loc[idx].errtype)]\n",
    "    \n",
    "    train.loc[i, c] += train_err_3.loc[idx].errtype_cnt    \n",
    "\n",
    "for idx, col in tqdm(enumerate(test_err_3.values)):\n",
    "    i = test[test.user_id == test_err_3.loc[idx].user_id].index\n",
    "    c = test.columns[test.columns == 'E'+str(test_err_3.loc[idx].errtype)]\n",
    "    \n",
    "    test.loc[i, c] += test_err_3.loc[idx].errtype_cnt    "
   ]
  },
  {
   "cell_type": "code",
   "execution_count": null,
   "metadata": {},
   "outputs": [],
   "source": []
  },
  {
   "cell_type": "code",
   "execution_count": null,
   "metadata": {},
   "outputs": [],
   "source": [
    "train_qua_0 = train_qua.drop_duplicates()\n",
    "test_qua_0 = test_qua.drop_duplicates()\n",
    "\n",
    "train_qua_0.drop(['quality_3','quality_4','time','fwver'], axis=1, inplace=True)\n",
    "test_qua_0.drop(['quality_3','quality_4','time','fwver'], axis=1, inplace=True)\n",
    "\n",
    "train_qua_0.fillna(0, inplace=True)\n",
    "test_qua_0.fillna(0, inplace=True)"
   ]
  },
  {
   "cell_type": "code",
   "execution_count": null,
   "metadata": {},
   "outputs": [],
   "source": [
    "cols = ['quality_0', 'quality_1', 'quality_2', 'quality_5','quality_6', 'quality_7', 'quality_8', 'quality_9', 'quality_10','quality_11', 'quality_12']\n",
    "\n",
    "for col in cols:\n",
    "    train_qua_0[col] = train_qua_0[col].apply(chg_qua)\n",
    "    test_qua_0[col] = test_qua_0[col].apply(chg_qua)"
   ]
  },
  {
   "cell_type": "code",
   "execution_count": null,
   "metadata": {},
   "outputs": [],
   "source": [
    "train_qua_1 = train_qua_0.groupby('user_id').sum().reset_index()\n",
    "test_qua_1 = test_qua_0.groupby('user_id').sum().reset_index()"
   ]
  },
  {
   "cell_type": "code",
   "execution_count": null,
   "metadata": {},
   "outputs": [],
   "source": [
    "train = train.merge(train_qua_1, on='user_id', how='left').fillna(0)\n",
    "test = test.merge(test_qua_1, on='user_id', how='left').fillna(0)"
   ]
  },
  {
   "cell_type": "code",
   "execution_count": null,
   "metadata": {},
   "outputs": [],
   "source": []
  },
  {
   "cell_type": "code",
   "execution_count": null,
   "metadata": {},
   "outputs": [],
   "source": []
  },
  {
   "cell_type": "code",
   "execution_count": null,
   "metadata": {},
   "outputs": [],
   "source": []
  },
  {
   "cell_type": "code",
   "execution_count": null,
   "metadata": {},
   "outputs": [],
   "source": [
    "train.to_csv(\"./train.csv\", index=False)\n",
    "test.to_csv(\"./test.csv\", index=False)"
   ]
  },
  {
   "cell_type": "code",
   "execution_count": null,
   "metadata": {},
   "outputs": [],
   "source": [
    "train  = pd.read_csv('train.csv')\n",
    "test = pd.read_csv('test.csv')"
   ]
  },
  {
   "cell_type": "code",
   "execution_count": null,
   "metadata": {},
   "outputs": [],
   "source": []
  },
  {
   "cell_type": "code",
   "execution_count": null,
   "metadata": {},
   "outputs": [],
   "source": [
    "display(train.head())\n",
    "display(test.head())\n",
    "\n",
    "train.shape, test.shape"
   ]
  },
  {
   "cell_type": "code",
   "execution_count": null,
   "metadata": {},
   "outputs": [],
   "source": []
  },
  {
   "cell_type": "code",
   "execution_count": null,
   "metadata": {},
   "outputs": [],
   "source": [
    "train.corr()['prob'].sort_values(ascending=False)[:10]"
   ]
  },
  {
   "cell_type": "code",
   "execution_count": null,
   "metadata": {},
   "outputs": [],
   "source": []
  },
  {
   "cell_type": "code",
   "execution_count": null,
   "metadata": {},
   "outputs": [],
   "source": [
    "train_err_d1 = train_err.groupby(['user_id','date']).count().groupby('user_id')['time'].max().reset_index()\n",
    "train_err_d1.columns = ['user_id', 'day_max']\n",
    "train_err_d1\n",
    "\n",
    "test_err_d1 = test_err.groupby(['user_id','date']).count().groupby('user_id')['time'].max().reset_index()\n",
    "test_err_d1.columns = ['user_id', 'day_max']\n",
    "test_err_d1\n",
    "\n",
    "\n",
    "\n",
    "train = train.merge(train_err_d1, on='user_id', how='left')\n",
    "test = test.merge(test_err_d1, on='user_id', how='left')\n",
    "train"
   ]
  },
  {
   "cell_type": "code",
   "execution_count": null,
   "metadata": {},
   "outputs": [],
   "source": []
  },
  {
   "cell_type": "code",
   "execution_count": null,
   "metadata": {},
   "outputs": [],
   "source": [
    "train.columns\n",
    "\n",
    "col1 = ['date_cnt', 'date_sum', 'day_max','prob']\n",
    "col2 = ['model_403.11.1167', 'model_004.22.1750', 'model_610'\n",
    "        , 'model_68.5.3','model_204.33.1185', 'model_705.66.3237','model_104.16.3571','prob']\n",
    "col4 = ['model_004.22.1778', 'model_104.16.3569', 'model_204.33.1171', 'model_305.15.2120', 'model_504.82.1684', 'model_305.15.3104','prob']\n",
    "col5 = ['model_504.82.1778', 'model_104.16.3553', 'model_504.82.1730', 'model_403.11.1149', 'model_104.16.3439', 'model_305.15.2092','prob']\n",
    "col6 = ['model_305.15.2138', 'model_004.22.1656', 'model_204.33.1125', 'model_204.33.1261', 'model_004.22.1666', 'model_403.11.1141','prob']\n",
    "col7 = ['model_705.66.3571', 'model_305.15.2114', 'model_204.33.1149','model_804.73.2237', 'model_004.22.1684','prob']\n",
    "col8 = ['E1', 'E2', 'E3', 'E4', 'E5','prob']\n",
    "col81 =  ['E6', 'E7', 'E8', 'E9', 'E10','prob']\n",
    "col9 = [ 'E11', 'E12', 'E13', 'E14', 'E15','prob']\n",
    "col91 = [ 'E16','E17', 'E18', 'E19', 'E20','prob']\n",
    "col10 = [ 'E21', 'E22', 'E23', 'E24', 'E25','prob']\n",
    "col101 = [ 'E26','E27', 'E28', 'E30', 'E31','prob']\n",
    "col11 = [ 'E32', 'E33', 'E34', 'E35', 'E36','prob']\n",
    "col111 = [ 'E37','E38', 'E39', 'E40', 'E41', 'E42','prob']\n",
    "col12 = ['quality_0', 'quality_1', 'quality_2', 'quality_5', 'quality_6','prob']\n",
    "col13 = ['quality_9', 'quality_10', 'quality_11', 'quality_12', 'quality_7', 'quality_8','prob']"
   ]
  },
  {
   "cell_type": "code",
   "execution_count": null,
   "metadata": {},
   "outputs": [],
   "source": [
    "train.describe().to_csv('desc.csv')"
   ]
  },
  {
   "cell_type": "code",
   "execution_count": null,
   "metadata": {},
   "outputs": [],
   "source": [
    "colE = ['E2','E4','E31','E37', 'prob']"
   ]
  },
  {
   "cell_type": "code",
   "execution_count": null,
   "metadata": {},
   "outputs": [],
   "source": [
    "train['E37'].value_counts()"
   ]
  },
  {
   "cell_type": "code",
   "execution_count": null,
   "metadata": {},
   "outputs": [],
   "source": [
    "colE = col = [ 'model_004.22.1666'\n",
    ", 'model_705.66.3571'\n",
    ", 'model_305.15.2114'\n",
    ", 'model_004.22.1684','prob']\n",
    "\n",
    "\n",
    "sns.pairplot(train[colE], hue='prob')\n",
    "plt.show()"
   ]
  },
  {
   "cell_type": "code",
   "execution_count": null,
   "metadata": {},
   "outputs": [],
   "source": [
    "colE = col = [ 'model_104.16.3569'\n",
    ", 'model_504.82.1730'\n",
    ", 'model_305.15.2092'\n",
    ", 'model_305.15.2138'\n",
    ", 'model_004.22.1656','prob']\n",
    "\n",
    "\n",
    "sns.pairplot(train[colE], hue='prob')\n",
    "plt.show()"
   ]
  },
  {
   "cell_type": "code",
   "execution_count": null,
   "metadata": {},
   "outputs": [],
   "source": [
    "col = [  \n",
    ", 'model_004.22.1684']\n",
    "\n",
    "for c in col:\n",
    "    print(c)\n",
    "    print(train[c].value_counts())"
   ]
  },
  {
   "cell_type": "code",
   "execution_count": null,
   "metadata": {},
   "outputs": [],
   "source": [
    "sns.pairplot(train[col4], hue='prob')\n",
    "plt.show()"
   ]
  },
  {
   "cell_type": "code",
   "execution_count": null,
   "metadata": {},
   "outputs": [],
   "source": [
    "plt.figure(figsize=(8,8))\n",
    "sns.heatmap(train_qua_1.corr(), annot=True, fmt='.2f', cmap='RdYlGn_r')"
   ]
  },
  {
   "cell_type": "code",
   "execution_count": null,
   "metadata": {},
   "outputs": [],
   "source": []
  },
  {
   "cell_type": "code",
   "execution_count": null,
   "metadata": {},
   "outputs": [],
   "source": []
  },
  {
   "cell_type": "code",
   "execution_count": null,
   "metadata": {},
   "outputs": [],
   "source": []
  },
  {
   "cell_type": "code",
   "execution_count": null,
   "metadata": {},
   "outputs": [],
   "source": [
    "plt.figure(figsize=(12,12))\n",
    "sns.heatmap(train.corr(), annot=True, fmt='.2f', cmap='RdYlGn_r')"
   ]
  },
  {
   "cell_type": "code",
   "execution_count": null,
   "metadata": {},
   "outputs": [],
   "source": []
  },
  {
   "cell_type": "code",
   "execution_count": null,
   "metadata": {},
   "outputs": [],
   "source": [
    "test.columns"
   ]
  },
  {
   "cell_type": "code",
   "execution_count": null,
   "metadata": {},
   "outputs": [],
   "source": [
    "train"
   ]
  },
  {
   "cell_type": "code",
   "execution_count": null,
   "metadata": {},
   "outputs": [],
   "source": [
    "test.info()"
   ]
  },
  {
   "cell_type": "code",
   "execution_count": null,
   "metadata": {},
   "outputs": [],
   "source": []
  },
  {
   "cell_type": "code",
   "execution_count": null,
   "metadata": {},
   "outputs": [],
   "source": [
    "cols = test.columns[1:]\n",
    "cols = list(cols)"
   ]
  },
  {
   "cell_type": "code",
   "execution_count": null,
   "metadata": {},
   "outputs": [],
   "source": [
    "min = train[cols].min()\n",
    "max  = train[cols].max()"
   ]
  },
  {
   "cell_type": "code",
   "execution_count": null,
   "metadata": {},
   "outputs": [],
   "source": [
    "for i, col in enumerate(cols):\n",
    "    train[col] = (train[col] - min[i]) / (max[i] - min[i])\n",
    "    test[col] = (test[col] - min[i]) / (max[i] - min[i])"
   ]
  },
  {
   "cell_type": "code",
   "execution_count": null,
   "metadata": {},
   "outputs": [],
   "source": []
  },
  {
   "cell_type": "code",
   "execution_count": null,
   "metadata": {},
   "outputs": [],
   "source": [
    "train_prob1 = train_prob.groupby('user_id').count().reset_index()\n",
    "train_prob1.time = train_prob1.time.apply(chg_qua)\n",
    "train_prob1.columns = ['user_id', 'prob']\n",
    "train_prob1\n",
    "\n",
    "train = train.merge(train_prob1, on='user_id', how='left').fillna(0)\n",
    "train\n",
    "\n",
    "train.prob = train.prob.astype(int)"
   ]
  },
  {
   "cell_type": "code",
   "execution_count": null,
   "metadata": {},
   "outputs": [],
   "source": [
    "train.info()"
   ]
  },
  {
   "cell_type": "code",
   "execution_count": null,
   "metadata": {},
   "outputs": [],
   "source": [
    "train.columns[1:-1]"
   ]
  },
  {
   "cell_type": "code",
   "execution_count": null,
   "metadata": {},
   "outputs": [],
   "source": []
  },
  {
   "cell_type": "code",
   "execution_count": null,
   "metadata": {},
   "outputs": [],
   "source": [
    "cat = ['model_004.22.1666','model_305.15.2114','E30','E36','E37']"
   ]
  },
  {
   "cell_type": "code",
   "execution_count": null,
   "metadata": {},
   "outputs": [],
   "source": []
  },
  {
   "cell_type": "code",
   "execution_count": null,
   "metadata": {},
   "outputs": [],
   "source": [
    "%%time\n",
    "clf = setup(session_id=seed, data=train, target='prob'\n",
    "            , ignore_features=['model_104.16.3569', 'model_504.82.1730', 'model_305.15.2092', 'model_004.22.1656', 'model_004.22.1666',  'model_305.15.2114']\n",
    "           , numeric_features=train.columns[1:-1]\n",
    "           )"
   ]
  },
  {
   "cell_type": "code",
   "execution_count": null,
   "metadata": {},
   "outputs": [],
   "source": [
    "best = compare_models(sort = 'AUC', n_select = 5\n",
    "                     ,exclude=['lr', 'knn', 'nb', 'dt', 'svm', 'rbfsvm', 'ridge','qda']\n",
    "                     )"
   ]
  },
  {
   "cell_type": "code",
   "execution_count": null,
   "metadata": {},
   "outputs": [],
   "source": [
    "blended = blend_models(estimator_list = best, fold = 5, method = 'soft')"
   ]
  },
  {
   "cell_type": "code",
   "execution_count": null,
   "metadata": {},
   "outputs": [],
   "source": [
    "pred_holdout = predict_model(blended)"
   ]
  },
  {
   "cell_type": "code",
   "execution_count": null,
   "metadata": {},
   "outputs": [],
   "source": [
    "%%time\n",
    "final_model = finalize_model(blended)"
   ]
  },
  {
   "cell_type": "code",
   "execution_count": null,
   "metadata": {
    "scrolled": true
   },
   "outputs": [],
   "source": [
    "test_x = sample_submssion[['user_id']].merge(test, on='user_id', how='left').fillna(0)\n",
    "test_x.shape"
   ]
  },
  {
   "cell_type": "code",
   "execution_count": null,
   "metadata": {},
   "outputs": [],
   "source": [
    "predictions = predict_model(final_model, data = test_x)"
   ]
  },
  {
   "cell_type": "code",
   "execution_count": null,
   "metadata": {},
   "outputs": [],
   "source": [
    "sample_submssion['problem'] = predictions['Score']\n",
    "sample_submssion.head()"
   ]
  },
  {
   "cell_type": "code",
   "execution_count": null,
   "metadata": {},
   "outputs": [],
   "source": [
    "sample_submssion.to_csv(\"./submission/submission_20210130-2.csv\", index = False)\n",
    "sample_submssion"
   ]
  },
  {
   "cell_type": "code",
   "execution_count": null,
   "metadata": {},
   "outputs": [],
   "source": []
  }
 ],
 "metadata": {
  "kernelspec": {
   "display_name": "Python 3",
   "language": "python",
   "name": "python3"
  },
  "language_info": {
   "codemirror_mode": {
    "name": "ipython",
    "version": 3
   },
   "file_extension": ".py",
   "mimetype": "text/x-python",
   "name": "python",
   "nbconvert_exporter": "python",
   "pygments_lexer": "ipython3",
   "version": "3.7.6"
  }
 },
 "nbformat": 4,
 "nbformat_minor": 4
}
