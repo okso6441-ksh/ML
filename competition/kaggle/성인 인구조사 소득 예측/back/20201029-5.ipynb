{
 "cells": [
  {
   "cell_type": "code",
   "execution_count": 1,
   "metadata": {},
   "outputs": [],
   "source": [
    "import numpy as np\n",
    "import pandas as pd\n",
    "import matplotlib.pyplot as plt\n",
    "import seaborn as sns\n",
    "import warnings\n",
    "warnings.filterwarnings('ignore')\n",
    "%matplotlib inline\n",
    "\n",
    "from IPython.core.interactiveshell import InteractiveShell\n",
    "InteractiveShell.ast_node_interactivity = \"all\"\n",
    "\n",
    "from sklearn.preprocessing import PolynomialFeatures\n",
    "\n",
    "from sklearn.model_selection import train_test_split\n",
    "import lightgbm as lgbm\n",
    "from sklearn.metrics import confusion_matrix, accuracy_score\n",
    "from pycaret.classification import *"
   ]
  },
  {
   "cell_type": "code",
   "execution_count": 2,
   "metadata": {},
   "outputs": [],
   "source": [
    "seed = 42\n",
    "np.random.seed(seed)\n",
    "set_config('seed', seed)"
   ]
  },
  {
   "cell_type": "code",
   "execution_count": null,
   "metadata": {},
   "outputs": [],
   "source": []
  },
  {
   "cell_type": "markdown",
   "metadata": {},
   "source": [
    "# 1. 데이터 로드"
   ]
  },
  {
   "cell_type": "code",
   "execution_count": 3,
   "metadata": {},
   "outputs": [],
   "source": [
    "train=pd.read_csv('input/train.csv', index_col=0)#, na_values='?') #인덱스 col=0도 check!\n",
    "test=pd.read_csv('input/test.csv', index_col=0)#, na_values='?')\n",
    "submission=pd.read_csv('input/sample_submission.csv', index_col=0)  "
   ]
  },
  {
   "cell_type": "code",
   "execution_count": 4,
   "metadata": {},
   "outputs": [],
   "source": [
    "train['income']=pd.factorize(train['income'], sort=True)[0]"
   ]
  },
  {
   "cell_type": "code",
   "execution_count": null,
   "metadata": {},
   "outputs": [],
   "source": [
    "train.shape, test.shape"
   ]
  },
  {
   "cell_type": "code",
   "execution_count": null,
   "metadata": {},
   "outputs": [],
   "source": [
    "train.head(3)\n",
    "test.head(3)"
   ]
  },
  {
   "cell_type": "markdown",
   "metadata": {},
   "source": [
    "# 2. EDA & 전처리"
   ]
  },
  {
   "cell_type": "code",
   "execution_count": null,
   "metadata": {},
   "outputs": [],
   "source": [
    "train.info()\n",
    "train.describe()\n",
    "train.describe(include='O')"
   ]
  },
  {
   "cell_type": "markdown",
   "metadata": {},
   "source": [
    "## Missing Value"
   ]
  },
  {
   "cell_type": "code",
   "execution_count": null,
   "metadata": {},
   "outputs": [],
   "source": [
    "train.isnull().sum()#.sum()\n",
    "test.isnull().sum()#.sum()"
   ]
  },
  {
   "cell_type": "markdown",
   "metadata": {},
   "source": [
    "### outlier"
   ]
  },
  {
   "cell_type": "markdown",
   "metadata": {},
   "source": [
    "### education"
   ]
  },
  {
   "cell_type": "code",
   "execution_count": 5,
   "metadata": {},
   "outputs": [],
   "source": [
    "train.drop(['education'],axis=1, inplace=True)\n",
    "test.drop(['education'],axis=1, inplace=True)"
   ]
  },
  {
   "cell_type": "code",
   "execution_count": null,
   "metadata": {},
   "outputs": [],
   "source": []
  },
  {
   "cell_type": "markdown",
   "metadata": {},
   "source": [
    "### capital_gain 99999"
   ]
  },
  {
   "cell_type": "code",
   "execution_count": 6,
   "metadata": {},
   "outputs": [],
   "source": [
    "df = pd.concat([train, test])\n",
    "\n",
    "df['capital_gain_imsi'] = df['capital_gain'].replace(99999,0)\n",
    "\n",
    "capital_gain_imsi = pd.DataFrame(df.groupby(['education_num'])['capital_gain_imsi'].mean()).reset_index()\n",
    "\n",
    "train = train.merge(capital_gain_imsi, on=['education_num'], how='left')\n",
    "test = test.merge(capital_gain_imsi, on=['education_num'], how='left')\n",
    "\n",
    "train.loc[train.capital_gain == 99999, 'capital_gain'] = train['capital_gain_imsi']\n",
    "test.loc[test.capital_gain == 99999, 'capital_gain'] = test['capital_gain_imsi']\n",
    "\n",
    "train.drop(['capital_gain_imsi'],axis=1, inplace=True)\n",
    "test.drop(['capital_gain_imsi'],axis=1, inplace=True)"
   ]
  },
  {
   "cell_type": "code",
   "execution_count": null,
   "metadata": {},
   "outputs": [],
   "source": []
  },
  {
   "cell_type": "code",
   "execution_count": 7,
   "metadata": {},
   "outputs": [],
   "source": [
    "train['imsi'] = train.capital_gain*train.hours_per_week#*train.capital_loss\n",
    "test['imsi'] = test.capital_gain*test.hours_per_week#*train.capital_loss"
   ]
  },
  {
   "cell_type": "code",
   "execution_count": 8,
   "metadata": {},
   "outputs": [],
   "source": [
    "from scipy.stats import rankdata"
   ]
  },
  {
   "cell_type": "code",
   "execution_count": 35,
   "metadata": {},
   "outputs": [],
   "source": [
    "train['imsi2'] = rankdata((train.capital_gain-train.capital_loss)*train.fnlwgt*train.hours_per_week)\n",
    "test['imsi2'] = rankdata((test.capital_gain-test.capital_loss)*test.fnlwgt*test.hours_per_week)"
   ]
  },
  {
   "cell_type": "markdown",
   "metadata": {},
   "source": [
    "# 3. 모델 학습"
   ]
  },
  {
   "cell_type": "code",
   "execution_count": null,
   "metadata": {},
   "outputs": [],
   "source": [
    "import gc\n",
    "gc.collect()"
   ]
  },
  {
   "cell_type": "code",
   "execution_count": null,
   "metadata": {},
   "outputs": [],
   "source": [
    "train.columns"
   ]
  },
  {
   "cell_type": "code",
   "execution_count": null,
   "metadata": {},
   "outputs": [],
   "source": []
  },
  {
   "cell_type": "code",
   "execution_count": 36,
   "metadata": {
    "scrolled": false
   },
   "outputs": [
    {
     "name": "stdout",
     "output_type": "stream",
     "text": [
      "Setup Succesfully Completed!\n"
     ]
    },
    {
     "data": {
      "text/html": [
       "<style  type=\"text/css\" >\n",
       "</style><table id=\"T_343cf55e_19c1_11eb_904c_00e0201808a0\" ><thead>    <tr>        <th class=\"blank level0\" ></th>        <th class=\"col_heading level0 col0\" >Description</th>        <th class=\"col_heading level0 col1\" >Value</th>    </tr></thead><tbody>\n",
       "                <tr>\n",
       "                        <th id=\"T_343cf55e_19c1_11eb_904c_00e0201808a0level0_row0\" class=\"row_heading level0 row0\" >0</th>\n",
       "                        <td id=\"T_343cf55e_19c1_11eb_904c_00e0201808a0row0_col0\" class=\"data row0 col0\" >session_id</td>\n",
       "                        <td id=\"T_343cf55e_19c1_11eb_904c_00e0201808a0row0_col1\" class=\"data row0 col1\" >42</td>\n",
       "            </tr>\n",
       "            <tr>\n",
       "                        <th id=\"T_343cf55e_19c1_11eb_904c_00e0201808a0level0_row1\" class=\"row_heading level0 row1\" >1</th>\n",
       "                        <td id=\"T_343cf55e_19c1_11eb_904c_00e0201808a0row1_col0\" class=\"data row1 col0\" >Target Type</td>\n",
       "                        <td id=\"T_343cf55e_19c1_11eb_904c_00e0201808a0row1_col1\" class=\"data row1 col1\" >Binary</td>\n",
       "            </tr>\n",
       "            <tr>\n",
       "                        <th id=\"T_343cf55e_19c1_11eb_904c_00e0201808a0level0_row2\" class=\"row_heading level0 row2\" >2</th>\n",
       "                        <td id=\"T_343cf55e_19c1_11eb_904c_00e0201808a0row2_col0\" class=\"data row2 col0\" >Label Encoded</td>\n",
       "                        <td id=\"T_343cf55e_19c1_11eb_904c_00e0201808a0row2_col1\" class=\"data row2 col1\" >0: 0, 1: 1</td>\n",
       "            </tr>\n",
       "            <tr>\n",
       "                        <th id=\"T_343cf55e_19c1_11eb_904c_00e0201808a0level0_row3\" class=\"row_heading level0 row3\" >3</th>\n",
       "                        <td id=\"T_343cf55e_19c1_11eb_904c_00e0201808a0row3_col0\" class=\"data row3 col0\" >Original Data</td>\n",
       "                        <td id=\"T_343cf55e_19c1_11eb_904c_00e0201808a0row3_col1\" class=\"data row3 col1\" >(26049, 16)</td>\n",
       "            </tr>\n",
       "            <tr>\n",
       "                        <th id=\"T_343cf55e_19c1_11eb_904c_00e0201808a0level0_row4\" class=\"row_heading level0 row4\" >4</th>\n",
       "                        <td id=\"T_343cf55e_19c1_11eb_904c_00e0201808a0row4_col0\" class=\"data row4 col0\" >Missing Values </td>\n",
       "                        <td id=\"T_343cf55e_19c1_11eb_904c_00e0201808a0row4_col1\" class=\"data row4 col1\" >False</td>\n",
       "            </tr>\n",
       "            <tr>\n",
       "                        <th id=\"T_343cf55e_19c1_11eb_904c_00e0201808a0level0_row5\" class=\"row_heading level0 row5\" >5</th>\n",
       "                        <td id=\"T_343cf55e_19c1_11eb_904c_00e0201808a0row5_col0\" class=\"data row5 col0\" >Numeric Features </td>\n",
       "                        <td id=\"T_343cf55e_19c1_11eb_904c_00e0201808a0row5_col1\" class=\"data row5 col1\" >8</td>\n",
       "            </tr>\n",
       "            <tr>\n",
       "                        <th id=\"T_343cf55e_19c1_11eb_904c_00e0201808a0level0_row6\" class=\"row_heading level0 row6\" >6</th>\n",
       "                        <td id=\"T_343cf55e_19c1_11eb_904c_00e0201808a0row6_col0\" class=\"data row6 col0\" >Categorical Features </td>\n",
       "                        <td id=\"T_343cf55e_19c1_11eb_904c_00e0201808a0row6_col1\" class=\"data row6 col1\" >7</td>\n",
       "            </tr>\n",
       "            <tr>\n",
       "                        <th id=\"T_343cf55e_19c1_11eb_904c_00e0201808a0level0_row7\" class=\"row_heading level0 row7\" >7</th>\n",
       "                        <td id=\"T_343cf55e_19c1_11eb_904c_00e0201808a0row7_col0\" class=\"data row7 col0\" >Ordinal Features </td>\n",
       "                        <td id=\"T_343cf55e_19c1_11eb_904c_00e0201808a0row7_col1\" class=\"data row7 col1\" >False</td>\n",
       "            </tr>\n",
       "            <tr>\n",
       "                        <th id=\"T_343cf55e_19c1_11eb_904c_00e0201808a0level0_row8\" class=\"row_heading level0 row8\" >8</th>\n",
       "                        <td id=\"T_343cf55e_19c1_11eb_904c_00e0201808a0row8_col0\" class=\"data row8 col0\" >High Cardinality Features </td>\n",
       "                        <td id=\"T_343cf55e_19c1_11eb_904c_00e0201808a0row8_col1\" class=\"data row8 col1\" >False</td>\n",
       "            </tr>\n",
       "            <tr>\n",
       "                        <th id=\"T_343cf55e_19c1_11eb_904c_00e0201808a0level0_row9\" class=\"row_heading level0 row9\" >9</th>\n",
       "                        <td id=\"T_343cf55e_19c1_11eb_904c_00e0201808a0row9_col0\" class=\"data row9 col0\" >High Cardinality Method </td>\n",
       "                        <td id=\"T_343cf55e_19c1_11eb_904c_00e0201808a0row9_col1\" class=\"data row9 col1\" >None</td>\n",
       "            </tr>\n",
       "            <tr>\n",
       "                        <th id=\"T_343cf55e_19c1_11eb_904c_00e0201808a0level0_row10\" class=\"row_heading level0 row10\" >10</th>\n",
       "                        <td id=\"T_343cf55e_19c1_11eb_904c_00e0201808a0row10_col0\" class=\"data row10 col0\" >Sampled Data</td>\n",
       "                        <td id=\"T_343cf55e_19c1_11eb_904c_00e0201808a0row10_col1\" class=\"data row10 col1\" >(18234, 16)</td>\n",
       "            </tr>\n",
       "            <tr>\n",
       "                        <th id=\"T_343cf55e_19c1_11eb_904c_00e0201808a0level0_row11\" class=\"row_heading level0 row11\" >11</th>\n",
       "                        <td id=\"T_343cf55e_19c1_11eb_904c_00e0201808a0row11_col0\" class=\"data row11 col0\" >Transformed Train Set</td>\n",
       "                        <td id=\"T_343cf55e_19c1_11eb_904c_00e0201808a0row11_col1\" class=\"data row11 col1\" >(12763, 92)</td>\n",
       "            </tr>\n",
       "            <tr>\n",
       "                        <th id=\"T_343cf55e_19c1_11eb_904c_00e0201808a0level0_row12\" class=\"row_heading level0 row12\" >12</th>\n",
       "                        <td id=\"T_343cf55e_19c1_11eb_904c_00e0201808a0row12_col0\" class=\"data row12 col0\" >Transformed Test Set</td>\n",
       "                        <td id=\"T_343cf55e_19c1_11eb_904c_00e0201808a0row12_col1\" class=\"data row12 col1\" >(5471, 92)</td>\n",
       "            </tr>\n",
       "            <tr>\n",
       "                        <th id=\"T_343cf55e_19c1_11eb_904c_00e0201808a0level0_row13\" class=\"row_heading level0 row13\" >13</th>\n",
       "                        <td id=\"T_343cf55e_19c1_11eb_904c_00e0201808a0row13_col0\" class=\"data row13 col0\" >Numeric Imputer </td>\n",
       "                        <td id=\"T_343cf55e_19c1_11eb_904c_00e0201808a0row13_col1\" class=\"data row13 col1\" >mean</td>\n",
       "            </tr>\n",
       "            <tr>\n",
       "                        <th id=\"T_343cf55e_19c1_11eb_904c_00e0201808a0level0_row14\" class=\"row_heading level0 row14\" >14</th>\n",
       "                        <td id=\"T_343cf55e_19c1_11eb_904c_00e0201808a0row14_col0\" class=\"data row14 col0\" >Categorical Imputer </td>\n",
       "                        <td id=\"T_343cf55e_19c1_11eb_904c_00e0201808a0row14_col1\" class=\"data row14 col1\" >constant</td>\n",
       "            </tr>\n",
       "            <tr>\n",
       "                        <th id=\"T_343cf55e_19c1_11eb_904c_00e0201808a0level0_row15\" class=\"row_heading level0 row15\" >15</th>\n",
       "                        <td id=\"T_343cf55e_19c1_11eb_904c_00e0201808a0row15_col0\" class=\"data row15 col0\" >Normalize </td>\n",
       "                        <td id=\"T_343cf55e_19c1_11eb_904c_00e0201808a0row15_col1\" class=\"data row15 col1\" >False</td>\n",
       "            </tr>\n",
       "            <tr>\n",
       "                        <th id=\"T_343cf55e_19c1_11eb_904c_00e0201808a0level0_row16\" class=\"row_heading level0 row16\" >16</th>\n",
       "                        <td id=\"T_343cf55e_19c1_11eb_904c_00e0201808a0row16_col0\" class=\"data row16 col0\" >Normalize Method </td>\n",
       "                        <td id=\"T_343cf55e_19c1_11eb_904c_00e0201808a0row16_col1\" class=\"data row16 col1\" >None</td>\n",
       "            </tr>\n",
       "            <tr>\n",
       "                        <th id=\"T_343cf55e_19c1_11eb_904c_00e0201808a0level0_row17\" class=\"row_heading level0 row17\" >17</th>\n",
       "                        <td id=\"T_343cf55e_19c1_11eb_904c_00e0201808a0row17_col0\" class=\"data row17 col0\" >Transformation </td>\n",
       "                        <td id=\"T_343cf55e_19c1_11eb_904c_00e0201808a0row17_col1\" class=\"data row17 col1\" >False</td>\n",
       "            </tr>\n",
       "            <tr>\n",
       "                        <th id=\"T_343cf55e_19c1_11eb_904c_00e0201808a0level0_row18\" class=\"row_heading level0 row18\" >18</th>\n",
       "                        <td id=\"T_343cf55e_19c1_11eb_904c_00e0201808a0row18_col0\" class=\"data row18 col0\" >Transformation Method </td>\n",
       "                        <td id=\"T_343cf55e_19c1_11eb_904c_00e0201808a0row18_col1\" class=\"data row18 col1\" >None</td>\n",
       "            </tr>\n",
       "            <tr>\n",
       "                        <th id=\"T_343cf55e_19c1_11eb_904c_00e0201808a0level0_row19\" class=\"row_heading level0 row19\" >19</th>\n",
       "                        <td id=\"T_343cf55e_19c1_11eb_904c_00e0201808a0row19_col0\" class=\"data row19 col0\" >PCA </td>\n",
       "                        <td id=\"T_343cf55e_19c1_11eb_904c_00e0201808a0row19_col1\" class=\"data row19 col1\" >False</td>\n",
       "            </tr>\n",
       "            <tr>\n",
       "                        <th id=\"T_343cf55e_19c1_11eb_904c_00e0201808a0level0_row20\" class=\"row_heading level0 row20\" >20</th>\n",
       "                        <td id=\"T_343cf55e_19c1_11eb_904c_00e0201808a0row20_col0\" class=\"data row20 col0\" >PCA Method </td>\n",
       "                        <td id=\"T_343cf55e_19c1_11eb_904c_00e0201808a0row20_col1\" class=\"data row20 col1\" >None</td>\n",
       "            </tr>\n",
       "            <tr>\n",
       "                        <th id=\"T_343cf55e_19c1_11eb_904c_00e0201808a0level0_row21\" class=\"row_heading level0 row21\" >21</th>\n",
       "                        <td id=\"T_343cf55e_19c1_11eb_904c_00e0201808a0row21_col0\" class=\"data row21 col0\" >PCA Components </td>\n",
       "                        <td id=\"T_343cf55e_19c1_11eb_904c_00e0201808a0row21_col1\" class=\"data row21 col1\" >None</td>\n",
       "            </tr>\n",
       "            <tr>\n",
       "                        <th id=\"T_343cf55e_19c1_11eb_904c_00e0201808a0level0_row22\" class=\"row_heading level0 row22\" >22</th>\n",
       "                        <td id=\"T_343cf55e_19c1_11eb_904c_00e0201808a0row22_col0\" class=\"data row22 col0\" >Ignore Low Variance </td>\n",
       "                        <td id=\"T_343cf55e_19c1_11eb_904c_00e0201808a0row22_col1\" class=\"data row22 col1\" >False</td>\n",
       "            </tr>\n",
       "            <tr>\n",
       "                        <th id=\"T_343cf55e_19c1_11eb_904c_00e0201808a0level0_row23\" class=\"row_heading level0 row23\" >23</th>\n",
       "                        <td id=\"T_343cf55e_19c1_11eb_904c_00e0201808a0row23_col0\" class=\"data row23 col0\" >Combine Rare Levels </td>\n",
       "                        <td id=\"T_343cf55e_19c1_11eb_904c_00e0201808a0row23_col1\" class=\"data row23 col1\" >False</td>\n",
       "            </tr>\n",
       "            <tr>\n",
       "                        <th id=\"T_343cf55e_19c1_11eb_904c_00e0201808a0level0_row24\" class=\"row_heading level0 row24\" >24</th>\n",
       "                        <td id=\"T_343cf55e_19c1_11eb_904c_00e0201808a0row24_col0\" class=\"data row24 col0\" >Rare Level Threshold </td>\n",
       "                        <td id=\"T_343cf55e_19c1_11eb_904c_00e0201808a0row24_col1\" class=\"data row24 col1\" >None</td>\n",
       "            </tr>\n",
       "            <tr>\n",
       "                        <th id=\"T_343cf55e_19c1_11eb_904c_00e0201808a0level0_row25\" class=\"row_heading level0 row25\" >25</th>\n",
       "                        <td id=\"T_343cf55e_19c1_11eb_904c_00e0201808a0row25_col0\" class=\"data row25 col0\" >Numeric Binning </td>\n",
       "                        <td id=\"T_343cf55e_19c1_11eb_904c_00e0201808a0row25_col1\" class=\"data row25 col1\" >False</td>\n",
       "            </tr>\n",
       "            <tr>\n",
       "                        <th id=\"T_343cf55e_19c1_11eb_904c_00e0201808a0level0_row26\" class=\"row_heading level0 row26\" >26</th>\n",
       "                        <td id=\"T_343cf55e_19c1_11eb_904c_00e0201808a0row26_col0\" class=\"data row26 col0\" >Remove Outliers </td>\n",
       "                        <td id=\"T_343cf55e_19c1_11eb_904c_00e0201808a0row26_col1\" class=\"data row26 col1\" >False</td>\n",
       "            </tr>\n",
       "            <tr>\n",
       "                        <th id=\"T_343cf55e_19c1_11eb_904c_00e0201808a0level0_row27\" class=\"row_heading level0 row27\" >27</th>\n",
       "                        <td id=\"T_343cf55e_19c1_11eb_904c_00e0201808a0row27_col0\" class=\"data row27 col0\" >Outliers Threshold </td>\n",
       "                        <td id=\"T_343cf55e_19c1_11eb_904c_00e0201808a0row27_col1\" class=\"data row27 col1\" >None</td>\n",
       "            </tr>\n",
       "            <tr>\n",
       "                        <th id=\"T_343cf55e_19c1_11eb_904c_00e0201808a0level0_row28\" class=\"row_heading level0 row28\" >28</th>\n",
       "                        <td id=\"T_343cf55e_19c1_11eb_904c_00e0201808a0row28_col0\" class=\"data row28 col0\" >Remove Multicollinearity </td>\n",
       "                        <td id=\"T_343cf55e_19c1_11eb_904c_00e0201808a0row28_col1\" class=\"data row28 col1\" >False</td>\n",
       "            </tr>\n",
       "            <tr>\n",
       "                        <th id=\"T_343cf55e_19c1_11eb_904c_00e0201808a0level0_row29\" class=\"row_heading level0 row29\" >29</th>\n",
       "                        <td id=\"T_343cf55e_19c1_11eb_904c_00e0201808a0row29_col0\" class=\"data row29 col0\" >Multicollinearity Threshold </td>\n",
       "                        <td id=\"T_343cf55e_19c1_11eb_904c_00e0201808a0row29_col1\" class=\"data row29 col1\" >None</td>\n",
       "            </tr>\n",
       "            <tr>\n",
       "                        <th id=\"T_343cf55e_19c1_11eb_904c_00e0201808a0level0_row30\" class=\"row_heading level0 row30\" >30</th>\n",
       "                        <td id=\"T_343cf55e_19c1_11eb_904c_00e0201808a0row30_col0\" class=\"data row30 col0\" >Clustering </td>\n",
       "                        <td id=\"T_343cf55e_19c1_11eb_904c_00e0201808a0row30_col1\" class=\"data row30 col1\" >False</td>\n",
       "            </tr>\n",
       "            <tr>\n",
       "                        <th id=\"T_343cf55e_19c1_11eb_904c_00e0201808a0level0_row31\" class=\"row_heading level0 row31\" >31</th>\n",
       "                        <td id=\"T_343cf55e_19c1_11eb_904c_00e0201808a0row31_col0\" class=\"data row31 col0\" >Clustering Iteration </td>\n",
       "                        <td id=\"T_343cf55e_19c1_11eb_904c_00e0201808a0row31_col1\" class=\"data row31 col1\" >None</td>\n",
       "            </tr>\n",
       "            <tr>\n",
       "                        <th id=\"T_343cf55e_19c1_11eb_904c_00e0201808a0level0_row32\" class=\"row_heading level0 row32\" >32</th>\n",
       "                        <td id=\"T_343cf55e_19c1_11eb_904c_00e0201808a0row32_col0\" class=\"data row32 col0\" >Polynomial Features </td>\n",
       "                        <td id=\"T_343cf55e_19c1_11eb_904c_00e0201808a0row32_col1\" class=\"data row32 col1\" >False</td>\n",
       "            </tr>\n",
       "            <tr>\n",
       "                        <th id=\"T_343cf55e_19c1_11eb_904c_00e0201808a0level0_row33\" class=\"row_heading level0 row33\" >33</th>\n",
       "                        <td id=\"T_343cf55e_19c1_11eb_904c_00e0201808a0row33_col0\" class=\"data row33 col0\" >Polynomial Degree </td>\n",
       "                        <td id=\"T_343cf55e_19c1_11eb_904c_00e0201808a0row33_col1\" class=\"data row33 col1\" >None</td>\n",
       "            </tr>\n",
       "            <tr>\n",
       "                        <th id=\"T_343cf55e_19c1_11eb_904c_00e0201808a0level0_row34\" class=\"row_heading level0 row34\" >34</th>\n",
       "                        <td id=\"T_343cf55e_19c1_11eb_904c_00e0201808a0row34_col0\" class=\"data row34 col0\" >Trignometry Features </td>\n",
       "                        <td id=\"T_343cf55e_19c1_11eb_904c_00e0201808a0row34_col1\" class=\"data row34 col1\" >False</td>\n",
       "            </tr>\n",
       "            <tr>\n",
       "                        <th id=\"T_343cf55e_19c1_11eb_904c_00e0201808a0level0_row35\" class=\"row_heading level0 row35\" >35</th>\n",
       "                        <td id=\"T_343cf55e_19c1_11eb_904c_00e0201808a0row35_col0\" class=\"data row35 col0\" >Polynomial Threshold </td>\n",
       "                        <td id=\"T_343cf55e_19c1_11eb_904c_00e0201808a0row35_col1\" class=\"data row35 col1\" >None</td>\n",
       "            </tr>\n",
       "            <tr>\n",
       "                        <th id=\"T_343cf55e_19c1_11eb_904c_00e0201808a0level0_row36\" class=\"row_heading level0 row36\" >36</th>\n",
       "                        <td id=\"T_343cf55e_19c1_11eb_904c_00e0201808a0row36_col0\" class=\"data row36 col0\" >Group Features </td>\n",
       "                        <td id=\"T_343cf55e_19c1_11eb_904c_00e0201808a0row36_col1\" class=\"data row36 col1\" >False</td>\n",
       "            </tr>\n",
       "            <tr>\n",
       "                        <th id=\"T_343cf55e_19c1_11eb_904c_00e0201808a0level0_row37\" class=\"row_heading level0 row37\" >37</th>\n",
       "                        <td id=\"T_343cf55e_19c1_11eb_904c_00e0201808a0row37_col0\" class=\"data row37 col0\" >Feature Selection </td>\n",
       "                        <td id=\"T_343cf55e_19c1_11eb_904c_00e0201808a0row37_col1\" class=\"data row37 col1\" >False</td>\n",
       "            </tr>\n",
       "            <tr>\n",
       "                        <th id=\"T_343cf55e_19c1_11eb_904c_00e0201808a0level0_row38\" class=\"row_heading level0 row38\" >38</th>\n",
       "                        <td id=\"T_343cf55e_19c1_11eb_904c_00e0201808a0row38_col0\" class=\"data row38 col0\" >Features Selection Threshold </td>\n",
       "                        <td id=\"T_343cf55e_19c1_11eb_904c_00e0201808a0row38_col1\" class=\"data row38 col1\" >None</td>\n",
       "            </tr>\n",
       "            <tr>\n",
       "                        <th id=\"T_343cf55e_19c1_11eb_904c_00e0201808a0level0_row39\" class=\"row_heading level0 row39\" >39</th>\n",
       "                        <td id=\"T_343cf55e_19c1_11eb_904c_00e0201808a0row39_col0\" class=\"data row39 col0\" >Feature Interaction </td>\n",
       "                        <td id=\"T_343cf55e_19c1_11eb_904c_00e0201808a0row39_col1\" class=\"data row39 col1\" >False</td>\n",
       "            </tr>\n",
       "            <tr>\n",
       "                        <th id=\"T_343cf55e_19c1_11eb_904c_00e0201808a0level0_row40\" class=\"row_heading level0 row40\" >40</th>\n",
       "                        <td id=\"T_343cf55e_19c1_11eb_904c_00e0201808a0row40_col0\" class=\"data row40 col0\" >Feature Ratio </td>\n",
       "                        <td id=\"T_343cf55e_19c1_11eb_904c_00e0201808a0row40_col1\" class=\"data row40 col1\" >False</td>\n",
       "            </tr>\n",
       "            <tr>\n",
       "                        <th id=\"T_343cf55e_19c1_11eb_904c_00e0201808a0level0_row41\" class=\"row_heading level0 row41\" >41</th>\n",
       "                        <td id=\"T_343cf55e_19c1_11eb_904c_00e0201808a0row41_col0\" class=\"data row41 col0\" >Interaction Threshold </td>\n",
       "                        <td id=\"T_343cf55e_19c1_11eb_904c_00e0201808a0row41_col1\" class=\"data row41 col1\" >None</td>\n",
       "            </tr>\n",
       "            <tr>\n",
       "                        <th id=\"T_343cf55e_19c1_11eb_904c_00e0201808a0level0_row42\" class=\"row_heading level0 row42\" >42</th>\n",
       "                        <td id=\"T_343cf55e_19c1_11eb_904c_00e0201808a0row42_col0\" class=\"data row42 col0\" >Fix Imbalance</td>\n",
       "                        <td id=\"T_343cf55e_19c1_11eb_904c_00e0201808a0row42_col1\" class=\"data row42 col1\" >False</td>\n",
       "            </tr>\n",
       "            <tr>\n",
       "                        <th id=\"T_343cf55e_19c1_11eb_904c_00e0201808a0level0_row43\" class=\"row_heading level0 row43\" >43</th>\n",
       "                        <td id=\"T_343cf55e_19c1_11eb_904c_00e0201808a0row43_col0\" class=\"data row43 col0\" >Fix Imbalance Method</td>\n",
       "                        <td id=\"T_343cf55e_19c1_11eb_904c_00e0201808a0row43_col1\" class=\"data row43 col1\" >SMOTE</td>\n",
       "            </tr>\n",
       "    </tbody></table>"
      ],
      "text/plain": [
       "<pandas.io.formats.style.Styler at 0x24fa14d0dc8>"
      ]
     },
     "metadata": {},
     "output_type": "display_data"
    },
    {
     "name": "stdout",
     "output_type": "stream",
     "text": [
      "Wall time: 5.17 s\n"
     ]
    }
   ],
   "source": [
    "%%time\n",
    "clf = setup(session_id=seed, \n",
    "            data = train, target = 'income'\n",
    "          #, categorical_features=[]\n",
    "          , numeric_features = ['education_num']\n",
    "          , ignore_features =['fnlwgt']\n",
    "           )"
   ]
  },
  {
   "cell_type": "code",
   "execution_count": 37,
   "metadata": {},
   "outputs": [
    {
     "data": {
      "text/html": [
       "<style  type=\"text/css\" >\n",
       "    #T_0971ebee_19c2_11eb_a8d6_00e0201808a0 th {\n",
       "          text-align: left;\n",
       "    }#T_0971ebee_19c2_11eb_a8d6_00e0201808a0row0_col0,#T_0971ebee_19c2_11eb_a8d6_00e0201808a0row0_col3,#T_0971ebee_19c2_11eb_a8d6_00e0201808a0row0_col4,#T_0971ebee_19c2_11eb_a8d6_00e0201808a0row1_col0,#T_0971ebee_19c2_11eb_a8d6_00e0201808a0row1_col1,#T_0971ebee_19c2_11eb_a8d6_00e0201808a0row1_col2,#T_0971ebee_19c2_11eb_a8d6_00e0201808a0row1_col3,#T_0971ebee_19c2_11eb_a8d6_00e0201808a0row1_col4,#T_0971ebee_19c2_11eb_a8d6_00e0201808a0row1_col5,#T_0971ebee_19c2_11eb_a8d6_00e0201808a0row1_col6,#T_0971ebee_19c2_11eb_a8d6_00e0201808a0row1_col7,#T_0971ebee_19c2_11eb_a8d6_00e0201808a0row2_col0,#T_0971ebee_19c2_11eb_a8d6_00e0201808a0row2_col1,#T_0971ebee_19c2_11eb_a8d6_00e0201808a0row2_col2,#T_0971ebee_19c2_11eb_a8d6_00e0201808a0row2_col4,#T_0971ebee_19c2_11eb_a8d6_00e0201808a0row2_col5,#T_0971ebee_19c2_11eb_a8d6_00e0201808a0row2_col6,#T_0971ebee_19c2_11eb_a8d6_00e0201808a0row2_col7,#T_0971ebee_19c2_11eb_a8d6_00e0201808a0row3_col0,#T_0971ebee_19c2_11eb_a8d6_00e0201808a0row3_col1,#T_0971ebee_19c2_11eb_a8d6_00e0201808a0row3_col2,#T_0971ebee_19c2_11eb_a8d6_00e0201808a0row3_col3,#T_0971ebee_19c2_11eb_a8d6_00e0201808a0row3_col5,#T_0971ebee_19c2_11eb_a8d6_00e0201808a0row3_col6,#T_0971ebee_19c2_11eb_a8d6_00e0201808a0row3_col7,#T_0971ebee_19c2_11eb_a8d6_00e0201808a0row4_col0,#T_0971ebee_19c2_11eb_a8d6_00e0201808a0row4_col1,#T_0971ebee_19c2_11eb_a8d6_00e0201808a0row4_col2,#T_0971ebee_19c2_11eb_a8d6_00e0201808a0row4_col3,#T_0971ebee_19c2_11eb_a8d6_00e0201808a0row4_col4,#T_0971ebee_19c2_11eb_a8d6_00e0201808a0row4_col5,#T_0971ebee_19c2_11eb_a8d6_00e0201808a0row4_col6,#T_0971ebee_19c2_11eb_a8d6_00e0201808a0row4_col7{\n",
       "            text-align:  left;\n",
       "        }#T_0971ebee_19c2_11eb_a8d6_00e0201808a0row0_col1,#T_0971ebee_19c2_11eb_a8d6_00e0201808a0row0_col2,#T_0971ebee_19c2_11eb_a8d6_00e0201808a0row0_col5,#T_0971ebee_19c2_11eb_a8d6_00e0201808a0row0_col6,#T_0971ebee_19c2_11eb_a8d6_00e0201808a0row0_col7,#T_0971ebee_19c2_11eb_a8d6_00e0201808a0row2_col3,#T_0971ebee_19c2_11eb_a8d6_00e0201808a0row3_col4{\n",
       "            background-color:  yellow;\n",
       "            text-align:  left;\n",
       "        }#T_0971ebee_19c2_11eb_a8d6_00e0201808a0row0_col8,#T_0971ebee_19c2_11eb_a8d6_00e0201808a0row1_col8,#T_0971ebee_19c2_11eb_a8d6_00e0201808a0row2_col8,#T_0971ebee_19c2_11eb_a8d6_00e0201808a0row3_col8,#T_0971ebee_19c2_11eb_a8d6_00e0201808a0row4_col8{\n",
       "            background-color:  lightgrey;\n",
       "            text-align:  left;\n",
       "        }</style><table id=\"T_0971ebee_19c2_11eb_a8d6_00e0201808a0\" ><thead>    <tr>        <th class=\"blank level0\" ></th>        <th class=\"col_heading level0 col0\" >Model</th>        <th class=\"col_heading level0 col1\" >Accuracy</th>        <th class=\"col_heading level0 col2\" >AUC</th>        <th class=\"col_heading level0 col3\" >Recall</th>        <th class=\"col_heading level0 col4\" >Prec.</th>        <th class=\"col_heading level0 col5\" >F1</th>        <th class=\"col_heading level0 col6\" >Kappa</th>        <th class=\"col_heading level0 col7\" >MCC</th>        <th class=\"col_heading level0 col8\" >TT (Sec)</th>    </tr></thead><tbody>\n",
       "                <tr>\n",
       "                        <th id=\"T_0971ebee_19c2_11eb_a8d6_00e0201808a0level0_row0\" class=\"row_heading level0 row0\" >0</th>\n",
       "                        <td id=\"T_0971ebee_19c2_11eb_a8d6_00e0201808a0row0_col0\" class=\"data row0 col0\" >CatBoost Classifier</td>\n",
       "                        <td id=\"T_0971ebee_19c2_11eb_a8d6_00e0201808a0row0_col1\" class=\"data row0 col1\" >0.8660</td>\n",
       "                        <td id=\"T_0971ebee_19c2_11eb_a8d6_00e0201808a0row0_col2\" class=\"data row0 col2\" >0.9237</td>\n",
       "                        <td id=\"T_0971ebee_19c2_11eb_a8d6_00e0201808a0row0_col3\" class=\"data row0 col3\" >0.6342</td>\n",
       "                        <td id=\"T_0971ebee_19c2_11eb_a8d6_00e0201808a0row0_col4\" class=\"data row0 col4\" >0.7720</td>\n",
       "                        <td id=\"T_0971ebee_19c2_11eb_a8d6_00e0201808a0row0_col5\" class=\"data row0 col5\" >0.6960</td>\n",
       "                        <td id=\"T_0971ebee_19c2_11eb_a8d6_00e0201808a0row0_col6\" class=\"data row0 col6\" >0.6112</td>\n",
       "                        <td id=\"T_0971ebee_19c2_11eb_a8d6_00e0201808a0row0_col7\" class=\"data row0 col7\" >0.6163</td>\n",
       "                        <td id=\"T_0971ebee_19c2_11eb_a8d6_00e0201808a0row0_col8\" class=\"data row0 col8\" >12.6660</td>\n",
       "            </tr>\n",
       "            <tr>\n",
       "                        <th id=\"T_0971ebee_19c2_11eb_a8d6_00e0201808a0level0_row1\" class=\"row_heading level0 row1\" >1</th>\n",
       "                        <td id=\"T_0971ebee_19c2_11eb_a8d6_00e0201808a0row1_col0\" class=\"data row1 col0\" >Extreme Gradient Boosting</td>\n",
       "                        <td id=\"T_0971ebee_19c2_11eb_a8d6_00e0201808a0row1_col1\" class=\"data row1 col1\" >0.8626</td>\n",
       "                        <td id=\"T_0971ebee_19c2_11eb_a8d6_00e0201808a0row1_col2\" class=\"data row1 col2\" >0.9210</td>\n",
       "                        <td id=\"T_0971ebee_19c2_11eb_a8d6_00e0201808a0row1_col3\" class=\"data row1 col3\" >0.6449</td>\n",
       "                        <td id=\"T_0971ebee_19c2_11eb_a8d6_00e0201808a0row1_col4\" class=\"data row1 col4\" >0.7525</td>\n",
       "                        <td id=\"T_0971ebee_19c2_11eb_a8d6_00e0201808a0row1_col5\" class=\"data row1 col5\" >0.6943</td>\n",
       "                        <td id=\"T_0971ebee_19c2_11eb_a8d6_00e0201808a0row1_col6\" class=\"data row1 col6\" >0.6064</td>\n",
       "                        <td id=\"T_0971ebee_19c2_11eb_a8d6_00e0201808a0row1_col7\" class=\"data row1 col7\" >0.6095</td>\n",
       "                        <td id=\"T_0971ebee_19c2_11eb_a8d6_00e0201808a0row1_col8\" class=\"data row1 col8\" >2.2715</td>\n",
       "            </tr>\n",
       "            <tr>\n",
       "                        <th id=\"T_0971ebee_19c2_11eb_a8d6_00e0201808a0level0_row2\" class=\"row_heading level0 row2\" >2</th>\n",
       "                        <td id=\"T_0971ebee_19c2_11eb_a8d6_00e0201808a0row2_col0\" class=\"data row2 col0\" >Light Gradient Boosting Machine</td>\n",
       "                        <td id=\"T_0971ebee_19c2_11eb_a8d6_00e0201808a0row2_col1\" class=\"data row2 col1\" >0.8622</td>\n",
       "                        <td id=\"T_0971ebee_19c2_11eb_a8d6_00e0201808a0row2_col2\" class=\"data row2 col2\" >0.9211</td>\n",
       "                        <td id=\"T_0971ebee_19c2_11eb_a8d6_00e0201808a0row2_col3\" class=\"data row2 col3\" >0.6458</td>\n",
       "                        <td id=\"T_0971ebee_19c2_11eb_a8d6_00e0201808a0row2_col4\" class=\"data row2 col4\" >0.7503</td>\n",
       "                        <td id=\"T_0971ebee_19c2_11eb_a8d6_00e0201808a0row2_col5\" class=\"data row2 col5\" >0.6939</td>\n",
       "                        <td id=\"T_0971ebee_19c2_11eb_a8d6_00e0201808a0row2_col6\" class=\"data row2 col6\" >0.6057</td>\n",
       "                        <td id=\"T_0971ebee_19c2_11eb_a8d6_00e0201808a0row2_col7\" class=\"data row2 col7\" >0.6087</td>\n",
       "                        <td id=\"T_0971ebee_19c2_11eb_a8d6_00e0201808a0row2_col8\" class=\"data row2 col8\" >0.2862</td>\n",
       "            </tr>\n",
       "            <tr>\n",
       "                        <th id=\"T_0971ebee_19c2_11eb_a8d6_00e0201808a0level0_row3\" class=\"row_heading level0 row3\" >3</th>\n",
       "                        <td id=\"T_0971ebee_19c2_11eb_a8d6_00e0201808a0row3_col0\" class=\"data row3 col0\" >Gradient Boosting Classifier</td>\n",
       "                        <td id=\"T_0971ebee_19c2_11eb_a8d6_00e0201808a0row3_col1\" class=\"data row3 col1\" >0.8620</td>\n",
       "                        <td id=\"T_0971ebee_19c2_11eb_a8d6_00e0201808a0row3_col2\" class=\"data row3 col2\" >0.9180</td>\n",
       "                        <td id=\"T_0971ebee_19c2_11eb_a8d6_00e0201808a0row3_col3\" class=\"data row3 col3\" >0.6054</td>\n",
       "                        <td id=\"T_0971ebee_19c2_11eb_a8d6_00e0201808a0row3_col4\" class=\"data row3 col4\" >0.7756</td>\n",
       "                        <td id=\"T_0971ebee_19c2_11eb_a8d6_00e0201808a0row3_col5\" class=\"data row3 col5\" >0.6798</td>\n",
       "                        <td id=\"T_0971ebee_19c2_11eb_a8d6_00e0201808a0row3_col6\" class=\"data row3 col6\" >0.5936</td>\n",
       "                        <td id=\"T_0971ebee_19c2_11eb_a8d6_00e0201808a0row3_col7\" class=\"data row3 col7\" >0.6011</td>\n",
       "                        <td id=\"T_0971ebee_19c2_11eb_a8d6_00e0201808a0row3_col8\" class=\"data row3 col8\" >2.0636</td>\n",
       "            </tr>\n",
       "            <tr>\n",
       "                        <th id=\"T_0971ebee_19c2_11eb_a8d6_00e0201808a0level0_row4\" class=\"row_heading level0 row4\" >4</th>\n",
       "                        <td id=\"T_0971ebee_19c2_11eb_a8d6_00e0201808a0row4_col0\" class=\"data row4 col0\" >Ada Boost Classifier</td>\n",
       "                        <td id=\"T_0971ebee_19c2_11eb_a8d6_00e0201808a0row4_col1\" class=\"data row4 col1\" >0.8561</td>\n",
       "                        <td id=\"T_0971ebee_19c2_11eb_a8d6_00e0201808a0row4_col2\" class=\"data row4 col2\" >0.9115</td>\n",
       "                        <td id=\"T_0971ebee_19c2_11eb_a8d6_00e0201808a0row4_col3\" class=\"data row4 col3\" >0.6118</td>\n",
       "                        <td id=\"T_0971ebee_19c2_11eb_a8d6_00e0201808a0row4_col4\" class=\"data row4 col4\" >0.7482</td>\n",
       "                        <td id=\"T_0971ebee_19c2_11eb_a8d6_00e0201808a0row4_col5\" class=\"data row4 col5\" >0.6729</td>\n",
       "                        <td id=\"T_0971ebee_19c2_11eb_a8d6_00e0201808a0row4_col6\" class=\"data row4 col6\" >0.5818</td>\n",
       "                        <td id=\"T_0971ebee_19c2_11eb_a8d6_00e0201808a0row4_col7\" class=\"data row4 col7\" >0.5869</td>\n",
       "                        <td id=\"T_0971ebee_19c2_11eb_a8d6_00e0201808a0row4_col8\" class=\"data row4 col8\" >0.8084</td>\n",
       "            </tr>\n",
       "    </tbody></table>"
      ],
      "text/plain": [
       "<pandas.io.formats.style.Styler at 0x24fa14b1e48>"
      ]
     },
     "metadata": {},
     "output_type": "display_data"
    }
   ],
   "source": [
    "best_3 = compare_models(sort = 'F1', n_select = 3\n",
    "                       #,exclude=['lr', 'knn', 'nb', 'dt', 'svm', 'rbfsvm', 'ridge','qda']\n",
    "                       ,exclude=['lr', 'knn', 'nb', 'dt', 'svm', 'rbfsvm', 'mlp', 'ridge', 'rf',\n",
    "       'qda', 'lda', 'et']\n",
    "                        #,include=['xgboost','catboost','lightgbm']\n",
    "                       )"
   ]
  },
  {
   "cell_type": "code",
   "execution_count": 38,
   "metadata": {},
   "outputs": [
    {
     "data": {
      "text/html": [
       "<style  type=\"text/css\" >\n",
       "#T_5393e42c_19c2_11eb_b5c0_00e0201808a0row5_col0,#T_5393e42c_19c2_11eb_b5c0_00e0201808a0row5_col1,#T_5393e42c_19c2_11eb_b5c0_00e0201808a0row5_col2,#T_5393e42c_19c2_11eb_b5c0_00e0201808a0row5_col3,#T_5393e42c_19c2_11eb_b5c0_00e0201808a0row5_col4,#T_5393e42c_19c2_11eb_b5c0_00e0201808a0row5_col5,#T_5393e42c_19c2_11eb_b5c0_00e0201808a0row5_col6{\n",
       "            background:  yellow;\n",
       "        }</style><table id=\"T_5393e42c_19c2_11eb_b5c0_00e0201808a0\" ><thead>    <tr>        <th class=\"blank level0\" ></th>        <th class=\"col_heading level0 col0\" >Accuracy</th>        <th class=\"col_heading level0 col1\" >AUC</th>        <th class=\"col_heading level0 col2\" >Recall</th>        <th class=\"col_heading level0 col3\" >Prec.</th>        <th class=\"col_heading level0 col4\" >F1</th>        <th class=\"col_heading level0 col5\" >Kappa</th>        <th class=\"col_heading level0 col6\" >MCC</th>    </tr></thead><tbody>\n",
       "                <tr>\n",
       "                        <th id=\"T_5393e42c_19c2_11eb_b5c0_00e0201808a0level0_row0\" class=\"row_heading level0 row0\" >0</th>\n",
       "                        <td id=\"T_5393e42c_19c2_11eb_b5c0_00e0201808a0row0_col0\" class=\"data row0 col0\" >0.8609</td>\n",
       "                        <td id=\"T_5393e42c_19c2_11eb_b5c0_00e0201808a0row0_col1\" class=\"data row0 col1\" >0.9209</td>\n",
       "                        <td id=\"T_5393e42c_19c2_11eb_b5c0_00e0201808a0row0_col2\" class=\"data row0 col2\" >0.6311</td>\n",
       "                        <td id=\"T_5393e42c_19c2_11eb_b5c0_00e0201808a0row0_col3\" class=\"data row0 col3\" >0.7544</td>\n",
       "                        <td id=\"T_5393e42c_19c2_11eb_b5c0_00e0201808a0row0_col4\" class=\"data row0 col4\" >0.6872</td>\n",
       "                        <td id=\"T_5393e42c_19c2_11eb_b5c0_00e0201808a0row0_col5\" class=\"data row0 col5\" >0.5987</td>\n",
       "                        <td id=\"T_5393e42c_19c2_11eb_b5c0_00e0201808a0row0_col6\" class=\"data row0 col6\" >0.6027</td>\n",
       "            </tr>\n",
       "            <tr>\n",
       "                        <th id=\"T_5393e42c_19c2_11eb_b5c0_00e0201808a0level0_row1\" class=\"row_heading level0 row1\" >1</th>\n",
       "                        <td id=\"T_5393e42c_19c2_11eb_b5c0_00e0201808a0row1_col0\" class=\"data row1 col0\" >0.8625</td>\n",
       "                        <td id=\"T_5393e42c_19c2_11eb_b5c0_00e0201808a0row1_col1\" class=\"data row1 col1\" >0.9157</td>\n",
       "                        <td id=\"T_5393e42c_19c2_11eb_b5c0_00e0201808a0row1_col2\" class=\"data row1 col2\" >0.6553</td>\n",
       "                        <td id=\"T_5393e42c_19c2_11eb_b5c0_00e0201808a0row1_col3\" class=\"data row1 col3\" >0.7459</td>\n",
       "                        <td id=\"T_5393e42c_19c2_11eb_b5c0_00e0201808a0row1_col4\" class=\"data row1 col4\" >0.6977</td>\n",
       "                        <td id=\"T_5393e42c_19c2_11eb_b5c0_00e0201808a0row1_col5\" class=\"data row1 col5\" >0.6092</td>\n",
       "                        <td id=\"T_5393e42c_19c2_11eb_b5c0_00e0201808a0row1_col6\" class=\"data row1 col6\" >0.6113</td>\n",
       "            </tr>\n",
       "            <tr>\n",
       "                        <th id=\"T_5393e42c_19c2_11eb_b5c0_00e0201808a0level0_row2\" class=\"row_heading level0 row2\" >2</th>\n",
       "                        <td id=\"T_5393e42c_19c2_11eb_b5c0_00e0201808a0row2_col0\" class=\"data row2 col0\" >0.8586</td>\n",
       "                        <td id=\"T_5393e42c_19c2_11eb_b5c0_00e0201808a0row2_col1\" class=\"data row2 col1\" >0.9213</td>\n",
       "                        <td id=\"T_5393e42c_19c2_11eb_b5c0_00e0201808a0row2_col2\" class=\"data row2 col2\" >0.6230</td>\n",
       "                        <td id=\"T_5393e42c_19c2_11eb_b5c0_00e0201808a0row2_col3\" class=\"data row2 col3\" >0.7505</td>\n",
       "                        <td id=\"T_5393e42c_19c2_11eb_b5c0_00e0201808a0row2_col4\" class=\"data row2 col4\" >0.6808</td>\n",
       "                        <td id=\"T_5393e42c_19c2_11eb_b5c0_00e0201808a0row2_col5\" class=\"data row2 col5\" >0.5910</td>\n",
       "                        <td id=\"T_5393e42c_19c2_11eb_b5c0_00e0201808a0row2_col6\" class=\"data row2 col6\" >0.5952</td>\n",
       "            </tr>\n",
       "            <tr>\n",
       "                        <th id=\"T_5393e42c_19c2_11eb_b5c0_00e0201808a0level0_row3\" class=\"row_heading level0 row3\" >3</th>\n",
       "                        <td id=\"T_5393e42c_19c2_11eb_b5c0_00e0201808a0row3_col0\" class=\"data row3 col0\" >0.8707</td>\n",
       "                        <td id=\"T_5393e42c_19c2_11eb_b5c0_00e0201808a0row3_col1\" class=\"data row3 col1\" >0.9298</td>\n",
       "                        <td id=\"T_5393e42c_19c2_11eb_b5c0_00e0201808a0row3_col2\" class=\"data row3 col2\" >0.6451</td>\n",
       "                        <td id=\"T_5393e42c_19c2_11eb_b5c0_00e0201808a0row3_col3\" class=\"data row3 col3\" >0.7819</td>\n",
       "                        <td id=\"T_5393e42c_19c2_11eb_b5c0_00e0201808a0row3_col4\" class=\"data row3 col4\" >0.7069</td>\n",
       "                        <td id=\"T_5393e42c_19c2_11eb_b5c0_00e0201808a0row3_col5\" class=\"data row3 col5\" >0.6249</td>\n",
       "                        <td id=\"T_5393e42c_19c2_11eb_b5c0_00e0201808a0row3_col6\" class=\"data row3 col6\" >0.6297</td>\n",
       "            </tr>\n",
       "            <tr>\n",
       "                        <th id=\"T_5393e42c_19c2_11eb_b5c0_00e0201808a0level0_row4\" class=\"row_heading level0 row4\" >4</th>\n",
       "                        <td id=\"T_5393e42c_19c2_11eb_b5c0_00e0201808a0row4_col0\" class=\"data row4 col0\" >0.8699</td>\n",
       "                        <td id=\"T_5393e42c_19c2_11eb_b5c0_00e0201808a0row4_col1\" class=\"data row4 col1\" >0.9260</td>\n",
       "                        <td id=\"T_5393e42c_19c2_11eb_b5c0_00e0201808a0row4_col2\" class=\"data row4 col2\" >0.6521</td>\n",
       "                        <td id=\"T_5393e42c_19c2_11eb_b5c0_00e0201808a0row4_col3\" class=\"data row4 col3\" >0.7750</td>\n",
       "                        <td id=\"T_5393e42c_19c2_11eb_b5c0_00e0201808a0row4_col4\" class=\"data row4 col4\" >0.7083</td>\n",
       "                        <td id=\"T_5393e42c_19c2_11eb_b5c0_00e0201808a0row4_col5\" class=\"data row4 col5\" >0.6253</td>\n",
       "                        <td id=\"T_5393e42c_19c2_11eb_b5c0_00e0201808a0row4_col6\" class=\"data row4 col6\" >0.6292</td>\n",
       "            </tr>\n",
       "            <tr>\n",
       "                        <th id=\"T_5393e42c_19c2_11eb_b5c0_00e0201808a0level0_row5\" class=\"row_heading level0 row5\" >Mean</th>\n",
       "                        <td id=\"T_5393e42c_19c2_11eb_b5c0_00e0201808a0row5_col0\" class=\"data row5 col0\" >0.8645</td>\n",
       "                        <td id=\"T_5393e42c_19c2_11eb_b5c0_00e0201808a0row5_col1\" class=\"data row5 col1\" >0.9227</td>\n",
       "                        <td id=\"T_5393e42c_19c2_11eb_b5c0_00e0201808a0row5_col2\" class=\"data row5 col2\" >0.6413</td>\n",
       "                        <td id=\"T_5393e42c_19c2_11eb_b5c0_00e0201808a0row5_col3\" class=\"data row5 col3\" >0.7615</td>\n",
       "                        <td id=\"T_5393e42c_19c2_11eb_b5c0_00e0201808a0row5_col4\" class=\"data row5 col4\" >0.6962</td>\n",
       "                        <td id=\"T_5393e42c_19c2_11eb_b5c0_00e0201808a0row5_col5\" class=\"data row5 col5\" >0.6098</td>\n",
       "                        <td id=\"T_5393e42c_19c2_11eb_b5c0_00e0201808a0row5_col6\" class=\"data row5 col6\" >0.6136</td>\n",
       "            </tr>\n",
       "            <tr>\n",
       "                        <th id=\"T_5393e42c_19c2_11eb_b5c0_00e0201808a0level0_row6\" class=\"row_heading level0 row6\" >SD</th>\n",
       "                        <td id=\"T_5393e42c_19c2_11eb_b5c0_00e0201808a0row6_col0\" class=\"data row6 col0\" >0.0049</td>\n",
       "                        <td id=\"T_5393e42c_19c2_11eb_b5c0_00e0201808a0row6_col1\" class=\"data row6 col1\" >0.0048</td>\n",
       "                        <td id=\"T_5393e42c_19c2_11eb_b5c0_00e0201808a0row6_col2\" class=\"data row6 col2\" >0.0124</td>\n",
       "                        <td id=\"T_5393e42c_19c2_11eb_b5c0_00e0201808a0row6_col3\" class=\"data row6 col3\" >0.0143</td>\n",
       "                        <td id=\"T_5393e42c_19c2_11eb_b5c0_00e0201808a0row6_col4\" class=\"data row6 col4\" >0.0108</td>\n",
       "                        <td id=\"T_5393e42c_19c2_11eb_b5c0_00e0201808a0row6_col5\" class=\"data row6 col5\" >0.0138</td>\n",
       "                        <td id=\"T_5393e42c_19c2_11eb_b5c0_00e0201808a0row6_col6\" class=\"data row6 col6\" >0.0139</td>\n",
       "            </tr>\n",
       "    </tbody></table>"
      ],
      "text/plain": [
       "<pandas.io.formats.style.Styler at 0x24fa56aff08>"
      ]
     },
     "metadata": {},
     "output_type": "display_data"
    }
   ],
   "source": [
    "blended = blend_models(estimator_list = best_3, fold = 5, method = 'soft')"
   ]
  },
  {
   "cell_type": "code",
   "execution_count": 39,
   "metadata": {},
   "outputs": [
    {
     "data": {
      "text/html": [
       "<div>\n",
       "<style scoped>\n",
       "    .dataframe tbody tr th:only-of-type {\n",
       "        vertical-align: middle;\n",
       "    }\n",
       "\n",
       "    .dataframe tbody tr th {\n",
       "        vertical-align: top;\n",
       "    }\n",
       "\n",
       "    .dataframe thead th {\n",
       "        text-align: right;\n",
       "    }\n",
       "</style>\n",
       "<table border=\"1\" class=\"dataframe\">\n",
       "  <thead>\n",
       "    <tr style=\"text-align: right;\">\n",
       "      <th></th>\n",
       "      <th>Model</th>\n",
       "      <th>Accuracy</th>\n",
       "      <th>AUC</th>\n",
       "      <th>Recall</th>\n",
       "      <th>Prec.</th>\n",
       "      <th>F1</th>\n",
       "      <th>Kappa</th>\n",
       "      <th>MCC</th>\n",
       "    </tr>\n",
       "  </thead>\n",
       "  <tbody>\n",
       "    <tr>\n",
       "      <th>0</th>\n",
       "      <td>Voting Classifier</td>\n",
       "      <td>0.8757</td>\n",
       "      <td>0.9292</td>\n",
       "      <td>0.6579</td>\n",
       "      <td>0.7933</td>\n",
       "      <td>0.7192</td>\n",
       "      <td>0.6403</td>\n",
       "      <td>0.6449</td>\n",
       "    </tr>\n",
       "  </tbody>\n",
       "</table>\n",
       "</div>"
      ],
      "text/plain": [
       "               Model  Accuracy     AUC  Recall   Prec.      F1   Kappa     MCC\n",
       "0  Voting Classifier    0.8757  0.9292  0.6579  0.7933  0.7192  0.6403  0.6449"
      ]
     },
     "metadata": {},
     "output_type": "display_data"
    }
   ],
   "source": [
    "pred_holdout = predict_model(blended)"
   ]
  },
  {
   "cell_type": "code",
   "execution_count": 40,
   "metadata": {},
   "outputs": [
    {
     "name": "stdout",
     "output_type": "stream",
     "text": [
      "Wall time: 3min 54s\n"
     ]
    }
   ],
   "source": [
    "%%time\n",
    "final_model = finalize_model(blended)"
   ]
  },
  {
   "cell_type": "code",
   "execution_count": 41,
   "metadata": {},
   "outputs": [],
   "source": [
    "predictions = predict_model(final_model, data = test)"
   ]
  },
  {
   "cell_type": "markdown",
   "metadata": {},
   "source": [
    "# 4. 예측"
   ]
  },
  {
   "cell_type": "code",
   "execution_count": 42,
   "metadata": {},
   "outputs": [],
   "source": [
    "submission['prediction'] = predictions['Label']"
   ]
  },
  {
   "cell_type": "markdown",
   "metadata": {},
   "source": [
    "# 5. 제출"
   ]
  },
  {
   "cell_type": "code",
   "execution_count": 43,
   "metadata": {},
   "outputs": [],
   "source": [
    "submission.to_csv('output/20201029-5.csv')"
   ]
  },
  {
   "cell_type": "code",
   "execution_count": null,
   "metadata": {},
   "outputs": [],
   "source": []
  },
  {
   "cell_type": "code",
   "execution_count": 44,
   "metadata": {},
   "outputs": [
    {
     "data": {
      "text/html": [
       "<style  type=\"text/css\" >\n",
       "#T_a06b28ba_19c3_11eb_9154_00e0201808a0row10_col0,#T_a06b28ba_19c3_11eb_9154_00e0201808a0row10_col1,#T_a06b28ba_19c3_11eb_9154_00e0201808a0row10_col2,#T_a06b28ba_19c3_11eb_9154_00e0201808a0row10_col3,#T_a06b28ba_19c3_11eb_9154_00e0201808a0row10_col4,#T_a06b28ba_19c3_11eb_9154_00e0201808a0row10_col5,#T_a06b28ba_19c3_11eb_9154_00e0201808a0row10_col6{\n",
       "            background:  yellow;\n",
       "        }</style><table id=\"T_a06b28ba_19c3_11eb_9154_00e0201808a0\" ><thead>    <tr>        <th class=\"blank level0\" ></th>        <th class=\"col_heading level0 col0\" >Accuracy</th>        <th class=\"col_heading level0 col1\" >AUC</th>        <th class=\"col_heading level0 col2\" >Recall</th>        <th class=\"col_heading level0 col3\" >Prec.</th>        <th class=\"col_heading level0 col4\" >F1</th>        <th class=\"col_heading level0 col5\" >Kappa</th>        <th class=\"col_heading level0 col6\" >MCC</th>    </tr></thead><tbody>\n",
       "                <tr>\n",
       "                        <th id=\"T_a06b28ba_19c3_11eb_9154_00e0201808a0level0_row0\" class=\"row_heading level0 row0\" >0</th>\n",
       "                        <td id=\"T_a06b28ba_19c3_11eb_9154_00e0201808a0row0_col0\" class=\"data row0 col0\" >0.8669</td>\n",
       "                        <td id=\"T_a06b28ba_19c3_11eb_9154_00e0201808a0row0_col1\" class=\"data row0 col1\" >0.9190</td>\n",
       "                        <td id=\"T_a06b28ba_19c3_11eb_9154_00e0201808a0row0_col2\" class=\"data row0 col2\" >0.6278</td>\n",
       "                        <td id=\"T_a06b28ba_19c3_11eb_9154_00e0201808a0row0_col3\" class=\"data row0 col3\" >0.7791</td>\n",
       "                        <td id=\"T_a06b28ba_19c3_11eb_9154_00e0201808a0row0_col4\" class=\"data row0 col4\" >0.6953</td>\n",
       "                        <td id=\"T_a06b28ba_19c3_11eb_9154_00e0201808a0row0_col5\" class=\"data row0 col5\" >0.6114</td>\n",
       "                        <td id=\"T_a06b28ba_19c3_11eb_9154_00e0201808a0row0_col6\" class=\"data row0 col6\" >0.6173</td>\n",
       "            </tr>\n",
       "            <tr>\n",
       "                        <th id=\"T_a06b28ba_19c3_11eb_9154_00e0201808a0level0_row1\" class=\"row_heading level0 row1\" >1</th>\n",
       "                        <td id=\"T_a06b28ba_19c3_11eb_9154_00e0201808a0row1_col0\" class=\"data row1 col0\" >0.8583</td>\n",
       "                        <td id=\"T_a06b28ba_19c3_11eb_9154_00e0201808a0row1_col1\" class=\"data row1 col1\" >0.9137</td>\n",
       "                        <td id=\"T_a06b28ba_19c3_11eb_9154_00e0201808a0row1_col2\" class=\"data row1 col2\" >0.6537</td>\n",
       "                        <td id=\"T_a06b28ba_19c3_11eb_9154_00e0201808a0row1_col3\" class=\"data row1 col3\" >0.7319</td>\n",
       "                        <td id=\"T_a06b28ba_19c3_11eb_9154_00e0201808a0row1_col4\" class=\"data row1 col4\" >0.6906</td>\n",
       "                        <td id=\"T_a06b28ba_19c3_11eb_9154_00e0201808a0row1_col5\" class=\"data row1 col5\" >0.5991</td>\n",
       "                        <td id=\"T_a06b28ba_19c3_11eb_9154_00e0201808a0row1_col6\" class=\"data row1 col6\" >0.6007</td>\n",
       "            </tr>\n",
       "            <tr>\n",
       "                        <th id=\"T_a06b28ba_19c3_11eb_9154_00e0201808a0level0_row2\" class=\"row_heading level0 row2\" >2</th>\n",
       "                        <td id=\"T_a06b28ba_19c3_11eb_9154_00e0201808a0row2_col0\" class=\"data row2 col0\" >0.8622</td>\n",
       "                        <td id=\"T_a06b28ba_19c3_11eb_9154_00e0201808a0row2_col1\" class=\"data row2 col1\" >0.9194</td>\n",
       "                        <td id=\"T_a06b28ba_19c3_11eb_9154_00e0201808a0row2_col2\" class=\"data row2 col2\" >0.6667</td>\n",
       "                        <td id=\"T_a06b28ba_19c3_11eb_9154_00e0201808a0row2_col3\" class=\"data row2 col3\" >0.7384</td>\n",
       "                        <td id=\"T_a06b28ba_19c3_11eb_9154_00e0201808a0row2_col4\" class=\"data row2 col4\" >0.7007</td>\n",
       "                        <td id=\"T_a06b28ba_19c3_11eb_9154_00e0201808a0row2_col5\" class=\"data row2 col5\" >0.6115</td>\n",
       "                        <td id=\"T_a06b28ba_19c3_11eb_9154_00e0201808a0row2_col6\" class=\"data row2 col6\" >0.6128</td>\n",
       "            </tr>\n",
       "            <tr>\n",
       "                        <th id=\"T_a06b28ba_19c3_11eb_9154_00e0201808a0level0_row3\" class=\"row_heading level0 row3\" >3</th>\n",
       "                        <td id=\"T_a06b28ba_19c3_11eb_9154_00e0201808a0row3_col0\" class=\"data row3 col0\" >0.8519</td>\n",
       "                        <td id=\"T_a06b28ba_19c3_11eb_9154_00e0201808a0row3_col1\" class=\"data row3 col1\" >0.9125</td>\n",
       "                        <td id=\"T_a06b28ba_19c3_11eb_9154_00e0201808a0row3_col2\" class=\"data row3 col2\" >0.6364</td>\n",
       "                        <td id=\"T_a06b28ba_19c3_11eb_9154_00e0201808a0row3_col3\" class=\"data row3 col3\" >0.7179</td>\n",
       "                        <td id=\"T_a06b28ba_19c3_11eb_9154_00e0201808a0row3_col4\" class=\"data row3 col4\" >0.6747</td>\n",
       "                        <td id=\"T_a06b28ba_19c3_11eb_9154_00e0201808a0row3_col5\" class=\"data row3 col5\" >0.5793</td>\n",
       "                        <td id=\"T_a06b28ba_19c3_11eb_9154_00e0201808a0row3_col6\" class=\"data row3 col6\" >0.5810</td>\n",
       "            </tr>\n",
       "            <tr>\n",
       "                        <th id=\"T_a06b28ba_19c3_11eb_9154_00e0201808a0level0_row4\" class=\"row_heading level0 row4\" >4</th>\n",
       "                        <td id=\"T_a06b28ba_19c3_11eb_9154_00e0201808a0row4_col0\" class=\"data row4 col0\" >0.8487</td>\n",
       "                        <td id=\"T_a06b28ba_19c3_11eb_9154_00e0201808a0row4_col1\" class=\"data row4 col1\" >0.9072</td>\n",
       "                        <td id=\"T_a06b28ba_19c3_11eb_9154_00e0201808a0row4_col2\" class=\"data row4 col2\" >0.6149</td>\n",
       "                        <td id=\"T_a06b28ba_19c3_11eb_9154_00e0201808a0row4_col3\" class=\"data row4 col3\" >0.7197</td>\n",
       "                        <td id=\"T_a06b28ba_19c3_11eb_9154_00e0201808a0row4_col4\" class=\"data row4 col4\" >0.6632</td>\n",
       "                        <td id=\"T_a06b28ba_19c3_11eb_9154_00e0201808a0row4_col5\" class=\"data row4 col5\" >0.5664</td>\n",
       "                        <td id=\"T_a06b28ba_19c3_11eb_9154_00e0201808a0row4_col6\" class=\"data row4 col6\" >0.5693</td>\n",
       "            </tr>\n",
       "            <tr>\n",
       "                        <th id=\"T_a06b28ba_19c3_11eb_9154_00e0201808a0level0_row5\" class=\"row_heading level0 row5\" >5</th>\n",
       "                        <td id=\"T_a06b28ba_19c3_11eb_9154_00e0201808a0row5_col0\" class=\"data row5 col0\" >0.8652</td>\n",
       "                        <td id=\"T_a06b28ba_19c3_11eb_9154_00e0201808a0row5_col1\" class=\"data row5 col1\" >0.9299</td>\n",
       "                        <td id=\"T_a06b28ba_19c3_11eb_9154_00e0201808a0row5_col2\" class=\"data row5 col2\" >0.6440</td>\n",
       "                        <td id=\"T_a06b28ba_19c3_11eb_9154_00e0201808a0row5_col3\" class=\"data row5 col3\" >0.7625</td>\n",
       "                        <td id=\"T_a06b28ba_19c3_11eb_9154_00e0201808a0row5_col4\" class=\"data row5 col4\" >0.6982</td>\n",
       "                        <td id=\"T_a06b28ba_19c3_11eb_9154_00e0201808a0row5_col5\" class=\"data row5 col5\" >0.6123</td>\n",
       "                        <td id=\"T_a06b28ba_19c3_11eb_9154_00e0201808a0row5_col6\" class=\"data row5 col6\" >0.6159</td>\n",
       "            </tr>\n",
       "            <tr>\n",
       "                        <th id=\"T_a06b28ba_19c3_11eb_9154_00e0201808a0level0_row6\" class=\"row_heading level0 row6\" >6</th>\n",
       "                        <td id=\"T_a06b28ba_19c3_11eb_9154_00e0201808a0row6_col0\" class=\"data row6 col0\" >0.8699</td>\n",
       "                        <td id=\"T_a06b28ba_19c3_11eb_9154_00e0201808a0row6_col1\" class=\"data row6 col1\" >0.9340</td>\n",
       "                        <td id=\"T_a06b28ba_19c3_11eb_9154_00e0201808a0row6_col2\" class=\"data row6 col2\" >0.6440</td>\n",
       "                        <td id=\"T_a06b28ba_19c3_11eb_9154_00e0201808a0row6_col3\" class=\"data row6 col3\" >0.7804</td>\n",
       "                        <td id=\"T_a06b28ba_19c3_11eb_9154_00e0201808a0row6_col4\" class=\"data row6 col4\" >0.7057</td>\n",
       "                        <td id=\"T_a06b28ba_19c3_11eb_9154_00e0201808a0row6_col5\" class=\"data row6 col5\" >0.6232</td>\n",
       "                        <td id=\"T_a06b28ba_19c3_11eb_9154_00e0201808a0row6_col6\" class=\"data row6 col6\" >0.6279</td>\n",
       "            </tr>\n",
       "            <tr>\n",
       "                        <th id=\"T_a06b28ba_19c3_11eb_9154_00e0201808a0level0_row7\" class=\"row_heading level0 row7\" >7</th>\n",
       "                        <td id=\"T_a06b28ba_19c3_11eb_9154_00e0201808a0row7_col0\" class=\"data row7 col0\" >0.8644</td>\n",
       "                        <td id=\"T_a06b28ba_19c3_11eb_9154_00e0201808a0row7_col1\" class=\"data row7 col1\" >0.9213</td>\n",
       "                        <td id=\"T_a06b28ba_19c3_11eb_9154_00e0201808a0row7_col2\" class=\"data row7 col2\" >0.6472</td>\n",
       "                        <td id=\"T_a06b28ba_19c3_11eb_9154_00e0201808a0row7_col3\" class=\"data row7 col3\" >0.7576</td>\n",
       "                        <td id=\"T_a06b28ba_19c3_11eb_9154_00e0201808a0row7_col4\" class=\"data row7 col4\" >0.6981</td>\n",
       "                        <td id=\"T_a06b28ba_19c3_11eb_9154_00e0201808a0row7_col5\" class=\"data row7 col5\" >0.6114</td>\n",
       "                        <td id=\"T_a06b28ba_19c3_11eb_9154_00e0201808a0row7_col6\" class=\"data row7 col6\" >0.6145</td>\n",
       "            </tr>\n",
       "            <tr>\n",
       "                        <th id=\"T_a06b28ba_19c3_11eb_9154_00e0201808a0level0_row8\" class=\"row_heading level0 row8\" >8</th>\n",
       "                        <td id=\"T_a06b28ba_19c3_11eb_9154_00e0201808a0row8_col0\" class=\"data row8 col0\" >0.8660</td>\n",
       "                        <td id=\"T_a06b28ba_19c3_11eb_9154_00e0201808a0row8_col1\" class=\"data row8 col1\" >0.9276</td>\n",
       "                        <td id=\"T_a06b28ba_19c3_11eb_9154_00e0201808a0row8_col2\" class=\"data row8 col2\" >0.6375</td>\n",
       "                        <td id=\"T_a06b28ba_19c3_11eb_9154_00e0201808a0row8_col3\" class=\"data row8 col3\" >0.7695</td>\n",
       "                        <td id=\"T_a06b28ba_19c3_11eb_9154_00e0201808a0row8_col4\" class=\"data row8 col4\" >0.6973</td>\n",
       "                        <td id=\"T_a06b28ba_19c3_11eb_9154_00e0201808a0row8_col5\" class=\"data row8 col5\" >0.6123</td>\n",
       "                        <td id=\"T_a06b28ba_19c3_11eb_9154_00e0201808a0row8_col6\" class=\"data row8 col6\" >0.6167</td>\n",
       "            </tr>\n",
       "            <tr>\n",
       "                        <th id=\"T_a06b28ba_19c3_11eb_9154_00e0201808a0level0_row9\" class=\"row_heading level0 row9\" >9</th>\n",
       "                        <td id=\"T_a06b28ba_19c3_11eb_9154_00e0201808a0row9_col0\" class=\"data row9 col0\" >0.8723</td>\n",
       "                        <td id=\"T_a06b28ba_19c3_11eb_9154_00e0201808a0row9_col1\" class=\"data row9 col1\" >0.9256</td>\n",
       "                        <td id=\"T_a06b28ba_19c3_11eb_9154_00e0201808a0row9_col2\" class=\"data row9 col2\" >0.6764</td>\n",
       "                        <td id=\"T_a06b28ba_19c3_11eb_9154_00e0201808a0row9_col3\" class=\"data row9 col3\" >0.7684</td>\n",
       "                        <td id=\"T_a06b28ba_19c3_11eb_9154_00e0201808a0row9_col4\" class=\"data row9 col4\" >0.7194</td>\n",
       "                        <td id=\"T_a06b28ba_19c3_11eb_9154_00e0201808a0row9_col5\" class=\"data row9 col5\" >0.6372</td>\n",
       "                        <td id=\"T_a06b28ba_19c3_11eb_9154_00e0201808a0row9_col6\" class=\"data row9 col6\" >0.6394</td>\n",
       "            </tr>\n",
       "            <tr>\n",
       "                        <th id=\"T_a06b28ba_19c3_11eb_9154_00e0201808a0level0_row10\" class=\"row_heading level0 row10\" >Mean</th>\n",
       "                        <td id=\"T_a06b28ba_19c3_11eb_9154_00e0201808a0row10_col0\" class=\"data row10 col0\" >0.8626</td>\n",
       "                        <td id=\"T_a06b28ba_19c3_11eb_9154_00e0201808a0row10_col1\" class=\"data row10 col1\" >0.9210</td>\n",
       "                        <td id=\"T_a06b28ba_19c3_11eb_9154_00e0201808a0row10_col2\" class=\"data row10 col2\" >0.6449</td>\n",
       "                        <td id=\"T_a06b28ba_19c3_11eb_9154_00e0201808a0row10_col3\" class=\"data row10 col3\" >0.7525</td>\n",
       "                        <td id=\"T_a06b28ba_19c3_11eb_9154_00e0201808a0row10_col4\" class=\"data row10 col4\" >0.6943</td>\n",
       "                        <td id=\"T_a06b28ba_19c3_11eb_9154_00e0201808a0row10_col5\" class=\"data row10 col5\" >0.6064</td>\n",
       "                        <td id=\"T_a06b28ba_19c3_11eb_9154_00e0201808a0row10_col6\" class=\"data row10 col6\" >0.6095</td>\n",
       "            </tr>\n",
       "            <tr>\n",
       "                        <th id=\"T_a06b28ba_19c3_11eb_9154_00e0201808a0level0_row11\" class=\"row_heading level0 row11\" >SD</th>\n",
       "                        <td id=\"T_a06b28ba_19c3_11eb_9154_00e0201808a0row11_col0\" class=\"data row11 col0\" >0.0072</td>\n",
       "                        <td id=\"T_a06b28ba_19c3_11eb_9154_00e0201808a0row11_col1\" class=\"data row11 col1\" >0.0080</td>\n",
       "                        <td id=\"T_a06b28ba_19c3_11eb_9154_00e0201808a0row11_col2\" class=\"data row11 col2\" >0.0169</td>\n",
       "                        <td id=\"T_a06b28ba_19c3_11eb_9154_00e0201808a0row11_col3\" class=\"data row11 col3\" >0.0225</td>\n",
       "                        <td id=\"T_a06b28ba_19c3_11eb_9154_00e0201808a0row11_col4\" class=\"data row11 col4\" >0.0149</td>\n",
       "                        <td id=\"T_a06b28ba_19c3_11eb_9154_00e0201808a0row11_col5\" class=\"data row11 col5\" >0.0194</td>\n",
       "                        <td id=\"T_a06b28ba_19c3_11eb_9154_00e0201808a0row11_col6\" class=\"data row11 col6\" >0.0198</td>\n",
       "            </tr>\n",
       "    </tbody></table>"
      ],
      "text/plain": [
       "<pandas.io.formats.style.Styler at 0x24fa14c9888>"
      ]
     },
     "metadata": {},
     "output_type": "display_data"
    }
   ],
   "source": [
    "xgboost = create_model('xgboost')"
   ]
  },
  {
   "cell_type": "code",
   "execution_count": 45,
   "metadata": {},
   "outputs": [
    {
     "data": {
      "image/png": "[encoded data removed]",
      "text/plain": [
       "<Figure size 800x500 with 1 Axes>"
      ]
     },
     "metadata": {
      "needs_background": "light"
     },
     "output_type": "display_data"
    }
   ],
   "source": [
    "plot_model(estimator = xgboost, plot = 'feature')"
   ]
  },
  {
   "cell_type": "code",
   "execution_count": null,
   "metadata": {},
   "outputs": [],
   "source": []
  },
  {
   "cell_type": "code",
   "execution_count": 46,
   "metadata": {
    "scrolled": true
   },
   "outputs": [
    {
     "data": {
      "text/html": [
       "<style  type=\"text/css\" >\n",
       "#T_a3d35592_19c3_11eb_8ee7_00e0201808a0row10_col0,#T_a3d35592_19c3_11eb_8ee7_00e0201808a0row10_col1,#T_a3d35592_19c3_11eb_8ee7_00e0201808a0row10_col2,#T_a3d35592_19c3_11eb_8ee7_00e0201808a0row10_col3,#T_a3d35592_19c3_11eb_8ee7_00e0201808a0row10_col4,#T_a3d35592_19c3_11eb_8ee7_00e0201808a0row10_col5,#T_a3d35592_19c3_11eb_8ee7_00e0201808a0row10_col6{\n",
       "            background:  yellow;\n",
       "        }</style><table id=\"T_a3d35592_19c3_11eb_8ee7_00e0201808a0\" ><thead>    <tr>        <th class=\"blank level0\" ></th>        <th class=\"col_heading level0 col0\" >Accuracy</th>        <th class=\"col_heading level0 col1\" >AUC</th>        <th class=\"col_heading level0 col2\" >Recall</th>        <th class=\"col_heading level0 col3\" >Prec.</th>        <th class=\"col_heading level0 col4\" >F1</th>        <th class=\"col_heading level0 col5\" >Kappa</th>        <th class=\"col_heading level0 col6\" >MCC</th>    </tr></thead><tbody>\n",
       "                <tr>\n",
       "                        <th id=\"T_a3d35592_19c3_11eb_8ee7_00e0201808a0level0_row0\" class=\"row_heading level0 row0\" >0</th>\n",
       "                        <td id=\"T_a3d35592_19c3_11eb_8ee7_00e0201808a0row0_col0\" class=\"data row0 col0\" >0.8583</td>\n",
       "                        <td id=\"T_a3d35592_19c3_11eb_8ee7_00e0201808a0row0_col1\" class=\"data row0 col1\" >0.9204</td>\n",
       "                        <td id=\"T_a3d35592_19c3_11eb_8ee7_00e0201808a0row0_col2\" class=\"data row0 col2\" >0.6278</td>\n",
       "                        <td id=\"T_a3d35592_19c3_11eb_8ee7_00e0201808a0row0_col3\" class=\"data row0 col3\" >0.7462</td>\n",
       "                        <td id=\"T_a3d35592_19c3_11eb_8ee7_00e0201808a0row0_col4\" class=\"data row0 col4\" >0.6819</td>\n",
       "                        <td id=\"T_a3d35592_19c3_11eb_8ee7_00e0201808a0row0_col5\" class=\"data row0 col5\" >0.5916</td>\n",
       "                        <td id=\"T_a3d35592_19c3_11eb_8ee7_00e0201808a0row0_col6\" class=\"data row0 col6\" >0.5952</td>\n",
       "            </tr>\n",
       "            <tr>\n",
       "                        <th id=\"T_a3d35592_19c3_11eb_8ee7_00e0201808a0level0_row1\" class=\"row_heading level0 row1\" >1</th>\n",
       "                        <td id=\"T_a3d35592_19c3_11eb_8ee7_00e0201808a0row1_col0\" class=\"data row1 col0\" >0.8606</td>\n",
       "                        <td id=\"T_a3d35592_19c3_11eb_8ee7_00e0201808a0row1_col1\" class=\"data row1 col1\" >0.9152</td>\n",
       "                        <td id=\"T_a3d35592_19c3_11eb_8ee7_00e0201808a0row1_col2\" class=\"data row1 col2\" >0.6667</td>\n",
       "                        <td id=\"T_a3d35592_19c3_11eb_8ee7_00e0201808a0row1_col3\" class=\"data row1 col3\" >0.7331</td>\n",
       "                        <td id=\"T_a3d35592_19c3_11eb_8ee7_00e0201808a0row1_col4\" class=\"data row1 col4\" >0.6983</td>\n",
       "                        <td id=\"T_a3d35592_19c3_11eb_8ee7_00e0201808a0row1_col5\" class=\"data row1 col5\" >0.6079</td>\n",
       "                        <td id=\"T_a3d35592_19c3_11eb_8ee7_00e0201808a0row1_col6\" class=\"data row1 col6\" >0.6091</td>\n",
       "            </tr>\n",
       "            <tr>\n",
       "                        <th id=\"T_a3d35592_19c3_11eb_8ee7_00e0201808a0level0_row2\" class=\"row_heading level0 row2\" >2</th>\n",
       "                        <td id=\"T_a3d35592_19c3_11eb_8ee7_00e0201808a0row2_col0\" class=\"data row2 col0\" >0.8567</td>\n",
       "                        <td id=\"T_a3d35592_19c3_11eb_8ee7_00e0201808a0row2_col1\" class=\"data row2 col1\" >0.9183</td>\n",
       "                        <td id=\"T_a3d35592_19c3_11eb_8ee7_00e0201808a0row2_col2\" class=\"data row2 col2\" >0.6667</td>\n",
       "                        <td id=\"T_a3d35592_19c3_11eb_8ee7_00e0201808a0row2_col3\" class=\"data row2 col3\" >0.7203</td>\n",
       "                        <td id=\"T_a3d35592_19c3_11eb_8ee7_00e0201808a0row2_col4\" class=\"data row2 col4\" >0.6924</td>\n",
       "                        <td id=\"T_a3d35592_19c3_11eb_8ee7_00e0201808a0row2_col5\" class=\"data row2 col5\" >0.5992</td>\n",
       "                        <td id=\"T_a3d35592_19c3_11eb_8ee7_00e0201808a0row2_col6\" class=\"data row2 col6\" >0.6000</td>\n",
       "            </tr>\n",
       "            <tr>\n",
       "                        <th id=\"T_a3d35592_19c3_11eb_8ee7_00e0201808a0level0_row3\" class=\"row_heading level0 row3\" >3</th>\n",
       "                        <td id=\"T_a3d35592_19c3_11eb_8ee7_00e0201808a0row3_col0\" class=\"data row3 col0\" >0.8519</td>\n",
       "                        <td id=\"T_a3d35592_19c3_11eb_8ee7_00e0201808a0row3_col1\" class=\"data row3 col1\" >0.9113</td>\n",
       "                        <td id=\"T_a3d35592_19c3_11eb_8ee7_00e0201808a0row3_col2\" class=\"data row3 col2\" >0.6136</td>\n",
       "                        <td id=\"T_a3d35592_19c3_11eb_8ee7_00e0201808a0row3_col3\" class=\"data row3 col3\" >0.7297</td>\n",
       "                        <td id=\"T_a3d35592_19c3_11eb_8ee7_00e0201808a0row3_col4\" class=\"data row3 col4\" >0.6667</td>\n",
       "                        <td id=\"T_a3d35592_19c3_11eb_8ee7_00e0201808a0row3_col5\" class=\"data row3 col5\" >0.5724</td>\n",
       "                        <td id=\"T_a3d35592_19c3_11eb_8ee7_00e0201808a0row3_col6\" class=\"data row3 col6\" >0.5759</td>\n",
       "            </tr>\n",
       "            <tr>\n",
       "                        <th id=\"T_a3d35592_19c3_11eb_8ee7_00e0201808a0level0_row4\" class=\"row_heading level0 row4\" >4</th>\n",
       "                        <td id=\"T_a3d35592_19c3_11eb_8ee7_00e0201808a0row4_col0\" class=\"data row4 col0\" >0.8534</td>\n",
       "                        <td id=\"T_a3d35592_19c3_11eb_8ee7_00e0201808a0row4_col1\" class=\"data row4 col1\" >0.9110</td>\n",
       "                        <td id=\"T_a3d35592_19c3_11eb_8ee7_00e0201808a0row4_col2\" class=\"data row4 col2\" >0.6084</td>\n",
       "                        <td id=\"T_a3d35592_19c3_11eb_8ee7_00e0201808a0row4_col3\" class=\"data row4 col3\" >0.7402</td>\n",
       "                        <td id=\"T_a3d35592_19c3_11eb_8ee7_00e0201808a0row4_col4\" class=\"data row4 col4\" >0.6679</td>\n",
       "                        <td id=\"T_a3d35592_19c3_11eb_8ee7_00e0201808a0row4_col5\" class=\"data row4 col5\" >0.5750</td>\n",
       "                        <td id=\"T_a3d35592_19c3_11eb_8ee7_00e0201808a0row4_col6\" class=\"data row4 col6\" >0.5795</td>\n",
       "            </tr>\n",
       "            <tr>\n",
       "                        <th id=\"T_a3d35592_19c3_11eb_8ee7_00e0201808a0level0_row5\" class=\"row_heading level0 row5\" >5</th>\n",
       "                        <td id=\"T_a3d35592_19c3_11eb_8ee7_00e0201808a0row5_col0\" class=\"data row5 col0\" >0.8668</td>\n",
       "                        <td id=\"T_a3d35592_19c3_11eb_8ee7_00e0201808a0row5_col1\" class=\"data row5 col1\" >0.9317</td>\n",
       "                        <td id=\"T_a3d35592_19c3_11eb_8ee7_00e0201808a0row5_col2\" class=\"data row5 col2\" >0.6440</td>\n",
       "                        <td id=\"T_a3d35592_19c3_11eb_8ee7_00e0201808a0row5_col3\" class=\"data row5 col3\" >0.7683</td>\n",
       "                        <td id=\"T_a3d35592_19c3_11eb_8ee7_00e0201808a0row5_col4\" class=\"data row5 col4\" >0.7007</td>\n",
       "                        <td id=\"T_a3d35592_19c3_11eb_8ee7_00e0201808a0row5_col5\" class=\"data row5 col5\" >0.6159</td>\n",
       "                        <td id=\"T_a3d35592_19c3_11eb_8ee7_00e0201808a0row5_col6\" class=\"data row5 col6\" >0.6198</td>\n",
       "            </tr>\n",
       "            <tr>\n",
       "                        <th id=\"T_a3d35592_19c3_11eb_8ee7_00e0201808a0level0_row6\" class=\"row_heading level0 row6\" >6</th>\n",
       "                        <td id=\"T_a3d35592_19c3_11eb_8ee7_00e0201808a0row6_col0\" class=\"data row6 col0\" >0.8715</td>\n",
       "                        <td id=\"T_a3d35592_19c3_11eb_8ee7_00e0201808a0row6_col1\" class=\"data row6 col1\" >0.9337</td>\n",
       "                        <td id=\"T_a3d35592_19c3_11eb_8ee7_00e0201808a0row6_col2\" class=\"data row6 col2\" >0.6570</td>\n",
       "                        <td id=\"T_a3d35592_19c3_11eb_8ee7_00e0201808a0row6_col3\" class=\"data row6 col3\" >0.7778</td>\n",
       "                        <td id=\"T_a3d35592_19c3_11eb_8ee7_00e0201808a0row6_col4\" class=\"data row6 col4\" >0.7123</td>\n",
       "                        <td id=\"T_a3d35592_19c3_11eb_8ee7_00e0201808a0row6_col5\" class=\"data row6 col5\" >0.6303</td>\n",
       "                        <td id=\"T_a3d35592_19c3_11eb_8ee7_00e0201808a0row6_col6\" class=\"data row6 col6\" >0.6340</td>\n",
       "            </tr>\n",
       "            <tr>\n",
       "                        <th id=\"T_a3d35592_19c3_11eb_8ee7_00e0201808a0level0_row7\" class=\"row_heading level0 row7\" >7</th>\n",
       "                        <td id=\"T_a3d35592_19c3_11eb_8ee7_00e0201808a0row7_col0\" class=\"data row7 col0\" >0.8605</td>\n",
       "                        <td id=\"T_a3d35592_19c3_11eb_8ee7_00e0201808a0row7_col1\" class=\"data row7 col1\" >0.9200</td>\n",
       "                        <td id=\"T_a3d35592_19c3_11eb_8ee7_00e0201808a0row7_col2\" class=\"data row7 col2\" >0.6440</td>\n",
       "                        <td id=\"T_a3d35592_19c3_11eb_8ee7_00e0201808a0row7_col3\" class=\"data row7 col3\" >0.7453</td>\n",
       "                        <td id=\"T_a3d35592_19c3_11eb_8ee7_00e0201808a0row7_col4\" class=\"data row7 col4\" >0.6910</td>\n",
       "                        <td id=\"T_a3d35592_19c3_11eb_8ee7_00e0201808a0row7_col5\" class=\"data row7 col5\" >0.6015</td>\n",
       "                        <td id=\"T_a3d35592_19c3_11eb_8ee7_00e0201808a0row7_col6\" class=\"data row7 col6\" >0.6042</td>\n",
       "            </tr>\n",
       "            <tr>\n",
       "                        <th id=\"T_a3d35592_19c3_11eb_8ee7_00e0201808a0level0_row8\" class=\"row_heading level0 row8\" >8</th>\n",
       "                        <td id=\"T_a3d35592_19c3_11eb_8ee7_00e0201808a0row8_col0\" class=\"data row8 col0\" >0.8676</td>\n",
       "                        <td id=\"T_a3d35592_19c3_11eb_8ee7_00e0201808a0row8_col1\" class=\"data row8 col1\" >0.9267</td>\n",
       "                        <td id=\"T_a3d35592_19c3_11eb_8ee7_00e0201808a0row8_col2\" class=\"data row8 col2\" >0.6472</td>\n",
       "                        <td id=\"T_a3d35592_19c3_11eb_8ee7_00e0201808a0row8_col3\" class=\"data row8 col3\" >0.7692</td>\n",
       "                        <td id=\"T_a3d35592_19c3_11eb_8ee7_00e0201808a0row8_col4\" class=\"data row8 col4\" >0.7030</td>\n",
       "                        <td id=\"T_a3d35592_19c3_11eb_8ee7_00e0201808a0row8_col5\" class=\"data row8 col5\" >0.6186</td>\n",
       "                        <td id=\"T_a3d35592_19c3_11eb_8ee7_00e0201808a0row8_col6\" class=\"data row8 col6\" >0.6224</td>\n",
       "            </tr>\n",
       "            <tr>\n",
       "                        <th id=\"T_a3d35592_19c3_11eb_8ee7_00e0201808a0level0_row9\" class=\"row_heading level0 row9\" >9</th>\n",
       "                        <td id=\"T_a3d35592_19c3_11eb_8ee7_00e0201808a0row9_col0\" class=\"data row9 col0\" >0.8746</td>\n",
       "                        <td id=\"T_a3d35592_19c3_11eb_8ee7_00e0201808a0row9_col1\" class=\"data row9 col1\" >0.9225</td>\n",
       "                        <td id=\"T_a3d35592_19c3_11eb_8ee7_00e0201808a0row9_col2\" class=\"data row9 col2\" >0.6828</td>\n",
       "                        <td id=\"T_a3d35592_19c3_11eb_8ee7_00e0201808a0row9_col3\" class=\"data row9 col3\" >0.7729</td>\n",
       "                        <td id=\"T_a3d35592_19c3_11eb_8ee7_00e0201808a0row9_col4\" class=\"data row9 col4\" >0.7251</td>\n",
       "                        <td id=\"T_a3d35592_19c3_11eb_8ee7_00e0201808a0row9_col5\" class=\"data row9 col5\" >0.6443</td>\n",
       "                        <td id=\"T_a3d35592_19c3_11eb_8ee7_00e0201808a0row9_col6\" class=\"data row9 col6\" >0.6463</td>\n",
       "            </tr>\n",
       "            <tr>\n",
       "                        <th id=\"T_a3d35592_19c3_11eb_8ee7_00e0201808a0level0_row10\" class=\"row_heading level0 row10\" >Mean</th>\n",
       "                        <td id=\"T_a3d35592_19c3_11eb_8ee7_00e0201808a0row10_col0\" class=\"data row10 col0\" >0.8622</td>\n",
       "                        <td id=\"T_a3d35592_19c3_11eb_8ee7_00e0201808a0row10_col1\" class=\"data row10 col1\" >0.9211</td>\n",
       "                        <td id=\"T_a3d35592_19c3_11eb_8ee7_00e0201808a0row10_col2\" class=\"data row10 col2\" >0.6458</td>\n",
       "                        <td id=\"T_a3d35592_19c3_11eb_8ee7_00e0201808a0row10_col3\" class=\"data row10 col3\" >0.7503</td>\n",
       "                        <td id=\"T_a3d35592_19c3_11eb_8ee7_00e0201808a0row10_col4\" class=\"data row10 col4\" >0.6939</td>\n",
       "                        <td id=\"T_a3d35592_19c3_11eb_8ee7_00e0201808a0row10_col5\" class=\"data row10 col5\" >0.6057</td>\n",
       "                        <td id=\"T_a3d35592_19c3_11eb_8ee7_00e0201808a0row10_col6\" class=\"data row10 col6\" >0.6087</td>\n",
       "            </tr>\n",
       "            <tr>\n",
       "                        <th id=\"T_a3d35592_19c3_11eb_8ee7_00e0201808a0level0_row11\" class=\"row_heading level0 row11\" >SD</th>\n",
       "                        <td id=\"T_a3d35592_19c3_11eb_8ee7_00e0201808a0row11_col0\" class=\"data row11 col0\" >0.0072</td>\n",
       "                        <td id=\"T_a3d35592_19c3_11eb_8ee7_00e0201808a0row11_col1\" class=\"data row11 col1\" >0.0074</td>\n",
       "                        <td id=\"T_a3d35592_19c3_11eb_8ee7_00e0201808a0row11_col2\" class=\"data row11 col2\" >0.0227</td>\n",
       "                        <td id=\"T_a3d35592_19c3_11eb_8ee7_00e0201808a0row11_col3\" class=\"data row11 col3\" >0.0193</td>\n",
       "                        <td id=\"T_a3d35592_19c3_11eb_8ee7_00e0201808a0row11_col4\" class=\"data row11 col4\" >0.0174</td>\n",
       "                        <td id=\"T_a3d35592_19c3_11eb_8ee7_00e0201808a0row11_col5\" class=\"data row11 col5\" >0.0216</td>\n",
       "                        <td id=\"T_a3d35592_19c3_11eb_8ee7_00e0201808a0row11_col6\" class=\"data row11 col6\" >0.0214</td>\n",
       "            </tr>\n",
       "    </tbody></table>"
      ],
      "text/plain": [
       "<pandas.io.formats.style.Styler at 0x24fa5f03788>"
      ]
     },
     "metadata": {},
     "output_type": "display_data"
    }
   ],
   "source": [
    "lightgbm = create_model('lightgbm')"
   ]
  },
  {
   "cell_type": "code",
   "execution_count": 47,
   "metadata": {},
   "outputs": [
    {
     "data": {
      "image/png": "[encoded data removed]",
      "text/plain": [
       "<Figure size 800x500 with 1 Axes>"
      ]
     },
     "metadata": {
      "needs_background": "light"
     },
     "output_type": "display_data"
    }
   ],
   "source": [
    "plot_model(estimator = lightgbm, plot = 'feature')"
   ]
  },
  {
   "cell_type": "code",
   "execution_count": null,
   "metadata": {},
   "outputs": [],
   "source": []
  }
 ],
 "metadata": {
  "kernelspec": {
   "display_name": "Python 3",
   "language": "python",
   "name": "python3"
  },
  "language_info": {
   "codemirror_mode": {
    "name": "ipython",
    "version": 3
   },
   "file_extension": ".py",
   "mimetype": "text/x-python",
   "name": "python",
   "nbconvert_exporter": "python",
   "pygments_lexer": "ipython3",
   "version": "3.7.6"
  }
 },
 "nbformat": 4,
 "nbformat_minor": 4
}
