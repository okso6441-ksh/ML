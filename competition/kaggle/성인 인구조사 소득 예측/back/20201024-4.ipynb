{
 "cells": [
  {
   "cell_type": "code",
   "execution_count": 1,
   "metadata": {},
   "outputs": [],
   "source": [
    "import numpy as np\n",
    "import pandas as pd\n",
    "import matplotlib.pyplot as plt\n",
    "import seaborn as sns\n",
    "import warnings\n",
    "warnings.filterwarnings('ignore')\n",
    "%matplotlib inline\n",
    "\n",
    "from IPython.core.interactiveshell import InteractiveShell\n",
    "InteractiveShell.ast_node_interactivity = \"all\"\n",
    "\n",
    "from sklearn.preprocessing import PolynomialFeatures\n",
    "\n",
    "from sklearn.model_selection import train_test_split\n",
    "import lightgbm as lgbm\n",
    "from sklearn.metrics import confusion_matrix, accuracy_score\n",
    "from pycaret.classification import *"
   ]
  },
  {
   "cell_type": "code",
   "execution_count": 2,
   "metadata": {},
   "outputs": [],
   "source": [
    "seed = 42\n",
    "np.random.seed(seed)\n",
    "set_config('seed', seed)"
   ]
  },
  {
   "cell_type": "code",
   "execution_count": null,
   "metadata": {},
   "outputs": [],
   "source": []
  },
  {
   "cell_type": "markdown",
   "metadata": {},
   "source": [
    "# 1. 데이터 로드"
   ]
  },
  {
   "cell_type": "code",
   "execution_count": 3,
   "metadata": {},
   "outputs": [],
   "source": [
    "train=pd.read_csv('input/train.csv', index_col=0)#, na_values='?') #인덱스 col=0도 check!\n",
    "test=pd.read_csv('input/test.csv', index_col=0)#, na_values='?')\n",
    "submission=pd.read_csv('input/sample_submission.csv', index_col=0)  "
   ]
  },
  {
   "cell_type": "code",
   "execution_count": 4,
   "metadata": {},
   "outputs": [],
   "source": [
    "train['income']=pd.factorize(train['income'], sort=True)[0]"
   ]
  },
  {
   "cell_type": "code",
   "execution_count": null,
   "metadata": {},
   "outputs": [],
   "source": [
    "train.shape, test.shape"
   ]
  },
  {
   "cell_type": "code",
   "execution_count": null,
   "metadata": {},
   "outputs": [],
   "source": [
    "train.head(3)\n",
    "test.head(3)"
   ]
  },
  {
   "cell_type": "markdown",
   "metadata": {},
   "source": [
    "# 2. EDA & 전처리"
   ]
  },
  {
   "cell_type": "code",
   "execution_count": null,
   "metadata": {},
   "outputs": [],
   "source": [
    "train.info()\n",
    "train.describe()\n",
    "train.describe(include='O')"
   ]
  },
  {
   "cell_type": "markdown",
   "metadata": {},
   "source": [
    "## Missing Value"
   ]
  },
  {
   "cell_type": "code",
   "execution_count": null,
   "metadata": {},
   "outputs": [],
   "source": [
    "train.isnull().sum()#.sum()\n",
    "test.isnull().sum()#.sum()"
   ]
  },
  {
   "cell_type": "markdown",
   "metadata": {},
   "source": [
    "### outlier"
   ]
  },
  {
   "cell_type": "markdown",
   "metadata": {},
   "source": [
    "### education"
   ]
  },
  {
   "cell_type": "code",
   "execution_count": 5,
   "metadata": {},
   "outputs": [],
   "source": [
    "train.drop(['education'],axis=1, inplace=True)\n",
    "test.drop(['education'],axis=1, inplace=True)"
   ]
  },
  {
   "cell_type": "code",
   "execution_count": null,
   "metadata": {},
   "outputs": [],
   "source": []
  },
  {
   "cell_type": "markdown",
   "metadata": {},
   "source": [
    "### capital_gain 99999"
   ]
  },
  {
   "cell_type": "code",
   "execution_count": 6,
   "metadata": {},
   "outputs": [
    {
     "data": {
      "text/plain": [
       "(32561, 14)"
      ]
     },
     "execution_count": 6,
     "metadata": {},
     "output_type": "execute_result"
    }
   ],
   "source": [
    "df = pd.concat([train, test])\n",
    "df.shape"
   ]
  },
  {
   "cell_type": "code",
   "execution_count": 7,
   "metadata": {},
   "outputs": [],
   "source": [
    "df['capital_gain_imsi'] = df['capital_gain'].replace(99999,0)"
   ]
  },
  {
   "cell_type": "code",
   "execution_count": 8,
   "metadata": {},
   "outputs": [],
   "source": [
    "capital_gain_imsi = pd.DataFrame(df.groupby(['education_num'])['capital_gain_imsi'].mean()).reset_index()"
   ]
  },
  {
   "cell_type": "code",
   "execution_count": 9,
   "metadata": {},
   "outputs": [],
   "source": [
    "train = train.merge(capital_gain_imsi, on=['education_num'], how='left')\n",
    "test = test.merge(capital_gain_imsi, on=['education_num'], how='left')"
   ]
  },
  {
   "cell_type": "code",
   "execution_count": 10,
   "metadata": {},
   "outputs": [],
   "source": [
    "train.loc[train.capital_gain == 99999, 'capital_gain'] = train['capital_gain_imsi']\n",
    "test.loc[test.capital_gain == 99999, 'capital_gain'] = test['capital_gain_imsi']"
   ]
  },
  {
   "cell_type": "code",
   "execution_count": 11,
   "metadata": {},
   "outputs": [],
   "source": [
    "train.drop(['capital_gain_imsi'],axis=1, inplace=True)\n",
    "test.drop(['capital_gain_imsi'],axis=1, inplace=True)"
   ]
  },
  {
   "cell_type": "code",
   "execution_count": null,
   "metadata": {},
   "outputs": [],
   "source": []
  },
  {
   "cell_type": "code",
   "execution_count": 12,
   "metadata": {},
   "outputs": [],
   "source": [
    "train['imsi'] = train.capital_gain*train.hours_per_week#*train.capital_loss\n",
    "test['imsi'] = test.capital_gain*test.hours_per_week#*train.capital_loss"
   ]
  },
  {
   "cell_type": "code",
   "execution_count": 13,
   "metadata": {},
   "outputs": [],
   "source": [
    "train['occupation']=pd.factorize(train['occupation'], sort=True)[0]\n",
    "test['occupation']=pd.factorize(test['occupation'], sort=True)[0]"
   ]
  },
  {
   "cell_type": "code",
   "execution_count": 14,
   "metadata": {},
   "outputs": [],
   "source": [
    "train['imsi2'] = train.occupation*train.education_num#*train.capital_loss\n",
    "test['imsi2'] = test.occupation*test.education_num#*train.capital_loss"
   ]
  },
  {
   "cell_type": "markdown",
   "metadata": {},
   "source": [
    "# 3. 모델 학습"
   ]
  },
  {
   "cell_type": "code",
   "execution_count": null,
   "metadata": {},
   "outputs": [],
   "source": [
    "import gc\n",
    "gc.collect()"
   ]
  },
  {
   "cell_type": "code",
   "execution_count": null,
   "metadata": {},
   "outputs": [],
   "source": [
    "train.columns"
   ]
  },
  {
   "cell_type": "code",
   "execution_count": null,
   "metadata": {},
   "outputs": [],
   "source": []
  },
  {
   "cell_type": "code",
   "execution_count": 15,
   "metadata": {
    "scrolled": false
   },
   "outputs": [
    {
     "name": "stdout",
     "output_type": "stream",
     "text": [
      "Setup Succesfully Completed!\n"
     ]
    },
    {
     "data": {
      "text/html": [
       "<style  type=\"text/css\" >\n",
       "</style><table id=\"T_bddaa9d8_15e6_11eb_8ad3_00e0201808a0\" ><thead>    <tr>        <th class=\"blank level0\" ></th>        <th class=\"col_heading level0 col0\" >Description</th>        <th class=\"col_heading level0 col1\" >Value</th>    </tr></thead><tbody>\n",
       "                <tr>\n",
       "                        <th id=\"T_bddaa9d8_15e6_11eb_8ad3_00e0201808a0level0_row0\" class=\"row_heading level0 row0\" >0</th>\n",
       "                        <td id=\"T_bddaa9d8_15e6_11eb_8ad3_00e0201808a0row0_col0\" class=\"data row0 col0\" >session_id</td>\n",
       "                        <td id=\"T_bddaa9d8_15e6_11eb_8ad3_00e0201808a0row0_col1\" class=\"data row0 col1\" >42</td>\n",
       "            </tr>\n",
       "            <tr>\n",
       "                        <th id=\"T_bddaa9d8_15e6_11eb_8ad3_00e0201808a0level0_row1\" class=\"row_heading level0 row1\" >1</th>\n",
       "                        <td id=\"T_bddaa9d8_15e6_11eb_8ad3_00e0201808a0row1_col0\" class=\"data row1 col0\" >Target Type</td>\n",
       "                        <td id=\"T_bddaa9d8_15e6_11eb_8ad3_00e0201808a0row1_col1\" class=\"data row1 col1\" >Binary</td>\n",
       "            </tr>\n",
       "            <tr>\n",
       "                        <th id=\"T_bddaa9d8_15e6_11eb_8ad3_00e0201808a0level0_row2\" class=\"row_heading level0 row2\" >2</th>\n",
       "                        <td id=\"T_bddaa9d8_15e6_11eb_8ad3_00e0201808a0row2_col0\" class=\"data row2 col0\" >Label Encoded</td>\n",
       "                        <td id=\"T_bddaa9d8_15e6_11eb_8ad3_00e0201808a0row2_col1\" class=\"data row2 col1\" >0: 0, 1: 1</td>\n",
       "            </tr>\n",
       "            <tr>\n",
       "                        <th id=\"T_bddaa9d8_15e6_11eb_8ad3_00e0201808a0level0_row3\" class=\"row_heading level0 row3\" >3</th>\n",
       "                        <td id=\"T_bddaa9d8_15e6_11eb_8ad3_00e0201808a0row3_col0\" class=\"data row3 col0\" >Original Data</td>\n",
       "                        <td id=\"T_bddaa9d8_15e6_11eb_8ad3_00e0201808a0row3_col1\" class=\"data row3 col1\" >(26049, 16)</td>\n",
       "            </tr>\n",
       "            <tr>\n",
       "                        <th id=\"T_bddaa9d8_15e6_11eb_8ad3_00e0201808a0level0_row4\" class=\"row_heading level0 row4\" >4</th>\n",
       "                        <td id=\"T_bddaa9d8_15e6_11eb_8ad3_00e0201808a0row4_col0\" class=\"data row4 col0\" >Missing Values </td>\n",
       "                        <td id=\"T_bddaa9d8_15e6_11eb_8ad3_00e0201808a0row4_col1\" class=\"data row4 col1\" >False</td>\n",
       "            </tr>\n",
       "            <tr>\n",
       "                        <th id=\"T_bddaa9d8_15e6_11eb_8ad3_00e0201808a0level0_row5\" class=\"row_heading level0 row5\" >5</th>\n",
       "                        <td id=\"T_bddaa9d8_15e6_11eb_8ad3_00e0201808a0row5_col0\" class=\"data row5 col0\" >Numeric Features </td>\n",
       "                        <td id=\"T_bddaa9d8_15e6_11eb_8ad3_00e0201808a0row5_col1\" class=\"data row5 col1\" >8</td>\n",
       "            </tr>\n",
       "            <tr>\n",
       "                        <th id=\"T_bddaa9d8_15e6_11eb_8ad3_00e0201808a0level0_row6\" class=\"row_heading level0 row6\" >6</th>\n",
       "                        <td id=\"T_bddaa9d8_15e6_11eb_8ad3_00e0201808a0row6_col0\" class=\"data row6 col0\" >Categorical Features </td>\n",
       "                        <td id=\"T_bddaa9d8_15e6_11eb_8ad3_00e0201808a0row6_col1\" class=\"data row6 col1\" >7</td>\n",
       "            </tr>\n",
       "            <tr>\n",
       "                        <th id=\"T_bddaa9d8_15e6_11eb_8ad3_00e0201808a0level0_row7\" class=\"row_heading level0 row7\" >7</th>\n",
       "                        <td id=\"T_bddaa9d8_15e6_11eb_8ad3_00e0201808a0row7_col0\" class=\"data row7 col0\" >Ordinal Features </td>\n",
       "                        <td id=\"T_bddaa9d8_15e6_11eb_8ad3_00e0201808a0row7_col1\" class=\"data row7 col1\" >False</td>\n",
       "            </tr>\n",
       "            <tr>\n",
       "                        <th id=\"T_bddaa9d8_15e6_11eb_8ad3_00e0201808a0level0_row8\" class=\"row_heading level0 row8\" >8</th>\n",
       "                        <td id=\"T_bddaa9d8_15e6_11eb_8ad3_00e0201808a0row8_col0\" class=\"data row8 col0\" >High Cardinality Features </td>\n",
       "                        <td id=\"T_bddaa9d8_15e6_11eb_8ad3_00e0201808a0row8_col1\" class=\"data row8 col1\" >False</td>\n",
       "            </tr>\n",
       "            <tr>\n",
       "                        <th id=\"T_bddaa9d8_15e6_11eb_8ad3_00e0201808a0level0_row9\" class=\"row_heading level0 row9\" >9</th>\n",
       "                        <td id=\"T_bddaa9d8_15e6_11eb_8ad3_00e0201808a0row9_col0\" class=\"data row9 col0\" >High Cardinality Method </td>\n",
       "                        <td id=\"T_bddaa9d8_15e6_11eb_8ad3_00e0201808a0row9_col1\" class=\"data row9 col1\" >None</td>\n",
       "            </tr>\n",
       "            <tr>\n",
       "                        <th id=\"T_bddaa9d8_15e6_11eb_8ad3_00e0201808a0level0_row10\" class=\"row_heading level0 row10\" >10</th>\n",
       "                        <td id=\"T_bddaa9d8_15e6_11eb_8ad3_00e0201808a0row10_col0\" class=\"data row10 col0\" >Sampled Data</td>\n",
       "                        <td id=\"T_bddaa9d8_15e6_11eb_8ad3_00e0201808a0row10_col1\" class=\"data row10 col1\" >(18234, 16)</td>\n",
       "            </tr>\n",
       "            <tr>\n",
       "                        <th id=\"T_bddaa9d8_15e6_11eb_8ad3_00e0201808a0level0_row11\" class=\"row_heading level0 row11\" >11</th>\n",
       "                        <td id=\"T_bddaa9d8_15e6_11eb_8ad3_00e0201808a0row11_col0\" class=\"data row11 col0\" >Transformed Train Set</td>\n",
       "                        <td id=\"T_bddaa9d8_15e6_11eb_8ad3_00e0201808a0row11_col1\" class=\"data row11 col1\" >(12763, 92)</td>\n",
       "            </tr>\n",
       "            <tr>\n",
       "                        <th id=\"T_bddaa9d8_15e6_11eb_8ad3_00e0201808a0level0_row12\" class=\"row_heading level0 row12\" >12</th>\n",
       "                        <td id=\"T_bddaa9d8_15e6_11eb_8ad3_00e0201808a0row12_col0\" class=\"data row12 col0\" >Transformed Test Set</td>\n",
       "                        <td id=\"T_bddaa9d8_15e6_11eb_8ad3_00e0201808a0row12_col1\" class=\"data row12 col1\" >(5471, 92)</td>\n",
       "            </tr>\n",
       "            <tr>\n",
       "                        <th id=\"T_bddaa9d8_15e6_11eb_8ad3_00e0201808a0level0_row13\" class=\"row_heading level0 row13\" >13</th>\n",
       "                        <td id=\"T_bddaa9d8_15e6_11eb_8ad3_00e0201808a0row13_col0\" class=\"data row13 col0\" >Numeric Imputer </td>\n",
       "                        <td id=\"T_bddaa9d8_15e6_11eb_8ad3_00e0201808a0row13_col1\" class=\"data row13 col1\" >mean</td>\n",
       "            </tr>\n",
       "            <tr>\n",
       "                        <th id=\"T_bddaa9d8_15e6_11eb_8ad3_00e0201808a0level0_row14\" class=\"row_heading level0 row14\" >14</th>\n",
       "                        <td id=\"T_bddaa9d8_15e6_11eb_8ad3_00e0201808a0row14_col0\" class=\"data row14 col0\" >Categorical Imputer </td>\n",
       "                        <td id=\"T_bddaa9d8_15e6_11eb_8ad3_00e0201808a0row14_col1\" class=\"data row14 col1\" >constant</td>\n",
       "            </tr>\n",
       "            <tr>\n",
       "                        <th id=\"T_bddaa9d8_15e6_11eb_8ad3_00e0201808a0level0_row15\" class=\"row_heading level0 row15\" >15</th>\n",
       "                        <td id=\"T_bddaa9d8_15e6_11eb_8ad3_00e0201808a0row15_col0\" class=\"data row15 col0\" >Normalize </td>\n",
       "                        <td id=\"T_bddaa9d8_15e6_11eb_8ad3_00e0201808a0row15_col1\" class=\"data row15 col1\" >False</td>\n",
       "            </tr>\n",
       "            <tr>\n",
       "                        <th id=\"T_bddaa9d8_15e6_11eb_8ad3_00e0201808a0level0_row16\" class=\"row_heading level0 row16\" >16</th>\n",
       "                        <td id=\"T_bddaa9d8_15e6_11eb_8ad3_00e0201808a0row16_col0\" class=\"data row16 col0\" >Normalize Method </td>\n",
       "                        <td id=\"T_bddaa9d8_15e6_11eb_8ad3_00e0201808a0row16_col1\" class=\"data row16 col1\" >None</td>\n",
       "            </tr>\n",
       "            <tr>\n",
       "                        <th id=\"T_bddaa9d8_15e6_11eb_8ad3_00e0201808a0level0_row17\" class=\"row_heading level0 row17\" >17</th>\n",
       "                        <td id=\"T_bddaa9d8_15e6_11eb_8ad3_00e0201808a0row17_col0\" class=\"data row17 col0\" >Transformation </td>\n",
       "                        <td id=\"T_bddaa9d8_15e6_11eb_8ad3_00e0201808a0row17_col1\" class=\"data row17 col1\" >False</td>\n",
       "            </tr>\n",
       "            <tr>\n",
       "                        <th id=\"T_bddaa9d8_15e6_11eb_8ad3_00e0201808a0level0_row18\" class=\"row_heading level0 row18\" >18</th>\n",
       "                        <td id=\"T_bddaa9d8_15e6_11eb_8ad3_00e0201808a0row18_col0\" class=\"data row18 col0\" >Transformation Method </td>\n",
       "                        <td id=\"T_bddaa9d8_15e6_11eb_8ad3_00e0201808a0row18_col1\" class=\"data row18 col1\" >None</td>\n",
       "            </tr>\n",
       "            <tr>\n",
       "                        <th id=\"T_bddaa9d8_15e6_11eb_8ad3_00e0201808a0level0_row19\" class=\"row_heading level0 row19\" >19</th>\n",
       "                        <td id=\"T_bddaa9d8_15e6_11eb_8ad3_00e0201808a0row19_col0\" class=\"data row19 col0\" >PCA </td>\n",
       "                        <td id=\"T_bddaa9d8_15e6_11eb_8ad3_00e0201808a0row19_col1\" class=\"data row19 col1\" >False</td>\n",
       "            </tr>\n",
       "            <tr>\n",
       "                        <th id=\"T_bddaa9d8_15e6_11eb_8ad3_00e0201808a0level0_row20\" class=\"row_heading level0 row20\" >20</th>\n",
       "                        <td id=\"T_bddaa9d8_15e6_11eb_8ad3_00e0201808a0row20_col0\" class=\"data row20 col0\" >PCA Method </td>\n",
       "                        <td id=\"T_bddaa9d8_15e6_11eb_8ad3_00e0201808a0row20_col1\" class=\"data row20 col1\" >None</td>\n",
       "            </tr>\n",
       "            <tr>\n",
       "                        <th id=\"T_bddaa9d8_15e6_11eb_8ad3_00e0201808a0level0_row21\" class=\"row_heading level0 row21\" >21</th>\n",
       "                        <td id=\"T_bddaa9d8_15e6_11eb_8ad3_00e0201808a0row21_col0\" class=\"data row21 col0\" >PCA Components </td>\n",
       "                        <td id=\"T_bddaa9d8_15e6_11eb_8ad3_00e0201808a0row21_col1\" class=\"data row21 col1\" >None</td>\n",
       "            </tr>\n",
       "            <tr>\n",
       "                        <th id=\"T_bddaa9d8_15e6_11eb_8ad3_00e0201808a0level0_row22\" class=\"row_heading level0 row22\" >22</th>\n",
       "                        <td id=\"T_bddaa9d8_15e6_11eb_8ad3_00e0201808a0row22_col0\" class=\"data row22 col0\" >Ignore Low Variance </td>\n",
       "                        <td id=\"T_bddaa9d8_15e6_11eb_8ad3_00e0201808a0row22_col1\" class=\"data row22 col1\" >False</td>\n",
       "            </tr>\n",
       "            <tr>\n",
       "                        <th id=\"T_bddaa9d8_15e6_11eb_8ad3_00e0201808a0level0_row23\" class=\"row_heading level0 row23\" >23</th>\n",
       "                        <td id=\"T_bddaa9d8_15e6_11eb_8ad3_00e0201808a0row23_col0\" class=\"data row23 col0\" >Combine Rare Levels </td>\n",
       "                        <td id=\"T_bddaa9d8_15e6_11eb_8ad3_00e0201808a0row23_col1\" class=\"data row23 col1\" >False</td>\n",
       "            </tr>\n",
       "            <tr>\n",
       "                        <th id=\"T_bddaa9d8_15e6_11eb_8ad3_00e0201808a0level0_row24\" class=\"row_heading level0 row24\" >24</th>\n",
       "                        <td id=\"T_bddaa9d8_15e6_11eb_8ad3_00e0201808a0row24_col0\" class=\"data row24 col0\" >Rare Level Threshold </td>\n",
       "                        <td id=\"T_bddaa9d8_15e6_11eb_8ad3_00e0201808a0row24_col1\" class=\"data row24 col1\" >None</td>\n",
       "            </tr>\n",
       "            <tr>\n",
       "                        <th id=\"T_bddaa9d8_15e6_11eb_8ad3_00e0201808a0level0_row25\" class=\"row_heading level0 row25\" >25</th>\n",
       "                        <td id=\"T_bddaa9d8_15e6_11eb_8ad3_00e0201808a0row25_col0\" class=\"data row25 col0\" >Numeric Binning </td>\n",
       "                        <td id=\"T_bddaa9d8_15e6_11eb_8ad3_00e0201808a0row25_col1\" class=\"data row25 col1\" >False</td>\n",
       "            </tr>\n",
       "            <tr>\n",
       "                        <th id=\"T_bddaa9d8_15e6_11eb_8ad3_00e0201808a0level0_row26\" class=\"row_heading level0 row26\" >26</th>\n",
       "                        <td id=\"T_bddaa9d8_15e6_11eb_8ad3_00e0201808a0row26_col0\" class=\"data row26 col0\" >Remove Outliers </td>\n",
       "                        <td id=\"T_bddaa9d8_15e6_11eb_8ad3_00e0201808a0row26_col1\" class=\"data row26 col1\" >False</td>\n",
       "            </tr>\n",
       "            <tr>\n",
       "                        <th id=\"T_bddaa9d8_15e6_11eb_8ad3_00e0201808a0level0_row27\" class=\"row_heading level0 row27\" >27</th>\n",
       "                        <td id=\"T_bddaa9d8_15e6_11eb_8ad3_00e0201808a0row27_col0\" class=\"data row27 col0\" >Outliers Threshold </td>\n",
       "                        <td id=\"T_bddaa9d8_15e6_11eb_8ad3_00e0201808a0row27_col1\" class=\"data row27 col1\" >None</td>\n",
       "            </tr>\n",
       "            <tr>\n",
       "                        <th id=\"T_bddaa9d8_15e6_11eb_8ad3_00e0201808a0level0_row28\" class=\"row_heading level0 row28\" >28</th>\n",
       "                        <td id=\"T_bddaa9d8_15e6_11eb_8ad3_00e0201808a0row28_col0\" class=\"data row28 col0\" >Remove Multicollinearity </td>\n",
       "                        <td id=\"T_bddaa9d8_15e6_11eb_8ad3_00e0201808a0row28_col1\" class=\"data row28 col1\" >False</td>\n",
       "            </tr>\n",
       "            <tr>\n",
       "                        <th id=\"T_bddaa9d8_15e6_11eb_8ad3_00e0201808a0level0_row29\" class=\"row_heading level0 row29\" >29</th>\n",
       "                        <td id=\"T_bddaa9d8_15e6_11eb_8ad3_00e0201808a0row29_col0\" class=\"data row29 col0\" >Multicollinearity Threshold </td>\n",
       "                        <td id=\"T_bddaa9d8_15e6_11eb_8ad3_00e0201808a0row29_col1\" class=\"data row29 col1\" >None</td>\n",
       "            </tr>\n",
       "            <tr>\n",
       "                        <th id=\"T_bddaa9d8_15e6_11eb_8ad3_00e0201808a0level0_row30\" class=\"row_heading level0 row30\" >30</th>\n",
       "                        <td id=\"T_bddaa9d8_15e6_11eb_8ad3_00e0201808a0row30_col0\" class=\"data row30 col0\" >Clustering </td>\n",
       "                        <td id=\"T_bddaa9d8_15e6_11eb_8ad3_00e0201808a0row30_col1\" class=\"data row30 col1\" >False</td>\n",
       "            </tr>\n",
       "            <tr>\n",
       "                        <th id=\"T_bddaa9d8_15e6_11eb_8ad3_00e0201808a0level0_row31\" class=\"row_heading level0 row31\" >31</th>\n",
       "                        <td id=\"T_bddaa9d8_15e6_11eb_8ad3_00e0201808a0row31_col0\" class=\"data row31 col0\" >Clustering Iteration </td>\n",
       "                        <td id=\"T_bddaa9d8_15e6_11eb_8ad3_00e0201808a0row31_col1\" class=\"data row31 col1\" >None</td>\n",
       "            </tr>\n",
       "            <tr>\n",
       "                        <th id=\"T_bddaa9d8_15e6_11eb_8ad3_00e0201808a0level0_row32\" class=\"row_heading level0 row32\" >32</th>\n",
       "                        <td id=\"T_bddaa9d8_15e6_11eb_8ad3_00e0201808a0row32_col0\" class=\"data row32 col0\" >Polynomial Features </td>\n",
       "                        <td id=\"T_bddaa9d8_15e6_11eb_8ad3_00e0201808a0row32_col1\" class=\"data row32 col1\" >False</td>\n",
       "            </tr>\n",
       "            <tr>\n",
       "                        <th id=\"T_bddaa9d8_15e6_11eb_8ad3_00e0201808a0level0_row33\" class=\"row_heading level0 row33\" >33</th>\n",
       "                        <td id=\"T_bddaa9d8_15e6_11eb_8ad3_00e0201808a0row33_col0\" class=\"data row33 col0\" >Polynomial Degree </td>\n",
       "                        <td id=\"T_bddaa9d8_15e6_11eb_8ad3_00e0201808a0row33_col1\" class=\"data row33 col1\" >None</td>\n",
       "            </tr>\n",
       "            <tr>\n",
       "                        <th id=\"T_bddaa9d8_15e6_11eb_8ad3_00e0201808a0level0_row34\" class=\"row_heading level0 row34\" >34</th>\n",
       "                        <td id=\"T_bddaa9d8_15e6_11eb_8ad3_00e0201808a0row34_col0\" class=\"data row34 col0\" >Trignometry Features </td>\n",
       "                        <td id=\"T_bddaa9d8_15e6_11eb_8ad3_00e0201808a0row34_col1\" class=\"data row34 col1\" >False</td>\n",
       "            </tr>\n",
       "            <tr>\n",
       "                        <th id=\"T_bddaa9d8_15e6_11eb_8ad3_00e0201808a0level0_row35\" class=\"row_heading level0 row35\" >35</th>\n",
       "                        <td id=\"T_bddaa9d8_15e6_11eb_8ad3_00e0201808a0row35_col0\" class=\"data row35 col0\" >Polynomial Threshold </td>\n",
       "                        <td id=\"T_bddaa9d8_15e6_11eb_8ad3_00e0201808a0row35_col1\" class=\"data row35 col1\" >None</td>\n",
       "            </tr>\n",
       "            <tr>\n",
       "                        <th id=\"T_bddaa9d8_15e6_11eb_8ad3_00e0201808a0level0_row36\" class=\"row_heading level0 row36\" >36</th>\n",
       "                        <td id=\"T_bddaa9d8_15e6_11eb_8ad3_00e0201808a0row36_col0\" class=\"data row36 col0\" >Group Features </td>\n",
       "                        <td id=\"T_bddaa9d8_15e6_11eb_8ad3_00e0201808a0row36_col1\" class=\"data row36 col1\" >False</td>\n",
       "            </tr>\n",
       "            <tr>\n",
       "                        <th id=\"T_bddaa9d8_15e6_11eb_8ad3_00e0201808a0level0_row37\" class=\"row_heading level0 row37\" >37</th>\n",
       "                        <td id=\"T_bddaa9d8_15e6_11eb_8ad3_00e0201808a0row37_col0\" class=\"data row37 col0\" >Feature Selection </td>\n",
       "                        <td id=\"T_bddaa9d8_15e6_11eb_8ad3_00e0201808a0row37_col1\" class=\"data row37 col1\" >False</td>\n",
       "            </tr>\n",
       "            <tr>\n",
       "                        <th id=\"T_bddaa9d8_15e6_11eb_8ad3_00e0201808a0level0_row38\" class=\"row_heading level0 row38\" >38</th>\n",
       "                        <td id=\"T_bddaa9d8_15e6_11eb_8ad3_00e0201808a0row38_col0\" class=\"data row38 col0\" >Features Selection Threshold </td>\n",
       "                        <td id=\"T_bddaa9d8_15e6_11eb_8ad3_00e0201808a0row38_col1\" class=\"data row38 col1\" >None</td>\n",
       "            </tr>\n",
       "            <tr>\n",
       "                        <th id=\"T_bddaa9d8_15e6_11eb_8ad3_00e0201808a0level0_row39\" class=\"row_heading level0 row39\" >39</th>\n",
       "                        <td id=\"T_bddaa9d8_15e6_11eb_8ad3_00e0201808a0row39_col0\" class=\"data row39 col0\" >Feature Interaction </td>\n",
       "                        <td id=\"T_bddaa9d8_15e6_11eb_8ad3_00e0201808a0row39_col1\" class=\"data row39 col1\" >False</td>\n",
       "            </tr>\n",
       "            <tr>\n",
       "                        <th id=\"T_bddaa9d8_15e6_11eb_8ad3_00e0201808a0level0_row40\" class=\"row_heading level0 row40\" >40</th>\n",
       "                        <td id=\"T_bddaa9d8_15e6_11eb_8ad3_00e0201808a0row40_col0\" class=\"data row40 col0\" >Feature Ratio </td>\n",
       "                        <td id=\"T_bddaa9d8_15e6_11eb_8ad3_00e0201808a0row40_col1\" class=\"data row40 col1\" >False</td>\n",
       "            </tr>\n",
       "            <tr>\n",
       "                        <th id=\"T_bddaa9d8_15e6_11eb_8ad3_00e0201808a0level0_row41\" class=\"row_heading level0 row41\" >41</th>\n",
       "                        <td id=\"T_bddaa9d8_15e6_11eb_8ad3_00e0201808a0row41_col0\" class=\"data row41 col0\" >Interaction Threshold </td>\n",
       "                        <td id=\"T_bddaa9d8_15e6_11eb_8ad3_00e0201808a0row41_col1\" class=\"data row41 col1\" >None</td>\n",
       "            </tr>\n",
       "            <tr>\n",
       "                        <th id=\"T_bddaa9d8_15e6_11eb_8ad3_00e0201808a0level0_row42\" class=\"row_heading level0 row42\" >42</th>\n",
       "                        <td id=\"T_bddaa9d8_15e6_11eb_8ad3_00e0201808a0row42_col0\" class=\"data row42 col0\" >Fix Imbalance</td>\n",
       "                        <td id=\"T_bddaa9d8_15e6_11eb_8ad3_00e0201808a0row42_col1\" class=\"data row42 col1\" >False</td>\n",
       "            </tr>\n",
       "            <tr>\n",
       "                        <th id=\"T_bddaa9d8_15e6_11eb_8ad3_00e0201808a0level0_row43\" class=\"row_heading level0 row43\" >43</th>\n",
       "                        <td id=\"T_bddaa9d8_15e6_11eb_8ad3_00e0201808a0row43_col0\" class=\"data row43 col0\" >Fix Imbalance Method</td>\n",
       "                        <td id=\"T_bddaa9d8_15e6_11eb_8ad3_00e0201808a0row43_col1\" class=\"data row43 col1\" >SMOTE</td>\n",
       "            </tr>\n",
       "    </tbody></table>"
      ],
      "text/plain": [
       "<pandas.io.formats.style.Styler at 0x234cde0ae88>"
      ]
     },
     "metadata": {},
     "output_type": "display_data"
    },
    {
     "name": "stdout",
     "output_type": "stream",
     "text": [
      "Wall time: 38.4 s\n"
     ]
    }
   ],
   "source": [
    "%%time\n",
    "clf = setup(session_id=seed, \n",
    "            data = train, target = 'income'\n",
    "          #, categorical_features=col_cat\n",
    "          , numeric_features = ['education_num']\n",
    "          , ignore_features =['fnlwgt']\n",
    "           )"
   ]
  },
  {
   "cell_type": "code",
   "execution_count": 16,
   "metadata": {},
   "outputs": [
    {
     "data": {
      "text/html": [
       "<style  type=\"text/css\" >\n",
       "    #T_5226d330_15e8_11eb_a333_00e0201808a0 th {\n",
       "          text-align: left;\n",
       "    }#T_5226d330_15e8_11eb_a333_00e0201808a0row0_col0,#T_5226d330_15e8_11eb_a333_00e0201808a0row0_col2,#T_5226d330_15e8_11eb_a333_00e0201808a0row0_col4,#T_5226d330_15e8_11eb_a333_00e0201808a0row1_col0,#T_5226d330_15e8_11eb_a333_00e0201808a0row1_col1,#T_5226d330_15e8_11eb_a333_00e0201808a0row1_col2,#T_5226d330_15e8_11eb_a333_00e0201808a0row1_col3,#T_5226d330_15e8_11eb_a333_00e0201808a0row1_col4,#T_5226d330_15e8_11eb_a333_00e0201808a0row1_col5,#T_5226d330_15e8_11eb_a333_00e0201808a0row1_col6,#T_5226d330_15e8_11eb_a333_00e0201808a0row1_col7,#T_5226d330_15e8_11eb_a333_00e0201808a0row2_col0,#T_5226d330_15e8_11eb_a333_00e0201808a0row2_col1,#T_5226d330_15e8_11eb_a333_00e0201808a0row2_col3,#T_5226d330_15e8_11eb_a333_00e0201808a0row2_col4,#T_5226d330_15e8_11eb_a333_00e0201808a0row2_col5,#T_5226d330_15e8_11eb_a333_00e0201808a0row2_col6,#T_5226d330_15e8_11eb_a333_00e0201808a0row2_col7,#T_5226d330_15e8_11eb_a333_00e0201808a0row3_col0,#T_5226d330_15e8_11eb_a333_00e0201808a0row3_col1,#T_5226d330_15e8_11eb_a333_00e0201808a0row3_col2,#T_5226d330_15e8_11eb_a333_00e0201808a0row3_col3,#T_5226d330_15e8_11eb_a333_00e0201808a0row3_col5,#T_5226d330_15e8_11eb_a333_00e0201808a0row3_col6,#T_5226d330_15e8_11eb_a333_00e0201808a0row3_col7,#T_5226d330_15e8_11eb_a333_00e0201808a0row4_col0,#T_5226d330_15e8_11eb_a333_00e0201808a0row4_col1,#T_5226d330_15e8_11eb_a333_00e0201808a0row4_col2,#T_5226d330_15e8_11eb_a333_00e0201808a0row4_col3,#T_5226d330_15e8_11eb_a333_00e0201808a0row4_col4,#T_5226d330_15e8_11eb_a333_00e0201808a0row4_col5,#T_5226d330_15e8_11eb_a333_00e0201808a0row4_col6,#T_5226d330_15e8_11eb_a333_00e0201808a0row4_col7,#T_5226d330_15e8_11eb_a333_00e0201808a0row5_col0,#T_5226d330_15e8_11eb_a333_00e0201808a0row5_col1,#T_5226d330_15e8_11eb_a333_00e0201808a0row5_col2,#T_5226d330_15e8_11eb_a333_00e0201808a0row5_col3,#T_5226d330_15e8_11eb_a333_00e0201808a0row5_col4,#T_5226d330_15e8_11eb_a333_00e0201808a0row5_col5,#T_5226d330_15e8_11eb_a333_00e0201808a0row5_col6,#T_5226d330_15e8_11eb_a333_00e0201808a0row5_col7,#T_5226d330_15e8_11eb_a333_00e0201808a0row6_col0,#T_5226d330_15e8_11eb_a333_00e0201808a0row6_col1,#T_5226d330_15e8_11eb_a333_00e0201808a0row6_col2,#T_5226d330_15e8_11eb_a333_00e0201808a0row6_col3,#T_5226d330_15e8_11eb_a333_00e0201808a0row6_col4,#T_5226d330_15e8_11eb_a333_00e0201808a0row6_col5,#T_5226d330_15e8_11eb_a333_00e0201808a0row6_col6,#T_5226d330_15e8_11eb_a333_00e0201808a0row6_col7,#T_5226d330_15e8_11eb_a333_00e0201808a0row7_col0,#T_5226d330_15e8_11eb_a333_00e0201808a0row7_col1,#T_5226d330_15e8_11eb_a333_00e0201808a0row7_col2,#T_5226d330_15e8_11eb_a333_00e0201808a0row7_col3,#T_5226d330_15e8_11eb_a333_00e0201808a0row7_col4,#T_5226d330_15e8_11eb_a333_00e0201808a0row7_col5,#T_5226d330_15e8_11eb_a333_00e0201808a0row7_col6,#T_5226d330_15e8_11eb_a333_00e0201808a0row7_col7{\n",
       "            text-align:  left;\n",
       "        }#T_5226d330_15e8_11eb_a333_00e0201808a0row0_col1,#T_5226d330_15e8_11eb_a333_00e0201808a0row0_col3,#T_5226d330_15e8_11eb_a333_00e0201808a0row0_col5,#T_5226d330_15e8_11eb_a333_00e0201808a0row0_col6,#T_5226d330_15e8_11eb_a333_00e0201808a0row0_col7,#T_5226d330_15e8_11eb_a333_00e0201808a0row2_col2,#T_5226d330_15e8_11eb_a333_00e0201808a0row3_col4{\n",
       "            background-color:  yellow;\n",
       "            text-align:  left;\n",
       "        }#T_5226d330_15e8_11eb_a333_00e0201808a0row0_col8,#T_5226d330_15e8_11eb_a333_00e0201808a0row1_col8,#T_5226d330_15e8_11eb_a333_00e0201808a0row2_col8,#T_5226d330_15e8_11eb_a333_00e0201808a0row3_col8,#T_5226d330_15e8_11eb_a333_00e0201808a0row4_col8,#T_5226d330_15e8_11eb_a333_00e0201808a0row5_col8,#T_5226d330_15e8_11eb_a333_00e0201808a0row6_col8,#T_5226d330_15e8_11eb_a333_00e0201808a0row7_col8{\n",
       "            background-color:  lightgrey;\n",
       "            text-align:  left;\n",
       "        }</style><table id=\"T_5226d330_15e8_11eb_a333_00e0201808a0\" ><thead>    <tr>        <th class=\"blank level0\" ></th>        <th class=\"col_heading level0 col0\" >Model</th>        <th class=\"col_heading level0 col1\" >Accuracy</th>        <th class=\"col_heading level0 col2\" >AUC</th>        <th class=\"col_heading level0 col3\" >Recall</th>        <th class=\"col_heading level0 col4\" >Prec.</th>        <th class=\"col_heading level0 col5\" >F1</th>        <th class=\"col_heading level0 col6\" >Kappa</th>        <th class=\"col_heading level0 col7\" >MCC</th>        <th class=\"col_heading level0 col8\" >TT (Sec)</th>    </tr></thead><tbody>\n",
       "                <tr>\n",
       "                        <th id=\"T_5226d330_15e8_11eb_a333_00e0201808a0level0_row0\" class=\"row_heading level0 row0\" >0</th>\n",
       "                        <td id=\"T_5226d330_15e8_11eb_a333_00e0201808a0row0_col0\" class=\"data row0 col0\" >Extreme Gradient Boosting</td>\n",
       "                        <td id=\"T_5226d330_15e8_11eb_a333_00e0201808a0row0_col1\" class=\"data row0 col1\" >0.8662</td>\n",
       "                        <td id=\"T_5226d330_15e8_11eb_a333_00e0201808a0row0_col2\" class=\"data row0 col2\" >0.9220</td>\n",
       "                        <td id=\"T_5226d330_15e8_11eb_a333_00e0201808a0row0_col3\" class=\"data row0 col3\" >0.6575</td>\n",
       "                        <td id=\"T_5226d330_15e8_11eb_a333_00e0201808a0row0_col4\" class=\"data row0 col4\" >0.7581</td>\n",
       "                        <td id=\"T_5226d330_15e8_11eb_a333_00e0201808a0row0_col5\" class=\"data row0 col5\" >0.7039</td>\n",
       "                        <td id=\"T_5226d330_15e8_11eb_a333_00e0201808a0row0_col6\" class=\"data row0 col6\" >0.6181</td>\n",
       "                        <td id=\"T_5226d330_15e8_11eb_a333_00e0201808a0row0_col7\" class=\"data row0 col7\" >0.6209</td>\n",
       "                        <td id=\"T_5226d330_15e8_11eb_a333_00e0201808a0row0_col8\" class=\"data row0 col8\" >7.5000</td>\n",
       "            </tr>\n",
       "            <tr>\n",
       "                        <th id=\"T_5226d330_15e8_11eb_a333_00e0201808a0level0_row1\" class=\"row_heading level0 row1\" >1</th>\n",
       "                        <td id=\"T_5226d330_15e8_11eb_a333_00e0201808a0row1_col0\" class=\"data row1 col0\" >Light Gradient Boosting Machine</td>\n",
       "                        <td id=\"T_5226d330_15e8_11eb_a333_00e0201808a0row1_col1\" class=\"data row1 col1\" >0.8632</td>\n",
       "                        <td id=\"T_5226d330_15e8_11eb_a333_00e0201808a0row1_col2\" class=\"data row1 col2\" >0.9219</td>\n",
       "                        <td id=\"T_5226d330_15e8_11eb_a333_00e0201808a0row1_col3\" class=\"data row1 col3\" >0.6471</td>\n",
       "                        <td id=\"T_5226d330_15e8_11eb_a333_00e0201808a0row1_col4\" class=\"data row1 col4\" >0.7531</td>\n",
       "                        <td id=\"T_5226d330_15e8_11eb_a333_00e0201808a0row1_col5\" class=\"data row1 col5\" >0.6959</td>\n",
       "                        <td id=\"T_5226d330_15e8_11eb_a333_00e0201808a0row1_col6\" class=\"data row1 col6\" >0.6083</td>\n",
       "                        <td id=\"T_5226d330_15e8_11eb_a333_00e0201808a0row1_col7\" class=\"data row1 col7\" >0.6114</td>\n",
       "                        <td id=\"T_5226d330_15e8_11eb_a333_00e0201808a0row1_col8\" class=\"data row1 col8\" >1.4055</td>\n",
       "            </tr>\n",
       "            <tr>\n",
       "                        <th id=\"T_5226d330_15e8_11eb_a333_00e0201808a0level0_row2\" class=\"row_heading level0 row2\" >2</th>\n",
       "                        <td id=\"T_5226d330_15e8_11eb_a333_00e0201808a0row2_col0\" class=\"data row2 col0\" >CatBoost Classifier</td>\n",
       "                        <td id=\"T_5226d330_15e8_11eb_a333_00e0201808a0row2_col1\" class=\"data row2 col1\" >0.8657</td>\n",
       "                        <td id=\"T_5226d330_15e8_11eb_a333_00e0201808a0row2_col2\" class=\"data row2 col2\" >0.9243</td>\n",
       "                        <td id=\"T_5226d330_15e8_11eb_a333_00e0201808a0row2_col3\" class=\"data row2 col3\" >0.6345</td>\n",
       "                        <td id=\"T_5226d330_15e8_11eb_a333_00e0201808a0row2_col4\" class=\"data row2 col4\" >0.7709</td>\n",
       "                        <td id=\"T_5226d330_15e8_11eb_a333_00e0201808a0row2_col5\" class=\"data row2 col5\" >0.6957</td>\n",
       "                        <td id=\"T_5226d330_15e8_11eb_a333_00e0201808a0row2_col6\" class=\"data row2 col6\" >0.6106</td>\n",
       "                        <td id=\"T_5226d330_15e8_11eb_a333_00e0201808a0row2_col7\" class=\"data row2 col7\" >0.6156</td>\n",
       "                        <td id=\"T_5226d330_15e8_11eb_a333_00e0201808a0row2_col8\" class=\"data row2 col8\" >16.5948</td>\n",
       "            </tr>\n",
       "            <tr>\n",
       "                        <th id=\"T_5226d330_15e8_11eb_a333_00e0201808a0level0_row3\" class=\"row_heading level0 row3\" >3</th>\n",
       "                        <td id=\"T_5226d330_15e8_11eb_a333_00e0201808a0row3_col0\" class=\"data row3 col0\" >Gradient Boosting Classifier</td>\n",
       "                        <td id=\"T_5226d330_15e8_11eb_a333_00e0201808a0row3_col1\" class=\"data row3 col1\" >0.8613</td>\n",
       "                        <td id=\"T_5226d330_15e8_11eb_a333_00e0201808a0row3_col2\" class=\"data row3 col2\" >0.9185</td>\n",
       "                        <td id=\"T_5226d330_15e8_11eb_a333_00e0201808a0row3_col3\" class=\"data row3 col3\" >0.6054</td>\n",
       "                        <td id=\"T_5226d330_15e8_11eb_a333_00e0201808a0row3_col4\" class=\"data row3 col4\" >0.7728</td>\n",
       "                        <td id=\"T_5226d330_15e8_11eb_a333_00e0201808a0row3_col5\" class=\"data row3 col5\" >0.6786</td>\n",
       "                        <td id=\"T_5226d330_15e8_11eb_a333_00e0201808a0row3_col6\" class=\"data row3 col6\" >0.5919</td>\n",
       "                        <td id=\"T_5226d330_15e8_11eb_a333_00e0201808a0row3_col7\" class=\"data row3 col7\" >0.5993</td>\n",
       "                        <td id=\"T_5226d330_15e8_11eb_a333_00e0201808a0row3_col8\" class=\"data row3 col8\" >7.0224</td>\n",
       "            </tr>\n",
       "            <tr>\n",
       "                        <th id=\"T_5226d330_15e8_11eb_a333_00e0201808a0level0_row4\" class=\"row_heading level0 row4\" >4</th>\n",
       "                        <td id=\"T_5226d330_15e8_11eb_a333_00e0201808a0row4_col0\" class=\"data row4 col0\" >Ada Boost Classifier</td>\n",
       "                        <td id=\"T_5226d330_15e8_11eb_a333_00e0201808a0row4_col1\" class=\"data row4 col1\" >0.8550</td>\n",
       "                        <td id=\"T_5226d330_15e8_11eb_a333_00e0201808a0row4_col2\" class=\"data row4 col2\" >0.9112</td>\n",
       "                        <td id=\"T_5226d330_15e8_11eb_a333_00e0201808a0row4_col3\" class=\"data row4 col3\" >0.6093</td>\n",
       "                        <td id=\"T_5226d330_15e8_11eb_a333_00e0201808a0row4_col4\" class=\"data row4 col4\" >0.7454</td>\n",
       "                        <td id=\"T_5226d330_15e8_11eb_a333_00e0201808a0row4_col5\" class=\"data row4 col5\" >0.6703</td>\n",
       "                        <td id=\"T_5226d330_15e8_11eb_a333_00e0201808a0row4_col6\" class=\"data row4 col6\" >0.5785</td>\n",
       "                        <td id=\"T_5226d330_15e8_11eb_a333_00e0201808a0row4_col7\" class=\"data row4 col7\" >0.5835</td>\n",
       "                        <td id=\"T_5226d330_15e8_11eb_a333_00e0201808a0row4_col8\" class=\"data row4 col8\" >2.4624</td>\n",
       "            </tr>\n",
       "            <tr>\n",
       "                        <th id=\"T_5226d330_15e8_11eb_a333_00e0201808a0level0_row5\" class=\"row_heading level0 row5\" >5</th>\n",
       "                        <td id=\"T_5226d330_15e8_11eb_a333_00e0201808a0row5_col0\" class=\"data row5 col0\" >Linear Discriminant Analysis</td>\n",
       "                        <td id=\"T_5226d330_15e8_11eb_a333_00e0201808a0row5_col1\" class=\"data row5 col1\" >0.8454</td>\n",
       "                        <td id=\"T_5226d330_15e8_11eb_a333_00e0201808a0row5_col2\" class=\"data row5 col2\" >0.8996</td>\n",
       "                        <td id=\"T_5226d330_15e8_11eb_a333_00e0201808a0row5_col3\" class=\"data row5 col3\" >0.5901</td>\n",
       "                        <td id=\"T_5226d330_15e8_11eb_a333_00e0201808a0row5_col4\" class=\"data row5 col4\" >0.7211</td>\n",
       "                        <td id=\"T_5226d330_15e8_11eb_a333_00e0201808a0row5_col5\" class=\"data row5 col5\" >0.6486</td>\n",
       "                        <td id=\"T_5226d330_15e8_11eb_a333_00e0201808a0row5_col6\" class=\"data row5 col6\" >0.5509</td>\n",
       "                        <td id=\"T_5226d330_15e8_11eb_a333_00e0201808a0row5_col7\" class=\"data row5 col7\" >0.5557</td>\n",
       "                        <td id=\"T_5226d330_15e8_11eb_a333_00e0201808a0row5_col8\" class=\"data row5 col8\" >0.5304</td>\n",
       "            </tr>\n",
       "            <tr>\n",
       "                        <th id=\"T_5226d330_15e8_11eb_a333_00e0201808a0level0_row6\" class=\"row_heading level0 row6\" >6</th>\n",
       "                        <td id=\"T_5226d330_15e8_11eb_a333_00e0201808a0row6_col0\" class=\"data row6 col0\" >Random Forest Classifier</td>\n",
       "                        <td id=\"T_5226d330_15e8_11eb_a333_00e0201808a0row6_col1\" class=\"data row6 col1\" >0.8384</td>\n",
       "                        <td id=\"T_5226d330_15e8_11eb_a333_00e0201808a0row6_col2\" class=\"data row6 col2\" >0.8672</td>\n",
       "                        <td id=\"T_5226d330_15e8_11eb_a333_00e0201808a0row6_col3\" class=\"data row6 col3\" >0.5808</td>\n",
       "                        <td id=\"T_5226d330_15e8_11eb_a333_00e0201808a0row6_col4\" class=\"data row6 col4\" >0.7011</td>\n",
       "                        <td id=\"T_5226d330_15e8_11eb_a333_00e0201808a0row6_col5\" class=\"data row6 col5\" >0.6349</td>\n",
       "                        <td id=\"T_5226d330_15e8_11eb_a333_00e0201808a0row6_col6\" class=\"data row6 col6\" >0.5323</td>\n",
       "                        <td id=\"T_5226d330_15e8_11eb_a333_00e0201808a0row6_col7\" class=\"data row6 col7\" >0.5364</td>\n",
       "                        <td id=\"T_5226d330_15e8_11eb_a333_00e0201808a0row6_col8\" class=\"data row6 col8\" >0.1583</td>\n",
       "            </tr>\n",
       "            <tr>\n",
       "                        <th id=\"T_5226d330_15e8_11eb_a333_00e0201808a0level0_row7\" class=\"row_heading level0 row7\" >7</th>\n",
       "                        <td id=\"T_5226d330_15e8_11eb_a333_00e0201808a0row7_col0\" class=\"data row7 col0\" >Extra Trees Classifier</td>\n",
       "                        <td id=\"T_5226d330_15e8_11eb_a333_00e0201808a0row7_col1\" class=\"data row7 col1\" >0.8271</td>\n",
       "                        <td id=\"T_5226d330_15e8_11eb_a333_00e0201808a0row7_col2\" class=\"data row7 col2\" >0.8511</td>\n",
       "                        <td id=\"T_5226d330_15e8_11eb_a333_00e0201808a0row7_col3\" class=\"data row7 col3\" >0.5992</td>\n",
       "                        <td id=\"T_5226d330_15e8_11eb_a333_00e0201808a0row7_col4\" class=\"data row7 col4\" >0.6572</td>\n",
       "                        <td id=\"T_5226d330_15e8_11eb_a333_00e0201808a0row7_col5\" class=\"data row7 col5\" >0.6265</td>\n",
       "                        <td id=\"T_5226d330_15e8_11eb_a333_00e0201808a0row7_col6\" class=\"data row7 col6\" >0.5144</td>\n",
       "                        <td id=\"T_5226d330_15e8_11eb_a333_00e0201808a0row7_col7\" class=\"data row7 col7\" >0.5155</td>\n",
       "                        <td id=\"T_5226d330_15e8_11eb_a333_00e0201808a0row7_col8\" class=\"data row7 col8\" >0.8418</td>\n",
       "            </tr>\n",
       "    </tbody></table>"
      ],
      "text/plain": [
       "<pandas.io.formats.style.Styler at 0x234d22d1588>"
      ]
     },
     "metadata": {},
     "output_type": "display_data"
    }
   ],
   "source": [
    "best_3 = compare_models(sort = 'F1', n_select = 3\n",
    "                       ,exclude=['lr', 'knn', 'nb', 'dt', 'svm', 'rbfsvm', 'ridge','qda']\n",
    "                       #,exclude=['lr', 'knn', 'nb', 'dt', 'svm', 'rbfsvm', 'gpc', 'mlp', 'ridge', 'rf', 'qda', 'ada', 'xgboost']\n",
    "                       )"
   ]
  },
  {
   "cell_type": "code",
   "execution_count": 17,
   "metadata": {},
   "outputs": [
    {
     "data": {
      "text/html": [
       "<style  type=\"text/css\" >\n",
       "#T_de3827d2_15e8_11eb_985c_00e0201808a0row5_col0,#T_de3827d2_15e8_11eb_985c_00e0201808a0row5_col1,#T_de3827d2_15e8_11eb_985c_00e0201808a0row5_col2,#T_de3827d2_15e8_11eb_985c_00e0201808a0row5_col3,#T_de3827d2_15e8_11eb_985c_00e0201808a0row5_col4,#T_de3827d2_15e8_11eb_985c_00e0201808a0row5_col5,#T_de3827d2_15e8_11eb_985c_00e0201808a0row5_col6{\n",
       "            background:  yellow;\n",
       "        }</style><table id=\"T_de3827d2_15e8_11eb_985c_00e0201808a0\" ><thead>    <tr>        <th class=\"blank level0\" ></th>        <th class=\"col_heading level0 col0\" >Accuracy</th>        <th class=\"col_heading level0 col1\" >AUC</th>        <th class=\"col_heading level0 col2\" >Recall</th>        <th class=\"col_heading level0 col3\" >Prec.</th>        <th class=\"col_heading level0 col4\" >F1</th>        <th class=\"col_heading level0 col5\" >Kappa</th>        <th class=\"col_heading level0 col6\" >MCC</th>    </tr></thead><tbody>\n",
       "                <tr>\n",
       "                        <th id=\"T_de3827d2_15e8_11eb_985c_00e0201808a0level0_row0\" class=\"row_heading level0 row0\" >0</th>\n",
       "                        <td id=\"T_de3827d2_15e8_11eb_985c_00e0201808a0row0_col0\" class=\"data row0 col0\" >0.8613</td>\n",
       "                        <td id=\"T_de3827d2_15e8_11eb_985c_00e0201808a0row0_col1\" class=\"data row0 col1\" >0.9207</td>\n",
       "                        <td id=\"T_de3827d2_15e8_11eb_985c_00e0201808a0row0_col2\" class=\"data row0 col2\" >0.6359</td>\n",
       "                        <td id=\"T_de3827d2_15e8_11eb_985c_00e0201808a0row0_col3\" class=\"data row0 col3\" >0.7529</td>\n",
       "                        <td id=\"T_de3827d2_15e8_11eb_985c_00e0201808a0row0_col4\" class=\"data row0 col4\" >0.6895</td>\n",
       "                        <td id=\"T_de3827d2_15e8_11eb_985c_00e0201808a0row0_col5\" class=\"data row0 col5\" >0.6010</td>\n",
       "                        <td id=\"T_de3827d2_15e8_11eb_985c_00e0201808a0row0_col6\" class=\"data row0 col6\" >0.6046</td>\n",
       "            </tr>\n",
       "            <tr>\n",
       "                        <th id=\"T_de3827d2_15e8_11eb_985c_00e0201808a0level0_row1\" class=\"row_heading level0 row1\" >1</th>\n",
       "                        <td id=\"T_de3827d2_15e8_11eb_985c_00e0201808a0row1_col0\" class=\"data row1 col0\" >0.8625</td>\n",
       "                        <td id=\"T_de3827d2_15e8_11eb_985c_00e0201808a0row1_col1\" class=\"data row1 col1\" >0.9174</td>\n",
       "                        <td id=\"T_de3827d2_15e8_11eb_985c_00e0201808a0row1_col2\" class=\"data row1 col2\" >0.6570</td>\n",
       "                        <td id=\"T_de3827d2_15e8_11eb_985c_00e0201808a0row1_col3\" class=\"data row1 col3\" >0.7450</td>\n",
       "                        <td id=\"T_de3827d2_15e8_11eb_985c_00e0201808a0row1_col4\" class=\"data row1 col4\" >0.6982</td>\n",
       "                        <td id=\"T_de3827d2_15e8_11eb_985c_00e0201808a0row1_col5\" class=\"data row1 col5\" >0.6096</td>\n",
       "                        <td id=\"T_de3827d2_15e8_11eb_985c_00e0201808a0row1_col6\" class=\"data row1 col6\" >0.6116</td>\n",
       "            </tr>\n",
       "            <tr>\n",
       "                        <th id=\"T_de3827d2_15e8_11eb_985c_00e0201808a0level0_row2\" class=\"row_heading level0 row2\" >2</th>\n",
       "                        <td id=\"T_de3827d2_15e8_11eb_985c_00e0201808a0row2_col0\" class=\"data row2 col0\" >0.8590</td>\n",
       "                        <td id=\"T_de3827d2_15e8_11eb_985c_00e0201808a0row2_col1\" class=\"data row2 col1\" >0.9225</td>\n",
       "                        <td id=\"T_de3827d2_15e8_11eb_985c_00e0201808a0row2_col2\" class=\"data row2 col2\" >0.6246</td>\n",
       "                        <td id=\"T_de3827d2_15e8_11eb_985c_00e0201808a0row2_col3\" class=\"data row2 col3\" >0.7510</td>\n",
       "                        <td id=\"T_de3827d2_15e8_11eb_985c_00e0201808a0row2_col4\" class=\"data row2 col4\" >0.6820</td>\n",
       "                        <td id=\"T_de3827d2_15e8_11eb_985c_00e0201808a0row2_col5\" class=\"data row2 col5\" >0.5924</td>\n",
       "                        <td id=\"T_de3827d2_15e8_11eb_985c_00e0201808a0row2_col6\" class=\"data row2 col6\" >0.5965</td>\n",
       "            </tr>\n",
       "            <tr>\n",
       "                        <th id=\"T_de3827d2_15e8_11eb_985c_00e0201808a0level0_row3\" class=\"row_heading level0 row3\" >3</th>\n",
       "                        <td id=\"T_de3827d2_15e8_11eb_985c_00e0201808a0row3_col0\" class=\"data row3 col0\" >0.8711</td>\n",
       "                        <td id=\"T_de3827d2_15e8_11eb_985c_00e0201808a0row3_col1\" class=\"data row3 col1\" >0.9303</td>\n",
       "                        <td id=\"T_de3827d2_15e8_11eb_985c_00e0201808a0row3_col2\" class=\"data row3 col2\" >0.6451</td>\n",
       "                        <td id=\"T_de3827d2_15e8_11eb_985c_00e0201808a0row3_col3\" class=\"data row3 col3\" >0.7835</td>\n",
       "                        <td id=\"T_de3827d2_15e8_11eb_985c_00e0201808a0row3_col4\" class=\"data row3 col4\" >0.7076</td>\n",
       "                        <td id=\"T_de3827d2_15e8_11eb_985c_00e0201808a0row3_col5\" class=\"data row3 col5\" >0.6259</td>\n",
       "                        <td id=\"T_de3827d2_15e8_11eb_985c_00e0201808a0row3_col6\" class=\"data row3 col6\" >0.6307</td>\n",
       "            </tr>\n",
       "            <tr>\n",
       "                        <th id=\"T_de3827d2_15e8_11eb_985c_00e0201808a0level0_row4\" class=\"row_heading level0 row4\" >4</th>\n",
       "                        <td id=\"T_de3827d2_15e8_11eb_985c_00e0201808a0row4_col0\" class=\"data row4 col0\" >0.8738</td>\n",
       "                        <td id=\"T_de3827d2_15e8_11eb_985c_00e0201808a0row4_col1\" class=\"data row4 col1\" >0.9271</td>\n",
       "                        <td id=\"T_de3827d2_15e8_11eb_985c_00e0201808a0row4_col2\" class=\"data row4 col2\" >0.6650</td>\n",
       "                        <td id=\"T_de3827d2_15e8_11eb_985c_00e0201808a0row4_col3\" class=\"data row4 col3\" >0.7814</td>\n",
       "                        <td id=\"T_de3827d2_15e8_11eb_985c_00e0201808a0row4_col4\" class=\"data row4 col4\" >0.7185</td>\n",
       "                        <td id=\"T_de3827d2_15e8_11eb_985c_00e0201808a0row4_col5\" class=\"data row4 col5\" >0.6379</td>\n",
       "                        <td id=\"T_de3827d2_15e8_11eb_985c_00e0201808a0row4_col6\" class=\"data row4 col6\" >0.6413</td>\n",
       "            </tr>\n",
       "            <tr>\n",
       "                        <th id=\"T_de3827d2_15e8_11eb_985c_00e0201808a0level0_row5\" class=\"row_heading level0 row5\" >Mean</th>\n",
       "                        <td id=\"T_de3827d2_15e8_11eb_985c_00e0201808a0row5_col0\" class=\"data row5 col0\" >0.8655</td>\n",
       "                        <td id=\"T_de3827d2_15e8_11eb_985c_00e0201808a0row5_col1\" class=\"data row5 col1\" >0.9236</td>\n",
       "                        <td id=\"T_de3827d2_15e8_11eb_985c_00e0201808a0row5_col2\" class=\"data row5 col2\" >0.6455</td>\n",
       "                        <td id=\"T_de3827d2_15e8_11eb_985c_00e0201808a0row5_col3\" class=\"data row5 col3\" >0.7627</td>\n",
       "                        <td id=\"T_de3827d2_15e8_11eb_985c_00e0201808a0row5_col4\" class=\"data row5 col4\" >0.6991</td>\n",
       "                        <td id=\"T_de3827d2_15e8_11eb_985c_00e0201808a0row5_col5\" class=\"data row5 col5\" >0.6134</td>\n",
       "                        <td id=\"T_de3827d2_15e8_11eb_985c_00e0201808a0row5_col6\" class=\"data row5 col6\" >0.6170</td>\n",
       "            </tr>\n",
       "            <tr>\n",
       "                        <th id=\"T_de3827d2_15e8_11eb_985c_00e0201808a0level0_row6\" class=\"row_heading level0 row6\" >SD</th>\n",
       "                        <td id=\"T_de3827d2_15e8_11eb_985c_00e0201808a0row6_col0\" class=\"data row6 col0\" >0.0058</td>\n",
       "                        <td id=\"T_de3827d2_15e8_11eb_985c_00e0201808a0row6_col1\" class=\"data row6 col1\" >0.0046</td>\n",
       "                        <td id=\"T_de3827d2_15e8_11eb_985c_00e0201808a0row6_col2\" class=\"data row6 col2\" >0.0144</td>\n",
       "                        <td id=\"T_de3827d2_15e8_11eb_985c_00e0201808a0row6_col3\" class=\"data row6 col3\" >0.0163</td>\n",
       "                        <td id=\"T_de3827d2_15e8_11eb_985c_00e0201808a0row6_col4\" class=\"data row6 col4\" >0.0129</td>\n",
       "                        <td id=\"T_de3827d2_15e8_11eb_985c_00e0201808a0row6_col5\" class=\"data row6 col5\" >0.0165</td>\n",
       "                        <td id=\"T_de3827d2_15e8_11eb_985c_00e0201808a0row6_col6\" class=\"data row6 col6\" >0.0166</td>\n",
       "            </tr>\n",
       "    </tbody></table>"
      ],
      "text/plain": [
       "<pandas.io.formats.style.Styler at 0x234d2b78948>"
      ]
     },
     "metadata": {},
     "output_type": "display_data"
    }
   ],
   "source": [
    "blended = blend_models(estimator_list = best_3, fold = 5, method = 'soft')"
   ]
  },
  {
   "cell_type": "code",
   "execution_count": 18,
   "metadata": {},
   "outputs": [
    {
     "data": {
      "text/html": [
       "<div>\n",
       "<style scoped>\n",
       "    .dataframe tbody tr th:only-of-type {\n",
       "        vertical-align: middle;\n",
       "    }\n",
       "\n",
       "    .dataframe tbody tr th {\n",
       "        vertical-align: top;\n",
       "    }\n",
       "\n",
       "    .dataframe thead th {\n",
       "        text-align: right;\n",
       "    }\n",
       "</style>\n",
       "<table border=\"1\" class=\"dataframe\">\n",
       "  <thead>\n",
       "    <tr style=\"text-align: right;\">\n",
       "      <th></th>\n",
       "      <th>Model</th>\n",
       "      <th>Accuracy</th>\n",
       "      <th>AUC</th>\n",
       "      <th>Recall</th>\n",
       "      <th>Prec.</th>\n",
       "      <th>F1</th>\n",
       "      <th>Kappa</th>\n",
       "      <th>MCC</th>\n",
       "    </tr>\n",
       "  </thead>\n",
       "  <tbody>\n",
       "    <tr>\n",
       "      <th>0</th>\n",
       "      <td>Voting Classifier</td>\n",
       "      <td>0.875</td>\n",
       "      <td>0.9291</td>\n",
       "      <td>0.6586</td>\n",
       "      <td>0.7899</td>\n",
       "      <td>0.7183</td>\n",
       "      <td>0.6388</td>\n",
       "      <td>0.6431</td>\n",
       "    </tr>\n",
       "  </tbody>\n",
       "</table>\n",
       "</div>"
      ],
      "text/plain": [
       "               Model  Accuracy     AUC  Recall   Prec.      F1   Kappa     MCC\n",
       "0  Voting Classifier     0.875  0.9291  0.6586  0.7899  0.7183  0.6388  0.6431"
      ]
     },
     "metadata": {},
     "output_type": "display_data"
    }
   ],
   "source": [
    "pred_holdout = predict_model(blended)"
   ]
  },
  {
   "cell_type": "code",
   "execution_count": 19,
   "metadata": {},
   "outputs": [
    {
     "name": "stdout",
     "output_type": "stream",
     "text": [
      "Wall time: 4min 33s\n"
     ]
    }
   ],
   "source": [
    "%%time\n",
    "final_model = finalize_model(blended)"
   ]
  },
  {
   "cell_type": "code",
   "execution_count": 20,
   "metadata": {},
   "outputs": [],
   "source": [
    "predictions = predict_model(final_model, data = test)"
   ]
  },
  {
   "cell_type": "markdown",
   "metadata": {},
   "source": [
    "# 4. 예측"
   ]
  },
  {
   "cell_type": "code",
   "execution_count": 21,
   "metadata": {},
   "outputs": [],
   "source": [
    "submission['prediction'] = predictions['Label']"
   ]
  },
  {
   "cell_type": "markdown",
   "metadata": {},
   "source": [
    "# 5. 제출"
   ]
  },
  {
   "cell_type": "code",
   "execution_count": 22,
   "metadata": {},
   "outputs": [],
   "source": [
    "submission.to_csv('output/20201024-4.csv')"
   ]
  },
  {
   "cell_type": "code",
   "execution_count": null,
   "metadata": {},
   "outputs": [],
   "source": []
  },
  {
   "cell_type": "code",
   "execution_count": 23,
   "metadata": {},
   "outputs": [
    {
     "data": {
      "text/html": [
       "<style  type=\"text/css\" >\n",
       "#T_9188ff62_15e9_11eb_bf39_00e0201808a0row10_col0,#T_9188ff62_15e9_11eb_bf39_00e0201808a0row10_col1,#T_9188ff62_15e9_11eb_bf39_00e0201808a0row10_col2,#T_9188ff62_15e9_11eb_bf39_00e0201808a0row10_col3,#T_9188ff62_15e9_11eb_bf39_00e0201808a0row10_col4,#T_9188ff62_15e9_11eb_bf39_00e0201808a0row10_col5,#T_9188ff62_15e9_11eb_bf39_00e0201808a0row10_col6{\n",
       "            background:  yellow;\n",
       "        }</style><table id=\"T_9188ff62_15e9_11eb_bf39_00e0201808a0\" ><thead>    <tr>        <th class=\"blank level0\" ></th>        <th class=\"col_heading level0 col0\" >Accuracy</th>        <th class=\"col_heading level0 col1\" >AUC</th>        <th class=\"col_heading level0 col2\" >Recall</th>        <th class=\"col_heading level0 col3\" >Prec.</th>        <th class=\"col_heading level0 col4\" >F1</th>        <th class=\"col_heading level0 col5\" >Kappa</th>        <th class=\"col_heading level0 col6\" >MCC</th>    </tr></thead><tbody>\n",
       "                <tr>\n",
       "                        <th id=\"T_9188ff62_15e9_11eb_bf39_00e0201808a0level0_row0\" class=\"row_heading level0 row0\" >0</th>\n",
       "                        <td id=\"T_9188ff62_15e9_11eb_bf39_00e0201808a0row0_col0\" class=\"data row0 col0\" >0.8637</td>\n",
       "                        <td id=\"T_9188ff62_15e9_11eb_bf39_00e0201808a0row0_col1\" class=\"data row0 col1\" >0.9236</td>\n",
       "                        <td id=\"T_9188ff62_15e9_11eb_bf39_00e0201808a0row0_col2\" class=\"data row0 col2\" >0.6311</td>\n",
       "                        <td id=\"T_9188ff62_15e9_11eb_bf39_00e0201808a0row0_col3\" class=\"data row0 col3\" >0.7647</td>\n",
       "                        <td id=\"T_9188ff62_15e9_11eb_bf39_00e0201808a0row0_col4\" class=\"data row0 col4\" >0.6915</td>\n",
       "                        <td id=\"T_9188ff62_15e9_11eb_bf39_00e0201808a0row0_col5\" class=\"data row0 col5\" >0.6051</td>\n",
       "                        <td id=\"T_9188ff62_15e9_11eb_bf39_00e0201808a0row0_col6\" class=\"data row0 col6\" >0.6097</td>\n",
       "            </tr>\n",
       "            <tr>\n",
       "                        <th id=\"T_9188ff62_15e9_11eb_bf39_00e0201808a0level0_row1\" class=\"row_heading level0 row1\" >1</th>\n",
       "                        <td id=\"T_9188ff62_15e9_11eb_bf39_00e0201808a0row1_col0\" class=\"data row1 col0\" >0.8575</td>\n",
       "                        <td id=\"T_9188ff62_15e9_11eb_bf39_00e0201808a0row1_col1\" class=\"data row1 col1\" >0.9158</td>\n",
       "                        <td id=\"T_9188ff62_15e9_11eb_bf39_00e0201808a0row1_col2\" class=\"data row1 col2\" >0.6537</td>\n",
       "                        <td id=\"T_9188ff62_15e9_11eb_bf39_00e0201808a0row1_col3\" class=\"data row1 col3\" >0.7292</td>\n",
       "                        <td id=\"T_9188ff62_15e9_11eb_bf39_00e0201808a0row1_col4\" class=\"data row1 col4\" >0.6894</td>\n",
       "                        <td id=\"T_9188ff62_15e9_11eb_bf39_00e0201808a0row1_col5\" class=\"data row1 col5\" >0.5973</td>\n",
       "                        <td id=\"T_9188ff62_15e9_11eb_bf39_00e0201808a0row1_col6\" class=\"data row1 col6\" >0.5988</td>\n",
       "            </tr>\n",
       "            <tr>\n",
       "                        <th id=\"T_9188ff62_15e9_11eb_bf39_00e0201808a0level0_row2\" class=\"row_heading level0 row2\" >2</th>\n",
       "                        <td id=\"T_9188ff62_15e9_11eb_bf39_00e0201808a0row2_col0\" class=\"data row2 col0\" >0.8677</td>\n",
       "                        <td id=\"T_9188ff62_15e9_11eb_bf39_00e0201808a0row2_col1\" class=\"data row2 col1\" >0.9249</td>\n",
       "                        <td id=\"T_9188ff62_15e9_11eb_bf39_00e0201808a0row2_col2\" class=\"data row2 col2\" >0.6990</td>\n",
       "                        <td id=\"T_9188ff62_15e9_11eb_bf39_00e0201808a0row2_col3\" class=\"data row2 col3\" >0.7397</td>\n",
       "                        <td id=\"T_9188ff62_15e9_11eb_bf39_00e0201808a0row2_col4\" class=\"data row2 col4\" >0.7188</td>\n",
       "                        <td id=\"T_9188ff62_15e9_11eb_bf39_00e0201808a0row2_col5\" class=\"data row2 col5\" >0.6324</td>\n",
       "                        <td id=\"T_9188ff62_15e9_11eb_bf39_00e0201808a0row2_col6\" class=\"data row2 col6\" >0.6328</td>\n",
       "            </tr>\n",
       "            <tr>\n",
       "                        <th id=\"T_9188ff62_15e9_11eb_bf39_00e0201808a0level0_row3\" class=\"row_heading level0 row3\" >3</th>\n",
       "                        <td id=\"T_9188ff62_15e9_11eb_bf39_00e0201808a0row3_col0\" class=\"data row3 col0\" >0.8550</td>\n",
       "                        <td id=\"T_9188ff62_15e9_11eb_bf39_00e0201808a0row3_col1\" class=\"data row3 col1\" >0.9112</td>\n",
       "                        <td id=\"T_9188ff62_15e9_11eb_bf39_00e0201808a0row3_col2\" class=\"data row3 col2\" >0.6364</td>\n",
       "                        <td id=\"T_9188ff62_15e9_11eb_bf39_00e0201808a0row3_col3\" class=\"data row3 col3\" >0.7286</td>\n",
       "                        <td id=\"T_9188ff62_15e9_11eb_bf39_00e0201808a0row3_col4\" class=\"data row3 col4\" >0.6794</td>\n",
       "                        <td id=\"T_9188ff62_15e9_11eb_bf39_00e0201808a0row3_col5\" class=\"data row3 col5\" >0.5863</td>\n",
       "                        <td id=\"T_9188ff62_15e9_11eb_bf39_00e0201808a0row3_col6\" class=\"data row3 col6\" >0.5885</td>\n",
       "            </tr>\n",
       "            <tr>\n",
       "                        <th id=\"T_9188ff62_15e9_11eb_bf39_00e0201808a0level0_row4\" class=\"row_heading level0 row4\" >4</th>\n",
       "                        <td id=\"T_9188ff62_15e9_11eb_bf39_00e0201808a0row4_col0\" class=\"data row4 col0\" >0.8527</td>\n",
       "                        <td id=\"T_9188ff62_15e9_11eb_bf39_00e0201808a0row4_col1\" class=\"data row4 col1\" >0.9071</td>\n",
       "                        <td id=\"T_9188ff62_15e9_11eb_bf39_00e0201808a0row4_col2\" class=\"data row4 col2\" >0.6278</td>\n",
       "                        <td id=\"T_9188ff62_15e9_11eb_bf39_00e0201808a0row4_col3\" class=\"data row4 col3\" >0.7266</td>\n",
       "                        <td id=\"T_9188ff62_15e9_11eb_bf39_00e0201808a0row4_col4\" class=\"data row4 col4\" >0.6736</td>\n",
       "                        <td id=\"T_9188ff62_15e9_11eb_bf39_00e0201808a0row4_col5\" class=\"data row4 col5\" >0.5791</td>\n",
       "                        <td id=\"T_9188ff62_15e9_11eb_bf39_00e0201808a0row4_col6\" class=\"data row4 col6\" >0.5817</td>\n",
       "            </tr>\n",
       "            <tr>\n",
       "                        <th id=\"T_9188ff62_15e9_11eb_bf39_00e0201808a0level0_row5\" class=\"row_heading level0 row5\" >5</th>\n",
       "                        <td id=\"T_9188ff62_15e9_11eb_bf39_00e0201808a0row5_col0\" class=\"data row5 col0\" >0.8707</td>\n",
       "                        <td id=\"T_9188ff62_15e9_11eb_bf39_00e0201808a0row5_col1\" class=\"data row5 col1\" >0.9311</td>\n",
       "                        <td id=\"T_9188ff62_15e9_11eb_bf39_00e0201808a0row5_col2\" class=\"data row5 col2\" >0.6505</td>\n",
       "                        <td id=\"T_9188ff62_15e9_11eb_bf39_00e0201808a0row5_col3\" class=\"data row5 col3\" >0.7791</td>\n",
       "                        <td id=\"T_9188ff62_15e9_11eb_bf39_00e0201808a0row5_col4\" class=\"data row5 col4\" >0.7090</td>\n",
       "                        <td id=\"T_9188ff62_15e9_11eb_bf39_00e0201808a0row5_col5\" class=\"data row5 col5\" >0.6267</td>\n",
       "                        <td id=\"T_9188ff62_15e9_11eb_bf39_00e0201808a0row5_col6\" class=\"data row5 col6\" >0.6309</td>\n",
       "            </tr>\n",
       "            <tr>\n",
       "                        <th id=\"T_9188ff62_15e9_11eb_bf39_00e0201808a0level0_row6\" class=\"row_heading level0 row6\" >6</th>\n",
       "                        <td id=\"T_9188ff62_15e9_11eb_bf39_00e0201808a0row6_col0\" class=\"data row6 col0\" >0.8840</td>\n",
       "                        <td id=\"T_9188ff62_15e9_11eb_bf39_00e0201808a0row6_col1\" class=\"data row6 col1\" >0.9345</td>\n",
       "                        <td id=\"T_9188ff62_15e9_11eb_bf39_00e0201808a0row6_col2\" class=\"data row6 col2\" >0.6764</td>\n",
       "                        <td id=\"T_9188ff62_15e9_11eb_bf39_00e0201808a0row6_col3\" class=\"data row6 col3\" >0.8132</td>\n",
       "                        <td id=\"T_9188ff62_15e9_11eb_bf39_00e0201808a0row6_col4\" class=\"data row6 col4\" >0.7385</td>\n",
       "                        <td id=\"T_9188ff62_15e9_11eb_bf39_00e0201808a0row6_col5\" class=\"data row6 col5\" >0.6648</td>\n",
       "                        <td id=\"T_9188ff62_15e9_11eb_bf39_00e0201808a0row6_col6\" class=\"data row6 col6\" >0.6695</td>\n",
       "            </tr>\n",
       "            <tr>\n",
       "                        <th id=\"T_9188ff62_15e9_11eb_bf39_00e0201808a0level0_row7\" class=\"row_heading level0 row7\" >7</th>\n",
       "                        <td id=\"T_9188ff62_15e9_11eb_bf39_00e0201808a0row7_col0\" class=\"data row7 col0\" >0.8668</td>\n",
       "                        <td id=\"T_9188ff62_15e9_11eb_bf39_00e0201808a0row7_col1\" class=\"data row7 col1\" >0.9197</td>\n",
       "                        <td id=\"T_9188ff62_15e9_11eb_bf39_00e0201808a0row7_col2\" class=\"data row7 col2\" >0.6537</td>\n",
       "                        <td id=\"T_9188ff62_15e9_11eb_bf39_00e0201808a0row7_col3\" class=\"data row7 col3\" >0.7623</td>\n",
       "                        <td id=\"T_9188ff62_15e9_11eb_bf39_00e0201808a0row7_col4\" class=\"data row7 col4\" >0.7038</td>\n",
       "                        <td id=\"T_9188ff62_15e9_11eb_bf39_00e0201808a0row7_col5\" class=\"data row7 col5\" >0.6185</td>\n",
       "                        <td id=\"T_9188ff62_15e9_11eb_bf39_00e0201808a0row7_col6\" class=\"data row7 col6\" >0.6216</td>\n",
       "            </tr>\n",
       "            <tr>\n",
       "                        <th id=\"T_9188ff62_15e9_11eb_bf39_00e0201808a0level0_row8\" class=\"row_heading level0 row8\" >8</th>\n",
       "                        <td id=\"T_9188ff62_15e9_11eb_bf39_00e0201808a0row8_col0\" class=\"data row8 col0\" >0.8668</td>\n",
       "                        <td id=\"T_9188ff62_15e9_11eb_bf39_00e0201808a0row8_col1\" class=\"data row8 col1\" >0.9266</td>\n",
       "                        <td id=\"T_9188ff62_15e9_11eb_bf39_00e0201808a0row8_col2\" class=\"data row8 col2\" >0.6505</td>\n",
       "                        <td id=\"T_9188ff62_15e9_11eb_bf39_00e0201808a0row8_col3\" class=\"data row8 col3\" >0.7643</td>\n",
       "                        <td id=\"T_9188ff62_15e9_11eb_bf39_00e0201808a0row8_col4\" class=\"data row8 col4\" >0.7028</td>\n",
       "                        <td id=\"T_9188ff62_15e9_11eb_bf39_00e0201808a0row8_col5\" class=\"data row8 col5\" >0.6177</td>\n",
       "                        <td id=\"T_9188ff62_15e9_11eb_bf39_00e0201808a0row8_col6\" class=\"data row8 col6\" >0.6210</td>\n",
       "            </tr>\n",
       "            <tr>\n",
       "                        <th id=\"T_9188ff62_15e9_11eb_bf39_00e0201808a0level0_row9\" class=\"row_heading level0 row9\" >9</th>\n",
       "                        <td id=\"T_9188ff62_15e9_11eb_bf39_00e0201808a0row9_col0\" class=\"data row9 col0\" >0.8770</td>\n",
       "                        <td id=\"T_9188ff62_15e9_11eb_bf39_00e0201808a0row9_col1\" class=\"data row9 col1\" >0.9254</td>\n",
       "                        <td id=\"T_9188ff62_15e9_11eb_bf39_00e0201808a0row9_col2\" class=\"data row9 col2\" >0.6958</td>\n",
       "                        <td id=\"T_9188ff62_15e9_11eb_bf39_00e0201808a0row9_col3\" class=\"data row9 col3\" >0.7734</td>\n",
       "                        <td id=\"T_9188ff62_15e9_11eb_bf39_00e0201808a0row9_col4\" class=\"data row9 col4\" >0.7325</td>\n",
       "                        <td id=\"T_9188ff62_15e9_11eb_bf39_00e0201808a0row9_col5\" class=\"data row9 col5\" >0.6529</td>\n",
       "                        <td id=\"T_9188ff62_15e9_11eb_bf39_00e0201808a0row9_col6\" class=\"data row9 col6\" >0.6545</td>\n",
       "            </tr>\n",
       "            <tr>\n",
       "                        <th id=\"T_9188ff62_15e9_11eb_bf39_00e0201808a0level0_row10\" class=\"row_heading level0 row10\" >Mean</th>\n",
       "                        <td id=\"T_9188ff62_15e9_11eb_bf39_00e0201808a0row10_col0\" class=\"data row10 col0\" >0.8662</td>\n",
       "                        <td id=\"T_9188ff62_15e9_11eb_bf39_00e0201808a0row10_col1\" class=\"data row10 col1\" >0.9220</td>\n",
       "                        <td id=\"T_9188ff62_15e9_11eb_bf39_00e0201808a0row10_col2\" class=\"data row10 col2\" >0.6575</td>\n",
       "                        <td id=\"T_9188ff62_15e9_11eb_bf39_00e0201808a0row10_col3\" class=\"data row10 col3\" >0.7581</td>\n",
       "                        <td id=\"T_9188ff62_15e9_11eb_bf39_00e0201808a0row10_col4\" class=\"data row10 col4\" >0.7039</td>\n",
       "                        <td id=\"T_9188ff62_15e9_11eb_bf39_00e0201808a0row10_col5\" class=\"data row10 col5\" >0.6181</td>\n",
       "                        <td id=\"T_9188ff62_15e9_11eb_bf39_00e0201808a0row10_col6\" class=\"data row10 col6\" >0.6209</td>\n",
       "            </tr>\n",
       "            <tr>\n",
       "                        <th id=\"T_9188ff62_15e9_11eb_bf39_00e0201808a0level0_row11\" class=\"row_heading level0 row11\" >SD</th>\n",
       "                        <td id=\"T_9188ff62_15e9_11eb_bf39_00e0201808a0row11_col0\" class=\"data row11 col0\" >0.0092</td>\n",
       "                        <td id=\"T_9188ff62_15e9_11eb_bf39_00e0201808a0row11_col1\" class=\"data row11 col1\" >0.0082</td>\n",
       "                        <td id=\"T_9188ff62_15e9_11eb_bf39_00e0201808a0row11_col2\" class=\"data row11 col2\" >0.0239</td>\n",
       "                        <td id=\"T_9188ff62_15e9_11eb_bf39_00e0201808a0row11_col3\" class=\"data row11 col3\" >0.0262</td>\n",
       "                        <td id=\"T_9188ff62_15e9_11eb_bf39_00e0201808a0row11_col4\" class=\"data row11 col4\" >0.0204</td>\n",
       "                        <td id=\"T_9188ff62_15e9_11eb_bf39_00e0201808a0row11_col5\" class=\"data row11 col5\" >0.0261</td>\n",
       "                        <td id=\"T_9188ff62_15e9_11eb_bf39_00e0201808a0row11_col6\" class=\"data row11 col6\" >0.0263</td>\n",
       "            </tr>\n",
       "    </tbody></table>"
      ],
      "text/plain": [
       "<pandas.io.formats.style.Styler at 0x234d2221a88>"
      ]
     },
     "metadata": {},
     "output_type": "display_data"
    }
   ],
   "source": [
    "xgboost = create_model('xgboost')"
   ]
  },
  {
   "cell_type": "code",
   "execution_count": 24,
   "metadata": {},
   "outputs": [
    {
     "data": {
      "image/png": "[encoded data removed]",
      "text/plain": [
       "<Figure size 800x500 with 1 Axes>"
      ]
     },
     "metadata": {
      "needs_background": "light"
     },
     "output_type": "display_data"
    }
   ],
   "source": [
    "plot_model(estimator = xgboost, plot = 'feature')"
   ]
  },
  {
   "cell_type": "code",
   "execution_count": null,
   "metadata": {},
   "outputs": [],
   "source": []
  },
  {
   "cell_type": "code",
   "execution_count": 25,
   "metadata": {
    "scrolled": true
   },
   "outputs": [
    {
     "data": {
      "text/html": [
       "<style  type=\"text/css\" >\n",
       "#T_947be30a_15e9_11eb_beac_00e0201808a0row10_col0,#T_947be30a_15e9_11eb_beac_00e0201808a0row10_col1,#T_947be30a_15e9_11eb_beac_00e0201808a0row10_col2,#T_947be30a_15e9_11eb_beac_00e0201808a0row10_col3,#T_947be30a_15e9_11eb_beac_00e0201808a0row10_col4,#T_947be30a_15e9_11eb_beac_00e0201808a0row10_col5,#T_947be30a_15e9_11eb_beac_00e0201808a0row10_col6{\n",
       "            background:  yellow;\n",
       "        }</style><table id=\"T_947be30a_15e9_11eb_beac_00e0201808a0\" ><thead>    <tr>        <th class=\"blank level0\" ></th>        <th class=\"col_heading level0 col0\" >Accuracy</th>        <th class=\"col_heading level0 col1\" >AUC</th>        <th class=\"col_heading level0 col2\" >Recall</th>        <th class=\"col_heading level0 col3\" >Prec.</th>        <th class=\"col_heading level0 col4\" >F1</th>        <th class=\"col_heading level0 col5\" >Kappa</th>        <th class=\"col_heading level0 col6\" >MCC</th>    </tr></thead><tbody>\n",
       "                <tr>\n",
       "                        <th id=\"T_947be30a_15e9_11eb_beac_00e0201808a0level0_row0\" class=\"row_heading level0 row0\" >0</th>\n",
       "                        <td id=\"T_947be30a_15e9_11eb_beac_00e0201808a0row0_col0\" class=\"data row0 col0\" >0.8630</td>\n",
       "                        <td id=\"T_947be30a_15e9_11eb_beac_00e0201808a0row0_col1\" class=\"data row0 col1\" >0.9218</td>\n",
       "                        <td id=\"T_947be30a_15e9_11eb_beac_00e0201808a0row0_col2\" class=\"data row0 col2\" >0.6246</td>\n",
       "                        <td id=\"T_947be30a_15e9_11eb_beac_00e0201808a0row0_col3\" class=\"data row0 col3\" >0.7659</td>\n",
       "                        <td id=\"T_947be30a_15e9_11eb_beac_00e0201808a0row0_col4\" class=\"data row0 col4\" >0.6881</td>\n",
       "                        <td id=\"T_947be30a_15e9_11eb_beac_00e0201808a0row0_col5\" class=\"data row0 col5\" >0.6014</td>\n",
       "                        <td id=\"T_947be30a_15e9_11eb_beac_00e0201808a0row0_col6\" class=\"data row0 col6\" >0.6065</td>\n",
       "            </tr>\n",
       "            <tr>\n",
       "                        <th id=\"T_947be30a_15e9_11eb_beac_00e0201808a0level0_row1\" class=\"row_heading level0 row1\" >1</th>\n",
       "                        <td id=\"T_947be30a_15e9_11eb_beac_00e0201808a0row1_col0\" class=\"data row1 col0\" >0.8590</td>\n",
       "                        <td id=\"T_947be30a_15e9_11eb_beac_00e0201808a0row1_col1\" class=\"data row1 col1\" >0.9169</td>\n",
       "                        <td id=\"T_947be30a_15e9_11eb_beac_00e0201808a0row1_col2\" class=\"data row1 col2\" >0.6634</td>\n",
       "                        <td id=\"T_947be30a_15e9_11eb_beac_00e0201808a0row1_col3\" class=\"data row1 col3\" >0.7295</td>\n",
       "                        <td id=\"T_947be30a_15e9_11eb_beac_00e0201808a0row1_col4\" class=\"data row1 col4\" >0.6949</td>\n",
       "                        <td id=\"T_947be30a_15e9_11eb_beac_00e0201808a0row1_col5\" class=\"data row1 col5\" >0.6035</td>\n",
       "                        <td id=\"T_947be30a_15e9_11eb_beac_00e0201808a0row1_col6\" class=\"data row1 col6\" >0.6047</td>\n",
       "            </tr>\n",
       "            <tr>\n",
       "                        <th id=\"T_947be30a_15e9_11eb_beac_00e0201808a0level0_row2\" class=\"row_heading level0 row2\" >2</th>\n",
       "                        <td id=\"T_947be30a_15e9_11eb_beac_00e0201808a0row2_col0\" class=\"data row2 col0\" >0.8622</td>\n",
       "                        <td id=\"T_947be30a_15e9_11eb_beac_00e0201808a0row2_col1\" class=\"data row2 col1\" >0.9199</td>\n",
       "                        <td id=\"T_947be30a_15e9_11eb_beac_00e0201808a0row2_col2\" class=\"data row2 col2\" >0.6667</td>\n",
       "                        <td id=\"T_947be30a_15e9_11eb_beac_00e0201808a0row2_col3\" class=\"data row2 col3\" >0.7384</td>\n",
       "                        <td id=\"T_947be30a_15e9_11eb_beac_00e0201808a0row2_col4\" class=\"data row2 col4\" >0.7007</td>\n",
       "                        <td id=\"T_947be30a_15e9_11eb_beac_00e0201808a0row2_col5\" class=\"data row2 col5\" >0.6115</td>\n",
       "                        <td id=\"T_947be30a_15e9_11eb_beac_00e0201808a0row2_col6\" class=\"data row2 col6\" >0.6128</td>\n",
       "            </tr>\n",
       "            <tr>\n",
       "                        <th id=\"T_947be30a_15e9_11eb_beac_00e0201808a0level0_row3\" class=\"row_heading level0 row3\" >3</th>\n",
       "                        <td id=\"T_947be30a_15e9_11eb_beac_00e0201808a0row3_col0\" class=\"data row3 col0\" >0.8574</td>\n",
       "                        <td id=\"T_947be30a_15e9_11eb_beac_00e0201808a0row3_col1\" class=\"data row3 col1\" >0.9149</td>\n",
       "                        <td id=\"T_947be30a_15e9_11eb_beac_00e0201808a0row3_col2\" class=\"data row3 col2\" >0.6364</td>\n",
       "                        <td id=\"T_947be30a_15e9_11eb_beac_00e0201808a0row3_col3\" class=\"data row3 col3\" >0.7368</td>\n",
       "                        <td id=\"T_947be30a_15e9_11eb_beac_00e0201808a0row3_col4\" class=\"data row3 col4\" >0.6829</td>\n",
       "                        <td id=\"T_947be30a_15e9_11eb_beac_00e0201808a0row3_col5\" class=\"data row3 col5\" >0.5915</td>\n",
       "                        <td id=\"T_947be30a_15e9_11eb_beac_00e0201808a0row3_col6\" class=\"data row3 col6\" >0.5942</td>\n",
       "            </tr>\n",
       "            <tr>\n",
       "                        <th id=\"T_947be30a_15e9_11eb_beac_00e0201808a0level0_row4\" class=\"row_heading level0 row4\" >4</th>\n",
       "                        <td id=\"T_947be30a_15e9_11eb_beac_00e0201808a0row4_col0\" class=\"data row4 col0\" >0.8503</td>\n",
       "                        <td id=\"T_947be30a_15e9_11eb_beac_00e0201808a0row4_col1\" class=\"data row4 col1\" >0.9118</td>\n",
       "                        <td id=\"T_947be30a_15e9_11eb_beac_00e0201808a0row4_col2\" class=\"data row4 col2\" >0.6052</td>\n",
       "                        <td id=\"T_947be30a_15e9_11eb_beac_00e0201808a0row4_col3\" class=\"data row4 col3\" >0.7305</td>\n",
       "                        <td id=\"T_947be30a_15e9_11eb_beac_00e0201808a0row4_col4\" class=\"data row4 col4\" >0.6619</td>\n",
       "                        <td id=\"T_947be30a_15e9_11eb_beac_00e0201808a0row4_col5\" class=\"data row4 col5\" >0.5669</td>\n",
       "                        <td id=\"T_947be30a_15e9_11eb_beac_00e0201808a0row4_col6\" class=\"data row4 col6\" >0.5710</td>\n",
       "            </tr>\n",
       "            <tr>\n",
       "                        <th id=\"T_947be30a_15e9_11eb_beac_00e0201808a0level0_row5\" class=\"row_heading level0 row5\" >5</th>\n",
       "                        <td id=\"T_947be30a_15e9_11eb_beac_00e0201808a0row5_col0\" class=\"data row5 col0\" >0.8668</td>\n",
       "                        <td id=\"T_947be30a_15e9_11eb_beac_00e0201808a0row5_col1\" class=\"data row5 col1\" >0.9310</td>\n",
       "                        <td id=\"T_947be30a_15e9_11eb_beac_00e0201808a0row5_col2\" class=\"data row5 col2\" >0.6440</td>\n",
       "                        <td id=\"T_947be30a_15e9_11eb_beac_00e0201808a0row5_col3\" class=\"data row5 col3\" >0.7683</td>\n",
       "                        <td id=\"T_947be30a_15e9_11eb_beac_00e0201808a0row5_col4\" class=\"data row5 col4\" >0.7007</td>\n",
       "                        <td id=\"T_947be30a_15e9_11eb_beac_00e0201808a0row5_col5\" class=\"data row5 col5\" >0.6159</td>\n",
       "                        <td id=\"T_947be30a_15e9_11eb_beac_00e0201808a0row5_col6\" class=\"data row5 col6\" >0.6198</td>\n",
       "            </tr>\n",
       "            <tr>\n",
       "                        <th id=\"T_947be30a_15e9_11eb_beac_00e0201808a0level0_row6\" class=\"row_heading level0 row6\" >6</th>\n",
       "                        <td id=\"T_947be30a_15e9_11eb_beac_00e0201808a0row6_col0\" class=\"data row6 col0\" >0.8754</td>\n",
       "                        <td id=\"T_947be30a_15e9_11eb_beac_00e0201808a0row6_col1\" class=\"data row6 col1\" >0.9348</td>\n",
       "                        <td id=\"T_947be30a_15e9_11eb_beac_00e0201808a0row6_col2\" class=\"data row6 col2\" >0.6828</td>\n",
       "                        <td id=\"T_947be30a_15e9_11eb_beac_00e0201808a0row6_col3\" class=\"data row6 col3\" >0.7757</td>\n",
       "                        <td id=\"T_947be30a_15e9_11eb_beac_00e0201808a0row6_col4\" class=\"data row6 col4\" >0.7263</td>\n",
       "                        <td id=\"T_947be30a_15e9_11eb_beac_00e0201808a0row6_col5\" class=\"data row6 col5\" >0.6461</td>\n",
       "                        <td id=\"T_947be30a_15e9_11eb_beac_00e0201808a0row6_col6\" class=\"data row6 col6\" >0.6483</td>\n",
       "            </tr>\n",
       "            <tr>\n",
       "                        <th id=\"T_947be30a_15e9_11eb_beac_00e0201808a0level0_row7\" class=\"row_heading level0 row7\" >7</th>\n",
       "                        <td id=\"T_947be30a_15e9_11eb_beac_00e0201808a0row7_col0\" class=\"data row7 col0\" >0.8566</td>\n",
       "                        <td id=\"T_947be30a_15e9_11eb_beac_00e0201808a0row7_col1\" class=\"data row7 col1\" >0.9189</td>\n",
       "                        <td id=\"T_947be30a_15e9_11eb_beac_00e0201808a0row7_col2\" class=\"data row7 col2\" >0.6278</td>\n",
       "                        <td id=\"T_947be30a_15e9_11eb_beac_00e0201808a0row7_col3\" class=\"data row7 col3\" >0.7405</td>\n",
       "                        <td id=\"T_947be30a_15e9_11eb_beac_00e0201808a0row7_col4\" class=\"data row7 col4\" >0.6795</td>\n",
       "                        <td id=\"T_947be30a_15e9_11eb_beac_00e0201808a0row7_col5\" class=\"data row7 col5\" >0.5879</td>\n",
       "                        <td id=\"T_947be30a_15e9_11eb_beac_00e0201808a0row7_col6\" class=\"data row7 col6\" >0.5913</td>\n",
       "            </tr>\n",
       "            <tr>\n",
       "                        <th id=\"T_947be30a_15e9_11eb_beac_00e0201808a0level0_row8\" class=\"row_heading level0 row8\" >8</th>\n",
       "                        <td id=\"T_947be30a_15e9_11eb_beac_00e0201808a0row8_col0\" class=\"data row8 col0\" >0.8652</td>\n",
       "                        <td id=\"T_947be30a_15e9_11eb_beac_00e0201808a0row8_col1\" class=\"data row8 col1\" >0.9257</td>\n",
       "                        <td id=\"T_947be30a_15e9_11eb_beac_00e0201808a0row8_col2\" class=\"data row8 col2\" >0.6343</td>\n",
       "                        <td id=\"T_947be30a_15e9_11eb_beac_00e0201808a0row8_col3\" class=\"data row8 col3\" >0.7686</td>\n",
       "                        <td id=\"T_947be30a_15e9_11eb_beac_00e0201808a0row8_col4\" class=\"data row8 col4\" >0.6950</td>\n",
       "                        <td id=\"T_947be30a_15e9_11eb_beac_00e0201808a0row8_col5\" class=\"data row8 col5\" >0.6095</td>\n",
       "                        <td id=\"T_947be30a_15e9_11eb_beac_00e0201808a0row8_col6\" class=\"data row8 col6\" >0.6142</td>\n",
       "            </tr>\n",
       "            <tr>\n",
       "                        <th id=\"T_947be30a_15e9_11eb_beac_00e0201808a0level0_row9\" class=\"row_heading level0 row9\" >9</th>\n",
       "                        <td id=\"T_947be30a_15e9_11eb_beac_00e0201808a0row9_col0\" class=\"data row9 col0\" >0.8762</td>\n",
       "                        <td id=\"T_947be30a_15e9_11eb_beac_00e0201808a0row9_col1\" class=\"data row9 col1\" >0.9232</td>\n",
       "                        <td id=\"T_947be30a_15e9_11eb_beac_00e0201808a0row9_col2\" class=\"data row9 col2\" >0.6861</td>\n",
       "                        <td id=\"T_947be30a_15e9_11eb_beac_00e0201808a0row9_col3\" class=\"data row9 col3\" >0.7766</td>\n",
       "                        <td id=\"T_947be30a_15e9_11eb_beac_00e0201808a0row9_col4\" class=\"data row9 col4\" >0.7285</td>\n",
       "                        <td id=\"T_947be30a_15e9_11eb_beac_00e0201808a0row9_col5\" class=\"data row9 col5\" >0.6487</td>\n",
       "                        <td id=\"T_947be30a_15e9_11eb_beac_00e0201808a0row9_col6\" class=\"data row9 col6\" >0.6508</td>\n",
       "            </tr>\n",
       "            <tr>\n",
       "                        <th id=\"T_947be30a_15e9_11eb_beac_00e0201808a0level0_row10\" class=\"row_heading level0 row10\" >Mean</th>\n",
       "                        <td id=\"T_947be30a_15e9_11eb_beac_00e0201808a0row10_col0\" class=\"data row10 col0\" >0.8632</td>\n",
       "                        <td id=\"T_947be30a_15e9_11eb_beac_00e0201808a0row10_col1\" class=\"data row10 col1\" >0.9219</td>\n",
       "                        <td id=\"T_947be30a_15e9_11eb_beac_00e0201808a0row10_col2\" class=\"data row10 col2\" >0.6471</td>\n",
       "                        <td id=\"T_947be30a_15e9_11eb_beac_00e0201808a0row10_col3\" class=\"data row10 col3\" >0.7531</td>\n",
       "                        <td id=\"T_947be30a_15e9_11eb_beac_00e0201808a0row10_col4\" class=\"data row10 col4\" >0.6959</td>\n",
       "                        <td id=\"T_947be30a_15e9_11eb_beac_00e0201808a0row10_col5\" class=\"data row10 col5\" >0.6083</td>\n",
       "                        <td id=\"T_947be30a_15e9_11eb_beac_00e0201808a0row10_col6\" class=\"data row10 col6\" >0.6114</td>\n",
       "            </tr>\n",
       "            <tr>\n",
       "                        <th id=\"T_947be30a_15e9_11eb_beac_00e0201808a0level0_row11\" class=\"row_heading level0 row11\" >SD</th>\n",
       "                        <td id=\"T_947be30a_15e9_11eb_beac_00e0201808a0row11_col0\" class=\"data row11 col0\" >0.0077</td>\n",
       "                        <td id=\"T_947be30a_15e9_11eb_beac_00e0201808a0row11_col1\" class=\"data row11 col1\" >0.0068</td>\n",
       "                        <td id=\"T_947be30a_15e9_11eb_beac_00e0201808a0row11_col2\" class=\"data row11 col2\" >0.0252</td>\n",
       "                        <td id=\"T_947be30a_15e9_11eb_beac_00e0201808a0row11_col3\" class=\"data row11 col3\" >0.0185</td>\n",
       "                        <td id=\"T_947be30a_15e9_11eb_beac_00e0201808a0row11_col4\" class=\"data row11 col4\" >0.0192</td>\n",
       "                        <td id=\"T_947be30a_15e9_11eb_beac_00e0201808a0row11_col5\" class=\"data row11 col5\" >0.0237</td>\n",
       "                        <td id=\"T_947be30a_15e9_11eb_beac_00e0201808a0row11_col6\" class=\"data row11 col6\" >0.0232</td>\n",
       "            </tr>\n",
       "    </tbody></table>"
      ],
      "text/plain": [
       "<pandas.io.formats.style.Styler at 0x234d2b8a388>"
      ]
     },
     "metadata": {},
     "output_type": "display_data"
    }
   ],
   "source": [
    "lightgbm = create_model('lightgbm')"
   ]
  },
  {
   "cell_type": "code",
   "execution_count": 26,
   "metadata": {},
   "outputs": [
    {
     "data": {
      "image/png": "[encoded data removed]",
      "text/plain": [
       "<Figure size 800x500 with 1 Axes>"
      ]
     },
     "metadata": {
      "needs_background": "light"
     },
     "output_type": "display_data"
    }
   ],
   "source": [
    "plot_model(estimator = lightgbm, plot = 'feature')"
   ]
  },
  {
   "cell_type": "code",
   "execution_count": null,
   "metadata": {},
   "outputs": [],
   "source": []
  }
 ],
 "metadata": {
  "kernelspec": {
   "display_name": "Python 3",
   "language": "python",
   "name": "python3"
  },
  "language_info": {
   "codemirror_mode": {
    "name": "ipython",
    "version": 3
   },
   "file_extension": ".py",
   "mimetype": "text/x-python",
   "name": "python",
   "nbconvert_exporter": "python",
   "pygments_lexer": "ipython3",
   "version": "3.7.6"
  }
 },
 "nbformat": 4,
 "nbformat_minor": 4
}
