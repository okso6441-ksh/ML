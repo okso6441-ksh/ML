{
 "cells": [
  {
   "cell_type": "code",
   "execution_count": 1,
   "metadata": {},
   "outputs": [],
   "source": [
    "import numpy as np\n",
    "import pandas as pd\n",
    "import matplotlib.pyplot as plt\n",
    "import seaborn as sns\n",
    "import warnings\n",
    "warnings.filterwarnings('ignore')\n",
    "%matplotlib inline\n",
    "\n",
    "from IPython.core.interactiveshell import InteractiveShell\n",
    "InteractiveShell.ast_node_interactivity = \"all\"\n",
    "\n",
    "from sklearn.preprocessing import PolynomialFeatures\n",
    "\n",
    "from sklearn.model_selection import train_test_split\n",
    "import lightgbm as lgbm\n",
    "from sklearn.metrics import confusion_matrix, accuracy_score\n",
    "from pycaret.classification import *"
   ]
  },
  {
   "cell_type": "code",
   "execution_count": 2,
   "metadata": {},
   "outputs": [],
   "source": [
    "seed = 42\n",
    "np.random.seed(seed)\n",
    "set_config('seed', seed)"
   ]
  },
  {
   "cell_type": "code",
   "execution_count": null,
   "metadata": {},
   "outputs": [],
   "source": []
  },
  {
   "cell_type": "markdown",
   "metadata": {},
   "source": [
    "# 1. 데이터 로드"
   ]
  },
  {
   "cell_type": "code",
   "execution_count": 3,
   "metadata": {},
   "outputs": [],
   "source": [
    "train=pd.read_csv('input/train.csv', index_col=0) #인덱스 col=0도 check!\n",
    "test=pd.read_csv('input/test.csv', index_col=0)\n",
    "submission=pd.read_csv('input/sample_submission.csv', index_col=0)  "
   ]
  },
  {
   "cell_type": "code",
   "execution_count": 4,
   "metadata": {},
   "outputs": [],
   "source": [
    "train['income']=pd.factorize(train['income'], sort=True)[0]"
   ]
  },
  {
   "cell_type": "code",
   "execution_count": null,
   "metadata": {},
   "outputs": [],
   "source": [
    "train.shape, test.shape"
   ]
  },
  {
   "cell_type": "code",
   "execution_count": null,
   "metadata": {},
   "outputs": [],
   "source": [
    "train.head(3)\n",
    "test.head(3)"
   ]
  },
  {
   "cell_type": "markdown",
   "metadata": {},
   "source": [
    "# 2. EDA & 전처리"
   ]
  },
  {
   "cell_type": "code",
   "execution_count": null,
   "metadata": {},
   "outputs": [],
   "source": [
    "train.info()\n",
    "train.describe()\n",
    "train.describe(include='O')"
   ]
  },
  {
   "cell_type": "code",
   "execution_count": null,
   "metadata": {},
   "outputs": [],
   "source": []
  },
  {
   "cell_type": "markdown",
   "metadata": {},
   "source": [
    "## Missing Value"
   ]
  },
  {
   "cell_type": "code",
   "execution_count": null,
   "metadata": {},
   "outputs": [],
   "source": [
    "train.isnull().sum().sum()\n",
    "test.isnull().sum().sum()"
   ]
  },
  {
   "cell_type": "code",
   "execution_count": null,
   "metadata": {},
   "outputs": [],
   "source": []
  },
  {
   "cell_type": "markdown",
   "metadata": {},
   "source": [
    "### outlier"
   ]
  },
  {
   "cell_type": "markdown",
   "metadata": {},
   "source": [
    "### education"
   ]
  },
  {
   "cell_type": "code",
   "execution_count": 5,
   "metadata": {},
   "outputs": [],
   "source": [
    "train.drop(['education'],axis=1, inplace=True)\n",
    "test.drop(['education'],axis=1, inplace=True)"
   ]
  },
  {
   "cell_type": "code",
   "execution_count": null,
   "metadata": {},
   "outputs": [],
   "source": []
  },
  {
   "cell_type": "markdown",
   "metadata": {},
   "source": [
    "### capital_gain 99999"
   ]
  },
  {
   "cell_type": "code",
   "execution_count": 6,
   "metadata": {},
   "outputs": [
    {
     "data": {
      "text/plain": [
       "(32561, 14)"
      ]
     },
     "execution_count": 6,
     "metadata": {},
     "output_type": "execute_result"
    }
   ],
   "source": [
    "df = pd.concat([train, test])\n",
    "df.shape"
   ]
  },
  {
   "cell_type": "code",
   "execution_count": 7,
   "metadata": {},
   "outputs": [],
   "source": [
    "df['capital_gain_imsi'] = df['capital_gain'].replace(99999,0)"
   ]
  },
  {
   "cell_type": "code",
   "execution_count": 8,
   "metadata": {},
   "outputs": [
    {
     "data": {
      "text/html": [
       "<div>\n",
       "<style scoped>\n",
       "    .dataframe tbody tr th:only-of-type {\n",
       "        vertical-align: middle;\n",
       "    }\n",
       "\n",
       "    .dataframe tbody tr th {\n",
       "        vertical-align: top;\n",
       "    }\n",
       "\n",
       "    .dataframe thead th {\n",
       "        text-align: right;\n",
       "    }\n",
       "</style>\n",
       "<table border=\"1\" class=\"dataframe\">\n",
       "  <thead>\n",
       "    <tr style=\"text-align: right;\">\n",
       "      <th></th>\n",
       "      <th>education_num</th>\n",
       "      <th>capital_gain_imsi</th>\n",
       "    </tr>\n",
       "  </thead>\n",
       "  <tbody>\n",
       "    <tr>\n",
       "      <th>0</th>\n",
       "      <td>1</td>\n",
       "      <td>898.392157</td>\n",
       "    </tr>\n",
       "    <tr>\n",
       "      <th>1</th>\n",
       "      <td>2</td>\n",
       "      <td>125.875000</td>\n",
       "    </tr>\n",
       "    <tr>\n",
       "      <th>2</th>\n",
       "      <td>3</td>\n",
       "      <td>176.021021</td>\n",
       "    </tr>\n",
       "    <tr>\n",
       "      <th>3</th>\n",
       "      <td>4</td>\n",
       "      <td>233.939628</td>\n",
       "    </tr>\n",
       "    <tr>\n",
       "      <th>4</th>\n",
       "      <td>5</td>\n",
       "      <td>147.538911</td>\n",
       "    </tr>\n",
       "    <tr>\n",
       "      <th>5</th>\n",
       "      <td>6</td>\n",
       "      <td>190.214362</td>\n",
       "    </tr>\n",
       "    <tr>\n",
       "      <th>6</th>\n",
       "      <td>7</td>\n",
       "      <td>215.097872</td>\n",
       "    </tr>\n",
       "    <tr>\n",
       "      <th>7</th>\n",
       "      <td>8</td>\n",
       "      <td>284.087760</td>\n",
       "    </tr>\n",
       "    <tr>\n",
       "      <th>8</th>\n",
       "      <td>9</td>\n",
       "      <td>357.775545</td>\n",
       "    </tr>\n",
       "    <tr>\n",
       "      <th>9</th>\n",
       "      <td>10</td>\n",
       "      <td>406.808531</td>\n",
       "    </tr>\n",
       "    <tr>\n",
       "      <th>10</th>\n",
       "      <td>11</td>\n",
       "      <td>642.693198</td>\n",
       "    </tr>\n",
       "    <tr>\n",
       "      <th>11</th>\n",
       "      <td>12</td>\n",
       "      <td>546.679475</td>\n",
       "    </tr>\n",
       "    <tr>\n",
       "      <th>12</th>\n",
       "      <td>13</td>\n",
       "      <td>990.667600</td>\n",
       "    </tr>\n",
       "    <tr>\n",
       "      <th>13</th>\n",
       "      <td>14</td>\n",
       "      <td>1517.884504</td>\n",
       "    </tr>\n",
       "    <tr>\n",
       "      <th>14</th>\n",
       "      <td>15</td>\n",
       "      <td>2428.385417</td>\n",
       "    </tr>\n",
       "    <tr>\n",
       "      <th>15</th>\n",
       "      <td>16</td>\n",
       "      <td>1864.605327</td>\n",
       "    </tr>\n",
       "  </tbody>\n",
       "</table>\n",
       "</div>"
      ],
      "text/plain": [
       "    education_num  capital_gain_imsi\n",
       "0               1         898.392157\n",
       "1               2         125.875000\n",
       "2               3         176.021021\n",
       "3               4         233.939628\n",
       "4               5         147.538911\n",
       "5               6         190.214362\n",
       "6               7         215.097872\n",
       "7               8         284.087760\n",
       "8               9         357.775545\n",
       "9              10         406.808531\n",
       "10             11         642.693198\n",
       "11             12         546.679475\n",
       "12             13         990.667600\n",
       "13             14        1517.884504\n",
       "14             15        2428.385417\n",
       "15             16        1864.605327"
      ]
     },
     "execution_count": 8,
     "metadata": {},
     "output_type": "execute_result"
    }
   ],
   "source": [
    "capital_gain_imsi = pd.DataFrame(df.groupby(['education_num'])['capital_gain_imsi'].mean()).reset_index()"
   ]
  },
  {
   "cell_type": "code",
   "execution_count": 9,
   "metadata": {},
   "outputs": [],
   "source": [
    "train = train.merge(capital_gain_imsi, on=['education_num'], how='left')\n",
    "test = test.merge(capital_gain_imsi, on=['education_num'], how='left')"
   ]
  },
  {
   "cell_type": "code",
   "execution_count": 10,
   "metadata": {},
   "outputs": [],
   "source": [
    "train.loc[train.capital_gain == 99999, 'capital_gain'] = train['capital_gain_imsi']\n",
    "test.loc[test.capital_gain == 99999, 'capital_gain'] = test['capital_gain_imsi']"
   ]
  },
  {
   "cell_type": "code",
   "execution_count": 11,
   "metadata": {},
   "outputs": [],
   "source": [
    "train.drop(['capital_gain_imsi'],axis=1, inplace=True)\n",
    "test.drop(['capital_gain_imsi'],axis=1, inplace=True)"
   ]
  },
  {
   "cell_type": "code",
   "execution_count": null,
   "metadata": {},
   "outputs": [],
   "source": []
  },
  {
   "cell_type": "markdown",
   "metadata": {},
   "source": [
    "#### marital_status  encoding"
   ]
  },
  {
   "cell_type": "code",
   "execution_count": 21,
   "metadata": {},
   "outputs": [],
   "source": [
    "train['marital_status_int']=pd.factorize(train['marital_status'], sort=True)[0]\n",
    "test['marital_status_int']=pd.factorize(test['marital_status'], sort=True)[0]"
   ]
  },
  {
   "cell_type": "code",
   "execution_count": 22,
   "metadata": {},
   "outputs": [],
   "source": [
    "train['marital_status_n_rows'] = train['marital_status_int'].map(train.groupby('marital_status_int').size())\n",
    "test['marital_status_n_rows'] = test['marital_status_int'].map(test.groupby('marital_status_int').size())"
   ]
  },
  {
   "cell_type": "code",
   "execution_count": 23,
   "metadata": {},
   "outputs": [],
   "source": [
    "marital_status_mean = train.groupby('marital_status_int')['income'].mean()\n",
    "train['marital_status_mean'] = train['marital_status_int'].map(marital_status_mean)\n",
    "test['marital_status_mean'] = test['marital_status_int'].map(marital_status_mean)"
   ]
  },
  {
   "cell_type": "code",
   "execution_count": 24,
   "metadata": {},
   "outputs": [],
   "source": [
    "#train['income'].mean()# = 0.242043840454528\n",
    "def smoothing(n_rows, target_mean): \n",
    "    return (target_mean*n_rows + 0.242043840454528*0.8) / (n_rows + 0.8)"
   ]
  },
  {
   "cell_type": "code",
   "execution_count": 25,
   "metadata": {},
   "outputs": [],
   "source": [
    "train['marital_status_mean_smoothing'] = train.apply(lambda x:smoothing(x['marital_status_n_rows'], x['marital_status_mean']), axis=1)\n",
    "test['marital_status_mean_smoothing'] = test.apply(lambda x:smoothing(x['marital_status_n_rows'], x['marital_status_mean']), axis=1)"
   ]
  },
  {
   "cell_type": "code",
   "execution_count": 26,
   "metadata": {},
   "outputs": [],
   "source": [
    "train.drop(['marital_status_int','marital_status_mean', 'marital_status_n_rows'], axis=1, inplace=True)\n",
    "test.drop(['marital_status_int','marital_status_mean', 'marital_status_n_rows'], axis=1, inplace=True)"
   ]
  },
  {
   "cell_type": "code",
   "execution_count": null,
   "metadata": {},
   "outputs": [],
   "source": []
  },
  {
   "cell_type": "code",
   "execution_count": null,
   "metadata": {},
   "outputs": [],
   "source": []
  },
  {
   "cell_type": "markdown",
   "metadata": {},
   "source": [
    "# 3. 모델 학습"
   ]
  },
  {
   "cell_type": "code",
   "execution_count": null,
   "metadata": {},
   "outputs": [],
   "source": [
    "import gc\n",
    "gc.collect()"
   ]
  },
  {
   "cell_type": "code",
   "execution_count": null,
   "metadata": {},
   "outputs": [],
   "source": [
    "train.columns"
   ]
  },
  {
   "cell_type": "code",
   "execution_count": null,
   "metadata": {},
   "outputs": [],
   "source": []
  },
  {
   "cell_type": "code",
   "execution_count": 27,
   "metadata": {
    "scrolled": false
   },
   "outputs": [
    {
     "name": "stdout",
     "output_type": "stream",
     "text": [
      "Setup Succesfully Completed!\n"
     ]
    },
    {
     "data": {
      "text/html": [
       "<style  type=\"text/css\" >\n",
       "</style><table id=\"T_81f68114_0f7c_11eb_8b77_00e0201808a0\" ><thead>    <tr>        <th class=\"blank level0\" ></th>        <th class=\"col_heading level0 col0\" >Description</th>        <th class=\"col_heading level0 col1\" >Value</th>    </tr></thead><tbody>\n",
       "                <tr>\n",
       "                        <th id=\"T_81f68114_0f7c_11eb_8b77_00e0201808a0level0_row0\" class=\"row_heading level0 row0\" >0</th>\n",
       "                        <td id=\"T_81f68114_0f7c_11eb_8b77_00e0201808a0row0_col0\" class=\"data row0 col0\" >session_id</td>\n",
       "                        <td id=\"T_81f68114_0f7c_11eb_8b77_00e0201808a0row0_col1\" class=\"data row0 col1\" >42</td>\n",
       "            </tr>\n",
       "            <tr>\n",
       "                        <th id=\"T_81f68114_0f7c_11eb_8b77_00e0201808a0level0_row1\" class=\"row_heading level0 row1\" >1</th>\n",
       "                        <td id=\"T_81f68114_0f7c_11eb_8b77_00e0201808a0row1_col0\" class=\"data row1 col0\" >Target Type</td>\n",
       "                        <td id=\"T_81f68114_0f7c_11eb_8b77_00e0201808a0row1_col1\" class=\"data row1 col1\" >Binary</td>\n",
       "            </tr>\n",
       "            <tr>\n",
       "                        <th id=\"T_81f68114_0f7c_11eb_8b77_00e0201808a0level0_row2\" class=\"row_heading level0 row2\" >2</th>\n",
       "                        <td id=\"T_81f68114_0f7c_11eb_8b77_00e0201808a0row2_col0\" class=\"data row2 col0\" >Label Encoded</td>\n",
       "                        <td id=\"T_81f68114_0f7c_11eb_8b77_00e0201808a0row2_col1\" class=\"data row2 col1\" >0: 0, 1: 1</td>\n",
       "            </tr>\n",
       "            <tr>\n",
       "                        <th id=\"T_81f68114_0f7c_11eb_8b77_00e0201808a0level0_row3\" class=\"row_heading level0 row3\" >3</th>\n",
       "                        <td id=\"T_81f68114_0f7c_11eb_8b77_00e0201808a0row3_col0\" class=\"data row3 col0\" >Original Data</td>\n",
       "                        <td id=\"T_81f68114_0f7c_11eb_8b77_00e0201808a0row3_col1\" class=\"data row3 col1\" >(26049, 15)</td>\n",
       "            </tr>\n",
       "            <tr>\n",
       "                        <th id=\"T_81f68114_0f7c_11eb_8b77_00e0201808a0level0_row4\" class=\"row_heading level0 row4\" >4</th>\n",
       "                        <td id=\"T_81f68114_0f7c_11eb_8b77_00e0201808a0row4_col0\" class=\"data row4 col0\" >Missing Values </td>\n",
       "                        <td id=\"T_81f68114_0f7c_11eb_8b77_00e0201808a0row4_col1\" class=\"data row4 col1\" >False</td>\n",
       "            </tr>\n",
       "            <tr>\n",
       "                        <th id=\"T_81f68114_0f7c_11eb_8b77_00e0201808a0level0_row5\" class=\"row_heading level0 row5\" >5</th>\n",
       "                        <td id=\"T_81f68114_0f7c_11eb_8b77_00e0201808a0row5_col0\" class=\"data row5 col0\" >Numeric Features </td>\n",
       "                        <td id=\"T_81f68114_0f7c_11eb_8b77_00e0201808a0row5_col1\" class=\"data row5 col1\" >7</td>\n",
       "            </tr>\n",
       "            <tr>\n",
       "                        <th id=\"T_81f68114_0f7c_11eb_8b77_00e0201808a0level0_row6\" class=\"row_heading level0 row6\" >6</th>\n",
       "                        <td id=\"T_81f68114_0f7c_11eb_8b77_00e0201808a0row6_col0\" class=\"data row6 col0\" >Categorical Features </td>\n",
       "                        <td id=\"T_81f68114_0f7c_11eb_8b77_00e0201808a0row6_col1\" class=\"data row6 col1\" >7</td>\n",
       "            </tr>\n",
       "            <tr>\n",
       "                        <th id=\"T_81f68114_0f7c_11eb_8b77_00e0201808a0level0_row7\" class=\"row_heading level0 row7\" >7</th>\n",
       "                        <td id=\"T_81f68114_0f7c_11eb_8b77_00e0201808a0row7_col0\" class=\"data row7 col0\" >Ordinal Features </td>\n",
       "                        <td id=\"T_81f68114_0f7c_11eb_8b77_00e0201808a0row7_col1\" class=\"data row7 col1\" >False</td>\n",
       "            </tr>\n",
       "            <tr>\n",
       "                        <th id=\"T_81f68114_0f7c_11eb_8b77_00e0201808a0level0_row8\" class=\"row_heading level0 row8\" >8</th>\n",
       "                        <td id=\"T_81f68114_0f7c_11eb_8b77_00e0201808a0row8_col0\" class=\"data row8 col0\" >High Cardinality Features </td>\n",
       "                        <td id=\"T_81f68114_0f7c_11eb_8b77_00e0201808a0row8_col1\" class=\"data row8 col1\" >False</td>\n",
       "            </tr>\n",
       "            <tr>\n",
       "                        <th id=\"T_81f68114_0f7c_11eb_8b77_00e0201808a0level0_row9\" class=\"row_heading level0 row9\" >9</th>\n",
       "                        <td id=\"T_81f68114_0f7c_11eb_8b77_00e0201808a0row9_col0\" class=\"data row9 col0\" >High Cardinality Method </td>\n",
       "                        <td id=\"T_81f68114_0f7c_11eb_8b77_00e0201808a0row9_col1\" class=\"data row9 col1\" >None</td>\n",
       "            </tr>\n",
       "            <tr>\n",
       "                        <th id=\"T_81f68114_0f7c_11eb_8b77_00e0201808a0level0_row10\" class=\"row_heading level0 row10\" >10</th>\n",
       "                        <td id=\"T_81f68114_0f7c_11eb_8b77_00e0201808a0row10_col0\" class=\"data row10 col0\" >Sampled Data</td>\n",
       "                        <td id=\"T_81f68114_0f7c_11eb_8b77_00e0201808a0row10_col1\" class=\"data row10 col1\" >(18234, 15)</td>\n",
       "            </tr>\n",
       "            <tr>\n",
       "                        <th id=\"T_81f68114_0f7c_11eb_8b77_00e0201808a0level0_row11\" class=\"row_heading level0 row11\" >11</th>\n",
       "                        <td id=\"T_81f68114_0f7c_11eb_8b77_00e0201808a0row11_col0\" class=\"data row11 col0\" >Transformed Train Set</td>\n",
       "                        <td id=\"T_81f68114_0f7c_11eb_8b77_00e0201808a0row11_col1\" class=\"data row11 col1\" >(12763, 92)</td>\n",
       "            </tr>\n",
       "            <tr>\n",
       "                        <th id=\"T_81f68114_0f7c_11eb_8b77_00e0201808a0level0_row12\" class=\"row_heading level0 row12\" >12</th>\n",
       "                        <td id=\"T_81f68114_0f7c_11eb_8b77_00e0201808a0row12_col0\" class=\"data row12 col0\" >Transformed Test Set</td>\n",
       "                        <td id=\"T_81f68114_0f7c_11eb_8b77_00e0201808a0row12_col1\" class=\"data row12 col1\" >(5471, 92)</td>\n",
       "            </tr>\n",
       "            <tr>\n",
       "                        <th id=\"T_81f68114_0f7c_11eb_8b77_00e0201808a0level0_row13\" class=\"row_heading level0 row13\" >13</th>\n",
       "                        <td id=\"T_81f68114_0f7c_11eb_8b77_00e0201808a0row13_col0\" class=\"data row13 col0\" >Numeric Imputer </td>\n",
       "                        <td id=\"T_81f68114_0f7c_11eb_8b77_00e0201808a0row13_col1\" class=\"data row13 col1\" >mean</td>\n",
       "            </tr>\n",
       "            <tr>\n",
       "                        <th id=\"T_81f68114_0f7c_11eb_8b77_00e0201808a0level0_row14\" class=\"row_heading level0 row14\" >14</th>\n",
       "                        <td id=\"T_81f68114_0f7c_11eb_8b77_00e0201808a0row14_col0\" class=\"data row14 col0\" >Categorical Imputer </td>\n",
       "                        <td id=\"T_81f68114_0f7c_11eb_8b77_00e0201808a0row14_col1\" class=\"data row14 col1\" >constant</td>\n",
       "            </tr>\n",
       "            <tr>\n",
       "                        <th id=\"T_81f68114_0f7c_11eb_8b77_00e0201808a0level0_row15\" class=\"row_heading level0 row15\" >15</th>\n",
       "                        <td id=\"T_81f68114_0f7c_11eb_8b77_00e0201808a0row15_col0\" class=\"data row15 col0\" >Normalize </td>\n",
       "                        <td id=\"T_81f68114_0f7c_11eb_8b77_00e0201808a0row15_col1\" class=\"data row15 col1\" >False</td>\n",
       "            </tr>\n",
       "            <tr>\n",
       "                        <th id=\"T_81f68114_0f7c_11eb_8b77_00e0201808a0level0_row16\" class=\"row_heading level0 row16\" >16</th>\n",
       "                        <td id=\"T_81f68114_0f7c_11eb_8b77_00e0201808a0row16_col0\" class=\"data row16 col0\" >Normalize Method </td>\n",
       "                        <td id=\"T_81f68114_0f7c_11eb_8b77_00e0201808a0row16_col1\" class=\"data row16 col1\" >None</td>\n",
       "            </tr>\n",
       "            <tr>\n",
       "                        <th id=\"T_81f68114_0f7c_11eb_8b77_00e0201808a0level0_row17\" class=\"row_heading level0 row17\" >17</th>\n",
       "                        <td id=\"T_81f68114_0f7c_11eb_8b77_00e0201808a0row17_col0\" class=\"data row17 col0\" >Transformation </td>\n",
       "                        <td id=\"T_81f68114_0f7c_11eb_8b77_00e0201808a0row17_col1\" class=\"data row17 col1\" >False</td>\n",
       "            </tr>\n",
       "            <tr>\n",
       "                        <th id=\"T_81f68114_0f7c_11eb_8b77_00e0201808a0level0_row18\" class=\"row_heading level0 row18\" >18</th>\n",
       "                        <td id=\"T_81f68114_0f7c_11eb_8b77_00e0201808a0row18_col0\" class=\"data row18 col0\" >Transformation Method </td>\n",
       "                        <td id=\"T_81f68114_0f7c_11eb_8b77_00e0201808a0row18_col1\" class=\"data row18 col1\" >None</td>\n",
       "            </tr>\n",
       "            <tr>\n",
       "                        <th id=\"T_81f68114_0f7c_11eb_8b77_00e0201808a0level0_row19\" class=\"row_heading level0 row19\" >19</th>\n",
       "                        <td id=\"T_81f68114_0f7c_11eb_8b77_00e0201808a0row19_col0\" class=\"data row19 col0\" >PCA </td>\n",
       "                        <td id=\"T_81f68114_0f7c_11eb_8b77_00e0201808a0row19_col1\" class=\"data row19 col1\" >False</td>\n",
       "            </tr>\n",
       "            <tr>\n",
       "                        <th id=\"T_81f68114_0f7c_11eb_8b77_00e0201808a0level0_row20\" class=\"row_heading level0 row20\" >20</th>\n",
       "                        <td id=\"T_81f68114_0f7c_11eb_8b77_00e0201808a0row20_col0\" class=\"data row20 col0\" >PCA Method </td>\n",
       "                        <td id=\"T_81f68114_0f7c_11eb_8b77_00e0201808a0row20_col1\" class=\"data row20 col1\" >None</td>\n",
       "            </tr>\n",
       "            <tr>\n",
       "                        <th id=\"T_81f68114_0f7c_11eb_8b77_00e0201808a0level0_row21\" class=\"row_heading level0 row21\" >21</th>\n",
       "                        <td id=\"T_81f68114_0f7c_11eb_8b77_00e0201808a0row21_col0\" class=\"data row21 col0\" >PCA Components </td>\n",
       "                        <td id=\"T_81f68114_0f7c_11eb_8b77_00e0201808a0row21_col1\" class=\"data row21 col1\" >None</td>\n",
       "            </tr>\n",
       "            <tr>\n",
       "                        <th id=\"T_81f68114_0f7c_11eb_8b77_00e0201808a0level0_row22\" class=\"row_heading level0 row22\" >22</th>\n",
       "                        <td id=\"T_81f68114_0f7c_11eb_8b77_00e0201808a0row22_col0\" class=\"data row22 col0\" >Ignore Low Variance </td>\n",
       "                        <td id=\"T_81f68114_0f7c_11eb_8b77_00e0201808a0row22_col1\" class=\"data row22 col1\" >False</td>\n",
       "            </tr>\n",
       "            <tr>\n",
       "                        <th id=\"T_81f68114_0f7c_11eb_8b77_00e0201808a0level0_row23\" class=\"row_heading level0 row23\" >23</th>\n",
       "                        <td id=\"T_81f68114_0f7c_11eb_8b77_00e0201808a0row23_col0\" class=\"data row23 col0\" >Combine Rare Levels </td>\n",
       "                        <td id=\"T_81f68114_0f7c_11eb_8b77_00e0201808a0row23_col1\" class=\"data row23 col1\" >False</td>\n",
       "            </tr>\n",
       "            <tr>\n",
       "                        <th id=\"T_81f68114_0f7c_11eb_8b77_00e0201808a0level0_row24\" class=\"row_heading level0 row24\" >24</th>\n",
       "                        <td id=\"T_81f68114_0f7c_11eb_8b77_00e0201808a0row24_col0\" class=\"data row24 col0\" >Rare Level Threshold </td>\n",
       "                        <td id=\"T_81f68114_0f7c_11eb_8b77_00e0201808a0row24_col1\" class=\"data row24 col1\" >None</td>\n",
       "            </tr>\n",
       "            <tr>\n",
       "                        <th id=\"T_81f68114_0f7c_11eb_8b77_00e0201808a0level0_row25\" class=\"row_heading level0 row25\" >25</th>\n",
       "                        <td id=\"T_81f68114_0f7c_11eb_8b77_00e0201808a0row25_col0\" class=\"data row25 col0\" >Numeric Binning </td>\n",
       "                        <td id=\"T_81f68114_0f7c_11eb_8b77_00e0201808a0row25_col1\" class=\"data row25 col1\" >False</td>\n",
       "            </tr>\n",
       "            <tr>\n",
       "                        <th id=\"T_81f68114_0f7c_11eb_8b77_00e0201808a0level0_row26\" class=\"row_heading level0 row26\" >26</th>\n",
       "                        <td id=\"T_81f68114_0f7c_11eb_8b77_00e0201808a0row26_col0\" class=\"data row26 col0\" >Remove Outliers </td>\n",
       "                        <td id=\"T_81f68114_0f7c_11eb_8b77_00e0201808a0row26_col1\" class=\"data row26 col1\" >False</td>\n",
       "            </tr>\n",
       "            <tr>\n",
       "                        <th id=\"T_81f68114_0f7c_11eb_8b77_00e0201808a0level0_row27\" class=\"row_heading level0 row27\" >27</th>\n",
       "                        <td id=\"T_81f68114_0f7c_11eb_8b77_00e0201808a0row27_col0\" class=\"data row27 col0\" >Outliers Threshold </td>\n",
       "                        <td id=\"T_81f68114_0f7c_11eb_8b77_00e0201808a0row27_col1\" class=\"data row27 col1\" >None</td>\n",
       "            </tr>\n",
       "            <tr>\n",
       "                        <th id=\"T_81f68114_0f7c_11eb_8b77_00e0201808a0level0_row28\" class=\"row_heading level0 row28\" >28</th>\n",
       "                        <td id=\"T_81f68114_0f7c_11eb_8b77_00e0201808a0row28_col0\" class=\"data row28 col0\" >Remove Multicollinearity </td>\n",
       "                        <td id=\"T_81f68114_0f7c_11eb_8b77_00e0201808a0row28_col1\" class=\"data row28 col1\" >False</td>\n",
       "            </tr>\n",
       "            <tr>\n",
       "                        <th id=\"T_81f68114_0f7c_11eb_8b77_00e0201808a0level0_row29\" class=\"row_heading level0 row29\" >29</th>\n",
       "                        <td id=\"T_81f68114_0f7c_11eb_8b77_00e0201808a0row29_col0\" class=\"data row29 col0\" >Multicollinearity Threshold </td>\n",
       "                        <td id=\"T_81f68114_0f7c_11eb_8b77_00e0201808a0row29_col1\" class=\"data row29 col1\" >None</td>\n",
       "            </tr>\n",
       "            <tr>\n",
       "                        <th id=\"T_81f68114_0f7c_11eb_8b77_00e0201808a0level0_row30\" class=\"row_heading level0 row30\" >30</th>\n",
       "                        <td id=\"T_81f68114_0f7c_11eb_8b77_00e0201808a0row30_col0\" class=\"data row30 col0\" >Clustering </td>\n",
       "                        <td id=\"T_81f68114_0f7c_11eb_8b77_00e0201808a0row30_col1\" class=\"data row30 col1\" >False</td>\n",
       "            </tr>\n",
       "            <tr>\n",
       "                        <th id=\"T_81f68114_0f7c_11eb_8b77_00e0201808a0level0_row31\" class=\"row_heading level0 row31\" >31</th>\n",
       "                        <td id=\"T_81f68114_0f7c_11eb_8b77_00e0201808a0row31_col0\" class=\"data row31 col0\" >Clustering Iteration </td>\n",
       "                        <td id=\"T_81f68114_0f7c_11eb_8b77_00e0201808a0row31_col1\" class=\"data row31 col1\" >None</td>\n",
       "            </tr>\n",
       "            <tr>\n",
       "                        <th id=\"T_81f68114_0f7c_11eb_8b77_00e0201808a0level0_row32\" class=\"row_heading level0 row32\" >32</th>\n",
       "                        <td id=\"T_81f68114_0f7c_11eb_8b77_00e0201808a0row32_col0\" class=\"data row32 col0\" >Polynomial Features </td>\n",
       "                        <td id=\"T_81f68114_0f7c_11eb_8b77_00e0201808a0row32_col1\" class=\"data row32 col1\" >False</td>\n",
       "            </tr>\n",
       "            <tr>\n",
       "                        <th id=\"T_81f68114_0f7c_11eb_8b77_00e0201808a0level0_row33\" class=\"row_heading level0 row33\" >33</th>\n",
       "                        <td id=\"T_81f68114_0f7c_11eb_8b77_00e0201808a0row33_col0\" class=\"data row33 col0\" >Polynomial Degree </td>\n",
       "                        <td id=\"T_81f68114_0f7c_11eb_8b77_00e0201808a0row33_col1\" class=\"data row33 col1\" >None</td>\n",
       "            </tr>\n",
       "            <tr>\n",
       "                        <th id=\"T_81f68114_0f7c_11eb_8b77_00e0201808a0level0_row34\" class=\"row_heading level0 row34\" >34</th>\n",
       "                        <td id=\"T_81f68114_0f7c_11eb_8b77_00e0201808a0row34_col0\" class=\"data row34 col0\" >Trignometry Features </td>\n",
       "                        <td id=\"T_81f68114_0f7c_11eb_8b77_00e0201808a0row34_col1\" class=\"data row34 col1\" >False</td>\n",
       "            </tr>\n",
       "            <tr>\n",
       "                        <th id=\"T_81f68114_0f7c_11eb_8b77_00e0201808a0level0_row35\" class=\"row_heading level0 row35\" >35</th>\n",
       "                        <td id=\"T_81f68114_0f7c_11eb_8b77_00e0201808a0row35_col0\" class=\"data row35 col0\" >Polynomial Threshold </td>\n",
       "                        <td id=\"T_81f68114_0f7c_11eb_8b77_00e0201808a0row35_col1\" class=\"data row35 col1\" >None</td>\n",
       "            </tr>\n",
       "            <tr>\n",
       "                        <th id=\"T_81f68114_0f7c_11eb_8b77_00e0201808a0level0_row36\" class=\"row_heading level0 row36\" >36</th>\n",
       "                        <td id=\"T_81f68114_0f7c_11eb_8b77_00e0201808a0row36_col0\" class=\"data row36 col0\" >Group Features </td>\n",
       "                        <td id=\"T_81f68114_0f7c_11eb_8b77_00e0201808a0row36_col1\" class=\"data row36 col1\" >False</td>\n",
       "            </tr>\n",
       "            <tr>\n",
       "                        <th id=\"T_81f68114_0f7c_11eb_8b77_00e0201808a0level0_row37\" class=\"row_heading level0 row37\" >37</th>\n",
       "                        <td id=\"T_81f68114_0f7c_11eb_8b77_00e0201808a0row37_col0\" class=\"data row37 col0\" >Feature Selection </td>\n",
       "                        <td id=\"T_81f68114_0f7c_11eb_8b77_00e0201808a0row37_col1\" class=\"data row37 col1\" >False</td>\n",
       "            </tr>\n",
       "            <tr>\n",
       "                        <th id=\"T_81f68114_0f7c_11eb_8b77_00e0201808a0level0_row38\" class=\"row_heading level0 row38\" >38</th>\n",
       "                        <td id=\"T_81f68114_0f7c_11eb_8b77_00e0201808a0row38_col0\" class=\"data row38 col0\" >Features Selection Threshold </td>\n",
       "                        <td id=\"T_81f68114_0f7c_11eb_8b77_00e0201808a0row38_col1\" class=\"data row38 col1\" >None</td>\n",
       "            </tr>\n",
       "            <tr>\n",
       "                        <th id=\"T_81f68114_0f7c_11eb_8b77_00e0201808a0level0_row39\" class=\"row_heading level0 row39\" >39</th>\n",
       "                        <td id=\"T_81f68114_0f7c_11eb_8b77_00e0201808a0row39_col0\" class=\"data row39 col0\" >Feature Interaction </td>\n",
       "                        <td id=\"T_81f68114_0f7c_11eb_8b77_00e0201808a0row39_col1\" class=\"data row39 col1\" >False</td>\n",
       "            </tr>\n",
       "            <tr>\n",
       "                        <th id=\"T_81f68114_0f7c_11eb_8b77_00e0201808a0level0_row40\" class=\"row_heading level0 row40\" >40</th>\n",
       "                        <td id=\"T_81f68114_0f7c_11eb_8b77_00e0201808a0row40_col0\" class=\"data row40 col0\" >Feature Ratio </td>\n",
       "                        <td id=\"T_81f68114_0f7c_11eb_8b77_00e0201808a0row40_col1\" class=\"data row40 col1\" >False</td>\n",
       "            </tr>\n",
       "            <tr>\n",
       "                        <th id=\"T_81f68114_0f7c_11eb_8b77_00e0201808a0level0_row41\" class=\"row_heading level0 row41\" >41</th>\n",
       "                        <td id=\"T_81f68114_0f7c_11eb_8b77_00e0201808a0row41_col0\" class=\"data row41 col0\" >Interaction Threshold </td>\n",
       "                        <td id=\"T_81f68114_0f7c_11eb_8b77_00e0201808a0row41_col1\" class=\"data row41 col1\" >None</td>\n",
       "            </tr>\n",
       "            <tr>\n",
       "                        <th id=\"T_81f68114_0f7c_11eb_8b77_00e0201808a0level0_row42\" class=\"row_heading level0 row42\" >42</th>\n",
       "                        <td id=\"T_81f68114_0f7c_11eb_8b77_00e0201808a0row42_col0\" class=\"data row42 col0\" >Fix Imbalance</td>\n",
       "                        <td id=\"T_81f68114_0f7c_11eb_8b77_00e0201808a0row42_col1\" class=\"data row42 col1\" >False</td>\n",
       "            </tr>\n",
       "            <tr>\n",
       "                        <th id=\"T_81f68114_0f7c_11eb_8b77_00e0201808a0level0_row43\" class=\"row_heading level0 row43\" >43</th>\n",
       "                        <td id=\"T_81f68114_0f7c_11eb_8b77_00e0201808a0row43_col0\" class=\"data row43 col0\" >Fix Imbalance Method</td>\n",
       "                        <td id=\"T_81f68114_0f7c_11eb_8b77_00e0201808a0row43_col1\" class=\"data row43 col1\" >SMOTE</td>\n",
       "            </tr>\n",
       "    </tbody></table>"
      ],
      "text/plain": [
       "<pandas.io.formats.style.Styler at 0x2b0e9b2d6c8>"
      ]
     },
     "metadata": {},
     "output_type": "display_data"
    },
    {
     "name": "stdout",
     "output_type": "stream",
     "text": [
      "Wall time: 16.8 s\n"
     ]
    }
   ],
   "source": [
    "%%time\n",
    "clf = setup(session_id=seed, \n",
    "            data = train, target = 'income'\n",
    "          #, categorical_features=col_cat\n",
    "          , numeric_features = ['education_num']\n",
    "          #, ignore_features =tp.tolist() + wr.tolist() + wf.tolist()#'religion', 'race_1', 'race_2', 'race_3','race_4', 'race_5', 'race_6']\n",
    "           )"
   ]
  },
  {
   "cell_type": "code",
   "execution_count": 28,
   "metadata": {},
   "outputs": [
    {
     "data": {
      "text/html": [
       "<style  type=\"text/css\" >\n",
       "    #T_46fac7c2_0f7d_11eb_a0d6_00e0201808a0 th {\n",
       "          text-align: left;\n",
       "    }#T_46fac7c2_0f7d_11eb_a0d6_00e0201808a0row0_col0,#T_46fac7c2_0f7d_11eb_a0d6_00e0201808a0row0_col1,#T_46fac7c2_0f7d_11eb_a0d6_00e0201808a0row0_col2,#T_46fac7c2_0f7d_11eb_a0d6_00e0201808a0row0_col4,#T_46fac7c2_0f7d_11eb_a0d6_00e0201808a0row1_col0,#T_46fac7c2_0f7d_11eb_a0d6_00e0201808a0row1_col3,#T_46fac7c2_0f7d_11eb_a0d6_00e0201808a0row1_col4,#T_46fac7c2_0f7d_11eb_a0d6_00e0201808a0row1_col5,#T_46fac7c2_0f7d_11eb_a0d6_00e0201808a0row1_col6,#T_46fac7c2_0f7d_11eb_a0d6_00e0201808a0row1_col7,#T_46fac7c2_0f7d_11eb_a0d6_00e0201808a0row2_col0,#T_46fac7c2_0f7d_11eb_a0d6_00e0201808a0row2_col1,#T_46fac7c2_0f7d_11eb_a0d6_00e0201808a0row2_col2,#T_46fac7c2_0f7d_11eb_a0d6_00e0201808a0row2_col3,#T_46fac7c2_0f7d_11eb_a0d6_00e0201808a0row2_col4,#T_46fac7c2_0f7d_11eb_a0d6_00e0201808a0row2_col5,#T_46fac7c2_0f7d_11eb_a0d6_00e0201808a0row2_col6,#T_46fac7c2_0f7d_11eb_a0d6_00e0201808a0row2_col7,#T_46fac7c2_0f7d_11eb_a0d6_00e0201808a0row3_col0,#T_46fac7c2_0f7d_11eb_a0d6_00e0201808a0row3_col1,#T_46fac7c2_0f7d_11eb_a0d6_00e0201808a0row3_col2,#T_46fac7c2_0f7d_11eb_a0d6_00e0201808a0row3_col3,#T_46fac7c2_0f7d_11eb_a0d6_00e0201808a0row3_col5,#T_46fac7c2_0f7d_11eb_a0d6_00e0201808a0row3_col6,#T_46fac7c2_0f7d_11eb_a0d6_00e0201808a0row3_col7,#T_46fac7c2_0f7d_11eb_a0d6_00e0201808a0row4_col0,#T_46fac7c2_0f7d_11eb_a0d6_00e0201808a0row4_col1,#T_46fac7c2_0f7d_11eb_a0d6_00e0201808a0row4_col2,#T_46fac7c2_0f7d_11eb_a0d6_00e0201808a0row4_col3,#T_46fac7c2_0f7d_11eb_a0d6_00e0201808a0row4_col4,#T_46fac7c2_0f7d_11eb_a0d6_00e0201808a0row4_col5,#T_46fac7c2_0f7d_11eb_a0d6_00e0201808a0row4_col6,#T_46fac7c2_0f7d_11eb_a0d6_00e0201808a0row4_col7,#T_46fac7c2_0f7d_11eb_a0d6_00e0201808a0row5_col0,#T_46fac7c2_0f7d_11eb_a0d6_00e0201808a0row5_col1,#T_46fac7c2_0f7d_11eb_a0d6_00e0201808a0row5_col2,#T_46fac7c2_0f7d_11eb_a0d6_00e0201808a0row5_col3,#T_46fac7c2_0f7d_11eb_a0d6_00e0201808a0row5_col4,#T_46fac7c2_0f7d_11eb_a0d6_00e0201808a0row5_col5,#T_46fac7c2_0f7d_11eb_a0d6_00e0201808a0row5_col6,#T_46fac7c2_0f7d_11eb_a0d6_00e0201808a0row5_col7,#T_46fac7c2_0f7d_11eb_a0d6_00e0201808a0row6_col0,#T_46fac7c2_0f7d_11eb_a0d6_00e0201808a0row6_col1,#T_46fac7c2_0f7d_11eb_a0d6_00e0201808a0row6_col2,#T_46fac7c2_0f7d_11eb_a0d6_00e0201808a0row6_col3,#T_46fac7c2_0f7d_11eb_a0d6_00e0201808a0row6_col4,#T_46fac7c2_0f7d_11eb_a0d6_00e0201808a0row6_col5,#T_46fac7c2_0f7d_11eb_a0d6_00e0201808a0row6_col6,#T_46fac7c2_0f7d_11eb_a0d6_00e0201808a0row6_col7,#T_46fac7c2_0f7d_11eb_a0d6_00e0201808a0row7_col0,#T_46fac7c2_0f7d_11eb_a0d6_00e0201808a0row7_col1,#T_46fac7c2_0f7d_11eb_a0d6_00e0201808a0row7_col2,#T_46fac7c2_0f7d_11eb_a0d6_00e0201808a0row7_col3,#T_46fac7c2_0f7d_11eb_a0d6_00e0201808a0row7_col4,#T_46fac7c2_0f7d_11eb_a0d6_00e0201808a0row7_col5,#T_46fac7c2_0f7d_11eb_a0d6_00e0201808a0row7_col6,#T_46fac7c2_0f7d_11eb_a0d6_00e0201808a0row7_col7{\n",
       "            text-align:  left;\n",
       "        }#T_46fac7c2_0f7d_11eb_a0d6_00e0201808a0row0_col3,#T_46fac7c2_0f7d_11eb_a0d6_00e0201808a0row0_col5,#T_46fac7c2_0f7d_11eb_a0d6_00e0201808a0row0_col6,#T_46fac7c2_0f7d_11eb_a0d6_00e0201808a0row0_col7,#T_46fac7c2_0f7d_11eb_a0d6_00e0201808a0row1_col1,#T_46fac7c2_0f7d_11eb_a0d6_00e0201808a0row1_col2,#T_46fac7c2_0f7d_11eb_a0d6_00e0201808a0row3_col4{\n",
       "            background-color:  yellow;\n",
       "            text-align:  left;\n",
       "        }#T_46fac7c2_0f7d_11eb_a0d6_00e0201808a0row0_col8,#T_46fac7c2_0f7d_11eb_a0d6_00e0201808a0row1_col8,#T_46fac7c2_0f7d_11eb_a0d6_00e0201808a0row2_col8,#T_46fac7c2_0f7d_11eb_a0d6_00e0201808a0row3_col8,#T_46fac7c2_0f7d_11eb_a0d6_00e0201808a0row4_col8,#T_46fac7c2_0f7d_11eb_a0d6_00e0201808a0row5_col8,#T_46fac7c2_0f7d_11eb_a0d6_00e0201808a0row6_col8,#T_46fac7c2_0f7d_11eb_a0d6_00e0201808a0row7_col8{\n",
       "            background-color:  lightgrey;\n",
       "            text-align:  left;\n",
       "        }</style><table id=\"T_46fac7c2_0f7d_11eb_a0d6_00e0201808a0\" ><thead>    <tr>        <th class=\"blank level0\" ></th>        <th class=\"col_heading level0 col0\" >Model</th>        <th class=\"col_heading level0 col1\" >Accuracy</th>        <th class=\"col_heading level0 col2\" >AUC</th>        <th class=\"col_heading level0 col3\" >Recall</th>        <th class=\"col_heading level0 col4\" >Prec.</th>        <th class=\"col_heading level0 col5\" >F1</th>        <th class=\"col_heading level0 col6\" >Kappa</th>        <th class=\"col_heading level0 col7\" >MCC</th>        <th class=\"col_heading level0 col8\" >TT (Sec)</th>    </tr></thead><tbody>\n",
       "                <tr>\n",
       "                        <th id=\"T_46fac7c2_0f7d_11eb_a0d6_00e0201808a0level0_row0\" class=\"row_heading level0 row0\" >0</th>\n",
       "                        <td id=\"T_46fac7c2_0f7d_11eb_a0d6_00e0201808a0row0_col0\" class=\"data row0 col0\" >Light Gradient Boosting Machine</td>\n",
       "                        <td id=\"T_46fac7c2_0f7d_11eb_a0d6_00e0201808a0row0_col1\" class=\"data row0 col1\" >0.8657</td>\n",
       "                        <td id=\"T_46fac7c2_0f7d_11eb_a0d6_00e0201808a0row0_col2\" class=\"data row0 col2\" >0.9210</td>\n",
       "                        <td id=\"T_46fac7c2_0f7d_11eb_a0d6_00e0201808a0row0_col3\" class=\"data row0 col3\" >0.6468</td>\n",
       "                        <td id=\"T_46fac7c2_0f7d_11eb_a0d6_00e0201808a0row0_col4\" class=\"data row0 col4\" >0.7626</td>\n",
       "                        <td id=\"T_46fac7c2_0f7d_11eb_a0d6_00e0201808a0row0_col5\" class=\"data row0 col5\" >0.6997</td>\n",
       "                        <td id=\"T_46fac7c2_0f7d_11eb_a0d6_00e0201808a0row0_col6\" class=\"data row0 col6\" >0.6140</td>\n",
       "                        <td id=\"T_46fac7c2_0f7d_11eb_a0d6_00e0201808a0row0_col7\" class=\"data row0 col7\" >0.6176</td>\n",
       "                        <td id=\"T_46fac7c2_0f7d_11eb_a0d6_00e0201808a0row0_col8\" class=\"data row0 col8\" >0.2863</td>\n",
       "            </tr>\n",
       "            <tr>\n",
       "                        <th id=\"T_46fac7c2_0f7d_11eb_a0d6_00e0201808a0level0_row1\" class=\"row_heading level0 row1\" >1</th>\n",
       "                        <td id=\"T_46fac7c2_0f7d_11eb_a0d6_00e0201808a0row1_col0\" class=\"data row1 col0\" >CatBoost Classifier</td>\n",
       "                        <td id=\"T_46fac7c2_0f7d_11eb_a0d6_00e0201808a0row1_col1\" class=\"data row1 col1\" >0.8659</td>\n",
       "                        <td id=\"T_46fac7c2_0f7d_11eb_a0d6_00e0201808a0row1_col2\" class=\"data row1 col2\" >0.9238</td>\n",
       "                        <td id=\"T_46fac7c2_0f7d_11eb_a0d6_00e0201808a0row1_col3\" class=\"data row1 col3\" >0.6387</td>\n",
       "                        <td id=\"T_46fac7c2_0f7d_11eb_a0d6_00e0201808a0row1_col4\" class=\"data row1 col4\" >0.7686</td>\n",
       "                        <td id=\"T_46fac7c2_0f7d_11eb_a0d6_00e0201808a0row1_col5\" class=\"data row1 col5\" >0.6973</td>\n",
       "                        <td id=\"T_46fac7c2_0f7d_11eb_a0d6_00e0201808a0row1_col6\" class=\"data row1 col6\" >0.6121</td>\n",
       "                        <td id=\"T_46fac7c2_0f7d_11eb_a0d6_00e0201808a0row1_col7\" class=\"data row1 col7\" >0.6167</td>\n",
       "                        <td id=\"T_46fac7c2_0f7d_11eb_a0d6_00e0201808a0row1_col8\" class=\"data row1 col8\" >10.7642</td>\n",
       "            </tr>\n",
       "            <tr>\n",
       "                        <th id=\"T_46fac7c2_0f7d_11eb_a0d6_00e0201808a0level0_row2\" class=\"row_heading level0 row2\" >2</th>\n",
       "                        <td id=\"T_46fac7c2_0f7d_11eb_a0d6_00e0201808a0row2_col0\" class=\"data row2 col0\" >Extreme Gradient Boosting</td>\n",
       "                        <td id=\"T_46fac7c2_0f7d_11eb_a0d6_00e0201808a0row2_col1\" class=\"data row2 col1\" >0.8634</td>\n",
       "                        <td id=\"T_46fac7c2_0f7d_11eb_a0d6_00e0201808a0row2_col2\" class=\"data row2 col2\" >0.9202</td>\n",
       "                        <td id=\"T_46fac7c2_0f7d_11eb_a0d6_00e0201808a0row2_col3\" class=\"data row2 col3\" >0.6462</td>\n",
       "                        <td id=\"T_46fac7c2_0f7d_11eb_a0d6_00e0201808a0row2_col4\" class=\"data row2 col4\" >0.7551</td>\n",
       "                        <td id=\"T_46fac7c2_0f7d_11eb_a0d6_00e0201808a0row2_col5\" class=\"data row2 col5\" >0.6961</td>\n",
       "                        <td id=\"T_46fac7c2_0f7d_11eb_a0d6_00e0201808a0row2_col6\" class=\"data row2 col6\" >0.6087</td>\n",
       "                        <td id=\"T_46fac7c2_0f7d_11eb_a0d6_00e0201808a0row2_col7\" class=\"data row2 col7\" >0.6120</td>\n",
       "                        <td id=\"T_46fac7c2_0f7d_11eb_a0d6_00e0201808a0row2_col8\" class=\"data row2 col8\" >2.0787</td>\n",
       "            </tr>\n",
       "            <tr>\n",
       "                        <th id=\"T_46fac7c2_0f7d_11eb_a0d6_00e0201808a0level0_row3\" class=\"row_heading level0 row3\" >3</th>\n",
       "                        <td id=\"T_46fac7c2_0f7d_11eb_a0d6_00e0201808a0row3_col0\" class=\"data row3 col0\" >Gradient Boosting Classifier</td>\n",
       "                        <td id=\"T_46fac7c2_0f7d_11eb_a0d6_00e0201808a0row3_col1\" class=\"data row3 col1\" >0.8626</td>\n",
       "                        <td id=\"T_46fac7c2_0f7d_11eb_a0d6_00e0201808a0row3_col2\" class=\"data row3 col2\" >0.9185</td>\n",
       "                        <td id=\"T_46fac7c2_0f7d_11eb_a0d6_00e0201808a0row3_col3\" class=\"data row3 col3\" >0.6050</td>\n",
       "                        <td id=\"T_46fac7c2_0f7d_11eb_a0d6_00e0201808a0row3_col4\" class=\"data row3 col4\" >0.7782</td>\n",
       "                        <td id=\"T_46fac7c2_0f7d_11eb_a0d6_00e0201808a0row3_col5\" class=\"data row3 col5\" >0.6805</td>\n",
       "                        <td id=\"T_46fac7c2_0f7d_11eb_a0d6_00e0201808a0row3_col6\" class=\"data row3 col6\" >0.5947</td>\n",
       "                        <td id=\"T_46fac7c2_0f7d_11eb_a0d6_00e0201808a0row3_col7\" class=\"data row3 col7\" >0.6026</td>\n",
       "                        <td id=\"T_46fac7c2_0f7d_11eb_a0d6_00e0201808a0row3_col8\" class=\"data row3 col8\" >1.9831</td>\n",
       "            </tr>\n",
       "            <tr>\n",
       "                        <th id=\"T_46fac7c2_0f7d_11eb_a0d6_00e0201808a0level0_row4\" class=\"row_heading level0 row4\" >4</th>\n",
       "                        <td id=\"T_46fac7c2_0f7d_11eb_a0d6_00e0201808a0row4_col0\" class=\"data row4 col0\" >Ada Boost Classifier</td>\n",
       "                        <td id=\"T_46fac7c2_0f7d_11eb_a0d6_00e0201808a0row4_col1\" class=\"data row4 col1\" >0.8564</td>\n",
       "                        <td id=\"T_46fac7c2_0f7d_11eb_a0d6_00e0201808a0row4_col2\" class=\"data row4 col2\" >0.9118</td>\n",
       "                        <td id=\"T_46fac7c2_0f7d_11eb_a0d6_00e0201808a0row4_col3\" class=\"data row4 col3\" >0.6248</td>\n",
       "                        <td id=\"T_46fac7c2_0f7d_11eb_a0d6_00e0201808a0row4_col4\" class=\"data row4 col4\" >0.7414</td>\n",
       "                        <td id=\"T_46fac7c2_0f7d_11eb_a0d6_00e0201808a0row4_col5\" class=\"data row4 col5\" >0.6780</td>\n",
       "                        <td id=\"T_46fac7c2_0f7d_11eb_a0d6_00e0201808a0row4_col6\" class=\"data row4 col6\" >0.5864</td>\n",
       "                        <td id=\"T_46fac7c2_0f7d_11eb_a0d6_00e0201808a0row4_col7\" class=\"data row4 col7\" >0.5901</td>\n",
       "                        <td id=\"T_46fac7c2_0f7d_11eb_a0d6_00e0201808a0row4_col8\" class=\"data row4 col8\" >0.7833</td>\n",
       "            </tr>\n",
       "            <tr>\n",
       "                        <th id=\"T_46fac7c2_0f7d_11eb_a0d6_00e0201808a0level0_row5\" class=\"row_heading level0 row5\" >5</th>\n",
       "                        <td id=\"T_46fac7c2_0f7d_11eb_a0d6_00e0201808a0row5_col0\" class=\"data row5 col0\" >Linear Discriminant Analysis</td>\n",
       "                        <td id=\"T_46fac7c2_0f7d_11eb_a0d6_00e0201808a0row5_col1\" class=\"data row5 col1\" >0.8460</td>\n",
       "                        <td id=\"T_46fac7c2_0f7d_11eb_a0d6_00e0201808a0row5_col2\" class=\"data row5 col2\" >0.9000</td>\n",
       "                        <td id=\"T_46fac7c2_0f7d_11eb_a0d6_00e0201808a0row5_col3\" class=\"data row5 col3\" >0.5927</td>\n",
       "                        <td id=\"T_46fac7c2_0f7d_11eb_a0d6_00e0201808a0row5_col4\" class=\"data row5 col4\" >0.7216</td>\n",
       "                        <td id=\"T_46fac7c2_0f7d_11eb_a0d6_00e0201808a0row5_col5\" class=\"data row5 col5\" >0.6504</td>\n",
       "                        <td id=\"T_46fac7c2_0f7d_11eb_a0d6_00e0201808a0row5_col6\" class=\"data row5 col6\" >0.5529</td>\n",
       "                        <td id=\"T_46fac7c2_0f7d_11eb_a0d6_00e0201808a0row5_col7\" class=\"data row5 col7\" >0.5576</td>\n",
       "                        <td id=\"T_46fac7c2_0f7d_11eb_a0d6_00e0201808a0row5_col8\" class=\"data row5 col8\" >0.1812</td>\n",
       "            </tr>\n",
       "            <tr>\n",
       "                        <th id=\"T_46fac7c2_0f7d_11eb_a0d6_00e0201808a0level0_row6\" class=\"row_heading level0 row6\" >6</th>\n",
       "                        <td id=\"T_46fac7c2_0f7d_11eb_a0d6_00e0201808a0row6_col0\" class=\"data row6 col0\" >Extra Trees Classifier</td>\n",
       "                        <td id=\"T_46fac7c2_0f7d_11eb_a0d6_00e0201808a0row6_col1\" class=\"data row6 col1\" >0.8366</td>\n",
       "                        <td id=\"T_46fac7c2_0f7d_11eb_a0d6_00e0201808a0row6_col2\" class=\"data row6 col2\" >0.8835</td>\n",
       "                        <td id=\"T_46fac7c2_0f7d_11eb_a0d6_00e0201808a0row6_col3\" class=\"data row6 col3\" >0.6031</td>\n",
       "                        <td id=\"T_46fac7c2_0f7d_11eb_a0d6_00e0201808a0row6_col4\" class=\"data row6 col4\" >0.6848</td>\n",
       "                        <td id=\"T_46fac7c2_0f7d_11eb_a0d6_00e0201808a0row6_col5\" class=\"data row6 col5\" >0.6411</td>\n",
       "                        <td id=\"T_46fac7c2_0f7d_11eb_a0d6_00e0201808a0row6_col6\" class=\"data row6 col6\" >0.5359</td>\n",
       "                        <td id=\"T_46fac7c2_0f7d_11eb_a0d6_00e0201808a0row6_col7\" class=\"data row6 col7\" >0.5378</td>\n",
       "                        <td id=\"T_46fac7c2_0f7d_11eb_a0d6_00e0201808a0row6_col8\" class=\"data row6 col8\" >0.5204</td>\n",
       "            </tr>\n",
       "            <tr>\n",
       "                        <th id=\"T_46fac7c2_0f7d_11eb_a0d6_00e0201808a0level0_row7\" class=\"row_heading level0 row7\" >7</th>\n",
       "                        <td id=\"T_46fac7c2_0f7d_11eb_a0d6_00e0201808a0row7_col0\" class=\"data row7 col0\" >Random Forest Classifier</td>\n",
       "                        <td id=\"T_46fac7c2_0f7d_11eb_a0d6_00e0201808a0row7_col1\" class=\"data row7 col1\" >0.8390</td>\n",
       "                        <td id=\"T_46fac7c2_0f7d_11eb_a0d6_00e0201808a0row7_col2\" class=\"data row7 col2\" >0.8759</td>\n",
       "                        <td id=\"T_46fac7c2_0f7d_11eb_a0d6_00e0201808a0row7_col3\" class=\"data row7 col3\" >0.5549</td>\n",
       "                        <td id=\"T_46fac7c2_0f7d_11eb_a0d6_00e0201808a0row7_col4\" class=\"data row7 col4\" >0.7178</td>\n",
       "                        <td id=\"T_46fac7c2_0f7d_11eb_a0d6_00e0201808a0row7_col5\" class=\"data row7 col5\" >0.6253</td>\n",
       "                        <td id=\"T_46fac7c2_0f7d_11eb_a0d6_00e0201808a0row7_col6\" class=\"data row7 col6\" >0.5249</td>\n",
       "                        <td id=\"T_46fac7c2_0f7d_11eb_a0d6_00e0201808a0row7_col7\" class=\"data row7 col7\" >0.5324</td>\n",
       "                        <td id=\"T_46fac7c2_0f7d_11eb_a0d6_00e0201808a0row7_col8\" class=\"data row7 col8\" >0.1264</td>\n",
       "            </tr>\n",
       "    </tbody></table>"
      ],
      "text/plain": [
       "<pandas.io.formats.style.Styler at 0x2b0e39f2648>"
      ]
     },
     "metadata": {},
     "output_type": "display_data"
    }
   ],
   "source": [
    "best_3 = compare_models(sort = 'F1', n_select = 3\n",
    "                       ,exclude=['lr', 'knn', 'nb', 'dt', 'svm', 'rbfsvm', 'ridge','qda']\n",
    "                       #,exclude=['lr', 'knn', 'nb', 'dt', 'svm', 'rbfsvm', 'gpc', 'mlp', 'ridge', 'rf', 'qda', 'ada', 'xgboost']\n",
    "                       )"
   ]
  },
  {
   "cell_type": "code",
   "execution_count": 29,
   "metadata": {},
   "outputs": [
    {
     "data": {
      "text/html": [
       "<style  type=\"text/css\" >\n",
       "#T_8c154290_0f7d_11eb_8612_00e0201808a0row5_col0,#T_8c154290_0f7d_11eb_8612_00e0201808a0row5_col1,#T_8c154290_0f7d_11eb_8612_00e0201808a0row5_col2,#T_8c154290_0f7d_11eb_8612_00e0201808a0row5_col3,#T_8c154290_0f7d_11eb_8612_00e0201808a0row5_col4,#T_8c154290_0f7d_11eb_8612_00e0201808a0row5_col5,#T_8c154290_0f7d_11eb_8612_00e0201808a0row5_col6{\n",
       "            background:  yellow;\n",
       "        }</style><table id=\"T_8c154290_0f7d_11eb_8612_00e0201808a0\" ><thead>    <tr>        <th class=\"blank level0\" ></th>        <th class=\"col_heading level0 col0\" >Accuracy</th>        <th class=\"col_heading level0 col1\" >AUC</th>        <th class=\"col_heading level0 col2\" >Recall</th>        <th class=\"col_heading level0 col3\" >Prec.</th>        <th class=\"col_heading level0 col4\" >F1</th>        <th class=\"col_heading level0 col5\" >Kappa</th>        <th class=\"col_heading level0 col6\" >MCC</th>    </tr></thead><tbody>\n",
       "                <tr>\n",
       "                        <th id=\"T_8c154290_0f7d_11eb_8612_00e0201808a0level0_row0\" class=\"row_heading level0 row0\" >0</th>\n",
       "                        <td id=\"T_8c154290_0f7d_11eb_8612_00e0201808a0row0_col0\" class=\"data row0 col0\" >0.8660</td>\n",
       "                        <td id=\"T_8c154290_0f7d_11eb_8612_00e0201808a0row0_col1\" class=\"data row0 col1\" >0.9212</td>\n",
       "                        <td id=\"T_8c154290_0f7d_11eb_8612_00e0201808a0row0_col2\" class=\"data row0 col2\" >0.6375</td>\n",
       "                        <td id=\"T_8c154290_0f7d_11eb_8612_00e0201808a0row0_col3\" class=\"data row0 col3\" >0.7695</td>\n",
       "                        <td id=\"T_8c154290_0f7d_11eb_8612_00e0201808a0row0_col4\" class=\"data row0 col4\" >0.6973</td>\n",
       "                        <td id=\"T_8c154290_0f7d_11eb_8612_00e0201808a0row0_col5\" class=\"data row0 col5\" >0.6123</td>\n",
       "                        <td id=\"T_8c154290_0f7d_11eb_8612_00e0201808a0row0_col6\" class=\"data row0 col6\" >0.6168</td>\n",
       "            </tr>\n",
       "            <tr>\n",
       "                        <th id=\"T_8c154290_0f7d_11eb_8612_00e0201808a0level0_row1\" class=\"row_heading level0 row1\" >1</th>\n",
       "                        <td id=\"T_8c154290_0f7d_11eb_8612_00e0201808a0row1_col0\" class=\"data row1 col0\" >0.8602</td>\n",
       "                        <td id=\"T_8c154290_0f7d_11eb_8612_00e0201808a0row1_col1\" class=\"data row1 col1\" >0.9158</td>\n",
       "                        <td id=\"T_8c154290_0f7d_11eb_8612_00e0201808a0row1_col2\" class=\"data row1 col2\" >0.6375</td>\n",
       "                        <td id=\"T_8c154290_0f7d_11eb_8612_00e0201808a0row1_col3\" class=\"data row1 col3\" >0.7476</td>\n",
       "                        <td id=\"T_8c154290_0f7d_11eb_8612_00e0201808a0row1_col4\" class=\"data row1 col4\" >0.6882</td>\n",
       "                        <td id=\"T_8c154290_0f7d_11eb_8612_00e0201808a0row1_col5\" class=\"data row1 col5\" >0.5988</td>\n",
       "                        <td id=\"T_8c154290_0f7d_11eb_8612_00e0201808a0row1_col6\" class=\"data row1 col6\" >0.6020</td>\n",
       "            </tr>\n",
       "            <tr>\n",
       "                        <th id=\"T_8c154290_0f7d_11eb_8612_00e0201808a0level0_row2\" class=\"row_heading level0 row2\" >2</th>\n",
       "                        <td id=\"T_8c154290_0f7d_11eb_8612_00e0201808a0row2_col0\" class=\"data row2 col0\" >0.8566</td>\n",
       "                        <td id=\"T_8c154290_0f7d_11eb_8612_00e0201808a0row2_col1\" class=\"data row2 col1\" >0.9217</td>\n",
       "                        <td id=\"T_8c154290_0f7d_11eb_8612_00e0201808a0row2_col2\" class=\"data row2 col2\" >0.6230</td>\n",
       "                        <td id=\"T_8c154290_0f7d_11eb_8612_00e0201808a0row2_col3\" class=\"data row2 col3\" >0.7432</td>\n",
       "                        <td id=\"T_8c154290_0f7d_11eb_8612_00e0201808a0row2_col4\" class=\"data row2 col4\" >0.6778</td>\n",
       "                        <td id=\"T_8c154290_0f7d_11eb_8612_00e0201808a0row2_col5\" class=\"data row2 col5\" >0.5865</td>\n",
       "                        <td id=\"T_8c154290_0f7d_11eb_8612_00e0201808a0row2_col6\" class=\"data row2 col6\" >0.5903</td>\n",
       "            </tr>\n",
       "            <tr>\n",
       "                        <th id=\"T_8c154290_0f7d_11eb_8612_00e0201808a0level0_row3\" class=\"row_heading level0 row3\" >3</th>\n",
       "                        <td id=\"T_8c154290_0f7d_11eb_8612_00e0201808a0row3_col0\" class=\"data row3 col0\" >0.8762</td>\n",
       "                        <td id=\"T_8c154290_0f7d_11eb_8612_00e0201808a0row3_col1\" class=\"data row3 col1\" >0.9297</td>\n",
       "                        <td id=\"T_8c154290_0f7d_11eb_8612_00e0201808a0row3_col2\" class=\"data row3 col2\" >0.6451</td>\n",
       "                        <td id=\"T_8c154290_0f7d_11eb_8612_00e0201808a0row3_col3\" class=\"data row3 col3\" >0.8040</td>\n",
       "                        <td id=\"T_8c154290_0f7d_11eb_8612_00e0201808a0row3_col4\" class=\"data row3 col4\" >0.7158</td>\n",
       "                        <td id=\"T_8c154290_0f7d_11eb_8612_00e0201808a0row3_col5\" class=\"data row3 col5\" >0.6379</td>\n",
       "                        <td id=\"T_8c154290_0f7d_11eb_8612_00e0201808a0row3_col6\" class=\"data row3 col6\" >0.6442</td>\n",
       "            </tr>\n",
       "            <tr>\n",
       "                        <th id=\"T_8c154290_0f7d_11eb_8612_00e0201808a0level0_row4\" class=\"row_heading level0 row4\" >4</th>\n",
       "                        <td id=\"T_8c154290_0f7d_11eb_8612_00e0201808a0row4_col0\" class=\"data row4 col0\" >0.8687</td>\n",
       "                        <td id=\"T_8c154290_0f7d_11eb_8612_00e0201808a0row4_col1\" class=\"data row4 col1\" >0.9246</td>\n",
       "                        <td id=\"T_8c154290_0f7d_11eb_8612_00e0201808a0row4_col2\" class=\"data row4 col2\" >0.6553</td>\n",
       "                        <td id=\"T_8c154290_0f7d_11eb_8612_00e0201808a0row4_col3\" class=\"data row4 col3\" >0.7685</td>\n",
       "                        <td id=\"T_8c154290_0f7d_11eb_8612_00e0201808a0row4_col4\" class=\"data row4 col4\" >0.7074</td>\n",
       "                        <td id=\"T_8c154290_0f7d_11eb_8612_00e0201808a0row4_col5\" class=\"data row4 col5\" >0.6235</td>\n",
       "                        <td id=\"T_8c154290_0f7d_11eb_8612_00e0201808a0row4_col6\" class=\"data row4 col6\" >0.6268</td>\n",
       "            </tr>\n",
       "            <tr>\n",
       "                        <th id=\"T_8c154290_0f7d_11eb_8612_00e0201808a0level0_row5\" class=\"row_heading level0 row5\" >Mean</th>\n",
       "                        <td id=\"T_8c154290_0f7d_11eb_8612_00e0201808a0row5_col0\" class=\"data row5 col0\" >0.8655</td>\n",
       "                        <td id=\"T_8c154290_0f7d_11eb_8612_00e0201808a0row5_col1\" class=\"data row5 col1\" >0.9226</td>\n",
       "                        <td id=\"T_8c154290_0f7d_11eb_8612_00e0201808a0row5_col2\" class=\"data row5 col2\" >0.6397</td>\n",
       "                        <td id=\"T_8c154290_0f7d_11eb_8612_00e0201808a0row5_col3\" class=\"data row5 col3\" >0.7666</td>\n",
       "                        <td id=\"T_8c154290_0f7d_11eb_8612_00e0201808a0row5_col4\" class=\"data row5 col4\" >0.6973</td>\n",
       "                        <td id=\"T_8c154290_0f7d_11eb_8612_00e0201808a0row5_col5\" class=\"data row5 col5\" >0.6118</td>\n",
       "                        <td id=\"T_8c154290_0f7d_11eb_8612_00e0201808a0row5_col6\" class=\"data row5 col6\" >0.6160</td>\n",
       "            </tr>\n",
       "            <tr>\n",
       "                        <th id=\"T_8c154290_0f7d_11eb_8612_00e0201808a0level0_row6\" class=\"row_heading level0 row6\" >SD</th>\n",
       "                        <td id=\"T_8c154290_0f7d_11eb_8612_00e0201808a0row6_col0\" class=\"data row6 col0\" >0.0068</td>\n",
       "                        <td id=\"T_8c154290_0f7d_11eb_8612_00e0201808a0row6_col1\" class=\"data row6 col1\" >0.0045</td>\n",
       "                        <td id=\"T_8c154290_0f7d_11eb_8612_00e0201808a0row6_col2\" class=\"data row6 col2\" >0.0106</td>\n",
       "                        <td id=\"T_8c154290_0f7d_11eb_8612_00e0201808a0row6_col3\" class=\"data row6 col3\" >0.0215</td>\n",
       "                        <td id=\"T_8c154290_0f7d_11eb_8612_00e0201808a0row6_col4\" class=\"data row6 col4\" >0.0135</td>\n",
       "                        <td id=\"T_8c154290_0f7d_11eb_8612_00e0201808a0row6_col5\" class=\"data row6 col5\" >0.0180</td>\n",
       "                        <td id=\"T_8c154290_0f7d_11eb_8612_00e0201808a0row6_col6\" class=\"data row6 col6\" >0.0188</td>\n",
       "            </tr>\n",
       "    </tbody></table>"
      ],
      "text/plain": [
       "<pandas.io.formats.style.Styler at 0x2b0e9afe908>"
      ]
     },
     "metadata": {},
     "output_type": "display_data"
    }
   ],
   "source": [
    "blended = blend_models(estimator_list = best_3, fold = 5, method = 'soft')"
   ]
  },
  {
   "cell_type": "code",
   "execution_count": 30,
   "metadata": {},
   "outputs": [
    {
     "data": {
      "text/html": [
       "<div>\n",
       "<style scoped>\n",
       "    .dataframe tbody tr th:only-of-type {\n",
       "        vertical-align: middle;\n",
       "    }\n",
       "\n",
       "    .dataframe tbody tr th {\n",
       "        vertical-align: top;\n",
       "    }\n",
       "\n",
       "    .dataframe thead th {\n",
       "        text-align: right;\n",
       "    }\n",
       "</style>\n",
       "<table border=\"1\" class=\"dataframe\">\n",
       "  <thead>\n",
       "    <tr style=\"text-align: right;\">\n",
       "      <th></th>\n",
       "      <th>Model</th>\n",
       "      <th>Accuracy</th>\n",
       "      <th>AUC</th>\n",
       "      <th>Recall</th>\n",
       "      <th>Prec.</th>\n",
       "      <th>F1</th>\n",
       "      <th>Kappa</th>\n",
       "      <th>MCC</th>\n",
       "    </tr>\n",
       "  </thead>\n",
       "  <tbody>\n",
       "    <tr>\n",
       "      <th>0</th>\n",
       "      <td>Voting Classifier</td>\n",
       "      <td>0.8726</td>\n",
       "      <td>0.9293</td>\n",
       "      <td>0.6586</td>\n",
       "      <td>0.7807</td>\n",
       "      <td>0.7145</td>\n",
       "      <td>0.6332</td>\n",
       "      <td>0.637</td>\n",
       "    </tr>\n",
       "  </tbody>\n",
       "</table>\n",
       "</div>"
      ],
      "text/plain": [
       "               Model  Accuracy     AUC  Recall   Prec.      F1   Kappa    MCC\n",
       "0  Voting Classifier    0.8726  0.9293  0.6586  0.7807  0.7145  0.6332  0.637"
      ]
     },
     "metadata": {},
     "output_type": "display_data"
    }
   ],
   "source": [
    "pred_holdout = predict_model(blended)"
   ]
  },
  {
   "cell_type": "code",
   "execution_count": 31,
   "metadata": {},
   "outputs": [
    {
     "name": "stdout",
     "output_type": "stream",
     "text": [
      "Wall time: 3min 5s\n"
     ]
    }
   ],
   "source": [
    "%%time\n",
    "final_model = finalize_model(blended)"
   ]
  },
  {
   "cell_type": "code",
   "execution_count": 32,
   "metadata": {},
   "outputs": [],
   "source": [
    "predictions = predict_model(final_model, data = test)"
   ]
  },
  {
   "cell_type": "markdown",
   "metadata": {},
   "source": [
    "# 4. 예측"
   ]
  },
  {
   "cell_type": "code",
   "execution_count": 33,
   "metadata": {},
   "outputs": [],
   "source": [
    "submission['prediction'] = predictions['Label']"
   ]
  },
  {
   "cell_type": "markdown",
   "metadata": {},
   "source": [
    "# 5. 제출"
   ]
  },
  {
   "cell_type": "code",
   "execution_count": 34,
   "metadata": {},
   "outputs": [],
   "source": [
    "submission.to_csv('output/20201016-4.csv')"
   ]
  },
  {
   "cell_type": "code",
   "execution_count": null,
   "metadata": {},
   "outputs": [],
   "source": []
  },
  {
   "cell_type": "code",
   "execution_count": 35,
   "metadata": {},
   "outputs": [
    {
     "data": {
      "text/html": [
       "<style  type=\"text/css\" >\n",
       "#T_0ab540dc_0f7e_11eb_a386_00e0201808a0row10_col0,#T_0ab540dc_0f7e_11eb_a386_00e0201808a0row10_col1,#T_0ab540dc_0f7e_11eb_a386_00e0201808a0row10_col2,#T_0ab540dc_0f7e_11eb_a386_00e0201808a0row10_col3,#T_0ab540dc_0f7e_11eb_a386_00e0201808a0row10_col4,#T_0ab540dc_0f7e_11eb_a386_00e0201808a0row10_col5,#T_0ab540dc_0f7e_11eb_a386_00e0201808a0row10_col6{\n",
       "            background:  yellow;\n",
       "        }</style><table id=\"T_0ab540dc_0f7e_11eb_a386_00e0201808a0\" ><thead>    <tr>        <th class=\"blank level0\" ></th>        <th class=\"col_heading level0 col0\" >Accuracy</th>        <th class=\"col_heading level0 col1\" >AUC</th>        <th class=\"col_heading level0 col2\" >Recall</th>        <th class=\"col_heading level0 col3\" >Prec.</th>        <th class=\"col_heading level0 col4\" >F1</th>        <th class=\"col_heading level0 col5\" >Kappa</th>        <th class=\"col_heading level0 col6\" >MCC</th>    </tr></thead><tbody>\n",
       "                <tr>\n",
       "                        <th id=\"T_0ab540dc_0f7e_11eb_a386_00e0201808a0level0_row0\" class=\"row_heading level0 row0\" >0</th>\n",
       "                        <td id=\"T_0ab540dc_0f7e_11eb_a386_00e0201808a0row0_col0\" class=\"data row0 col0\" >0.8590</td>\n",
       "                        <td id=\"T_0ab540dc_0f7e_11eb_a386_00e0201808a0row0_col1\" class=\"data row0 col1\" >0.9166</td>\n",
       "                        <td id=\"T_0ab540dc_0f7e_11eb_a386_00e0201808a0row0_col2\" class=\"data row0 col2\" >0.5858</td>\n",
       "                        <td id=\"T_0ab540dc_0f7e_11eb_a386_00e0201808a0row0_col3\" class=\"data row0 col3\" >0.7768</td>\n",
       "                        <td id=\"T_0ab540dc_0f7e_11eb_a386_00e0201808a0row0_col4\" class=\"data row0 col4\" >0.6679</td>\n",
       "                        <td id=\"T_0ab540dc_0f7e_11eb_a386_00e0201808a0row0_col5\" class=\"data row0 col5\" >0.5807</td>\n",
       "                        <td id=\"T_0ab540dc_0f7e_11eb_a386_00e0201808a0row0_col6\" class=\"data row0 col6\" >0.5900</td>\n",
       "            </tr>\n",
       "            <tr>\n",
       "                        <th id=\"T_0ab540dc_0f7e_11eb_a386_00e0201808a0level0_row1\" class=\"row_heading level0 row1\" >1</th>\n",
       "                        <td id=\"T_0ab540dc_0f7e_11eb_a386_00e0201808a0row1_col0\" class=\"data row1 col0\" >0.8606</td>\n",
       "                        <td id=\"T_0ab540dc_0f7e_11eb_a386_00e0201808a0row1_col1\" class=\"data row1 col1\" >0.9143</td>\n",
       "                        <td id=\"T_0ab540dc_0f7e_11eb_a386_00e0201808a0row1_col2\" class=\"data row1 col2\" >0.6278</td>\n",
       "                        <td id=\"T_0ab540dc_0f7e_11eb_a386_00e0201808a0row1_col3\" class=\"data row1 col3\" >0.7549</td>\n",
       "                        <td id=\"T_0ab540dc_0f7e_11eb_a386_00e0201808a0row1_col4\" class=\"data row1 col4\" >0.6855</td>\n",
       "                        <td id=\"T_0ab540dc_0f7e_11eb_a386_00e0201808a0row1_col5\" class=\"data row1 col5\" >0.5969</td>\n",
       "                        <td id=\"T_0ab540dc_0f7e_11eb_a386_00e0201808a0row1_col6\" class=\"data row1 col6\" >0.6011</td>\n",
       "            </tr>\n",
       "            <tr>\n",
       "                        <th id=\"T_0ab540dc_0f7e_11eb_a386_00e0201808a0level0_row2\" class=\"row_heading level0 row2\" >2</th>\n",
       "                        <td id=\"T_0ab540dc_0f7e_11eb_a386_00e0201808a0row2_col0\" class=\"data row2 col0\" >0.8583</td>\n",
       "                        <td id=\"T_0ab540dc_0f7e_11eb_a386_00e0201808a0row2_col1\" class=\"data row2 col1\" >0.9103</td>\n",
       "                        <td id=\"T_0ab540dc_0f7e_11eb_a386_00e0201808a0row2_col2\" class=\"data row2 col2\" >0.6181</td>\n",
       "                        <td id=\"T_0ab540dc_0f7e_11eb_a386_00e0201808a0row2_col3\" class=\"data row2 col3\" >0.7520</td>\n",
       "                        <td id=\"T_0ab540dc_0f7e_11eb_a386_00e0201808a0row2_col4\" class=\"data row2 col4\" >0.6785</td>\n",
       "                        <td id=\"T_0ab540dc_0f7e_11eb_a386_00e0201808a0row2_col5\" class=\"data row2 col5\" >0.5887</td>\n",
       "                        <td id=\"T_0ab540dc_0f7e_11eb_a386_00e0201808a0row2_col6\" class=\"data row2 col6\" >0.5934</td>\n",
       "            </tr>\n",
       "            <tr>\n",
       "                        <th id=\"T_0ab540dc_0f7e_11eb_a386_00e0201808a0level0_row3\" class=\"row_heading level0 row3\" >3</th>\n",
       "                        <td id=\"T_0ab540dc_0f7e_11eb_a386_00e0201808a0row3_col0\" class=\"data row3 col0\" >0.8589</td>\n",
       "                        <td id=\"T_0ab540dc_0f7e_11eb_a386_00e0201808a0row3_col1\" class=\"data row3 col1\" >0.9069</td>\n",
       "                        <td id=\"T_0ab540dc_0f7e_11eb_a386_00e0201808a0row3_col2\" class=\"data row3 col2\" >0.5974</td>\n",
       "                        <td id=\"T_0ab540dc_0f7e_11eb_a386_00e0201808a0row3_col3\" class=\"data row3 col3\" >0.7667</td>\n",
       "                        <td id=\"T_0ab540dc_0f7e_11eb_a386_00e0201808a0row3_col4\" class=\"data row3 col4\" >0.6715</td>\n",
       "                        <td id=\"T_0ab540dc_0f7e_11eb_a386_00e0201808a0row3_col5\" class=\"data row3 col5\" >0.5835</td>\n",
       "                        <td id=\"T_0ab540dc_0f7e_11eb_a386_00e0201808a0row3_col6\" class=\"data row3 col6\" >0.5908</td>\n",
       "            </tr>\n",
       "            <tr>\n",
       "                        <th id=\"T_0ab540dc_0f7e_11eb_a386_00e0201808a0level0_row4\" class=\"row_heading level0 row4\" >4</th>\n",
       "                        <td id=\"T_0ab540dc_0f7e_11eb_a386_00e0201808a0row4_col0\" class=\"data row4 col0\" >0.8558</td>\n",
       "                        <td id=\"T_0ab540dc_0f7e_11eb_a386_00e0201808a0row4_col1\" class=\"data row4 col1\" >0.9106</td>\n",
       "                        <td id=\"T_0ab540dc_0f7e_11eb_a386_00e0201808a0row4_col2\" class=\"data row4 col2\" >0.5922</td>\n",
       "                        <td id=\"T_0ab540dc_0f7e_11eb_a386_00e0201808a0row4_col3\" class=\"data row4 col3\" >0.7593</td>\n",
       "                        <td id=\"T_0ab540dc_0f7e_11eb_a386_00e0201808a0row4_col4\" class=\"data row4 col4\" >0.6655</td>\n",
       "                        <td id=\"T_0ab540dc_0f7e_11eb_a386_00e0201808a0row4_col5\" class=\"data row4 col5\" >0.5753</td>\n",
       "                        <td id=\"T_0ab540dc_0f7e_11eb_a386_00e0201808a0row4_col6\" class=\"data row4 col6\" >0.5825</td>\n",
       "            </tr>\n",
       "            <tr>\n",
       "                        <th id=\"T_0ab540dc_0f7e_11eb_a386_00e0201808a0level0_row5\" class=\"row_heading level0 row5\" >5</th>\n",
       "                        <td id=\"T_0ab540dc_0f7e_11eb_a386_00e0201808a0row5_col0\" class=\"data row5 col0\" >0.8652</td>\n",
       "                        <td id=\"T_0ab540dc_0f7e_11eb_a386_00e0201808a0row5_col1\" class=\"data row5 col1\" >0.9287</td>\n",
       "                        <td id=\"T_0ab540dc_0f7e_11eb_a386_00e0201808a0row5_col2\" class=\"data row5 col2\" >0.6019</td>\n",
       "                        <td id=\"T_0ab540dc_0f7e_11eb_a386_00e0201808a0row5_col3\" class=\"data row5 col3\" >0.7915</td>\n",
       "                        <td id=\"T_0ab540dc_0f7e_11eb_a386_00e0201808a0row5_col4\" class=\"data row5 col4\" >0.6838</td>\n",
       "                        <td id=\"T_0ab540dc_0f7e_11eb_a386_00e0201808a0row5_col5\" class=\"data row5 col5\" >0.6002</td>\n",
       "                        <td id=\"T_0ab540dc_0f7e_11eb_a386_00e0201808a0row5_col6\" class=\"data row5 col6\" >0.6093</td>\n",
       "            </tr>\n",
       "            <tr>\n",
       "                        <th id=\"T_0ab540dc_0f7e_11eb_a386_00e0201808a0level0_row6\" class=\"row_heading level0 row6\" >6</th>\n",
       "                        <td id=\"T_0ab540dc_0f7e_11eb_a386_00e0201808a0row6_col0\" class=\"data row6 col0\" >0.8707</td>\n",
       "                        <td id=\"T_0ab540dc_0f7e_11eb_a386_00e0201808a0row6_col1\" class=\"data row6 col1\" >0.9377</td>\n",
       "                        <td id=\"T_0ab540dc_0f7e_11eb_a386_00e0201808a0row6_col2\" class=\"data row6 col2\" >0.5987</td>\n",
       "                        <td id=\"T_0ab540dc_0f7e_11eb_a386_00e0201808a0row6_col3\" class=\"data row6 col3\" >0.8186</td>\n",
       "                        <td id=\"T_0ab540dc_0f7e_11eb_a386_00e0201808a0row6_col4\" class=\"data row6 col4\" >0.6916</td>\n",
       "                        <td id=\"T_0ab540dc_0f7e_11eb_a386_00e0201808a0row6_col5\" class=\"data row6 col5\" >0.6123</td>\n",
       "                        <td id=\"T_0ab540dc_0f7e_11eb_a386_00e0201808a0row6_col6\" class=\"data row6 col6\" >0.6242</td>\n",
       "            </tr>\n",
       "            <tr>\n",
       "                        <th id=\"T_0ab540dc_0f7e_11eb_a386_00e0201808a0level0_row7\" class=\"row_heading level0 row7\" >7</th>\n",
       "                        <td id=\"T_0ab540dc_0f7e_11eb_a386_00e0201808a0row7_col0\" class=\"data row7 col0\" >0.8589</td>\n",
       "                        <td id=\"T_0ab540dc_0f7e_11eb_a386_00e0201808a0row7_col1\" class=\"data row7 col1\" >0.9195</td>\n",
       "                        <td id=\"T_0ab540dc_0f7e_11eb_a386_00e0201808a0row7_col2\" class=\"data row7 col2\" >0.5858</td>\n",
       "                        <td id=\"T_0ab540dc_0f7e_11eb_a386_00e0201808a0row7_col3\" class=\"data row7 col3\" >0.7768</td>\n",
       "                        <td id=\"T_0ab540dc_0f7e_11eb_a386_00e0201808a0row7_col4\" class=\"data row7 col4\" >0.6679</td>\n",
       "                        <td id=\"T_0ab540dc_0f7e_11eb_a386_00e0201808a0row7_col5\" class=\"data row7 col5\" >0.5806</td>\n",
       "                        <td id=\"T_0ab540dc_0f7e_11eb_a386_00e0201808a0row7_col6\" class=\"data row7 col6\" >0.5899</td>\n",
       "            </tr>\n",
       "            <tr>\n",
       "                        <th id=\"T_0ab540dc_0f7e_11eb_a386_00e0201808a0level0_row8\" class=\"row_heading level0 row8\" >8</th>\n",
       "                        <td id=\"T_0ab540dc_0f7e_11eb_a386_00e0201808a0row8_col0\" class=\"data row8 col0\" >0.8605</td>\n",
       "                        <td id=\"T_0ab540dc_0f7e_11eb_a386_00e0201808a0row8_col1\" class=\"data row8 col1\" >0.9212</td>\n",
       "                        <td id=\"T_0ab540dc_0f7e_11eb_a386_00e0201808a0row8_col2\" class=\"data row8 col2\" >0.5858</td>\n",
       "                        <td id=\"T_0ab540dc_0f7e_11eb_a386_00e0201808a0row8_col3\" class=\"data row8 col3\" >0.7835</td>\n",
       "                        <td id=\"T_0ab540dc_0f7e_11eb_a386_00e0201808a0row8_col4\" class=\"data row8 col4\" >0.6704</td>\n",
       "                        <td id=\"T_0ab540dc_0f7e_11eb_a386_00e0201808a0row8_col5\" class=\"data row8 col5\" >0.5842</td>\n",
       "                        <td id=\"T_0ab540dc_0f7e_11eb_a386_00e0201808a0row8_col6\" class=\"data row8 col6\" >0.5942</td>\n",
       "            </tr>\n",
       "            <tr>\n",
       "                        <th id=\"T_0ab540dc_0f7e_11eb_a386_00e0201808a0level0_row9\" class=\"row_heading level0 row9\" >9</th>\n",
       "                        <td id=\"T_0ab540dc_0f7e_11eb_a386_00e0201808a0row9_col0\" class=\"data row9 col0\" >0.8777</td>\n",
       "                        <td id=\"T_0ab540dc_0f7e_11eb_a386_00e0201808a0row9_col1\" class=\"data row9 col1\" >0.9187</td>\n",
       "                        <td id=\"T_0ab540dc_0f7e_11eb_a386_00e0201808a0row9_col2\" class=\"data row9 col2\" >0.6570</td>\n",
       "                        <td id=\"T_0ab540dc_0f7e_11eb_a386_00e0201808a0row9_col3\" class=\"data row9 col3\" >0.8024</td>\n",
       "                        <td id=\"T_0ab540dc_0f7e_11eb_a386_00e0201808a0row9_col4\" class=\"data row9 col4\" >0.7224</td>\n",
       "                        <td id=\"T_0ab540dc_0f7e_11eb_a386_00e0201808a0row9_col5\" class=\"data row9 col5\" >0.6450</td>\n",
       "                        <td id=\"T_0ab540dc_0f7e_11eb_a386_00e0201808a0row9_col6\" class=\"data row9 col6\" >0.6503</td>\n",
       "            </tr>\n",
       "            <tr>\n",
       "                        <th id=\"T_0ab540dc_0f7e_11eb_a386_00e0201808a0level0_row10\" class=\"row_heading level0 row10\" >Mean</th>\n",
       "                        <td id=\"T_0ab540dc_0f7e_11eb_a386_00e0201808a0row10_col0\" class=\"data row10 col0\" >0.8626</td>\n",
       "                        <td id=\"T_0ab540dc_0f7e_11eb_a386_00e0201808a0row10_col1\" class=\"data row10 col1\" >0.9185</td>\n",
       "                        <td id=\"T_0ab540dc_0f7e_11eb_a386_00e0201808a0row10_col2\" class=\"data row10 col2\" >0.6050</td>\n",
       "                        <td id=\"T_0ab540dc_0f7e_11eb_a386_00e0201808a0row10_col3\" class=\"data row10 col3\" >0.7782</td>\n",
       "                        <td id=\"T_0ab540dc_0f7e_11eb_a386_00e0201808a0row10_col4\" class=\"data row10 col4\" >0.6805</td>\n",
       "                        <td id=\"T_0ab540dc_0f7e_11eb_a386_00e0201808a0row10_col5\" class=\"data row10 col5\" >0.5947</td>\n",
       "                        <td id=\"T_0ab540dc_0f7e_11eb_a386_00e0201808a0row10_col6\" class=\"data row10 col6\" >0.6026</td>\n",
       "            </tr>\n",
       "            <tr>\n",
       "                        <th id=\"T_0ab540dc_0f7e_11eb_a386_00e0201808a0level0_row11\" class=\"row_heading level0 row11\" >SD</th>\n",
       "                        <td id=\"T_0ab540dc_0f7e_11eb_a386_00e0201808a0row11_col0\" class=\"data row11 col0\" >0.0064</td>\n",
       "                        <td id=\"T_0ab540dc_0f7e_11eb_a386_00e0201808a0row11_col1\" class=\"data row11 col1\" >0.0088</td>\n",
       "                        <td id=\"T_0ab540dc_0f7e_11eb_a386_00e0201808a0row11_col2\" class=\"data row11 col2\" >0.0218</td>\n",
       "                        <td id=\"T_0ab540dc_0f7e_11eb_a386_00e0201808a0row11_col3\" class=\"data row11 col3\" >0.0204</td>\n",
       "                        <td id=\"T_0ab540dc_0f7e_11eb_a386_00e0201808a0row11_col4\" class=\"data row11 col4\" >0.0163</td>\n",
       "                        <td id=\"T_0ab540dc_0f7e_11eb_a386_00e0201808a0row11_col5\" class=\"data row11 col5\" >0.0198</td>\n",
       "                        <td id=\"T_0ab540dc_0f7e_11eb_a386_00e0201808a0row11_col6\" class=\"data row11 col6\" >0.0195</td>\n",
       "            </tr>\n",
       "    </tbody></table>"
      ],
      "text/plain": [
       "<pandas.io.formats.style.Styler at 0x2b0828a5ec8>"
      ]
     },
     "metadata": {},
     "output_type": "display_data"
    }
   ],
   "source": [
    "gbc = create_model('gbc')"
   ]
  },
  {
   "cell_type": "code",
   "execution_count": 36,
   "metadata": {},
   "outputs": [
    {
     "data": {
      "image/png": "[encoded data removed]",
      "text/plain": [
       "<Figure size 800x500 with 1 Axes>"
      ]
     },
     "metadata": {
      "needs_background": "light"
     },
     "output_type": "display_data"
    }
   ],
   "source": [
    "plot_model(estimator = gbc, plot = 'feature')"
   ]
  },
  {
   "cell_type": "code",
   "execution_count": null,
   "metadata": {},
   "outputs": [],
   "source": []
  },
  {
   "cell_type": "code",
   "execution_count": 37,
   "metadata": {},
   "outputs": [
    {
     "data": {
      "text/html": [
       "<style  type=\"text/css\" >\n",
       "#T_19d6feb8_0f7e_11eb_9715_00e0201808a0row10_col0,#T_19d6feb8_0f7e_11eb_9715_00e0201808a0row10_col1,#T_19d6feb8_0f7e_11eb_9715_00e0201808a0row10_col2,#T_19d6feb8_0f7e_11eb_9715_00e0201808a0row10_col3,#T_19d6feb8_0f7e_11eb_9715_00e0201808a0row10_col4,#T_19d6feb8_0f7e_11eb_9715_00e0201808a0row10_col5,#T_19d6feb8_0f7e_11eb_9715_00e0201808a0row10_col6{\n",
       "            background:  yellow;\n",
       "        }</style><table id=\"T_19d6feb8_0f7e_11eb_9715_00e0201808a0\" ><thead>    <tr>        <th class=\"blank level0\" ></th>        <th class=\"col_heading level0 col0\" >Accuracy</th>        <th class=\"col_heading level0 col1\" >AUC</th>        <th class=\"col_heading level0 col2\" >Recall</th>        <th class=\"col_heading level0 col3\" >Prec.</th>        <th class=\"col_heading level0 col4\" >F1</th>        <th class=\"col_heading level0 col5\" >Kappa</th>        <th class=\"col_heading level0 col6\" >MCC</th>    </tr></thead><tbody>\n",
       "                <tr>\n",
       "                        <th id=\"T_19d6feb8_0f7e_11eb_9715_00e0201808a0level0_row0\" class=\"row_heading level0 row0\" >0</th>\n",
       "                        <td id=\"T_19d6feb8_0f7e_11eb_9715_00e0201808a0row0_col0\" class=\"data row0 col0\" >0.8684</td>\n",
       "                        <td id=\"T_19d6feb8_0f7e_11eb_9715_00e0201808a0row0_col1\" class=\"data row0 col1\" >0.9195</td>\n",
       "                        <td id=\"T_19d6feb8_0f7e_11eb_9715_00e0201808a0row0_col2\" class=\"data row0 col2\" >0.6343</td>\n",
       "                        <td id=\"T_19d6feb8_0f7e_11eb_9715_00e0201808a0row0_col3\" class=\"data row0 col3\" >0.7809</td>\n",
       "                        <td id=\"T_19d6feb8_0f7e_11eb_9715_00e0201808a0row0_col4\" class=\"data row0 col4\" >0.7000</td>\n",
       "                        <td id=\"T_19d6feb8_0f7e_11eb_9715_00e0201808a0row0_col5\" class=\"data row0 col5\" >0.6169</td>\n",
       "                        <td id=\"T_19d6feb8_0f7e_11eb_9715_00e0201808a0row0_col6\" class=\"data row0 col6\" >0.6224</td>\n",
       "            </tr>\n",
       "            <tr>\n",
       "                        <th id=\"T_19d6feb8_0f7e_11eb_9715_00e0201808a0level0_row1\" class=\"row_heading level0 row1\" >1</th>\n",
       "                        <td id=\"T_19d6feb8_0f7e_11eb_9715_00e0201808a0row1_col0\" class=\"data row1 col0\" >0.8559</td>\n",
       "                        <td id=\"T_19d6feb8_0f7e_11eb_9715_00e0201808a0row1_col1\" class=\"data row1 col1\" >0.9168</td>\n",
       "                        <td id=\"T_19d6feb8_0f7e_11eb_9715_00e0201808a0row1_col2\" class=\"data row1 col2\" >0.6505</td>\n",
       "                        <td id=\"T_19d6feb8_0f7e_11eb_9715_00e0201808a0row1_col3\" class=\"data row1 col3\" >0.7256</td>\n",
       "                        <td id=\"T_19d6feb8_0f7e_11eb_9715_00e0201808a0row1_col4\" class=\"data row1 col4\" >0.6860</td>\n",
       "                        <td id=\"T_19d6feb8_0f7e_11eb_9715_00e0201808a0row1_col5\" class=\"data row1 col5\" >0.5929</td>\n",
       "                        <td id=\"T_19d6feb8_0f7e_11eb_9715_00e0201808a0row1_col6\" class=\"data row1 col6\" >0.5944</td>\n",
       "            </tr>\n",
       "            <tr>\n",
       "                        <th id=\"T_19d6feb8_0f7e_11eb_9715_00e0201808a0level0_row2\" class=\"row_heading level0 row2\" >2</th>\n",
       "                        <td id=\"T_19d6feb8_0f7e_11eb_9715_00e0201808a0row2_col0\" class=\"data row2 col0\" >0.8653</td>\n",
       "                        <td id=\"T_19d6feb8_0f7e_11eb_9715_00e0201808a0row2_col1\" class=\"data row2 col1\" >0.9177</td>\n",
       "                        <td id=\"T_19d6feb8_0f7e_11eb_9715_00e0201808a0row2_col2\" class=\"data row2 col2\" >0.6731</td>\n",
       "                        <td id=\"T_19d6feb8_0f7e_11eb_9715_00e0201808a0row2_col3\" class=\"data row2 col3\" >0.7455</td>\n",
       "                        <td id=\"T_19d6feb8_0f7e_11eb_9715_00e0201808a0row2_col4\" class=\"data row2 col4\" >0.7075</td>\n",
       "                        <td id=\"T_19d6feb8_0f7e_11eb_9715_00e0201808a0row2_col5\" class=\"data row2 col5\" >0.6203</td>\n",
       "                        <td id=\"T_19d6feb8_0f7e_11eb_9715_00e0201808a0row2_col6\" class=\"data row2 col6\" >0.6217</td>\n",
       "            </tr>\n",
       "            <tr>\n",
       "                        <th id=\"T_19d6feb8_0f7e_11eb_9715_00e0201808a0level0_row3\" class=\"row_heading level0 row3\" >3</th>\n",
       "                        <td id=\"T_19d6feb8_0f7e_11eb_9715_00e0201808a0row3_col0\" class=\"data row3 col0\" >0.8511</td>\n",
       "                        <td id=\"T_19d6feb8_0f7e_11eb_9715_00e0201808a0row3_col1\" class=\"data row3 col1\" >0.9137</td>\n",
       "                        <td id=\"T_19d6feb8_0f7e_11eb_9715_00e0201808a0row3_col2\" class=\"data row3 col2\" >0.6234</td>\n",
       "                        <td id=\"T_19d6feb8_0f7e_11eb_9715_00e0201808a0row3_col3\" class=\"data row3 col3\" >0.7218</td>\n",
       "                        <td id=\"T_19d6feb8_0f7e_11eb_9715_00e0201808a0row3_col4\" class=\"data row3 col4\" >0.6690</td>\n",
       "                        <td id=\"T_19d6feb8_0f7e_11eb_9715_00e0201808a0row3_col5\" class=\"data row3 col5\" >0.5736</td>\n",
       "                        <td id=\"T_19d6feb8_0f7e_11eb_9715_00e0201808a0row3_col6\" class=\"data row3 col6\" >0.5762</td>\n",
       "            </tr>\n",
       "            <tr>\n",
       "                        <th id=\"T_19d6feb8_0f7e_11eb_9715_00e0201808a0level0_row4\" class=\"row_heading level0 row4\" >4</th>\n",
       "                        <td id=\"T_19d6feb8_0f7e_11eb_9715_00e0201808a0row4_col0\" class=\"data row4 col0\" >0.8448</td>\n",
       "                        <td id=\"T_19d6feb8_0f7e_11eb_9715_00e0201808a0row4_col1\" class=\"data row4 col1\" >0.9039</td>\n",
       "                        <td id=\"T_19d6feb8_0f7e_11eb_9715_00e0201808a0row4_col2\" class=\"data row4 col2\" >0.6117</td>\n",
       "                        <td id=\"T_19d6feb8_0f7e_11eb_9715_00e0201808a0row4_col3\" class=\"data row4 col3\" >0.7079</td>\n",
       "                        <td id=\"T_19d6feb8_0f7e_11eb_9715_00e0201808a0row4_col4\" class=\"data row4 col4\" >0.6562</td>\n",
       "                        <td id=\"T_19d6feb8_0f7e_11eb_9715_00e0201808a0row4_col5\" class=\"data row4 col5\" >0.5567</td>\n",
       "                        <td id=\"T_19d6feb8_0f7e_11eb_9715_00e0201808a0row4_col6\" class=\"data row4 col6\" >0.5592</td>\n",
       "            </tr>\n",
       "            <tr>\n",
       "                        <th id=\"T_19d6feb8_0f7e_11eb_9715_00e0201808a0level0_row5\" class=\"row_heading level0 row5\" >5</th>\n",
       "                        <td id=\"T_19d6feb8_0f7e_11eb_9715_00e0201808a0row5_col0\" class=\"data row5 col0\" >0.8699</td>\n",
       "                        <td id=\"T_19d6feb8_0f7e_11eb_9715_00e0201808a0row5_col1\" class=\"data row5 col1\" >0.9284</td>\n",
       "                        <td id=\"T_19d6feb8_0f7e_11eb_9715_00e0201808a0row5_col2\" class=\"data row5 col2\" >0.6570</td>\n",
       "                        <td id=\"T_19d6feb8_0f7e_11eb_9715_00e0201808a0row5_col3\" class=\"data row5 col3\" >0.7719</td>\n",
       "                        <td id=\"T_19d6feb8_0f7e_11eb_9715_00e0201808a0row5_col4\" class=\"data row5 col4\" >0.7098</td>\n",
       "                        <td id=\"T_19d6feb8_0f7e_11eb_9715_00e0201808a0row5_col5\" class=\"data row5 col5\" >0.6266</td>\n",
       "                        <td id=\"T_19d6feb8_0f7e_11eb_9715_00e0201808a0row5_col6\" class=\"data row5 col6\" >0.6300</td>\n",
       "            </tr>\n",
       "            <tr>\n",
       "                        <th id=\"T_19d6feb8_0f7e_11eb_9715_00e0201808a0level0_row6\" class=\"row_heading level0 row6\" >6</th>\n",
       "                        <td id=\"T_19d6feb8_0f7e_11eb_9715_00e0201808a0row6_col0\" class=\"data row6 col0\" >0.8777</td>\n",
       "                        <td id=\"T_19d6feb8_0f7e_11eb_9715_00e0201808a0row6_col1\" class=\"data row6 col1\" >0.9365</td>\n",
       "                        <td id=\"T_19d6feb8_0f7e_11eb_9715_00e0201808a0row6_col2\" class=\"data row6 col2\" >0.6505</td>\n",
       "                        <td id=\"T_19d6feb8_0f7e_11eb_9715_00e0201808a0row6_col3\" class=\"data row6 col3\" >0.8072</td>\n",
       "                        <td id=\"T_19d6feb8_0f7e_11eb_9715_00e0201808a0row6_col4\" class=\"data row6 col4\" >0.7204</td>\n",
       "                        <td id=\"T_19d6feb8_0f7e_11eb_9715_00e0201808a0row6_col5\" class=\"data row6 col5\" >0.6433</td>\n",
       "                        <td id=\"T_19d6feb8_0f7e_11eb_9715_00e0201808a0row6_col6\" class=\"data row6 col6\" >0.6495</td>\n",
       "            </tr>\n",
       "            <tr>\n",
       "                        <th id=\"T_19d6feb8_0f7e_11eb_9715_00e0201808a0level0_row7\" class=\"row_heading level0 row7\" >7</th>\n",
       "                        <td id=\"T_19d6feb8_0f7e_11eb_9715_00e0201808a0row7_col0\" class=\"data row7 col0\" >0.8652</td>\n",
       "                        <td id=\"T_19d6feb8_0f7e_11eb_9715_00e0201808a0row7_col1\" class=\"data row7 col1\" >0.9240</td>\n",
       "                        <td id=\"T_19d6feb8_0f7e_11eb_9715_00e0201808a0row7_col2\" class=\"data row7 col2\" >0.6343</td>\n",
       "                        <td id=\"T_19d6feb8_0f7e_11eb_9715_00e0201808a0row7_col3\" class=\"data row7 col3\" >0.7686</td>\n",
       "                        <td id=\"T_19d6feb8_0f7e_11eb_9715_00e0201808a0row7_col4\" class=\"data row7 col4\" >0.6950</td>\n",
       "                        <td id=\"T_19d6feb8_0f7e_11eb_9715_00e0201808a0row7_col5\" class=\"data row7 col5\" >0.6095</td>\n",
       "                        <td id=\"T_19d6feb8_0f7e_11eb_9715_00e0201808a0row7_col6\" class=\"data row7 col6\" >0.6142</td>\n",
       "            </tr>\n",
       "            <tr>\n",
       "                        <th id=\"T_19d6feb8_0f7e_11eb_9715_00e0201808a0level0_row8\" class=\"row_heading level0 row8\" >8</th>\n",
       "                        <td id=\"T_19d6feb8_0f7e_11eb_9715_00e0201808a0row8_col0\" class=\"data row8 col0\" >0.8636</td>\n",
       "                        <td id=\"T_19d6feb8_0f7e_11eb_9715_00e0201808a0row8_col1\" class=\"data row8 col1\" >0.9231</td>\n",
       "                        <td id=\"T_19d6feb8_0f7e_11eb_9715_00e0201808a0row8_col2\" class=\"data row8 col2\" >0.6440</td>\n",
       "                        <td id=\"T_19d6feb8_0f7e_11eb_9715_00e0201808a0row8_col3\" class=\"data row8 col3\" >0.7567</td>\n",
       "                        <td id=\"T_19d6feb8_0f7e_11eb_9715_00e0201808a0row8_col4\" class=\"data row8 col4\" >0.6958</td>\n",
       "                        <td id=\"T_19d6feb8_0f7e_11eb_9715_00e0201808a0row8_col5\" class=\"data row8 col5\" >0.6087</td>\n",
       "                        <td id=\"T_19d6feb8_0f7e_11eb_9715_00e0201808a0row8_col6\" class=\"data row8 col6\" >0.6119</td>\n",
       "            </tr>\n",
       "            <tr>\n",
       "                        <th id=\"T_19d6feb8_0f7e_11eb_9715_00e0201808a0level0_row9\" class=\"row_heading level0 row9\" >9</th>\n",
       "                        <td id=\"T_19d6feb8_0f7e_11eb_9715_00e0201808a0row9_col0\" class=\"data row9 col0\" >0.8723</td>\n",
       "                        <td id=\"T_19d6feb8_0f7e_11eb_9715_00e0201808a0row9_col1\" class=\"data row9 col1\" >0.9188</td>\n",
       "                        <td id=\"T_19d6feb8_0f7e_11eb_9715_00e0201808a0row9_col2\" class=\"data row9 col2\" >0.6828</td>\n",
       "                        <td id=\"T_19d6feb8_0f7e_11eb_9715_00e0201808a0row9_col3\" class=\"data row9 col3\" >0.7645</td>\n",
       "                        <td id=\"T_19d6feb8_0f7e_11eb_9715_00e0201808a0row9_col4\" class=\"data row9 col4\" >0.7214</td>\n",
       "                        <td id=\"T_19d6feb8_0f7e_11eb_9715_00e0201808a0row9_col5\" class=\"data row9 col5\" >0.6388</td>\n",
       "                        <td id=\"T_19d6feb8_0f7e_11eb_9715_00e0201808a0row9_col6\" class=\"data row9 col6\" >0.6406</td>\n",
       "            </tr>\n",
       "            <tr>\n",
       "                        <th id=\"T_19d6feb8_0f7e_11eb_9715_00e0201808a0level0_row10\" class=\"row_heading level0 row10\" >Mean</th>\n",
       "                        <td id=\"T_19d6feb8_0f7e_11eb_9715_00e0201808a0row10_col0\" class=\"data row10 col0\" >0.8634</td>\n",
       "                        <td id=\"T_19d6feb8_0f7e_11eb_9715_00e0201808a0row10_col1\" class=\"data row10 col1\" >0.9202</td>\n",
       "                        <td id=\"T_19d6feb8_0f7e_11eb_9715_00e0201808a0row10_col2\" class=\"data row10 col2\" >0.6462</td>\n",
       "                        <td id=\"T_19d6feb8_0f7e_11eb_9715_00e0201808a0row10_col3\" class=\"data row10 col3\" >0.7551</td>\n",
       "                        <td id=\"T_19d6feb8_0f7e_11eb_9715_00e0201808a0row10_col4\" class=\"data row10 col4\" >0.6961</td>\n",
       "                        <td id=\"T_19d6feb8_0f7e_11eb_9715_00e0201808a0row10_col5\" class=\"data row10 col5\" >0.6087</td>\n",
       "                        <td id=\"T_19d6feb8_0f7e_11eb_9715_00e0201808a0row10_col6\" class=\"data row10 col6\" >0.6120</td>\n",
       "            </tr>\n",
       "            <tr>\n",
       "                        <th id=\"T_19d6feb8_0f7e_11eb_9715_00e0201808a0level0_row11\" class=\"row_heading level0 row11\" >SD</th>\n",
       "                        <td id=\"T_19d6feb8_0f7e_11eb_9715_00e0201808a0row11_col0\" class=\"data row11 col0\" >0.0095</td>\n",
       "                        <td id=\"T_19d6feb8_0f7e_11eb_9715_00e0201808a0row11_col1\" class=\"data row11 col1\" >0.0083</td>\n",
       "                        <td id=\"T_19d6feb8_0f7e_11eb_9715_00e0201808a0row11_col2\" class=\"data row11 col2\" >0.0206</td>\n",
       "                        <td id=\"T_19d6feb8_0f7e_11eb_9715_00e0201808a0row11_col3\" class=\"data row11 col3\" >0.0287</td>\n",
       "                        <td id=\"T_19d6feb8_0f7e_11eb_9715_00e0201808a0row11_col4\" class=\"data row11 col4\" >0.0200</td>\n",
       "                        <td id=\"T_19d6feb8_0f7e_11eb_9715_00e0201808a0row11_col5\" class=\"data row11 col5\" >0.0261</td>\n",
       "                        <td id=\"T_19d6feb8_0f7e_11eb_9715_00e0201808a0row11_col6\" class=\"data row11 col6\" >0.0267</td>\n",
       "            </tr>\n",
       "    </tbody></table>"
      ],
      "text/plain": [
       "<pandas.io.formats.style.Styler at 0x2b0f056e9c8>"
      ]
     },
     "metadata": {},
     "output_type": "display_data"
    }
   ],
   "source": [
    "xgboost = create_model('xgboost')"
   ]
  },
  {
   "cell_type": "code",
   "execution_count": 38,
   "metadata": {},
   "outputs": [
    {
     "data": {
      "image/png": "[encoded data removed]",
      "text/plain": [
       "<Figure size 800x500 with 1 Axes>"
      ]
     },
     "metadata": {
      "needs_background": "light"
     },
     "output_type": "display_data"
    }
   ],
   "source": [
    "plot_model(estimator = xgboost, plot = 'feature')"
   ]
  },
  {
   "cell_type": "code",
   "execution_count": null,
   "metadata": {},
   "outputs": [],
   "source": []
  },
  {
   "cell_type": "code",
   "execution_count": 39,
   "metadata": {
    "scrolled": true
   },
   "outputs": [
    {
     "data": {
      "text/html": [
       "<style  type=\"text/css\" >\n",
       "#T_1ca573e2_0f7e_11eb_bd55_00e0201808a0row10_col0,#T_1ca573e2_0f7e_11eb_bd55_00e0201808a0row10_col1,#T_1ca573e2_0f7e_11eb_bd55_00e0201808a0row10_col2,#T_1ca573e2_0f7e_11eb_bd55_00e0201808a0row10_col3,#T_1ca573e2_0f7e_11eb_bd55_00e0201808a0row10_col4,#T_1ca573e2_0f7e_11eb_bd55_00e0201808a0row10_col5,#T_1ca573e2_0f7e_11eb_bd55_00e0201808a0row10_col6{\n",
       "            background:  yellow;\n",
       "        }</style><table id=\"T_1ca573e2_0f7e_11eb_bd55_00e0201808a0\" ><thead>    <tr>        <th class=\"blank level0\" ></th>        <th class=\"col_heading level0 col0\" >Accuracy</th>        <th class=\"col_heading level0 col1\" >AUC</th>        <th class=\"col_heading level0 col2\" >Recall</th>        <th class=\"col_heading level0 col3\" >Prec.</th>        <th class=\"col_heading level0 col4\" >F1</th>        <th class=\"col_heading level0 col5\" >Kappa</th>        <th class=\"col_heading level0 col6\" >MCC</th>    </tr></thead><tbody>\n",
       "                <tr>\n",
       "                        <th id=\"T_1ca573e2_0f7e_11eb_bd55_00e0201808a0level0_row0\" class=\"row_heading level0 row0\" >0</th>\n",
       "                        <td id=\"T_1ca573e2_0f7e_11eb_bd55_00e0201808a0row0_col0\" class=\"data row0 col0\" >0.8598</td>\n",
       "                        <td id=\"T_1ca573e2_0f7e_11eb_bd55_00e0201808a0row0_col1\" class=\"data row0 col1\" >0.9220</td>\n",
       "                        <td id=\"T_1ca573e2_0f7e_11eb_bd55_00e0201808a0row0_col2\" class=\"data row0 col2\" >0.6149</td>\n",
       "                        <td id=\"T_1ca573e2_0f7e_11eb_bd55_00e0201808a0row0_col3\" class=\"data row0 col3\" >0.7600</td>\n",
       "                        <td id=\"T_1ca573e2_0f7e_11eb_bd55_00e0201808a0row0_col4\" class=\"data row0 col4\" >0.6798</td>\n",
       "                        <td id=\"T_1ca573e2_0f7e_11eb_bd55_00e0201808a0row0_col5\" class=\"data row0 col5\" >0.5913</td>\n",
       "                        <td id=\"T_1ca573e2_0f7e_11eb_bd55_00e0201808a0row0_col6\" class=\"data row0 col6\" >0.5968</td>\n",
       "            </tr>\n",
       "            <tr>\n",
       "                        <th id=\"T_1ca573e2_0f7e_11eb_bd55_00e0201808a0level0_row1\" class=\"row_heading level0 row1\" >1</th>\n",
       "                        <td id=\"T_1ca573e2_0f7e_11eb_bd55_00e0201808a0row1_col0\" class=\"data row1 col0\" >0.8630</td>\n",
       "                        <td id=\"T_1ca573e2_0f7e_11eb_bd55_00e0201808a0row1_col1\" class=\"data row1 col1\" >0.9175</td>\n",
       "                        <td id=\"T_1ca573e2_0f7e_11eb_bd55_00e0201808a0row1_col2\" class=\"data row1 col2\" >0.6602</td>\n",
       "                        <td id=\"T_1ca573e2_0f7e_11eb_bd55_00e0201808a0row1_col3\" class=\"data row1 col3\" >0.7445</td>\n",
       "                        <td id=\"T_1ca573e2_0f7e_11eb_bd55_00e0201808a0row1_col4\" class=\"data row1 col4\" >0.6998</td>\n",
       "                        <td id=\"T_1ca573e2_0f7e_11eb_bd55_00e0201808a0row1_col5\" class=\"data row1 col5\" >0.6115</td>\n",
       "                        <td id=\"T_1ca573e2_0f7e_11eb_bd55_00e0201808a0row1_col6\" class=\"data row1 col6\" >0.6133</td>\n",
       "            </tr>\n",
       "            <tr>\n",
       "                        <th id=\"T_1ca573e2_0f7e_11eb_bd55_00e0201808a0level0_row2\" class=\"row_heading level0 row2\" >2</th>\n",
       "                        <td id=\"T_1ca573e2_0f7e_11eb_bd55_00e0201808a0row2_col0\" class=\"data row2 col0\" >0.8637</td>\n",
       "                        <td id=\"T_1ca573e2_0f7e_11eb_bd55_00e0201808a0row2_col1\" class=\"data row2 col1\" >0.9170</td>\n",
       "                        <td id=\"T_1ca573e2_0f7e_11eb_bd55_00e0201808a0row2_col2\" class=\"data row2 col2\" >0.6699</td>\n",
       "                        <td id=\"T_1ca573e2_0f7e_11eb_bd55_00e0201808a0row2_col3\" class=\"data row2 col3\" >0.7419</td>\n",
       "                        <td id=\"T_1ca573e2_0f7e_11eb_bd55_00e0201808a0row2_col4\" class=\"data row2 col4\" >0.7041</td>\n",
       "                        <td id=\"T_1ca573e2_0f7e_11eb_bd55_00e0201808a0row2_col5\" class=\"data row2 col5\" >0.6159</td>\n",
       "                        <td id=\"T_1ca573e2_0f7e_11eb_bd55_00e0201808a0row2_col6\" class=\"data row2 col6\" >0.6172</td>\n",
       "            </tr>\n",
       "            <tr>\n",
       "                        <th id=\"T_1ca573e2_0f7e_11eb_bd55_00e0201808a0level0_row3\" class=\"row_heading level0 row3\" >3</th>\n",
       "                        <td id=\"T_1ca573e2_0f7e_11eb_bd55_00e0201808a0row3_col0\" class=\"data row3 col0\" >0.8558</td>\n",
       "                        <td id=\"T_1ca573e2_0f7e_11eb_bd55_00e0201808a0row3_col1\" class=\"data row3 col1\" >0.9139</td>\n",
       "                        <td id=\"T_1ca573e2_0f7e_11eb_bd55_00e0201808a0row3_col2\" class=\"data row3 col2\" >0.6266</td>\n",
       "                        <td id=\"T_1ca573e2_0f7e_11eb_bd55_00e0201808a0row3_col3\" class=\"data row3 col3\" >0.7366</td>\n",
       "                        <td id=\"T_1ca573e2_0f7e_11eb_bd55_00e0201808a0row3_col4\" class=\"data row3 col4\" >0.6772</td>\n",
       "                        <td id=\"T_1ca573e2_0f7e_11eb_bd55_00e0201808a0row3_col5\" class=\"data row3 col5\" >0.5851</td>\n",
       "                        <td id=\"T_1ca573e2_0f7e_11eb_bd55_00e0201808a0row3_col6\" class=\"data row3 col6\" >0.5883</td>\n",
       "            </tr>\n",
       "            <tr>\n",
       "                        <th id=\"T_1ca573e2_0f7e_11eb_bd55_00e0201808a0level0_row4\" class=\"row_heading level0 row4\" >4</th>\n",
       "                        <td id=\"T_1ca573e2_0f7e_11eb_bd55_00e0201808a0row4_col0\" class=\"data row4 col0\" >0.8527</td>\n",
       "                        <td id=\"T_1ca573e2_0f7e_11eb_bd55_00e0201808a0row4_col1\" class=\"data row4 col1\" >0.9103</td>\n",
       "                        <td id=\"T_1ca573e2_0f7e_11eb_bd55_00e0201808a0row4_col2\" class=\"data row4 col2\" >0.6149</td>\n",
       "                        <td id=\"T_1ca573e2_0f7e_11eb_bd55_00e0201808a0row4_col3\" class=\"data row4 col3\" >0.7336</td>\n",
       "                        <td id=\"T_1ca573e2_0f7e_11eb_bd55_00e0201808a0row4_col4\" class=\"data row4 col4\" >0.6690</td>\n",
       "                        <td id=\"T_1ca573e2_0f7e_11eb_bd55_00e0201808a0row4_col5\" class=\"data row4 col5\" >0.5752</td>\n",
       "                        <td id=\"T_1ca573e2_0f7e_11eb_bd55_00e0201808a0row4_col6\" class=\"data row4 col6\" >0.5789</td>\n",
       "            </tr>\n",
       "            <tr>\n",
       "                        <th id=\"T_1ca573e2_0f7e_11eb_bd55_00e0201808a0level0_row5\" class=\"row_heading level0 row5\" >5</th>\n",
       "                        <td id=\"T_1ca573e2_0f7e_11eb_bd55_00e0201808a0row5_col0\" class=\"data row5 col0\" >0.8723</td>\n",
       "                        <td id=\"T_1ca573e2_0f7e_11eb_bd55_00e0201808a0row5_col1\" class=\"data row5 col1\" >0.9306</td>\n",
       "                        <td id=\"T_1ca573e2_0f7e_11eb_bd55_00e0201808a0row5_col2\" class=\"data row5 col2\" >0.6602</td>\n",
       "                        <td id=\"T_1ca573e2_0f7e_11eb_bd55_00e0201808a0row5_col3\" class=\"data row5 col3\" >0.7786</td>\n",
       "                        <td id=\"T_1ca573e2_0f7e_11eb_bd55_00e0201808a0row5_col4\" class=\"data row5 col4\" >0.7145</td>\n",
       "                        <td id=\"T_1ca573e2_0f7e_11eb_bd55_00e0201808a0row5_col5\" class=\"data row5 col5\" >0.6330</td>\n",
       "                        <td id=\"T_1ca573e2_0f7e_11eb_bd55_00e0201808a0row5_col6\" class=\"data row5 col6\" >0.6365</td>\n",
       "            </tr>\n",
       "            <tr>\n",
       "                        <th id=\"T_1ca573e2_0f7e_11eb_bd55_00e0201808a0level0_row6\" class=\"row_heading level0 row6\" >6</th>\n",
       "                        <td id=\"T_1ca573e2_0f7e_11eb_bd55_00e0201808a0row6_col0\" class=\"data row6 col0\" >0.8817</td>\n",
       "                        <td id=\"T_1ca573e2_0f7e_11eb_bd55_00e0201808a0row6_col1\" class=\"data row6 col1\" >0.9367</td>\n",
       "                        <td id=\"T_1ca573e2_0f7e_11eb_bd55_00e0201808a0row6_col2\" class=\"data row6 col2\" >0.6699</td>\n",
       "                        <td id=\"T_1ca573e2_0f7e_11eb_bd55_00e0201808a0row6_col3\" class=\"data row6 col3\" >0.8086</td>\n",
       "                        <td id=\"T_1ca573e2_0f7e_11eb_bd55_00e0201808a0row6_col4\" class=\"data row6 col4\" >0.7327</td>\n",
       "                        <td id=\"T_1ca573e2_0f7e_11eb_bd55_00e0201808a0row6_col5\" class=\"data row6 col5\" >0.6576</td>\n",
       "                        <td id=\"T_1ca573e2_0f7e_11eb_bd55_00e0201808a0row6_col6\" class=\"data row6 col6\" >0.6624</td>\n",
       "            </tr>\n",
       "            <tr>\n",
       "                        <th id=\"T_1ca573e2_0f7e_11eb_bd55_00e0201808a0level0_row7\" class=\"row_heading level0 row7\" >7</th>\n",
       "                        <td id=\"T_1ca573e2_0f7e_11eb_bd55_00e0201808a0row7_col0\" class=\"data row7 col0\" >0.8652</td>\n",
       "                        <td id=\"T_1ca573e2_0f7e_11eb_bd55_00e0201808a0row7_col1\" class=\"data row7 col1\" >0.9183</td>\n",
       "                        <td id=\"T_1ca573e2_0f7e_11eb_bd55_00e0201808a0row7_col2\" class=\"data row7 col2\" >0.6311</td>\n",
       "                        <td id=\"T_1ca573e2_0f7e_11eb_bd55_00e0201808a0row7_col3\" class=\"data row7 col3\" >0.7708</td>\n",
       "                        <td id=\"T_1ca573e2_0f7e_11eb_bd55_00e0201808a0row7_col4\" class=\"data row7 col4\" >0.6940</td>\n",
       "                        <td id=\"T_1ca573e2_0f7e_11eb_bd55_00e0201808a0row7_col5\" class=\"data row7 col5\" >0.6086</td>\n",
       "                        <td id=\"T_1ca573e2_0f7e_11eb_bd55_00e0201808a0row7_col6\" class=\"data row7 col6\" >0.6136</td>\n",
       "            </tr>\n",
       "            <tr>\n",
       "                        <th id=\"T_1ca573e2_0f7e_11eb_bd55_00e0201808a0level0_row8\" class=\"row_heading level0 row8\" >8</th>\n",
       "                        <td id=\"T_1ca573e2_0f7e_11eb_bd55_00e0201808a0row8_col0\" class=\"data row8 col0\" >0.8676</td>\n",
       "                        <td id=\"T_1ca573e2_0f7e_11eb_bd55_00e0201808a0row8_col1\" class=\"data row8 col1\" >0.9251</td>\n",
       "                        <td id=\"T_1ca573e2_0f7e_11eb_bd55_00e0201808a0row8_col2\" class=\"data row8 col2\" >0.6408</td>\n",
       "                        <td id=\"T_1ca573e2_0f7e_11eb_bd55_00e0201808a0row8_col3\" class=\"data row8 col3\" >0.7734</td>\n",
       "                        <td id=\"T_1ca573e2_0f7e_11eb_bd55_00e0201808a0row8_col4\" class=\"data row8 col4\" >0.7009</td>\n",
       "                        <td id=\"T_1ca573e2_0f7e_11eb_bd55_00e0201808a0row8_col5\" class=\"data row8 col5\" >0.6168</td>\n",
       "                        <td id=\"T_1ca573e2_0f7e_11eb_bd55_00e0201808a0row8_col6\" class=\"data row8 col6\" >0.6213</td>\n",
       "            </tr>\n",
       "            <tr>\n",
       "                        <th id=\"T_1ca573e2_0f7e_11eb_bd55_00e0201808a0level0_row9\" class=\"row_heading level0 row9\" >9</th>\n",
       "                        <td id=\"T_1ca573e2_0f7e_11eb_bd55_00e0201808a0row9_col0\" class=\"data row9 col0\" >0.8754</td>\n",
       "                        <td id=\"T_1ca573e2_0f7e_11eb_bd55_00e0201808a0row9_col1\" class=\"data row9 col1\" >0.9189</td>\n",
       "                        <td id=\"T_1ca573e2_0f7e_11eb_bd55_00e0201808a0row9_col2\" class=\"data row9 col2\" >0.6796</td>\n",
       "                        <td id=\"T_1ca573e2_0f7e_11eb_bd55_00e0201808a0row9_col3\" class=\"data row9 col3\" >0.7778</td>\n",
       "                        <td id=\"T_1ca573e2_0f7e_11eb_bd55_00e0201808a0row9_col4\" class=\"data row9 col4\" >0.7254</td>\n",
       "                        <td id=\"T_1ca573e2_0f7e_11eb_bd55_00e0201808a0row9_col5\" class=\"data row9 col5\" >0.6453</td>\n",
       "                        <td id=\"T_1ca573e2_0f7e_11eb_bd55_00e0201808a0row9_col6\" class=\"data row9 col6\" >0.6477</td>\n",
       "            </tr>\n",
       "            <tr>\n",
       "                        <th id=\"T_1ca573e2_0f7e_11eb_bd55_00e0201808a0level0_row10\" class=\"row_heading level0 row10\" >Mean</th>\n",
       "                        <td id=\"T_1ca573e2_0f7e_11eb_bd55_00e0201808a0row10_col0\" class=\"data row10 col0\" >0.8657</td>\n",
       "                        <td id=\"T_1ca573e2_0f7e_11eb_bd55_00e0201808a0row10_col1\" class=\"data row10 col1\" >0.9210</td>\n",
       "                        <td id=\"T_1ca573e2_0f7e_11eb_bd55_00e0201808a0row10_col2\" class=\"data row10 col2\" >0.6468</td>\n",
       "                        <td id=\"T_1ca573e2_0f7e_11eb_bd55_00e0201808a0row10_col3\" class=\"data row10 col3\" >0.7626</td>\n",
       "                        <td id=\"T_1ca573e2_0f7e_11eb_bd55_00e0201808a0row10_col4\" class=\"data row10 col4\" >0.6997</td>\n",
       "                        <td id=\"T_1ca573e2_0f7e_11eb_bd55_00e0201808a0row10_col5\" class=\"data row10 col5\" >0.6140</td>\n",
       "                        <td id=\"T_1ca573e2_0f7e_11eb_bd55_00e0201808a0row10_col6\" class=\"data row10 col6\" >0.6176</td>\n",
       "            </tr>\n",
       "            <tr>\n",
       "                        <th id=\"T_1ca573e2_0f7e_11eb_bd55_00e0201808a0level0_row11\" class=\"row_heading level0 row11\" >SD</th>\n",
       "                        <td id=\"T_1ca573e2_0f7e_11eb_bd55_00e0201808a0row11_col0\" class=\"data row11 col0\" >0.0084</td>\n",
       "                        <td id=\"T_1ca573e2_0f7e_11eb_bd55_00e0201808a0row11_col1\" class=\"data row11 col1\" >0.0075</td>\n",
       "                        <td id=\"T_1ca573e2_0f7e_11eb_bd55_00e0201808a0row11_col2\" class=\"data row11 col2\" >0.0229</td>\n",
       "                        <td id=\"T_1ca573e2_0f7e_11eb_bd55_00e0201808a0row11_col3\" class=\"data row11 col3\" >0.0225</td>\n",
       "                        <td id=\"T_1ca573e2_0f7e_11eb_bd55_00e0201808a0row11_col4\" class=\"data row11 col4\" >0.0197</td>\n",
       "                        <td id=\"T_1ca573e2_0f7e_11eb_bd55_00e0201808a0row11_col5\" class=\"data row11 col5\" >0.0248</td>\n",
       "                        <td id=\"T_1ca573e2_0f7e_11eb_bd55_00e0201808a0row11_col6\" class=\"data row11 col6\" >0.0247</td>\n",
       "            </tr>\n",
       "    </tbody></table>"
      ],
      "text/plain": [
       "<pandas.io.formats.style.Styler at 0x2b0ed7ed548>"
      ]
     },
     "metadata": {},
     "output_type": "display_data"
    }
   ],
   "source": [
    "lightgbm = create_model('lightgbm')"
   ]
  },
  {
   "cell_type": "code",
   "execution_count": 40,
   "metadata": {},
   "outputs": [
    {
     "data": {
      "image/png": "[encoded data removed]",
      "text/plain": [
       "<Figure size 800x500 with 1 Axes>"
      ]
     },
     "metadata": {
      "needs_background": "light"
     },
     "output_type": "display_data"
    }
   ],
   "source": [
    "plot_model(estimator = lightgbm, plot = 'feature')"
   ]
  },
  {
   "cell_type": "code",
   "execution_count": null,
   "metadata": {},
   "outputs": [],
   "source": []
  }
 ],
 "metadata": {
  "kernelspec": {
   "display_name": "Python 3",
   "language": "python",
   "name": "python3"
  },
  "language_info": {
   "codemirror_mode": {
    "name": "ipython",
    "version": 3
   },
   "file_extension": ".py",
   "mimetype": "text/x-python",
   "name": "python",
   "nbconvert_exporter": "python",
   "pygments_lexer": "ipython3",
   "version": "3.7.6"
  }
 },
 "nbformat": 4,
 "nbformat_minor": 4
}
