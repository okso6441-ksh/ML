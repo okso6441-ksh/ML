{
 "cells": [
  {
   "cell_type": "code",
   "execution_count": 1,
   "metadata": {},
   "outputs": [],
   "source": [
    "import numpy as np\n",
    "import pandas as pd\n",
    "import matplotlib.pyplot as plt\n",
    "import seaborn as sns\n",
    "import warnings\n",
    "warnings.filterwarnings('ignore')\n",
    "%matplotlib inline\n",
    "\n",
    "from IPython.core.interactiveshell import InteractiveShell\n",
    "InteractiveShell.ast_node_interactivity = \"all\"\n",
    "\n",
    "from sklearn.preprocessing import PolynomialFeatures\n",
    "\n",
    "from sklearn.model_selection import train_test_split\n",
    "import lightgbm as lgbm\n",
    "from sklearn.metrics import confusion_matrix, accuracy_score\n",
    "from pycaret.classification import *"
   ]
  },
  {
   "cell_type": "code",
   "execution_count": 2,
   "metadata": {},
   "outputs": [],
   "source": [
    "seed = 42\n",
    "np.random.seed(seed)\n",
    "set_config('seed', seed)"
   ]
  },
  {
   "cell_type": "code",
   "execution_count": null,
   "metadata": {},
   "outputs": [],
   "source": []
  },
  {
   "cell_type": "markdown",
   "metadata": {},
   "source": [
    "# 1. 데이터 로드"
   ]
  },
  {
   "cell_type": "code",
   "execution_count": 3,
   "metadata": {},
   "outputs": [],
   "source": [
    "train=pd.read_csv('input/train.csv', index_col=0, na_values='?') #인덱스 col=0도 check!\n",
    "test=pd.read_csv('input/test.csv', index_col=0, na_values='?')\n",
    "submission=pd.read_csv('input/sample_submission.csv', index_col=0)  "
   ]
  },
  {
   "cell_type": "code",
   "execution_count": 4,
   "metadata": {},
   "outputs": [],
   "source": [
    "train['income']=pd.factorize(train['income'], sort=True)[0]"
   ]
  },
  {
   "cell_type": "code",
   "execution_count": null,
   "metadata": {},
   "outputs": [],
   "source": [
    "train.shape, test.shape"
   ]
  },
  {
   "cell_type": "code",
   "execution_count": null,
   "metadata": {},
   "outputs": [],
   "source": [
    "train.head(3)\n",
    "test.head(3)"
   ]
  },
  {
   "cell_type": "markdown",
   "metadata": {},
   "source": [
    "# 2. EDA & 전처리"
   ]
  },
  {
   "cell_type": "code",
   "execution_count": null,
   "metadata": {},
   "outputs": [],
   "source": [
    "train.info()\n",
    "train.describe()\n",
    "train.describe(include='O')"
   ]
  },
  {
   "cell_type": "code",
   "execution_count": null,
   "metadata": {},
   "outputs": [],
   "source": []
  },
  {
   "cell_type": "markdown",
   "metadata": {},
   "source": [
    "## Missing Value"
   ]
  },
  {
   "cell_type": "code",
   "execution_count": 6,
   "metadata": {},
   "outputs": [
    {
     "data": {
      "text/plain": [
       "age                  0\n",
       "workclass         1502\n",
       "fnlwgt               0\n",
       "education            0\n",
       "education_num        0\n",
       "marital_status       0\n",
       "occupation        1508\n",
       "relationship         0\n",
       "race                 0\n",
       "sex                  0\n",
       "capital_gain         0\n",
       "capital_loss         0\n",
       "hours_per_week       0\n",
       "native_country     456\n",
       "income               0\n",
       "dtype: int64"
      ]
     },
     "execution_count": 6,
     "metadata": {},
     "output_type": "execute_result"
    },
    {
     "data": {
      "text/plain": [
       "age                 0\n",
       "workclass         334\n",
       "fnlwgt              0\n",
       "education           0\n",
       "education_num       0\n",
       "marital_status      0\n",
       "occupation        335\n",
       "relationship        0\n",
       "race                0\n",
       "sex                 0\n",
       "capital_gain        0\n",
       "capital_loss        0\n",
       "hours_per_week      0\n",
       "native_country    127\n",
       "dtype: int64"
      ]
     },
     "execution_count": 6,
     "metadata": {},
     "output_type": "execute_result"
    }
   ],
   "source": [
    "train.isnull().sum()\n",
    "test.isnull().sum()"
   ]
  },
  {
   "cell_type": "code",
   "execution_count": null,
   "metadata": {},
   "outputs": [],
   "source": []
  },
  {
   "cell_type": "markdown",
   "metadata": {},
   "source": [
    "### outlier"
   ]
  },
  {
   "cell_type": "markdown",
   "metadata": {},
   "source": [
    "### education"
   ]
  },
  {
   "cell_type": "code",
   "execution_count": 7,
   "metadata": {},
   "outputs": [],
   "source": [
    "train.drop(['education'],axis=1, inplace=True)\n",
    "test.drop(['education'],axis=1, inplace=True)"
   ]
  },
  {
   "cell_type": "code",
   "execution_count": null,
   "metadata": {},
   "outputs": [],
   "source": []
  },
  {
   "cell_type": "markdown",
   "metadata": {},
   "source": [
    "### capital_gain 99999"
   ]
  },
  {
   "cell_type": "code",
   "execution_count": 8,
   "metadata": {},
   "outputs": [
    {
     "data": {
      "text/plain": [
       "(32561, 14)"
      ]
     },
     "execution_count": 8,
     "metadata": {},
     "output_type": "execute_result"
    }
   ],
   "source": [
    "df = pd.concat([train, test])\n",
    "\n",
    "df['capital_gain_imsi'] = df['capital_gain'].replace(99999,0)\n",
    "\n",
    "capital_gain_imsi = pd.DataFrame(df.groupby(['education_num'])['capital_gain_imsi'].mean()).reset_index()\n",
    "\n",
    "train = train.merge(capital_gain_imsi, on=['education_num'], how='left')\n",
    "test = test.merge(capital_gain_imsi, on=['education_num'], how='left')\n",
    "\n",
    "train.loc[train.capital_gain == 99999, 'capital_gain'] = train['capital_gain_imsi']\n",
    "test.loc[test.capital_gain == 99999, 'capital_gain'] = test['capital_gain_imsi']\n",
    "\n",
    "train.drop(['capital_gain_imsi'],axis=1, inplace=True)\n",
    "test.drop(['capital_gain_imsi'],axis=1, inplace=True)"
   ]
  },
  {
   "cell_type": "code",
   "execution_count": 9,
   "metadata": {},
   "outputs": [],
   "source": []
  },
  {
   "cell_type": "code",
   "execution_count": 19,
   "metadata": {},
   "outputs": [
    {
     "data": {
      "text/plain": [
       "Index(['Adm-clerical', 'Armed-Forces', 'Craft-repair', 'Exec-managerial',\n",
       "       'Farming-fishing', 'Handlers-cleaners', 'Machine-op-inspct',\n",
       "       'Other-service', 'Priv-house-serv', 'Prof-specialty', 'Protective-serv',\n",
       "       'Sales', 'Tech-support', 'Transport-moving'],\n",
       "      dtype='object')"
      ]
     },
     "execution_count": 19,
     "metadata": {},
     "output_type": "execute_result"
    },
    {
     "data": {
      "text/plain": [
       "Index(['Adm-clerical', 'Armed-Forces', 'Craft-repair', 'Exec-managerial',\n",
       "       'Farming-fishing', 'Handlers-cleaners', 'Machine-op-inspct',\n",
       "       'Other-service', 'Priv-house-serv', 'Prof-specialty', 'Protective-serv',\n",
       "       'Sales', 'Tech-support', 'Transport-moving'],\n",
       "      dtype='object')"
      ]
     },
     "execution_count": 19,
     "metadata": {},
     "output_type": "execute_result"
    }
   ],
   "source": [
    "pd.factorize(train['occupation'], sort=True)[1]\n",
    "pd.factorize(test['occupation'], sort=True)[1]"
   ]
  },
  {
   "cell_type": "code",
   "execution_count": 20,
   "metadata": {},
   "outputs": [],
   "source": [
    "train['occupation']=pd.factorize(train['occupation'], sort=True)[0]\n",
    "test['occupation']=pd.factorize(test['occupation'], sort=True)[0]"
   ]
  },
  {
   "cell_type": "code",
   "execution_count": 21,
   "metadata": {},
   "outputs": [],
   "source": [
    "train['occupation_n_rows'] = train['occupation'].map(train.groupby('occupation').size())\n",
    "test['occupation_n_rows'] = test['occupation'].map(test.groupby('occupation').size())"
   ]
  },
  {
   "cell_type": "code",
   "execution_count": 26,
   "metadata": {},
   "outputs": [],
   "source": [
    "occupation_mean = train.groupby('occupation')['income'].mean()\n",
    "train['occupation_mean'] = train['occupation'].map(occupation_mean)\n",
    "test['occupation_mean'] = test['occupation'].map(occupation_mean)"
   ]
  },
  {
   "cell_type": "code",
   "execution_count": 22,
   "metadata": {},
   "outputs": [
    {
     "data": {
      "text/plain": [
       "0.242043840454528"
      ]
     },
     "execution_count": 22,
     "metadata": {},
     "output_type": "execute_result"
    }
   ],
   "source": [
    "train['income'].mean() "
   ]
  },
  {
   "cell_type": "code",
   "execution_count": 23,
   "metadata": {},
   "outputs": [],
   "source": [
    "def smoothing(n_rows, target_mean): \n",
    "    return (target_mean*n_rows + 0.242043840454528*0.8) / (n_rows + 0.8)"
   ]
  },
  {
   "cell_type": "code",
   "execution_count": 27,
   "metadata": {},
   "outputs": [],
   "source": [
    "train['occupation_mean_smoothing'] = train.apply(lambda x:smoothing(x['occupation_n_rows'], x['occupation_mean']), axis=1)\n",
    "test['occupation_mean_smoothing'] = test.apply(lambda x:smoothing(x['occupation_n_rows'], x['occupation_mean']), axis=1)"
   ]
  },
  {
   "cell_type": "code",
   "execution_count": 28,
   "metadata": {},
   "outputs": [],
   "source": [
    "train.drop(['occupation_mean', 'occupation_n_rows'], axis=1, inplace=True)\n",
    "test.drop(['occupation_mean', 'occupation_n_rows'], axis=1, inplace=True)"
   ]
  },
  {
   "cell_type": "code",
   "execution_count": null,
   "metadata": {},
   "outputs": [],
   "source": []
  },
  {
   "cell_type": "code",
   "execution_count": null,
   "metadata": {},
   "outputs": [],
   "source": []
  },
  {
   "cell_type": "code",
   "execution_count": null,
   "metadata": {},
   "outputs": [],
   "source": []
  },
  {
   "cell_type": "markdown",
   "metadata": {},
   "source": [
    "# 3. 모델 학습"
   ]
  },
  {
   "cell_type": "code",
   "execution_count": null,
   "metadata": {},
   "outputs": [],
   "source": [
    "import gc\n",
    "gc.collect()"
   ]
  },
  {
   "cell_type": "code",
   "execution_count": null,
   "metadata": {},
   "outputs": [],
   "source": []
  },
  {
   "cell_type": "code",
   "execution_count": 29,
   "metadata": {
    "scrolled": false
   },
   "outputs": [
    {
     "name": "stdout",
     "output_type": "stream",
     "text": [
      "Setup Succesfully Completed!\n"
     ]
    },
    {
     "data": {
      "text/html": [
       "<style  type=\"text/css\" >\n",
       "#T_b5093ea2_1208_11eb_9628_00e0201808a0row4_col1{\n",
       "            background-color:  lightgreen;\n",
       "        }</style><table id=\"T_b5093ea2_1208_11eb_9628_00e0201808a0\" ><thead>    <tr>        <th class=\"blank level0\" ></th>        <th class=\"col_heading level0 col0\" >Description</th>        <th class=\"col_heading level0 col1\" >Value</th>    </tr></thead><tbody>\n",
       "                <tr>\n",
       "                        <th id=\"T_b5093ea2_1208_11eb_9628_00e0201808a0level0_row0\" class=\"row_heading level0 row0\" >0</th>\n",
       "                        <td id=\"T_b5093ea2_1208_11eb_9628_00e0201808a0row0_col0\" class=\"data row0 col0\" >session_id</td>\n",
       "                        <td id=\"T_b5093ea2_1208_11eb_9628_00e0201808a0row0_col1\" class=\"data row0 col1\" >42</td>\n",
       "            </tr>\n",
       "            <tr>\n",
       "                        <th id=\"T_b5093ea2_1208_11eb_9628_00e0201808a0level0_row1\" class=\"row_heading level0 row1\" >1</th>\n",
       "                        <td id=\"T_b5093ea2_1208_11eb_9628_00e0201808a0row1_col0\" class=\"data row1 col0\" >Target Type</td>\n",
       "                        <td id=\"T_b5093ea2_1208_11eb_9628_00e0201808a0row1_col1\" class=\"data row1 col1\" >Binary</td>\n",
       "            </tr>\n",
       "            <tr>\n",
       "                        <th id=\"T_b5093ea2_1208_11eb_9628_00e0201808a0level0_row2\" class=\"row_heading level0 row2\" >2</th>\n",
       "                        <td id=\"T_b5093ea2_1208_11eb_9628_00e0201808a0row2_col0\" class=\"data row2 col0\" >Label Encoded</td>\n",
       "                        <td id=\"T_b5093ea2_1208_11eb_9628_00e0201808a0row2_col1\" class=\"data row2 col1\" >0: 0, 1: 1</td>\n",
       "            </tr>\n",
       "            <tr>\n",
       "                        <th id=\"T_b5093ea2_1208_11eb_9628_00e0201808a0level0_row3\" class=\"row_heading level0 row3\" >3</th>\n",
       "                        <td id=\"T_b5093ea2_1208_11eb_9628_00e0201808a0row3_col0\" class=\"data row3 col0\" >Original Data</td>\n",
       "                        <td id=\"T_b5093ea2_1208_11eb_9628_00e0201808a0row3_col1\" class=\"data row3 col1\" >(26049, 15)</td>\n",
       "            </tr>\n",
       "            <tr>\n",
       "                        <th id=\"T_b5093ea2_1208_11eb_9628_00e0201808a0level0_row4\" class=\"row_heading level0 row4\" >4</th>\n",
       "                        <td id=\"T_b5093ea2_1208_11eb_9628_00e0201808a0row4_col0\" class=\"data row4 col0\" >Missing Values </td>\n",
       "                        <td id=\"T_b5093ea2_1208_11eb_9628_00e0201808a0row4_col1\" class=\"data row4 col1\" >True</td>\n",
       "            </tr>\n",
       "            <tr>\n",
       "                        <th id=\"T_b5093ea2_1208_11eb_9628_00e0201808a0level0_row5\" class=\"row_heading level0 row5\" >5</th>\n",
       "                        <td id=\"T_b5093ea2_1208_11eb_9628_00e0201808a0row5_col0\" class=\"data row5 col0\" >Numeric Features </td>\n",
       "                        <td id=\"T_b5093ea2_1208_11eb_9628_00e0201808a0row5_col1\" class=\"data row5 col1\" >7</td>\n",
       "            </tr>\n",
       "            <tr>\n",
       "                        <th id=\"T_b5093ea2_1208_11eb_9628_00e0201808a0level0_row6\" class=\"row_heading level0 row6\" >6</th>\n",
       "                        <td id=\"T_b5093ea2_1208_11eb_9628_00e0201808a0row6_col0\" class=\"data row6 col0\" >Categorical Features </td>\n",
       "                        <td id=\"T_b5093ea2_1208_11eb_9628_00e0201808a0row6_col1\" class=\"data row6 col1\" >7</td>\n",
       "            </tr>\n",
       "            <tr>\n",
       "                        <th id=\"T_b5093ea2_1208_11eb_9628_00e0201808a0level0_row7\" class=\"row_heading level0 row7\" >7</th>\n",
       "                        <td id=\"T_b5093ea2_1208_11eb_9628_00e0201808a0row7_col0\" class=\"data row7 col0\" >Ordinal Features </td>\n",
       "                        <td id=\"T_b5093ea2_1208_11eb_9628_00e0201808a0row7_col1\" class=\"data row7 col1\" >False</td>\n",
       "            </tr>\n",
       "            <tr>\n",
       "                        <th id=\"T_b5093ea2_1208_11eb_9628_00e0201808a0level0_row8\" class=\"row_heading level0 row8\" >8</th>\n",
       "                        <td id=\"T_b5093ea2_1208_11eb_9628_00e0201808a0row8_col0\" class=\"data row8 col0\" >High Cardinality Features </td>\n",
       "                        <td id=\"T_b5093ea2_1208_11eb_9628_00e0201808a0row8_col1\" class=\"data row8 col1\" >False</td>\n",
       "            </tr>\n",
       "            <tr>\n",
       "                        <th id=\"T_b5093ea2_1208_11eb_9628_00e0201808a0level0_row9\" class=\"row_heading level0 row9\" >9</th>\n",
       "                        <td id=\"T_b5093ea2_1208_11eb_9628_00e0201808a0row9_col0\" class=\"data row9 col0\" >High Cardinality Method </td>\n",
       "                        <td id=\"T_b5093ea2_1208_11eb_9628_00e0201808a0row9_col1\" class=\"data row9 col1\" >None</td>\n",
       "            </tr>\n",
       "            <tr>\n",
       "                        <th id=\"T_b5093ea2_1208_11eb_9628_00e0201808a0level0_row10\" class=\"row_heading level0 row10\" >10</th>\n",
       "                        <td id=\"T_b5093ea2_1208_11eb_9628_00e0201808a0row10_col0\" class=\"data row10 col0\" >Sampled Data</td>\n",
       "                        <td id=\"T_b5093ea2_1208_11eb_9628_00e0201808a0row10_col1\" class=\"data row10 col1\" >(18234, 15)</td>\n",
       "            </tr>\n",
       "            <tr>\n",
       "                        <th id=\"T_b5093ea2_1208_11eb_9628_00e0201808a0level0_row11\" class=\"row_heading level0 row11\" >11</th>\n",
       "                        <td id=\"T_b5093ea2_1208_11eb_9628_00e0201808a0row11_col0\" class=\"data row11 col0\" >Transformed Train Set</td>\n",
       "                        <td id=\"T_b5093ea2_1208_11eb_9628_00e0201808a0row11_col1\" class=\"data row11 col1\" >(12763, 92)</td>\n",
       "            </tr>\n",
       "            <tr>\n",
       "                        <th id=\"T_b5093ea2_1208_11eb_9628_00e0201808a0level0_row12\" class=\"row_heading level0 row12\" >12</th>\n",
       "                        <td id=\"T_b5093ea2_1208_11eb_9628_00e0201808a0row12_col0\" class=\"data row12 col0\" >Transformed Test Set</td>\n",
       "                        <td id=\"T_b5093ea2_1208_11eb_9628_00e0201808a0row12_col1\" class=\"data row12 col1\" >(5471, 92)</td>\n",
       "            </tr>\n",
       "            <tr>\n",
       "                        <th id=\"T_b5093ea2_1208_11eb_9628_00e0201808a0level0_row13\" class=\"row_heading level0 row13\" >13</th>\n",
       "                        <td id=\"T_b5093ea2_1208_11eb_9628_00e0201808a0row13_col0\" class=\"data row13 col0\" >Numeric Imputer </td>\n",
       "                        <td id=\"T_b5093ea2_1208_11eb_9628_00e0201808a0row13_col1\" class=\"data row13 col1\" >mean</td>\n",
       "            </tr>\n",
       "            <tr>\n",
       "                        <th id=\"T_b5093ea2_1208_11eb_9628_00e0201808a0level0_row14\" class=\"row_heading level0 row14\" >14</th>\n",
       "                        <td id=\"T_b5093ea2_1208_11eb_9628_00e0201808a0row14_col0\" class=\"data row14 col0\" >Categorical Imputer </td>\n",
       "                        <td id=\"T_b5093ea2_1208_11eb_9628_00e0201808a0row14_col1\" class=\"data row14 col1\" >constant</td>\n",
       "            </tr>\n",
       "            <tr>\n",
       "                        <th id=\"T_b5093ea2_1208_11eb_9628_00e0201808a0level0_row15\" class=\"row_heading level0 row15\" >15</th>\n",
       "                        <td id=\"T_b5093ea2_1208_11eb_9628_00e0201808a0row15_col0\" class=\"data row15 col0\" >Normalize </td>\n",
       "                        <td id=\"T_b5093ea2_1208_11eb_9628_00e0201808a0row15_col1\" class=\"data row15 col1\" >False</td>\n",
       "            </tr>\n",
       "            <tr>\n",
       "                        <th id=\"T_b5093ea2_1208_11eb_9628_00e0201808a0level0_row16\" class=\"row_heading level0 row16\" >16</th>\n",
       "                        <td id=\"T_b5093ea2_1208_11eb_9628_00e0201808a0row16_col0\" class=\"data row16 col0\" >Normalize Method </td>\n",
       "                        <td id=\"T_b5093ea2_1208_11eb_9628_00e0201808a0row16_col1\" class=\"data row16 col1\" >None</td>\n",
       "            </tr>\n",
       "            <tr>\n",
       "                        <th id=\"T_b5093ea2_1208_11eb_9628_00e0201808a0level0_row17\" class=\"row_heading level0 row17\" >17</th>\n",
       "                        <td id=\"T_b5093ea2_1208_11eb_9628_00e0201808a0row17_col0\" class=\"data row17 col0\" >Transformation </td>\n",
       "                        <td id=\"T_b5093ea2_1208_11eb_9628_00e0201808a0row17_col1\" class=\"data row17 col1\" >False</td>\n",
       "            </tr>\n",
       "            <tr>\n",
       "                        <th id=\"T_b5093ea2_1208_11eb_9628_00e0201808a0level0_row18\" class=\"row_heading level0 row18\" >18</th>\n",
       "                        <td id=\"T_b5093ea2_1208_11eb_9628_00e0201808a0row18_col0\" class=\"data row18 col0\" >Transformation Method </td>\n",
       "                        <td id=\"T_b5093ea2_1208_11eb_9628_00e0201808a0row18_col1\" class=\"data row18 col1\" >None</td>\n",
       "            </tr>\n",
       "            <tr>\n",
       "                        <th id=\"T_b5093ea2_1208_11eb_9628_00e0201808a0level0_row19\" class=\"row_heading level0 row19\" >19</th>\n",
       "                        <td id=\"T_b5093ea2_1208_11eb_9628_00e0201808a0row19_col0\" class=\"data row19 col0\" >PCA </td>\n",
       "                        <td id=\"T_b5093ea2_1208_11eb_9628_00e0201808a0row19_col1\" class=\"data row19 col1\" >False</td>\n",
       "            </tr>\n",
       "            <tr>\n",
       "                        <th id=\"T_b5093ea2_1208_11eb_9628_00e0201808a0level0_row20\" class=\"row_heading level0 row20\" >20</th>\n",
       "                        <td id=\"T_b5093ea2_1208_11eb_9628_00e0201808a0row20_col0\" class=\"data row20 col0\" >PCA Method </td>\n",
       "                        <td id=\"T_b5093ea2_1208_11eb_9628_00e0201808a0row20_col1\" class=\"data row20 col1\" >None</td>\n",
       "            </tr>\n",
       "            <tr>\n",
       "                        <th id=\"T_b5093ea2_1208_11eb_9628_00e0201808a0level0_row21\" class=\"row_heading level0 row21\" >21</th>\n",
       "                        <td id=\"T_b5093ea2_1208_11eb_9628_00e0201808a0row21_col0\" class=\"data row21 col0\" >PCA Components </td>\n",
       "                        <td id=\"T_b5093ea2_1208_11eb_9628_00e0201808a0row21_col1\" class=\"data row21 col1\" >None</td>\n",
       "            </tr>\n",
       "            <tr>\n",
       "                        <th id=\"T_b5093ea2_1208_11eb_9628_00e0201808a0level0_row22\" class=\"row_heading level0 row22\" >22</th>\n",
       "                        <td id=\"T_b5093ea2_1208_11eb_9628_00e0201808a0row22_col0\" class=\"data row22 col0\" >Ignore Low Variance </td>\n",
       "                        <td id=\"T_b5093ea2_1208_11eb_9628_00e0201808a0row22_col1\" class=\"data row22 col1\" >False</td>\n",
       "            </tr>\n",
       "            <tr>\n",
       "                        <th id=\"T_b5093ea2_1208_11eb_9628_00e0201808a0level0_row23\" class=\"row_heading level0 row23\" >23</th>\n",
       "                        <td id=\"T_b5093ea2_1208_11eb_9628_00e0201808a0row23_col0\" class=\"data row23 col0\" >Combine Rare Levels </td>\n",
       "                        <td id=\"T_b5093ea2_1208_11eb_9628_00e0201808a0row23_col1\" class=\"data row23 col1\" >False</td>\n",
       "            </tr>\n",
       "            <tr>\n",
       "                        <th id=\"T_b5093ea2_1208_11eb_9628_00e0201808a0level0_row24\" class=\"row_heading level0 row24\" >24</th>\n",
       "                        <td id=\"T_b5093ea2_1208_11eb_9628_00e0201808a0row24_col0\" class=\"data row24 col0\" >Rare Level Threshold </td>\n",
       "                        <td id=\"T_b5093ea2_1208_11eb_9628_00e0201808a0row24_col1\" class=\"data row24 col1\" >None</td>\n",
       "            </tr>\n",
       "            <tr>\n",
       "                        <th id=\"T_b5093ea2_1208_11eb_9628_00e0201808a0level0_row25\" class=\"row_heading level0 row25\" >25</th>\n",
       "                        <td id=\"T_b5093ea2_1208_11eb_9628_00e0201808a0row25_col0\" class=\"data row25 col0\" >Numeric Binning </td>\n",
       "                        <td id=\"T_b5093ea2_1208_11eb_9628_00e0201808a0row25_col1\" class=\"data row25 col1\" >False</td>\n",
       "            </tr>\n",
       "            <tr>\n",
       "                        <th id=\"T_b5093ea2_1208_11eb_9628_00e0201808a0level0_row26\" class=\"row_heading level0 row26\" >26</th>\n",
       "                        <td id=\"T_b5093ea2_1208_11eb_9628_00e0201808a0row26_col0\" class=\"data row26 col0\" >Remove Outliers </td>\n",
       "                        <td id=\"T_b5093ea2_1208_11eb_9628_00e0201808a0row26_col1\" class=\"data row26 col1\" >False</td>\n",
       "            </tr>\n",
       "            <tr>\n",
       "                        <th id=\"T_b5093ea2_1208_11eb_9628_00e0201808a0level0_row27\" class=\"row_heading level0 row27\" >27</th>\n",
       "                        <td id=\"T_b5093ea2_1208_11eb_9628_00e0201808a0row27_col0\" class=\"data row27 col0\" >Outliers Threshold </td>\n",
       "                        <td id=\"T_b5093ea2_1208_11eb_9628_00e0201808a0row27_col1\" class=\"data row27 col1\" >None</td>\n",
       "            </tr>\n",
       "            <tr>\n",
       "                        <th id=\"T_b5093ea2_1208_11eb_9628_00e0201808a0level0_row28\" class=\"row_heading level0 row28\" >28</th>\n",
       "                        <td id=\"T_b5093ea2_1208_11eb_9628_00e0201808a0row28_col0\" class=\"data row28 col0\" >Remove Multicollinearity </td>\n",
       "                        <td id=\"T_b5093ea2_1208_11eb_9628_00e0201808a0row28_col1\" class=\"data row28 col1\" >False</td>\n",
       "            </tr>\n",
       "            <tr>\n",
       "                        <th id=\"T_b5093ea2_1208_11eb_9628_00e0201808a0level0_row29\" class=\"row_heading level0 row29\" >29</th>\n",
       "                        <td id=\"T_b5093ea2_1208_11eb_9628_00e0201808a0row29_col0\" class=\"data row29 col0\" >Multicollinearity Threshold </td>\n",
       "                        <td id=\"T_b5093ea2_1208_11eb_9628_00e0201808a0row29_col1\" class=\"data row29 col1\" >None</td>\n",
       "            </tr>\n",
       "            <tr>\n",
       "                        <th id=\"T_b5093ea2_1208_11eb_9628_00e0201808a0level0_row30\" class=\"row_heading level0 row30\" >30</th>\n",
       "                        <td id=\"T_b5093ea2_1208_11eb_9628_00e0201808a0row30_col0\" class=\"data row30 col0\" >Clustering </td>\n",
       "                        <td id=\"T_b5093ea2_1208_11eb_9628_00e0201808a0row30_col1\" class=\"data row30 col1\" >False</td>\n",
       "            </tr>\n",
       "            <tr>\n",
       "                        <th id=\"T_b5093ea2_1208_11eb_9628_00e0201808a0level0_row31\" class=\"row_heading level0 row31\" >31</th>\n",
       "                        <td id=\"T_b5093ea2_1208_11eb_9628_00e0201808a0row31_col0\" class=\"data row31 col0\" >Clustering Iteration </td>\n",
       "                        <td id=\"T_b5093ea2_1208_11eb_9628_00e0201808a0row31_col1\" class=\"data row31 col1\" >None</td>\n",
       "            </tr>\n",
       "            <tr>\n",
       "                        <th id=\"T_b5093ea2_1208_11eb_9628_00e0201808a0level0_row32\" class=\"row_heading level0 row32\" >32</th>\n",
       "                        <td id=\"T_b5093ea2_1208_11eb_9628_00e0201808a0row32_col0\" class=\"data row32 col0\" >Polynomial Features </td>\n",
       "                        <td id=\"T_b5093ea2_1208_11eb_9628_00e0201808a0row32_col1\" class=\"data row32 col1\" >False</td>\n",
       "            </tr>\n",
       "            <tr>\n",
       "                        <th id=\"T_b5093ea2_1208_11eb_9628_00e0201808a0level0_row33\" class=\"row_heading level0 row33\" >33</th>\n",
       "                        <td id=\"T_b5093ea2_1208_11eb_9628_00e0201808a0row33_col0\" class=\"data row33 col0\" >Polynomial Degree </td>\n",
       "                        <td id=\"T_b5093ea2_1208_11eb_9628_00e0201808a0row33_col1\" class=\"data row33 col1\" >None</td>\n",
       "            </tr>\n",
       "            <tr>\n",
       "                        <th id=\"T_b5093ea2_1208_11eb_9628_00e0201808a0level0_row34\" class=\"row_heading level0 row34\" >34</th>\n",
       "                        <td id=\"T_b5093ea2_1208_11eb_9628_00e0201808a0row34_col0\" class=\"data row34 col0\" >Trignometry Features </td>\n",
       "                        <td id=\"T_b5093ea2_1208_11eb_9628_00e0201808a0row34_col1\" class=\"data row34 col1\" >False</td>\n",
       "            </tr>\n",
       "            <tr>\n",
       "                        <th id=\"T_b5093ea2_1208_11eb_9628_00e0201808a0level0_row35\" class=\"row_heading level0 row35\" >35</th>\n",
       "                        <td id=\"T_b5093ea2_1208_11eb_9628_00e0201808a0row35_col0\" class=\"data row35 col0\" >Polynomial Threshold </td>\n",
       "                        <td id=\"T_b5093ea2_1208_11eb_9628_00e0201808a0row35_col1\" class=\"data row35 col1\" >None</td>\n",
       "            </tr>\n",
       "            <tr>\n",
       "                        <th id=\"T_b5093ea2_1208_11eb_9628_00e0201808a0level0_row36\" class=\"row_heading level0 row36\" >36</th>\n",
       "                        <td id=\"T_b5093ea2_1208_11eb_9628_00e0201808a0row36_col0\" class=\"data row36 col0\" >Group Features </td>\n",
       "                        <td id=\"T_b5093ea2_1208_11eb_9628_00e0201808a0row36_col1\" class=\"data row36 col1\" >False</td>\n",
       "            </tr>\n",
       "            <tr>\n",
       "                        <th id=\"T_b5093ea2_1208_11eb_9628_00e0201808a0level0_row37\" class=\"row_heading level0 row37\" >37</th>\n",
       "                        <td id=\"T_b5093ea2_1208_11eb_9628_00e0201808a0row37_col0\" class=\"data row37 col0\" >Feature Selection </td>\n",
       "                        <td id=\"T_b5093ea2_1208_11eb_9628_00e0201808a0row37_col1\" class=\"data row37 col1\" >False</td>\n",
       "            </tr>\n",
       "            <tr>\n",
       "                        <th id=\"T_b5093ea2_1208_11eb_9628_00e0201808a0level0_row38\" class=\"row_heading level0 row38\" >38</th>\n",
       "                        <td id=\"T_b5093ea2_1208_11eb_9628_00e0201808a0row38_col0\" class=\"data row38 col0\" >Features Selection Threshold </td>\n",
       "                        <td id=\"T_b5093ea2_1208_11eb_9628_00e0201808a0row38_col1\" class=\"data row38 col1\" >None</td>\n",
       "            </tr>\n",
       "            <tr>\n",
       "                        <th id=\"T_b5093ea2_1208_11eb_9628_00e0201808a0level0_row39\" class=\"row_heading level0 row39\" >39</th>\n",
       "                        <td id=\"T_b5093ea2_1208_11eb_9628_00e0201808a0row39_col0\" class=\"data row39 col0\" >Feature Interaction </td>\n",
       "                        <td id=\"T_b5093ea2_1208_11eb_9628_00e0201808a0row39_col1\" class=\"data row39 col1\" >False</td>\n",
       "            </tr>\n",
       "            <tr>\n",
       "                        <th id=\"T_b5093ea2_1208_11eb_9628_00e0201808a0level0_row40\" class=\"row_heading level0 row40\" >40</th>\n",
       "                        <td id=\"T_b5093ea2_1208_11eb_9628_00e0201808a0row40_col0\" class=\"data row40 col0\" >Feature Ratio </td>\n",
       "                        <td id=\"T_b5093ea2_1208_11eb_9628_00e0201808a0row40_col1\" class=\"data row40 col1\" >False</td>\n",
       "            </tr>\n",
       "            <tr>\n",
       "                        <th id=\"T_b5093ea2_1208_11eb_9628_00e0201808a0level0_row41\" class=\"row_heading level0 row41\" >41</th>\n",
       "                        <td id=\"T_b5093ea2_1208_11eb_9628_00e0201808a0row41_col0\" class=\"data row41 col0\" >Interaction Threshold </td>\n",
       "                        <td id=\"T_b5093ea2_1208_11eb_9628_00e0201808a0row41_col1\" class=\"data row41 col1\" >None</td>\n",
       "            </tr>\n",
       "            <tr>\n",
       "                        <th id=\"T_b5093ea2_1208_11eb_9628_00e0201808a0level0_row42\" class=\"row_heading level0 row42\" >42</th>\n",
       "                        <td id=\"T_b5093ea2_1208_11eb_9628_00e0201808a0row42_col0\" class=\"data row42 col0\" >Fix Imbalance</td>\n",
       "                        <td id=\"T_b5093ea2_1208_11eb_9628_00e0201808a0row42_col1\" class=\"data row42 col1\" >False</td>\n",
       "            </tr>\n",
       "            <tr>\n",
       "                        <th id=\"T_b5093ea2_1208_11eb_9628_00e0201808a0level0_row43\" class=\"row_heading level0 row43\" >43</th>\n",
       "                        <td id=\"T_b5093ea2_1208_11eb_9628_00e0201808a0row43_col0\" class=\"data row43 col0\" >Fix Imbalance Method</td>\n",
       "                        <td id=\"T_b5093ea2_1208_11eb_9628_00e0201808a0row43_col1\" class=\"data row43 col1\" >SMOTE</td>\n",
       "            </tr>\n",
       "    </tbody></table>"
      ],
      "text/plain": [
       "<pandas.io.formats.style.Styler at 0x2354b95da48>"
      ]
     },
     "metadata": {},
     "output_type": "display_data"
    },
    {
     "name": "stdout",
     "output_type": "stream",
     "text": [
      "Wall time: 9.03 s\n"
     ]
    }
   ],
   "source": [
    "%%time\n",
    "clf = setup(session_id=seed, \n",
    "            data = train, target = 'income'\n",
    "          #, categorical_features=col_cat\n",
    "          , numeric_features = ['education_num','occupation_mean_smoothing']\n",
    "          #, ignore_features =tp.tolist() + wr.tolist() + wf.tolist()#'religion', 'race_1', 'race_2', 'race_3','race_4', 'race_5', 'race_6']\n",
    "           )"
   ]
  },
  {
   "cell_type": "code",
   "execution_count": 30,
   "metadata": {},
   "outputs": [
    {
     "data": {
      "text/html": [
       "<style  type=\"text/css\" >\n",
       "    #T_99bdb846_1209_11eb_bd91_00e0201808a0 th {\n",
       "          text-align: left;\n",
       "    }#T_99bdb846_1209_11eb_bd91_00e0201808a0row0_col0,#T_99bdb846_1209_11eb_bd91_00e0201808a0row0_col1,#T_99bdb846_1209_11eb_bd91_00e0201808a0row0_col2,#T_99bdb846_1209_11eb_bd91_00e0201808a0row0_col4,#T_99bdb846_1209_11eb_bd91_00e0201808a0row0_col6,#T_99bdb846_1209_11eb_bd91_00e0201808a0row0_col7,#T_99bdb846_1209_11eb_bd91_00e0201808a0row1_col0,#T_99bdb846_1209_11eb_bd91_00e0201808a0row1_col1,#T_99bdb846_1209_11eb_bd91_00e0201808a0row1_col2,#T_99bdb846_1209_11eb_bd91_00e0201808a0row1_col3,#T_99bdb846_1209_11eb_bd91_00e0201808a0row1_col4,#T_99bdb846_1209_11eb_bd91_00e0201808a0row1_col5,#T_99bdb846_1209_11eb_bd91_00e0201808a0row1_col6,#T_99bdb846_1209_11eb_bd91_00e0201808a0row1_col7,#T_99bdb846_1209_11eb_bd91_00e0201808a0row2_col0,#T_99bdb846_1209_11eb_bd91_00e0201808a0row2_col3,#T_99bdb846_1209_11eb_bd91_00e0201808a0row2_col5,#T_99bdb846_1209_11eb_bd91_00e0201808a0row3_col0,#T_99bdb846_1209_11eb_bd91_00e0201808a0row3_col1,#T_99bdb846_1209_11eb_bd91_00e0201808a0row3_col2,#T_99bdb846_1209_11eb_bd91_00e0201808a0row3_col3,#T_99bdb846_1209_11eb_bd91_00e0201808a0row3_col4,#T_99bdb846_1209_11eb_bd91_00e0201808a0row3_col5,#T_99bdb846_1209_11eb_bd91_00e0201808a0row3_col6,#T_99bdb846_1209_11eb_bd91_00e0201808a0row3_col7,#T_99bdb846_1209_11eb_bd91_00e0201808a0row4_col0,#T_99bdb846_1209_11eb_bd91_00e0201808a0row4_col1,#T_99bdb846_1209_11eb_bd91_00e0201808a0row4_col2,#T_99bdb846_1209_11eb_bd91_00e0201808a0row4_col3,#T_99bdb846_1209_11eb_bd91_00e0201808a0row4_col4,#T_99bdb846_1209_11eb_bd91_00e0201808a0row4_col5,#T_99bdb846_1209_11eb_bd91_00e0201808a0row4_col6,#T_99bdb846_1209_11eb_bd91_00e0201808a0row4_col7,#T_99bdb846_1209_11eb_bd91_00e0201808a0row5_col0,#T_99bdb846_1209_11eb_bd91_00e0201808a0row5_col1,#T_99bdb846_1209_11eb_bd91_00e0201808a0row5_col2,#T_99bdb846_1209_11eb_bd91_00e0201808a0row5_col3,#T_99bdb846_1209_11eb_bd91_00e0201808a0row5_col4,#T_99bdb846_1209_11eb_bd91_00e0201808a0row5_col5,#T_99bdb846_1209_11eb_bd91_00e0201808a0row5_col6,#T_99bdb846_1209_11eb_bd91_00e0201808a0row5_col7,#T_99bdb846_1209_11eb_bd91_00e0201808a0row6_col0,#T_99bdb846_1209_11eb_bd91_00e0201808a0row6_col1,#T_99bdb846_1209_11eb_bd91_00e0201808a0row6_col2,#T_99bdb846_1209_11eb_bd91_00e0201808a0row6_col3,#T_99bdb846_1209_11eb_bd91_00e0201808a0row6_col4,#T_99bdb846_1209_11eb_bd91_00e0201808a0row6_col5,#T_99bdb846_1209_11eb_bd91_00e0201808a0row6_col6,#T_99bdb846_1209_11eb_bd91_00e0201808a0row6_col7,#T_99bdb846_1209_11eb_bd91_00e0201808a0row7_col0,#T_99bdb846_1209_11eb_bd91_00e0201808a0row7_col1,#T_99bdb846_1209_11eb_bd91_00e0201808a0row7_col2,#T_99bdb846_1209_11eb_bd91_00e0201808a0row7_col3,#T_99bdb846_1209_11eb_bd91_00e0201808a0row7_col4,#T_99bdb846_1209_11eb_bd91_00e0201808a0row7_col5,#T_99bdb846_1209_11eb_bd91_00e0201808a0row7_col6,#T_99bdb846_1209_11eb_bd91_00e0201808a0row7_col7{\n",
       "            text-align:  left;\n",
       "        }#T_99bdb846_1209_11eb_bd91_00e0201808a0row0_col3,#T_99bdb846_1209_11eb_bd91_00e0201808a0row0_col5,#T_99bdb846_1209_11eb_bd91_00e0201808a0row2_col1,#T_99bdb846_1209_11eb_bd91_00e0201808a0row2_col2,#T_99bdb846_1209_11eb_bd91_00e0201808a0row2_col4,#T_99bdb846_1209_11eb_bd91_00e0201808a0row2_col6,#T_99bdb846_1209_11eb_bd91_00e0201808a0row2_col7{\n",
       "            background-color:  yellow;\n",
       "            text-align:  left;\n",
       "        }#T_99bdb846_1209_11eb_bd91_00e0201808a0row0_col8,#T_99bdb846_1209_11eb_bd91_00e0201808a0row1_col8,#T_99bdb846_1209_11eb_bd91_00e0201808a0row2_col8,#T_99bdb846_1209_11eb_bd91_00e0201808a0row3_col8,#T_99bdb846_1209_11eb_bd91_00e0201808a0row4_col8,#T_99bdb846_1209_11eb_bd91_00e0201808a0row5_col8,#T_99bdb846_1209_11eb_bd91_00e0201808a0row6_col8,#T_99bdb846_1209_11eb_bd91_00e0201808a0row7_col8{\n",
       "            background-color:  lightgrey;\n",
       "            text-align:  left;\n",
       "        }</style><table id=\"T_99bdb846_1209_11eb_bd91_00e0201808a0\" ><thead>    <tr>        <th class=\"blank level0\" ></th>        <th class=\"col_heading level0 col0\" >Model</th>        <th class=\"col_heading level0 col1\" >Accuracy</th>        <th class=\"col_heading level0 col2\" >AUC</th>        <th class=\"col_heading level0 col3\" >Recall</th>        <th class=\"col_heading level0 col4\" >Prec.</th>        <th class=\"col_heading level0 col5\" >F1</th>        <th class=\"col_heading level0 col6\" >Kappa</th>        <th class=\"col_heading level0 col7\" >MCC</th>        <th class=\"col_heading level0 col8\" >TT (Sec)</th>    </tr></thead><tbody>\n",
       "                <tr>\n",
       "                        <th id=\"T_99bdb846_1209_11eb_bd91_00e0201808a0level0_row0\" class=\"row_heading level0 row0\" >0</th>\n",
       "                        <td id=\"T_99bdb846_1209_11eb_bd91_00e0201808a0row0_col0\" class=\"data row0 col0\" >Extreme Gradient Boosting</td>\n",
       "                        <td id=\"T_99bdb846_1209_11eb_bd91_00e0201808a0row0_col1\" class=\"data row0 col1\" >0.8663</td>\n",
       "                        <td id=\"T_99bdb846_1209_11eb_bd91_00e0201808a0row0_col2\" class=\"data row0 col2\" >0.9216</td>\n",
       "                        <td id=\"T_99bdb846_1209_11eb_bd91_00e0201808a0row0_col3\" class=\"data row0 col3\" >0.6494</td>\n",
       "                        <td id=\"T_99bdb846_1209_11eb_bd91_00e0201808a0row0_col4\" class=\"data row0 col4\" >0.7636</td>\n",
       "                        <td id=\"T_99bdb846_1209_11eb_bd91_00e0201808a0row0_col5\" class=\"data row0 col5\" >0.7015</td>\n",
       "                        <td id=\"T_99bdb846_1209_11eb_bd91_00e0201808a0row0_col6\" class=\"data row0 col6\" >0.6162</td>\n",
       "                        <td id=\"T_99bdb846_1209_11eb_bd91_00e0201808a0row0_col7\" class=\"data row0 col7\" >0.6198</td>\n",
       "                        <td id=\"T_99bdb846_1209_11eb_bd91_00e0201808a0row0_col8\" class=\"data row0 col8\" >2.3208</td>\n",
       "            </tr>\n",
       "            <tr>\n",
       "                        <th id=\"T_99bdb846_1209_11eb_bd91_00e0201808a0level0_row1\" class=\"row_heading level0 row1\" >1</th>\n",
       "                        <td id=\"T_99bdb846_1209_11eb_bd91_00e0201808a0row1_col0\" class=\"data row1 col0\" >Light Gradient Boosting Machine</td>\n",
       "                        <td id=\"T_99bdb846_1209_11eb_bd91_00e0201808a0row1_col1\" class=\"data row1 col1\" >0.8668</td>\n",
       "                        <td id=\"T_99bdb846_1209_11eb_bd91_00e0201808a0row1_col2\" class=\"data row1 col2\" >0.9216</td>\n",
       "                        <td id=\"T_99bdb846_1209_11eb_bd91_00e0201808a0row1_col3\" class=\"data row1 col3\" >0.6445</td>\n",
       "                        <td id=\"T_99bdb846_1209_11eb_bd91_00e0201808a0row1_col4\" class=\"data row1 col4\" >0.7682</td>\n",
       "                        <td id=\"T_99bdb846_1209_11eb_bd91_00e0201808a0row1_col5\" class=\"data row1 col5\" >0.7007</td>\n",
       "                        <td id=\"T_99bdb846_1209_11eb_bd91_00e0201808a0row1_col6\" class=\"data row1 col6\" >0.6159</td>\n",
       "                        <td id=\"T_99bdb846_1209_11eb_bd91_00e0201808a0row1_col7\" class=\"data row1 col7\" >0.6200</td>\n",
       "                        <td id=\"T_99bdb846_1209_11eb_bd91_00e0201808a0row1_col8\" class=\"data row1 col8\" >0.3531</td>\n",
       "            </tr>\n",
       "            <tr>\n",
       "                        <th id=\"T_99bdb846_1209_11eb_bd91_00e0201808a0level0_row2\" class=\"row_heading level0 row2\" >2</th>\n",
       "                        <td id=\"T_99bdb846_1209_11eb_bd91_00e0201808a0row2_col0\" class=\"data row2 col0\" >CatBoost Classifier</td>\n",
       "                        <td id=\"T_99bdb846_1209_11eb_bd91_00e0201808a0row2_col1\" class=\"data row2 col1\" >0.8680</td>\n",
       "                        <td id=\"T_99bdb846_1209_11eb_bd91_00e0201808a0row2_col2\" class=\"data row2 col2\" >0.9247</td>\n",
       "                        <td id=\"T_99bdb846_1209_11eb_bd91_00e0201808a0row2_col3\" class=\"data row2 col3\" >0.6384</td>\n",
       "                        <td id=\"T_99bdb846_1209_11eb_bd91_00e0201808a0row2_col4\" class=\"data row2 col4\" >0.7773</td>\n",
       "                        <td id=\"T_99bdb846_1209_11eb_bd91_00e0201808a0row2_col5\" class=\"data row2 col5\" >0.7006</td>\n",
       "                        <td id=\"T_99bdb846_1209_11eb_bd91_00e0201808a0row2_col6\" class=\"data row2 col6\" >0.6170</td>\n",
       "                        <td id=\"T_99bdb846_1209_11eb_bd91_00e0201808a0row2_col7\" class=\"data row2 col7\" >0.6222</td>\n",
       "                        <td id=\"T_99bdb846_1209_11eb_bd91_00e0201808a0row2_col8\" class=\"data row2 col8\" >13.8283</td>\n",
       "            </tr>\n",
       "            <tr>\n",
       "                        <th id=\"T_99bdb846_1209_11eb_bd91_00e0201808a0level0_row3\" class=\"row_heading level0 row3\" >3</th>\n",
       "                        <td id=\"T_99bdb846_1209_11eb_bd91_00e0201808a0row3_col0\" class=\"data row3 col0\" >Gradient Boosting Classifier</td>\n",
       "                        <td id=\"T_99bdb846_1209_11eb_bd91_00e0201808a0row3_col1\" class=\"data row3 col1\" >0.8639</td>\n",
       "                        <td id=\"T_99bdb846_1209_11eb_bd91_00e0201808a0row3_col2\" class=\"data row3 col2\" >0.9197</td>\n",
       "                        <td id=\"T_99bdb846_1209_11eb_bd91_00e0201808a0row3_col3\" class=\"data row3 col3\" >0.6157</td>\n",
       "                        <td id=\"T_99bdb846_1209_11eb_bd91_00e0201808a0row3_col4\" class=\"data row3 col4\" >0.7761</td>\n",
       "                        <td id=\"T_99bdb846_1209_11eb_bd91_00e0201808a0row3_col5\" class=\"data row3 col5\" >0.6864</td>\n",
       "                        <td id=\"T_99bdb846_1209_11eb_bd91_00e0201808a0row3_col6\" class=\"data row3 col6\" >0.6010</td>\n",
       "                        <td id=\"T_99bdb846_1209_11eb_bd91_00e0201808a0row3_col7\" class=\"data row3 col7\" >0.6077</td>\n",
       "                        <td id=\"T_99bdb846_1209_11eb_bd91_00e0201808a0row3_col8\" class=\"data row3 col8\" >2.5556</td>\n",
       "            </tr>\n",
       "            <tr>\n",
       "                        <th id=\"T_99bdb846_1209_11eb_bd91_00e0201808a0level0_row4\" class=\"row_heading level0 row4\" >4</th>\n",
       "                        <td id=\"T_99bdb846_1209_11eb_bd91_00e0201808a0row4_col0\" class=\"data row4 col0\" >Ada Boost Classifier</td>\n",
       "                        <td id=\"T_99bdb846_1209_11eb_bd91_00e0201808a0row4_col1\" class=\"data row4 col1\" >0.8558</td>\n",
       "                        <td id=\"T_99bdb846_1209_11eb_bd91_00e0201808a0row4_col2\" class=\"data row4 col2\" >0.9114</td>\n",
       "                        <td id=\"T_99bdb846_1209_11eb_bd91_00e0201808a0row4_col3\" class=\"data row4 col3\" >0.6131</td>\n",
       "                        <td id=\"T_99bdb846_1209_11eb_bd91_00e0201808a0row4_col4\" class=\"data row4 col4\" >0.7458</td>\n",
       "                        <td id=\"T_99bdb846_1209_11eb_bd91_00e0201808a0row4_col5\" class=\"data row4 col5\" >0.6728</td>\n",
       "                        <td id=\"T_99bdb846_1209_11eb_bd91_00e0201808a0row4_col6\" class=\"data row4 col6\" >0.5815</td>\n",
       "                        <td id=\"T_99bdb846_1209_11eb_bd91_00e0201808a0row4_col7\" class=\"data row4 col7\" >0.5862</td>\n",
       "                        <td id=\"T_99bdb846_1209_11eb_bd91_00e0201808a0row4_col8\" class=\"data row4 col8\" >0.8650</td>\n",
       "            </tr>\n",
       "            <tr>\n",
       "                        <th id=\"T_99bdb846_1209_11eb_bd91_00e0201808a0level0_row5\" class=\"row_heading level0 row5\" >5</th>\n",
       "                        <td id=\"T_99bdb846_1209_11eb_bd91_00e0201808a0row5_col0\" class=\"data row5 col0\" >Linear Discriminant Analysis</td>\n",
       "                        <td id=\"T_99bdb846_1209_11eb_bd91_00e0201808a0row5_col1\" class=\"data row5 col1\" >0.8460</td>\n",
       "                        <td id=\"T_99bdb846_1209_11eb_bd91_00e0201808a0row5_col2\" class=\"data row5 col2\" >0.9000</td>\n",
       "                        <td id=\"T_99bdb846_1209_11eb_bd91_00e0201808a0row5_col3\" class=\"data row5 col3\" >0.5927</td>\n",
       "                        <td id=\"T_99bdb846_1209_11eb_bd91_00e0201808a0row5_col4\" class=\"data row5 col4\" >0.7216</td>\n",
       "                        <td id=\"T_99bdb846_1209_11eb_bd91_00e0201808a0row5_col5\" class=\"data row5 col5\" >0.6504</td>\n",
       "                        <td id=\"T_99bdb846_1209_11eb_bd91_00e0201808a0row5_col6\" class=\"data row5 col6\" >0.5529</td>\n",
       "                        <td id=\"T_99bdb846_1209_11eb_bd91_00e0201808a0row5_col7\" class=\"data row5 col7\" >0.5576</td>\n",
       "                        <td id=\"T_99bdb846_1209_11eb_bd91_00e0201808a0row5_col8\" class=\"data row5 col8\" >0.1951</td>\n",
       "            </tr>\n",
       "            <tr>\n",
       "                        <th id=\"T_99bdb846_1209_11eb_bd91_00e0201808a0level0_row6\" class=\"row_heading level0 row6\" >6</th>\n",
       "                        <td id=\"T_99bdb846_1209_11eb_bd91_00e0201808a0row6_col0\" class=\"data row6 col0\" >Extra Trees Classifier</td>\n",
       "                        <td id=\"T_99bdb846_1209_11eb_bd91_00e0201808a0row6_col1\" class=\"data row6 col1\" >0.8356</td>\n",
       "                        <td id=\"T_99bdb846_1209_11eb_bd91_00e0201808a0row6_col2\" class=\"data row6 col2\" >0.8827</td>\n",
       "                        <td id=\"T_99bdb846_1209_11eb_bd91_00e0201808a0row6_col3\" class=\"data row6 col3\" >0.6037</td>\n",
       "                        <td id=\"T_99bdb846_1209_11eb_bd91_00e0201808a0row6_col4\" class=\"data row6 col4\" >0.6816</td>\n",
       "                        <td id=\"T_99bdb846_1209_11eb_bd91_00e0201808a0row6_col5\" class=\"data row6 col5\" >0.6400</td>\n",
       "                        <td id=\"T_99bdb846_1209_11eb_bd91_00e0201808a0row6_col6\" class=\"data row6 col6\" >0.5340</td>\n",
       "                        <td id=\"T_99bdb846_1209_11eb_bd91_00e0201808a0row6_col7\" class=\"data row6 col7\" >0.5359</td>\n",
       "                        <td id=\"T_99bdb846_1209_11eb_bd91_00e0201808a0row6_col8\" class=\"data row6 col8\" >0.5808</td>\n",
       "            </tr>\n",
       "            <tr>\n",
       "                        <th id=\"T_99bdb846_1209_11eb_bd91_00e0201808a0level0_row7\" class=\"row_heading level0 row7\" >7</th>\n",
       "                        <td id=\"T_99bdb846_1209_11eb_bd91_00e0201808a0row7_col0\" class=\"data row7 col0\" >Random Forest Classifier</td>\n",
       "                        <td id=\"T_99bdb846_1209_11eb_bd91_00e0201808a0row7_col1\" class=\"data row7 col1\" >0.8418</td>\n",
       "                        <td id=\"T_99bdb846_1209_11eb_bd91_00e0201808a0row7_col2\" class=\"data row7 col2\" >0.8775</td>\n",
       "                        <td id=\"T_99bdb846_1209_11eb_bd91_00e0201808a0row7_col3\" class=\"data row7 col3\" >0.5620</td>\n",
       "                        <td id=\"T_99bdb846_1209_11eb_bd91_00e0201808a0row7_col4\" class=\"data row7 col4\" >0.7231</td>\n",
       "                        <td id=\"T_99bdb846_1209_11eb_bd91_00e0201808a0row7_col5\" class=\"data row7 col5\" >0.6322</td>\n",
       "                        <td id=\"T_99bdb846_1209_11eb_bd91_00e0201808a0row7_col6\" class=\"data row7 col6\" >0.5335</td>\n",
       "                        <td id=\"T_99bdb846_1209_11eb_bd91_00e0201808a0row7_col7\" class=\"data row7 col7\" >0.5405</td>\n",
       "                        <td id=\"T_99bdb846_1209_11eb_bd91_00e0201808a0row7_col8\" class=\"data row7 col8\" >0.1272</td>\n",
       "            </tr>\n",
       "    </tbody></table>"
      ],
      "text/plain": [
       "<pandas.io.formats.style.Styler at 0x2353f739ec8>"
      ]
     },
     "metadata": {},
     "output_type": "display_data"
    }
   ],
   "source": [
    "best_3 = compare_models(sort = 'F1', n_select = 3\n",
    "                       ,exclude=['lr', 'knn', 'nb', 'dt', 'svm', 'rbfsvm', 'ridge','qda']\n",
    "                       #,exclude=['lr', 'knn', 'nb', 'dt', 'svm', 'rbfsvm', 'gpc', 'mlp', 'ridge', 'rf', 'qda', 'ada', 'xgboost']\n",
    "                       )"
   ]
  },
  {
   "cell_type": "code",
   "execution_count": 31,
   "metadata": {},
   "outputs": [
    {
     "data": {
      "text/html": [
       "<style  type=\"text/css\" >\n",
       "#T_e6fff6cc_1209_11eb_8e87_00e0201808a0row5_col0,#T_e6fff6cc_1209_11eb_8e87_00e0201808a0row5_col1,#T_e6fff6cc_1209_11eb_8e87_00e0201808a0row5_col2,#T_e6fff6cc_1209_11eb_8e87_00e0201808a0row5_col3,#T_e6fff6cc_1209_11eb_8e87_00e0201808a0row5_col4,#T_e6fff6cc_1209_11eb_8e87_00e0201808a0row5_col5,#T_e6fff6cc_1209_11eb_8e87_00e0201808a0row5_col6{\n",
       "            background:  yellow;\n",
       "        }</style><table id=\"T_e6fff6cc_1209_11eb_8e87_00e0201808a0\" ><thead>    <tr>        <th class=\"blank level0\" ></th>        <th class=\"col_heading level0 col0\" >Accuracy</th>        <th class=\"col_heading level0 col1\" >AUC</th>        <th class=\"col_heading level0 col2\" >Recall</th>        <th class=\"col_heading level0 col3\" >Prec.</th>        <th class=\"col_heading level0 col4\" >F1</th>        <th class=\"col_heading level0 col5\" >Kappa</th>        <th class=\"col_heading level0 col6\" >MCC</th>    </tr></thead><tbody>\n",
       "                <tr>\n",
       "                        <th id=\"T_e6fff6cc_1209_11eb_8e87_00e0201808a0level0_row0\" class=\"row_heading level0 row0\" >0</th>\n",
       "                        <td id=\"T_e6fff6cc_1209_11eb_8e87_00e0201808a0row0_col0\" class=\"data row0 col0\" >0.8668</td>\n",
       "                        <td id=\"T_e6fff6cc_1209_11eb_8e87_00e0201808a0row0_col1\" class=\"data row0 col1\" >0.9222</td>\n",
       "                        <td id=\"T_e6fff6cc_1209_11eb_8e87_00e0201808a0row0_col2\" class=\"data row0 col2\" >0.6456</td>\n",
       "                        <td id=\"T_e6fff6cc_1209_11eb_8e87_00e0201808a0row0_col3\" class=\"data row0 col3\" >0.7673</td>\n",
       "                        <td id=\"T_e6fff6cc_1209_11eb_8e87_00e0201808a0row0_col4\" class=\"data row0 col4\" >0.7012</td>\n",
       "                        <td id=\"T_e6fff6cc_1209_11eb_8e87_00e0201808a0row0_col5\" class=\"data row0 col5\" >0.6164</td>\n",
       "                        <td id=\"T_e6fff6cc_1209_11eb_8e87_00e0201808a0row0_col6\" class=\"data row0 col6\" >0.6202</td>\n",
       "            </tr>\n",
       "            <tr>\n",
       "                        <th id=\"T_e6fff6cc_1209_11eb_8e87_00e0201808a0level0_row1\" class=\"row_heading level0 row1\" >1</th>\n",
       "                        <td id=\"T_e6fff6cc_1209_11eb_8e87_00e0201808a0row1_col0\" class=\"data row1 col0\" >0.8621</td>\n",
       "                        <td id=\"T_e6fff6cc_1209_11eb_8e87_00e0201808a0row1_col1\" class=\"data row1 col1\" >0.9181</td>\n",
       "                        <td id=\"T_e6fff6cc_1209_11eb_8e87_00e0201808a0row1_col2\" class=\"data row1 col2\" >0.6440</td>\n",
       "                        <td id=\"T_e6fff6cc_1209_11eb_8e87_00e0201808a0row1_col3\" class=\"data row1 col3\" >0.7509</td>\n",
       "                        <td id=\"T_e6fff6cc_1209_11eb_8e87_00e0201808a0row1_col4\" class=\"data row1 col4\" >0.6934</td>\n",
       "                        <td id=\"T_e6fff6cc_1209_11eb_8e87_00e0201808a0row1_col5\" class=\"data row1 col5\" >0.6051</td>\n",
       "                        <td id=\"T_e6fff6cc_1209_11eb_8e87_00e0201808a0row1_col6\" class=\"data row1 col6\" >0.6081</td>\n",
       "            </tr>\n",
       "            <tr>\n",
       "                        <th id=\"T_e6fff6cc_1209_11eb_8e87_00e0201808a0level0_row2\" class=\"row_heading level0 row2\" >2</th>\n",
       "                        <td id=\"T_e6fff6cc_1209_11eb_8e87_00e0201808a0row2_col0\" class=\"data row2 col0\" >0.8598</td>\n",
       "                        <td id=\"T_e6fff6cc_1209_11eb_8e87_00e0201808a0row2_col1\" class=\"data row2 col1\" >0.9232</td>\n",
       "                        <td id=\"T_e6fff6cc_1209_11eb_8e87_00e0201808a0row2_col2\" class=\"data row2 col2\" >0.6214</td>\n",
       "                        <td id=\"T_e6fff6cc_1209_11eb_8e87_00e0201808a0row2_col3\" class=\"data row2 col3\" >0.7559</td>\n",
       "                        <td id=\"T_e6fff6cc_1209_11eb_8e87_00e0201808a0row2_col4\" class=\"data row2 col4\" >0.6821</td>\n",
       "                        <td id=\"T_e6fff6cc_1209_11eb_8e87_00e0201808a0row2_col5\" class=\"data row2 col5\" >0.5932</td>\n",
       "                        <td id=\"T_e6fff6cc_1209_11eb_8e87_00e0201808a0row2_col6\" class=\"data row2 col6\" >0.5979</td>\n",
       "            </tr>\n",
       "            <tr>\n",
       "                        <th id=\"T_e6fff6cc_1209_11eb_8e87_00e0201808a0level0_row3\" class=\"row_heading level0 row3\" >3</th>\n",
       "                        <td id=\"T_e6fff6cc_1209_11eb_8e87_00e0201808a0row3_col0\" class=\"data row3 col0\" >0.8742</td>\n",
       "                        <td id=\"T_e6fff6cc_1209_11eb_8e87_00e0201808a0row3_col1\" class=\"data row3 col1\" >0.9305</td>\n",
       "                        <td id=\"T_e6fff6cc_1209_11eb_8e87_00e0201808a0row3_col2\" class=\"data row3 col2\" >0.6434</td>\n",
       "                        <td id=\"T_e6fff6cc_1209_11eb_8e87_00e0201808a0row3_col3\" class=\"data row3 col3\" >0.7972</td>\n",
       "                        <td id=\"T_e6fff6cc_1209_11eb_8e87_00e0201808a0row3_col4\" class=\"data row3 col4\" >0.7121</td>\n",
       "                        <td id=\"T_e6fff6cc_1209_11eb_8e87_00e0201808a0row3_col5\" class=\"data row3 col5\" >0.6328</td>\n",
       "                        <td id=\"T_e6fff6cc_1209_11eb_8e87_00e0201808a0row3_col6\" class=\"data row3 col6\" >0.6388</td>\n",
       "            </tr>\n",
       "            <tr>\n",
       "                        <th id=\"T_e6fff6cc_1209_11eb_8e87_00e0201808a0level0_row4\" class=\"row_heading level0 row4\" >4</th>\n",
       "                        <td id=\"T_e6fff6cc_1209_11eb_8e87_00e0201808a0row4_col0\" class=\"data row4 col0\" >0.8699</td>\n",
       "                        <td id=\"T_e6fff6cc_1209_11eb_8e87_00e0201808a0row4_col1\" class=\"data row4 col1\" >0.9246</td>\n",
       "                        <td id=\"T_e6fff6cc_1209_11eb_8e87_00e0201808a0row4_col2\" class=\"data row4 col2\" >0.6618</td>\n",
       "                        <td id=\"T_e6fff6cc_1209_11eb_8e87_00e0201808a0row4_col3\" class=\"data row4 col3\" >0.7688</td>\n",
       "                        <td id=\"T_e6fff6cc_1209_11eb_8e87_00e0201808a0row4_col4\" class=\"data row4 col4\" >0.7113</td>\n",
       "                        <td id=\"T_e6fff6cc_1209_11eb_8e87_00e0201808a0row4_col5\" class=\"data row4 col5\" >0.6279</td>\n",
       "                        <td id=\"T_e6fff6cc_1209_11eb_8e87_00e0201808a0row4_col6\" class=\"data row4 col6\" >0.6309</td>\n",
       "            </tr>\n",
       "            <tr>\n",
       "                        <th id=\"T_e6fff6cc_1209_11eb_8e87_00e0201808a0level0_row5\" class=\"row_heading level0 row5\" >Mean</th>\n",
       "                        <td id=\"T_e6fff6cc_1209_11eb_8e87_00e0201808a0row5_col0\" class=\"data row5 col0\" >0.8666</td>\n",
       "                        <td id=\"T_e6fff6cc_1209_11eb_8e87_00e0201808a0row5_col1\" class=\"data row5 col1\" >0.9237</td>\n",
       "                        <td id=\"T_e6fff6cc_1209_11eb_8e87_00e0201808a0row5_col2\" class=\"data row5 col2\" >0.6433</td>\n",
       "                        <td id=\"T_e6fff6cc_1209_11eb_8e87_00e0201808a0row5_col3\" class=\"data row5 col3\" >0.7680</td>\n",
       "                        <td id=\"T_e6fff6cc_1209_11eb_8e87_00e0201808a0row5_col4\" class=\"data row5 col4\" >0.7000</td>\n",
       "                        <td id=\"T_e6fff6cc_1209_11eb_8e87_00e0201808a0row5_col5\" class=\"data row5 col5\" >0.6151</td>\n",
       "                        <td id=\"T_e6fff6cc_1209_11eb_8e87_00e0201808a0row5_col6\" class=\"data row5 col6\" >0.6192</td>\n",
       "            </tr>\n",
       "            <tr>\n",
       "                        <th id=\"T_e6fff6cc_1209_11eb_8e87_00e0201808a0level0_row6\" class=\"row_heading level0 row6\" >SD</th>\n",
       "                        <td id=\"T_e6fff6cc_1209_11eb_8e87_00e0201808a0row6_col0\" class=\"data row6 col0\" >0.0052</td>\n",
       "                        <td id=\"T_e6fff6cc_1209_11eb_8e87_00e0201808a0row6_col1\" class=\"data row6 col1\" >0.0040</td>\n",
       "                        <td id=\"T_e6fff6cc_1209_11eb_8e87_00e0201808a0row6_col2\" class=\"data row6 col2\" >0.0129</td>\n",
       "                        <td id=\"T_e6fff6cc_1209_11eb_8e87_00e0201808a0row6_col3\" class=\"data row6 col3\" >0.0161</td>\n",
       "                        <td id=\"T_e6fff6cc_1209_11eb_8e87_00e0201808a0row6_col4\" class=\"data row6 col4\" >0.0113</td>\n",
       "                        <td id=\"T_e6fff6cc_1209_11eb_8e87_00e0201808a0row6_col5\" class=\"data row6 col5\" >0.0146</td>\n",
       "                        <td id=\"T_e6fff6cc_1209_11eb_8e87_00e0201808a0row6_col6\" class=\"data row6 col6\" >0.0148</td>\n",
       "            </tr>\n",
       "    </tbody></table>"
      ],
      "text/plain": [
       "<pandas.io.formats.style.Styler at 0x235564f80c8>"
      ]
     },
     "metadata": {},
     "output_type": "display_data"
    }
   ],
   "source": [
    "blended = blend_models(estimator_list = best_3, fold = 5, method = 'soft')"
   ]
  },
  {
   "cell_type": "code",
   "execution_count": 32,
   "metadata": {},
   "outputs": [
    {
     "data": {
      "text/html": [
       "<div>\n",
       "<style scoped>\n",
       "    .dataframe tbody tr th:only-of-type {\n",
       "        vertical-align: middle;\n",
       "    }\n",
       "\n",
       "    .dataframe tbody tr th {\n",
       "        vertical-align: top;\n",
       "    }\n",
       "\n",
       "    .dataframe thead th {\n",
       "        text-align: right;\n",
       "    }\n",
       "</style>\n",
       "<table border=\"1\" class=\"dataframe\">\n",
       "  <thead>\n",
       "    <tr style=\"text-align: right;\">\n",
       "      <th></th>\n",
       "      <th>Model</th>\n",
       "      <th>Accuracy</th>\n",
       "      <th>AUC</th>\n",
       "      <th>Recall</th>\n",
       "      <th>Prec.</th>\n",
       "      <th>F1</th>\n",
       "      <th>Kappa</th>\n",
       "      <th>MCC</th>\n",
       "    </tr>\n",
       "  </thead>\n",
       "  <tbody>\n",
       "    <tr>\n",
       "      <th>0</th>\n",
       "      <td>Voting Classifier</td>\n",
       "      <td>0.8721</td>\n",
       "      <td>0.9291</td>\n",
       "      <td>0.6533</td>\n",
       "      <td>0.7821</td>\n",
       "      <td>0.7119</td>\n",
       "      <td>0.6305</td>\n",
       "      <td>0.6348</td>\n",
       "    </tr>\n",
       "  </tbody>\n",
       "</table>\n",
       "</div>"
      ],
      "text/plain": [
       "               Model  Accuracy     AUC  Recall   Prec.      F1   Kappa     MCC\n",
       "0  Voting Classifier    0.8721  0.9291  0.6533  0.7821  0.7119  0.6305  0.6348"
      ]
     },
     "metadata": {},
     "output_type": "display_data"
    }
   ],
   "source": [
    "pred_holdout = predict_model(blended)"
   ]
  },
  {
   "cell_type": "code",
   "execution_count": 33,
   "metadata": {},
   "outputs": [
    {
     "name": "stdout",
     "output_type": "stream",
     "text": [
      "Wall time: 3min 49s\n"
     ]
    }
   ],
   "source": [
    "%%time\n",
    "final_model = finalize_model(blended)"
   ]
  },
  {
   "cell_type": "code",
   "execution_count": 34,
   "metadata": {},
   "outputs": [],
   "source": [
    "predictions = predict_model(final_model, data = test)"
   ]
  },
  {
   "cell_type": "markdown",
   "metadata": {},
   "source": [
    "# 4. 예측"
   ]
  },
  {
   "cell_type": "code",
   "execution_count": 35,
   "metadata": {},
   "outputs": [],
   "source": [
    "submission['prediction'] = predictions['Label']"
   ]
  },
  {
   "cell_type": "markdown",
   "metadata": {},
   "source": [
    "# 5. 제출"
   ]
  },
  {
   "cell_type": "code",
   "execution_count": 36,
   "metadata": {},
   "outputs": [],
   "source": [
    "submission.to_csv('output/20201019-1.csv')"
   ]
  },
  {
   "cell_type": "code",
   "execution_count": null,
   "metadata": {},
   "outputs": [],
   "source": []
  },
  {
   "cell_type": "code",
   "execution_count": 37,
   "metadata": {},
   "outputs": [
    {
     "data": {
      "text/html": [
       "<style  type=\"text/css\" >\n",
       "#T_81750dae_120a_11eb_9220_00e0201808a0row10_col0,#T_81750dae_120a_11eb_9220_00e0201808a0row10_col1,#T_81750dae_120a_11eb_9220_00e0201808a0row10_col2,#T_81750dae_120a_11eb_9220_00e0201808a0row10_col3,#T_81750dae_120a_11eb_9220_00e0201808a0row10_col4,#T_81750dae_120a_11eb_9220_00e0201808a0row10_col5,#T_81750dae_120a_11eb_9220_00e0201808a0row10_col6{\n",
       "            background:  yellow;\n",
       "        }</style><table id=\"T_81750dae_120a_11eb_9220_00e0201808a0\" ><thead>    <tr>        <th class=\"blank level0\" ></th>        <th class=\"col_heading level0 col0\" >Accuracy</th>        <th class=\"col_heading level0 col1\" >AUC</th>        <th class=\"col_heading level0 col2\" >Recall</th>        <th class=\"col_heading level0 col3\" >Prec.</th>        <th class=\"col_heading level0 col4\" >F1</th>        <th class=\"col_heading level0 col5\" >Kappa</th>        <th class=\"col_heading level0 col6\" >MCC</th>    </tr></thead><tbody>\n",
       "                <tr>\n",
       "                        <th id=\"T_81750dae_120a_11eb_9220_00e0201808a0level0_row0\" class=\"row_heading level0 row0\" >0</th>\n",
       "                        <td id=\"T_81750dae_120a_11eb_9220_00e0201808a0row0_col0\" class=\"data row0 col0\" >0.8684</td>\n",
       "                        <td id=\"T_81750dae_120a_11eb_9220_00e0201808a0row0_col1\" class=\"data row0 col1\" >0.9187</td>\n",
       "                        <td id=\"T_81750dae_120a_11eb_9220_00e0201808a0row0_col2\" class=\"data row0 col2\" >0.6149</td>\n",
       "                        <td id=\"T_81750dae_120a_11eb_9220_00e0201808a0row0_col3\" class=\"data row0 col3\" >0.7950</td>\n",
       "                        <td id=\"T_81750dae_120a_11eb_9220_00e0201808a0row0_col4\" class=\"data row0 col4\" >0.6934</td>\n",
       "                        <td id=\"T_81750dae_120a_11eb_9220_00e0201808a0row0_col5\" class=\"data row0 col5\" >0.6114</td>\n",
       "                        <td id=\"T_81750dae_120a_11eb_9220_00e0201808a0row0_col6\" class=\"data row0 col6\" >0.6196</td>\n",
       "            </tr>\n",
       "            <tr>\n",
       "                        <th id=\"T_81750dae_120a_11eb_9220_00e0201808a0level0_row1\" class=\"row_heading level0 row1\" >1</th>\n",
       "                        <td id=\"T_81750dae_120a_11eb_9220_00e0201808a0row1_col0\" class=\"data row1 col0\" >0.8637</td>\n",
       "                        <td id=\"T_81750dae_120a_11eb_9220_00e0201808a0row1_col1\" class=\"data row1 col1\" >0.9170</td>\n",
       "                        <td id=\"T_81750dae_120a_11eb_9220_00e0201808a0row1_col2\" class=\"data row1 col2\" >0.6667</td>\n",
       "                        <td id=\"T_81750dae_120a_11eb_9220_00e0201808a0row1_col3\" class=\"data row1 col3\" >0.7437</td>\n",
       "                        <td id=\"T_81750dae_120a_11eb_9220_00e0201808a0row1_col4\" class=\"data row1 col4\" >0.7031</td>\n",
       "                        <td id=\"T_81750dae_120a_11eb_9220_00e0201808a0row1_col5\" class=\"data row1 col5\" >0.6150</td>\n",
       "                        <td id=\"T_81750dae_120a_11eb_9220_00e0201808a0row1_col6\" class=\"data row1 col6\" >0.6165</td>\n",
       "            </tr>\n",
       "            <tr>\n",
       "                        <th id=\"T_81750dae_120a_11eb_9220_00e0201808a0level0_row2\" class=\"row_heading level0 row2\" >2</th>\n",
       "                        <td id=\"T_81750dae_120a_11eb_9220_00e0201808a0row2_col0\" class=\"data row2 col0\" >0.8645</td>\n",
       "                        <td id=\"T_81750dae_120a_11eb_9220_00e0201808a0row2_col1\" class=\"data row2 col1\" >0.9193</td>\n",
       "                        <td id=\"T_81750dae_120a_11eb_9220_00e0201808a0row2_col2\" class=\"data row2 col2\" >0.6699</td>\n",
       "                        <td id=\"T_81750dae_120a_11eb_9220_00e0201808a0row2_col3\" class=\"data row2 col3\" >0.7446</td>\n",
       "                        <td id=\"T_81750dae_120a_11eb_9220_00e0201808a0row2_col4\" class=\"data row2 col4\" >0.7053</td>\n",
       "                        <td id=\"T_81750dae_120a_11eb_9220_00e0201808a0row2_col5\" class=\"data row2 col5\" >0.6176</td>\n",
       "                        <td id=\"T_81750dae_120a_11eb_9220_00e0201808a0row2_col6\" class=\"data row2 col6\" >0.6191</td>\n",
       "            </tr>\n",
       "            <tr>\n",
       "                        <th id=\"T_81750dae_120a_11eb_9220_00e0201808a0level0_row3\" class=\"row_heading level0 row3\" >3</th>\n",
       "                        <td id=\"T_81750dae_120a_11eb_9220_00e0201808a0row3_col0\" class=\"data row3 col0\" >0.8574</td>\n",
       "                        <td id=\"T_81750dae_120a_11eb_9220_00e0201808a0row3_col1\" class=\"data row3 col1\" >0.9182</td>\n",
       "                        <td id=\"T_81750dae_120a_11eb_9220_00e0201808a0row3_col2\" class=\"data row3 col2\" >0.6299</td>\n",
       "                        <td id=\"T_81750dae_120a_11eb_9220_00e0201808a0row3_col3\" class=\"data row3 col3\" >0.7405</td>\n",
       "                        <td id=\"T_81750dae_120a_11eb_9220_00e0201808a0row3_col4\" class=\"data row3 col4\" >0.6807</td>\n",
       "                        <td id=\"T_81750dae_120a_11eb_9220_00e0201808a0row3_col5\" class=\"data row3 col5\" >0.5896</td>\n",
       "                        <td id=\"T_81750dae_120a_11eb_9220_00e0201808a0row3_col6\" class=\"data row3 col6\" >0.5928</td>\n",
       "            </tr>\n",
       "            <tr>\n",
       "                        <th id=\"T_81750dae_120a_11eb_9220_00e0201808a0level0_row4\" class=\"row_heading level0 row4\" >4</th>\n",
       "                        <td id=\"T_81750dae_120a_11eb_9220_00e0201808a0row4_col0\" class=\"data row4 col0\" >0.8503</td>\n",
       "                        <td id=\"T_81750dae_120a_11eb_9220_00e0201808a0row4_col1\" class=\"data row4 col1\" >0.9045</td>\n",
       "                        <td id=\"T_81750dae_120a_11eb_9220_00e0201808a0row4_col2\" class=\"data row4 col2\" >0.6052</td>\n",
       "                        <td id=\"T_81750dae_120a_11eb_9220_00e0201808a0row4_col3\" class=\"data row4 col3\" >0.7305</td>\n",
       "                        <td id=\"T_81750dae_120a_11eb_9220_00e0201808a0row4_col4\" class=\"data row4 col4\" >0.6619</td>\n",
       "                        <td id=\"T_81750dae_120a_11eb_9220_00e0201808a0row4_col5\" class=\"data row4 col5\" >0.5669</td>\n",
       "                        <td id=\"T_81750dae_120a_11eb_9220_00e0201808a0row4_col6\" class=\"data row4 col6\" >0.5710</td>\n",
       "            </tr>\n",
       "            <tr>\n",
       "                        <th id=\"T_81750dae_120a_11eb_9220_00e0201808a0level0_row5\" class=\"row_heading level0 row5\" >5</th>\n",
       "                        <td id=\"T_81750dae_120a_11eb_9220_00e0201808a0row5_col0\" class=\"data row5 col0\" >0.8652</td>\n",
       "                        <td id=\"T_81750dae_120a_11eb_9220_00e0201808a0row5_col1\" class=\"data row5 col1\" >0.9288</td>\n",
       "                        <td id=\"T_81750dae_120a_11eb_9220_00e0201808a0row5_col2\" class=\"data row5 col2\" >0.6634</td>\n",
       "                        <td id=\"T_81750dae_120a_11eb_9220_00e0201808a0row5_col3\" class=\"data row5 col3\" >0.7509</td>\n",
       "                        <td id=\"T_81750dae_120a_11eb_9220_00e0201808a0row5_col4\" class=\"data row5 col4\" >0.7045</td>\n",
       "                        <td id=\"T_81750dae_120a_11eb_9220_00e0201808a0row5_col5\" class=\"data row5 col5\" >0.6176</td>\n",
       "                        <td id=\"T_81750dae_120a_11eb_9220_00e0201808a0row5_col6\" class=\"data row5 col6\" >0.6196</td>\n",
       "            </tr>\n",
       "            <tr>\n",
       "                        <th id=\"T_81750dae_120a_11eb_9220_00e0201808a0level0_row6\" class=\"row_heading level0 row6\" >6</th>\n",
       "                        <td id=\"T_81750dae_120a_11eb_9220_00e0201808a0row6_col0\" class=\"data row6 col0\" >0.8785</td>\n",
       "                        <td id=\"T_81750dae_120a_11eb_9220_00e0201808a0row6_col1\" class=\"data row6 col1\" >0.9358</td>\n",
       "                        <td id=\"T_81750dae_120a_11eb_9220_00e0201808a0row6_col2\" class=\"data row6 col2\" >0.6570</td>\n",
       "                        <td id=\"T_81750dae_120a_11eb_9220_00e0201808a0row6_col3\" class=\"data row6 col3\" >0.8056</td>\n",
       "                        <td id=\"T_81750dae_120a_11eb_9220_00e0201808a0row6_col4\" class=\"data row6 col4\" >0.7237</td>\n",
       "                        <td id=\"T_81750dae_120a_11eb_9220_00e0201808a0row6_col5\" class=\"data row6 col5\" >0.6469</td>\n",
       "                        <td id=\"T_81750dae_120a_11eb_9220_00e0201808a0row6_col6\" class=\"data row6 col6\" >0.6524</td>\n",
       "            </tr>\n",
       "            <tr>\n",
       "                        <th id=\"T_81750dae_120a_11eb_9220_00e0201808a0level0_row7\" class=\"row_heading level0 row7\" >7</th>\n",
       "                        <td id=\"T_81750dae_120a_11eb_9220_00e0201808a0row7_col0\" class=\"data row7 col0\" >0.8715</td>\n",
       "                        <td id=\"T_81750dae_120a_11eb_9220_00e0201808a0row7_col1\" class=\"data row7 col1\" >0.9258</td>\n",
       "                        <td id=\"T_81750dae_120a_11eb_9220_00e0201808a0row7_col2\" class=\"data row7 col2\" >0.6570</td>\n",
       "                        <td id=\"T_81750dae_120a_11eb_9220_00e0201808a0row7_col3\" class=\"data row7 col3\" >0.7778</td>\n",
       "                        <td id=\"T_81750dae_120a_11eb_9220_00e0201808a0row7_col4\" class=\"data row7 col4\" >0.7123</td>\n",
       "                        <td id=\"T_81750dae_120a_11eb_9220_00e0201808a0row7_col5\" class=\"data row7 col5\" >0.6303</td>\n",
       "                        <td id=\"T_81750dae_120a_11eb_9220_00e0201808a0row7_col6\" class=\"data row7 col6\" >0.6340</td>\n",
       "            </tr>\n",
       "            <tr>\n",
       "                        <th id=\"T_81750dae_120a_11eb_9220_00e0201808a0level0_row8\" class=\"row_heading level0 row8\" >8</th>\n",
       "                        <td id=\"T_81750dae_120a_11eb_9220_00e0201808a0row8_col0\" class=\"data row8 col0\" >0.8683</td>\n",
       "                        <td id=\"T_81750dae_120a_11eb_9220_00e0201808a0row8_col1\" class=\"data row8 col1\" >0.9231</td>\n",
       "                        <td id=\"T_81750dae_120a_11eb_9220_00e0201808a0row8_col2\" class=\"data row8 col2\" >0.6440</td>\n",
       "                        <td id=\"T_81750dae_120a_11eb_9220_00e0201808a0row8_col3\" class=\"data row8 col3\" >0.7743</td>\n",
       "                        <td id=\"T_81750dae_120a_11eb_9220_00e0201808a0row8_col4\" class=\"data row8 col4\" >0.7032</td>\n",
       "                        <td id=\"T_81750dae_120a_11eb_9220_00e0201808a0row8_col5\" class=\"data row8 col5\" >0.6195</td>\n",
       "                        <td id=\"T_81750dae_120a_11eb_9220_00e0201808a0row8_col6\" class=\"data row8 col6\" >0.6238</td>\n",
       "            </tr>\n",
       "            <tr>\n",
       "                        <th id=\"T_81750dae_120a_11eb_9220_00e0201808a0level0_row9\" class=\"row_heading level0 row9\" >9</th>\n",
       "                        <td id=\"T_81750dae_120a_11eb_9220_00e0201808a0row9_col0\" class=\"data row9 col0\" >0.8754</td>\n",
       "                        <td id=\"T_81750dae_120a_11eb_9220_00e0201808a0row9_col1\" class=\"data row9 col1\" >0.9249</td>\n",
       "                        <td id=\"T_81750dae_120a_11eb_9220_00e0201808a0row9_col2\" class=\"data row9 col2\" >0.6861</td>\n",
       "                        <td id=\"T_81750dae_120a_11eb_9220_00e0201808a0row9_col3\" class=\"data row9 col3\" >0.7737</td>\n",
       "                        <td id=\"T_81750dae_120a_11eb_9220_00e0201808a0row9_col4\" class=\"data row9 col4\" >0.7273</td>\n",
       "                        <td id=\"T_81750dae_120a_11eb_9220_00e0201808a0row9_col5\" class=\"data row9 col5\" >0.6469</td>\n",
       "                        <td id=\"T_81750dae_120a_11eb_9220_00e0201808a0row9_col6\" class=\"data row9 col6\" >0.6489</td>\n",
       "            </tr>\n",
       "            <tr>\n",
       "                        <th id=\"T_81750dae_120a_11eb_9220_00e0201808a0level0_row10\" class=\"row_heading level0 row10\" >Mean</th>\n",
       "                        <td id=\"T_81750dae_120a_11eb_9220_00e0201808a0row10_col0\" class=\"data row10 col0\" >0.8663</td>\n",
       "                        <td id=\"T_81750dae_120a_11eb_9220_00e0201808a0row10_col1\" class=\"data row10 col1\" >0.9216</td>\n",
       "                        <td id=\"T_81750dae_120a_11eb_9220_00e0201808a0row10_col2\" class=\"data row10 col2\" >0.6494</td>\n",
       "                        <td id=\"T_81750dae_120a_11eb_9220_00e0201808a0row10_col3\" class=\"data row10 col3\" >0.7636</td>\n",
       "                        <td id=\"T_81750dae_120a_11eb_9220_00e0201808a0row10_col4\" class=\"data row10 col4\" >0.7015</td>\n",
       "                        <td id=\"T_81750dae_120a_11eb_9220_00e0201808a0row10_col5\" class=\"data row10 col5\" >0.6162</td>\n",
       "                        <td id=\"T_81750dae_120a_11eb_9220_00e0201808a0row10_col6\" class=\"data row10 col6\" >0.6198</td>\n",
       "            </tr>\n",
       "            <tr>\n",
       "                        <th id=\"T_81750dae_120a_11eb_9220_00e0201808a0level0_row11\" class=\"row_heading level0 row11\" >SD</th>\n",
       "                        <td id=\"T_81750dae_120a_11eb_9220_00e0201808a0row11_col0\" class=\"data row11 col0\" >0.0078</td>\n",
       "                        <td id=\"T_81750dae_120a_11eb_9220_00e0201808a0row11_col1\" class=\"data row11 col1\" >0.0079</td>\n",
       "                        <td id=\"T_81750dae_120a_11eb_9220_00e0201808a0row11_col2\" class=\"data row11 col2\" >0.0244</td>\n",
       "                        <td id=\"T_81750dae_120a_11eb_9220_00e0201808a0row11_col3\" class=\"data row11 col3\" >0.0239</td>\n",
       "                        <td id=\"T_81750dae_120a_11eb_9220_00e0201808a0row11_col4\" class=\"data row11 col4\" >0.0183</td>\n",
       "                        <td id=\"T_81750dae_120a_11eb_9220_00e0201808a0row11_col5\" class=\"data row11 col5\" >0.0229</td>\n",
       "                        <td id=\"T_81750dae_120a_11eb_9220_00e0201808a0row11_col6\" class=\"data row11 col6\" >0.0229</td>\n",
       "            </tr>\n",
       "    </tbody></table>"
      ],
      "text/plain": [
       "<pandas.io.formats.style.Styler at 0x2354b92aec8>"
      ]
     },
     "metadata": {},
     "output_type": "display_data"
    }
   ],
   "source": [
    "xgboost = create_model('xgboost')"
   ]
  },
  {
   "cell_type": "code",
   "execution_count": 38,
   "metadata": {},
   "outputs": [
    {
     "data": {
      "image/png": "[encoded data removed]",
      "text/plain": [
       "<Figure size 800x500 with 1 Axes>"
      ]
     },
     "metadata": {
      "needs_background": "light"
     },
     "output_type": "display_data"
    }
   ],
   "source": [
    "plot_model(estimator = xgboost, plot = 'feature')"
   ]
  },
  {
   "cell_type": "code",
   "execution_count": null,
   "metadata": {},
   "outputs": [],
   "source": []
  },
  {
   "cell_type": "code",
   "execution_count": 39,
   "metadata": {
    "scrolled": true
   },
   "outputs": [
    {
     "data": {
      "text/html": [
       "<style  type=\"text/css\" >\n",
       "#T_84870810_120a_11eb_9a01_00e0201808a0row10_col0,#T_84870810_120a_11eb_9a01_00e0201808a0row10_col1,#T_84870810_120a_11eb_9a01_00e0201808a0row10_col2,#T_84870810_120a_11eb_9a01_00e0201808a0row10_col3,#T_84870810_120a_11eb_9a01_00e0201808a0row10_col4,#T_84870810_120a_11eb_9a01_00e0201808a0row10_col5,#T_84870810_120a_11eb_9a01_00e0201808a0row10_col6{\n",
       "            background:  yellow;\n",
       "        }</style><table id=\"T_84870810_120a_11eb_9a01_00e0201808a0\" ><thead>    <tr>        <th class=\"blank level0\" ></th>        <th class=\"col_heading level0 col0\" >Accuracy</th>        <th class=\"col_heading level0 col1\" >AUC</th>        <th class=\"col_heading level0 col2\" >Recall</th>        <th class=\"col_heading level0 col3\" >Prec.</th>        <th class=\"col_heading level0 col4\" >F1</th>        <th class=\"col_heading level0 col5\" >Kappa</th>        <th class=\"col_heading level0 col6\" >MCC</th>    </tr></thead><tbody>\n",
       "                <tr>\n",
       "                        <th id=\"T_84870810_120a_11eb_9a01_00e0201808a0level0_row0\" class=\"row_heading level0 row0\" >0</th>\n",
       "                        <td id=\"T_84870810_120a_11eb_9a01_00e0201808a0row0_col0\" class=\"data row0 col0\" >0.8677</td>\n",
       "                        <td id=\"T_84870810_120a_11eb_9a01_00e0201808a0row0_col1\" class=\"data row0 col1\" >0.9190</td>\n",
       "                        <td id=\"T_84870810_120a_11eb_9a01_00e0201808a0row0_col2\" class=\"data row0 col2\" >0.6343</td>\n",
       "                        <td id=\"T_84870810_120a_11eb_9a01_00e0201808a0row0_col3\" class=\"data row0 col3\" >0.7778</td>\n",
       "                        <td id=\"T_84870810_120a_11eb_9a01_00e0201808a0row0_col4\" class=\"data row0 col4\" >0.6988</td>\n",
       "                        <td id=\"T_84870810_120a_11eb_9a01_00e0201808a0row0_col5\" class=\"data row0 col5\" >0.6151</td>\n",
       "                        <td id=\"T_84870810_120a_11eb_9a01_00e0201808a0row0_col6\" class=\"data row0 col6\" >0.6203</td>\n",
       "            </tr>\n",
       "            <tr>\n",
       "                        <th id=\"T_84870810_120a_11eb_9a01_00e0201808a0level0_row1\" class=\"row_heading level0 row1\" >1</th>\n",
       "                        <td id=\"T_84870810_120a_11eb_9a01_00e0201808a0row1_col0\" class=\"data row1 col0\" >0.8653</td>\n",
       "                        <td id=\"T_84870810_120a_11eb_9a01_00e0201808a0row1_col1\" class=\"data row1 col1\" >0.9214</td>\n",
       "                        <td id=\"T_84870810_120a_11eb_9a01_00e0201808a0row1_col2\" class=\"data row1 col2\" >0.6570</td>\n",
       "                        <td id=\"T_84870810_120a_11eb_9a01_00e0201808a0row1_col3\" class=\"data row1 col3\" >0.7546</td>\n",
       "                        <td id=\"T_84870810_120a_11eb_9a01_00e0201808a0row1_col4\" class=\"data row1 col4\" >0.7024</td>\n",
       "                        <td id=\"T_84870810_120a_11eb_9a01_00e0201808a0row1_col5\" class=\"data row1 col5\" >0.6159</td>\n",
       "                        <td id=\"T_84870810_120a_11eb_9a01_00e0201808a0row1_col6\" class=\"data row1 col6\" >0.6184</td>\n",
       "            </tr>\n",
       "            <tr>\n",
       "                        <th id=\"T_84870810_120a_11eb_9a01_00e0201808a0level0_row2\" class=\"row_heading level0 row2\" >2</th>\n",
       "                        <td id=\"T_84870810_120a_11eb_9a01_00e0201808a0row2_col0\" class=\"data row2 col0\" >0.8637</td>\n",
       "                        <td id=\"T_84870810_120a_11eb_9a01_00e0201808a0row2_col1\" class=\"data row2 col1\" >0.9175</td>\n",
       "                        <td id=\"T_84870810_120a_11eb_9a01_00e0201808a0row2_col2\" class=\"data row2 col2\" >0.6699</td>\n",
       "                        <td id=\"T_84870810_120a_11eb_9a01_00e0201808a0row2_col3\" class=\"data row2 col3\" >0.7419</td>\n",
       "                        <td id=\"T_84870810_120a_11eb_9a01_00e0201808a0row2_col4\" class=\"data row2 col4\" >0.7041</td>\n",
       "                        <td id=\"T_84870810_120a_11eb_9a01_00e0201808a0row2_col5\" class=\"data row2 col5\" >0.6159</td>\n",
       "                        <td id=\"T_84870810_120a_11eb_9a01_00e0201808a0row2_col6\" class=\"data row2 col6\" >0.6172</td>\n",
       "            </tr>\n",
       "            <tr>\n",
       "                        <th id=\"T_84870810_120a_11eb_9a01_00e0201808a0level0_row3\" class=\"row_heading level0 row3\" >3</th>\n",
       "                        <td id=\"T_84870810_120a_11eb_9a01_00e0201808a0row3_col0\" class=\"data row3 col0\" >0.8597</td>\n",
       "                        <td id=\"T_84870810_120a_11eb_9a01_00e0201808a0row3_col1\" class=\"data row3 col1\" >0.9161</td>\n",
       "                        <td id=\"T_84870810_120a_11eb_9a01_00e0201808a0row3_col2\" class=\"data row3 col2\" >0.6201</td>\n",
       "                        <td id=\"T_84870810_120a_11eb_9a01_00e0201808a0row3_col3\" class=\"data row3 col3\" >0.7549</td>\n",
       "                        <td id=\"T_84870810_120a_11eb_9a01_00e0201808a0row3_col4\" class=\"data row3 col4\" >0.6809</td>\n",
       "                        <td id=\"T_84870810_120a_11eb_9a01_00e0201808a0row3_col5\" class=\"data row3 col5\" >0.5921</td>\n",
       "                        <td id=\"T_84870810_120a_11eb_9a01_00e0201808a0row3_col6\" class=\"data row3 col6\" >0.5968</td>\n",
       "            </tr>\n",
       "            <tr>\n",
       "                        <th id=\"T_84870810_120a_11eb_9a01_00e0201808a0level0_row4\" class=\"row_heading level0 row4\" >4</th>\n",
       "                        <td id=\"T_84870810_120a_11eb_9a01_00e0201808a0row4_col0\" class=\"data row4 col0\" >0.8542</td>\n",
       "                        <td id=\"T_84870810_120a_11eb_9a01_00e0201808a0row4_col1\" class=\"data row4 col1\" >0.9099</td>\n",
       "                        <td id=\"T_84870810_120a_11eb_9a01_00e0201808a0row4_col2\" class=\"data row4 col2\" >0.6052</td>\n",
       "                        <td id=\"T_84870810_120a_11eb_9a01_00e0201808a0row4_col3\" class=\"data row4 col3\" >0.7450</td>\n",
       "                        <td id=\"T_84870810_120a_11eb_9a01_00e0201808a0row4_col4\" class=\"data row4 col4\" >0.6679</td>\n",
       "                        <td id=\"T_84870810_120a_11eb_9a01_00e0201808a0row4_col5\" class=\"data row4 col5\" >0.5758</td>\n",
       "                        <td id=\"T_84870810_120a_11eb_9a01_00e0201808a0row4_col6\" class=\"data row4 col6\" >0.5809</td>\n",
       "            </tr>\n",
       "            <tr>\n",
       "                        <th id=\"T_84870810_120a_11eb_9a01_00e0201808a0level0_row5\" class=\"row_heading level0 row5\" >5</th>\n",
       "                        <td id=\"T_84870810_120a_11eb_9a01_00e0201808a0row5_col0\" class=\"data row5 col0\" >0.8676</td>\n",
       "                        <td id=\"T_84870810_120a_11eb_9a01_00e0201808a0row5_col1\" class=\"data row5 col1\" >0.9313</td>\n",
       "                        <td id=\"T_84870810_120a_11eb_9a01_00e0201808a0row5_col2\" class=\"data row5 col2\" >0.6472</td>\n",
       "                        <td id=\"T_84870810_120a_11eb_9a01_00e0201808a0row5_col3\" class=\"data row5 col3\" >0.7692</td>\n",
       "                        <td id=\"T_84870810_120a_11eb_9a01_00e0201808a0row5_col4\" class=\"data row5 col4\" >0.7030</td>\n",
       "                        <td id=\"T_84870810_120a_11eb_9a01_00e0201808a0row5_col5\" class=\"data row5 col5\" >0.6186</td>\n",
       "                        <td id=\"T_84870810_120a_11eb_9a01_00e0201808a0row5_col6\" class=\"data row5 col6\" >0.6224</td>\n",
       "            </tr>\n",
       "            <tr>\n",
       "                        <th id=\"T_84870810_120a_11eb_9a01_00e0201808a0level0_row6\" class=\"row_heading level0 row6\" >6</th>\n",
       "                        <td id=\"T_84870810_120a_11eb_9a01_00e0201808a0row6_col0\" class=\"data row6 col0\" >0.8777</td>\n",
       "                        <td id=\"T_84870810_120a_11eb_9a01_00e0201808a0row6_col1\" class=\"data row6 col1\" >0.9345</td>\n",
       "                        <td id=\"T_84870810_120a_11eb_9a01_00e0201808a0row6_col2\" class=\"data row6 col2\" >0.6505</td>\n",
       "                        <td id=\"T_84870810_120a_11eb_9a01_00e0201808a0row6_col3\" class=\"data row6 col3\" >0.8072</td>\n",
       "                        <td id=\"T_84870810_120a_11eb_9a01_00e0201808a0row6_col4\" class=\"data row6 col4\" >0.7204</td>\n",
       "                        <td id=\"T_84870810_120a_11eb_9a01_00e0201808a0row6_col5\" class=\"data row6 col5\" >0.6433</td>\n",
       "                        <td id=\"T_84870810_120a_11eb_9a01_00e0201808a0row6_col6\" class=\"data row6 col6\" >0.6495</td>\n",
       "            </tr>\n",
       "            <tr>\n",
       "                        <th id=\"T_84870810_120a_11eb_9a01_00e0201808a0level0_row7\" class=\"row_heading level0 row7\" >7</th>\n",
       "                        <td id=\"T_84870810_120a_11eb_9a01_00e0201808a0row7_col0\" class=\"data row7 col0\" >0.8613</td>\n",
       "                        <td id=\"T_84870810_120a_11eb_9a01_00e0201808a0row7_col1\" class=\"data row7 col1\" >0.9201</td>\n",
       "                        <td id=\"T_84870810_120a_11eb_9a01_00e0201808a0row7_col2\" class=\"data row7 col2\" >0.6278</td>\n",
       "                        <td id=\"T_84870810_120a_11eb_9a01_00e0201808a0row7_col3\" class=\"data row7 col3\" >0.7578</td>\n",
       "                        <td id=\"T_84870810_120a_11eb_9a01_00e0201808a0row7_col4\" class=\"data row7 col4\" >0.6867</td>\n",
       "                        <td id=\"T_84870810_120a_11eb_9a01_00e0201808a0row7_col5\" class=\"data row7 col5\" >0.5987</td>\n",
       "                        <td id=\"T_84870810_120a_11eb_9a01_00e0201808a0row7_col6\" class=\"data row7 col6\" >0.6030</td>\n",
       "            </tr>\n",
       "            <tr>\n",
       "                        <th id=\"T_84870810_120a_11eb_9a01_00e0201808a0level0_row8\" class=\"row_heading level0 row8\" >8</th>\n",
       "                        <td id=\"T_84870810_120a_11eb_9a01_00e0201808a0row8_col0\" class=\"data row8 col0\" >0.8738</td>\n",
       "                        <td id=\"T_84870810_120a_11eb_9a01_00e0201808a0row8_col1\" class=\"data row8 col1\" >0.9260</td>\n",
       "                        <td id=\"T_84870810_120a_11eb_9a01_00e0201808a0row8_col2\" class=\"data row8 col2\" >0.6408</td>\n",
       "                        <td id=\"T_84870810_120a_11eb_9a01_00e0201808a0row8_col3\" class=\"data row8 col3\" >0.7984</td>\n",
       "                        <td id=\"T_84870810_120a_11eb_9a01_00e0201808a0row8_col4\" class=\"data row8 col4\" >0.7110</td>\n",
       "                        <td id=\"T_84870810_120a_11eb_9a01_00e0201808a0row8_col5\" class=\"data row8 col5\" >0.6315</td>\n",
       "                        <td id=\"T_84870810_120a_11eb_9a01_00e0201808a0row8_col6\" class=\"data row8 col6\" >0.6377</td>\n",
       "            </tr>\n",
       "            <tr>\n",
       "                        <th id=\"T_84870810_120a_11eb_9a01_00e0201808a0level0_row9\" class=\"row_heading level0 row9\" >9</th>\n",
       "                        <td id=\"T_84870810_120a_11eb_9a01_00e0201808a0row9_col0\" class=\"data row9 col0\" >0.8770</td>\n",
       "                        <td id=\"T_84870810_120a_11eb_9a01_00e0201808a0row9_col1\" class=\"data row9 col1\" >0.9202</td>\n",
       "                        <td id=\"T_84870810_120a_11eb_9a01_00e0201808a0row9_col2\" class=\"data row9 col2\" >0.6926</td>\n",
       "                        <td id=\"T_84870810_120a_11eb_9a01_00e0201808a0row9_col3\" class=\"data row9 col3\" >0.7754</td>\n",
       "                        <td id=\"T_84870810_120a_11eb_9a01_00e0201808a0row9_col4\" class=\"data row9 col4\" >0.7316</td>\n",
       "                        <td id=\"T_84870810_120a_11eb_9a01_00e0201808a0row9_col5\" class=\"data row9 col5\" >0.6521</td>\n",
       "                        <td id=\"T_84870810_120a_11eb_9a01_00e0201808a0row9_col6\" class=\"data row9 col6\" >0.6539</td>\n",
       "            </tr>\n",
       "            <tr>\n",
       "                        <th id=\"T_84870810_120a_11eb_9a01_00e0201808a0level0_row10\" class=\"row_heading level0 row10\" >Mean</th>\n",
       "                        <td id=\"T_84870810_120a_11eb_9a01_00e0201808a0row10_col0\" class=\"data row10 col0\" >0.8668</td>\n",
       "                        <td id=\"T_84870810_120a_11eb_9a01_00e0201808a0row10_col1\" class=\"data row10 col1\" >0.9216</td>\n",
       "                        <td id=\"T_84870810_120a_11eb_9a01_00e0201808a0row10_col2\" class=\"data row10 col2\" >0.6445</td>\n",
       "                        <td id=\"T_84870810_120a_11eb_9a01_00e0201808a0row10_col3\" class=\"data row10 col3\" >0.7682</td>\n",
       "                        <td id=\"T_84870810_120a_11eb_9a01_00e0201808a0row10_col4\" class=\"data row10 col4\" >0.7007</td>\n",
       "                        <td id=\"T_84870810_120a_11eb_9a01_00e0201808a0row10_col5\" class=\"data row10 col5\" >0.6159</td>\n",
       "                        <td id=\"T_84870810_120a_11eb_9a01_00e0201808a0row10_col6\" class=\"data row10 col6\" >0.6200</td>\n",
       "            </tr>\n",
       "            <tr>\n",
       "                        <th id=\"T_84870810_120a_11eb_9a01_00e0201808a0level0_row11\" class=\"row_heading level0 row11\" >SD</th>\n",
       "                        <td id=\"T_84870810_120a_11eb_9a01_00e0201808a0row11_col0\" class=\"data row11 col0\" >0.0072</td>\n",
       "                        <td id=\"T_84870810_120a_11eb_9a01_00e0201808a0row11_col1\" class=\"data row11 col1\" >0.0069</td>\n",
       "                        <td id=\"T_84870810_120a_11eb_9a01_00e0201808a0row11_col2\" class=\"data row11 col2\" >0.0239</td>\n",
       "                        <td id=\"T_84870810_120a_11eb_9a01_00e0201808a0row11_col3\" class=\"data row11 col3\" >0.0207</td>\n",
       "                        <td id=\"T_84870810_120a_11eb_9a01_00e0201808a0row11_col4\" class=\"data row11 col4\" >0.0177</td>\n",
       "                        <td id=\"T_84870810_120a_11eb_9a01_00e0201808a0row11_col5\" class=\"data row11 col5\" >0.0219</td>\n",
       "                        <td id=\"T_84870810_120a_11eb_9a01_00e0201808a0row11_col6\" class=\"data row11 col6\" >0.0217</td>\n",
       "            </tr>\n",
       "    </tbody></table>"
      ],
      "text/plain": [
       "<pandas.io.formats.style.Styler at 0x23555b44048>"
      ]
     },
     "metadata": {},
     "output_type": "display_data"
    }
   ],
   "source": [
    "lightgbm = create_model('lightgbm')"
   ]
  },
  {
   "cell_type": "code",
   "execution_count": 40,
   "metadata": {},
   "outputs": [
    {
     "data": {
      "image/png": "[encoded data removed]",
      "text/plain": [
       "<Figure size 800x500 with 1 Axes>"
      ]
     },
     "metadata": {
      "needs_background": "light"
     },
     "output_type": "display_data"
    }
   ],
   "source": [
    "plot_model(estimator = lightgbm, plot = 'feature')"
   ]
  },
  {
   "cell_type": "code",
   "execution_count": null,
   "metadata": {},
   "outputs": [],
   "source": []
  }
 ],
 "metadata": {
  "kernelspec": {
   "display_name": "Python 3",
   "language": "python",
   "name": "python3"
  },
  "language_info": {
   "codemirror_mode": {
    "name": "ipython",
    "version": 3
   },
   "file_extension": ".py",
   "mimetype": "text/x-python",
   "name": "python",
   "nbconvert_exporter": "python",
   "pygments_lexer": "ipython3",
   "version": "3.7.6"
  }
 },
 "nbformat": 4,
 "nbformat_minor": 4
}
