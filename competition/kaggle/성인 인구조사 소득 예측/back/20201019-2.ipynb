{
 "cells": [
  {
   "cell_type": "code",
   "execution_count": 1,
   "metadata": {},
   "outputs": [],
   "source": [
    "import numpy as np\n",
    "import pandas as pd\n",
    "import matplotlib.pyplot as plt\n",
    "import seaborn as sns\n",
    "import warnings\n",
    "warnings.filterwarnings('ignore')\n",
    "%matplotlib inline\n",
    "\n",
    "from IPython.core.interactiveshell import InteractiveShell\n",
    "InteractiveShell.ast_node_interactivity = \"all\"\n",
    "\n",
    "from sklearn.preprocessing import PolynomialFeatures\n",
    "\n",
    "from sklearn.model_selection import train_test_split\n",
    "import lightgbm as lgbm\n",
    "from sklearn.metrics import confusion_matrix, accuracy_score\n",
    "from pycaret.classification import *"
   ]
  },
  {
   "cell_type": "code",
   "execution_count": 2,
   "metadata": {},
   "outputs": [],
   "source": [
    "seed = 42\n",
    "np.random.seed(seed)\n",
    "set_config('seed', seed)"
   ]
  },
  {
   "cell_type": "code",
   "execution_count": null,
   "metadata": {},
   "outputs": [],
   "source": []
  },
  {
   "cell_type": "markdown",
   "metadata": {},
   "source": [
    "# 1. 데이터 로드"
   ]
  },
  {
   "cell_type": "code",
   "execution_count": 5,
   "metadata": {},
   "outputs": [],
   "source": [
    "train=pd.read_csv('input/train.csv', index_col=0) #인덱스 col=0도 check!\n",
    "test=pd.read_csv('input/test.csv', index_col=0)\n",
    "submission=pd.read_csv('input/sample_submission.csv', index_col=0)  "
   ]
  },
  {
   "cell_type": "code",
   "execution_count": 6,
   "metadata": {},
   "outputs": [],
   "source": [
    "train['income']=pd.factorize(train['income'], sort=True)[0]"
   ]
  },
  {
   "cell_type": "code",
   "execution_count": null,
   "metadata": {},
   "outputs": [],
   "source": [
    "train.shape, test.shape"
   ]
  },
  {
   "cell_type": "code",
   "execution_count": null,
   "metadata": {},
   "outputs": [],
   "source": [
    "train.head(3)\n",
    "test.head(3)"
   ]
  },
  {
   "cell_type": "markdown",
   "metadata": {},
   "source": [
    "# 2. EDA & 전처리"
   ]
  },
  {
   "cell_type": "code",
   "execution_count": null,
   "metadata": {},
   "outputs": [],
   "source": [
    "train.info()\n",
    "train.describe()\n",
    "train.describe(include='O')"
   ]
  },
  {
   "cell_type": "code",
   "execution_count": null,
   "metadata": {},
   "outputs": [],
   "source": []
  },
  {
   "cell_type": "markdown",
   "metadata": {},
   "source": [
    "## Missing Value"
   ]
  },
  {
   "cell_type": "code",
   "execution_count": null,
   "metadata": {},
   "outputs": [],
   "source": [
    "train.isnull().sum()\n",
    "test.isnull().sum()"
   ]
  },
  {
   "cell_type": "code",
   "execution_count": null,
   "metadata": {},
   "outputs": [],
   "source": []
  },
  {
   "cell_type": "markdown",
   "metadata": {},
   "source": [
    "### outlier"
   ]
  },
  {
   "cell_type": "markdown",
   "metadata": {},
   "source": [
    "### education"
   ]
  },
  {
   "cell_type": "code",
   "execution_count": 7,
   "metadata": {},
   "outputs": [],
   "source": [
    "train.drop(['education'],axis=1, inplace=True)\n",
    "test.drop(['education'],axis=1, inplace=True)"
   ]
  },
  {
   "cell_type": "code",
   "execution_count": null,
   "metadata": {},
   "outputs": [],
   "source": []
  },
  {
   "cell_type": "markdown",
   "metadata": {},
   "source": [
    "### capital_gain 99999"
   ]
  },
  {
   "cell_type": "code",
   "execution_count": 8,
   "metadata": {},
   "outputs": [],
   "source": [
    "df = pd.concat([train, test])\n",
    "\n",
    "df['capital_gain_imsi'] = df['capital_gain'].replace(99999,0)\n",
    "\n",
    "capital_gain_imsi = pd.DataFrame(df.groupby(['education_num'])['capital_gain_imsi'].mean()).reset_index()\n",
    "\n",
    "train = train.merge(capital_gain_imsi, on=['education_num'], how='left')\n",
    "test = test.merge(capital_gain_imsi, on=['education_num'], how='left')\n",
    "\n",
    "train.loc[train.capital_gain == 99999, 'capital_gain'] = train['capital_gain_imsi']\n",
    "test.loc[test.capital_gain == 99999, 'capital_gain'] = test['capital_gain_imsi']\n",
    "\n",
    "train.drop(['capital_gain_imsi'],axis=1, inplace=True)\n",
    "test.drop(['capital_gain_imsi'],axis=1, inplace=True)"
   ]
  },
  {
   "cell_type": "code",
   "execution_count": null,
   "metadata": {},
   "outputs": [],
   "source": []
  },
  {
   "cell_type": "code",
   "execution_count": 9,
   "metadata": {},
   "outputs": [],
   "source": [
    "train['Priority'] = 0\n",
    "train.loc[(train['education_num'] == 1)\n",
    "          & ((train['occupation'] == 'Priv-house-serv') \n",
    "             | (train['occupation'] == 'Armed-Forces')), 'Priority'] = 1\n",
    "train.loc[(train['education_num'] >=2) & (train['education_num'] <= 8)\n",
    "          & ((train['occupation'] == 'Handlers-cleaners') | (train['occupation'] == 'Other-service')), 'Priority'] = 2\n",
    "train.loc[(train['education_num'] >=9) & (train['education_num'] <= 10)\n",
    "          & ((train['occupation'] == 'Transport-moving') \n",
    "             | (train['occupation'] == 'Adm-clerical')\n",
    "             | (train['occupation'] == 'Machine-op-inspct')\n",
    "             | (train['occupation'] == 'Farming-fishing')\n",
    "             | (train['occupation'] == '?')\n",
    "            )\n",
    "          , 'Priority'] = 3\n",
    "train.loc[(train['education_num'] >=11) & (train['education_num'] <= 12) & ((train['occupation'] == 'SalesCraft-repair') | (train['occupation'] == 'Prof-specialty')), 'Priority'] = 4\n",
    "train.loc[(train['occupation'] == 'Protective-serv') | (train['occupation'] == 'Tech-support'), 'Priority'] = 5\n",
    "train.loc[(train['education_num'] ==13) & ((train['occupation'] == 'Exec-managerial') | (train['occupation'] == 'Prof-specialty')), 'Priority'] = 6\n",
    "train.loc[(train['education_num'] ==14), 'Priority'] = 7\n",
    "train.loc[(train['education_num'] >=15), 'Priority'] = 8"
   ]
  },
  {
   "cell_type": "code",
   "execution_count": 16,
   "metadata": {},
   "outputs": [],
   "source": [
    "test['Priority'] = 0\n",
    "test.loc[(test['education_num'] == 1)\n",
    "          & ((test['occupation'] == 'Priv-house-serv') \n",
    "             | (test['occupation'] == 'Armed-Forces')), 'Priority'] = 1\n",
    "test.loc[(test['education_num'] >=2) & (test['education_num'] <= 8)\n",
    "          & ((test['occupation'] == 'Handlers-cleaners') | (test['occupation'] == 'Other-service')), 'Priority'] = 2\n",
    "test.loc[(test['education_num'] >=9) & (test['education_num'] <= 10)\n",
    "          & ((test['occupation'] == 'Transport-moving') \n",
    "             | (test['occupation'] == 'Adm-clerical')\n",
    "             | (test['occupation'] == 'Machine-op-inspct')\n",
    "             | (test['occupation'] == 'Farming-fishing')\n",
    "             | (test['occupation'] == '?')\n",
    "            )\n",
    "          , 'Priority'] = 3\n",
    "test.loc[(test['education_num'] >=11) & (test['education_num'] <= 12) & ((test['occupation'] == 'SalesCraft-repair') | (test['occupation'] == 'Prof-specialty')), 'Priority'] = 4\n",
    "test.loc[(test['occupation'] == 'Protective-serv') | (test['occupation'] == 'Tech-support'), 'Priority'] = 5\n",
    "test.loc[(test['education_num'] ==13) & ((test['occupation'] == 'Exec-managerial') | (test['occupation'] == 'Prof-specialty')), 'Priority'] = 6\n",
    "test.loc[(test['education_num'] ==14), 'Priority'] = 7\n",
    "test.loc[(test['education_num'] >=15), 'Priority'] = 8"
   ]
  },
  {
   "cell_type": "code",
   "execution_count": null,
   "metadata": {},
   "outputs": [],
   "source": [
    "train[['education_num','occupation','Priority']]"
   ]
  },
  {
   "cell_type": "code",
   "execution_count": null,
   "metadata": {},
   "outputs": [],
   "source": []
  },
  {
   "cell_type": "markdown",
   "metadata": {},
   "source": [
    "# 3. 모델 학습"
   ]
  },
  {
   "cell_type": "code",
   "execution_count": null,
   "metadata": {},
   "outputs": [],
   "source": [
    "import gc\n",
    "gc.collect()"
   ]
  },
  {
   "cell_type": "code",
   "execution_count": null,
   "metadata": {},
   "outputs": [],
   "source": []
  },
  {
   "cell_type": "code",
   "execution_count": 10,
   "metadata": {
    "scrolled": false
   },
   "outputs": [
    {
     "name": "stdout",
     "output_type": "stream",
     "text": [
      "Setup Succesfully Completed!\n"
     ]
    },
    {
     "data": {
      "text/html": [
       "<style  type=\"text/css\" >\n",
       "</style><table id=\"T_f1296a24_120e_11eb_8a34_00e0201808a0\" ><thead>    <tr>        <th class=\"blank level0\" ></th>        <th class=\"col_heading level0 col0\" >Description</th>        <th class=\"col_heading level0 col1\" >Value</th>    </tr></thead><tbody>\n",
       "                <tr>\n",
       "                        <th id=\"T_f1296a24_120e_11eb_8a34_00e0201808a0level0_row0\" class=\"row_heading level0 row0\" >0</th>\n",
       "                        <td id=\"T_f1296a24_120e_11eb_8a34_00e0201808a0row0_col0\" class=\"data row0 col0\" >session_id</td>\n",
       "                        <td id=\"T_f1296a24_120e_11eb_8a34_00e0201808a0row0_col1\" class=\"data row0 col1\" >42</td>\n",
       "            </tr>\n",
       "            <tr>\n",
       "                        <th id=\"T_f1296a24_120e_11eb_8a34_00e0201808a0level0_row1\" class=\"row_heading level0 row1\" >1</th>\n",
       "                        <td id=\"T_f1296a24_120e_11eb_8a34_00e0201808a0row1_col0\" class=\"data row1 col0\" >Target Type</td>\n",
       "                        <td id=\"T_f1296a24_120e_11eb_8a34_00e0201808a0row1_col1\" class=\"data row1 col1\" >Binary</td>\n",
       "            </tr>\n",
       "            <tr>\n",
       "                        <th id=\"T_f1296a24_120e_11eb_8a34_00e0201808a0level0_row2\" class=\"row_heading level0 row2\" >2</th>\n",
       "                        <td id=\"T_f1296a24_120e_11eb_8a34_00e0201808a0row2_col0\" class=\"data row2 col0\" >Label Encoded</td>\n",
       "                        <td id=\"T_f1296a24_120e_11eb_8a34_00e0201808a0row2_col1\" class=\"data row2 col1\" >0: 0, 1: 1</td>\n",
       "            </tr>\n",
       "            <tr>\n",
       "                        <th id=\"T_f1296a24_120e_11eb_8a34_00e0201808a0level0_row3\" class=\"row_heading level0 row3\" >3</th>\n",
       "                        <td id=\"T_f1296a24_120e_11eb_8a34_00e0201808a0row3_col0\" class=\"data row3 col0\" >Original Data</td>\n",
       "                        <td id=\"T_f1296a24_120e_11eb_8a34_00e0201808a0row3_col1\" class=\"data row3 col1\" >(26049, 15)</td>\n",
       "            </tr>\n",
       "            <tr>\n",
       "                        <th id=\"T_f1296a24_120e_11eb_8a34_00e0201808a0level0_row4\" class=\"row_heading level0 row4\" >4</th>\n",
       "                        <td id=\"T_f1296a24_120e_11eb_8a34_00e0201808a0row4_col0\" class=\"data row4 col0\" >Missing Values </td>\n",
       "                        <td id=\"T_f1296a24_120e_11eb_8a34_00e0201808a0row4_col1\" class=\"data row4 col1\" >False</td>\n",
       "            </tr>\n",
       "            <tr>\n",
       "                        <th id=\"T_f1296a24_120e_11eb_8a34_00e0201808a0level0_row5\" class=\"row_heading level0 row5\" >5</th>\n",
       "                        <td id=\"T_f1296a24_120e_11eb_8a34_00e0201808a0row5_col0\" class=\"data row5 col0\" >Numeric Features </td>\n",
       "                        <td id=\"T_f1296a24_120e_11eb_8a34_00e0201808a0row5_col1\" class=\"data row5 col1\" >7</td>\n",
       "            </tr>\n",
       "            <tr>\n",
       "                        <th id=\"T_f1296a24_120e_11eb_8a34_00e0201808a0level0_row6\" class=\"row_heading level0 row6\" >6</th>\n",
       "                        <td id=\"T_f1296a24_120e_11eb_8a34_00e0201808a0row6_col0\" class=\"data row6 col0\" >Categorical Features </td>\n",
       "                        <td id=\"T_f1296a24_120e_11eb_8a34_00e0201808a0row6_col1\" class=\"data row6 col1\" >7</td>\n",
       "            </tr>\n",
       "            <tr>\n",
       "                        <th id=\"T_f1296a24_120e_11eb_8a34_00e0201808a0level0_row7\" class=\"row_heading level0 row7\" >7</th>\n",
       "                        <td id=\"T_f1296a24_120e_11eb_8a34_00e0201808a0row7_col0\" class=\"data row7 col0\" >Ordinal Features </td>\n",
       "                        <td id=\"T_f1296a24_120e_11eb_8a34_00e0201808a0row7_col1\" class=\"data row7 col1\" >False</td>\n",
       "            </tr>\n",
       "            <tr>\n",
       "                        <th id=\"T_f1296a24_120e_11eb_8a34_00e0201808a0level0_row8\" class=\"row_heading level0 row8\" >8</th>\n",
       "                        <td id=\"T_f1296a24_120e_11eb_8a34_00e0201808a0row8_col0\" class=\"data row8 col0\" >High Cardinality Features </td>\n",
       "                        <td id=\"T_f1296a24_120e_11eb_8a34_00e0201808a0row8_col1\" class=\"data row8 col1\" >False</td>\n",
       "            </tr>\n",
       "            <tr>\n",
       "                        <th id=\"T_f1296a24_120e_11eb_8a34_00e0201808a0level0_row9\" class=\"row_heading level0 row9\" >9</th>\n",
       "                        <td id=\"T_f1296a24_120e_11eb_8a34_00e0201808a0row9_col0\" class=\"data row9 col0\" >High Cardinality Method </td>\n",
       "                        <td id=\"T_f1296a24_120e_11eb_8a34_00e0201808a0row9_col1\" class=\"data row9 col1\" >None</td>\n",
       "            </tr>\n",
       "            <tr>\n",
       "                        <th id=\"T_f1296a24_120e_11eb_8a34_00e0201808a0level0_row10\" class=\"row_heading level0 row10\" >10</th>\n",
       "                        <td id=\"T_f1296a24_120e_11eb_8a34_00e0201808a0row10_col0\" class=\"data row10 col0\" >Sampled Data</td>\n",
       "                        <td id=\"T_f1296a24_120e_11eb_8a34_00e0201808a0row10_col1\" class=\"data row10 col1\" >(18234, 15)</td>\n",
       "            </tr>\n",
       "            <tr>\n",
       "                        <th id=\"T_f1296a24_120e_11eb_8a34_00e0201808a0level0_row11\" class=\"row_heading level0 row11\" >11</th>\n",
       "                        <td id=\"T_f1296a24_120e_11eb_8a34_00e0201808a0row11_col0\" class=\"data row11 col0\" >Transformed Train Set</td>\n",
       "                        <td id=\"T_f1296a24_120e_11eb_8a34_00e0201808a0row11_col1\" class=\"data row11 col1\" >(12763, 92)</td>\n",
       "            </tr>\n",
       "            <tr>\n",
       "                        <th id=\"T_f1296a24_120e_11eb_8a34_00e0201808a0level0_row12\" class=\"row_heading level0 row12\" >12</th>\n",
       "                        <td id=\"T_f1296a24_120e_11eb_8a34_00e0201808a0row12_col0\" class=\"data row12 col0\" >Transformed Test Set</td>\n",
       "                        <td id=\"T_f1296a24_120e_11eb_8a34_00e0201808a0row12_col1\" class=\"data row12 col1\" >(5471, 92)</td>\n",
       "            </tr>\n",
       "            <tr>\n",
       "                        <th id=\"T_f1296a24_120e_11eb_8a34_00e0201808a0level0_row13\" class=\"row_heading level0 row13\" >13</th>\n",
       "                        <td id=\"T_f1296a24_120e_11eb_8a34_00e0201808a0row13_col0\" class=\"data row13 col0\" >Numeric Imputer </td>\n",
       "                        <td id=\"T_f1296a24_120e_11eb_8a34_00e0201808a0row13_col1\" class=\"data row13 col1\" >mean</td>\n",
       "            </tr>\n",
       "            <tr>\n",
       "                        <th id=\"T_f1296a24_120e_11eb_8a34_00e0201808a0level0_row14\" class=\"row_heading level0 row14\" >14</th>\n",
       "                        <td id=\"T_f1296a24_120e_11eb_8a34_00e0201808a0row14_col0\" class=\"data row14 col0\" >Categorical Imputer </td>\n",
       "                        <td id=\"T_f1296a24_120e_11eb_8a34_00e0201808a0row14_col1\" class=\"data row14 col1\" >constant</td>\n",
       "            </tr>\n",
       "            <tr>\n",
       "                        <th id=\"T_f1296a24_120e_11eb_8a34_00e0201808a0level0_row15\" class=\"row_heading level0 row15\" >15</th>\n",
       "                        <td id=\"T_f1296a24_120e_11eb_8a34_00e0201808a0row15_col0\" class=\"data row15 col0\" >Normalize </td>\n",
       "                        <td id=\"T_f1296a24_120e_11eb_8a34_00e0201808a0row15_col1\" class=\"data row15 col1\" >False</td>\n",
       "            </tr>\n",
       "            <tr>\n",
       "                        <th id=\"T_f1296a24_120e_11eb_8a34_00e0201808a0level0_row16\" class=\"row_heading level0 row16\" >16</th>\n",
       "                        <td id=\"T_f1296a24_120e_11eb_8a34_00e0201808a0row16_col0\" class=\"data row16 col0\" >Normalize Method </td>\n",
       "                        <td id=\"T_f1296a24_120e_11eb_8a34_00e0201808a0row16_col1\" class=\"data row16 col1\" >None</td>\n",
       "            </tr>\n",
       "            <tr>\n",
       "                        <th id=\"T_f1296a24_120e_11eb_8a34_00e0201808a0level0_row17\" class=\"row_heading level0 row17\" >17</th>\n",
       "                        <td id=\"T_f1296a24_120e_11eb_8a34_00e0201808a0row17_col0\" class=\"data row17 col0\" >Transformation </td>\n",
       "                        <td id=\"T_f1296a24_120e_11eb_8a34_00e0201808a0row17_col1\" class=\"data row17 col1\" >False</td>\n",
       "            </tr>\n",
       "            <tr>\n",
       "                        <th id=\"T_f1296a24_120e_11eb_8a34_00e0201808a0level0_row18\" class=\"row_heading level0 row18\" >18</th>\n",
       "                        <td id=\"T_f1296a24_120e_11eb_8a34_00e0201808a0row18_col0\" class=\"data row18 col0\" >Transformation Method </td>\n",
       "                        <td id=\"T_f1296a24_120e_11eb_8a34_00e0201808a0row18_col1\" class=\"data row18 col1\" >None</td>\n",
       "            </tr>\n",
       "            <tr>\n",
       "                        <th id=\"T_f1296a24_120e_11eb_8a34_00e0201808a0level0_row19\" class=\"row_heading level0 row19\" >19</th>\n",
       "                        <td id=\"T_f1296a24_120e_11eb_8a34_00e0201808a0row19_col0\" class=\"data row19 col0\" >PCA </td>\n",
       "                        <td id=\"T_f1296a24_120e_11eb_8a34_00e0201808a0row19_col1\" class=\"data row19 col1\" >False</td>\n",
       "            </tr>\n",
       "            <tr>\n",
       "                        <th id=\"T_f1296a24_120e_11eb_8a34_00e0201808a0level0_row20\" class=\"row_heading level0 row20\" >20</th>\n",
       "                        <td id=\"T_f1296a24_120e_11eb_8a34_00e0201808a0row20_col0\" class=\"data row20 col0\" >PCA Method </td>\n",
       "                        <td id=\"T_f1296a24_120e_11eb_8a34_00e0201808a0row20_col1\" class=\"data row20 col1\" >None</td>\n",
       "            </tr>\n",
       "            <tr>\n",
       "                        <th id=\"T_f1296a24_120e_11eb_8a34_00e0201808a0level0_row21\" class=\"row_heading level0 row21\" >21</th>\n",
       "                        <td id=\"T_f1296a24_120e_11eb_8a34_00e0201808a0row21_col0\" class=\"data row21 col0\" >PCA Components </td>\n",
       "                        <td id=\"T_f1296a24_120e_11eb_8a34_00e0201808a0row21_col1\" class=\"data row21 col1\" >None</td>\n",
       "            </tr>\n",
       "            <tr>\n",
       "                        <th id=\"T_f1296a24_120e_11eb_8a34_00e0201808a0level0_row22\" class=\"row_heading level0 row22\" >22</th>\n",
       "                        <td id=\"T_f1296a24_120e_11eb_8a34_00e0201808a0row22_col0\" class=\"data row22 col0\" >Ignore Low Variance </td>\n",
       "                        <td id=\"T_f1296a24_120e_11eb_8a34_00e0201808a0row22_col1\" class=\"data row22 col1\" >False</td>\n",
       "            </tr>\n",
       "            <tr>\n",
       "                        <th id=\"T_f1296a24_120e_11eb_8a34_00e0201808a0level0_row23\" class=\"row_heading level0 row23\" >23</th>\n",
       "                        <td id=\"T_f1296a24_120e_11eb_8a34_00e0201808a0row23_col0\" class=\"data row23 col0\" >Combine Rare Levels </td>\n",
       "                        <td id=\"T_f1296a24_120e_11eb_8a34_00e0201808a0row23_col1\" class=\"data row23 col1\" >False</td>\n",
       "            </tr>\n",
       "            <tr>\n",
       "                        <th id=\"T_f1296a24_120e_11eb_8a34_00e0201808a0level0_row24\" class=\"row_heading level0 row24\" >24</th>\n",
       "                        <td id=\"T_f1296a24_120e_11eb_8a34_00e0201808a0row24_col0\" class=\"data row24 col0\" >Rare Level Threshold </td>\n",
       "                        <td id=\"T_f1296a24_120e_11eb_8a34_00e0201808a0row24_col1\" class=\"data row24 col1\" >None</td>\n",
       "            </tr>\n",
       "            <tr>\n",
       "                        <th id=\"T_f1296a24_120e_11eb_8a34_00e0201808a0level0_row25\" class=\"row_heading level0 row25\" >25</th>\n",
       "                        <td id=\"T_f1296a24_120e_11eb_8a34_00e0201808a0row25_col0\" class=\"data row25 col0\" >Numeric Binning </td>\n",
       "                        <td id=\"T_f1296a24_120e_11eb_8a34_00e0201808a0row25_col1\" class=\"data row25 col1\" >False</td>\n",
       "            </tr>\n",
       "            <tr>\n",
       "                        <th id=\"T_f1296a24_120e_11eb_8a34_00e0201808a0level0_row26\" class=\"row_heading level0 row26\" >26</th>\n",
       "                        <td id=\"T_f1296a24_120e_11eb_8a34_00e0201808a0row26_col0\" class=\"data row26 col0\" >Remove Outliers </td>\n",
       "                        <td id=\"T_f1296a24_120e_11eb_8a34_00e0201808a0row26_col1\" class=\"data row26 col1\" >False</td>\n",
       "            </tr>\n",
       "            <tr>\n",
       "                        <th id=\"T_f1296a24_120e_11eb_8a34_00e0201808a0level0_row27\" class=\"row_heading level0 row27\" >27</th>\n",
       "                        <td id=\"T_f1296a24_120e_11eb_8a34_00e0201808a0row27_col0\" class=\"data row27 col0\" >Outliers Threshold </td>\n",
       "                        <td id=\"T_f1296a24_120e_11eb_8a34_00e0201808a0row27_col1\" class=\"data row27 col1\" >None</td>\n",
       "            </tr>\n",
       "            <tr>\n",
       "                        <th id=\"T_f1296a24_120e_11eb_8a34_00e0201808a0level0_row28\" class=\"row_heading level0 row28\" >28</th>\n",
       "                        <td id=\"T_f1296a24_120e_11eb_8a34_00e0201808a0row28_col0\" class=\"data row28 col0\" >Remove Multicollinearity </td>\n",
       "                        <td id=\"T_f1296a24_120e_11eb_8a34_00e0201808a0row28_col1\" class=\"data row28 col1\" >False</td>\n",
       "            </tr>\n",
       "            <tr>\n",
       "                        <th id=\"T_f1296a24_120e_11eb_8a34_00e0201808a0level0_row29\" class=\"row_heading level0 row29\" >29</th>\n",
       "                        <td id=\"T_f1296a24_120e_11eb_8a34_00e0201808a0row29_col0\" class=\"data row29 col0\" >Multicollinearity Threshold </td>\n",
       "                        <td id=\"T_f1296a24_120e_11eb_8a34_00e0201808a0row29_col1\" class=\"data row29 col1\" >None</td>\n",
       "            </tr>\n",
       "            <tr>\n",
       "                        <th id=\"T_f1296a24_120e_11eb_8a34_00e0201808a0level0_row30\" class=\"row_heading level0 row30\" >30</th>\n",
       "                        <td id=\"T_f1296a24_120e_11eb_8a34_00e0201808a0row30_col0\" class=\"data row30 col0\" >Clustering </td>\n",
       "                        <td id=\"T_f1296a24_120e_11eb_8a34_00e0201808a0row30_col1\" class=\"data row30 col1\" >False</td>\n",
       "            </tr>\n",
       "            <tr>\n",
       "                        <th id=\"T_f1296a24_120e_11eb_8a34_00e0201808a0level0_row31\" class=\"row_heading level0 row31\" >31</th>\n",
       "                        <td id=\"T_f1296a24_120e_11eb_8a34_00e0201808a0row31_col0\" class=\"data row31 col0\" >Clustering Iteration </td>\n",
       "                        <td id=\"T_f1296a24_120e_11eb_8a34_00e0201808a0row31_col1\" class=\"data row31 col1\" >None</td>\n",
       "            </tr>\n",
       "            <tr>\n",
       "                        <th id=\"T_f1296a24_120e_11eb_8a34_00e0201808a0level0_row32\" class=\"row_heading level0 row32\" >32</th>\n",
       "                        <td id=\"T_f1296a24_120e_11eb_8a34_00e0201808a0row32_col0\" class=\"data row32 col0\" >Polynomial Features </td>\n",
       "                        <td id=\"T_f1296a24_120e_11eb_8a34_00e0201808a0row32_col1\" class=\"data row32 col1\" >False</td>\n",
       "            </tr>\n",
       "            <tr>\n",
       "                        <th id=\"T_f1296a24_120e_11eb_8a34_00e0201808a0level0_row33\" class=\"row_heading level0 row33\" >33</th>\n",
       "                        <td id=\"T_f1296a24_120e_11eb_8a34_00e0201808a0row33_col0\" class=\"data row33 col0\" >Polynomial Degree </td>\n",
       "                        <td id=\"T_f1296a24_120e_11eb_8a34_00e0201808a0row33_col1\" class=\"data row33 col1\" >None</td>\n",
       "            </tr>\n",
       "            <tr>\n",
       "                        <th id=\"T_f1296a24_120e_11eb_8a34_00e0201808a0level0_row34\" class=\"row_heading level0 row34\" >34</th>\n",
       "                        <td id=\"T_f1296a24_120e_11eb_8a34_00e0201808a0row34_col0\" class=\"data row34 col0\" >Trignometry Features </td>\n",
       "                        <td id=\"T_f1296a24_120e_11eb_8a34_00e0201808a0row34_col1\" class=\"data row34 col1\" >False</td>\n",
       "            </tr>\n",
       "            <tr>\n",
       "                        <th id=\"T_f1296a24_120e_11eb_8a34_00e0201808a0level0_row35\" class=\"row_heading level0 row35\" >35</th>\n",
       "                        <td id=\"T_f1296a24_120e_11eb_8a34_00e0201808a0row35_col0\" class=\"data row35 col0\" >Polynomial Threshold </td>\n",
       "                        <td id=\"T_f1296a24_120e_11eb_8a34_00e0201808a0row35_col1\" class=\"data row35 col1\" >None</td>\n",
       "            </tr>\n",
       "            <tr>\n",
       "                        <th id=\"T_f1296a24_120e_11eb_8a34_00e0201808a0level0_row36\" class=\"row_heading level0 row36\" >36</th>\n",
       "                        <td id=\"T_f1296a24_120e_11eb_8a34_00e0201808a0row36_col0\" class=\"data row36 col0\" >Group Features </td>\n",
       "                        <td id=\"T_f1296a24_120e_11eb_8a34_00e0201808a0row36_col1\" class=\"data row36 col1\" >False</td>\n",
       "            </tr>\n",
       "            <tr>\n",
       "                        <th id=\"T_f1296a24_120e_11eb_8a34_00e0201808a0level0_row37\" class=\"row_heading level0 row37\" >37</th>\n",
       "                        <td id=\"T_f1296a24_120e_11eb_8a34_00e0201808a0row37_col0\" class=\"data row37 col0\" >Feature Selection </td>\n",
       "                        <td id=\"T_f1296a24_120e_11eb_8a34_00e0201808a0row37_col1\" class=\"data row37 col1\" >False</td>\n",
       "            </tr>\n",
       "            <tr>\n",
       "                        <th id=\"T_f1296a24_120e_11eb_8a34_00e0201808a0level0_row38\" class=\"row_heading level0 row38\" >38</th>\n",
       "                        <td id=\"T_f1296a24_120e_11eb_8a34_00e0201808a0row38_col0\" class=\"data row38 col0\" >Features Selection Threshold </td>\n",
       "                        <td id=\"T_f1296a24_120e_11eb_8a34_00e0201808a0row38_col1\" class=\"data row38 col1\" >None</td>\n",
       "            </tr>\n",
       "            <tr>\n",
       "                        <th id=\"T_f1296a24_120e_11eb_8a34_00e0201808a0level0_row39\" class=\"row_heading level0 row39\" >39</th>\n",
       "                        <td id=\"T_f1296a24_120e_11eb_8a34_00e0201808a0row39_col0\" class=\"data row39 col0\" >Feature Interaction </td>\n",
       "                        <td id=\"T_f1296a24_120e_11eb_8a34_00e0201808a0row39_col1\" class=\"data row39 col1\" >False</td>\n",
       "            </tr>\n",
       "            <tr>\n",
       "                        <th id=\"T_f1296a24_120e_11eb_8a34_00e0201808a0level0_row40\" class=\"row_heading level0 row40\" >40</th>\n",
       "                        <td id=\"T_f1296a24_120e_11eb_8a34_00e0201808a0row40_col0\" class=\"data row40 col0\" >Feature Ratio </td>\n",
       "                        <td id=\"T_f1296a24_120e_11eb_8a34_00e0201808a0row40_col1\" class=\"data row40 col1\" >False</td>\n",
       "            </tr>\n",
       "            <tr>\n",
       "                        <th id=\"T_f1296a24_120e_11eb_8a34_00e0201808a0level0_row41\" class=\"row_heading level0 row41\" >41</th>\n",
       "                        <td id=\"T_f1296a24_120e_11eb_8a34_00e0201808a0row41_col0\" class=\"data row41 col0\" >Interaction Threshold </td>\n",
       "                        <td id=\"T_f1296a24_120e_11eb_8a34_00e0201808a0row41_col1\" class=\"data row41 col1\" >None</td>\n",
       "            </tr>\n",
       "            <tr>\n",
       "                        <th id=\"T_f1296a24_120e_11eb_8a34_00e0201808a0level0_row42\" class=\"row_heading level0 row42\" >42</th>\n",
       "                        <td id=\"T_f1296a24_120e_11eb_8a34_00e0201808a0row42_col0\" class=\"data row42 col0\" >Fix Imbalance</td>\n",
       "                        <td id=\"T_f1296a24_120e_11eb_8a34_00e0201808a0row42_col1\" class=\"data row42 col1\" >False</td>\n",
       "            </tr>\n",
       "            <tr>\n",
       "                        <th id=\"T_f1296a24_120e_11eb_8a34_00e0201808a0level0_row43\" class=\"row_heading level0 row43\" >43</th>\n",
       "                        <td id=\"T_f1296a24_120e_11eb_8a34_00e0201808a0row43_col0\" class=\"data row43 col0\" >Fix Imbalance Method</td>\n",
       "                        <td id=\"T_f1296a24_120e_11eb_8a34_00e0201808a0row43_col1\" class=\"data row43 col1\" >SMOTE</td>\n",
       "            </tr>\n",
       "    </tbody></table>"
      ],
      "text/plain": [
       "<pandas.io.formats.style.Styler at 0x14b3837cc48>"
      ]
     },
     "metadata": {},
     "output_type": "display_data"
    },
    {
     "name": "stdout",
     "output_type": "stream",
     "text": [
      "Wall time: 12.8 s\n"
     ]
    }
   ],
   "source": [
    "%%time\n",
    "clf = setup(session_id=seed, \n",
    "            data = train, target = 'income'\n",
    "          #, categorical_features=col_cat\n",
    "          , numeric_features = ['education_num','Priority']\n",
    "          #, ignore_features =tp.tolist() + wr.tolist() + wf.tolist()#'religion', 'race_1', 'race_2', 'race_3','race_4', 'race_5', 'race_6']\n",
    "           )"
   ]
  },
  {
   "cell_type": "code",
   "execution_count": 11,
   "metadata": {},
   "outputs": [
    {
     "data": {
      "text/html": [
       "<style  type=\"text/css\" >\n",
       "    #T_e3bfb89e_120f_11eb_b419_00e0201808a0 th {\n",
       "          text-align: left;\n",
       "    }#T_e3bfb89e_120f_11eb_b419_00e0201808a0row0_col0,#T_e3bfb89e_120f_11eb_b419_00e0201808a0row0_col3,#T_e3bfb89e_120f_11eb_b419_00e0201808a0row0_col4,#T_e3bfb89e_120f_11eb_b419_00e0201808a0row1_col0,#T_e3bfb89e_120f_11eb_b419_00e0201808a0row1_col1,#T_e3bfb89e_120f_11eb_b419_00e0201808a0row1_col2,#T_e3bfb89e_120f_11eb_b419_00e0201808a0row1_col4,#T_e3bfb89e_120f_11eb_b419_00e0201808a0row1_col5,#T_e3bfb89e_120f_11eb_b419_00e0201808a0row1_col6,#T_e3bfb89e_120f_11eb_b419_00e0201808a0row1_col7,#T_e3bfb89e_120f_11eb_b419_00e0201808a0row2_col0,#T_e3bfb89e_120f_11eb_b419_00e0201808a0row2_col1,#T_e3bfb89e_120f_11eb_b419_00e0201808a0row2_col2,#T_e3bfb89e_120f_11eb_b419_00e0201808a0row2_col3,#T_e3bfb89e_120f_11eb_b419_00e0201808a0row2_col4,#T_e3bfb89e_120f_11eb_b419_00e0201808a0row2_col5,#T_e3bfb89e_120f_11eb_b419_00e0201808a0row2_col6,#T_e3bfb89e_120f_11eb_b419_00e0201808a0row2_col7,#T_e3bfb89e_120f_11eb_b419_00e0201808a0row3_col0,#T_e3bfb89e_120f_11eb_b419_00e0201808a0row3_col1,#T_e3bfb89e_120f_11eb_b419_00e0201808a0row3_col2,#T_e3bfb89e_120f_11eb_b419_00e0201808a0row3_col3,#T_e3bfb89e_120f_11eb_b419_00e0201808a0row3_col5,#T_e3bfb89e_120f_11eb_b419_00e0201808a0row3_col6,#T_e3bfb89e_120f_11eb_b419_00e0201808a0row3_col7,#T_e3bfb89e_120f_11eb_b419_00e0201808a0row4_col0,#T_e3bfb89e_120f_11eb_b419_00e0201808a0row4_col1,#T_e3bfb89e_120f_11eb_b419_00e0201808a0row4_col2,#T_e3bfb89e_120f_11eb_b419_00e0201808a0row4_col3,#T_e3bfb89e_120f_11eb_b419_00e0201808a0row4_col4,#T_e3bfb89e_120f_11eb_b419_00e0201808a0row4_col5,#T_e3bfb89e_120f_11eb_b419_00e0201808a0row4_col6,#T_e3bfb89e_120f_11eb_b419_00e0201808a0row4_col7,#T_e3bfb89e_120f_11eb_b419_00e0201808a0row5_col0,#T_e3bfb89e_120f_11eb_b419_00e0201808a0row5_col1,#T_e3bfb89e_120f_11eb_b419_00e0201808a0row5_col2,#T_e3bfb89e_120f_11eb_b419_00e0201808a0row5_col3,#T_e3bfb89e_120f_11eb_b419_00e0201808a0row5_col4,#T_e3bfb89e_120f_11eb_b419_00e0201808a0row5_col5,#T_e3bfb89e_120f_11eb_b419_00e0201808a0row5_col6,#T_e3bfb89e_120f_11eb_b419_00e0201808a0row5_col7,#T_e3bfb89e_120f_11eb_b419_00e0201808a0row6_col0,#T_e3bfb89e_120f_11eb_b419_00e0201808a0row6_col1,#T_e3bfb89e_120f_11eb_b419_00e0201808a0row6_col2,#T_e3bfb89e_120f_11eb_b419_00e0201808a0row6_col3,#T_e3bfb89e_120f_11eb_b419_00e0201808a0row6_col4,#T_e3bfb89e_120f_11eb_b419_00e0201808a0row6_col5,#T_e3bfb89e_120f_11eb_b419_00e0201808a0row6_col6,#T_e3bfb89e_120f_11eb_b419_00e0201808a0row6_col7,#T_e3bfb89e_120f_11eb_b419_00e0201808a0row7_col0,#T_e3bfb89e_120f_11eb_b419_00e0201808a0row7_col1,#T_e3bfb89e_120f_11eb_b419_00e0201808a0row7_col2,#T_e3bfb89e_120f_11eb_b419_00e0201808a0row7_col3,#T_e3bfb89e_120f_11eb_b419_00e0201808a0row7_col4,#T_e3bfb89e_120f_11eb_b419_00e0201808a0row7_col5,#T_e3bfb89e_120f_11eb_b419_00e0201808a0row7_col6,#T_e3bfb89e_120f_11eb_b419_00e0201808a0row7_col7{\n",
       "            text-align:  left;\n",
       "        }#T_e3bfb89e_120f_11eb_b419_00e0201808a0row0_col1,#T_e3bfb89e_120f_11eb_b419_00e0201808a0row0_col2,#T_e3bfb89e_120f_11eb_b419_00e0201808a0row0_col5,#T_e3bfb89e_120f_11eb_b419_00e0201808a0row0_col6,#T_e3bfb89e_120f_11eb_b419_00e0201808a0row0_col7,#T_e3bfb89e_120f_11eb_b419_00e0201808a0row1_col3,#T_e3bfb89e_120f_11eb_b419_00e0201808a0row3_col4{\n",
       "            background-color:  yellow;\n",
       "            text-align:  left;\n",
       "        }#T_e3bfb89e_120f_11eb_b419_00e0201808a0row0_col8,#T_e3bfb89e_120f_11eb_b419_00e0201808a0row1_col8,#T_e3bfb89e_120f_11eb_b419_00e0201808a0row2_col8,#T_e3bfb89e_120f_11eb_b419_00e0201808a0row3_col8,#T_e3bfb89e_120f_11eb_b419_00e0201808a0row4_col8,#T_e3bfb89e_120f_11eb_b419_00e0201808a0row5_col8,#T_e3bfb89e_120f_11eb_b419_00e0201808a0row6_col8,#T_e3bfb89e_120f_11eb_b419_00e0201808a0row7_col8{\n",
       "            background-color:  lightgrey;\n",
       "            text-align:  left;\n",
       "        }</style><table id=\"T_e3bfb89e_120f_11eb_b419_00e0201808a0\" ><thead>    <tr>        <th class=\"blank level0\" ></th>        <th class=\"col_heading level0 col0\" >Model</th>        <th class=\"col_heading level0 col1\" >Accuracy</th>        <th class=\"col_heading level0 col2\" >AUC</th>        <th class=\"col_heading level0 col3\" >Recall</th>        <th class=\"col_heading level0 col4\" >Prec.</th>        <th class=\"col_heading level0 col5\" >F1</th>        <th class=\"col_heading level0 col6\" >Kappa</th>        <th class=\"col_heading level0 col7\" >MCC</th>        <th class=\"col_heading level0 col8\" >TT (Sec)</th>    </tr></thead><tbody>\n",
       "                <tr>\n",
       "                        <th id=\"T_e3bfb89e_120f_11eb_b419_00e0201808a0level0_row0\" class=\"row_heading level0 row0\" >0</th>\n",
       "                        <td id=\"T_e3bfb89e_120f_11eb_b419_00e0201808a0row0_col0\" class=\"data row0 col0\" >CatBoost Classifier</td>\n",
       "                        <td id=\"T_e3bfb89e_120f_11eb_b419_00e0201808a0row0_col1\" class=\"data row0 col1\" >0.8684</td>\n",
       "                        <td id=\"T_e3bfb89e_120f_11eb_b419_00e0201808a0row0_col2\" class=\"data row0 col2\" >0.9236</td>\n",
       "                        <td id=\"T_e3bfb89e_120f_11eb_b419_00e0201808a0row0_col3\" class=\"data row0 col3\" >0.6387</td>\n",
       "                        <td id=\"T_e3bfb89e_120f_11eb_b419_00e0201808a0row0_col4\" class=\"data row0 col4\" >0.7782</td>\n",
       "                        <td id=\"T_e3bfb89e_120f_11eb_b419_00e0201808a0row0_col5\" class=\"data row0 col5\" >0.7013</td>\n",
       "                        <td id=\"T_e3bfb89e_120f_11eb_b419_00e0201808a0row0_col6\" class=\"data row0 col6\" >0.6179</td>\n",
       "                        <td id=\"T_e3bfb89e_120f_11eb_b419_00e0201808a0row0_col7\" class=\"data row0 col7\" >0.6231</td>\n",
       "                        <td id=\"T_e3bfb89e_120f_11eb_b419_00e0201808a0row0_col8\" class=\"data row0 col8\" >12.7087</td>\n",
       "            </tr>\n",
       "            <tr>\n",
       "                        <th id=\"T_e3bfb89e_120f_11eb_b419_00e0201808a0level0_row1\" class=\"row_heading level0 row1\" >1</th>\n",
       "                        <td id=\"T_e3bfb89e_120f_11eb_b419_00e0201808a0row1_col0\" class=\"data row1 col0\" >Light Gradient Boosting Machine</td>\n",
       "                        <td id=\"T_e3bfb89e_120f_11eb_b419_00e0201808a0row1_col1\" class=\"data row1 col1\" >0.8654</td>\n",
       "                        <td id=\"T_e3bfb89e_120f_11eb_b419_00e0201808a0row1_col2\" class=\"data row1 col2\" >0.9207</td>\n",
       "                        <td id=\"T_e3bfb89e_120f_11eb_b419_00e0201808a0row1_col3\" class=\"data row1 col3\" >0.6455</td>\n",
       "                        <td id=\"T_e3bfb89e_120f_11eb_b419_00e0201808a0row1_col4\" class=\"data row1 col4\" >0.7623</td>\n",
       "                        <td id=\"T_e3bfb89e_120f_11eb_b419_00e0201808a0row1_col5\" class=\"data row1 col5\" >0.6988</td>\n",
       "                        <td id=\"T_e3bfb89e_120f_11eb_b419_00e0201808a0row1_col6\" class=\"data row1 col6\" >0.6129</td>\n",
       "                        <td id=\"T_e3bfb89e_120f_11eb_b419_00e0201808a0row1_col7\" class=\"data row1 col7\" >0.6166</td>\n",
       "                        <td id=\"T_e3bfb89e_120f_11eb_b419_00e0201808a0row1_col8\" class=\"data row1 col8\" >0.3330</td>\n",
       "            </tr>\n",
       "            <tr>\n",
       "                        <th id=\"T_e3bfb89e_120f_11eb_b419_00e0201808a0level0_row2\" class=\"row_heading level0 row2\" >2</th>\n",
       "                        <td id=\"T_e3bfb89e_120f_11eb_b419_00e0201808a0row2_col0\" class=\"data row2 col0\" >Extreme Gradient Boosting</td>\n",
       "                        <td id=\"T_e3bfb89e_120f_11eb_b419_00e0201808a0row2_col1\" class=\"data row2 col1\" >0.8612</td>\n",
       "                        <td id=\"T_e3bfb89e_120f_11eb_b419_00e0201808a0row2_col2\" class=\"data row2 col2\" >0.9193</td>\n",
       "                        <td id=\"T_e3bfb89e_120f_11eb_b419_00e0201808a0row2_col3\" class=\"data row2 col3\" >0.6387</td>\n",
       "                        <td id=\"T_e3bfb89e_120f_11eb_b419_00e0201808a0row2_col4\" class=\"data row2 col4\" >0.7508</td>\n",
       "                        <td id=\"T_e3bfb89e_120f_11eb_b419_00e0201808a0row2_col5\" class=\"data row2 col5\" >0.6900</td>\n",
       "                        <td id=\"T_e3bfb89e_120f_11eb_b419_00e0201808a0row2_col6\" class=\"data row2 col6\" >0.6013</td>\n",
       "                        <td id=\"T_e3bfb89e_120f_11eb_b419_00e0201808a0row2_col7\" class=\"data row2 col7\" >0.6047</td>\n",
       "                        <td id=\"T_e3bfb89e_120f_11eb_b419_00e0201808a0row2_col8\" class=\"data row2 col8\" >2.5371</td>\n",
       "            </tr>\n",
       "            <tr>\n",
       "                        <th id=\"T_e3bfb89e_120f_11eb_b419_00e0201808a0level0_row3\" class=\"row_heading level0 row3\" >3</th>\n",
       "                        <td id=\"T_e3bfb89e_120f_11eb_b419_00e0201808a0row3_col0\" class=\"data row3 col0\" >Gradient Boosting Classifier</td>\n",
       "                        <td id=\"T_e3bfb89e_120f_11eb_b419_00e0201808a0row3_col1\" class=\"data row3 col1\" >0.8620</td>\n",
       "                        <td id=\"T_e3bfb89e_120f_11eb_b419_00e0201808a0row3_col2\" class=\"data row3 col2\" >0.9181</td>\n",
       "                        <td id=\"T_e3bfb89e_120f_11eb_b419_00e0201808a0row3_col3\" class=\"data row3 col3\" >0.5973</td>\n",
       "                        <td id=\"T_e3bfb89e_120f_11eb_b419_00e0201808a0row3_col4\" class=\"data row3 col4\" >0.7814</td>\n",
       "                        <td id=\"T_e3bfb89e_120f_11eb_b419_00e0201808a0row3_col5\" class=\"data row3 col5\" >0.6768</td>\n",
       "                        <td id=\"T_e3bfb89e_120f_11eb_b419_00e0201808a0row3_col6\" class=\"data row3 col6\" >0.5911</td>\n",
       "                        <td id=\"T_e3bfb89e_120f_11eb_b419_00e0201808a0row3_col7\" class=\"data row3 col7\" >0.5999</td>\n",
       "                        <td id=\"T_e3bfb89e_120f_11eb_b419_00e0201808a0row3_col8\" class=\"data row3 col8\" >2.3554</td>\n",
       "            </tr>\n",
       "            <tr>\n",
       "                        <th id=\"T_e3bfb89e_120f_11eb_b419_00e0201808a0level0_row4\" class=\"row_heading level0 row4\" >4</th>\n",
       "                        <td id=\"T_e3bfb89e_120f_11eb_b419_00e0201808a0row4_col0\" class=\"data row4 col0\" >Ada Boost Classifier</td>\n",
       "                        <td id=\"T_e3bfb89e_120f_11eb_b419_00e0201808a0row4_col1\" class=\"data row4 col1\" >0.8571</td>\n",
       "                        <td id=\"T_e3bfb89e_120f_11eb_b419_00e0201808a0row4_col2\" class=\"data row4 col2\" >0.9114</td>\n",
       "                        <td id=\"T_e3bfb89e_120f_11eb_b419_00e0201808a0row4_col3\" class=\"data row4 col3\" >0.6180</td>\n",
       "                        <td id=\"T_e3bfb89e_120f_11eb_b419_00e0201808a0row4_col4\" class=\"data row4 col4\" >0.7481</td>\n",
       "                        <td id=\"T_e3bfb89e_120f_11eb_b419_00e0201808a0row4_col5\" class=\"data row4 col5\" >0.6767</td>\n",
       "                        <td id=\"T_e3bfb89e_120f_11eb_b419_00e0201808a0row4_col6\" class=\"data row4 col6\" >0.5860</td>\n",
       "                        <td id=\"T_e3bfb89e_120f_11eb_b419_00e0201808a0row4_col7\" class=\"data row4 col7\" >0.5905</td>\n",
       "                        <td id=\"T_e3bfb89e_120f_11eb_b419_00e0201808a0row4_col8\" class=\"data row4 col8\" >0.7767</td>\n",
       "            </tr>\n",
       "            <tr>\n",
       "                        <th id=\"T_e3bfb89e_120f_11eb_b419_00e0201808a0level0_row5\" class=\"row_heading level0 row5\" >5</th>\n",
       "                        <td id=\"T_e3bfb89e_120f_11eb_b419_00e0201808a0row5_col0\" class=\"data row5 col0\" >Linear Discriminant Analysis</td>\n",
       "                        <td id=\"T_e3bfb89e_120f_11eb_b419_00e0201808a0row5_col1\" class=\"data row5 col1\" >0.8459</td>\n",
       "                        <td id=\"T_e3bfb89e_120f_11eb_b419_00e0201808a0row5_col2\" class=\"data row5 col2\" >0.8997</td>\n",
       "                        <td id=\"T_e3bfb89e_120f_11eb_b419_00e0201808a0row5_col3\" class=\"data row5 col3\" >0.5762</td>\n",
       "                        <td id=\"T_e3bfb89e_120f_11eb_b419_00e0201808a0row5_col4\" class=\"data row5 col4\" >0.7306</td>\n",
       "                        <td id=\"T_e3bfb89e_120f_11eb_b419_00e0201808a0row5_col5\" class=\"data row5 col5\" >0.6439</td>\n",
       "                        <td id=\"T_e3bfb89e_120f_11eb_b419_00e0201808a0row5_col6\" class=\"data row5 col6\" >0.5473</td>\n",
       "                        <td id=\"T_e3bfb89e_120f_11eb_b419_00e0201808a0row5_col7\" class=\"data row5 col7\" >0.5539</td>\n",
       "                        <td id=\"T_e3bfb89e_120f_11eb_b419_00e0201808a0row5_col8\" class=\"data row5 col8\" >0.1925</td>\n",
       "            </tr>\n",
       "            <tr>\n",
       "                        <th id=\"T_e3bfb89e_120f_11eb_b419_00e0201808a0level0_row6\" class=\"row_heading level0 row6\" >6</th>\n",
       "                        <td id=\"T_e3bfb89e_120f_11eb_b419_00e0201808a0row6_col0\" class=\"data row6 col0\" >Extra Trees Classifier</td>\n",
       "                        <td id=\"T_e3bfb89e_120f_11eb_b419_00e0201808a0row6_col1\" class=\"data row6 col1\" >0.8353</td>\n",
       "                        <td id=\"T_e3bfb89e_120f_11eb_b419_00e0201808a0row6_col2\" class=\"data row6 col2\" >0.8808</td>\n",
       "                        <td id=\"T_e3bfb89e_120f_11eb_b419_00e0201808a0row6_col3\" class=\"data row6 col3\" >0.6031</td>\n",
       "                        <td id=\"T_e3bfb89e_120f_11eb_b419_00e0201808a0row6_col4\" class=\"data row6 col4\" >0.6812</td>\n",
       "                        <td id=\"T_e3bfb89e_120f_11eb_b419_00e0201808a0row6_col5\" class=\"data row6 col5\" >0.6395</td>\n",
       "                        <td id=\"T_e3bfb89e_120f_11eb_b419_00e0201808a0row6_col6\" class=\"data row6 col6\" >0.5333</td>\n",
       "                        <td id=\"T_e3bfb89e_120f_11eb_b419_00e0201808a0row6_col7\" class=\"data row6 col7\" >0.5352</td>\n",
       "                        <td id=\"T_e3bfb89e_120f_11eb_b419_00e0201808a0row6_col8\" class=\"data row6 col8\" >0.6986</td>\n",
       "            </tr>\n",
       "            <tr>\n",
       "                        <th id=\"T_e3bfb89e_120f_11eb_b419_00e0201808a0level0_row7\" class=\"row_heading level0 row7\" >7</th>\n",
       "                        <td id=\"T_e3bfb89e_120f_11eb_b419_00e0201808a0row7_col0\" class=\"data row7 col0\" >Random Forest Classifier</td>\n",
       "                        <td id=\"T_e3bfb89e_120f_11eb_b419_00e0201808a0row7_col1\" class=\"data row7 col1\" >0.8430</td>\n",
       "                        <td id=\"T_e3bfb89e_120f_11eb_b419_00e0201808a0row7_col2\" class=\"data row7 col2\" >0.8738</td>\n",
       "                        <td id=\"T_e3bfb89e_120f_11eb_b419_00e0201808a0row7_col3\" class=\"data row7 col3\" >0.5714</td>\n",
       "                        <td id=\"T_e3bfb89e_120f_11eb_b419_00e0201808a0row7_col4\" class=\"data row7 col4\" >0.7223</td>\n",
       "                        <td id=\"T_e3bfb89e_120f_11eb_b419_00e0201808a0row7_col5\" class=\"data row7 col5\" >0.6379</td>\n",
       "                        <td id=\"T_e3bfb89e_120f_11eb_b419_00e0201808a0row7_col6\" class=\"data row7 col6\" >0.5394</td>\n",
       "                        <td id=\"T_e3bfb89e_120f_11eb_b419_00e0201808a0row7_col7\" class=\"data row7 col7\" >0.5455</td>\n",
       "                        <td id=\"T_e3bfb89e_120f_11eb_b419_00e0201808a0row7_col8\" class=\"data row7 col8\" >0.1262</td>\n",
       "            </tr>\n",
       "    </tbody></table>"
      ],
      "text/plain": [
       "<pandas.io.formats.style.Styler at 0x14b38d8e6c8>"
      ]
     },
     "metadata": {},
     "output_type": "display_data"
    }
   ],
   "source": [
    "best_3 = compare_models(sort = 'F1', n_select = 3\n",
    "                       ,exclude=['lr', 'knn', 'nb', 'dt', 'svm', 'rbfsvm', 'ridge','qda']\n",
    "                       #,exclude=['lr', 'knn', 'nb', 'dt', 'svm', 'rbfsvm', 'gpc', 'mlp', 'ridge', 'rf', 'qda', 'ada', 'xgboost']\n",
    "                       )"
   ]
  },
  {
   "cell_type": "code",
   "execution_count": 12,
   "metadata": {},
   "outputs": [
    {
     "data": {
      "text/html": [
       "<style  type=\"text/css\" >\n",
       "#T_337f12d8_1210_11eb_9821_00e0201808a0row5_col0,#T_337f12d8_1210_11eb_9821_00e0201808a0row5_col1,#T_337f12d8_1210_11eb_9821_00e0201808a0row5_col2,#T_337f12d8_1210_11eb_9821_00e0201808a0row5_col3,#T_337f12d8_1210_11eb_9821_00e0201808a0row5_col4,#T_337f12d8_1210_11eb_9821_00e0201808a0row5_col5,#T_337f12d8_1210_11eb_9821_00e0201808a0row5_col6{\n",
       "            background:  yellow;\n",
       "        }</style><table id=\"T_337f12d8_1210_11eb_9821_00e0201808a0\" ><thead>    <tr>        <th class=\"blank level0\" ></th>        <th class=\"col_heading level0 col0\" >Accuracy</th>        <th class=\"col_heading level0 col1\" >AUC</th>        <th class=\"col_heading level0 col2\" >Recall</th>        <th class=\"col_heading level0 col3\" >Prec.</th>        <th class=\"col_heading level0 col4\" >F1</th>        <th class=\"col_heading level0 col5\" >Kappa</th>        <th class=\"col_heading level0 col6\" >MCC</th>    </tr></thead><tbody>\n",
       "                <tr>\n",
       "                        <th id=\"T_337f12d8_1210_11eb_9821_00e0201808a0level0_row0\" class=\"row_heading level0 row0\" >0</th>\n",
       "                        <td id=\"T_337f12d8_1210_11eb_9821_00e0201808a0row0_col0\" class=\"data row0 col0\" >0.8649</td>\n",
       "                        <td id=\"T_337f12d8_1210_11eb_9821_00e0201808a0row0_col1\" class=\"data row0 col1\" >0.9221</td>\n",
       "                        <td id=\"T_337f12d8_1210_11eb_9821_00e0201808a0row0_col2\" class=\"data row0 col2\" >0.6392</td>\n",
       "                        <td id=\"T_337f12d8_1210_11eb_9821_00e0201808a0row0_col3\" class=\"data row0 col3\" >0.7640</td>\n",
       "                        <td id=\"T_337f12d8_1210_11eb_9821_00e0201808a0row0_col4\" class=\"data row0 col4\" >0.6960</td>\n",
       "                        <td id=\"T_337f12d8_1210_11eb_9821_00e0201808a0row0_col5\" class=\"data row0 col5\" >0.6100</td>\n",
       "                        <td id=\"T_337f12d8_1210_11eb_9821_00e0201808a0row0_col6\" class=\"data row0 col6\" >0.6141</td>\n",
       "            </tr>\n",
       "            <tr>\n",
       "                        <th id=\"T_337f12d8_1210_11eb_9821_00e0201808a0level0_row1\" class=\"row_heading level0 row1\" >1</th>\n",
       "                        <td id=\"T_337f12d8_1210_11eb_9821_00e0201808a0row1_col0\" class=\"data row1 col0\" >0.8609</td>\n",
       "                        <td id=\"T_337f12d8_1210_11eb_9821_00e0201808a0row1_col1\" class=\"data row1 col1\" >0.9160</td>\n",
       "                        <td id=\"T_337f12d8_1210_11eb_9821_00e0201808a0row1_col2\" class=\"data row1 col2\" >0.6392</td>\n",
       "                        <td id=\"T_337f12d8_1210_11eb_9821_00e0201808a0row1_col3\" class=\"data row1 col3\" >0.7495</td>\n",
       "                        <td id=\"T_337f12d8_1210_11eb_9821_00e0201808a0row1_col4\" class=\"data row1 col4\" >0.6900</td>\n",
       "                        <td id=\"T_337f12d8_1210_11eb_9821_00e0201808a0row1_col5\" class=\"data row1 col5\" >0.6011</td>\n",
       "                        <td id=\"T_337f12d8_1210_11eb_9821_00e0201808a0row1_col6\" class=\"data row1 col6\" >0.6042</td>\n",
       "            </tr>\n",
       "            <tr>\n",
       "                        <th id=\"T_337f12d8_1210_11eb_9821_00e0201808a0level0_row2\" class=\"row_heading level0 row2\" >2</th>\n",
       "                        <td id=\"T_337f12d8_1210_11eb_9821_00e0201808a0row2_col0\" class=\"data row2 col0\" >0.8582</td>\n",
       "                        <td id=\"T_337f12d8_1210_11eb_9821_00e0201808a0row2_col1\" class=\"data row2 col1\" >0.9205</td>\n",
       "                        <td id=\"T_337f12d8_1210_11eb_9821_00e0201808a0row2_col2\" class=\"data row2 col2\" >0.6181</td>\n",
       "                        <td id=\"T_337f12d8_1210_11eb_9821_00e0201808a0row2_col3\" class=\"data row2 col3\" >0.7520</td>\n",
       "                        <td id=\"T_337f12d8_1210_11eb_9821_00e0201808a0row2_col4\" class=\"data row2 col4\" >0.6785</td>\n",
       "                        <td id=\"T_337f12d8_1210_11eb_9821_00e0201808a0row2_col5\" class=\"data row2 col5\" >0.5887</td>\n",
       "                        <td id=\"T_337f12d8_1210_11eb_9821_00e0201808a0row2_col6\" class=\"data row2 col6\" >0.5933</td>\n",
       "            </tr>\n",
       "            <tr>\n",
       "                        <th id=\"T_337f12d8_1210_11eb_9821_00e0201808a0level0_row3\" class=\"row_heading level0 row3\" >3</th>\n",
       "                        <td id=\"T_337f12d8_1210_11eb_9821_00e0201808a0row3_col0\" class=\"data row3 col0\" >0.8726</td>\n",
       "                        <td id=\"T_337f12d8_1210_11eb_9821_00e0201808a0row3_col1\" class=\"data row3 col1\" >0.9307</td>\n",
       "                        <td id=\"T_337f12d8_1210_11eb_9821_00e0201808a0row3_col2\" class=\"data row3 col2\" >0.6321</td>\n",
       "                        <td id=\"T_337f12d8_1210_11eb_9821_00e0201808a0row3_col3\" class=\"data row3 col3\" >0.7992</td>\n",
       "                        <td id=\"T_337f12d8_1210_11eb_9821_00e0201808a0row3_col4\" class=\"data row3 col4\" >0.7059</td>\n",
       "                        <td id=\"T_337f12d8_1210_11eb_9821_00e0201808a0row3_col5\" class=\"data row3 col5\" >0.6260</td>\n",
       "                        <td id=\"T_337f12d8_1210_11eb_9821_00e0201808a0row3_col6\" class=\"data row3 col6\" >0.6330</td>\n",
       "            </tr>\n",
       "            <tr>\n",
       "                        <th id=\"T_337f12d8_1210_11eb_9821_00e0201808a0level0_row4\" class=\"row_heading level0 row4\" >4</th>\n",
       "                        <td id=\"T_337f12d8_1210_11eb_9821_00e0201808a0row4_col0\" class=\"data row4 col0\" >0.8691</td>\n",
       "                        <td id=\"T_337f12d8_1210_11eb_9821_00e0201808a0row4_col1\" class=\"data row4 col1\" >0.9238</td>\n",
       "                        <td id=\"T_337f12d8_1210_11eb_9821_00e0201808a0row4_col2\" class=\"data row4 col2\" >0.6586</td>\n",
       "                        <td id=\"T_337f12d8_1210_11eb_9821_00e0201808a0row4_col3\" class=\"data row4 col3\" >0.7679</td>\n",
       "                        <td id=\"T_337f12d8_1210_11eb_9821_00e0201808a0row4_col4\" class=\"data row4 col4\" >0.7091</td>\n",
       "                        <td id=\"T_337f12d8_1210_11eb_9821_00e0201808a0row4_col5\" class=\"data row4 col5\" >0.6253</td>\n",
       "                        <td id=\"T_337f12d8_1210_11eb_9821_00e0201808a0row4_col6\" class=\"data row4 col6\" >0.6283</td>\n",
       "            </tr>\n",
       "            <tr>\n",
       "                        <th id=\"T_337f12d8_1210_11eb_9821_00e0201808a0level0_row5\" class=\"row_heading level0 row5\" >Mean</th>\n",
       "                        <td id=\"T_337f12d8_1210_11eb_9821_00e0201808a0row5_col0\" class=\"data row5 col0\" >0.8652</td>\n",
       "                        <td id=\"T_337f12d8_1210_11eb_9821_00e0201808a0row5_col1\" class=\"data row5 col1\" >0.9226</td>\n",
       "                        <td id=\"T_337f12d8_1210_11eb_9821_00e0201808a0row5_col2\" class=\"data row5 col2\" >0.6374</td>\n",
       "                        <td id=\"T_337f12d8_1210_11eb_9821_00e0201808a0row5_col3\" class=\"data row5 col3\" >0.7665</td>\n",
       "                        <td id=\"T_337f12d8_1210_11eb_9821_00e0201808a0row5_col4\" class=\"data row5 col4\" >0.6959</td>\n",
       "                        <td id=\"T_337f12d8_1210_11eb_9821_00e0201808a0row5_col5\" class=\"data row5 col5\" >0.6102</td>\n",
       "                        <td id=\"T_337f12d8_1210_11eb_9821_00e0201808a0row5_col6\" class=\"data row5 col6\" >0.6146</td>\n",
       "            </tr>\n",
       "            <tr>\n",
       "                        <th id=\"T_337f12d8_1210_11eb_9821_00e0201808a0level0_row6\" class=\"row_heading level0 row6\" >SD</th>\n",
       "                        <td id=\"T_337f12d8_1210_11eb_9821_00e0201808a0row6_col0\" class=\"data row6 col0\" >0.0053</td>\n",
       "                        <td id=\"T_337f12d8_1210_11eb_9821_00e0201808a0row6_col1\" class=\"data row6 col1\" >0.0048</td>\n",
       "                        <td id=\"T_337f12d8_1210_11eb_9821_00e0201808a0row6_col2\" class=\"data row6 col2\" >0.0131</td>\n",
       "                        <td id=\"T_337f12d8_1210_11eb_9821_00e0201808a0row6_col3\" class=\"data row6 col3\" >0.0178</td>\n",
       "                        <td id=\"T_337f12d8_1210_11eb_9821_00e0201808a0row6_col4\" class=\"data row6 col4\" >0.0111</td>\n",
       "                        <td id=\"T_337f12d8_1210_11eb_9821_00e0201808a0row6_col5\" class=\"data row6 col5\" >0.0143</td>\n",
       "                        <td id=\"T_337f12d8_1210_11eb_9821_00e0201808a0row6_col6\" class=\"data row6 col6\" >0.0148</td>\n",
       "            </tr>\n",
       "    </tbody></table>"
      ],
      "text/plain": [
       "<pandas.io.formats.style.Styler at 0x14b38ed7608>"
      ]
     },
     "metadata": {},
     "output_type": "display_data"
    }
   ],
   "source": [
    "blended = blend_models(estimator_list = best_3, fold = 5, method = 'soft')"
   ]
  },
  {
   "cell_type": "code",
   "execution_count": 13,
   "metadata": {},
   "outputs": [
    {
     "data": {
      "text/html": [
       "<div>\n",
       "<style scoped>\n",
       "    .dataframe tbody tr th:only-of-type {\n",
       "        vertical-align: middle;\n",
       "    }\n",
       "\n",
       "    .dataframe tbody tr th {\n",
       "        vertical-align: top;\n",
       "    }\n",
       "\n",
       "    .dataframe thead th {\n",
       "        text-align: right;\n",
       "    }\n",
       "</style>\n",
       "<table border=\"1\" class=\"dataframe\">\n",
       "  <thead>\n",
       "    <tr style=\"text-align: right;\">\n",
       "      <th></th>\n",
       "      <th>Model</th>\n",
       "      <th>Accuracy</th>\n",
       "      <th>AUC</th>\n",
       "      <th>Recall</th>\n",
       "      <th>Prec.</th>\n",
       "      <th>F1</th>\n",
       "      <th>Kappa</th>\n",
       "      <th>MCC</th>\n",
       "    </tr>\n",
       "  </thead>\n",
       "  <tbody>\n",
       "    <tr>\n",
       "      <th>0</th>\n",
       "      <td>Voting Classifier</td>\n",
       "      <td>0.8728</td>\n",
       "      <td>0.9289</td>\n",
       "      <td>0.6616</td>\n",
       "      <td>0.7794</td>\n",
       "      <td>0.7157</td>\n",
       "      <td>0.6344</td>\n",
       "      <td>0.638</td>\n",
       "    </tr>\n",
       "  </tbody>\n",
       "</table>\n",
       "</div>"
      ],
      "text/plain": [
       "               Model  Accuracy     AUC  Recall   Prec.      F1   Kappa    MCC\n",
       "0  Voting Classifier    0.8728  0.9289  0.6616  0.7794  0.7157  0.6344  0.638"
      ]
     },
     "metadata": {},
     "output_type": "display_data"
    }
   ],
   "source": [
    "pred_holdout = predict_model(blended)"
   ]
  },
  {
   "cell_type": "code",
   "execution_count": 14,
   "metadata": {},
   "outputs": [
    {
     "name": "stdout",
     "output_type": "stream",
     "text": [
      "Wall time: 3min 33s\n"
     ]
    }
   ],
   "source": [
    "%%time\n",
    "final_model = finalize_model(blended)"
   ]
  },
  {
   "cell_type": "code",
   "execution_count": 17,
   "metadata": {},
   "outputs": [],
   "source": [
    "predictions = predict_model(final_model, data = test)"
   ]
  },
  {
   "cell_type": "markdown",
   "metadata": {},
   "source": [
    "# 4. 예측"
   ]
  },
  {
   "cell_type": "code",
   "execution_count": 18,
   "metadata": {},
   "outputs": [],
   "source": [
    "submission['prediction'] = predictions['Label']"
   ]
  },
  {
   "cell_type": "markdown",
   "metadata": {},
   "source": [
    "# 5. 제출"
   ]
  },
  {
   "cell_type": "code",
   "execution_count": 19,
   "metadata": {},
   "outputs": [],
   "source": [
    "submission.to_csv('output/20201019-2.csv')"
   ]
  },
  {
   "cell_type": "code",
   "execution_count": null,
   "metadata": {},
   "outputs": [],
   "source": []
  },
  {
   "cell_type": "code",
   "execution_count": 20,
   "metadata": {},
   "outputs": [
    {
     "data": {
      "text/html": [
       "<style  type=\"text/css\" >\n",
       "#T_ecc4b19e_1210_11eb_9b36_00e0201808a0row10_col0,#T_ecc4b19e_1210_11eb_9b36_00e0201808a0row10_col1,#T_ecc4b19e_1210_11eb_9b36_00e0201808a0row10_col2,#T_ecc4b19e_1210_11eb_9b36_00e0201808a0row10_col3,#T_ecc4b19e_1210_11eb_9b36_00e0201808a0row10_col4,#T_ecc4b19e_1210_11eb_9b36_00e0201808a0row10_col5,#T_ecc4b19e_1210_11eb_9b36_00e0201808a0row10_col6{\n",
       "            background:  yellow;\n",
       "        }</style><table id=\"T_ecc4b19e_1210_11eb_9b36_00e0201808a0\" ><thead>    <tr>        <th class=\"blank level0\" ></th>        <th class=\"col_heading level0 col0\" >Accuracy</th>        <th class=\"col_heading level0 col1\" >AUC</th>        <th class=\"col_heading level0 col2\" >Recall</th>        <th class=\"col_heading level0 col3\" >Prec.</th>        <th class=\"col_heading level0 col4\" >F1</th>        <th class=\"col_heading level0 col5\" >Kappa</th>        <th class=\"col_heading level0 col6\" >MCC</th>    </tr></thead><tbody>\n",
       "                <tr>\n",
       "                        <th id=\"T_ecc4b19e_1210_11eb_9b36_00e0201808a0level0_row0\" class=\"row_heading level0 row0\" >0</th>\n",
       "                        <td id=\"T_ecc4b19e_1210_11eb_9b36_00e0201808a0row0_col0\" class=\"data row0 col0\" >0.8669</td>\n",
       "                        <td id=\"T_ecc4b19e_1210_11eb_9b36_00e0201808a0row0_col1\" class=\"data row0 col1\" >0.9226</td>\n",
       "                        <td id=\"T_ecc4b19e_1210_11eb_9b36_00e0201808a0row0_col2\" class=\"data row0 col2\" >0.6343</td>\n",
       "                        <td id=\"T_ecc4b19e_1210_11eb_9b36_00e0201808a0row0_col3\" class=\"data row0 col3\" >0.7747</td>\n",
       "                        <td id=\"T_ecc4b19e_1210_11eb_9b36_00e0201808a0row0_col4\" class=\"data row0 col4\" >0.6975</td>\n",
       "                        <td id=\"T_ecc4b19e_1210_11eb_9b36_00e0201808a0row0_col5\" class=\"data row0 col5\" >0.6133</td>\n",
       "                        <td id=\"T_ecc4b19e_1210_11eb_9b36_00e0201808a0row0_col6\" class=\"data row0 col6\" >0.6183</td>\n",
       "            </tr>\n",
       "            <tr>\n",
       "                        <th id=\"T_ecc4b19e_1210_11eb_9b36_00e0201808a0level0_row1\" class=\"row_heading level0 row1\" >1</th>\n",
       "                        <td id=\"T_ecc4b19e_1210_11eb_9b36_00e0201808a0row1_col0\" class=\"data row1 col0\" >0.8567</td>\n",
       "                        <td id=\"T_ecc4b19e_1210_11eb_9b36_00e0201808a0row1_col1\" class=\"data row1 col1\" >0.9140</td>\n",
       "                        <td id=\"T_ecc4b19e_1210_11eb_9b36_00e0201808a0row1_col2\" class=\"data row1 col2\" >0.6505</td>\n",
       "                        <td id=\"T_ecc4b19e_1210_11eb_9b36_00e0201808a0row1_col3\" class=\"data row1 col3\" >0.7283</td>\n",
       "                        <td id=\"T_ecc4b19e_1210_11eb_9b36_00e0201808a0row1_col4\" class=\"data row1 col4\" >0.6872</td>\n",
       "                        <td id=\"T_ecc4b19e_1210_11eb_9b36_00e0201808a0row1_col5\" class=\"data row1 col5\" >0.5946</td>\n",
       "                        <td id=\"T_ecc4b19e_1210_11eb_9b36_00e0201808a0row1_col6\" class=\"data row1 col6\" >0.5962</td>\n",
       "            </tr>\n",
       "            <tr>\n",
       "                        <th id=\"T_ecc4b19e_1210_11eb_9b36_00e0201808a0level0_row2\" class=\"row_heading level0 row2\" >2</th>\n",
       "                        <td id=\"T_ecc4b19e_1210_11eb_9b36_00e0201808a0row2_col0\" class=\"data row2 col0\" >0.8583</td>\n",
       "                        <td id=\"T_ecc4b19e_1210_11eb_9b36_00e0201808a0row2_col1\" class=\"data row2 col1\" >0.9192</td>\n",
       "                        <td id=\"T_ecc4b19e_1210_11eb_9b36_00e0201808a0row2_col2\" class=\"data row2 col2\" >0.6537</td>\n",
       "                        <td id=\"T_ecc4b19e_1210_11eb_9b36_00e0201808a0row2_col3\" class=\"data row2 col3\" >0.7319</td>\n",
       "                        <td id=\"T_ecc4b19e_1210_11eb_9b36_00e0201808a0row2_col4\" class=\"data row2 col4\" >0.6906</td>\n",
       "                        <td id=\"T_ecc4b19e_1210_11eb_9b36_00e0201808a0row2_col5\" class=\"data row2 col5\" >0.5991</td>\n",
       "                        <td id=\"T_ecc4b19e_1210_11eb_9b36_00e0201808a0row2_col6\" class=\"data row2 col6\" >0.6007</td>\n",
       "            </tr>\n",
       "            <tr>\n",
       "                        <th id=\"T_ecc4b19e_1210_11eb_9b36_00e0201808a0level0_row3\" class=\"row_heading level0 row3\" >3</th>\n",
       "                        <td id=\"T_ecc4b19e_1210_11eb_9b36_00e0201808a0row3_col0\" class=\"data row3 col0\" >0.8503</td>\n",
       "                        <td id=\"T_ecc4b19e_1210_11eb_9b36_00e0201808a0row3_col1\" class=\"data row3 col1\" >0.9108</td>\n",
       "                        <td id=\"T_ecc4b19e_1210_11eb_9b36_00e0201808a0row3_col2\" class=\"data row3 col2\" >0.6104</td>\n",
       "                        <td id=\"T_ecc4b19e_1210_11eb_9b36_00e0201808a0row3_col3\" class=\"data row3 col3\" >0.7259</td>\n",
       "                        <td id=\"T_ecc4b19e_1210_11eb_9b36_00e0201808a0row3_col4\" class=\"data row3 col4\" >0.6631</td>\n",
       "                        <td id=\"T_ecc4b19e_1210_11eb_9b36_00e0201808a0row3_col5\" class=\"data row3 col5\" >0.5678</td>\n",
       "                        <td id=\"T_ecc4b19e_1210_11eb_9b36_00e0201808a0row3_col6\" class=\"data row3 col6\" >0.5714</td>\n",
       "            </tr>\n",
       "            <tr>\n",
       "                        <th id=\"T_ecc4b19e_1210_11eb_9b36_00e0201808a0level0_row4\" class=\"row_heading level0 row4\" >4</th>\n",
       "                        <td id=\"T_ecc4b19e_1210_11eb_9b36_00e0201808a0row4_col0\" class=\"data row4 col0\" >0.8456</td>\n",
       "                        <td id=\"T_ecc4b19e_1210_11eb_9b36_00e0201808a0row4_col1\" class=\"data row4 col1\" >0.9051</td>\n",
       "                        <td id=\"T_ecc4b19e_1210_11eb_9b36_00e0201808a0row4_col2\" class=\"data row4 col2\" >0.6052</td>\n",
       "                        <td id=\"T_ecc4b19e_1210_11eb_9b36_00e0201808a0row4_col3\" class=\"data row4 col3\" >0.7137</td>\n",
       "                        <td id=\"T_ecc4b19e_1210_11eb_9b36_00e0201808a0row4_col4\" class=\"data row4 col4\" >0.6550</td>\n",
       "                        <td id=\"T_ecc4b19e_1210_11eb_9b36_00e0201808a0row4_col5\" class=\"data row4 col5\" >0.5564</td>\n",
       "                        <td id=\"T_ecc4b19e_1210_11eb_9b36_00e0201808a0row4_col6\" class=\"data row4 col6\" >0.5596</td>\n",
       "            </tr>\n",
       "            <tr>\n",
       "                        <th id=\"T_ecc4b19e_1210_11eb_9b36_00e0201808a0level0_row5\" class=\"row_heading level0 row5\" >5</th>\n",
       "                        <td id=\"T_ecc4b19e_1210_11eb_9b36_00e0201808a0row5_col0\" class=\"data row5 col0\" >0.8652</td>\n",
       "                        <td id=\"T_ecc4b19e_1210_11eb_9b36_00e0201808a0row5_col1\" class=\"data row5 col1\" >0.9274</td>\n",
       "                        <td id=\"T_ecc4b19e_1210_11eb_9b36_00e0201808a0row5_col2\" class=\"data row5 col2\" >0.6570</td>\n",
       "                        <td id=\"T_ecc4b19e_1210_11eb_9b36_00e0201808a0row5_col3\" class=\"data row5 col3\" >0.7546</td>\n",
       "                        <td id=\"T_ecc4b19e_1210_11eb_9b36_00e0201808a0row5_col4\" class=\"data row5 col4\" >0.7024</td>\n",
       "                        <td id=\"T_ecc4b19e_1210_11eb_9b36_00e0201808a0row5_col5\" class=\"data row5 col5\" >0.6158</td>\n",
       "                        <td id=\"T_ecc4b19e_1210_11eb_9b36_00e0201808a0row5_col6\" class=\"data row5 col6\" >0.6183</td>\n",
       "            </tr>\n",
       "            <tr>\n",
       "                        <th id=\"T_ecc4b19e_1210_11eb_9b36_00e0201808a0level0_row6\" class=\"row_heading level0 row6\" >6</th>\n",
       "                        <td id=\"T_ecc4b19e_1210_11eb_9b36_00e0201808a0row6_col0\" class=\"data row6 col0\" >0.8707</td>\n",
       "                        <td id=\"T_ecc4b19e_1210_11eb_9b36_00e0201808a0row6_col1\" class=\"data row6 col1\" >0.9320</td>\n",
       "                        <td id=\"T_ecc4b19e_1210_11eb_9b36_00e0201808a0row6_col2\" class=\"data row6 col2\" >0.6570</td>\n",
       "                        <td id=\"T_ecc4b19e_1210_11eb_9b36_00e0201808a0row6_col3\" class=\"data row6 col3\" >0.7748</td>\n",
       "                        <td id=\"T_ecc4b19e_1210_11eb_9b36_00e0201808a0row6_col4\" class=\"data row6 col4\" >0.7110</td>\n",
       "                        <td id=\"T_ecc4b19e_1210_11eb_9b36_00e0201808a0row6_col5\" class=\"data row6 col5\" >0.6285</td>\n",
       "                        <td id=\"T_ecc4b19e_1210_11eb_9b36_00e0201808a0row6_col6\" class=\"data row6 col6\" >0.6320</td>\n",
       "            </tr>\n",
       "            <tr>\n",
       "                        <th id=\"T_ecc4b19e_1210_11eb_9b36_00e0201808a0level0_row7\" class=\"row_heading level0 row7\" >7</th>\n",
       "                        <td id=\"T_ecc4b19e_1210_11eb_9b36_00e0201808a0row7_col0\" class=\"data row7 col0\" >0.8597</td>\n",
       "                        <td id=\"T_ecc4b19e_1210_11eb_9b36_00e0201808a0row7_col1\" class=\"data row7 col1\" >0.9169</td>\n",
       "                        <td id=\"T_ecc4b19e_1210_11eb_9b36_00e0201808a0row7_col2\" class=\"data row7 col2\" >0.6117</td>\n",
       "                        <td id=\"T_ecc4b19e_1210_11eb_9b36_00e0201808a0row7_col3\" class=\"data row7 col3\" >0.7621</td>\n",
       "                        <td id=\"T_ecc4b19e_1210_11eb_9b36_00e0201808a0row7_col4\" class=\"data row7 col4\" >0.6786</td>\n",
       "                        <td id=\"T_ecc4b19e_1210_11eb_9b36_00e0201808a0row7_col5\" class=\"data row7 col5\" >0.5903</td>\n",
       "                        <td id=\"T_ecc4b19e_1210_11eb_9b36_00e0201808a0row7_col6\" class=\"data row7 col6\" >0.5961</td>\n",
       "            </tr>\n",
       "            <tr>\n",
       "                        <th id=\"T_ecc4b19e_1210_11eb_9b36_00e0201808a0level0_row8\" class=\"row_heading level0 row8\" >8</th>\n",
       "                        <td id=\"T_ecc4b19e_1210_11eb_9b36_00e0201808a0row8_col0\" class=\"data row8 col0\" >0.8629</td>\n",
       "                        <td id=\"T_ecc4b19e_1210_11eb_9b36_00e0201808a0row8_col1\" class=\"data row8 col1\" >0.9237</td>\n",
       "                        <td id=\"T_ecc4b19e_1210_11eb_9b36_00e0201808a0row8_col2\" class=\"data row8 col2\" >0.6181</td>\n",
       "                        <td id=\"T_ecc4b19e_1210_11eb_9b36_00e0201808a0row8_col3\" class=\"data row8 col3\" >0.7702</td>\n",
       "                        <td id=\"T_ecc4b19e_1210_11eb_9b36_00e0201808a0row8_col4\" class=\"data row8 col4\" >0.6858</td>\n",
       "                        <td id=\"T_ecc4b19e_1210_11eb_9b36_00e0201808a0row8_col5\" class=\"data row8 col5\" >0.5994</td>\n",
       "                        <td id=\"T_ecc4b19e_1210_11eb_9b36_00e0201808a0row8_col6\" class=\"data row8 col6\" >0.6054</td>\n",
       "            </tr>\n",
       "            <tr>\n",
       "                        <th id=\"T_ecc4b19e_1210_11eb_9b36_00e0201808a0level0_row9\" class=\"row_heading level0 row9\" >9</th>\n",
       "                        <td id=\"T_ecc4b19e_1210_11eb_9b36_00e0201808a0row9_col0\" class=\"data row9 col0\" >0.8754</td>\n",
       "                        <td id=\"T_ecc4b19e_1210_11eb_9b36_00e0201808a0row9_col1\" class=\"data row9 col1\" >0.9219</td>\n",
       "                        <td id=\"T_ecc4b19e_1210_11eb_9b36_00e0201808a0row9_col2\" class=\"data row9 col2\" >0.6893</td>\n",
       "                        <td id=\"T_ecc4b19e_1210_11eb_9b36_00e0201808a0row9_col3\" class=\"data row9 col3\" >0.7717</td>\n",
       "                        <td id=\"T_ecc4b19e_1210_11eb_9b36_00e0201808a0row9_col4\" class=\"data row9 col4\" >0.7282</td>\n",
       "                        <td id=\"T_ecc4b19e_1210_11eb_9b36_00e0201808a0row9_col5\" class=\"data row9 col5\" >0.6477</td>\n",
       "                        <td id=\"T_ecc4b19e_1210_11eb_9b36_00e0201808a0row9_col6\" class=\"data row9 col6\" >0.6494</td>\n",
       "            </tr>\n",
       "            <tr>\n",
       "                        <th id=\"T_ecc4b19e_1210_11eb_9b36_00e0201808a0level0_row10\" class=\"row_heading level0 row10\" >Mean</th>\n",
       "                        <td id=\"T_ecc4b19e_1210_11eb_9b36_00e0201808a0row10_col0\" class=\"data row10 col0\" >0.8612</td>\n",
       "                        <td id=\"T_ecc4b19e_1210_11eb_9b36_00e0201808a0row10_col1\" class=\"data row10 col1\" >0.9193</td>\n",
       "                        <td id=\"T_ecc4b19e_1210_11eb_9b36_00e0201808a0row10_col2\" class=\"data row10 col2\" >0.6387</td>\n",
       "                        <td id=\"T_ecc4b19e_1210_11eb_9b36_00e0201808a0row10_col3\" class=\"data row10 col3\" >0.7508</td>\n",
       "                        <td id=\"T_ecc4b19e_1210_11eb_9b36_00e0201808a0row10_col4\" class=\"data row10 col4\" >0.6900</td>\n",
       "                        <td id=\"T_ecc4b19e_1210_11eb_9b36_00e0201808a0row10_col5\" class=\"data row10 col5\" >0.6013</td>\n",
       "                        <td id=\"T_ecc4b19e_1210_11eb_9b36_00e0201808a0row10_col6\" class=\"data row10 col6\" >0.6047</td>\n",
       "            </tr>\n",
       "            <tr>\n",
       "                        <th id=\"T_ecc4b19e_1210_11eb_9b36_00e0201808a0level0_row11\" class=\"row_heading level0 row11\" >SD</th>\n",
       "                        <td id=\"T_ecc4b19e_1210_11eb_9b36_00e0201808a0row11_col0\" class=\"data row11 col0\" >0.0086</td>\n",
       "                        <td id=\"T_ecc4b19e_1210_11eb_9b36_00e0201808a0row11_col1\" class=\"data row11 col1\" >0.0076</td>\n",
       "                        <td id=\"T_ecc4b19e_1210_11eb_9b36_00e0201808a0row11_col2\" class=\"data row11 col2\" >0.0259</td>\n",
       "                        <td id=\"T_ecc4b19e_1210_11eb_9b36_00e0201808a0row11_col3\" class=\"data row11 col3\" >0.0223</td>\n",
       "                        <td id=\"T_ecc4b19e_1210_11eb_9b36_00e0201808a0row11_col4\" class=\"data row11 col4\" >0.0205</td>\n",
       "                        <td id=\"T_ecc4b19e_1210_11eb_9b36_00e0201808a0row11_col5\" class=\"data row11 col5\" >0.0256</td>\n",
       "                        <td id=\"T_ecc4b19e_1210_11eb_9b36_00e0201808a0row11_col6\" class=\"data row11 col6\" >0.0254</td>\n",
       "            </tr>\n",
       "    </tbody></table>"
      ],
      "text/plain": [
       "<pandas.io.formats.style.Styler at 0x14b38eeddc8>"
      ]
     },
     "metadata": {},
     "output_type": "display_data"
    }
   ],
   "source": [
    "xgboost = create_model('xgboost')"
   ]
  },
  {
   "cell_type": "code",
   "execution_count": 21,
   "metadata": {},
   "outputs": [
    {
     "data": {
      "image/png": "[encoded data removed]",
      "text/plain": [
       "<Figure size 800x500 with 1 Axes>"
      ]
     },
     "metadata": {
      "needs_background": "light"
     },
     "output_type": "display_data"
    }
   ],
   "source": [
    "plot_model(estimator = xgboost, plot = 'feature')"
   ]
  },
  {
   "cell_type": "code",
   "execution_count": null,
   "metadata": {},
   "outputs": [],
   "source": []
  },
  {
   "cell_type": "code",
   "execution_count": 22,
   "metadata": {
    "scrolled": true
   },
   "outputs": [
    {
     "data": {
      "text/html": [
       "<style  type=\"text/css\" >\n",
       "#T_efe5bcb8_1210_11eb_b6b6_00e0201808a0row10_col0,#T_efe5bcb8_1210_11eb_b6b6_00e0201808a0row10_col1,#T_efe5bcb8_1210_11eb_b6b6_00e0201808a0row10_col2,#T_efe5bcb8_1210_11eb_b6b6_00e0201808a0row10_col3,#T_efe5bcb8_1210_11eb_b6b6_00e0201808a0row10_col4,#T_efe5bcb8_1210_11eb_b6b6_00e0201808a0row10_col5,#T_efe5bcb8_1210_11eb_b6b6_00e0201808a0row10_col6{\n",
       "            background:  yellow;\n",
       "        }</style><table id=\"T_efe5bcb8_1210_11eb_b6b6_00e0201808a0\" ><thead>    <tr>        <th class=\"blank level0\" ></th>        <th class=\"col_heading level0 col0\" >Accuracy</th>        <th class=\"col_heading level0 col1\" >AUC</th>        <th class=\"col_heading level0 col2\" >Recall</th>        <th class=\"col_heading level0 col3\" >Prec.</th>        <th class=\"col_heading level0 col4\" >F1</th>        <th class=\"col_heading level0 col5\" >Kappa</th>        <th class=\"col_heading level0 col6\" >MCC</th>    </tr></thead><tbody>\n",
       "                <tr>\n",
       "                        <th id=\"T_efe5bcb8_1210_11eb_b6b6_00e0201808a0level0_row0\" class=\"row_heading level0 row0\" >0</th>\n",
       "                        <td id=\"T_efe5bcb8_1210_11eb_b6b6_00e0201808a0row0_col0\" class=\"data row0 col0\" >0.8684</td>\n",
       "                        <td id=\"T_efe5bcb8_1210_11eb_b6b6_00e0201808a0row0_col1\" class=\"data row0 col1\" >0.9234</td>\n",
       "                        <td id=\"T_efe5bcb8_1210_11eb_b6b6_00e0201808a0row0_col2\" class=\"data row0 col2\" >0.6375</td>\n",
       "                        <td id=\"T_efe5bcb8_1210_11eb_b6b6_00e0201808a0row0_col3\" class=\"data row0 col3\" >0.7787</td>\n",
       "                        <td id=\"T_efe5bcb8_1210_11eb_b6b6_00e0201808a0row0_col4\" class=\"data row0 col4\" >0.7011</td>\n",
       "                        <td id=\"T_efe5bcb8_1210_11eb_b6b6_00e0201808a0row0_col5\" class=\"data row0 col5\" >0.6178</td>\n",
       "                        <td id=\"T_efe5bcb8_1210_11eb_b6b6_00e0201808a0row0_col6\" class=\"data row0 col6\" >0.6229</td>\n",
       "            </tr>\n",
       "            <tr>\n",
       "                        <th id=\"T_efe5bcb8_1210_11eb_b6b6_00e0201808a0level0_row1\" class=\"row_heading level0 row1\" >1</th>\n",
       "                        <td id=\"T_efe5bcb8_1210_11eb_b6b6_00e0201808a0row1_col0\" class=\"data row1 col0\" >0.8637</td>\n",
       "                        <td id=\"T_efe5bcb8_1210_11eb_b6b6_00e0201808a0row1_col1\" class=\"data row1 col1\" >0.9170</td>\n",
       "                        <td id=\"T_efe5bcb8_1210_11eb_b6b6_00e0201808a0row1_col2\" class=\"data row1 col2\" >0.6634</td>\n",
       "                        <td id=\"T_efe5bcb8_1210_11eb_b6b6_00e0201808a0row1_col3\" class=\"data row1 col3\" >0.7455</td>\n",
       "                        <td id=\"T_efe5bcb8_1210_11eb_b6b6_00e0201808a0row1_col4\" class=\"data row1 col4\" >0.7021</td>\n",
       "                        <td id=\"T_efe5bcb8_1210_11eb_b6b6_00e0201808a0row1_col5\" class=\"data row1 col5\" >0.6141</td>\n",
       "                        <td id=\"T_efe5bcb8_1210_11eb_b6b6_00e0201808a0row1_col6\" class=\"data row1 col6\" >0.6159</td>\n",
       "            </tr>\n",
       "            <tr>\n",
       "                        <th id=\"T_efe5bcb8_1210_11eb_b6b6_00e0201808a0level0_row2\" class=\"row_heading level0 row2\" >2</th>\n",
       "                        <td id=\"T_efe5bcb8_1210_11eb_b6b6_00e0201808a0row2_col0\" class=\"data row2 col0\" >0.8614</td>\n",
       "                        <td id=\"T_efe5bcb8_1210_11eb_b6b6_00e0201808a0row2_col1\" class=\"data row2 col1\" >0.9171</td>\n",
       "                        <td id=\"T_efe5bcb8_1210_11eb_b6b6_00e0201808a0row2_col2\" class=\"data row2 col2\" >0.6570</td>\n",
       "                        <td id=\"T_efe5bcb8_1210_11eb_b6b6_00e0201808a0row2_col3\" class=\"data row2 col3\" >0.7409</td>\n",
       "                        <td id=\"T_efe5bcb8_1210_11eb_b6b6_00e0201808a0row2_col4\" class=\"data row2 col4\" >0.6964</td>\n",
       "                        <td id=\"T_efe5bcb8_1210_11eb_b6b6_00e0201808a0row2_col5\" class=\"data row2 col5\" >0.6070</td>\n",
       "                        <td id=\"T_efe5bcb8_1210_11eb_b6b6_00e0201808a0row2_col6\" class=\"data row2 col6\" >0.6089</td>\n",
       "            </tr>\n",
       "            <tr>\n",
       "                        <th id=\"T_efe5bcb8_1210_11eb_b6b6_00e0201808a0level0_row3\" class=\"row_heading level0 row3\" >3</th>\n",
       "                        <td id=\"T_efe5bcb8_1210_11eb_b6b6_00e0201808a0row3_col0\" class=\"data row3 col0\" >0.8566</td>\n",
       "                        <td id=\"T_efe5bcb8_1210_11eb_b6b6_00e0201808a0row3_col1\" class=\"data row3 col1\" >0.9133</td>\n",
       "                        <td id=\"T_efe5bcb8_1210_11eb_b6b6_00e0201808a0row3_col2\" class=\"data row3 col2\" >0.6201</td>\n",
       "                        <td id=\"T_efe5bcb8_1210_11eb_b6b6_00e0201808a0row3_col3\" class=\"data row3 col3\" >0.7432</td>\n",
       "                        <td id=\"T_efe5bcb8_1210_11eb_b6b6_00e0201808a0row3_col4\" class=\"data row3 col4\" >0.6761</td>\n",
       "                        <td id=\"T_efe5bcb8_1210_11eb_b6b6_00e0201808a0row3_col5\" class=\"data row3 col5\" >0.5850</td>\n",
       "                        <td id=\"T_efe5bcb8_1210_11eb_b6b6_00e0201808a0row3_col6\" class=\"data row3 col6\" >0.5889</td>\n",
       "            </tr>\n",
       "            <tr>\n",
       "                        <th id=\"T_efe5bcb8_1210_11eb_b6b6_00e0201808a0level0_row4\" class=\"row_heading level0 row4\" >4</th>\n",
       "                        <td id=\"T_efe5bcb8_1210_11eb_b6b6_00e0201808a0row4_col0\" class=\"data row4 col0\" >0.8597</td>\n",
       "                        <td id=\"T_efe5bcb8_1210_11eb_b6b6_00e0201808a0row4_col1\" class=\"data row4 col1\" >0.9085</td>\n",
       "                        <td id=\"T_efe5bcb8_1210_11eb_b6b6_00e0201808a0row4_col2\" class=\"data row4 col2\" >0.6278</td>\n",
       "                        <td id=\"T_efe5bcb8_1210_11eb_b6b6_00e0201808a0row4_col3\" class=\"data row4 col3\" >0.7519</td>\n",
       "                        <td id=\"T_efe5bcb8_1210_11eb_b6b6_00e0201808a0row4_col4\" class=\"data row4 col4\" >0.6843</td>\n",
       "                        <td id=\"T_efe5bcb8_1210_11eb_b6b6_00e0201808a0row4_col5\" class=\"data row4 col5\" >0.5951</td>\n",
       "                        <td id=\"T_efe5bcb8_1210_11eb_b6b6_00e0201808a0row4_col6\" class=\"data row4 col6\" >0.5991</td>\n",
       "            </tr>\n",
       "            <tr>\n",
       "                        <th id=\"T_efe5bcb8_1210_11eb_b6b6_00e0201808a0level0_row5\" class=\"row_heading level0 row5\" >5</th>\n",
       "                        <td id=\"T_efe5bcb8_1210_11eb_b6b6_00e0201808a0row5_col0\" class=\"data row5 col0\" >0.8699</td>\n",
       "                        <td id=\"T_efe5bcb8_1210_11eb_b6b6_00e0201808a0row5_col1\" class=\"data row5 col1\" >0.9303</td>\n",
       "                        <td id=\"T_efe5bcb8_1210_11eb_b6b6_00e0201808a0row5_col2\" class=\"data row5 col2\" >0.6602</td>\n",
       "                        <td id=\"T_efe5bcb8_1210_11eb_b6b6_00e0201808a0row5_col3\" class=\"data row5 col3\" >0.7698</td>\n",
       "                        <td id=\"T_efe5bcb8_1210_11eb_b6b6_00e0201808a0row5_col4\" class=\"data row5 col4\" >0.7108</td>\n",
       "                        <td id=\"T_efe5bcb8_1210_11eb_b6b6_00e0201808a0row5_col5\" class=\"data row5 col5\" >0.6275</td>\n",
       "                        <td id=\"T_efe5bcb8_1210_11eb_b6b6_00e0201808a0row5_col6\" class=\"data row5 col6\" >0.6306</td>\n",
       "            </tr>\n",
       "            <tr>\n",
       "                        <th id=\"T_efe5bcb8_1210_11eb_b6b6_00e0201808a0level0_row6\" class=\"row_heading level0 row6\" >6</th>\n",
       "                        <td id=\"T_efe5bcb8_1210_11eb_b6b6_00e0201808a0row6_col0\" class=\"data row6 col0\" >0.8715</td>\n",
       "                        <td id=\"T_efe5bcb8_1210_11eb_b6b6_00e0201808a0row6_col1\" class=\"data row6 col1\" >0.9330</td>\n",
       "                        <td id=\"T_efe5bcb8_1210_11eb_b6b6_00e0201808a0row6_col2\" class=\"data row6 col2\" >0.6311</td>\n",
       "                        <td id=\"T_efe5bcb8_1210_11eb_b6b6_00e0201808a0row6_col3\" class=\"data row6 col3\" >0.7959</td>\n",
       "                        <td id=\"T_efe5bcb8_1210_11eb_b6b6_00e0201808a0row6_col4\" class=\"data row6 col4\" >0.7040</td>\n",
       "                        <td id=\"T_efe5bcb8_1210_11eb_b6b6_00e0201808a0row6_col5\" class=\"data row6 col5\" >0.6233</td>\n",
       "                        <td id=\"T_efe5bcb8_1210_11eb_b6b6_00e0201808a0row6_col6\" class=\"data row6 col6\" >0.6301</td>\n",
       "            </tr>\n",
       "            <tr>\n",
       "                        <th id=\"T_efe5bcb8_1210_11eb_b6b6_00e0201808a0level0_row7\" class=\"row_heading level0 row7\" >7</th>\n",
       "                        <td id=\"T_efe5bcb8_1210_11eb_b6b6_00e0201808a0row7_col0\" class=\"data row7 col0\" >0.8597</td>\n",
       "                        <td id=\"T_efe5bcb8_1210_11eb_b6b6_00e0201808a0row7_col1\" class=\"data row7 col1\" >0.9204</td>\n",
       "                        <td id=\"T_efe5bcb8_1210_11eb_b6b6_00e0201808a0row7_col2\" class=\"data row7 col2\" >0.6311</td>\n",
       "                        <td id=\"T_efe5bcb8_1210_11eb_b6b6_00e0201808a0row7_col3\" class=\"data row7 col3\" >0.7500</td>\n",
       "                        <td id=\"T_efe5bcb8_1210_11eb_b6b6_00e0201808a0row7_col4\" class=\"data row7 col4\" >0.6854</td>\n",
       "                        <td id=\"T_efe5bcb8_1210_11eb_b6b6_00e0201808a0row7_col5\" class=\"data row7 col5\" >0.5960</td>\n",
       "                        <td id=\"T_efe5bcb8_1210_11eb_b6b6_00e0201808a0row7_col6\" class=\"data row7 col6\" >0.5997</td>\n",
       "            </tr>\n",
       "            <tr>\n",
       "                        <th id=\"T_efe5bcb8_1210_11eb_b6b6_00e0201808a0level0_row8\" class=\"row_heading level0 row8\" >8</th>\n",
       "                        <td id=\"T_efe5bcb8_1210_11eb_b6b6_00e0201808a0row8_col0\" class=\"data row8 col0\" >0.8668</td>\n",
       "                        <td id=\"T_efe5bcb8_1210_11eb_b6b6_00e0201808a0row8_col1\" class=\"data row8 col1\" >0.9230</td>\n",
       "                        <td id=\"T_efe5bcb8_1210_11eb_b6b6_00e0201808a0row8_col2\" class=\"data row8 col2\" >0.6375</td>\n",
       "                        <td id=\"T_efe5bcb8_1210_11eb_b6b6_00e0201808a0row8_col3\" class=\"data row8 col3\" >0.7725</td>\n",
       "                        <td id=\"T_efe5bcb8_1210_11eb_b6b6_00e0201808a0row8_col4\" class=\"data row8 col4\" >0.6986</td>\n",
       "                        <td id=\"T_efe5bcb8_1210_11eb_b6b6_00e0201808a0row8_col5\" class=\"data row8 col5\" >0.6141</td>\n",
       "                        <td id=\"T_efe5bcb8_1210_11eb_b6b6_00e0201808a0row8_col6\" class=\"data row8 col6\" >0.6187</td>\n",
       "            </tr>\n",
       "            <tr>\n",
       "                        <th id=\"T_efe5bcb8_1210_11eb_b6b6_00e0201808a0level0_row9\" class=\"row_heading level0 row9\" >9</th>\n",
       "                        <td id=\"T_efe5bcb8_1210_11eb_b6b6_00e0201808a0row9_col0\" class=\"data row9 col0\" >0.8762</td>\n",
       "                        <td id=\"T_efe5bcb8_1210_11eb_b6b6_00e0201808a0row9_col1\" class=\"data row9 col1\" >0.9215</td>\n",
       "                        <td id=\"T_efe5bcb8_1210_11eb_b6b6_00e0201808a0row9_col2\" class=\"data row9 col2\" >0.6893</td>\n",
       "                        <td id=\"T_efe5bcb8_1210_11eb_b6b6_00e0201808a0row9_col3\" class=\"data row9 col3\" >0.7745</td>\n",
       "                        <td id=\"T_efe5bcb8_1210_11eb_b6b6_00e0201808a0row9_col4\" class=\"data row9 col4\" >0.7295</td>\n",
       "                        <td id=\"T_efe5bcb8_1210_11eb_b6b6_00e0201808a0row9_col5\" class=\"data row9 col5\" >0.6495</td>\n",
       "                        <td id=\"T_efe5bcb8_1210_11eb_b6b6_00e0201808a0row9_col6\" class=\"data row9 col6\" >0.6514</td>\n",
       "            </tr>\n",
       "            <tr>\n",
       "                        <th id=\"T_efe5bcb8_1210_11eb_b6b6_00e0201808a0level0_row10\" class=\"row_heading level0 row10\" >Mean</th>\n",
       "                        <td id=\"T_efe5bcb8_1210_11eb_b6b6_00e0201808a0row10_col0\" class=\"data row10 col0\" >0.8654</td>\n",
       "                        <td id=\"T_efe5bcb8_1210_11eb_b6b6_00e0201808a0row10_col1\" class=\"data row10 col1\" >0.9207</td>\n",
       "                        <td id=\"T_efe5bcb8_1210_11eb_b6b6_00e0201808a0row10_col2\" class=\"data row10 col2\" >0.6455</td>\n",
       "                        <td id=\"T_efe5bcb8_1210_11eb_b6b6_00e0201808a0row10_col3\" class=\"data row10 col3\" >0.7623</td>\n",
       "                        <td id=\"T_efe5bcb8_1210_11eb_b6b6_00e0201808a0row10_col4\" class=\"data row10 col4\" >0.6988</td>\n",
       "                        <td id=\"T_efe5bcb8_1210_11eb_b6b6_00e0201808a0row10_col5\" class=\"data row10 col5\" >0.6129</td>\n",
       "                        <td id=\"T_efe5bcb8_1210_11eb_b6b6_00e0201808a0row10_col6\" class=\"data row10 col6\" >0.6166</td>\n",
       "            </tr>\n",
       "            <tr>\n",
       "                        <th id=\"T_efe5bcb8_1210_11eb_b6b6_00e0201808a0level0_row11\" class=\"row_heading level0 row11\" >SD</th>\n",
       "                        <td id=\"T_efe5bcb8_1210_11eb_b6b6_00e0201808a0row11_col0\" class=\"data row11 col0\" >0.0059</td>\n",
       "                        <td id=\"T_efe5bcb8_1210_11eb_b6b6_00e0201808a0row11_col1\" class=\"data row11 col1\" >0.0070</td>\n",
       "                        <td id=\"T_efe5bcb8_1210_11eb_b6b6_00e0201808a0row11_col2\" class=\"data row11 col2\" >0.0202</td>\n",
       "                        <td id=\"T_efe5bcb8_1210_11eb_b6b6_00e0201808a0row11_col3\" class=\"data row11 col3\" >0.0175</td>\n",
       "                        <td id=\"T_efe5bcb8_1210_11eb_b6b6_00e0201808a0row11_col4\" class=\"data row11 col4\" >0.0143</td>\n",
       "                        <td id=\"T_efe5bcb8_1210_11eb_b6b6_00e0201808a0row11_col5\" class=\"data row11 col5\" >0.0176</td>\n",
       "                        <td id=\"T_efe5bcb8_1210_11eb_b6b6_00e0201808a0row11_col6\" class=\"data row11 col6\" >0.0175</td>\n",
       "            </tr>\n",
       "    </tbody></table>"
      ],
      "text/plain": [
       "<pandas.io.formats.style.Styler at 0x14b3a9a19c8>"
      ]
     },
     "metadata": {},
     "output_type": "display_data"
    }
   ],
   "source": [
    "lightgbm = create_model('lightgbm')"
   ]
  },
  {
   "cell_type": "code",
   "execution_count": 23,
   "metadata": {},
   "outputs": [
    {
     "data": {
      "image/png": "[encoded data removed]",
      "text/plain": [
       "<Figure size 800x500 with 1 Axes>"
      ]
     },
     "metadata": {
      "needs_background": "light"
     },
     "output_type": "display_data"
    }
   ],
   "source": [
    "plot_model(estimator = lightgbm, plot = 'feature')"
   ]
  },
  {
   "cell_type": "code",
   "execution_count": null,
   "metadata": {},
   "outputs": [],
   "source": []
  }
 ],
 "metadata": {
  "kernelspec": {
   "display_name": "Python 3",
   "language": "python",
   "name": "python3"
  },
  "language_info": {
   "codemirror_mode": {
    "name": "ipython",
    "version": 3
   },
   "file_extension": ".py",
   "mimetype": "text/x-python",
   "name": "python",
   "nbconvert_exporter": "python",
   "pygments_lexer": "ipython3",
   "version": "3.7.6"
  }
 },
 "nbformat": 4,
 "nbformat_minor": 4
}
