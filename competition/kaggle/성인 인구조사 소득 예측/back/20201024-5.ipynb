{
 "cells": [
  {
   "cell_type": "code",
   "execution_count": 1,
   "metadata": {},
   "outputs": [],
   "source": [
    "import numpy as np\n",
    "import pandas as pd\n",
    "import matplotlib.pyplot as plt\n",
    "import seaborn as sns\n",
    "import warnings\n",
    "warnings.filterwarnings('ignore')\n",
    "%matplotlib inline\n",
    "\n",
    "from IPython.core.interactiveshell import InteractiveShell\n",
    "InteractiveShell.ast_node_interactivity = \"all\"\n",
    "\n",
    "from sklearn.preprocessing import PolynomialFeatures\n",
    "\n",
    "from sklearn.model_selection import train_test_split\n",
    "import lightgbm as lgbm\n",
    "from sklearn.metrics import confusion_matrix, accuracy_score\n",
    "from pycaret.classification import *"
   ]
  },
  {
   "cell_type": "code",
   "execution_count": 2,
   "metadata": {},
   "outputs": [],
   "source": [
    "seed = 42\n",
    "np.random.seed(seed)\n",
    "set_config('seed', seed)"
   ]
  },
  {
   "cell_type": "code",
   "execution_count": null,
   "metadata": {},
   "outputs": [],
   "source": []
  },
  {
   "cell_type": "markdown",
   "metadata": {},
   "source": [
    "# 1. 데이터 로드"
   ]
  },
  {
   "cell_type": "code",
   "execution_count": 3,
   "metadata": {},
   "outputs": [],
   "source": [
    "train=pd.read_csv('input/train.csv', index_col=0)#, na_values='?') #인덱스 col=0도 check!\n",
    "test=pd.read_csv('input/test.csv', index_col=0)#, na_values='?')\n",
    "submission=pd.read_csv('input/sample_submission.csv', index_col=0)  "
   ]
  },
  {
   "cell_type": "code",
   "execution_count": 4,
   "metadata": {},
   "outputs": [],
   "source": [
    "train['income']=pd.factorize(train['income'], sort=True)[0]"
   ]
  },
  {
   "cell_type": "code",
   "execution_count": null,
   "metadata": {},
   "outputs": [],
   "source": [
    "train.shape, test.shape"
   ]
  },
  {
   "cell_type": "code",
   "execution_count": null,
   "metadata": {},
   "outputs": [],
   "source": [
    "train.head(3)\n",
    "test.head(3)"
   ]
  },
  {
   "cell_type": "markdown",
   "metadata": {},
   "source": [
    "# 2. EDA & 전처리"
   ]
  },
  {
   "cell_type": "code",
   "execution_count": null,
   "metadata": {},
   "outputs": [],
   "source": [
    "train.info()\n",
    "train.describe()\n",
    "train.describe(include='O')"
   ]
  },
  {
   "cell_type": "markdown",
   "metadata": {},
   "source": [
    "## Missing Value"
   ]
  },
  {
   "cell_type": "code",
   "execution_count": null,
   "metadata": {},
   "outputs": [],
   "source": [
    "train.isnull().sum()#.sum()\n",
    "test.isnull().sum()#.sum()"
   ]
  },
  {
   "cell_type": "markdown",
   "metadata": {},
   "source": [
    "### outlier"
   ]
  },
  {
   "cell_type": "markdown",
   "metadata": {},
   "source": [
    "### education"
   ]
  },
  {
   "cell_type": "code",
   "execution_count": 5,
   "metadata": {},
   "outputs": [],
   "source": [
    "train.drop(['education'],axis=1, inplace=True)\n",
    "test.drop(['education'],axis=1, inplace=True)"
   ]
  },
  {
   "cell_type": "code",
   "execution_count": null,
   "metadata": {},
   "outputs": [],
   "source": []
  },
  {
   "cell_type": "markdown",
   "metadata": {},
   "source": [
    "### capital_gain 99999"
   ]
  },
  {
   "cell_type": "code",
   "execution_count": 6,
   "metadata": {},
   "outputs": [
    {
     "data": {
      "text/plain": [
       "(32561, 14)"
      ]
     },
     "execution_count": 6,
     "metadata": {},
     "output_type": "execute_result"
    }
   ],
   "source": [
    "df = pd.concat([train, test])\n",
    "df.shape"
   ]
  },
  {
   "cell_type": "code",
   "execution_count": 7,
   "metadata": {},
   "outputs": [],
   "source": [
    "df['capital_gain_imsi'] = df['capital_gain'].replace(99999,0)"
   ]
  },
  {
   "cell_type": "code",
   "execution_count": 8,
   "metadata": {},
   "outputs": [],
   "source": [
    "capital_gain_imsi = pd.DataFrame(df.groupby(['education_num'])['capital_gain_imsi'].mean()).reset_index()"
   ]
  },
  {
   "cell_type": "code",
   "execution_count": 9,
   "metadata": {},
   "outputs": [],
   "source": [
    "train = train.merge(capital_gain_imsi, on=['education_num'], how='left')\n",
    "test = test.merge(capital_gain_imsi, on=['education_num'], how='left')"
   ]
  },
  {
   "cell_type": "code",
   "execution_count": 10,
   "metadata": {},
   "outputs": [],
   "source": [
    "train.loc[train.capital_gain == 99999, 'capital_gain'] = train['capital_gain_imsi']\n",
    "test.loc[test.capital_gain == 99999, 'capital_gain'] = test['capital_gain_imsi']"
   ]
  },
  {
   "cell_type": "code",
   "execution_count": 11,
   "metadata": {},
   "outputs": [],
   "source": [
    "train.drop(['capital_gain_imsi'],axis=1, inplace=True)\n",
    "test.drop(['capital_gain_imsi'],axis=1, inplace=True)"
   ]
  },
  {
   "cell_type": "code",
   "execution_count": null,
   "metadata": {},
   "outputs": [],
   "source": []
  },
  {
   "cell_type": "code",
   "execution_count": 12,
   "metadata": {},
   "outputs": [],
   "source": [
    "train['imsi'] = train.capital_gain*train.hours_per_week#*train.capital_loss\n",
    "test['imsi'] = test.capital_gain*test.hours_per_week#*train.capital_loss"
   ]
  },
  {
   "cell_type": "code",
   "execution_count": 26,
   "metadata": {},
   "outputs": [],
   "source": [
    "train['marital_status']=pd.factorize(train['marital_status'], sort=True)[0]\n",
    "test['marital_status']=pd.factorize(test['marital_status'], sort=True)[0]"
   ]
  },
  {
   "cell_type": "code",
   "execution_count": 37,
   "metadata": {},
   "outputs": [],
   "source": [
    "train['imsi2'] = train.marital_status*train.capital_loss#*train.capital_loss\n",
    "test['imsi2'] = test.marital_status*test.capital_loss#*train.capital_loss"
   ]
  },
  {
   "cell_type": "markdown",
   "metadata": {},
   "source": [
    "# 3. 모델 학습"
   ]
  },
  {
   "cell_type": "code",
   "execution_count": 38,
   "metadata": {
    "scrolled": false
   },
   "outputs": [
    {
     "name": "stdout",
     "output_type": "stream",
     "text": [
      "Setup Succesfully Completed!\n"
     ]
    },
    {
     "data": {
      "text/html": [
       "<style  type=\"text/css\" >\n",
       "</style><table id=\"T_a1d9bc50_15f1_11eb_80f0_00e0201808a0\" ><thead>    <tr>        <th class=\"blank level0\" ></th>        <th class=\"col_heading level0 col0\" >Description</th>        <th class=\"col_heading level0 col1\" >Value</th>    </tr></thead><tbody>\n",
       "                <tr>\n",
       "                        <th id=\"T_a1d9bc50_15f1_11eb_80f0_00e0201808a0level0_row0\" class=\"row_heading level0 row0\" >0</th>\n",
       "                        <td id=\"T_a1d9bc50_15f1_11eb_80f0_00e0201808a0row0_col0\" class=\"data row0 col0\" >session_id</td>\n",
       "                        <td id=\"T_a1d9bc50_15f1_11eb_80f0_00e0201808a0row0_col1\" class=\"data row0 col1\" >42</td>\n",
       "            </tr>\n",
       "            <tr>\n",
       "                        <th id=\"T_a1d9bc50_15f1_11eb_80f0_00e0201808a0level0_row1\" class=\"row_heading level0 row1\" >1</th>\n",
       "                        <td id=\"T_a1d9bc50_15f1_11eb_80f0_00e0201808a0row1_col0\" class=\"data row1 col0\" >Target Type</td>\n",
       "                        <td id=\"T_a1d9bc50_15f1_11eb_80f0_00e0201808a0row1_col1\" class=\"data row1 col1\" >Binary</td>\n",
       "            </tr>\n",
       "            <tr>\n",
       "                        <th id=\"T_a1d9bc50_15f1_11eb_80f0_00e0201808a0level0_row2\" class=\"row_heading level0 row2\" >2</th>\n",
       "                        <td id=\"T_a1d9bc50_15f1_11eb_80f0_00e0201808a0row2_col0\" class=\"data row2 col0\" >Label Encoded</td>\n",
       "                        <td id=\"T_a1d9bc50_15f1_11eb_80f0_00e0201808a0row2_col1\" class=\"data row2 col1\" >0: 0, 1: 1</td>\n",
       "            </tr>\n",
       "            <tr>\n",
       "                        <th id=\"T_a1d9bc50_15f1_11eb_80f0_00e0201808a0level0_row3\" class=\"row_heading level0 row3\" >3</th>\n",
       "                        <td id=\"T_a1d9bc50_15f1_11eb_80f0_00e0201808a0row3_col0\" class=\"data row3 col0\" >Original Data</td>\n",
       "                        <td id=\"T_a1d9bc50_15f1_11eb_80f0_00e0201808a0row3_col1\" class=\"data row3 col1\" >(26049, 16)</td>\n",
       "            </tr>\n",
       "            <tr>\n",
       "                        <th id=\"T_a1d9bc50_15f1_11eb_80f0_00e0201808a0level0_row4\" class=\"row_heading level0 row4\" >4</th>\n",
       "                        <td id=\"T_a1d9bc50_15f1_11eb_80f0_00e0201808a0row4_col0\" class=\"data row4 col0\" >Missing Values </td>\n",
       "                        <td id=\"T_a1d9bc50_15f1_11eb_80f0_00e0201808a0row4_col1\" class=\"data row4 col1\" >False</td>\n",
       "            </tr>\n",
       "            <tr>\n",
       "                        <th id=\"T_a1d9bc50_15f1_11eb_80f0_00e0201808a0level0_row5\" class=\"row_heading level0 row5\" >5</th>\n",
       "                        <td id=\"T_a1d9bc50_15f1_11eb_80f0_00e0201808a0row5_col0\" class=\"data row5 col0\" >Numeric Features </td>\n",
       "                        <td id=\"T_a1d9bc50_15f1_11eb_80f0_00e0201808a0row5_col1\" class=\"data row5 col1\" >8</td>\n",
       "            </tr>\n",
       "            <tr>\n",
       "                        <th id=\"T_a1d9bc50_15f1_11eb_80f0_00e0201808a0level0_row6\" class=\"row_heading level0 row6\" >6</th>\n",
       "                        <td id=\"T_a1d9bc50_15f1_11eb_80f0_00e0201808a0row6_col0\" class=\"data row6 col0\" >Categorical Features </td>\n",
       "                        <td id=\"T_a1d9bc50_15f1_11eb_80f0_00e0201808a0row6_col1\" class=\"data row6 col1\" >7</td>\n",
       "            </tr>\n",
       "            <tr>\n",
       "                        <th id=\"T_a1d9bc50_15f1_11eb_80f0_00e0201808a0level0_row7\" class=\"row_heading level0 row7\" >7</th>\n",
       "                        <td id=\"T_a1d9bc50_15f1_11eb_80f0_00e0201808a0row7_col0\" class=\"data row7 col0\" >Ordinal Features </td>\n",
       "                        <td id=\"T_a1d9bc50_15f1_11eb_80f0_00e0201808a0row7_col1\" class=\"data row7 col1\" >False</td>\n",
       "            </tr>\n",
       "            <tr>\n",
       "                        <th id=\"T_a1d9bc50_15f1_11eb_80f0_00e0201808a0level0_row8\" class=\"row_heading level0 row8\" >8</th>\n",
       "                        <td id=\"T_a1d9bc50_15f1_11eb_80f0_00e0201808a0row8_col0\" class=\"data row8 col0\" >High Cardinality Features </td>\n",
       "                        <td id=\"T_a1d9bc50_15f1_11eb_80f0_00e0201808a0row8_col1\" class=\"data row8 col1\" >False</td>\n",
       "            </tr>\n",
       "            <tr>\n",
       "                        <th id=\"T_a1d9bc50_15f1_11eb_80f0_00e0201808a0level0_row9\" class=\"row_heading level0 row9\" >9</th>\n",
       "                        <td id=\"T_a1d9bc50_15f1_11eb_80f0_00e0201808a0row9_col0\" class=\"data row9 col0\" >High Cardinality Method </td>\n",
       "                        <td id=\"T_a1d9bc50_15f1_11eb_80f0_00e0201808a0row9_col1\" class=\"data row9 col1\" >None</td>\n",
       "            </tr>\n",
       "            <tr>\n",
       "                        <th id=\"T_a1d9bc50_15f1_11eb_80f0_00e0201808a0level0_row10\" class=\"row_heading level0 row10\" >10</th>\n",
       "                        <td id=\"T_a1d9bc50_15f1_11eb_80f0_00e0201808a0row10_col0\" class=\"data row10 col0\" >Sampled Data</td>\n",
       "                        <td id=\"T_a1d9bc50_15f1_11eb_80f0_00e0201808a0row10_col1\" class=\"data row10 col1\" >(18234, 16)</td>\n",
       "            </tr>\n",
       "            <tr>\n",
       "                        <th id=\"T_a1d9bc50_15f1_11eb_80f0_00e0201808a0level0_row11\" class=\"row_heading level0 row11\" >11</th>\n",
       "                        <td id=\"T_a1d9bc50_15f1_11eb_80f0_00e0201808a0row11_col0\" class=\"data row11 col0\" >Transformed Train Set</td>\n",
       "                        <td id=\"T_a1d9bc50_15f1_11eb_80f0_00e0201808a0row11_col1\" class=\"data row11 col1\" >(12763, 92)</td>\n",
       "            </tr>\n",
       "            <tr>\n",
       "                        <th id=\"T_a1d9bc50_15f1_11eb_80f0_00e0201808a0level0_row12\" class=\"row_heading level0 row12\" >12</th>\n",
       "                        <td id=\"T_a1d9bc50_15f1_11eb_80f0_00e0201808a0row12_col0\" class=\"data row12 col0\" >Transformed Test Set</td>\n",
       "                        <td id=\"T_a1d9bc50_15f1_11eb_80f0_00e0201808a0row12_col1\" class=\"data row12 col1\" >(5471, 92)</td>\n",
       "            </tr>\n",
       "            <tr>\n",
       "                        <th id=\"T_a1d9bc50_15f1_11eb_80f0_00e0201808a0level0_row13\" class=\"row_heading level0 row13\" >13</th>\n",
       "                        <td id=\"T_a1d9bc50_15f1_11eb_80f0_00e0201808a0row13_col0\" class=\"data row13 col0\" >Numeric Imputer </td>\n",
       "                        <td id=\"T_a1d9bc50_15f1_11eb_80f0_00e0201808a0row13_col1\" class=\"data row13 col1\" >mean</td>\n",
       "            </tr>\n",
       "            <tr>\n",
       "                        <th id=\"T_a1d9bc50_15f1_11eb_80f0_00e0201808a0level0_row14\" class=\"row_heading level0 row14\" >14</th>\n",
       "                        <td id=\"T_a1d9bc50_15f1_11eb_80f0_00e0201808a0row14_col0\" class=\"data row14 col0\" >Categorical Imputer </td>\n",
       "                        <td id=\"T_a1d9bc50_15f1_11eb_80f0_00e0201808a0row14_col1\" class=\"data row14 col1\" >constant</td>\n",
       "            </tr>\n",
       "            <tr>\n",
       "                        <th id=\"T_a1d9bc50_15f1_11eb_80f0_00e0201808a0level0_row15\" class=\"row_heading level0 row15\" >15</th>\n",
       "                        <td id=\"T_a1d9bc50_15f1_11eb_80f0_00e0201808a0row15_col0\" class=\"data row15 col0\" >Normalize </td>\n",
       "                        <td id=\"T_a1d9bc50_15f1_11eb_80f0_00e0201808a0row15_col1\" class=\"data row15 col1\" >False</td>\n",
       "            </tr>\n",
       "            <tr>\n",
       "                        <th id=\"T_a1d9bc50_15f1_11eb_80f0_00e0201808a0level0_row16\" class=\"row_heading level0 row16\" >16</th>\n",
       "                        <td id=\"T_a1d9bc50_15f1_11eb_80f0_00e0201808a0row16_col0\" class=\"data row16 col0\" >Normalize Method </td>\n",
       "                        <td id=\"T_a1d9bc50_15f1_11eb_80f0_00e0201808a0row16_col1\" class=\"data row16 col1\" >None</td>\n",
       "            </tr>\n",
       "            <tr>\n",
       "                        <th id=\"T_a1d9bc50_15f1_11eb_80f0_00e0201808a0level0_row17\" class=\"row_heading level0 row17\" >17</th>\n",
       "                        <td id=\"T_a1d9bc50_15f1_11eb_80f0_00e0201808a0row17_col0\" class=\"data row17 col0\" >Transformation </td>\n",
       "                        <td id=\"T_a1d9bc50_15f1_11eb_80f0_00e0201808a0row17_col1\" class=\"data row17 col1\" >False</td>\n",
       "            </tr>\n",
       "            <tr>\n",
       "                        <th id=\"T_a1d9bc50_15f1_11eb_80f0_00e0201808a0level0_row18\" class=\"row_heading level0 row18\" >18</th>\n",
       "                        <td id=\"T_a1d9bc50_15f1_11eb_80f0_00e0201808a0row18_col0\" class=\"data row18 col0\" >Transformation Method </td>\n",
       "                        <td id=\"T_a1d9bc50_15f1_11eb_80f0_00e0201808a0row18_col1\" class=\"data row18 col1\" >None</td>\n",
       "            </tr>\n",
       "            <tr>\n",
       "                        <th id=\"T_a1d9bc50_15f1_11eb_80f0_00e0201808a0level0_row19\" class=\"row_heading level0 row19\" >19</th>\n",
       "                        <td id=\"T_a1d9bc50_15f1_11eb_80f0_00e0201808a0row19_col0\" class=\"data row19 col0\" >PCA </td>\n",
       "                        <td id=\"T_a1d9bc50_15f1_11eb_80f0_00e0201808a0row19_col1\" class=\"data row19 col1\" >False</td>\n",
       "            </tr>\n",
       "            <tr>\n",
       "                        <th id=\"T_a1d9bc50_15f1_11eb_80f0_00e0201808a0level0_row20\" class=\"row_heading level0 row20\" >20</th>\n",
       "                        <td id=\"T_a1d9bc50_15f1_11eb_80f0_00e0201808a0row20_col0\" class=\"data row20 col0\" >PCA Method </td>\n",
       "                        <td id=\"T_a1d9bc50_15f1_11eb_80f0_00e0201808a0row20_col1\" class=\"data row20 col1\" >None</td>\n",
       "            </tr>\n",
       "            <tr>\n",
       "                        <th id=\"T_a1d9bc50_15f1_11eb_80f0_00e0201808a0level0_row21\" class=\"row_heading level0 row21\" >21</th>\n",
       "                        <td id=\"T_a1d9bc50_15f1_11eb_80f0_00e0201808a0row21_col0\" class=\"data row21 col0\" >PCA Components </td>\n",
       "                        <td id=\"T_a1d9bc50_15f1_11eb_80f0_00e0201808a0row21_col1\" class=\"data row21 col1\" >None</td>\n",
       "            </tr>\n",
       "            <tr>\n",
       "                        <th id=\"T_a1d9bc50_15f1_11eb_80f0_00e0201808a0level0_row22\" class=\"row_heading level0 row22\" >22</th>\n",
       "                        <td id=\"T_a1d9bc50_15f1_11eb_80f0_00e0201808a0row22_col0\" class=\"data row22 col0\" >Ignore Low Variance </td>\n",
       "                        <td id=\"T_a1d9bc50_15f1_11eb_80f0_00e0201808a0row22_col1\" class=\"data row22 col1\" >False</td>\n",
       "            </tr>\n",
       "            <tr>\n",
       "                        <th id=\"T_a1d9bc50_15f1_11eb_80f0_00e0201808a0level0_row23\" class=\"row_heading level0 row23\" >23</th>\n",
       "                        <td id=\"T_a1d9bc50_15f1_11eb_80f0_00e0201808a0row23_col0\" class=\"data row23 col0\" >Combine Rare Levels </td>\n",
       "                        <td id=\"T_a1d9bc50_15f1_11eb_80f0_00e0201808a0row23_col1\" class=\"data row23 col1\" >False</td>\n",
       "            </tr>\n",
       "            <tr>\n",
       "                        <th id=\"T_a1d9bc50_15f1_11eb_80f0_00e0201808a0level0_row24\" class=\"row_heading level0 row24\" >24</th>\n",
       "                        <td id=\"T_a1d9bc50_15f1_11eb_80f0_00e0201808a0row24_col0\" class=\"data row24 col0\" >Rare Level Threshold </td>\n",
       "                        <td id=\"T_a1d9bc50_15f1_11eb_80f0_00e0201808a0row24_col1\" class=\"data row24 col1\" >None</td>\n",
       "            </tr>\n",
       "            <tr>\n",
       "                        <th id=\"T_a1d9bc50_15f1_11eb_80f0_00e0201808a0level0_row25\" class=\"row_heading level0 row25\" >25</th>\n",
       "                        <td id=\"T_a1d9bc50_15f1_11eb_80f0_00e0201808a0row25_col0\" class=\"data row25 col0\" >Numeric Binning </td>\n",
       "                        <td id=\"T_a1d9bc50_15f1_11eb_80f0_00e0201808a0row25_col1\" class=\"data row25 col1\" >False</td>\n",
       "            </tr>\n",
       "            <tr>\n",
       "                        <th id=\"T_a1d9bc50_15f1_11eb_80f0_00e0201808a0level0_row26\" class=\"row_heading level0 row26\" >26</th>\n",
       "                        <td id=\"T_a1d9bc50_15f1_11eb_80f0_00e0201808a0row26_col0\" class=\"data row26 col0\" >Remove Outliers </td>\n",
       "                        <td id=\"T_a1d9bc50_15f1_11eb_80f0_00e0201808a0row26_col1\" class=\"data row26 col1\" >False</td>\n",
       "            </tr>\n",
       "            <tr>\n",
       "                        <th id=\"T_a1d9bc50_15f1_11eb_80f0_00e0201808a0level0_row27\" class=\"row_heading level0 row27\" >27</th>\n",
       "                        <td id=\"T_a1d9bc50_15f1_11eb_80f0_00e0201808a0row27_col0\" class=\"data row27 col0\" >Outliers Threshold </td>\n",
       "                        <td id=\"T_a1d9bc50_15f1_11eb_80f0_00e0201808a0row27_col1\" class=\"data row27 col1\" >None</td>\n",
       "            </tr>\n",
       "            <tr>\n",
       "                        <th id=\"T_a1d9bc50_15f1_11eb_80f0_00e0201808a0level0_row28\" class=\"row_heading level0 row28\" >28</th>\n",
       "                        <td id=\"T_a1d9bc50_15f1_11eb_80f0_00e0201808a0row28_col0\" class=\"data row28 col0\" >Remove Multicollinearity </td>\n",
       "                        <td id=\"T_a1d9bc50_15f1_11eb_80f0_00e0201808a0row28_col1\" class=\"data row28 col1\" >False</td>\n",
       "            </tr>\n",
       "            <tr>\n",
       "                        <th id=\"T_a1d9bc50_15f1_11eb_80f0_00e0201808a0level0_row29\" class=\"row_heading level0 row29\" >29</th>\n",
       "                        <td id=\"T_a1d9bc50_15f1_11eb_80f0_00e0201808a0row29_col0\" class=\"data row29 col0\" >Multicollinearity Threshold </td>\n",
       "                        <td id=\"T_a1d9bc50_15f1_11eb_80f0_00e0201808a0row29_col1\" class=\"data row29 col1\" >None</td>\n",
       "            </tr>\n",
       "            <tr>\n",
       "                        <th id=\"T_a1d9bc50_15f1_11eb_80f0_00e0201808a0level0_row30\" class=\"row_heading level0 row30\" >30</th>\n",
       "                        <td id=\"T_a1d9bc50_15f1_11eb_80f0_00e0201808a0row30_col0\" class=\"data row30 col0\" >Clustering </td>\n",
       "                        <td id=\"T_a1d9bc50_15f1_11eb_80f0_00e0201808a0row30_col1\" class=\"data row30 col1\" >False</td>\n",
       "            </tr>\n",
       "            <tr>\n",
       "                        <th id=\"T_a1d9bc50_15f1_11eb_80f0_00e0201808a0level0_row31\" class=\"row_heading level0 row31\" >31</th>\n",
       "                        <td id=\"T_a1d9bc50_15f1_11eb_80f0_00e0201808a0row31_col0\" class=\"data row31 col0\" >Clustering Iteration </td>\n",
       "                        <td id=\"T_a1d9bc50_15f1_11eb_80f0_00e0201808a0row31_col1\" class=\"data row31 col1\" >None</td>\n",
       "            </tr>\n",
       "            <tr>\n",
       "                        <th id=\"T_a1d9bc50_15f1_11eb_80f0_00e0201808a0level0_row32\" class=\"row_heading level0 row32\" >32</th>\n",
       "                        <td id=\"T_a1d9bc50_15f1_11eb_80f0_00e0201808a0row32_col0\" class=\"data row32 col0\" >Polynomial Features </td>\n",
       "                        <td id=\"T_a1d9bc50_15f1_11eb_80f0_00e0201808a0row32_col1\" class=\"data row32 col1\" >False</td>\n",
       "            </tr>\n",
       "            <tr>\n",
       "                        <th id=\"T_a1d9bc50_15f1_11eb_80f0_00e0201808a0level0_row33\" class=\"row_heading level0 row33\" >33</th>\n",
       "                        <td id=\"T_a1d9bc50_15f1_11eb_80f0_00e0201808a0row33_col0\" class=\"data row33 col0\" >Polynomial Degree </td>\n",
       "                        <td id=\"T_a1d9bc50_15f1_11eb_80f0_00e0201808a0row33_col1\" class=\"data row33 col1\" >None</td>\n",
       "            </tr>\n",
       "            <tr>\n",
       "                        <th id=\"T_a1d9bc50_15f1_11eb_80f0_00e0201808a0level0_row34\" class=\"row_heading level0 row34\" >34</th>\n",
       "                        <td id=\"T_a1d9bc50_15f1_11eb_80f0_00e0201808a0row34_col0\" class=\"data row34 col0\" >Trignometry Features </td>\n",
       "                        <td id=\"T_a1d9bc50_15f1_11eb_80f0_00e0201808a0row34_col1\" class=\"data row34 col1\" >False</td>\n",
       "            </tr>\n",
       "            <tr>\n",
       "                        <th id=\"T_a1d9bc50_15f1_11eb_80f0_00e0201808a0level0_row35\" class=\"row_heading level0 row35\" >35</th>\n",
       "                        <td id=\"T_a1d9bc50_15f1_11eb_80f0_00e0201808a0row35_col0\" class=\"data row35 col0\" >Polynomial Threshold </td>\n",
       "                        <td id=\"T_a1d9bc50_15f1_11eb_80f0_00e0201808a0row35_col1\" class=\"data row35 col1\" >None</td>\n",
       "            </tr>\n",
       "            <tr>\n",
       "                        <th id=\"T_a1d9bc50_15f1_11eb_80f0_00e0201808a0level0_row36\" class=\"row_heading level0 row36\" >36</th>\n",
       "                        <td id=\"T_a1d9bc50_15f1_11eb_80f0_00e0201808a0row36_col0\" class=\"data row36 col0\" >Group Features </td>\n",
       "                        <td id=\"T_a1d9bc50_15f1_11eb_80f0_00e0201808a0row36_col1\" class=\"data row36 col1\" >False</td>\n",
       "            </tr>\n",
       "            <tr>\n",
       "                        <th id=\"T_a1d9bc50_15f1_11eb_80f0_00e0201808a0level0_row37\" class=\"row_heading level0 row37\" >37</th>\n",
       "                        <td id=\"T_a1d9bc50_15f1_11eb_80f0_00e0201808a0row37_col0\" class=\"data row37 col0\" >Feature Selection </td>\n",
       "                        <td id=\"T_a1d9bc50_15f1_11eb_80f0_00e0201808a0row37_col1\" class=\"data row37 col1\" >False</td>\n",
       "            </tr>\n",
       "            <tr>\n",
       "                        <th id=\"T_a1d9bc50_15f1_11eb_80f0_00e0201808a0level0_row38\" class=\"row_heading level0 row38\" >38</th>\n",
       "                        <td id=\"T_a1d9bc50_15f1_11eb_80f0_00e0201808a0row38_col0\" class=\"data row38 col0\" >Features Selection Threshold </td>\n",
       "                        <td id=\"T_a1d9bc50_15f1_11eb_80f0_00e0201808a0row38_col1\" class=\"data row38 col1\" >None</td>\n",
       "            </tr>\n",
       "            <tr>\n",
       "                        <th id=\"T_a1d9bc50_15f1_11eb_80f0_00e0201808a0level0_row39\" class=\"row_heading level0 row39\" >39</th>\n",
       "                        <td id=\"T_a1d9bc50_15f1_11eb_80f0_00e0201808a0row39_col0\" class=\"data row39 col0\" >Feature Interaction </td>\n",
       "                        <td id=\"T_a1d9bc50_15f1_11eb_80f0_00e0201808a0row39_col1\" class=\"data row39 col1\" >False</td>\n",
       "            </tr>\n",
       "            <tr>\n",
       "                        <th id=\"T_a1d9bc50_15f1_11eb_80f0_00e0201808a0level0_row40\" class=\"row_heading level0 row40\" >40</th>\n",
       "                        <td id=\"T_a1d9bc50_15f1_11eb_80f0_00e0201808a0row40_col0\" class=\"data row40 col0\" >Feature Ratio </td>\n",
       "                        <td id=\"T_a1d9bc50_15f1_11eb_80f0_00e0201808a0row40_col1\" class=\"data row40 col1\" >False</td>\n",
       "            </tr>\n",
       "            <tr>\n",
       "                        <th id=\"T_a1d9bc50_15f1_11eb_80f0_00e0201808a0level0_row41\" class=\"row_heading level0 row41\" >41</th>\n",
       "                        <td id=\"T_a1d9bc50_15f1_11eb_80f0_00e0201808a0row41_col0\" class=\"data row41 col0\" >Interaction Threshold </td>\n",
       "                        <td id=\"T_a1d9bc50_15f1_11eb_80f0_00e0201808a0row41_col1\" class=\"data row41 col1\" >None</td>\n",
       "            </tr>\n",
       "            <tr>\n",
       "                        <th id=\"T_a1d9bc50_15f1_11eb_80f0_00e0201808a0level0_row42\" class=\"row_heading level0 row42\" >42</th>\n",
       "                        <td id=\"T_a1d9bc50_15f1_11eb_80f0_00e0201808a0row42_col0\" class=\"data row42 col0\" >Fix Imbalance</td>\n",
       "                        <td id=\"T_a1d9bc50_15f1_11eb_80f0_00e0201808a0row42_col1\" class=\"data row42 col1\" >False</td>\n",
       "            </tr>\n",
       "            <tr>\n",
       "                        <th id=\"T_a1d9bc50_15f1_11eb_80f0_00e0201808a0level0_row43\" class=\"row_heading level0 row43\" >43</th>\n",
       "                        <td id=\"T_a1d9bc50_15f1_11eb_80f0_00e0201808a0row43_col0\" class=\"data row43 col0\" >Fix Imbalance Method</td>\n",
       "                        <td id=\"T_a1d9bc50_15f1_11eb_80f0_00e0201808a0row43_col1\" class=\"data row43 col1\" >SMOTE</td>\n",
       "            </tr>\n",
       "    </tbody></table>"
      ],
      "text/plain": [
       "<pandas.io.formats.style.Styler at 0x17552365dc8>"
      ]
     },
     "metadata": {},
     "output_type": "display_data"
    },
    {
     "name": "stdout",
     "output_type": "stream",
     "text": [
      "Wall time: 5.08 s\n"
     ]
    }
   ],
   "source": [
    "%%time\n",
    "clf = setup(session_id=seed, \n",
    "            data = train, target = 'income'\n",
    "          #, categorical_features=col_cat\n",
    "          , numeric_features = ['education_num']\n",
    "          , ignore_features =['fnlwgt']\n",
    "           )"
   ]
  },
  {
   "cell_type": "code",
   "execution_count": 39,
   "metadata": {},
   "outputs": [
    {
     "data": {
      "text/html": [
       "<style  type=\"text/css\" >\n",
       "    #T_76ecbafa_15f2_11eb_983f_00e0201808a0 th {\n",
       "          text-align: left;\n",
       "    }#T_76ecbafa_15f2_11eb_983f_00e0201808a0row0_col0,#T_76ecbafa_15f2_11eb_983f_00e0201808a0row0_col1,#T_76ecbafa_15f2_11eb_983f_00e0201808a0row0_col2,#T_76ecbafa_15f2_11eb_983f_00e0201808a0row0_col4,#T_76ecbafa_15f2_11eb_983f_00e0201808a0row1_col0,#T_76ecbafa_15f2_11eb_983f_00e0201808a0row1_col3,#T_76ecbafa_15f2_11eb_983f_00e0201808a0row1_col4,#T_76ecbafa_15f2_11eb_983f_00e0201808a0row1_col5,#T_76ecbafa_15f2_11eb_983f_00e0201808a0row1_col6,#T_76ecbafa_15f2_11eb_983f_00e0201808a0row1_col7,#T_76ecbafa_15f2_11eb_983f_00e0201808a0row2_col0,#T_76ecbafa_15f2_11eb_983f_00e0201808a0row2_col1,#T_76ecbafa_15f2_11eb_983f_00e0201808a0row2_col2,#T_76ecbafa_15f2_11eb_983f_00e0201808a0row2_col3,#T_76ecbafa_15f2_11eb_983f_00e0201808a0row2_col4,#T_76ecbafa_15f2_11eb_983f_00e0201808a0row2_col5,#T_76ecbafa_15f2_11eb_983f_00e0201808a0row2_col6,#T_76ecbafa_15f2_11eb_983f_00e0201808a0row2_col7,#T_76ecbafa_15f2_11eb_983f_00e0201808a0row3_col0,#T_76ecbafa_15f2_11eb_983f_00e0201808a0row3_col1,#T_76ecbafa_15f2_11eb_983f_00e0201808a0row3_col2,#T_76ecbafa_15f2_11eb_983f_00e0201808a0row3_col3,#T_76ecbafa_15f2_11eb_983f_00e0201808a0row3_col5,#T_76ecbafa_15f2_11eb_983f_00e0201808a0row3_col6,#T_76ecbafa_15f2_11eb_983f_00e0201808a0row3_col7,#T_76ecbafa_15f2_11eb_983f_00e0201808a0row4_col0,#T_76ecbafa_15f2_11eb_983f_00e0201808a0row4_col1,#T_76ecbafa_15f2_11eb_983f_00e0201808a0row4_col2,#T_76ecbafa_15f2_11eb_983f_00e0201808a0row4_col3,#T_76ecbafa_15f2_11eb_983f_00e0201808a0row4_col4,#T_76ecbafa_15f2_11eb_983f_00e0201808a0row4_col5,#T_76ecbafa_15f2_11eb_983f_00e0201808a0row4_col6,#T_76ecbafa_15f2_11eb_983f_00e0201808a0row4_col7,#T_76ecbafa_15f2_11eb_983f_00e0201808a0row5_col0,#T_76ecbafa_15f2_11eb_983f_00e0201808a0row5_col1,#T_76ecbafa_15f2_11eb_983f_00e0201808a0row5_col2,#T_76ecbafa_15f2_11eb_983f_00e0201808a0row5_col3,#T_76ecbafa_15f2_11eb_983f_00e0201808a0row5_col4,#T_76ecbafa_15f2_11eb_983f_00e0201808a0row5_col5,#T_76ecbafa_15f2_11eb_983f_00e0201808a0row5_col6,#T_76ecbafa_15f2_11eb_983f_00e0201808a0row5_col7,#T_76ecbafa_15f2_11eb_983f_00e0201808a0row6_col0,#T_76ecbafa_15f2_11eb_983f_00e0201808a0row6_col1,#T_76ecbafa_15f2_11eb_983f_00e0201808a0row6_col2,#T_76ecbafa_15f2_11eb_983f_00e0201808a0row6_col3,#T_76ecbafa_15f2_11eb_983f_00e0201808a0row6_col4,#T_76ecbafa_15f2_11eb_983f_00e0201808a0row6_col5,#T_76ecbafa_15f2_11eb_983f_00e0201808a0row6_col6,#T_76ecbafa_15f2_11eb_983f_00e0201808a0row6_col7,#T_76ecbafa_15f2_11eb_983f_00e0201808a0row7_col0,#T_76ecbafa_15f2_11eb_983f_00e0201808a0row7_col1,#T_76ecbafa_15f2_11eb_983f_00e0201808a0row7_col2,#T_76ecbafa_15f2_11eb_983f_00e0201808a0row7_col3,#T_76ecbafa_15f2_11eb_983f_00e0201808a0row7_col4,#T_76ecbafa_15f2_11eb_983f_00e0201808a0row7_col5,#T_76ecbafa_15f2_11eb_983f_00e0201808a0row7_col6,#T_76ecbafa_15f2_11eb_983f_00e0201808a0row7_col7{\n",
       "            text-align:  left;\n",
       "        }#T_76ecbafa_15f2_11eb_983f_00e0201808a0row0_col3,#T_76ecbafa_15f2_11eb_983f_00e0201808a0row0_col5,#T_76ecbafa_15f2_11eb_983f_00e0201808a0row0_col6,#T_76ecbafa_15f2_11eb_983f_00e0201808a0row0_col7,#T_76ecbafa_15f2_11eb_983f_00e0201808a0row1_col1,#T_76ecbafa_15f2_11eb_983f_00e0201808a0row1_col2,#T_76ecbafa_15f2_11eb_983f_00e0201808a0row3_col4{\n",
       "            background-color:  yellow;\n",
       "            text-align:  left;\n",
       "        }#T_76ecbafa_15f2_11eb_983f_00e0201808a0row0_col8,#T_76ecbafa_15f2_11eb_983f_00e0201808a0row1_col8,#T_76ecbafa_15f2_11eb_983f_00e0201808a0row2_col8,#T_76ecbafa_15f2_11eb_983f_00e0201808a0row3_col8,#T_76ecbafa_15f2_11eb_983f_00e0201808a0row4_col8,#T_76ecbafa_15f2_11eb_983f_00e0201808a0row5_col8,#T_76ecbafa_15f2_11eb_983f_00e0201808a0row6_col8,#T_76ecbafa_15f2_11eb_983f_00e0201808a0row7_col8{\n",
       "            background-color:  lightgrey;\n",
       "            text-align:  left;\n",
       "        }</style><table id=\"T_76ecbafa_15f2_11eb_983f_00e0201808a0\" ><thead>    <tr>        <th class=\"blank level0\" ></th>        <th class=\"col_heading level0 col0\" >Model</th>        <th class=\"col_heading level0 col1\" >Accuracy</th>        <th class=\"col_heading level0 col2\" >AUC</th>        <th class=\"col_heading level0 col3\" >Recall</th>        <th class=\"col_heading level0 col4\" >Prec.</th>        <th class=\"col_heading level0 col5\" >F1</th>        <th class=\"col_heading level0 col6\" >Kappa</th>        <th class=\"col_heading level0 col7\" >MCC</th>        <th class=\"col_heading level0 col8\" >TT (Sec)</th>    </tr></thead><tbody>\n",
       "                <tr>\n",
       "                        <th id=\"T_76ecbafa_15f2_11eb_983f_00e0201808a0level0_row0\" class=\"row_heading level0 row0\" >0</th>\n",
       "                        <td id=\"T_76ecbafa_15f2_11eb_983f_00e0201808a0row0_col0\" class=\"data row0 col0\" >Light Gradient Boosting Machine</td>\n",
       "                        <td id=\"T_76ecbafa_15f2_11eb_983f_00e0201808a0row0_col1\" class=\"data row0 col1\" >0.8647</td>\n",
       "                        <td id=\"T_76ecbafa_15f2_11eb_983f_00e0201808a0row0_col2\" class=\"data row0 col2\" >0.9216</td>\n",
       "                        <td id=\"T_76ecbafa_15f2_11eb_983f_00e0201808a0row0_col3\" class=\"data row0 col3\" >0.6497</td>\n",
       "                        <td id=\"T_76ecbafa_15f2_11eb_983f_00e0201808a0row0_col4\" class=\"data row0 col4\" >0.7571</td>\n",
       "                        <td id=\"T_76ecbafa_15f2_11eb_983f_00e0201808a0row0_col5\" class=\"data row0 col5\" >0.6990</td>\n",
       "                        <td id=\"T_76ecbafa_15f2_11eb_983f_00e0201808a0row0_col6\" class=\"data row0 col6\" >0.6124</td>\n",
       "                        <td id=\"T_76ecbafa_15f2_11eb_983f_00e0201808a0row0_col7\" class=\"data row0 col7\" >0.6156</td>\n",
       "                        <td id=\"T_76ecbafa_15f2_11eb_983f_00e0201808a0row0_col8\" class=\"data row0 col8\" >0.2712</td>\n",
       "            </tr>\n",
       "            <tr>\n",
       "                        <th id=\"T_76ecbafa_15f2_11eb_983f_00e0201808a0level0_row1\" class=\"row_heading level0 row1\" >1</th>\n",
       "                        <td id=\"T_76ecbafa_15f2_11eb_983f_00e0201808a0row1_col0\" class=\"data row1 col0\" >CatBoost Classifier</td>\n",
       "                        <td id=\"T_76ecbafa_15f2_11eb_983f_00e0201808a0row1_col1\" class=\"data row1 col1\" >0.8654</td>\n",
       "                        <td id=\"T_76ecbafa_15f2_11eb_983f_00e0201808a0row1_col2\" class=\"data row1 col2\" >0.9242</td>\n",
       "                        <td id=\"T_76ecbafa_15f2_11eb_983f_00e0201808a0row1_col3\" class=\"data row1 col3\" >0.6368</td>\n",
       "                        <td id=\"T_76ecbafa_15f2_11eb_983f_00e0201808a0row1_col4\" class=\"data row1 col4\" >0.7678</td>\n",
       "                        <td id=\"T_76ecbafa_15f2_11eb_983f_00e0201808a0row1_col5\" class=\"data row1 col5\" >0.6959</td>\n",
       "                        <td id=\"T_76ecbafa_15f2_11eb_983f_00e0201808a0row1_col6\" class=\"data row1 col6\" >0.6105</td>\n",
       "                        <td id=\"T_76ecbafa_15f2_11eb_983f_00e0201808a0row1_col7\" class=\"data row1 col7\" >0.6151</td>\n",
       "                        <td id=\"T_76ecbafa_15f2_11eb_983f_00e0201808a0row1_col8\" class=\"data row1 col8\" >12.1622</td>\n",
       "            </tr>\n",
       "            <tr>\n",
       "                        <th id=\"T_76ecbafa_15f2_11eb_983f_00e0201808a0level0_row2\" class=\"row_heading level0 row2\" >2</th>\n",
       "                        <td id=\"T_76ecbafa_15f2_11eb_983f_00e0201808a0row2_col0\" class=\"data row2 col0\" >Extreme Gradient Boosting</td>\n",
       "                        <td id=\"T_76ecbafa_15f2_11eb_983f_00e0201808a0row2_col1\" class=\"data row2 col1\" >0.8630</td>\n",
       "                        <td id=\"T_76ecbafa_15f2_11eb_983f_00e0201808a0row2_col2\" class=\"data row2 col2\" >0.9219</td>\n",
       "                        <td id=\"T_76ecbafa_15f2_11eb_983f_00e0201808a0row2_col3\" class=\"data row2 col3\" >0.6445</td>\n",
       "                        <td id=\"T_76ecbafa_15f2_11eb_983f_00e0201808a0row2_col4\" class=\"data row2 col4\" >0.7539</td>\n",
       "                        <td id=\"T_76ecbafa_15f2_11eb_983f_00e0201808a0row2_col5\" class=\"data row2 col5\" >0.6946</td>\n",
       "                        <td id=\"T_76ecbafa_15f2_11eb_983f_00e0201808a0row2_col6\" class=\"data row2 col6\" >0.6070</td>\n",
       "                        <td id=\"T_76ecbafa_15f2_11eb_983f_00e0201808a0row2_col7\" class=\"data row2 col7\" >0.6103</td>\n",
       "                        <td id=\"T_76ecbafa_15f2_11eb_983f_00e0201808a0row2_col8\" class=\"data row2 col8\" >2.1677</td>\n",
       "            </tr>\n",
       "            <tr>\n",
       "                        <th id=\"T_76ecbafa_15f2_11eb_983f_00e0201808a0level0_row3\" class=\"row_heading level0 row3\" >3</th>\n",
       "                        <td id=\"T_76ecbafa_15f2_11eb_983f_00e0201808a0row3_col0\" class=\"data row3 col0\" >Gradient Boosting Classifier</td>\n",
       "                        <td id=\"T_76ecbafa_15f2_11eb_983f_00e0201808a0row3_col1\" class=\"data row3 col1\" >0.8615</td>\n",
       "                        <td id=\"T_76ecbafa_15f2_11eb_983f_00e0201808a0row3_col2\" class=\"data row3 col2\" >0.9176</td>\n",
       "                        <td id=\"T_76ecbafa_15f2_11eb_983f_00e0201808a0row3_col3\" class=\"data row3 col3\" >0.6025</td>\n",
       "                        <td id=\"T_76ecbafa_15f2_11eb_983f_00e0201808a0row3_col4\" class=\"data row3 col4\" >0.7754</td>\n",
       "                        <td id=\"T_76ecbafa_15f2_11eb_983f_00e0201808a0row3_col5\" class=\"data row3 col5\" >0.6779</td>\n",
       "                        <td id=\"T_76ecbafa_15f2_11eb_983f_00e0201808a0row3_col6\" class=\"data row3 col6\" >0.5914</td>\n",
       "                        <td id=\"T_76ecbafa_15f2_11eb_983f_00e0201808a0row3_col7\" class=\"data row3 col7\" >0.5992</td>\n",
       "                        <td id=\"T_76ecbafa_15f2_11eb_983f_00e0201808a0row3_col8\" class=\"data row3 col8\" >1.9664</td>\n",
       "            </tr>\n",
       "            <tr>\n",
       "                        <th id=\"T_76ecbafa_15f2_11eb_983f_00e0201808a0level0_row4\" class=\"row_heading level0 row4\" >4</th>\n",
       "                        <td id=\"T_76ecbafa_15f2_11eb_983f_00e0201808a0row4_col0\" class=\"data row4 col0\" >Ada Boost Classifier</td>\n",
       "                        <td id=\"T_76ecbafa_15f2_11eb_983f_00e0201808a0row4_col1\" class=\"data row4 col1\" >0.8559</td>\n",
       "                        <td id=\"T_76ecbafa_15f2_11eb_983f_00e0201808a0row4_col2\" class=\"data row4 col2\" >0.9116</td>\n",
       "                        <td id=\"T_76ecbafa_15f2_11eb_983f_00e0201808a0row4_col3\" class=\"data row4 col3\" >0.6144</td>\n",
       "                        <td id=\"T_76ecbafa_15f2_11eb_983f_00e0201808a0row4_col4\" class=\"data row4 col4\" >0.7458</td>\n",
       "                        <td id=\"T_76ecbafa_15f2_11eb_983f_00e0201808a0row4_col5\" class=\"data row4 col5\" >0.6735</td>\n",
       "                        <td id=\"T_76ecbafa_15f2_11eb_983f_00e0201808a0row4_col6\" class=\"data row4 col6\" >0.5822</td>\n",
       "                        <td id=\"T_76ecbafa_15f2_11eb_983f_00e0201808a0row4_col7\" class=\"data row4 col7\" >0.5869</td>\n",
       "                        <td id=\"T_76ecbafa_15f2_11eb_983f_00e0201808a0row4_col8\" class=\"data row4 col8\" >0.7408</td>\n",
       "            </tr>\n",
       "            <tr>\n",
       "                        <th id=\"T_76ecbafa_15f2_11eb_983f_00e0201808a0level0_row5\" class=\"row_heading level0 row5\" >5</th>\n",
       "                        <td id=\"T_76ecbafa_15f2_11eb_983f_00e0201808a0row5_col0\" class=\"data row5 col0\" >Linear Discriminant Analysis</td>\n",
       "                        <td id=\"T_76ecbafa_15f2_11eb_983f_00e0201808a0row5_col1\" class=\"data row5 col1\" >0.8453</td>\n",
       "                        <td id=\"T_76ecbafa_15f2_11eb_983f_00e0201808a0row5_col2\" class=\"data row5 col2\" >0.8994</td>\n",
       "                        <td id=\"T_76ecbafa_15f2_11eb_983f_00e0201808a0row5_col3\" class=\"data row5 col3\" >0.5872</td>\n",
       "                        <td id=\"T_76ecbafa_15f2_11eb_983f_00e0201808a0row5_col4\" class=\"data row5 col4\" >0.7223</td>\n",
       "                        <td id=\"T_76ecbafa_15f2_11eb_983f_00e0201808a0row5_col5\" class=\"data row5 col5\" >0.6473</td>\n",
       "                        <td id=\"T_76ecbafa_15f2_11eb_983f_00e0201808a0row5_col6\" class=\"data row5 col6\" >0.5497</td>\n",
       "                        <td id=\"T_76ecbafa_15f2_11eb_983f_00e0201808a0row5_col7\" class=\"data row5 col7\" >0.5548</td>\n",
       "                        <td id=\"T_76ecbafa_15f2_11eb_983f_00e0201808a0row5_col8\" class=\"data row5 col8\" >0.1893</td>\n",
       "            </tr>\n",
       "            <tr>\n",
       "                        <th id=\"T_76ecbafa_15f2_11eb_983f_00e0201808a0level0_row6\" class=\"row_heading level0 row6\" >6</th>\n",
       "                        <td id=\"T_76ecbafa_15f2_11eb_983f_00e0201808a0row6_col0\" class=\"data row6 col0\" >Random Forest Classifier</td>\n",
       "                        <td id=\"T_76ecbafa_15f2_11eb_983f_00e0201808a0row6_col1\" class=\"data row6 col1\" >0.8408</td>\n",
       "                        <td id=\"T_76ecbafa_15f2_11eb_983f_00e0201808a0row6_col2\" class=\"data row6 col2\" >0.8701</td>\n",
       "                        <td id=\"T_76ecbafa_15f2_11eb_983f_00e0201808a0row6_col3\" class=\"data row6 col3\" >0.5863</td>\n",
       "                        <td id=\"T_76ecbafa_15f2_11eb_983f_00e0201808a0row6_col4\" class=\"data row6 col4\" >0.7069</td>\n",
       "                        <td id=\"T_76ecbafa_15f2_11eb_983f_00e0201808a0row6_col5\" class=\"data row6 col5\" >0.6405</td>\n",
       "                        <td id=\"T_76ecbafa_15f2_11eb_983f_00e0201808a0row6_col6\" class=\"data row6 col6\" >0.5395</td>\n",
       "                        <td id=\"T_76ecbafa_15f2_11eb_983f_00e0201808a0row6_col7\" class=\"data row6 col7\" >0.5436</td>\n",
       "                        <td id=\"T_76ecbafa_15f2_11eb_983f_00e0201808a0row6_col8\" class=\"data row6 col8\" >0.1301</td>\n",
       "            </tr>\n",
       "            <tr>\n",
       "                        <th id=\"T_76ecbafa_15f2_11eb_983f_00e0201808a0level0_row7\" class=\"row_heading level0 row7\" >7</th>\n",
       "                        <td id=\"T_76ecbafa_15f2_11eb_983f_00e0201808a0row7_col0\" class=\"data row7 col0\" >Extra Trees Classifier</td>\n",
       "                        <td id=\"T_76ecbafa_15f2_11eb_983f_00e0201808a0row7_col1\" class=\"data row7 col1\" >0.8310</td>\n",
       "                        <td id=\"T_76ecbafa_15f2_11eb_983f_00e0201808a0row7_col2\" class=\"data row7 col2\" >0.8549</td>\n",
       "                        <td id=\"T_76ecbafa_15f2_11eb_983f_00e0201808a0row7_col3\" class=\"data row7 col3\" >0.6028</td>\n",
       "                        <td id=\"T_76ecbafa_15f2_11eb_983f_00e0201808a0row7_col4\" class=\"data row7 col4\" >0.6673</td>\n",
       "                        <td id=\"T_76ecbafa_15f2_11eb_983f_00e0201808a0row7_col5\" class=\"data row7 col5\" >0.6332</td>\n",
       "                        <td id=\"T_76ecbafa_15f2_11eb_983f_00e0201808a0row7_col6\" class=\"data row7 col6\" >0.5238</td>\n",
       "                        <td id=\"T_76ecbafa_15f2_11eb_983f_00e0201808a0row7_col7\" class=\"data row7 col7\" >0.5251</td>\n",
       "                        <td id=\"T_76ecbafa_15f2_11eb_983f_00e0201808a0row7_col8\" class=\"data row7 col8\" >0.5579</td>\n",
       "            </tr>\n",
       "    </tbody></table>"
      ],
      "text/plain": [
       "<pandas.io.formats.style.Styler at 0x1755a482608>"
      ]
     },
     "metadata": {},
     "output_type": "display_data"
    }
   ],
   "source": [
    "best_3 = compare_models(sort = 'F1', n_select = 3\n",
    "                       ,exclude=['lr', 'knn', 'nb', 'dt', 'svm', 'rbfsvm', 'ridge','qda']\n",
    "                       #,exclude=['lr', 'knn', 'nb', 'dt', 'svm', 'rbfsvm', 'gpc', 'mlp', 'ridge', 'rf', 'qda', 'ada', 'xgboost']\n",
    "                       )"
   ]
  },
  {
   "cell_type": "code",
   "execution_count": 40,
   "metadata": {},
   "outputs": [
    {
     "data": {
      "text/html": [
       "<style  type=\"text/css\" >\n",
       "#T_bfb3aff4_15f2_11eb_948e_00e0201808a0row5_col0,#T_bfb3aff4_15f2_11eb_948e_00e0201808a0row5_col1,#T_bfb3aff4_15f2_11eb_948e_00e0201808a0row5_col2,#T_bfb3aff4_15f2_11eb_948e_00e0201808a0row5_col3,#T_bfb3aff4_15f2_11eb_948e_00e0201808a0row5_col4,#T_bfb3aff4_15f2_11eb_948e_00e0201808a0row5_col5,#T_bfb3aff4_15f2_11eb_948e_00e0201808a0row5_col6{\n",
       "            background:  yellow;\n",
       "        }</style><table id=\"T_bfb3aff4_15f2_11eb_948e_00e0201808a0\" ><thead>    <tr>        <th class=\"blank level0\" ></th>        <th class=\"col_heading level0 col0\" >Accuracy</th>        <th class=\"col_heading level0 col1\" >AUC</th>        <th class=\"col_heading level0 col2\" >Recall</th>        <th class=\"col_heading level0 col3\" >Prec.</th>        <th class=\"col_heading level0 col4\" >F1</th>        <th class=\"col_heading level0 col5\" >Kappa</th>        <th class=\"col_heading level0 col6\" >MCC</th>    </tr></thead><tbody>\n",
       "                <tr>\n",
       "                        <th id=\"T_bfb3aff4_15f2_11eb_948e_00e0201808a0level0_row0\" class=\"row_heading level0 row0\" >0</th>\n",
       "                        <td id=\"T_bfb3aff4_15f2_11eb_948e_00e0201808a0row0_col0\" class=\"data row0 col0\" >0.8656</td>\n",
       "                        <td id=\"T_bfb3aff4_15f2_11eb_948e_00e0201808a0row0_col1\" class=\"data row0 col1\" >0.9220</td>\n",
       "                        <td id=\"T_bfb3aff4_15f2_11eb_948e_00e0201808a0row0_col2\" class=\"data row0 col2\" >0.6392</td>\n",
       "                        <td id=\"T_bfb3aff4_15f2_11eb_948e_00e0201808a0row0_col3\" class=\"data row0 col3\" >0.7670</td>\n",
       "                        <td id=\"T_bfb3aff4_15f2_11eb_948e_00e0201808a0row0_col4\" class=\"data row0 col4\" >0.6973</td>\n",
       "                        <td id=\"T_bfb3aff4_15f2_11eb_948e_00e0201808a0row0_col5\" class=\"data row0 col5\" >0.6118</td>\n",
       "                        <td id=\"T_bfb3aff4_15f2_11eb_948e_00e0201808a0row0_col6\" class=\"data row0 col6\" >0.6160</td>\n",
       "            </tr>\n",
       "            <tr>\n",
       "                        <th id=\"T_bfb3aff4_15f2_11eb_948e_00e0201808a0level0_row1\" class=\"row_heading level0 row1\" >1</th>\n",
       "                        <td id=\"T_bfb3aff4_15f2_11eb_948e_00e0201808a0row1_col0\" class=\"data row1 col0\" >0.8625</td>\n",
       "                        <td id=\"T_bfb3aff4_15f2_11eb_948e_00e0201808a0row1_col1\" class=\"data row1 col1\" >0.9162</td>\n",
       "                        <td id=\"T_bfb3aff4_15f2_11eb_948e_00e0201808a0row1_col2\" class=\"data row1 col2\" >0.6586</td>\n",
       "                        <td id=\"T_bfb3aff4_15f2_11eb_948e_00e0201808a0row1_col3\" class=\"data row1 col3\" >0.7441</td>\n",
       "                        <td id=\"T_bfb3aff4_15f2_11eb_948e_00e0201808a0row1_col4\" class=\"data row1 col4\" >0.6987</td>\n",
       "                        <td id=\"T_bfb3aff4_15f2_11eb_948e_00e0201808a0row1_col5\" class=\"data row1 col5\" >0.6101</td>\n",
       "                        <td id=\"T_bfb3aff4_15f2_11eb_948e_00e0201808a0row1_col6\" class=\"data row1 col6\" >0.6120</td>\n",
       "            </tr>\n",
       "            <tr>\n",
       "                        <th id=\"T_bfb3aff4_15f2_11eb_948e_00e0201808a0level0_row2\" class=\"row_heading level0 row2\" >2</th>\n",
       "                        <td id=\"T_bfb3aff4_15f2_11eb_948e_00e0201808a0row2_col0\" class=\"data row2 col0\" >0.8590</td>\n",
       "                        <td id=\"T_bfb3aff4_15f2_11eb_948e_00e0201808a0row2_col1\" class=\"data row2 col1\" >0.9216</td>\n",
       "                        <td id=\"T_bfb3aff4_15f2_11eb_948e_00e0201808a0row2_col2\" class=\"data row2 col2\" >0.6197</td>\n",
       "                        <td id=\"T_bfb3aff4_15f2_11eb_948e_00e0201808a0row2_col3\" class=\"data row2 col3\" >0.7539</td>\n",
       "                        <td id=\"T_bfb3aff4_15f2_11eb_948e_00e0201808a0row2_col4\" class=\"data row2 col4\" >0.6803</td>\n",
       "                        <td id=\"T_bfb3aff4_15f2_11eb_948e_00e0201808a0row2_col5\" class=\"data row2 col5\" >0.5909</td>\n",
       "                        <td id=\"T_bfb3aff4_15f2_11eb_948e_00e0201808a0row2_col6\" class=\"data row2 col6\" >0.5956</td>\n",
       "            </tr>\n",
       "            <tr>\n",
       "                        <th id=\"T_bfb3aff4_15f2_11eb_948e_00e0201808a0level0_row3\" class=\"row_heading level0 row3\" >3</th>\n",
       "                        <td id=\"T_bfb3aff4_15f2_11eb_948e_00e0201808a0row3_col0\" class=\"data row3 col0\" >0.8703</td>\n",
       "                        <td id=\"T_bfb3aff4_15f2_11eb_948e_00e0201808a0row3_col1\" class=\"data row3 col1\" >0.9303</td>\n",
       "                        <td id=\"T_bfb3aff4_15f2_11eb_948e_00e0201808a0row3_col2\" class=\"data row3 col2\" >0.6467</td>\n",
       "                        <td id=\"T_bfb3aff4_15f2_11eb_948e_00e0201808a0row3_col3\" class=\"data row3 col3\" >0.7793</td>\n",
       "                        <td id=\"T_bfb3aff4_15f2_11eb_948e_00e0201808a0row3_col4\" class=\"data row3 col4\" >0.7068</td>\n",
       "                        <td id=\"T_bfb3aff4_15f2_11eb_948e_00e0201808a0row3_col5\" class=\"data row3 col5\" >0.6245</td>\n",
       "                        <td id=\"T_bfb3aff4_15f2_11eb_948e_00e0201808a0row3_col6\" class=\"data row3 col6\" >0.6290</td>\n",
       "            </tr>\n",
       "            <tr>\n",
       "                        <th id=\"T_bfb3aff4_15f2_11eb_948e_00e0201808a0level0_row4\" class=\"row_heading level0 row4\" >4</th>\n",
       "                        <td id=\"T_bfb3aff4_15f2_11eb_948e_00e0201808a0row4_col0\" class=\"data row4 col0\" >0.8742</td>\n",
       "                        <td id=\"T_bfb3aff4_15f2_11eb_948e_00e0201808a0row4_col1\" class=\"data row4 col1\" >0.9253</td>\n",
       "                        <td id=\"T_bfb3aff4_15f2_11eb_948e_00e0201808a0row4_col2\" class=\"data row4 col2\" >0.6602</td>\n",
       "                        <td id=\"T_bfb3aff4_15f2_11eb_948e_00e0201808a0row4_col3\" class=\"data row4 col3\" >0.7861</td>\n",
       "                        <td id=\"T_bfb3aff4_15f2_11eb_948e_00e0201808a0row4_col4\" class=\"data row4 col4\" >0.7177</td>\n",
       "                        <td id=\"T_bfb3aff4_15f2_11eb_948e_00e0201808a0row4_col5\" class=\"data row4 col5\" >0.6375</td>\n",
       "                        <td id=\"T_bfb3aff4_15f2_11eb_948e_00e0201808a0row4_col6\" class=\"data row4 col6\" >0.6416</td>\n",
       "            </tr>\n",
       "            <tr>\n",
       "                        <th id=\"T_bfb3aff4_15f2_11eb_948e_00e0201808a0level0_row5\" class=\"row_heading level0 row5\" >Mean</th>\n",
       "                        <td id=\"T_bfb3aff4_15f2_11eb_948e_00e0201808a0row5_col0\" class=\"data row5 col0\" >0.8663</td>\n",
       "                        <td id=\"T_bfb3aff4_15f2_11eb_948e_00e0201808a0row5_col1\" class=\"data row5 col1\" >0.9231</td>\n",
       "                        <td id=\"T_bfb3aff4_15f2_11eb_948e_00e0201808a0row5_col2\" class=\"data row5 col2\" >0.6449</td>\n",
       "                        <td id=\"T_bfb3aff4_15f2_11eb_948e_00e0201808a0row5_col3\" class=\"data row5 col3\" >0.7661</td>\n",
       "                        <td id=\"T_bfb3aff4_15f2_11eb_948e_00e0201808a0row5_col4\" class=\"data row5 col4\" >0.7002</td>\n",
       "                        <td id=\"T_bfb3aff4_15f2_11eb_948e_00e0201808a0row5_col5\" class=\"data row5 col5\" >0.6150</td>\n",
       "                        <td id=\"T_bfb3aff4_15f2_11eb_948e_00e0201808a0row5_col6\" class=\"data row5 col6\" >0.6188</td>\n",
       "            </tr>\n",
       "            <tr>\n",
       "                        <th id=\"T_bfb3aff4_15f2_11eb_948e_00e0201808a0level0_row6\" class=\"row_heading level0 row6\" >SD</th>\n",
       "                        <td id=\"T_bfb3aff4_15f2_11eb_948e_00e0201808a0row6_col0\" class=\"data row6 col0\" >0.0054</td>\n",
       "                        <td id=\"T_bfb3aff4_15f2_11eb_948e_00e0201808a0row6_col1\" class=\"data row6 col1\" >0.0046</td>\n",
       "                        <td id=\"T_bfb3aff4_15f2_11eb_948e_00e0201808a0row6_col2\" class=\"data row6 col2\" >0.0148</td>\n",
       "                        <td id=\"T_bfb3aff4_15f2_11eb_948e_00e0201808a0row6_col3\" class=\"data row6 col3\" >0.0156</td>\n",
       "                        <td id=\"T_bfb3aff4_15f2_11eb_948e_00e0201808a0row6_col4\" class=\"data row6 col4\" >0.0123</td>\n",
       "                        <td id=\"T_bfb3aff4_15f2_11eb_948e_00e0201808a0row6_col5\" class=\"data row6 col5\" >0.0156</td>\n",
       "                        <td id=\"T_bfb3aff4_15f2_11eb_948e_00e0201808a0row6_col6\" class=\"data row6 col6\" >0.0156</td>\n",
       "            </tr>\n",
       "    </tbody></table>"
      ],
      "text/plain": [
       "<pandas.io.formats.style.Styler at 0x17547801f88>"
      ]
     },
     "metadata": {},
     "output_type": "display_data"
    }
   ],
   "source": [
    "blended = blend_models(estimator_list = best_3, fold = 5, method = 'soft')"
   ]
  },
  {
   "cell_type": "code",
   "execution_count": 41,
   "metadata": {},
   "outputs": [
    {
     "data": {
      "text/html": [
       "<div>\n",
       "<style scoped>\n",
       "    .dataframe tbody tr th:only-of-type {\n",
       "        vertical-align: middle;\n",
       "    }\n",
       "\n",
       "    .dataframe tbody tr th {\n",
       "        vertical-align: top;\n",
       "    }\n",
       "\n",
       "    .dataframe thead th {\n",
       "        text-align: right;\n",
       "    }\n",
       "</style>\n",
       "<table border=\"1\" class=\"dataframe\">\n",
       "  <thead>\n",
       "    <tr style=\"text-align: right;\">\n",
       "      <th></th>\n",
       "      <th>Model</th>\n",
       "      <th>Accuracy</th>\n",
       "      <th>AUC</th>\n",
       "      <th>Recall</th>\n",
       "      <th>Prec.</th>\n",
       "      <th>F1</th>\n",
       "      <th>Kappa</th>\n",
       "      <th>MCC</th>\n",
       "    </tr>\n",
       "  </thead>\n",
       "  <tbody>\n",
       "    <tr>\n",
       "      <th>0</th>\n",
       "      <td>Voting Classifier</td>\n",
       "      <td>0.8761</td>\n",
       "      <td>0.9298</td>\n",
       "      <td>0.6556</td>\n",
       "      <td>0.7963</td>\n",
       "      <td>0.7191</td>\n",
       "      <td>0.6406</td>\n",
       "      <td>0.6456</td>\n",
       "    </tr>\n",
       "  </tbody>\n",
       "</table>\n",
       "</div>"
      ],
      "text/plain": [
       "               Model  Accuracy     AUC  Recall   Prec.      F1   Kappa     MCC\n",
       "0  Voting Classifier    0.8761  0.9298  0.6556  0.7963  0.7191  0.6406  0.6456"
      ]
     },
     "metadata": {},
     "output_type": "display_data"
    }
   ],
   "source": [
    "pred_holdout = predict_model(blended)"
   ]
  },
  {
   "cell_type": "code",
   "execution_count": 42,
   "metadata": {},
   "outputs": [
    {
     "name": "stdout",
     "output_type": "stream",
     "text": [
      "Wall time: 3min 21s\n"
     ]
    }
   ],
   "source": [
    "%%time\n",
    "final_model = finalize_model(blended)"
   ]
  },
  {
   "cell_type": "code",
   "execution_count": 43,
   "metadata": {},
   "outputs": [],
   "source": [
    "predictions = predict_model(final_model, data = test)"
   ]
  },
  {
   "cell_type": "markdown",
   "metadata": {},
   "source": [
    "# 4. 예측"
   ]
  },
  {
   "cell_type": "code",
   "execution_count": 44,
   "metadata": {},
   "outputs": [],
   "source": [
    "submission['prediction'] = predictions['Label']"
   ]
  },
  {
   "cell_type": "markdown",
   "metadata": {},
   "source": [
    "# 5. 제출"
   ]
  },
  {
   "cell_type": "code",
   "execution_count": 45,
   "metadata": {},
   "outputs": [],
   "source": [
    "submission.to_csv('output/20201024-5.csv')"
   ]
  },
  {
   "cell_type": "code",
   "execution_count": null,
   "metadata": {},
   "outputs": [],
   "source": []
  },
  {
   "cell_type": "code",
   "execution_count": 46,
   "metadata": {},
   "outputs": [
    {
     "data": {
      "text/html": [
       "<style  type=\"text/css\" >\n",
       "#T_50d4e224_15f3_11eb_9a15_00e0201808a0row10_col0,#T_50d4e224_15f3_11eb_9a15_00e0201808a0row10_col1,#T_50d4e224_15f3_11eb_9a15_00e0201808a0row10_col2,#T_50d4e224_15f3_11eb_9a15_00e0201808a0row10_col3,#T_50d4e224_15f3_11eb_9a15_00e0201808a0row10_col4,#T_50d4e224_15f3_11eb_9a15_00e0201808a0row10_col5,#T_50d4e224_15f3_11eb_9a15_00e0201808a0row10_col6{\n",
       "            background:  yellow;\n",
       "        }</style><table id=\"T_50d4e224_15f3_11eb_9a15_00e0201808a0\" ><thead>    <tr>        <th class=\"blank level0\" ></th>        <th class=\"col_heading level0 col0\" >Accuracy</th>        <th class=\"col_heading level0 col1\" >AUC</th>        <th class=\"col_heading level0 col2\" >Recall</th>        <th class=\"col_heading level0 col3\" >Prec.</th>        <th class=\"col_heading level0 col4\" >F1</th>        <th class=\"col_heading level0 col5\" >Kappa</th>        <th class=\"col_heading level0 col6\" >MCC</th>    </tr></thead><tbody>\n",
       "                <tr>\n",
       "                        <th id=\"T_50d4e224_15f3_11eb_9a15_00e0201808a0level0_row0\" class=\"row_heading level0 row0\" >0</th>\n",
       "                        <td id=\"T_50d4e224_15f3_11eb_9a15_00e0201808a0row0_col0\" class=\"data row0 col0\" >0.8630</td>\n",
       "                        <td id=\"T_50d4e224_15f3_11eb_9a15_00e0201808a0row0_col1\" class=\"data row0 col1\" >0.9219</td>\n",
       "                        <td id=\"T_50d4e224_15f3_11eb_9a15_00e0201808a0row0_col2\" class=\"data row0 col2\" >0.6246</td>\n",
       "                        <td id=\"T_50d4e224_15f3_11eb_9a15_00e0201808a0row0_col3\" class=\"data row0 col3\" >0.7659</td>\n",
       "                        <td id=\"T_50d4e224_15f3_11eb_9a15_00e0201808a0row0_col4\" class=\"data row0 col4\" >0.6881</td>\n",
       "                        <td id=\"T_50d4e224_15f3_11eb_9a15_00e0201808a0row0_col5\" class=\"data row0 col5\" >0.6014</td>\n",
       "                        <td id=\"T_50d4e224_15f3_11eb_9a15_00e0201808a0row0_col6\" class=\"data row0 col6\" >0.6065</td>\n",
       "            </tr>\n",
       "            <tr>\n",
       "                        <th id=\"T_50d4e224_15f3_11eb_9a15_00e0201808a0level0_row1\" class=\"row_heading level0 row1\" >1</th>\n",
       "                        <td id=\"T_50d4e224_15f3_11eb_9a15_00e0201808a0row1_col0\" class=\"data row1 col0\" >0.8567</td>\n",
       "                        <td id=\"T_50d4e224_15f3_11eb_9a15_00e0201808a0row1_col1\" class=\"data row1 col1\" >0.9127</td>\n",
       "                        <td id=\"T_50d4e224_15f3_11eb_9a15_00e0201808a0row1_col2\" class=\"data row1 col2\" >0.6570</td>\n",
       "                        <td id=\"T_50d4e224_15f3_11eb_9a15_00e0201808a0row1_col3\" class=\"data row1 col3\" >0.7250</td>\n",
       "                        <td id=\"T_50d4e224_15f3_11eb_9a15_00e0201808a0row1_col4\" class=\"data row1 col4\" >0.6893</td>\n",
       "                        <td id=\"T_50d4e224_15f3_11eb_9a15_00e0201808a0row1_col5\" class=\"data row1 col5\" >0.5965</td>\n",
       "                        <td id=\"T_50d4e224_15f3_11eb_9a15_00e0201808a0row1_col6\" class=\"data row1 col6\" >0.5977</td>\n",
       "            </tr>\n",
       "            <tr>\n",
       "                        <th id=\"T_50d4e224_15f3_11eb_9a15_00e0201808a0level0_row2\" class=\"row_heading level0 row2\" >2</th>\n",
       "                        <td id=\"T_50d4e224_15f3_11eb_9a15_00e0201808a0row2_col0\" class=\"data row2 col0\" >0.8669</td>\n",
       "                        <td id=\"T_50d4e224_15f3_11eb_9a15_00e0201808a0row2_col1\" class=\"data row2 col1\" >0.9224</td>\n",
       "                        <td id=\"T_50d4e224_15f3_11eb_9a15_00e0201808a0row2_col2\" class=\"data row2 col2\" >0.6764</td>\n",
       "                        <td id=\"T_50d4e224_15f3_11eb_9a15_00e0201808a0row2_col3\" class=\"data row2 col3\" >0.7491</td>\n",
       "                        <td id=\"T_50d4e224_15f3_11eb_9a15_00e0201808a0row2_col4\" class=\"data row2 col4\" >0.7109</td>\n",
       "                        <td id=\"T_50d4e224_15f3_11eb_9a15_00e0201808a0row2_col5\" class=\"data row2 col5\" >0.6247</td>\n",
       "                        <td id=\"T_50d4e224_15f3_11eb_9a15_00e0201808a0row2_col6\" class=\"data row2 col6\" >0.6261</td>\n",
       "            </tr>\n",
       "            <tr>\n",
       "                        <th id=\"T_50d4e224_15f3_11eb_9a15_00e0201808a0level0_row3\" class=\"row_heading level0 row3\" >3</th>\n",
       "                        <td id=\"T_50d4e224_15f3_11eb_9a15_00e0201808a0row3_col0\" class=\"data row3 col0\" >0.8464</td>\n",
       "                        <td id=\"T_50d4e224_15f3_11eb_9a15_00e0201808a0row3_col1\" class=\"data row3 col1\" >0.9123</td>\n",
       "                        <td id=\"T_50d4e224_15f3_11eb_9a15_00e0201808a0row3_col2\" class=\"data row3 col2\" >0.6071</td>\n",
       "                        <td id=\"T_50d4e224_15f3_11eb_9a15_00e0201808a0row3_col3\" class=\"data row3 col3\" >0.7137</td>\n",
       "                        <td id=\"T_50d4e224_15f3_11eb_9a15_00e0201808a0row3_col4\" class=\"data row3 col4\" >0.6561</td>\n",
       "                        <td id=\"T_50d4e224_15f3_11eb_9a15_00e0201808a0row3_col5\" class=\"data row3 col5\" >0.5581</td>\n",
       "                        <td id=\"T_50d4e224_15f3_11eb_9a15_00e0201808a0row3_col6\" class=\"data row3 col6\" >0.5611</td>\n",
       "            </tr>\n",
       "            <tr>\n",
       "                        <th id=\"T_50d4e224_15f3_11eb_9a15_00e0201808a0level0_row4\" class=\"row_heading level0 row4\" >4</th>\n",
       "                        <td id=\"T_50d4e224_15f3_11eb_9a15_00e0201808a0row4_col0\" class=\"data row4 col0\" >0.8480</td>\n",
       "                        <td id=\"T_50d4e224_15f3_11eb_9a15_00e0201808a0row4_col1\" class=\"data row4 col1\" >0.9083</td>\n",
       "                        <td id=\"T_50d4e224_15f3_11eb_9a15_00e0201808a0row4_col2\" class=\"data row4 col2\" >0.5922</td>\n",
       "                        <td id=\"T_50d4e224_15f3_11eb_9a15_00e0201808a0row4_col3\" class=\"data row4 col3\" >0.7291</td>\n",
       "                        <td id=\"T_50d4e224_15f3_11eb_9a15_00e0201808a0row4_col4\" class=\"data row4 col4\" >0.6536</td>\n",
       "                        <td id=\"T_50d4e224_15f3_11eb_9a15_00e0201808a0row4_col5\" class=\"data row4 col5\" >0.5575</td>\n",
       "                        <td id=\"T_50d4e224_15f3_11eb_9a15_00e0201808a0row4_col6\" class=\"data row4 col6\" >0.5625</td>\n",
       "            </tr>\n",
       "            <tr>\n",
       "                        <th id=\"T_50d4e224_15f3_11eb_9a15_00e0201808a0level0_row5\" class=\"row_heading level0 row5\" >5</th>\n",
       "                        <td id=\"T_50d4e224_15f3_11eb_9a15_00e0201808a0row5_col0\" class=\"data row5 col0\" >0.8644</td>\n",
       "                        <td id=\"T_50d4e224_15f3_11eb_9a15_00e0201808a0row5_col1\" class=\"data row5 col1\" >0.9312</td>\n",
       "                        <td id=\"T_50d4e224_15f3_11eb_9a15_00e0201808a0row5_col2\" class=\"data row5 col2\" >0.6472</td>\n",
       "                        <td id=\"T_50d4e224_15f3_11eb_9a15_00e0201808a0row5_col3\" class=\"data row5 col3\" >0.7576</td>\n",
       "                        <td id=\"T_50d4e224_15f3_11eb_9a15_00e0201808a0row5_col4\" class=\"data row5 col4\" >0.6981</td>\n",
       "                        <td id=\"T_50d4e224_15f3_11eb_9a15_00e0201808a0row5_col5\" class=\"data row5 col5\" >0.6114</td>\n",
       "                        <td id=\"T_50d4e224_15f3_11eb_9a15_00e0201808a0row5_col6\" class=\"data row5 col6\" >0.6145</td>\n",
       "            </tr>\n",
       "            <tr>\n",
       "                        <th id=\"T_50d4e224_15f3_11eb_9a15_00e0201808a0level0_row6\" class=\"row_heading level0 row6\" >6</th>\n",
       "                        <td id=\"T_50d4e224_15f3_11eb_9a15_00e0201808a0row6_col0\" class=\"data row6 col0\" >0.8730</td>\n",
       "                        <td id=\"T_50d4e224_15f3_11eb_9a15_00e0201808a0row6_col1\" class=\"data row6 col1\" >0.9347</td>\n",
       "                        <td id=\"T_50d4e224_15f3_11eb_9a15_00e0201808a0row6_col2\" class=\"data row6 col2\" >0.6440</td>\n",
       "                        <td id=\"T_50d4e224_15f3_11eb_9a15_00e0201808a0row6_col3\" class=\"data row6 col3\" >0.7928</td>\n",
       "                        <td id=\"T_50d4e224_15f3_11eb_9a15_00e0201808a0row6_col4\" class=\"data row6 col4\" >0.7107</td>\n",
       "                        <td id=\"T_50d4e224_15f3_11eb_9a15_00e0201808a0row6_col5\" class=\"data row6 col5\" >0.6305</td>\n",
       "                        <td id=\"T_50d4e224_15f3_11eb_9a15_00e0201808a0row6_col6\" class=\"data row6 col6\" >0.6361</td>\n",
       "            </tr>\n",
       "            <tr>\n",
       "                        <th id=\"T_50d4e224_15f3_11eb_9a15_00e0201808a0level0_row7\" class=\"row_heading level0 row7\" >7</th>\n",
       "                        <td id=\"T_50d4e224_15f3_11eb_9a15_00e0201808a0row7_col0\" class=\"data row7 col0\" >0.8652</td>\n",
       "                        <td id=\"T_50d4e224_15f3_11eb_9a15_00e0201808a0row7_col1\" class=\"data row7 col1\" >0.9225</td>\n",
       "                        <td id=\"T_50d4e224_15f3_11eb_9a15_00e0201808a0row7_col2\" class=\"data row7 col2\" >0.6537</td>\n",
       "                        <td id=\"T_50d4e224_15f3_11eb_9a15_00e0201808a0row7_col3\" class=\"data row7 col3\" >0.7566</td>\n",
       "                        <td id=\"T_50d4e224_15f3_11eb_9a15_00e0201808a0row7_col4\" class=\"data row7 col4\" >0.7014</td>\n",
       "                        <td id=\"T_50d4e224_15f3_11eb_9a15_00e0201808a0row7_col5\" class=\"data row7 col5\" >0.6149</td>\n",
       "                        <td id=\"T_50d4e224_15f3_11eb_9a15_00e0201808a0row7_col6\" class=\"data row7 col6\" >0.6177</td>\n",
       "            </tr>\n",
       "            <tr>\n",
       "                        <th id=\"T_50d4e224_15f3_11eb_9a15_00e0201808a0level0_row8\" class=\"row_heading level0 row8\" >8</th>\n",
       "                        <td id=\"T_50d4e224_15f3_11eb_9a15_00e0201808a0row8_col0\" class=\"data row8 col0\" >0.8699</td>\n",
       "                        <td id=\"T_50d4e224_15f3_11eb_9a15_00e0201808a0row8_col1\" class=\"data row8 col1\" >0.9271</td>\n",
       "                        <td id=\"T_50d4e224_15f3_11eb_9a15_00e0201808a0row8_col2\" class=\"data row8 col2\" >0.6472</td>\n",
       "                        <td id=\"T_50d4e224_15f3_11eb_9a15_00e0201808a0row8_col3\" class=\"data row8 col3\" >0.7782</td>\n",
       "                        <td id=\"T_50d4e224_15f3_11eb_9a15_00e0201808a0row8_col4\" class=\"data row8 col4\" >0.7067</td>\n",
       "                        <td id=\"T_50d4e224_15f3_11eb_9a15_00e0201808a0row8_col5\" class=\"data row8 col5\" >0.6240</td>\n",
       "                        <td id=\"T_50d4e224_15f3_11eb_9a15_00e0201808a0row8_col6\" class=\"data row8 col6\" >0.6284</td>\n",
       "            </tr>\n",
       "            <tr>\n",
       "                        <th id=\"T_50d4e224_15f3_11eb_9a15_00e0201808a0level0_row9\" class=\"row_heading level0 row9\" >9</th>\n",
       "                        <td id=\"T_50d4e224_15f3_11eb_9a15_00e0201808a0row9_col0\" class=\"data row9 col0\" >0.8762</td>\n",
       "                        <td id=\"T_50d4e224_15f3_11eb_9a15_00e0201808a0row9_col1\" class=\"data row9 col1\" >0.9264</td>\n",
       "                        <td id=\"T_50d4e224_15f3_11eb_9a15_00e0201808a0row9_col2\" class=\"data row9 col2\" >0.6958</td>\n",
       "                        <td id=\"T_50d4e224_15f3_11eb_9a15_00e0201808a0row9_col3\" class=\"data row9 col3\" >0.7706</td>\n",
       "                        <td id=\"T_50d4e224_15f3_11eb_9a15_00e0201808a0row9_col4\" class=\"data row9 col4\" >0.7313</td>\n",
       "                        <td id=\"T_50d4e224_15f3_11eb_9a15_00e0201808a0row9_col5\" class=\"data row9 col5\" >0.6511</td>\n",
       "                        <td id=\"T_50d4e224_15f3_11eb_9a15_00e0201808a0row9_col6\" class=\"data row9 col6\" >0.6525</td>\n",
       "            </tr>\n",
       "            <tr>\n",
       "                        <th id=\"T_50d4e224_15f3_11eb_9a15_00e0201808a0level0_row10\" class=\"row_heading level0 row10\" >Mean</th>\n",
       "                        <td id=\"T_50d4e224_15f3_11eb_9a15_00e0201808a0row10_col0\" class=\"data row10 col0\" >0.8630</td>\n",
       "                        <td id=\"T_50d4e224_15f3_11eb_9a15_00e0201808a0row10_col1\" class=\"data row10 col1\" >0.9219</td>\n",
       "                        <td id=\"T_50d4e224_15f3_11eb_9a15_00e0201808a0row10_col2\" class=\"data row10 col2\" >0.6445</td>\n",
       "                        <td id=\"T_50d4e224_15f3_11eb_9a15_00e0201808a0row10_col3\" class=\"data row10 col3\" >0.7539</td>\n",
       "                        <td id=\"T_50d4e224_15f3_11eb_9a15_00e0201808a0row10_col4\" class=\"data row10 col4\" >0.6946</td>\n",
       "                        <td id=\"T_50d4e224_15f3_11eb_9a15_00e0201808a0row10_col5\" class=\"data row10 col5\" >0.6070</td>\n",
       "                        <td id=\"T_50d4e224_15f3_11eb_9a15_00e0201808a0row10_col6\" class=\"data row10 col6\" >0.6103</td>\n",
       "            </tr>\n",
       "            <tr>\n",
       "                        <th id=\"T_50d4e224_15f3_11eb_9a15_00e0201808a0level0_row11\" class=\"row_heading level0 row11\" >SD</th>\n",
       "                        <td id=\"T_50d4e224_15f3_11eb_9a15_00e0201808a0row11_col0\" class=\"data row11 col0\" >0.0094</td>\n",
       "                        <td id=\"T_50d4e224_15f3_11eb_9a15_00e0201808a0row11_col1\" class=\"data row11 col1\" >0.0081</td>\n",
       "                        <td id=\"T_50d4e224_15f3_11eb_9a15_00e0201808a0row11_col2\" class=\"data row11 col2\" >0.0290</td>\n",
       "                        <td id=\"T_50d4e224_15f3_11eb_9a15_00e0201808a0row11_col3\" class=\"data row11 col3\" >0.0237</td>\n",
       "                        <td id=\"T_50d4e224_15f3_11eb_9a15_00e0201808a0row11_col4\" class=\"data row11 col4\" >0.0230</td>\n",
       "                        <td id=\"T_50d4e224_15f3_11eb_9a15_00e0201808a0row11_col5\" class=\"data row11 col5\" >0.0286</td>\n",
       "                        <td id=\"T_50d4e224_15f3_11eb_9a15_00e0201808a0row11_col6\" class=\"data row11 col6\" >0.0283</td>\n",
       "            </tr>\n",
       "    </tbody></table>"
      ],
      "text/plain": [
       "<pandas.io.formats.style.Styler at 0x17546df8608>"
      ]
     },
     "metadata": {},
     "output_type": "display_data"
    }
   ],
   "source": [
    "xgboost = create_model('xgboost')"
   ]
  },
  {
   "cell_type": "code",
   "execution_count": 47,
   "metadata": {},
   "outputs": [
    {
     "data": {
      "image/png": "[encoded data removed]",
      "text/plain": [
       "<Figure size 800x500 with 1 Axes>"
      ]
     },
     "metadata": {
      "needs_background": "light"
     },
     "output_type": "display_data"
    }
   ],
   "source": [
    "plot_model(estimator = xgboost, plot = 'feature')"
   ]
  },
  {
   "cell_type": "code",
   "execution_count": null,
   "metadata": {},
   "outputs": [],
   "source": []
  },
  {
   "cell_type": "code",
   "execution_count": 48,
   "metadata": {
    "scrolled": true
   },
   "outputs": [
    {
     "data": {
      "text/html": [
       "<style  type=\"text/css\" >\n",
       "#T_53ed5d88_15f3_11eb_b29c_00e0201808a0row10_col0,#T_53ed5d88_15f3_11eb_b29c_00e0201808a0row10_col1,#T_53ed5d88_15f3_11eb_b29c_00e0201808a0row10_col2,#T_53ed5d88_15f3_11eb_b29c_00e0201808a0row10_col3,#T_53ed5d88_15f3_11eb_b29c_00e0201808a0row10_col4,#T_53ed5d88_15f3_11eb_b29c_00e0201808a0row10_col5,#T_53ed5d88_15f3_11eb_b29c_00e0201808a0row10_col6{\n",
       "            background:  yellow;\n",
       "        }</style><table id=\"T_53ed5d88_15f3_11eb_b29c_00e0201808a0\" ><thead>    <tr>        <th class=\"blank level0\" ></th>        <th class=\"col_heading level0 col0\" >Accuracy</th>        <th class=\"col_heading level0 col1\" >AUC</th>        <th class=\"col_heading level0 col2\" >Recall</th>        <th class=\"col_heading level0 col3\" >Prec.</th>        <th class=\"col_heading level0 col4\" >F1</th>        <th class=\"col_heading level0 col5\" >Kappa</th>        <th class=\"col_heading level0 col6\" >MCC</th>    </tr></thead><tbody>\n",
       "                <tr>\n",
       "                        <th id=\"T_53ed5d88_15f3_11eb_b29c_00e0201808a0level0_row0\" class=\"row_heading level0 row0\" >0</th>\n",
       "                        <td id=\"T_53ed5d88_15f3_11eb_b29c_00e0201808a0row0_col0\" class=\"data row0 col0\" >0.8614</td>\n",
       "                        <td id=\"T_53ed5d88_15f3_11eb_b29c_00e0201808a0row0_col1\" class=\"data row0 col1\" >0.9205</td>\n",
       "                        <td id=\"T_53ed5d88_15f3_11eb_b29c_00e0201808a0row0_col2\" class=\"data row0 col2\" >0.6311</td>\n",
       "                        <td id=\"T_53ed5d88_15f3_11eb_b29c_00e0201808a0row0_col3\" class=\"data row0 col3\" >0.7558</td>\n",
       "                        <td id=\"T_53ed5d88_15f3_11eb_b29c_00e0201808a0row0_col4\" class=\"data row0 col4\" >0.6878</td>\n",
       "                        <td id=\"T_53ed5d88_15f3_11eb_b29c_00e0201808a0row0_col5\" class=\"data row0 col5\" >0.5997</td>\n",
       "                        <td id=\"T_53ed5d88_15f3_11eb_b29c_00e0201808a0row0_col6\" class=\"data row0 col6\" >0.6037</td>\n",
       "            </tr>\n",
       "            <tr>\n",
       "                        <th id=\"T_53ed5d88_15f3_11eb_b29c_00e0201808a0level0_row1\" class=\"row_heading level0 row1\" >1</th>\n",
       "                        <td id=\"T_53ed5d88_15f3_11eb_b29c_00e0201808a0row1_col0\" class=\"data row1 col0\" >0.8653</td>\n",
       "                        <td id=\"T_53ed5d88_15f3_11eb_b29c_00e0201808a0row1_col1\" class=\"data row1 col1\" >0.9163</td>\n",
       "                        <td id=\"T_53ed5d88_15f3_11eb_b29c_00e0201808a0row1_col2\" class=\"data row1 col2\" >0.6699</td>\n",
       "                        <td id=\"T_53ed5d88_15f3_11eb_b29c_00e0201808a0row1_col3\" class=\"data row1 col3\" >0.7473</td>\n",
       "                        <td id=\"T_53ed5d88_15f3_11eb_b29c_00e0201808a0row1_col4\" class=\"data row1 col4\" >0.7065</td>\n",
       "                        <td id=\"T_53ed5d88_15f3_11eb_b29c_00e0201808a0row1_col5\" class=\"data row1 col5\" >0.6194</td>\n",
       "                        <td id=\"T_53ed5d88_15f3_11eb_b29c_00e0201808a0row1_col6\" class=\"data row1 col6\" >0.6210</td>\n",
       "            </tr>\n",
       "            <tr>\n",
       "                        <th id=\"T_53ed5d88_15f3_11eb_b29c_00e0201808a0level0_row2\" class=\"row_heading level0 row2\" >2</th>\n",
       "                        <td id=\"T_53ed5d88_15f3_11eb_b29c_00e0201808a0row2_col0\" class=\"data row2 col0\" >0.8614</td>\n",
       "                        <td id=\"T_53ed5d88_15f3_11eb_b29c_00e0201808a0row2_col1\" class=\"data row2 col1\" >0.9223</td>\n",
       "                        <td id=\"T_53ed5d88_15f3_11eb_b29c_00e0201808a0row2_col2\" class=\"data row2 col2\" >0.6861</td>\n",
       "                        <td id=\"T_53ed5d88_15f3_11eb_b29c_00e0201808a0row2_col3\" class=\"data row2 col3\" >0.7260</td>\n",
       "                        <td id=\"T_53ed5d88_15f3_11eb_b29c_00e0201808a0row2_col4\" class=\"data row2 col4\" >0.7055</td>\n",
       "                        <td id=\"T_53ed5d88_15f3_11eb_b29c_00e0201808a0row2_col5\" class=\"data row2 col5\" >0.6150</td>\n",
       "                        <td id=\"T_53ed5d88_15f3_11eb_b29c_00e0201808a0row2_col6\" class=\"data row2 col6\" >0.6154</td>\n",
       "            </tr>\n",
       "            <tr>\n",
       "                        <th id=\"T_53ed5d88_15f3_11eb_b29c_00e0201808a0level0_row3\" class=\"row_heading level0 row3\" >3</th>\n",
       "                        <td id=\"T_53ed5d88_15f3_11eb_b29c_00e0201808a0row3_col0\" class=\"data row3 col0\" >0.8558</td>\n",
       "                        <td id=\"T_53ed5d88_15f3_11eb_b29c_00e0201808a0row3_col1\" class=\"data row3 col1\" >0.9128</td>\n",
       "                        <td id=\"T_53ed5d88_15f3_11eb_b29c_00e0201808a0row3_col2\" class=\"data row3 col2\" >0.6201</td>\n",
       "                        <td id=\"T_53ed5d88_15f3_11eb_b29c_00e0201808a0row3_col3\" class=\"data row3 col3\" >0.7403</td>\n",
       "                        <td id=\"T_53ed5d88_15f3_11eb_b29c_00e0201808a0row3_col4\" class=\"data row3 col4\" >0.6749</td>\n",
       "                        <td id=\"T_53ed5d88_15f3_11eb_b29c_00e0201808a0row3_col5\" class=\"data row3 col5\" >0.5832</td>\n",
       "                        <td id=\"T_53ed5d88_15f3_11eb_b29c_00e0201808a0row3_col6\" class=\"data row3 col6\" >0.5870</td>\n",
       "            </tr>\n",
       "            <tr>\n",
       "                        <th id=\"T_53ed5d88_15f3_11eb_b29c_00e0201808a0level0_row4\" class=\"row_heading level0 row4\" >4</th>\n",
       "                        <td id=\"T_53ed5d88_15f3_11eb_b29c_00e0201808a0row4_col0\" class=\"data row4 col0\" >0.8550</td>\n",
       "                        <td id=\"T_53ed5d88_15f3_11eb_b29c_00e0201808a0row4_col1\" class=\"data row4 col1\" >0.9106</td>\n",
       "                        <td id=\"T_53ed5d88_15f3_11eb_b29c_00e0201808a0row4_col2\" class=\"data row4 col2\" >0.6117</td>\n",
       "                        <td id=\"T_53ed5d88_15f3_11eb_b29c_00e0201808a0row4_col3\" class=\"data row4 col3\" >0.7441</td>\n",
       "                        <td id=\"T_53ed5d88_15f3_11eb_b29c_00e0201808a0row4_col4\" class=\"data row4 col4\" >0.6714</td>\n",
       "                        <td id=\"T_53ed5d88_15f3_11eb_b29c_00e0201808a0row4_col5\" class=\"data row4 col5\" >0.5795</td>\n",
       "                        <td id=\"T_53ed5d88_15f3_11eb_b29c_00e0201808a0row4_col6\" class=\"data row4 col6\" >0.5841</td>\n",
       "            </tr>\n",
       "            <tr>\n",
       "                        <th id=\"T_53ed5d88_15f3_11eb_b29c_00e0201808a0level0_row5\" class=\"row_heading level0 row5\" >5</th>\n",
       "                        <td id=\"T_53ed5d88_15f3_11eb_b29c_00e0201808a0row5_col0\" class=\"data row5 col0\" >0.8707</td>\n",
       "                        <td id=\"T_53ed5d88_15f3_11eb_b29c_00e0201808a0row5_col1\" class=\"data row5 col1\" >0.9319</td>\n",
       "                        <td id=\"T_53ed5d88_15f3_11eb_b29c_00e0201808a0row5_col2\" class=\"data row5 col2\" >0.6570</td>\n",
       "                        <td id=\"T_53ed5d88_15f3_11eb_b29c_00e0201808a0row5_col3\" class=\"data row5 col3\" >0.7748</td>\n",
       "                        <td id=\"T_53ed5d88_15f3_11eb_b29c_00e0201808a0row5_col4\" class=\"data row5 col4\" >0.7110</td>\n",
       "                        <td id=\"T_53ed5d88_15f3_11eb_b29c_00e0201808a0row5_col5\" class=\"data row5 col5\" >0.6285</td>\n",
       "                        <td id=\"T_53ed5d88_15f3_11eb_b29c_00e0201808a0row5_col6\" class=\"data row5 col6\" >0.6320</td>\n",
       "            </tr>\n",
       "            <tr>\n",
       "                        <th id=\"T_53ed5d88_15f3_11eb_b29c_00e0201808a0level0_row6\" class=\"row_heading level0 row6\" >6</th>\n",
       "                        <td id=\"T_53ed5d88_15f3_11eb_b29c_00e0201808a0row6_col0\" class=\"data row6 col0\" >0.8746</td>\n",
       "                        <td id=\"T_53ed5d88_15f3_11eb_b29c_00e0201808a0row6_col1\" class=\"data row6 col1\" >0.9340</td>\n",
       "                        <td id=\"T_53ed5d88_15f3_11eb_b29c_00e0201808a0row6_col2\" class=\"data row6 col2\" >0.6602</td>\n",
       "                        <td id=\"T_53ed5d88_15f3_11eb_b29c_00e0201808a0row6_col3\" class=\"data row6 col3\" >0.7876</td>\n",
       "                        <td id=\"T_53ed5d88_15f3_11eb_b29c_00e0201808a0row6_col4\" class=\"data row6 col4\" >0.7183</td>\n",
       "                        <td id=\"T_53ed5d88_15f3_11eb_b29c_00e0201808a0row6_col5\" class=\"data row6 col5\" >0.6385</td>\n",
       "                        <td id=\"T_53ed5d88_15f3_11eb_b29c_00e0201808a0row6_col6\" class=\"data row6 col6\" >0.6426</td>\n",
       "            </tr>\n",
       "            <tr>\n",
       "                        <th id=\"T_53ed5d88_15f3_11eb_b29c_00e0201808a0level0_row7\" class=\"row_heading level0 row7\" >7</th>\n",
       "                        <td id=\"T_53ed5d88_15f3_11eb_b29c_00e0201808a0row7_col0\" class=\"data row7 col0\" >0.8613</td>\n",
       "                        <td id=\"T_53ed5d88_15f3_11eb_b29c_00e0201808a0row7_col1\" class=\"data row7 col1\" >0.9198</td>\n",
       "                        <td id=\"T_53ed5d88_15f3_11eb_b29c_00e0201808a0row7_col2\" class=\"data row7 col2\" >0.6408</td>\n",
       "                        <td id=\"T_53ed5d88_15f3_11eb_b29c_00e0201808a0row7_col3\" class=\"data row7 col3\" >0.7500</td>\n",
       "                        <td id=\"T_53ed5d88_15f3_11eb_b29c_00e0201808a0row7_col4\" class=\"data row7 col4\" >0.6911</td>\n",
       "                        <td id=\"T_53ed5d88_15f3_11eb_b29c_00e0201808a0row7_col5\" class=\"data row7 col5\" >0.6024</td>\n",
       "                        <td id=\"T_53ed5d88_15f3_11eb_b29c_00e0201808a0row7_col6\" class=\"data row7 col6\" >0.6055</td>\n",
       "            </tr>\n",
       "            <tr>\n",
       "                        <th id=\"T_53ed5d88_15f3_11eb_b29c_00e0201808a0level0_row8\" class=\"row_heading level0 row8\" >8</th>\n",
       "                        <td id=\"T_53ed5d88_15f3_11eb_b29c_00e0201808a0row8_col0\" class=\"data row8 col0\" >0.8652</td>\n",
       "                        <td id=\"T_53ed5d88_15f3_11eb_b29c_00e0201808a0row8_col1\" class=\"data row8 col1\" >0.9260</td>\n",
       "                        <td id=\"T_53ed5d88_15f3_11eb_b29c_00e0201808a0row8_col2\" class=\"data row8 col2\" >0.6375</td>\n",
       "                        <td id=\"T_53ed5d88_15f3_11eb_b29c_00e0201808a0row8_col3\" class=\"data row8 col3\" >0.7665</td>\n",
       "                        <td id=\"T_53ed5d88_15f3_11eb_b29c_00e0201808a0row8_col4\" class=\"data row8 col4\" >0.6961</td>\n",
       "                        <td id=\"T_53ed5d88_15f3_11eb_b29c_00e0201808a0row8_col5\" class=\"data row8 col5\" >0.6104</td>\n",
       "                        <td id=\"T_53ed5d88_15f3_11eb_b29c_00e0201808a0row8_col6\" class=\"data row8 col6\" >0.6147</td>\n",
       "            </tr>\n",
       "            <tr>\n",
       "                        <th id=\"T_53ed5d88_15f3_11eb_b29c_00e0201808a0level0_row9\" class=\"row_heading level0 row9\" >9</th>\n",
       "                        <td id=\"T_53ed5d88_15f3_11eb_b29c_00e0201808a0row9_col0\" class=\"data row9 col0\" >0.8762</td>\n",
       "                        <td id=\"T_53ed5d88_15f3_11eb_b29c_00e0201808a0row9_col1\" class=\"data row9 col1\" >0.9217</td>\n",
       "                        <td id=\"T_53ed5d88_15f3_11eb_b29c_00e0201808a0row9_col2\" class=\"data row9 col2\" >0.6828</td>\n",
       "                        <td id=\"T_53ed5d88_15f3_11eb_b29c_00e0201808a0row9_col3\" class=\"data row9 col3\" >0.7786</td>\n",
       "                        <td id=\"T_53ed5d88_15f3_11eb_b29c_00e0201808a0row9_col4\" class=\"data row9 col4\" >0.7276</td>\n",
       "                        <td id=\"T_53ed5d88_15f3_11eb_b29c_00e0201808a0row9_col5\" class=\"data row9 col5\" >0.6479</td>\n",
       "                        <td id=\"T_53ed5d88_15f3_11eb_b29c_00e0201808a0row9_col6\" class=\"data row9 col6\" >0.6502</td>\n",
       "            </tr>\n",
       "            <tr>\n",
       "                        <th id=\"T_53ed5d88_15f3_11eb_b29c_00e0201808a0level0_row10\" class=\"row_heading level0 row10\" >Mean</th>\n",
       "                        <td id=\"T_53ed5d88_15f3_11eb_b29c_00e0201808a0row10_col0\" class=\"data row10 col0\" >0.8647</td>\n",
       "                        <td id=\"T_53ed5d88_15f3_11eb_b29c_00e0201808a0row10_col1\" class=\"data row10 col1\" >0.9216</td>\n",
       "                        <td id=\"T_53ed5d88_15f3_11eb_b29c_00e0201808a0row10_col2\" class=\"data row10 col2\" >0.6497</td>\n",
       "                        <td id=\"T_53ed5d88_15f3_11eb_b29c_00e0201808a0row10_col3\" class=\"data row10 col3\" >0.7571</td>\n",
       "                        <td id=\"T_53ed5d88_15f3_11eb_b29c_00e0201808a0row10_col4\" class=\"data row10 col4\" >0.6990</td>\n",
       "                        <td id=\"T_53ed5d88_15f3_11eb_b29c_00e0201808a0row10_col5\" class=\"data row10 col5\" >0.6124</td>\n",
       "                        <td id=\"T_53ed5d88_15f3_11eb_b29c_00e0201808a0row10_col6\" class=\"data row10 col6\" >0.6156</td>\n",
       "            </tr>\n",
       "            <tr>\n",
       "                        <th id=\"T_53ed5d88_15f3_11eb_b29c_00e0201808a0level0_row11\" class=\"row_heading level0 row11\" >SD</th>\n",
       "                        <td id=\"T_53ed5d88_15f3_11eb_b29c_00e0201808a0row11_col0\" class=\"data row11 col0\" >0.0069</td>\n",
       "                        <td id=\"T_53ed5d88_15f3_11eb_b29c_00e0201808a0row11_col1\" class=\"data row11 col1\" >0.0072</td>\n",
       "                        <td id=\"T_53ed5d88_15f3_11eb_b29c_00e0201808a0row11_col2\" class=\"data row11 col2\" >0.0243</td>\n",
       "                        <td id=\"T_53ed5d88_15f3_11eb_b29c_00e0201808a0row11_col3\" class=\"data row11 col3\" >0.0183</td>\n",
       "                        <td id=\"T_53ed5d88_15f3_11eb_b29c_00e0201808a0row11_col4\" class=\"data row11 col4\" >0.0172</td>\n",
       "                        <td id=\"T_53ed5d88_15f3_11eb_b29c_00e0201808a0row11_col5\" class=\"data row11 col5\" >0.0211</td>\n",
       "                        <td id=\"T_53ed5d88_15f3_11eb_b29c_00e0201808a0row11_col6\" class=\"data row11 col6\" >0.0207</td>\n",
       "            </tr>\n",
       "    </tbody></table>"
      ],
      "text/plain": [
       "<pandas.io.formats.style.Styler at 0x17552365f48>"
      ]
     },
     "metadata": {},
     "output_type": "display_data"
    }
   ],
   "source": [
    "lightgbm = create_model('lightgbm')"
   ]
  },
  {
   "cell_type": "code",
   "execution_count": 49,
   "metadata": {},
   "outputs": [
    {
     "data": {
      "image/png": "[encoded data removed]",
      "text/plain": [
       "<Figure size 800x500 with 1 Axes>"
      ]
     },
     "metadata": {
      "needs_background": "light"
     },
     "output_type": "display_data"
    }
   ],
   "source": [
    "plot_model(estimator = lightgbm, plot = 'feature')"
   ]
  },
  {
   "cell_type": "code",
   "execution_count": null,
   "metadata": {},
   "outputs": [],
   "source": []
  }
 ],
 "metadata": {
  "kernelspec": {
   "display_name": "Python 3",
   "language": "python",
   "name": "python3"
  },
  "language_info": {
   "codemirror_mode": {
    "name": "ipython",
    "version": 3
   },
   "file_extension": ".py",
   "mimetype": "text/x-python",
   "name": "python",
   "nbconvert_exporter": "python",
   "pygments_lexer": "ipython3",
   "version": "3.7.6"
  }
 },
 "nbformat": 4,
 "nbformat_minor": 4
}
