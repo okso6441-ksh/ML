{
 "cells": [
  {
   "cell_type": "code",
   "execution_count": 1,
   "metadata": {},
   "outputs": [],
   "source": [
    "import numpy as np\n",
    "import pandas as pd\n",
    "import matplotlib.pyplot as plt\n",
    "import seaborn as sns\n",
    "import warnings\n",
    "warnings.filterwarnings('ignore')\n",
    "%matplotlib inline\n",
    "\n",
    "from IPython.core.interactiveshell import InteractiveShell\n",
    "InteractiveShell.ast_node_interactivity = \"all\"\n",
    "\n",
    "from sklearn.preprocessing import PolynomialFeatures\n",
    "\n",
    "from sklearn.model_selection import train_test_split\n",
    "import lightgbm as lgbm\n",
    "from sklearn.metrics import confusion_matrix, accuracy_score\n",
    "from pycaret.classification import *"
   ]
  },
  {
   "cell_type": "code",
   "execution_count": 2,
   "metadata": {},
   "outputs": [],
   "source": [
    "seed = 42\n",
    "np.random.seed(seed)\n",
    "set_config('seed', seed)"
   ]
  },
  {
   "cell_type": "code",
   "execution_count": null,
   "metadata": {},
   "outputs": [],
   "source": []
  },
  {
   "cell_type": "markdown",
   "metadata": {},
   "source": [
    "# 1. 데이터 로드"
   ]
  },
  {
   "cell_type": "code",
   "execution_count": 3,
   "metadata": {},
   "outputs": [],
   "source": [
    "train=pd.read_csv('input/train.csv', index_col=0) #인덱스 col=0도 check!\n",
    "test=pd.read_csv('input/test.csv', index_col=0)\n",
    "submission=pd.read_csv('input/sample_submission.csv', index_col=0)  "
   ]
  },
  {
   "cell_type": "code",
   "execution_count": 4,
   "metadata": {},
   "outputs": [],
   "source": [
    "train['income']=pd.factorize(train['income'], sort=True)[0]"
   ]
  },
  {
   "cell_type": "code",
   "execution_count": null,
   "metadata": {},
   "outputs": [],
   "source": [
    "train.shape, test.shape"
   ]
  },
  {
   "cell_type": "code",
   "execution_count": null,
   "metadata": {},
   "outputs": [],
   "source": [
    "train.head(3)\n",
    "test.head(3)"
   ]
  },
  {
   "cell_type": "markdown",
   "metadata": {},
   "source": [
    "# 2. EDA & 전처리"
   ]
  },
  {
   "cell_type": "code",
   "execution_count": null,
   "metadata": {},
   "outputs": [],
   "source": [
    "train.info()\n",
    "train.describe()\n",
    "train.describe(include='O')"
   ]
  },
  {
   "cell_type": "code",
   "execution_count": null,
   "metadata": {},
   "outputs": [],
   "source": []
  },
  {
   "cell_type": "code",
   "execution_count": null,
   "metadata": {},
   "outputs": [],
   "source": [
    "df = pd.concat([train, test])\n",
    "df.shape"
   ]
  },
  {
   "cell_type": "code",
   "execution_count": null,
   "metadata": {},
   "outputs": [],
   "source": [
    "train.info"
   ]
  },
  {
   "cell_type": "markdown",
   "metadata": {},
   "source": [
    "## Missing Value"
   ]
  },
  {
   "cell_type": "code",
   "execution_count": null,
   "metadata": {},
   "outputs": [],
   "source": [
    "train.isnull().sum().sum()\n",
    "test.isnull().sum().sum()"
   ]
  },
  {
   "cell_type": "code",
   "execution_count": null,
   "metadata": {},
   "outputs": [],
   "source": []
  },
  {
   "cell_type": "markdown",
   "metadata": {},
   "source": [
    "## CovariateShift"
   ]
  },
  {
   "cell_type": "code",
   "execution_count": null,
   "metadata": {},
   "outputs": [],
   "source": []
  },
  {
   "cell_type": "code",
   "execution_count": null,
   "metadata": {},
   "outputs": [],
   "source": []
  },
  {
   "cell_type": "markdown",
   "metadata": {},
   "source": [
    "### outlier"
   ]
  },
  {
   "cell_type": "code",
   "execution_count": 5,
   "metadata": {},
   "outputs": [],
   "source": [
    "train.drop(['education'],axis=1, inplace=True)\n",
    "test.drop(['education'],axis=1, inplace=True)"
   ]
  },
  {
   "cell_type": "code",
   "execution_count": null,
   "metadata": {},
   "outputs": [],
   "source": []
  },
  {
   "cell_type": "code",
   "execution_count": null,
   "metadata": {},
   "outputs": [],
   "source": []
  },
  {
   "cell_type": "markdown",
   "metadata": {},
   "source": [
    "# 3. 모델 학습"
   ]
  },
  {
   "cell_type": "code",
   "execution_count": null,
   "metadata": {},
   "outputs": [],
   "source": [
    "import gc\n",
    "gc.collect()"
   ]
  },
  {
   "cell_type": "code",
   "execution_count": null,
   "metadata": {},
   "outputs": [],
   "source": [
    "train.columns"
   ]
  },
  {
   "cell_type": "code",
   "execution_count": null,
   "metadata": {},
   "outputs": [],
   "source": []
  },
  {
   "cell_type": "code",
   "execution_count": 6,
   "metadata": {
    "scrolled": false
   },
   "outputs": [
    {
     "name": "stdout",
     "output_type": "stream",
     "text": [
      "Setup Succesfully Completed!\n"
     ]
    },
    {
     "data": {
      "text/html": [
       "<style  type=\"text/css\" >\n",
       "</style><table id=\"T_889c6300_0ee5_11eb_8267_00e0201808a0\" ><thead>    <tr>        <th class=\"blank level0\" ></th>        <th class=\"col_heading level0 col0\" >Description</th>        <th class=\"col_heading level0 col1\" >Value</th>    </tr></thead><tbody>\n",
       "                <tr>\n",
       "                        <th id=\"T_889c6300_0ee5_11eb_8267_00e0201808a0level0_row0\" class=\"row_heading level0 row0\" >0</th>\n",
       "                        <td id=\"T_889c6300_0ee5_11eb_8267_00e0201808a0row0_col0\" class=\"data row0 col0\" >session_id</td>\n",
       "                        <td id=\"T_889c6300_0ee5_11eb_8267_00e0201808a0row0_col1\" class=\"data row0 col1\" >42</td>\n",
       "            </tr>\n",
       "            <tr>\n",
       "                        <th id=\"T_889c6300_0ee5_11eb_8267_00e0201808a0level0_row1\" class=\"row_heading level0 row1\" >1</th>\n",
       "                        <td id=\"T_889c6300_0ee5_11eb_8267_00e0201808a0row1_col0\" class=\"data row1 col0\" >Target Type</td>\n",
       "                        <td id=\"T_889c6300_0ee5_11eb_8267_00e0201808a0row1_col1\" class=\"data row1 col1\" >Binary</td>\n",
       "            </tr>\n",
       "            <tr>\n",
       "                        <th id=\"T_889c6300_0ee5_11eb_8267_00e0201808a0level0_row2\" class=\"row_heading level0 row2\" >2</th>\n",
       "                        <td id=\"T_889c6300_0ee5_11eb_8267_00e0201808a0row2_col0\" class=\"data row2 col0\" >Label Encoded</td>\n",
       "                        <td id=\"T_889c6300_0ee5_11eb_8267_00e0201808a0row2_col1\" class=\"data row2 col1\" >0: 0, 1: 1</td>\n",
       "            </tr>\n",
       "            <tr>\n",
       "                        <th id=\"T_889c6300_0ee5_11eb_8267_00e0201808a0level0_row3\" class=\"row_heading level0 row3\" >3</th>\n",
       "                        <td id=\"T_889c6300_0ee5_11eb_8267_00e0201808a0row3_col0\" class=\"data row3 col0\" >Original Data</td>\n",
       "                        <td id=\"T_889c6300_0ee5_11eb_8267_00e0201808a0row3_col1\" class=\"data row3 col1\" >(26049, 14)</td>\n",
       "            </tr>\n",
       "            <tr>\n",
       "                        <th id=\"T_889c6300_0ee5_11eb_8267_00e0201808a0level0_row4\" class=\"row_heading level0 row4\" >4</th>\n",
       "                        <td id=\"T_889c6300_0ee5_11eb_8267_00e0201808a0row4_col0\" class=\"data row4 col0\" >Missing Values </td>\n",
       "                        <td id=\"T_889c6300_0ee5_11eb_8267_00e0201808a0row4_col1\" class=\"data row4 col1\" >False</td>\n",
       "            </tr>\n",
       "            <tr>\n",
       "                        <th id=\"T_889c6300_0ee5_11eb_8267_00e0201808a0level0_row5\" class=\"row_heading level0 row5\" >5</th>\n",
       "                        <td id=\"T_889c6300_0ee5_11eb_8267_00e0201808a0row5_col0\" class=\"data row5 col0\" >Numeric Features </td>\n",
       "                        <td id=\"T_889c6300_0ee5_11eb_8267_00e0201808a0row5_col1\" class=\"data row5 col1\" >6</td>\n",
       "            </tr>\n",
       "            <tr>\n",
       "                        <th id=\"T_889c6300_0ee5_11eb_8267_00e0201808a0level0_row6\" class=\"row_heading level0 row6\" >6</th>\n",
       "                        <td id=\"T_889c6300_0ee5_11eb_8267_00e0201808a0row6_col0\" class=\"data row6 col0\" >Categorical Features </td>\n",
       "                        <td id=\"T_889c6300_0ee5_11eb_8267_00e0201808a0row6_col1\" class=\"data row6 col1\" >7</td>\n",
       "            </tr>\n",
       "            <tr>\n",
       "                        <th id=\"T_889c6300_0ee5_11eb_8267_00e0201808a0level0_row7\" class=\"row_heading level0 row7\" >7</th>\n",
       "                        <td id=\"T_889c6300_0ee5_11eb_8267_00e0201808a0row7_col0\" class=\"data row7 col0\" >Ordinal Features </td>\n",
       "                        <td id=\"T_889c6300_0ee5_11eb_8267_00e0201808a0row7_col1\" class=\"data row7 col1\" >False</td>\n",
       "            </tr>\n",
       "            <tr>\n",
       "                        <th id=\"T_889c6300_0ee5_11eb_8267_00e0201808a0level0_row8\" class=\"row_heading level0 row8\" >8</th>\n",
       "                        <td id=\"T_889c6300_0ee5_11eb_8267_00e0201808a0row8_col0\" class=\"data row8 col0\" >High Cardinality Features </td>\n",
       "                        <td id=\"T_889c6300_0ee5_11eb_8267_00e0201808a0row8_col1\" class=\"data row8 col1\" >False</td>\n",
       "            </tr>\n",
       "            <tr>\n",
       "                        <th id=\"T_889c6300_0ee5_11eb_8267_00e0201808a0level0_row9\" class=\"row_heading level0 row9\" >9</th>\n",
       "                        <td id=\"T_889c6300_0ee5_11eb_8267_00e0201808a0row9_col0\" class=\"data row9 col0\" >High Cardinality Method </td>\n",
       "                        <td id=\"T_889c6300_0ee5_11eb_8267_00e0201808a0row9_col1\" class=\"data row9 col1\" >None</td>\n",
       "            </tr>\n",
       "            <tr>\n",
       "                        <th id=\"T_889c6300_0ee5_11eb_8267_00e0201808a0level0_row10\" class=\"row_heading level0 row10\" >10</th>\n",
       "                        <td id=\"T_889c6300_0ee5_11eb_8267_00e0201808a0row10_col0\" class=\"data row10 col0\" >Sampled Data</td>\n",
       "                        <td id=\"T_889c6300_0ee5_11eb_8267_00e0201808a0row10_col1\" class=\"data row10 col1\" >(18234, 14)</td>\n",
       "            </tr>\n",
       "            <tr>\n",
       "                        <th id=\"T_889c6300_0ee5_11eb_8267_00e0201808a0level0_row11\" class=\"row_heading level0 row11\" >11</th>\n",
       "                        <td id=\"T_889c6300_0ee5_11eb_8267_00e0201808a0row11_col0\" class=\"data row11 col0\" >Transformed Train Set</td>\n",
       "                        <td id=\"T_889c6300_0ee5_11eb_8267_00e0201808a0row11_col1\" class=\"data row11 col1\" >(12763, 91)</td>\n",
       "            </tr>\n",
       "            <tr>\n",
       "                        <th id=\"T_889c6300_0ee5_11eb_8267_00e0201808a0level0_row12\" class=\"row_heading level0 row12\" >12</th>\n",
       "                        <td id=\"T_889c6300_0ee5_11eb_8267_00e0201808a0row12_col0\" class=\"data row12 col0\" >Transformed Test Set</td>\n",
       "                        <td id=\"T_889c6300_0ee5_11eb_8267_00e0201808a0row12_col1\" class=\"data row12 col1\" >(5471, 91)</td>\n",
       "            </tr>\n",
       "            <tr>\n",
       "                        <th id=\"T_889c6300_0ee5_11eb_8267_00e0201808a0level0_row13\" class=\"row_heading level0 row13\" >13</th>\n",
       "                        <td id=\"T_889c6300_0ee5_11eb_8267_00e0201808a0row13_col0\" class=\"data row13 col0\" >Numeric Imputer </td>\n",
       "                        <td id=\"T_889c6300_0ee5_11eb_8267_00e0201808a0row13_col1\" class=\"data row13 col1\" >mean</td>\n",
       "            </tr>\n",
       "            <tr>\n",
       "                        <th id=\"T_889c6300_0ee5_11eb_8267_00e0201808a0level0_row14\" class=\"row_heading level0 row14\" >14</th>\n",
       "                        <td id=\"T_889c6300_0ee5_11eb_8267_00e0201808a0row14_col0\" class=\"data row14 col0\" >Categorical Imputer </td>\n",
       "                        <td id=\"T_889c6300_0ee5_11eb_8267_00e0201808a0row14_col1\" class=\"data row14 col1\" >constant</td>\n",
       "            </tr>\n",
       "            <tr>\n",
       "                        <th id=\"T_889c6300_0ee5_11eb_8267_00e0201808a0level0_row15\" class=\"row_heading level0 row15\" >15</th>\n",
       "                        <td id=\"T_889c6300_0ee5_11eb_8267_00e0201808a0row15_col0\" class=\"data row15 col0\" >Normalize </td>\n",
       "                        <td id=\"T_889c6300_0ee5_11eb_8267_00e0201808a0row15_col1\" class=\"data row15 col1\" >False</td>\n",
       "            </tr>\n",
       "            <tr>\n",
       "                        <th id=\"T_889c6300_0ee5_11eb_8267_00e0201808a0level0_row16\" class=\"row_heading level0 row16\" >16</th>\n",
       "                        <td id=\"T_889c6300_0ee5_11eb_8267_00e0201808a0row16_col0\" class=\"data row16 col0\" >Normalize Method </td>\n",
       "                        <td id=\"T_889c6300_0ee5_11eb_8267_00e0201808a0row16_col1\" class=\"data row16 col1\" >None</td>\n",
       "            </tr>\n",
       "            <tr>\n",
       "                        <th id=\"T_889c6300_0ee5_11eb_8267_00e0201808a0level0_row17\" class=\"row_heading level0 row17\" >17</th>\n",
       "                        <td id=\"T_889c6300_0ee5_11eb_8267_00e0201808a0row17_col0\" class=\"data row17 col0\" >Transformation </td>\n",
       "                        <td id=\"T_889c6300_0ee5_11eb_8267_00e0201808a0row17_col1\" class=\"data row17 col1\" >False</td>\n",
       "            </tr>\n",
       "            <tr>\n",
       "                        <th id=\"T_889c6300_0ee5_11eb_8267_00e0201808a0level0_row18\" class=\"row_heading level0 row18\" >18</th>\n",
       "                        <td id=\"T_889c6300_0ee5_11eb_8267_00e0201808a0row18_col0\" class=\"data row18 col0\" >Transformation Method </td>\n",
       "                        <td id=\"T_889c6300_0ee5_11eb_8267_00e0201808a0row18_col1\" class=\"data row18 col1\" >None</td>\n",
       "            </tr>\n",
       "            <tr>\n",
       "                        <th id=\"T_889c6300_0ee5_11eb_8267_00e0201808a0level0_row19\" class=\"row_heading level0 row19\" >19</th>\n",
       "                        <td id=\"T_889c6300_0ee5_11eb_8267_00e0201808a0row19_col0\" class=\"data row19 col0\" >PCA </td>\n",
       "                        <td id=\"T_889c6300_0ee5_11eb_8267_00e0201808a0row19_col1\" class=\"data row19 col1\" >False</td>\n",
       "            </tr>\n",
       "            <tr>\n",
       "                        <th id=\"T_889c6300_0ee5_11eb_8267_00e0201808a0level0_row20\" class=\"row_heading level0 row20\" >20</th>\n",
       "                        <td id=\"T_889c6300_0ee5_11eb_8267_00e0201808a0row20_col0\" class=\"data row20 col0\" >PCA Method </td>\n",
       "                        <td id=\"T_889c6300_0ee5_11eb_8267_00e0201808a0row20_col1\" class=\"data row20 col1\" >None</td>\n",
       "            </tr>\n",
       "            <tr>\n",
       "                        <th id=\"T_889c6300_0ee5_11eb_8267_00e0201808a0level0_row21\" class=\"row_heading level0 row21\" >21</th>\n",
       "                        <td id=\"T_889c6300_0ee5_11eb_8267_00e0201808a0row21_col0\" class=\"data row21 col0\" >PCA Components </td>\n",
       "                        <td id=\"T_889c6300_0ee5_11eb_8267_00e0201808a0row21_col1\" class=\"data row21 col1\" >None</td>\n",
       "            </tr>\n",
       "            <tr>\n",
       "                        <th id=\"T_889c6300_0ee5_11eb_8267_00e0201808a0level0_row22\" class=\"row_heading level0 row22\" >22</th>\n",
       "                        <td id=\"T_889c6300_0ee5_11eb_8267_00e0201808a0row22_col0\" class=\"data row22 col0\" >Ignore Low Variance </td>\n",
       "                        <td id=\"T_889c6300_0ee5_11eb_8267_00e0201808a0row22_col1\" class=\"data row22 col1\" >False</td>\n",
       "            </tr>\n",
       "            <tr>\n",
       "                        <th id=\"T_889c6300_0ee5_11eb_8267_00e0201808a0level0_row23\" class=\"row_heading level0 row23\" >23</th>\n",
       "                        <td id=\"T_889c6300_0ee5_11eb_8267_00e0201808a0row23_col0\" class=\"data row23 col0\" >Combine Rare Levels </td>\n",
       "                        <td id=\"T_889c6300_0ee5_11eb_8267_00e0201808a0row23_col1\" class=\"data row23 col1\" >False</td>\n",
       "            </tr>\n",
       "            <tr>\n",
       "                        <th id=\"T_889c6300_0ee5_11eb_8267_00e0201808a0level0_row24\" class=\"row_heading level0 row24\" >24</th>\n",
       "                        <td id=\"T_889c6300_0ee5_11eb_8267_00e0201808a0row24_col0\" class=\"data row24 col0\" >Rare Level Threshold </td>\n",
       "                        <td id=\"T_889c6300_0ee5_11eb_8267_00e0201808a0row24_col1\" class=\"data row24 col1\" >None</td>\n",
       "            </tr>\n",
       "            <tr>\n",
       "                        <th id=\"T_889c6300_0ee5_11eb_8267_00e0201808a0level0_row25\" class=\"row_heading level0 row25\" >25</th>\n",
       "                        <td id=\"T_889c6300_0ee5_11eb_8267_00e0201808a0row25_col0\" class=\"data row25 col0\" >Numeric Binning </td>\n",
       "                        <td id=\"T_889c6300_0ee5_11eb_8267_00e0201808a0row25_col1\" class=\"data row25 col1\" >False</td>\n",
       "            </tr>\n",
       "            <tr>\n",
       "                        <th id=\"T_889c6300_0ee5_11eb_8267_00e0201808a0level0_row26\" class=\"row_heading level0 row26\" >26</th>\n",
       "                        <td id=\"T_889c6300_0ee5_11eb_8267_00e0201808a0row26_col0\" class=\"data row26 col0\" >Remove Outliers </td>\n",
       "                        <td id=\"T_889c6300_0ee5_11eb_8267_00e0201808a0row26_col1\" class=\"data row26 col1\" >False</td>\n",
       "            </tr>\n",
       "            <tr>\n",
       "                        <th id=\"T_889c6300_0ee5_11eb_8267_00e0201808a0level0_row27\" class=\"row_heading level0 row27\" >27</th>\n",
       "                        <td id=\"T_889c6300_0ee5_11eb_8267_00e0201808a0row27_col0\" class=\"data row27 col0\" >Outliers Threshold </td>\n",
       "                        <td id=\"T_889c6300_0ee5_11eb_8267_00e0201808a0row27_col1\" class=\"data row27 col1\" >None</td>\n",
       "            </tr>\n",
       "            <tr>\n",
       "                        <th id=\"T_889c6300_0ee5_11eb_8267_00e0201808a0level0_row28\" class=\"row_heading level0 row28\" >28</th>\n",
       "                        <td id=\"T_889c6300_0ee5_11eb_8267_00e0201808a0row28_col0\" class=\"data row28 col0\" >Remove Multicollinearity </td>\n",
       "                        <td id=\"T_889c6300_0ee5_11eb_8267_00e0201808a0row28_col1\" class=\"data row28 col1\" >False</td>\n",
       "            </tr>\n",
       "            <tr>\n",
       "                        <th id=\"T_889c6300_0ee5_11eb_8267_00e0201808a0level0_row29\" class=\"row_heading level0 row29\" >29</th>\n",
       "                        <td id=\"T_889c6300_0ee5_11eb_8267_00e0201808a0row29_col0\" class=\"data row29 col0\" >Multicollinearity Threshold </td>\n",
       "                        <td id=\"T_889c6300_0ee5_11eb_8267_00e0201808a0row29_col1\" class=\"data row29 col1\" >None</td>\n",
       "            </tr>\n",
       "            <tr>\n",
       "                        <th id=\"T_889c6300_0ee5_11eb_8267_00e0201808a0level0_row30\" class=\"row_heading level0 row30\" >30</th>\n",
       "                        <td id=\"T_889c6300_0ee5_11eb_8267_00e0201808a0row30_col0\" class=\"data row30 col0\" >Clustering </td>\n",
       "                        <td id=\"T_889c6300_0ee5_11eb_8267_00e0201808a0row30_col1\" class=\"data row30 col1\" >False</td>\n",
       "            </tr>\n",
       "            <tr>\n",
       "                        <th id=\"T_889c6300_0ee5_11eb_8267_00e0201808a0level0_row31\" class=\"row_heading level0 row31\" >31</th>\n",
       "                        <td id=\"T_889c6300_0ee5_11eb_8267_00e0201808a0row31_col0\" class=\"data row31 col0\" >Clustering Iteration </td>\n",
       "                        <td id=\"T_889c6300_0ee5_11eb_8267_00e0201808a0row31_col1\" class=\"data row31 col1\" >None</td>\n",
       "            </tr>\n",
       "            <tr>\n",
       "                        <th id=\"T_889c6300_0ee5_11eb_8267_00e0201808a0level0_row32\" class=\"row_heading level0 row32\" >32</th>\n",
       "                        <td id=\"T_889c6300_0ee5_11eb_8267_00e0201808a0row32_col0\" class=\"data row32 col0\" >Polynomial Features </td>\n",
       "                        <td id=\"T_889c6300_0ee5_11eb_8267_00e0201808a0row32_col1\" class=\"data row32 col1\" >False</td>\n",
       "            </tr>\n",
       "            <tr>\n",
       "                        <th id=\"T_889c6300_0ee5_11eb_8267_00e0201808a0level0_row33\" class=\"row_heading level0 row33\" >33</th>\n",
       "                        <td id=\"T_889c6300_0ee5_11eb_8267_00e0201808a0row33_col0\" class=\"data row33 col0\" >Polynomial Degree </td>\n",
       "                        <td id=\"T_889c6300_0ee5_11eb_8267_00e0201808a0row33_col1\" class=\"data row33 col1\" >None</td>\n",
       "            </tr>\n",
       "            <tr>\n",
       "                        <th id=\"T_889c6300_0ee5_11eb_8267_00e0201808a0level0_row34\" class=\"row_heading level0 row34\" >34</th>\n",
       "                        <td id=\"T_889c6300_0ee5_11eb_8267_00e0201808a0row34_col0\" class=\"data row34 col0\" >Trignometry Features </td>\n",
       "                        <td id=\"T_889c6300_0ee5_11eb_8267_00e0201808a0row34_col1\" class=\"data row34 col1\" >False</td>\n",
       "            </tr>\n",
       "            <tr>\n",
       "                        <th id=\"T_889c6300_0ee5_11eb_8267_00e0201808a0level0_row35\" class=\"row_heading level0 row35\" >35</th>\n",
       "                        <td id=\"T_889c6300_0ee5_11eb_8267_00e0201808a0row35_col0\" class=\"data row35 col0\" >Polynomial Threshold </td>\n",
       "                        <td id=\"T_889c6300_0ee5_11eb_8267_00e0201808a0row35_col1\" class=\"data row35 col1\" >None</td>\n",
       "            </tr>\n",
       "            <tr>\n",
       "                        <th id=\"T_889c6300_0ee5_11eb_8267_00e0201808a0level0_row36\" class=\"row_heading level0 row36\" >36</th>\n",
       "                        <td id=\"T_889c6300_0ee5_11eb_8267_00e0201808a0row36_col0\" class=\"data row36 col0\" >Group Features </td>\n",
       "                        <td id=\"T_889c6300_0ee5_11eb_8267_00e0201808a0row36_col1\" class=\"data row36 col1\" >False</td>\n",
       "            </tr>\n",
       "            <tr>\n",
       "                        <th id=\"T_889c6300_0ee5_11eb_8267_00e0201808a0level0_row37\" class=\"row_heading level0 row37\" >37</th>\n",
       "                        <td id=\"T_889c6300_0ee5_11eb_8267_00e0201808a0row37_col0\" class=\"data row37 col0\" >Feature Selection </td>\n",
       "                        <td id=\"T_889c6300_0ee5_11eb_8267_00e0201808a0row37_col1\" class=\"data row37 col1\" >False</td>\n",
       "            </tr>\n",
       "            <tr>\n",
       "                        <th id=\"T_889c6300_0ee5_11eb_8267_00e0201808a0level0_row38\" class=\"row_heading level0 row38\" >38</th>\n",
       "                        <td id=\"T_889c6300_0ee5_11eb_8267_00e0201808a0row38_col0\" class=\"data row38 col0\" >Features Selection Threshold </td>\n",
       "                        <td id=\"T_889c6300_0ee5_11eb_8267_00e0201808a0row38_col1\" class=\"data row38 col1\" >None</td>\n",
       "            </tr>\n",
       "            <tr>\n",
       "                        <th id=\"T_889c6300_0ee5_11eb_8267_00e0201808a0level0_row39\" class=\"row_heading level0 row39\" >39</th>\n",
       "                        <td id=\"T_889c6300_0ee5_11eb_8267_00e0201808a0row39_col0\" class=\"data row39 col0\" >Feature Interaction </td>\n",
       "                        <td id=\"T_889c6300_0ee5_11eb_8267_00e0201808a0row39_col1\" class=\"data row39 col1\" >False</td>\n",
       "            </tr>\n",
       "            <tr>\n",
       "                        <th id=\"T_889c6300_0ee5_11eb_8267_00e0201808a0level0_row40\" class=\"row_heading level0 row40\" >40</th>\n",
       "                        <td id=\"T_889c6300_0ee5_11eb_8267_00e0201808a0row40_col0\" class=\"data row40 col0\" >Feature Ratio </td>\n",
       "                        <td id=\"T_889c6300_0ee5_11eb_8267_00e0201808a0row40_col1\" class=\"data row40 col1\" >False</td>\n",
       "            </tr>\n",
       "            <tr>\n",
       "                        <th id=\"T_889c6300_0ee5_11eb_8267_00e0201808a0level0_row41\" class=\"row_heading level0 row41\" >41</th>\n",
       "                        <td id=\"T_889c6300_0ee5_11eb_8267_00e0201808a0row41_col0\" class=\"data row41 col0\" >Interaction Threshold </td>\n",
       "                        <td id=\"T_889c6300_0ee5_11eb_8267_00e0201808a0row41_col1\" class=\"data row41 col1\" >None</td>\n",
       "            </tr>\n",
       "            <tr>\n",
       "                        <th id=\"T_889c6300_0ee5_11eb_8267_00e0201808a0level0_row42\" class=\"row_heading level0 row42\" >42</th>\n",
       "                        <td id=\"T_889c6300_0ee5_11eb_8267_00e0201808a0row42_col0\" class=\"data row42 col0\" >Fix Imbalance</td>\n",
       "                        <td id=\"T_889c6300_0ee5_11eb_8267_00e0201808a0row42_col1\" class=\"data row42 col1\" >False</td>\n",
       "            </tr>\n",
       "            <tr>\n",
       "                        <th id=\"T_889c6300_0ee5_11eb_8267_00e0201808a0level0_row43\" class=\"row_heading level0 row43\" >43</th>\n",
       "                        <td id=\"T_889c6300_0ee5_11eb_8267_00e0201808a0row43_col0\" class=\"data row43 col0\" >Fix Imbalance Method</td>\n",
       "                        <td id=\"T_889c6300_0ee5_11eb_8267_00e0201808a0row43_col1\" class=\"data row43 col1\" >SMOTE</td>\n",
       "            </tr>\n",
       "    </tbody></table>"
      ],
      "text/plain": [
       "<pandas.io.formats.style.Styler at 0x1f19766afc8>"
      ]
     },
     "metadata": {},
     "output_type": "display_data"
    },
    {
     "name": "stdout",
     "output_type": "stream",
     "text": [
      "Wall time: 15.4 s\n"
     ]
    }
   ],
   "source": [
    "%%time\n",
    "clf = setup(session_id=seed, \n",
    "            data = train, target = 'income'\n",
    "          #, categorical_features=col_cat\n",
    "          , numeric_features = ['education_num']\n",
    "          #, ignore_features =tp.tolist() + wr.tolist() + wf.tolist()#'religion', 'race_1', 'race_2', 'race_3','race_4', 'race_5', 'race_6']\n",
    "           )"
   ]
  },
  {
   "cell_type": "code",
   "execution_count": 7,
   "metadata": {},
   "outputs": [
    {
     "data": {
      "text/html": [
       "<style  type=\"text/css\" >\n",
       "    #T_64693fd8_0ee6_11eb_8289_00e0201808a0 th {\n",
       "          text-align: left;\n",
       "    }#T_64693fd8_0ee6_11eb_8289_00e0201808a0row0_col0,#T_64693fd8_0ee6_11eb_8289_00e0201808a0row0_col2,#T_64693fd8_0ee6_11eb_8289_00e0201808a0row0_col4,#T_64693fd8_0ee6_11eb_8289_00e0201808a0row1_col0,#T_64693fd8_0ee6_11eb_8289_00e0201808a0row1_col1,#T_64693fd8_0ee6_11eb_8289_00e0201808a0row1_col2,#T_64693fd8_0ee6_11eb_8289_00e0201808a0row1_col3,#T_64693fd8_0ee6_11eb_8289_00e0201808a0row1_col4,#T_64693fd8_0ee6_11eb_8289_00e0201808a0row1_col5,#T_64693fd8_0ee6_11eb_8289_00e0201808a0row1_col6,#T_64693fd8_0ee6_11eb_8289_00e0201808a0row1_col7,#T_64693fd8_0ee6_11eb_8289_00e0201808a0row2_col0,#T_64693fd8_0ee6_11eb_8289_00e0201808a0row2_col1,#T_64693fd8_0ee6_11eb_8289_00e0201808a0row2_col3,#T_64693fd8_0ee6_11eb_8289_00e0201808a0row2_col4,#T_64693fd8_0ee6_11eb_8289_00e0201808a0row2_col5,#T_64693fd8_0ee6_11eb_8289_00e0201808a0row2_col6,#T_64693fd8_0ee6_11eb_8289_00e0201808a0row2_col7,#T_64693fd8_0ee6_11eb_8289_00e0201808a0row3_col0,#T_64693fd8_0ee6_11eb_8289_00e0201808a0row3_col1,#T_64693fd8_0ee6_11eb_8289_00e0201808a0row3_col2,#T_64693fd8_0ee6_11eb_8289_00e0201808a0row3_col3,#T_64693fd8_0ee6_11eb_8289_00e0201808a0row3_col5,#T_64693fd8_0ee6_11eb_8289_00e0201808a0row3_col6,#T_64693fd8_0ee6_11eb_8289_00e0201808a0row3_col7,#T_64693fd8_0ee6_11eb_8289_00e0201808a0row4_col0,#T_64693fd8_0ee6_11eb_8289_00e0201808a0row4_col1,#T_64693fd8_0ee6_11eb_8289_00e0201808a0row4_col2,#T_64693fd8_0ee6_11eb_8289_00e0201808a0row4_col3,#T_64693fd8_0ee6_11eb_8289_00e0201808a0row4_col4,#T_64693fd8_0ee6_11eb_8289_00e0201808a0row4_col5,#T_64693fd8_0ee6_11eb_8289_00e0201808a0row4_col6,#T_64693fd8_0ee6_11eb_8289_00e0201808a0row4_col7,#T_64693fd8_0ee6_11eb_8289_00e0201808a0row5_col0,#T_64693fd8_0ee6_11eb_8289_00e0201808a0row5_col1,#T_64693fd8_0ee6_11eb_8289_00e0201808a0row5_col2,#T_64693fd8_0ee6_11eb_8289_00e0201808a0row5_col3,#T_64693fd8_0ee6_11eb_8289_00e0201808a0row5_col4,#T_64693fd8_0ee6_11eb_8289_00e0201808a0row5_col5,#T_64693fd8_0ee6_11eb_8289_00e0201808a0row5_col6,#T_64693fd8_0ee6_11eb_8289_00e0201808a0row5_col7,#T_64693fd8_0ee6_11eb_8289_00e0201808a0row6_col0,#T_64693fd8_0ee6_11eb_8289_00e0201808a0row6_col1,#T_64693fd8_0ee6_11eb_8289_00e0201808a0row6_col2,#T_64693fd8_0ee6_11eb_8289_00e0201808a0row6_col3,#T_64693fd8_0ee6_11eb_8289_00e0201808a0row6_col4,#T_64693fd8_0ee6_11eb_8289_00e0201808a0row6_col5,#T_64693fd8_0ee6_11eb_8289_00e0201808a0row6_col6,#T_64693fd8_0ee6_11eb_8289_00e0201808a0row6_col7,#T_64693fd8_0ee6_11eb_8289_00e0201808a0row7_col0,#T_64693fd8_0ee6_11eb_8289_00e0201808a0row7_col1,#T_64693fd8_0ee6_11eb_8289_00e0201808a0row7_col2,#T_64693fd8_0ee6_11eb_8289_00e0201808a0row7_col3,#T_64693fd8_0ee6_11eb_8289_00e0201808a0row7_col4,#T_64693fd8_0ee6_11eb_8289_00e0201808a0row7_col5,#T_64693fd8_0ee6_11eb_8289_00e0201808a0row7_col6,#T_64693fd8_0ee6_11eb_8289_00e0201808a0row7_col7{\n",
       "            text-align:  left;\n",
       "        }#T_64693fd8_0ee6_11eb_8289_00e0201808a0row0_col1,#T_64693fd8_0ee6_11eb_8289_00e0201808a0row0_col3,#T_64693fd8_0ee6_11eb_8289_00e0201808a0row0_col5,#T_64693fd8_0ee6_11eb_8289_00e0201808a0row0_col6,#T_64693fd8_0ee6_11eb_8289_00e0201808a0row0_col7,#T_64693fd8_0ee6_11eb_8289_00e0201808a0row2_col2,#T_64693fd8_0ee6_11eb_8289_00e0201808a0row3_col4{\n",
       "            background-color:  yellow;\n",
       "            text-align:  left;\n",
       "        }#T_64693fd8_0ee6_11eb_8289_00e0201808a0row0_col8,#T_64693fd8_0ee6_11eb_8289_00e0201808a0row1_col8,#T_64693fd8_0ee6_11eb_8289_00e0201808a0row2_col8,#T_64693fd8_0ee6_11eb_8289_00e0201808a0row3_col8,#T_64693fd8_0ee6_11eb_8289_00e0201808a0row4_col8,#T_64693fd8_0ee6_11eb_8289_00e0201808a0row5_col8,#T_64693fd8_0ee6_11eb_8289_00e0201808a0row6_col8,#T_64693fd8_0ee6_11eb_8289_00e0201808a0row7_col8{\n",
       "            background-color:  lightgrey;\n",
       "            text-align:  left;\n",
       "        }</style><table id=\"T_64693fd8_0ee6_11eb_8289_00e0201808a0\" ><thead>    <tr>        <th class=\"blank level0\" ></th>        <th class=\"col_heading level0 col0\" >Model</th>        <th class=\"col_heading level0 col1\" >Accuracy</th>        <th class=\"col_heading level0 col2\" >AUC</th>        <th class=\"col_heading level0 col3\" >Recall</th>        <th class=\"col_heading level0 col4\" >Prec.</th>        <th class=\"col_heading level0 col5\" >F1</th>        <th class=\"col_heading level0 col6\" >Kappa</th>        <th class=\"col_heading level0 col7\" >MCC</th>        <th class=\"col_heading level0 col8\" >TT (Sec)</th>    </tr></thead><tbody>\n",
       "                <tr>\n",
       "                        <th id=\"T_64693fd8_0ee6_11eb_8289_00e0201808a0level0_row0\" class=\"row_heading level0 row0\" >0</th>\n",
       "                        <td id=\"T_64693fd8_0ee6_11eb_8289_00e0201808a0row0_col0\" class=\"data row0 col0\" >Extreme Gradient Boosting</td>\n",
       "                        <td id=\"T_64693fd8_0ee6_11eb_8289_00e0201808a0row0_col1\" class=\"data row0 col1\" >0.8668</td>\n",
       "                        <td id=\"T_64693fd8_0ee6_11eb_8289_00e0201808a0row0_col2\" class=\"data row0 col2\" >0.9209</td>\n",
       "                        <td id=\"T_64693fd8_0ee6_11eb_8289_00e0201808a0row0_col3\" class=\"data row0 col3\" >0.6517</td>\n",
       "                        <td id=\"T_64693fd8_0ee6_11eb_8289_00e0201808a0row0_col4\" class=\"data row0 col4\" >0.7640</td>\n",
       "                        <td id=\"T_64693fd8_0ee6_11eb_8289_00e0201808a0row0_col5\" class=\"data row0 col5\" >0.7031</td>\n",
       "                        <td id=\"T_64693fd8_0ee6_11eb_8289_00e0201808a0row0_col6\" class=\"data row0 col6\" >0.6179</td>\n",
       "                        <td id=\"T_64693fd8_0ee6_11eb_8289_00e0201808a0row0_col7\" class=\"data row0 col7\" >0.6214</td>\n",
       "                        <td id=\"T_64693fd8_0ee6_11eb_8289_00e0201808a0row0_col8\" class=\"data row0 col8\" >2.4957</td>\n",
       "            </tr>\n",
       "            <tr>\n",
       "                        <th id=\"T_64693fd8_0ee6_11eb_8289_00e0201808a0level0_row1\" class=\"row_heading level0 row1\" >1</th>\n",
       "                        <td id=\"T_64693fd8_0ee6_11eb_8289_00e0201808a0row1_col0\" class=\"data row1 col0\" >Light Gradient Boosting Machine</td>\n",
       "                        <td id=\"T_64693fd8_0ee6_11eb_8289_00e0201808a0row1_col1\" class=\"data row1 col1\" >0.8665</td>\n",
       "                        <td id=\"T_64693fd8_0ee6_11eb_8289_00e0201808a0row1_col2\" class=\"data row1 col2\" >0.9218</td>\n",
       "                        <td id=\"T_64693fd8_0ee6_11eb_8289_00e0201808a0row1_col3\" class=\"data row1 col3\" >0.6445</td>\n",
       "                        <td id=\"T_64693fd8_0ee6_11eb_8289_00e0201808a0row1_col4\" class=\"data row1 col4\" >0.7670</td>\n",
       "                        <td id=\"T_64693fd8_0ee6_11eb_8289_00e0201808a0row1_col5\" class=\"data row1 col5\" >0.7003</td>\n",
       "                        <td id=\"T_64693fd8_0ee6_11eb_8289_00e0201808a0row1_col6\" class=\"data row1 col6\" >0.6152</td>\n",
       "                        <td id=\"T_64693fd8_0ee6_11eb_8289_00e0201808a0row1_col7\" class=\"data row1 col7\" >0.6192</td>\n",
       "                        <td id=\"T_64693fd8_0ee6_11eb_8289_00e0201808a0row1_col8\" class=\"data row1 col8\" >0.3141</td>\n",
       "            </tr>\n",
       "            <tr>\n",
       "                        <th id=\"T_64693fd8_0ee6_11eb_8289_00e0201808a0level0_row2\" class=\"row_heading level0 row2\" >2</th>\n",
       "                        <td id=\"T_64693fd8_0ee6_11eb_8289_00e0201808a0row2_col0\" class=\"data row2 col0\" >CatBoost Classifier</td>\n",
       "                        <td id=\"T_64693fd8_0ee6_11eb_8289_00e0201808a0row2_col1\" class=\"data row2 col1\" >0.8664</td>\n",
       "                        <td id=\"T_64693fd8_0ee6_11eb_8289_00e0201808a0row2_col2\" class=\"data row2 col2\" >0.9247</td>\n",
       "                        <td id=\"T_64693fd8_0ee6_11eb_8289_00e0201808a0row2_col3\" class=\"data row2 col3\" >0.6364</td>\n",
       "                        <td id=\"T_64693fd8_0ee6_11eb_8289_00e0201808a0row2_col4\" class=\"data row2 col4\" >0.7723</td>\n",
       "                        <td id=\"T_64693fd8_0ee6_11eb_8289_00e0201808a0row2_col5\" class=\"data row2 col5\" >0.6974</td>\n",
       "                        <td id=\"T_64693fd8_0ee6_11eb_8289_00e0201808a0row2_col6\" class=\"data row2 col6\" >0.6127</td>\n",
       "                        <td id=\"T_64693fd8_0ee6_11eb_8289_00e0201808a0row2_col7\" class=\"data row2 col7\" >0.6177</td>\n",
       "                        <td id=\"T_64693fd8_0ee6_11eb_8289_00e0201808a0row2_col8\" class=\"data row2 col8\" >12.1750</td>\n",
       "            </tr>\n",
       "            <tr>\n",
       "                        <th id=\"T_64693fd8_0ee6_11eb_8289_00e0201808a0level0_row3\" class=\"row_heading level0 row3\" >3</th>\n",
       "                        <td id=\"T_64693fd8_0ee6_11eb_8289_00e0201808a0row3_col0\" class=\"data row3 col0\" >Gradient Boosting Classifier</td>\n",
       "                        <td id=\"T_64693fd8_0ee6_11eb_8289_00e0201808a0row3_col1\" class=\"data row3 col1\" >0.8636</td>\n",
       "                        <td id=\"T_64693fd8_0ee6_11eb_8289_00e0201808a0row3_col2\" class=\"data row3 col2\" >0.9199</td>\n",
       "                        <td id=\"T_64693fd8_0ee6_11eb_8289_00e0201808a0row3_col3\" class=\"data row3 col3\" >0.6086</td>\n",
       "                        <td id=\"T_64693fd8_0ee6_11eb_8289_00e0201808a0row3_col4\" class=\"data row3 col4\" >0.7797</td>\n",
       "                        <td id=\"T_64693fd8_0ee6_11eb_8289_00e0201808a0row3_col5\" class=\"data row3 col5\" >0.6835</td>\n",
       "                        <td id=\"T_64693fd8_0ee6_11eb_8289_00e0201808a0row3_col6\" class=\"data row3 col6\" >0.5982</td>\n",
       "                        <td id=\"T_64693fd8_0ee6_11eb_8289_00e0201808a0row3_col7\" class=\"data row3 col7\" >0.6058</td>\n",
       "                        <td id=\"T_64693fd8_0ee6_11eb_8289_00e0201808a0row3_col8\" class=\"data row3 col8\" >2.1776</td>\n",
       "            </tr>\n",
       "            <tr>\n",
       "                        <th id=\"T_64693fd8_0ee6_11eb_8289_00e0201808a0level0_row4\" class=\"row_heading level0 row4\" >4</th>\n",
       "                        <td id=\"T_64693fd8_0ee6_11eb_8289_00e0201808a0row4_col0\" class=\"data row4 col0\" >Ada Boost Classifier</td>\n",
       "                        <td id=\"T_64693fd8_0ee6_11eb_8289_00e0201808a0row4_col1\" class=\"data row4 col1\" >0.8569</td>\n",
       "                        <td id=\"T_64693fd8_0ee6_11eb_8289_00e0201808a0row4_col2\" class=\"data row4 col2\" >0.9129</td>\n",
       "                        <td id=\"T_64693fd8_0ee6_11eb_8289_00e0201808a0row4_col3\" class=\"data row4 col3\" >0.6141</td>\n",
       "                        <td id=\"T_64693fd8_0ee6_11eb_8289_00e0201808a0row4_col4\" class=\"data row4 col4\" >0.7496</td>\n",
       "                        <td id=\"T_64693fd8_0ee6_11eb_8289_00e0201808a0row4_col5\" class=\"data row4 col5\" >0.6748</td>\n",
       "                        <td id=\"T_64693fd8_0ee6_11eb_8289_00e0201808a0row4_col6\" class=\"data row4 col6\" >0.5842</td>\n",
       "                        <td id=\"T_64693fd8_0ee6_11eb_8289_00e0201808a0row4_col7\" class=\"data row4 col7\" >0.5892</td>\n",
       "                        <td id=\"T_64693fd8_0ee6_11eb_8289_00e0201808a0row4_col8\" class=\"data row4 col8\" >0.7540</td>\n",
       "            </tr>\n",
       "            <tr>\n",
       "                        <th id=\"T_64693fd8_0ee6_11eb_8289_00e0201808a0level0_row5\" class=\"row_heading level0 row5\" >5</th>\n",
       "                        <td id=\"T_64693fd8_0ee6_11eb_8289_00e0201808a0row5_col0\" class=\"data row5 col0\" >Random Forest Classifier</td>\n",
       "                        <td id=\"T_64693fd8_0ee6_11eb_8289_00e0201808a0row5_col1\" class=\"data row5 col1\" >0.8452</td>\n",
       "                        <td id=\"T_64693fd8_0ee6_11eb_8289_00e0201808a0row5_col2\" class=\"data row5 col2\" >0.8774</td>\n",
       "                        <td id=\"T_64693fd8_0ee6_11eb_8289_00e0201808a0row5_col3\" class=\"data row5 col3\" >0.5717</td>\n",
       "                        <td id=\"T_64693fd8_0ee6_11eb_8289_00e0201808a0row5_col4\" class=\"data row5 col4\" >0.7307</td>\n",
       "                        <td id=\"T_64693fd8_0ee6_11eb_8289_00e0201808a0row5_col5\" class=\"data row5 col5\" >0.6413</td>\n",
       "                        <td id=\"T_64693fd8_0ee6_11eb_8289_00e0201808a0row5_col6\" class=\"data row5 col6\" >0.5444</td>\n",
       "                        <td id=\"T_64693fd8_0ee6_11eb_8289_00e0201808a0row5_col7\" class=\"data row5 col7\" >0.5513</td>\n",
       "                        <td id=\"T_64693fd8_0ee6_11eb_8289_00e0201808a0row5_col8\" class=\"data row5 col8\" >0.1233</td>\n",
       "            </tr>\n",
       "            <tr>\n",
       "                        <th id=\"T_64693fd8_0ee6_11eb_8289_00e0201808a0level0_row6\" class=\"row_heading level0 row6\" >6</th>\n",
       "                        <td id=\"T_64693fd8_0ee6_11eb_8289_00e0201808a0row6_col0\" class=\"data row6 col0\" >Extra Trees Classifier</td>\n",
       "                        <td id=\"T_64693fd8_0ee6_11eb_8289_00e0201808a0row6_col1\" class=\"data row6 col1\" >0.8366</td>\n",
       "                        <td id=\"T_64693fd8_0ee6_11eb_8289_00e0201808a0row6_col2\" class=\"data row6 col2\" >0.8831</td>\n",
       "                        <td id=\"T_64693fd8_0ee6_11eb_8289_00e0201808a0row6_col3\" class=\"data row6 col3\" >0.6012</td>\n",
       "                        <td id=\"T_64693fd8_0ee6_11eb_8289_00e0201808a0row6_col4\" class=\"data row6 col4\" >0.6864</td>\n",
       "                        <td id=\"T_64693fd8_0ee6_11eb_8289_00e0201808a0row6_col5\" class=\"data row6 col5\" >0.6405</td>\n",
       "                        <td id=\"T_64693fd8_0ee6_11eb_8289_00e0201808a0row6_col6\" class=\"data row6 col6\" >0.5355</td>\n",
       "                        <td id=\"T_64693fd8_0ee6_11eb_8289_00e0201808a0row6_col7\" class=\"data row6 col7\" >0.5377</td>\n",
       "                        <td id=\"T_64693fd8_0ee6_11eb_8289_00e0201808a0row6_col8\" class=\"data row6 col8\" >0.7141</td>\n",
       "            </tr>\n",
       "            <tr>\n",
       "                        <th id=\"T_64693fd8_0ee6_11eb_8289_00e0201808a0level0_row7\" class=\"row_heading level0 row7\" >7</th>\n",
       "                        <td id=\"T_64693fd8_0ee6_11eb_8289_00e0201808a0row7_col0\" class=\"data row7 col0\" >Linear Discriminant Analysis</td>\n",
       "                        <td id=\"T_64693fd8_0ee6_11eb_8289_00e0201808a0row7_col1\" class=\"data row7 col1\" >0.8369</td>\n",
       "                        <td id=\"T_64693fd8_0ee6_11eb_8289_00e0201808a0row7_col2\" class=\"data row7 col2\" >0.8924</td>\n",
       "                        <td id=\"T_64693fd8_0ee6_11eb_8289_00e0201808a0row7_col3\" class=\"data row7 col3\" >0.5746</td>\n",
       "                        <td id=\"T_64693fd8_0ee6_11eb_8289_00e0201808a0row7_col4\" class=\"data row7 col4\" >0.6986</td>\n",
       "                        <td id=\"T_64693fd8_0ee6_11eb_8289_00e0201808a0row7_col5\" class=\"data row7 col5\" >0.6300</td>\n",
       "                        <td id=\"T_64693fd8_0ee6_11eb_8289_00e0201808a0row7_col6\" class=\"data row7 col6\" >0.5267</td>\n",
       "                        <td id=\"T_64693fd8_0ee6_11eb_8289_00e0201808a0row7_col7\" class=\"data row7 col7\" >0.5312</td>\n",
       "                        <td id=\"T_64693fd8_0ee6_11eb_8289_00e0201808a0row7_col8\" class=\"data row7 col8\" >0.1909</td>\n",
       "            </tr>\n",
       "    </tbody></table>"
      ],
      "text/plain": [
       "<pandas.io.formats.style.Styler at 0x1f199f73408>"
      ]
     },
     "metadata": {},
     "output_type": "display_data"
    }
   ],
   "source": [
    "best_3 = compare_models(sort = 'F1', n_select = 3\n",
    "                       ,exclude=['lr', 'knn', 'nb', 'dt', 'svm', 'rbfsvm', 'ridge','qda']\n",
    "                       #,exclude=['lr', 'knn', 'nb', 'dt', 'svm', 'rbfsvm', 'gpc', 'mlp', 'ridge', 'rf', 'qda', 'ada', 'xgboost']\n",
    "                       )"
   ]
  },
  {
   "cell_type": "code",
   "execution_count": 8,
   "metadata": {},
   "outputs": [
    {
     "data": {
      "text/html": [
       "<style  type=\"text/css\" >\n",
       "#T_af370234_0ee6_11eb_a025_00e0201808a0row5_col0,#T_af370234_0ee6_11eb_a025_00e0201808a0row5_col1,#T_af370234_0ee6_11eb_a025_00e0201808a0row5_col2,#T_af370234_0ee6_11eb_a025_00e0201808a0row5_col3,#T_af370234_0ee6_11eb_a025_00e0201808a0row5_col4,#T_af370234_0ee6_11eb_a025_00e0201808a0row5_col5,#T_af370234_0ee6_11eb_a025_00e0201808a0row5_col6{\n",
       "            background:  yellow;\n",
       "        }</style><table id=\"T_af370234_0ee6_11eb_a025_00e0201808a0\" ><thead>    <tr>        <th class=\"blank level0\" ></th>        <th class=\"col_heading level0 col0\" >Accuracy</th>        <th class=\"col_heading level0 col1\" >AUC</th>        <th class=\"col_heading level0 col2\" >Recall</th>        <th class=\"col_heading level0 col3\" >Prec.</th>        <th class=\"col_heading level0 col4\" >F1</th>        <th class=\"col_heading level0 col5\" >Kappa</th>        <th class=\"col_heading level0 col6\" >MCC</th>    </tr></thead><tbody>\n",
       "                <tr>\n",
       "                        <th id=\"T_af370234_0ee6_11eb_a025_00e0201808a0level0_row0\" class=\"row_heading level0 row0\" >0</th>\n",
       "                        <td id=\"T_af370234_0ee6_11eb_a025_00e0201808a0row0_col0\" class=\"data row0 col0\" >0.8625</td>\n",
       "                        <td id=\"T_af370234_0ee6_11eb_a025_00e0201808a0row0_col1\" class=\"data row0 col1\" >0.9233</td>\n",
       "                        <td id=\"T_af370234_0ee6_11eb_a025_00e0201808a0row0_col2\" class=\"data row0 col2\" >0.6456</td>\n",
       "                        <td id=\"T_af370234_0ee6_11eb_a025_00e0201808a0row0_col3\" class=\"data row0 col3\" >0.7514</td>\n",
       "                        <td id=\"T_af370234_0ee6_11eb_a025_00e0201808a0row0_col4\" class=\"data row0 col4\" >0.6945</td>\n",
       "                        <td id=\"T_af370234_0ee6_11eb_a025_00e0201808a0row0_col5\" class=\"data row0 col5\" >0.6065</td>\n",
       "                        <td id=\"T_af370234_0ee6_11eb_a025_00e0201808a0row0_col6\" class=\"data row0 col6\" >0.6094</td>\n",
       "            </tr>\n",
       "            <tr>\n",
       "                        <th id=\"T_af370234_0ee6_11eb_a025_00e0201808a0level0_row1\" class=\"row_heading level0 row1\" >1</th>\n",
       "                        <td id=\"T_af370234_0ee6_11eb_a025_00e0201808a0row1_col0\" class=\"data row1 col0\" >0.8641</td>\n",
       "                        <td id=\"T_af370234_0ee6_11eb_a025_00e0201808a0row1_col1\" class=\"data row1 col1\" >0.9192</td>\n",
       "                        <td id=\"T_af370234_0ee6_11eb_a025_00e0201808a0row1_col2\" class=\"data row1 col2\" >0.6553</td>\n",
       "                        <td id=\"T_af370234_0ee6_11eb_a025_00e0201808a0row1_col3\" class=\"data row1 col3\" >0.7514</td>\n",
       "                        <td id=\"T_af370234_0ee6_11eb_a025_00e0201808a0row1_col4\" class=\"data row1 col4\" >0.7001</td>\n",
       "                        <td id=\"T_af370234_0ee6_11eb_a025_00e0201808a0row1_col5\" class=\"data row1 col5\" >0.6127</td>\n",
       "                        <td id=\"T_af370234_0ee6_11eb_a025_00e0201808a0row1_col6\" class=\"data row1 col6\" >0.6151</td>\n",
       "            </tr>\n",
       "            <tr>\n",
       "                        <th id=\"T_af370234_0ee6_11eb_a025_00e0201808a0level0_row2\" class=\"row_heading level0 row2\" >2</th>\n",
       "                        <td id=\"T_af370234_0ee6_11eb_a025_00e0201808a0row2_col0\" class=\"data row2 col0\" >0.8555</td>\n",
       "                        <td id=\"T_af370234_0ee6_11eb_a025_00e0201808a0row2_col1\" class=\"data row2 col1\" >0.9219</td>\n",
       "                        <td id=\"T_af370234_0ee6_11eb_a025_00e0201808a0row2_col2\" class=\"data row2 col2\" >0.6084</td>\n",
       "                        <td id=\"T_af370234_0ee6_11eb_a025_00e0201808a0row2_col3\" class=\"data row2 col3\" >0.7475</td>\n",
       "                        <td id=\"T_af370234_0ee6_11eb_a025_00e0201808a0row2_col4\" class=\"data row2 col4\" >0.6708</td>\n",
       "                        <td id=\"T_af370234_0ee6_11eb_a025_00e0201808a0row2_col5\" class=\"data row2 col5\" >0.5795</td>\n",
       "                        <td id=\"T_af370234_0ee6_11eb_a025_00e0201808a0row2_col6\" class=\"data row2 col6\" >0.5845</td>\n",
       "            </tr>\n",
       "            <tr>\n",
       "                        <th id=\"T_af370234_0ee6_11eb_a025_00e0201808a0level0_row3\" class=\"row_heading level0 row3\" >3</th>\n",
       "                        <td id=\"T_af370234_0ee6_11eb_a025_00e0201808a0row3_col0\" class=\"data row3 col0\" >0.8734</td>\n",
       "                        <td id=\"T_af370234_0ee6_11eb_a025_00e0201808a0row3_col1\" class=\"data row3 col1\" >0.9313</td>\n",
       "                        <td id=\"T_af370234_0ee6_11eb_a025_00e0201808a0row3_col2\" class=\"data row3 col2\" >0.6418</td>\n",
       "                        <td id=\"T_af370234_0ee6_11eb_a025_00e0201808a0row3_col3\" class=\"data row3 col3\" >0.7952</td>\n",
       "                        <td id=\"T_af370234_0ee6_11eb_a025_00e0201808a0row3_col4\" class=\"data row3 col4\" >0.7103</td>\n",
       "                        <td id=\"T_af370234_0ee6_11eb_a025_00e0201808a0row3_col5\" class=\"data row3 col5\" >0.6305</td>\n",
       "                        <td id=\"T_af370234_0ee6_11eb_a025_00e0201808a0row3_col6\" class=\"data row3 col6\" >0.6364</td>\n",
       "            </tr>\n",
       "            <tr>\n",
       "                        <th id=\"T_af370234_0ee6_11eb_a025_00e0201808a0level0_row4\" class=\"row_heading level0 row4\" >4</th>\n",
       "                        <td id=\"T_af370234_0ee6_11eb_a025_00e0201808a0row4_col0\" class=\"data row4 col0\" >0.8699</td>\n",
       "                        <td id=\"T_af370234_0ee6_11eb_a025_00e0201808a0row4_col1\" class=\"data row4 col1\" >0.9248</td>\n",
       "                        <td id=\"T_af370234_0ee6_11eb_a025_00e0201808a0row4_col2\" class=\"data row4 col2\" >0.6586</td>\n",
       "                        <td id=\"T_af370234_0ee6_11eb_a025_00e0201808a0row4_col3\" class=\"data row4 col3\" >0.7708</td>\n",
       "                        <td id=\"T_af370234_0ee6_11eb_a025_00e0201808a0row4_col4\" class=\"data row4 col4\" >0.7103</td>\n",
       "                        <td id=\"T_af370234_0ee6_11eb_a025_00e0201808a0row4_col5\" class=\"data row4 col5\" >0.6271</td>\n",
       "                        <td id=\"T_af370234_0ee6_11eb_a025_00e0201808a0row4_col6\" class=\"data row4 col6\" >0.6303</td>\n",
       "            </tr>\n",
       "            <tr>\n",
       "                        <th id=\"T_af370234_0ee6_11eb_a025_00e0201808a0level0_row5\" class=\"row_heading level0 row5\" >Mean</th>\n",
       "                        <td id=\"T_af370234_0ee6_11eb_a025_00e0201808a0row5_col0\" class=\"data row5 col0\" >0.8651</td>\n",
       "                        <td id=\"T_af370234_0ee6_11eb_a025_00e0201808a0row5_col1\" class=\"data row5 col1\" >0.9241</td>\n",
       "                        <td id=\"T_af370234_0ee6_11eb_a025_00e0201808a0row5_col2\" class=\"data row5 col2\" >0.6420</td>\n",
       "                        <td id=\"T_af370234_0ee6_11eb_a025_00e0201808a0row5_col3\" class=\"data row5 col3\" >0.7633</td>\n",
       "                        <td id=\"T_af370234_0ee6_11eb_a025_00e0201808a0row5_col4\" class=\"data row5 col4\" >0.6972</td>\n",
       "                        <td id=\"T_af370234_0ee6_11eb_a025_00e0201808a0row5_col5\" class=\"data row5 col5\" >0.6113</td>\n",
       "                        <td id=\"T_af370234_0ee6_11eb_a025_00e0201808a0row5_col6\" class=\"data row5 col6\" >0.6152</td>\n",
       "            </tr>\n",
       "            <tr>\n",
       "                        <th id=\"T_af370234_0ee6_11eb_a025_00e0201808a0level0_row6\" class=\"row_heading level0 row6\" >SD</th>\n",
       "                        <td id=\"T_af370234_0ee6_11eb_a025_00e0201808a0row6_col0\" class=\"data row6 col0\" >0.0062</td>\n",
       "                        <td id=\"T_af370234_0ee6_11eb_a025_00e0201808a0row6_col1\" class=\"data row6 col1\" >0.0040</td>\n",
       "                        <td id=\"T_af370234_0ee6_11eb_a025_00e0201808a0row6_col2\" class=\"data row6 col2\" >0.0179</td>\n",
       "                        <td id=\"T_af370234_0ee6_11eb_a025_00e0201808a0row6_col3\" class=\"data row6 col3\" >0.0179</td>\n",
       "                        <td id=\"T_af370234_0ee6_11eb_a025_00e0201808a0row6_col4\" class=\"data row6 col4\" >0.0145</td>\n",
       "                        <td id=\"T_af370234_0ee6_11eb_a025_00e0201808a0row6_col5\" class=\"data row6 col5\" >0.0182</td>\n",
       "                        <td id=\"T_af370234_0ee6_11eb_a025_00e0201808a0row6_col6\" class=\"data row6 col6\" >0.0182</td>\n",
       "            </tr>\n",
       "    </tbody></table>"
      ],
      "text/plain": [
       "<pandas.io.formats.style.Styler at 0x1f196cf75c8>"
      ]
     },
     "metadata": {},
     "output_type": "display_data"
    }
   ],
   "source": [
    "blended = blend_models(estimator_list = best_3, fold = 5, method = 'soft')"
   ]
  },
  {
   "cell_type": "code",
   "execution_count": 9,
   "metadata": {},
   "outputs": [
    {
     "data": {
      "text/html": [
       "<div>\n",
       "<style scoped>\n",
       "    .dataframe tbody tr th:only-of-type {\n",
       "        vertical-align: middle;\n",
       "    }\n",
       "\n",
       "    .dataframe tbody tr th {\n",
       "        vertical-align: top;\n",
       "    }\n",
       "\n",
       "    .dataframe thead th {\n",
       "        text-align: right;\n",
       "    }\n",
       "</style>\n",
       "<table border=\"1\" class=\"dataframe\">\n",
       "  <thead>\n",
       "    <tr style=\"text-align: right;\">\n",
       "      <th></th>\n",
       "      <th>Model</th>\n",
       "      <th>Accuracy</th>\n",
       "      <th>AUC</th>\n",
       "      <th>Recall</th>\n",
       "      <th>Prec.</th>\n",
       "      <th>F1</th>\n",
       "      <th>Kappa</th>\n",
       "      <th>MCC</th>\n",
       "    </tr>\n",
       "  </thead>\n",
       "  <tbody>\n",
       "    <tr>\n",
       "      <th>0</th>\n",
       "      <td>Voting Classifier</td>\n",
       "      <td>0.8735</td>\n",
       "      <td>0.9295</td>\n",
       "      <td>0.6586</td>\n",
       "      <td>0.7842</td>\n",
       "      <td>0.7159</td>\n",
       "      <td>0.6354</td>\n",
       "      <td>0.6394</td>\n",
       "    </tr>\n",
       "  </tbody>\n",
       "</table>\n",
       "</div>"
      ],
      "text/plain": [
       "               Model  Accuracy     AUC  Recall   Prec.      F1   Kappa     MCC\n",
       "0  Voting Classifier    0.8735  0.9295  0.6586  0.7842  0.7159  0.6354  0.6394"
      ]
     },
     "metadata": {},
     "output_type": "display_data"
    }
   ],
   "source": [
    "pred_holdout = predict_model(blended)"
   ]
  },
  {
   "cell_type": "code",
   "execution_count": 10,
   "metadata": {},
   "outputs": [
    {
     "name": "stdout",
     "output_type": "stream",
     "text": [
      "Wall time: 3min 32s\n"
     ]
    }
   ],
   "source": [
    "%%time\n",
    "final_model = finalize_model(blended)"
   ]
  },
  {
   "cell_type": "code",
   "execution_count": 11,
   "metadata": {},
   "outputs": [],
   "source": [
    "predictions = predict_model(final_model, data = test)"
   ]
  },
  {
   "cell_type": "markdown",
   "metadata": {},
   "source": [
    "# 4. 예측"
   ]
  },
  {
   "cell_type": "code",
   "execution_count": 12,
   "metadata": {},
   "outputs": [],
   "source": [
    "submission['prediction'] = predictions['Label']"
   ]
  },
  {
   "cell_type": "markdown",
   "metadata": {},
   "source": [
    "# 5. 제출"
   ]
  },
  {
   "cell_type": "code",
   "execution_count": 13,
   "metadata": {},
   "outputs": [],
   "source": [
    "submission.to_csv('output/20201015-2.csv')"
   ]
  },
  {
   "cell_type": "code",
   "execution_count": null,
   "metadata": {},
   "outputs": [],
   "source": []
  },
  {
   "cell_type": "code",
   "execution_count": 14,
   "metadata": {
    "scrolled": true
   },
   "outputs": [
    {
     "data": {
      "text/html": [
       "<style  type=\"text/css\" >\n",
       "#T_8dd8f086_0ee7_11eb_9031_00e0201808a0row10_col0,#T_8dd8f086_0ee7_11eb_9031_00e0201808a0row10_col1,#T_8dd8f086_0ee7_11eb_9031_00e0201808a0row10_col2,#T_8dd8f086_0ee7_11eb_9031_00e0201808a0row10_col3,#T_8dd8f086_0ee7_11eb_9031_00e0201808a0row10_col4,#T_8dd8f086_0ee7_11eb_9031_00e0201808a0row10_col5,#T_8dd8f086_0ee7_11eb_9031_00e0201808a0row10_col6{\n",
       "            background:  yellow;\n",
       "        }</style><table id=\"T_8dd8f086_0ee7_11eb_9031_00e0201808a0\" ><thead>    <tr>        <th class=\"blank level0\" ></th>        <th class=\"col_heading level0 col0\" >Accuracy</th>        <th class=\"col_heading level0 col1\" >AUC</th>        <th class=\"col_heading level0 col2\" >Recall</th>        <th class=\"col_heading level0 col3\" >Prec.</th>        <th class=\"col_heading level0 col4\" >F1</th>        <th class=\"col_heading level0 col5\" >Kappa</th>        <th class=\"col_heading level0 col6\" >MCC</th>    </tr></thead><tbody>\n",
       "                <tr>\n",
       "                        <th id=\"T_8dd8f086_0ee7_11eb_9031_00e0201808a0level0_row0\" class=\"row_heading level0 row0\" >0</th>\n",
       "                        <td id=\"T_8dd8f086_0ee7_11eb_9031_00e0201808a0row0_col0\" class=\"data row0 col0\" >0.8614</td>\n",
       "                        <td id=\"T_8dd8f086_0ee7_11eb_9031_00e0201808a0row0_col1\" class=\"data row0 col1\" >0.9199</td>\n",
       "                        <td id=\"T_8dd8f086_0ee7_11eb_9031_00e0201808a0row0_col2\" class=\"data row0 col2\" >0.5955</td>\n",
       "                        <td id=\"T_8dd8f086_0ee7_11eb_9031_00e0201808a0row0_col3\" class=\"data row0 col3\" >0.7797</td>\n",
       "                        <td id=\"T_8dd8f086_0ee7_11eb_9031_00e0201808a0row0_col4\" class=\"data row0 col4\" >0.6752</td>\n",
       "                        <td id=\"T_8dd8f086_0ee7_11eb_9031_00e0201808a0row0_col5\" class=\"data row0 col5\" >0.5891</td>\n",
       "                        <td id=\"T_8dd8f086_0ee7_11eb_9031_00e0201808a0row0_col6\" class=\"data row0 col6\" >0.5978</td>\n",
       "            </tr>\n",
       "            <tr>\n",
       "                        <th id=\"T_8dd8f086_0ee7_11eb_9031_00e0201808a0level0_row1\" class=\"row_heading level0 row1\" >1</th>\n",
       "                        <td id=\"T_8dd8f086_0ee7_11eb_9031_00e0201808a0row1_col0\" class=\"data row1 col0\" >0.8614</td>\n",
       "                        <td id=\"T_8dd8f086_0ee7_11eb_9031_00e0201808a0row1_col1\" class=\"data row1 col1\" >0.9166</td>\n",
       "                        <td id=\"T_8dd8f086_0ee7_11eb_9031_00e0201808a0row1_col2\" class=\"data row1 col2\" >0.6278</td>\n",
       "                        <td id=\"T_8dd8f086_0ee7_11eb_9031_00e0201808a0row1_col3\" class=\"data row1 col3\" >0.7578</td>\n",
       "                        <td id=\"T_8dd8f086_0ee7_11eb_9031_00e0201808a0row1_col4\" class=\"data row1 col4\" >0.6867</td>\n",
       "                        <td id=\"T_8dd8f086_0ee7_11eb_9031_00e0201808a0row1_col5\" class=\"data row1 col5\" >0.5987</td>\n",
       "                        <td id=\"T_8dd8f086_0ee7_11eb_9031_00e0201808a0row1_col6\" class=\"data row1 col6\" >0.6031</td>\n",
       "            </tr>\n",
       "            <tr>\n",
       "                        <th id=\"T_8dd8f086_0ee7_11eb_9031_00e0201808a0level0_row2\" class=\"row_heading level0 row2\" >2</th>\n",
       "                        <td id=\"T_8dd8f086_0ee7_11eb_9031_00e0201808a0row2_col0\" class=\"data row2 col0\" >0.8575</td>\n",
       "                        <td id=\"T_8dd8f086_0ee7_11eb_9031_00e0201808a0row2_col1\" class=\"data row2 col1\" >0.9115</td>\n",
       "                        <td id=\"T_8dd8f086_0ee7_11eb_9031_00e0201808a0row2_col2\" class=\"data row2 col2\" >0.6149</td>\n",
       "                        <td id=\"T_8dd8f086_0ee7_11eb_9031_00e0201808a0row2_col3\" class=\"data row2 col3\" >0.7510</td>\n",
       "                        <td id=\"T_8dd8f086_0ee7_11eb_9031_00e0201808a0row2_col4\" class=\"data row2 col4\" >0.6762</td>\n",
       "                        <td id=\"T_8dd8f086_0ee7_11eb_9031_00e0201808a0row2_col5\" class=\"data row2 col5\" >0.5860</td>\n",
       "                        <td id=\"T_8dd8f086_0ee7_11eb_9031_00e0201808a0row2_col6\" class=\"data row2 col6\" >0.5908</td>\n",
       "            </tr>\n",
       "            <tr>\n",
       "                        <th id=\"T_8dd8f086_0ee7_11eb_9031_00e0201808a0level0_row3\" class=\"row_heading level0 row3\" >3</th>\n",
       "                        <td id=\"T_8dd8f086_0ee7_11eb_9031_00e0201808a0row3_col0\" class=\"data row3 col0\" >0.8644</td>\n",
       "                        <td id=\"T_8dd8f086_0ee7_11eb_9031_00e0201808a0row3_col1\" class=\"data row3 col1\" >0.9131</td>\n",
       "                        <td id=\"T_8dd8f086_0ee7_11eb_9031_00e0201808a0row3_col2\" class=\"data row3 col2\" >0.6071</td>\n",
       "                        <td id=\"T_8dd8f086_0ee7_11eb_9031_00e0201808a0row3_col3\" class=\"data row3 col3\" >0.7824</td>\n",
       "                        <td id=\"T_8dd8f086_0ee7_11eb_9031_00e0201808a0row3_col4\" class=\"data row3 col4\" >0.6837</td>\n",
       "                        <td id=\"T_8dd8f086_0ee7_11eb_9031_00e0201808a0row3_col5\" class=\"data row3 col5\" >0.5992</td>\n",
       "                        <td id=\"T_8dd8f086_0ee7_11eb_9031_00e0201808a0row3_col6\" class=\"data row3 col6\" >0.6070</td>\n",
       "            </tr>\n",
       "            <tr>\n",
       "                        <th id=\"T_8dd8f086_0ee7_11eb_9031_00e0201808a0level0_row4\" class=\"row_heading level0 row4\" >4</th>\n",
       "                        <td id=\"T_8dd8f086_0ee7_11eb_9031_00e0201808a0row4_col0\" class=\"data row4 col0\" >0.8566</td>\n",
       "                        <td id=\"T_8dd8f086_0ee7_11eb_9031_00e0201808a0row4_col1\" class=\"data row4 col1\" >0.9108</td>\n",
       "                        <td id=\"T_8dd8f086_0ee7_11eb_9031_00e0201808a0row4_col2\" class=\"data row4 col2\" >0.5890</td>\n",
       "                        <td id=\"T_8dd8f086_0ee7_11eb_9031_00e0201808a0row4_col3\" class=\"data row4 col3\" >0.7647</td>\n",
       "                        <td id=\"T_8dd8f086_0ee7_11eb_9031_00e0201808a0row4_col4\" class=\"data row4 col4\" >0.6654</td>\n",
       "                        <td id=\"T_8dd8f086_0ee7_11eb_9031_00e0201808a0row4_col5\" class=\"data row4 col5\" >0.5761</td>\n",
       "                        <td id=\"T_8dd8f086_0ee7_11eb_9031_00e0201808a0row4_col6\" class=\"data row4 col6\" >0.5841</td>\n",
       "            </tr>\n",
       "            <tr>\n",
       "                        <th id=\"T_8dd8f086_0ee7_11eb_9031_00e0201808a0level0_row5\" class=\"row_heading level0 row5\" >5</th>\n",
       "                        <td id=\"T_8dd8f086_0ee7_11eb_9031_00e0201808a0row5_col0\" class=\"data row5 col0\" >0.8629</td>\n",
       "                        <td id=\"T_8dd8f086_0ee7_11eb_9031_00e0201808a0row5_col1\" class=\"data row5 col1\" >0.9289</td>\n",
       "                        <td id=\"T_8dd8f086_0ee7_11eb_9031_00e0201808a0row5_col2\" class=\"data row5 col2\" >0.6019</td>\n",
       "                        <td id=\"T_8dd8f086_0ee7_11eb_9031_00e0201808a0row5_col3\" class=\"data row5 col3\" >0.7815</td>\n",
       "                        <td id=\"T_8dd8f086_0ee7_11eb_9031_00e0201808a0row5_col4\" class=\"data row5 col4\" >0.6801</td>\n",
       "                        <td id=\"T_8dd8f086_0ee7_11eb_9031_00e0201808a0row5_col5\" class=\"data row5 col5\" >0.5947</td>\n",
       "                        <td id=\"T_8dd8f086_0ee7_11eb_9031_00e0201808a0row5_col6\" class=\"data row5 col6\" >0.6029</td>\n",
       "            </tr>\n",
       "            <tr>\n",
       "                        <th id=\"T_8dd8f086_0ee7_11eb_9031_00e0201808a0level0_row6\" class=\"row_heading level0 row6\" >6</th>\n",
       "                        <td id=\"T_8dd8f086_0ee7_11eb_9031_00e0201808a0row6_col0\" class=\"data row6 col0\" >0.8730</td>\n",
       "                        <td id=\"T_8dd8f086_0ee7_11eb_9031_00e0201808a0row6_col1\" class=\"data row6 col1\" >0.9387</td>\n",
       "                        <td id=\"T_8dd8f086_0ee7_11eb_9031_00e0201808a0row6_col2\" class=\"data row6 col2\" >0.6181</td>\n",
       "                        <td id=\"T_8dd8f086_0ee7_11eb_9031_00e0201808a0row6_col3\" class=\"data row6 col3\" >0.8128</td>\n",
       "                        <td id=\"T_8dd8f086_0ee7_11eb_9031_00e0201808a0row6_col4\" class=\"data row6 col4\" >0.7022</td>\n",
       "                        <td id=\"T_8dd8f086_0ee7_11eb_9031_00e0201808a0row6_col5\" class=\"data row6 col5\" >0.6234</td>\n",
       "                        <td id=\"T_8dd8f086_0ee7_11eb_9031_00e0201808a0row6_col6\" class=\"data row6 col6\" >0.6328</td>\n",
       "            </tr>\n",
       "            <tr>\n",
       "                        <th id=\"T_8dd8f086_0ee7_11eb_9031_00e0201808a0level0_row7\" class=\"row_heading level0 row7\" >7</th>\n",
       "                        <td id=\"T_8dd8f086_0ee7_11eb_9031_00e0201808a0row7_col0\" class=\"data row7 col0\" >0.8597</td>\n",
       "                        <td id=\"T_8dd8f086_0ee7_11eb_9031_00e0201808a0row7_col1\" class=\"data row7 col1\" >0.9180</td>\n",
       "                        <td id=\"T_8dd8f086_0ee7_11eb_9031_00e0201808a0row7_col2\" class=\"data row7 col2\" >0.5955</td>\n",
       "                        <td id=\"T_8dd8f086_0ee7_11eb_9031_00e0201808a0row7_col3\" class=\"data row7 col3\" >0.7731</td>\n",
       "                        <td id=\"T_8dd8f086_0ee7_11eb_9031_00e0201808a0row7_col4\" class=\"data row7 col4\" >0.6728</td>\n",
       "                        <td id=\"T_8dd8f086_0ee7_11eb_9031_00e0201808a0row7_col5\" class=\"data row7 col5\" >0.5854</td>\n",
       "                        <td id=\"T_8dd8f086_0ee7_11eb_9031_00e0201808a0row7_col6\" class=\"data row7 col6\" >0.5935</td>\n",
       "            </tr>\n",
       "            <tr>\n",
       "                        <th id=\"T_8dd8f086_0ee7_11eb_9031_00e0201808a0level0_row8\" class=\"row_heading level0 row8\" >8</th>\n",
       "                        <td id=\"T_8dd8f086_0ee7_11eb_9031_00e0201808a0row8_col0\" class=\"data row8 col0\" >0.8613</td>\n",
       "                        <td id=\"T_8dd8f086_0ee7_11eb_9031_00e0201808a0row8_col1\" class=\"data row8 col1\" >0.9209</td>\n",
       "                        <td id=\"T_8dd8f086_0ee7_11eb_9031_00e0201808a0row8_col2\" class=\"data row8 col2\" >0.5890</td>\n",
       "                        <td id=\"T_8dd8f086_0ee7_11eb_9031_00e0201808a0row8_col3\" class=\"data row8 col3\" >0.7845</td>\n",
       "                        <td id=\"T_8dd8f086_0ee7_11eb_9031_00e0201808a0row8_col4\" class=\"data row8 col4\" >0.6728</td>\n",
       "                        <td id=\"T_8dd8f086_0ee7_11eb_9031_00e0201808a0row8_col5\" class=\"data row8 col5\" >0.5871</td>\n",
       "                        <td id=\"T_8dd8f086_0ee7_11eb_9031_00e0201808a0row8_col6\" class=\"data row8 col6\" >0.5968</td>\n",
       "            </tr>\n",
       "            <tr>\n",
       "                        <th id=\"T_8dd8f086_0ee7_11eb_9031_00e0201808a0level0_row9\" class=\"row_heading level0 row9\" >9</th>\n",
       "                        <td id=\"T_8dd8f086_0ee7_11eb_9031_00e0201808a0row9_col0\" class=\"data row9 col0\" >0.8777</td>\n",
       "                        <td id=\"T_8dd8f086_0ee7_11eb_9031_00e0201808a0row9_col1\" class=\"data row9 col1\" >0.9208</td>\n",
       "                        <td id=\"T_8dd8f086_0ee7_11eb_9031_00e0201808a0row9_col2\" class=\"data row9 col2\" >0.6472</td>\n",
       "                        <td id=\"T_8dd8f086_0ee7_11eb_9031_00e0201808a0row9_col3\" class=\"data row9 col3\" >0.8097</td>\n",
       "                        <td id=\"T_8dd8f086_0ee7_11eb_9031_00e0201808a0row9_col4\" class=\"data row9 col4\" >0.7194</td>\n",
       "                        <td id=\"T_8dd8f086_0ee7_11eb_9031_00e0201808a0row9_col5\" class=\"data row9 col5\" >0.6425</td>\n",
       "                        <td id=\"T_8dd8f086_0ee7_11eb_9031_00e0201808a0row9_col6\" class=\"data row9 col6\" >0.6491</td>\n",
       "            </tr>\n",
       "            <tr>\n",
       "                        <th id=\"T_8dd8f086_0ee7_11eb_9031_00e0201808a0level0_row10\" class=\"row_heading level0 row10\" >Mean</th>\n",
       "                        <td id=\"T_8dd8f086_0ee7_11eb_9031_00e0201808a0row10_col0\" class=\"data row10 col0\" >0.8636</td>\n",
       "                        <td id=\"T_8dd8f086_0ee7_11eb_9031_00e0201808a0row10_col1\" class=\"data row10 col1\" >0.9199</td>\n",
       "                        <td id=\"T_8dd8f086_0ee7_11eb_9031_00e0201808a0row10_col2\" class=\"data row10 col2\" >0.6086</td>\n",
       "                        <td id=\"T_8dd8f086_0ee7_11eb_9031_00e0201808a0row10_col3\" class=\"data row10 col3\" >0.7797</td>\n",
       "                        <td id=\"T_8dd8f086_0ee7_11eb_9031_00e0201808a0row10_col4\" class=\"data row10 col4\" >0.6835</td>\n",
       "                        <td id=\"T_8dd8f086_0ee7_11eb_9031_00e0201808a0row10_col5\" class=\"data row10 col5\" >0.5982</td>\n",
       "                        <td id=\"T_8dd8f086_0ee7_11eb_9031_00e0201808a0row10_col6\" class=\"data row10 col6\" >0.6058</td>\n",
       "            </tr>\n",
       "            <tr>\n",
       "                        <th id=\"T_8dd8f086_0ee7_11eb_9031_00e0201808a0level0_row11\" class=\"row_heading level0 row11\" >SD</th>\n",
       "                        <td id=\"T_8dd8f086_0ee7_11eb_9031_00e0201808a0row11_col0\" class=\"data row11 col0\" >0.0064</td>\n",
       "                        <td id=\"T_8dd8f086_0ee7_11eb_9031_00e0201808a0row11_col1\" class=\"data row11 col1\" >0.0081</td>\n",
       "                        <td id=\"T_8dd8f086_0ee7_11eb_9031_00e0201808a0row11_col2\" class=\"data row11 col2\" >0.0178</td>\n",
       "                        <td id=\"T_8dd8f086_0ee7_11eb_9031_00e0201808a0row11_col3\" class=\"data row11 col3\" >0.0190</td>\n",
       "                        <td id=\"T_8dd8f086_0ee7_11eb_9031_00e0201808a0row11_col4\" class=\"data row11 col4\" >0.0153</td>\n",
       "                        <td id=\"T_8dd8f086_0ee7_11eb_9031_00e0201808a0row11_col5\" class=\"data row11 col5\" >0.0190</td>\n",
       "                        <td id=\"T_8dd8f086_0ee7_11eb_9031_00e0201808a0row11_col6\" class=\"data row11 col6\" >0.0190</td>\n",
       "            </tr>\n",
       "    </tbody></table>"
      ],
      "text/plain": [
       "<pandas.io.formats.style.Styler at 0x1f199fcc508>"
      ]
     },
     "metadata": {},
     "output_type": "display_data"
    }
   ],
   "source": [
    "gbc = create_model('gbc')"
   ]
  },
  {
   "cell_type": "code",
   "execution_count": 15,
   "metadata": {},
   "outputs": [
    {
     "data": {
      "image/png": "[encoded data removed]",
      "text/plain": [
       "<Figure size 800x500 with 1 Axes>"
      ]
     },
     "metadata": {
      "needs_background": "light"
     },
     "output_type": "display_data"
    }
   ],
   "source": [
    "plot_model(estimator = gbc, plot = 'feature')"
   ]
  },
  {
   "cell_type": "code",
   "execution_count": null,
   "metadata": {},
   "outputs": [],
   "source": []
  },
  {
   "cell_type": "code",
   "execution_count": 17,
   "metadata": {
    "scrolled": true
   },
   "outputs": [
    {
     "data": {
      "text/html": [
       "<style  type=\"text/css\" >\n",
       "#T_b2cb8cec_0ee7_11eb_ba17_00e0201808a0row10_col0,#T_b2cb8cec_0ee7_11eb_ba17_00e0201808a0row10_col1,#T_b2cb8cec_0ee7_11eb_ba17_00e0201808a0row10_col2,#T_b2cb8cec_0ee7_11eb_ba17_00e0201808a0row10_col3,#T_b2cb8cec_0ee7_11eb_ba17_00e0201808a0row10_col4,#T_b2cb8cec_0ee7_11eb_ba17_00e0201808a0row10_col5,#T_b2cb8cec_0ee7_11eb_ba17_00e0201808a0row10_col6{\n",
       "            background:  yellow;\n",
       "        }</style><table id=\"T_b2cb8cec_0ee7_11eb_ba17_00e0201808a0\" ><thead>    <tr>        <th class=\"blank level0\" ></th>        <th class=\"col_heading level0 col0\" >Accuracy</th>        <th class=\"col_heading level0 col1\" >AUC</th>        <th class=\"col_heading level0 col2\" >Recall</th>        <th class=\"col_heading level0 col3\" >Prec.</th>        <th class=\"col_heading level0 col4\" >F1</th>        <th class=\"col_heading level0 col5\" >Kappa</th>        <th class=\"col_heading level0 col6\" >MCC</th>    </tr></thead><tbody>\n",
       "                <tr>\n",
       "                        <th id=\"T_b2cb8cec_0ee7_11eb_ba17_00e0201808a0level0_row0\" class=\"row_heading level0 row0\" >0</th>\n",
       "                        <td id=\"T_b2cb8cec_0ee7_11eb_ba17_00e0201808a0row0_col0\" class=\"data row0 col0\" >0.8677</td>\n",
       "                        <td id=\"T_b2cb8cec_0ee7_11eb_ba17_00e0201808a0row0_col1\" class=\"data row0 col1\" >0.9236</td>\n",
       "                        <td id=\"T_b2cb8cec_0ee7_11eb_ba17_00e0201808a0row0_col2\" class=\"data row0 col2\" >0.6343</td>\n",
       "                        <td id=\"T_b2cb8cec_0ee7_11eb_ba17_00e0201808a0row0_col3\" class=\"data row0 col3\" >0.7778</td>\n",
       "                        <td id=\"T_b2cb8cec_0ee7_11eb_ba17_00e0201808a0row0_col4\" class=\"data row0 col4\" >0.6988</td>\n",
       "                        <td id=\"T_b2cb8cec_0ee7_11eb_ba17_00e0201808a0row0_col5\" class=\"data row0 col5\" >0.6151</td>\n",
       "                        <td id=\"T_b2cb8cec_0ee7_11eb_ba17_00e0201808a0row0_col6\" class=\"data row0 col6\" >0.6203</td>\n",
       "            </tr>\n",
       "            <tr>\n",
       "                        <th id=\"T_b2cb8cec_0ee7_11eb_ba17_00e0201808a0level0_row1\" class=\"row_heading level0 row1\" >1</th>\n",
       "                        <td id=\"T_b2cb8cec_0ee7_11eb_ba17_00e0201808a0row1_col0\" class=\"data row1 col0\" >0.8661</td>\n",
       "                        <td id=\"T_b2cb8cec_0ee7_11eb_ba17_00e0201808a0row1_col1\" class=\"data row1 col1\" >0.9185</td>\n",
       "                        <td id=\"T_b2cb8cec_0ee7_11eb_ba17_00e0201808a0row1_col2\" class=\"data row1 col2\" >0.6602</td>\n",
       "                        <td id=\"T_b2cb8cec_0ee7_11eb_ba17_00e0201808a0row1_col3\" class=\"data row1 col3\" >0.7556</td>\n",
       "                        <td id=\"T_b2cb8cec_0ee7_11eb_ba17_00e0201808a0row1_col4\" class=\"data row1 col4\" >0.7047</td>\n",
       "                        <td id=\"T_b2cb8cec_0ee7_11eb_ba17_00e0201808a0row1_col5\" class=\"data row1 col5\" >0.6186</td>\n",
       "                        <td id=\"T_b2cb8cec_0ee7_11eb_ba17_00e0201808a0row1_col6\" class=\"data row1 col6\" >0.6209</td>\n",
       "            </tr>\n",
       "            <tr>\n",
       "                        <th id=\"T_b2cb8cec_0ee7_11eb_ba17_00e0201808a0level0_row2\" class=\"row_heading level0 row2\" >2</th>\n",
       "                        <td id=\"T_b2cb8cec_0ee7_11eb_ba17_00e0201808a0row2_col0\" class=\"data row2 col0\" >0.8559</td>\n",
       "                        <td id=\"T_b2cb8cec_0ee7_11eb_ba17_00e0201808a0row2_col1\" class=\"data row2 col1\" >0.9152</td>\n",
       "                        <td id=\"T_b2cb8cec_0ee7_11eb_ba17_00e0201808a0row2_col2\" class=\"data row2 col2\" >0.6440</td>\n",
       "                        <td id=\"T_b2cb8cec_0ee7_11eb_ba17_00e0201808a0row2_col3\" class=\"data row2 col3\" >0.7289</td>\n",
       "                        <td id=\"T_b2cb8cec_0ee7_11eb_ba17_00e0201808a0row2_col4\" class=\"data row2 col4\" >0.6838</td>\n",
       "                        <td id=\"T_b2cb8cec_0ee7_11eb_ba17_00e0201808a0row2_col5\" class=\"data row2 col5\" >0.5910</td>\n",
       "                        <td id=\"T_b2cb8cec_0ee7_11eb_ba17_00e0201808a0row2_col6\" class=\"data row2 col6\" >0.5929</td>\n",
       "            </tr>\n",
       "            <tr>\n",
       "                        <th id=\"T_b2cb8cec_0ee7_11eb_ba17_00e0201808a0level0_row3\" class=\"row_heading level0 row3\" >3</th>\n",
       "                        <td id=\"T_b2cb8cec_0ee7_11eb_ba17_00e0201808a0row3_col0\" class=\"data row3 col0\" >0.8542</td>\n",
       "                        <td id=\"T_b2cb8cec_0ee7_11eb_ba17_00e0201808a0row3_col1\" class=\"data row3 col1\" >0.9177</td>\n",
       "                        <td id=\"T_b2cb8cec_0ee7_11eb_ba17_00e0201808a0row3_col2\" class=\"data row3 col2\" >0.6039</td>\n",
       "                        <td id=\"T_b2cb8cec_0ee7_11eb_ba17_00e0201808a0row3_col3\" class=\"data row3 col3\" >0.7440</td>\n",
       "                        <td id=\"T_b2cb8cec_0ee7_11eb_ba17_00e0201808a0row3_col4\" class=\"data row3 col4\" >0.6667</td>\n",
       "                        <td id=\"T_b2cb8cec_0ee7_11eb_ba17_00e0201808a0row3_col5\" class=\"data row3 col5\" >0.5747</td>\n",
       "                        <td id=\"T_b2cb8cec_0ee7_11eb_ba17_00e0201808a0row3_col6\" class=\"data row3 col6\" >0.5798</td>\n",
       "            </tr>\n",
       "            <tr>\n",
       "                        <th id=\"T_b2cb8cec_0ee7_11eb_ba17_00e0201808a0level0_row4\" class=\"row_heading level0 row4\" >4</th>\n",
       "                        <td id=\"T_b2cb8cec_0ee7_11eb_ba17_00e0201808a0row4_col0\" class=\"data row4 col0\" >0.8574</td>\n",
       "                        <td id=\"T_b2cb8cec_0ee7_11eb_ba17_00e0201808a0row4_col1\" class=\"data row4 col1\" >0.9096</td>\n",
       "                        <td id=\"T_b2cb8cec_0ee7_11eb_ba17_00e0201808a0row4_col2\" class=\"data row4 col2\" >0.6214</td>\n",
       "                        <td id=\"T_b2cb8cec_0ee7_11eb_ba17_00e0201808a0row4_col3\" class=\"data row4 col3\" >0.7471</td>\n",
       "                        <td id=\"T_b2cb8cec_0ee7_11eb_ba17_00e0201808a0row4_col4\" class=\"data row4 col4\" >0.6784</td>\n",
       "                        <td id=\"T_b2cb8cec_0ee7_11eb_ba17_00e0201808a0row4_col5\" class=\"data row4 col5\" >0.5878</td>\n",
       "                        <td id=\"T_b2cb8cec_0ee7_11eb_ba17_00e0201808a0row4_col6\" class=\"data row4 col6\" >0.5919</td>\n",
       "            </tr>\n",
       "            <tr>\n",
       "                        <th id=\"T_b2cb8cec_0ee7_11eb_ba17_00e0201808a0level0_row5\" class=\"row_heading level0 row5\" >5</th>\n",
       "                        <td id=\"T_b2cb8cec_0ee7_11eb_ba17_00e0201808a0row5_col0\" class=\"data row5 col0\" >0.8723</td>\n",
       "                        <td id=\"T_b2cb8cec_0ee7_11eb_ba17_00e0201808a0row5_col1\" class=\"data row5 col1\" >0.9306</td>\n",
       "                        <td id=\"T_b2cb8cec_0ee7_11eb_ba17_00e0201808a0row5_col2\" class=\"data row5 col2\" >0.6602</td>\n",
       "                        <td id=\"T_b2cb8cec_0ee7_11eb_ba17_00e0201808a0row5_col3\" class=\"data row5 col3\" >0.7786</td>\n",
       "                        <td id=\"T_b2cb8cec_0ee7_11eb_ba17_00e0201808a0row5_col4\" class=\"data row5 col4\" >0.7145</td>\n",
       "                        <td id=\"T_b2cb8cec_0ee7_11eb_ba17_00e0201808a0row5_col5\" class=\"data row5 col5\" >0.6330</td>\n",
       "                        <td id=\"T_b2cb8cec_0ee7_11eb_ba17_00e0201808a0row5_col6\" class=\"data row5 col6\" >0.6365</td>\n",
       "            </tr>\n",
       "            <tr>\n",
       "                        <th id=\"T_b2cb8cec_0ee7_11eb_ba17_00e0201808a0level0_row6\" class=\"row_heading level0 row6\" >6</th>\n",
       "                        <td id=\"T_b2cb8cec_0ee7_11eb_ba17_00e0201808a0row6_col0\" class=\"data row6 col0\" >0.8809</td>\n",
       "                        <td id=\"T_b2cb8cec_0ee7_11eb_ba17_00e0201808a0row6_col1\" class=\"data row6 col1\" >0.9361</td>\n",
       "                        <td id=\"T_b2cb8cec_0ee7_11eb_ba17_00e0201808a0row6_col2\" class=\"data row6 col2\" >0.6602</td>\n",
       "                        <td id=\"T_b2cb8cec_0ee7_11eb_ba17_00e0201808a0row6_col3\" class=\"data row6 col3\" >0.8127</td>\n",
       "                        <td id=\"T_b2cb8cec_0ee7_11eb_ba17_00e0201808a0row6_col4\" class=\"data row6 col4\" >0.7286</td>\n",
       "                        <td id=\"T_b2cb8cec_0ee7_11eb_ba17_00e0201808a0row6_col5\" class=\"data row6 col5\" >0.6533</td>\n",
       "                        <td id=\"T_b2cb8cec_0ee7_11eb_ba17_00e0201808a0row6_col6\" class=\"data row6 col6\" >0.6591</td>\n",
       "            </tr>\n",
       "            <tr>\n",
       "                        <th id=\"T_b2cb8cec_0ee7_11eb_ba17_00e0201808a0level0_row7\" class=\"row_heading level0 row7\" >7</th>\n",
       "                        <td id=\"T_b2cb8cec_0ee7_11eb_ba17_00e0201808a0row7_col0\" class=\"data row7 col0\" >0.8683</td>\n",
       "                        <td id=\"T_b2cb8cec_0ee7_11eb_ba17_00e0201808a0row7_col1\" class=\"data row7 col1\" >0.9211</td>\n",
       "                        <td id=\"T_b2cb8cec_0ee7_11eb_ba17_00e0201808a0row7_col2\" class=\"data row7 col2\" >0.6472</td>\n",
       "                        <td id=\"T_b2cb8cec_0ee7_11eb_ba17_00e0201808a0row7_col3\" class=\"data row7 col3\" >0.7722</td>\n",
       "                        <td id=\"T_b2cb8cec_0ee7_11eb_ba17_00e0201808a0row7_col4\" class=\"data row7 col4\" >0.7042</td>\n",
       "                        <td id=\"T_b2cb8cec_0ee7_11eb_ba17_00e0201808a0row7_col5\" class=\"data row7 col5\" >0.6204</td>\n",
       "                        <td id=\"T_b2cb8cec_0ee7_11eb_ba17_00e0201808a0row7_col6\" class=\"data row7 col6\" >0.6244</td>\n",
       "            </tr>\n",
       "            <tr>\n",
       "                        <th id=\"T_b2cb8cec_0ee7_11eb_ba17_00e0201808a0level0_row8\" class=\"row_heading level0 row8\" >8</th>\n",
       "                        <td id=\"T_b2cb8cec_0ee7_11eb_ba17_00e0201808a0row8_col0\" class=\"data row8 col0\" >0.8691</td>\n",
       "                        <td id=\"T_b2cb8cec_0ee7_11eb_ba17_00e0201808a0row8_col1\" class=\"data row8 col1\" >0.9262</td>\n",
       "                        <td id=\"T_b2cb8cec_0ee7_11eb_ba17_00e0201808a0row8_col2\" class=\"data row8 col2\" >0.6343</td>\n",
       "                        <td id=\"T_b2cb8cec_0ee7_11eb_ba17_00e0201808a0row8_col3\" class=\"data row8 col3\" >0.7840</td>\n",
       "                        <td id=\"T_b2cb8cec_0ee7_11eb_ba17_00e0201808a0row8_col4\" class=\"data row8 col4\" >0.7013</td>\n",
       "                        <td id=\"T_b2cb8cec_0ee7_11eb_ba17_00e0201808a0row8_col5\" class=\"data row8 col5\" >0.6187</td>\n",
       "                        <td id=\"T_b2cb8cec_0ee7_11eb_ba17_00e0201808a0row8_col6\" class=\"data row8 col6\" >0.6243</td>\n",
       "            </tr>\n",
       "            <tr>\n",
       "                        <th id=\"T_b2cb8cec_0ee7_11eb_ba17_00e0201808a0level0_row9\" class=\"row_heading level0 row9\" >9</th>\n",
       "                        <td id=\"T_b2cb8cec_0ee7_11eb_ba17_00e0201808a0row9_col0\" class=\"data row9 col0\" >0.8730</td>\n",
       "                        <td id=\"T_b2cb8cec_0ee7_11eb_ba17_00e0201808a0row9_col1\" class=\"data row9 col1\" >0.9193</td>\n",
       "                        <td id=\"T_b2cb8cec_0ee7_11eb_ba17_00e0201808a0row9_col2\" class=\"data row9 col2\" >0.6796</td>\n",
       "                        <td id=\"T_b2cb8cec_0ee7_11eb_ba17_00e0201808a0row9_col3\" class=\"data row9 col3\" >0.7692</td>\n",
       "                        <td id=\"T_b2cb8cec_0ee7_11eb_ba17_00e0201808a0row9_col4\" class=\"data row9 col4\" >0.7216</td>\n",
       "                        <td id=\"T_b2cb8cec_0ee7_11eb_ba17_00e0201808a0row9_col5\" class=\"data row9 col5\" >0.6398</td>\n",
       "                        <td id=\"T_b2cb8cec_0ee7_11eb_ba17_00e0201808a0row9_col6\" class=\"data row9 col6\" >0.6419</td>\n",
       "            </tr>\n",
       "            <tr>\n",
       "                        <th id=\"T_b2cb8cec_0ee7_11eb_ba17_00e0201808a0level0_row10\" class=\"row_heading level0 row10\" >Mean</th>\n",
       "                        <td id=\"T_b2cb8cec_0ee7_11eb_ba17_00e0201808a0row10_col0\" class=\"data row10 col0\" >0.8665</td>\n",
       "                        <td id=\"T_b2cb8cec_0ee7_11eb_ba17_00e0201808a0row10_col1\" class=\"data row10 col1\" >0.9218</td>\n",
       "                        <td id=\"T_b2cb8cec_0ee7_11eb_ba17_00e0201808a0row10_col2\" class=\"data row10 col2\" >0.6445</td>\n",
       "                        <td id=\"T_b2cb8cec_0ee7_11eb_ba17_00e0201808a0row10_col3\" class=\"data row10 col3\" >0.7670</td>\n",
       "                        <td id=\"T_b2cb8cec_0ee7_11eb_ba17_00e0201808a0row10_col4\" class=\"data row10 col4\" >0.7003</td>\n",
       "                        <td id=\"T_b2cb8cec_0ee7_11eb_ba17_00e0201808a0row10_col5\" class=\"data row10 col5\" >0.6152</td>\n",
       "                        <td id=\"T_b2cb8cec_0ee7_11eb_ba17_00e0201808a0row10_col6\" class=\"data row10 col6\" >0.6192</td>\n",
       "            </tr>\n",
       "            <tr>\n",
       "                        <th id=\"T_b2cb8cec_0ee7_11eb_ba17_00e0201808a0level0_row11\" class=\"row_heading level0 row11\" >SD</th>\n",
       "                        <td id=\"T_b2cb8cec_0ee7_11eb_ba17_00e0201808a0row11_col0\" class=\"data row11 col0\" >0.0080</td>\n",
       "                        <td id=\"T_b2cb8cec_0ee7_11eb_ba17_00e0201808a0row11_col1\" class=\"data row11 col1\" >0.0073</td>\n",
       "                        <td id=\"T_b2cb8cec_0ee7_11eb_ba17_00e0201808a0row11_col2\" class=\"data row11 col2\" >0.0209</td>\n",
       "                        <td id=\"T_b2cb8cec_0ee7_11eb_ba17_00e0201808a0row11_col3\" class=\"data row11 col3\" >0.0227</td>\n",
       "                        <td id=\"T_b2cb8cec_0ee7_11eb_ba17_00e0201808a0row11_col4\" class=\"data row11 col4\" >0.0184</td>\n",
       "                        <td id=\"T_b2cb8cec_0ee7_11eb_ba17_00e0201808a0row11_col5\" class=\"data row11 col5\" >0.0232</td>\n",
       "                        <td id=\"T_b2cb8cec_0ee7_11eb_ba17_00e0201808a0row11_col6\" class=\"data row11 col6\" >0.0234</td>\n",
       "            </tr>\n",
       "    </tbody></table>"
      ],
      "text/plain": [
       "<pandas.io.formats.style.Styler at 0x1f19a032ac8>"
      ]
     },
     "metadata": {},
     "output_type": "display_data"
    }
   ],
   "source": [
    "lightgbm = create_model('lightgbm')"
   ]
  },
  {
   "cell_type": "code",
   "execution_count": 18,
   "metadata": {},
   "outputs": [
    {
     "data": {
      "image/png": "[encoded data removed]",
      "text/plain": [
       "<Figure size 800x500 with 1 Axes>"
      ]
     },
     "metadata": {
      "needs_background": "light"
     },
     "output_type": "display_data"
    }
   ],
   "source": [
    "plot_model(estimator = lightgbm, plot = 'feature')"
   ]
  },
  {
   "cell_type": "code",
   "execution_count": null,
   "metadata": {},
   "outputs": [],
   "source": []
  }
 ],
 "metadata": {
  "kernelspec": {
   "display_name": "Python 3",
   "language": "python",
   "name": "python3"
  },
  "language_info": {
   "codemirror_mode": {
    "name": "ipython",
    "version": 3
   },
   "file_extension": ".py",
   "mimetype": "text/x-python",
   "name": "python",
   "nbconvert_exporter": "python",
   "pygments_lexer": "ipython3",
   "version": "3.7.6"
  }
 },
 "nbformat": 4,
 "nbformat_minor": 4
}
