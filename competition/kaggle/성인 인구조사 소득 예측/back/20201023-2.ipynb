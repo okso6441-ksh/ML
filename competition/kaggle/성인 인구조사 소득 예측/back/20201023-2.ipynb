{
 "cells": [
  {
   "cell_type": "code",
   "execution_count": 1,
   "metadata": {},
   "outputs": [],
   "source": [
    "import numpy as np\n",
    "import pandas as pd\n",
    "import matplotlib.pyplot as plt\n",
    "import seaborn as sns\n",
    "import warnings\n",
    "warnings.filterwarnings('ignore')\n",
    "%matplotlib inline\n",
    "\n",
    "from IPython.core.interactiveshell import InteractiveShell\n",
    "InteractiveShell.ast_node_interactivity = \"all\"\n",
    "\n",
    "from sklearn.preprocessing import PolynomialFeatures\n",
    "\n",
    "from sklearn.model_selection import train_test_split\n",
    "import lightgbm as lgbm\n",
    "from sklearn.metrics import confusion_matrix, accuracy_score\n",
    "from pycaret.classification import *"
   ]
  },
  {
   "cell_type": "code",
   "execution_count": 2,
   "metadata": {},
   "outputs": [],
   "source": [
    "seed = 42\n",
    "np.random.seed(seed)\n",
    "set_config('seed', seed)"
   ]
  },
  {
   "cell_type": "code",
   "execution_count": null,
   "metadata": {},
   "outputs": [],
   "source": []
  },
  {
   "cell_type": "markdown",
   "metadata": {},
   "source": [
    "# 1. 데이터 로드"
   ]
  },
  {
   "cell_type": "code",
   "execution_count": 3,
   "metadata": {},
   "outputs": [],
   "source": [
    "train=pd.read_csv('input/train.csv', index_col=0)#, na_values='?') #인덱스 col=0도 check!\n",
    "test=pd.read_csv('input/test.csv', index_col=0)#, na_values='?')\n",
    "submission=pd.read_csv('input/sample_submission.csv', index_col=0)  "
   ]
  },
  {
   "cell_type": "code",
   "execution_count": 4,
   "metadata": {},
   "outputs": [],
   "source": [
    "train['income']=pd.factorize(train['income'], sort=True)[0]"
   ]
  },
  {
   "cell_type": "code",
   "execution_count": 5,
   "metadata": {},
   "outputs": [
    {
     "data": {
      "text/plain": [
       "((26049, 15), (6512, 14))"
      ]
     },
     "execution_count": 5,
     "metadata": {},
     "output_type": "execute_result"
    }
   ],
   "source": [
    "train.shape, test.shape"
   ]
  },
  {
   "cell_type": "code",
   "execution_count": 6,
   "metadata": {},
   "outputs": [
    {
     "data": {
      "text/html": [
       "<div>\n",
       "<style scoped>\n",
       "    .dataframe tbody tr th:only-of-type {\n",
       "        vertical-align: middle;\n",
       "    }\n",
       "\n",
       "    .dataframe tbody tr th {\n",
       "        vertical-align: top;\n",
       "    }\n",
       "\n",
       "    .dataframe thead th {\n",
       "        text-align: right;\n",
       "    }\n",
       "</style>\n",
       "<table border=\"1\" class=\"dataframe\">\n",
       "  <thead>\n",
       "    <tr style=\"text-align: right;\">\n",
       "      <th></th>\n",
       "      <th>age</th>\n",
       "      <th>workclass</th>\n",
       "      <th>fnlwgt</th>\n",
       "      <th>education</th>\n",
       "      <th>education_num</th>\n",
       "      <th>marital_status</th>\n",
       "      <th>occupation</th>\n",
       "      <th>relationship</th>\n",
       "      <th>race</th>\n",
       "      <th>sex</th>\n",
       "      <th>capital_gain</th>\n",
       "      <th>capital_loss</th>\n",
       "      <th>hours_per_week</th>\n",
       "      <th>native_country</th>\n",
       "      <th>income</th>\n",
       "    </tr>\n",
       "    <tr>\n",
       "      <th>id</th>\n",
       "      <th></th>\n",
       "      <th></th>\n",
       "      <th></th>\n",
       "      <th></th>\n",
       "      <th></th>\n",
       "      <th></th>\n",
       "      <th></th>\n",
       "      <th></th>\n",
       "      <th></th>\n",
       "      <th></th>\n",
       "      <th></th>\n",
       "      <th></th>\n",
       "      <th></th>\n",
       "      <th></th>\n",
       "      <th></th>\n",
       "    </tr>\n",
       "  </thead>\n",
       "  <tbody>\n",
       "    <tr>\n",
       "      <th>0</th>\n",
       "      <td>40</td>\n",
       "      <td>Private</td>\n",
       "      <td>168538</td>\n",
       "      <td>HS-grad</td>\n",
       "      <td>9</td>\n",
       "      <td>Married-civ-spouse</td>\n",
       "      <td>Sales</td>\n",
       "      <td>Husband</td>\n",
       "      <td>White</td>\n",
       "      <td>Male</td>\n",
       "      <td>0</td>\n",
       "      <td>0</td>\n",
       "      <td>60</td>\n",
       "      <td>United-States</td>\n",
       "      <td>1</td>\n",
       "    </tr>\n",
       "    <tr>\n",
       "      <th>1</th>\n",
       "      <td>17</td>\n",
       "      <td>Private</td>\n",
       "      <td>101626</td>\n",
       "      <td>9th</td>\n",
       "      <td>5</td>\n",
       "      <td>Never-married</td>\n",
       "      <td>Machine-op-inspct</td>\n",
       "      <td>Own-child</td>\n",
       "      <td>White</td>\n",
       "      <td>Male</td>\n",
       "      <td>0</td>\n",
       "      <td>0</td>\n",
       "      <td>20</td>\n",
       "      <td>United-States</td>\n",
       "      <td>0</td>\n",
       "    </tr>\n",
       "    <tr>\n",
       "      <th>2</th>\n",
       "      <td>18</td>\n",
       "      <td>Private</td>\n",
       "      <td>353358</td>\n",
       "      <td>Some-college</td>\n",
       "      <td>10</td>\n",
       "      <td>Never-married</td>\n",
       "      <td>Other-service</td>\n",
       "      <td>Own-child</td>\n",
       "      <td>White</td>\n",
       "      <td>Male</td>\n",
       "      <td>0</td>\n",
       "      <td>0</td>\n",
       "      <td>16</td>\n",
       "      <td>United-States</td>\n",
       "      <td>0</td>\n",
       "    </tr>\n",
       "  </tbody>\n",
       "</table>\n",
       "</div>"
      ],
      "text/plain": [
       "    age workclass  fnlwgt     education  education_num      marital_status  \\\n",
       "id                                                                           \n",
       "0    40   Private  168538       HS-grad              9  Married-civ-spouse   \n",
       "1    17   Private  101626           9th              5       Never-married   \n",
       "2    18   Private  353358  Some-college             10       Never-married   \n",
       "\n",
       "           occupation relationship   race   sex  capital_gain  capital_loss  \\\n",
       "id                                                                            \n",
       "0               Sales      Husband  White  Male             0             0   \n",
       "1   Machine-op-inspct    Own-child  White  Male             0             0   \n",
       "2       Other-service    Own-child  White  Male             0             0   \n",
       "\n",
       "    hours_per_week native_country  income  \n",
       "id                                         \n",
       "0               60  United-States       1  \n",
       "1               20  United-States       0  \n",
       "2               16  United-States       0  "
      ]
     },
     "execution_count": 6,
     "metadata": {},
     "output_type": "execute_result"
    },
    {
     "data": {
      "text/html": [
       "<div>\n",
       "<style scoped>\n",
       "    .dataframe tbody tr th:only-of-type {\n",
       "        vertical-align: middle;\n",
       "    }\n",
       "\n",
       "    .dataframe tbody tr th {\n",
       "        vertical-align: top;\n",
       "    }\n",
       "\n",
       "    .dataframe thead th {\n",
       "        text-align: right;\n",
       "    }\n",
       "</style>\n",
       "<table border=\"1\" class=\"dataframe\">\n",
       "  <thead>\n",
       "    <tr style=\"text-align: right;\">\n",
       "      <th></th>\n",
       "      <th>age</th>\n",
       "      <th>workclass</th>\n",
       "      <th>fnlwgt</th>\n",
       "      <th>education</th>\n",
       "      <th>education_num</th>\n",
       "      <th>marital_status</th>\n",
       "      <th>occupation</th>\n",
       "      <th>relationship</th>\n",
       "      <th>race</th>\n",
       "      <th>sex</th>\n",
       "      <th>capital_gain</th>\n",
       "      <th>capital_loss</th>\n",
       "      <th>hours_per_week</th>\n",
       "      <th>native_country</th>\n",
       "    </tr>\n",
       "    <tr>\n",
       "      <th>id</th>\n",
       "      <th></th>\n",
       "      <th></th>\n",
       "      <th></th>\n",
       "      <th></th>\n",
       "      <th></th>\n",
       "      <th></th>\n",
       "      <th></th>\n",
       "      <th></th>\n",
       "      <th></th>\n",
       "      <th></th>\n",
       "      <th></th>\n",
       "      <th></th>\n",
       "      <th></th>\n",
       "      <th></th>\n",
       "    </tr>\n",
       "  </thead>\n",
       "  <tbody>\n",
       "    <tr>\n",
       "      <th>0</th>\n",
       "      <td>28</td>\n",
       "      <td>Private</td>\n",
       "      <td>67661</td>\n",
       "      <td>Some-college</td>\n",
       "      <td>10</td>\n",
       "      <td>Never-married</td>\n",
       "      <td>Adm-clerical</td>\n",
       "      <td>Other-relative</td>\n",
       "      <td>White</td>\n",
       "      <td>Female</td>\n",
       "      <td>0</td>\n",
       "      <td>0</td>\n",
       "      <td>40</td>\n",
       "      <td>United-States</td>\n",
       "    </tr>\n",
       "    <tr>\n",
       "      <th>1</th>\n",
       "      <td>40</td>\n",
       "      <td>Self-emp-inc</td>\n",
       "      <td>37869</td>\n",
       "      <td>HS-grad</td>\n",
       "      <td>9</td>\n",
       "      <td>Married-civ-spouse</td>\n",
       "      <td>Exec-managerial</td>\n",
       "      <td>Husband</td>\n",
       "      <td>White</td>\n",
       "      <td>Male</td>\n",
       "      <td>0</td>\n",
       "      <td>0</td>\n",
       "      <td>50</td>\n",
       "      <td>United-States</td>\n",
       "    </tr>\n",
       "    <tr>\n",
       "      <th>2</th>\n",
       "      <td>20</td>\n",
       "      <td>Private</td>\n",
       "      <td>109952</td>\n",
       "      <td>Some-college</td>\n",
       "      <td>10</td>\n",
       "      <td>Never-married</td>\n",
       "      <td>Handlers-cleaners</td>\n",
       "      <td>Own-child</td>\n",
       "      <td>White</td>\n",
       "      <td>Male</td>\n",
       "      <td>0</td>\n",
       "      <td>0</td>\n",
       "      <td>25</td>\n",
       "      <td>United-States</td>\n",
       "    </tr>\n",
       "  </tbody>\n",
       "</table>\n",
       "</div>"
      ],
      "text/plain": [
       "    age     workclass  fnlwgt     education  education_num  \\\n",
       "id                                                           \n",
       "0    28       Private   67661  Some-college             10   \n",
       "1    40  Self-emp-inc   37869       HS-grad              9   \n",
       "2    20       Private  109952  Some-college             10   \n",
       "\n",
       "        marital_status         occupation    relationship   race     sex  \\\n",
       "id                                                                         \n",
       "0        Never-married       Adm-clerical  Other-relative  White  Female   \n",
       "1   Married-civ-spouse    Exec-managerial         Husband  White    Male   \n",
       "2        Never-married  Handlers-cleaners       Own-child  White    Male   \n",
       "\n",
       "    capital_gain  capital_loss  hours_per_week native_country  \n",
       "id                                                             \n",
       "0              0             0              40  United-States  \n",
       "1              0             0              50  United-States  \n",
       "2              0             0              25  United-States  "
      ]
     },
     "execution_count": 6,
     "metadata": {},
     "output_type": "execute_result"
    }
   ],
   "source": [
    "train.head(3)\n",
    "test.head(3)"
   ]
  },
  {
   "cell_type": "markdown",
   "metadata": {},
   "source": [
    "# 2. EDA & 전처리"
   ]
  },
  {
   "cell_type": "code",
   "execution_count": 7,
   "metadata": {},
   "outputs": [
    {
     "name": "stdout",
     "output_type": "stream",
     "text": [
      "<class 'pandas.core.frame.DataFrame'>\n",
      "Int64Index: 26049 entries, 0 to 26048\n",
      "Data columns (total 15 columns):\n",
      " #   Column          Non-Null Count  Dtype \n",
      "---  ------          --------------  ----- \n",
      " 0   age             26049 non-null  int64 \n",
      " 1   workclass       26049 non-null  object\n",
      " 2   fnlwgt          26049 non-null  int64 \n",
      " 3   education       26049 non-null  object\n",
      " 4   education_num   26049 non-null  int64 \n",
      " 5   marital_status  26049 non-null  object\n",
      " 6   occupation      26049 non-null  object\n",
      " 7   relationship    26049 non-null  object\n",
      " 8   race            26049 non-null  object\n",
      " 9   sex             26049 non-null  object\n",
      " 10  capital_gain    26049 non-null  int64 \n",
      " 11  capital_loss    26049 non-null  int64 \n",
      " 12  hours_per_week  26049 non-null  int64 \n",
      " 13  native_country  26049 non-null  object\n",
      " 14  income          26049 non-null  int64 \n",
      "dtypes: int64(7), object(8)\n",
      "memory usage: 3.2+ MB\n"
     ]
    },
    {
     "data": {
      "text/html": [
       "<div>\n",
       "<style scoped>\n",
       "    .dataframe tbody tr th:only-of-type {\n",
       "        vertical-align: middle;\n",
       "    }\n",
       "\n",
       "    .dataframe tbody tr th {\n",
       "        vertical-align: top;\n",
       "    }\n",
       "\n",
       "    .dataframe thead th {\n",
       "        text-align: right;\n",
       "    }\n",
       "</style>\n",
       "<table border=\"1\" class=\"dataframe\">\n",
       "  <thead>\n",
       "    <tr style=\"text-align: right;\">\n",
       "      <th></th>\n",
       "      <th>age</th>\n",
       "      <th>fnlwgt</th>\n",
       "      <th>education_num</th>\n",
       "      <th>capital_gain</th>\n",
       "      <th>capital_loss</th>\n",
       "      <th>hours_per_week</th>\n",
       "      <th>income</th>\n",
       "    </tr>\n",
       "  </thead>\n",
       "  <tbody>\n",
       "    <tr>\n",
       "      <th>count</th>\n",
       "      <td>26049.000000</td>\n",
       "      <td>2.604900e+04</td>\n",
       "      <td>26049.000000</td>\n",
       "      <td>26049.00000</td>\n",
       "      <td>26049.000000</td>\n",
       "      <td>26049.000000</td>\n",
       "      <td>26049.000000</td>\n",
       "    </tr>\n",
       "    <tr>\n",
       "      <th>mean</th>\n",
       "      <td>38.569235</td>\n",
       "      <td>1.903045e+05</td>\n",
       "      <td>10.088372</td>\n",
       "      <td>1087.68970</td>\n",
       "      <td>87.732734</td>\n",
       "      <td>40.443126</td>\n",
       "      <td>0.242044</td>\n",
       "    </tr>\n",
       "    <tr>\n",
       "      <th>std</th>\n",
       "      <td>13.671489</td>\n",
       "      <td>1.059663e+05</td>\n",
       "      <td>2.567610</td>\n",
       "      <td>7388.85469</td>\n",
       "      <td>403.230205</td>\n",
       "      <td>12.361850</td>\n",
       "      <td>0.428329</td>\n",
       "    </tr>\n",
       "    <tr>\n",
       "      <th>min</th>\n",
       "      <td>17.000000</td>\n",
       "      <td>1.376900e+04</td>\n",
       "      <td>1.000000</td>\n",
       "      <td>0.00000</td>\n",
       "      <td>0.000000</td>\n",
       "      <td>1.000000</td>\n",
       "      <td>0.000000</td>\n",
       "    </tr>\n",
       "    <tr>\n",
       "      <th>25%</th>\n",
       "      <td>28.000000</td>\n",
       "      <td>1.181080e+05</td>\n",
       "      <td>9.000000</td>\n",
       "      <td>0.00000</td>\n",
       "      <td>0.000000</td>\n",
       "      <td>40.000000</td>\n",
       "      <td>0.000000</td>\n",
       "    </tr>\n",
       "    <tr>\n",
       "      <th>50%</th>\n",
       "      <td>37.000000</td>\n",
       "      <td>1.788660e+05</td>\n",
       "      <td>10.000000</td>\n",
       "      <td>0.00000</td>\n",
       "      <td>0.000000</td>\n",
       "      <td>40.000000</td>\n",
       "      <td>0.000000</td>\n",
       "    </tr>\n",
       "    <tr>\n",
       "      <th>75%</th>\n",
       "      <td>48.000000</td>\n",
       "      <td>2.377350e+05</td>\n",
       "      <td>12.000000</td>\n",
       "      <td>0.00000</td>\n",
       "      <td>0.000000</td>\n",
       "      <td>45.000000</td>\n",
       "      <td>0.000000</td>\n",
       "    </tr>\n",
       "    <tr>\n",
       "      <th>max</th>\n",
       "      <td>90.000000</td>\n",
       "      <td>1.484705e+06</td>\n",
       "      <td>16.000000</td>\n",
       "      <td>99999.00000</td>\n",
       "      <td>4356.000000</td>\n",
       "      <td>99.000000</td>\n",
       "      <td>1.000000</td>\n",
       "    </tr>\n",
       "  </tbody>\n",
       "</table>\n",
       "</div>"
      ],
      "text/plain": [
       "                age        fnlwgt  education_num  capital_gain  capital_loss  \\\n",
       "count  26049.000000  2.604900e+04   26049.000000   26049.00000  26049.000000   \n",
       "mean      38.569235  1.903045e+05      10.088372    1087.68970     87.732734   \n",
       "std       13.671489  1.059663e+05       2.567610    7388.85469    403.230205   \n",
       "min       17.000000  1.376900e+04       1.000000       0.00000      0.000000   \n",
       "25%       28.000000  1.181080e+05       9.000000       0.00000      0.000000   \n",
       "50%       37.000000  1.788660e+05      10.000000       0.00000      0.000000   \n",
       "75%       48.000000  2.377350e+05      12.000000       0.00000      0.000000   \n",
       "max       90.000000  1.484705e+06      16.000000   99999.00000   4356.000000   \n",
       "\n",
       "       hours_per_week        income  \n",
       "count    26049.000000  26049.000000  \n",
       "mean        40.443126      0.242044  \n",
       "std         12.361850      0.428329  \n",
       "min          1.000000      0.000000  \n",
       "25%         40.000000      0.000000  \n",
       "50%         40.000000      0.000000  \n",
       "75%         45.000000      0.000000  \n",
       "max         99.000000      1.000000  "
      ]
     },
     "execution_count": 7,
     "metadata": {},
     "output_type": "execute_result"
    },
    {
     "data": {
      "text/html": [
       "<div>\n",
       "<style scoped>\n",
       "    .dataframe tbody tr th:only-of-type {\n",
       "        vertical-align: middle;\n",
       "    }\n",
       "\n",
       "    .dataframe tbody tr th {\n",
       "        vertical-align: top;\n",
       "    }\n",
       "\n",
       "    .dataframe thead th {\n",
       "        text-align: right;\n",
       "    }\n",
       "</style>\n",
       "<table border=\"1\" class=\"dataframe\">\n",
       "  <thead>\n",
       "    <tr style=\"text-align: right;\">\n",
       "      <th></th>\n",
       "      <th>workclass</th>\n",
       "      <th>education</th>\n",
       "      <th>marital_status</th>\n",
       "      <th>occupation</th>\n",
       "      <th>relationship</th>\n",
       "      <th>race</th>\n",
       "      <th>sex</th>\n",
       "      <th>native_country</th>\n",
       "    </tr>\n",
       "  </thead>\n",
       "  <tbody>\n",
       "    <tr>\n",
       "      <th>count</th>\n",
       "      <td>26049</td>\n",
       "      <td>26049</td>\n",
       "      <td>26049</td>\n",
       "      <td>26049</td>\n",
       "      <td>26049</td>\n",
       "      <td>26049</td>\n",
       "      <td>26049</td>\n",
       "      <td>26049</td>\n",
       "    </tr>\n",
       "    <tr>\n",
       "      <th>unique</th>\n",
       "      <td>9</td>\n",
       "      <td>16</td>\n",
       "      <td>7</td>\n",
       "      <td>15</td>\n",
       "      <td>6</td>\n",
       "      <td>5</td>\n",
       "      <td>2</td>\n",
       "      <td>41</td>\n",
       "    </tr>\n",
       "    <tr>\n",
       "      <th>top</th>\n",
       "      <td>Private</td>\n",
       "      <td>HS-grad</td>\n",
       "      <td>Married-civ-spouse</td>\n",
       "      <td>Prof-specialty</td>\n",
       "      <td>Husband</td>\n",
       "      <td>White</td>\n",
       "      <td>Male</td>\n",
       "      <td>United-States</td>\n",
       "    </tr>\n",
       "    <tr>\n",
       "      <th>freq</th>\n",
       "      <td>18123</td>\n",
       "      <td>8433</td>\n",
       "      <td>11970</td>\n",
       "      <td>3304</td>\n",
       "      <td>10541</td>\n",
       "      <td>22315</td>\n",
       "      <td>17482</td>\n",
       "      <td>23371</td>\n",
       "    </tr>\n",
       "  </tbody>\n",
       "</table>\n",
       "</div>"
      ],
      "text/plain": [
       "       workclass education      marital_status      occupation relationship  \\\n",
       "count      26049     26049               26049           26049        26049   \n",
       "unique         9        16                   7              15            6   \n",
       "top      Private   HS-grad  Married-civ-spouse  Prof-specialty      Husband   \n",
       "freq       18123      8433               11970            3304        10541   \n",
       "\n",
       "         race    sex native_country  \n",
       "count   26049  26049          26049  \n",
       "unique      5      2             41  \n",
       "top     White   Male  United-States  \n",
       "freq    22315  17482          23371  "
      ]
     },
     "execution_count": 7,
     "metadata": {},
     "output_type": "execute_result"
    }
   ],
   "source": [
    "train.info()\n",
    "train.describe()\n",
    "train.describe(include='O')"
   ]
  },
  {
   "cell_type": "markdown",
   "metadata": {},
   "source": [
    "## Missing Value"
   ]
  },
  {
   "cell_type": "code",
   "execution_count": 8,
   "metadata": {},
   "outputs": [
    {
     "data": {
      "text/plain": [
       "age               0\n",
       "workclass         0\n",
       "fnlwgt            0\n",
       "education         0\n",
       "education_num     0\n",
       "marital_status    0\n",
       "occupation        0\n",
       "relationship      0\n",
       "race              0\n",
       "sex               0\n",
       "capital_gain      0\n",
       "capital_loss      0\n",
       "hours_per_week    0\n",
       "native_country    0\n",
       "income            0\n",
       "dtype: int64"
      ]
     },
     "execution_count": 8,
     "metadata": {},
     "output_type": "execute_result"
    },
    {
     "data": {
      "text/plain": [
       "age               0\n",
       "workclass         0\n",
       "fnlwgt            0\n",
       "education         0\n",
       "education_num     0\n",
       "marital_status    0\n",
       "occupation        0\n",
       "relationship      0\n",
       "race              0\n",
       "sex               0\n",
       "capital_gain      0\n",
       "capital_loss      0\n",
       "hours_per_week    0\n",
       "native_country    0\n",
       "dtype: int64"
      ]
     },
     "execution_count": 8,
     "metadata": {},
     "output_type": "execute_result"
    }
   ],
   "source": [
    "train.isnull().sum()#.sum()\n",
    "test.isnull().sum()#.sum()"
   ]
  },
  {
   "cell_type": "markdown",
   "metadata": {},
   "source": [
    "### outlier"
   ]
  },
  {
   "cell_type": "markdown",
   "metadata": {},
   "source": [
    "### education"
   ]
  },
  {
   "cell_type": "code",
   "execution_count": 9,
   "metadata": {},
   "outputs": [],
   "source": [
    "train.drop(['education'],axis=1, inplace=True)\n",
    "test.drop(['education'],axis=1, inplace=True)"
   ]
  },
  {
   "cell_type": "code",
   "execution_count": null,
   "metadata": {},
   "outputs": [],
   "source": []
  },
  {
   "cell_type": "markdown",
   "metadata": {},
   "source": [
    "### capital_gain 99999"
   ]
  },
  {
   "cell_type": "code",
   "execution_count": 10,
   "metadata": {},
   "outputs": [
    {
     "data": {
      "text/plain": [
       "(32561, 14)"
      ]
     },
     "execution_count": 10,
     "metadata": {},
     "output_type": "execute_result"
    }
   ],
   "source": [
    "df = pd.concat([train, test])\n",
    "df.shape"
   ]
  },
  {
   "cell_type": "code",
   "execution_count": 11,
   "metadata": {},
   "outputs": [],
   "source": [
    "df['capital_gain_imsi'] = df['capital_gain'].replace(99999,0)"
   ]
  },
  {
   "cell_type": "code",
   "execution_count": 12,
   "metadata": {},
   "outputs": [],
   "source": [
    "capital_gain_imsi = pd.DataFrame(df.groupby(['education_num'])['capital_gain_imsi'].mean()).reset_index()"
   ]
  },
  {
   "cell_type": "code",
   "execution_count": 13,
   "metadata": {},
   "outputs": [],
   "source": [
    "train = train.merge(capital_gain_imsi, on=['education_num'], how='left')\n",
    "test = test.merge(capital_gain_imsi, on=['education_num'], how='left')"
   ]
  },
  {
   "cell_type": "code",
   "execution_count": 14,
   "metadata": {},
   "outputs": [],
   "source": [
    "train.loc[train.capital_gain == 99999, 'capital_gain'] = train['capital_gain_imsi']\n",
    "test.loc[test.capital_gain == 99999, 'capital_gain'] = test['capital_gain_imsi']"
   ]
  },
  {
   "cell_type": "code",
   "execution_count": 15,
   "metadata": {},
   "outputs": [],
   "source": [
    "train.drop(['capital_gain_imsi'],axis=1, inplace=True)\n",
    "test.drop(['capital_gain_imsi'],axis=1, inplace=True)"
   ]
  },
  {
   "cell_type": "code",
   "execution_count": null,
   "metadata": {},
   "outputs": [],
   "source": []
  },
  {
   "cell_type": "code",
   "execution_count": 29,
   "metadata": {},
   "outputs": [],
   "source": [
    "train['imsi'] = train.capital_gain*train.hours_per_week*train.fnlwgt \n",
    "test['imsi'] = test.capital_gain*test.hours_per_week*train.fnlwgt "
   ]
  },
  {
   "cell_type": "markdown",
   "metadata": {},
   "source": [
    "# 3. 모델 학습"
   ]
  },
  {
   "cell_type": "code",
   "execution_count": 17,
   "metadata": {},
   "outputs": [
    {
     "data": {
      "text/plain": [
       "37"
      ]
     },
     "execution_count": 17,
     "metadata": {},
     "output_type": "execute_result"
    }
   ],
   "source": [
    "import gc\n",
    "gc.collect()"
   ]
  },
  {
   "cell_type": "code",
   "execution_count": 18,
   "metadata": {},
   "outputs": [
    {
     "data": {
      "text/plain": [
       "Index(['age', 'workclass', 'fnlwgt', 'education_num', 'marital_status',\n",
       "       'occupation', 'relationship', 'race', 'sex', 'capital_gain',\n",
       "       'capital_loss', 'hours_per_week', 'native_country', 'income', 'imsi'],\n",
       "      dtype='object')"
      ]
     },
     "execution_count": 18,
     "metadata": {},
     "output_type": "execute_result"
    }
   ],
   "source": [
    "train.columns"
   ]
  },
  {
   "cell_type": "code",
   "execution_count": null,
   "metadata": {},
   "outputs": [],
   "source": []
  },
  {
   "cell_type": "code",
   "execution_count": 32,
   "metadata": {
    "scrolled": false
   },
   "outputs": [
    {
     "name": "stdout",
     "output_type": "stream",
     "text": [
      "Setup Succesfully Completed!\n"
     ]
    },
    {
     "data": {
      "text/html": [
       "<style  type=\"text/css\" >\n",
       "</style><table id=\"T_e9dfa774_1535_11eb_b13b_00e0201808a0\" ><thead>    <tr>        <th class=\"blank level0\" ></th>        <th class=\"col_heading level0 col0\" >Description</th>        <th class=\"col_heading level0 col1\" >Value</th>    </tr></thead><tbody>\n",
       "                <tr>\n",
       "                        <th id=\"T_e9dfa774_1535_11eb_b13b_00e0201808a0level0_row0\" class=\"row_heading level0 row0\" >0</th>\n",
       "                        <td id=\"T_e9dfa774_1535_11eb_b13b_00e0201808a0row0_col0\" class=\"data row0 col0\" >session_id</td>\n",
       "                        <td id=\"T_e9dfa774_1535_11eb_b13b_00e0201808a0row0_col1\" class=\"data row0 col1\" >42</td>\n",
       "            </tr>\n",
       "            <tr>\n",
       "                        <th id=\"T_e9dfa774_1535_11eb_b13b_00e0201808a0level0_row1\" class=\"row_heading level0 row1\" >1</th>\n",
       "                        <td id=\"T_e9dfa774_1535_11eb_b13b_00e0201808a0row1_col0\" class=\"data row1 col0\" >Target Type</td>\n",
       "                        <td id=\"T_e9dfa774_1535_11eb_b13b_00e0201808a0row1_col1\" class=\"data row1 col1\" >Binary</td>\n",
       "            </tr>\n",
       "            <tr>\n",
       "                        <th id=\"T_e9dfa774_1535_11eb_b13b_00e0201808a0level0_row2\" class=\"row_heading level0 row2\" >2</th>\n",
       "                        <td id=\"T_e9dfa774_1535_11eb_b13b_00e0201808a0row2_col0\" class=\"data row2 col0\" >Label Encoded</td>\n",
       "                        <td id=\"T_e9dfa774_1535_11eb_b13b_00e0201808a0row2_col1\" class=\"data row2 col1\" >0: 0, 1: 1</td>\n",
       "            </tr>\n",
       "            <tr>\n",
       "                        <th id=\"T_e9dfa774_1535_11eb_b13b_00e0201808a0level0_row3\" class=\"row_heading level0 row3\" >3</th>\n",
       "                        <td id=\"T_e9dfa774_1535_11eb_b13b_00e0201808a0row3_col0\" class=\"data row3 col0\" >Original Data</td>\n",
       "                        <td id=\"T_e9dfa774_1535_11eb_b13b_00e0201808a0row3_col1\" class=\"data row3 col1\" >(26049, 15)</td>\n",
       "            </tr>\n",
       "            <tr>\n",
       "                        <th id=\"T_e9dfa774_1535_11eb_b13b_00e0201808a0level0_row4\" class=\"row_heading level0 row4\" >4</th>\n",
       "                        <td id=\"T_e9dfa774_1535_11eb_b13b_00e0201808a0row4_col0\" class=\"data row4 col0\" >Missing Values </td>\n",
       "                        <td id=\"T_e9dfa774_1535_11eb_b13b_00e0201808a0row4_col1\" class=\"data row4 col1\" >False</td>\n",
       "            </tr>\n",
       "            <tr>\n",
       "                        <th id=\"T_e9dfa774_1535_11eb_b13b_00e0201808a0level0_row5\" class=\"row_heading level0 row5\" >5</th>\n",
       "                        <td id=\"T_e9dfa774_1535_11eb_b13b_00e0201808a0row5_col0\" class=\"data row5 col0\" >Numeric Features </td>\n",
       "                        <td id=\"T_e9dfa774_1535_11eb_b13b_00e0201808a0row5_col1\" class=\"data row5 col1\" >7</td>\n",
       "            </tr>\n",
       "            <tr>\n",
       "                        <th id=\"T_e9dfa774_1535_11eb_b13b_00e0201808a0level0_row6\" class=\"row_heading level0 row6\" >6</th>\n",
       "                        <td id=\"T_e9dfa774_1535_11eb_b13b_00e0201808a0row6_col0\" class=\"data row6 col0\" >Categorical Features </td>\n",
       "                        <td id=\"T_e9dfa774_1535_11eb_b13b_00e0201808a0row6_col1\" class=\"data row6 col1\" >7</td>\n",
       "            </tr>\n",
       "            <tr>\n",
       "                        <th id=\"T_e9dfa774_1535_11eb_b13b_00e0201808a0level0_row7\" class=\"row_heading level0 row7\" >7</th>\n",
       "                        <td id=\"T_e9dfa774_1535_11eb_b13b_00e0201808a0row7_col0\" class=\"data row7 col0\" >Ordinal Features </td>\n",
       "                        <td id=\"T_e9dfa774_1535_11eb_b13b_00e0201808a0row7_col1\" class=\"data row7 col1\" >False</td>\n",
       "            </tr>\n",
       "            <tr>\n",
       "                        <th id=\"T_e9dfa774_1535_11eb_b13b_00e0201808a0level0_row8\" class=\"row_heading level0 row8\" >8</th>\n",
       "                        <td id=\"T_e9dfa774_1535_11eb_b13b_00e0201808a0row8_col0\" class=\"data row8 col0\" >High Cardinality Features </td>\n",
       "                        <td id=\"T_e9dfa774_1535_11eb_b13b_00e0201808a0row8_col1\" class=\"data row8 col1\" >False</td>\n",
       "            </tr>\n",
       "            <tr>\n",
       "                        <th id=\"T_e9dfa774_1535_11eb_b13b_00e0201808a0level0_row9\" class=\"row_heading level0 row9\" >9</th>\n",
       "                        <td id=\"T_e9dfa774_1535_11eb_b13b_00e0201808a0row9_col0\" class=\"data row9 col0\" >High Cardinality Method </td>\n",
       "                        <td id=\"T_e9dfa774_1535_11eb_b13b_00e0201808a0row9_col1\" class=\"data row9 col1\" >None</td>\n",
       "            </tr>\n",
       "            <tr>\n",
       "                        <th id=\"T_e9dfa774_1535_11eb_b13b_00e0201808a0level0_row10\" class=\"row_heading level0 row10\" >10</th>\n",
       "                        <td id=\"T_e9dfa774_1535_11eb_b13b_00e0201808a0row10_col0\" class=\"data row10 col0\" >Sampled Data</td>\n",
       "                        <td id=\"T_e9dfa774_1535_11eb_b13b_00e0201808a0row10_col1\" class=\"data row10 col1\" >(18234, 15)</td>\n",
       "            </tr>\n",
       "            <tr>\n",
       "                        <th id=\"T_e9dfa774_1535_11eb_b13b_00e0201808a0level0_row11\" class=\"row_heading level0 row11\" >11</th>\n",
       "                        <td id=\"T_e9dfa774_1535_11eb_b13b_00e0201808a0row11_col0\" class=\"data row11 col0\" >Transformed Train Set</td>\n",
       "                        <td id=\"T_e9dfa774_1535_11eb_b13b_00e0201808a0row11_col1\" class=\"data row11 col1\" >(12763, 91)</td>\n",
       "            </tr>\n",
       "            <tr>\n",
       "                        <th id=\"T_e9dfa774_1535_11eb_b13b_00e0201808a0level0_row12\" class=\"row_heading level0 row12\" >12</th>\n",
       "                        <td id=\"T_e9dfa774_1535_11eb_b13b_00e0201808a0row12_col0\" class=\"data row12 col0\" >Transformed Test Set</td>\n",
       "                        <td id=\"T_e9dfa774_1535_11eb_b13b_00e0201808a0row12_col1\" class=\"data row12 col1\" >(5471, 91)</td>\n",
       "            </tr>\n",
       "            <tr>\n",
       "                        <th id=\"T_e9dfa774_1535_11eb_b13b_00e0201808a0level0_row13\" class=\"row_heading level0 row13\" >13</th>\n",
       "                        <td id=\"T_e9dfa774_1535_11eb_b13b_00e0201808a0row13_col0\" class=\"data row13 col0\" >Numeric Imputer </td>\n",
       "                        <td id=\"T_e9dfa774_1535_11eb_b13b_00e0201808a0row13_col1\" class=\"data row13 col1\" >mean</td>\n",
       "            </tr>\n",
       "            <tr>\n",
       "                        <th id=\"T_e9dfa774_1535_11eb_b13b_00e0201808a0level0_row14\" class=\"row_heading level0 row14\" >14</th>\n",
       "                        <td id=\"T_e9dfa774_1535_11eb_b13b_00e0201808a0row14_col0\" class=\"data row14 col0\" >Categorical Imputer </td>\n",
       "                        <td id=\"T_e9dfa774_1535_11eb_b13b_00e0201808a0row14_col1\" class=\"data row14 col1\" >constant</td>\n",
       "            </tr>\n",
       "            <tr>\n",
       "                        <th id=\"T_e9dfa774_1535_11eb_b13b_00e0201808a0level0_row15\" class=\"row_heading level0 row15\" >15</th>\n",
       "                        <td id=\"T_e9dfa774_1535_11eb_b13b_00e0201808a0row15_col0\" class=\"data row15 col0\" >Normalize </td>\n",
       "                        <td id=\"T_e9dfa774_1535_11eb_b13b_00e0201808a0row15_col1\" class=\"data row15 col1\" >False</td>\n",
       "            </tr>\n",
       "            <tr>\n",
       "                        <th id=\"T_e9dfa774_1535_11eb_b13b_00e0201808a0level0_row16\" class=\"row_heading level0 row16\" >16</th>\n",
       "                        <td id=\"T_e9dfa774_1535_11eb_b13b_00e0201808a0row16_col0\" class=\"data row16 col0\" >Normalize Method </td>\n",
       "                        <td id=\"T_e9dfa774_1535_11eb_b13b_00e0201808a0row16_col1\" class=\"data row16 col1\" >None</td>\n",
       "            </tr>\n",
       "            <tr>\n",
       "                        <th id=\"T_e9dfa774_1535_11eb_b13b_00e0201808a0level0_row17\" class=\"row_heading level0 row17\" >17</th>\n",
       "                        <td id=\"T_e9dfa774_1535_11eb_b13b_00e0201808a0row17_col0\" class=\"data row17 col0\" >Transformation </td>\n",
       "                        <td id=\"T_e9dfa774_1535_11eb_b13b_00e0201808a0row17_col1\" class=\"data row17 col1\" >False</td>\n",
       "            </tr>\n",
       "            <tr>\n",
       "                        <th id=\"T_e9dfa774_1535_11eb_b13b_00e0201808a0level0_row18\" class=\"row_heading level0 row18\" >18</th>\n",
       "                        <td id=\"T_e9dfa774_1535_11eb_b13b_00e0201808a0row18_col0\" class=\"data row18 col0\" >Transformation Method </td>\n",
       "                        <td id=\"T_e9dfa774_1535_11eb_b13b_00e0201808a0row18_col1\" class=\"data row18 col1\" >None</td>\n",
       "            </tr>\n",
       "            <tr>\n",
       "                        <th id=\"T_e9dfa774_1535_11eb_b13b_00e0201808a0level0_row19\" class=\"row_heading level0 row19\" >19</th>\n",
       "                        <td id=\"T_e9dfa774_1535_11eb_b13b_00e0201808a0row19_col0\" class=\"data row19 col0\" >PCA </td>\n",
       "                        <td id=\"T_e9dfa774_1535_11eb_b13b_00e0201808a0row19_col1\" class=\"data row19 col1\" >False</td>\n",
       "            </tr>\n",
       "            <tr>\n",
       "                        <th id=\"T_e9dfa774_1535_11eb_b13b_00e0201808a0level0_row20\" class=\"row_heading level0 row20\" >20</th>\n",
       "                        <td id=\"T_e9dfa774_1535_11eb_b13b_00e0201808a0row20_col0\" class=\"data row20 col0\" >PCA Method </td>\n",
       "                        <td id=\"T_e9dfa774_1535_11eb_b13b_00e0201808a0row20_col1\" class=\"data row20 col1\" >None</td>\n",
       "            </tr>\n",
       "            <tr>\n",
       "                        <th id=\"T_e9dfa774_1535_11eb_b13b_00e0201808a0level0_row21\" class=\"row_heading level0 row21\" >21</th>\n",
       "                        <td id=\"T_e9dfa774_1535_11eb_b13b_00e0201808a0row21_col0\" class=\"data row21 col0\" >PCA Components </td>\n",
       "                        <td id=\"T_e9dfa774_1535_11eb_b13b_00e0201808a0row21_col1\" class=\"data row21 col1\" >None</td>\n",
       "            </tr>\n",
       "            <tr>\n",
       "                        <th id=\"T_e9dfa774_1535_11eb_b13b_00e0201808a0level0_row22\" class=\"row_heading level0 row22\" >22</th>\n",
       "                        <td id=\"T_e9dfa774_1535_11eb_b13b_00e0201808a0row22_col0\" class=\"data row22 col0\" >Ignore Low Variance </td>\n",
       "                        <td id=\"T_e9dfa774_1535_11eb_b13b_00e0201808a0row22_col1\" class=\"data row22 col1\" >False</td>\n",
       "            </tr>\n",
       "            <tr>\n",
       "                        <th id=\"T_e9dfa774_1535_11eb_b13b_00e0201808a0level0_row23\" class=\"row_heading level0 row23\" >23</th>\n",
       "                        <td id=\"T_e9dfa774_1535_11eb_b13b_00e0201808a0row23_col0\" class=\"data row23 col0\" >Combine Rare Levels </td>\n",
       "                        <td id=\"T_e9dfa774_1535_11eb_b13b_00e0201808a0row23_col1\" class=\"data row23 col1\" >False</td>\n",
       "            </tr>\n",
       "            <tr>\n",
       "                        <th id=\"T_e9dfa774_1535_11eb_b13b_00e0201808a0level0_row24\" class=\"row_heading level0 row24\" >24</th>\n",
       "                        <td id=\"T_e9dfa774_1535_11eb_b13b_00e0201808a0row24_col0\" class=\"data row24 col0\" >Rare Level Threshold </td>\n",
       "                        <td id=\"T_e9dfa774_1535_11eb_b13b_00e0201808a0row24_col1\" class=\"data row24 col1\" >None</td>\n",
       "            </tr>\n",
       "            <tr>\n",
       "                        <th id=\"T_e9dfa774_1535_11eb_b13b_00e0201808a0level0_row25\" class=\"row_heading level0 row25\" >25</th>\n",
       "                        <td id=\"T_e9dfa774_1535_11eb_b13b_00e0201808a0row25_col0\" class=\"data row25 col0\" >Numeric Binning </td>\n",
       "                        <td id=\"T_e9dfa774_1535_11eb_b13b_00e0201808a0row25_col1\" class=\"data row25 col1\" >False</td>\n",
       "            </tr>\n",
       "            <tr>\n",
       "                        <th id=\"T_e9dfa774_1535_11eb_b13b_00e0201808a0level0_row26\" class=\"row_heading level0 row26\" >26</th>\n",
       "                        <td id=\"T_e9dfa774_1535_11eb_b13b_00e0201808a0row26_col0\" class=\"data row26 col0\" >Remove Outliers </td>\n",
       "                        <td id=\"T_e9dfa774_1535_11eb_b13b_00e0201808a0row26_col1\" class=\"data row26 col1\" >False</td>\n",
       "            </tr>\n",
       "            <tr>\n",
       "                        <th id=\"T_e9dfa774_1535_11eb_b13b_00e0201808a0level0_row27\" class=\"row_heading level0 row27\" >27</th>\n",
       "                        <td id=\"T_e9dfa774_1535_11eb_b13b_00e0201808a0row27_col0\" class=\"data row27 col0\" >Outliers Threshold </td>\n",
       "                        <td id=\"T_e9dfa774_1535_11eb_b13b_00e0201808a0row27_col1\" class=\"data row27 col1\" >None</td>\n",
       "            </tr>\n",
       "            <tr>\n",
       "                        <th id=\"T_e9dfa774_1535_11eb_b13b_00e0201808a0level0_row28\" class=\"row_heading level0 row28\" >28</th>\n",
       "                        <td id=\"T_e9dfa774_1535_11eb_b13b_00e0201808a0row28_col0\" class=\"data row28 col0\" >Remove Multicollinearity </td>\n",
       "                        <td id=\"T_e9dfa774_1535_11eb_b13b_00e0201808a0row28_col1\" class=\"data row28 col1\" >False</td>\n",
       "            </tr>\n",
       "            <tr>\n",
       "                        <th id=\"T_e9dfa774_1535_11eb_b13b_00e0201808a0level0_row29\" class=\"row_heading level0 row29\" >29</th>\n",
       "                        <td id=\"T_e9dfa774_1535_11eb_b13b_00e0201808a0row29_col0\" class=\"data row29 col0\" >Multicollinearity Threshold </td>\n",
       "                        <td id=\"T_e9dfa774_1535_11eb_b13b_00e0201808a0row29_col1\" class=\"data row29 col1\" >None</td>\n",
       "            </tr>\n",
       "            <tr>\n",
       "                        <th id=\"T_e9dfa774_1535_11eb_b13b_00e0201808a0level0_row30\" class=\"row_heading level0 row30\" >30</th>\n",
       "                        <td id=\"T_e9dfa774_1535_11eb_b13b_00e0201808a0row30_col0\" class=\"data row30 col0\" >Clustering </td>\n",
       "                        <td id=\"T_e9dfa774_1535_11eb_b13b_00e0201808a0row30_col1\" class=\"data row30 col1\" >False</td>\n",
       "            </tr>\n",
       "            <tr>\n",
       "                        <th id=\"T_e9dfa774_1535_11eb_b13b_00e0201808a0level0_row31\" class=\"row_heading level0 row31\" >31</th>\n",
       "                        <td id=\"T_e9dfa774_1535_11eb_b13b_00e0201808a0row31_col0\" class=\"data row31 col0\" >Clustering Iteration </td>\n",
       "                        <td id=\"T_e9dfa774_1535_11eb_b13b_00e0201808a0row31_col1\" class=\"data row31 col1\" >None</td>\n",
       "            </tr>\n",
       "            <tr>\n",
       "                        <th id=\"T_e9dfa774_1535_11eb_b13b_00e0201808a0level0_row32\" class=\"row_heading level0 row32\" >32</th>\n",
       "                        <td id=\"T_e9dfa774_1535_11eb_b13b_00e0201808a0row32_col0\" class=\"data row32 col0\" >Polynomial Features </td>\n",
       "                        <td id=\"T_e9dfa774_1535_11eb_b13b_00e0201808a0row32_col1\" class=\"data row32 col1\" >False</td>\n",
       "            </tr>\n",
       "            <tr>\n",
       "                        <th id=\"T_e9dfa774_1535_11eb_b13b_00e0201808a0level0_row33\" class=\"row_heading level0 row33\" >33</th>\n",
       "                        <td id=\"T_e9dfa774_1535_11eb_b13b_00e0201808a0row33_col0\" class=\"data row33 col0\" >Polynomial Degree </td>\n",
       "                        <td id=\"T_e9dfa774_1535_11eb_b13b_00e0201808a0row33_col1\" class=\"data row33 col1\" >None</td>\n",
       "            </tr>\n",
       "            <tr>\n",
       "                        <th id=\"T_e9dfa774_1535_11eb_b13b_00e0201808a0level0_row34\" class=\"row_heading level0 row34\" >34</th>\n",
       "                        <td id=\"T_e9dfa774_1535_11eb_b13b_00e0201808a0row34_col0\" class=\"data row34 col0\" >Trignometry Features </td>\n",
       "                        <td id=\"T_e9dfa774_1535_11eb_b13b_00e0201808a0row34_col1\" class=\"data row34 col1\" >False</td>\n",
       "            </tr>\n",
       "            <tr>\n",
       "                        <th id=\"T_e9dfa774_1535_11eb_b13b_00e0201808a0level0_row35\" class=\"row_heading level0 row35\" >35</th>\n",
       "                        <td id=\"T_e9dfa774_1535_11eb_b13b_00e0201808a0row35_col0\" class=\"data row35 col0\" >Polynomial Threshold </td>\n",
       "                        <td id=\"T_e9dfa774_1535_11eb_b13b_00e0201808a0row35_col1\" class=\"data row35 col1\" >None</td>\n",
       "            </tr>\n",
       "            <tr>\n",
       "                        <th id=\"T_e9dfa774_1535_11eb_b13b_00e0201808a0level0_row36\" class=\"row_heading level0 row36\" >36</th>\n",
       "                        <td id=\"T_e9dfa774_1535_11eb_b13b_00e0201808a0row36_col0\" class=\"data row36 col0\" >Group Features </td>\n",
       "                        <td id=\"T_e9dfa774_1535_11eb_b13b_00e0201808a0row36_col1\" class=\"data row36 col1\" >False</td>\n",
       "            </tr>\n",
       "            <tr>\n",
       "                        <th id=\"T_e9dfa774_1535_11eb_b13b_00e0201808a0level0_row37\" class=\"row_heading level0 row37\" >37</th>\n",
       "                        <td id=\"T_e9dfa774_1535_11eb_b13b_00e0201808a0row37_col0\" class=\"data row37 col0\" >Feature Selection </td>\n",
       "                        <td id=\"T_e9dfa774_1535_11eb_b13b_00e0201808a0row37_col1\" class=\"data row37 col1\" >False</td>\n",
       "            </tr>\n",
       "            <tr>\n",
       "                        <th id=\"T_e9dfa774_1535_11eb_b13b_00e0201808a0level0_row38\" class=\"row_heading level0 row38\" >38</th>\n",
       "                        <td id=\"T_e9dfa774_1535_11eb_b13b_00e0201808a0row38_col0\" class=\"data row38 col0\" >Features Selection Threshold </td>\n",
       "                        <td id=\"T_e9dfa774_1535_11eb_b13b_00e0201808a0row38_col1\" class=\"data row38 col1\" >None</td>\n",
       "            </tr>\n",
       "            <tr>\n",
       "                        <th id=\"T_e9dfa774_1535_11eb_b13b_00e0201808a0level0_row39\" class=\"row_heading level0 row39\" >39</th>\n",
       "                        <td id=\"T_e9dfa774_1535_11eb_b13b_00e0201808a0row39_col0\" class=\"data row39 col0\" >Feature Interaction </td>\n",
       "                        <td id=\"T_e9dfa774_1535_11eb_b13b_00e0201808a0row39_col1\" class=\"data row39 col1\" >False</td>\n",
       "            </tr>\n",
       "            <tr>\n",
       "                        <th id=\"T_e9dfa774_1535_11eb_b13b_00e0201808a0level0_row40\" class=\"row_heading level0 row40\" >40</th>\n",
       "                        <td id=\"T_e9dfa774_1535_11eb_b13b_00e0201808a0row40_col0\" class=\"data row40 col0\" >Feature Ratio </td>\n",
       "                        <td id=\"T_e9dfa774_1535_11eb_b13b_00e0201808a0row40_col1\" class=\"data row40 col1\" >False</td>\n",
       "            </tr>\n",
       "            <tr>\n",
       "                        <th id=\"T_e9dfa774_1535_11eb_b13b_00e0201808a0level0_row41\" class=\"row_heading level0 row41\" >41</th>\n",
       "                        <td id=\"T_e9dfa774_1535_11eb_b13b_00e0201808a0row41_col0\" class=\"data row41 col0\" >Interaction Threshold </td>\n",
       "                        <td id=\"T_e9dfa774_1535_11eb_b13b_00e0201808a0row41_col1\" class=\"data row41 col1\" >None</td>\n",
       "            </tr>\n",
       "            <tr>\n",
       "                        <th id=\"T_e9dfa774_1535_11eb_b13b_00e0201808a0level0_row42\" class=\"row_heading level0 row42\" >42</th>\n",
       "                        <td id=\"T_e9dfa774_1535_11eb_b13b_00e0201808a0row42_col0\" class=\"data row42 col0\" >Fix Imbalance</td>\n",
       "                        <td id=\"T_e9dfa774_1535_11eb_b13b_00e0201808a0row42_col1\" class=\"data row42 col1\" >False</td>\n",
       "            </tr>\n",
       "            <tr>\n",
       "                        <th id=\"T_e9dfa774_1535_11eb_b13b_00e0201808a0level0_row43\" class=\"row_heading level0 row43\" >43</th>\n",
       "                        <td id=\"T_e9dfa774_1535_11eb_b13b_00e0201808a0row43_col0\" class=\"data row43 col0\" >Fix Imbalance Method</td>\n",
       "                        <td id=\"T_e9dfa774_1535_11eb_b13b_00e0201808a0row43_col1\" class=\"data row43 col1\" >SMOTE</td>\n",
       "            </tr>\n",
       "    </tbody></table>"
      ],
      "text/plain": [
       "<pandas.io.formats.style.Styler at 0x233bfa7e688>"
      ]
     },
     "metadata": {},
     "output_type": "display_data"
    },
    {
     "name": "stdout",
     "output_type": "stream",
     "text": [
      "Wall time: 3.31 s\n"
     ]
    }
   ],
   "source": [
    "%%time\n",
    "clf = setup(session_id=seed, \n",
    "            data = train, target = 'income'\n",
    "          #, categorical_features=col_cat\n",
    "          , numeric_features = ['education_num']\n",
    "          , ignore_features =['fnlwgt']\n",
    "           )"
   ]
  },
  {
   "cell_type": "code",
   "execution_count": 33,
   "metadata": {},
   "outputs": [
    {
     "data": {
      "text/html": [
       "<style  type=\"text/css\" >\n",
       "    #T_ab7c518c_1536_11eb_90a4_00e0201808a0 th {\n",
       "          text-align: left;\n",
       "    }#T_ab7c518c_1536_11eb_90a4_00e0201808a0row0_col0,#T_ab7c518c_1536_11eb_90a4_00e0201808a0row0_col3,#T_ab7c518c_1536_11eb_90a4_00e0201808a0row0_col4,#T_ab7c518c_1536_11eb_90a4_00e0201808a0row1_col0,#T_ab7c518c_1536_11eb_90a4_00e0201808a0row1_col1,#T_ab7c518c_1536_11eb_90a4_00e0201808a0row1_col2,#T_ab7c518c_1536_11eb_90a4_00e0201808a0row1_col4,#T_ab7c518c_1536_11eb_90a4_00e0201808a0row1_col5,#T_ab7c518c_1536_11eb_90a4_00e0201808a0row1_col6,#T_ab7c518c_1536_11eb_90a4_00e0201808a0row1_col7,#T_ab7c518c_1536_11eb_90a4_00e0201808a0row2_col0,#T_ab7c518c_1536_11eb_90a4_00e0201808a0row2_col1,#T_ab7c518c_1536_11eb_90a4_00e0201808a0row2_col2,#T_ab7c518c_1536_11eb_90a4_00e0201808a0row2_col3,#T_ab7c518c_1536_11eb_90a4_00e0201808a0row2_col4,#T_ab7c518c_1536_11eb_90a4_00e0201808a0row2_col5,#T_ab7c518c_1536_11eb_90a4_00e0201808a0row2_col6,#T_ab7c518c_1536_11eb_90a4_00e0201808a0row2_col7,#T_ab7c518c_1536_11eb_90a4_00e0201808a0row3_col0,#T_ab7c518c_1536_11eb_90a4_00e0201808a0row3_col1,#T_ab7c518c_1536_11eb_90a4_00e0201808a0row3_col2,#T_ab7c518c_1536_11eb_90a4_00e0201808a0row3_col3,#T_ab7c518c_1536_11eb_90a4_00e0201808a0row3_col5,#T_ab7c518c_1536_11eb_90a4_00e0201808a0row3_col6,#T_ab7c518c_1536_11eb_90a4_00e0201808a0row3_col7,#T_ab7c518c_1536_11eb_90a4_00e0201808a0row4_col0,#T_ab7c518c_1536_11eb_90a4_00e0201808a0row4_col1,#T_ab7c518c_1536_11eb_90a4_00e0201808a0row4_col2,#T_ab7c518c_1536_11eb_90a4_00e0201808a0row4_col3,#T_ab7c518c_1536_11eb_90a4_00e0201808a0row4_col4,#T_ab7c518c_1536_11eb_90a4_00e0201808a0row4_col5,#T_ab7c518c_1536_11eb_90a4_00e0201808a0row4_col6,#T_ab7c518c_1536_11eb_90a4_00e0201808a0row4_col7,#T_ab7c518c_1536_11eb_90a4_00e0201808a0row5_col0,#T_ab7c518c_1536_11eb_90a4_00e0201808a0row5_col1,#T_ab7c518c_1536_11eb_90a4_00e0201808a0row5_col2,#T_ab7c518c_1536_11eb_90a4_00e0201808a0row5_col3,#T_ab7c518c_1536_11eb_90a4_00e0201808a0row5_col4,#T_ab7c518c_1536_11eb_90a4_00e0201808a0row5_col5,#T_ab7c518c_1536_11eb_90a4_00e0201808a0row5_col6,#T_ab7c518c_1536_11eb_90a4_00e0201808a0row5_col7,#T_ab7c518c_1536_11eb_90a4_00e0201808a0row6_col0,#T_ab7c518c_1536_11eb_90a4_00e0201808a0row6_col1,#T_ab7c518c_1536_11eb_90a4_00e0201808a0row6_col2,#T_ab7c518c_1536_11eb_90a4_00e0201808a0row6_col3,#T_ab7c518c_1536_11eb_90a4_00e0201808a0row6_col4,#T_ab7c518c_1536_11eb_90a4_00e0201808a0row6_col5,#T_ab7c518c_1536_11eb_90a4_00e0201808a0row6_col6,#T_ab7c518c_1536_11eb_90a4_00e0201808a0row6_col7,#T_ab7c518c_1536_11eb_90a4_00e0201808a0row7_col0,#T_ab7c518c_1536_11eb_90a4_00e0201808a0row7_col1,#T_ab7c518c_1536_11eb_90a4_00e0201808a0row7_col2,#T_ab7c518c_1536_11eb_90a4_00e0201808a0row7_col3,#T_ab7c518c_1536_11eb_90a4_00e0201808a0row7_col4,#T_ab7c518c_1536_11eb_90a4_00e0201808a0row7_col5,#T_ab7c518c_1536_11eb_90a4_00e0201808a0row7_col6,#T_ab7c518c_1536_11eb_90a4_00e0201808a0row7_col7{\n",
       "            text-align:  left;\n",
       "        }#T_ab7c518c_1536_11eb_90a4_00e0201808a0row0_col1,#T_ab7c518c_1536_11eb_90a4_00e0201808a0row0_col2,#T_ab7c518c_1536_11eb_90a4_00e0201808a0row0_col5,#T_ab7c518c_1536_11eb_90a4_00e0201808a0row0_col6,#T_ab7c518c_1536_11eb_90a4_00e0201808a0row0_col7,#T_ab7c518c_1536_11eb_90a4_00e0201808a0row1_col3,#T_ab7c518c_1536_11eb_90a4_00e0201808a0row3_col4{\n",
       "            background-color:  yellow;\n",
       "            text-align:  left;\n",
       "        }#T_ab7c518c_1536_11eb_90a4_00e0201808a0row0_col8,#T_ab7c518c_1536_11eb_90a4_00e0201808a0row1_col8,#T_ab7c518c_1536_11eb_90a4_00e0201808a0row2_col8,#T_ab7c518c_1536_11eb_90a4_00e0201808a0row3_col8,#T_ab7c518c_1536_11eb_90a4_00e0201808a0row4_col8,#T_ab7c518c_1536_11eb_90a4_00e0201808a0row5_col8,#T_ab7c518c_1536_11eb_90a4_00e0201808a0row6_col8,#T_ab7c518c_1536_11eb_90a4_00e0201808a0row7_col8{\n",
       "            background-color:  lightgrey;\n",
       "            text-align:  left;\n",
       "        }</style><table id=\"T_ab7c518c_1536_11eb_90a4_00e0201808a0\" ><thead>    <tr>        <th class=\"blank level0\" ></th>        <th class=\"col_heading level0 col0\" >Model</th>        <th class=\"col_heading level0 col1\" >Accuracy</th>        <th class=\"col_heading level0 col2\" >AUC</th>        <th class=\"col_heading level0 col3\" >Recall</th>        <th class=\"col_heading level0 col4\" >Prec.</th>        <th class=\"col_heading level0 col5\" >F1</th>        <th class=\"col_heading level0 col6\" >Kappa</th>        <th class=\"col_heading level0 col7\" >MCC</th>        <th class=\"col_heading level0 col8\" >TT (Sec)</th>    </tr></thead><tbody>\n",
       "                <tr>\n",
       "                        <th id=\"T_ab7c518c_1536_11eb_90a4_00e0201808a0level0_row0\" class=\"row_heading level0 row0\" >0</th>\n",
       "                        <td id=\"T_ab7c518c_1536_11eb_90a4_00e0201808a0row0_col0\" class=\"data row0 col0\" >CatBoost Classifier</td>\n",
       "                        <td id=\"T_ab7c518c_1536_11eb_90a4_00e0201808a0row0_col1\" class=\"data row0 col1\" >0.8672</td>\n",
       "                        <td id=\"T_ab7c518c_1536_11eb_90a4_00e0201808a0row0_col2\" class=\"data row0 col2\" >0.9241</td>\n",
       "                        <td id=\"T_ab7c518c_1536_11eb_90a4_00e0201808a0row0_col3\" class=\"data row0 col3\" >0.6377</td>\n",
       "                        <td id=\"T_ab7c518c_1536_11eb_90a4_00e0201808a0row0_col4\" class=\"data row0 col4\" >0.7742</td>\n",
       "                        <td id=\"T_ab7c518c_1536_11eb_90a4_00e0201808a0row0_col5\" class=\"data row0 col5\" >0.6991</td>\n",
       "                        <td id=\"T_ab7c518c_1536_11eb_90a4_00e0201808a0row0_col6\" class=\"data row0 col6\" >0.6150</td>\n",
       "                        <td id=\"T_ab7c518c_1536_11eb_90a4_00e0201808a0row0_col7\" class=\"data row0 col7\" >0.6199</td>\n",
       "                        <td id=\"T_ab7c518c_1536_11eb_90a4_00e0201808a0row0_col8\" class=\"data row0 col8\" >10.8585</td>\n",
       "            </tr>\n",
       "            <tr>\n",
       "                        <th id=\"T_ab7c518c_1536_11eb_90a4_00e0201808a0level0_row1\" class=\"row_heading level0 row1\" >1</th>\n",
       "                        <td id=\"T_ab7c518c_1536_11eb_90a4_00e0201808a0row1_col0\" class=\"data row1 col0\" >Light Gradient Boosting Machine</td>\n",
       "                        <td id=\"T_ab7c518c_1536_11eb_90a4_00e0201808a0row1_col1\" class=\"data row1 col1\" >0.8635</td>\n",
       "                        <td id=\"T_ab7c518c_1536_11eb_90a4_00e0201808a0row1_col2\" class=\"data row1 col2\" >0.9213</td>\n",
       "                        <td id=\"T_ab7c518c_1536_11eb_90a4_00e0201808a0row1_col3\" class=\"data row1 col3\" >0.6475</td>\n",
       "                        <td id=\"T_ab7c518c_1536_11eb_90a4_00e0201808a0row1_col4\" class=\"data row1 col4\" >0.7539</td>\n",
       "                        <td id=\"T_ab7c518c_1536_11eb_90a4_00e0201808a0row1_col5\" class=\"data row1 col5\" >0.6965</td>\n",
       "                        <td id=\"T_ab7c518c_1536_11eb_90a4_00e0201808a0row1_col6\" class=\"data row1 col6\" >0.6091</td>\n",
       "                        <td id=\"T_ab7c518c_1536_11eb_90a4_00e0201808a0row1_col7\" class=\"data row1 col7\" >0.6122</td>\n",
       "                        <td id=\"T_ab7c518c_1536_11eb_90a4_00e0201808a0row1_col8\" class=\"data row1 col8\" >0.2607</td>\n",
       "            </tr>\n",
       "            <tr>\n",
       "                        <th id=\"T_ab7c518c_1536_11eb_90a4_00e0201808a0level0_row2\" class=\"row_heading level0 row2\" >2</th>\n",
       "                        <td id=\"T_ab7c518c_1536_11eb_90a4_00e0201808a0row2_col0\" class=\"data row2 col0\" >Extreme Gradient Boosting</td>\n",
       "                        <td id=\"T_ab7c518c_1536_11eb_90a4_00e0201808a0row2_col1\" class=\"data row2 col1\" >0.8609</td>\n",
       "                        <td id=\"T_ab7c518c_1536_11eb_90a4_00e0201808a0row2_col2\" class=\"data row2 col2\" >0.9214</td>\n",
       "                        <td id=\"T_ab7c518c_1536_11eb_90a4_00e0201808a0row2_col3\" class=\"data row2 col3\" >0.6429</td>\n",
       "                        <td id=\"T_ab7c518c_1536_11eb_90a4_00e0201808a0row2_col4\" class=\"data row2 col4\" >0.7476</td>\n",
       "                        <td id=\"T_ab7c518c_1536_11eb_90a4_00e0201808a0row2_col5\" class=\"data row2 col5\" >0.6911</td>\n",
       "                        <td id=\"T_ab7c518c_1536_11eb_90a4_00e0201808a0row2_col6\" class=\"data row2 col6\" >0.6020</td>\n",
       "                        <td id=\"T_ab7c518c_1536_11eb_90a4_00e0201808a0row2_col7\" class=\"data row2 col7\" >0.6050</td>\n",
       "                        <td id=\"T_ab7c518c_1536_11eb_90a4_00e0201808a0row2_col8\" class=\"data row2 col8\" >2.0253</td>\n",
       "            </tr>\n",
       "            <tr>\n",
       "                        <th id=\"T_ab7c518c_1536_11eb_90a4_00e0201808a0level0_row3\" class=\"row_heading level0 row3\" >3</th>\n",
       "                        <td id=\"T_ab7c518c_1536_11eb_90a4_00e0201808a0row3_col0\" class=\"data row3 col0\" >Gradient Boosting Classifier</td>\n",
       "                        <td id=\"T_ab7c518c_1536_11eb_90a4_00e0201808a0row3_col1\" class=\"data row3 col1\" >0.8621</td>\n",
       "                        <td id=\"T_ab7c518c_1536_11eb_90a4_00e0201808a0row3_col2\" class=\"data row3 col2\" >0.9182</td>\n",
       "                        <td id=\"T_ab7c518c_1536_11eb_90a4_00e0201808a0row3_col3\" class=\"data row3 col3\" >0.6044</td>\n",
       "                        <td id=\"T_ab7c518c_1536_11eb_90a4_00e0201808a0row3_col4\" class=\"data row3 col4\" >0.7766</td>\n",
       "                        <td id=\"T_ab7c518c_1536_11eb_90a4_00e0201808a0row3_col5\" class=\"data row3 col5\" >0.6796</td>\n",
       "                        <td id=\"T_ab7c518c_1536_11eb_90a4_00e0201808a0row3_col6\" class=\"data row3 col6\" >0.5935</td>\n",
       "                        <td id=\"T_ab7c518c_1536_11eb_90a4_00e0201808a0row3_col7\" class=\"data row3 col7\" >0.6012</td>\n",
       "                        <td id=\"T_ab7c518c_1536_11eb_90a4_00e0201808a0row3_col8\" class=\"data row3 col8\" >1.7269</td>\n",
       "            </tr>\n",
       "            <tr>\n",
       "                        <th id=\"T_ab7c518c_1536_11eb_90a4_00e0201808a0level0_row4\" class=\"row_heading level0 row4\" >4</th>\n",
       "                        <td id=\"T_ab7c518c_1536_11eb_90a4_00e0201808a0row4_col0\" class=\"data row4 col0\" >Ada Boost Classifier</td>\n",
       "                        <td id=\"T_ab7c518c_1536_11eb_90a4_00e0201808a0row4_col1\" class=\"data row4 col1\" >0.8562</td>\n",
       "                        <td id=\"T_ab7c518c_1536_11eb_90a4_00e0201808a0row4_col2\" class=\"data row4 col2\" >0.9115</td>\n",
       "                        <td id=\"T_ab7c518c_1536_11eb_90a4_00e0201808a0row4_col3\" class=\"data row4 col3\" >0.6125</td>\n",
       "                        <td id=\"T_ab7c518c_1536_11eb_90a4_00e0201808a0row4_col4\" class=\"data row4 col4\" >0.7484</td>\n",
       "                        <td id=\"T_ab7c518c_1536_11eb_90a4_00e0201808a0row4_col5\" class=\"data row4 col5\" >0.6734</td>\n",
       "                        <td id=\"T_ab7c518c_1536_11eb_90a4_00e0201808a0row4_col6\" class=\"data row4 col6\" >0.5824</td>\n",
       "                        <td id=\"T_ab7c518c_1536_11eb_90a4_00e0201808a0row4_col7\" class=\"data row4 col7\" >0.5874</td>\n",
       "                        <td id=\"T_ab7c518c_1536_11eb_90a4_00e0201808a0row4_col8\" class=\"data row4 col8\" >0.7011</td>\n",
       "            </tr>\n",
       "            <tr>\n",
       "                        <th id=\"T_ab7c518c_1536_11eb_90a4_00e0201808a0level0_row5\" class=\"row_heading level0 row5\" >5</th>\n",
       "                        <td id=\"T_ab7c518c_1536_11eb_90a4_00e0201808a0row5_col0\" class=\"data row5 col0\" >Linear Discriminant Analysis</td>\n",
       "                        <td id=\"T_ab7c518c_1536_11eb_90a4_00e0201808a0row5_col1\" class=\"data row5 col1\" >0.8457</td>\n",
       "                        <td id=\"T_ab7c518c_1536_11eb_90a4_00e0201808a0row5_col2\" class=\"data row5 col2\" >0.8998</td>\n",
       "                        <td id=\"T_ab7c518c_1536_11eb_90a4_00e0201808a0row5_col3\" class=\"data row5 col3\" >0.5905</td>\n",
       "                        <td id=\"T_ab7c518c_1536_11eb_90a4_00e0201808a0row5_col4\" class=\"data row5 col4\" >0.7220</td>\n",
       "                        <td id=\"T_ab7c518c_1536_11eb_90a4_00e0201808a0row5_col5\" class=\"data row5 col5\" >0.6492</td>\n",
       "                        <td id=\"T_ab7c518c_1536_11eb_90a4_00e0201808a0row5_col6\" class=\"data row5 col6\" >0.5516</td>\n",
       "                        <td id=\"T_ab7c518c_1536_11eb_90a4_00e0201808a0row5_col7\" class=\"data row5 col7\" >0.5565</td>\n",
       "                        <td id=\"T_ab7c518c_1536_11eb_90a4_00e0201808a0row5_col8\" class=\"data row5 col8\" >0.1776</td>\n",
       "            </tr>\n",
       "            <tr>\n",
       "                        <th id=\"T_ab7c518c_1536_11eb_90a4_00e0201808a0level0_row6\" class=\"row_heading level0 row6\" >6</th>\n",
       "                        <td id=\"T_ab7c518c_1536_11eb_90a4_00e0201808a0row6_col0\" class=\"data row6 col0\" >Random Forest Classifier</td>\n",
       "                        <td id=\"T_ab7c518c_1536_11eb_90a4_00e0201808a0row6_col1\" class=\"data row6 col1\" >0.8384</td>\n",
       "                        <td id=\"T_ab7c518c_1536_11eb_90a4_00e0201808a0row6_col2\" class=\"data row6 col2\" >0.8684</td>\n",
       "                        <td id=\"T_ab7c518c_1536_11eb_90a4_00e0201808a0row6_col3\" class=\"data row6 col3\" >0.5859</td>\n",
       "                        <td id=\"T_ab7c518c_1536_11eb_90a4_00e0201808a0row6_col4\" class=\"data row6 col4\" >0.6988</td>\n",
       "                        <td id=\"T_ab7c518c_1536_11eb_90a4_00e0201808a0row6_col5\" class=\"data row6 col5\" >0.6371</td>\n",
       "                        <td id=\"T_ab7c518c_1536_11eb_90a4_00e0201808a0row6_col6\" class=\"data row6 col6\" >0.5343</td>\n",
       "                        <td id=\"T_ab7c518c_1536_11eb_90a4_00e0201808a0row6_col7\" class=\"data row6 col7\" >0.5379</td>\n",
       "                        <td id=\"T_ab7c518c_1536_11eb_90a4_00e0201808a0row6_col8\" class=\"data row6 col8\" >0.1263</td>\n",
       "            </tr>\n",
       "            <tr>\n",
       "                        <th id=\"T_ab7c518c_1536_11eb_90a4_00e0201808a0level0_row7\" class=\"row_heading level0 row7\" >7</th>\n",
       "                        <td id=\"T_ab7c518c_1536_11eb_90a4_00e0201808a0row7_col0\" class=\"data row7 col0\" >Extra Trees Classifier</td>\n",
       "                        <td id=\"T_ab7c518c_1536_11eb_90a4_00e0201808a0row7_col1\" class=\"data row7 col1\" >0.8285</td>\n",
       "                        <td id=\"T_ab7c518c_1536_11eb_90a4_00e0201808a0row7_col2\" class=\"data row7 col2\" >0.8524</td>\n",
       "                        <td id=\"T_ab7c518c_1536_11eb_90a4_00e0201808a0row7_col3\" class=\"data row7 col3\" >0.5976</td>\n",
       "                        <td id=\"T_ab7c518c_1536_11eb_90a4_00e0201808a0row7_col4\" class=\"data row7 col4\" >0.6617</td>\n",
       "                        <td id=\"T_ab7c518c_1536_11eb_90a4_00e0201808a0row7_col5\" class=\"data row7 col5\" >0.6278</td>\n",
       "                        <td id=\"T_ab7c518c_1536_11eb_90a4_00e0201808a0row7_col6\" class=\"data row7 col6\" >0.5167</td>\n",
       "                        <td id=\"T_ab7c518c_1536_11eb_90a4_00e0201808a0row7_col7\" class=\"data row7 col7\" >0.5181</td>\n",
       "                        <td id=\"T_ab7c518c_1536_11eb_90a4_00e0201808a0row7_col8\" class=\"data row7 col8\" >0.5431</td>\n",
       "            </tr>\n",
       "    </tbody></table>"
      ],
      "text/plain": [
       "<pandas.io.formats.style.Styler at 0x233bfa84cc8>"
      ]
     },
     "metadata": {},
     "output_type": "display_data"
    }
   ],
   "source": [
    "best_3 = compare_models(sort = 'F1', n_select = 3\n",
    "                       ,exclude=['lr', 'knn', 'nb', 'dt', 'svm', 'rbfsvm', 'ridge','qda']\n",
    "                       #,exclude=['lr', 'knn', 'nb', 'dt', 'svm', 'rbfsvm', 'gpc', 'mlp', 'ridge', 'rf', 'qda', 'ada', 'xgboost']\n",
    "                       )"
   ]
  },
  {
   "cell_type": "code",
   "execution_count": 34,
   "metadata": {},
   "outputs": [
    {
     "data": {
      "text/html": [
       "<style  type=\"text/css\" >\n",
       "#T_ec3da086_1536_11eb_b4b7_00e0201808a0row5_col0,#T_ec3da086_1536_11eb_b4b7_00e0201808a0row5_col1,#T_ec3da086_1536_11eb_b4b7_00e0201808a0row5_col2,#T_ec3da086_1536_11eb_b4b7_00e0201808a0row5_col3,#T_ec3da086_1536_11eb_b4b7_00e0201808a0row5_col4,#T_ec3da086_1536_11eb_b4b7_00e0201808a0row5_col5,#T_ec3da086_1536_11eb_b4b7_00e0201808a0row5_col6{\n",
       "            background:  yellow;\n",
       "        }</style><table id=\"T_ec3da086_1536_11eb_b4b7_00e0201808a0\" ><thead>    <tr>        <th class=\"blank level0\" ></th>        <th class=\"col_heading level0 col0\" >Accuracy</th>        <th class=\"col_heading level0 col1\" >AUC</th>        <th class=\"col_heading level0 col2\" >Recall</th>        <th class=\"col_heading level0 col3\" >Prec.</th>        <th class=\"col_heading level0 col4\" >F1</th>        <th class=\"col_heading level0 col5\" >Kappa</th>        <th class=\"col_heading level0 col6\" >MCC</th>    </tr></thead><tbody>\n",
       "                <tr>\n",
       "                        <th id=\"T_ec3da086_1536_11eb_b4b7_00e0201808a0level0_row0\" class=\"row_heading level0 row0\" >0</th>\n",
       "                        <td id=\"T_ec3da086_1536_11eb_b4b7_00e0201808a0row0_col0\" class=\"data row0 col0\" >0.8676</td>\n",
       "                        <td id=\"T_ec3da086_1536_11eb_b4b7_00e0201808a0row0_col1\" class=\"data row0 col1\" >0.9222</td>\n",
       "                        <td id=\"T_ec3da086_1536_11eb_b4b7_00e0201808a0row0_col2\" class=\"data row0 col2\" >0.6424</td>\n",
       "                        <td id=\"T_ec3da086_1536_11eb_b4b7_00e0201808a0row0_col3\" class=\"data row0 col3\" >0.7724</td>\n",
       "                        <td id=\"T_ec3da086_1536_11eb_b4b7_00e0201808a0row0_col4\" class=\"data row0 col4\" >0.7014</td>\n",
       "                        <td id=\"T_ec3da086_1536_11eb_b4b7_00e0201808a0row0_col5\" class=\"data row0 col5\" >0.6173</td>\n",
       "                        <td id=\"T_ec3da086_1536_11eb_b4b7_00e0201808a0row0_col6\" class=\"data row0 col6\" >0.6216</td>\n",
       "            </tr>\n",
       "            <tr>\n",
       "                        <th id=\"T_ec3da086_1536_11eb_b4b7_00e0201808a0level0_row1\" class=\"row_heading level0 row1\" >1</th>\n",
       "                        <td id=\"T_ec3da086_1536_11eb_b4b7_00e0201808a0row1_col0\" class=\"data row1 col0\" >0.8625</td>\n",
       "                        <td id=\"T_ec3da086_1536_11eb_b4b7_00e0201808a0row1_col1\" class=\"data row1 col1\" >0.9163</td>\n",
       "                        <td id=\"T_ec3da086_1536_11eb_b4b7_00e0201808a0row1_col2\" class=\"data row1 col2\" >0.6602</td>\n",
       "                        <td id=\"T_ec3da086_1536_11eb_b4b7_00e0201808a0row1_col3\" class=\"data row1 col3\" >0.7432</td>\n",
       "                        <td id=\"T_ec3da086_1536_11eb_b4b7_00e0201808a0row1_col4\" class=\"data row1 col4\" >0.6992</td>\n",
       "                        <td id=\"T_ec3da086_1536_11eb_b4b7_00e0201808a0row1_col5\" class=\"data row1 col5\" >0.6105</td>\n",
       "                        <td id=\"T_ec3da086_1536_11eb_b4b7_00e0201808a0row1_col6\" class=\"data row1 col6\" >0.6123</td>\n",
       "            </tr>\n",
       "            <tr>\n",
       "                        <th id=\"T_ec3da086_1536_11eb_b4b7_00e0201808a0level0_row2\" class=\"row_heading level0 row2\" >2</th>\n",
       "                        <td id=\"T_ec3da086_1536_11eb_b4b7_00e0201808a0row2_col0\" class=\"data row2 col0\" >0.8543</td>\n",
       "                        <td id=\"T_ec3da086_1536_11eb_b4b7_00e0201808a0row2_col1\" class=\"data row2 col1\" >0.9213</td>\n",
       "                        <td id=\"T_ec3da086_1536_11eb_b4b7_00e0201808a0row2_col2\" class=\"data row2 col2\" >0.6149</td>\n",
       "                        <td id=\"T_ec3da086_1536_11eb_b4b7_00e0201808a0row2_col3\" class=\"data row2 col3\" >0.7393</td>\n",
       "                        <td id=\"T_ec3da086_1536_11eb_b4b7_00e0201808a0row2_col4\" class=\"data row2 col4\" >0.6714</td>\n",
       "                        <td id=\"T_ec3da086_1536_11eb_b4b7_00e0201808a0row2_col5\" class=\"data row2 col5\" >0.5788</td>\n",
       "                        <td id=\"T_ec3da086_1536_11eb_b4b7_00e0201808a0row2_col6\" class=\"data row2 col6\" >0.5828</td>\n",
       "            </tr>\n",
       "            <tr>\n",
       "                        <th id=\"T_ec3da086_1536_11eb_b4b7_00e0201808a0level0_row3\" class=\"row_heading level0 row3\" >3</th>\n",
       "                        <td id=\"T_ec3da086_1536_11eb_b4b7_00e0201808a0row3_col0\" class=\"data row3 col0\" >0.8699</td>\n",
       "                        <td id=\"T_ec3da086_1536_11eb_b4b7_00e0201808a0row3_col1\" class=\"data row3 col1\" >0.9307</td>\n",
       "                        <td id=\"T_ec3da086_1536_11eb_b4b7_00e0201808a0row3_col2\" class=\"data row3 col2\" >0.6418</td>\n",
       "                        <td id=\"T_ec3da086_1536_11eb_b4b7_00e0201808a0row3_col3\" class=\"data row3 col3\" >0.7811</td>\n",
       "                        <td id=\"T_ec3da086_1536_11eb_b4b7_00e0201808a0row3_col4\" class=\"data row3 col4\" >0.7046</td>\n",
       "                        <td id=\"T_ec3da086_1536_11eb_b4b7_00e0201808a0row3_col5\" class=\"data row3 col5\" >0.6222</td>\n",
       "                        <td id=\"T_ec3da086_1536_11eb_b4b7_00e0201808a0row3_col6\" class=\"data row3 col6\" >0.6272</td>\n",
       "            </tr>\n",
       "            <tr>\n",
       "                        <th id=\"T_ec3da086_1536_11eb_b4b7_00e0201808a0level0_row4\" class=\"row_heading level0 row4\" >4</th>\n",
       "                        <td id=\"T_ec3da086_1536_11eb_b4b7_00e0201808a0row4_col0\" class=\"data row4 col0\" >0.8754</td>\n",
       "                        <td id=\"T_ec3da086_1536_11eb_b4b7_00e0201808a0row4_col1\" class=\"data row4 col1\" >0.9257</td>\n",
       "                        <td id=\"T_ec3da086_1536_11eb_b4b7_00e0201808a0row4_col2\" class=\"data row4 col2\" >0.6715</td>\n",
       "                        <td id=\"T_ec3da086_1536_11eb_b4b7_00e0201808a0row4_col3\" class=\"data row4 col3\" >0.7830</td>\n",
       "                        <td id=\"T_ec3da086_1536_11eb_b4b7_00e0201808a0row4_col4\" class=\"data row4 col4\" >0.7230</td>\n",
       "                        <td id=\"T_ec3da086_1536_11eb_b4b7_00e0201808a0row4_col5\" class=\"data row4 col5\" >0.6432</td>\n",
       "                        <td id=\"T_ec3da086_1536_11eb_b4b7_00e0201808a0row4_col6\" class=\"data row4 col6\" >0.6464</td>\n",
       "            </tr>\n",
       "            <tr>\n",
       "                        <th id=\"T_ec3da086_1536_11eb_b4b7_00e0201808a0level0_row5\" class=\"row_heading level0 row5\" >Mean</th>\n",
       "                        <td id=\"T_ec3da086_1536_11eb_b4b7_00e0201808a0row5_col0\" class=\"data row5 col0\" >0.8659</td>\n",
       "                        <td id=\"T_ec3da086_1536_11eb_b4b7_00e0201808a0row5_col1\" class=\"data row5 col1\" >0.9232</td>\n",
       "                        <td id=\"T_ec3da086_1536_11eb_b4b7_00e0201808a0row5_col2\" class=\"data row5 col2\" >0.6462</td>\n",
       "                        <td id=\"T_ec3da086_1536_11eb_b4b7_00e0201808a0row5_col3\" class=\"data row5 col3\" >0.7638</td>\n",
       "                        <td id=\"T_ec3da086_1536_11eb_b4b7_00e0201808a0row5_col4\" class=\"data row5 col4\" >0.6999</td>\n",
       "                        <td id=\"T_ec3da086_1536_11eb_b4b7_00e0201808a0row5_col5\" class=\"data row5 col5\" >0.6144</td>\n",
       "                        <td id=\"T_ec3da086_1536_11eb_b4b7_00e0201808a0row5_col6\" class=\"data row5 col6\" >0.6181</td>\n",
       "            </tr>\n",
       "            <tr>\n",
       "                        <th id=\"T_ec3da086_1536_11eb_b4b7_00e0201808a0level0_row6\" class=\"row_heading level0 row6\" >SD</th>\n",
       "                        <td id=\"T_ec3da086_1536_11eb_b4b7_00e0201808a0row6_col0\" class=\"data row6 col0\" >0.0071</td>\n",
       "                        <td id=\"T_ec3da086_1536_11eb_b4b7_00e0201808a0row6_col1\" class=\"data row6 col1\" >0.0048</td>\n",
       "                        <td id=\"T_ec3da086_1536_11eb_b4b7_00e0201808a0row6_col2\" class=\"data row6 col2\" >0.0192</td>\n",
       "                        <td id=\"T_ec3da086_1536_11eb_b4b7_00e0201808a0row6_col3\" class=\"data row6 col3\" >0.0188</td>\n",
       "                        <td id=\"T_ec3da086_1536_11eb_b4b7_00e0201808a0row6_col4\" class=\"data row6 col4\" >0.0166</td>\n",
       "                        <td id=\"T_ec3da086_1536_11eb_b4b7_00e0201808a0row6_col5\" class=\"data row6 col5\" >0.0209</td>\n",
       "                        <td id=\"T_ec3da086_1536_11eb_b4b7_00e0201808a0row6_col6\" class=\"data row6 col6\" >0.0208</td>\n",
       "            </tr>\n",
       "    </tbody></table>"
      ],
      "text/plain": [
       "<pandas.io.formats.style.Styler at 0x233bb4cd148>"
      ]
     },
     "metadata": {},
     "output_type": "display_data"
    }
   ],
   "source": [
    "blended = blend_models(estimator_list = best_3, fold = 5, method = 'soft')"
   ]
  },
  {
   "cell_type": "code",
   "execution_count": 35,
   "metadata": {},
   "outputs": [
    {
     "data": {
      "text/html": [
       "<div>\n",
       "<style scoped>\n",
       "    .dataframe tbody tr th:only-of-type {\n",
       "        vertical-align: middle;\n",
       "    }\n",
       "\n",
       "    .dataframe tbody tr th {\n",
       "        vertical-align: top;\n",
       "    }\n",
       "\n",
       "    .dataframe thead th {\n",
       "        text-align: right;\n",
       "    }\n",
       "</style>\n",
       "<table border=\"1\" class=\"dataframe\">\n",
       "  <thead>\n",
       "    <tr style=\"text-align: right;\">\n",
       "      <th></th>\n",
       "      <th>Model</th>\n",
       "      <th>Accuracy</th>\n",
       "      <th>AUC</th>\n",
       "      <th>Recall</th>\n",
       "      <th>Prec.</th>\n",
       "      <th>F1</th>\n",
       "      <th>Kappa</th>\n",
       "      <th>MCC</th>\n",
       "    </tr>\n",
       "  </thead>\n",
       "  <tbody>\n",
       "    <tr>\n",
       "      <th>0</th>\n",
       "      <td>Voting Classifier</td>\n",
       "      <td>0.8761</td>\n",
       "      <td>0.9293</td>\n",
       "      <td>0.6563</td>\n",
       "      <td>0.7958</td>\n",
       "      <td>0.7194</td>\n",
       "      <td>0.6408</td>\n",
       "      <td>0.6457</td>\n",
       "    </tr>\n",
       "  </tbody>\n",
       "</table>\n",
       "</div>"
      ],
      "text/plain": [
       "               Model  Accuracy     AUC  Recall   Prec.      F1   Kappa     MCC\n",
       "0  Voting Classifier    0.8761  0.9293  0.6563  0.7958  0.7194  0.6408  0.6457"
      ]
     },
     "metadata": {},
     "output_type": "display_data"
    }
   ],
   "source": [
    "pred_holdout = predict_model(blended)"
   ]
  },
  {
   "cell_type": "code",
   "execution_count": 36,
   "metadata": {},
   "outputs": [
    {
     "name": "stdout",
     "output_type": "stream",
     "text": [
      "Wall time: 3min 1s\n"
     ]
    }
   ],
   "source": [
    "%%time\n",
    "final_model = finalize_model(blended)"
   ]
  },
  {
   "cell_type": "code",
   "execution_count": 37,
   "metadata": {},
   "outputs": [],
   "source": [
    "predictions = predict_model(final_model, data = test)"
   ]
  },
  {
   "cell_type": "markdown",
   "metadata": {},
   "source": [
    "# 4. 예측"
   ]
  },
  {
   "cell_type": "code",
   "execution_count": 38,
   "metadata": {},
   "outputs": [],
   "source": [
    "submission['prediction'] = predictions['Label']"
   ]
  },
  {
   "cell_type": "markdown",
   "metadata": {},
   "source": [
    "# 5. 제출"
   ]
  },
  {
   "cell_type": "code",
   "execution_count": 39,
   "metadata": {},
   "outputs": [],
   "source": [
    "submission.to_csv('output/20201023-2.csv')"
   ]
  },
  {
   "cell_type": "code",
   "execution_count": null,
   "metadata": {},
   "outputs": [],
   "source": []
  },
  {
   "cell_type": "code",
   "execution_count": null,
   "metadata": {},
   "outputs": [],
   "source": [
    "xgboost = create_model('xgboost')"
   ]
  },
  {
   "cell_type": "code",
   "execution_count": null,
   "metadata": {},
   "outputs": [],
   "source": [
    "plot_model(estimator = xgboost, plot = 'feature')"
   ]
  },
  {
   "cell_type": "code",
   "execution_count": null,
   "metadata": {},
   "outputs": [],
   "source": []
  },
  {
   "cell_type": "code",
   "execution_count": null,
   "metadata": {
    "scrolled": true
   },
   "outputs": [],
   "source": [
    "lightgbm = create_model('lightgbm')"
   ]
  },
  {
   "cell_type": "code",
   "execution_count": null,
   "metadata": {},
   "outputs": [],
   "source": [
    "plot_model(estimator = lightgbm, plot = 'feature')"
   ]
  },
  {
   "cell_type": "code",
   "execution_count": null,
   "metadata": {},
   "outputs": [],
   "source": []
  }
 ],
 "metadata": {
  "kernelspec": {
   "display_name": "Python 3",
   "language": "python",
   "name": "python3"
  },
  "language_info": {
   "codemirror_mode": {
    "name": "ipython",
    "version": 3
   },
   "file_extension": ".py",
   "mimetype": "text/x-python",
   "name": "python",
   "nbconvert_exporter": "python",
   "pygments_lexer": "ipython3",
   "version": "3.7.6"
  }
 },
 "nbformat": 4,
 "nbformat_minor": 4
}
