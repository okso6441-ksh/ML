{
 "cells": [
  {
   "cell_type": "code",
   "execution_count": 1,
   "metadata": {},
   "outputs": [],
   "source": [
    "import numpy as np\n",
    "import pandas as pd\n",
    "import matplotlib.pyplot as plt\n",
    "import seaborn as sns\n",
    "import warnings\n",
    "warnings.filterwarnings('ignore')\n",
    "%matplotlib inline\n",
    "\n",
    "from IPython.core.interactiveshell import InteractiveShell\n",
    "InteractiveShell.ast_node_interactivity = \"all\"\n",
    "\n",
    "from sklearn.preprocessing import PolynomialFeatures\n",
    "\n",
    "from sklearn.model_selection import train_test_split\n",
    "import lightgbm as lgbm\n",
    "from sklearn.metrics import confusion_matrix, accuracy_score\n",
    "from pycaret.classification import *"
   ]
  },
  {
   "cell_type": "code",
   "execution_count": 2,
   "metadata": {},
   "outputs": [],
   "source": [
    "seed = 42\n",
    "np.random.seed(seed)\n",
    "set_config('seed', seed)"
   ]
  },
  {
   "cell_type": "code",
   "execution_count": null,
   "metadata": {},
   "outputs": [],
   "source": []
  },
  {
   "cell_type": "markdown",
   "metadata": {},
   "source": [
    "# 1. 데이터 로드"
   ]
  },
  {
   "cell_type": "code",
   "execution_count": 3,
   "metadata": {},
   "outputs": [],
   "source": [
    "train=pd.read_csv('input/train.csv', index_col=0) #인덱스 col=0도 check!\n",
    "test=pd.read_csv('input/test.csv', index_col=0)\n",
    "submission=pd.read_csv('input/sample_submission.csv', index_col=0)  "
   ]
  },
  {
   "cell_type": "code",
   "execution_count": 4,
   "metadata": {},
   "outputs": [],
   "source": [
    "train['income']=pd.factorize(train['income'], sort=True)[0]"
   ]
  },
  {
   "cell_type": "code",
   "execution_count": 5,
   "metadata": {},
   "outputs": [
    {
     "data": {
      "text/plain": [
       "((26049, 15), (6512, 14))"
      ]
     },
     "execution_count": 5,
     "metadata": {},
     "output_type": "execute_result"
    }
   ],
   "source": [
    "train.shape, test.shape"
   ]
  },
  {
   "cell_type": "code",
   "execution_count": null,
   "metadata": {},
   "outputs": [],
   "source": [
    "train.head(3)\n",
    "test.head(3)"
   ]
  },
  {
   "cell_type": "markdown",
   "metadata": {},
   "source": [
    "# 2. EDA & 전처리"
   ]
  },
  {
   "cell_type": "code",
   "execution_count": null,
   "metadata": {},
   "outputs": [],
   "source": [
    "train.info()\n",
    "train.describe()\n",
    "train.describe(include='O')"
   ]
  },
  {
   "cell_type": "code",
   "execution_count": null,
   "metadata": {},
   "outputs": [],
   "source": []
  },
  {
   "cell_type": "markdown",
   "metadata": {},
   "source": [
    "## Missing Value"
   ]
  },
  {
   "cell_type": "code",
   "execution_count": null,
   "metadata": {},
   "outputs": [],
   "source": [
    "train.isnull().sum()\n",
    "test.isnull().sum()"
   ]
  },
  {
   "cell_type": "code",
   "execution_count": null,
   "metadata": {},
   "outputs": [],
   "source": []
  },
  {
   "cell_type": "markdown",
   "metadata": {},
   "source": [
    "### outlier"
   ]
  },
  {
   "cell_type": "markdown",
   "metadata": {},
   "source": [
    "### education"
   ]
  },
  {
   "cell_type": "code",
   "execution_count": 6,
   "metadata": {},
   "outputs": [],
   "source": [
    "train.drop(['education'],axis=1, inplace=True)\n",
    "test.drop(['education'],axis=1, inplace=True)"
   ]
  },
  {
   "cell_type": "code",
   "execution_count": null,
   "metadata": {},
   "outputs": [],
   "source": []
  },
  {
   "cell_type": "markdown",
   "metadata": {},
   "source": [
    "### capital_gain 99999"
   ]
  },
  {
   "cell_type": "code",
   "execution_count": 7,
   "metadata": {},
   "outputs": [],
   "source": [
    "df = pd.concat([train, test])\n",
    "\n",
    "df['capital_gain_imsi'] = df['capital_gain'].replace(99999,0)\n",
    "\n",
    "capital_gain_imsi = pd.DataFrame(df.groupby(['education_num'])['capital_gain_imsi'].mean()).reset_index()\n",
    "\n",
    "train = train.merge(capital_gain_imsi, on=['education_num'], how='left')\n",
    "test = test.merge(capital_gain_imsi, on=['education_num'], how='left')\n",
    "\n",
    "train.loc[train.capital_gain == 99999, 'capital_gain'] = train['capital_gain_imsi']\n",
    "test.loc[test.capital_gain == 99999, 'capital_gain'] = test['capital_gain_imsi']\n",
    "\n",
    "train.drop(['capital_gain_imsi'],axis=1, inplace=True)\n",
    "test.drop(['capital_gain_imsi'],axis=1, inplace=True)"
   ]
  },
  {
   "cell_type": "code",
   "execution_count": null,
   "metadata": {},
   "outputs": [],
   "source": []
  },
  {
   "cell_type": "code",
   "execution_count": 8,
   "metadata": {},
   "outputs": [],
   "source": [
    "train['Priority'] = 0\n",
    "train.loc[(train['marital_status'] == 'Never-married')\n",
    "          & ((train['relationship'] == 'Other-relative') \n",
    "             | (train['relationship'] == 'Own-child')), 'Priority'] = 1\n",
    "train.loc[(train['marital_status'] =='Separated') & (train['relationship'] == 'Unmarried'), 'Priority'] = 2\n",
    "train.loc[(train['marital_status'] =='Widowed') | (train['marital_status'] == 'Married-spouse-absent'), 'Priority'] = 3\n",
    "train.loc[(train['relationship'] =='Not-in-family') | (train['marital_status'] == 'Divorced'), 'Priority'] = 4\n",
    "train.loc[(train['relationship'] =='Husband') | (train['marital_status'] == 'Married-civ-spouse'), 'Priority'] = 5\n",
    "train.loc[(train['relationship'] =='Wife') | (train['marital_status'] == 'Married-AF-spouse'), 'Priority'] = 6"
   ]
  },
  {
   "cell_type": "code",
   "execution_count": 9,
   "metadata": {},
   "outputs": [],
   "source": [
    "test['Priority'] = 0\n",
    "test.loc[(test['marital_status'] == 'Never-married')\n",
    "          & ((test['relationship'] == 'Other-relative') \n",
    "             | (test['relationship'] == 'Own-child')), 'Priority'] = 1\n",
    "test.loc[(test['marital_status'] =='Separated') & (test['relationship'] == 'Unmarried'), 'Priority'] = 2\n",
    "test.loc[(test['marital_status'] =='Widowed') | (test['marital_status'] == 'Married-spouse-absent'), 'Priority'] = 3\n",
    "test.loc[(test['relationship'] =='Not-in-family') | (test['marital_status'] == 'Divorced'), 'Priority'] = 4\n",
    "test.loc[(test['relationship'] =='Husband') | (test['marital_status'] == 'Married-civ-spouse'), 'Priority'] = 5\n",
    "test.loc[(test['relationship'] =='Wife') | (test['marital_status'] == 'Married-AF-spouse'), 'Priority'] = 6"
   ]
  },
  {
   "cell_type": "code",
   "execution_count": null,
   "metadata": {},
   "outputs": [],
   "source": [
    "train[['marital_status','relationship','Priority']]"
   ]
  },
  {
   "cell_type": "code",
   "execution_count": null,
   "metadata": {},
   "outputs": [],
   "source": []
  },
  {
   "cell_type": "markdown",
   "metadata": {},
   "source": [
    "# 3. 모델 학습"
   ]
  },
  {
   "cell_type": "code",
   "execution_count": null,
   "metadata": {},
   "outputs": [],
   "source": [
    "import gc\n",
    "gc.collect()"
   ]
  },
  {
   "cell_type": "code",
   "execution_count": null,
   "metadata": {},
   "outputs": [],
   "source": []
  },
  {
   "cell_type": "code",
   "execution_count": 10,
   "metadata": {
    "scrolled": false
   },
   "outputs": [
    {
     "name": "stdout",
     "output_type": "stream",
     "text": [
      "Setup Succesfully Completed!\n"
     ]
    },
    {
     "data": {
      "text/html": [
       "<style  type=\"text/css\" >\n",
       "</style><table id=\"T_b5071968_1212_11eb_89ce_00e0201808a0\" ><thead>    <tr>        <th class=\"blank level0\" ></th>        <th class=\"col_heading level0 col0\" >Description</th>        <th class=\"col_heading level0 col1\" >Value</th>    </tr></thead><tbody>\n",
       "                <tr>\n",
       "                        <th id=\"T_b5071968_1212_11eb_89ce_00e0201808a0level0_row0\" class=\"row_heading level0 row0\" >0</th>\n",
       "                        <td id=\"T_b5071968_1212_11eb_89ce_00e0201808a0row0_col0\" class=\"data row0 col0\" >session_id</td>\n",
       "                        <td id=\"T_b5071968_1212_11eb_89ce_00e0201808a0row0_col1\" class=\"data row0 col1\" >42</td>\n",
       "            </tr>\n",
       "            <tr>\n",
       "                        <th id=\"T_b5071968_1212_11eb_89ce_00e0201808a0level0_row1\" class=\"row_heading level0 row1\" >1</th>\n",
       "                        <td id=\"T_b5071968_1212_11eb_89ce_00e0201808a0row1_col0\" class=\"data row1 col0\" >Target Type</td>\n",
       "                        <td id=\"T_b5071968_1212_11eb_89ce_00e0201808a0row1_col1\" class=\"data row1 col1\" >Binary</td>\n",
       "            </tr>\n",
       "            <tr>\n",
       "                        <th id=\"T_b5071968_1212_11eb_89ce_00e0201808a0level0_row2\" class=\"row_heading level0 row2\" >2</th>\n",
       "                        <td id=\"T_b5071968_1212_11eb_89ce_00e0201808a0row2_col0\" class=\"data row2 col0\" >Label Encoded</td>\n",
       "                        <td id=\"T_b5071968_1212_11eb_89ce_00e0201808a0row2_col1\" class=\"data row2 col1\" >0: 0, 1: 1</td>\n",
       "            </tr>\n",
       "            <tr>\n",
       "                        <th id=\"T_b5071968_1212_11eb_89ce_00e0201808a0level0_row3\" class=\"row_heading level0 row3\" >3</th>\n",
       "                        <td id=\"T_b5071968_1212_11eb_89ce_00e0201808a0row3_col0\" class=\"data row3 col0\" >Original Data</td>\n",
       "                        <td id=\"T_b5071968_1212_11eb_89ce_00e0201808a0row3_col1\" class=\"data row3 col1\" >(26049, 15)</td>\n",
       "            </tr>\n",
       "            <tr>\n",
       "                        <th id=\"T_b5071968_1212_11eb_89ce_00e0201808a0level0_row4\" class=\"row_heading level0 row4\" >4</th>\n",
       "                        <td id=\"T_b5071968_1212_11eb_89ce_00e0201808a0row4_col0\" class=\"data row4 col0\" >Missing Values </td>\n",
       "                        <td id=\"T_b5071968_1212_11eb_89ce_00e0201808a0row4_col1\" class=\"data row4 col1\" >False</td>\n",
       "            </tr>\n",
       "            <tr>\n",
       "                        <th id=\"T_b5071968_1212_11eb_89ce_00e0201808a0level0_row5\" class=\"row_heading level0 row5\" >5</th>\n",
       "                        <td id=\"T_b5071968_1212_11eb_89ce_00e0201808a0row5_col0\" class=\"data row5 col0\" >Numeric Features </td>\n",
       "                        <td id=\"T_b5071968_1212_11eb_89ce_00e0201808a0row5_col1\" class=\"data row5 col1\" >7</td>\n",
       "            </tr>\n",
       "            <tr>\n",
       "                        <th id=\"T_b5071968_1212_11eb_89ce_00e0201808a0level0_row6\" class=\"row_heading level0 row6\" >6</th>\n",
       "                        <td id=\"T_b5071968_1212_11eb_89ce_00e0201808a0row6_col0\" class=\"data row6 col0\" >Categorical Features </td>\n",
       "                        <td id=\"T_b5071968_1212_11eb_89ce_00e0201808a0row6_col1\" class=\"data row6 col1\" >7</td>\n",
       "            </tr>\n",
       "            <tr>\n",
       "                        <th id=\"T_b5071968_1212_11eb_89ce_00e0201808a0level0_row7\" class=\"row_heading level0 row7\" >7</th>\n",
       "                        <td id=\"T_b5071968_1212_11eb_89ce_00e0201808a0row7_col0\" class=\"data row7 col0\" >Ordinal Features </td>\n",
       "                        <td id=\"T_b5071968_1212_11eb_89ce_00e0201808a0row7_col1\" class=\"data row7 col1\" >False</td>\n",
       "            </tr>\n",
       "            <tr>\n",
       "                        <th id=\"T_b5071968_1212_11eb_89ce_00e0201808a0level0_row8\" class=\"row_heading level0 row8\" >8</th>\n",
       "                        <td id=\"T_b5071968_1212_11eb_89ce_00e0201808a0row8_col0\" class=\"data row8 col0\" >High Cardinality Features </td>\n",
       "                        <td id=\"T_b5071968_1212_11eb_89ce_00e0201808a0row8_col1\" class=\"data row8 col1\" >False</td>\n",
       "            </tr>\n",
       "            <tr>\n",
       "                        <th id=\"T_b5071968_1212_11eb_89ce_00e0201808a0level0_row9\" class=\"row_heading level0 row9\" >9</th>\n",
       "                        <td id=\"T_b5071968_1212_11eb_89ce_00e0201808a0row9_col0\" class=\"data row9 col0\" >High Cardinality Method </td>\n",
       "                        <td id=\"T_b5071968_1212_11eb_89ce_00e0201808a0row9_col1\" class=\"data row9 col1\" >None</td>\n",
       "            </tr>\n",
       "            <tr>\n",
       "                        <th id=\"T_b5071968_1212_11eb_89ce_00e0201808a0level0_row10\" class=\"row_heading level0 row10\" >10</th>\n",
       "                        <td id=\"T_b5071968_1212_11eb_89ce_00e0201808a0row10_col0\" class=\"data row10 col0\" >Sampled Data</td>\n",
       "                        <td id=\"T_b5071968_1212_11eb_89ce_00e0201808a0row10_col1\" class=\"data row10 col1\" >(18234, 15)</td>\n",
       "            </tr>\n",
       "            <tr>\n",
       "                        <th id=\"T_b5071968_1212_11eb_89ce_00e0201808a0level0_row11\" class=\"row_heading level0 row11\" >11</th>\n",
       "                        <td id=\"T_b5071968_1212_11eb_89ce_00e0201808a0row11_col0\" class=\"data row11 col0\" >Transformed Train Set</td>\n",
       "                        <td id=\"T_b5071968_1212_11eb_89ce_00e0201808a0row11_col1\" class=\"data row11 col1\" >(12763, 92)</td>\n",
       "            </tr>\n",
       "            <tr>\n",
       "                        <th id=\"T_b5071968_1212_11eb_89ce_00e0201808a0level0_row12\" class=\"row_heading level0 row12\" >12</th>\n",
       "                        <td id=\"T_b5071968_1212_11eb_89ce_00e0201808a0row12_col0\" class=\"data row12 col0\" >Transformed Test Set</td>\n",
       "                        <td id=\"T_b5071968_1212_11eb_89ce_00e0201808a0row12_col1\" class=\"data row12 col1\" >(5471, 92)</td>\n",
       "            </tr>\n",
       "            <tr>\n",
       "                        <th id=\"T_b5071968_1212_11eb_89ce_00e0201808a0level0_row13\" class=\"row_heading level0 row13\" >13</th>\n",
       "                        <td id=\"T_b5071968_1212_11eb_89ce_00e0201808a0row13_col0\" class=\"data row13 col0\" >Numeric Imputer </td>\n",
       "                        <td id=\"T_b5071968_1212_11eb_89ce_00e0201808a0row13_col1\" class=\"data row13 col1\" >mean</td>\n",
       "            </tr>\n",
       "            <tr>\n",
       "                        <th id=\"T_b5071968_1212_11eb_89ce_00e0201808a0level0_row14\" class=\"row_heading level0 row14\" >14</th>\n",
       "                        <td id=\"T_b5071968_1212_11eb_89ce_00e0201808a0row14_col0\" class=\"data row14 col0\" >Categorical Imputer </td>\n",
       "                        <td id=\"T_b5071968_1212_11eb_89ce_00e0201808a0row14_col1\" class=\"data row14 col1\" >constant</td>\n",
       "            </tr>\n",
       "            <tr>\n",
       "                        <th id=\"T_b5071968_1212_11eb_89ce_00e0201808a0level0_row15\" class=\"row_heading level0 row15\" >15</th>\n",
       "                        <td id=\"T_b5071968_1212_11eb_89ce_00e0201808a0row15_col0\" class=\"data row15 col0\" >Normalize </td>\n",
       "                        <td id=\"T_b5071968_1212_11eb_89ce_00e0201808a0row15_col1\" class=\"data row15 col1\" >False</td>\n",
       "            </tr>\n",
       "            <tr>\n",
       "                        <th id=\"T_b5071968_1212_11eb_89ce_00e0201808a0level0_row16\" class=\"row_heading level0 row16\" >16</th>\n",
       "                        <td id=\"T_b5071968_1212_11eb_89ce_00e0201808a0row16_col0\" class=\"data row16 col0\" >Normalize Method </td>\n",
       "                        <td id=\"T_b5071968_1212_11eb_89ce_00e0201808a0row16_col1\" class=\"data row16 col1\" >None</td>\n",
       "            </tr>\n",
       "            <tr>\n",
       "                        <th id=\"T_b5071968_1212_11eb_89ce_00e0201808a0level0_row17\" class=\"row_heading level0 row17\" >17</th>\n",
       "                        <td id=\"T_b5071968_1212_11eb_89ce_00e0201808a0row17_col0\" class=\"data row17 col0\" >Transformation </td>\n",
       "                        <td id=\"T_b5071968_1212_11eb_89ce_00e0201808a0row17_col1\" class=\"data row17 col1\" >False</td>\n",
       "            </tr>\n",
       "            <tr>\n",
       "                        <th id=\"T_b5071968_1212_11eb_89ce_00e0201808a0level0_row18\" class=\"row_heading level0 row18\" >18</th>\n",
       "                        <td id=\"T_b5071968_1212_11eb_89ce_00e0201808a0row18_col0\" class=\"data row18 col0\" >Transformation Method </td>\n",
       "                        <td id=\"T_b5071968_1212_11eb_89ce_00e0201808a0row18_col1\" class=\"data row18 col1\" >None</td>\n",
       "            </tr>\n",
       "            <tr>\n",
       "                        <th id=\"T_b5071968_1212_11eb_89ce_00e0201808a0level0_row19\" class=\"row_heading level0 row19\" >19</th>\n",
       "                        <td id=\"T_b5071968_1212_11eb_89ce_00e0201808a0row19_col0\" class=\"data row19 col0\" >PCA </td>\n",
       "                        <td id=\"T_b5071968_1212_11eb_89ce_00e0201808a0row19_col1\" class=\"data row19 col1\" >False</td>\n",
       "            </tr>\n",
       "            <tr>\n",
       "                        <th id=\"T_b5071968_1212_11eb_89ce_00e0201808a0level0_row20\" class=\"row_heading level0 row20\" >20</th>\n",
       "                        <td id=\"T_b5071968_1212_11eb_89ce_00e0201808a0row20_col0\" class=\"data row20 col0\" >PCA Method </td>\n",
       "                        <td id=\"T_b5071968_1212_11eb_89ce_00e0201808a0row20_col1\" class=\"data row20 col1\" >None</td>\n",
       "            </tr>\n",
       "            <tr>\n",
       "                        <th id=\"T_b5071968_1212_11eb_89ce_00e0201808a0level0_row21\" class=\"row_heading level0 row21\" >21</th>\n",
       "                        <td id=\"T_b5071968_1212_11eb_89ce_00e0201808a0row21_col0\" class=\"data row21 col0\" >PCA Components </td>\n",
       "                        <td id=\"T_b5071968_1212_11eb_89ce_00e0201808a0row21_col1\" class=\"data row21 col1\" >None</td>\n",
       "            </tr>\n",
       "            <tr>\n",
       "                        <th id=\"T_b5071968_1212_11eb_89ce_00e0201808a0level0_row22\" class=\"row_heading level0 row22\" >22</th>\n",
       "                        <td id=\"T_b5071968_1212_11eb_89ce_00e0201808a0row22_col0\" class=\"data row22 col0\" >Ignore Low Variance </td>\n",
       "                        <td id=\"T_b5071968_1212_11eb_89ce_00e0201808a0row22_col1\" class=\"data row22 col1\" >False</td>\n",
       "            </tr>\n",
       "            <tr>\n",
       "                        <th id=\"T_b5071968_1212_11eb_89ce_00e0201808a0level0_row23\" class=\"row_heading level0 row23\" >23</th>\n",
       "                        <td id=\"T_b5071968_1212_11eb_89ce_00e0201808a0row23_col0\" class=\"data row23 col0\" >Combine Rare Levels </td>\n",
       "                        <td id=\"T_b5071968_1212_11eb_89ce_00e0201808a0row23_col1\" class=\"data row23 col1\" >False</td>\n",
       "            </tr>\n",
       "            <tr>\n",
       "                        <th id=\"T_b5071968_1212_11eb_89ce_00e0201808a0level0_row24\" class=\"row_heading level0 row24\" >24</th>\n",
       "                        <td id=\"T_b5071968_1212_11eb_89ce_00e0201808a0row24_col0\" class=\"data row24 col0\" >Rare Level Threshold </td>\n",
       "                        <td id=\"T_b5071968_1212_11eb_89ce_00e0201808a0row24_col1\" class=\"data row24 col1\" >None</td>\n",
       "            </tr>\n",
       "            <tr>\n",
       "                        <th id=\"T_b5071968_1212_11eb_89ce_00e0201808a0level0_row25\" class=\"row_heading level0 row25\" >25</th>\n",
       "                        <td id=\"T_b5071968_1212_11eb_89ce_00e0201808a0row25_col0\" class=\"data row25 col0\" >Numeric Binning </td>\n",
       "                        <td id=\"T_b5071968_1212_11eb_89ce_00e0201808a0row25_col1\" class=\"data row25 col1\" >False</td>\n",
       "            </tr>\n",
       "            <tr>\n",
       "                        <th id=\"T_b5071968_1212_11eb_89ce_00e0201808a0level0_row26\" class=\"row_heading level0 row26\" >26</th>\n",
       "                        <td id=\"T_b5071968_1212_11eb_89ce_00e0201808a0row26_col0\" class=\"data row26 col0\" >Remove Outliers </td>\n",
       "                        <td id=\"T_b5071968_1212_11eb_89ce_00e0201808a0row26_col1\" class=\"data row26 col1\" >False</td>\n",
       "            </tr>\n",
       "            <tr>\n",
       "                        <th id=\"T_b5071968_1212_11eb_89ce_00e0201808a0level0_row27\" class=\"row_heading level0 row27\" >27</th>\n",
       "                        <td id=\"T_b5071968_1212_11eb_89ce_00e0201808a0row27_col0\" class=\"data row27 col0\" >Outliers Threshold </td>\n",
       "                        <td id=\"T_b5071968_1212_11eb_89ce_00e0201808a0row27_col1\" class=\"data row27 col1\" >None</td>\n",
       "            </tr>\n",
       "            <tr>\n",
       "                        <th id=\"T_b5071968_1212_11eb_89ce_00e0201808a0level0_row28\" class=\"row_heading level0 row28\" >28</th>\n",
       "                        <td id=\"T_b5071968_1212_11eb_89ce_00e0201808a0row28_col0\" class=\"data row28 col0\" >Remove Multicollinearity </td>\n",
       "                        <td id=\"T_b5071968_1212_11eb_89ce_00e0201808a0row28_col1\" class=\"data row28 col1\" >False</td>\n",
       "            </tr>\n",
       "            <tr>\n",
       "                        <th id=\"T_b5071968_1212_11eb_89ce_00e0201808a0level0_row29\" class=\"row_heading level0 row29\" >29</th>\n",
       "                        <td id=\"T_b5071968_1212_11eb_89ce_00e0201808a0row29_col0\" class=\"data row29 col0\" >Multicollinearity Threshold </td>\n",
       "                        <td id=\"T_b5071968_1212_11eb_89ce_00e0201808a0row29_col1\" class=\"data row29 col1\" >None</td>\n",
       "            </tr>\n",
       "            <tr>\n",
       "                        <th id=\"T_b5071968_1212_11eb_89ce_00e0201808a0level0_row30\" class=\"row_heading level0 row30\" >30</th>\n",
       "                        <td id=\"T_b5071968_1212_11eb_89ce_00e0201808a0row30_col0\" class=\"data row30 col0\" >Clustering </td>\n",
       "                        <td id=\"T_b5071968_1212_11eb_89ce_00e0201808a0row30_col1\" class=\"data row30 col1\" >False</td>\n",
       "            </tr>\n",
       "            <tr>\n",
       "                        <th id=\"T_b5071968_1212_11eb_89ce_00e0201808a0level0_row31\" class=\"row_heading level0 row31\" >31</th>\n",
       "                        <td id=\"T_b5071968_1212_11eb_89ce_00e0201808a0row31_col0\" class=\"data row31 col0\" >Clustering Iteration </td>\n",
       "                        <td id=\"T_b5071968_1212_11eb_89ce_00e0201808a0row31_col1\" class=\"data row31 col1\" >None</td>\n",
       "            </tr>\n",
       "            <tr>\n",
       "                        <th id=\"T_b5071968_1212_11eb_89ce_00e0201808a0level0_row32\" class=\"row_heading level0 row32\" >32</th>\n",
       "                        <td id=\"T_b5071968_1212_11eb_89ce_00e0201808a0row32_col0\" class=\"data row32 col0\" >Polynomial Features </td>\n",
       "                        <td id=\"T_b5071968_1212_11eb_89ce_00e0201808a0row32_col1\" class=\"data row32 col1\" >False</td>\n",
       "            </tr>\n",
       "            <tr>\n",
       "                        <th id=\"T_b5071968_1212_11eb_89ce_00e0201808a0level0_row33\" class=\"row_heading level0 row33\" >33</th>\n",
       "                        <td id=\"T_b5071968_1212_11eb_89ce_00e0201808a0row33_col0\" class=\"data row33 col0\" >Polynomial Degree </td>\n",
       "                        <td id=\"T_b5071968_1212_11eb_89ce_00e0201808a0row33_col1\" class=\"data row33 col1\" >None</td>\n",
       "            </tr>\n",
       "            <tr>\n",
       "                        <th id=\"T_b5071968_1212_11eb_89ce_00e0201808a0level0_row34\" class=\"row_heading level0 row34\" >34</th>\n",
       "                        <td id=\"T_b5071968_1212_11eb_89ce_00e0201808a0row34_col0\" class=\"data row34 col0\" >Trignometry Features </td>\n",
       "                        <td id=\"T_b5071968_1212_11eb_89ce_00e0201808a0row34_col1\" class=\"data row34 col1\" >False</td>\n",
       "            </tr>\n",
       "            <tr>\n",
       "                        <th id=\"T_b5071968_1212_11eb_89ce_00e0201808a0level0_row35\" class=\"row_heading level0 row35\" >35</th>\n",
       "                        <td id=\"T_b5071968_1212_11eb_89ce_00e0201808a0row35_col0\" class=\"data row35 col0\" >Polynomial Threshold </td>\n",
       "                        <td id=\"T_b5071968_1212_11eb_89ce_00e0201808a0row35_col1\" class=\"data row35 col1\" >None</td>\n",
       "            </tr>\n",
       "            <tr>\n",
       "                        <th id=\"T_b5071968_1212_11eb_89ce_00e0201808a0level0_row36\" class=\"row_heading level0 row36\" >36</th>\n",
       "                        <td id=\"T_b5071968_1212_11eb_89ce_00e0201808a0row36_col0\" class=\"data row36 col0\" >Group Features </td>\n",
       "                        <td id=\"T_b5071968_1212_11eb_89ce_00e0201808a0row36_col1\" class=\"data row36 col1\" >False</td>\n",
       "            </tr>\n",
       "            <tr>\n",
       "                        <th id=\"T_b5071968_1212_11eb_89ce_00e0201808a0level0_row37\" class=\"row_heading level0 row37\" >37</th>\n",
       "                        <td id=\"T_b5071968_1212_11eb_89ce_00e0201808a0row37_col0\" class=\"data row37 col0\" >Feature Selection </td>\n",
       "                        <td id=\"T_b5071968_1212_11eb_89ce_00e0201808a0row37_col1\" class=\"data row37 col1\" >False</td>\n",
       "            </tr>\n",
       "            <tr>\n",
       "                        <th id=\"T_b5071968_1212_11eb_89ce_00e0201808a0level0_row38\" class=\"row_heading level0 row38\" >38</th>\n",
       "                        <td id=\"T_b5071968_1212_11eb_89ce_00e0201808a0row38_col0\" class=\"data row38 col0\" >Features Selection Threshold </td>\n",
       "                        <td id=\"T_b5071968_1212_11eb_89ce_00e0201808a0row38_col1\" class=\"data row38 col1\" >None</td>\n",
       "            </tr>\n",
       "            <tr>\n",
       "                        <th id=\"T_b5071968_1212_11eb_89ce_00e0201808a0level0_row39\" class=\"row_heading level0 row39\" >39</th>\n",
       "                        <td id=\"T_b5071968_1212_11eb_89ce_00e0201808a0row39_col0\" class=\"data row39 col0\" >Feature Interaction </td>\n",
       "                        <td id=\"T_b5071968_1212_11eb_89ce_00e0201808a0row39_col1\" class=\"data row39 col1\" >False</td>\n",
       "            </tr>\n",
       "            <tr>\n",
       "                        <th id=\"T_b5071968_1212_11eb_89ce_00e0201808a0level0_row40\" class=\"row_heading level0 row40\" >40</th>\n",
       "                        <td id=\"T_b5071968_1212_11eb_89ce_00e0201808a0row40_col0\" class=\"data row40 col0\" >Feature Ratio </td>\n",
       "                        <td id=\"T_b5071968_1212_11eb_89ce_00e0201808a0row40_col1\" class=\"data row40 col1\" >False</td>\n",
       "            </tr>\n",
       "            <tr>\n",
       "                        <th id=\"T_b5071968_1212_11eb_89ce_00e0201808a0level0_row41\" class=\"row_heading level0 row41\" >41</th>\n",
       "                        <td id=\"T_b5071968_1212_11eb_89ce_00e0201808a0row41_col0\" class=\"data row41 col0\" >Interaction Threshold </td>\n",
       "                        <td id=\"T_b5071968_1212_11eb_89ce_00e0201808a0row41_col1\" class=\"data row41 col1\" >None</td>\n",
       "            </tr>\n",
       "            <tr>\n",
       "                        <th id=\"T_b5071968_1212_11eb_89ce_00e0201808a0level0_row42\" class=\"row_heading level0 row42\" >42</th>\n",
       "                        <td id=\"T_b5071968_1212_11eb_89ce_00e0201808a0row42_col0\" class=\"data row42 col0\" >Fix Imbalance</td>\n",
       "                        <td id=\"T_b5071968_1212_11eb_89ce_00e0201808a0row42_col1\" class=\"data row42 col1\" >False</td>\n",
       "            </tr>\n",
       "            <tr>\n",
       "                        <th id=\"T_b5071968_1212_11eb_89ce_00e0201808a0level0_row43\" class=\"row_heading level0 row43\" >43</th>\n",
       "                        <td id=\"T_b5071968_1212_11eb_89ce_00e0201808a0row43_col0\" class=\"data row43 col0\" >Fix Imbalance Method</td>\n",
       "                        <td id=\"T_b5071968_1212_11eb_89ce_00e0201808a0row43_col1\" class=\"data row43 col1\" >SMOTE</td>\n",
       "            </tr>\n",
       "    </tbody></table>"
      ],
      "text/plain": [
       "<pandas.io.formats.style.Styler at 0x1e5504f4e48>"
      ]
     },
     "metadata": {},
     "output_type": "display_data"
    },
    {
     "name": "stdout",
     "output_type": "stream",
     "text": [
      "Wall time: 7.85 s\n"
     ]
    }
   ],
   "source": [
    "%%time\n",
    "clf = setup(session_id=seed, \n",
    "            data = train, target = 'income'\n",
    "          #, categorical_features=col_cat\n",
    "          , numeric_features = ['education_num','Priority']\n",
    "          #, ignore_features =tp.tolist() + wr.tolist() + wf.tolist()#'religion', 'race_1', 'race_2', 'race_3','race_4', 'race_5', 'race_6']\n",
    "           )"
   ]
  },
  {
   "cell_type": "code",
   "execution_count": 11,
   "metadata": {},
   "outputs": [
    {
     "data": {
      "text/html": [
       "<style  type=\"text/css\" >\n",
       "    #T_7b6381ae_1213_11eb_857d_00e0201808a0 th {\n",
       "          text-align: left;\n",
       "    }#T_7b6381ae_1213_11eb_857d_00e0201808a0row0_col0,#T_7b6381ae_1213_11eb_857d_00e0201808a0row0_col1,#T_7b6381ae_1213_11eb_857d_00e0201808a0row0_col2,#T_7b6381ae_1213_11eb_857d_00e0201808a0row0_col3,#T_7b6381ae_1213_11eb_857d_00e0201808a0row0_col4,#T_7b6381ae_1213_11eb_857d_00e0201808a0row0_col7,#T_7b6381ae_1213_11eb_857d_00e0201808a0row1_col0,#T_7b6381ae_1213_11eb_857d_00e0201808a0row1_col1,#T_7b6381ae_1213_11eb_857d_00e0201808a0row1_col2,#T_7b6381ae_1213_11eb_857d_00e0201808a0row1_col4,#T_7b6381ae_1213_11eb_857d_00e0201808a0row1_col5,#T_7b6381ae_1213_11eb_857d_00e0201808a0row1_col6,#T_7b6381ae_1213_11eb_857d_00e0201808a0row1_col7,#T_7b6381ae_1213_11eb_857d_00e0201808a0row2_col0,#T_7b6381ae_1213_11eb_857d_00e0201808a0row2_col3,#T_7b6381ae_1213_11eb_857d_00e0201808a0row2_col4,#T_7b6381ae_1213_11eb_857d_00e0201808a0row2_col5,#T_7b6381ae_1213_11eb_857d_00e0201808a0row2_col6,#T_7b6381ae_1213_11eb_857d_00e0201808a0row3_col0,#T_7b6381ae_1213_11eb_857d_00e0201808a0row3_col1,#T_7b6381ae_1213_11eb_857d_00e0201808a0row3_col2,#T_7b6381ae_1213_11eb_857d_00e0201808a0row3_col3,#T_7b6381ae_1213_11eb_857d_00e0201808a0row3_col5,#T_7b6381ae_1213_11eb_857d_00e0201808a0row3_col6,#T_7b6381ae_1213_11eb_857d_00e0201808a0row3_col7,#T_7b6381ae_1213_11eb_857d_00e0201808a0row4_col0,#T_7b6381ae_1213_11eb_857d_00e0201808a0row4_col1,#T_7b6381ae_1213_11eb_857d_00e0201808a0row4_col2,#T_7b6381ae_1213_11eb_857d_00e0201808a0row4_col3,#T_7b6381ae_1213_11eb_857d_00e0201808a0row4_col4,#T_7b6381ae_1213_11eb_857d_00e0201808a0row4_col5,#T_7b6381ae_1213_11eb_857d_00e0201808a0row4_col6,#T_7b6381ae_1213_11eb_857d_00e0201808a0row4_col7,#T_7b6381ae_1213_11eb_857d_00e0201808a0row5_col0,#T_7b6381ae_1213_11eb_857d_00e0201808a0row5_col1,#T_7b6381ae_1213_11eb_857d_00e0201808a0row5_col2,#T_7b6381ae_1213_11eb_857d_00e0201808a0row5_col3,#T_7b6381ae_1213_11eb_857d_00e0201808a0row5_col4,#T_7b6381ae_1213_11eb_857d_00e0201808a0row5_col5,#T_7b6381ae_1213_11eb_857d_00e0201808a0row5_col6,#T_7b6381ae_1213_11eb_857d_00e0201808a0row5_col7,#T_7b6381ae_1213_11eb_857d_00e0201808a0row6_col0,#T_7b6381ae_1213_11eb_857d_00e0201808a0row6_col1,#T_7b6381ae_1213_11eb_857d_00e0201808a0row6_col2,#T_7b6381ae_1213_11eb_857d_00e0201808a0row6_col3,#T_7b6381ae_1213_11eb_857d_00e0201808a0row6_col4,#T_7b6381ae_1213_11eb_857d_00e0201808a0row6_col5,#T_7b6381ae_1213_11eb_857d_00e0201808a0row6_col6,#T_7b6381ae_1213_11eb_857d_00e0201808a0row6_col7,#T_7b6381ae_1213_11eb_857d_00e0201808a0row7_col0,#T_7b6381ae_1213_11eb_857d_00e0201808a0row7_col1,#T_7b6381ae_1213_11eb_857d_00e0201808a0row7_col2,#T_7b6381ae_1213_11eb_857d_00e0201808a0row7_col3,#T_7b6381ae_1213_11eb_857d_00e0201808a0row7_col4,#T_7b6381ae_1213_11eb_857d_00e0201808a0row7_col5,#T_7b6381ae_1213_11eb_857d_00e0201808a0row7_col6,#T_7b6381ae_1213_11eb_857d_00e0201808a0row7_col7{\n",
       "            text-align:  left;\n",
       "        }#T_7b6381ae_1213_11eb_857d_00e0201808a0row0_col5,#T_7b6381ae_1213_11eb_857d_00e0201808a0row0_col6,#T_7b6381ae_1213_11eb_857d_00e0201808a0row1_col3,#T_7b6381ae_1213_11eb_857d_00e0201808a0row2_col1,#T_7b6381ae_1213_11eb_857d_00e0201808a0row2_col2,#T_7b6381ae_1213_11eb_857d_00e0201808a0row2_col7,#T_7b6381ae_1213_11eb_857d_00e0201808a0row3_col4{\n",
       "            background-color:  yellow;\n",
       "            text-align:  left;\n",
       "        }#T_7b6381ae_1213_11eb_857d_00e0201808a0row0_col8,#T_7b6381ae_1213_11eb_857d_00e0201808a0row1_col8,#T_7b6381ae_1213_11eb_857d_00e0201808a0row2_col8,#T_7b6381ae_1213_11eb_857d_00e0201808a0row3_col8,#T_7b6381ae_1213_11eb_857d_00e0201808a0row4_col8,#T_7b6381ae_1213_11eb_857d_00e0201808a0row5_col8,#T_7b6381ae_1213_11eb_857d_00e0201808a0row6_col8,#T_7b6381ae_1213_11eb_857d_00e0201808a0row7_col8{\n",
       "            background-color:  lightgrey;\n",
       "            text-align:  left;\n",
       "        }</style><table id=\"T_7b6381ae_1213_11eb_857d_00e0201808a0\" ><thead>    <tr>        <th class=\"blank level0\" ></th>        <th class=\"col_heading level0 col0\" >Model</th>        <th class=\"col_heading level0 col1\" >Accuracy</th>        <th class=\"col_heading level0 col2\" >AUC</th>        <th class=\"col_heading level0 col3\" >Recall</th>        <th class=\"col_heading level0 col4\" >Prec.</th>        <th class=\"col_heading level0 col5\" >F1</th>        <th class=\"col_heading level0 col6\" >Kappa</th>        <th class=\"col_heading level0 col7\" >MCC</th>        <th class=\"col_heading level0 col8\" >TT (Sec)</th>    </tr></thead><tbody>\n",
       "                <tr>\n",
       "                        <th id=\"T_7b6381ae_1213_11eb_857d_00e0201808a0level0_row0\" class=\"row_heading level0 row0\" >0</th>\n",
       "                        <td id=\"T_7b6381ae_1213_11eb_857d_00e0201808a0row0_col0\" class=\"data row0 col0\" >Light Gradient Boosting Machine</td>\n",
       "                        <td id=\"T_7b6381ae_1213_11eb_857d_00e0201808a0row0_col1\" class=\"data row0 col1\" >0.8653</td>\n",
       "                        <td id=\"T_7b6381ae_1213_11eb_857d_00e0201808a0row0_col2\" class=\"data row0 col2\" >0.9215</td>\n",
       "                        <td id=\"T_7b6381ae_1213_11eb_857d_00e0201808a0row0_col3\" class=\"data row0 col3\" >0.6468</td>\n",
       "                        <td id=\"T_7b6381ae_1213_11eb_857d_00e0201808a0row0_col4\" class=\"data row0 col4\" >0.7613</td>\n",
       "                        <td id=\"T_7b6381ae_1213_11eb_857d_00e0201808a0row0_col5\" class=\"data row0 col5\" >0.6992</td>\n",
       "                        <td id=\"T_7b6381ae_1213_11eb_857d_00e0201808a0row0_col6\" class=\"data row0 col6\" >0.6132</td>\n",
       "                        <td id=\"T_7b6381ae_1213_11eb_857d_00e0201808a0row0_col7\" class=\"data row0 col7\" >0.6167</td>\n",
       "                        <td id=\"T_7b6381ae_1213_11eb_857d_00e0201808a0row0_col8\" class=\"data row0 col8\" >0.2969</td>\n",
       "            </tr>\n",
       "            <tr>\n",
       "                        <th id=\"T_7b6381ae_1213_11eb_857d_00e0201808a0level0_row1\" class=\"row_heading level0 row1\" >1</th>\n",
       "                        <td id=\"T_7b6381ae_1213_11eb_857d_00e0201808a0row1_col0\" class=\"data row1 col0\" >Extreme Gradient Boosting</td>\n",
       "                        <td id=\"T_7b6381ae_1213_11eb_857d_00e0201808a0row1_col1\" class=\"data row1 col1\" >0.8638</td>\n",
       "                        <td id=\"T_7b6381ae_1213_11eb_857d_00e0201808a0row1_col2\" class=\"data row1 col2\" >0.9197</td>\n",
       "                        <td id=\"T_7b6381ae_1213_11eb_857d_00e0201808a0row1_col3\" class=\"data row1 col3\" >0.6481</td>\n",
       "                        <td id=\"T_7b6381ae_1213_11eb_857d_00e0201808a0row1_col4\" class=\"data row1 col4\" >0.7555</td>\n",
       "                        <td id=\"T_7b6381ae_1213_11eb_857d_00e0201808a0row1_col5\" class=\"data row1 col5\" >0.6974</td>\n",
       "                        <td id=\"T_7b6381ae_1213_11eb_857d_00e0201808a0row1_col6\" class=\"data row1 col6\" >0.6102</td>\n",
       "                        <td id=\"T_7b6381ae_1213_11eb_857d_00e0201808a0row1_col7\" class=\"data row1 col7\" >0.6134</td>\n",
       "                        <td id=\"T_7b6381ae_1213_11eb_857d_00e0201808a0row1_col8\" class=\"data row1 col8\" >2.1512</td>\n",
       "            </tr>\n",
       "            <tr>\n",
       "                        <th id=\"T_7b6381ae_1213_11eb_857d_00e0201808a0level0_row2\" class=\"row_heading level0 row2\" >2</th>\n",
       "                        <td id=\"T_7b6381ae_1213_11eb_857d_00e0201808a0row2_col0\" class=\"data row2 col0\" >CatBoost Classifier</td>\n",
       "                        <td id=\"T_7b6381ae_1213_11eb_857d_00e0201808a0row2_col1\" class=\"data row2 col1\" >0.8661</td>\n",
       "                        <td id=\"T_7b6381ae_1213_11eb_857d_00e0201808a0row2_col2\" class=\"data row2 col2\" >0.9241</td>\n",
       "                        <td id=\"T_7b6381ae_1213_11eb_857d_00e0201808a0row2_col3\" class=\"data row2 col3\" >0.6361</td>\n",
       "                        <td id=\"T_7b6381ae_1213_11eb_857d_00e0201808a0row2_col4\" class=\"data row2 col4\" >0.7712</td>\n",
       "                        <td id=\"T_7b6381ae_1213_11eb_857d_00e0201808a0row2_col5\" class=\"data row2 col5\" >0.6968</td>\n",
       "                        <td id=\"T_7b6381ae_1213_11eb_857d_00e0201808a0row2_col6\" class=\"data row2 col6\" >0.6119</td>\n",
       "                        <td id=\"T_7b6381ae_1213_11eb_857d_00e0201808a0row2_col7\" class=\"data row2 col7\" >0.6168</td>\n",
       "                        <td id=\"T_7b6381ae_1213_11eb_857d_00e0201808a0row2_col8\" class=\"data row2 col8\" >10.7809</td>\n",
       "            </tr>\n",
       "            <tr>\n",
       "                        <th id=\"T_7b6381ae_1213_11eb_857d_00e0201808a0level0_row3\" class=\"row_heading level0 row3\" >3</th>\n",
       "                        <td id=\"T_7b6381ae_1213_11eb_857d_00e0201808a0row3_col0\" class=\"data row3 col0\" >Gradient Boosting Classifier</td>\n",
       "                        <td id=\"T_7b6381ae_1213_11eb_857d_00e0201808a0row3_col1\" class=\"data row3 col1\" >0.8631</td>\n",
       "                        <td id=\"T_7b6381ae_1213_11eb_857d_00e0201808a0row3_col2\" class=\"data row3 col2\" >0.9184</td>\n",
       "                        <td id=\"T_7b6381ae_1213_11eb_857d_00e0201808a0row3_col3\" class=\"data row3 col3\" >0.6070</td>\n",
       "                        <td id=\"T_7b6381ae_1213_11eb_857d_00e0201808a0row3_col4\" class=\"data row3 col4\" >0.7790</td>\n",
       "                        <td id=\"T_7b6381ae_1213_11eb_857d_00e0201808a0row3_col5\" class=\"data row3 col5\" >0.6821</td>\n",
       "                        <td id=\"T_7b6381ae_1213_11eb_857d_00e0201808a0row3_col6\" class=\"data row3 col6\" >0.5966</td>\n",
       "                        <td id=\"T_7b6381ae_1213_11eb_857d_00e0201808a0row3_col7\" class=\"data row3 col7\" >0.6043</td>\n",
       "                        <td id=\"T_7b6381ae_1213_11eb_857d_00e0201808a0row3_col8\" class=\"data row3 col8\" >2.0659</td>\n",
       "            </tr>\n",
       "            <tr>\n",
       "                        <th id=\"T_7b6381ae_1213_11eb_857d_00e0201808a0level0_row4\" class=\"row_heading level0 row4\" >4</th>\n",
       "                        <td id=\"T_7b6381ae_1213_11eb_857d_00e0201808a0row4_col0\" class=\"data row4 col0\" >Ada Boost Classifier</td>\n",
       "                        <td id=\"T_7b6381ae_1213_11eb_857d_00e0201808a0row4_col1\" class=\"data row4 col1\" >0.8561</td>\n",
       "                        <td id=\"T_7b6381ae_1213_11eb_857d_00e0201808a0row4_col2\" class=\"data row4 col2\" >0.9114</td>\n",
       "                        <td id=\"T_7b6381ae_1213_11eb_857d_00e0201808a0row4_col3\" class=\"data row4 col3\" >0.6164</td>\n",
       "                        <td id=\"T_7b6381ae_1213_11eb_857d_00e0201808a0row4_col4\" class=\"data row4 col4\" >0.7451</td>\n",
       "                        <td id=\"T_7b6381ae_1213_11eb_857d_00e0201808a0row4_col5\" class=\"data row4 col5\" >0.6745</td>\n",
       "                        <td id=\"T_7b6381ae_1213_11eb_857d_00e0201808a0row4_col6\" class=\"data row4 col6\" >0.5832</td>\n",
       "                        <td id=\"T_7b6381ae_1213_11eb_857d_00e0201808a0row4_col7\" class=\"data row4 col7\" >0.5876</td>\n",
       "                        <td id=\"T_7b6381ae_1213_11eb_857d_00e0201808a0row4_col8\" class=\"data row4 col8\" >0.7158</td>\n",
       "            </tr>\n",
       "            <tr>\n",
       "                        <th id=\"T_7b6381ae_1213_11eb_857d_00e0201808a0level0_row5\" class=\"row_heading level0 row5\" >5</th>\n",
       "                        <td id=\"T_7b6381ae_1213_11eb_857d_00e0201808a0row5_col0\" class=\"data row5 col0\" >Linear Discriminant Analysis</td>\n",
       "                        <td id=\"T_7b6381ae_1213_11eb_857d_00e0201808a0row5_col1\" class=\"data row5 col1\" >0.8460</td>\n",
       "                        <td id=\"T_7b6381ae_1213_11eb_857d_00e0201808a0row5_col2\" class=\"data row5 col2\" >0.9001</td>\n",
       "                        <td id=\"T_7b6381ae_1213_11eb_857d_00e0201808a0row5_col3\" class=\"data row5 col3\" >0.5918</td>\n",
       "                        <td id=\"T_7b6381ae_1213_11eb_857d_00e0201808a0row5_col4\" class=\"data row5 col4\" >0.7221</td>\n",
       "                        <td id=\"T_7b6381ae_1213_11eb_857d_00e0201808a0row5_col5\" class=\"data row5 col5\" >0.6500</td>\n",
       "                        <td id=\"T_7b6381ae_1213_11eb_857d_00e0201808a0row5_col6\" class=\"data row5 col6\" >0.5526</td>\n",
       "                        <td id=\"T_7b6381ae_1213_11eb_857d_00e0201808a0row5_col7\" class=\"data row5 col7\" >0.5573</td>\n",
       "                        <td id=\"T_7b6381ae_1213_11eb_857d_00e0201808a0row5_col8\" class=\"data row5 col8\" >0.1726</td>\n",
       "            </tr>\n",
       "            <tr>\n",
       "                        <th id=\"T_7b6381ae_1213_11eb_857d_00e0201808a0level0_row6\" class=\"row_heading level0 row6\" >6</th>\n",
       "                        <td id=\"T_7b6381ae_1213_11eb_857d_00e0201808a0row6_col0\" class=\"data row6 col0\" >Extra Trees Classifier</td>\n",
       "                        <td id=\"T_7b6381ae_1213_11eb_857d_00e0201808a0row6_col1\" class=\"data row6 col1\" >0.8375</td>\n",
       "                        <td id=\"T_7b6381ae_1213_11eb_857d_00e0201808a0row6_col2\" class=\"data row6 col2\" >0.8833</td>\n",
       "                        <td id=\"T_7b6381ae_1213_11eb_857d_00e0201808a0row6_col3\" class=\"data row6 col3\" >0.6008</td>\n",
       "                        <td id=\"T_7b6381ae_1213_11eb_857d_00e0201808a0row6_col4\" class=\"data row6 col4\" >0.6892</td>\n",
       "                        <td id=\"T_7b6381ae_1213_11eb_857d_00e0201808a0row6_col5\" class=\"data row6 col5\" >0.6417</td>\n",
       "                        <td id=\"T_7b6381ae_1213_11eb_857d_00e0201808a0row6_col6\" class=\"data row6 col6\" >0.5373</td>\n",
       "                        <td id=\"T_7b6381ae_1213_11eb_857d_00e0201808a0row6_col7\" class=\"data row6 col7\" >0.5396</td>\n",
       "                        <td id=\"T_7b6381ae_1213_11eb_857d_00e0201808a0row6_col8\" class=\"data row6 col8\" >0.5225</td>\n",
       "            </tr>\n",
       "            <tr>\n",
       "                        <th id=\"T_7b6381ae_1213_11eb_857d_00e0201808a0level0_row7\" class=\"row_heading level0 row7\" >7</th>\n",
       "                        <td id=\"T_7b6381ae_1213_11eb_857d_00e0201808a0row7_col0\" class=\"data row7 col0\" >Random Forest Classifier</td>\n",
       "                        <td id=\"T_7b6381ae_1213_11eb_857d_00e0201808a0row7_col1\" class=\"data row7 col1\" >0.8406</td>\n",
       "                        <td id=\"T_7b6381ae_1213_11eb_857d_00e0201808a0row7_col2\" class=\"data row7 col2\" >0.8737</td>\n",
       "                        <td id=\"T_7b6381ae_1213_11eb_857d_00e0201808a0row7_col3\" class=\"data row7 col3\" >0.5587</td>\n",
       "                        <td id=\"T_7b6381ae_1213_11eb_857d_00e0201808a0row7_col4\" class=\"data row7 col4\" >0.7208</td>\n",
       "                        <td id=\"T_7b6381ae_1213_11eb_857d_00e0201808a0row7_col5\" class=\"data row7 col5\" >0.6291</td>\n",
       "                        <td id=\"T_7b6381ae_1213_11eb_857d_00e0201808a0row7_col6\" class=\"data row7 col6\" >0.5296</td>\n",
       "                        <td id=\"T_7b6381ae_1213_11eb_857d_00e0201808a0row7_col7\" class=\"data row7 col7\" >0.5369</td>\n",
       "                        <td id=\"T_7b6381ae_1213_11eb_857d_00e0201808a0row7_col8\" class=\"data row7 col8\" >0.1269</td>\n",
       "            </tr>\n",
       "    </tbody></table>"
      ],
      "text/plain": [
       "<pandas.io.formats.style.Styler at 0x1e54fa99fc8>"
      ]
     },
     "metadata": {},
     "output_type": "display_data"
    }
   ],
   "source": [
    "best_3 = compare_models(sort = 'F1', n_select = 3\n",
    "                       ,exclude=['lr', 'knn', 'nb', 'dt', 'svm', 'rbfsvm', 'ridge','qda']\n",
    "                       #,exclude=['lr', 'knn', 'nb', 'dt', 'svm', 'rbfsvm', 'gpc', 'mlp', 'ridge', 'rf', 'qda', 'ada', 'xgboost']\n",
    "                       )"
   ]
  },
  {
   "cell_type": "code",
   "execution_count": 12,
   "metadata": {},
   "outputs": [
    {
     "data": {
      "text/html": [
       "<style  type=\"text/css\" >\n",
       "#T_c9723cdc_1213_11eb_8f45_00e0201808a0row5_col0,#T_c9723cdc_1213_11eb_8f45_00e0201808a0row5_col1,#T_c9723cdc_1213_11eb_8f45_00e0201808a0row5_col2,#T_c9723cdc_1213_11eb_8f45_00e0201808a0row5_col3,#T_c9723cdc_1213_11eb_8f45_00e0201808a0row5_col4,#T_c9723cdc_1213_11eb_8f45_00e0201808a0row5_col5,#T_c9723cdc_1213_11eb_8f45_00e0201808a0row5_col6{\n",
       "            background:  yellow;\n",
       "        }</style><table id=\"T_c9723cdc_1213_11eb_8f45_00e0201808a0\" ><thead>    <tr>        <th class=\"blank level0\" ></th>        <th class=\"col_heading level0 col0\" >Accuracy</th>        <th class=\"col_heading level0 col1\" >AUC</th>        <th class=\"col_heading level0 col2\" >Recall</th>        <th class=\"col_heading level0 col3\" >Prec.</th>        <th class=\"col_heading level0 col4\" >F1</th>        <th class=\"col_heading level0 col5\" >Kappa</th>        <th class=\"col_heading level0 col6\" >MCC</th>    </tr></thead><tbody>\n",
       "                <tr>\n",
       "                        <th id=\"T_c9723cdc_1213_11eb_8f45_00e0201808a0level0_row0\" class=\"row_heading level0 row0\" >0</th>\n",
       "                        <td id=\"T_c9723cdc_1213_11eb_8f45_00e0201808a0row0_col0\" class=\"data row0 col0\" >0.8621</td>\n",
       "                        <td id=\"T_c9723cdc_1213_11eb_8f45_00e0201808a0row0_col1\" class=\"data row0 col1\" >0.9215</td>\n",
       "                        <td id=\"T_c9723cdc_1213_11eb_8f45_00e0201808a0row0_col2\" class=\"data row0 col2\" >0.6359</td>\n",
       "                        <td id=\"T_c9723cdc_1213_11eb_8f45_00e0201808a0row0_col3\" class=\"data row0 col3\" >0.7558</td>\n",
       "                        <td id=\"T_c9723cdc_1213_11eb_8f45_00e0201808a0row0_col4\" class=\"data row0 col4\" >0.6907</td>\n",
       "                        <td id=\"T_c9723cdc_1213_11eb_8f45_00e0201808a0row0_col5\" class=\"data row0 col5\" >0.6028</td>\n",
       "                        <td id=\"T_c9723cdc_1213_11eb_8f45_00e0201808a0row0_col6\" class=\"data row0 col6\" >0.6065</td>\n",
       "            </tr>\n",
       "            <tr>\n",
       "                        <th id=\"T_c9723cdc_1213_11eb_8f45_00e0201808a0level0_row1\" class=\"row_heading level0 row1\" >1</th>\n",
       "                        <td id=\"T_c9723cdc_1213_11eb_8f45_00e0201808a0row1_col0\" class=\"data row1 col0\" >0.8602</td>\n",
       "                        <td id=\"T_c9723cdc_1213_11eb_8f45_00e0201808a0row1_col1\" class=\"data row1 col1\" >0.9172</td>\n",
       "                        <td id=\"T_c9723cdc_1213_11eb_8f45_00e0201808a0row1_col2\" class=\"data row1 col2\" >0.6408</td>\n",
       "                        <td id=\"T_c9723cdc_1213_11eb_8f45_00e0201808a0row1_col3\" class=\"data row1 col3\" >0.7458</td>\n",
       "                        <td id=\"T_c9723cdc_1213_11eb_8f45_00e0201808a0row1_col4\" class=\"data row1 col4\" >0.6893</td>\n",
       "                        <td id=\"T_c9723cdc_1213_11eb_8f45_00e0201808a0row1_col5\" class=\"data row1 col5\" >0.5997</td>\n",
       "                        <td id=\"T_c9723cdc_1213_11eb_8f45_00e0201808a0row1_col6\" class=\"data row1 col6\" >0.6026</td>\n",
       "            </tr>\n",
       "            <tr>\n",
       "                        <th id=\"T_c9723cdc_1213_11eb_8f45_00e0201808a0level0_row2\" class=\"row_heading level0 row2\" >2</th>\n",
       "                        <td id=\"T_c9723cdc_1213_11eb_8f45_00e0201808a0row2_col0\" class=\"data row2 col0\" >0.8559</td>\n",
       "                        <td id=\"T_c9723cdc_1213_11eb_8f45_00e0201808a0row2_col1\" class=\"data row2 col1\" >0.9216</td>\n",
       "                        <td id=\"T_c9723cdc_1213_11eb_8f45_00e0201808a0row2_col2\" class=\"data row2 col2\" >0.6197</td>\n",
       "                        <td id=\"T_c9723cdc_1213_11eb_8f45_00e0201808a0row2_col3\" class=\"data row2 col3\" >0.7422</td>\n",
       "                        <td id=\"T_c9723cdc_1213_11eb_8f45_00e0201808a0row2_col4\" class=\"data row2 col4\" >0.6755</td>\n",
       "                        <td id=\"T_c9723cdc_1213_11eb_8f45_00e0201808a0row2_col5\" class=\"data row2 col5\" >0.5838</td>\n",
       "                        <td id=\"T_c9723cdc_1213_11eb_8f45_00e0201808a0row2_col6\" class=\"data row2 col6\" >0.5877</td>\n",
       "            </tr>\n",
       "            <tr>\n",
       "                        <th id=\"T_c9723cdc_1213_11eb_8f45_00e0201808a0level0_row3\" class=\"row_heading level0 row3\" >3</th>\n",
       "                        <td id=\"T_c9723cdc_1213_11eb_8f45_00e0201808a0row3_col0\" class=\"data row3 col0\" >0.8742</td>\n",
       "                        <td id=\"T_c9723cdc_1213_11eb_8f45_00e0201808a0row3_col1\" class=\"data row3 col1\" >0.9310</td>\n",
       "                        <td id=\"T_c9723cdc_1213_11eb_8f45_00e0201808a0row3_col2\" class=\"data row3 col2\" >0.6386</td>\n",
       "                        <td id=\"T_c9723cdc_1213_11eb_8f45_00e0201808a0row3_col3\" class=\"data row3 col3\" >0.8008</td>\n",
       "                        <td id=\"T_c9723cdc_1213_11eb_8f45_00e0201808a0row3_col4\" class=\"data row3 col4\" >0.7106</td>\n",
       "                        <td id=\"T_c9723cdc_1213_11eb_8f45_00e0201808a0row3_col5\" class=\"data row3 col5\" >0.6315</td>\n",
       "                        <td id=\"T_c9723cdc_1213_11eb_8f45_00e0201808a0row3_col6\" class=\"data row3 col6\" >0.6381</td>\n",
       "            </tr>\n",
       "            <tr>\n",
       "                        <th id=\"T_c9723cdc_1213_11eb_8f45_00e0201808a0level0_row4\" class=\"row_heading level0 row4\" >4</th>\n",
       "                        <td id=\"T_c9723cdc_1213_11eb_8f45_00e0201808a0row4_col0\" class=\"data row4 col0\" >0.8695</td>\n",
       "                        <td id=\"T_c9723cdc_1213_11eb_8f45_00e0201808a0row4_col1\" class=\"data row4 col1\" >0.9249</td>\n",
       "                        <td id=\"T_c9723cdc_1213_11eb_8f45_00e0201808a0row4_col2\" class=\"data row4 col2\" >0.6586</td>\n",
       "                        <td id=\"T_c9723cdc_1213_11eb_8f45_00e0201808a0row4_col3\" class=\"data row4 col3\" >0.7694</td>\n",
       "                        <td id=\"T_c9723cdc_1213_11eb_8f45_00e0201808a0row4_col4\" class=\"data row4 col4\" >0.7097</td>\n",
       "                        <td id=\"T_c9723cdc_1213_11eb_8f45_00e0201808a0row4_col5\" class=\"data row4 col5\" >0.6262</td>\n",
       "                        <td id=\"T_c9723cdc_1213_11eb_8f45_00e0201808a0row4_col6\" class=\"data row4 col6\" >0.6293</td>\n",
       "            </tr>\n",
       "            <tr>\n",
       "                        <th id=\"T_c9723cdc_1213_11eb_8f45_00e0201808a0level0_row5\" class=\"row_heading level0 row5\" >Mean</th>\n",
       "                        <td id=\"T_c9723cdc_1213_11eb_8f45_00e0201808a0row5_col0\" class=\"data row5 col0\" >0.8644</td>\n",
       "                        <td id=\"T_c9723cdc_1213_11eb_8f45_00e0201808a0row5_col1\" class=\"data row5 col1\" >0.9232</td>\n",
       "                        <td id=\"T_c9723cdc_1213_11eb_8f45_00e0201808a0row5_col2\" class=\"data row5 col2\" >0.6387</td>\n",
       "                        <td id=\"T_c9723cdc_1213_11eb_8f45_00e0201808a0row5_col3\" class=\"data row5 col3\" >0.7628</td>\n",
       "                        <td id=\"T_c9723cdc_1213_11eb_8f45_00e0201808a0row5_col4\" class=\"data row5 col4\" >0.6951</td>\n",
       "                        <td id=\"T_c9723cdc_1213_11eb_8f45_00e0201808a0row5_col5\" class=\"data row5 col5\" >0.6088</td>\n",
       "                        <td id=\"T_c9723cdc_1213_11eb_8f45_00e0201808a0row5_col6\" class=\"data row5 col6\" >0.6129</td>\n",
       "            </tr>\n",
       "            <tr>\n",
       "                        <th id=\"T_c9723cdc_1213_11eb_8f45_00e0201808a0level0_row6\" class=\"row_heading level0 row6\" >SD</th>\n",
       "                        <td id=\"T_c9723cdc_1213_11eb_8f45_00e0201808a0row6_col0\" class=\"data row6 col0\" >0.0066</td>\n",
       "                        <td id=\"T_c9723cdc_1213_11eb_8f45_00e0201808a0row6_col1\" class=\"data row6 col1\" >0.0046</td>\n",
       "                        <td id=\"T_c9723cdc_1213_11eb_8f45_00e0201808a0row6_col2\" class=\"data row6 col2\" >0.0124</td>\n",
       "                        <td id=\"T_c9723cdc_1213_11eb_8f45_00e0201808a0row6_col3\" class=\"data row6 col3\" >0.0212</td>\n",
       "                        <td id=\"T_c9723cdc_1213_11eb_8f45_00e0201808a0row6_col4\" class=\"data row6 col4\" >0.0133</td>\n",
       "                        <td id=\"T_c9723cdc_1213_11eb_8f45_00e0201808a0row6_col5\" class=\"data row6 col5\" >0.0177</td>\n",
       "                        <td id=\"T_c9723cdc_1213_11eb_8f45_00e0201808a0row6_col6\" class=\"data row6 col6\" >0.0184</td>\n",
       "            </tr>\n",
       "    </tbody></table>"
      ],
      "text/plain": [
       "<pandas.io.formats.style.Styler at 0x1e54faab308>"
      ]
     },
     "metadata": {},
     "output_type": "display_data"
    }
   ],
   "source": [
    "blended = blend_models(estimator_list = best_3, fold = 5, method = 'soft')"
   ]
  },
  {
   "cell_type": "code",
   "execution_count": 13,
   "metadata": {},
   "outputs": [
    {
     "data": {
      "text/html": [
       "<div>\n",
       "<style scoped>\n",
       "    .dataframe tbody tr th:only-of-type {\n",
       "        vertical-align: middle;\n",
       "    }\n",
       "\n",
       "    .dataframe tbody tr th {\n",
       "        vertical-align: top;\n",
       "    }\n",
       "\n",
       "    .dataframe thead th {\n",
       "        text-align: right;\n",
       "    }\n",
       "</style>\n",
       "<table border=\"1\" class=\"dataframe\">\n",
       "  <thead>\n",
       "    <tr style=\"text-align: right;\">\n",
       "      <th></th>\n",
       "      <th>Model</th>\n",
       "      <th>Accuracy</th>\n",
       "      <th>AUC</th>\n",
       "      <th>Recall</th>\n",
       "      <th>Prec.</th>\n",
       "      <th>F1</th>\n",
       "      <th>Kappa</th>\n",
       "      <th>MCC</th>\n",
       "    </tr>\n",
       "  </thead>\n",
       "  <tbody>\n",
       "    <tr>\n",
       "      <th>0</th>\n",
       "      <td>Voting Classifier</td>\n",
       "      <td>0.8706</td>\n",
       "      <td>0.9287</td>\n",
       "      <td>0.6511</td>\n",
       "      <td>0.778</td>\n",
       "      <td>0.7089</td>\n",
       "      <td>0.6265</td>\n",
       "      <td>0.6306</td>\n",
       "    </tr>\n",
       "  </tbody>\n",
       "</table>\n",
       "</div>"
      ],
      "text/plain": [
       "               Model  Accuracy     AUC  Recall  Prec.      F1   Kappa     MCC\n",
       "0  Voting Classifier    0.8706  0.9287  0.6511  0.778  0.7089  0.6265  0.6306"
      ]
     },
     "metadata": {},
     "output_type": "display_data"
    }
   ],
   "source": [
    "pred_holdout = predict_model(blended)"
   ]
  },
  {
   "cell_type": "code",
   "execution_count": 14,
   "metadata": {},
   "outputs": [
    {
     "name": "stdout",
     "output_type": "stream",
     "text": [
      "Wall time: 3min 33s\n"
     ]
    }
   ],
   "source": [
    "%%time\n",
    "final_model = finalize_model(blended)"
   ]
  },
  {
   "cell_type": "code",
   "execution_count": 15,
   "metadata": {},
   "outputs": [],
   "source": [
    "predictions = predict_model(final_model, data = test)"
   ]
  },
  {
   "cell_type": "markdown",
   "metadata": {},
   "source": [
    "# 4. 예측"
   ]
  },
  {
   "cell_type": "code",
   "execution_count": 16,
   "metadata": {},
   "outputs": [],
   "source": [
    "submission['prediction'] = predictions['Label']"
   ]
  },
  {
   "cell_type": "markdown",
   "metadata": {},
   "source": [
    "# 5. 제출"
   ]
  },
  {
   "cell_type": "code",
   "execution_count": 17,
   "metadata": {},
   "outputs": [],
   "source": [
    "submission.to_csv('output/20201019-3.csv')"
   ]
  },
  {
   "cell_type": "code",
   "execution_count": null,
   "metadata": {},
   "outputs": [],
   "source": []
  },
  {
   "cell_type": "code",
   "execution_count": 18,
   "metadata": {},
   "outputs": [
    {
     "data": {
      "text/html": [
       "<style  type=\"text/css\" >\n",
       "#T_57ef034c_1214_11eb_b98b_00e0201808a0row10_col0,#T_57ef034c_1214_11eb_b98b_00e0201808a0row10_col1,#T_57ef034c_1214_11eb_b98b_00e0201808a0row10_col2,#T_57ef034c_1214_11eb_b98b_00e0201808a0row10_col3,#T_57ef034c_1214_11eb_b98b_00e0201808a0row10_col4,#T_57ef034c_1214_11eb_b98b_00e0201808a0row10_col5,#T_57ef034c_1214_11eb_b98b_00e0201808a0row10_col6{\n",
       "            background:  yellow;\n",
       "        }</style><table id=\"T_57ef034c_1214_11eb_b98b_00e0201808a0\" ><thead>    <tr>        <th class=\"blank level0\" ></th>        <th class=\"col_heading level0 col0\" >Accuracy</th>        <th class=\"col_heading level0 col1\" >AUC</th>        <th class=\"col_heading level0 col2\" >Recall</th>        <th class=\"col_heading level0 col3\" >Prec.</th>        <th class=\"col_heading level0 col4\" >F1</th>        <th class=\"col_heading level0 col5\" >Kappa</th>        <th class=\"col_heading level0 col6\" >MCC</th>    </tr></thead><tbody>\n",
       "                <tr>\n",
       "                        <th id=\"T_57ef034c_1214_11eb_b98b_00e0201808a0level0_row0\" class=\"row_heading level0 row0\" >0</th>\n",
       "                        <td id=\"T_57ef034c_1214_11eb_b98b_00e0201808a0row0_col0\" class=\"data row0 col0\" >0.8708</td>\n",
       "                        <td id=\"T_57ef034c_1214_11eb_b98b_00e0201808a0row0_col1\" class=\"data row0 col1\" >0.9212</td>\n",
       "                        <td id=\"T_57ef034c_1214_11eb_b98b_00e0201808a0row0_col2\" class=\"data row0 col2\" >0.6343</td>\n",
       "                        <td id=\"T_57ef034c_1214_11eb_b98b_00e0201808a0row0_col3\" class=\"data row0 col3\" >0.7903</td>\n",
       "                        <td id=\"T_57ef034c_1214_11eb_b98b_00e0201808a0row0_col4\" class=\"data row0 col4\" >0.7038</td>\n",
       "                        <td id=\"T_57ef034c_1214_11eb_b98b_00e0201808a0row0_col5\" class=\"data row0 col5\" >0.6224</td>\n",
       "                        <td id=\"T_57ef034c_1214_11eb_b98b_00e0201808a0row0_col6\" class=\"data row0 col6\" >0.6286</td>\n",
       "            </tr>\n",
       "            <tr>\n",
       "                        <th id=\"T_57ef034c_1214_11eb_b98b_00e0201808a0level0_row1\" class=\"row_heading level0 row1\" >1</th>\n",
       "                        <td id=\"T_57ef034c_1214_11eb_b98b_00e0201808a0row1_col0\" class=\"data row1 col0\" >0.8598</td>\n",
       "                        <td id=\"T_57ef034c_1214_11eb_b98b_00e0201808a0row1_col1\" class=\"data row1 col1\" >0.9148</td>\n",
       "                        <td id=\"T_57ef034c_1214_11eb_b98b_00e0201808a0row1_col2\" class=\"data row1 col2\" >0.6505</td>\n",
       "                        <td id=\"T_57ef034c_1214_11eb_b98b_00e0201808a0row1_col3\" class=\"data row1 col3\" >0.7390</td>\n",
       "                        <td id=\"T_57ef034c_1214_11eb_b98b_00e0201808a0row1_col4\" class=\"data row1 col4\" >0.6919</td>\n",
       "                        <td id=\"T_57ef034c_1214_11eb_b98b_00e0201808a0row1_col5\" class=\"data row1 col5\" >0.6017</td>\n",
       "                        <td id=\"T_57ef034c_1214_11eb_b98b_00e0201808a0row1_col6\" class=\"data row1 col6\" >0.6037</td>\n",
       "            </tr>\n",
       "            <tr>\n",
       "                        <th id=\"T_57ef034c_1214_11eb_b98b_00e0201808a0level0_row2\" class=\"row_heading level0 row2\" >2</th>\n",
       "                        <td id=\"T_57ef034c_1214_11eb_b98b_00e0201808a0row2_col0\" class=\"data row2 col0\" >0.8583</td>\n",
       "                        <td id=\"T_57ef034c_1214_11eb_b98b_00e0201808a0row2_col1\" class=\"data row2 col1\" >0.9157</td>\n",
       "                        <td id=\"T_57ef034c_1214_11eb_b98b_00e0201808a0row2_col2\" class=\"data row2 col2\" >0.6602</td>\n",
       "                        <td id=\"T_57ef034c_1214_11eb_b98b_00e0201808a0row2_col3\" class=\"data row2 col3\" >0.7286</td>\n",
       "                        <td id=\"T_57ef034c_1214_11eb_b98b_00e0201808a0row2_col4\" class=\"data row2 col4\" >0.6927</td>\n",
       "                        <td id=\"T_57ef034c_1214_11eb_b98b_00e0201808a0row2_col5\" class=\"data row2 col5\" >0.6009</td>\n",
       "                        <td id=\"T_57ef034c_1214_11eb_b98b_00e0201808a0row2_col6\" class=\"data row2 col6\" >0.6021</td>\n",
       "            </tr>\n",
       "            <tr>\n",
       "                        <th id=\"T_57ef034c_1214_11eb_b98b_00e0201808a0level0_row3\" class=\"row_heading level0 row3\" >3</th>\n",
       "                        <td id=\"T_57ef034c_1214_11eb_b98b_00e0201808a0row3_col0\" class=\"data row3 col0\" >0.8558</td>\n",
       "                        <td id=\"T_57ef034c_1214_11eb_b98b_00e0201808a0row3_col1\" class=\"data row3 col1\" >0.9123</td>\n",
       "                        <td id=\"T_57ef034c_1214_11eb_b98b_00e0201808a0row3_col2\" class=\"data row3 col2\" >0.6299</td>\n",
       "                        <td id=\"T_57ef034c_1214_11eb_b98b_00e0201808a0row3_col3\" class=\"data row3 col3\" >0.7348</td>\n",
       "                        <td id=\"T_57ef034c_1214_11eb_b98b_00e0201808a0row3_col4\" class=\"data row3 col4\" >0.6783</td>\n",
       "                        <td id=\"T_57ef034c_1214_11eb_b98b_00e0201808a0row3_col5\" class=\"data row3 col5\" >0.5861</td>\n",
       "                        <td id=\"T_57ef034c_1214_11eb_b98b_00e0201808a0row3_col6\" class=\"data row3 col6\" >0.5890</td>\n",
       "            </tr>\n",
       "            <tr>\n",
       "                        <th id=\"T_57ef034c_1214_11eb_b98b_00e0201808a0level0_row4\" class=\"row_heading level0 row4\" >4</th>\n",
       "                        <td id=\"T_57ef034c_1214_11eb_b98b_00e0201808a0row4_col0\" class=\"data row4 col0\" >0.8527</td>\n",
       "                        <td id=\"T_57ef034c_1214_11eb_b98b_00e0201808a0row4_col1\" class=\"data row4 col1\" >0.9080</td>\n",
       "                        <td id=\"T_57ef034c_1214_11eb_b98b_00e0201808a0row4_col2\" class=\"data row4 col2\" >0.6343</td>\n",
       "                        <td id=\"T_57ef034c_1214_11eb_b98b_00e0201808a0row4_col3\" class=\"data row4 col3\" >0.7232</td>\n",
       "                        <td id=\"T_57ef034c_1214_11eb_b98b_00e0201808a0row4_col4\" class=\"data row4 col4\" >0.6759</td>\n",
       "                        <td id=\"T_57ef034c_1214_11eb_b98b_00e0201808a0row4_col5\" class=\"data row4 col5\" >0.5811</td>\n",
       "                        <td id=\"T_57ef034c_1214_11eb_b98b_00e0201808a0row4_col6\" class=\"data row4 col6\" >0.5832</td>\n",
       "            </tr>\n",
       "            <tr>\n",
       "                        <th id=\"T_57ef034c_1214_11eb_b98b_00e0201808a0level0_row5\" class=\"row_heading level0 row5\" >5</th>\n",
       "                        <td id=\"T_57ef034c_1214_11eb_b98b_00e0201808a0row5_col0\" class=\"data row5 col0\" >0.8723</td>\n",
       "                        <td id=\"T_57ef034c_1214_11eb_b98b_00e0201808a0row5_col1\" class=\"data row5 col1\" >0.9295</td>\n",
       "                        <td id=\"T_57ef034c_1214_11eb_b98b_00e0201808a0row5_col2\" class=\"data row5 col2\" >0.6570</td>\n",
       "                        <td id=\"T_57ef034c_1214_11eb_b98b_00e0201808a0row5_col3\" class=\"data row5 col3\" >0.7808</td>\n",
       "                        <td id=\"T_57ef034c_1214_11eb_b98b_00e0201808a0row5_col4\" class=\"data row5 col4\" >0.7135</td>\n",
       "                        <td id=\"T_57ef034c_1214_11eb_b98b_00e0201808a0row5_col5\" class=\"data row5 col5\" >0.6321</td>\n",
       "                        <td id=\"T_57ef034c_1214_11eb_b98b_00e0201808a0row5_col6\" class=\"data row5 col6\" >0.6360</td>\n",
       "            </tr>\n",
       "            <tr>\n",
       "                        <th id=\"T_57ef034c_1214_11eb_b98b_00e0201808a0level0_row6\" class=\"row_heading level0 row6\" >6</th>\n",
       "                        <td id=\"T_57ef034c_1214_11eb_b98b_00e0201808a0row6_col0\" class=\"data row6 col0\" >0.8770</td>\n",
       "                        <td id=\"T_57ef034c_1214_11eb_b98b_00e0201808a0row6_col1\" class=\"data row6 col1\" >0.9333</td>\n",
       "                        <td id=\"T_57ef034c_1214_11eb_b98b_00e0201808a0row6_col2\" class=\"data row6 col2\" >0.6602</td>\n",
       "                        <td id=\"T_57ef034c_1214_11eb_b98b_00e0201808a0row6_col3\" class=\"data row6 col3\" >0.7969</td>\n",
       "                        <td id=\"T_57ef034c_1214_11eb_b98b_00e0201808a0row6_col4\" class=\"data row6 col4\" >0.7221</td>\n",
       "                        <td id=\"T_57ef034c_1214_11eb_b98b_00e0201808a0row6_col5\" class=\"data row6 col5\" >0.6440</td>\n",
       "                        <td id=\"T_57ef034c_1214_11eb_b98b_00e0201808a0row6_col6\" class=\"data row6 col6\" >0.6487</td>\n",
       "            </tr>\n",
       "            <tr>\n",
       "                        <th id=\"T_57ef034c_1214_11eb_b98b_00e0201808a0level0_row7\" class=\"row_heading level0 row7\" >7</th>\n",
       "                        <td id=\"T_57ef034c_1214_11eb_b98b_00e0201808a0row7_col0\" class=\"data row7 col0\" >0.8668</td>\n",
       "                        <td id=\"T_57ef034c_1214_11eb_b98b_00e0201808a0row7_col1\" class=\"data row7 col1\" >0.9200</td>\n",
       "                        <td id=\"T_57ef034c_1214_11eb_b98b_00e0201808a0row7_col2\" class=\"data row7 col2\" >0.6311</td>\n",
       "                        <td id=\"T_57ef034c_1214_11eb_b98b_00e0201808a0row7_col3\" class=\"data row7 col3\" >0.7769</td>\n",
       "                        <td id=\"T_57ef034c_1214_11eb_b98b_00e0201808a0row7_col4\" class=\"data row7 col4\" >0.6964</td>\n",
       "                        <td id=\"T_57ef034c_1214_11eb_b98b_00e0201808a0row7_col5\" class=\"data row7 col5\" >0.6123</td>\n",
       "                        <td id=\"T_57ef034c_1214_11eb_b98b_00e0201808a0row7_col6\" class=\"data row7 col6\" >0.6177</td>\n",
       "            </tr>\n",
       "            <tr>\n",
       "                        <th id=\"T_57ef034c_1214_11eb_b98b_00e0201808a0level0_row8\" class=\"row_heading level0 row8\" >8</th>\n",
       "                        <td id=\"T_57ef034c_1214_11eb_b98b_00e0201808a0row8_col0\" class=\"data row8 col0\" >0.8589</td>\n",
       "                        <td id=\"T_57ef034c_1214_11eb_b98b_00e0201808a0row8_col1\" class=\"data row8 col1\" >0.9219</td>\n",
       "                        <td id=\"T_57ef034c_1214_11eb_b98b_00e0201808a0row8_col2\" class=\"data row8 col2\" >0.6472</td>\n",
       "                        <td id=\"T_57ef034c_1214_11eb_b98b_00e0201808a0row8_col3\" class=\"data row8 col3\" >0.7380</td>\n",
       "                        <td id=\"T_57ef034c_1214_11eb_b98b_00e0201808a0row8_col4\" class=\"data row8 col4\" >0.6897</td>\n",
       "                        <td id=\"T_57ef034c_1214_11eb_b98b_00e0201808a0row8_col5\" class=\"data row8 col5\" >0.5989</td>\n",
       "                        <td id=\"T_57ef034c_1214_11eb_b98b_00e0201808a0row8_col6\" class=\"data row8 col6\" >0.6010</td>\n",
       "            </tr>\n",
       "            <tr>\n",
       "                        <th id=\"T_57ef034c_1214_11eb_b98b_00e0201808a0level0_row9\" class=\"row_heading level0 row9\" >9</th>\n",
       "                        <td id=\"T_57ef034c_1214_11eb_b98b_00e0201808a0row9_col0\" class=\"data row9 col0\" >0.8660</td>\n",
       "                        <td id=\"T_57ef034c_1214_11eb_b98b_00e0201808a0row9_col1\" class=\"data row9 col1\" >0.9200</td>\n",
       "                        <td id=\"T_57ef034c_1214_11eb_b98b_00e0201808a0row9_col2\" class=\"data row9 col2\" >0.6764</td>\n",
       "                        <td id=\"T_57ef034c_1214_11eb_b98b_00e0201808a0row9_col3\" class=\"data row9 col3\" >0.7464</td>\n",
       "                        <td id=\"T_57ef034c_1214_11eb_b98b_00e0201808a0row9_col4\" class=\"data row9 col4\" >0.7097</td>\n",
       "                        <td id=\"T_57ef034c_1214_11eb_b98b_00e0201808a0row9_col5\" class=\"data row9 col5\" >0.6228</td>\n",
       "                        <td id=\"T_57ef034c_1214_11eb_b98b_00e0201808a0row9_col6\" class=\"data row9 col6\" >0.6241</td>\n",
       "            </tr>\n",
       "            <tr>\n",
       "                        <th id=\"T_57ef034c_1214_11eb_b98b_00e0201808a0level0_row10\" class=\"row_heading level0 row10\" >Mean</th>\n",
       "                        <td id=\"T_57ef034c_1214_11eb_b98b_00e0201808a0row10_col0\" class=\"data row10 col0\" >0.8638</td>\n",
       "                        <td id=\"T_57ef034c_1214_11eb_b98b_00e0201808a0row10_col1\" class=\"data row10 col1\" >0.9197</td>\n",
       "                        <td id=\"T_57ef034c_1214_11eb_b98b_00e0201808a0row10_col2\" class=\"data row10 col2\" >0.6481</td>\n",
       "                        <td id=\"T_57ef034c_1214_11eb_b98b_00e0201808a0row10_col3\" class=\"data row10 col3\" >0.7555</td>\n",
       "                        <td id=\"T_57ef034c_1214_11eb_b98b_00e0201808a0row10_col4\" class=\"data row10 col4\" >0.6974</td>\n",
       "                        <td id=\"T_57ef034c_1214_11eb_b98b_00e0201808a0row10_col5\" class=\"data row10 col5\" >0.6102</td>\n",
       "                        <td id=\"T_57ef034c_1214_11eb_b98b_00e0201808a0row10_col6\" class=\"data row10 col6\" >0.6134</td>\n",
       "            </tr>\n",
       "            <tr>\n",
       "                        <th id=\"T_57ef034c_1214_11eb_b98b_00e0201808a0level0_row11\" class=\"row_heading level0 row11\" >SD</th>\n",
       "                        <td id=\"T_57ef034c_1214_11eb_b98b_00e0201808a0row11_col0\" class=\"data row11 col0\" >0.0075</td>\n",
       "                        <td id=\"T_57ef034c_1214_11eb_b98b_00e0201808a0row11_col1\" class=\"data row11 col1\" >0.0072</td>\n",
       "                        <td id=\"T_57ef034c_1214_11eb_b98b_00e0201808a0row11_col2\" class=\"data row11 col2\" >0.0148</td>\n",
       "                        <td id=\"T_57ef034c_1214_11eb_b98b_00e0201808a0row11_col3\" class=\"data row11 col3\" >0.0262</td>\n",
       "                        <td id=\"T_57ef034c_1214_11eb_b98b_00e0201808a0row11_col4\" class=\"data row11 col4\" >0.0142</td>\n",
       "                        <td id=\"T_57ef034c_1214_11eb_b98b_00e0201808a0row11_col5\" class=\"data row11 col5\" >0.0191</td>\n",
       "                        <td id=\"T_57ef034c_1214_11eb_b98b_00e0201808a0row11_col6\" class=\"data row11 col6\" >0.0200</td>\n",
       "            </tr>\n",
       "    </tbody></table>"
      ],
      "text/plain": [
       "<pandas.io.formats.style.Styler at 0x1e54f8cab48>"
      ]
     },
     "metadata": {},
     "output_type": "display_data"
    }
   ],
   "source": [
    "xgboost = create_model('xgboost')"
   ]
  },
  {
   "cell_type": "code",
   "execution_count": 19,
   "metadata": {},
   "outputs": [
    {
     "data": {
      "image/png": "[encoded data removed]",
      "text/plain": [
       "<Figure size 800x500 with 1 Axes>"
      ]
     },
     "metadata": {
      "needs_background": "light"
     },
     "output_type": "display_data"
    }
   ],
   "source": [
    "plot_model(estimator = xgboost, plot = 'feature')"
   ]
  },
  {
   "cell_type": "code",
   "execution_count": null,
   "metadata": {},
   "outputs": [],
   "source": []
  },
  {
   "cell_type": "code",
   "execution_count": 20,
   "metadata": {
    "scrolled": true
   },
   "outputs": [
    {
     "data": {
      "text/html": [
       "<style  type=\"text/css\" >\n",
       "#T_5acb6c4a_1214_11eb_8fb9_00e0201808a0row10_col0,#T_5acb6c4a_1214_11eb_8fb9_00e0201808a0row10_col1,#T_5acb6c4a_1214_11eb_8fb9_00e0201808a0row10_col2,#T_5acb6c4a_1214_11eb_8fb9_00e0201808a0row10_col3,#T_5acb6c4a_1214_11eb_8fb9_00e0201808a0row10_col4,#T_5acb6c4a_1214_11eb_8fb9_00e0201808a0row10_col5,#T_5acb6c4a_1214_11eb_8fb9_00e0201808a0row10_col6{\n",
       "            background:  yellow;\n",
       "        }</style><table id=\"T_5acb6c4a_1214_11eb_8fb9_00e0201808a0\" ><thead>    <tr>        <th class=\"blank level0\" ></th>        <th class=\"col_heading level0 col0\" >Accuracy</th>        <th class=\"col_heading level0 col1\" >AUC</th>        <th class=\"col_heading level0 col2\" >Recall</th>        <th class=\"col_heading level0 col3\" >Prec.</th>        <th class=\"col_heading level0 col4\" >F1</th>        <th class=\"col_heading level0 col5\" >Kappa</th>        <th class=\"col_heading level0 col6\" >MCC</th>    </tr></thead><tbody>\n",
       "                <tr>\n",
       "                        <th id=\"T_5acb6c4a_1214_11eb_8fb9_00e0201808a0level0_row0\" class=\"row_heading level0 row0\" >0</th>\n",
       "                        <td id=\"T_5acb6c4a_1214_11eb_8fb9_00e0201808a0row0_col0\" class=\"data row0 col0\" >0.8645</td>\n",
       "                        <td id=\"T_5acb6c4a_1214_11eb_8fb9_00e0201808a0row0_col1\" class=\"data row0 col1\" >0.9238</td>\n",
       "                        <td id=\"T_5acb6c4a_1214_11eb_8fb9_00e0201808a0row0_col2\" class=\"data row0 col2\" >0.6472</td>\n",
       "                        <td id=\"T_5acb6c4a_1214_11eb_8fb9_00e0201808a0row0_col3\" class=\"data row0 col3\" >0.7576</td>\n",
       "                        <td id=\"T_5acb6c4a_1214_11eb_8fb9_00e0201808a0row0_col4\" class=\"data row0 col4\" >0.6981</td>\n",
       "                        <td id=\"T_5acb6c4a_1214_11eb_8fb9_00e0201808a0row0_col5\" class=\"data row0 col5\" >0.6114</td>\n",
       "                        <td id=\"T_5acb6c4a_1214_11eb_8fb9_00e0201808a0row0_col6\" class=\"data row0 col6\" >0.6146</td>\n",
       "            </tr>\n",
       "            <tr>\n",
       "                        <th id=\"T_5acb6c4a_1214_11eb_8fb9_00e0201808a0level0_row1\" class=\"row_heading level0 row1\" >1</th>\n",
       "                        <td id=\"T_5acb6c4a_1214_11eb_8fb9_00e0201808a0row1_col0\" class=\"data row1 col0\" >0.8598</td>\n",
       "                        <td id=\"T_5acb6c4a_1214_11eb_8fb9_00e0201808a0row1_col1\" class=\"data row1 col1\" >0.9187</td>\n",
       "                        <td id=\"T_5acb6c4a_1214_11eb_8fb9_00e0201808a0row1_col2\" class=\"data row1 col2\" >0.6602</td>\n",
       "                        <td id=\"T_5acb6c4a_1214_11eb_8fb9_00e0201808a0row1_col3\" class=\"data row1 col3\" >0.7338</td>\n",
       "                        <td id=\"T_5acb6c4a_1214_11eb_8fb9_00e0201808a0row1_col4\" class=\"data row1 col4\" >0.6951</td>\n",
       "                        <td id=\"T_5acb6c4a_1214_11eb_8fb9_00e0201808a0row1_col5\" class=\"data row1 col5\" >0.6044</td>\n",
       "                        <td id=\"T_5acb6c4a_1214_11eb_8fb9_00e0201808a0row1_col6\" class=\"data row1 col6\" >0.6058</td>\n",
       "            </tr>\n",
       "            <tr>\n",
       "                        <th id=\"T_5acb6c4a_1214_11eb_8fb9_00e0201808a0level0_row2\" class=\"row_heading level0 row2\" >2</th>\n",
       "                        <td id=\"T_5acb6c4a_1214_11eb_8fb9_00e0201808a0row2_col0\" class=\"data row2 col0\" >0.8630</td>\n",
       "                        <td id=\"T_5acb6c4a_1214_11eb_8fb9_00e0201808a0row2_col1\" class=\"data row2 col1\" >0.9167</td>\n",
       "                        <td id=\"T_5acb6c4a_1214_11eb_8fb9_00e0201808a0row2_col2\" class=\"data row2 col2\" >0.6602</td>\n",
       "                        <td id=\"T_5acb6c4a_1214_11eb_8fb9_00e0201808a0row2_col3\" class=\"data row2 col3\" >0.7445</td>\n",
       "                        <td id=\"T_5acb6c4a_1214_11eb_8fb9_00e0201808a0row2_col4\" class=\"data row2 col4\" >0.6998</td>\n",
       "                        <td id=\"T_5acb6c4a_1214_11eb_8fb9_00e0201808a0row2_col5\" class=\"data row2 col5\" >0.6115</td>\n",
       "                        <td id=\"T_5acb6c4a_1214_11eb_8fb9_00e0201808a0row2_col6\" class=\"data row2 col6\" >0.6133</td>\n",
       "            </tr>\n",
       "            <tr>\n",
       "                        <th id=\"T_5acb6c4a_1214_11eb_8fb9_00e0201808a0level0_row3\" class=\"row_heading level0 row3\" >3</th>\n",
       "                        <td id=\"T_5acb6c4a_1214_11eb_8fb9_00e0201808a0row3_col0\" class=\"data row3 col0\" >0.8621</td>\n",
       "                        <td id=\"T_5acb6c4a_1214_11eb_8fb9_00e0201808a0row3_col1\" class=\"data row3 col1\" >0.9124</td>\n",
       "                        <td id=\"T_5acb6c4a_1214_11eb_8fb9_00e0201808a0row3_col2\" class=\"data row3 col2\" >0.6396</td>\n",
       "                        <td id=\"T_5acb6c4a_1214_11eb_8fb9_00e0201808a0row3_col3\" class=\"data row3 col3\" >0.7519</td>\n",
       "                        <td id=\"T_5acb6c4a_1214_11eb_8fb9_00e0201808a0row3_col4\" class=\"data row3 col4\" >0.6912</td>\n",
       "                        <td id=\"T_5acb6c4a_1214_11eb_8fb9_00e0201808a0row3_col5\" class=\"data row3 col5\" >0.6032</td>\n",
       "                        <td id=\"T_5acb6c4a_1214_11eb_8fb9_00e0201808a0row3_col6\" class=\"data row3 col6\" >0.6064</td>\n",
       "            </tr>\n",
       "            <tr>\n",
       "                        <th id=\"T_5acb6c4a_1214_11eb_8fb9_00e0201808a0level0_row4\" class=\"row_heading level0 row4\" >4</th>\n",
       "                        <td id=\"T_5acb6c4a_1214_11eb_8fb9_00e0201808a0row4_col0\" class=\"data row4 col0\" >0.8550</td>\n",
       "                        <td id=\"T_5acb6c4a_1214_11eb_8fb9_00e0201808a0row4_col1\" class=\"data row4 col1\" >0.9101</td>\n",
       "                        <td id=\"T_5acb6c4a_1214_11eb_8fb9_00e0201808a0row4_col2\" class=\"data row4 col2\" >0.6117</td>\n",
       "                        <td id=\"T_5acb6c4a_1214_11eb_8fb9_00e0201808a0row4_col3\" class=\"data row4 col3\" >0.7441</td>\n",
       "                        <td id=\"T_5acb6c4a_1214_11eb_8fb9_00e0201808a0row4_col4\" class=\"data row4 col4\" >0.6714</td>\n",
       "                        <td id=\"T_5acb6c4a_1214_11eb_8fb9_00e0201808a0row4_col5\" class=\"data row4 col5\" >0.5795</td>\n",
       "                        <td id=\"T_5acb6c4a_1214_11eb_8fb9_00e0201808a0row4_col6\" class=\"data row4 col6\" >0.5841</td>\n",
       "            </tr>\n",
       "            <tr>\n",
       "                        <th id=\"T_5acb6c4a_1214_11eb_8fb9_00e0201808a0level0_row5\" class=\"row_heading level0 row5\" >5</th>\n",
       "                        <td id=\"T_5acb6c4a_1214_11eb_8fb9_00e0201808a0row5_col0\" class=\"data row5 col0\" >0.8668</td>\n",
       "                        <td id=\"T_5acb6c4a_1214_11eb_8fb9_00e0201808a0row5_col1\" class=\"data row5 col1\" >0.9303</td>\n",
       "                        <td id=\"T_5acb6c4a_1214_11eb_8fb9_00e0201808a0row5_col2\" class=\"data row5 col2\" >0.6505</td>\n",
       "                        <td id=\"T_5acb6c4a_1214_11eb_8fb9_00e0201808a0row5_col3\" class=\"data row5 col3\" >0.7643</td>\n",
       "                        <td id=\"T_5acb6c4a_1214_11eb_8fb9_00e0201808a0row5_col4\" class=\"data row5 col4\" >0.7028</td>\n",
       "                        <td id=\"T_5acb6c4a_1214_11eb_8fb9_00e0201808a0row5_col5\" class=\"data row5 col5\" >0.6177</td>\n",
       "                        <td id=\"T_5acb6c4a_1214_11eb_8fb9_00e0201808a0row5_col6\" class=\"data row5 col6\" >0.6210</td>\n",
       "            </tr>\n",
       "            <tr>\n",
       "                        <th id=\"T_5acb6c4a_1214_11eb_8fb9_00e0201808a0level0_row6\" class=\"row_heading level0 row6\" >6</th>\n",
       "                        <td id=\"T_5acb6c4a_1214_11eb_8fb9_00e0201808a0row6_col0\" class=\"data row6 col0\" >0.8762</td>\n",
       "                        <td id=\"T_5acb6c4a_1214_11eb_8fb9_00e0201808a0row6_col1\" class=\"data row6 col1\" >0.9360</td>\n",
       "                        <td id=\"T_5acb6c4a_1214_11eb_8fb9_00e0201808a0row6_col2\" class=\"data row6 col2\" >0.6537</td>\n",
       "                        <td id=\"T_5acb6c4a_1214_11eb_8fb9_00e0201808a0row6_col3\" class=\"data row6 col3\" >0.7984</td>\n",
       "                        <td id=\"T_5acb6c4a_1214_11eb_8fb9_00e0201808a0row6_col4\" class=\"data row6 col4\" >0.7189</td>\n",
       "                        <td id=\"T_5acb6c4a_1214_11eb_8fb9_00e0201808a0row6_col5\" class=\"data row6 col5\" >0.6405</td>\n",
       "                        <td id=\"T_5acb6c4a_1214_11eb_8fb9_00e0201808a0row6_col6\" class=\"data row6 col6\" >0.6457</td>\n",
       "            </tr>\n",
       "            <tr>\n",
       "                        <th id=\"T_5acb6c4a_1214_11eb_8fb9_00e0201808a0level0_row7\" class=\"row_heading level0 row7\" >7</th>\n",
       "                        <td id=\"T_5acb6c4a_1214_11eb_8fb9_00e0201808a0row7_col0\" class=\"data row7 col0\" >0.8636</td>\n",
       "                        <td id=\"T_5acb6c4a_1214_11eb_8fb9_00e0201808a0row7_col1\" class=\"data row7 col1\" >0.9198</td>\n",
       "                        <td id=\"T_5acb6c4a_1214_11eb_8fb9_00e0201808a0row7_col2\" class=\"data row7 col2\" >0.6375</td>\n",
       "                        <td id=\"T_5acb6c4a_1214_11eb_8fb9_00e0201808a0row7_col3\" class=\"data row7 col3\" >0.7606</td>\n",
       "                        <td id=\"T_5acb6c4a_1214_11eb_8fb9_00e0201808a0row7_col4\" class=\"data row7 col4\" >0.6937</td>\n",
       "                        <td id=\"T_5acb6c4a_1214_11eb_8fb9_00e0201808a0row7_col5\" class=\"data row7 col5\" >0.6068</td>\n",
       "                        <td id=\"T_5acb6c4a_1214_11eb_8fb9_00e0201808a0row7_col6\" class=\"data row7 col6\" >0.6107</td>\n",
       "            </tr>\n",
       "            <tr>\n",
       "                        <th id=\"T_5acb6c4a_1214_11eb_8fb9_00e0201808a0level0_row8\" class=\"row_heading level0 row8\" >8</th>\n",
       "                        <td id=\"T_5acb6c4a_1214_11eb_8fb9_00e0201808a0row8_col0\" class=\"data row8 col0\" >0.8715</td>\n",
       "                        <td id=\"T_5acb6c4a_1214_11eb_8fb9_00e0201808a0row8_col1\" class=\"data row8 col1\" >0.9262</td>\n",
       "                        <td id=\"T_5acb6c4a_1214_11eb_8fb9_00e0201808a0row8_col2\" class=\"data row8 col2\" >0.6408</td>\n",
       "                        <td id=\"T_5acb6c4a_1214_11eb_8fb9_00e0201808a0row8_col3\" class=\"data row8 col3\" >0.7888</td>\n",
       "                        <td id=\"T_5acb6c4a_1214_11eb_8fb9_00e0201808a0row8_col4\" class=\"data row8 col4\" >0.7071</td>\n",
       "                        <td id=\"T_5acb6c4a_1214_11eb_8fb9_00e0201808a0row8_col5\" class=\"data row8 col5\" >0.6259</td>\n",
       "                        <td id=\"T_5acb6c4a_1214_11eb_8fb9_00e0201808a0row8_col6\" class=\"data row8 col6\" >0.6315</td>\n",
       "            </tr>\n",
       "            <tr>\n",
       "                        <th id=\"T_5acb6c4a_1214_11eb_8fb9_00e0201808a0level0_row9\" class=\"row_heading level0 row9\" >9</th>\n",
       "                        <td id=\"T_5acb6c4a_1214_11eb_8fb9_00e0201808a0row9_col0\" class=\"data row9 col0\" >0.8707</td>\n",
       "                        <td id=\"T_5acb6c4a_1214_11eb_8fb9_00e0201808a0row9_col1\" class=\"data row9 col1\" >0.9209</td>\n",
       "                        <td id=\"T_5acb6c4a_1214_11eb_8fb9_00e0201808a0row9_col2\" class=\"data row9 col2\" >0.6667</td>\n",
       "                        <td id=\"T_5acb6c4a_1214_11eb_8fb9_00e0201808a0row9_col3\" class=\"data row9 col3\" >0.7687</td>\n",
       "                        <td id=\"T_5acb6c4a_1214_11eb_8fb9_00e0201808a0row9_col4\" class=\"data row9 col4\" >0.7140</td>\n",
       "                        <td id=\"T_5acb6c4a_1214_11eb_8fb9_00e0201808a0row9_col5\" class=\"data row9 col5\" >0.6310</td>\n",
       "                        <td id=\"T_5acb6c4a_1214_11eb_8fb9_00e0201808a0row9_col6\" class=\"data row9 col6\" >0.6337</td>\n",
       "            </tr>\n",
       "            <tr>\n",
       "                        <th id=\"T_5acb6c4a_1214_11eb_8fb9_00e0201808a0level0_row10\" class=\"row_heading level0 row10\" >Mean</th>\n",
       "                        <td id=\"T_5acb6c4a_1214_11eb_8fb9_00e0201808a0row10_col0\" class=\"data row10 col0\" >0.8653</td>\n",
       "                        <td id=\"T_5acb6c4a_1214_11eb_8fb9_00e0201808a0row10_col1\" class=\"data row10 col1\" >0.9215</td>\n",
       "                        <td id=\"T_5acb6c4a_1214_11eb_8fb9_00e0201808a0row10_col2\" class=\"data row10 col2\" >0.6468</td>\n",
       "                        <td id=\"T_5acb6c4a_1214_11eb_8fb9_00e0201808a0row10_col3\" class=\"data row10 col3\" >0.7613</td>\n",
       "                        <td id=\"T_5acb6c4a_1214_11eb_8fb9_00e0201808a0row10_col4\" class=\"data row10 col4\" >0.6992</td>\n",
       "                        <td id=\"T_5acb6c4a_1214_11eb_8fb9_00e0201808a0row10_col5\" class=\"data row10 col5\" >0.6132</td>\n",
       "                        <td id=\"T_5acb6c4a_1214_11eb_8fb9_00e0201808a0row10_col6\" class=\"data row10 col6\" >0.6167</td>\n",
       "            </tr>\n",
       "            <tr>\n",
       "                        <th id=\"T_5acb6c4a_1214_11eb_8fb9_00e0201808a0level0_row11\" class=\"row_heading level0 row11\" >SD</th>\n",
       "                        <td id=\"T_5acb6c4a_1214_11eb_8fb9_00e0201808a0row11_col0\" class=\"data row11 col0\" >0.0059</td>\n",
       "                        <td id=\"T_5acb6c4a_1214_11eb_8fb9_00e0201808a0row11_col1\" class=\"data row11 col1\" >0.0075</td>\n",
       "                        <td id=\"T_5acb6c4a_1214_11eb_8fb9_00e0201808a0row11_col2\" class=\"data row11 col2\" >0.0149</td>\n",
       "                        <td id=\"T_5acb6c4a_1214_11eb_8fb9_00e0201808a0row11_col3\" class=\"data row11 col3\" >0.0191</td>\n",
       "                        <td id=\"T_5acb6c4a_1214_11eb_8fb9_00e0201808a0row11_col4\" class=\"data row11 col4\" >0.0125</td>\n",
       "                        <td id=\"T_5acb6c4a_1214_11eb_8fb9_00e0201808a0row11_col5\" class=\"data row11 col5\" >0.0161</td>\n",
       "                        <td id=\"T_5acb6c4a_1214_11eb_8fb9_00e0201808a0row11_col6\" class=\"data row11 col6\" >0.0165</td>\n",
       "            </tr>\n",
       "    </tbody></table>"
      ],
      "text/plain": [
       "<pandas.io.formats.style.Styler at 0x1e551cda608>"
      ]
     },
     "metadata": {},
     "output_type": "display_data"
    }
   ],
   "source": [
    "lightgbm = create_model('lightgbm')"
   ]
  },
  {
   "cell_type": "code",
   "execution_count": 21,
   "metadata": {},
   "outputs": [
    {
     "data": {
      "image/png": "[encoded data removed]",
      "text/plain": [
       "<Figure size 800x500 with 1 Axes>"
      ]
     },
     "metadata": {
      "needs_background": "light"
     },
     "output_type": "display_data"
    }
   ],
   "source": [
    "plot_model(estimator = lightgbm, plot = 'feature')"
   ]
  },
  {
   "cell_type": "code",
   "execution_count": null,
   "metadata": {},
   "outputs": [],
   "source": []
  }
 ],
 "metadata": {
  "kernelspec": {
   "display_name": "Python 3",
   "language": "python",
   "name": "python3"
  },
  "language_info": {
   "codemirror_mode": {
    "name": "ipython",
    "version": 3
   },
   "file_extension": ".py",
   "mimetype": "text/x-python",
   "name": "python",
   "nbconvert_exporter": "python",
   "pygments_lexer": "ipython3",
   "version": "3.7.6"
  }
 },
 "nbformat": 4,
 "nbformat_minor": 4
}
