{
 "cells": [
  {
   "cell_type": "code",
   "execution_count": 1,
   "metadata": {},
   "outputs": [],
   "source": [
    "import numpy as np\n",
    "import pandas as pd\n",
    "import matplotlib.pyplot as plt\n",
    "import seaborn as sns\n",
    "import warnings\n",
    "warnings.filterwarnings('ignore')\n",
    "%matplotlib inline\n",
    "\n",
    "from IPython.core.interactiveshell import InteractiveShell\n",
    "InteractiveShell.ast_node_interactivity = \"all\"\n",
    "\n",
    "from sklearn.preprocessing import PolynomialFeatures\n",
    "\n",
    "from sklearn.model_selection import train_test_split\n",
    "import lightgbm as lgbm\n",
    "from sklearn.metrics import confusion_matrix, accuracy_score\n",
    "from pycaret.classification import *"
   ]
  },
  {
   "cell_type": "code",
   "execution_count": 2,
   "metadata": {},
   "outputs": [],
   "source": [
    "seed = 42\n",
    "np.random.seed(seed)\n",
    "set_config('seed', seed)"
   ]
  },
  {
   "cell_type": "code",
   "execution_count": null,
   "metadata": {},
   "outputs": [],
   "source": []
  },
  {
   "cell_type": "markdown",
   "metadata": {},
   "source": [
    "# 1. 데이터 로드"
   ]
  },
  {
   "cell_type": "code",
   "execution_count": 3,
   "metadata": {},
   "outputs": [],
   "source": [
    "train=pd.read_csv('input/train.csv', index_col=0)#, na_values='?') #인덱스 col=0도 check!\n",
    "test=pd.read_csv('input/test.csv', index_col=0)#, na_values='?')\n",
    "submission=pd.read_csv('input/sample_submission.csv', index_col=0)  "
   ]
  },
  {
   "cell_type": "code",
   "execution_count": 4,
   "metadata": {},
   "outputs": [],
   "source": [
    "train['income']=pd.factorize(train['income'], sort=True)[0]"
   ]
  },
  {
   "cell_type": "code",
   "execution_count": null,
   "metadata": {},
   "outputs": [],
   "source": [
    "train.shape, test.shape"
   ]
  },
  {
   "cell_type": "code",
   "execution_count": null,
   "metadata": {},
   "outputs": [],
   "source": [
    "train.head(3)\n",
    "test.head(3)"
   ]
  },
  {
   "cell_type": "markdown",
   "metadata": {},
   "source": [
    "# 2. EDA & 전처리"
   ]
  },
  {
   "cell_type": "code",
   "execution_count": null,
   "metadata": {},
   "outputs": [],
   "source": [
    "train.info()\n",
    "train.describe()\n",
    "train.describe(include='O')"
   ]
  },
  {
   "cell_type": "markdown",
   "metadata": {},
   "source": [
    "## Missing Value"
   ]
  },
  {
   "cell_type": "code",
   "execution_count": null,
   "metadata": {},
   "outputs": [],
   "source": [
    "train.isnull().sum()#.sum()\n",
    "test.isnull().sum()#.sum()"
   ]
  },
  {
   "cell_type": "markdown",
   "metadata": {},
   "source": [
    "### outlier"
   ]
  },
  {
   "cell_type": "markdown",
   "metadata": {},
   "source": [
    "### education"
   ]
  },
  {
   "cell_type": "code",
   "execution_count": 5,
   "metadata": {},
   "outputs": [],
   "source": [
    "train.drop(['education'],axis=1, inplace=True)\n",
    "test.drop(['education'],axis=1, inplace=True)"
   ]
  },
  {
   "cell_type": "code",
   "execution_count": null,
   "metadata": {},
   "outputs": [],
   "source": []
  },
  {
   "cell_type": "markdown",
   "metadata": {},
   "source": [
    "### capital_gain 99999"
   ]
  },
  {
   "cell_type": "code",
   "execution_count": 6,
   "metadata": {},
   "outputs": [
    {
     "data": {
      "text/plain": [
       "(32561, 14)"
      ]
     },
     "execution_count": 6,
     "metadata": {},
     "output_type": "execute_result"
    }
   ],
   "source": [
    "df = pd.concat([train, test])\n",
    "df.shape"
   ]
  },
  {
   "cell_type": "code",
   "execution_count": 7,
   "metadata": {},
   "outputs": [],
   "source": [
    "df['capital_gain_imsi'] = df['capital_gain'].replace(99999,0)"
   ]
  },
  {
   "cell_type": "code",
   "execution_count": 8,
   "metadata": {},
   "outputs": [],
   "source": [
    "capital_gain_imsi = pd.DataFrame(df.groupby(['education_num'])['capital_gain_imsi'].mean()).reset_index()"
   ]
  },
  {
   "cell_type": "code",
   "execution_count": 9,
   "metadata": {},
   "outputs": [],
   "source": [
    "train = train.merge(capital_gain_imsi, on=['education_num'], how='left')\n",
    "test = test.merge(capital_gain_imsi, on=['education_num'], how='left')"
   ]
  },
  {
   "cell_type": "code",
   "execution_count": 10,
   "metadata": {},
   "outputs": [],
   "source": [
    "train.loc[train.capital_gain == 99999, 'capital_gain'] = train['capital_gain_imsi']\n",
    "test.loc[test.capital_gain == 99999, 'capital_gain'] = test['capital_gain_imsi']"
   ]
  },
  {
   "cell_type": "code",
   "execution_count": 11,
   "metadata": {},
   "outputs": [],
   "source": [
    "train.drop(['capital_gain_imsi'],axis=1, inplace=True)\n",
    "test.drop(['capital_gain_imsi'],axis=1, inplace=True)"
   ]
  },
  {
   "cell_type": "code",
   "execution_count": null,
   "metadata": {},
   "outputs": [],
   "source": []
  },
  {
   "cell_type": "code",
   "execution_count": 13,
   "metadata": {},
   "outputs": [],
   "source": [
    "train['imsi'] = train.capital_gain*train.hours_per_week#*train.capital_loss\n",
    "test['imsi'] = test.capital_gain*test.hours_per_week#*train.capital_loss"
   ]
  },
  {
   "cell_type": "code",
   "execution_count": 14,
   "metadata": {},
   "outputs": [],
   "source": [
    "train['imsi2'] = train.age*train.education_num#*train.capital_loss\n",
    "test['imsi2'] = test.age*test.education_num#*train.capital_loss"
   ]
  },
  {
   "cell_type": "markdown",
   "metadata": {},
   "source": [
    "# 3. 모델 학습"
   ]
  },
  {
   "cell_type": "code",
   "execution_count": null,
   "metadata": {},
   "outputs": [],
   "source": [
    "import gc\n",
    "gc.collect()"
   ]
  },
  {
   "cell_type": "code",
   "execution_count": null,
   "metadata": {},
   "outputs": [],
   "source": [
    "train.columns"
   ]
  },
  {
   "cell_type": "code",
   "execution_count": null,
   "metadata": {},
   "outputs": [],
   "source": []
  },
  {
   "cell_type": "code",
   "execution_count": 15,
   "metadata": {
    "scrolled": false
   },
   "outputs": [
    {
     "name": "stdout",
     "output_type": "stream",
     "text": [
      "Setup Succesfully Completed!\n"
     ]
    },
    {
     "data": {
      "text/html": [
       "<style  type=\"text/css\" >\n",
       "</style><table id=\"T_0140e764_15e0_11eb_8c0a_00e0201808a0\" ><thead>    <tr>        <th class=\"blank level0\" ></th>        <th class=\"col_heading level0 col0\" >Description</th>        <th class=\"col_heading level0 col1\" >Value</th>    </tr></thead><tbody>\n",
       "                <tr>\n",
       "                        <th id=\"T_0140e764_15e0_11eb_8c0a_00e0201808a0level0_row0\" class=\"row_heading level0 row0\" >0</th>\n",
       "                        <td id=\"T_0140e764_15e0_11eb_8c0a_00e0201808a0row0_col0\" class=\"data row0 col0\" >session_id</td>\n",
       "                        <td id=\"T_0140e764_15e0_11eb_8c0a_00e0201808a0row0_col1\" class=\"data row0 col1\" >42</td>\n",
       "            </tr>\n",
       "            <tr>\n",
       "                        <th id=\"T_0140e764_15e0_11eb_8c0a_00e0201808a0level0_row1\" class=\"row_heading level0 row1\" >1</th>\n",
       "                        <td id=\"T_0140e764_15e0_11eb_8c0a_00e0201808a0row1_col0\" class=\"data row1 col0\" >Target Type</td>\n",
       "                        <td id=\"T_0140e764_15e0_11eb_8c0a_00e0201808a0row1_col1\" class=\"data row1 col1\" >Binary</td>\n",
       "            </tr>\n",
       "            <tr>\n",
       "                        <th id=\"T_0140e764_15e0_11eb_8c0a_00e0201808a0level0_row2\" class=\"row_heading level0 row2\" >2</th>\n",
       "                        <td id=\"T_0140e764_15e0_11eb_8c0a_00e0201808a0row2_col0\" class=\"data row2 col0\" >Label Encoded</td>\n",
       "                        <td id=\"T_0140e764_15e0_11eb_8c0a_00e0201808a0row2_col1\" class=\"data row2 col1\" >0: 0, 1: 1</td>\n",
       "            </tr>\n",
       "            <tr>\n",
       "                        <th id=\"T_0140e764_15e0_11eb_8c0a_00e0201808a0level0_row3\" class=\"row_heading level0 row3\" >3</th>\n",
       "                        <td id=\"T_0140e764_15e0_11eb_8c0a_00e0201808a0row3_col0\" class=\"data row3 col0\" >Original Data</td>\n",
       "                        <td id=\"T_0140e764_15e0_11eb_8c0a_00e0201808a0row3_col1\" class=\"data row3 col1\" >(26049, 16)</td>\n",
       "            </tr>\n",
       "            <tr>\n",
       "                        <th id=\"T_0140e764_15e0_11eb_8c0a_00e0201808a0level0_row4\" class=\"row_heading level0 row4\" >4</th>\n",
       "                        <td id=\"T_0140e764_15e0_11eb_8c0a_00e0201808a0row4_col0\" class=\"data row4 col0\" >Missing Values </td>\n",
       "                        <td id=\"T_0140e764_15e0_11eb_8c0a_00e0201808a0row4_col1\" class=\"data row4 col1\" >False</td>\n",
       "            </tr>\n",
       "            <tr>\n",
       "                        <th id=\"T_0140e764_15e0_11eb_8c0a_00e0201808a0level0_row5\" class=\"row_heading level0 row5\" >5</th>\n",
       "                        <td id=\"T_0140e764_15e0_11eb_8c0a_00e0201808a0row5_col0\" class=\"data row5 col0\" >Numeric Features </td>\n",
       "                        <td id=\"T_0140e764_15e0_11eb_8c0a_00e0201808a0row5_col1\" class=\"data row5 col1\" >8</td>\n",
       "            </tr>\n",
       "            <tr>\n",
       "                        <th id=\"T_0140e764_15e0_11eb_8c0a_00e0201808a0level0_row6\" class=\"row_heading level0 row6\" >6</th>\n",
       "                        <td id=\"T_0140e764_15e0_11eb_8c0a_00e0201808a0row6_col0\" class=\"data row6 col0\" >Categorical Features </td>\n",
       "                        <td id=\"T_0140e764_15e0_11eb_8c0a_00e0201808a0row6_col1\" class=\"data row6 col1\" >7</td>\n",
       "            </tr>\n",
       "            <tr>\n",
       "                        <th id=\"T_0140e764_15e0_11eb_8c0a_00e0201808a0level0_row7\" class=\"row_heading level0 row7\" >7</th>\n",
       "                        <td id=\"T_0140e764_15e0_11eb_8c0a_00e0201808a0row7_col0\" class=\"data row7 col0\" >Ordinal Features </td>\n",
       "                        <td id=\"T_0140e764_15e0_11eb_8c0a_00e0201808a0row7_col1\" class=\"data row7 col1\" >False</td>\n",
       "            </tr>\n",
       "            <tr>\n",
       "                        <th id=\"T_0140e764_15e0_11eb_8c0a_00e0201808a0level0_row8\" class=\"row_heading level0 row8\" >8</th>\n",
       "                        <td id=\"T_0140e764_15e0_11eb_8c0a_00e0201808a0row8_col0\" class=\"data row8 col0\" >High Cardinality Features </td>\n",
       "                        <td id=\"T_0140e764_15e0_11eb_8c0a_00e0201808a0row8_col1\" class=\"data row8 col1\" >False</td>\n",
       "            </tr>\n",
       "            <tr>\n",
       "                        <th id=\"T_0140e764_15e0_11eb_8c0a_00e0201808a0level0_row9\" class=\"row_heading level0 row9\" >9</th>\n",
       "                        <td id=\"T_0140e764_15e0_11eb_8c0a_00e0201808a0row9_col0\" class=\"data row9 col0\" >High Cardinality Method </td>\n",
       "                        <td id=\"T_0140e764_15e0_11eb_8c0a_00e0201808a0row9_col1\" class=\"data row9 col1\" >None</td>\n",
       "            </tr>\n",
       "            <tr>\n",
       "                        <th id=\"T_0140e764_15e0_11eb_8c0a_00e0201808a0level0_row10\" class=\"row_heading level0 row10\" >10</th>\n",
       "                        <td id=\"T_0140e764_15e0_11eb_8c0a_00e0201808a0row10_col0\" class=\"data row10 col0\" >Sampled Data</td>\n",
       "                        <td id=\"T_0140e764_15e0_11eb_8c0a_00e0201808a0row10_col1\" class=\"data row10 col1\" >(18234, 16)</td>\n",
       "            </tr>\n",
       "            <tr>\n",
       "                        <th id=\"T_0140e764_15e0_11eb_8c0a_00e0201808a0level0_row11\" class=\"row_heading level0 row11\" >11</th>\n",
       "                        <td id=\"T_0140e764_15e0_11eb_8c0a_00e0201808a0row11_col0\" class=\"data row11 col0\" >Transformed Train Set</td>\n",
       "                        <td id=\"T_0140e764_15e0_11eb_8c0a_00e0201808a0row11_col1\" class=\"data row11 col1\" >(12763, 92)</td>\n",
       "            </tr>\n",
       "            <tr>\n",
       "                        <th id=\"T_0140e764_15e0_11eb_8c0a_00e0201808a0level0_row12\" class=\"row_heading level0 row12\" >12</th>\n",
       "                        <td id=\"T_0140e764_15e0_11eb_8c0a_00e0201808a0row12_col0\" class=\"data row12 col0\" >Transformed Test Set</td>\n",
       "                        <td id=\"T_0140e764_15e0_11eb_8c0a_00e0201808a0row12_col1\" class=\"data row12 col1\" >(5471, 92)</td>\n",
       "            </tr>\n",
       "            <tr>\n",
       "                        <th id=\"T_0140e764_15e0_11eb_8c0a_00e0201808a0level0_row13\" class=\"row_heading level0 row13\" >13</th>\n",
       "                        <td id=\"T_0140e764_15e0_11eb_8c0a_00e0201808a0row13_col0\" class=\"data row13 col0\" >Numeric Imputer </td>\n",
       "                        <td id=\"T_0140e764_15e0_11eb_8c0a_00e0201808a0row13_col1\" class=\"data row13 col1\" >mean</td>\n",
       "            </tr>\n",
       "            <tr>\n",
       "                        <th id=\"T_0140e764_15e0_11eb_8c0a_00e0201808a0level0_row14\" class=\"row_heading level0 row14\" >14</th>\n",
       "                        <td id=\"T_0140e764_15e0_11eb_8c0a_00e0201808a0row14_col0\" class=\"data row14 col0\" >Categorical Imputer </td>\n",
       "                        <td id=\"T_0140e764_15e0_11eb_8c0a_00e0201808a0row14_col1\" class=\"data row14 col1\" >constant</td>\n",
       "            </tr>\n",
       "            <tr>\n",
       "                        <th id=\"T_0140e764_15e0_11eb_8c0a_00e0201808a0level0_row15\" class=\"row_heading level0 row15\" >15</th>\n",
       "                        <td id=\"T_0140e764_15e0_11eb_8c0a_00e0201808a0row15_col0\" class=\"data row15 col0\" >Normalize </td>\n",
       "                        <td id=\"T_0140e764_15e0_11eb_8c0a_00e0201808a0row15_col1\" class=\"data row15 col1\" >False</td>\n",
       "            </tr>\n",
       "            <tr>\n",
       "                        <th id=\"T_0140e764_15e0_11eb_8c0a_00e0201808a0level0_row16\" class=\"row_heading level0 row16\" >16</th>\n",
       "                        <td id=\"T_0140e764_15e0_11eb_8c0a_00e0201808a0row16_col0\" class=\"data row16 col0\" >Normalize Method </td>\n",
       "                        <td id=\"T_0140e764_15e0_11eb_8c0a_00e0201808a0row16_col1\" class=\"data row16 col1\" >None</td>\n",
       "            </tr>\n",
       "            <tr>\n",
       "                        <th id=\"T_0140e764_15e0_11eb_8c0a_00e0201808a0level0_row17\" class=\"row_heading level0 row17\" >17</th>\n",
       "                        <td id=\"T_0140e764_15e0_11eb_8c0a_00e0201808a0row17_col0\" class=\"data row17 col0\" >Transformation </td>\n",
       "                        <td id=\"T_0140e764_15e0_11eb_8c0a_00e0201808a0row17_col1\" class=\"data row17 col1\" >False</td>\n",
       "            </tr>\n",
       "            <tr>\n",
       "                        <th id=\"T_0140e764_15e0_11eb_8c0a_00e0201808a0level0_row18\" class=\"row_heading level0 row18\" >18</th>\n",
       "                        <td id=\"T_0140e764_15e0_11eb_8c0a_00e0201808a0row18_col0\" class=\"data row18 col0\" >Transformation Method </td>\n",
       "                        <td id=\"T_0140e764_15e0_11eb_8c0a_00e0201808a0row18_col1\" class=\"data row18 col1\" >None</td>\n",
       "            </tr>\n",
       "            <tr>\n",
       "                        <th id=\"T_0140e764_15e0_11eb_8c0a_00e0201808a0level0_row19\" class=\"row_heading level0 row19\" >19</th>\n",
       "                        <td id=\"T_0140e764_15e0_11eb_8c0a_00e0201808a0row19_col0\" class=\"data row19 col0\" >PCA </td>\n",
       "                        <td id=\"T_0140e764_15e0_11eb_8c0a_00e0201808a0row19_col1\" class=\"data row19 col1\" >False</td>\n",
       "            </tr>\n",
       "            <tr>\n",
       "                        <th id=\"T_0140e764_15e0_11eb_8c0a_00e0201808a0level0_row20\" class=\"row_heading level0 row20\" >20</th>\n",
       "                        <td id=\"T_0140e764_15e0_11eb_8c0a_00e0201808a0row20_col0\" class=\"data row20 col0\" >PCA Method </td>\n",
       "                        <td id=\"T_0140e764_15e0_11eb_8c0a_00e0201808a0row20_col1\" class=\"data row20 col1\" >None</td>\n",
       "            </tr>\n",
       "            <tr>\n",
       "                        <th id=\"T_0140e764_15e0_11eb_8c0a_00e0201808a0level0_row21\" class=\"row_heading level0 row21\" >21</th>\n",
       "                        <td id=\"T_0140e764_15e0_11eb_8c0a_00e0201808a0row21_col0\" class=\"data row21 col0\" >PCA Components </td>\n",
       "                        <td id=\"T_0140e764_15e0_11eb_8c0a_00e0201808a0row21_col1\" class=\"data row21 col1\" >None</td>\n",
       "            </tr>\n",
       "            <tr>\n",
       "                        <th id=\"T_0140e764_15e0_11eb_8c0a_00e0201808a0level0_row22\" class=\"row_heading level0 row22\" >22</th>\n",
       "                        <td id=\"T_0140e764_15e0_11eb_8c0a_00e0201808a0row22_col0\" class=\"data row22 col0\" >Ignore Low Variance </td>\n",
       "                        <td id=\"T_0140e764_15e0_11eb_8c0a_00e0201808a0row22_col1\" class=\"data row22 col1\" >False</td>\n",
       "            </tr>\n",
       "            <tr>\n",
       "                        <th id=\"T_0140e764_15e0_11eb_8c0a_00e0201808a0level0_row23\" class=\"row_heading level0 row23\" >23</th>\n",
       "                        <td id=\"T_0140e764_15e0_11eb_8c0a_00e0201808a0row23_col0\" class=\"data row23 col0\" >Combine Rare Levels </td>\n",
       "                        <td id=\"T_0140e764_15e0_11eb_8c0a_00e0201808a0row23_col1\" class=\"data row23 col1\" >False</td>\n",
       "            </tr>\n",
       "            <tr>\n",
       "                        <th id=\"T_0140e764_15e0_11eb_8c0a_00e0201808a0level0_row24\" class=\"row_heading level0 row24\" >24</th>\n",
       "                        <td id=\"T_0140e764_15e0_11eb_8c0a_00e0201808a0row24_col0\" class=\"data row24 col0\" >Rare Level Threshold </td>\n",
       "                        <td id=\"T_0140e764_15e0_11eb_8c0a_00e0201808a0row24_col1\" class=\"data row24 col1\" >None</td>\n",
       "            </tr>\n",
       "            <tr>\n",
       "                        <th id=\"T_0140e764_15e0_11eb_8c0a_00e0201808a0level0_row25\" class=\"row_heading level0 row25\" >25</th>\n",
       "                        <td id=\"T_0140e764_15e0_11eb_8c0a_00e0201808a0row25_col0\" class=\"data row25 col0\" >Numeric Binning </td>\n",
       "                        <td id=\"T_0140e764_15e0_11eb_8c0a_00e0201808a0row25_col1\" class=\"data row25 col1\" >False</td>\n",
       "            </tr>\n",
       "            <tr>\n",
       "                        <th id=\"T_0140e764_15e0_11eb_8c0a_00e0201808a0level0_row26\" class=\"row_heading level0 row26\" >26</th>\n",
       "                        <td id=\"T_0140e764_15e0_11eb_8c0a_00e0201808a0row26_col0\" class=\"data row26 col0\" >Remove Outliers </td>\n",
       "                        <td id=\"T_0140e764_15e0_11eb_8c0a_00e0201808a0row26_col1\" class=\"data row26 col1\" >False</td>\n",
       "            </tr>\n",
       "            <tr>\n",
       "                        <th id=\"T_0140e764_15e0_11eb_8c0a_00e0201808a0level0_row27\" class=\"row_heading level0 row27\" >27</th>\n",
       "                        <td id=\"T_0140e764_15e0_11eb_8c0a_00e0201808a0row27_col0\" class=\"data row27 col0\" >Outliers Threshold </td>\n",
       "                        <td id=\"T_0140e764_15e0_11eb_8c0a_00e0201808a0row27_col1\" class=\"data row27 col1\" >None</td>\n",
       "            </tr>\n",
       "            <tr>\n",
       "                        <th id=\"T_0140e764_15e0_11eb_8c0a_00e0201808a0level0_row28\" class=\"row_heading level0 row28\" >28</th>\n",
       "                        <td id=\"T_0140e764_15e0_11eb_8c0a_00e0201808a0row28_col0\" class=\"data row28 col0\" >Remove Multicollinearity </td>\n",
       "                        <td id=\"T_0140e764_15e0_11eb_8c0a_00e0201808a0row28_col1\" class=\"data row28 col1\" >False</td>\n",
       "            </tr>\n",
       "            <tr>\n",
       "                        <th id=\"T_0140e764_15e0_11eb_8c0a_00e0201808a0level0_row29\" class=\"row_heading level0 row29\" >29</th>\n",
       "                        <td id=\"T_0140e764_15e0_11eb_8c0a_00e0201808a0row29_col0\" class=\"data row29 col0\" >Multicollinearity Threshold </td>\n",
       "                        <td id=\"T_0140e764_15e0_11eb_8c0a_00e0201808a0row29_col1\" class=\"data row29 col1\" >None</td>\n",
       "            </tr>\n",
       "            <tr>\n",
       "                        <th id=\"T_0140e764_15e0_11eb_8c0a_00e0201808a0level0_row30\" class=\"row_heading level0 row30\" >30</th>\n",
       "                        <td id=\"T_0140e764_15e0_11eb_8c0a_00e0201808a0row30_col0\" class=\"data row30 col0\" >Clustering </td>\n",
       "                        <td id=\"T_0140e764_15e0_11eb_8c0a_00e0201808a0row30_col1\" class=\"data row30 col1\" >False</td>\n",
       "            </tr>\n",
       "            <tr>\n",
       "                        <th id=\"T_0140e764_15e0_11eb_8c0a_00e0201808a0level0_row31\" class=\"row_heading level0 row31\" >31</th>\n",
       "                        <td id=\"T_0140e764_15e0_11eb_8c0a_00e0201808a0row31_col0\" class=\"data row31 col0\" >Clustering Iteration </td>\n",
       "                        <td id=\"T_0140e764_15e0_11eb_8c0a_00e0201808a0row31_col1\" class=\"data row31 col1\" >None</td>\n",
       "            </tr>\n",
       "            <tr>\n",
       "                        <th id=\"T_0140e764_15e0_11eb_8c0a_00e0201808a0level0_row32\" class=\"row_heading level0 row32\" >32</th>\n",
       "                        <td id=\"T_0140e764_15e0_11eb_8c0a_00e0201808a0row32_col0\" class=\"data row32 col0\" >Polynomial Features </td>\n",
       "                        <td id=\"T_0140e764_15e0_11eb_8c0a_00e0201808a0row32_col1\" class=\"data row32 col1\" >False</td>\n",
       "            </tr>\n",
       "            <tr>\n",
       "                        <th id=\"T_0140e764_15e0_11eb_8c0a_00e0201808a0level0_row33\" class=\"row_heading level0 row33\" >33</th>\n",
       "                        <td id=\"T_0140e764_15e0_11eb_8c0a_00e0201808a0row33_col0\" class=\"data row33 col0\" >Polynomial Degree </td>\n",
       "                        <td id=\"T_0140e764_15e0_11eb_8c0a_00e0201808a0row33_col1\" class=\"data row33 col1\" >None</td>\n",
       "            </tr>\n",
       "            <tr>\n",
       "                        <th id=\"T_0140e764_15e0_11eb_8c0a_00e0201808a0level0_row34\" class=\"row_heading level0 row34\" >34</th>\n",
       "                        <td id=\"T_0140e764_15e0_11eb_8c0a_00e0201808a0row34_col0\" class=\"data row34 col0\" >Trignometry Features </td>\n",
       "                        <td id=\"T_0140e764_15e0_11eb_8c0a_00e0201808a0row34_col1\" class=\"data row34 col1\" >False</td>\n",
       "            </tr>\n",
       "            <tr>\n",
       "                        <th id=\"T_0140e764_15e0_11eb_8c0a_00e0201808a0level0_row35\" class=\"row_heading level0 row35\" >35</th>\n",
       "                        <td id=\"T_0140e764_15e0_11eb_8c0a_00e0201808a0row35_col0\" class=\"data row35 col0\" >Polynomial Threshold </td>\n",
       "                        <td id=\"T_0140e764_15e0_11eb_8c0a_00e0201808a0row35_col1\" class=\"data row35 col1\" >None</td>\n",
       "            </tr>\n",
       "            <tr>\n",
       "                        <th id=\"T_0140e764_15e0_11eb_8c0a_00e0201808a0level0_row36\" class=\"row_heading level0 row36\" >36</th>\n",
       "                        <td id=\"T_0140e764_15e0_11eb_8c0a_00e0201808a0row36_col0\" class=\"data row36 col0\" >Group Features </td>\n",
       "                        <td id=\"T_0140e764_15e0_11eb_8c0a_00e0201808a0row36_col1\" class=\"data row36 col1\" >False</td>\n",
       "            </tr>\n",
       "            <tr>\n",
       "                        <th id=\"T_0140e764_15e0_11eb_8c0a_00e0201808a0level0_row37\" class=\"row_heading level0 row37\" >37</th>\n",
       "                        <td id=\"T_0140e764_15e0_11eb_8c0a_00e0201808a0row37_col0\" class=\"data row37 col0\" >Feature Selection </td>\n",
       "                        <td id=\"T_0140e764_15e0_11eb_8c0a_00e0201808a0row37_col1\" class=\"data row37 col1\" >False</td>\n",
       "            </tr>\n",
       "            <tr>\n",
       "                        <th id=\"T_0140e764_15e0_11eb_8c0a_00e0201808a0level0_row38\" class=\"row_heading level0 row38\" >38</th>\n",
       "                        <td id=\"T_0140e764_15e0_11eb_8c0a_00e0201808a0row38_col0\" class=\"data row38 col0\" >Features Selection Threshold </td>\n",
       "                        <td id=\"T_0140e764_15e0_11eb_8c0a_00e0201808a0row38_col1\" class=\"data row38 col1\" >None</td>\n",
       "            </tr>\n",
       "            <tr>\n",
       "                        <th id=\"T_0140e764_15e0_11eb_8c0a_00e0201808a0level0_row39\" class=\"row_heading level0 row39\" >39</th>\n",
       "                        <td id=\"T_0140e764_15e0_11eb_8c0a_00e0201808a0row39_col0\" class=\"data row39 col0\" >Feature Interaction </td>\n",
       "                        <td id=\"T_0140e764_15e0_11eb_8c0a_00e0201808a0row39_col1\" class=\"data row39 col1\" >False</td>\n",
       "            </tr>\n",
       "            <tr>\n",
       "                        <th id=\"T_0140e764_15e0_11eb_8c0a_00e0201808a0level0_row40\" class=\"row_heading level0 row40\" >40</th>\n",
       "                        <td id=\"T_0140e764_15e0_11eb_8c0a_00e0201808a0row40_col0\" class=\"data row40 col0\" >Feature Ratio </td>\n",
       "                        <td id=\"T_0140e764_15e0_11eb_8c0a_00e0201808a0row40_col1\" class=\"data row40 col1\" >False</td>\n",
       "            </tr>\n",
       "            <tr>\n",
       "                        <th id=\"T_0140e764_15e0_11eb_8c0a_00e0201808a0level0_row41\" class=\"row_heading level0 row41\" >41</th>\n",
       "                        <td id=\"T_0140e764_15e0_11eb_8c0a_00e0201808a0row41_col0\" class=\"data row41 col0\" >Interaction Threshold </td>\n",
       "                        <td id=\"T_0140e764_15e0_11eb_8c0a_00e0201808a0row41_col1\" class=\"data row41 col1\" >None</td>\n",
       "            </tr>\n",
       "            <tr>\n",
       "                        <th id=\"T_0140e764_15e0_11eb_8c0a_00e0201808a0level0_row42\" class=\"row_heading level0 row42\" >42</th>\n",
       "                        <td id=\"T_0140e764_15e0_11eb_8c0a_00e0201808a0row42_col0\" class=\"data row42 col0\" >Fix Imbalance</td>\n",
       "                        <td id=\"T_0140e764_15e0_11eb_8c0a_00e0201808a0row42_col1\" class=\"data row42 col1\" >False</td>\n",
       "            </tr>\n",
       "            <tr>\n",
       "                        <th id=\"T_0140e764_15e0_11eb_8c0a_00e0201808a0level0_row43\" class=\"row_heading level0 row43\" >43</th>\n",
       "                        <td id=\"T_0140e764_15e0_11eb_8c0a_00e0201808a0row43_col0\" class=\"data row43 col0\" >Fix Imbalance Method</td>\n",
       "                        <td id=\"T_0140e764_15e0_11eb_8c0a_00e0201808a0row43_col1\" class=\"data row43 col1\" >SMOTE</td>\n",
       "            </tr>\n",
       "    </tbody></table>"
      ],
      "text/plain": [
       "<pandas.io.formats.style.Styler at 0x25bb5fd4d88>"
      ]
     },
     "metadata": {},
     "output_type": "display_data"
    },
    {
     "name": "stdout",
     "output_type": "stream",
     "text": [
      "Wall time: 56.9 s\n"
     ]
    }
   ],
   "source": [
    "%%time\n",
    "clf = setup(session_id=seed, \n",
    "            data = train, target = 'income'\n",
    "          #, categorical_features=col_cat\n",
    "          , numeric_features = ['education_num']\n",
    "          , ignore_features =['fnlwgt']\n",
    "           )"
   ]
  },
  {
   "cell_type": "code",
   "execution_count": 16,
   "metadata": {},
   "outputs": [
    {
     "data": {
      "text/html": [
       "<style  type=\"text/css\" >\n",
       "    #T_3e2ae608_15e1_11eb_91da_00e0201808a0 th {\n",
       "          text-align: left;\n",
       "    }#T_3e2ae608_15e1_11eb_91da_00e0201808a0row0_col0,#T_3e2ae608_15e1_11eb_91da_00e0201808a0row0_col1,#T_3e2ae608_15e1_11eb_91da_00e0201808a0row0_col2,#T_3e2ae608_15e1_11eb_91da_00e0201808a0row0_col3,#T_3e2ae608_15e1_11eb_91da_00e0201808a0row0_col4,#T_3e2ae608_15e1_11eb_91da_00e0201808a0row0_col6,#T_3e2ae608_15e1_11eb_91da_00e0201808a0row0_col7,#T_3e2ae608_15e1_11eb_91da_00e0201808a0row1_col0,#T_3e2ae608_15e1_11eb_91da_00e0201808a0row1_col1,#T_3e2ae608_15e1_11eb_91da_00e0201808a0row1_col2,#T_3e2ae608_15e1_11eb_91da_00e0201808a0row1_col4,#T_3e2ae608_15e1_11eb_91da_00e0201808a0row1_col5,#T_3e2ae608_15e1_11eb_91da_00e0201808a0row1_col6,#T_3e2ae608_15e1_11eb_91da_00e0201808a0row1_col7,#T_3e2ae608_15e1_11eb_91da_00e0201808a0row2_col0,#T_3e2ae608_15e1_11eb_91da_00e0201808a0row2_col3,#T_3e2ae608_15e1_11eb_91da_00e0201808a0row2_col5,#T_3e2ae608_15e1_11eb_91da_00e0201808a0row3_col0,#T_3e2ae608_15e1_11eb_91da_00e0201808a0row3_col1,#T_3e2ae608_15e1_11eb_91da_00e0201808a0row3_col2,#T_3e2ae608_15e1_11eb_91da_00e0201808a0row3_col3,#T_3e2ae608_15e1_11eb_91da_00e0201808a0row3_col4,#T_3e2ae608_15e1_11eb_91da_00e0201808a0row3_col5,#T_3e2ae608_15e1_11eb_91da_00e0201808a0row3_col6,#T_3e2ae608_15e1_11eb_91da_00e0201808a0row3_col7,#T_3e2ae608_15e1_11eb_91da_00e0201808a0row4_col0,#T_3e2ae608_15e1_11eb_91da_00e0201808a0row4_col1,#T_3e2ae608_15e1_11eb_91da_00e0201808a0row4_col2,#T_3e2ae608_15e1_11eb_91da_00e0201808a0row4_col3,#T_3e2ae608_15e1_11eb_91da_00e0201808a0row4_col4,#T_3e2ae608_15e1_11eb_91da_00e0201808a0row4_col5,#T_3e2ae608_15e1_11eb_91da_00e0201808a0row4_col6,#T_3e2ae608_15e1_11eb_91da_00e0201808a0row4_col7,#T_3e2ae608_15e1_11eb_91da_00e0201808a0row5_col0,#T_3e2ae608_15e1_11eb_91da_00e0201808a0row5_col1,#T_3e2ae608_15e1_11eb_91da_00e0201808a0row5_col2,#T_3e2ae608_15e1_11eb_91da_00e0201808a0row5_col3,#T_3e2ae608_15e1_11eb_91da_00e0201808a0row5_col4,#T_3e2ae608_15e1_11eb_91da_00e0201808a0row5_col5,#T_3e2ae608_15e1_11eb_91da_00e0201808a0row5_col6,#T_3e2ae608_15e1_11eb_91da_00e0201808a0row5_col7,#T_3e2ae608_15e1_11eb_91da_00e0201808a0row6_col0,#T_3e2ae608_15e1_11eb_91da_00e0201808a0row6_col1,#T_3e2ae608_15e1_11eb_91da_00e0201808a0row6_col2,#T_3e2ae608_15e1_11eb_91da_00e0201808a0row6_col3,#T_3e2ae608_15e1_11eb_91da_00e0201808a0row6_col4,#T_3e2ae608_15e1_11eb_91da_00e0201808a0row6_col5,#T_3e2ae608_15e1_11eb_91da_00e0201808a0row6_col6,#T_3e2ae608_15e1_11eb_91da_00e0201808a0row6_col7,#T_3e2ae608_15e1_11eb_91da_00e0201808a0row7_col0,#T_3e2ae608_15e1_11eb_91da_00e0201808a0row7_col1,#T_3e2ae608_15e1_11eb_91da_00e0201808a0row7_col2,#T_3e2ae608_15e1_11eb_91da_00e0201808a0row7_col3,#T_3e2ae608_15e1_11eb_91da_00e0201808a0row7_col4,#T_3e2ae608_15e1_11eb_91da_00e0201808a0row7_col5,#T_3e2ae608_15e1_11eb_91da_00e0201808a0row7_col6,#T_3e2ae608_15e1_11eb_91da_00e0201808a0row7_col7{\n",
       "            text-align:  left;\n",
       "        }#T_3e2ae608_15e1_11eb_91da_00e0201808a0row0_col5,#T_3e2ae608_15e1_11eb_91da_00e0201808a0row1_col3,#T_3e2ae608_15e1_11eb_91da_00e0201808a0row2_col1,#T_3e2ae608_15e1_11eb_91da_00e0201808a0row2_col2,#T_3e2ae608_15e1_11eb_91da_00e0201808a0row2_col4,#T_3e2ae608_15e1_11eb_91da_00e0201808a0row2_col6,#T_3e2ae608_15e1_11eb_91da_00e0201808a0row2_col7{\n",
       "            background-color:  yellow;\n",
       "            text-align:  left;\n",
       "        }#T_3e2ae608_15e1_11eb_91da_00e0201808a0row0_col8,#T_3e2ae608_15e1_11eb_91da_00e0201808a0row1_col8,#T_3e2ae608_15e1_11eb_91da_00e0201808a0row2_col8,#T_3e2ae608_15e1_11eb_91da_00e0201808a0row3_col8,#T_3e2ae608_15e1_11eb_91da_00e0201808a0row4_col8,#T_3e2ae608_15e1_11eb_91da_00e0201808a0row5_col8,#T_3e2ae608_15e1_11eb_91da_00e0201808a0row6_col8,#T_3e2ae608_15e1_11eb_91da_00e0201808a0row7_col8{\n",
       "            background-color:  lightgrey;\n",
       "            text-align:  left;\n",
       "        }</style><table id=\"T_3e2ae608_15e1_11eb_91da_00e0201808a0\" ><thead>    <tr>        <th class=\"blank level0\" ></th>        <th class=\"col_heading level0 col0\" >Model</th>        <th class=\"col_heading level0 col1\" >Accuracy</th>        <th class=\"col_heading level0 col2\" >AUC</th>        <th class=\"col_heading level0 col3\" >Recall</th>        <th class=\"col_heading level0 col4\" >Prec.</th>        <th class=\"col_heading level0 col5\" >F1</th>        <th class=\"col_heading level0 col6\" >Kappa</th>        <th class=\"col_heading level0 col7\" >MCC</th>        <th class=\"col_heading level0 col8\" >TT (Sec)</th>    </tr></thead><tbody>\n",
       "                <tr>\n",
       "                        <th id=\"T_3e2ae608_15e1_11eb_91da_00e0201808a0level0_row0\" class=\"row_heading level0 row0\" >0</th>\n",
       "                        <td id=\"T_3e2ae608_15e1_11eb_91da_00e0201808a0row0_col0\" class=\"data row0 col0\" >Light Gradient Boosting Machine</td>\n",
       "                        <td id=\"T_3e2ae608_15e1_11eb_91da_00e0201808a0row0_col1\" class=\"data row0 col1\" >0.8631</td>\n",
       "                        <td id=\"T_3e2ae608_15e1_11eb_91da_00e0201808a0row0_col2\" class=\"data row0 col2\" >0.9211</td>\n",
       "                        <td id=\"T_3e2ae608_15e1_11eb_91da_00e0201808a0row0_col3\" class=\"data row0 col3\" >0.6371</td>\n",
       "                        <td id=\"T_3e2ae608_15e1_11eb_91da_00e0201808a0row0_col4\" class=\"data row0 col4\" >0.7589</td>\n",
       "                        <td id=\"T_3e2ae608_15e1_11eb_91da_00e0201808a0row0_col5\" class=\"data row0 col5\" >0.6925</td>\n",
       "                        <td id=\"T_3e2ae608_15e1_11eb_91da_00e0201808a0row0_col6\" class=\"data row0 col6\" >0.6054</td>\n",
       "                        <td id=\"T_3e2ae608_15e1_11eb_91da_00e0201808a0row0_col7\" class=\"data row0 col7\" >0.6093</td>\n",
       "                        <td id=\"T_3e2ae608_15e1_11eb_91da_00e0201808a0row0_col8\" class=\"data row0 col8\" >0.3015</td>\n",
       "            </tr>\n",
       "            <tr>\n",
       "                        <th id=\"T_3e2ae608_15e1_11eb_91da_00e0201808a0level0_row1\" class=\"row_heading level0 row1\" >1</th>\n",
       "                        <td id=\"T_3e2ae608_15e1_11eb_91da_00e0201808a0row1_col0\" class=\"data row1 col0\" >Extreme Gradient Boosting</td>\n",
       "                        <td id=\"T_3e2ae608_15e1_11eb_91da_00e0201808a0row1_col1\" class=\"data row1 col1\" >0.8620</td>\n",
       "                        <td id=\"T_3e2ae608_15e1_11eb_91da_00e0201808a0row1_col2\" class=\"data row1 col2\" >0.9193</td>\n",
       "                        <td id=\"T_3e2ae608_15e1_11eb_91da_00e0201808a0row1_col3\" class=\"data row1 col3\" >0.6400</td>\n",
       "                        <td id=\"T_3e2ae608_15e1_11eb_91da_00e0201808a0row1_col4\" class=\"data row1 col4\" >0.7531</td>\n",
       "                        <td id=\"T_3e2ae608_15e1_11eb_91da_00e0201808a0row1_col5\" class=\"data row1 col5\" >0.6918</td>\n",
       "                        <td id=\"T_3e2ae608_15e1_11eb_91da_00e0201808a0row1_col6\" class=\"data row1 col6\" >0.6037</td>\n",
       "                        <td id=\"T_3e2ae608_15e1_11eb_91da_00e0201808a0row1_col7\" class=\"data row1 col7\" >0.6071</td>\n",
       "                        <td id=\"T_3e2ae608_15e1_11eb_91da_00e0201808a0row1_col8\" class=\"data row1 col8\" >2.4083</td>\n",
       "            </tr>\n",
       "            <tr>\n",
       "                        <th id=\"T_3e2ae608_15e1_11eb_91da_00e0201808a0level0_row2\" class=\"row_heading level0 row2\" >2</th>\n",
       "                        <td id=\"T_3e2ae608_15e1_11eb_91da_00e0201808a0row2_col0\" class=\"data row2 col0\" >CatBoost Classifier</td>\n",
       "                        <td id=\"T_3e2ae608_15e1_11eb_91da_00e0201808a0row2_col1\" class=\"data row2 col1\" >0.8649</td>\n",
       "                        <td id=\"T_3e2ae608_15e1_11eb_91da_00e0201808a0row2_col2\" class=\"data row2 col2\" >0.9230</td>\n",
       "                        <td id=\"T_3e2ae608_15e1_11eb_91da_00e0201808a0row2_col3\" class=\"data row2 col3\" >0.6267</td>\n",
       "                        <td id=\"T_3e2ae608_15e1_11eb_91da_00e0201808a0row2_col4\" class=\"data row2 col4\" >0.7728</td>\n",
       "                        <td id=\"T_3e2ae608_15e1_11eb_91da_00e0201808a0row2_col5\" class=\"data row2 col5\" >0.6918</td>\n",
       "                        <td id=\"T_3e2ae608_15e1_11eb_91da_00e0201808a0row2_col6\" class=\"data row2 col6\" >0.6066</td>\n",
       "                        <td id=\"T_3e2ae608_15e1_11eb_91da_00e0201808a0row2_col7\" class=\"data row2 col7\" >0.6123</td>\n",
       "                        <td id=\"T_3e2ae608_15e1_11eb_91da_00e0201808a0row2_col8\" class=\"data row2 col8\" >15.2448</td>\n",
       "            </tr>\n",
       "            <tr>\n",
       "                        <th id=\"T_3e2ae608_15e1_11eb_91da_00e0201808a0level0_row3\" class=\"row_heading level0 row3\" >3</th>\n",
       "                        <td id=\"T_3e2ae608_15e1_11eb_91da_00e0201808a0row3_col0\" class=\"data row3 col0\" >Gradient Boosting Classifier</td>\n",
       "                        <td id=\"T_3e2ae608_15e1_11eb_91da_00e0201808a0row3_col1\" class=\"data row3 col1\" >0.8616</td>\n",
       "                        <td id=\"T_3e2ae608_15e1_11eb_91da_00e0201808a0row3_col2\" class=\"data row3 col2\" >0.9175</td>\n",
       "                        <td id=\"T_3e2ae608_15e1_11eb_91da_00e0201808a0row3_col3\" class=\"data row3 col3\" >0.6135</td>\n",
       "                        <td id=\"T_3e2ae608_15e1_11eb_91da_00e0201808a0row3_col4\" class=\"data row3 col4\" >0.7686</td>\n",
       "                        <td id=\"T_3e2ae608_15e1_11eb_91da_00e0201808a0row3_col5\" class=\"data row3 col5\" >0.6820</td>\n",
       "                        <td id=\"T_3e2ae608_15e1_11eb_91da_00e0201808a0row3_col6\" class=\"data row3 col6\" >0.5951</td>\n",
       "                        <td id=\"T_3e2ae608_15e1_11eb_91da_00e0201808a0row3_col7\" class=\"data row3 col7\" >0.6014</td>\n",
       "                        <td id=\"T_3e2ae608_15e1_11eb_91da_00e0201808a0row3_col8\" class=\"data row3 col8\" >4.1519</td>\n",
       "            </tr>\n",
       "            <tr>\n",
       "                        <th id=\"T_3e2ae608_15e1_11eb_91da_00e0201808a0level0_row4\" class=\"row_heading level0 row4\" >4</th>\n",
       "                        <td id=\"T_3e2ae608_15e1_11eb_91da_00e0201808a0row4_col0\" class=\"data row4 col0\" >Ada Boost Classifier</td>\n",
       "                        <td id=\"T_3e2ae608_15e1_11eb_91da_00e0201808a0row4_col1\" class=\"data row4 col1\" >0.8563</td>\n",
       "                        <td id=\"T_3e2ae608_15e1_11eb_91da_00e0201808a0row4_col2\" class=\"data row4 col2\" >0.9111</td>\n",
       "                        <td id=\"T_3e2ae608_15e1_11eb_91da_00e0201808a0row4_col3\" class=\"data row4 col3\" >0.6229</td>\n",
       "                        <td id=\"T_3e2ae608_15e1_11eb_91da_00e0201808a0row4_col4\" class=\"data row4 col4\" >0.7426</td>\n",
       "                        <td id=\"T_3e2ae608_15e1_11eb_91da_00e0201808a0row4_col5\" class=\"data row4 col5\" >0.6772</td>\n",
       "                        <td id=\"T_3e2ae608_15e1_11eb_91da_00e0201808a0row4_col6\" class=\"data row4 col6\" >0.5857</td>\n",
       "                        <td id=\"T_3e2ae608_15e1_11eb_91da_00e0201808a0row4_col7\" class=\"data row4 col7\" >0.5896</td>\n",
       "                        <td id=\"T_3e2ae608_15e1_11eb_91da_00e0201808a0row4_col8\" class=\"data row4 col8\" >3.3660</td>\n",
       "            </tr>\n",
       "            <tr>\n",
       "                        <th id=\"T_3e2ae608_15e1_11eb_91da_00e0201808a0level0_row5\" class=\"row_heading level0 row5\" >5</th>\n",
       "                        <td id=\"T_3e2ae608_15e1_11eb_91da_00e0201808a0row5_col0\" class=\"data row5 col0\" >Linear Discriminant Analysis</td>\n",
       "                        <td id=\"T_3e2ae608_15e1_11eb_91da_00e0201808a0row5_col1\" class=\"data row5 col1\" >0.8447</td>\n",
       "                        <td id=\"T_3e2ae608_15e1_11eb_91da_00e0201808a0row5_col2\" class=\"data row5 col2\" >0.8997</td>\n",
       "                        <td id=\"T_3e2ae608_15e1_11eb_91da_00e0201808a0row5_col3\" class=\"data row5 col3\" >0.5895</td>\n",
       "                        <td id=\"T_3e2ae608_15e1_11eb_91da_00e0201808a0row5_col4\" class=\"data row5 col4\" >0.7189</td>\n",
       "                        <td id=\"T_3e2ae608_15e1_11eb_91da_00e0201808a0row5_col5\" class=\"data row5 col5\" >0.6474</td>\n",
       "                        <td id=\"T_3e2ae608_15e1_11eb_91da_00e0201808a0row5_col6\" class=\"data row5 col6\" >0.5491</td>\n",
       "                        <td id=\"T_3e2ae608_15e1_11eb_91da_00e0201808a0row5_col7\" class=\"data row5 col7\" >0.5538</td>\n",
       "                        <td id=\"T_3e2ae608_15e1_11eb_91da_00e0201808a0row5_col8\" class=\"data row5 col8\" >0.2013</td>\n",
       "            </tr>\n",
       "            <tr>\n",
       "                        <th id=\"T_3e2ae608_15e1_11eb_91da_00e0201808a0level0_row6\" class=\"row_heading level0 row6\" >6</th>\n",
       "                        <td id=\"T_3e2ae608_15e1_11eb_91da_00e0201808a0row6_col0\" class=\"data row6 col0\" >Extra Trees Classifier</td>\n",
       "                        <td id=\"T_3e2ae608_15e1_11eb_91da_00e0201808a0row6_col1\" class=\"data row6 col1\" >0.8308</td>\n",
       "                        <td id=\"T_3e2ae608_15e1_11eb_91da_00e0201808a0row6_col2\" class=\"data row6 col2\" >0.8578</td>\n",
       "                        <td id=\"T_3e2ae608_15e1_11eb_91da_00e0201808a0row6_col3\" class=\"data row6 col3\" >0.5982</td>\n",
       "                        <td id=\"T_3e2ae608_15e1_11eb_91da_00e0201808a0row6_col4\" class=\"data row6 col4\" >0.6682</td>\n",
       "                        <td id=\"T_3e2ae608_15e1_11eb_91da_00e0201808a0row6_col5\" class=\"data row6 col5\" >0.6311</td>\n",
       "                        <td id=\"T_3e2ae608_15e1_11eb_91da_00e0201808a0row6_col6\" class=\"data row6 col6\" >0.5217</td>\n",
       "                        <td id=\"T_3e2ae608_15e1_11eb_91da_00e0201808a0row6_col7\" class=\"data row6 col7\" >0.5232</td>\n",
       "                        <td id=\"T_3e2ae608_15e1_11eb_91da_00e0201808a0row6_col8\" class=\"data row6 col8\" >0.6176</td>\n",
       "            </tr>\n",
       "            <tr>\n",
       "                        <th id=\"T_3e2ae608_15e1_11eb_91da_00e0201808a0level0_row7\" class=\"row_heading level0 row7\" >7</th>\n",
       "                        <td id=\"T_3e2ae608_15e1_11eb_91da_00e0201808a0row7_col0\" class=\"data row7 col0\" >Random Forest Classifier</td>\n",
       "                        <td id=\"T_3e2ae608_15e1_11eb_91da_00e0201808a0row7_col1\" class=\"data row7 col1\" >0.8359</td>\n",
       "                        <td id=\"T_3e2ae608_15e1_11eb_91da_00e0201808a0row7_col2\" class=\"data row7 col2\" >0.8708</td>\n",
       "                        <td id=\"T_3e2ae608_15e1_11eb_91da_00e0201808a0row7_col3\" class=\"data row7 col3\" >0.5698</td>\n",
       "                        <td id=\"T_3e2ae608_15e1_11eb_91da_00e0201808a0row7_col4\" class=\"data row7 col4\" >0.6977</td>\n",
       "                        <td id=\"T_3e2ae608_15e1_11eb_91da_00e0201808a0row7_col5\" class=\"data row7 col5\" >0.6270</td>\n",
       "                        <td id=\"T_3e2ae608_15e1_11eb_91da_00e0201808a0row7_col6\" class=\"data row7 col6\" >0.5232</td>\n",
       "                        <td id=\"T_3e2ae608_15e1_11eb_91da_00e0201808a0row7_col7\" class=\"data row7 col7\" >0.5278</td>\n",
       "                        <td id=\"T_3e2ae608_15e1_11eb_91da_00e0201808a0row7_col8\" class=\"data row7 col8\" >0.2747</td>\n",
       "            </tr>\n",
       "    </tbody></table>"
      ],
      "text/plain": [
       "<pandas.io.formats.style.Styler at 0x25bb5ad8948>"
      ]
     },
     "metadata": {},
     "output_type": "display_data"
    }
   ],
   "source": [
    "best_3 = compare_models(sort = 'F1', n_select = 3\n",
    "                       ,exclude=['lr', 'knn', 'nb', 'dt', 'svm', 'rbfsvm', 'ridge','qda']\n",
    "                       #,exclude=['lr', 'knn', 'nb', 'dt', 'svm', 'rbfsvm', 'gpc', 'mlp', 'ridge', 'rf', 'qda', 'ada', 'xgboost']\n",
    "                       )"
   ]
  },
  {
   "cell_type": "code",
   "execution_count": 17,
   "metadata": {},
   "outputs": [
    {
     "data": {
      "text/html": [
       "<style  type=\"text/css\" >\n",
       "#T_ece0b7ee_15e1_11eb_a6ea_00e0201808a0row5_col0,#T_ece0b7ee_15e1_11eb_a6ea_00e0201808a0row5_col1,#T_ece0b7ee_15e1_11eb_a6ea_00e0201808a0row5_col2,#T_ece0b7ee_15e1_11eb_a6ea_00e0201808a0row5_col3,#T_ece0b7ee_15e1_11eb_a6ea_00e0201808a0row5_col4,#T_ece0b7ee_15e1_11eb_a6ea_00e0201808a0row5_col5,#T_ece0b7ee_15e1_11eb_a6ea_00e0201808a0row5_col6{\n",
       "            background:  yellow;\n",
       "        }</style><table id=\"T_ece0b7ee_15e1_11eb_a6ea_00e0201808a0\" ><thead>    <tr>        <th class=\"blank level0\" ></th>        <th class=\"col_heading level0 col0\" >Accuracy</th>        <th class=\"col_heading level0 col1\" >AUC</th>        <th class=\"col_heading level0 col2\" >Recall</th>        <th class=\"col_heading level0 col3\" >Prec.</th>        <th class=\"col_heading level0 col4\" >F1</th>        <th class=\"col_heading level0 col5\" >Kappa</th>        <th class=\"col_heading level0 col6\" >MCC</th>    </tr></thead><tbody>\n",
       "                <tr>\n",
       "                        <th id=\"T_ece0b7ee_15e1_11eb_a6ea_00e0201808a0level0_row0\" class=\"row_heading level0 row0\" >0</th>\n",
       "                        <td id=\"T_ece0b7ee_15e1_11eb_a6ea_00e0201808a0row0_col0\" class=\"data row0 col0\" >0.8637</td>\n",
       "                        <td id=\"T_ece0b7ee_15e1_11eb_a6ea_00e0201808a0row0_col1\" class=\"data row0 col1\" >0.9197</td>\n",
       "                        <td id=\"T_ece0b7ee_15e1_11eb_a6ea_00e0201808a0row0_col2\" class=\"data row0 col2\" >0.6246</td>\n",
       "                        <td id=\"T_ece0b7ee_15e1_11eb_a6ea_00e0201808a0row0_col3\" class=\"data row0 col3\" >0.7689</td>\n",
       "                        <td id=\"T_ece0b7ee_15e1_11eb_a6ea_00e0201808a0row0_col4\" class=\"data row0 col4\" >0.6893</td>\n",
       "                        <td id=\"T_ece0b7ee_15e1_11eb_a6ea_00e0201808a0row0_col5\" class=\"data row0 col5\" >0.6032</td>\n",
       "                        <td id=\"T_ece0b7ee_15e1_11eb_a6ea_00e0201808a0row0_col6\" class=\"data row0 col6\" >0.6085</td>\n",
       "            </tr>\n",
       "            <tr>\n",
       "                        <th id=\"T_ece0b7ee_15e1_11eb_a6ea_00e0201808a0level0_row1\" class=\"row_heading level0 row1\" >1</th>\n",
       "                        <td id=\"T_ece0b7ee_15e1_11eb_a6ea_00e0201808a0row1_col0\" class=\"data row1 col0\" >0.8566</td>\n",
       "                        <td id=\"T_ece0b7ee_15e1_11eb_a6ea_00e0201808a0row1_col1\" class=\"data row1 col1\" >0.9149</td>\n",
       "                        <td id=\"T_ece0b7ee_15e1_11eb_a6ea_00e0201808a0row1_col2\" class=\"data row1 col2\" >0.6359</td>\n",
       "                        <td id=\"T_ece0b7ee_15e1_11eb_a6ea_00e0201808a0row1_col3\" class=\"data row1 col3\" >0.7360</td>\n",
       "                        <td id=\"T_ece0b7ee_15e1_11eb_a6ea_00e0201808a0row1_col4\" class=\"data row1 col4\" >0.6823</td>\n",
       "                        <td id=\"T_ece0b7ee_15e1_11eb_a6ea_00e0201808a0row1_col5\" class=\"data row1 col5\" >0.5904</td>\n",
       "                        <td id=\"T_ece0b7ee_15e1_11eb_a6ea_00e0201808a0row1_col6\" class=\"data row1 col6\" >0.5930</td>\n",
       "            </tr>\n",
       "            <tr>\n",
       "                        <th id=\"T_ece0b7ee_15e1_11eb_a6ea_00e0201808a0level0_row2\" class=\"row_heading level0 row2\" >2</th>\n",
       "                        <td id=\"T_ece0b7ee_15e1_11eb_a6ea_00e0201808a0row2_col0\" class=\"data row2 col0\" >0.8559</td>\n",
       "                        <td id=\"T_ece0b7ee_15e1_11eb_a6ea_00e0201808a0row2_col1\" class=\"data row2 col1\" >0.9218</td>\n",
       "                        <td id=\"T_ece0b7ee_15e1_11eb_a6ea_00e0201808a0row2_col2\" class=\"data row2 col2\" >0.6084</td>\n",
       "                        <td id=\"T_ece0b7ee_15e1_11eb_a6ea_00e0201808a0row2_col3\" class=\"data row2 col3\" >0.7490</td>\n",
       "                        <td id=\"T_ece0b7ee_15e1_11eb_a6ea_00e0201808a0row2_col4\" class=\"data row2 col4\" >0.6714</td>\n",
       "                        <td id=\"T_ece0b7ee_15e1_11eb_a6ea_00e0201808a0row2_col5\" class=\"data row2 col5\" >0.5804</td>\n",
       "                        <td id=\"T_ece0b7ee_15e1_11eb_a6ea_00e0201808a0row2_col6\" class=\"data row2 col6\" >0.5855</td>\n",
       "            </tr>\n",
       "            <tr>\n",
       "                        <th id=\"T_ece0b7ee_15e1_11eb_a6ea_00e0201808a0level0_row3\" class=\"row_heading level0 row3\" >3</th>\n",
       "                        <td id=\"T_ece0b7ee_15e1_11eb_a6ea_00e0201808a0row3_col0\" class=\"data row3 col0\" >0.8691</td>\n",
       "                        <td id=\"T_ece0b7ee_15e1_11eb_a6ea_00e0201808a0row3_col1\" class=\"data row3 col1\" >0.9300</td>\n",
       "                        <td id=\"T_ece0b7ee_15e1_11eb_a6ea_00e0201808a0row3_col2\" class=\"data row3 col2\" >0.6305</td>\n",
       "                        <td id=\"T_ece0b7ee_15e1_11eb_a6ea_00e0201808a0row3_col3\" class=\"data row3 col3\" >0.7859</td>\n",
       "                        <td id=\"T_ece0b7ee_15e1_11eb_a6ea_00e0201808a0row3_col4\" class=\"data row3 col4\" >0.6996</td>\n",
       "                        <td id=\"T_ece0b7ee_15e1_11eb_a6ea_00e0201808a0row3_col5\" class=\"data row3 col5\" >0.6173</td>\n",
       "                        <td id=\"T_ece0b7ee_15e1_11eb_a6ea_00e0201808a0row3_col6\" class=\"data row3 col6\" >0.6234</td>\n",
       "            </tr>\n",
       "            <tr>\n",
       "                        <th id=\"T_ece0b7ee_15e1_11eb_a6ea_00e0201808a0level0_row4\" class=\"row_heading level0 row4\" >4</th>\n",
       "                        <td id=\"T_ece0b7ee_15e1_11eb_a6ea_00e0201808a0row4_col0\" class=\"data row4 col0\" >0.8726</td>\n",
       "                        <td id=\"T_ece0b7ee_15e1_11eb_a6ea_00e0201808a0row4_col1\" class=\"data row4 col1\" >0.9244</td>\n",
       "                        <td id=\"T_ece0b7ee_15e1_11eb_a6ea_00e0201808a0row4_col2\" class=\"data row4 col2\" >0.6586</td>\n",
       "                        <td id=\"T_ece0b7ee_15e1_11eb_a6ea_00e0201808a0row4_col3\" class=\"data row4 col3\" >0.7812</td>\n",
       "                        <td id=\"T_ece0b7ee_15e1_11eb_a6ea_00e0201808a0row4_col4\" class=\"data row4 col4\" >0.7147</td>\n",
       "                        <td id=\"T_ece0b7ee_15e1_11eb_a6ea_00e0201808a0row4_col5\" class=\"data row4 col5\" >0.6335</td>\n",
       "                        <td id=\"T_ece0b7ee_15e1_11eb_a6ea_00e0201808a0row4_col6\" class=\"data row4 col6\" >0.6373</td>\n",
       "            </tr>\n",
       "            <tr>\n",
       "                        <th id=\"T_ece0b7ee_15e1_11eb_a6ea_00e0201808a0level0_row5\" class=\"row_heading level0 row5\" >Mean</th>\n",
       "                        <td id=\"T_ece0b7ee_15e1_11eb_a6ea_00e0201808a0row5_col0\" class=\"data row5 col0\" >0.8636</td>\n",
       "                        <td id=\"T_ece0b7ee_15e1_11eb_a6ea_00e0201808a0row5_col1\" class=\"data row5 col1\" >0.9222</td>\n",
       "                        <td id=\"T_ece0b7ee_15e1_11eb_a6ea_00e0201808a0row5_col2\" class=\"data row5 col2\" >0.6316</td>\n",
       "                        <td id=\"T_ece0b7ee_15e1_11eb_a6ea_00e0201808a0row5_col3\" class=\"data row5 col3\" >0.7642</td>\n",
       "                        <td id=\"T_ece0b7ee_15e1_11eb_a6ea_00e0201808a0row5_col4\" class=\"data row5 col4\" >0.6915</td>\n",
       "                        <td id=\"T_ece0b7ee_15e1_11eb_a6ea_00e0201808a0row5_col5\" class=\"data row5 col5\" >0.6049</td>\n",
       "                        <td id=\"T_ece0b7ee_15e1_11eb_a6ea_00e0201808a0row5_col6\" class=\"data row5 col6\" >0.6095</td>\n",
       "            </tr>\n",
       "            <tr>\n",
       "                        <th id=\"T_ece0b7ee_15e1_11eb_a6ea_00e0201808a0level0_row6\" class=\"row_heading level0 row6\" >SD</th>\n",
       "                        <td id=\"T_ece0b7ee_15e1_11eb_a6ea_00e0201808a0row6_col0\" class=\"data row6 col0\" >0.0066</td>\n",
       "                        <td id=\"T_ece0b7ee_15e1_11eb_a6ea_00e0201808a0row6_col1\" class=\"data row6 col1\" >0.0050</td>\n",
       "                        <td id=\"T_ece0b7ee_15e1_11eb_a6ea_00e0201808a0row6_col2\" class=\"data row6 col2\" >0.0163</td>\n",
       "                        <td id=\"T_ece0b7ee_15e1_11eb_a6ea_00e0201808a0row6_col3\" class=\"data row6 col3\" >0.0190</td>\n",
       "                        <td id=\"T_ece0b7ee_15e1_11eb_a6ea_00e0201808a0row6_col4\" class=\"data row6 col4\" >0.0148</td>\n",
       "                        <td id=\"T_ece0b7ee_15e1_11eb_a6ea_00e0201808a0row6_col5\" class=\"data row6 col5\" >0.0189</td>\n",
       "                        <td id=\"T_ece0b7ee_15e1_11eb_a6ea_00e0201808a0row6_col6\" class=\"data row6 col6\" >0.0190</td>\n",
       "            </tr>\n",
       "    </tbody></table>"
      ],
      "text/plain": [
       "<pandas.io.formats.style.Styler at 0x25bb5af6d88>"
      ]
     },
     "metadata": {},
     "output_type": "display_data"
    }
   ],
   "source": [
    "blended = blend_models(estimator_list = best_3, fold = 5, method = 'soft')"
   ]
  },
  {
   "cell_type": "code",
   "execution_count": 18,
   "metadata": {},
   "outputs": [
    {
     "data": {
      "text/html": [
       "<div>\n",
       "<style scoped>\n",
       "    .dataframe tbody tr th:only-of-type {\n",
       "        vertical-align: middle;\n",
       "    }\n",
       "\n",
       "    .dataframe tbody tr th {\n",
       "        vertical-align: top;\n",
       "    }\n",
       "\n",
       "    .dataframe thead th {\n",
       "        text-align: right;\n",
       "    }\n",
       "</style>\n",
       "<table border=\"1\" class=\"dataframe\">\n",
       "  <thead>\n",
       "    <tr style=\"text-align: right;\">\n",
       "      <th></th>\n",
       "      <th>Model</th>\n",
       "      <th>Accuracy</th>\n",
       "      <th>AUC</th>\n",
       "      <th>Recall</th>\n",
       "      <th>Prec.</th>\n",
       "      <th>F1</th>\n",
       "      <th>Kappa</th>\n",
       "      <th>MCC</th>\n",
       "    </tr>\n",
       "  </thead>\n",
       "  <tbody>\n",
       "    <tr>\n",
       "      <th>0</th>\n",
       "      <td>Voting Classifier</td>\n",
       "      <td>0.8748</td>\n",
       "      <td>0.9281</td>\n",
       "      <td>0.6548</td>\n",
       "      <td>0.7918</td>\n",
       "      <td>0.7168</td>\n",
       "      <td>0.6374</td>\n",
       "      <td>0.6421</td>\n",
       "    </tr>\n",
       "  </tbody>\n",
       "</table>\n",
       "</div>"
      ],
      "text/plain": [
       "               Model  Accuracy     AUC  Recall   Prec.      F1   Kappa     MCC\n",
       "0  Voting Classifier    0.8748  0.9281  0.6548  0.7918  0.7168  0.6374  0.6421"
      ]
     },
     "metadata": {},
     "output_type": "display_data"
    }
   ],
   "source": [
    "pred_holdout = predict_model(blended)"
   ]
  },
  {
   "cell_type": "code",
   "execution_count": 19,
   "metadata": {},
   "outputs": [
    {
     "name": "stdout",
     "output_type": "stream",
     "text": [
      "Wall time: 7min 45s\n"
     ]
    }
   ],
   "source": [
    "%%time\n",
    "final_model = finalize_model(blended)"
   ]
  },
  {
   "cell_type": "code",
   "execution_count": 20,
   "metadata": {},
   "outputs": [],
   "source": [
    "predictions = predict_model(final_model, data = test)"
   ]
  },
  {
   "cell_type": "markdown",
   "metadata": {},
   "source": [
    "# 4. 예측"
   ]
  },
  {
   "cell_type": "code",
   "execution_count": 21,
   "metadata": {},
   "outputs": [],
   "source": [
    "submission['prediction'] = predictions['Label']"
   ]
  },
  {
   "cell_type": "markdown",
   "metadata": {},
   "source": [
    "# 5. 제출"
   ]
  },
  {
   "cell_type": "code",
   "execution_count": 22,
   "metadata": {},
   "outputs": [],
   "source": [
    "submission.to_csv('output/20201024-2.csv')"
   ]
  },
  {
   "cell_type": "code",
   "execution_count": null,
   "metadata": {},
   "outputs": [],
   "source": []
  },
  {
   "cell_type": "code",
   "execution_count": 23,
   "metadata": {},
   "outputs": [
    {
     "data": {
      "text/html": [
       "<style  type=\"text/css\" >\n",
       "#T_341dd09a_15e3_11eb_b037_00e0201808a0row10_col0,#T_341dd09a_15e3_11eb_b037_00e0201808a0row10_col1,#T_341dd09a_15e3_11eb_b037_00e0201808a0row10_col2,#T_341dd09a_15e3_11eb_b037_00e0201808a0row10_col3,#T_341dd09a_15e3_11eb_b037_00e0201808a0row10_col4,#T_341dd09a_15e3_11eb_b037_00e0201808a0row10_col5,#T_341dd09a_15e3_11eb_b037_00e0201808a0row10_col6{\n",
       "            background:  yellow;\n",
       "        }</style><table id=\"T_341dd09a_15e3_11eb_b037_00e0201808a0\" ><thead>    <tr>        <th class=\"blank level0\" ></th>        <th class=\"col_heading level0 col0\" >Accuracy</th>        <th class=\"col_heading level0 col1\" >AUC</th>        <th class=\"col_heading level0 col2\" >Recall</th>        <th class=\"col_heading level0 col3\" >Prec.</th>        <th class=\"col_heading level0 col4\" >F1</th>        <th class=\"col_heading level0 col5\" >Kappa</th>        <th class=\"col_heading level0 col6\" >MCC</th>    </tr></thead><tbody>\n",
       "                <tr>\n",
       "                        <th id=\"T_341dd09a_15e3_11eb_b037_00e0201808a0level0_row0\" class=\"row_heading level0 row0\" >0</th>\n",
       "                        <td id=\"T_341dd09a_15e3_11eb_b037_00e0201808a0row0_col0\" class=\"data row0 col0\" >0.8575</td>\n",
       "                        <td id=\"T_341dd09a_15e3_11eb_b037_00e0201808a0row0_col1\" class=\"data row0 col1\" >0.9201</td>\n",
       "                        <td id=\"T_341dd09a_15e3_11eb_b037_00e0201808a0row0_col2\" class=\"data row0 col2\" >0.6181</td>\n",
       "                        <td id=\"T_341dd09a_15e3_11eb_b037_00e0201808a0row0_col3\" class=\"data row0 col3\" >0.7490</td>\n",
       "                        <td id=\"T_341dd09a_15e3_11eb_b037_00e0201808a0row0_col4\" class=\"data row0 col4\" >0.6773</td>\n",
       "                        <td id=\"T_341dd09a_15e3_11eb_b037_00e0201808a0row0_col5\" class=\"data row0 col5\" >0.5869</td>\n",
       "                        <td id=\"T_341dd09a_15e3_11eb_b037_00e0201808a0row0_col6\" class=\"data row0 col6\" >0.5914</td>\n",
       "            </tr>\n",
       "            <tr>\n",
       "                        <th id=\"T_341dd09a_15e3_11eb_b037_00e0201808a0level0_row1\" class=\"row_heading level0 row1\" >1</th>\n",
       "                        <td id=\"T_341dd09a_15e3_11eb_b037_00e0201808a0row1_col0\" class=\"data row1 col0\" >0.8520</td>\n",
       "                        <td id=\"T_341dd09a_15e3_11eb_b037_00e0201808a0row1_col1\" class=\"data row1 col1\" >0.9126</td>\n",
       "                        <td id=\"T_341dd09a_15e3_11eb_b037_00e0201808a0row1_col2\" class=\"data row1 col2\" >0.6343</td>\n",
       "                        <td id=\"T_341dd09a_15e3_11eb_b037_00e0201808a0row1_col3\" class=\"data row1 col3\" >0.7206</td>\n",
       "                        <td id=\"T_341dd09a_15e3_11eb_b037_00e0201808a0row1_col4\" class=\"data row1 col4\" >0.6747</td>\n",
       "                        <td id=\"T_341dd09a_15e3_11eb_b037_00e0201808a0row1_col5\" class=\"data row1 col5\" >0.5794</td>\n",
       "                        <td id=\"T_341dd09a_15e3_11eb_b037_00e0201808a0row1_col6\" class=\"data row1 col6\" >0.5814</td>\n",
       "            </tr>\n",
       "            <tr>\n",
       "                        <th id=\"T_341dd09a_15e3_11eb_b037_00e0201808a0level0_row2\" class=\"row_heading level0 row2\" >2</th>\n",
       "                        <td id=\"T_341dd09a_15e3_11eb_b037_00e0201808a0row2_col0\" class=\"data row2 col0\" >0.8669</td>\n",
       "                        <td id=\"T_341dd09a_15e3_11eb_b037_00e0201808a0row2_col1\" class=\"data row2 col1\" >0.9198</td>\n",
       "                        <td id=\"T_341dd09a_15e3_11eb_b037_00e0201808a0row2_col2\" class=\"data row2 col2\" >0.6764</td>\n",
       "                        <td id=\"T_341dd09a_15e3_11eb_b037_00e0201808a0row2_col3\" class=\"data row2 col3\" >0.7491</td>\n",
       "                        <td id=\"T_341dd09a_15e3_11eb_b037_00e0201808a0row2_col4\" class=\"data row2 col4\" >0.7109</td>\n",
       "                        <td id=\"T_341dd09a_15e3_11eb_b037_00e0201808a0row2_col5\" class=\"data row2 col5\" >0.6247</td>\n",
       "                        <td id=\"T_341dd09a_15e3_11eb_b037_00e0201808a0row2_col6\" class=\"data row2 col6\" >0.6261</td>\n",
       "            </tr>\n",
       "            <tr>\n",
       "                        <th id=\"T_341dd09a_15e3_11eb_b037_00e0201808a0level0_row3\" class=\"row_heading level0 row3\" >3</th>\n",
       "                        <td id=\"T_341dd09a_15e3_11eb_b037_00e0201808a0row3_col0\" class=\"data row3 col0\" >0.8480</td>\n",
       "                        <td id=\"T_341dd09a_15e3_11eb_b037_00e0201808a0row3_col1\" class=\"data row3 col1\" >0.9101</td>\n",
       "                        <td id=\"T_341dd09a_15e3_11eb_b037_00e0201808a0row3_col2\" class=\"data row3 col2\" >0.6136</td>\n",
       "                        <td id=\"T_341dd09a_15e3_11eb_b037_00e0201808a0row3_col3\" class=\"data row3 col3\" >0.7159</td>\n",
       "                        <td id=\"T_341dd09a_15e3_11eb_b037_00e0201808a0row3_col4\" class=\"data row3 col4\" >0.6608</td>\n",
       "                        <td id=\"T_341dd09a_15e3_11eb_b037_00e0201808a0row3_col5\" class=\"data row3 col5\" >0.5636</td>\n",
       "                        <td id=\"T_341dd09a_15e3_11eb_b037_00e0201808a0row3_col6\" class=\"data row3 col6\" >0.5664</td>\n",
       "            </tr>\n",
       "            <tr>\n",
       "                        <th id=\"T_341dd09a_15e3_11eb_b037_00e0201808a0level0_row4\" class=\"row_heading level0 row4\" >4</th>\n",
       "                        <td id=\"T_341dd09a_15e3_11eb_b037_00e0201808a0row4_col0\" class=\"data row4 col0\" >0.8487</td>\n",
       "                        <td id=\"T_341dd09a_15e3_11eb_b037_00e0201808a0row4_col1\" class=\"data row4 col1\" >0.9104</td>\n",
       "                        <td id=\"T_341dd09a_15e3_11eb_b037_00e0201808a0row4_col2\" class=\"data row4 col2\" >0.5955</td>\n",
       "                        <td id=\"T_341dd09a_15e3_11eb_b037_00e0201808a0row4_col3\" class=\"data row4 col3\" >0.7302</td>\n",
       "                        <td id=\"T_341dd09a_15e3_11eb_b037_00e0201808a0row4_col4\" class=\"data row4 col4\" >0.6560</td>\n",
       "                        <td id=\"T_341dd09a_15e3_11eb_b037_00e0201808a0row4_col5\" class=\"data row4 col5\" >0.5603</td>\n",
       "                        <td id=\"T_341dd09a_15e3_11eb_b037_00e0201808a0row4_col6\" class=\"data row4 col6\" >0.5651</td>\n",
       "            </tr>\n",
       "            <tr>\n",
       "                        <th id=\"T_341dd09a_15e3_11eb_b037_00e0201808a0level0_row5\" class=\"row_heading level0 row5\" >5</th>\n",
       "                        <td id=\"T_341dd09a_15e3_11eb_b037_00e0201808a0row5_col0\" class=\"data row5 col0\" >0.8668</td>\n",
       "                        <td id=\"T_341dd09a_15e3_11eb_b037_00e0201808a0row5_col1\" class=\"data row5 col1\" >0.9287</td>\n",
       "                        <td id=\"T_341dd09a_15e3_11eb_b037_00e0201808a0row5_col2\" class=\"data row5 col2\" >0.6408</td>\n",
       "                        <td id=\"T_341dd09a_15e3_11eb_b037_00e0201808a0row5_col3\" class=\"data row5 col3\" >0.7704</td>\n",
       "                        <td id=\"T_341dd09a_15e3_11eb_b037_00e0201808a0row5_col4\" class=\"data row5 col4\" >0.6996</td>\n",
       "                        <td id=\"T_341dd09a_15e3_11eb_b037_00e0201808a0row5_col5\" class=\"data row5 col5\" >0.6150</td>\n",
       "                        <td id=\"T_341dd09a_15e3_11eb_b037_00e0201808a0row5_col6\" class=\"data row5 col6\" >0.6193</td>\n",
       "            </tr>\n",
       "            <tr>\n",
       "                        <th id=\"T_341dd09a_15e3_11eb_b037_00e0201808a0level0_row6\" class=\"row_heading level0 row6\" >6</th>\n",
       "                        <td id=\"T_341dd09a_15e3_11eb_b037_00e0201808a0row6_col0\" class=\"data row6 col0\" >0.8746</td>\n",
       "                        <td id=\"T_341dd09a_15e3_11eb_b037_00e0201808a0row6_col1\" class=\"data row6 col1\" >0.9272</td>\n",
       "                        <td id=\"T_341dd09a_15e3_11eb_b037_00e0201808a0row6_col2\" class=\"data row6 col2\" >0.6537</td>\n",
       "                        <td id=\"T_341dd09a_15e3_11eb_b037_00e0201808a0row6_col3\" class=\"data row6 col3\" >0.7922</td>\n",
       "                        <td id=\"T_341dd09a_15e3_11eb_b037_00e0201808a0row6_col4\" class=\"data row6 col4\" >0.7163</td>\n",
       "                        <td id=\"T_341dd09a_15e3_11eb_b037_00e0201808a0row6_col5\" class=\"data row6 col5\" >0.6368</td>\n",
       "                        <td id=\"T_341dd09a_15e3_11eb_b037_00e0201808a0row6_col6\" class=\"data row6 col6\" >0.6416</td>\n",
       "            </tr>\n",
       "            <tr>\n",
       "                        <th id=\"T_341dd09a_15e3_11eb_b037_00e0201808a0level0_row7\" class=\"row_heading level0 row7\" >7</th>\n",
       "                        <td id=\"T_341dd09a_15e3_11eb_b037_00e0201808a0row7_col0\" class=\"data row7 col0\" >0.8699</td>\n",
       "                        <td id=\"T_341dd09a_15e3_11eb_b037_00e0201808a0row7_col1\" class=\"data row7 col1\" >0.9195</td>\n",
       "                        <td id=\"T_341dd09a_15e3_11eb_b037_00e0201808a0row7_col2\" class=\"data row7 col2\" >0.6537</td>\n",
       "                        <td id=\"T_341dd09a_15e3_11eb_b037_00e0201808a0row7_col3\" class=\"data row7 col3\" >0.7739</td>\n",
       "                        <td id=\"T_341dd09a_15e3_11eb_b037_00e0201808a0row7_col4\" class=\"data row7 col4\" >0.7088</td>\n",
       "                        <td id=\"T_341dd09a_15e3_11eb_b037_00e0201808a0row7_col5\" class=\"data row7 col5\" >0.6258</td>\n",
       "                        <td id=\"T_341dd09a_15e3_11eb_b037_00e0201808a0row7_col6\" class=\"data row7 col6\" >0.6295</td>\n",
       "            </tr>\n",
       "            <tr>\n",
       "                        <th id=\"T_341dd09a_15e3_11eb_b037_00e0201808a0level0_row8\" class=\"row_heading level0 row8\" >8</th>\n",
       "                        <td id=\"T_341dd09a_15e3_11eb_b037_00e0201808a0row8_col0\" class=\"data row8 col0\" >0.8660</td>\n",
       "                        <td id=\"T_341dd09a_15e3_11eb_b037_00e0201808a0row8_col1\" class=\"data row8 col1\" >0.9228</td>\n",
       "                        <td id=\"T_341dd09a_15e3_11eb_b037_00e0201808a0row8_col2\" class=\"data row8 col2\" >0.6440</td>\n",
       "                        <td id=\"T_341dd09a_15e3_11eb_b037_00e0201808a0row8_col3\" class=\"data row8 col3\" >0.7654</td>\n",
       "                        <td id=\"T_341dd09a_15e3_11eb_b037_00e0201808a0row8_col4\" class=\"data row8 col4\" >0.6995</td>\n",
       "                        <td id=\"T_341dd09a_15e3_11eb_b037_00e0201808a0row8_col5\" class=\"data row8 col5\" >0.6141</td>\n",
       "                        <td id=\"T_341dd09a_15e3_11eb_b037_00e0201808a0row8_col6\" class=\"data row8 col6\" >0.6179</td>\n",
       "            </tr>\n",
       "            <tr>\n",
       "                        <th id=\"T_341dd09a_15e3_11eb_b037_00e0201808a0level0_row9\" class=\"row_heading level0 row9\" >9</th>\n",
       "                        <td id=\"T_341dd09a_15e3_11eb_b037_00e0201808a0row9_col0\" class=\"data row9 col0\" >0.8699</td>\n",
       "                        <td id=\"T_341dd09a_15e3_11eb_b037_00e0201808a0row9_col1\" class=\"data row9 col1\" >0.9218</td>\n",
       "                        <td id=\"T_341dd09a_15e3_11eb_b037_00e0201808a0row9_col2\" class=\"data row9 col2\" >0.6699</td>\n",
       "                        <td id=\"T_341dd09a_15e3_11eb_b037_00e0201808a0row9_col3\" class=\"data row9 col3\" >0.7638</td>\n",
       "                        <td id=\"T_341dd09a_15e3_11eb_b037_00e0201808a0row9_col4\" class=\"data row9 col4\" >0.7138</td>\n",
       "                        <td id=\"T_341dd09a_15e3_11eb_b037_00e0201808a0row9_col5\" class=\"data row9 col5\" >0.6301</td>\n",
       "                        <td id=\"T_341dd09a_15e3_11eb_b037_00e0201808a0row9_col6\" class=\"data row9 col6\" >0.6324</td>\n",
       "            </tr>\n",
       "            <tr>\n",
       "                        <th id=\"T_341dd09a_15e3_11eb_b037_00e0201808a0level0_row10\" class=\"row_heading level0 row10\" >Mean</th>\n",
       "                        <td id=\"T_341dd09a_15e3_11eb_b037_00e0201808a0row10_col0\" class=\"data row10 col0\" >0.8620</td>\n",
       "                        <td id=\"T_341dd09a_15e3_11eb_b037_00e0201808a0row10_col1\" class=\"data row10 col1\" >0.9193</td>\n",
       "                        <td id=\"T_341dd09a_15e3_11eb_b037_00e0201808a0row10_col2\" class=\"data row10 col2\" >0.6400</td>\n",
       "                        <td id=\"T_341dd09a_15e3_11eb_b037_00e0201808a0row10_col3\" class=\"data row10 col3\" >0.7531</td>\n",
       "                        <td id=\"T_341dd09a_15e3_11eb_b037_00e0201808a0row10_col4\" class=\"data row10 col4\" >0.6918</td>\n",
       "                        <td id=\"T_341dd09a_15e3_11eb_b037_00e0201808a0row10_col5\" class=\"data row10 col5\" >0.6037</td>\n",
       "                        <td id=\"T_341dd09a_15e3_11eb_b037_00e0201808a0row10_col6\" class=\"data row10 col6\" >0.6071</td>\n",
       "            </tr>\n",
       "            <tr>\n",
       "                        <th id=\"T_341dd09a_15e3_11eb_b037_00e0201808a0level0_row11\" class=\"row_heading level0 row11\" >SD</th>\n",
       "                        <td id=\"T_341dd09a_15e3_11eb_b037_00e0201808a0row11_col0\" class=\"data row11 col0\" >0.0092</td>\n",
       "                        <td id=\"T_341dd09a_15e3_11eb_b037_00e0201808a0row11_col1\" class=\"data row11 col1\" >0.0062</td>\n",
       "                        <td id=\"T_341dd09a_15e3_11eb_b037_00e0201808a0row11_col2\" class=\"data row11 col2\" >0.0241</td>\n",
       "                        <td id=\"T_341dd09a_15e3_11eb_b037_00e0201808a0row11_col3\" class=\"data row11 col3\" >0.0235</td>\n",
       "                        <td id=\"T_341dd09a_15e3_11eb_b037_00e0201808a0row11_col4\" class=\"data row11 col4\" >0.0215</td>\n",
       "                        <td id=\"T_341dd09a_15e3_11eb_b037_00e0201808a0row11_col5\" class=\"data row11 col5\" >0.0270</td>\n",
       "                        <td id=\"T_341dd09a_15e3_11eb_b037_00e0201808a0row11_col6\" class=\"data row11 col6\" >0.0270</td>\n",
       "            </tr>\n",
       "    </tbody></table>"
      ],
      "text/plain": [
       "<pandas.io.formats.style.Styler at 0x25bb5ab0388>"
      ]
     },
     "metadata": {},
     "output_type": "display_data"
    }
   ],
   "source": [
    "xgboost = create_model('xgboost')"
   ]
  },
  {
   "cell_type": "code",
   "execution_count": 24,
   "metadata": {},
   "outputs": [
    {
     "data": {
      "image/png": "[encoded data removed]",
      "text/plain": [
       "<Figure size 800x500 with 1 Axes>"
      ]
     },
     "metadata": {
      "needs_background": "light"
     },
     "output_type": "display_data"
    }
   ],
   "source": [
    "plot_model(estimator = xgboost, plot = 'feature')"
   ]
  },
  {
   "cell_type": "code",
   "execution_count": null,
   "metadata": {},
   "outputs": [],
   "source": []
  },
  {
   "cell_type": "code",
   "execution_count": 25,
   "metadata": {
    "scrolled": true
   },
   "outputs": [
    {
     "data": {
      "text/html": [
       "<style  type=\"text/css\" >\n",
       "#T_377e429a_15e3_11eb_b58d_00e0201808a0row10_col0,#T_377e429a_15e3_11eb_b58d_00e0201808a0row10_col1,#T_377e429a_15e3_11eb_b58d_00e0201808a0row10_col2,#T_377e429a_15e3_11eb_b58d_00e0201808a0row10_col3,#T_377e429a_15e3_11eb_b58d_00e0201808a0row10_col4,#T_377e429a_15e3_11eb_b58d_00e0201808a0row10_col5,#T_377e429a_15e3_11eb_b58d_00e0201808a0row10_col6{\n",
       "            background:  yellow;\n",
       "        }</style><table id=\"T_377e429a_15e3_11eb_b58d_00e0201808a0\" ><thead>    <tr>        <th class=\"blank level0\" ></th>        <th class=\"col_heading level0 col0\" >Accuracy</th>        <th class=\"col_heading level0 col1\" >AUC</th>        <th class=\"col_heading level0 col2\" >Recall</th>        <th class=\"col_heading level0 col3\" >Prec.</th>        <th class=\"col_heading level0 col4\" >F1</th>        <th class=\"col_heading level0 col5\" >Kappa</th>        <th class=\"col_heading level0 col6\" >MCC</th>    </tr></thead><tbody>\n",
       "                <tr>\n",
       "                        <th id=\"T_377e429a_15e3_11eb_b58d_00e0201808a0level0_row0\" class=\"row_heading level0 row0\" >0</th>\n",
       "                        <td id=\"T_377e429a_15e3_11eb_b58d_00e0201808a0row0_col0\" class=\"data row0 col0\" >0.8583</td>\n",
       "                        <td id=\"T_377e429a_15e3_11eb_b58d_00e0201808a0row0_col1\" class=\"data row0 col1\" >0.9181</td>\n",
       "                        <td id=\"T_377e429a_15e3_11eb_b58d_00e0201808a0row0_col2\" class=\"data row0 col2\" >0.6052</td>\n",
       "                        <td id=\"T_377e429a_15e3_11eb_b58d_00e0201808a0row0_col3\" class=\"data row0 col3\" >0.7602</td>\n",
       "                        <td id=\"T_377e429a_15e3_11eb_b58d_00e0201808a0row0_col4\" class=\"data row0 col4\" >0.6739</td>\n",
       "                        <td id=\"T_377e429a_15e3_11eb_b58d_00e0201808a0row0_col5\" class=\"data row0 col5\" >0.5848</td>\n",
       "                        <td id=\"T_377e429a_15e3_11eb_b58d_00e0201808a0row0_col6\" class=\"data row0 col6\" >0.5910</td>\n",
       "            </tr>\n",
       "            <tr>\n",
       "                        <th id=\"T_377e429a_15e3_11eb_b58d_00e0201808a0level0_row1\" class=\"row_heading level0 row1\" >1</th>\n",
       "                        <td id=\"T_377e429a_15e3_11eb_b58d_00e0201808a0row1_col0\" class=\"data row1 col0\" >0.8622</td>\n",
       "                        <td id=\"T_377e429a_15e3_11eb_b58d_00e0201808a0row1_col1\" class=\"data row1 col1\" >0.9170</td>\n",
       "                        <td id=\"T_377e429a_15e3_11eb_b58d_00e0201808a0row1_col2\" class=\"data row1 col2\" >0.6570</td>\n",
       "                        <td id=\"T_377e429a_15e3_11eb_b58d_00e0201808a0row1_col3\" class=\"data row1 col3\" >0.7436</td>\n",
       "                        <td id=\"T_377e429a_15e3_11eb_b58d_00e0201808a0row1_col4\" class=\"data row1 col4\" >0.6976</td>\n",
       "                        <td id=\"T_377e429a_15e3_11eb_b58d_00e0201808a0row1_col5\" class=\"data row1 col5\" >0.6088</td>\n",
       "                        <td id=\"T_377e429a_15e3_11eb_b58d_00e0201808a0row1_col6\" class=\"data row1 col6\" >0.6107</td>\n",
       "            </tr>\n",
       "            <tr>\n",
       "                        <th id=\"T_377e429a_15e3_11eb_b58d_00e0201808a0level0_row2\" class=\"row_heading level0 row2\" >2</th>\n",
       "                        <td id=\"T_377e429a_15e3_11eb_b58d_00e0201808a0row2_col0\" class=\"data row2 col0\" >0.8598</td>\n",
       "                        <td id=\"T_377e429a_15e3_11eb_b58d_00e0201808a0row2_col1\" class=\"data row2 col1\" >0.9203</td>\n",
       "                        <td id=\"T_377e429a_15e3_11eb_b58d_00e0201808a0row2_col2\" class=\"data row2 col2\" >0.6505</td>\n",
       "                        <td id=\"T_377e429a_15e3_11eb_b58d_00e0201808a0row2_col3\" class=\"data row2 col3\" >0.7390</td>\n",
       "                        <td id=\"T_377e429a_15e3_11eb_b58d_00e0201808a0row2_col4\" class=\"data row2 col4\" >0.6919</td>\n",
       "                        <td id=\"T_377e429a_15e3_11eb_b58d_00e0201808a0row2_col5\" class=\"data row2 col5\" >0.6017</td>\n",
       "                        <td id=\"T_377e429a_15e3_11eb_b58d_00e0201808a0row2_col6\" class=\"data row2 col6\" >0.6037</td>\n",
       "            </tr>\n",
       "            <tr>\n",
       "                        <th id=\"T_377e429a_15e3_11eb_b58d_00e0201808a0level0_row3\" class=\"row_heading level0 row3\" >3</th>\n",
       "                        <td id=\"T_377e429a_15e3_11eb_b58d_00e0201808a0row3_col0\" class=\"data row3 col0\" >0.8558</td>\n",
       "                        <td id=\"T_377e429a_15e3_11eb_b58d_00e0201808a0row3_col1\" class=\"data row3 col1\" >0.9125</td>\n",
       "                        <td id=\"T_377e429a_15e3_11eb_b58d_00e0201808a0row3_col2\" class=\"data row3 col2\" >0.6234</td>\n",
       "                        <td id=\"T_377e429a_15e3_11eb_b58d_00e0201808a0row3_col3\" class=\"data row3 col3\" >0.7385</td>\n",
       "                        <td id=\"T_377e429a_15e3_11eb_b58d_00e0201808a0row3_col4\" class=\"data row3 col4\" >0.6761</td>\n",
       "                        <td id=\"T_377e429a_15e3_11eb_b58d_00e0201808a0row3_col5\" class=\"data row3 col5\" >0.5842</td>\n",
       "                        <td id=\"T_377e429a_15e3_11eb_b58d_00e0201808a0row3_col6\" class=\"data row3 col6\" >0.5876</td>\n",
       "            </tr>\n",
       "            <tr>\n",
       "                        <th id=\"T_377e429a_15e3_11eb_b58d_00e0201808a0level0_row4\" class=\"row_heading level0 row4\" >4</th>\n",
       "                        <td id=\"T_377e429a_15e3_11eb_b58d_00e0201808a0row4_col0\" class=\"data row4 col0\" >0.8582</td>\n",
       "                        <td id=\"T_377e429a_15e3_11eb_b58d_00e0201808a0row4_col1\" class=\"data row4 col1\" >0.9109</td>\n",
       "                        <td id=\"T_377e429a_15e3_11eb_b58d_00e0201808a0row4_col2\" class=\"data row4 col2\" >0.6149</td>\n",
       "                        <td id=\"T_377e429a_15e3_11eb_b58d_00e0201808a0row4_col3\" class=\"data row4 col3\" >0.7540</td>\n",
       "                        <td id=\"T_377e429a_15e3_11eb_b58d_00e0201808a0row4_col4\" class=\"data row4 col4\" >0.6774</td>\n",
       "                        <td id=\"T_377e429a_15e3_11eb_b58d_00e0201808a0row4_col5\" class=\"data row4 col5\" >0.5877</td>\n",
       "                        <td id=\"T_377e429a_15e3_11eb_b58d_00e0201808a0row4_col6\" class=\"data row4 col6\" >0.5927</td>\n",
       "            </tr>\n",
       "            <tr>\n",
       "                        <th id=\"T_377e429a_15e3_11eb_b58d_00e0201808a0level0_row5\" class=\"row_heading level0 row5\" >5</th>\n",
       "                        <td id=\"T_377e429a_15e3_11eb_b58d_00e0201808a0row5_col0\" class=\"data row5 col0\" >0.8613</td>\n",
       "                        <td id=\"T_377e429a_15e3_11eb_b58d_00e0201808a0row5_col1\" class=\"data row5 col1\" >0.9339</td>\n",
       "                        <td id=\"T_377e429a_15e3_11eb_b58d_00e0201808a0row5_col2\" class=\"data row5 col2\" >0.6311</td>\n",
       "                        <td id=\"T_377e429a_15e3_11eb_b58d_00e0201808a0row5_col3\" class=\"data row5 col3\" >0.7558</td>\n",
       "                        <td id=\"T_377e429a_15e3_11eb_b58d_00e0201808a0row5_col4\" class=\"data row5 col4\" >0.6878</td>\n",
       "                        <td id=\"T_377e429a_15e3_11eb_b58d_00e0201808a0row5_col5\" class=\"data row5 col5\" >0.5996</td>\n",
       "                        <td id=\"T_377e429a_15e3_11eb_b58d_00e0201808a0row5_col6\" class=\"data row5 col6\" >0.6036</td>\n",
       "            </tr>\n",
       "            <tr>\n",
       "                        <th id=\"T_377e429a_15e3_11eb_b58d_00e0201808a0level0_row6\" class=\"row_heading level0 row6\" >6</th>\n",
       "                        <td id=\"T_377e429a_15e3_11eb_b58d_00e0201808a0row6_col0\" class=\"data row6 col0\" >0.8723</td>\n",
       "                        <td id=\"T_377e429a_15e3_11eb_b58d_00e0201808a0row6_col1\" class=\"data row6 col1\" >0.9341</td>\n",
       "                        <td id=\"T_377e429a_15e3_11eb_b58d_00e0201808a0row6_col2\" class=\"data row6 col2\" >0.6505</td>\n",
       "                        <td id=\"T_377e429a_15e3_11eb_b58d_00e0201808a0row6_col3\" class=\"data row6 col3\" >0.7852</td>\n",
       "                        <td id=\"T_377e429a_15e3_11eb_b58d_00e0201808a0row6_col4\" class=\"data row6 col4\" >0.7115</td>\n",
       "                        <td id=\"T_377e429a_15e3_11eb_b58d_00e0201808a0row6_col5\" class=\"data row6 col5\" >0.6304</td>\n",
       "                        <td id=\"T_377e429a_15e3_11eb_b58d_00e0201808a0row6_col6\" class=\"data row6 col6\" >0.6350</td>\n",
       "            </tr>\n",
       "            <tr>\n",
       "                        <th id=\"T_377e429a_15e3_11eb_b58d_00e0201808a0level0_row7\" class=\"row_heading level0 row7\" >7</th>\n",
       "                        <td id=\"T_377e429a_15e3_11eb_b58d_00e0201808a0row7_col0\" class=\"data row7 col0\" >0.8652</td>\n",
       "                        <td id=\"T_377e429a_15e3_11eb_b58d_00e0201808a0row7_col1\" class=\"data row7 col1\" >0.9204</td>\n",
       "                        <td id=\"T_377e429a_15e3_11eb_b58d_00e0201808a0row7_col2\" class=\"data row7 col2\" >0.6343</td>\n",
       "                        <td id=\"T_377e429a_15e3_11eb_b58d_00e0201808a0row7_col3\" class=\"data row7 col3\" >0.7686</td>\n",
       "                        <td id=\"T_377e429a_15e3_11eb_b58d_00e0201808a0row7_col4\" class=\"data row7 col4\" >0.6950</td>\n",
       "                        <td id=\"T_377e429a_15e3_11eb_b58d_00e0201808a0row7_col5\" class=\"data row7 col5\" >0.6095</td>\n",
       "                        <td id=\"T_377e429a_15e3_11eb_b58d_00e0201808a0row7_col6\" class=\"data row7 col6\" >0.6142</td>\n",
       "            </tr>\n",
       "            <tr>\n",
       "                        <th id=\"T_377e429a_15e3_11eb_b58d_00e0201808a0level0_row8\" class=\"row_heading level0 row8\" >8</th>\n",
       "                        <td id=\"T_377e429a_15e3_11eb_b58d_00e0201808a0row8_col0\" class=\"data row8 col0\" >0.8629</td>\n",
       "                        <td id=\"T_377e429a_15e3_11eb_b58d_00e0201808a0row8_col1\" class=\"data row8 col1\" >0.9229</td>\n",
       "                        <td id=\"T_377e429a_15e3_11eb_b58d_00e0201808a0row8_col2\" class=\"data row8 col2\" >0.6375</td>\n",
       "                        <td id=\"T_377e429a_15e3_11eb_b58d_00e0201808a0row8_col3\" class=\"data row8 col3\" >0.7577</td>\n",
       "                        <td id=\"T_377e429a_15e3_11eb_b58d_00e0201808a0row8_col4\" class=\"data row8 col4\" >0.6924</td>\n",
       "                        <td id=\"T_377e429a_15e3_11eb_b58d_00e0201808a0row8_col5\" class=\"data row8 col5\" >0.6050</td>\n",
       "                        <td id=\"T_377e429a_15e3_11eb_b58d_00e0201808a0row8_col6\" class=\"data row8 col6\" >0.6088</td>\n",
       "            </tr>\n",
       "            <tr>\n",
       "                        <th id=\"T_377e429a_15e3_11eb_b58d_00e0201808a0level0_row9\" class=\"row_heading level0 row9\" >9</th>\n",
       "                        <td id=\"T_377e429a_15e3_11eb_b58d_00e0201808a0row9_col0\" class=\"data row9 col0\" >0.8754</td>\n",
       "                        <td id=\"T_377e429a_15e3_11eb_b58d_00e0201808a0row9_col1\" class=\"data row9 col1\" >0.9213</td>\n",
       "                        <td id=\"T_377e429a_15e3_11eb_b58d_00e0201808a0row9_col2\" class=\"data row9 col2\" >0.6667</td>\n",
       "                        <td id=\"T_377e429a_15e3_11eb_b58d_00e0201808a0row9_col3\" class=\"data row9 col3\" >0.7863</td>\n",
       "                        <td id=\"T_377e429a_15e3_11eb_b58d_00e0201808a0row9_col4\" class=\"data row9 col4\" >0.7215</td>\n",
       "                        <td id=\"T_377e429a_15e3_11eb_b58d_00e0201808a0row9_col5\" class=\"data row9 col5\" >0.6420</td>\n",
       "                        <td id=\"T_377e429a_15e3_11eb_b58d_00e0201808a0row9_col6\" class=\"data row9 col6\" >0.6456</td>\n",
       "            </tr>\n",
       "            <tr>\n",
       "                        <th id=\"T_377e429a_15e3_11eb_b58d_00e0201808a0level0_row10\" class=\"row_heading level0 row10\" >Mean</th>\n",
       "                        <td id=\"T_377e429a_15e3_11eb_b58d_00e0201808a0row10_col0\" class=\"data row10 col0\" >0.8631</td>\n",
       "                        <td id=\"T_377e429a_15e3_11eb_b58d_00e0201808a0row10_col1\" class=\"data row10 col1\" >0.9211</td>\n",
       "                        <td id=\"T_377e429a_15e3_11eb_b58d_00e0201808a0row10_col2\" class=\"data row10 col2\" >0.6371</td>\n",
       "                        <td id=\"T_377e429a_15e3_11eb_b58d_00e0201808a0row10_col3\" class=\"data row10 col3\" >0.7589</td>\n",
       "                        <td id=\"T_377e429a_15e3_11eb_b58d_00e0201808a0row10_col4\" class=\"data row10 col4\" >0.6925</td>\n",
       "                        <td id=\"T_377e429a_15e3_11eb_b58d_00e0201808a0row10_col5\" class=\"data row10 col5\" >0.6054</td>\n",
       "                        <td id=\"T_377e429a_15e3_11eb_b58d_00e0201808a0row10_col6\" class=\"data row10 col6\" >0.6093</td>\n",
       "            </tr>\n",
       "            <tr>\n",
       "                        <th id=\"T_377e429a_15e3_11eb_b58d_00e0201808a0level0_row11\" class=\"row_heading level0 row11\" >SD</th>\n",
       "                        <td id=\"T_377e429a_15e3_11eb_b58d_00e0201808a0row11_col0\" class=\"data row11 col0\" >0.0060</td>\n",
       "                        <td id=\"T_377e429a_15e3_11eb_b58d_00e0201808a0row11_col1\" class=\"data row11 col1\" >0.0073</td>\n",
       "                        <td id=\"T_377e429a_15e3_11eb_b58d_00e0201808a0row11_col2\" class=\"data row11 col2\" >0.0184</td>\n",
       "                        <td id=\"T_377e429a_15e3_11eb_b58d_00e0201808a0row11_col3\" class=\"data row11 col3\" >0.0162</td>\n",
       "                        <td id=\"T_377e429a_15e3_11eb_b58d_00e0201808a0row11_col4\" class=\"data row11 col4\" >0.0145</td>\n",
       "                        <td id=\"T_377e429a_15e3_11eb_b58d_00e0201808a0row11_col5\" class=\"data row11 col5\" >0.0180</td>\n",
       "                        <td id=\"T_377e429a_15e3_11eb_b58d_00e0201808a0row11_col6\" class=\"data row11 col6\" >0.0177</td>\n",
       "            </tr>\n",
       "    </tbody></table>"
      ],
      "text/plain": [
       "<pandas.io.formats.style.Styler at 0x25bb7e26e48>"
      ]
     },
     "metadata": {},
     "output_type": "display_data"
    }
   ],
   "source": [
    "lightgbm = create_model('lightgbm')"
   ]
  },
  {
   "cell_type": "code",
   "execution_count": 26,
   "metadata": {},
   "outputs": [
    {
     "data": {
      "image/png": "[encoded data removed]",
      "text/plain": [
       "<Figure size 800x500 with 1 Axes>"
      ]
     },
     "metadata": {
      "needs_background": "light"
     },
     "output_type": "display_data"
    }
   ],
   "source": [
    "plot_model(estimator = lightgbm, plot = 'feature')"
   ]
  },
  {
   "cell_type": "code",
   "execution_count": null,
   "metadata": {},
   "outputs": [],
   "source": []
  }
 ],
 "metadata": {
  "kernelspec": {
   "display_name": "Python 3",
   "language": "python",
   "name": "python3"
  },
  "language_info": {
   "codemirror_mode": {
    "name": "ipython",
    "version": 3
   },
   "file_extension": ".py",
   "mimetype": "text/x-python",
   "name": "python",
   "nbconvert_exporter": "python",
   "pygments_lexer": "ipython3",
   "version": "3.7.6"
  }
 },
 "nbformat": 4,
 "nbformat_minor": 4
}
