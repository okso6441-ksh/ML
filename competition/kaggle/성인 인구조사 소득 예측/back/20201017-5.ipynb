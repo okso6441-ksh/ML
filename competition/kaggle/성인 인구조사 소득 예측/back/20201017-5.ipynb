{
 "cells": [
  {
   "cell_type": "code",
   "execution_count": 1,
   "metadata": {},
   "outputs": [],
   "source": [
    "import numpy as np\n",
    "import pandas as pd\n",
    "import matplotlib.pyplot as plt\n",
    "import seaborn as sns\n",
    "import warnings\n",
    "warnings.filterwarnings('ignore')\n",
    "%matplotlib inline\n",
    "\n",
    "from IPython.core.interactiveshell import InteractiveShell\n",
    "InteractiveShell.ast_node_interactivity = \"all\"\n",
    "\n",
    "from sklearn.preprocessing import PolynomialFeatures\n",
    "\n",
    "from sklearn.model_selection import train_test_split\n",
    "import lightgbm as lgbm\n",
    "from sklearn.metrics import confusion_matrix, accuracy_score\n",
    "from pycaret.classification import *"
   ]
  },
  {
   "cell_type": "code",
   "execution_count": 2,
   "metadata": {},
   "outputs": [],
   "source": [
    "seed = 42\n",
    "np.random.seed(seed)\n",
    "set_config('seed', seed)"
   ]
  },
  {
   "cell_type": "code",
   "execution_count": null,
   "metadata": {},
   "outputs": [],
   "source": []
  },
  {
   "cell_type": "markdown",
   "metadata": {},
   "source": [
    "# 1. 데이터 로드"
   ]
  },
  {
   "cell_type": "code",
   "execution_count": 3,
   "metadata": {},
   "outputs": [],
   "source": [
    "train=pd.read_csv('input/train.csv', index_col=0) #인덱스 col=0도 check!\n",
    "test=pd.read_csv('input/test.csv', index_col=0)\n",
    "submission=pd.read_csv('input/sample_submission.csv', index_col=0)  "
   ]
  },
  {
   "cell_type": "code",
   "execution_count": 4,
   "metadata": {},
   "outputs": [],
   "source": [
    "train['income']=pd.factorize(train['income'], sort=True)[0]"
   ]
  },
  {
   "cell_type": "markdown",
   "metadata": {},
   "source": [
    "# 2. EDA & 전처리"
   ]
  },
  {
   "cell_type": "code",
   "execution_count": null,
   "metadata": {},
   "outputs": [],
   "source": []
  },
  {
   "cell_type": "markdown",
   "metadata": {},
   "source": [
    "## Missing Value"
   ]
  },
  {
   "cell_type": "code",
   "execution_count": 5,
   "metadata": {},
   "outputs": [
    {
     "data": {
      "text/plain": [
       "0"
      ]
     },
     "execution_count": 5,
     "metadata": {},
     "output_type": "execute_result"
    },
    {
     "data": {
      "text/plain": [
       "0"
      ]
     },
     "execution_count": 5,
     "metadata": {},
     "output_type": "execute_result"
    }
   ],
   "source": [
    "train.isnull().sum().sum()\n",
    "test.isnull().sum().sum()"
   ]
  },
  {
   "cell_type": "markdown",
   "metadata": {},
   "source": [
    "### outlier"
   ]
  },
  {
   "cell_type": "markdown",
   "metadata": {},
   "source": [
    "### education"
   ]
  },
  {
   "cell_type": "code",
   "execution_count": 6,
   "metadata": {},
   "outputs": [],
   "source": [
    "train.drop(['education'],axis=1, inplace=True)\n",
    "test.drop(['education'],axis=1, inplace=True)"
   ]
  },
  {
   "cell_type": "code",
   "execution_count": null,
   "metadata": {},
   "outputs": [],
   "source": []
  },
  {
   "cell_type": "markdown",
   "metadata": {},
   "source": [
    "### capital_gain 99999"
   ]
  },
  {
   "cell_type": "code",
   "execution_count": 7,
   "metadata": {},
   "outputs": [],
   "source": [
    "df = pd.concat([train, test])\n",
    "df['capital_gain_imsi'] = df['capital_gain'].replace(99999,0)\n",
    "capital_gain_imsi = pd.DataFrame(df.groupby(['education_num'])['capital_gain_imsi'].mean()).reset_index()\n",
    "train = train.merge(capital_gain_imsi, on=['education_num'], how='left')\n",
    "test = test.merge(capital_gain_imsi, on=['education_num'], how='left')\n",
    "train.loc[train.capital_gain == 99999, 'capital_gain'] = train['capital_gain_imsi']\n",
    "test.loc[test.capital_gain == 99999, 'capital_gain'] = test['capital_gain_imsi']\n",
    "train.drop(['capital_gain_imsi'],axis=1, inplace=True)\n",
    "test.drop(['capital_gain_imsi'],axis=1, inplace=True)"
   ]
  },
  {
   "cell_type": "code",
   "execution_count": null,
   "metadata": {},
   "outputs": [],
   "source": []
  },
  {
   "cell_type": "code",
   "execution_count": 28,
   "metadata": {},
   "outputs": [],
   "source": [
    "var = 800000\n",
    "train.loc[train['fnlwgt'] > var, 'fnlwgt'] = var + np.random.randint(0,1000)\n",
    "test.loc[test['fnlwgt'] > var, 'fnlwgt'] = var + np.random.randint(0,1000)"
   ]
  },
  {
   "cell_type": "code",
   "execution_count": null,
   "metadata": {},
   "outputs": [],
   "source": []
  },
  {
   "cell_type": "markdown",
   "metadata": {},
   "source": [
    "# 3. 모델 학습"
   ]
  },
  {
   "cell_type": "code",
   "execution_count": 29,
   "metadata": {
    "scrolled": false
   },
   "outputs": [
    {
     "name": "stdout",
     "output_type": "stream",
     "text": [
      "Setup Succesfully Completed!\n"
     ]
    },
    {
     "data": {
      "text/html": [
       "<style  type=\"text/css\" >\n",
       "</style><table id=\"T_798abe68_107e_11eb_becf_00e0201808a0\" ><thead>    <tr>        <th class=\"blank level0\" ></th>        <th class=\"col_heading level0 col0\" >Description</th>        <th class=\"col_heading level0 col1\" >Value</th>    </tr></thead><tbody>\n",
       "                <tr>\n",
       "                        <th id=\"T_798abe68_107e_11eb_becf_00e0201808a0level0_row0\" class=\"row_heading level0 row0\" >0</th>\n",
       "                        <td id=\"T_798abe68_107e_11eb_becf_00e0201808a0row0_col0\" class=\"data row0 col0\" >session_id</td>\n",
       "                        <td id=\"T_798abe68_107e_11eb_becf_00e0201808a0row0_col1\" class=\"data row0 col1\" >42</td>\n",
       "            </tr>\n",
       "            <tr>\n",
       "                        <th id=\"T_798abe68_107e_11eb_becf_00e0201808a0level0_row1\" class=\"row_heading level0 row1\" >1</th>\n",
       "                        <td id=\"T_798abe68_107e_11eb_becf_00e0201808a0row1_col0\" class=\"data row1 col0\" >Target Type</td>\n",
       "                        <td id=\"T_798abe68_107e_11eb_becf_00e0201808a0row1_col1\" class=\"data row1 col1\" >Binary</td>\n",
       "            </tr>\n",
       "            <tr>\n",
       "                        <th id=\"T_798abe68_107e_11eb_becf_00e0201808a0level0_row2\" class=\"row_heading level0 row2\" >2</th>\n",
       "                        <td id=\"T_798abe68_107e_11eb_becf_00e0201808a0row2_col0\" class=\"data row2 col0\" >Label Encoded</td>\n",
       "                        <td id=\"T_798abe68_107e_11eb_becf_00e0201808a0row2_col1\" class=\"data row2 col1\" >0: 0, 1: 1</td>\n",
       "            </tr>\n",
       "            <tr>\n",
       "                        <th id=\"T_798abe68_107e_11eb_becf_00e0201808a0level0_row3\" class=\"row_heading level0 row3\" >3</th>\n",
       "                        <td id=\"T_798abe68_107e_11eb_becf_00e0201808a0row3_col0\" class=\"data row3 col0\" >Original Data</td>\n",
       "                        <td id=\"T_798abe68_107e_11eb_becf_00e0201808a0row3_col1\" class=\"data row3 col1\" >(26049, 14)</td>\n",
       "            </tr>\n",
       "            <tr>\n",
       "                        <th id=\"T_798abe68_107e_11eb_becf_00e0201808a0level0_row4\" class=\"row_heading level0 row4\" >4</th>\n",
       "                        <td id=\"T_798abe68_107e_11eb_becf_00e0201808a0row4_col0\" class=\"data row4 col0\" >Missing Values </td>\n",
       "                        <td id=\"T_798abe68_107e_11eb_becf_00e0201808a0row4_col1\" class=\"data row4 col1\" >False</td>\n",
       "            </tr>\n",
       "            <tr>\n",
       "                        <th id=\"T_798abe68_107e_11eb_becf_00e0201808a0level0_row5\" class=\"row_heading level0 row5\" >5</th>\n",
       "                        <td id=\"T_798abe68_107e_11eb_becf_00e0201808a0row5_col0\" class=\"data row5 col0\" >Numeric Features </td>\n",
       "                        <td id=\"T_798abe68_107e_11eb_becf_00e0201808a0row5_col1\" class=\"data row5 col1\" >6</td>\n",
       "            </tr>\n",
       "            <tr>\n",
       "                        <th id=\"T_798abe68_107e_11eb_becf_00e0201808a0level0_row6\" class=\"row_heading level0 row6\" >6</th>\n",
       "                        <td id=\"T_798abe68_107e_11eb_becf_00e0201808a0row6_col0\" class=\"data row6 col0\" >Categorical Features </td>\n",
       "                        <td id=\"T_798abe68_107e_11eb_becf_00e0201808a0row6_col1\" class=\"data row6 col1\" >7</td>\n",
       "            </tr>\n",
       "            <tr>\n",
       "                        <th id=\"T_798abe68_107e_11eb_becf_00e0201808a0level0_row7\" class=\"row_heading level0 row7\" >7</th>\n",
       "                        <td id=\"T_798abe68_107e_11eb_becf_00e0201808a0row7_col0\" class=\"data row7 col0\" >Ordinal Features </td>\n",
       "                        <td id=\"T_798abe68_107e_11eb_becf_00e0201808a0row7_col1\" class=\"data row7 col1\" >False</td>\n",
       "            </tr>\n",
       "            <tr>\n",
       "                        <th id=\"T_798abe68_107e_11eb_becf_00e0201808a0level0_row8\" class=\"row_heading level0 row8\" >8</th>\n",
       "                        <td id=\"T_798abe68_107e_11eb_becf_00e0201808a0row8_col0\" class=\"data row8 col0\" >High Cardinality Features </td>\n",
       "                        <td id=\"T_798abe68_107e_11eb_becf_00e0201808a0row8_col1\" class=\"data row8 col1\" >False</td>\n",
       "            </tr>\n",
       "            <tr>\n",
       "                        <th id=\"T_798abe68_107e_11eb_becf_00e0201808a0level0_row9\" class=\"row_heading level0 row9\" >9</th>\n",
       "                        <td id=\"T_798abe68_107e_11eb_becf_00e0201808a0row9_col0\" class=\"data row9 col0\" >High Cardinality Method </td>\n",
       "                        <td id=\"T_798abe68_107e_11eb_becf_00e0201808a0row9_col1\" class=\"data row9 col1\" >None</td>\n",
       "            </tr>\n",
       "            <tr>\n",
       "                        <th id=\"T_798abe68_107e_11eb_becf_00e0201808a0level0_row10\" class=\"row_heading level0 row10\" >10</th>\n",
       "                        <td id=\"T_798abe68_107e_11eb_becf_00e0201808a0row10_col0\" class=\"data row10 col0\" >Sampled Data</td>\n",
       "                        <td id=\"T_798abe68_107e_11eb_becf_00e0201808a0row10_col1\" class=\"data row10 col1\" >(18234, 14)</td>\n",
       "            </tr>\n",
       "            <tr>\n",
       "                        <th id=\"T_798abe68_107e_11eb_becf_00e0201808a0level0_row11\" class=\"row_heading level0 row11\" >11</th>\n",
       "                        <td id=\"T_798abe68_107e_11eb_becf_00e0201808a0row11_col0\" class=\"data row11 col0\" >Transformed Train Set</td>\n",
       "                        <td id=\"T_798abe68_107e_11eb_becf_00e0201808a0row11_col1\" class=\"data row11 col1\" >(12763, 91)</td>\n",
       "            </tr>\n",
       "            <tr>\n",
       "                        <th id=\"T_798abe68_107e_11eb_becf_00e0201808a0level0_row12\" class=\"row_heading level0 row12\" >12</th>\n",
       "                        <td id=\"T_798abe68_107e_11eb_becf_00e0201808a0row12_col0\" class=\"data row12 col0\" >Transformed Test Set</td>\n",
       "                        <td id=\"T_798abe68_107e_11eb_becf_00e0201808a0row12_col1\" class=\"data row12 col1\" >(5471, 91)</td>\n",
       "            </tr>\n",
       "            <tr>\n",
       "                        <th id=\"T_798abe68_107e_11eb_becf_00e0201808a0level0_row13\" class=\"row_heading level0 row13\" >13</th>\n",
       "                        <td id=\"T_798abe68_107e_11eb_becf_00e0201808a0row13_col0\" class=\"data row13 col0\" >Numeric Imputer </td>\n",
       "                        <td id=\"T_798abe68_107e_11eb_becf_00e0201808a0row13_col1\" class=\"data row13 col1\" >mean</td>\n",
       "            </tr>\n",
       "            <tr>\n",
       "                        <th id=\"T_798abe68_107e_11eb_becf_00e0201808a0level0_row14\" class=\"row_heading level0 row14\" >14</th>\n",
       "                        <td id=\"T_798abe68_107e_11eb_becf_00e0201808a0row14_col0\" class=\"data row14 col0\" >Categorical Imputer </td>\n",
       "                        <td id=\"T_798abe68_107e_11eb_becf_00e0201808a0row14_col1\" class=\"data row14 col1\" >constant</td>\n",
       "            </tr>\n",
       "            <tr>\n",
       "                        <th id=\"T_798abe68_107e_11eb_becf_00e0201808a0level0_row15\" class=\"row_heading level0 row15\" >15</th>\n",
       "                        <td id=\"T_798abe68_107e_11eb_becf_00e0201808a0row15_col0\" class=\"data row15 col0\" >Normalize </td>\n",
       "                        <td id=\"T_798abe68_107e_11eb_becf_00e0201808a0row15_col1\" class=\"data row15 col1\" >False</td>\n",
       "            </tr>\n",
       "            <tr>\n",
       "                        <th id=\"T_798abe68_107e_11eb_becf_00e0201808a0level0_row16\" class=\"row_heading level0 row16\" >16</th>\n",
       "                        <td id=\"T_798abe68_107e_11eb_becf_00e0201808a0row16_col0\" class=\"data row16 col0\" >Normalize Method </td>\n",
       "                        <td id=\"T_798abe68_107e_11eb_becf_00e0201808a0row16_col1\" class=\"data row16 col1\" >None</td>\n",
       "            </tr>\n",
       "            <tr>\n",
       "                        <th id=\"T_798abe68_107e_11eb_becf_00e0201808a0level0_row17\" class=\"row_heading level0 row17\" >17</th>\n",
       "                        <td id=\"T_798abe68_107e_11eb_becf_00e0201808a0row17_col0\" class=\"data row17 col0\" >Transformation </td>\n",
       "                        <td id=\"T_798abe68_107e_11eb_becf_00e0201808a0row17_col1\" class=\"data row17 col1\" >False</td>\n",
       "            </tr>\n",
       "            <tr>\n",
       "                        <th id=\"T_798abe68_107e_11eb_becf_00e0201808a0level0_row18\" class=\"row_heading level0 row18\" >18</th>\n",
       "                        <td id=\"T_798abe68_107e_11eb_becf_00e0201808a0row18_col0\" class=\"data row18 col0\" >Transformation Method </td>\n",
       "                        <td id=\"T_798abe68_107e_11eb_becf_00e0201808a0row18_col1\" class=\"data row18 col1\" >None</td>\n",
       "            </tr>\n",
       "            <tr>\n",
       "                        <th id=\"T_798abe68_107e_11eb_becf_00e0201808a0level0_row19\" class=\"row_heading level0 row19\" >19</th>\n",
       "                        <td id=\"T_798abe68_107e_11eb_becf_00e0201808a0row19_col0\" class=\"data row19 col0\" >PCA </td>\n",
       "                        <td id=\"T_798abe68_107e_11eb_becf_00e0201808a0row19_col1\" class=\"data row19 col1\" >False</td>\n",
       "            </tr>\n",
       "            <tr>\n",
       "                        <th id=\"T_798abe68_107e_11eb_becf_00e0201808a0level0_row20\" class=\"row_heading level0 row20\" >20</th>\n",
       "                        <td id=\"T_798abe68_107e_11eb_becf_00e0201808a0row20_col0\" class=\"data row20 col0\" >PCA Method </td>\n",
       "                        <td id=\"T_798abe68_107e_11eb_becf_00e0201808a0row20_col1\" class=\"data row20 col1\" >None</td>\n",
       "            </tr>\n",
       "            <tr>\n",
       "                        <th id=\"T_798abe68_107e_11eb_becf_00e0201808a0level0_row21\" class=\"row_heading level0 row21\" >21</th>\n",
       "                        <td id=\"T_798abe68_107e_11eb_becf_00e0201808a0row21_col0\" class=\"data row21 col0\" >PCA Components </td>\n",
       "                        <td id=\"T_798abe68_107e_11eb_becf_00e0201808a0row21_col1\" class=\"data row21 col1\" >None</td>\n",
       "            </tr>\n",
       "            <tr>\n",
       "                        <th id=\"T_798abe68_107e_11eb_becf_00e0201808a0level0_row22\" class=\"row_heading level0 row22\" >22</th>\n",
       "                        <td id=\"T_798abe68_107e_11eb_becf_00e0201808a0row22_col0\" class=\"data row22 col0\" >Ignore Low Variance </td>\n",
       "                        <td id=\"T_798abe68_107e_11eb_becf_00e0201808a0row22_col1\" class=\"data row22 col1\" >False</td>\n",
       "            </tr>\n",
       "            <tr>\n",
       "                        <th id=\"T_798abe68_107e_11eb_becf_00e0201808a0level0_row23\" class=\"row_heading level0 row23\" >23</th>\n",
       "                        <td id=\"T_798abe68_107e_11eb_becf_00e0201808a0row23_col0\" class=\"data row23 col0\" >Combine Rare Levels </td>\n",
       "                        <td id=\"T_798abe68_107e_11eb_becf_00e0201808a0row23_col1\" class=\"data row23 col1\" >False</td>\n",
       "            </tr>\n",
       "            <tr>\n",
       "                        <th id=\"T_798abe68_107e_11eb_becf_00e0201808a0level0_row24\" class=\"row_heading level0 row24\" >24</th>\n",
       "                        <td id=\"T_798abe68_107e_11eb_becf_00e0201808a0row24_col0\" class=\"data row24 col0\" >Rare Level Threshold </td>\n",
       "                        <td id=\"T_798abe68_107e_11eb_becf_00e0201808a0row24_col1\" class=\"data row24 col1\" >None</td>\n",
       "            </tr>\n",
       "            <tr>\n",
       "                        <th id=\"T_798abe68_107e_11eb_becf_00e0201808a0level0_row25\" class=\"row_heading level0 row25\" >25</th>\n",
       "                        <td id=\"T_798abe68_107e_11eb_becf_00e0201808a0row25_col0\" class=\"data row25 col0\" >Numeric Binning </td>\n",
       "                        <td id=\"T_798abe68_107e_11eb_becf_00e0201808a0row25_col1\" class=\"data row25 col1\" >False</td>\n",
       "            </tr>\n",
       "            <tr>\n",
       "                        <th id=\"T_798abe68_107e_11eb_becf_00e0201808a0level0_row26\" class=\"row_heading level0 row26\" >26</th>\n",
       "                        <td id=\"T_798abe68_107e_11eb_becf_00e0201808a0row26_col0\" class=\"data row26 col0\" >Remove Outliers </td>\n",
       "                        <td id=\"T_798abe68_107e_11eb_becf_00e0201808a0row26_col1\" class=\"data row26 col1\" >False</td>\n",
       "            </tr>\n",
       "            <tr>\n",
       "                        <th id=\"T_798abe68_107e_11eb_becf_00e0201808a0level0_row27\" class=\"row_heading level0 row27\" >27</th>\n",
       "                        <td id=\"T_798abe68_107e_11eb_becf_00e0201808a0row27_col0\" class=\"data row27 col0\" >Outliers Threshold </td>\n",
       "                        <td id=\"T_798abe68_107e_11eb_becf_00e0201808a0row27_col1\" class=\"data row27 col1\" >None</td>\n",
       "            </tr>\n",
       "            <tr>\n",
       "                        <th id=\"T_798abe68_107e_11eb_becf_00e0201808a0level0_row28\" class=\"row_heading level0 row28\" >28</th>\n",
       "                        <td id=\"T_798abe68_107e_11eb_becf_00e0201808a0row28_col0\" class=\"data row28 col0\" >Remove Multicollinearity </td>\n",
       "                        <td id=\"T_798abe68_107e_11eb_becf_00e0201808a0row28_col1\" class=\"data row28 col1\" >False</td>\n",
       "            </tr>\n",
       "            <tr>\n",
       "                        <th id=\"T_798abe68_107e_11eb_becf_00e0201808a0level0_row29\" class=\"row_heading level0 row29\" >29</th>\n",
       "                        <td id=\"T_798abe68_107e_11eb_becf_00e0201808a0row29_col0\" class=\"data row29 col0\" >Multicollinearity Threshold </td>\n",
       "                        <td id=\"T_798abe68_107e_11eb_becf_00e0201808a0row29_col1\" class=\"data row29 col1\" >None</td>\n",
       "            </tr>\n",
       "            <tr>\n",
       "                        <th id=\"T_798abe68_107e_11eb_becf_00e0201808a0level0_row30\" class=\"row_heading level0 row30\" >30</th>\n",
       "                        <td id=\"T_798abe68_107e_11eb_becf_00e0201808a0row30_col0\" class=\"data row30 col0\" >Clustering </td>\n",
       "                        <td id=\"T_798abe68_107e_11eb_becf_00e0201808a0row30_col1\" class=\"data row30 col1\" >False</td>\n",
       "            </tr>\n",
       "            <tr>\n",
       "                        <th id=\"T_798abe68_107e_11eb_becf_00e0201808a0level0_row31\" class=\"row_heading level0 row31\" >31</th>\n",
       "                        <td id=\"T_798abe68_107e_11eb_becf_00e0201808a0row31_col0\" class=\"data row31 col0\" >Clustering Iteration </td>\n",
       "                        <td id=\"T_798abe68_107e_11eb_becf_00e0201808a0row31_col1\" class=\"data row31 col1\" >None</td>\n",
       "            </tr>\n",
       "            <tr>\n",
       "                        <th id=\"T_798abe68_107e_11eb_becf_00e0201808a0level0_row32\" class=\"row_heading level0 row32\" >32</th>\n",
       "                        <td id=\"T_798abe68_107e_11eb_becf_00e0201808a0row32_col0\" class=\"data row32 col0\" >Polynomial Features </td>\n",
       "                        <td id=\"T_798abe68_107e_11eb_becf_00e0201808a0row32_col1\" class=\"data row32 col1\" >False</td>\n",
       "            </tr>\n",
       "            <tr>\n",
       "                        <th id=\"T_798abe68_107e_11eb_becf_00e0201808a0level0_row33\" class=\"row_heading level0 row33\" >33</th>\n",
       "                        <td id=\"T_798abe68_107e_11eb_becf_00e0201808a0row33_col0\" class=\"data row33 col0\" >Polynomial Degree </td>\n",
       "                        <td id=\"T_798abe68_107e_11eb_becf_00e0201808a0row33_col1\" class=\"data row33 col1\" >None</td>\n",
       "            </tr>\n",
       "            <tr>\n",
       "                        <th id=\"T_798abe68_107e_11eb_becf_00e0201808a0level0_row34\" class=\"row_heading level0 row34\" >34</th>\n",
       "                        <td id=\"T_798abe68_107e_11eb_becf_00e0201808a0row34_col0\" class=\"data row34 col0\" >Trignometry Features </td>\n",
       "                        <td id=\"T_798abe68_107e_11eb_becf_00e0201808a0row34_col1\" class=\"data row34 col1\" >False</td>\n",
       "            </tr>\n",
       "            <tr>\n",
       "                        <th id=\"T_798abe68_107e_11eb_becf_00e0201808a0level0_row35\" class=\"row_heading level0 row35\" >35</th>\n",
       "                        <td id=\"T_798abe68_107e_11eb_becf_00e0201808a0row35_col0\" class=\"data row35 col0\" >Polynomial Threshold </td>\n",
       "                        <td id=\"T_798abe68_107e_11eb_becf_00e0201808a0row35_col1\" class=\"data row35 col1\" >None</td>\n",
       "            </tr>\n",
       "            <tr>\n",
       "                        <th id=\"T_798abe68_107e_11eb_becf_00e0201808a0level0_row36\" class=\"row_heading level0 row36\" >36</th>\n",
       "                        <td id=\"T_798abe68_107e_11eb_becf_00e0201808a0row36_col0\" class=\"data row36 col0\" >Group Features </td>\n",
       "                        <td id=\"T_798abe68_107e_11eb_becf_00e0201808a0row36_col1\" class=\"data row36 col1\" >False</td>\n",
       "            </tr>\n",
       "            <tr>\n",
       "                        <th id=\"T_798abe68_107e_11eb_becf_00e0201808a0level0_row37\" class=\"row_heading level0 row37\" >37</th>\n",
       "                        <td id=\"T_798abe68_107e_11eb_becf_00e0201808a0row37_col0\" class=\"data row37 col0\" >Feature Selection </td>\n",
       "                        <td id=\"T_798abe68_107e_11eb_becf_00e0201808a0row37_col1\" class=\"data row37 col1\" >False</td>\n",
       "            </tr>\n",
       "            <tr>\n",
       "                        <th id=\"T_798abe68_107e_11eb_becf_00e0201808a0level0_row38\" class=\"row_heading level0 row38\" >38</th>\n",
       "                        <td id=\"T_798abe68_107e_11eb_becf_00e0201808a0row38_col0\" class=\"data row38 col0\" >Features Selection Threshold </td>\n",
       "                        <td id=\"T_798abe68_107e_11eb_becf_00e0201808a0row38_col1\" class=\"data row38 col1\" >None</td>\n",
       "            </tr>\n",
       "            <tr>\n",
       "                        <th id=\"T_798abe68_107e_11eb_becf_00e0201808a0level0_row39\" class=\"row_heading level0 row39\" >39</th>\n",
       "                        <td id=\"T_798abe68_107e_11eb_becf_00e0201808a0row39_col0\" class=\"data row39 col0\" >Feature Interaction </td>\n",
       "                        <td id=\"T_798abe68_107e_11eb_becf_00e0201808a0row39_col1\" class=\"data row39 col1\" >False</td>\n",
       "            </tr>\n",
       "            <tr>\n",
       "                        <th id=\"T_798abe68_107e_11eb_becf_00e0201808a0level0_row40\" class=\"row_heading level0 row40\" >40</th>\n",
       "                        <td id=\"T_798abe68_107e_11eb_becf_00e0201808a0row40_col0\" class=\"data row40 col0\" >Feature Ratio </td>\n",
       "                        <td id=\"T_798abe68_107e_11eb_becf_00e0201808a0row40_col1\" class=\"data row40 col1\" >False</td>\n",
       "            </tr>\n",
       "            <tr>\n",
       "                        <th id=\"T_798abe68_107e_11eb_becf_00e0201808a0level0_row41\" class=\"row_heading level0 row41\" >41</th>\n",
       "                        <td id=\"T_798abe68_107e_11eb_becf_00e0201808a0row41_col0\" class=\"data row41 col0\" >Interaction Threshold </td>\n",
       "                        <td id=\"T_798abe68_107e_11eb_becf_00e0201808a0row41_col1\" class=\"data row41 col1\" >None</td>\n",
       "            </tr>\n",
       "            <tr>\n",
       "                        <th id=\"T_798abe68_107e_11eb_becf_00e0201808a0level0_row42\" class=\"row_heading level0 row42\" >42</th>\n",
       "                        <td id=\"T_798abe68_107e_11eb_becf_00e0201808a0row42_col0\" class=\"data row42 col0\" >Fix Imbalance</td>\n",
       "                        <td id=\"T_798abe68_107e_11eb_becf_00e0201808a0row42_col1\" class=\"data row42 col1\" >False</td>\n",
       "            </tr>\n",
       "            <tr>\n",
       "                        <th id=\"T_798abe68_107e_11eb_becf_00e0201808a0level0_row43\" class=\"row_heading level0 row43\" >43</th>\n",
       "                        <td id=\"T_798abe68_107e_11eb_becf_00e0201808a0row43_col0\" class=\"data row43 col0\" >Fix Imbalance Method</td>\n",
       "                        <td id=\"T_798abe68_107e_11eb_becf_00e0201808a0row43_col1\" class=\"data row43 col1\" >SMOTE</td>\n",
       "            </tr>\n",
       "    </tbody></table>"
      ],
      "text/plain": [
       "<pandas.io.formats.style.Styler at 0x236ea5c07c8>"
      ]
     },
     "metadata": {},
     "output_type": "display_data"
    },
    {
     "name": "stdout",
     "output_type": "stream",
     "text": [
      "Wall time: 3.87 s\n"
     ]
    }
   ],
   "source": [
    "%%time\n",
    "clf = setup(session_id=seed, \n",
    "            data = train, target = 'income'\n",
    "          #, categorical_features=col_cat\n",
    "          , numeric_features = ['education_num']\n",
    "          #, ignore_features = ['capital_gain','capital_loss']\n",
    "           )"
   ]
  },
  {
   "cell_type": "code",
   "execution_count": 30,
   "metadata": {},
   "outputs": [
    {
     "data": {
      "application/vnd.jupyter.widget-view+json": {
       "model_id": "7279f64a63e54f23b26ec5439b74f8ff",
       "version_major": 2,
       "version_minor": 0
      },
      "text/plain": [
       "IntProgress(value=0, description='Processing: ', max=98)"
      ]
     },
     "metadata": {},
     "output_type": "display_data"
    },
    {
     "data": {
      "text/html": [
       "<div>\n",
       "<style scoped>\n",
       "    .dataframe tbody tr th:only-of-type {\n",
       "        vertical-align: middle;\n",
       "    }\n",
       "\n",
       "    .dataframe tbody tr th {\n",
       "        vertical-align: top;\n",
       "    }\n",
       "\n",
       "    .dataframe thead th {\n",
       "        text-align: right;\n",
       "    }\n",
       "</style>\n",
       "<table border=\"1\" class=\"dataframe\">\n",
       "  <thead>\n",
       "    <tr style=\"text-align: right;\">\n",
       "      <th></th>\n",
       "      <th></th>\n",
       "      <th></th>\n",
       "    </tr>\n",
       "    <tr>\n",
       "      <th></th>\n",
       "      <th></th>\n",
       "      <th></th>\n",
       "    </tr>\n",
       "  </thead>\n",
       "  <tbody>\n",
       "    <tr>\n",
       "      <th>Initiated</th>\n",
       "      <td>. . . . . . . . . . . . . . . . . .</td>\n",
       "      <td>22:41:37</td>\n",
       "    </tr>\n",
       "    <tr>\n",
       "      <th>Status</th>\n",
       "      <td>. . . . . . . . . . . . . . . . . .</td>\n",
       "      <td>Fitting Fold 10 of 10</td>\n",
       "    </tr>\n",
       "    <tr>\n",
       "      <th>Estimator</th>\n",
       "      <td>. . . . . . . . . . . . . . . . . .</td>\n",
       "      <td>CatBoost Classifier</td>\n",
       "    </tr>\n",
       "    <tr>\n",
       "      <th>ETC</th>\n",
       "      <td>. . . . . . . . . . . . . . . . . .</td>\n",
       "      <td>11.4 Seconds Remaining</td>\n",
       "    </tr>\n",
       "  </tbody>\n",
       "</table>\n",
       "</div>"
      ],
      "text/plain": [
       "                                                                      \n",
       "                                                                      \n",
       "Initiated  . . . . . . . . . . . . . . . . . .                22:41:37\n",
       "Status     . . . . . . . . . . . . . . . . . .   Fitting Fold 10 of 10\n",
       "Estimator  . . . . . . . . . . . . . . . . . .     CatBoost Classifier\n",
       "ETC        . . . . . . . . . . . . . . . . . .  11.4 Seconds Remaining"
      ]
     },
     "metadata": {},
     "output_type": "display_data"
    },
    {
     "data": {
      "text/html": [
       "<div>\n",
       "<style scoped>\n",
       "    .dataframe tbody tr th:only-of-type {\n",
       "        vertical-align: middle;\n",
       "    }\n",
       "\n",
       "    .dataframe tbody tr th {\n",
       "        vertical-align: top;\n",
       "    }\n",
       "\n",
       "    .dataframe thead th {\n",
       "        text-align: right;\n",
       "    }\n",
       "</style>\n",
       "<table border=\"1\" class=\"dataframe\">\n",
       "  <thead>\n",
       "    <tr style=\"text-align: right;\">\n",
       "      <th></th>\n",
       "      <th>Model</th>\n",
       "      <th>Accuracy</th>\n",
       "      <th>AUC</th>\n",
       "      <th>Recall</th>\n",
       "      <th>Prec.</th>\n",
       "      <th>F1</th>\n",
       "      <th>Kappa</th>\n",
       "      <th>MCC</th>\n",
       "      <th>TT (Sec)</th>\n",
       "    </tr>\n",
       "  </thead>\n",
       "  <tbody>\n",
       "    <tr>\n",
       "      <th>0</th>\n",
       "      <td>Light Gradient Boosting Machine</td>\n",
       "      <td>0.8645</td>\n",
       "      <td>0.9209</td>\n",
       "      <td>0.6439</td>\n",
       "      <td>0.7599</td>\n",
       "      <td>0.6969</td>\n",
       "      <td>0.6104</td>\n",
       "      <td>0.6140</td>\n",
       "      <td>0.2931</td>\n",
       "    </tr>\n",
       "    <tr>\n",
       "      <th>1</th>\n",
       "      <td>Extreme Gradient Boosting</td>\n",
       "      <td>0.8626</td>\n",
       "      <td>0.9201</td>\n",
       "      <td>0.6439</td>\n",
       "      <td>0.7529</td>\n",
       "      <td>0.6939</td>\n",
       "      <td>0.6060</td>\n",
       "      <td>0.6093</td>\n",
       "      <td>2.0858</td>\n",
       "    </tr>\n",
       "    <tr>\n",
       "      <th>2</th>\n",
       "      <td>Gradient Boosting Classifier</td>\n",
       "      <td>0.8632</td>\n",
       "      <td>0.9177</td>\n",
       "      <td>0.6083</td>\n",
       "      <td>0.7783</td>\n",
       "      <td>0.6826</td>\n",
       "      <td>0.5971</td>\n",
       "      <td>0.6046</td>\n",
       "      <td>1.9847</td>\n",
       "    </tr>\n",
       "    <tr>\n",
       "      <th>3</th>\n",
       "      <td>Ada Boost Classifier</td>\n",
       "      <td>0.8574</td>\n",
       "      <td>0.9115</td>\n",
       "      <td>0.6180</td>\n",
       "      <td>0.7492</td>\n",
       "      <td>0.6771</td>\n",
       "      <td>0.5867</td>\n",
       "      <td>0.5913</td>\n",
       "      <td>0.7299</td>\n",
       "    </tr>\n",
       "    <tr>\n",
       "      <th>4</th>\n",
       "      <td>Linear Discriminant Analysis</td>\n",
       "      <td>0.8462</td>\n",
       "      <td>0.9000</td>\n",
       "      <td>0.5934</td>\n",
       "      <td>0.7221</td>\n",
       "      <td>0.6510</td>\n",
       "      <td>0.5536</td>\n",
       "      <td>0.5583</td>\n",
       "      <td>0.1744</td>\n",
       "    </tr>\n",
       "    <tr>\n",
       "      <th>5</th>\n",
       "      <td>Extra Trees Classifier</td>\n",
       "      <td>0.8348</td>\n",
       "      <td>0.8844</td>\n",
       "      <td>0.5973</td>\n",
       "      <td>0.6820</td>\n",
       "      <td>0.6363</td>\n",
       "      <td>0.5301</td>\n",
       "      <td>0.5324</td>\n",
       "      <td>0.5348</td>\n",
       "    </tr>\n",
       "    <tr>\n",
       "      <th>6</th>\n",
       "      <td>Random Forest Classifier</td>\n",
       "      <td>0.8436</td>\n",
       "      <td>0.8776</td>\n",
       "      <td>0.5584</td>\n",
       "      <td>0.7332</td>\n",
       "      <td>0.6335</td>\n",
       "      <td>0.5364</td>\n",
       "      <td>0.5448</td>\n",
       "      <td>0.1247</td>\n",
       "    </tr>\n",
       "  </tbody>\n",
       "</table>\n",
       "</div>"
      ],
      "text/plain": [
       "                             Model  Accuracy     AUC  Recall   Prec.      F1  \\\n",
       "0  Light Gradient Boosting Machine    0.8645  0.9209  0.6439  0.7599  0.6969   \n",
       "1        Extreme Gradient Boosting    0.8626  0.9201  0.6439  0.7529  0.6939   \n",
       "2     Gradient Boosting Classifier    0.8632  0.9177  0.6083  0.7783  0.6826   \n",
       "3             Ada Boost Classifier    0.8574  0.9115  0.6180  0.7492  0.6771   \n",
       "4     Linear Discriminant Analysis    0.8462  0.9000  0.5934  0.7221  0.6510   \n",
       "5           Extra Trees Classifier    0.8348  0.8844  0.5973  0.6820  0.6363   \n",
       "6         Random Forest Classifier    0.8436  0.8776  0.5584  0.7332  0.6335   \n",
       "\n",
       "    Kappa     MCC  TT (Sec)  \n",
       "0  0.6104  0.6140    0.2931  \n",
       "1  0.6060  0.6093    2.0858  \n",
       "2  0.5971  0.6046    1.9847  \n",
       "3  0.5867  0.5913    0.7299  \n",
       "4  0.5536  0.5583    0.1744  \n",
       "5  0.5301  0.5324    0.5348  \n",
       "6  0.5364  0.5448    0.1247  "
      ]
     },
     "metadata": {},
     "output_type": "display_data"
    },
    {
     "ename": "KeyboardInterrupt",
     "evalue": "",
     "output_type": "error",
     "traceback": [
      "\u001b[1;31m---------------------------------------------------------------------------\u001b[0m",
      "\u001b[1;31mKeyboardInterrupt\u001b[0m                         Traceback (most recent call last)",
      "\u001b[1;32m<ipython-input-30-e368400af2d4>\u001b[0m in \u001b[0;36m<module>\u001b[1;34m\u001b[0m\n\u001b[0;32m      1\u001b[0m best_3 = compare_models(sort = 'F1', n_select = 3\n\u001b[1;32m----> 2\u001b[1;33m                        \u001b[1;33m,\u001b[0m\u001b[0mexclude\u001b[0m\u001b[1;33m=\u001b[0m\u001b[1;33m[\u001b[0m\u001b[1;34m'lr'\u001b[0m\u001b[1;33m,\u001b[0m \u001b[1;34m'knn'\u001b[0m\u001b[1;33m,\u001b[0m \u001b[1;34m'nb'\u001b[0m\u001b[1;33m,\u001b[0m \u001b[1;34m'dt'\u001b[0m\u001b[1;33m,\u001b[0m \u001b[1;34m'svm'\u001b[0m\u001b[1;33m,\u001b[0m \u001b[1;34m'rbfsvm'\u001b[0m\u001b[1;33m,\u001b[0m \u001b[1;34m'ridge'\u001b[0m\u001b[1;33m,\u001b[0m\u001b[1;34m'qda'\u001b[0m\u001b[1;33m]\u001b[0m\u001b[1;33m\u001b[0m\u001b[1;33m\u001b[0m\u001b[0m\n\u001b[0m\u001b[0;32m      3\u001b[0m                        \u001b[1;31m#,exclude=['lr', 'knn', 'nb', 'dt', 'svm', 'rbfsvm', 'gpc', 'mlp', 'ridge', 'rf', 'qda', 'ada', 'xgboost']\u001b[0m\u001b[1;33m\u001b[0m\u001b[1;33m\u001b[0m\u001b[1;33m\u001b[0m\u001b[0m\n\u001b[0;32m      4\u001b[0m                        )\n",
      "\u001b[1;32m~\\anaconda3\\lib\\site-packages\\pycaret\\classification.py\u001b[0m in \u001b[0;36mcompare_models\u001b[1;34m(exclude, include, fold, round, sort, n_select, budget_time, turbo, verbose)\u001b[0m\n\u001b[0;32m   2455\u001b[0m                 \u001b[0mtime_start\u001b[0m\u001b[1;33m=\u001b[0m\u001b[0mtime\u001b[0m\u001b[1;33m.\u001b[0m\u001b[0mtime\u001b[0m\u001b[1;33m(\u001b[0m\u001b[1;33m)\u001b[0m\u001b[1;33m\u001b[0m\u001b[1;33m\u001b[0m\u001b[0m\n\u001b[0;32m   2456\u001b[0m                 \u001b[0mlogger\u001b[0m\u001b[1;33m.\u001b[0m\u001b[0minfo\u001b[0m\u001b[1;33m(\u001b[0m\u001b[1;34m\"Fitting Model\"\u001b[0m\u001b[1;33m)\u001b[0m\u001b[1;33m\u001b[0m\u001b[1;33m\u001b[0m\u001b[0m\n\u001b[1;32m-> 2457\u001b[1;33m                 \u001b[0mmodel\u001b[0m\u001b[1;33m.\u001b[0m\u001b[0mfit\u001b[0m\u001b[1;33m(\u001b[0m\u001b[0mXtrain\u001b[0m\u001b[1;33m,\u001b[0m\u001b[0mytrain\u001b[0m\u001b[1;33m)\u001b[0m\u001b[1;33m\u001b[0m\u001b[1;33m\u001b[0m\u001b[0m\n\u001b[0m\u001b[0;32m   2458\u001b[0m                 \u001b[0mlogger\u001b[0m\u001b[1;33m.\u001b[0m\u001b[0minfo\u001b[0m\u001b[1;33m(\u001b[0m\u001b[1;34m\"Evaluating Metrics\"\u001b[0m\u001b[1;33m)\u001b[0m\u001b[1;33m\u001b[0m\u001b[1;33m\u001b[0m\u001b[0m\n\u001b[0;32m   2459\u001b[0m                 \u001b[0mtime_end\u001b[0m\u001b[1;33m=\u001b[0m\u001b[0mtime\u001b[0m\u001b[1;33m.\u001b[0m\u001b[0mtime\u001b[0m\u001b[1;33m(\u001b[0m\u001b[1;33m)\u001b[0m\u001b[1;33m\u001b[0m\u001b[1;33m\u001b[0m\u001b[0m\n",
      "\u001b[1;32m~\\anaconda3\\lib\\site-packages\\catboost\\core.py\u001b[0m in \u001b[0;36mfit\u001b[1;34m(self, X, y, cat_features, text_features, embedding_features, sample_weight, baseline, use_best_model, eval_set, verbose, logging_level, plot, column_description, verbose_eval, metric_period, silent, early_stopping_rounds, save_snapshot, snapshot_file, snapshot_interval, init_model)\u001b[0m\n\u001b[0;32m   4290\u001b[0m         self._fit(X, y, cat_features, text_features, embedding_features, None, sample_weight, None, None, None, None, baseline, use_best_model,\n\u001b[0;32m   4291\u001b[0m                   \u001b[0meval_set\u001b[0m\u001b[1;33m,\u001b[0m \u001b[0mverbose\u001b[0m\u001b[1;33m,\u001b[0m \u001b[0mlogging_level\u001b[0m\u001b[1;33m,\u001b[0m \u001b[0mplot\u001b[0m\u001b[1;33m,\u001b[0m \u001b[0mcolumn_description\u001b[0m\u001b[1;33m,\u001b[0m \u001b[0mverbose_eval\u001b[0m\u001b[1;33m,\u001b[0m \u001b[0mmetric_period\u001b[0m\u001b[1;33m,\u001b[0m\u001b[1;33m\u001b[0m\u001b[1;33m\u001b[0m\u001b[0m\n\u001b[1;32m-> 4292\u001b[1;33m                   silent, early_stopping_rounds, save_snapshot, snapshot_file, snapshot_interval, init_model)\n\u001b[0m\u001b[0;32m   4293\u001b[0m         \u001b[1;32mreturn\u001b[0m \u001b[0mself\u001b[0m\u001b[1;33m\u001b[0m\u001b[1;33m\u001b[0m\u001b[0m\n\u001b[0;32m   4294\u001b[0m \u001b[1;33m\u001b[0m\u001b[0m\n",
      "\u001b[1;32m~\\anaconda3\\lib\\site-packages\\catboost\\core.py\u001b[0m in \u001b[0;36m_fit\u001b[1;34m(self, X, y, cat_features, text_features, embedding_features, pairs, sample_weight, group_id, group_weight, subgroup_id, pairs_weight, baseline, use_best_model, eval_set, verbose, logging_level, plot, column_description, verbose_eval, metric_period, silent, early_stopping_rounds, save_snapshot, snapshot_file, snapshot_interval, init_model)\u001b[0m\n\u001b[0;32m   1803\u001b[0m                 \u001b[0mparams\u001b[0m\u001b[1;33m,\u001b[0m\u001b[1;33m\u001b[0m\u001b[1;33m\u001b[0m\u001b[0m\n\u001b[0;32m   1804\u001b[0m                 \u001b[0mallow_clear_pool\u001b[0m\u001b[1;33m,\u001b[0m\u001b[1;33m\u001b[0m\u001b[1;33m\u001b[0m\u001b[0m\n\u001b[1;32m-> 1805\u001b[1;33m                 \u001b[0mtrain_params\u001b[0m\u001b[1;33m[\u001b[0m\u001b[1;34m\"init_model\"\u001b[0m\u001b[1;33m]\u001b[0m\u001b[1;33m\u001b[0m\u001b[1;33m\u001b[0m\u001b[0m\n\u001b[0m\u001b[0;32m   1806\u001b[0m             )\n\u001b[0;32m   1807\u001b[0m \u001b[1;33m\u001b[0m\u001b[0m\n",
      "\u001b[1;32m~\\anaconda3\\lib\\site-packages\\catboost\\core.py\u001b[0m in \u001b[0;36m_train\u001b[1;34m(self, train_pool, test_pool, params, allow_clear_pool, init_model)\u001b[0m\n\u001b[0;32m   1256\u001b[0m \u001b[1;33m\u001b[0m\u001b[0m\n\u001b[0;32m   1257\u001b[0m     \u001b[1;32mdef\u001b[0m \u001b[0m_train\u001b[0m\u001b[1;33m(\u001b[0m\u001b[0mself\u001b[0m\u001b[1;33m,\u001b[0m \u001b[0mtrain_pool\u001b[0m\u001b[1;33m,\u001b[0m \u001b[0mtest_pool\u001b[0m\u001b[1;33m,\u001b[0m \u001b[0mparams\u001b[0m\u001b[1;33m,\u001b[0m \u001b[0mallow_clear_pool\u001b[0m\u001b[1;33m,\u001b[0m \u001b[0minit_model\u001b[0m\u001b[1;33m)\u001b[0m\u001b[1;33m:\u001b[0m\u001b[1;33m\u001b[0m\u001b[1;33m\u001b[0m\u001b[0m\n\u001b[1;32m-> 1258\u001b[1;33m         \u001b[0mself\u001b[0m\u001b[1;33m.\u001b[0m\u001b[0m_object\u001b[0m\u001b[1;33m.\u001b[0m\u001b[0m_train\u001b[0m\u001b[1;33m(\u001b[0m\u001b[0mtrain_pool\u001b[0m\u001b[1;33m,\u001b[0m \u001b[0mtest_pool\u001b[0m\u001b[1;33m,\u001b[0m \u001b[0mparams\u001b[0m\u001b[1;33m,\u001b[0m \u001b[0mallow_clear_pool\u001b[0m\u001b[1;33m,\u001b[0m \u001b[0minit_model\u001b[0m\u001b[1;33m.\u001b[0m\u001b[0m_object\u001b[0m \u001b[1;32mif\u001b[0m \u001b[0minit_model\u001b[0m \u001b[1;32melse\u001b[0m \u001b[1;32mNone\u001b[0m\u001b[1;33m)\u001b[0m\u001b[1;33m\u001b[0m\u001b[1;33m\u001b[0m\u001b[0m\n\u001b[0m\u001b[0;32m   1259\u001b[0m         \u001b[0mself\u001b[0m\u001b[1;33m.\u001b[0m\u001b[0m_set_trained_model_attributes\u001b[0m\u001b[1;33m(\u001b[0m\u001b[1;33m)\u001b[0m\u001b[1;33m\u001b[0m\u001b[1;33m\u001b[0m\u001b[0m\n\u001b[0;32m   1260\u001b[0m \u001b[1;33m\u001b[0m\u001b[0m\n",
      "\u001b[1;32m_catboost.pyx\u001b[0m in \u001b[0;36m_catboost._CatBoost._train\u001b[1;34m()\u001b[0m\n",
      "\u001b[1;32m_catboost.pyx\u001b[0m in \u001b[0;36m_catboost._CatBoost._train\u001b[1;34m()\u001b[0m\n",
      "\u001b[1;31mKeyboardInterrupt\u001b[0m: "
     ]
    }
   ],
   "source": [
    "best_3 = compare_models(sort = 'F1', n_select = 3\n",
    "                       ,exclude=['lr', 'knn', 'nb', 'dt', 'svm', 'rbfsvm', 'ridge','qda']\n",
    "                       #,exclude=['lr', 'knn', 'nb', 'dt', 'svm', 'rbfsvm', 'gpc', 'mlp', 'ridge', 'rf', 'qda', 'ada', 'xgboost']\n",
    "                       )"
   ]
  },
  {
   "cell_type": "code",
   "execution_count": null,
   "metadata": {},
   "outputs": [],
   "source": [
    "blended = blend_models(estimator_list = best_3, fold = 5, method = 'soft')"
   ]
  },
  {
   "cell_type": "code",
   "execution_count": null,
   "metadata": {},
   "outputs": [],
   "source": [
    "pred_holdout = predict_model(blended)"
   ]
  },
  {
   "cell_type": "code",
   "execution_count": 14,
   "metadata": {},
   "outputs": [
    {
     "name": "stdout",
     "output_type": "stream",
     "text": [
      "Wall time: 3min 9s\n"
     ]
    }
   ],
   "source": [
    "%%time\n",
    "final_model = finalize_model(blended)"
   ]
  },
  {
   "cell_type": "code",
   "execution_count": 15,
   "metadata": {},
   "outputs": [],
   "source": [
    "predictions = predict_model(final_model, data = test)"
   ]
  },
  {
   "cell_type": "markdown",
   "metadata": {},
   "source": [
    "# 4. 예측"
   ]
  },
  {
   "cell_type": "code",
   "execution_count": 16,
   "metadata": {},
   "outputs": [],
   "source": [
    "submission['prediction'] = predictions['Label']"
   ]
  },
  {
   "cell_type": "markdown",
   "metadata": {},
   "source": [
    "# 5. 제출"
   ]
  },
  {
   "cell_type": "code",
   "execution_count": 17,
   "metadata": {},
   "outputs": [],
   "source": [
    "submission.to_csv('output/20201017-5.csv')"
   ]
  },
  {
   "cell_type": "code",
   "execution_count": null,
   "metadata": {},
   "outputs": [],
   "source": []
  },
  {
   "cell_type": "code",
   "execution_count": 18,
   "metadata": {},
   "outputs": [
    {
     "data": {
      "text/html": [
       "<style  type=\"text/css\" >\n",
       "#T_a055100c_107c_11eb_9836_00e0201808a0row10_col0,#T_a055100c_107c_11eb_9836_00e0201808a0row10_col1,#T_a055100c_107c_11eb_9836_00e0201808a0row10_col2,#T_a055100c_107c_11eb_9836_00e0201808a0row10_col3,#T_a055100c_107c_11eb_9836_00e0201808a0row10_col4,#T_a055100c_107c_11eb_9836_00e0201808a0row10_col5,#T_a055100c_107c_11eb_9836_00e0201808a0row10_col6{\n",
       "            background:  yellow;\n",
       "        }</style><table id=\"T_a055100c_107c_11eb_9836_00e0201808a0\" ><thead>    <tr>        <th class=\"blank level0\" ></th>        <th class=\"col_heading level0 col0\" >Accuracy</th>        <th class=\"col_heading level0 col1\" >AUC</th>        <th class=\"col_heading level0 col2\" >Recall</th>        <th class=\"col_heading level0 col3\" >Prec.</th>        <th class=\"col_heading level0 col4\" >F1</th>        <th class=\"col_heading level0 col5\" >Kappa</th>        <th class=\"col_heading level0 col6\" >MCC</th>    </tr></thead><tbody>\n",
       "                <tr>\n",
       "                        <th id=\"T_a055100c_107c_11eb_9836_00e0201808a0level0_row0\" class=\"row_heading level0 row0\" >0</th>\n",
       "                        <td id=\"T_a055100c_107c_11eb_9836_00e0201808a0row0_col0\" class=\"data row0 col0\" >0.8716</td>\n",
       "                        <td id=\"T_a055100c_107c_11eb_9836_00e0201808a0row0_col1\" class=\"data row0 col1\" >0.9237</td>\n",
       "                        <td id=\"T_a055100c_107c_11eb_9836_00e0201808a0row0_col2\" class=\"data row0 col2\" >0.6375</td>\n",
       "                        <td id=\"T_a055100c_107c_11eb_9836_00e0201808a0row0_col3\" class=\"data row0 col3\" >0.7912</td>\n",
       "                        <td id=\"T_a055100c_107c_11eb_9836_00e0201808a0row0_col4\" class=\"data row0 col4\" >0.7061</td>\n",
       "                        <td id=\"T_a055100c_107c_11eb_9836_00e0201808a0row0_col5\" class=\"data row0 col5\" >0.6251</td>\n",
       "                        <td id=\"T_a055100c_107c_11eb_9836_00e0201808a0row0_col6\" class=\"data row0 col6\" >0.6311</td>\n",
       "            </tr>\n",
       "            <tr>\n",
       "                        <th id=\"T_a055100c_107c_11eb_9836_00e0201808a0level0_row1\" class=\"row_heading level0 row1\" >1</th>\n",
       "                        <td id=\"T_a055100c_107c_11eb_9836_00e0201808a0row1_col0\" class=\"data row1 col0\" >0.8630</td>\n",
       "                        <td id=\"T_a055100c_107c_11eb_9836_00e0201808a0row1_col1\" class=\"data row1 col1\" >0.9183</td>\n",
       "                        <td id=\"T_a055100c_107c_11eb_9836_00e0201808a0row1_col2\" class=\"data row1 col2\" >0.6667</td>\n",
       "                        <td id=\"T_a055100c_107c_11eb_9836_00e0201808a0row1_col3\" class=\"data row1 col3\" >0.7410</td>\n",
       "                        <td id=\"T_a055100c_107c_11eb_9836_00e0201808a0row1_col4\" class=\"data row1 col4\" >0.7019</td>\n",
       "                        <td id=\"T_a055100c_107c_11eb_9836_00e0201808a0row1_col5\" class=\"data row1 col5\" >0.6132</td>\n",
       "                        <td id=\"T_a055100c_107c_11eb_9836_00e0201808a0row1_col6\" class=\"data row1 col6\" >0.6147</td>\n",
       "            </tr>\n",
       "            <tr>\n",
       "                        <th id=\"T_a055100c_107c_11eb_9836_00e0201808a0level0_row2\" class=\"row_heading level0 row2\" >2</th>\n",
       "                        <td id=\"T_a055100c_107c_11eb_9836_00e0201808a0row2_col0\" class=\"data row2 col0\" >0.8630</td>\n",
       "                        <td id=\"T_a055100c_107c_11eb_9836_00e0201808a0row2_col1\" class=\"data row2 col1\" >0.9175</td>\n",
       "                        <td id=\"T_a055100c_107c_11eb_9836_00e0201808a0row2_col2\" class=\"data row2 col2\" >0.6570</td>\n",
       "                        <td id=\"T_a055100c_107c_11eb_9836_00e0201808a0row2_col3\" class=\"data row2 col3\" >0.7463</td>\n",
       "                        <td id=\"T_a055100c_107c_11eb_9836_00e0201808a0row2_col4\" class=\"data row2 col4\" >0.6988</td>\n",
       "                        <td id=\"T_a055100c_107c_11eb_9836_00e0201808a0row2_col5\" class=\"data row2 col5\" >0.6106</td>\n",
       "                        <td id=\"T_a055100c_107c_11eb_9836_00e0201808a0row2_col6\" class=\"data row2 col6\" >0.6126</td>\n",
       "            </tr>\n",
       "            <tr>\n",
       "                        <th id=\"T_a055100c_107c_11eb_9836_00e0201808a0level0_row3\" class=\"row_heading level0 row3\" >3</th>\n",
       "                        <td id=\"T_a055100c_107c_11eb_9836_00e0201808a0row3_col0\" class=\"data row3 col0\" >0.8597</td>\n",
       "                        <td id=\"T_a055100c_107c_11eb_9836_00e0201808a0row3_col1\" class=\"data row3 col1\" >0.9152</td>\n",
       "                        <td id=\"T_a055100c_107c_11eb_9836_00e0201808a0row3_col2\" class=\"data row3 col2\" >0.6364</td>\n",
       "                        <td id=\"T_a055100c_107c_11eb_9836_00e0201808a0row3_col3\" class=\"data row3 col3\" >0.7452</td>\n",
       "                        <td id=\"T_a055100c_107c_11eb_9836_00e0201808a0row3_col4\" class=\"data row3 col4\" >0.6865</td>\n",
       "                        <td id=\"T_a055100c_107c_11eb_9836_00e0201808a0row3_col5\" class=\"data row3 col5\" >0.5969</td>\n",
       "                        <td id=\"T_a055100c_107c_11eb_9836_00e0201808a0row3_col6\" class=\"data row3 col6\" >0.6000</td>\n",
       "            </tr>\n",
       "            <tr>\n",
       "                        <th id=\"T_a055100c_107c_11eb_9836_00e0201808a0level0_row4\" class=\"row_heading level0 row4\" >4</th>\n",
       "                        <td id=\"T_a055100c_107c_11eb_9836_00e0201808a0row4_col0\" class=\"data row4 col0\" >0.8417</td>\n",
       "                        <td id=\"T_a055100c_107c_11eb_9836_00e0201808a0row4_col1\" class=\"data row4 col1\" >0.9071</td>\n",
       "                        <td id=\"T_a055100c_107c_11eb_9836_00e0201808a0row4_col2\" class=\"data row4 col2\" >0.6181</td>\n",
       "                        <td id=\"T_a055100c_107c_11eb_9836_00e0201808a0row4_col3\" class=\"data row4 col3\" >0.6945</td>\n",
       "                        <td id=\"T_a055100c_107c_11eb_9836_00e0201808a0row4_col4\" class=\"data row4 col4\" >0.6541</td>\n",
       "                        <td id=\"T_a055100c_107c_11eb_9836_00e0201808a0row4_col5\" class=\"data row4 col5\" >0.5519</td>\n",
       "                        <td id=\"T_a055100c_107c_11eb_9836_00e0201808a0row4_col6\" class=\"data row4 col6\" >0.5535</td>\n",
       "            </tr>\n",
       "            <tr>\n",
       "                        <th id=\"T_a055100c_107c_11eb_9836_00e0201808a0level0_row5\" class=\"row_heading level0 row5\" >5</th>\n",
       "                        <td id=\"T_a055100c_107c_11eb_9836_00e0201808a0row5_col0\" class=\"data row5 col0\" >0.8723</td>\n",
       "                        <td id=\"T_a055100c_107c_11eb_9836_00e0201808a0row5_col1\" class=\"data row5 col1\" >0.9298</td>\n",
       "                        <td id=\"T_a055100c_107c_11eb_9836_00e0201808a0row5_col2\" class=\"data row5 col2\" >0.6634</td>\n",
       "                        <td id=\"T_a055100c_107c_11eb_9836_00e0201808a0row5_col3\" class=\"data row5 col3\" >0.7765</td>\n",
       "                        <td id=\"T_a055100c_107c_11eb_9836_00e0201808a0row5_col4\" class=\"data row5 col4\" >0.7155</td>\n",
       "                        <td id=\"T_a055100c_107c_11eb_9836_00e0201808a0row5_col5\" class=\"data row5 col5\" >0.6338</td>\n",
       "                        <td id=\"T_a055100c_107c_11eb_9836_00e0201808a0row5_col6\" class=\"data row5 col6\" >0.6371</td>\n",
       "            </tr>\n",
       "            <tr>\n",
       "                        <th id=\"T_a055100c_107c_11eb_9836_00e0201808a0level0_row6\" class=\"row_heading level0 row6\" >6</th>\n",
       "                        <td id=\"T_a055100c_107c_11eb_9836_00e0201808a0row6_col0\" class=\"data row6 col0\" >0.8785</td>\n",
       "                        <td id=\"T_a055100c_107c_11eb_9836_00e0201808a0row6_col1\" class=\"data row6 col1\" >0.9358</td>\n",
       "                        <td id=\"T_a055100c_107c_11eb_9836_00e0201808a0row6_col2\" class=\"data row6 col2\" >0.6570</td>\n",
       "                        <td id=\"T_a055100c_107c_11eb_9836_00e0201808a0row6_col3\" class=\"data row6 col3\" >0.8056</td>\n",
       "                        <td id=\"T_a055100c_107c_11eb_9836_00e0201808a0row6_col4\" class=\"data row6 col4\" >0.7237</td>\n",
       "                        <td id=\"T_a055100c_107c_11eb_9836_00e0201808a0row6_col5\" class=\"data row6 col5\" >0.6469</td>\n",
       "                        <td id=\"T_a055100c_107c_11eb_9836_00e0201808a0row6_col6\" class=\"data row6 col6\" >0.6524</td>\n",
       "            </tr>\n",
       "            <tr>\n",
       "                        <th id=\"T_a055100c_107c_11eb_9836_00e0201808a0level0_row7\" class=\"row_heading level0 row7\" >7</th>\n",
       "                        <td id=\"T_a055100c_107c_11eb_9836_00e0201808a0row7_col0\" class=\"data row7 col0\" >0.8652</td>\n",
       "                        <td id=\"T_a055100c_107c_11eb_9836_00e0201808a0row7_col1\" class=\"data row7 col1\" >0.9249</td>\n",
       "                        <td id=\"T_a055100c_107c_11eb_9836_00e0201808a0row7_col2\" class=\"data row7 col2\" >0.6408</td>\n",
       "                        <td id=\"T_a055100c_107c_11eb_9836_00e0201808a0row7_col3\" class=\"data row7 col3\" >0.7645</td>\n",
       "                        <td id=\"T_a055100c_107c_11eb_9836_00e0201808a0row7_col4\" class=\"data row7 col4\" >0.6972</td>\n",
       "                        <td id=\"T_a055100c_107c_11eb_9836_00e0201808a0row7_col5\" class=\"data row7 col5\" >0.6114</td>\n",
       "                        <td id=\"T_a055100c_107c_11eb_9836_00e0201808a0row7_col6\" class=\"data row7 col6\" >0.6153</td>\n",
       "            </tr>\n",
       "            <tr>\n",
       "                        <th id=\"T_a055100c_107c_11eb_9836_00e0201808a0level0_row8\" class=\"row_heading level0 row8\" >8</th>\n",
       "                        <td id=\"T_a055100c_107c_11eb_9836_00e0201808a0row8_col0\" class=\"data row8 col0\" >0.8613</td>\n",
       "                        <td id=\"T_a055100c_107c_11eb_9836_00e0201808a0row8_col1\" class=\"data row8 col1\" >0.9236</td>\n",
       "                        <td id=\"T_a055100c_107c_11eb_9836_00e0201808a0row8_col2\" class=\"data row8 col2\" >0.6214</td>\n",
       "                        <td id=\"T_a055100c_107c_11eb_9836_00e0201808a0row8_col3\" class=\"data row8 col3\" >0.7619</td>\n",
       "                        <td id=\"T_a055100c_107c_11eb_9836_00e0201808a0row8_col4\" class=\"data row8 col4\" >0.6845</td>\n",
       "                        <td id=\"T_a055100c_107c_11eb_9836_00e0201808a0row8_col5\" class=\"data row8 col5\" >0.5968</td>\n",
       "                        <td id=\"T_a055100c_107c_11eb_9836_00e0201808a0row8_col6\" class=\"data row8 col6\" >0.6019</td>\n",
       "            </tr>\n",
       "            <tr>\n",
       "                        <th id=\"T_a055100c_107c_11eb_9836_00e0201808a0level0_row9\" class=\"row_heading level0 row9\" >9</th>\n",
       "                        <td id=\"T_a055100c_107c_11eb_9836_00e0201808a0row9_col0\" class=\"data row9 col0\" >0.8730</td>\n",
       "                        <td id=\"T_a055100c_107c_11eb_9836_00e0201808a0row9_col1\" class=\"data row9 col1\" >0.9215</td>\n",
       "                        <td id=\"T_a055100c_107c_11eb_9836_00e0201808a0row9_col2\" class=\"data row9 col2\" >0.6861</td>\n",
       "                        <td id=\"T_a055100c_107c_11eb_9836_00e0201808a0row9_col3\" class=\"data row9 col3\" >0.7653</td>\n",
       "                        <td id=\"T_a055100c_107c_11eb_9836_00e0201808a0row9_col4\" class=\"data row9 col4\" >0.7235</td>\n",
       "                        <td id=\"T_a055100c_107c_11eb_9836_00e0201808a0row9_col5\" class=\"data row9 col5\" >0.6415</td>\n",
       "                        <td id=\"T_a055100c_107c_11eb_9836_00e0201808a0row9_col6\" class=\"data row9 col6\" >0.6431</td>\n",
       "            </tr>\n",
       "            <tr>\n",
       "                        <th id=\"T_a055100c_107c_11eb_9836_00e0201808a0level0_row10\" class=\"row_heading level0 row10\" >Mean</th>\n",
       "                        <td id=\"T_a055100c_107c_11eb_9836_00e0201808a0row10_col0\" class=\"data row10 col0\" >0.8649</td>\n",
       "                        <td id=\"T_a055100c_107c_11eb_9836_00e0201808a0row10_col1\" class=\"data row10 col1\" >0.9217</td>\n",
       "                        <td id=\"T_a055100c_107c_11eb_9836_00e0201808a0row10_col2\" class=\"data row10 col2\" >0.6484</td>\n",
       "                        <td id=\"T_a055100c_107c_11eb_9836_00e0201808a0row10_col3\" class=\"data row10 col3\" >0.7592</td>\n",
       "                        <td id=\"T_a055100c_107c_11eb_9836_00e0201808a0row10_col4\" class=\"data row10 col4\" >0.6992</td>\n",
       "                        <td id=\"T_a055100c_107c_11eb_9836_00e0201808a0row10_col5\" class=\"data row10 col5\" >0.6128</td>\n",
       "                        <td id=\"T_a055100c_107c_11eb_9836_00e0201808a0row10_col6\" class=\"data row10 col6\" >0.6162</td>\n",
       "            </tr>\n",
       "            <tr>\n",
       "                        <th id=\"T_a055100c_107c_11eb_9836_00e0201808a0level0_row11\" class=\"row_heading level0 row11\" >SD</th>\n",
       "                        <td id=\"T_a055100c_107c_11eb_9836_00e0201808a0row11_col0\" class=\"data row11 col0\" >0.0097</td>\n",
       "                        <td id=\"T_a055100c_107c_11eb_9836_00e0201808a0row11_col1\" class=\"data row11 col1\" >0.0075</td>\n",
       "                        <td id=\"T_a055100c_107c_11eb_9836_00e0201808a0row11_col2\" class=\"data row11 col2\" >0.0202</td>\n",
       "                        <td id=\"T_a055100c_107c_11eb_9836_00e0201808a0row11_col3\" class=\"data row11 col3\" >0.0290</td>\n",
       "                        <td id=\"T_a055100c_107c_11eb_9836_00e0201808a0row11_col4\" class=\"data row11 col4\" >0.0198</td>\n",
       "                        <td id=\"T_a055100c_107c_11eb_9836_00e0201808a0row11_col5\" class=\"data row11 col5\" >0.0261</td>\n",
       "                        <td id=\"T_a055100c_107c_11eb_9836_00e0201808a0row11_col6\" class=\"data row11 col6\" >0.0267</td>\n",
       "            </tr>\n",
       "    </tbody></table>"
      ],
      "text/plain": [
       "<pandas.io.formats.style.Styler at 0x236e7ca9988>"
      ]
     },
     "metadata": {},
     "output_type": "display_data"
    }
   ],
   "source": [
    "xgboost = create_model('xgboost')"
   ]
  },
  {
   "cell_type": "code",
   "execution_count": 19,
   "metadata": {},
   "outputs": [
    {
     "data": {
      "image/png": "[encoded data removed]",
      "text/plain": [
       "<Figure size 800x500 with 1 Axes>"
      ]
     },
     "metadata": {
      "needs_background": "light"
     },
     "output_type": "display_data"
    }
   ],
   "source": [
    "plot_model(estimator = xgboost, plot = 'feature')"
   ]
  },
  {
   "cell_type": "code",
   "execution_count": null,
   "metadata": {},
   "outputs": [],
   "source": []
  },
  {
   "cell_type": "code",
   "execution_count": 20,
   "metadata": {
    "scrolled": true
   },
   "outputs": [
    {
     "data": {
      "text/html": [
       "<style  type=\"text/css\" >\n",
       "#T_a3254d9a_107c_11eb_92cd_00e0201808a0row10_col0,#T_a3254d9a_107c_11eb_92cd_00e0201808a0row10_col1,#T_a3254d9a_107c_11eb_92cd_00e0201808a0row10_col2,#T_a3254d9a_107c_11eb_92cd_00e0201808a0row10_col3,#T_a3254d9a_107c_11eb_92cd_00e0201808a0row10_col4,#T_a3254d9a_107c_11eb_92cd_00e0201808a0row10_col5,#T_a3254d9a_107c_11eb_92cd_00e0201808a0row10_col6{\n",
       "            background:  yellow;\n",
       "        }</style><table id=\"T_a3254d9a_107c_11eb_92cd_00e0201808a0\" ><thead>    <tr>        <th class=\"blank level0\" ></th>        <th class=\"col_heading level0 col0\" >Accuracy</th>        <th class=\"col_heading level0 col1\" >AUC</th>        <th class=\"col_heading level0 col2\" >Recall</th>        <th class=\"col_heading level0 col3\" >Prec.</th>        <th class=\"col_heading level0 col4\" >F1</th>        <th class=\"col_heading level0 col5\" >Kappa</th>        <th class=\"col_heading level0 col6\" >MCC</th>    </tr></thead><tbody>\n",
       "                <tr>\n",
       "                        <th id=\"T_a3254d9a_107c_11eb_92cd_00e0201808a0level0_row0\" class=\"row_heading level0 row0\" >0</th>\n",
       "                        <td id=\"T_a3254d9a_107c_11eb_92cd_00e0201808a0row0_col0\" class=\"data row0 col0\" >0.8630</td>\n",
       "                        <td id=\"T_a3254d9a_107c_11eb_92cd_00e0201808a0row0_col1\" class=\"data row0 col1\" >0.9202</td>\n",
       "                        <td id=\"T_a3254d9a_107c_11eb_92cd_00e0201808a0row0_col2\" class=\"data row0 col2\" >0.6246</td>\n",
       "                        <td id=\"T_a3254d9a_107c_11eb_92cd_00e0201808a0row0_col3\" class=\"data row0 col3\" >0.7659</td>\n",
       "                        <td id=\"T_a3254d9a_107c_11eb_92cd_00e0201808a0row0_col4\" class=\"data row0 col4\" >0.6881</td>\n",
       "                        <td id=\"T_a3254d9a_107c_11eb_92cd_00e0201808a0row0_col5\" class=\"data row0 col5\" >0.6014</td>\n",
       "                        <td id=\"T_a3254d9a_107c_11eb_92cd_00e0201808a0row0_col6\" class=\"data row0 col6\" >0.6065</td>\n",
       "            </tr>\n",
       "            <tr>\n",
       "                        <th id=\"T_a3254d9a_107c_11eb_92cd_00e0201808a0level0_row1\" class=\"row_heading level0 row1\" >1</th>\n",
       "                        <td id=\"T_a3254d9a_107c_11eb_92cd_00e0201808a0row1_col0\" class=\"data row1 col0\" >0.8614</td>\n",
       "                        <td id=\"T_a3254d9a_107c_11eb_92cd_00e0201808a0row1_col1\" class=\"data row1 col1\" >0.9191</td>\n",
       "                        <td id=\"T_a3254d9a_107c_11eb_92cd_00e0201808a0row1_col2\" class=\"data row1 col2\" >0.6602</td>\n",
       "                        <td id=\"T_a3254d9a_107c_11eb_92cd_00e0201808a0row1_col3\" class=\"data row1 col3\" >0.7391</td>\n",
       "                        <td id=\"T_a3254d9a_107c_11eb_92cd_00e0201808a0row1_col4\" class=\"data row1 col4\" >0.6974</td>\n",
       "                        <td id=\"T_a3254d9a_107c_11eb_92cd_00e0201808a0row1_col5\" class=\"data row1 col5\" >0.6079</td>\n",
       "                        <td id=\"T_a3254d9a_107c_11eb_92cd_00e0201808a0row1_col6\" class=\"data row1 col6\" >0.6095</td>\n",
       "            </tr>\n",
       "            <tr>\n",
       "                        <th id=\"T_a3254d9a_107c_11eb_92cd_00e0201808a0level0_row2\" class=\"row_heading level0 row2\" >2</th>\n",
       "                        <td id=\"T_a3254d9a_107c_11eb_92cd_00e0201808a0row2_col0\" class=\"data row2 col0\" >0.8614</td>\n",
       "                        <td id=\"T_a3254d9a_107c_11eb_92cd_00e0201808a0row2_col1\" class=\"data row2 col1\" >0.9161</td>\n",
       "                        <td id=\"T_a3254d9a_107c_11eb_92cd_00e0201808a0row2_col2\" class=\"data row2 col2\" >0.6602</td>\n",
       "                        <td id=\"T_a3254d9a_107c_11eb_92cd_00e0201808a0row2_col3\" class=\"data row2 col3\" >0.7391</td>\n",
       "                        <td id=\"T_a3254d9a_107c_11eb_92cd_00e0201808a0row2_col4\" class=\"data row2 col4\" >0.6974</td>\n",
       "                        <td id=\"T_a3254d9a_107c_11eb_92cd_00e0201808a0row2_col5\" class=\"data row2 col5\" >0.6079</td>\n",
       "                        <td id=\"T_a3254d9a_107c_11eb_92cd_00e0201808a0row2_col6\" class=\"data row2 col6\" >0.6095</td>\n",
       "            </tr>\n",
       "            <tr>\n",
       "                        <th id=\"T_a3254d9a_107c_11eb_92cd_00e0201808a0level0_row3\" class=\"row_heading level0 row3\" >3</th>\n",
       "                        <td id=\"T_a3254d9a_107c_11eb_92cd_00e0201808a0row3_col0\" class=\"data row3 col0\" >0.8574</td>\n",
       "                        <td id=\"T_a3254d9a_107c_11eb_92cd_00e0201808a0row3_col1\" class=\"data row3 col1\" >0.9120</td>\n",
       "                        <td id=\"T_a3254d9a_107c_11eb_92cd_00e0201808a0row3_col2\" class=\"data row3 col2\" >0.6169</td>\n",
       "                        <td id=\"T_a3254d9a_107c_11eb_92cd_00e0201808a0row3_col3\" class=\"data row3 col3\" >0.7480</td>\n",
       "                        <td id=\"T_a3254d9a_107c_11eb_92cd_00e0201808a0row3_col4\" class=\"data row3 col4\" >0.6762</td>\n",
       "                        <td id=\"T_a3254d9a_107c_11eb_92cd_00e0201808a0row3_col5\" class=\"data row3 col5\" >0.5858</td>\n",
       "                        <td id=\"T_a3254d9a_107c_11eb_92cd_00e0201808a0row3_col6\" class=\"data row3 col6\" >0.5903</td>\n",
       "            </tr>\n",
       "            <tr>\n",
       "                        <th id=\"T_a3254d9a_107c_11eb_92cd_00e0201808a0level0_row4\" class=\"row_heading level0 row4\" >4</th>\n",
       "                        <td id=\"T_a3254d9a_107c_11eb_92cd_00e0201808a0row4_col0\" class=\"data row4 col0\" >0.8503</td>\n",
       "                        <td id=\"T_a3254d9a_107c_11eb_92cd_00e0201808a0row4_col1\" class=\"data row4 col1\" >0.9091</td>\n",
       "                        <td id=\"T_a3254d9a_107c_11eb_92cd_00e0201808a0row4_col2\" class=\"data row4 col2\" >0.6052</td>\n",
       "                        <td id=\"T_a3254d9a_107c_11eb_92cd_00e0201808a0row4_col3\" class=\"data row4 col3\" >0.7305</td>\n",
       "                        <td id=\"T_a3254d9a_107c_11eb_92cd_00e0201808a0row4_col4\" class=\"data row4 col4\" >0.6619</td>\n",
       "                        <td id=\"T_a3254d9a_107c_11eb_92cd_00e0201808a0row4_col5\" class=\"data row4 col5\" >0.5669</td>\n",
       "                        <td id=\"T_a3254d9a_107c_11eb_92cd_00e0201808a0row4_col6\" class=\"data row4 col6\" >0.5710</td>\n",
       "            </tr>\n",
       "            <tr>\n",
       "                        <th id=\"T_a3254d9a_107c_11eb_92cd_00e0201808a0level0_row5\" class=\"row_heading level0 row5\" >5</th>\n",
       "                        <td id=\"T_a3254d9a_107c_11eb_92cd_00e0201808a0row5_col0\" class=\"data row5 col0\" >0.8699</td>\n",
       "                        <td id=\"T_a3254d9a_107c_11eb_92cd_00e0201808a0row5_col1\" class=\"data row5 col1\" >0.9311</td>\n",
       "                        <td id=\"T_a3254d9a_107c_11eb_92cd_00e0201808a0row5_col2\" class=\"data row5 col2\" >0.6667</td>\n",
       "                        <td id=\"T_a3254d9a_107c_11eb_92cd_00e0201808a0row5_col3\" class=\"data row5 col3\" >0.7658</td>\n",
       "                        <td id=\"T_a3254d9a_107c_11eb_92cd_00e0201808a0row5_col4\" class=\"data row5 col4\" >0.7128</td>\n",
       "                        <td id=\"T_a3254d9a_107c_11eb_92cd_00e0201808a0row5_col5\" class=\"data row5 col5\" >0.6292</td>\n",
       "                        <td id=\"T_a3254d9a_107c_11eb_92cd_00e0201808a0row5_col6\" class=\"data row5 col6\" >0.6318</td>\n",
       "            </tr>\n",
       "            <tr>\n",
       "                        <th id=\"T_a3254d9a_107c_11eb_92cd_00e0201808a0level0_row6\" class=\"row_heading level0 row6\" >6</th>\n",
       "                        <td id=\"T_a3254d9a_107c_11eb_92cd_00e0201808a0row6_col0\" class=\"data row6 col0\" >0.8824</td>\n",
       "                        <td id=\"T_a3254d9a_107c_11eb_92cd_00e0201808a0row6_col1\" class=\"data row6 col1\" >0.9357</td>\n",
       "                        <td id=\"T_a3254d9a_107c_11eb_92cd_00e0201808a0row6_col2\" class=\"data row6 col2\" >0.6634</td>\n",
       "                        <td id=\"T_a3254d9a_107c_11eb_92cd_00e0201808a0row6_col3\" class=\"data row6 col3\" >0.8167</td>\n",
       "                        <td id=\"T_a3254d9a_107c_11eb_92cd_00e0201808a0row6_col4\" class=\"data row6 col4\" >0.7321</td>\n",
       "                        <td id=\"T_a3254d9a_107c_11eb_92cd_00e0201808a0row6_col5\" class=\"data row6 col5\" >0.6579</td>\n",
       "                        <td id=\"T_a3254d9a_107c_11eb_92cd_00e0201808a0row6_col6\" class=\"data row6 col6\" >0.6637</td>\n",
       "            </tr>\n",
       "            <tr>\n",
       "                        <th id=\"T_a3254d9a_107c_11eb_92cd_00e0201808a0level0_row7\" class=\"row_heading level0 row7\" >7</th>\n",
       "                        <td id=\"T_a3254d9a_107c_11eb_92cd_00e0201808a0row7_col0\" class=\"data row7 col0\" >0.8605</td>\n",
       "                        <td id=\"T_a3254d9a_107c_11eb_92cd_00e0201808a0row7_col1\" class=\"data row7 col1\" >0.9196</td>\n",
       "                        <td id=\"T_a3254d9a_107c_11eb_92cd_00e0201808a0row7_col2\" class=\"data row7 col2\" >0.6278</td>\n",
       "                        <td id=\"T_a3254d9a_107c_11eb_92cd_00e0201808a0row7_col3\" class=\"data row7 col3\" >0.7549</td>\n",
       "                        <td id=\"T_a3254d9a_107c_11eb_92cd_00e0201808a0row7_col4\" class=\"data row7 col4\" >0.6855</td>\n",
       "                        <td id=\"T_a3254d9a_107c_11eb_92cd_00e0201808a0row7_col5\" class=\"data row7 col5\" >0.5969</td>\n",
       "                        <td id=\"T_a3254d9a_107c_11eb_92cd_00e0201808a0row7_col6\" class=\"data row7 col6\" >0.6010</td>\n",
       "            </tr>\n",
       "            <tr>\n",
       "                        <th id=\"T_a3254d9a_107c_11eb_92cd_00e0201808a0level0_row8\" class=\"row_heading level0 row8\" >8</th>\n",
       "                        <td id=\"T_a3254d9a_107c_11eb_92cd_00e0201808a0row8_col0\" class=\"data row8 col0\" >0.8715</td>\n",
       "                        <td id=\"T_a3254d9a_107c_11eb_92cd_00e0201808a0row8_col1\" class=\"data row8 col1\" >0.9240</td>\n",
       "                        <td id=\"T_a3254d9a_107c_11eb_92cd_00e0201808a0row8_col2\" class=\"data row8 col2\" >0.6440</td>\n",
       "                        <td id=\"T_a3254d9a_107c_11eb_92cd_00e0201808a0row8_col3\" class=\"data row8 col3\" >0.7866</td>\n",
       "                        <td id=\"T_a3254d9a_107c_11eb_92cd_00e0201808a0row8_col4\" class=\"data row8 col4\" >0.7082</td>\n",
       "                        <td id=\"T_a3254d9a_107c_11eb_92cd_00e0201808a0row8_col5\" class=\"data row8 col5\" >0.6268</td>\n",
       "                        <td id=\"T_a3254d9a_107c_11eb_92cd_00e0201808a0row8_col6\" class=\"data row8 col6\" >0.6320</td>\n",
       "            </tr>\n",
       "            <tr>\n",
       "                        <th id=\"T_a3254d9a_107c_11eb_92cd_00e0201808a0level0_row9\" class=\"row_heading level0 row9\" >9</th>\n",
       "                        <td id=\"T_a3254d9a_107c_11eb_92cd_00e0201808a0row9_col0\" class=\"data row9 col0\" >0.8683</td>\n",
       "                        <td id=\"T_a3254d9a_107c_11eb_92cd_00e0201808a0row9_col1\" class=\"data row9 col1\" >0.9187</td>\n",
       "                        <td id=\"T_a3254d9a_107c_11eb_92cd_00e0201808a0row9_col2\" class=\"data row9 col2\" >0.6634</td>\n",
       "                        <td id=\"T_a3254d9a_107c_11eb_92cd_00e0201808a0row9_col3\" class=\"data row9 col3\" >0.7621</td>\n",
       "                        <td id=\"T_a3254d9a_107c_11eb_92cd_00e0201808a0row9_col4\" class=\"data row9 col4\" >0.7093</td>\n",
       "                        <td id=\"T_a3254d9a_107c_11eb_92cd_00e0201808a0row9_col5\" class=\"data row9 col5\" >0.6248</td>\n",
       "                        <td id=\"T_a3254d9a_107c_11eb_92cd_00e0201808a0row9_col6\" class=\"data row9 col6\" >0.6273</td>\n",
       "            </tr>\n",
       "            <tr>\n",
       "                        <th id=\"T_a3254d9a_107c_11eb_92cd_00e0201808a0level0_row10\" class=\"row_heading level0 row10\" >Mean</th>\n",
       "                        <td id=\"T_a3254d9a_107c_11eb_92cd_00e0201808a0row10_col0\" class=\"data row10 col0\" >0.8646</td>\n",
       "                        <td id=\"T_a3254d9a_107c_11eb_92cd_00e0201808a0row10_col1\" class=\"data row10 col1\" >0.9206</td>\n",
       "                        <td id=\"T_a3254d9a_107c_11eb_92cd_00e0201808a0row10_col2\" class=\"data row10 col2\" >0.6432</td>\n",
       "                        <td id=\"T_a3254d9a_107c_11eb_92cd_00e0201808a0row10_col3\" class=\"data row10 col3\" >0.7609</td>\n",
       "                        <td id=\"T_a3254d9a_107c_11eb_92cd_00e0201808a0row10_col4\" class=\"data row10 col4\" >0.6969</td>\n",
       "                        <td id=\"T_a3254d9a_107c_11eb_92cd_00e0201808a0row10_col5\" class=\"data row10 col5\" >0.6105</td>\n",
       "                        <td id=\"T_a3254d9a_107c_11eb_92cd_00e0201808a0row10_col6\" class=\"data row10 col6\" >0.6143</td>\n",
       "            </tr>\n",
       "            <tr>\n",
       "                        <th id=\"T_a3254d9a_107c_11eb_92cd_00e0201808a0level0_row11\" class=\"row_heading level0 row11\" >SD</th>\n",
       "                        <td id=\"T_a3254d9a_107c_11eb_92cd_00e0201808a0row11_col0\" class=\"data row11 col0\" >0.0084</td>\n",
       "                        <td id=\"T_a3254d9a_107c_11eb_92cd_00e0201808a0row11_col1\" class=\"data row11 col1\" >0.0076</td>\n",
       "                        <td id=\"T_a3254d9a_107c_11eb_92cd_00e0201808a0row11_col2\" class=\"data row11 col2\" >0.0216</td>\n",
       "                        <td id=\"T_a3254d9a_107c_11eb_92cd_00e0201808a0row11_col3\" class=\"data row11 col3\" >0.0243</td>\n",
       "                        <td id=\"T_a3254d9a_107c_11eb_92cd_00e0201808a0row11_col4\" class=\"data row11 col4\" >0.0191</td>\n",
       "                        <td id=\"T_a3254d9a_107c_11eb_92cd_00e0201808a0row11_col5\" class=\"data row11 col5\" >0.0242</td>\n",
       "                        <td id=\"T_a3254d9a_107c_11eb_92cd_00e0201808a0row11_col6\" class=\"data row11 col6\" >0.0244</td>\n",
       "            </tr>\n",
       "    </tbody></table>"
      ],
      "text/plain": [
       "<pandas.io.formats.style.Styler at 0x236eae41c08>"
      ]
     },
     "metadata": {},
     "output_type": "display_data"
    }
   ],
   "source": [
    "lightgbm = create_model('lightgbm')"
   ]
  },
  {
   "cell_type": "code",
   "execution_count": 21,
   "metadata": {},
   "outputs": [
    {
     "data": {
      "image/png": "[encoded data removed]",
      "text/plain": [
       "<Figure size 800x500 with 1 Axes>"
      ]
     },
     "metadata": {
      "needs_background": "light"
     },
     "output_type": "display_data"
    }
   ],
   "source": [
    "plot_model(estimator = lightgbm, plot = 'feature')"
   ]
  },
  {
   "cell_type": "code",
   "execution_count": null,
   "metadata": {},
   "outputs": [],
   "source": []
  }
 ],
 "metadata": {
  "kernelspec": {
   "display_name": "Python 3",
   "language": "python",
   "name": "python3"
  },
  "language_info": {
   "codemirror_mode": {
    "name": "ipython",
    "version": 3
   },
   "file_extension": ".py",
   "mimetype": "text/x-python",
   "name": "python",
   "nbconvert_exporter": "python",
   "pygments_lexer": "ipython3",
   "version": "3.7.6"
  }
 },
 "nbformat": 4,
 "nbformat_minor": 4
}
