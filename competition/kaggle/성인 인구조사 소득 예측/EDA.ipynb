{
 "cells": [
  {
   "cell_type": "code",
   "execution_count": 1,
   "metadata": {},
   "outputs": [],
   "source": [
    "import numpy as np\n",
    "import pandas as pd\n",
    "import matplotlib.pyplot as plt\n",
    "import seaborn as sns\n",
    "import warnings\n",
    "warnings.filterwarnings('ignore')\n",
    "%matplotlib inline\n",
    "\n",
    "from IPython.core.interactiveshell import InteractiveShell\n",
    "InteractiveShell.ast_node_interactivity = \"all\"\n",
    "\n",
    "np.random.seed(42)\n",
    "\n",
    "from sklearn.model_selection import train_test_split\n",
    "import lightgbm as lgbm\n",
    "from sklearn.metrics import confusion_matrix, accuracy_score"
   ]
  },
  {
   "cell_type": "markdown",
   "metadata": {},
   "source": [
    "# 1. 데이터 로드"
   ]
  },
  {
   "cell_type": "code",
   "execution_count": 2,
   "metadata": {},
   "outputs": [],
   "source": [
    "train=pd.read_csv('input/train.csv', index_col=0) #인덱스 col=0도 check!\n",
    "test=pd.read_csv('input/test.csv', index_col=0)\n",
    "submission=pd.read_csv('input/sample_submission.csv', index_col=0)  "
   ]
  },
  {
   "cell_type": "code",
   "execution_count": 3,
   "metadata": {},
   "outputs": [],
   "source": [
    "train['income']=pd.factorize(train['income'], sort=True)[0]"
   ]
  },
  {
   "cell_type": "code",
   "execution_count": 4,
   "metadata": {},
   "outputs": [],
   "source": [
    "train.drop(['education'],axis=1, inplace=True)\n",
    "test.drop(['education'],axis=1, inplace=True)"
   ]
  },
  {
   "cell_type": "code",
   "execution_count": null,
   "metadata": {},
   "outputs": [],
   "source": [
    "train.education.value_counts()"
   ]
  },
  {
   "cell_type": "code",
   "execution_count": null,
   "metadata": {},
   "outputs": [],
   "source": [
    "train.education_num.value_counts()"
   ]
  },
  {
   "cell_type": "code",
   "execution_count": null,
   "metadata": {},
   "outputs": [],
   "source": [
    "train.shape, test.shape, submission.shape\n",
    "train.head(3)\n",
    "test.head(3)\n",
    "submission.head(3)"
   ]
  },
  {
   "cell_type": "code",
   "execution_count": null,
   "metadata": {},
   "outputs": [],
   "source": [
    "train.fnlwgt.sort_values()"
   ]
  },
  {
   "cell_type": "code",
   "execution_count": 20,
   "metadata": {},
   "outputs": [
    {
     "data": {
      "text/html": [
       "<div>\n",
       "<style scoped>\n",
       "    .dataframe tbody tr th:only-of-type {\n",
       "        vertical-align: middle;\n",
       "    }\n",
       "\n",
       "    .dataframe tbody tr th {\n",
       "        vertical-align: top;\n",
       "    }\n",
       "\n",
       "    .dataframe thead th {\n",
       "        text-align: right;\n",
       "    }\n",
       "</style>\n",
       "<table border=\"1\" class=\"dataframe\">\n",
       "  <thead>\n",
       "    <tr style=\"text-align: right;\">\n",
       "      <th></th>\n",
       "      <th>age</th>\n",
       "      <th>workclass</th>\n",
       "      <th>fnlwgt</th>\n",
       "      <th>education_num</th>\n",
       "      <th>marital_status</th>\n",
       "      <th>occupation</th>\n",
       "      <th>relationship</th>\n",
       "      <th>race</th>\n",
       "      <th>sex</th>\n",
       "      <th>capital_gain</th>\n",
       "      <th>capital_loss</th>\n",
       "      <th>hours_per_week</th>\n",
       "      <th>native_country</th>\n",
       "      <th>income</th>\n",
       "      <th>imsi</th>\n",
       "      <th>imsi2</th>\n",
       "    </tr>\n",
       "  </thead>\n",
       "  <tbody>\n",
       "    <tr>\n",
       "      <th>count</th>\n",
       "      <td>26049.000000</td>\n",
       "      <td>26049.000000</td>\n",
       "      <td>2.604900e+04</td>\n",
       "      <td>26049.000000</td>\n",
       "      <td>26049.000000</td>\n",
       "      <td>26049.000000</td>\n",
       "      <td>26049.000000</td>\n",
       "      <td>26049.000000</td>\n",
       "      <td>26049.000000</td>\n",
       "      <td>26049.000000</td>\n",
       "      <td>26049.000000</td>\n",
       "      <td>26049.000000</td>\n",
       "      <td>26049.000000</td>\n",
       "      <td>26049.000000</td>\n",
       "      <td>2.604900e+04</td>\n",
       "      <td>26049.000000</td>\n",
       "    </tr>\n",
       "    <tr>\n",
       "      <th>mean</th>\n",
       "      <td>38.569235</td>\n",
       "      <td>3.862452</td>\n",
       "      <td>1.903045e+05</td>\n",
       "      <td>10.088372</td>\n",
       "      <td>2.615801</td>\n",
       "      <td>6.588046</td>\n",
       "      <td>1.448923</td>\n",
       "      <td>3.670928</td>\n",
       "      <td>0.671120</td>\n",
       "      <td>606.615669</td>\n",
       "      <td>87.732734</td>\n",
       "      <td>40.443126</td>\n",
       "      <td>35.812814</td>\n",
       "      <td>0.242044</td>\n",
       "      <td>2.741186e+04</td>\n",
       "      <td>0.242044</td>\n",
       "    </tr>\n",
       "    <tr>\n",
       "      <th>std</th>\n",
       "      <td>13.671489</td>\n",
       "      <td>1.463077</td>\n",
       "      <td>1.059663e+05</td>\n",
       "      <td>2.567610</td>\n",
       "      <td>1.505785</td>\n",
       "      <td>4.237671</td>\n",
       "      <td>1.607199</td>\n",
       "      <td>0.843915</td>\n",
       "      <td>0.469815</td>\n",
       "      <td>2582.037241</td>\n",
       "      <td>403.230205</td>\n",
       "      <td>12.361850</td>\n",
       "      <td>7.533400</td>\n",
       "      <td>0.428329</td>\n",
       "      <td>1.226250e+05</td>\n",
       "      <td>0.151912</td>\n",
       "    </tr>\n",
       "    <tr>\n",
       "      <th>min</th>\n",
       "      <td>17.000000</td>\n",
       "      <td>0.000000</td>\n",
       "      <td>1.376900e+04</td>\n",
       "      <td>1.000000</td>\n",
       "      <td>0.000000</td>\n",
       "      <td>0.000000</td>\n",
       "      <td>0.000000</td>\n",
       "      <td>0.000000</td>\n",
       "      <td>0.000000</td>\n",
       "      <td>0.000000</td>\n",
       "      <td>0.000000</td>\n",
       "      <td>1.000000</td>\n",
       "      <td>0.000000</td>\n",
       "      <td>0.000000</td>\n",
       "      <td>0.000000e+00</td>\n",
       "      <td>0.000000</td>\n",
       "    </tr>\n",
       "    <tr>\n",
       "      <th>25%</th>\n",
       "      <td>28.000000</td>\n",
       "      <td>4.000000</td>\n",
       "      <td>1.181080e+05</td>\n",
       "      <td>9.000000</td>\n",
       "      <td>2.000000</td>\n",
       "      <td>3.000000</td>\n",
       "      <td>0.000000</td>\n",
       "      <td>4.000000</td>\n",
       "      <td>0.000000</td>\n",
       "      <td>0.000000</td>\n",
       "      <td>0.000000</td>\n",
       "      <td>40.000000</td>\n",
       "      <td>38.000000</td>\n",
       "      <td>0.000000</td>\n",
       "      <td>0.000000e+00</td>\n",
       "      <td>0.126422</td>\n",
       "    </tr>\n",
       "    <tr>\n",
       "      <th>50%</th>\n",
       "      <td>37.000000</td>\n",
       "      <td>4.000000</td>\n",
       "      <td>1.788660e+05</td>\n",
       "      <td>10.000000</td>\n",
       "      <td>2.000000</td>\n",
       "      <td>7.000000</td>\n",
       "      <td>1.000000</td>\n",
       "      <td>4.000000</td>\n",
       "      <td>1.000000</td>\n",
       "      <td>0.000000</td>\n",
       "      <td>0.000000</td>\n",
       "      <td>40.000000</td>\n",
       "      <td>38.000000</td>\n",
       "      <td>0.000000</td>\n",
       "      <td>0.000000e+00</td>\n",
       "      <td>0.226242</td>\n",
       "    </tr>\n",
       "    <tr>\n",
       "      <th>75%</th>\n",
       "      <td>48.000000</td>\n",
       "      <td>4.000000</td>\n",
       "      <td>2.377350e+05</td>\n",
       "      <td>12.000000</td>\n",
       "      <td>4.000000</td>\n",
       "      <td>10.000000</td>\n",
       "      <td>3.000000</td>\n",
       "      <td>4.000000</td>\n",
       "      <td>1.000000</td>\n",
       "      <td>0.000000</td>\n",
       "      <td>0.000000</td>\n",
       "      <td>45.000000</td>\n",
       "      <td>38.000000</td>\n",
       "      <td>0.000000</td>\n",
       "      <td>0.000000e+00</td>\n",
       "      <td>0.451271</td>\n",
       "    </tr>\n",
       "    <tr>\n",
       "      <th>max</th>\n",
       "      <td>90.000000</td>\n",
       "      <td>8.000000</td>\n",
       "      <td>1.484705e+06</td>\n",
       "      <td>16.000000</td>\n",
       "      <td>6.000000</td>\n",
       "      <td>14.000000</td>\n",
       "      <td>5.000000</td>\n",
       "      <td>4.000000</td>\n",
       "      <td>1.000000</td>\n",
       "      <td>41310.000000</td>\n",
       "      <td>4356.000000</td>\n",
       "      <td>99.000000</td>\n",
       "      <td>40.000000</td>\n",
       "      <td>1.000000</td>\n",
       "      <td>2.045700e+06</td>\n",
       "      <td>0.490758</td>\n",
       "    </tr>\n",
       "  </tbody>\n",
       "</table>\n",
       "</div>"
      ],
      "text/plain": [
       "                age     workclass        fnlwgt  education_num  \\\n",
       "count  26049.000000  26049.000000  2.604900e+04   26049.000000   \n",
       "mean      38.569235      3.862452  1.903045e+05      10.088372   \n",
       "std       13.671489      1.463077  1.059663e+05       2.567610   \n",
       "min       17.000000      0.000000  1.376900e+04       1.000000   \n",
       "25%       28.000000      4.000000  1.181080e+05       9.000000   \n",
       "50%       37.000000      4.000000  1.788660e+05      10.000000   \n",
       "75%       48.000000      4.000000  2.377350e+05      12.000000   \n",
       "max       90.000000      8.000000  1.484705e+06      16.000000   \n",
       "\n",
       "       marital_status    occupation  relationship          race           sex  \\\n",
       "count    26049.000000  26049.000000  26049.000000  26049.000000  26049.000000   \n",
       "mean         2.615801      6.588046      1.448923      3.670928      0.671120   \n",
       "std          1.505785      4.237671      1.607199      0.843915      0.469815   \n",
       "min          0.000000      0.000000      0.000000      0.000000      0.000000   \n",
       "25%          2.000000      3.000000      0.000000      4.000000      0.000000   \n",
       "50%          2.000000      7.000000      1.000000      4.000000      1.000000   \n",
       "75%          4.000000     10.000000      3.000000      4.000000      1.000000   \n",
       "max          6.000000     14.000000      5.000000      4.000000      1.000000   \n",
       "\n",
       "       capital_gain  capital_loss  hours_per_week  native_country  \\\n",
       "count  26049.000000  26049.000000    26049.000000    26049.000000   \n",
       "mean     606.615669     87.732734       40.443126       35.812814   \n",
       "std     2582.037241    403.230205       12.361850        7.533400   \n",
       "min        0.000000      0.000000        1.000000        0.000000   \n",
       "25%        0.000000      0.000000       40.000000       38.000000   \n",
       "50%        0.000000      0.000000       40.000000       38.000000   \n",
       "75%        0.000000      0.000000       45.000000       38.000000   \n",
       "max    41310.000000   4356.000000       99.000000       40.000000   \n",
       "\n",
       "             income          imsi         imsi2  \n",
       "count  26049.000000  2.604900e+04  26049.000000  \n",
       "mean       0.242044  2.741186e+04      0.242044  \n",
       "std        0.428329  1.226250e+05      0.151912  \n",
       "min        0.000000  0.000000e+00      0.000000  \n",
       "25%        0.000000  0.000000e+00      0.126422  \n",
       "50%        0.000000  0.000000e+00      0.226242  \n",
       "75%        0.000000  0.000000e+00      0.451271  \n",
       "max        1.000000  2.045700e+06      0.490758  "
      ]
     },
     "execution_count": 20,
     "metadata": {},
     "output_type": "execute_result"
    },
    {
     "data": {
      "text/html": [
       "<div>\n",
       "<style scoped>\n",
       "    .dataframe tbody tr th:only-of-type {\n",
       "        vertical-align: middle;\n",
       "    }\n",
       "\n",
       "    .dataframe tbody tr th {\n",
       "        vertical-align: top;\n",
       "    }\n",
       "\n",
       "    .dataframe thead th {\n",
       "        text-align: right;\n",
       "    }\n",
       "</style>\n",
       "<table border=\"1\" class=\"dataframe\">\n",
       "  <thead>\n",
       "    <tr style=\"text-align: right;\">\n",
       "      <th></th>\n",
       "      <th>age</th>\n",
       "      <th>workclass</th>\n",
       "      <th>fnlwgt</th>\n",
       "      <th>education_num</th>\n",
       "      <th>marital_status</th>\n",
       "      <th>occupation</th>\n",
       "      <th>relationship</th>\n",
       "      <th>race</th>\n",
       "      <th>sex</th>\n",
       "      <th>capital_gain</th>\n",
       "      <th>capital_loss</th>\n",
       "      <th>hours_per_week</th>\n",
       "      <th>native_country</th>\n",
       "      <th>imsi</th>\n",
       "      <th>imsi2</th>\n",
       "    </tr>\n",
       "  </thead>\n",
       "  <tbody>\n",
       "    <tr>\n",
       "      <th>count</th>\n",
       "      <td>6512.000000</td>\n",
       "      <td>6512.000000</td>\n",
       "      <td>6.512000e+03</td>\n",
       "      <td>6512.000000</td>\n",
       "      <td>6512.000000</td>\n",
       "      <td>6512.000000</td>\n",
       "      <td>6512.000000</td>\n",
       "      <td>6512.000000</td>\n",
       "      <td>6512.000000</td>\n",
       "      <td>6512.000000</td>\n",
       "      <td>6512.000000</td>\n",
       "      <td>6512.000000</td>\n",
       "      <td>6512.000000</td>\n",
       "      <td>6.512000e+03</td>\n",
       "      <td>6512.000000</td>\n",
       "    </tr>\n",
       "    <tr>\n",
       "      <th>mean</th>\n",
       "      <td>38.631296</td>\n",
       "      <td>3.894656</td>\n",
       "      <td>1.876738e+05</td>\n",
       "      <td>10.049908</td>\n",
       "      <td>2.595977</td>\n",
       "      <td>6.511517</td>\n",
       "      <td>1.436118</td>\n",
       "      <td>3.645577</td>\n",
       "      <td>0.661548</td>\n",
       "      <td>553.656821</td>\n",
       "      <td>85.588145</td>\n",
       "      <td>40.414773</td>\n",
       "      <td>36.527488</td>\n",
       "      <td>2.413235e+04</td>\n",
       "      <td>0.241274</td>\n",
       "    </tr>\n",
       "    <tr>\n",
       "      <th>std</th>\n",
       "      <td>13.516418</td>\n",
       "      <td>1.426957</td>\n",
       "      <td>1.038493e+05</td>\n",
       "      <td>2.593033</td>\n",
       "      <td>1.507979</td>\n",
       "      <td>4.193176</td>\n",
       "      <td>1.605140</td>\n",
       "      <td>0.867863</td>\n",
       "      <td>0.473219</td>\n",
       "      <td>2444.595142</td>\n",
       "      <td>401.904741</td>\n",
       "      <td>12.290491</td>\n",
       "      <td>8.203834</td>\n",
       "      <td>1.113721e+05</td>\n",
       "      <td>0.152675</td>\n",
       "    </tr>\n",
       "    <tr>\n",
       "      <th>min</th>\n",
       "      <td>17.000000</td>\n",
       "      <td>0.000000</td>\n",
       "      <td>1.228500e+04</td>\n",
       "      <td>1.000000</td>\n",
       "      <td>0.000000</td>\n",
       "      <td>0.000000</td>\n",
       "      <td>0.000000</td>\n",
       "      <td>0.000000</td>\n",
       "      <td>0.000000</td>\n",
       "      <td>0.000000</td>\n",
       "      <td>0.000000</td>\n",
       "      <td>1.000000</td>\n",
       "      <td>0.000000</td>\n",
       "      <td>0.000000e+00</td>\n",
       "      <td>0.000000</td>\n",
       "    </tr>\n",
       "    <tr>\n",
       "      <th>25%</th>\n",
       "      <td>28.000000</td>\n",
       "      <td>4.000000</td>\n",
       "      <td>1.165042e+05</td>\n",
       "      <td>9.000000</td>\n",
       "      <td>2.000000</td>\n",
       "      <td>3.000000</td>\n",
       "      <td>0.000000</td>\n",
       "      <td>4.000000</td>\n",
       "      <td>0.000000</td>\n",
       "      <td>0.000000</td>\n",
       "      <td>0.000000</td>\n",
       "      <td>40.000000</td>\n",
       "      <td>39.000000</td>\n",
       "      <td>0.000000e+00</td>\n",
       "      <td>0.126422</td>\n",
       "    </tr>\n",
       "    <tr>\n",
       "      <th>50%</th>\n",
       "      <td>37.000000</td>\n",
       "      <td>4.000000</td>\n",
       "      <td>1.768820e+05</td>\n",
       "      <td>10.000000</td>\n",
       "      <td>2.000000</td>\n",
       "      <td>6.000000</td>\n",
       "      <td>1.000000</td>\n",
       "      <td>4.000000</td>\n",
       "      <td>1.000000</td>\n",
       "      <td>0.000000</td>\n",
       "      <td>0.000000</td>\n",
       "      <td>40.000000</td>\n",
       "      <td>39.000000</td>\n",
       "      <td>0.000000e+00</td>\n",
       "      <td>0.226242</td>\n",
       "    </tr>\n",
       "    <tr>\n",
       "      <th>75%</th>\n",
       "      <td>48.000000</td>\n",
       "      <td>4.000000</td>\n",
       "      <td>2.358508e+05</td>\n",
       "      <td>12.000000</td>\n",
       "      <td>4.000000</td>\n",
       "      <td>10.000000</td>\n",
       "      <td>3.000000</td>\n",
       "      <td>4.000000</td>\n",
       "      <td>1.000000</td>\n",
       "      <td>0.000000</td>\n",
       "      <td>0.000000</td>\n",
       "      <td>45.000000</td>\n",
       "      <td>39.000000</td>\n",
       "      <td>0.000000e+00</td>\n",
       "      <td>0.451271</td>\n",
       "    </tr>\n",
       "    <tr>\n",
       "      <th>max</th>\n",
       "      <td>90.000000</td>\n",
       "      <td>8.000000</td>\n",
       "      <td>1.125613e+06</td>\n",
       "      <td>16.000000</td>\n",
       "      <td>6.000000</td>\n",
       "      <td>14.000000</td>\n",
       "      <td>5.000000</td>\n",
       "      <td>4.000000</td>\n",
       "      <td>1.000000</td>\n",
       "      <td>41310.000000</td>\n",
       "      <td>4356.000000</td>\n",
       "      <td>99.000000</td>\n",
       "      <td>41.000000</td>\n",
       "      <td>2.065500e+06</td>\n",
       "      <td>0.490758</td>\n",
       "    </tr>\n",
       "  </tbody>\n",
       "</table>\n",
       "</div>"
      ],
      "text/plain": [
       "               age    workclass        fnlwgt  education_num  marital_status  \\\n",
       "count  6512.000000  6512.000000  6.512000e+03    6512.000000     6512.000000   \n",
       "mean     38.631296     3.894656  1.876738e+05      10.049908        2.595977   \n",
       "std      13.516418     1.426957  1.038493e+05       2.593033        1.507979   \n",
       "min      17.000000     0.000000  1.228500e+04       1.000000        0.000000   \n",
       "25%      28.000000     4.000000  1.165042e+05       9.000000        2.000000   \n",
       "50%      37.000000     4.000000  1.768820e+05      10.000000        2.000000   \n",
       "75%      48.000000     4.000000  2.358508e+05      12.000000        4.000000   \n",
       "max      90.000000     8.000000  1.125613e+06      16.000000        6.000000   \n",
       "\n",
       "        occupation  relationship         race          sex  capital_gain  \\\n",
       "count  6512.000000   6512.000000  6512.000000  6512.000000   6512.000000   \n",
       "mean      6.511517      1.436118     3.645577     0.661548    553.656821   \n",
       "std       4.193176      1.605140     0.867863     0.473219   2444.595142   \n",
       "min       0.000000      0.000000     0.000000     0.000000      0.000000   \n",
       "25%       3.000000      0.000000     4.000000     0.000000      0.000000   \n",
       "50%       6.000000      1.000000     4.000000     1.000000      0.000000   \n",
       "75%      10.000000      3.000000     4.000000     1.000000      0.000000   \n",
       "max      14.000000      5.000000     4.000000     1.000000  41310.000000   \n",
       "\n",
       "       capital_loss  hours_per_week  native_country          imsi        imsi2  \n",
       "count   6512.000000     6512.000000     6512.000000  6.512000e+03  6512.000000  \n",
       "mean      85.588145       40.414773       36.527488  2.413235e+04     0.241274  \n",
       "std      401.904741       12.290491        8.203834  1.113721e+05     0.152675  \n",
       "min        0.000000        1.000000        0.000000  0.000000e+00     0.000000  \n",
       "25%        0.000000       40.000000       39.000000  0.000000e+00     0.126422  \n",
       "50%        0.000000       40.000000       39.000000  0.000000e+00     0.226242  \n",
       "75%        0.000000       45.000000       39.000000  0.000000e+00     0.451271  \n",
       "max     4356.000000       99.000000       41.000000  2.065500e+06     0.490758  "
      ]
     },
     "execution_count": 20,
     "metadata": {},
     "output_type": "execute_result"
    }
   ],
   "source": [
    "train.describe()\n",
    "test.describe()"
   ]
  },
  {
   "cell_type": "code",
   "execution_count": null,
   "metadata": {},
   "outputs": [],
   "source": [
    "train.describe(include='O')\n",
    "test.describe(include='O')"
   ]
  },
  {
   "cell_type": "code",
   "execution_count": null,
   "metadata": {
    "scrolled": true
   },
   "outputs": [],
   "source": [
    "train.native_country.value_counts()"
   ]
  },
  {
   "cell_type": "code",
   "execution_count": null,
   "metadata": {
    "scrolled": true
   },
   "outputs": [],
   "source": [
    "test.native_country.value_counts()"
   ]
  },
  {
   "cell_type": "code",
   "execution_count": null,
   "metadata": {},
   "outputs": [],
   "source": [
    "train.groupby('native_country')['income'].mean().sort_values()"
   ]
  },
  {
   "cell_type": "code",
   "execution_count": null,
   "metadata": {
    "scrolled": true
   },
   "outputs": [],
   "source": [
    "sns.distplot(train.hours_per_week)"
   ]
  },
  {
   "cell_type": "code",
   "execution_count": null,
   "metadata": {},
   "outputs": [],
   "source": [
    "sns.distplot(test.hours_per_week)"
   ]
  },
  {
   "cell_type": "code",
   "execution_count": null,
   "metadata": {},
   "outputs": [],
   "source": [
    "train.hours_per_week.max(), test.hours_per_week.max()"
   ]
  },
  {
   "cell_type": "code",
   "execution_count": null,
   "metadata": {},
   "outputs": [],
   "source": [
    "train[train.hours_per_week == 99].corr()"
   ]
  },
  {
   "cell_type": "markdown",
   "metadata": {},
   "source": [
    "# 2. EDA & 전처리"
   ]
  },
  {
   "cell_type": "markdown",
   "metadata": {},
   "source": [
    "### 공통 함수 "
   ]
  },
  {
   "cell_type": "code",
   "execution_count": 5,
   "metadata": {},
   "outputs": [],
   "source": [
    "def distplots(col):\n",
    "    f, ax = plt.subplots(1,2, figsize=(16,5))\n",
    "    sns.distplot(train[col], ax=ax[0])\n",
    "    sns.distplot(test[col], ax=ax[1])"
   ]
  },
  {
   "cell_type": "code",
   "execution_count": 6,
   "metadata": {},
   "outputs": [],
   "source": [
    "def boxplots(col):\n",
    "    f, ax = plt.subplots(1,2, figsize=(16,5))\n",
    "    sns.boxplot(train[col], ax=ax[0])\n",
    "    sns.boxplot(test[col], ax=ax[1])"
   ]
  },
  {
   "cell_type": "code",
   "execution_count": 7,
   "metadata": {},
   "outputs": [],
   "source": [
    "def kdeplots(col):\n",
    "    fig, ax = plt.subplots(1, 1, figsize=(9, 5))\n",
    "    sns.kdeplot(train[train['income'] == 0][col], ax=ax, bw=1.5)\n",
    "    sns.kdeplot(train[train['income'] == 1][col], ax=ax, bw=1.5)\n",
    "    plt.legend(['income == 0', 'income == 1'])\n",
    "    plt.show()"
   ]
  },
  {
   "cell_type": "code",
   "execution_count": 8,
   "metadata": {},
   "outputs": [],
   "source": [
    "def value_counts(col):\n",
    "    print(train[col].value_counts(), '\\n')\n",
    "    print(test[col].value_counts())"
   ]
  },
  {
   "cell_type": "code",
   "execution_count": 9,
   "metadata": {},
   "outputs": [],
   "source": [
    "def fn_ratio(col):\n",
    "    print(train.groupby(col)['income'].mean())"
   ]
  },
  {
   "cell_type": "code",
   "execution_count": 10,
   "metadata": {},
   "outputs": [
    {
     "data": {
      "text/plain": [
       "Index(['age', 'workclass', 'fnlwgt', 'education_num', 'marital_status',\n",
       "       'occupation', 'relationship', 'race', 'sex', 'capital_gain',\n",
       "       'capital_loss', 'hours_per_week', 'native_country'],\n",
       "      dtype='object')"
      ]
     },
     "execution_count": 10,
     "metadata": {},
     "output_type": "execute_result"
    }
   ],
   "source": [
    "test.columns"
   ]
  },
  {
   "cell_type": "code",
   "execution_count": null,
   "metadata": {},
   "outputs": [],
   "source": [
    "sns.pairplot(train)"
   ]
  },
  {
   "cell_type": "code",
   "execution_count": null,
   "metadata": {
    "scrolled": false
   },
   "outputs": [],
   "source": [
    "for f in ['age', 'workclass', 'fnlwgt', 'education_num',\n",
    "       'marital_status', 'occupation', 'relationship', 'race', 'sex',\n",
    "       'capital_gain', 'capital_loss', 'hours_per_week', 'native_country'\n",
    "         ]:\n",
    "    sns.lmplot(x=f, y=\"income\", data=train)    "
   ]
  },
  {
   "cell_type": "code",
   "execution_count": 12,
   "metadata": {},
   "outputs": [],
   "source": [
    "train['imsi'] = train.capital_gain*train.hours_per_week#*train.capital_loss\n",
    "test['imsi'] = test.capital_gain*test.hours_per_week#*train.capital_loss"
   ]
  },
  {
   "cell_type": "code",
   "execution_count": null,
   "metadata": {},
   "outputs": [],
   "source": [
    "train['capital_plus'] = train.capital_gain + train.capital_loss\n",
    "train['capital_minus'] = train.capital_gain - train.capital_loss\n",
    "train['imsi2'] = train.capital_plus*train.capital_minus\n",
    "train['imsi3'] = train.capital_loss*train.education_num\n",
    "\n",
    "for f in ['imsi3','capital_gain', 'capital_loss','imsi','imsi2']:\n",
    "    kdeplots(f)"
   ]
  },
  {
   "cell_type": "code",
   "execution_count": null,
   "metadata": {},
   "outputs": [],
   "source": []
  },
  {
   "cell_type": "code",
   "execution_count": null,
   "metadata": {
    "scrolled": true
   },
   "outputs": [],
   "source": [
    "for f in ['age','education_num','imsi']:\n",
    "    kdeplots(f)"
   ]
  },
  {
   "cell_type": "code",
   "execution_count": 32,
   "metadata": {
    "scrolled": false
   },
   "outputs": [],
   "source": [
    "train.loc[train['capital_gain'] > 3000, 'capital_gain'] = 596.0242247798003\n",
    "test.loc[test['capital_gain'] > 3000, 'capital_gain'] = 596.0242247798003"
   ]
  },
  {
   "cell_type": "code",
   "execution_count": 34,
   "metadata": {},
   "outputs": [
    {
     "data": {
      "text/plain": [
       "<AxesSubplot:xlabel='capital_gain'>"
      ]
     },
     "execution_count": 34,
     "metadata": {},
     "output_type": "execute_result"
    },
    {
     "data": {
      "text/plain": [
       "74.38494502078524"
      ]
     },
     "execution_count": 34,
     "metadata": {},
     "output_type": "execute_result"
    },
    {
     "data": {
      "image/png": "[encoded data removed]",
      "text/plain": [
       "<Figure size 432x288 with 1 Axes>"
      ]
     },
     "metadata": {
      "needs_background": "light"
     },
     "output_type": "display_data"
    }
   ],
   "source": [
    "df = pd.concat([train, test])\n",
    "sns.boxplot(df['capital_gain'])\n",
    "df.capital_gain.mean()"
   ]
  },
  {
   "cell_type": "code",
   "execution_count": 30,
   "metadata": {},
   "outputs": [
    {
     "data": {
      "image/png": "[encoded data removed]",
      "text/plain": [
       "<Figure size 1152x360 with 2 Axes>"
      ]
     },
     "metadata": {
      "needs_background": "light"
     },
     "output_type": "display_data"
    }
   ],
   "source": [
    "boxplots('capital_gain')"
   ]
  },
  {
   "cell_type": "code",
   "execution_count": 33,
   "metadata": {},
   "outputs": [
    {
     "data": {
      "image/png": "[encoded data removed]",
      "text/plain": [
       "<Figure size 1152x360 with 2 Axes>"
      ]
     },
     "metadata": {
      "needs_background": "light"
     },
     "output_type": "display_data"
    }
   ],
   "source": [
    "boxplots('capital_gain')"
   ]
  },
  {
   "cell_type": "code",
   "execution_count": null,
   "metadata": {},
   "outputs": [],
   "source": [
    "var = 800000\n",
    "train.loc[train['fnlwgt'] > var, 'fnlwgt'] = var + np.random.randint(0,1000)\n",
    "test.loc[test['fnlwgt'] > var, 'fnlwgt'] = var + np.random.randint(0,1000)"
   ]
  },
  {
   "cell_type": "code",
   "execution_count": null,
   "metadata": {},
   "outputs": [],
   "source": [
    "boxplots('fnlwgt')"
   ]
  },
  {
   "cell_type": "code",
   "execution_count": null,
   "metadata": {},
   "outputs": [],
   "source": [
    "df = pd.concat([train, test])\n",
    "df.shape"
   ]
  },
  {
   "cell_type": "code",
   "execution_count": null,
   "metadata": {},
   "outputs": [],
   "source": [
    "train.info()"
   ]
  },
  {
   "cell_type": "markdown",
   "metadata": {},
   "source": [
    "## Missing Value"
   ]
  },
  {
   "cell_type": "code",
   "execution_count": null,
   "metadata": {},
   "outputs": [],
   "source": [
    "train.isnull().sum().sum()\n",
    "test.isnull().sum().sum()"
   ]
  },
  {
   "cell_type": "code",
   "execution_count": null,
   "metadata": {},
   "outputs": [],
   "source": []
  },
  {
   "cell_type": "markdown",
   "metadata": {},
   "source": [
    "## Target 분포"
   ]
  },
  {
   "cell_type": "code",
   "execution_count": null,
   "metadata": {},
   "outputs": [],
   "source": [
    "f, ax = plt.subplots(1, 2, figsize=(10, 4))\n",
    "\n",
    "train['income'].value_counts().plot.pie(autopct='%1.1f%%', ax=ax[0], shadow=True)\n",
    "sns.countplot('income', data=train, ax=ax[1])\n",
    "\n",
    "plt.show()\n",
    "\n",
    "# 균일"
   ]
  },
  {
   "cell_type": "code",
   "execution_count": null,
   "metadata": {},
   "outputs": [],
   "source": [
    "pd.factorize(train['workclass'], sort=True)[1]\n",
    "pd.factorize(test['workclass'], sort=True)[1]\n",
    "\n",
    "pd.factorize(train['marital_status'], sort=True)[1]\n",
    "pd.factorize(test['marital_status'], sort=True)[1]\n",
    "\n",
    "pd.factorize(train['occupation'], sort=True)[1]\n",
    "pd.factorize(test['occupation'], sort=True)[1]\n",
    "\n",
    "pd.factorize(test['relationship'], sort=True)[1]\n",
    "pd.factorize(train['relationship'], sort=True)[1]\n",
    "\n",
    "pd.factorize(train['race'], sort=True)[1]\n",
    "pd.factorize(test['race'], sort=True)[1]\n",
    "\n",
    "pd.factorize(train['sex'], sort=True)[1]\n",
    "pd.factorize(test['sex'], sort=True)[1]\n",
    "\n",
    "pd.factorize(test['native_country'], sort=True)[1]\n",
    "pd.factorize(train['native_country'], sort=True)[1]"
   ]
  },
  {
   "cell_type": "code",
   "execution_count": null,
   "metadata": {},
   "outputs": [],
   "source": []
  },
  {
   "cell_type": "code",
   "execution_count": 13,
   "metadata": {},
   "outputs": [],
   "source": [
    "train['workclass']= pd.factorize(train['workclass'], sort=True)[0]\n",
    "#train['education']=pd.factorize(train['education'], sort=True)[0]\n",
    "train['marital_status']=pd.factorize(train['marital_status'], sort=True)[0]\n",
    "train['occupation']=pd.factorize(train['occupation'], sort=True)[0]\n",
    "train['relationship']=pd.factorize(train['relationship'], sort=True)[0]\n",
    "train['race']=pd.factorize(train['race'], sort=True)[0]\n",
    "train['sex']=pd.factorize(train['sex'], sort=True)[0]\n",
    "train['native_country']=pd.factorize(train['native_country'], sort=True)[0]\n",
    "\n",
    "test['workclass']=pd.factorize(test['workclass'], sort=True)[0]\n",
    "#test['education']=pd.factorize(test['education'], sort=True)[0]\n",
    "test['marital_status']=pd.factorize(test['marital_status'], sort=True)[0]\n",
    "test['occupation']=pd.factorize(test['occupation'], sort=True)[0]\n",
    "test['relationship']=pd.factorize(test['relationship'], sort=True)[0]\n",
    "test['race']=pd.factorize(test['race'], sort=True)[0]\n",
    "test['sex']=pd.factorize(test['sex'], sort=True)[0]\n",
    "test['native_country']=pd.factorize(test['native_country'], sort=True)[0]"
   ]
  },
  {
   "cell_type": "code",
   "execution_count": null,
   "metadata": {},
   "outputs": [],
   "source": [
    "train['income']=pd.factorize(train['income'], sort=True)[0]"
   ]
  },
  {
   "cell_type": "code",
   "execution_count": null,
   "metadata": {},
   "outputs": [],
   "source": []
  },
  {
   "cell_type": "code",
   "execution_count": null,
   "metadata": {},
   "outputs": [],
   "source": [
    "train['native_country'].replace(['Honduras','Holand-Netherlands','Outlying-US(Guam-USVI-etc)'],['H','H','H'],inplace=True)\n",
    "test['native_country'].replace(['Honduras','Holand-Netherlands','Outlying-US(Guam-USVI-etc)'],['H','H','H'],inplace=True)"
   ]
  },
  {
   "cell_type": "code",
   "execution_count": null,
   "metadata": {},
   "outputs": [],
   "source": [
    "train['marital_status'].replace(['Married-civ-spouse','Married-spouse-absent','Married-AF-spouse'],['Married','Married','Married'],inplace=True)\n",
    "test['marital_status'].replace(['Married-civ-spouse','Married-spouse-absent','Married-AF-spouse'],['Married','Married','Married'],inplace=True)"
   ]
  },
  {
   "cell_type": "code",
   "execution_count": null,
   "metadata": {},
   "outputs": [],
   "source": [
    "train.groupby('marital_status')['income'].mean()"
   ]
  },
  {
   "cell_type": "code",
   "execution_count": null,
   "metadata": {},
   "outputs": [],
   "source": [
    "train.groupby('marital_status')['income'].mean()"
   ]
  },
  {
   "cell_type": "code",
   "execution_count": null,
   "metadata": {
    "scrolled": false
   },
   "outputs": [],
   "source": [
    "for f in test.columns:\n",
    "    distplots(f)"
   ]
  },
  {
   "cell_type": "code",
   "execution_count": null,
   "metadata": {},
   "outputs": [],
   "source": [
    "train.shape"
   ]
  },
  {
   "cell_type": "code",
   "execution_count": null,
   "metadata": {},
   "outputs": [],
   "source": []
  },
  {
   "cell_type": "code",
   "execution_count": null,
   "metadata": {},
   "outputs": [],
   "source": [
    "train.fnlwgt.sort_values(ascending=False)[:10]\n",
    "test.fnlwgt.sort_values(ascending=False)[:10]"
   ]
  },
  {
   "cell_type": "code",
   "execution_count": null,
   "metadata": {},
   "outputs": [],
   "source": []
  },
  {
   "cell_type": "code",
   "execution_count": null,
   "metadata": {},
   "outputs": [],
   "source": [
    "idx = train.fnlwgt.sort_values(ascending=False)[:3].index\n",
    "train.drop(idx, axis=0, inplace=True)"
   ]
  },
  {
   "cell_type": "code",
   "execution_count": null,
   "metadata": {},
   "outputs": [],
   "source": [
    "train.shape"
   ]
  },
  {
   "cell_type": "code",
   "execution_count": null,
   "metadata": {},
   "outputs": [],
   "source": []
  },
  {
   "cell_type": "code",
   "execution_count": null,
   "metadata": {},
   "outputs": [],
   "source": [
    "#train.columns\n",
    "['age', 'workclass', 'fnlwgt', 'education', 'education_num',\n",
    "       'marital_status', 'occupation', 'relationship', 'race', 'sex',\n",
    "       'capital_gain', 'capital_loss', 'hours_per_week', 'native_country',\n",
    "       'income']"
   ]
  },
  {
   "cell_type": "code",
   "execution_count": 11,
   "metadata": {},
   "outputs": [],
   "source": [
    "df = pd.concat([train, test])\n",
    "\n",
    "df['capital_gain_imsi'] = df['capital_gain'].replace(99999,0)\n",
    "\n",
    "capital_gain_imsi = pd.DataFrame(df.groupby(['education_num'])['capital_gain_imsi'].mean()).reset_index()\n",
    "\n",
    "train = train.merge(capital_gain_imsi, on=['education_num'], how='left')\n",
    "test = test.merge(capital_gain_imsi, on=['education_num'], how='left')\n",
    "\n",
    "train.loc[train.capital_gain == 99999, 'capital_gain'] = train['capital_gain_imsi']\n",
    "test.loc[test.capital_gain == 99999, 'capital_gain'] = test['capital_gain_imsi']\n",
    "\n",
    "train.drop(['capital_gain_imsi'],axis=1, inplace=True)\n",
    "test.drop(['capital_gain_imsi'],axis=1, inplace=True)"
   ]
  },
  {
   "cell_type": "code",
   "execution_count": null,
   "metadata": {},
   "outputs": [],
   "source": [
    "sns.boxplot(train['capital_gain'])"
   ]
  },
  {
   "cell_type": "code",
   "execution_count": null,
   "metadata": {},
   "outputs": [],
   "source": [
    "sns.boxplot(test['capital_gain'])"
   ]
  },
  {
   "cell_type": "code",
   "execution_count": null,
   "metadata": {},
   "outputs": [],
   "source": [
    "train['capital_gain_income'] = train['capital_gain'] * train['income']"
   ]
  },
  {
   "cell_type": "code",
   "execution_count": null,
   "metadata": {},
   "outputs": [],
   "source": [
    "sns.boxplot(train['capital_gain_income'])"
   ]
  },
  {
   "cell_type": "code",
   "execution_count": 18,
   "metadata": {},
   "outputs": [],
   "source": [
    "df = pd.concat([train, test])\n",
    "\n",
    "income = pd.DataFrame(df.groupby(['occupation'])['income'].mean()).reset_index()\n",
    "income.columns = [\"occupation\",\"imsi2\"]\n",
    "train = train.merge(income, on=['occupation'], how='left')\n",
    "test = test.merge(income, on=['occupation'], how='left')"
   ]
  },
  {
   "cell_type": "code",
   "execution_count": 19,
   "metadata": {},
   "outputs": [
    {
     "data": {
      "text/plain": [
       "<Figure size 1296x864 with 0 Axes>"
      ]
     },
     "execution_count": 19,
     "metadata": {},
     "output_type": "execute_result"
    },
    {
     "data": {
      "text/plain": [
       "Text(0.5, 1.0, 'corr')"
      ]
     },
     "execution_count": 19,
     "metadata": {},
     "output_type": "execute_result"
    },
    {
     "data": {
      "text/plain": [
       "<AxesSubplot:title={'center':'corr'}>"
      ]
     },
     "execution_count": 19,
     "metadata": {},
     "output_type": "execute_result"
    },
    {
     "data": {
      "image/png": "[encoded data removed]",
      "text/plain": [
       "<Figure size 1296x864 with 2 Axes>"
      ]
     },
     "metadata": {
      "needs_background": "light"
     },
     "output_type": "display_data"
    }
   ],
   "source": [
    "corr = train.corr()\n",
    "\n",
    "mask = np.zeros_like(corr, dtype=np.bool)\n",
    "mask[np.triu_indices_from(mask)] = True\n",
    "plt.figure(figsize=(18, 12))\n",
    "plt.title('corr', fontsize=18)\n",
    "\n",
    "sns.heatmap(corr, mask=mask, annot=True,cmap='RdYlGn', linewidths=0.2, annot_kws={'size':10})\n",
    "plt.show()"
   ]
  },
  {
   "cell_type": "code",
   "execution_count": 17,
   "metadata": {},
   "outputs": [
    {
     "data": {
      "text/plain": [
       "income            1.000000\n",
       "education_num     0.334582\n",
       "capital_gain      0.315004\n",
       "imsi              0.309576\n",
       "relationship      0.249249\n",
       "hours_per_week    0.233726\n",
       "age               0.229292\n",
       "sex               0.213780\n",
       "marital_status    0.200213\n",
       "capital_loss      0.152537\n",
       "occupation        0.075156\n",
       "race              0.073473\n",
       "workclass         0.054292\n",
       "native_country    0.019633\n",
       "fnlwgt            0.007500\n",
       "Name: income, dtype: float64"
      ]
     },
     "execution_count": 17,
     "metadata": {},
     "output_type": "execute_result"
    }
   ],
   "source": [
    "corr['income'].abs().sort_values(ascending=False)"
   ]
  },
  {
   "cell_type": "code",
   "execution_count": null,
   "metadata": {},
   "outputs": [],
   "source": [
    "corr['workclass'].sort_values(ascending=False)\n",
    "train.workclass.value_counts()\n",
    "test.workclass.value_counts()"
   ]
  },
  {
   "cell_type": "code",
   "execution_count": null,
   "metadata": {},
   "outputs": [],
   "source": [
    "corr['occupation'].sort_values(ascending=False)\n",
    "train.occupation.value_counts()\n",
    "test.occupation.value_counts()"
   ]
  },
  {
   "cell_type": "code",
   "execution_count": null,
   "metadata": {},
   "outputs": [],
   "source": [
    "corr['native_country'].sort_values(ascending=False)\n",
    "train.native_country.value_counts()\n",
    "test.native_country.value_counts()"
   ]
  },
  {
   "cell_type": "code",
   "execution_count": null,
   "metadata": {},
   "outputs": [],
   "source": [
    "train_drop = train[~(train.native_country == '?')]\n",
    "df_native_country = pd.DataFrame(train_drop.groupby(['race','education_num','native_country'])['native_country'].count())\n",
    "df_native_country.columns = ['count']\n",
    "df_native_country = df_native_country.reset_index()\n",
    "df_native_country_max = pd.DataFrame(df_native_country.groupby(['race','education_num'])['count'].max()).reset_index()\n",
    "df_native_country_max = df_native_country_max.merge(df_native_country, on=['race','education_num','count'], how='inner').groupby(['race','education_num'])['count','native_country'].max().reset_index().drop('count',axis=1)\n",
    "train = train.merge(df_native_country_max, on=['race','education_num'], how='left')\n",
    "train.loc[train.native_country_x == '?','native_country_x'] = train['native_country_y']\n",
    "train = train.rename(columns={'native_country_x':'native_country'})\n",
    "train = train.drop('native_country_y', axis=1)\n",
    "train"
   ]
  },
  {
   "cell_type": "code",
   "execution_count": null,
   "metadata": {},
   "outputs": [],
   "source": [
    "df_native_country = pd.DataFrame(test.groupby(['race','education_num','native_country'])['native_country'].count())\n",
    "df_native_country.columns = ['count']\n",
    "df_native_country = df_native_country.reset_index()\n",
    "\n",
    "idx = df_native_country[(df_native_country.race=='Asian-Pac-Islander') & (df_native_country.education_num==8)& (df_native_country.native_country=='?')].index\n",
    "df_native_country.drop(idx, axis=0, inplace=True)\n",
    "\n",
    "df_native_country_max = pd.DataFrame(df_native_country.groupby(['race','education_num'])['count'].max()).reset_index()\n",
    "\n",
    "df_native_country_max = df_native_country_max.merge(df_native_country, on=['race','education_num','count'], how='inner').groupby(['race','education_num'])['count','native_country'].max().reset_index().drop('count',axis=1)\n",
    "test = test.merge(df_native_country_max, on=['race','education_num'], how='left')\n",
    "\n",
    "test.loc[test.native_country_x == '?','native_country_x'] = test['native_country_y'] \n",
    "\n",
    "test = test.rename(columns={'native_country_x':'native_country'})\n",
    "test = test.drop('native_country_y', axis=1)"
   ]
  },
  {
   "cell_type": "code",
   "execution_count": null,
   "metadata": {},
   "outputs": [],
   "source": [
    "df_native_country = pd.DataFrame(test.groupby(['race','education_num','native_country'])['native_country'].count())\n",
    "df_native_country.columns = ['count']\n",
    "df_native_country = df_native_country.reset_index()\n",
    "df_native_country"
   ]
  },
  {
   "cell_type": "code",
   "execution_count": null,
   "metadata": {},
   "outputs": [],
   "source": [
    "idx = df_native_country[(df_native_country.race=='Asian-Pac-Islander') & (df_native_country.education_num==8)& (df_native_country.native_country=='?')].index\n",
    "df_native_country.drop(idx, axis=0, inplace=True)\n",
    "df_native_country"
   ]
  },
  {
   "cell_type": "code",
   "execution_count": null,
   "metadata": {},
   "outputs": [],
   "source": []
  },
  {
   "cell_type": "code",
   "execution_count": null,
   "metadata": {},
   "outputs": [],
   "source": [
    "test.native_country.value_counts()"
   ]
  },
  {
   "cell_type": "code",
   "execution_count": null,
   "metadata": {},
   "outputs": [],
   "source": [
    "train.loc[train.native_country_x == '?','native_country_x'] = train['native_country_y'] "
   ]
  },
  {
   "cell_type": "code",
   "execution_count": null,
   "metadata": {},
   "outputs": [],
   "source": [
    "train = train.rename(columns={'native_country_x':'native_country'})\n",
    "train = train.drop('native_country_y', axis=1)\n",
    "train"
   ]
  },
  {
   "cell_type": "markdown",
   "metadata": {},
   "source": [
    "#### age_group"
   ]
  },
  {
   "cell_type": "code",
   "execution_count": null,
   "metadata": {},
   "outputs": [],
   "source": [
    "def cat_summary(col):\n",
    "    print('colname: ', col)\n",
    "    print(train[col].value_counts())\n",
    "    return pd.crosstab(train[col], train['voted0'], margins=True).style.background_gradient(cmap='summer_r')"
   ]
  },
  {
   "cell_type": "code",
   "execution_count": null,
   "metadata": {},
   "outputs": [],
   "source": [
    "def cat_plot(col):\n",
    "    print('colname: ', col)\n",
    "    return train[[col, 'voted0']].groupby([col], as_index=True).mean().sort_values(by='voted0', ascending=False).plot.bar()"
   ]
  },
  {
   "cell_type": "code",
   "execution_count": null,
   "metadata": {
    "scrolled": false
   },
   "outputs": [],
   "source": [
    "for f in meta[meta.gbn == 'cat'].index:\n",
    "    cat_summary(f)"
   ]
  },
  {
   "cell_type": "code",
   "execution_count": null,
   "metadata": {},
   "outputs": [],
   "source": [
    "for f in meta[meta.gbn == 'cat'].index:\n",
    "    cat_plot(f)"
   ]
  },
  {
   "cell_type": "code",
   "execution_count": null,
   "metadata": {},
   "outputs": [],
   "source": [
    "train.columns"
   ]
  },
  {
   "cell_type": "code",
   "execution_count": null,
   "metadata": {},
   "outputs": [],
   "source": [
    "train['imsi2'] = train.age*train.education_num\n",
    "kdeplots('imsi2')"
   ]
  },
  {
   "cell_type": "code",
   "execution_count": null,
   "metadata": {
    "scrolled": false
   },
   "outputs": [],
   "source": [
    "for f in test.columns:\n",
    "    kdeplots(f)"
   ]
  },
  {
   "cell_type": "code",
   "execution_count": null,
   "metadata": {},
   "outputs": [],
   "source": []
  },
  {
   "cell_type": "code",
   "execution_count": null,
   "metadata": {},
   "outputs": [],
   "source": [
    "train_nat = set(train.native_country)"
   ]
  },
  {
   "cell_type": "code",
   "execution_count": null,
   "metadata": {},
   "outputs": [],
   "source": [
    "test_nat = set(test.native_country)"
   ]
  },
  {
   "cell_type": "code",
   "execution_count": null,
   "metadata": {},
   "outputs": [],
   "source": [
    "test_nat-train_nat"
   ]
  },
  {
   "cell_type": "code",
   "execution_count": null,
   "metadata": {},
   "outputs": [],
   "source": [
    "train[train.native_country == 'Holand-Netherlands']"
   ]
  },
  {
   "cell_type": "code",
   "execution_count": null,
   "metadata": {},
   "outputs": [],
   "source": [
    "test[test.native_country == 'Holand-Netherlands']"
   ]
  },
  {
   "cell_type": "code",
   "execution_count": null,
   "metadata": {},
   "outputs": [],
   "source": [
    "train[(train.income == 1) & (train.capital_gain < 5000)]"
   ]
  },
  {
   "cell_type": "code",
   "execution_count": null,
   "metadata": {},
   "outputs": [],
   "source": [
    "train['imsi3']= train.occupation+train.education_num.astype('str')"
   ]
  },
  {
   "cell_type": "code",
   "execution_count": null,
   "metadata": {},
   "outputs": [],
   "source": [
    "train.groupby('imsi3')['income'].mean().sort_values(ascending=False)"
   ]
  }
 ],
 "metadata": {
  "kernelspec": {
   "display_name": "Python 3",
   "language": "python",
   "name": "python3"
  },
  "language_info": {
   "codemirror_mode": {
    "name": "ipython",
    "version": 3
   },
   "file_extension": ".py",
   "mimetype": "text/x-python",
   "name": "python",
   "nbconvert_exporter": "python",
   "pygments_lexer": "ipython3",
   "version": "3.7.6"
  }
 },
 "nbformat": 4,
 "nbformat_minor": 4
}
