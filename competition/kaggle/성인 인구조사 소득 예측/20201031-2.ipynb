{
 "cells": [
  {
   "cell_type": "code",
   "execution_count": 1,
   "metadata": {},
   "outputs": [],
   "source": [
    "import numpy as np\n",
    "import pandas as pd\n",
    "import matplotlib.pyplot as plt\n",
    "import seaborn as sns\n",
    "import warnings\n",
    "warnings.filterwarnings('ignore')\n",
    "%matplotlib inline\n",
    "\n",
    "from IPython.core.interactiveshell import InteractiveShell\n",
    "InteractiveShell.ast_node_interactivity = \"all\"\n",
    "\n",
    "from sklearn.preprocessing import PolynomialFeatures\n",
    "\n",
    "from sklearn.model_selection import train_test_split\n",
    "import lightgbm as lgbm\n",
    "from sklearn.metrics import confusion_matrix, accuracy_score\n",
    "from pycaret.classification import *"
   ]
  },
  {
   "cell_type": "code",
   "execution_count": 2,
   "metadata": {},
   "outputs": [],
   "source": [
    "seed = 42\n",
    "np.random.seed(seed)\n",
    "set_config('seed', seed)"
   ]
  },
  {
   "cell_type": "code",
   "execution_count": null,
   "metadata": {},
   "outputs": [],
   "source": []
  },
  {
   "cell_type": "markdown",
   "metadata": {},
   "source": [
    "# 1. 데이터 로드"
   ]
  },
  {
   "cell_type": "code",
   "execution_count": 3,
   "metadata": {},
   "outputs": [],
   "source": [
    "train=pd.read_csv('input/train.csv', index_col=0)#, na_values='?') #인덱스 col=0도 check!\n",
    "test=pd.read_csv('input/test.csv', index_col=0)#, na_values='?')\n",
    "submission=pd.read_csv('input/sample_submission.csv', index_col=0)  "
   ]
  },
  {
   "cell_type": "code",
   "execution_count": 4,
   "metadata": {},
   "outputs": [],
   "source": [
    "train['income']=pd.factorize(train['income'], sort=True)[0]"
   ]
  },
  {
   "cell_type": "markdown",
   "metadata": {},
   "source": [
    "# 2. EDA & 전처리"
   ]
  },
  {
   "cell_type": "markdown",
   "metadata": {},
   "source": [
    "## Missing Value"
   ]
  },
  {
   "cell_type": "markdown",
   "metadata": {},
   "source": [
    "### education"
   ]
  },
  {
   "cell_type": "code",
   "execution_count": 5,
   "metadata": {},
   "outputs": [],
   "source": [
    "train.drop(['education'],axis=1, inplace=True)\n",
    "test.drop(['education'],axis=1, inplace=True)"
   ]
  },
  {
   "cell_type": "code",
   "execution_count": null,
   "metadata": {},
   "outputs": [],
   "source": []
  },
  {
   "cell_type": "markdown",
   "metadata": {},
   "source": [
    "### capital_gain 99999"
   ]
  },
  {
   "cell_type": "code",
   "execution_count": 6,
   "metadata": {},
   "outputs": [],
   "source": [
    "df = pd.concat([train, test])\n",
    "df['capital_gain_imsi'] = df['capital_gain'].replace(99999,0)\n",
    "capital_gain_imsi = pd.DataFrame(df.groupby(['education_num'])['capital_gain_imsi'].mean()).reset_index()\n",
    "train = train.merge(capital_gain_imsi, on=['education_num'], how='left')\n",
    "test = test.merge(capital_gain_imsi, on=['education_num'], how='left')\n",
    "train.loc[train.capital_gain == 99999, 'capital_gain'] = train['capital_gain_imsi']\n",
    "test.loc[test.capital_gain == 99999, 'capital_gain'] = test['capital_gain_imsi']\n",
    "train.drop(['capital_gain_imsi'],axis=1, inplace=True)\n",
    "test.drop(['capital_gain_imsi'],axis=1, inplace=True)"
   ]
  },
  {
   "cell_type": "code",
   "execution_count": null,
   "metadata": {},
   "outputs": [],
   "source": []
  },
  {
   "cell_type": "code",
   "execution_count": 7,
   "metadata": {},
   "outputs": [],
   "source": [
    "train['imsi'] = train.capital_gain*train.hours_per_week#*train.capital_loss\n",
    "test['imsi'] = test.capital_gain*test.hours_per_week#*train.capital_loss"
   ]
  },
  {
   "cell_type": "code",
   "execution_count": 8,
   "metadata": {},
   "outputs": [],
   "source": [
    "train.loc[train['capital_loss'] > 3000, 'capital_loss'] = 87.303829734959\n",
    "test.loc[test['capital_loss'] > 3000, 'capital_loss'] = 87.303829734959"
   ]
  },
  {
   "cell_type": "markdown",
   "metadata": {},
   "source": [
    "# 3. 모델 학습"
   ]
  },
  {
   "cell_type": "code",
   "execution_count": null,
   "metadata": {},
   "outputs": [],
   "source": [
    "import gc\n",
    "gc.collect()"
   ]
  },
  {
   "cell_type": "code",
   "execution_count": null,
   "metadata": {},
   "outputs": [],
   "source": [
    "train.columns"
   ]
  },
  {
   "cell_type": "code",
   "execution_count": null,
   "metadata": {},
   "outputs": [],
   "source": []
  },
  {
   "cell_type": "code",
   "execution_count": 9,
   "metadata": {
    "scrolled": false
   },
   "outputs": [
    {
     "name": "stdout",
     "output_type": "stream",
     "text": [
      "Setup Succesfully Completed!\n"
     ]
    },
    {
     "data": {
      "text/html": [
       "<style  type=\"text/css\" >\n",
       "</style><table id=\"T_1667e9fe_1b47_11eb_b2d0_00e0201808a0\" ><thead>    <tr>        <th class=\"blank level0\" ></th>        <th class=\"col_heading level0 col0\" >Description</th>        <th class=\"col_heading level0 col1\" >Value</th>    </tr></thead><tbody>\n",
       "                <tr>\n",
       "                        <th id=\"T_1667e9fe_1b47_11eb_b2d0_00e0201808a0level0_row0\" class=\"row_heading level0 row0\" >0</th>\n",
       "                        <td id=\"T_1667e9fe_1b47_11eb_b2d0_00e0201808a0row0_col0\" class=\"data row0 col0\" >session_id</td>\n",
       "                        <td id=\"T_1667e9fe_1b47_11eb_b2d0_00e0201808a0row0_col1\" class=\"data row0 col1\" >42</td>\n",
       "            </tr>\n",
       "            <tr>\n",
       "                        <th id=\"T_1667e9fe_1b47_11eb_b2d0_00e0201808a0level0_row1\" class=\"row_heading level0 row1\" >1</th>\n",
       "                        <td id=\"T_1667e9fe_1b47_11eb_b2d0_00e0201808a0row1_col0\" class=\"data row1 col0\" >Target Type</td>\n",
       "                        <td id=\"T_1667e9fe_1b47_11eb_b2d0_00e0201808a0row1_col1\" class=\"data row1 col1\" >Binary</td>\n",
       "            </tr>\n",
       "            <tr>\n",
       "                        <th id=\"T_1667e9fe_1b47_11eb_b2d0_00e0201808a0level0_row2\" class=\"row_heading level0 row2\" >2</th>\n",
       "                        <td id=\"T_1667e9fe_1b47_11eb_b2d0_00e0201808a0row2_col0\" class=\"data row2 col0\" >Label Encoded</td>\n",
       "                        <td id=\"T_1667e9fe_1b47_11eb_b2d0_00e0201808a0row2_col1\" class=\"data row2 col1\" >0: 0, 1: 1</td>\n",
       "            </tr>\n",
       "            <tr>\n",
       "                        <th id=\"T_1667e9fe_1b47_11eb_b2d0_00e0201808a0level0_row3\" class=\"row_heading level0 row3\" >3</th>\n",
       "                        <td id=\"T_1667e9fe_1b47_11eb_b2d0_00e0201808a0row3_col0\" class=\"data row3 col0\" >Original Data</td>\n",
       "                        <td id=\"T_1667e9fe_1b47_11eb_b2d0_00e0201808a0row3_col1\" class=\"data row3 col1\" >(26049, 15)</td>\n",
       "            </tr>\n",
       "            <tr>\n",
       "                        <th id=\"T_1667e9fe_1b47_11eb_b2d0_00e0201808a0level0_row4\" class=\"row_heading level0 row4\" >4</th>\n",
       "                        <td id=\"T_1667e9fe_1b47_11eb_b2d0_00e0201808a0row4_col0\" class=\"data row4 col0\" >Missing Values </td>\n",
       "                        <td id=\"T_1667e9fe_1b47_11eb_b2d0_00e0201808a0row4_col1\" class=\"data row4 col1\" >False</td>\n",
       "            </tr>\n",
       "            <tr>\n",
       "                        <th id=\"T_1667e9fe_1b47_11eb_b2d0_00e0201808a0level0_row5\" class=\"row_heading level0 row5\" >5</th>\n",
       "                        <td id=\"T_1667e9fe_1b47_11eb_b2d0_00e0201808a0row5_col0\" class=\"data row5 col0\" >Numeric Features </td>\n",
       "                        <td id=\"T_1667e9fe_1b47_11eb_b2d0_00e0201808a0row5_col1\" class=\"data row5 col1\" >7</td>\n",
       "            </tr>\n",
       "            <tr>\n",
       "                        <th id=\"T_1667e9fe_1b47_11eb_b2d0_00e0201808a0level0_row6\" class=\"row_heading level0 row6\" >6</th>\n",
       "                        <td id=\"T_1667e9fe_1b47_11eb_b2d0_00e0201808a0row6_col0\" class=\"data row6 col0\" >Categorical Features </td>\n",
       "                        <td id=\"T_1667e9fe_1b47_11eb_b2d0_00e0201808a0row6_col1\" class=\"data row6 col1\" >7</td>\n",
       "            </tr>\n",
       "            <tr>\n",
       "                        <th id=\"T_1667e9fe_1b47_11eb_b2d0_00e0201808a0level0_row7\" class=\"row_heading level0 row7\" >7</th>\n",
       "                        <td id=\"T_1667e9fe_1b47_11eb_b2d0_00e0201808a0row7_col0\" class=\"data row7 col0\" >Ordinal Features </td>\n",
       "                        <td id=\"T_1667e9fe_1b47_11eb_b2d0_00e0201808a0row7_col1\" class=\"data row7 col1\" >False</td>\n",
       "            </tr>\n",
       "            <tr>\n",
       "                        <th id=\"T_1667e9fe_1b47_11eb_b2d0_00e0201808a0level0_row8\" class=\"row_heading level0 row8\" >8</th>\n",
       "                        <td id=\"T_1667e9fe_1b47_11eb_b2d0_00e0201808a0row8_col0\" class=\"data row8 col0\" >High Cardinality Features </td>\n",
       "                        <td id=\"T_1667e9fe_1b47_11eb_b2d0_00e0201808a0row8_col1\" class=\"data row8 col1\" >False</td>\n",
       "            </tr>\n",
       "            <tr>\n",
       "                        <th id=\"T_1667e9fe_1b47_11eb_b2d0_00e0201808a0level0_row9\" class=\"row_heading level0 row9\" >9</th>\n",
       "                        <td id=\"T_1667e9fe_1b47_11eb_b2d0_00e0201808a0row9_col0\" class=\"data row9 col0\" >High Cardinality Method </td>\n",
       "                        <td id=\"T_1667e9fe_1b47_11eb_b2d0_00e0201808a0row9_col1\" class=\"data row9 col1\" >None</td>\n",
       "            </tr>\n",
       "            <tr>\n",
       "                        <th id=\"T_1667e9fe_1b47_11eb_b2d0_00e0201808a0level0_row10\" class=\"row_heading level0 row10\" >10</th>\n",
       "                        <td id=\"T_1667e9fe_1b47_11eb_b2d0_00e0201808a0row10_col0\" class=\"data row10 col0\" >Sampled Data</td>\n",
       "                        <td id=\"T_1667e9fe_1b47_11eb_b2d0_00e0201808a0row10_col1\" class=\"data row10 col1\" >(18234, 15)</td>\n",
       "            </tr>\n",
       "            <tr>\n",
       "                        <th id=\"T_1667e9fe_1b47_11eb_b2d0_00e0201808a0level0_row11\" class=\"row_heading level0 row11\" >11</th>\n",
       "                        <td id=\"T_1667e9fe_1b47_11eb_b2d0_00e0201808a0row11_col0\" class=\"data row11 col0\" >Transformed Train Set</td>\n",
       "                        <td id=\"T_1667e9fe_1b47_11eb_b2d0_00e0201808a0row11_col1\" class=\"data row11 col1\" >(12763, 91)</td>\n",
       "            </tr>\n",
       "            <tr>\n",
       "                        <th id=\"T_1667e9fe_1b47_11eb_b2d0_00e0201808a0level0_row12\" class=\"row_heading level0 row12\" >12</th>\n",
       "                        <td id=\"T_1667e9fe_1b47_11eb_b2d0_00e0201808a0row12_col0\" class=\"data row12 col0\" >Transformed Test Set</td>\n",
       "                        <td id=\"T_1667e9fe_1b47_11eb_b2d0_00e0201808a0row12_col1\" class=\"data row12 col1\" >(5471, 91)</td>\n",
       "            </tr>\n",
       "            <tr>\n",
       "                        <th id=\"T_1667e9fe_1b47_11eb_b2d0_00e0201808a0level0_row13\" class=\"row_heading level0 row13\" >13</th>\n",
       "                        <td id=\"T_1667e9fe_1b47_11eb_b2d0_00e0201808a0row13_col0\" class=\"data row13 col0\" >Numeric Imputer </td>\n",
       "                        <td id=\"T_1667e9fe_1b47_11eb_b2d0_00e0201808a0row13_col1\" class=\"data row13 col1\" >mean</td>\n",
       "            </tr>\n",
       "            <tr>\n",
       "                        <th id=\"T_1667e9fe_1b47_11eb_b2d0_00e0201808a0level0_row14\" class=\"row_heading level0 row14\" >14</th>\n",
       "                        <td id=\"T_1667e9fe_1b47_11eb_b2d0_00e0201808a0row14_col0\" class=\"data row14 col0\" >Categorical Imputer </td>\n",
       "                        <td id=\"T_1667e9fe_1b47_11eb_b2d0_00e0201808a0row14_col1\" class=\"data row14 col1\" >constant</td>\n",
       "            </tr>\n",
       "            <tr>\n",
       "                        <th id=\"T_1667e9fe_1b47_11eb_b2d0_00e0201808a0level0_row15\" class=\"row_heading level0 row15\" >15</th>\n",
       "                        <td id=\"T_1667e9fe_1b47_11eb_b2d0_00e0201808a0row15_col0\" class=\"data row15 col0\" >Normalize </td>\n",
       "                        <td id=\"T_1667e9fe_1b47_11eb_b2d0_00e0201808a0row15_col1\" class=\"data row15 col1\" >False</td>\n",
       "            </tr>\n",
       "            <tr>\n",
       "                        <th id=\"T_1667e9fe_1b47_11eb_b2d0_00e0201808a0level0_row16\" class=\"row_heading level0 row16\" >16</th>\n",
       "                        <td id=\"T_1667e9fe_1b47_11eb_b2d0_00e0201808a0row16_col0\" class=\"data row16 col0\" >Normalize Method </td>\n",
       "                        <td id=\"T_1667e9fe_1b47_11eb_b2d0_00e0201808a0row16_col1\" class=\"data row16 col1\" >None</td>\n",
       "            </tr>\n",
       "            <tr>\n",
       "                        <th id=\"T_1667e9fe_1b47_11eb_b2d0_00e0201808a0level0_row17\" class=\"row_heading level0 row17\" >17</th>\n",
       "                        <td id=\"T_1667e9fe_1b47_11eb_b2d0_00e0201808a0row17_col0\" class=\"data row17 col0\" >Transformation </td>\n",
       "                        <td id=\"T_1667e9fe_1b47_11eb_b2d0_00e0201808a0row17_col1\" class=\"data row17 col1\" >False</td>\n",
       "            </tr>\n",
       "            <tr>\n",
       "                        <th id=\"T_1667e9fe_1b47_11eb_b2d0_00e0201808a0level0_row18\" class=\"row_heading level0 row18\" >18</th>\n",
       "                        <td id=\"T_1667e9fe_1b47_11eb_b2d0_00e0201808a0row18_col0\" class=\"data row18 col0\" >Transformation Method </td>\n",
       "                        <td id=\"T_1667e9fe_1b47_11eb_b2d0_00e0201808a0row18_col1\" class=\"data row18 col1\" >None</td>\n",
       "            </tr>\n",
       "            <tr>\n",
       "                        <th id=\"T_1667e9fe_1b47_11eb_b2d0_00e0201808a0level0_row19\" class=\"row_heading level0 row19\" >19</th>\n",
       "                        <td id=\"T_1667e9fe_1b47_11eb_b2d0_00e0201808a0row19_col0\" class=\"data row19 col0\" >PCA </td>\n",
       "                        <td id=\"T_1667e9fe_1b47_11eb_b2d0_00e0201808a0row19_col1\" class=\"data row19 col1\" >False</td>\n",
       "            </tr>\n",
       "            <tr>\n",
       "                        <th id=\"T_1667e9fe_1b47_11eb_b2d0_00e0201808a0level0_row20\" class=\"row_heading level0 row20\" >20</th>\n",
       "                        <td id=\"T_1667e9fe_1b47_11eb_b2d0_00e0201808a0row20_col0\" class=\"data row20 col0\" >PCA Method </td>\n",
       "                        <td id=\"T_1667e9fe_1b47_11eb_b2d0_00e0201808a0row20_col1\" class=\"data row20 col1\" >None</td>\n",
       "            </tr>\n",
       "            <tr>\n",
       "                        <th id=\"T_1667e9fe_1b47_11eb_b2d0_00e0201808a0level0_row21\" class=\"row_heading level0 row21\" >21</th>\n",
       "                        <td id=\"T_1667e9fe_1b47_11eb_b2d0_00e0201808a0row21_col0\" class=\"data row21 col0\" >PCA Components </td>\n",
       "                        <td id=\"T_1667e9fe_1b47_11eb_b2d0_00e0201808a0row21_col1\" class=\"data row21 col1\" >None</td>\n",
       "            </tr>\n",
       "            <tr>\n",
       "                        <th id=\"T_1667e9fe_1b47_11eb_b2d0_00e0201808a0level0_row22\" class=\"row_heading level0 row22\" >22</th>\n",
       "                        <td id=\"T_1667e9fe_1b47_11eb_b2d0_00e0201808a0row22_col0\" class=\"data row22 col0\" >Ignore Low Variance </td>\n",
       "                        <td id=\"T_1667e9fe_1b47_11eb_b2d0_00e0201808a0row22_col1\" class=\"data row22 col1\" >False</td>\n",
       "            </tr>\n",
       "            <tr>\n",
       "                        <th id=\"T_1667e9fe_1b47_11eb_b2d0_00e0201808a0level0_row23\" class=\"row_heading level0 row23\" >23</th>\n",
       "                        <td id=\"T_1667e9fe_1b47_11eb_b2d0_00e0201808a0row23_col0\" class=\"data row23 col0\" >Combine Rare Levels </td>\n",
       "                        <td id=\"T_1667e9fe_1b47_11eb_b2d0_00e0201808a0row23_col1\" class=\"data row23 col1\" >False</td>\n",
       "            </tr>\n",
       "            <tr>\n",
       "                        <th id=\"T_1667e9fe_1b47_11eb_b2d0_00e0201808a0level0_row24\" class=\"row_heading level0 row24\" >24</th>\n",
       "                        <td id=\"T_1667e9fe_1b47_11eb_b2d0_00e0201808a0row24_col0\" class=\"data row24 col0\" >Rare Level Threshold </td>\n",
       "                        <td id=\"T_1667e9fe_1b47_11eb_b2d0_00e0201808a0row24_col1\" class=\"data row24 col1\" >None</td>\n",
       "            </tr>\n",
       "            <tr>\n",
       "                        <th id=\"T_1667e9fe_1b47_11eb_b2d0_00e0201808a0level0_row25\" class=\"row_heading level0 row25\" >25</th>\n",
       "                        <td id=\"T_1667e9fe_1b47_11eb_b2d0_00e0201808a0row25_col0\" class=\"data row25 col0\" >Numeric Binning </td>\n",
       "                        <td id=\"T_1667e9fe_1b47_11eb_b2d0_00e0201808a0row25_col1\" class=\"data row25 col1\" >False</td>\n",
       "            </tr>\n",
       "            <tr>\n",
       "                        <th id=\"T_1667e9fe_1b47_11eb_b2d0_00e0201808a0level0_row26\" class=\"row_heading level0 row26\" >26</th>\n",
       "                        <td id=\"T_1667e9fe_1b47_11eb_b2d0_00e0201808a0row26_col0\" class=\"data row26 col0\" >Remove Outliers </td>\n",
       "                        <td id=\"T_1667e9fe_1b47_11eb_b2d0_00e0201808a0row26_col1\" class=\"data row26 col1\" >False</td>\n",
       "            </tr>\n",
       "            <tr>\n",
       "                        <th id=\"T_1667e9fe_1b47_11eb_b2d0_00e0201808a0level0_row27\" class=\"row_heading level0 row27\" >27</th>\n",
       "                        <td id=\"T_1667e9fe_1b47_11eb_b2d0_00e0201808a0row27_col0\" class=\"data row27 col0\" >Outliers Threshold </td>\n",
       "                        <td id=\"T_1667e9fe_1b47_11eb_b2d0_00e0201808a0row27_col1\" class=\"data row27 col1\" >None</td>\n",
       "            </tr>\n",
       "            <tr>\n",
       "                        <th id=\"T_1667e9fe_1b47_11eb_b2d0_00e0201808a0level0_row28\" class=\"row_heading level0 row28\" >28</th>\n",
       "                        <td id=\"T_1667e9fe_1b47_11eb_b2d0_00e0201808a0row28_col0\" class=\"data row28 col0\" >Remove Multicollinearity </td>\n",
       "                        <td id=\"T_1667e9fe_1b47_11eb_b2d0_00e0201808a0row28_col1\" class=\"data row28 col1\" >False</td>\n",
       "            </tr>\n",
       "            <tr>\n",
       "                        <th id=\"T_1667e9fe_1b47_11eb_b2d0_00e0201808a0level0_row29\" class=\"row_heading level0 row29\" >29</th>\n",
       "                        <td id=\"T_1667e9fe_1b47_11eb_b2d0_00e0201808a0row29_col0\" class=\"data row29 col0\" >Multicollinearity Threshold </td>\n",
       "                        <td id=\"T_1667e9fe_1b47_11eb_b2d0_00e0201808a0row29_col1\" class=\"data row29 col1\" >None</td>\n",
       "            </tr>\n",
       "            <tr>\n",
       "                        <th id=\"T_1667e9fe_1b47_11eb_b2d0_00e0201808a0level0_row30\" class=\"row_heading level0 row30\" >30</th>\n",
       "                        <td id=\"T_1667e9fe_1b47_11eb_b2d0_00e0201808a0row30_col0\" class=\"data row30 col0\" >Clustering </td>\n",
       "                        <td id=\"T_1667e9fe_1b47_11eb_b2d0_00e0201808a0row30_col1\" class=\"data row30 col1\" >False</td>\n",
       "            </tr>\n",
       "            <tr>\n",
       "                        <th id=\"T_1667e9fe_1b47_11eb_b2d0_00e0201808a0level0_row31\" class=\"row_heading level0 row31\" >31</th>\n",
       "                        <td id=\"T_1667e9fe_1b47_11eb_b2d0_00e0201808a0row31_col0\" class=\"data row31 col0\" >Clustering Iteration </td>\n",
       "                        <td id=\"T_1667e9fe_1b47_11eb_b2d0_00e0201808a0row31_col1\" class=\"data row31 col1\" >None</td>\n",
       "            </tr>\n",
       "            <tr>\n",
       "                        <th id=\"T_1667e9fe_1b47_11eb_b2d0_00e0201808a0level0_row32\" class=\"row_heading level0 row32\" >32</th>\n",
       "                        <td id=\"T_1667e9fe_1b47_11eb_b2d0_00e0201808a0row32_col0\" class=\"data row32 col0\" >Polynomial Features </td>\n",
       "                        <td id=\"T_1667e9fe_1b47_11eb_b2d0_00e0201808a0row32_col1\" class=\"data row32 col1\" >False</td>\n",
       "            </tr>\n",
       "            <tr>\n",
       "                        <th id=\"T_1667e9fe_1b47_11eb_b2d0_00e0201808a0level0_row33\" class=\"row_heading level0 row33\" >33</th>\n",
       "                        <td id=\"T_1667e9fe_1b47_11eb_b2d0_00e0201808a0row33_col0\" class=\"data row33 col0\" >Polynomial Degree </td>\n",
       "                        <td id=\"T_1667e9fe_1b47_11eb_b2d0_00e0201808a0row33_col1\" class=\"data row33 col1\" >None</td>\n",
       "            </tr>\n",
       "            <tr>\n",
       "                        <th id=\"T_1667e9fe_1b47_11eb_b2d0_00e0201808a0level0_row34\" class=\"row_heading level0 row34\" >34</th>\n",
       "                        <td id=\"T_1667e9fe_1b47_11eb_b2d0_00e0201808a0row34_col0\" class=\"data row34 col0\" >Trignometry Features </td>\n",
       "                        <td id=\"T_1667e9fe_1b47_11eb_b2d0_00e0201808a0row34_col1\" class=\"data row34 col1\" >False</td>\n",
       "            </tr>\n",
       "            <tr>\n",
       "                        <th id=\"T_1667e9fe_1b47_11eb_b2d0_00e0201808a0level0_row35\" class=\"row_heading level0 row35\" >35</th>\n",
       "                        <td id=\"T_1667e9fe_1b47_11eb_b2d0_00e0201808a0row35_col0\" class=\"data row35 col0\" >Polynomial Threshold </td>\n",
       "                        <td id=\"T_1667e9fe_1b47_11eb_b2d0_00e0201808a0row35_col1\" class=\"data row35 col1\" >None</td>\n",
       "            </tr>\n",
       "            <tr>\n",
       "                        <th id=\"T_1667e9fe_1b47_11eb_b2d0_00e0201808a0level0_row36\" class=\"row_heading level0 row36\" >36</th>\n",
       "                        <td id=\"T_1667e9fe_1b47_11eb_b2d0_00e0201808a0row36_col0\" class=\"data row36 col0\" >Group Features </td>\n",
       "                        <td id=\"T_1667e9fe_1b47_11eb_b2d0_00e0201808a0row36_col1\" class=\"data row36 col1\" >False</td>\n",
       "            </tr>\n",
       "            <tr>\n",
       "                        <th id=\"T_1667e9fe_1b47_11eb_b2d0_00e0201808a0level0_row37\" class=\"row_heading level0 row37\" >37</th>\n",
       "                        <td id=\"T_1667e9fe_1b47_11eb_b2d0_00e0201808a0row37_col0\" class=\"data row37 col0\" >Feature Selection </td>\n",
       "                        <td id=\"T_1667e9fe_1b47_11eb_b2d0_00e0201808a0row37_col1\" class=\"data row37 col1\" >False</td>\n",
       "            </tr>\n",
       "            <tr>\n",
       "                        <th id=\"T_1667e9fe_1b47_11eb_b2d0_00e0201808a0level0_row38\" class=\"row_heading level0 row38\" >38</th>\n",
       "                        <td id=\"T_1667e9fe_1b47_11eb_b2d0_00e0201808a0row38_col0\" class=\"data row38 col0\" >Features Selection Threshold </td>\n",
       "                        <td id=\"T_1667e9fe_1b47_11eb_b2d0_00e0201808a0row38_col1\" class=\"data row38 col1\" >None</td>\n",
       "            </tr>\n",
       "            <tr>\n",
       "                        <th id=\"T_1667e9fe_1b47_11eb_b2d0_00e0201808a0level0_row39\" class=\"row_heading level0 row39\" >39</th>\n",
       "                        <td id=\"T_1667e9fe_1b47_11eb_b2d0_00e0201808a0row39_col0\" class=\"data row39 col0\" >Feature Interaction </td>\n",
       "                        <td id=\"T_1667e9fe_1b47_11eb_b2d0_00e0201808a0row39_col1\" class=\"data row39 col1\" >False</td>\n",
       "            </tr>\n",
       "            <tr>\n",
       "                        <th id=\"T_1667e9fe_1b47_11eb_b2d0_00e0201808a0level0_row40\" class=\"row_heading level0 row40\" >40</th>\n",
       "                        <td id=\"T_1667e9fe_1b47_11eb_b2d0_00e0201808a0row40_col0\" class=\"data row40 col0\" >Feature Ratio </td>\n",
       "                        <td id=\"T_1667e9fe_1b47_11eb_b2d0_00e0201808a0row40_col1\" class=\"data row40 col1\" >False</td>\n",
       "            </tr>\n",
       "            <tr>\n",
       "                        <th id=\"T_1667e9fe_1b47_11eb_b2d0_00e0201808a0level0_row41\" class=\"row_heading level0 row41\" >41</th>\n",
       "                        <td id=\"T_1667e9fe_1b47_11eb_b2d0_00e0201808a0row41_col0\" class=\"data row41 col0\" >Interaction Threshold </td>\n",
       "                        <td id=\"T_1667e9fe_1b47_11eb_b2d0_00e0201808a0row41_col1\" class=\"data row41 col1\" >None</td>\n",
       "            </tr>\n",
       "            <tr>\n",
       "                        <th id=\"T_1667e9fe_1b47_11eb_b2d0_00e0201808a0level0_row42\" class=\"row_heading level0 row42\" >42</th>\n",
       "                        <td id=\"T_1667e9fe_1b47_11eb_b2d0_00e0201808a0row42_col0\" class=\"data row42 col0\" >Fix Imbalance</td>\n",
       "                        <td id=\"T_1667e9fe_1b47_11eb_b2d0_00e0201808a0row42_col1\" class=\"data row42 col1\" >False</td>\n",
       "            </tr>\n",
       "            <tr>\n",
       "                        <th id=\"T_1667e9fe_1b47_11eb_b2d0_00e0201808a0level0_row43\" class=\"row_heading level0 row43\" >43</th>\n",
       "                        <td id=\"T_1667e9fe_1b47_11eb_b2d0_00e0201808a0row43_col0\" class=\"data row43 col0\" >Fix Imbalance Method</td>\n",
       "                        <td id=\"T_1667e9fe_1b47_11eb_b2d0_00e0201808a0row43_col1\" class=\"data row43 col1\" >SMOTE</td>\n",
       "            </tr>\n",
       "    </tbody></table>"
      ],
      "text/plain": [
       "<pandas.io.formats.style.Styler at 0x260a0760a48>"
      ]
     },
     "metadata": {},
     "output_type": "display_data"
    },
    {
     "name": "stdout",
     "output_type": "stream",
     "text": [
      "Wall time: 16.6 s\n"
     ]
    }
   ],
   "source": [
    "%%time\n",
    "clf = setup(session_id=seed, \n",
    "            data = train, target = 'income'\n",
    "          #, categorical_features=col_cat\n",
    "          , numeric_features = ['education_num']\n",
    "          , ignore_features =['fnlwgt']\n",
    "           )"
   ]
  },
  {
   "cell_type": "code",
   "execution_count": 10,
   "metadata": {},
   "outputs": [
    {
     "data": {
      "text/html": [
       "<style  type=\"text/css\" >\n",
       "    #T_d5b5f6c2_1b47_11eb_9de1_00e0201808a0 th {\n",
       "          text-align: left;\n",
       "    }#T_d5b5f6c2_1b47_11eb_9de1_00e0201808a0row0_col0,#T_d5b5f6c2_1b47_11eb_9de1_00e0201808a0row0_col3,#T_d5b5f6c2_1b47_11eb_9de1_00e0201808a0row0_col4,#T_d5b5f6c2_1b47_11eb_9de1_00e0201808a0row1_col0,#T_d5b5f6c2_1b47_11eb_9de1_00e0201808a0row1_col1,#T_d5b5f6c2_1b47_11eb_9de1_00e0201808a0row1_col2,#T_d5b5f6c2_1b47_11eb_9de1_00e0201808a0row1_col3,#T_d5b5f6c2_1b47_11eb_9de1_00e0201808a0row1_col4,#T_d5b5f6c2_1b47_11eb_9de1_00e0201808a0row1_col5,#T_d5b5f6c2_1b47_11eb_9de1_00e0201808a0row1_col6,#T_d5b5f6c2_1b47_11eb_9de1_00e0201808a0row1_col7,#T_d5b5f6c2_1b47_11eb_9de1_00e0201808a0row2_col0,#T_d5b5f6c2_1b47_11eb_9de1_00e0201808a0row2_col1,#T_d5b5f6c2_1b47_11eb_9de1_00e0201808a0row2_col2,#T_d5b5f6c2_1b47_11eb_9de1_00e0201808a0row2_col4,#T_d5b5f6c2_1b47_11eb_9de1_00e0201808a0row2_col5,#T_d5b5f6c2_1b47_11eb_9de1_00e0201808a0row2_col6,#T_d5b5f6c2_1b47_11eb_9de1_00e0201808a0row2_col7,#T_d5b5f6c2_1b47_11eb_9de1_00e0201808a0row3_col0,#T_d5b5f6c2_1b47_11eb_9de1_00e0201808a0row3_col1,#T_d5b5f6c2_1b47_11eb_9de1_00e0201808a0row3_col2,#T_d5b5f6c2_1b47_11eb_9de1_00e0201808a0row3_col3,#T_d5b5f6c2_1b47_11eb_9de1_00e0201808a0row3_col5,#T_d5b5f6c2_1b47_11eb_9de1_00e0201808a0row3_col6,#T_d5b5f6c2_1b47_11eb_9de1_00e0201808a0row3_col7,#T_d5b5f6c2_1b47_11eb_9de1_00e0201808a0row4_col0,#T_d5b5f6c2_1b47_11eb_9de1_00e0201808a0row4_col1,#T_d5b5f6c2_1b47_11eb_9de1_00e0201808a0row4_col2,#T_d5b5f6c2_1b47_11eb_9de1_00e0201808a0row4_col3,#T_d5b5f6c2_1b47_11eb_9de1_00e0201808a0row4_col4,#T_d5b5f6c2_1b47_11eb_9de1_00e0201808a0row4_col5,#T_d5b5f6c2_1b47_11eb_9de1_00e0201808a0row4_col6,#T_d5b5f6c2_1b47_11eb_9de1_00e0201808a0row4_col7,#T_d5b5f6c2_1b47_11eb_9de1_00e0201808a0row5_col0,#T_d5b5f6c2_1b47_11eb_9de1_00e0201808a0row5_col1,#T_d5b5f6c2_1b47_11eb_9de1_00e0201808a0row5_col2,#T_d5b5f6c2_1b47_11eb_9de1_00e0201808a0row5_col3,#T_d5b5f6c2_1b47_11eb_9de1_00e0201808a0row5_col4,#T_d5b5f6c2_1b47_11eb_9de1_00e0201808a0row5_col5,#T_d5b5f6c2_1b47_11eb_9de1_00e0201808a0row5_col6,#T_d5b5f6c2_1b47_11eb_9de1_00e0201808a0row5_col7,#T_d5b5f6c2_1b47_11eb_9de1_00e0201808a0row6_col0,#T_d5b5f6c2_1b47_11eb_9de1_00e0201808a0row6_col1,#T_d5b5f6c2_1b47_11eb_9de1_00e0201808a0row6_col2,#T_d5b5f6c2_1b47_11eb_9de1_00e0201808a0row6_col3,#T_d5b5f6c2_1b47_11eb_9de1_00e0201808a0row6_col4,#T_d5b5f6c2_1b47_11eb_9de1_00e0201808a0row6_col5,#T_d5b5f6c2_1b47_11eb_9de1_00e0201808a0row6_col6,#T_d5b5f6c2_1b47_11eb_9de1_00e0201808a0row6_col7,#T_d5b5f6c2_1b47_11eb_9de1_00e0201808a0row7_col0,#T_d5b5f6c2_1b47_11eb_9de1_00e0201808a0row7_col1,#T_d5b5f6c2_1b47_11eb_9de1_00e0201808a0row7_col2,#T_d5b5f6c2_1b47_11eb_9de1_00e0201808a0row7_col3,#T_d5b5f6c2_1b47_11eb_9de1_00e0201808a0row7_col4,#T_d5b5f6c2_1b47_11eb_9de1_00e0201808a0row7_col5,#T_d5b5f6c2_1b47_11eb_9de1_00e0201808a0row7_col6,#T_d5b5f6c2_1b47_11eb_9de1_00e0201808a0row7_col7{\n",
       "            text-align:  left;\n",
       "        }#T_d5b5f6c2_1b47_11eb_9de1_00e0201808a0row0_col1,#T_d5b5f6c2_1b47_11eb_9de1_00e0201808a0row0_col2,#T_d5b5f6c2_1b47_11eb_9de1_00e0201808a0row0_col5,#T_d5b5f6c2_1b47_11eb_9de1_00e0201808a0row0_col6,#T_d5b5f6c2_1b47_11eb_9de1_00e0201808a0row0_col7,#T_d5b5f6c2_1b47_11eb_9de1_00e0201808a0row2_col3,#T_d5b5f6c2_1b47_11eb_9de1_00e0201808a0row3_col4{\n",
       "            background-color:  yellow;\n",
       "            text-align:  left;\n",
       "        }#T_d5b5f6c2_1b47_11eb_9de1_00e0201808a0row0_col8,#T_d5b5f6c2_1b47_11eb_9de1_00e0201808a0row1_col8,#T_d5b5f6c2_1b47_11eb_9de1_00e0201808a0row2_col8,#T_d5b5f6c2_1b47_11eb_9de1_00e0201808a0row3_col8,#T_d5b5f6c2_1b47_11eb_9de1_00e0201808a0row4_col8,#T_d5b5f6c2_1b47_11eb_9de1_00e0201808a0row5_col8,#T_d5b5f6c2_1b47_11eb_9de1_00e0201808a0row6_col8,#T_d5b5f6c2_1b47_11eb_9de1_00e0201808a0row7_col8{\n",
       "            background-color:  lightgrey;\n",
       "            text-align:  left;\n",
       "        }</style><table id=\"T_d5b5f6c2_1b47_11eb_9de1_00e0201808a0\" ><thead>    <tr>        <th class=\"blank level0\" ></th>        <th class=\"col_heading level0 col0\" >Model</th>        <th class=\"col_heading level0 col1\" >Accuracy</th>        <th class=\"col_heading level0 col2\" >AUC</th>        <th class=\"col_heading level0 col3\" >Recall</th>        <th class=\"col_heading level0 col4\" >Prec.</th>        <th class=\"col_heading level0 col5\" >F1</th>        <th class=\"col_heading level0 col6\" >Kappa</th>        <th class=\"col_heading level0 col7\" >MCC</th>        <th class=\"col_heading level0 col8\" >TT (Sec)</th>    </tr></thead><tbody>\n",
       "                <tr>\n",
       "                        <th id=\"T_d5b5f6c2_1b47_11eb_9de1_00e0201808a0level0_row0\" class=\"row_heading level0 row0\" >0</th>\n",
       "                        <td id=\"T_d5b5f6c2_1b47_11eb_9de1_00e0201808a0row0_col0\" class=\"data row0 col0\" >CatBoost Classifier</td>\n",
       "                        <td id=\"T_d5b5f6c2_1b47_11eb_9de1_00e0201808a0row0_col1\" class=\"data row0 col1\" >0.8674</td>\n",
       "                        <td id=\"T_d5b5f6c2_1b47_11eb_9de1_00e0201808a0row0_col2\" class=\"data row0 col2\" >0.9242</td>\n",
       "                        <td id=\"T_d5b5f6c2_1b47_11eb_9de1_00e0201808a0row0_col3\" class=\"data row0 col3\" >0.6384</td>\n",
       "                        <td id=\"T_d5b5f6c2_1b47_11eb_9de1_00e0201808a0row0_col4\" class=\"data row0 col4\" >0.7747</td>\n",
       "                        <td id=\"T_d5b5f6c2_1b47_11eb_9de1_00e0201808a0row0_col5\" class=\"data row0 col5\" >0.6996</td>\n",
       "                        <td id=\"T_d5b5f6c2_1b47_11eb_9de1_00e0201808a0row0_col6\" class=\"data row0 col6\" >0.6155</td>\n",
       "                        <td id=\"T_d5b5f6c2_1b47_11eb_9de1_00e0201808a0row0_col7\" class=\"data row0 col7\" >0.6205</td>\n",
       "                        <td id=\"T_d5b5f6c2_1b47_11eb_9de1_00e0201808a0row0_col8\" class=\"data row0 col8\" >10.7334</td>\n",
       "            </tr>\n",
       "            <tr>\n",
       "                        <th id=\"T_d5b5f6c2_1b47_11eb_9de1_00e0201808a0level0_row1\" class=\"row_heading level0 row1\" >1</th>\n",
       "                        <td id=\"T_d5b5f6c2_1b47_11eb_9de1_00e0201808a0row1_col0\" class=\"data row1 col0\" >Extreme Gradient Boosting</td>\n",
       "                        <td id=\"T_d5b5f6c2_1b47_11eb_9de1_00e0201808a0row1_col1\" class=\"data row1 col1\" >0.8648</td>\n",
       "                        <td id=\"T_d5b5f6c2_1b47_11eb_9de1_00e0201808a0row1_col2\" class=\"data row1 col2\" >0.9225</td>\n",
       "                        <td id=\"T_d5b5f6c2_1b47_11eb_9de1_00e0201808a0row1_col3\" class=\"data row1 col3\" >0.6487</td>\n",
       "                        <td id=\"T_d5b5f6c2_1b47_11eb_9de1_00e0201808a0row1_col4\" class=\"data row1 col4\" >0.7584</td>\n",
       "                        <td id=\"T_d5b5f6c2_1b47_11eb_9de1_00e0201808a0row1_col5\" class=\"data row1 col5\" >0.6991</td>\n",
       "                        <td id=\"T_d5b5f6c2_1b47_11eb_9de1_00e0201808a0row1_col6\" class=\"data row1 col6\" >0.6126</td>\n",
       "                        <td id=\"T_d5b5f6c2_1b47_11eb_9de1_00e0201808a0row1_col7\" class=\"data row1 col7\" >0.6159</td>\n",
       "                        <td id=\"T_d5b5f6c2_1b47_11eb_9de1_00e0201808a0row1_col8\" class=\"data row1 col8\" >2.1005</td>\n",
       "            </tr>\n",
       "            <tr>\n",
       "                        <th id=\"T_d5b5f6c2_1b47_11eb_9de1_00e0201808a0level0_row2\" class=\"row_heading level0 row2\" >2</th>\n",
       "                        <td id=\"T_d5b5f6c2_1b47_11eb_9de1_00e0201808a0row2_col0\" class=\"data row2 col0\" >Light Gradient Boosting Machine</td>\n",
       "                        <td id=\"T_d5b5f6c2_1b47_11eb_9de1_00e0201808a0row2_col1\" class=\"data row2 col1\" >0.8641</td>\n",
       "                        <td id=\"T_d5b5f6c2_1b47_11eb_9de1_00e0201808a0row2_col2\" class=\"data row2 col2\" >0.9224</td>\n",
       "                        <td id=\"T_d5b5f6c2_1b47_11eb_9de1_00e0201808a0row2_col3\" class=\"data row2 col3\" >0.6488</td>\n",
       "                        <td id=\"T_d5b5f6c2_1b47_11eb_9de1_00e0201808a0row2_col4\" class=\"data row2 col4\" >0.7559</td>\n",
       "                        <td id=\"T_d5b5f6c2_1b47_11eb_9de1_00e0201808a0row2_col5\" class=\"data row2 col5\" >0.6980</td>\n",
       "                        <td id=\"T_d5b5f6c2_1b47_11eb_9de1_00e0201808a0row2_col6\" class=\"data row2 col6\" >0.6110</td>\n",
       "                        <td id=\"T_d5b5f6c2_1b47_11eb_9de1_00e0201808a0row2_col7\" class=\"data row2 col7\" >0.6142</td>\n",
       "                        <td id=\"T_d5b5f6c2_1b47_11eb_9de1_00e0201808a0row2_col8\" class=\"data row2 col8\" >0.2651</td>\n",
       "            </tr>\n",
       "            <tr>\n",
       "                        <th id=\"T_d5b5f6c2_1b47_11eb_9de1_00e0201808a0level0_row3\" class=\"row_heading level0 row3\" >3</th>\n",
       "                        <td id=\"T_d5b5f6c2_1b47_11eb_9de1_00e0201808a0row3_col0\" class=\"data row3 col0\" >Gradient Boosting Classifier</td>\n",
       "                        <td id=\"T_d5b5f6c2_1b47_11eb_9de1_00e0201808a0row3_col1\" class=\"data row3 col1\" >0.8616</td>\n",
       "                        <td id=\"T_d5b5f6c2_1b47_11eb_9de1_00e0201808a0row3_col2\" class=\"data row3 col2\" >0.9182</td>\n",
       "                        <td id=\"T_d5b5f6c2_1b47_11eb_9de1_00e0201808a0row3_col3\" class=\"data row3 col3\" >0.6034</td>\n",
       "                        <td id=\"T_d5b5f6c2_1b47_11eb_9de1_00e0201808a0row3_col4\" class=\"data row3 col4\" >0.7749</td>\n",
       "                        <td id=\"T_d5b5f6c2_1b47_11eb_9de1_00e0201808a0row3_col5\" class=\"data row3 col5\" >0.6783</td>\n",
       "                        <td id=\"T_d5b5f6c2_1b47_11eb_9de1_00e0201808a0row3_col6\" class=\"data row3 col6\" >0.5919</td>\n",
       "                        <td id=\"T_d5b5f6c2_1b47_11eb_9de1_00e0201808a0row3_col7\" class=\"data row3 col7\" >0.5995</td>\n",
       "                        <td id=\"T_d5b5f6c2_1b47_11eb_9de1_00e0201808a0row3_col8\" class=\"data row3 col8\" >1.7491</td>\n",
       "            </tr>\n",
       "            <tr>\n",
       "                        <th id=\"T_d5b5f6c2_1b47_11eb_9de1_00e0201808a0level0_row4\" class=\"row_heading level0 row4\" >4</th>\n",
       "                        <td id=\"T_d5b5f6c2_1b47_11eb_9de1_00e0201808a0row4_col0\" class=\"data row4 col0\" >Ada Boost Classifier</td>\n",
       "                        <td id=\"T_d5b5f6c2_1b47_11eb_9de1_00e0201808a0row4_col1\" class=\"data row4 col1\" >0.8559</td>\n",
       "                        <td id=\"T_d5b5f6c2_1b47_11eb_9de1_00e0201808a0row4_col2\" class=\"data row4 col2\" >0.9114</td>\n",
       "                        <td id=\"T_d5b5f6c2_1b47_11eb_9de1_00e0201808a0row4_col3\" class=\"data row4 col3\" >0.6138</td>\n",
       "                        <td id=\"T_d5b5f6c2_1b47_11eb_9de1_00e0201808a0row4_col4\" class=\"data row4 col4\" >0.7463</td>\n",
       "                        <td id=\"T_d5b5f6c2_1b47_11eb_9de1_00e0201808a0row4_col5\" class=\"data row4 col5\" >0.6733</td>\n",
       "                        <td id=\"T_d5b5f6c2_1b47_11eb_9de1_00e0201808a0row4_col6\" class=\"data row4 col6\" >0.5820</td>\n",
       "                        <td id=\"T_d5b5f6c2_1b47_11eb_9de1_00e0201808a0row4_col7\" class=\"data row4 col7\" >0.5868</td>\n",
       "                        <td id=\"T_d5b5f6c2_1b47_11eb_9de1_00e0201808a0row4_col8\" class=\"data row4 col8\" >0.6718</td>\n",
       "            </tr>\n",
       "            <tr>\n",
       "                        <th id=\"T_d5b5f6c2_1b47_11eb_9de1_00e0201808a0level0_row5\" class=\"row_heading level0 row5\" >5</th>\n",
       "                        <td id=\"T_d5b5f6c2_1b47_11eb_9de1_00e0201808a0row5_col0\" class=\"data row5 col0\" >Linear Discriminant Analysis</td>\n",
       "                        <td id=\"T_d5b5f6c2_1b47_11eb_9de1_00e0201808a0row5_col1\" class=\"data row5 col1\" >0.8454</td>\n",
       "                        <td id=\"T_d5b5f6c2_1b47_11eb_9de1_00e0201808a0row5_col2\" class=\"data row5 col2\" >0.8999</td>\n",
       "                        <td id=\"T_d5b5f6c2_1b47_11eb_9de1_00e0201808a0row5_col3\" class=\"data row5 col3\" >0.5888</td>\n",
       "                        <td id=\"T_d5b5f6c2_1b47_11eb_9de1_00e0201808a0row5_col4\" class=\"data row5 col4\" >0.7216</td>\n",
       "                        <td id=\"T_d5b5f6c2_1b47_11eb_9de1_00e0201808a0row5_col5\" class=\"data row5 col5\" >0.6480</td>\n",
       "                        <td id=\"T_d5b5f6c2_1b47_11eb_9de1_00e0201808a0row5_col6\" class=\"data row5 col6\" >0.5504</td>\n",
       "                        <td id=\"T_d5b5f6c2_1b47_11eb_9de1_00e0201808a0row5_col7\" class=\"data row5 col7\" >0.5553</td>\n",
       "                        <td id=\"T_d5b5f6c2_1b47_11eb_9de1_00e0201808a0row5_col8\" class=\"data row5 col8\" >0.1684</td>\n",
       "            </tr>\n",
       "            <tr>\n",
       "                        <th id=\"T_d5b5f6c2_1b47_11eb_9de1_00e0201808a0level0_row6\" class=\"row_heading level0 row6\" >6</th>\n",
       "                        <td id=\"T_d5b5f6c2_1b47_11eb_9de1_00e0201808a0row6_col0\" class=\"data row6 col0\" >Random Forest Classifier</td>\n",
       "                        <td id=\"T_d5b5f6c2_1b47_11eb_9de1_00e0201808a0row6_col1\" class=\"data row6 col1\" >0.8365</td>\n",
       "                        <td id=\"T_d5b5f6c2_1b47_11eb_9de1_00e0201808a0row6_col2\" class=\"data row6 col2\" >0.8707</td>\n",
       "                        <td id=\"T_d5b5f6c2_1b47_11eb_9de1_00e0201808a0row6_col3\" class=\"data row6 col3\" >0.5785</td>\n",
       "                        <td id=\"T_d5b5f6c2_1b47_11eb_9de1_00e0201808a0row6_col4\" class=\"data row6 col4\" >0.6963</td>\n",
       "                        <td id=\"T_d5b5f6c2_1b47_11eb_9de1_00e0201808a0row6_col5\" class=\"data row6 col5\" >0.6312</td>\n",
       "                        <td id=\"T_d5b5f6c2_1b47_11eb_9de1_00e0201808a0row6_col6\" class=\"data row6 col6\" >0.5274</td>\n",
       "                        <td id=\"T_d5b5f6c2_1b47_11eb_9de1_00e0201808a0row6_col7\" class=\"data row6 col7\" >0.5316</td>\n",
       "                        <td id=\"T_d5b5f6c2_1b47_11eb_9de1_00e0201808a0row6_col8\" class=\"data row6 col8\" >0.1223</td>\n",
       "            </tr>\n",
       "            <tr>\n",
       "                        <th id=\"T_d5b5f6c2_1b47_11eb_9de1_00e0201808a0level0_row7\" class=\"row_heading level0 row7\" >7</th>\n",
       "                        <td id=\"T_d5b5f6c2_1b47_11eb_9de1_00e0201808a0row7_col0\" class=\"data row7 col0\" >Extra Trees Classifier</td>\n",
       "                        <td id=\"T_d5b5f6c2_1b47_11eb_9de1_00e0201808a0row7_col1\" class=\"data row7 col1\" >0.8297</td>\n",
       "                        <td id=\"T_d5b5f6c2_1b47_11eb_9de1_00e0201808a0row7_col2\" class=\"data row7 col2\" >0.8541</td>\n",
       "                        <td id=\"T_d5b5f6c2_1b47_11eb_9de1_00e0201808a0row7_col3\" class=\"data row7 col3\" >0.6012</td>\n",
       "                        <td id=\"T_d5b5f6c2_1b47_11eb_9de1_00e0201808a0row7_col4\" class=\"data row7 col4\" >0.6644</td>\n",
       "                        <td id=\"T_d5b5f6c2_1b47_11eb_9de1_00e0201808a0row7_col5\" class=\"data row7 col5\" >0.6309</td>\n",
       "                        <td id=\"T_d5b5f6c2_1b47_11eb_9de1_00e0201808a0row7_col6\" class=\"data row7 col6\" >0.5206</td>\n",
       "                        <td id=\"T_d5b5f6c2_1b47_11eb_9de1_00e0201808a0row7_col7\" class=\"data row7 col7\" >0.5219</td>\n",
       "                        <td id=\"T_d5b5f6c2_1b47_11eb_9de1_00e0201808a0row7_col8\" class=\"data row7 col8\" >0.5301</td>\n",
       "            </tr>\n",
       "    </tbody></table>"
      ],
      "text/plain": [
       "<pandas.io.formats.style.Styler at 0x260a0180b08>"
      ]
     },
     "metadata": {},
     "output_type": "display_data"
    }
   ],
   "source": [
    "best_3 = compare_models(sort = 'F1', n_select = 3\n",
    "                       ,exclude=['lr', 'knn', 'nb', 'dt', 'svm', 'rbfsvm', 'ridge','qda']\n",
    "                       #,exclude=['lr', 'knn', 'nb', 'dt', 'svm', 'rbfsvm', 'gpc', 'mlp', 'ridge', 'rf', 'qda', 'ada', 'xgboost']\n",
    "                       )"
   ]
  },
  {
   "cell_type": "code",
   "execution_count": 11,
   "metadata": {},
   "outputs": [
    {
     "data": {
      "text/html": [
       "<style  type=\"text/css\" >\n",
       "#T_17b85968_1b48_11eb_be31_00e0201808a0row5_col0,#T_17b85968_1b48_11eb_be31_00e0201808a0row5_col1,#T_17b85968_1b48_11eb_be31_00e0201808a0row5_col2,#T_17b85968_1b48_11eb_be31_00e0201808a0row5_col3,#T_17b85968_1b48_11eb_be31_00e0201808a0row5_col4,#T_17b85968_1b48_11eb_be31_00e0201808a0row5_col5,#T_17b85968_1b48_11eb_be31_00e0201808a0row5_col6{\n",
       "            background:  yellow;\n",
       "        }</style><table id=\"T_17b85968_1b48_11eb_be31_00e0201808a0\" ><thead>    <tr>        <th class=\"blank level0\" ></th>        <th class=\"col_heading level0 col0\" >Accuracy</th>        <th class=\"col_heading level0 col1\" >AUC</th>        <th class=\"col_heading level0 col2\" >Recall</th>        <th class=\"col_heading level0 col3\" >Prec.</th>        <th class=\"col_heading level0 col4\" >F1</th>        <th class=\"col_heading level0 col5\" >Kappa</th>        <th class=\"col_heading level0 col6\" >MCC</th>    </tr></thead><tbody>\n",
       "                <tr>\n",
       "                        <th id=\"T_17b85968_1b48_11eb_be31_00e0201808a0level0_row0\" class=\"row_heading level0 row0\" >0</th>\n",
       "                        <td id=\"T_17b85968_1b48_11eb_be31_00e0201808a0row0_col0\" class=\"data row0 col0\" >0.8645</td>\n",
       "                        <td id=\"T_17b85968_1b48_11eb_be31_00e0201808a0row0_col1\" class=\"data row0 col1\" >0.9217</td>\n",
       "                        <td id=\"T_17b85968_1b48_11eb_be31_00e0201808a0row0_col2\" class=\"data row0 col2\" >0.6375</td>\n",
       "                        <td id=\"T_17b85968_1b48_11eb_be31_00e0201808a0row0_col3\" class=\"data row0 col3\" >0.7636</td>\n",
       "                        <td id=\"T_17b85968_1b48_11eb_be31_00e0201808a0row0_col4\" class=\"data row0 col4\" >0.6949</td>\n",
       "                        <td id=\"T_17b85968_1b48_11eb_be31_00e0201808a0row0_col5\" class=\"data row0 col5\" >0.6087</td>\n",
       "                        <td id=\"T_17b85968_1b48_11eb_be31_00e0201808a0row0_col6\" class=\"data row0 col6\" >0.6128</td>\n",
       "            </tr>\n",
       "            <tr>\n",
       "                        <th id=\"T_17b85968_1b48_11eb_be31_00e0201808a0level0_row1\" class=\"row_heading level0 row1\" >1</th>\n",
       "                        <td id=\"T_17b85968_1b48_11eb_be31_00e0201808a0row1_col0\" class=\"data row1 col0\" >0.8613</td>\n",
       "                        <td id=\"T_17b85968_1b48_11eb_be31_00e0201808a0row1_col1\" class=\"data row1 col1\" >0.9173</td>\n",
       "                        <td id=\"T_17b85968_1b48_11eb_be31_00e0201808a0row1_col2\" class=\"data row1 col2\" >0.6618</td>\n",
       "                        <td id=\"T_17b85968_1b48_11eb_be31_00e0201808a0row1_col3\" class=\"data row1 col3\" >0.7383</td>\n",
       "                        <td id=\"T_17b85968_1b48_11eb_be31_00e0201808a0row1_col4\" class=\"data row1 col4\" >0.6980</td>\n",
       "                        <td id=\"T_17b85968_1b48_11eb_be31_00e0201808a0row1_col5\" class=\"data row1 col5\" >0.6083</td>\n",
       "                        <td id=\"T_17b85968_1b48_11eb_be31_00e0201808a0row1_col6\" class=\"data row1 col6\" >0.6098</td>\n",
       "            </tr>\n",
       "            <tr>\n",
       "                        <th id=\"T_17b85968_1b48_11eb_be31_00e0201808a0level0_row2\" class=\"row_heading level0 row2\" >2</th>\n",
       "                        <td id=\"T_17b85968_1b48_11eb_be31_00e0201808a0row2_col0\" class=\"data row2 col0\" >0.8582</td>\n",
       "                        <td id=\"T_17b85968_1b48_11eb_be31_00e0201808a0row2_col1\" class=\"data row2 col1\" >0.9226</td>\n",
       "                        <td id=\"T_17b85968_1b48_11eb_be31_00e0201808a0row2_col2\" class=\"data row2 col2\" >0.6197</td>\n",
       "                        <td id=\"T_17b85968_1b48_11eb_be31_00e0201808a0row2_col3\" class=\"data row2 col3\" >0.7510</td>\n",
       "                        <td id=\"T_17b85968_1b48_11eb_be31_00e0201808a0row2_col4\" class=\"data row2 col4\" >0.6791</td>\n",
       "                        <td id=\"T_17b85968_1b48_11eb_be31_00e0201808a0row2_col5\" class=\"data row2 col5\" >0.5891</td>\n",
       "                        <td id=\"T_17b85968_1b48_11eb_be31_00e0201808a0row2_col6\" class=\"data row2 col6\" >0.5936</td>\n",
       "            </tr>\n",
       "            <tr>\n",
       "                        <th id=\"T_17b85968_1b48_11eb_be31_00e0201808a0level0_row3\" class=\"row_heading level0 row3\" >3</th>\n",
       "                        <td id=\"T_17b85968_1b48_11eb_be31_00e0201808a0row3_col0\" class=\"data row3 col0\" >0.8723</td>\n",
       "                        <td id=\"T_17b85968_1b48_11eb_be31_00e0201808a0row3_col1\" class=\"data row3 col1\" >0.9308</td>\n",
       "                        <td id=\"T_17b85968_1b48_11eb_be31_00e0201808a0row3_col2\" class=\"data row3 col2\" >0.6418</td>\n",
       "                        <td id=\"T_17b85968_1b48_11eb_be31_00e0201808a0row3_col3\" class=\"data row3 col3\" >0.7904</td>\n",
       "                        <td id=\"T_17b85968_1b48_11eb_be31_00e0201808a0row3_col4\" class=\"data row3 col4\" >0.7084</td>\n",
       "                        <td id=\"T_17b85968_1b48_11eb_be31_00e0201808a0row3_col5\" class=\"data row3 col5\" >0.6277</td>\n",
       "                        <td id=\"T_17b85968_1b48_11eb_be31_00e0201808a0row3_col6\" class=\"data row3 col6\" >0.6333</td>\n",
       "            </tr>\n",
       "            <tr>\n",
       "                        <th id=\"T_17b85968_1b48_11eb_be31_00e0201808a0level0_row4\" class=\"row_heading level0 row4\" >4</th>\n",
       "                        <td id=\"T_17b85968_1b48_11eb_be31_00e0201808a0row4_col0\" class=\"data row4 col0\" >0.8719</td>\n",
       "                        <td id=\"T_17b85968_1b48_11eb_be31_00e0201808a0row4_col1\" class=\"data row4 col1\" >0.9256</td>\n",
       "                        <td id=\"T_17b85968_1b48_11eb_be31_00e0201808a0row4_col2\" class=\"data row4 col2\" >0.6634</td>\n",
       "                        <td id=\"T_17b85968_1b48_11eb_be31_00e0201808a0row4_col3\" class=\"data row4 col3\" >0.7750</td>\n",
       "                        <td id=\"T_17b85968_1b48_11eb_be31_00e0201808a0row4_col4\" class=\"data row4 col4\" >0.7149</td>\n",
       "                        <td id=\"T_17b85968_1b48_11eb_be31_00e0201808a0row4_col5\" class=\"data row4 col5\" >0.6329</td>\n",
       "                        <td id=\"T_17b85968_1b48_11eb_be31_00e0201808a0row4_col6\" class=\"data row4 col6\" >0.6361</td>\n",
       "            </tr>\n",
       "            <tr>\n",
       "                        <th id=\"T_17b85968_1b48_11eb_be31_00e0201808a0level0_row5\" class=\"row_heading level0 row5\" >Mean</th>\n",
       "                        <td id=\"T_17b85968_1b48_11eb_be31_00e0201808a0row5_col0\" class=\"data row5 col0\" >0.8656</td>\n",
       "                        <td id=\"T_17b85968_1b48_11eb_be31_00e0201808a0row5_col1\" class=\"data row5 col1\" >0.9236</td>\n",
       "                        <td id=\"T_17b85968_1b48_11eb_be31_00e0201808a0row5_col2\" class=\"data row5 col2\" >0.6449</td>\n",
       "                        <td id=\"T_17b85968_1b48_11eb_be31_00e0201808a0row5_col3\" class=\"data row5 col3\" >0.7637</td>\n",
       "                        <td id=\"T_17b85968_1b48_11eb_be31_00e0201808a0row5_col4\" class=\"data row5 col4\" >0.6990</td>\n",
       "                        <td id=\"T_17b85968_1b48_11eb_be31_00e0201808a0row5_col5\" class=\"data row5 col5\" >0.6134</td>\n",
       "                        <td id=\"T_17b85968_1b48_11eb_be31_00e0201808a0row5_col6\" class=\"data row5 col6\" >0.6171</td>\n",
       "            </tr>\n",
       "            <tr>\n",
       "                        <th id=\"T_17b85968_1b48_11eb_be31_00e0201808a0level0_row6\" class=\"row_heading level0 row6\" >SD</th>\n",
       "                        <td id=\"T_17b85968_1b48_11eb_be31_00e0201808a0row6_col0\" class=\"data row6 col0\" >0.0056</td>\n",
       "                        <td id=\"T_17b85968_1b48_11eb_be31_00e0201808a0row6_col1\" class=\"data row6 col1\" >0.0045</td>\n",
       "                        <td id=\"T_17b85968_1b48_11eb_be31_00e0201808a0row6_col2\" class=\"data row6 col2\" >0.0163</td>\n",
       "                        <td id=\"T_17b85968_1b48_11eb_be31_00e0201808a0row6_col3\" class=\"data row6 col3\" >0.0182</td>\n",
       "                        <td id=\"T_17b85968_1b48_11eb_be31_00e0201808a0row6_col4\" class=\"data row6 col4\" >0.0123</td>\n",
       "                        <td id=\"T_17b85968_1b48_11eb_be31_00e0201808a0row6_col5\" class=\"data row6 col5\" >0.0156</td>\n",
       "                        <td id=\"T_17b85968_1b48_11eb_be31_00e0201808a0row6_col6\" class=\"data row6 col6\" >0.0158</td>\n",
       "            </tr>\n",
       "    </tbody></table>"
      ],
      "text/plain": [
       "<pandas.io.formats.style.Styler at 0x260a03735c8>"
      ]
     },
     "metadata": {},
     "output_type": "display_data"
    }
   ],
   "source": [
    "blended = blend_models(estimator_list = best_3, fold = 5, method = 'soft')"
   ]
  },
  {
   "cell_type": "code",
   "execution_count": 12,
   "metadata": {},
   "outputs": [
    {
     "data": {
      "text/html": [
       "<div>\n",
       "<style scoped>\n",
       "    .dataframe tbody tr th:only-of-type {\n",
       "        vertical-align: middle;\n",
       "    }\n",
       "\n",
       "    .dataframe tbody tr th {\n",
       "        vertical-align: top;\n",
       "    }\n",
       "\n",
       "    .dataframe thead th {\n",
       "        text-align: right;\n",
       "    }\n",
       "</style>\n",
       "<table border=\"1\" class=\"dataframe\">\n",
       "  <thead>\n",
       "    <tr style=\"text-align: right;\">\n",
       "      <th></th>\n",
       "      <th>Model</th>\n",
       "      <th>Accuracy</th>\n",
       "      <th>AUC</th>\n",
       "      <th>Recall</th>\n",
       "      <th>Prec.</th>\n",
       "      <th>F1</th>\n",
       "      <th>Kappa</th>\n",
       "      <th>MCC</th>\n",
       "    </tr>\n",
       "  </thead>\n",
       "  <tbody>\n",
       "    <tr>\n",
       "      <th>0</th>\n",
       "      <td>Voting Classifier</td>\n",
       "      <td>0.8781</td>\n",
       "      <td>0.9295</td>\n",
       "      <td>0.6609</td>\n",
       "      <td>0.8005</td>\n",
       "      <td>0.724</td>\n",
       "      <td>0.6467</td>\n",
       "      <td>0.6516</td>\n",
       "    </tr>\n",
       "  </tbody>\n",
       "</table>\n",
       "</div>"
      ],
      "text/plain": [
       "               Model  Accuracy     AUC  Recall   Prec.     F1   Kappa     MCC\n",
       "0  Voting Classifier    0.8781  0.9295  0.6609  0.8005  0.724  0.6467  0.6516"
      ]
     },
     "metadata": {},
     "output_type": "display_data"
    }
   ],
   "source": [
    "pred_holdout = predict_model(blended)"
   ]
  },
  {
   "cell_type": "code",
   "execution_count": 15,
   "metadata": {},
   "outputs": [
    {
     "name": "stdout",
     "output_type": "stream",
     "text": [
      "Wall time: 3min 14s\n"
     ]
    }
   ],
   "source": [
    "%%time\n",
    "final_model = finalize_model(blended)"
   ]
  },
  {
   "cell_type": "code",
   "execution_count": 16,
   "metadata": {},
   "outputs": [],
   "source": [
    "predictions = predict_model(final_model, data = test)"
   ]
  },
  {
   "cell_type": "markdown",
   "metadata": {},
   "source": [
    "# 4. 예측"
   ]
  },
  {
   "cell_type": "code",
   "execution_count": 17,
   "metadata": {},
   "outputs": [],
   "source": [
    "submission['prediction'] = predictions['Label']"
   ]
  },
  {
   "cell_type": "markdown",
   "metadata": {},
   "source": [
    "# 5. 제출"
   ]
  },
  {
   "cell_type": "code",
   "execution_count": 18,
   "metadata": {},
   "outputs": [],
   "source": [
    "submission.to_csv('output/20201031-2.csv')"
   ]
  },
  {
   "cell_type": "code",
   "execution_count": null,
   "metadata": {},
   "outputs": [],
   "source": []
  },
  {
   "cell_type": "code",
   "execution_count": 19,
   "metadata": {},
   "outputs": [
    {
     "data": {
      "text/html": [
       "<style  type=\"text/css\" >\n",
       "#T_b0366128_1b48_11eb_b93a_00e0201808a0row10_col0,#T_b0366128_1b48_11eb_b93a_00e0201808a0row10_col1,#T_b0366128_1b48_11eb_b93a_00e0201808a0row10_col2,#T_b0366128_1b48_11eb_b93a_00e0201808a0row10_col3,#T_b0366128_1b48_11eb_b93a_00e0201808a0row10_col4,#T_b0366128_1b48_11eb_b93a_00e0201808a0row10_col5,#T_b0366128_1b48_11eb_b93a_00e0201808a0row10_col6{\n",
       "            background:  yellow;\n",
       "        }</style><table id=\"T_b0366128_1b48_11eb_b93a_00e0201808a0\" ><thead>    <tr>        <th class=\"blank level0\" ></th>        <th class=\"col_heading level0 col0\" >Accuracy</th>        <th class=\"col_heading level0 col1\" >AUC</th>        <th class=\"col_heading level0 col2\" >Recall</th>        <th class=\"col_heading level0 col3\" >Prec.</th>        <th class=\"col_heading level0 col4\" >F1</th>        <th class=\"col_heading level0 col5\" >Kappa</th>        <th class=\"col_heading level0 col6\" >MCC</th>    </tr></thead><tbody>\n",
       "                <tr>\n",
       "                        <th id=\"T_b0366128_1b48_11eb_b93a_00e0201808a0level0_row0\" class=\"row_heading level0 row0\" >0</th>\n",
       "                        <td id=\"T_b0366128_1b48_11eb_b93a_00e0201808a0row0_col0\" class=\"data row0 col0\" >0.8622</td>\n",
       "                        <td id=\"T_b0366128_1b48_11eb_b93a_00e0201808a0row0_col1\" class=\"data row0 col1\" >0.9226</td>\n",
       "                        <td id=\"T_b0366128_1b48_11eb_b93a_00e0201808a0row0_col2\" class=\"data row0 col2\" >0.6246</td>\n",
       "                        <td id=\"T_b0366128_1b48_11eb_b93a_00e0201808a0row0_col3\" class=\"data row0 col3\" >0.7628</td>\n",
       "                        <td id=\"T_b0366128_1b48_11eb_b93a_00e0201808a0row0_col4\" class=\"data row0 col4\" >0.6868</td>\n",
       "                        <td id=\"T_b0366128_1b48_11eb_b93a_00e0201808a0row0_col5\" class=\"data row0 col5\" >0.5996</td>\n",
       "                        <td id=\"T_b0366128_1b48_11eb_b93a_00e0201808a0row0_col6\" class=\"data row0 col6\" >0.6045</td>\n",
       "            </tr>\n",
       "            <tr>\n",
       "                        <th id=\"T_b0366128_1b48_11eb_b93a_00e0201808a0level0_row1\" class=\"row_heading level0 row1\" >1</th>\n",
       "                        <td id=\"T_b0366128_1b48_11eb_b93a_00e0201808a0row1_col0\" class=\"data row1 col0\" >0.8598</td>\n",
       "                        <td id=\"T_b0366128_1b48_11eb_b93a_00e0201808a0row1_col1\" class=\"data row1 col1\" >0.9124</td>\n",
       "                        <td id=\"T_b0366128_1b48_11eb_b93a_00e0201808a0row1_col2\" class=\"data row1 col2\" >0.6505</td>\n",
       "                        <td id=\"T_b0366128_1b48_11eb_b93a_00e0201808a0row1_col3\" class=\"data row1 col3\" >0.7390</td>\n",
       "                        <td id=\"T_b0366128_1b48_11eb_b93a_00e0201808a0row1_col4\" class=\"data row1 col4\" >0.6919</td>\n",
       "                        <td id=\"T_b0366128_1b48_11eb_b93a_00e0201808a0row1_col5\" class=\"data row1 col5\" >0.6017</td>\n",
       "                        <td id=\"T_b0366128_1b48_11eb_b93a_00e0201808a0row1_col6\" class=\"data row1 col6\" >0.6037</td>\n",
       "            </tr>\n",
       "            <tr>\n",
       "                        <th id=\"T_b0366128_1b48_11eb_b93a_00e0201808a0level0_row2\" class=\"row_heading level0 row2\" >2</th>\n",
       "                        <td id=\"T_b0366128_1b48_11eb_b93a_00e0201808a0row2_col0\" class=\"data row2 col0\" >0.8606</td>\n",
       "                        <td id=\"T_b0366128_1b48_11eb_b93a_00e0201808a0row2_col1\" class=\"data row2 col1\" >0.9248</td>\n",
       "                        <td id=\"T_b0366128_1b48_11eb_b93a_00e0201808a0row2_col2\" class=\"data row2 col2\" >0.6796</td>\n",
       "                        <td id=\"T_b0366128_1b48_11eb_b93a_00e0201808a0row2_col3\" class=\"data row2 col3\" >0.7266</td>\n",
       "                        <td id=\"T_b0366128_1b48_11eb_b93a_00e0201808a0row2_col4\" class=\"data row2 col4\" >0.7023</td>\n",
       "                        <td id=\"T_b0366128_1b48_11eb_b93a_00e0201808a0row2_col5\" class=\"data row2 col5\" >0.6115</td>\n",
       "                        <td id=\"T_b0366128_1b48_11eb_b93a_00e0201808a0row2_col6\" class=\"data row2 col6\" >0.6121</td>\n",
       "            </tr>\n",
       "            <tr>\n",
       "                        <th id=\"T_b0366128_1b48_11eb_b93a_00e0201808a0level0_row3\" class=\"row_heading level0 row3\" >3</th>\n",
       "                        <td id=\"T_b0366128_1b48_11eb_b93a_00e0201808a0row3_col0\" class=\"data row3 col0\" >0.8574</td>\n",
       "                        <td id=\"T_b0366128_1b48_11eb_b93a_00e0201808a0row3_col1\" class=\"data row3 col1\" >0.9141</td>\n",
       "                        <td id=\"T_b0366128_1b48_11eb_b93a_00e0201808a0row3_col2\" class=\"data row3 col2\" >0.6331</td>\n",
       "                        <td id=\"T_b0366128_1b48_11eb_b93a_00e0201808a0row3_col3\" class=\"data row3 col3\" >0.7386</td>\n",
       "                        <td id=\"T_b0366128_1b48_11eb_b93a_00e0201808a0row3_col4\" class=\"data row3 col4\" >0.6818</td>\n",
       "                        <td id=\"T_b0366128_1b48_11eb_b93a_00e0201808a0row3_col5\" class=\"data row3 col5\" >0.5906</td>\n",
       "                        <td id=\"T_b0366128_1b48_11eb_b93a_00e0201808a0row3_col6\" class=\"data row3 col6\" >0.5935</td>\n",
       "            </tr>\n",
       "            <tr>\n",
       "                        <th id=\"T_b0366128_1b48_11eb_b93a_00e0201808a0level0_row4\" class=\"row_heading level0 row4\" >4</th>\n",
       "                        <td id=\"T_b0366128_1b48_11eb_b93a_00e0201808a0row4_col0\" class=\"data row4 col0\" >0.8566</td>\n",
       "                        <td id=\"T_b0366128_1b48_11eb_b93a_00e0201808a0row4_col1\" class=\"data row4 col1\" >0.9098</td>\n",
       "                        <td id=\"T_b0366128_1b48_11eb_b93a_00e0201808a0row4_col2\" class=\"data row4 col2\" >0.6246</td>\n",
       "                        <td id=\"T_b0366128_1b48_11eb_b93a_00e0201808a0row4_col3\" class=\"data row4 col3\" >0.7423</td>\n",
       "                        <td id=\"T_b0366128_1b48_11eb_b93a_00e0201808a0row4_col4\" class=\"data row4 col4\" >0.6784</td>\n",
       "                        <td id=\"T_b0366128_1b48_11eb_b93a_00e0201808a0row4_col5\" class=\"data row4 col5\" >0.5870</td>\n",
       "                        <td id=\"T_b0366128_1b48_11eb_b93a_00e0201808a0row4_col6\" class=\"data row4 col6\" >0.5906</td>\n",
       "            </tr>\n",
       "            <tr>\n",
       "                        <th id=\"T_b0366128_1b48_11eb_b93a_00e0201808a0level0_row5\" class=\"row_heading level0 row5\" >5</th>\n",
       "                        <td id=\"T_b0366128_1b48_11eb_b93a_00e0201808a0row5_col0\" class=\"data row5 col0\" >0.8644</td>\n",
       "                        <td id=\"T_b0366128_1b48_11eb_b93a_00e0201808a0row5_col1\" class=\"data row5 col1\" >0.9319</td>\n",
       "                        <td id=\"T_b0366128_1b48_11eb_b93a_00e0201808a0row5_col2\" class=\"data row5 col2\" >0.6311</td>\n",
       "                        <td id=\"T_b0366128_1b48_11eb_b93a_00e0201808a0row5_col3\" class=\"data row5 col3\" >0.7677</td>\n",
       "                        <td id=\"T_b0366128_1b48_11eb_b93a_00e0201808a0row5_col4\" class=\"data row5 col4\" >0.6927</td>\n",
       "                        <td id=\"T_b0366128_1b48_11eb_b93a_00e0201808a0row5_col5\" class=\"data row5 col5\" >0.6068</td>\n",
       "                        <td id=\"T_b0366128_1b48_11eb_b93a_00e0201808a0row5_col6\" class=\"data row5 col6\" >0.6116</td>\n",
       "            </tr>\n",
       "            <tr>\n",
       "                        <th id=\"T_b0366128_1b48_11eb_b93a_00e0201808a0level0_row6\" class=\"row_heading level0 row6\" >6</th>\n",
       "                        <td id=\"T_b0366128_1b48_11eb_b93a_00e0201808a0row6_col0\" class=\"data row6 col0\" >0.8754</td>\n",
       "                        <td id=\"T_b0366128_1b48_11eb_b93a_00e0201808a0row6_col1\" class=\"data row6 col1\" >0.9338</td>\n",
       "                        <td id=\"T_b0366128_1b48_11eb_b93a_00e0201808a0row6_col2\" class=\"data row6 col2\" >0.6602</td>\n",
       "                        <td id=\"T_b0366128_1b48_11eb_b93a_00e0201808a0row6_col3\" class=\"data row6 col3\" >0.7907</td>\n",
       "                        <td id=\"T_b0366128_1b48_11eb_b93a_00e0201808a0row6_col4\" class=\"data row6 col4\" >0.7196</td>\n",
       "                        <td id=\"T_b0366128_1b48_11eb_b93a_00e0201808a0row6_col5\" class=\"data row6 col5\" >0.6403</td>\n",
       "                        <td id=\"T_b0366128_1b48_11eb_b93a_00e0201808a0row6_col6\" class=\"data row6 col6\" >0.6446</td>\n",
       "            </tr>\n",
       "            <tr>\n",
       "                        <th id=\"T_b0366128_1b48_11eb_b93a_00e0201808a0level0_row7\" class=\"row_heading level0 row7\" >7</th>\n",
       "                        <td id=\"T_b0366128_1b48_11eb_b93a_00e0201808a0row7_col0\" class=\"data row7 col0\" >0.8652</td>\n",
       "                        <td id=\"T_b0366128_1b48_11eb_b93a_00e0201808a0row7_col1\" class=\"data row7 col1\" >0.9221</td>\n",
       "                        <td id=\"T_b0366128_1b48_11eb_b93a_00e0201808a0row7_col2\" class=\"data row7 col2\" >0.6472</td>\n",
       "                        <td id=\"T_b0366128_1b48_11eb_b93a_00e0201808a0row7_col3\" class=\"data row7 col3\" >0.7605</td>\n",
       "                        <td id=\"T_b0366128_1b48_11eb_b93a_00e0201808a0row7_col4\" class=\"data row7 col4\" >0.6993</td>\n",
       "                        <td id=\"T_b0366128_1b48_11eb_b93a_00e0201808a0row7_col5\" class=\"data row7 col5\" >0.6132</td>\n",
       "                        <td id=\"T_b0366128_1b48_11eb_b93a_00e0201808a0row7_col6\" class=\"data row7 col6\" >0.6165</td>\n",
       "            </tr>\n",
       "            <tr>\n",
       "                        <th id=\"T_b0366128_1b48_11eb_b93a_00e0201808a0level0_row8\" class=\"row_heading level0 row8\" >8</th>\n",
       "                        <td id=\"T_b0366128_1b48_11eb_b93a_00e0201808a0row8_col0\" class=\"data row8 col0\" >0.8730</td>\n",
       "                        <td id=\"T_b0366128_1b48_11eb_b93a_00e0201808a0row8_col1\" class=\"data row8 col1\" >0.9255</td>\n",
       "                        <td id=\"T_b0366128_1b48_11eb_b93a_00e0201808a0row8_col2\" class=\"data row8 col2\" >0.6634</td>\n",
       "                        <td id=\"T_b0366128_1b48_11eb_b93a_00e0201808a0row8_col3\" class=\"data row8 col3\" >0.7795</td>\n",
       "                        <td id=\"T_b0366128_1b48_11eb_b93a_00e0201808a0row8_col4\" class=\"data row8 col4\" >0.7168</td>\n",
       "                        <td id=\"T_b0366128_1b48_11eb_b93a_00e0201808a0row8_col5\" class=\"data row8 col5\" >0.6356</td>\n",
       "                        <td id=\"T_b0366128_1b48_11eb_b93a_00e0201808a0row8_col6\" class=\"data row8 col6\" >0.6391</td>\n",
       "            </tr>\n",
       "            <tr>\n",
       "                        <th id=\"T_b0366128_1b48_11eb_b93a_00e0201808a0level0_row9\" class=\"row_heading level0 row9\" >9</th>\n",
       "                        <td id=\"T_b0366128_1b48_11eb_b93a_00e0201808a0row9_col0\" class=\"data row9 col0\" >0.8738</td>\n",
       "                        <td id=\"T_b0366128_1b48_11eb_b93a_00e0201808a0row9_col1\" class=\"data row9 col1\" >0.9275</td>\n",
       "                        <td id=\"T_b0366128_1b48_11eb_b93a_00e0201808a0row9_col2\" class=\"data row9 col2\" >0.6731</td>\n",
       "                        <td id=\"T_b0366128_1b48_11eb_b93a_00e0201808a0row9_col3\" class=\"data row9 col3\" >0.7761</td>\n",
       "                        <td id=\"T_b0366128_1b48_11eb_b93a_00e0201808a0row9_col4\" class=\"data row9 col4\" >0.7210</td>\n",
       "                        <td id=\"T_b0366128_1b48_11eb_b93a_00e0201808a0row9_col5\" class=\"data row9 col5\" >0.6400</td>\n",
       "                        <td id=\"T_b0366128_1b48_11eb_b93a_00e0201808a0row9_col6\" class=\"data row9 col6\" >0.6427</td>\n",
       "            </tr>\n",
       "            <tr>\n",
       "                        <th id=\"T_b0366128_1b48_11eb_b93a_00e0201808a0level0_row10\" class=\"row_heading level0 row10\" >Mean</th>\n",
       "                        <td id=\"T_b0366128_1b48_11eb_b93a_00e0201808a0row10_col0\" class=\"data row10 col0\" >0.8648</td>\n",
       "                        <td id=\"T_b0366128_1b48_11eb_b93a_00e0201808a0row10_col1\" class=\"data row10 col1\" >0.9225</td>\n",
       "                        <td id=\"T_b0366128_1b48_11eb_b93a_00e0201808a0row10_col2\" class=\"data row10 col2\" >0.6487</td>\n",
       "                        <td id=\"T_b0366128_1b48_11eb_b93a_00e0201808a0row10_col3\" class=\"data row10 col3\" >0.7584</td>\n",
       "                        <td id=\"T_b0366128_1b48_11eb_b93a_00e0201808a0row10_col4\" class=\"data row10 col4\" >0.6991</td>\n",
       "                        <td id=\"T_b0366128_1b48_11eb_b93a_00e0201808a0row10_col5\" class=\"data row10 col5\" >0.6126</td>\n",
       "                        <td id=\"T_b0366128_1b48_11eb_b93a_00e0201808a0row10_col6\" class=\"data row10 col6\" >0.6159</td>\n",
       "            </tr>\n",
       "            <tr>\n",
       "                        <th id=\"T_b0366128_1b48_11eb_b93a_00e0201808a0level0_row11\" class=\"row_heading level0 row11\" >SD</th>\n",
       "                        <td id=\"T_b0366128_1b48_11eb_b93a_00e0201808a0row11_col0\" class=\"data row11 col0\" >0.0066</td>\n",
       "                        <td id=\"T_b0366128_1b48_11eb_b93a_00e0201808a0row11_col1\" class=\"data row11 col1\" >0.0077</td>\n",
       "                        <td id=\"T_b0366128_1b48_11eb_b93a_00e0201808a0row11_col2\" class=\"data row11 col2\" >0.0190</td>\n",
       "                        <td id=\"T_b0366128_1b48_11eb_b93a_00e0201808a0row11_col3\" class=\"data row11 col3\" >0.0199</td>\n",
       "                        <td id=\"T_b0366128_1b48_11eb_b93a_00e0201808a0row11_col4\" class=\"data row11 col4\" >0.0148</td>\n",
       "                        <td id=\"T_b0366128_1b48_11eb_b93a_00e0201808a0row11_col5\" class=\"data row11 col5\" >0.0187</td>\n",
       "                        <td id=\"T_b0366128_1b48_11eb_b93a_00e0201808a0row11_col6\" class=\"data row11 col6\" >0.0188</td>\n",
       "            </tr>\n",
       "    </tbody></table>"
      ],
      "text/plain": [
       "<pandas.io.formats.style.Styler at 0x260a2213648>"
      ]
     },
     "metadata": {},
     "output_type": "display_data"
    }
   ],
   "source": [
    "xgboost = create_model('xgboost')"
   ]
  },
  {
   "cell_type": "code",
   "execution_count": 20,
   "metadata": {},
   "outputs": [
    {
     "data": {
      "image/png": "[encoded data removed]",
      "text/plain": [
       "<Figure size 800x500 with 1 Axes>"
      ]
     },
     "metadata": {
      "needs_background": "light"
     },
     "output_type": "display_data"
    }
   ],
   "source": [
    "plot_model(estimator = xgboost, plot = 'feature')"
   ]
  },
  {
   "cell_type": "code",
   "execution_count": null,
   "metadata": {},
   "outputs": [],
   "source": []
  },
  {
   "cell_type": "code",
   "execution_count": 21,
   "metadata": {
    "scrolled": true
   },
   "outputs": [
    {
     "data": {
      "text/html": [
       "<style  type=\"text/css\" >\n",
       "#T_b3342e1e_1b48_11eb_916a_00e0201808a0row10_col0,#T_b3342e1e_1b48_11eb_916a_00e0201808a0row10_col1,#T_b3342e1e_1b48_11eb_916a_00e0201808a0row10_col2,#T_b3342e1e_1b48_11eb_916a_00e0201808a0row10_col3,#T_b3342e1e_1b48_11eb_916a_00e0201808a0row10_col4,#T_b3342e1e_1b48_11eb_916a_00e0201808a0row10_col5,#T_b3342e1e_1b48_11eb_916a_00e0201808a0row10_col6{\n",
       "            background:  yellow;\n",
       "        }</style><table id=\"T_b3342e1e_1b48_11eb_916a_00e0201808a0\" ><thead>    <tr>        <th class=\"blank level0\" ></th>        <th class=\"col_heading level0 col0\" >Accuracy</th>        <th class=\"col_heading level0 col1\" >AUC</th>        <th class=\"col_heading level0 col2\" >Recall</th>        <th class=\"col_heading level0 col3\" >Prec.</th>        <th class=\"col_heading level0 col4\" >F1</th>        <th class=\"col_heading level0 col5\" >Kappa</th>        <th class=\"col_heading level0 col6\" >MCC</th>    </tr></thead><tbody>\n",
       "                <tr>\n",
       "                        <th id=\"T_b3342e1e_1b48_11eb_916a_00e0201808a0level0_row0\" class=\"row_heading level0 row0\" >0</th>\n",
       "                        <td id=\"T_b3342e1e_1b48_11eb_916a_00e0201808a0row0_col0\" class=\"data row0 col0\" >0.8559</td>\n",
       "                        <td id=\"T_b3342e1e_1b48_11eb_916a_00e0201808a0row0_col1\" class=\"data row0 col1\" >0.9219</td>\n",
       "                        <td id=\"T_b3342e1e_1b48_11eb_916a_00e0201808a0row0_col2\" class=\"data row0 col2\" >0.6149</td>\n",
       "                        <td id=\"T_b3342e1e_1b48_11eb_916a_00e0201808a0row0_col3\" class=\"data row0 col3\" >0.7451</td>\n",
       "                        <td id=\"T_b3342e1e_1b48_11eb_916a_00e0201808a0row0_col4\" class=\"data row0 col4\" >0.6738</td>\n",
       "                        <td id=\"T_b3342e1e_1b48_11eb_916a_00e0201808a0row0_col5\" class=\"data row0 col5\" >0.5824</td>\n",
       "                        <td id=\"T_b3342e1e_1b48_11eb_916a_00e0201808a0row0_col6\" class=\"data row0 col6\" >0.5868</td>\n",
       "            </tr>\n",
       "            <tr>\n",
       "                        <th id=\"T_b3342e1e_1b48_11eb_916a_00e0201808a0level0_row1\" class=\"row_heading level0 row1\" >1</th>\n",
       "                        <td id=\"T_b3342e1e_1b48_11eb_916a_00e0201808a0row1_col0\" class=\"data row1 col0\" >0.8559</td>\n",
       "                        <td id=\"T_b3342e1e_1b48_11eb_916a_00e0201808a0row1_col1\" class=\"data row1 col1\" >0.9147</td>\n",
       "                        <td id=\"T_b3342e1e_1b48_11eb_916a_00e0201808a0row1_col2\" class=\"data row1 col2\" >0.6634</td>\n",
       "                        <td id=\"T_b3342e1e_1b48_11eb_916a_00e0201808a0row1_col3\" class=\"data row1 col3\" >0.7193</td>\n",
       "                        <td id=\"T_b3342e1e_1b48_11eb_916a_00e0201808a0row1_col4\" class=\"data row1 col4\" >0.6902</td>\n",
       "                        <td id=\"T_b3342e1e_1b48_11eb_916a_00e0201808a0row1_col5\" class=\"data row1 col5\" >0.5966</td>\n",
       "                        <td id=\"T_b3342e1e_1b48_11eb_916a_00e0201808a0row1_col6\" class=\"data row1 col6\" >0.5974</td>\n",
       "            </tr>\n",
       "            <tr>\n",
       "                        <th id=\"T_b3342e1e_1b48_11eb_916a_00e0201808a0level0_row2\" class=\"row_heading level0 row2\" >2</th>\n",
       "                        <td id=\"T_b3342e1e_1b48_11eb_916a_00e0201808a0row2_col0\" class=\"data row2 col0\" >0.8645</td>\n",
       "                        <td id=\"T_b3342e1e_1b48_11eb_916a_00e0201808a0row2_col1\" class=\"data row2 col1\" >0.9190</td>\n",
       "                        <td id=\"T_b3342e1e_1b48_11eb_916a_00e0201808a0row2_col2\" class=\"data row2 col2\" >0.6764</td>\n",
       "                        <td id=\"T_b3342e1e_1b48_11eb_916a_00e0201808a0row2_col3\" class=\"data row2 col3\" >0.7411</td>\n",
       "                        <td id=\"T_b3342e1e_1b48_11eb_916a_00e0201808a0row2_col4\" class=\"data row2 col4\" >0.7073</td>\n",
       "                        <td id=\"T_b3342e1e_1b48_11eb_916a_00e0201808a0row2_col5\" class=\"data row2 col5\" >0.6194</td>\n",
       "                        <td id=\"T_b3342e1e_1b48_11eb_916a_00e0201808a0row2_col6\" class=\"data row2 col6\" >0.6205</td>\n",
       "            </tr>\n",
       "            <tr>\n",
       "                        <th id=\"T_b3342e1e_1b48_11eb_916a_00e0201808a0level0_row3\" class=\"row_heading level0 row3\" >3</th>\n",
       "                        <td id=\"T_b3342e1e_1b48_11eb_916a_00e0201808a0row3_col0\" class=\"data row3 col0\" >0.8582</td>\n",
       "                        <td id=\"T_b3342e1e_1b48_11eb_916a_00e0201808a0row3_col1\" class=\"data row3 col1\" >0.9141</td>\n",
       "                        <td id=\"T_b3342e1e_1b48_11eb_916a_00e0201808a0row3_col2\" class=\"data row3 col2\" >0.6396</td>\n",
       "                        <td id=\"T_b3342e1e_1b48_11eb_916a_00e0201808a0row3_col3\" class=\"data row3 col3\" >0.7378</td>\n",
       "                        <td id=\"T_b3342e1e_1b48_11eb_916a_00e0201808a0row3_col4\" class=\"data row3 col4\" >0.6852</td>\n",
       "                        <td id=\"T_b3342e1e_1b48_11eb_916a_00e0201808a0row3_col5\" class=\"data row3 col5\" >0.5943</td>\n",
       "                        <td id=\"T_b3342e1e_1b48_11eb_916a_00e0201808a0row3_col6\" class=\"data row3 col6\" >0.5968</td>\n",
       "            </tr>\n",
       "            <tr>\n",
       "                        <th id=\"T_b3342e1e_1b48_11eb_916a_00e0201808a0level0_row4\" class=\"row_heading level0 row4\" >4</th>\n",
       "                        <td id=\"T_b3342e1e_1b48_11eb_916a_00e0201808a0row4_col0\" class=\"data row4 col0\" >0.8558</td>\n",
       "                        <td id=\"T_b3342e1e_1b48_11eb_916a_00e0201808a0row4_col1\" class=\"data row4 col1\" >0.9114</td>\n",
       "                        <td id=\"T_b3342e1e_1b48_11eb_916a_00e0201808a0row4_col2\" class=\"data row4 col2\" >0.6246</td>\n",
       "                        <td id=\"T_b3342e1e_1b48_11eb_916a_00e0201808a0row4_col3\" class=\"data row4 col3\" >0.7395</td>\n",
       "                        <td id=\"T_b3342e1e_1b48_11eb_916a_00e0201808a0row4_col4\" class=\"data row4 col4\" >0.6772</td>\n",
       "                        <td id=\"T_b3342e1e_1b48_11eb_916a_00e0201808a0row4_col5\" class=\"data row4 col5\" >0.5852</td>\n",
       "                        <td id=\"T_b3342e1e_1b48_11eb_916a_00e0201808a0row4_col6\" class=\"data row4 col6\" >0.5887</td>\n",
       "            </tr>\n",
       "            <tr>\n",
       "                        <th id=\"T_b3342e1e_1b48_11eb_916a_00e0201808a0level0_row5\" class=\"row_heading level0 row5\" >5</th>\n",
       "                        <td id=\"T_b3342e1e_1b48_11eb_916a_00e0201808a0row5_col0\" class=\"data row5 col0\" >0.8652</td>\n",
       "                        <td id=\"T_b3342e1e_1b48_11eb_916a_00e0201808a0row5_col1\" class=\"data row5 col1\" >0.9343</td>\n",
       "                        <td id=\"T_b3342e1e_1b48_11eb_916a_00e0201808a0row5_col2\" class=\"data row5 col2\" >0.6375</td>\n",
       "                        <td id=\"T_b3342e1e_1b48_11eb_916a_00e0201808a0row5_col3\" class=\"data row5 col3\" >0.7665</td>\n",
       "                        <td id=\"T_b3342e1e_1b48_11eb_916a_00e0201808a0row5_col4\" class=\"data row5 col4\" >0.6961</td>\n",
       "                        <td id=\"T_b3342e1e_1b48_11eb_916a_00e0201808a0row5_col5\" class=\"data row5 col5\" >0.6104</td>\n",
       "                        <td id=\"T_b3342e1e_1b48_11eb_916a_00e0201808a0row5_col6\" class=\"data row5 col6\" >0.6147</td>\n",
       "            </tr>\n",
       "            <tr>\n",
       "                        <th id=\"T_b3342e1e_1b48_11eb_916a_00e0201808a0level0_row6\" class=\"row_heading level0 row6\" >6</th>\n",
       "                        <td id=\"T_b3342e1e_1b48_11eb_916a_00e0201808a0row6_col0\" class=\"data row6 col0\" >0.8738</td>\n",
       "                        <td id=\"T_b3342e1e_1b48_11eb_916a_00e0201808a0row6_col1\" class=\"data row6 col1\" >0.9349</td>\n",
       "                        <td id=\"T_b3342e1e_1b48_11eb_916a_00e0201808a0row6_col2\" class=\"data row6 col2\" >0.6634</td>\n",
       "                        <td id=\"T_b3342e1e_1b48_11eb_916a_00e0201808a0row6_col3\" class=\"data row6 col3\" >0.7824</td>\n",
       "                        <td id=\"T_b3342e1e_1b48_11eb_916a_00e0201808a0row6_col4\" class=\"data row6 col4\" >0.7180</td>\n",
       "                        <td id=\"T_b3342e1e_1b48_11eb_916a_00e0201808a0row6_col5\" class=\"data row6 col5\" >0.6375</td>\n",
       "                        <td id=\"T_b3342e1e_1b48_11eb_916a_00e0201808a0row6_col6\" class=\"data row6 col6\" >0.6411</td>\n",
       "            </tr>\n",
       "            <tr>\n",
       "                        <th id=\"T_b3342e1e_1b48_11eb_916a_00e0201808a0level0_row7\" class=\"row_heading level0 row7\" >7</th>\n",
       "                        <td id=\"T_b3342e1e_1b48_11eb_916a_00e0201808a0row7_col0\" class=\"data row7 col0\" >0.8629</td>\n",
       "                        <td id=\"T_b3342e1e_1b48_11eb_916a_00e0201808a0row7_col1\" class=\"data row7 col1\" >0.9210</td>\n",
       "                        <td id=\"T_b3342e1e_1b48_11eb_916a_00e0201808a0row7_col2\" class=\"data row7 col2\" >0.6472</td>\n",
       "                        <td id=\"T_b3342e1e_1b48_11eb_916a_00e0201808a0row7_col3\" class=\"data row7 col3\" >0.7519</td>\n",
       "                        <td id=\"T_b3342e1e_1b48_11eb_916a_00e0201808a0row7_col4\" class=\"data row7 col4\" >0.6957</td>\n",
       "                        <td id=\"T_b3342e1e_1b48_11eb_916a_00e0201808a0row7_col5\" class=\"data row7 col5\" >0.6078</td>\n",
       "                        <td id=\"T_b3342e1e_1b48_11eb_916a_00e0201808a0row7_col6\" class=\"data row7 col6\" >0.6106</td>\n",
       "            </tr>\n",
       "            <tr>\n",
       "                        <th id=\"T_b3342e1e_1b48_11eb_916a_00e0201808a0level0_row8\" class=\"row_heading level0 row8\" >8</th>\n",
       "                        <td id=\"T_b3342e1e_1b48_11eb_916a_00e0201808a0row8_col0\" class=\"data row8 col0\" >0.8691</td>\n",
       "                        <td id=\"T_b3342e1e_1b48_11eb_916a_00e0201808a0row8_col1\" class=\"data row8 col1\" >0.9271</td>\n",
       "                        <td id=\"T_b3342e1e_1b48_11eb_916a_00e0201808a0row8_col2\" class=\"data row8 col2\" >0.6440</td>\n",
       "                        <td id=\"T_b3342e1e_1b48_11eb_916a_00e0201808a0row8_col3\" class=\"data row8 col3\" >0.7773</td>\n",
       "                        <td id=\"T_b3342e1e_1b48_11eb_916a_00e0201808a0row8_col4\" class=\"data row8 col4\" >0.7044</td>\n",
       "                        <td id=\"T_b3342e1e_1b48_11eb_916a_00e0201808a0row8_col5\" class=\"data row8 col5\" >0.6213</td>\n",
       "                        <td id=\"T_b3342e1e_1b48_11eb_916a_00e0201808a0row8_col6\" class=\"data row8 col6\" >0.6259</td>\n",
       "            </tr>\n",
       "            <tr>\n",
       "                        <th id=\"T_b3342e1e_1b48_11eb_916a_00e0201808a0level0_row9\" class=\"row_heading level0 row9\" >9</th>\n",
       "                        <td id=\"T_b3342e1e_1b48_11eb_916a_00e0201808a0row9_col0\" class=\"data row9 col0\" >0.8801</td>\n",
       "                        <td id=\"T_b3342e1e_1b48_11eb_916a_00e0201808a0row9_col1\" class=\"data row9 col1\" >0.9255</td>\n",
       "                        <td id=\"T_b3342e1e_1b48_11eb_916a_00e0201808a0row9_col2\" class=\"data row9 col2\" >0.6764</td>\n",
       "                        <td id=\"T_b3342e1e_1b48_11eb_916a_00e0201808a0row9_col3\" class=\"data row9 col3\" >0.7977</td>\n",
       "                        <td id=\"T_b3342e1e_1b48_11eb_916a_00e0201808a0row9_col4\" class=\"data row9 col4\" >0.7320</td>\n",
       "                        <td id=\"T_b3342e1e_1b48_11eb_916a_00e0201808a0row9_col5\" class=\"data row9 col5\" >0.6555</td>\n",
       "                        <td id=\"T_b3342e1e_1b48_11eb_916a_00e0201808a0row9_col6\" class=\"data row9 col6\" >0.6592</td>\n",
       "            </tr>\n",
       "            <tr>\n",
       "                        <th id=\"T_b3342e1e_1b48_11eb_916a_00e0201808a0level0_row10\" class=\"row_heading level0 row10\" >Mean</th>\n",
       "                        <td id=\"T_b3342e1e_1b48_11eb_916a_00e0201808a0row10_col0\" class=\"data row10 col0\" >0.8641</td>\n",
       "                        <td id=\"T_b3342e1e_1b48_11eb_916a_00e0201808a0row10_col1\" class=\"data row10 col1\" >0.9224</td>\n",
       "                        <td id=\"T_b3342e1e_1b48_11eb_916a_00e0201808a0row10_col2\" class=\"data row10 col2\" >0.6488</td>\n",
       "                        <td id=\"T_b3342e1e_1b48_11eb_916a_00e0201808a0row10_col3\" class=\"data row10 col3\" >0.7559</td>\n",
       "                        <td id=\"T_b3342e1e_1b48_11eb_916a_00e0201808a0row10_col4\" class=\"data row10 col4\" >0.6980</td>\n",
       "                        <td id=\"T_b3342e1e_1b48_11eb_916a_00e0201808a0row10_col5\" class=\"data row10 col5\" >0.6110</td>\n",
       "                        <td id=\"T_b3342e1e_1b48_11eb_916a_00e0201808a0row10_col6\" class=\"data row10 col6\" >0.6142</td>\n",
       "            </tr>\n",
       "            <tr>\n",
       "                        <th id=\"T_b3342e1e_1b48_11eb_916a_00e0201808a0level0_row11\" class=\"row_heading level0 row11\" >SD</th>\n",
       "                        <td id=\"T_b3342e1e_1b48_11eb_916a_00e0201808a0row11_col0\" class=\"data row11 col0\" >0.0079</td>\n",
       "                        <td id=\"T_b3342e1e_1b48_11eb_916a_00e0201808a0row11_col1\" class=\"data row11 col1\" >0.0077</td>\n",
       "                        <td id=\"T_b3342e1e_1b48_11eb_916a_00e0201808a0row11_col2\" class=\"data row11 col2\" >0.0198</td>\n",
       "                        <td id=\"T_b3342e1e_1b48_11eb_916a_00e0201808a0row11_col3\" class=\"data row11 col3\" >0.0230</td>\n",
       "                        <td id=\"T_b3342e1e_1b48_11eb_916a_00e0201808a0row11_col4\" class=\"data row11 col4\" >0.0172</td>\n",
       "                        <td id=\"T_b3342e1e_1b48_11eb_916a_00e0201808a0row11_col5\" class=\"data row11 col5\" >0.0220</td>\n",
       "                        <td id=\"T_b3342e1e_1b48_11eb_916a_00e0201808a0row11_col6\" class=\"data row11 col6\" >0.0222</td>\n",
       "            </tr>\n",
       "    </tbody></table>"
      ],
      "text/plain": [
       "<pandas.io.formats.style.Styler at 0x260a4f9b388>"
      ]
     },
     "metadata": {},
     "output_type": "display_data"
    }
   ],
   "source": [
    "lightgbm = create_model('lightgbm')"
   ]
  },
  {
   "cell_type": "code",
   "execution_count": 22,
   "metadata": {},
   "outputs": [
    {
     "data": {
      "image/png": "[encoded data removed]",
      "text/plain": [
       "<Figure size 800x500 with 1 Axes>"
      ]
     },
     "metadata": {
      "needs_background": "light"
     },
     "output_type": "display_data"
    }
   ],
   "source": [
    "plot_model(estimator = lightgbm, plot = 'feature')"
   ]
  },
  {
   "cell_type": "code",
   "execution_count": null,
   "metadata": {},
   "outputs": [],
   "source": []
  }
 ],
 "metadata": {
  "kernelspec": {
   "display_name": "Python 3",
   "language": "python",
   "name": "python3"
  },
  "language_info": {
   "codemirror_mode": {
    "name": "ipython",
    "version": 3
   },
   "file_extension": ".py",
   "mimetype": "text/x-python",
   "name": "python",
   "nbconvert_exporter": "python",
   "pygments_lexer": "ipython3",
   "version": "3.7.6"
  }
 },
 "nbformat": 4,
 "nbformat_minor": 4
}
